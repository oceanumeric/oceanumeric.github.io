{
 "cells": [
  {
   "cell_type": "code",
   "execution_count": 48,
   "metadata": {
    "vscode": {
     "languageId": "r"
    }
   },
   "outputs": [],
   "source": [
    "# load packages \n",
    "library(pacman)\n",
    "p_load(\n",
    "    tidyverse, data.table, dtplyr, reshape2, \n",
    "    archive, kableExtra, SPARQL, janitor, \n",
    "    png, webp, Cairo, rsvg,\n",
    "    httr, jsonlite)\n",
    "# set option\n",
    "options(dplyr.summarise.inform = FALSE)\n",
    "gray_scale <- c('#F3F4F8','#D2D4DA',  '#bcc0ca', \n",
    "                '#D3D3D3', '#2B2B2B', \n",
    "                '#B3B5BD', '#838383', \n",
    "                '#9496A1', '#7d7f89', '#777986', \n",
    "                '#656673', '#5B5D6B', '#4d505e',\n",
    "                '#404352', '#2b2d3b', '#282A3A',\n",
    "                '#1b1c2a', '#191a2b',\n",
    "                '#141626', '#101223')"
   ]
  },
  {
   "cell_type": "code",
   "execution_count": 2,
   "metadata": {
    "vscode": {
     "languageId": "r"
    }
   },
   "outputs": [],
   "source": [
    "han_names <- fread('work/notebooks/patent/data/202208_HAN_NAMES.txt')"
   ]
  },
  {
   "cell_type": "code",
   "execution_count": 3,
   "metadata": {
    "vscode": {
     "languageId": "r"
    }
   },
   "outputs": [
    {
     "data": {
      "text/html": [
       "<style>\n",
       ".list-inline {list-style: none; margin:0; padding: 0}\n",
       ".list-inline>li {display: inline-block}\n",
       ".list-inline>li:not(:last-child)::after {content: \"\\00b7\"; padding: 0 .5ex}\n",
       "</style>\n",
       "<ol class=list-inline><li>4191007</li><li>3</li></ol>\n"
      ],
      "text/latex": [
       "\\begin{enumerate*}\n",
       "\\item 4191007\n",
       "\\item 3\n",
       "\\end{enumerate*}\n"
      ],
      "text/markdown": [
       "1. 4191007\n",
       "2. 3\n",
       "\n",
       "\n"
      ],
      "text/plain": [
       "[1] 4191007       3"
      ]
     },
     "metadata": {},
     "output_type": "display_data"
    }
   ],
   "source": [
    "dim(han_names)"
   ]
  },
  {
   "cell_type": "code",
   "execution_count": 7,
   "metadata": {
    "vscode": {
     "languageId": "r"
    }
   },
   "outputs": [
    {
     "data": {
      "text/html": [
       "<table class=\"dataframe\">\n",
       "<caption>A data.table: 6 × 3</caption>\n",
       "<thead>\n",
       "\t<tr><th scope=col>HAN_ID</th><th scope=col>Clean_name</th><th scope=col>Person_ctry_code</th></tr>\n",
       "\t<tr><th scope=col>&lt;int&gt;</th><th scope=col>&lt;chr&gt;</th><th scope=col>&lt;chr&gt;</th></tr>\n",
       "</thead>\n",
       "<tbody>\n",
       "\t<tr><td>1</td><td><span style=white-space:pre-wrap>&amp; HAMBOURG NIENDORF            </span></td><td>DE</td></tr>\n",
       "\t<tr><td>2</td><td><span style=white-space:pre-wrap>&amp; KK                           </span></td><td>JP</td></tr>\n",
       "\t<tr><td>3</td><td>“ASTRONIT” CLOSE CORP          </td><td>RU</td></tr>\n",
       "\t<tr><td>4</td><td>“DEUTSCHE SEE” GMBH            </td><td>DE</td></tr>\n",
       "\t<tr><td>5</td><td>“EFIRNOIE” OPEN JOINT STOCK CO </td><td>RU</td></tr>\n",
       "\t<tr><td>6</td><td>“EUROSTANDART” LTD LIABILITY CO</td><td>RU</td></tr>\n",
       "</tbody>\n",
       "</table>\n"
      ],
      "text/latex": [
       "A data.table: 6 × 3\n",
       "\\begin{tabular}{lll}\n",
       " HAN\\_ID & Clean\\_name & Person\\_ctry\\_code\\\\\n",
       " <int> & <chr> & <chr>\\\\\n",
       "\\hline\n",
       "\t 1 & \\& HAMBOURG NIENDORF             & DE\\\\\n",
       "\t 2 & \\& KK                            & JP\\\\\n",
       "\t 3 & “ASTRONIT” CLOSE CORP           & RU\\\\\n",
       "\t 4 & “DEUTSCHE SEE” GMBH             & DE\\\\\n",
       "\t 5 & “EFIRNOIE” OPEN JOINT STOCK CO  & RU\\\\\n",
       "\t 6 & “EUROSTANDART” LTD LIABILITY CO & RU\\\\\n",
       "\\end{tabular}\n"
      ],
      "text/markdown": [
       "\n",
       "A data.table: 6 × 3\n",
       "\n",
       "| HAN_ID &lt;int&gt; | Clean_name &lt;chr&gt; | Person_ctry_code &lt;chr&gt; |\n",
       "|---|---|---|\n",
       "| 1 | &amp; HAMBOURG NIENDORF             | DE |\n",
       "| 2 | &amp; KK                            | JP |\n",
       "| 3 | “ASTRONIT” CLOSE CORP           | RU |\n",
       "| 4 | “DEUTSCHE SEE” GMBH             | DE |\n",
       "| 5 | “EFIRNOIE” OPEN JOINT STOCK CO  | RU |\n",
       "| 6 | “EUROSTANDART” LTD LIABILITY CO | RU |\n",
       "\n"
      ],
      "text/plain": [
       "  HAN_ID Clean_name                      Person_ctry_code\n",
       "1 1      & HAMBOURG NIENDORF             DE              \n",
       "2 2      & KK                            JP              \n",
       "3 3      “ASTRONIT” CLOSE CORP           RU              \n",
       "4 4      “DEUTSCHE SEE” GMBH             DE              \n",
       "5 5      “EFIRNOIE” OPEN JOINT STOCK CO  RU              \n",
       "6 6      “EUROSTANDART” LTD LIABILITY CO RU              "
      ]
     },
     "metadata": {},
     "output_type": "display_data"
    }
   ],
   "source": [
    "head(han_names)"
   ]
  },
  {
   "cell_type": "code",
   "execution_count": 4,
   "metadata": {
    "vscode": {
     "languageId": "r"
    }
   },
   "outputs": [],
   "source": [
    "de_firms <- fread('work/notebooks/patent/data/orbis_de_matched_l.csv')"
   ]
  },
  {
   "cell_type": "code",
   "execution_count": 55,
   "metadata": {
    "vscode": {
     "languageId": "r"
    }
   },
   "outputs": [
    {
     "data": {
      "text/plain": [
       "\n",
       "\n",
       "| HAN_ID |           Clean_name           | Person_ctry_code |\n",
       "|:------:|:------------------------------:|:----------------:|\n",
       "|   1    |      & HAMBOURG NIENDORF       |        DE        |\n",
       "|   2    |              & KK              |        JP        |\n",
       "|   3    |     “ASTRONIT” CLOSE CORP      |        RU        |\n",
       "|   4    |      “DEUTSCHE SEE” GMBH       |        DE        |\n",
       "|   5    | “EFIRNOIE” OPEN JOINT STOCK CO |        RU        |"
      ]
     },
     "metadata": {},
     "output_type": "display_data"
    }
   ],
   "source": [
    "han_names %>%\n",
    "    .[1:5,] %>%\n",
    "    kable('pipe', align='ccc')"
   ]
  },
  {
   "cell_type": "code",
   "execution_count": 53,
   "metadata": {
    "vscode": {
     "languageId": "r"
    }
   },
   "outputs": [
    {
     "data": {
      "text/html": [
       "<table class=\"dataframe\">\n",
       "<caption>A data.table: 5 × 2</caption>\n",
       "<thead>\n",
       "\t<tr><th scope=col>name_native</th><th scope=col>name_internat</th></tr>\n",
       "\t<tr><th scope=col>&lt;chr&gt;</th><th scope=col>&lt;chr&gt;</th></tr>\n",
       "</thead>\n",
       "<tbody>\n",
       "\t<tr><td>Airbus Defence and Space GmbH        </td><td>Airbus Defence and Space GmbH        </td></tr>\n",
       "\t<tr><td>EurA AG                              </td><td>EurA AG                              </td></tr>\n",
       "\t<tr><td>TuTech Innovation GmbH               </td><td>TuTech Innovation GmbH               </td></tr>\n",
       "\t<tr><td>FFT Produktionssysteme GmbH &amp; Co. KG.</td><td>FFT Produktionssysteme GmbH &amp; Co. KG.</td></tr>\n",
       "\t<tr><td>Diehl Aviation Laupheim GmbH         </td><td>Diehl Aviation Laupheim GmbH         </td></tr>\n",
       "</tbody>\n",
       "</table>\n"
      ],
      "text/latex": [
       "A data.table: 5 × 2\n",
       "\\begin{tabular}{ll}\n",
       " name\\_native & name\\_internat\\\\\n",
       " <chr> & <chr>\\\\\n",
       "\\hline\n",
       "\t Airbus Defence and Space GmbH         & Airbus Defence and Space GmbH        \\\\\n",
       "\t EurA AG                               & EurA AG                              \\\\\n",
       "\t TuTech Innovation GmbH                & TuTech Innovation GmbH               \\\\\n",
       "\t FFT Produktionssysteme GmbH \\& Co. KG. & FFT Produktionssysteme GmbH \\& Co. KG.\\\\\n",
       "\t Diehl Aviation Laupheim GmbH          & Diehl Aviation Laupheim GmbH         \\\\\n",
       "\\end{tabular}\n"
      ],
      "text/markdown": [
       "\n",
       "A data.table: 5 × 2\n",
       "\n",
       "| name_native &lt;chr&gt; | name_internat &lt;chr&gt; |\n",
       "|---|---|\n",
       "| Airbus Defence and Space GmbH         | Airbus Defence and Space GmbH         |\n",
       "| EurA AG                               | EurA AG                               |\n",
       "| TuTech Innovation GmbH                | TuTech Innovation GmbH                |\n",
       "| FFT Produktionssysteme GmbH &amp; Co. KG. | FFT Produktionssysteme GmbH &amp; Co. KG. |\n",
       "| Diehl Aviation Laupheim GmbH          | Diehl Aviation Laupheim GmbH          |\n",
       "\n"
      ],
      "text/plain": [
       "  name_native                           name_internat                        \n",
       "1 Airbus Defence and Space GmbH         Airbus Defence and Space GmbH        \n",
       "2 EurA AG                               EurA AG                              \n",
       "3 TuTech Innovation GmbH                TuTech Innovation GmbH               \n",
       "4 FFT Produktionssysteme GmbH & Co. KG. FFT Produktionssysteme GmbH & Co. KG.\n",
       "5 Diehl Aviation Laupheim GmbH          Diehl Aviation Laupheim GmbH         "
      ]
     },
     "metadata": {},
     "output_type": "display_data"
    }
   ],
   "source": [
    "de_firms %>%\n",
    "    .[1:5, 2:3]"
   ]
  },
  {
   "cell_type": "code",
   "execution_count": 5,
   "metadata": {
    "vscode": {
     "languageId": "r"
    }
   },
   "outputs": [
    {
     "data": {
      "text/html": [
       "<style>\n",
       ".list-inline {list-style: none; margin:0; padding: 0}\n",
       ".list-inline>li {display: inline-block}\n",
       ".list-inline>li:not(:last-child)::after {content: \"\\00b7\"; padding: 0 .5ex}\n",
       "</style>\n",
       "<ol class=list-inline><li>60513</li><li>62422</li><li>3637004</li><li>4401227</li><li>4527012</li></ol>\n"
      ],
      "text/latex": [
       "\\begin{enumerate*}\n",
       "\\item 60513\n",
       "\\item 62422\n",
       "\\item 3637004\n",
       "\\item 4401227\n",
       "\\item 4527012\n",
       "\\end{enumerate*}\n"
      ],
      "text/markdown": [
       "1. 60513\n",
       "2. 62422\n",
       "3. 3637004\n",
       "4. 4401227\n",
       "5. 4527012\n",
       "\n",
       "\n"
      ],
      "text/plain": [
       "[1]   60513   62422 3637004 4401227 4527012"
      ]
     },
     "metadata": {},
     "output_type": "display_data"
    }
   ],
   "source": [
    "# query\n",
    "airbus <- toupper('Airbus Defence')\n",
    "han_names %>%\n",
    "    .[Person_ctry_code == 'DE'] %>%\n",
    "    .[Clean_name %like% airbus] %>%\n",
    "    .[,HAN_ID] -> airbus_han_ids\n",
    "airbus_han_ids"
   ]
  },
  {
   "cell_type": "code",
   "execution_count": 7,
   "metadata": {
    "vscode": {
     "languageId": "r"
    }
   },
   "outputs": [],
   "source": [
    "han_patents <- fread('work/notebooks/patent/data/202208_HAN_PATENTS.txt')"
   ]
  },
  {
   "cell_type": "code",
   "execution_count": 8,
   "metadata": {
    "vscode": {
     "languageId": "r"
    }
   },
   "outputs": [
    {
     "data": {
      "text/html": [
       "<table class=\"dataframe\">\n",
       "<caption>A data.table: 1 × 4</caption>\n",
       "<thead>\n",
       "\t<tr><th></th><th scope=col>EP</th><th scope=col>US</th><th scope=col>WO</th><th scope=col>Total</th></tr>\n",
       "\t<tr><th></th><th scope=col>&lt;chr&gt;</th><th scope=col>&lt;chr&gt;</th><th scope=col>&lt;chr&gt;</th><th scope=col>&lt;chr&gt;</th></tr>\n",
       "</thead>\n",
       "<tbody>\n",
       "\t<tr><th scope=row>2</th><td>716</td><td>415</td><td>88</td><td>1219</td></tr>\n",
       "</tbody>\n",
       "</table>\n"
      ],
      "text/latex": [
       "A data.table: 1 × 4\n",
       "\\begin{tabular}{r|llll}\n",
       "  & EP & US & WO & Total\\\\\n",
       "  & <chr> & <chr> & <chr> & <chr>\\\\\n",
       "\\hline\n",
       "\t2 & 716 & 415 & 88 & 1219\\\\\n",
       "\\end{tabular}\n"
      ],
      "text/markdown": [
       "\n",
       "A data.table: 1 × 4\n",
       "\n",
       "| <!--/--> | EP &lt;chr&gt; | US &lt;chr&gt; | WO &lt;chr&gt; | Total &lt;chr&gt; |\n",
       "|---|---|---|---|---|\n",
       "| 2 | 716 | 415 | 88 | 1219 |\n",
       "\n"
      ],
      "text/plain": [
       "  EP  US  WO Total\n",
       "1 716 415 88 1219 "
      ]
     },
     "metadata": {},
     "output_type": "display_data"
    }
   ],
   "source": [
    "han_patents %>%\n",
    "    .[HAN_ID %in% airbus_han_ids] %>%\n",
    "    .[, .N, by=Publn_auth] -> foo\n",
    "    transform(adorn_totals(foo)) %>%\n",
    "    transpose() %>%\n",
    "    row_to_names(row_number=1)"
   ]
  },
  {
   "cell_type": "code",
   "execution_count": 84,
   "metadata": {
    "vscode": {
     "languageId": "r"
    }
   },
   "outputs": [
    {
     "data": {
      "text/html": [
       "<table class=\"dataframe\">\n",
       "<caption>A data.table: 5 × 5</caption>\n",
       "<thead>\n",
       "\t<tr><th scope=col>HAN_ID</th><th scope=col>HARM_ID</th><th scope=col>Appln_id</th><th scope=col>Publn_auth</th><th scope=col>Patent_number</th></tr>\n",
       "\t<tr><th scope=col>&lt;int&gt;</th><th scope=col>&lt;int&gt;</th><th scope=col>&lt;int&gt;</th><th scope=col>&lt;chr&gt;</th><th scope=col>&lt;chr&gt;</th></tr>\n",
       "</thead>\n",
       "<tbody>\n",
       "\t<tr><td>60513</td><td>60513</td><td>442096647</td><td>EP</td><td>EP3112597   </td></tr>\n",
       "\t<tr><td>60513</td><td>60513</td><td>417401751</td><td>EP</td><td>EP2913271   </td></tr>\n",
       "\t<tr><td>60513</td><td>60513</td><td>404985890</td><td>EP</td><td>EP2825450   </td></tr>\n",
       "\t<tr><td>60513</td><td>60513</td><td>527283926</td><td>US</td><td>US2020070202</td></tr>\n",
       "\t<tr><td>60513</td><td>60513</td><td>544408405</td><td>WO</td><td>WO2021123759</td></tr>\n",
       "</tbody>\n",
       "</table>\n"
      ],
      "text/latex": [
       "A data.table: 5 × 5\n",
       "\\begin{tabular}{lllll}\n",
       " HAN\\_ID & HARM\\_ID & Appln\\_id & Publn\\_auth & Patent\\_number\\\\\n",
       " <int> & <int> & <int> & <chr> & <chr>\\\\\n",
       "\\hline\n",
       "\t 60513 & 60513 & 442096647 & EP & EP3112597   \\\\\n",
       "\t 60513 & 60513 & 417401751 & EP & EP2913271   \\\\\n",
       "\t 60513 & 60513 & 404985890 & EP & EP2825450   \\\\\n",
       "\t 60513 & 60513 & 527283926 & US & US2020070202\\\\\n",
       "\t 60513 & 60513 & 544408405 & WO & WO2021123759\\\\\n",
       "\\end{tabular}\n"
      ],
      "text/markdown": [
       "\n",
       "A data.table: 5 × 5\n",
       "\n",
       "| HAN_ID &lt;int&gt; | HARM_ID &lt;int&gt; | Appln_id &lt;int&gt; | Publn_auth &lt;chr&gt; | Patent_number &lt;chr&gt; |\n",
       "|---|---|---|---|---|\n",
       "| 60513 | 60513 | 442096647 | EP | EP3112597    |\n",
       "| 60513 | 60513 | 417401751 | EP | EP2913271    |\n",
       "| 60513 | 60513 | 404985890 | EP | EP2825450    |\n",
       "| 60513 | 60513 | 527283926 | US | US2020070202 |\n",
       "| 60513 | 60513 | 544408405 | WO | WO2021123759 |\n",
       "\n"
      ],
      "text/plain": [
       "  HAN_ID HARM_ID Appln_id  Publn_auth Patent_number\n",
       "1 60513  60513   442096647 EP         EP3112597    \n",
       "2 60513  60513   417401751 EP         EP2913271    \n",
       "3 60513  60513   404985890 EP         EP2825450    \n",
       "4 60513  60513   527283926 US         US2020070202 \n",
       "5 60513  60513   544408405 WO         WO2021123759 "
      ]
     },
     "metadata": {},
     "output_type": "display_data"
    }
   ],
   "source": [
    "han_patents %>%\n",
    "    .[HAN_ID %in% airbus_han_ids] %>%\n",
    "    .[sample(.N, 5)]"
   ]
  },
  {
   "cell_type": "code",
   "execution_count": 51,
   "metadata": {
    "vscode": {
     "languageId": "r"
    }
   },
   "outputs": [
    {
     "data": {
      "text/html": [
       "<table class=\"dataframe\">\n",
       "<caption>A data.table: 6 × 5</caption>\n",
       "<thead>\n",
       "\t<tr><th scope=col>HAN_ID</th><th scope=col>HARM_ID</th><th scope=col>Appln_id</th><th scope=col>Publn_auth</th><th scope=col>Patent_number</th></tr>\n",
       "\t<tr><th scope=col>&lt;int&gt;</th><th scope=col>&lt;int&gt;</th><th scope=col>&lt;int&gt;</th><th scope=col>&lt;chr&gt;</th><th scope=col>&lt;chr&gt;</th></tr>\n",
       "</thead>\n",
       "<tbody>\n",
       "\t<tr><td>60513</td><td>60513</td><td>   213</td><td>EP</td><td>EP2030891</td></tr>\n",
       "\t<tr><td>60513</td><td>60513</td><td> 65448</td><td>EP</td><td>EP2025928</td></tr>\n",
       "\t<tr><td>60513</td><td>60513</td><td>156990</td><td>EP</td><td>EP1920908</td></tr>\n",
       "\t<tr><td>60513</td><td>60513</td><td>161551</td><td>EP</td><td>EP1972896</td></tr>\n",
       "\t<tr><td>60513</td><td>60513</td><td>173385</td><td>EP</td><td>EP2134522</td></tr>\n",
       "\t<tr><td>60513</td><td>60513</td><td>173386</td><td>EP</td><td>EP2136979</td></tr>\n",
       "</tbody>\n",
       "</table>\n"
      ],
      "text/latex": [
       "A data.table: 6 × 5\n",
       "\\begin{tabular}{lllll}\n",
       " HAN\\_ID & HARM\\_ID & Appln\\_id & Publn\\_auth & Patent\\_number\\\\\n",
       " <int> & <int> & <int> & <chr> & <chr>\\\\\n",
       "\\hline\n",
       "\t 60513 & 60513 &    213 & EP & EP2030891\\\\\n",
       "\t 60513 & 60513 &  65448 & EP & EP2025928\\\\\n",
       "\t 60513 & 60513 & 156990 & EP & EP1920908\\\\\n",
       "\t 60513 & 60513 & 161551 & EP & EP1972896\\\\\n",
       "\t 60513 & 60513 & 173385 & EP & EP2134522\\\\\n",
       "\t 60513 & 60513 & 173386 & EP & EP2136979\\\\\n",
       "\\end{tabular}\n"
      ],
      "text/markdown": [
       "\n",
       "A data.table: 6 × 5\n",
       "\n",
       "| HAN_ID &lt;int&gt; | HARM_ID &lt;int&gt; | Appln_id &lt;int&gt; | Publn_auth &lt;chr&gt; | Patent_number &lt;chr&gt; |\n",
       "|---|---|---|---|---|\n",
       "| 60513 | 60513 |    213 | EP | EP2030891 |\n",
       "| 60513 | 60513 |  65448 | EP | EP2025928 |\n",
       "| 60513 | 60513 | 156990 | EP | EP1920908 |\n",
       "| 60513 | 60513 | 161551 | EP | EP1972896 |\n",
       "| 60513 | 60513 | 173385 | EP | EP2134522 |\n",
       "| 60513 | 60513 | 173386 | EP | EP2136979 |\n",
       "\n"
      ],
      "text/plain": [
       "  HAN_ID HARM_ID Appln_id Publn_auth Patent_number\n",
       "1 60513  60513      213   EP         EP2030891    \n",
       "2 60513  60513    65448   EP         EP2025928    \n",
       "3 60513  60513   156990   EP         EP1920908    \n",
       "4 60513  60513   161551   EP         EP1972896    \n",
       "5 60513  60513   173385   EP         EP2134522    \n",
       "6 60513  60513   173386   EP         EP2136979    "
      ]
     },
     "metadata": {},
     "output_type": "display_data"
    }
   ],
   "source": [
    "han_patents %>%\n",
    "    .[HAN_ID %in% airbus_han_ids] %>%\n",
    "    .[Publn_auth == 'EP'] -> airbus_ep_patents\n",
    "    head(airbus_ep_patents)"
   ]
  },
  {
   "cell_type": "code",
   "execution_count": 27,
   "metadata": {
    "vscode": {
     "languageId": "r"
    }
   },
   "outputs": [],
   "source": [
    "request <- GET('https://data.epo.org/linked-data/data/publication/EP/1972896.json')"
   ]
  },
  {
   "cell_type": "code",
   "execution_count": 28,
   "metadata": {
    "vscode": {
     "languageId": "r"
    }
   },
   "outputs": [],
   "source": [
    "response <- content(request, as = \"text\", encoding = \"UTF-8\")\n",
    "json <- fromJSON(response, flatten = TRUE)\n",
    "names(json$result)"
   ]
  },
  {
   "cell_type": "code",
   "execution_count": 12,
   "metadata": {
    "vscode": {
     "languageId": "r"
    }
   },
   "outputs": [
    {
     "data": {
      "text/html": [
       "<table class=\"dataframe\">\n",
       "<caption>A data.frame: 3 × 8</caption>\n",
       "<thead>\n",
       "\t<tr><th></th><th scope=col>_about</th><th scope=col>label</th><th scope=col>publicationAuthority</th><th scope=col>publicationDate</th><th scope=col>application._about</th><th scope=col>application.applicationNumber</th><th scope=col>publicationKind._about</th><th scope=col>publicationKind.label</th></tr>\n",
       "\t<tr><th></th><th scope=col>&lt;chr&gt;</th><th scope=col>&lt;chr&gt;</th><th scope=col>&lt;chr&gt;</th><th scope=col>&lt;chr&gt;</th><th scope=col>&lt;chr&gt;</th><th scope=col>&lt;chr&gt;</th><th scope=col>&lt;chr&gt;</th><th scope=col>&lt;chr&gt;</th></tr>\n",
       "</thead>\n",
       "<tbody>\n",
       "\t<tr><th scope=row>1</th><td>http://data.epo.org/linked-data/data/publication/EP/1972896/A2/-</td><td>EP 1972896 A2</td><td>http://data.epo.org/linked-data/id/st3/EP</td><td>Wed, 24 Sep 2008</td><td>http://data.epo.org/linked-data/id/application/EP/08004318</td><td>08004318</td><td>http://data.epo.org/linked-data/def/patent/publicationKind_A2</td><td>A2</td></tr>\n",
       "\t<tr><th scope=row>2</th><td>http://data.epo.org/linked-data/data/publication/EP/1972896/A3/-</td><td>EP 1972896 A3</td><td>http://data.epo.org/linked-data/id/st3/EP</td><td>Wed, 07 Nov 2012</td><td>http://data.epo.org/linked-data/id/application/EP/08004318</td><td>08004318</td><td>http://data.epo.org/linked-data/def/patent/publicationKind_A3</td><td>A3</td></tr>\n",
       "\t<tr><th scope=row>3</th><td>http://data.epo.org/linked-data/data/publication/EP/1972896/B1/-</td><td>EP 1972896 B1</td><td>http://data.epo.org/linked-data/id/st3/EP</td><td>Wed, 06 May 2015</td><td>http://data.epo.org/linked-data/id/application/EP/08004318</td><td>08004318</td><td>http://data.epo.org/linked-data/def/patent/publicationKind_B1</td><td>B1</td></tr>\n",
       "</tbody>\n",
       "</table>\n"
      ],
      "text/latex": [
       "A data.frame: 3 × 8\n",
       "\\begin{tabular}{r|llllllll}\n",
       "  & \\_about & label & publicationAuthority & publicationDate & application.\\_about & application.applicationNumber & publicationKind.\\_about & publicationKind.label\\\\\n",
       "  & <chr> & <chr> & <chr> & <chr> & <chr> & <chr> & <chr> & <chr>\\\\\n",
       "\\hline\n",
       "\t1 & http://data.epo.org/linked-data/data/publication/EP/1972896/A2/- & EP 1972896 A2 & http://data.epo.org/linked-data/id/st3/EP & Wed, 24 Sep 2008 & http://data.epo.org/linked-data/id/application/EP/08004318 & 08004318 & http://data.epo.org/linked-data/def/patent/publicationKind\\_A2 & A2\\\\\n",
       "\t2 & http://data.epo.org/linked-data/data/publication/EP/1972896/A3/- & EP 1972896 A3 & http://data.epo.org/linked-data/id/st3/EP & Wed, 07 Nov 2012 & http://data.epo.org/linked-data/id/application/EP/08004318 & 08004318 & http://data.epo.org/linked-data/def/patent/publicationKind\\_A3 & A3\\\\\n",
       "\t3 & http://data.epo.org/linked-data/data/publication/EP/1972896/B1/- & EP 1972896 B1 & http://data.epo.org/linked-data/id/st3/EP & Wed, 06 May 2015 & http://data.epo.org/linked-data/id/application/EP/08004318 & 08004318 & http://data.epo.org/linked-data/def/patent/publicationKind\\_B1 & B1\\\\\n",
       "\\end{tabular}\n"
      ],
      "text/markdown": [
       "\n",
       "A data.frame: 3 × 8\n",
       "\n",
       "| <!--/--> | _about &lt;chr&gt; | label &lt;chr&gt; | publicationAuthority &lt;chr&gt; | publicationDate &lt;chr&gt; | application._about &lt;chr&gt; | application.applicationNumber &lt;chr&gt; | publicationKind._about &lt;chr&gt; | publicationKind.label &lt;chr&gt; |\n",
       "|---|---|---|---|---|---|---|---|---|\n",
       "| 1 | http://data.epo.org/linked-data/data/publication/EP/1972896/A2/- | EP 1972896 A2 | http://data.epo.org/linked-data/id/st3/EP | Wed, 24 Sep 2008 | http://data.epo.org/linked-data/id/application/EP/08004318 | 08004318 | http://data.epo.org/linked-data/def/patent/publicationKind_A2 | A2 |\n",
       "| 2 | http://data.epo.org/linked-data/data/publication/EP/1972896/A3/- | EP 1972896 A3 | http://data.epo.org/linked-data/id/st3/EP | Wed, 07 Nov 2012 | http://data.epo.org/linked-data/id/application/EP/08004318 | 08004318 | http://data.epo.org/linked-data/def/patent/publicationKind_A3 | A3 |\n",
       "| 3 | http://data.epo.org/linked-data/data/publication/EP/1972896/B1/- | EP 1972896 B1 | http://data.epo.org/linked-data/id/st3/EP | Wed, 06 May 2015 | http://data.epo.org/linked-data/id/application/EP/08004318 | 08004318 | http://data.epo.org/linked-data/def/patent/publicationKind_B1 | B1 |\n",
       "\n"
      ],
      "text/plain": [
       "  _about                                                          \n",
       "1 http://data.epo.org/linked-data/data/publication/EP/1972896/A2/-\n",
       "2 http://data.epo.org/linked-data/data/publication/EP/1972896/A3/-\n",
       "3 http://data.epo.org/linked-data/data/publication/EP/1972896/B1/-\n",
       "  label         publicationAuthority                      publicationDate \n",
       "1 EP 1972896 A2 http://data.epo.org/linked-data/id/st3/EP Wed, 24 Sep 2008\n",
       "2 EP 1972896 A3 http://data.epo.org/linked-data/id/st3/EP Wed, 07 Nov 2012\n",
       "3 EP 1972896 B1 http://data.epo.org/linked-data/id/st3/EP Wed, 06 May 2015\n",
       "  application._about                                        \n",
       "1 http://data.epo.org/linked-data/id/application/EP/08004318\n",
       "2 http://data.epo.org/linked-data/id/application/EP/08004318\n",
       "3 http://data.epo.org/linked-data/id/application/EP/08004318\n",
       "  application.applicationNumber\n",
       "1 08004318                     \n",
       "2 08004318                     \n",
       "3 08004318                     \n",
       "  publicationKind._about                                       \n",
       "1 http://data.epo.org/linked-data/def/patent/publicationKind_A2\n",
       "2 http://data.epo.org/linked-data/def/patent/publicationKind_A3\n",
       "3 http://data.epo.org/linked-data/def/patent/publicationKind_B1\n",
       "  publicationKind.label\n",
       "1 A2                   \n",
       "2 A3                   \n",
       "3 B1                   "
      ]
     },
     "metadata": {},
     "output_type": "display_data"
    }
   ],
   "source": [
    "head(json$result$items)"
   ]
  },
  {
   "cell_type": "code",
   "execution_count": 15,
   "metadata": {
    "vscode": {
     "languageId": "r"
    }
   },
   "outputs": [
    {
     "data": {
      "text/plain": [
       "\n",
       "\n",
       "|Link                                                             | Publication_date | Application_number | Kind_code |\n",
       "|:----------------------------------------------------------------|:----------------:|:------------------:|:---------:|\n",
       "|http://data.epo.org/linked-data/data/publication/EP/1972896/A2/- | Wed, 24 Sep 2008 |      08004318      |    A2     |\n",
       "|http://data.epo.org/linked-data/data/publication/EP/1972896/A3/- | Wed, 07 Nov 2012 |      08004318      |    A3     |\n",
       "|http://data.epo.org/linked-data/data/publication/EP/1972896/B1/- | Wed, 06 May 2015 |      08004318      |    B1     |"
      ]
     },
     "metadata": {},
     "output_type": "display_data"
    }
   ],
   "source": [
    "json$result$items %>%\n",
    "    select(\n",
    "        `_about`, \n",
    "        publicationDate, \n",
    "        application.applicationNumber,\n",
    "        publicationKind.label) %>%\n",
    "    rename(Link=`_about`, Publication_date=publicationDate, \n",
    "        Application_number=application.applicationNumber, \n",
    "        Kind_code=publicationKind.label) %>%\n",
    "        kable('pipe', align='lccc')"
   ]
  },
  {
   "cell_type": "code",
   "execution_count": 81,
   "metadata": {
    "vscode": {
     "languageId": "r"
    }
   },
   "outputs": [],
   "source": [
    "get_publications <- function(url) {\n",
    "    # initialize df\n",
    "    df0 <- data.frame(\n",
    "            link=character(),\n",
    "            pub_date=character(),\n",
    "            appln_number=character(),\n",
    "            kind_code=character(),\n",
    "            stringsAsFactors = FALSE\n",
    "        )\n",
    "    # set up headers \n",
    "    request <- GET(\n",
    "        url,\n",
    "        add_headers(\n",
    "            Host = \"data.epo.org\",\n",
    "            `User-Agent` = \"Chrome/88.0.4324.188\"\n",
    "        )\n",
    "    )\n",
    "\n",
    "    print(status_code(request))\n",
    "    if (status_code(request) == 200) {\n",
    "        response <- content(request, as = \"text\", encoding = \"UTF-8\")\n",
    "        json <- fromJSON(response, flatten = TRUE)\n",
    "\n",
    "        if (length(json$result$items) == 0){\n",
    "            return(df0)\n",
    "        } else {\n",
    "            json$result$items %>%\n",
    "            select(\n",
    "                publicationDate, \n",
    "                application.applicationNumber,\n",
    "                publicationKind.label) %>%\n",
    "            rename(pub_date=publicationDate, \n",
    "                appln_number=application.applicationNumber, \n",
    "                kind_code=publicationKind.label) -> df\n",
    "\n",
    "                return(df)\n",
    "        }\n",
    "    } else {\n",
    "        return(df0)\n",
    "    }\n",
    "\n",
    "    return(df0)\n",
    "}"
   ]
  },
  {
   "cell_type": "code",
   "execution_count": 53,
   "metadata": {
    "vscode": {
     "languageId": "r"
    }
   },
   "outputs": [],
   "source": [
    "get_granted <- function(url, kind='B1') {\n",
    "    df <- get_publications(url)\n",
    "    df %>%\n",
    "        filter(kind_code == kind) -> foo\n",
    "    \n",
    "    return(foo)\n",
    "}"
   ]
  },
  {
   "cell_type": "code",
   "execution_count": 54,
   "metadata": {
    "vscode": {
     "languageId": "r"
    }
   },
   "outputs": [],
   "source": [
    "construct_url <- function(patent_number) {\n",
    "    pub_link = 'https://data.epo.org/linked-data/data/publication/EP/'\n",
    "    patent_number <- gsub('EP', '', patent_number)\n",
    "    pn <- str_trim(patent_number)\n",
    "    link <- paste(pub_link, pn, '.json', sep=\"\")\n",
    "\n",
    "    return(link)\n",
    "}"
   ]
  },
  {
   "cell_type": "code",
   "execution_count": 57,
   "metadata": {
    "vscode": {
     "languageId": "r"
    }
   },
   "outputs": [],
   "source": [
    "url = construct_url('EP2136979')"
   ]
  },
  {
   "cell_type": "code",
   "execution_count": 71,
   "metadata": {
    "vscode": {
     "languageId": "r"
    }
   },
   "outputs": [
    {
     "name": "stdout",
     "output_type": "stream",
     "text": [
      "[1] 200\n"
     ]
    },
    {
     "data": {
      "text/html": [
       "<table class=\"dataframe\">\n",
       "<caption>A data.frame: 1 × 3</caption>\n",
       "<thead>\n",
       "\t<tr><th scope=col>pub_date</th><th scope=col>appln_number</th><th scope=col>kind_code</th></tr>\n",
       "\t<tr><th scope=col>&lt;chr&gt;</th><th scope=col>&lt;chr&gt;</th><th scope=col>&lt;chr&gt;</th></tr>\n",
       "</thead>\n",
       "<tbody>\n",
       "\t<tr><td>Wed, 14 Oct 2015</td><td>05715021</td><td>B1</td></tr>\n",
       "</tbody>\n",
       "</table>\n"
      ],
      "text/latex": [
       "A data.frame: 1 × 3\n",
       "\\begin{tabular}{lll}\n",
       " pub\\_date & appln\\_number & kind\\_code\\\\\n",
       " <chr> & <chr> & <chr>\\\\\n",
       "\\hline\n",
       "\t Wed, 14 Oct 2015 & 05715021 & B1\\\\\n",
       "\\end{tabular}\n"
      ],
      "text/markdown": [
       "\n",
       "A data.frame: 1 × 3\n",
       "\n",
       "| pub_date &lt;chr&gt; | appln_number &lt;chr&gt; | kind_code &lt;chr&gt; |\n",
       "|---|---|---|\n",
       "| Wed, 14 Oct 2015 | 05715021 | B1 |\n",
       "\n"
      ],
      "text/plain": [
       "  pub_date         appln_number kind_code\n",
       "1 Wed, 14 Oct 2015 05715021     B1       "
      ]
     },
     "metadata": {},
     "output_type": "display_data"
    }
   ],
   "source": [
    "get_granted(url)"
   ]
  },
  {
   "cell_type": "code",
   "execution_count": 142,
   "metadata": {
    "vscode": {
     "languageId": "r"
    }
   },
   "outputs": [
    {
     "data": {
      "text/html": [
       "<table class=\"dataframe\">\n",
       "<caption>A data.table: 6 × 5</caption>\n",
       "<thead>\n",
       "\t<tr><th scope=col>HAN_ID</th><th scope=col>HARM_ID</th><th scope=col>Appln_id</th><th scope=col>Publn_auth</th><th scope=col>Patent_number</th></tr>\n",
       "\t<tr><th scope=col>&lt;int&gt;</th><th scope=col>&lt;int&gt;</th><th scope=col>&lt;int&gt;</th><th scope=col>&lt;chr&gt;</th><th scope=col>&lt;chr&gt;</th></tr>\n",
       "</thead>\n",
       "<tbody>\n",
       "\t<tr><td>60513</td><td>60513</td><td>   213</td><td>EP</td><td>EP2030891</td></tr>\n",
       "\t<tr><td>60513</td><td>60513</td><td> 65448</td><td>EP</td><td>EP2025928</td></tr>\n",
       "\t<tr><td>60513</td><td>60513</td><td>156990</td><td>EP</td><td>EP1920908</td></tr>\n",
       "\t<tr><td>60513</td><td>60513</td><td>161551</td><td>EP</td><td>EP1972896</td></tr>\n",
       "\t<tr><td>60513</td><td>60513</td><td>173385</td><td>EP</td><td>EP2134522</td></tr>\n",
       "\t<tr><td>60513</td><td>60513</td><td>173386</td><td>EP</td><td>EP2136979</td></tr>\n",
       "</tbody>\n",
       "</table>\n"
      ],
      "text/latex": [
       "A data.table: 6 × 5\n",
       "\\begin{tabular}{lllll}\n",
       " HAN\\_ID & HARM\\_ID & Appln\\_id & Publn\\_auth & Patent\\_number\\\\\n",
       " <int> & <int> & <int> & <chr> & <chr>\\\\\n",
       "\\hline\n",
       "\t 60513 & 60513 &    213 & EP & EP2030891\\\\\n",
       "\t 60513 & 60513 &  65448 & EP & EP2025928\\\\\n",
       "\t 60513 & 60513 & 156990 & EP & EP1920908\\\\\n",
       "\t 60513 & 60513 & 161551 & EP & EP1972896\\\\\n",
       "\t 60513 & 60513 & 173385 & EP & EP2134522\\\\\n",
       "\t 60513 & 60513 & 173386 & EP & EP2136979\\\\\n",
       "\\end{tabular}\n"
      ],
      "text/markdown": [
       "\n",
       "A data.table: 6 × 5\n",
       "\n",
       "| HAN_ID &lt;int&gt; | HARM_ID &lt;int&gt; | Appln_id &lt;int&gt; | Publn_auth &lt;chr&gt; | Patent_number &lt;chr&gt; |\n",
       "|---|---|---|---|---|\n",
       "| 60513 | 60513 |    213 | EP | EP2030891 |\n",
       "| 60513 | 60513 |  65448 | EP | EP2025928 |\n",
       "| 60513 | 60513 | 156990 | EP | EP1920908 |\n",
       "| 60513 | 60513 | 161551 | EP | EP1972896 |\n",
       "| 60513 | 60513 | 173385 | EP | EP2134522 |\n",
       "| 60513 | 60513 | 173386 | EP | EP2136979 |\n",
       "\n"
      ],
      "text/plain": [
       "  HAN_ID HARM_ID Appln_id Publn_auth Patent_number\n",
       "1 60513  60513      213   EP         EP2030891    \n",
       "2 60513  60513    65448   EP         EP2025928    \n",
       "3 60513  60513   156990   EP         EP1920908    \n",
       "4 60513  60513   161551   EP         EP1972896    \n",
       "5 60513  60513   173385   EP         EP2134522    \n",
       "6 60513  60513   173386   EP         EP2136979    "
      ]
     },
     "metadata": {},
     "output_type": "display_data"
    }
   ],
   "source": [
    "head(airbus_ep_patents)"
   ]
  },
  {
   "cell_type": "code",
   "execution_count": 157,
   "metadata": {
    "vscode": {
     "languageId": "r"
    }
   },
   "outputs": [
    {
     "data": {
      "text/html": [
       "716"
      ],
      "text/latex": [
       "716"
      ],
      "text/markdown": [
       "716"
      ],
      "text/plain": [
       "[1] 716"
      ]
     },
     "metadata": {},
     "output_type": "display_data"
    }
   ],
   "source": [
    "dim(airbus_ep_patents)[1]"
   ]
  },
  {
   "cell_type": "code",
   "execution_count": 61,
   "metadata": {
    "vscode": {
     "languageId": "r"
    }
   },
   "outputs": [
    {
     "data": {
      "text/html": [
       "<table class=\"dataframe\">\n",
       "<caption>A data.table: 6 × 5</caption>\n",
       "<thead>\n",
       "\t<tr><th scope=col>HAN_ID</th><th scope=col>HARM_ID</th><th scope=col>Appln_id</th><th scope=col>Publn_auth</th><th scope=col>Patent_number</th></tr>\n",
       "\t<tr><th scope=col>&lt;int&gt;</th><th scope=col>&lt;int&gt;</th><th scope=col>&lt;int&gt;</th><th scope=col>&lt;chr&gt;</th><th scope=col>&lt;chr&gt;</th></tr>\n",
       "</thead>\n",
       "<tbody>\n",
       "\t<tr><td>60513</td><td>60513</td><td>   213</td><td>EP</td><td>EP2030891</td></tr>\n",
       "\t<tr><td>60513</td><td>60513</td><td> 65448</td><td>EP</td><td>EP2025928</td></tr>\n",
       "\t<tr><td>60513</td><td>60513</td><td>156990</td><td>EP</td><td>EP1920908</td></tr>\n",
       "\t<tr><td>60513</td><td>60513</td><td>161551</td><td>EP</td><td>EP1972896</td></tr>\n",
       "\t<tr><td>60513</td><td>60513</td><td>173385</td><td>EP</td><td>EP2134522</td></tr>\n",
       "\t<tr><td>60513</td><td>60513</td><td>173386</td><td>EP</td><td>EP2136979</td></tr>\n",
       "</tbody>\n",
       "</table>\n"
      ],
      "text/latex": [
       "A data.table: 6 × 5\n",
       "\\begin{tabular}{lllll}\n",
       " HAN\\_ID & HARM\\_ID & Appln\\_id & Publn\\_auth & Patent\\_number\\\\\n",
       " <int> & <int> & <int> & <chr> & <chr>\\\\\n",
       "\\hline\n",
       "\t 60513 & 60513 &    213 & EP & EP2030891\\\\\n",
       "\t 60513 & 60513 &  65448 & EP & EP2025928\\\\\n",
       "\t 60513 & 60513 & 156990 & EP & EP1920908\\\\\n",
       "\t 60513 & 60513 & 161551 & EP & EP1972896\\\\\n",
       "\t 60513 & 60513 & 173385 & EP & EP2134522\\\\\n",
       "\t 60513 & 60513 & 173386 & EP & EP2136979\\\\\n",
       "\\end{tabular}\n"
      ],
      "text/markdown": [
       "\n",
       "A data.table: 6 × 5\n",
       "\n",
       "| HAN_ID &lt;int&gt; | HARM_ID &lt;int&gt; | Appln_id &lt;int&gt; | Publn_auth &lt;chr&gt; | Patent_number &lt;chr&gt; |\n",
       "|---|---|---|---|---|\n",
       "| 60513 | 60513 |    213 | EP | EP2030891 |\n",
       "| 60513 | 60513 |  65448 | EP | EP2025928 |\n",
       "| 60513 | 60513 | 156990 | EP | EP1920908 |\n",
       "| 60513 | 60513 | 161551 | EP | EP1972896 |\n",
       "| 60513 | 60513 | 173385 | EP | EP2134522 |\n",
       "| 60513 | 60513 | 173386 | EP | EP2136979 |\n",
       "\n"
      ],
      "text/plain": [
       "  HAN_ID HARM_ID Appln_id Publn_auth Patent_number\n",
       "1 60513  60513      213   EP         EP2030891    \n",
       "2 60513  60513    65448   EP         EP2025928    \n",
       "3 60513  60513   156990   EP         EP1920908    \n",
       "4 60513  60513   161551   EP         EP1972896    \n",
       "5 60513  60513   173385   EP         EP2134522    \n",
       "6 60513  60513   173386   EP         EP2136979    "
      ]
     },
     "metadata": {},
     "output_type": "display_data"
    }
   ],
   "source": [
    "head(airbus_ep_patents)"
   ]
  },
  {
   "cell_type": "code",
   "execution_count": 72,
   "metadata": {
    "vscode": {
     "languageId": "r"
    }
   },
   "outputs": [
    {
     "data": {
      "text/html": [
       "<table class=\"dataframe\">\n",
       "<caption>A data.table: 6 × 9</caption>\n",
       "<thead>\n",
       "\t<tr><th scope=col>HAN_ID</th><th scope=col>HARM_ID</th><th scope=col>Appln_id</th><th scope=col>Publn_auth</th><th scope=col>Patent_number</th><th scope=col>granted</th><th scope=col>pub_date</th><th scope=col>appln_number</th><th scope=col>kind_code</th></tr>\n",
       "\t<tr><th scope=col>&lt;int&gt;</th><th scope=col>&lt;int&gt;</th><th scope=col>&lt;int&gt;</th><th scope=col>&lt;chr&gt;</th><th scope=col>&lt;chr&gt;</th><th scope=col>&lt;int&gt;</th><th scope=col>&lt;chr&gt;</th><th scope=col>&lt;chr&gt;</th><th scope=col>&lt;chr&gt;</th></tr>\n",
       "</thead>\n",
       "<tbody>\n",
       "\t<tr><td>60513</td><td>60513</td><td>543179431</td><td>EP</td><td>EP3840175</td><td>NA</td><td>NA</td><td>NA</td><td>NA</td></tr>\n",
       "\t<tr><td>60513</td><td>60513</td><td>544285732</td><td>EP</td><td>EP3851783</td><td>NA</td><td>NA</td><td>NA</td><td>NA</td></tr>\n",
       "\t<tr><td>60513</td><td>60513</td><td>544873605</td><td>EP</td><td>EP3860302</td><td>NA</td><td>NA</td><td>NA</td><td>NA</td></tr>\n",
       "\t<tr><td>60513</td><td>60513</td><td>545964455</td><td>EP</td><td>EP3871980</td><td>NA</td><td>NA</td><td>NA</td><td>NA</td></tr>\n",
       "\t<tr><td>60513</td><td>60513</td><td>547077828</td><td>EP</td><td>EP3882371</td><td>NA</td><td>NA</td><td>NA</td><td>NA</td></tr>\n",
       "\t<tr><td>60513</td><td>60513</td><td>549789029</td><td>EP</td><td>EP3907656</td><td>NA</td><td>NA</td><td>NA</td><td>NA</td></tr>\n",
       "</tbody>\n",
       "</table>\n"
      ],
      "text/latex": [
       "A data.table: 6 × 9\n",
       "\\begin{tabular}{lllllllll}\n",
       " HAN\\_ID & HARM\\_ID & Appln\\_id & Publn\\_auth & Patent\\_number & granted & pub\\_date & appln\\_number & kind\\_code\\\\\n",
       " <int> & <int> & <int> & <chr> & <chr> & <int> & <chr> & <chr> & <chr>\\\\\n",
       "\\hline\n",
       "\t 60513 & 60513 & 543179431 & EP & EP3840175 & NA & NA & NA & NA\\\\\n",
       "\t 60513 & 60513 & 544285732 & EP & EP3851783 & NA & NA & NA & NA\\\\\n",
       "\t 60513 & 60513 & 544873605 & EP & EP3860302 & NA & NA & NA & NA\\\\\n",
       "\t 60513 & 60513 & 545964455 & EP & EP3871980 & NA & NA & NA & NA\\\\\n",
       "\t 60513 & 60513 & 547077828 & EP & EP3882371 & NA & NA & NA & NA\\\\\n",
       "\t 60513 & 60513 & 549789029 & EP & EP3907656 & NA & NA & NA & NA\\\\\n",
       "\\end{tabular}\n"
      ],
      "text/markdown": [
       "\n",
       "A data.table: 6 × 9\n",
       "\n",
       "| HAN_ID &lt;int&gt; | HARM_ID &lt;int&gt; | Appln_id &lt;int&gt; | Publn_auth &lt;chr&gt; | Patent_number &lt;chr&gt; | granted &lt;int&gt; | pub_date &lt;chr&gt; | appln_number &lt;chr&gt; | kind_code &lt;chr&gt; |\n",
       "|---|---|---|---|---|---|---|---|---|\n",
       "| 60513 | 60513 | 543179431 | EP | EP3840175 | NA | NA | NA | NA |\n",
       "| 60513 | 60513 | 544285732 | EP | EP3851783 | NA | NA | NA | NA |\n",
       "| 60513 | 60513 | 544873605 | EP | EP3860302 | NA | NA | NA | NA |\n",
       "| 60513 | 60513 | 545964455 | EP | EP3871980 | NA | NA | NA | NA |\n",
       "| 60513 | 60513 | 547077828 | EP | EP3882371 | NA | NA | NA | NA |\n",
       "| 60513 | 60513 | 549789029 | EP | EP3907656 | NA | NA | NA | NA |\n",
       "\n"
      ],
      "text/plain": [
       "  HAN_ID HARM_ID Appln_id  Publn_auth Patent_number granted pub_date\n",
       "1 60513  60513   543179431 EP         EP3840175     NA      NA      \n",
       "2 60513  60513   544285732 EP         EP3851783     NA      NA      \n",
       "3 60513  60513   544873605 EP         EP3860302     NA      NA      \n",
       "4 60513  60513   545964455 EP         EP3871980     NA      NA      \n",
       "5 60513  60513   547077828 EP         EP3882371     NA      NA      \n",
       "6 60513  60513   549789029 EP         EP3907656     NA      NA      \n",
       "  appln_number kind_code\n",
       "1 NA           NA       \n",
       "2 NA           NA       \n",
       "3 NA           NA       \n",
       "4 NA           NA       \n",
       "5 NA           NA       \n",
       "6 NA           NA       "
      ]
     },
     "metadata": {},
     "output_type": "display_data"
    }
   ],
   "source": [
    "foo <- data.frame(\n",
    "    granted = integer(),\n",
    "    pub_date = character(),\n",
    "    appln_number = character(),\n",
    "    kind_code = character()\n",
    ")\n",
    "airbus_granted <- cbind(airbus_ep_patents, foo)\n",
    "tail(airbus_granted)"
   ]
  },
  {
   "cell_type": "code",
   "execution_count": 82,
   "metadata": {
    "vscode": {
     "languageId": "r"
    }
   },
   "outputs": [
    {
     "name": "stdout",
     "output_type": "stream",
     "text": [
      "[1] \"request-----------: 1\"\n",
      "[1] 200\n",
      "[1] \"request-----------: 2\"\n",
      "[1] 200\n",
      "[1] \"request-----------: 3\"\n",
      "[1] 200\n",
      "[1] \"request-----------: 4\"\n",
      "[1] 200\n",
      "[1] \"request-----------: 5\"\n",
      "[1] 200\n",
      "[1] \"request-----------: 6\"\n",
      "[1] 200\n",
      "[1] \"request-----------: 7\"\n",
      "[1] 200\n",
      "[1] \"request-----------: 8\"\n",
      "[1] 200\n",
      "[1] \"request-----------: 9\"\n",
      "[1] 200\n",
      "[1] \"request-----------: 10\"\n",
      "[1] 200\n",
      "[1] \"request-----------: 11\"\n",
      "[1] 200\n",
      "[1] \"request-----------: 12\"\n",
      "[1] 200\n",
      "[1] \"request-----------: 13\"\n",
      "[1] 200\n",
      "[1] \"request-----------: 14\"\n",
      "[1] 200\n",
      "[1] \"request-----------: 15\"\n",
      "[1] 200\n",
      "[1] \"request-----------: 16\"\n",
      "[1] 200\n",
      "[1] \"request-----------: 17\"\n",
      "[1] 200\n",
      "[1] \"request-----------: 18\"\n",
      "[1] 200\n",
      "[1] \"request-----------: 19\"\n",
      "[1] 200\n",
      "[1] \"request-----------: 20\"\n",
      "[1] 200\n",
      "[1] \"request-----------: 21\"\n",
      "[1] 200\n",
      "[1] \"request-----------: 22\"\n",
      "[1] 200\n",
      "[1] \"request-----------: 23\"\n",
      "[1] 200\n",
      "[1] \"request-----------: 24\"\n",
      "[1] 200\n",
      "[1] \"request-----------: 25\"\n",
      "[1] 200\n",
      "[1] \"request-----------: 26\"\n",
      "[1] 200\n",
      "[1] \"request-----------: 27\"\n",
      "[1] 200\n",
      "[1] \"request-----------: 28\"\n",
      "[1] 200\n",
      "[1] \"request-----------: 29\"\n",
      "[1] 200\n",
      "[1] \"request-----------: 30\"\n",
      "[1] 200\n",
      "[1] \"request-----------: 31\"\n",
      "[1] 200\n",
      "[1] \"request-----------: 32\"\n",
      "[1] 200\n",
      "[1] \"request-----------: 33\"\n",
      "[1] 200\n",
      "[1] \"request-----------: 34\"\n",
      "[1] 200\n",
      "[1] \"request-----------: 35\"\n",
      "[1] 200\n",
      "[1] \"request-----------: 36\"\n",
      "[1] 200\n",
      "[1] \"request-----------: 37\"\n",
      "[1] 200\n",
      "[1] \"request-----------: 38\"\n",
      "[1] 200\n",
      "[1] \"request-----------: 39\"\n",
      "[1] 200\n",
      "[1] \"request-----------: 40\"\n",
      "[1] 200\n",
      "[1] \"request-----------: 41\"\n",
      "[1] 200\n",
      "[1] \"request-----------: 42\"\n",
      "[1] 200\n",
      "[1] \"request-----------: 43\"\n",
      "[1] 200\n",
      "[1] \"request-----------: 44\"\n",
      "[1] 200\n",
      "[1] \"request-----------: 45\"\n",
      "[1] 200\n",
      "[1] \"request-----------: 46\"\n",
      "[1] 200\n",
      "[1] \"request-----------: 47\"\n",
      "[1] 200\n",
      "[1] \"request-----------: 48\"\n",
      "[1] 200\n",
      "[1] \"request-----------: 49\"\n",
      "[1] 200\n",
      "[1] \"request-----------: 50\"\n",
      "[1] 200\n",
      "[1] \"request-----------: 51\"\n",
      "[1] 200\n",
      "[1] \"request-----------: 52\"\n",
      "[1] 200\n",
      "[1] \"request-----------: 53\"\n",
      "[1] 200\n",
      "[1] \"request-----------: 54\"\n",
      "[1] 200\n",
      "[1] \"request-----------: 55\"\n",
      "[1] 200\n",
      "[1] \"request-----------: 56\"\n",
      "[1] 200\n",
      "[1] \"request-----------: 57\"\n",
      "[1] 200\n",
      "[1] \"request-----------: 58\"\n",
      "[1] 200\n",
      "[1] \"request-----------: 59\"\n",
      "[1] 200\n",
      "[1] \"request-----------: 60\"\n",
      "[1] 200\n",
      "[1] \"request-----------: 61\"\n",
      "[1] 200\n",
      "[1] \"request-----------: 62\"\n",
      "[1] 200\n",
      "[1] \"request-----------: 63\"\n",
      "[1] 200\n",
      "[1] \"request-----------: 64\"\n",
      "[1] 200\n",
      "[1] \"request-----------: 65\"\n",
      "[1] 200\n",
      "[1] \"request-----------: 66\"\n",
      "[1] 200\n",
      "[1] \"request-----------: 67\"\n",
      "[1] 200\n",
      "[1] \"request-----------: 68\"\n",
      "[1] 200\n",
      "[1] \"request-----------: 69\"\n",
      "[1] 200\n",
      "[1] \"request-----------: 70\"\n",
      "[1] 200\n",
      "[1] \"request-----------: 71\"\n",
      "[1] 200\n",
      "[1] \"request-----------: 72\"\n",
      "[1] 200\n",
      "[1] \"request-----------: 73\"\n",
      "[1] 200\n",
      "[1] \"request-----------: 74\"\n",
      "[1] 200\n",
      "[1] \"request-----------: 75\"\n",
      "[1] 200\n",
      "[1] \"request-----------: 76\"\n",
      "[1] 200\n",
      "[1] \"request-----------: 77\"\n",
      "[1] 200\n",
      "[1] \"request-----------: 78\"\n",
      "[1] 200\n",
      "[1] \"request-----------: 79\"\n",
      "[1] 200\n",
      "[1] \"request-----------: 80\"\n",
      "[1] 200\n",
      "[1] \"request-----------: 81\"\n",
      "[1] 200\n",
      "[1] \"request-----------: 82\"\n",
      "[1] 200\n",
      "[1] \"request-----------: 83\"\n",
      "[1] 200\n",
      "[1] \"request-----------: 84\"\n",
      "[1] 200\n",
      "[1] \"request-----------: 85\"\n",
      "[1] 200\n",
      "[1] \"request-----------: 86\"\n",
      "[1] 200\n",
      "[1] \"request-----------: 87\"\n",
      "[1] 200\n",
      "[1] \"request-----------: 88\"\n",
      "[1] 200\n",
      "[1] \"request-----------: 89\"\n",
      "[1] 200\n",
      "[1] \"request-----------: 90\"\n",
      "[1] 200\n",
      "[1] \"request-----------: 91\"\n",
      "[1] 200\n",
      "[1] \"request-----------: 92\"\n",
      "[1] 200\n",
      "[1] \"request-----------: 93\"\n",
      "[1] 200\n",
      "[1] \"request-----------: 94\"\n",
      "[1] 200\n",
      "[1] \"request-----------: 95\"\n",
      "[1] 200\n",
      "[1] \"request-----------: 96\"\n",
      "[1] 200\n",
      "[1] \"request-----------: 97\"\n",
      "[1] 200\n",
      "[1] \"request-----------: 98\"\n",
      "[1] 200\n",
      "[1] \"request-----------: 99\"\n",
      "[1] 200\n",
      "[1] \"request-----------: 100\"\n",
      "[1] 200\n",
      "[1] \"request-----------: 101\"\n",
      "[1] 200\n",
      "[1] \"request-----------: 102\"\n",
      "[1] 200\n",
      "[1] \"request-----------: 103\"\n",
      "[1] 200\n",
      "[1] \"request-----------: 104\"\n",
      "[1] 200\n",
      "[1] \"request-----------: 105\"\n",
      "[1] 200\n",
      "[1] \"request-----------: 106\"\n",
      "[1] 200\n",
      "[1] \"request-----------: 107\"\n",
      "[1] 200\n",
      "[1] \"request-----------: 108\"\n",
      "[1] 200\n",
      "[1] \"request-----------: 109\"\n",
      "[1] 200\n",
      "[1] \"request-----------: 110\"\n",
      "[1] 200\n",
      "[1] \"request-----------: 111\"\n",
      "[1] 200\n",
      "[1] \"request-----------: 112\"\n",
      "[1] 200\n",
      "[1] \"request-----------: 113\"\n",
      "[1] 200\n",
      "[1] \"request-----------: 114\"\n",
      "[1] 200\n",
      "[1] \"request-----------: 115\"\n",
      "[1] 200\n",
      "[1] \"request-----------: 116\"\n",
      "[1] 200\n",
      "[1] \"request-----------: 117\"\n",
      "[1] 200\n",
      "[1] \"request-----------: 118\"\n",
      "[1] 200\n",
      "[1] \"request-----------: 119\"\n",
      "[1] 200\n",
      "[1] \"request-----------: 120\"\n",
      "[1] 200\n",
      "[1] \"request-----------: 121\"\n",
      "[1] 200\n",
      "[1] \"request-----------: 122\"\n",
      "[1] 200\n",
      "[1] \"request-----------: 123\"\n",
      "[1] 200\n",
      "[1] \"request-----------: 124\"\n",
      "[1] 200\n",
      "[1] \"request-----------: 125\"\n",
      "[1] 200\n",
      "[1] \"request-----------: 126\"\n",
      "[1] 200\n",
      "[1] \"request-----------: 127\"\n",
      "[1] 200\n",
      "[1] \"request-----------: 128\"\n",
      "[1] 200\n",
      "[1] \"request-----------: 129\"\n",
      "[1] 200\n",
      "[1] \"request-----------: 130\"\n",
      "[1] 200\n",
      "[1] \"request-----------: 131\"\n",
      "[1] 200\n",
      "[1] \"request-----------: 132\"\n",
      "[1] 200\n",
      "[1] \"request-----------: 133\"\n",
      "[1] 200\n",
      "[1] \"request-----------: 134\"\n",
      "[1] 200\n",
      "[1] \"request-----------: 135\"\n",
      "[1] 200\n",
      "[1] \"request-----------: 136\"\n",
      "[1] 200\n",
      "[1] \"request-----------: 137\"\n",
      "[1] 200\n",
      "[1] \"request-----------: 138\"\n",
      "[1] 200\n",
      "[1] \"request-----------: 139\"\n",
      "[1] 200\n",
      "[1] \"request-----------: 140\"\n",
      "[1] 200\n",
      "[1] \"request-----------: 141\"\n",
      "[1] 200\n",
      "[1] \"request-----------: 142\"\n",
      "[1] 200\n",
      "[1] \"request-----------: 143\"\n",
      "[1] 200\n",
      "[1] \"request-----------: 144\"\n",
      "[1] 200\n",
      "[1] \"request-----------: 145\"\n",
      "[1] 200\n",
      "[1] \"request-----------: 146\"\n",
      "[1] 200\n",
      "[1] \"request-----------: 147\"\n",
      "[1] 200\n",
      "[1] \"request-----------: 148\"\n",
      "[1] 200\n",
      "[1] \"request-----------: 149\"\n",
      "[1] 200\n",
      "[1] \"request-----------: 150\"\n",
      "[1] 200\n",
      "[1] \"request-----------: 151\"\n",
      "[1] 200\n",
      "[1] \"request-----------: 152\"\n",
      "[1] 200\n",
      "[1] \"request-----------: 153\"\n",
      "[1] 200\n",
      "[1] \"request-----------: 154\"\n",
      "[1] 200\n",
      "[1] \"request-----------: 155\"\n",
      "[1] 200\n",
      "[1] \"request-----------: 156\"\n",
      "[1] 200\n",
      "[1] \"request-----------: 157\"\n",
      "[1] 200\n",
      "[1] \"request-----------: 158\"\n",
      "[1] 200\n",
      "[1] \"request-----------: 159\"\n",
      "[1] 200\n",
      "[1] \"request-----------: 160\"\n",
      "[1] 200\n",
      "[1] \"request-----------: 161\"\n",
      "[1] 200\n",
      "[1] \"request-----------: 162\"\n",
      "[1] 200\n",
      "[1] \"request-----------: 163\"\n",
      "[1] 200\n",
      "[1] \"request-----------: 164\"\n",
      "[1] 200\n",
      "[1] \"request-----------: 165\"\n",
      "[1] 200\n",
      "[1] \"request-----------: 166\"\n",
      "[1] 200\n",
      "[1] \"request-----------: 167\"\n",
      "[1] 200\n",
      "[1] \"request-----------: 168\"\n",
      "[1] 200\n",
      "[1] \"request-----------: 169\"\n",
      "[1] 200\n",
      "[1] \"request-----------: 170\"\n",
      "[1] 200\n",
      "[1] \"request-----------: 171\"\n",
      "[1] 200\n",
      "[1] \"request-----------: 172\"\n",
      "[1] 200\n",
      "[1] \"request-----------: 173\"\n",
      "[1] 200\n",
      "[1] \"request-----------: 174\"\n",
      "[1] 200\n",
      "[1] \"request-----------: 175\"\n",
      "[1] 200\n",
      "[1] \"request-----------: 176\"\n",
      "[1] 200\n",
      "[1] \"request-----------: 177\"\n",
      "[1] 200\n",
      "[1] \"request-----------: 178\"\n",
      "[1] 200\n",
      "[1] \"request-----------: 179\"\n",
      "[1] 200\n",
      "[1] \"request-----------: 180\"\n",
      "[1] 200\n",
      "[1] \"request-----------: 181\"\n",
      "[1] 200\n",
      "[1] \"request-----------: 182\"\n",
      "[1] 200\n",
      "[1] \"request-----------: 183\"\n",
      "[1] 200\n",
      "[1] \"request-----------: 184\"\n",
      "[1] 200\n",
      "[1] \"request-----------: 185\"\n",
      "[1] 200\n",
      "[1] \"request-----------: 186\"\n",
      "[1] 200\n",
      "[1] \"request-----------: 187\"\n",
      "[1] 200\n",
      "[1] \"request-----------: 188\"\n",
      "[1] 200\n",
      "[1] \"request-----------: 189\"\n",
      "[1] 200\n",
      "[1] \"request-----------: 190\"\n",
      "[1] 200\n",
      "[1] \"request-----------: 191\"\n",
      "[1] 200\n",
      "[1] \"request-----------: 192\"\n",
      "[1] 200\n",
      "[1] \"request-----------: 193\"\n",
      "[1] 200\n",
      "[1] \"request-----------: 194\"\n",
      "[1] 200\n",
      "[1] \"request-----------: 195\"\n",
      "[1] 200\n",
      "[1] \"request-----------: 196\"\n",
      "[1] 200\n",
      "[1] \"request-----------: 197\"\n",
      "[1] 200\n",
      "[1] \"request-----------: 198\"\n",
      "[1] 200\n",
      "[1] \"request-----------: 199\"\n",
      "[1] 200\n",
      "[1] \"request-----------: 200\"\n",
      "[1] 200\n",
      "[1] \"request-----------: 201\"\n",
      "[1] 200\n",
      "[1] \"request-----------: 202\"\n",
      "[1] 200\n",
      "[1] \"request-----------: 203\"\n",
      "[1] 200\n",
      "[1] \"request-----------: 204\"\n",
      "[1] 200\n",
      "[1] \"request-----------: 205\"\n",
      "[1] 200\n",
      "[1] \"request-----------: 206\"\n",
      "[1] 200\n",
      "[1] \"request-----------: 207\"\n",
      "[1] 200\n",
      "[1] \"request-----------: 208\"\n",
      "[1] 200\n",
      "[1] \"request-----------: 209\"\n",
      "[1] 200\n",
      "[1] \"request-----------: 210\"\n",
      "[1] 200\n",
      "[1] \"request-----------: 211\"\n",
      "[1] 200\n",
      "[1] \"request-----------: 212\"\n",
      "[1] 200\n",
      "[1] \"request-----------: 213\"\n",
      "[1] 200\n",
      "[1] \"request-----------: 214\"\n",
      "[1] 200\n",
      "[1] \"request-----------: 215\"\n",
      "[1] 200\n",
      "[1] \"request-----------: 216\"\n",
      "[1] 200\n",
      "[1] \"request-----------: 217\"\n",
      "[1] 200\n",
      "[1] \"request-----------: 218\"\n",
      "[1] 200\n",
      "[1] \"request-----------: 219\"\n",
      "[1] 200\n",
      "[1] \"request-----------: 220\"\n",
      "[1] 200\n",
      "[1] \"request-----------: 221\"\n",
      "[1] 200\n",
      "[1] \"request-----------: 222\"\n",
      "[1] 200\n",
      "[1] \"request-----------: 223\"\n",
      "[1] 200\n",
      "[1] \"request-----------: 224\"\n",
      "[1] 200\n",
      "[1] \"request-----------: 225\"\n",
      "[1] 200\n",
      "[1] \"request-----------: 226\"\n",
      "[1] 200\n",
      "[1] \"request-----------: 227\"\n",
      "[1] 200\n",
      "[1] \"request-----------: 228\"\n",
      "[1] 200\n",
      "[1] \"request-----------: 229\"\n",
      "[1] 200\n",
      "[1] \"request-----------: 230\"\n",
      "[1] 200\n",
      "[1] \"request-----------: 231\"\n",
      "[1] 200\n",
      "[1] \"request-----------: 232\"\n",
      "[1] 200\n",
      "[1] \"request-----------: 233\"\n",
      "[1] 200\n",
      "[1] \"request-----------: 234\"\n",
      "[1] 200\n",
      "[1] \"request-----------: 235\"\n",
      "[1] 200\n",
      "[1] \"request-----------: 236\"\n",
      "[1] 200\n",
      "[1] \"request-----------: 237\"\n",
      "[1] 200\n",
      "[1] \"request-----------: 238\"\n",
      "[1] 200\n",
      "[1] \"request-----------: 239\"\n",
      "[1] 200\n",
      "[1] \"request-----------: 240\"\n",
      "[1] 200\n",
      "[1] \"request-----------: 241\"\n",
      "[1] 200\n",
      "[1] \"request-----------: 242\"\n",
      "[1] 200\n",
      "[1] \"request-----------: 243\"\n",
      "[1] 200\n",
      "[1] \"request-----------: 244\"\n",
      "[1] 200\n",
      "[1] \"request-----------: 245\"\n",
      "[1] 200\n",
      "[1] \"request-----------: 246\"\n",
      "[1] 200\n",
      "[1] \"request-----------: 247\"\n",
      "[1] 200\n",
      "[1] \"request-----------: 248\"\n",
      "[1] 200\n",
      "[1] \"request-----------: 249\"\n",
      "[1] 200\n",
      "[1] \"request-----------: 250\"\n",
      "[1] 200\n",
      "[1] \"request-----------: 251\"\n",
      "[1] 200\n",
      "[1] \"request-----------: 252\"\n",
      "[1] 200\n",
      "[1] \"request-----------: 253\"\n",
      "[1] 200\n",
      "[1] \"request-----------: 254\"\n",
      "[1] 200\n",
      "[1] \"request-----------: 255\"\n",
      "[1] 200\n",
      "[1] \"request-----------: 256\"\n",
      "[1] 200\n",
      "[1] \"request-----------: 257\"\n",
      "[1] 200\n",
      "[1] \"request-----------: 258\"\n",
      "[1] 200\n",
      "[1] \"request-----------: 259\"\n",
      "[1] 200\n",
      "[1] \"request-----------: 260\"\n",
      "[1] 200\n",
      "[1] \"request-----------: 261\"\n",
      "[1] 200\n",
      "[1] \"request-----------: 262\"\n",
      "[1] 200\n",
      "[1] \"request-----------: 263\"\n",
      "[1] 200\n",
      "[1] \"request-----------: 264\"\n",
      "[1] 200\n",
      "[1] \"request-----------: 265\"\n",
      "[1] 200\n",
      "[1] \"request-----------: 266\"\n",
      "[1] 200\n",
      "[1] \"request-----------: 267\"\n",
      "[1] 200\n",
      "[1] \"request-----------: 268\"\n",
      "[1] 200\n",
      "[1] \"request-----------: 269\"\n",
      "[1] 200\n",
      "[1] \"request-----------: 270\"\n",
      "[1] 200\n",
      "[1] \"request-----------: 271\"\n",
      "[1] 200\n",
      "[1] \"request-----------: 272\"\n",
      "[1] 200\n",
      "[1] \"request-----------: 273\"\n",
      "[1] 200\n",
      "[1] \"request-----------: 274\"\n",
      "[1] 200\n",
      "[1] \"request-----------: 275\"\n",
      "[1] 200\n",
      "[1] \"request-----------: 276\"\n",
      "[1] 200\n",
      "[1] \"request-----------: 277\"\n",
      "[1] 200\n",
      "[1] \"request-----------: 278\"\n",
      "[1] 200\n",
      "[1] \"request-----------: 279\"\n",
      "[1] 200\n",
      "[1] \"request-----------: 280\"\n",
      "[1] 200\n",
      "[1] \"request-----------: 281\"\n",
      "[1] 200\n",
      "[1] \"request-----------: 282\"\n",
      "[1] 200\n",
      "[1] \"request-----------: 283\"\n",
      "[1] 200\n",
      "[1] \"request-----------: 284\"\n",
      "[1] 200\n",
      "[1] \"request-----------: 285\"\n",
      "[1] 200\n",
      "[1] \"request-----------: 286\"\n",
      "[1] 200\n",
      "[1] \"request-----------: 287\"\n",
      "[1] 200\n",
      "[1] \"request-----------: 288\"\n",
      "[1] 200\n",
      "[1] \"request-----------: 289\"\n",
      "[1] 200\n",
      "[1] \"request-----------: 290\"\n",
      "[1] 200\n",
      "[1] \"request-----------: 291\"\n",
      "[1] 200\n",
      "[1] \"request-----------: 292\"\n",
      "[1] 200\n",
      "[1] \"request-----------: 293\"\n",
      "[1] 200\n",
      "[1] \"request-----------: 294\"\n",
      "[1] 200\n",
      "[1] \"request-----------: 295\"\n",
      "[1] 200\n",
      "[1] \"request-----------: 296\"\n",
      "[1] 200\n",
      "[1] \"request-----------: 297\"\n",
      "[1] 200\n",
      "[1] \"request-----------: 298\"\n",
      "[1] 200\n",
      "[1] \"request-----------: 299\"\n",
      "[1] 200\n",
      "[1] \"request-----------: 300\"\n",
      "[1] 200\n",
      "[1] \"request-----------: 301\"\n",
      "[1] 200\n",
      "[1] \"request-----------: 302\"\n",
      "[1] 200\n",
      "[1] \"request-----------: 303\"\n",
      "[1] 200\n",
      "[1] \"request-----------: 304\"\n",
      "[1] 200\n",
      "[1] \"request-----------: 305\"\n",
      "[1] 200\n",
      "[1] \"request-----------: 306\"\n",
      "[1] 200\n",
      "[1] \"request-----------: 307\"\n",
      "[1] 200\n",
      "[1] \"request-----------: 308\"\n",
      "[1] 200\n",
      "[1] \"request-----------: 309\"\n",
      "[1] 200\n",
      "[1] \"request-----------: 310\"\n",
      "[1] 200\n",
      "[1] \"request-----------: 311\"\n",
      "[1] 200\n",
      "[1] \"request-----------: 312\"\n",
      "[1] 200\n",
      "[1] \"request-----------: 313\"\n",
      "[1] 200\n",
      "[1] \"request-----------: 314\"\n",
      "[1] 200\n",
      "[1] \"request-----------: 315\"\n",
      "[1] 200\n",
      "[1] \"request-----------: 316\"\n",
      "[1] 200\n",
      "[1] \"request-----------: 317\"\n",
      "[1] 200\n",
      "[1] \"request-----------: 318\"\n",
      "[1] 200\n",
      "[1] \"request-----------: 319\"\n",
      "[1] 200\n",
      "[1] \"request-----------: 320\"\n",
      "[1] 200\n",
      "[1] \"request-----------: 321\"\n",
      "[1] 200\n",
      "[1] \"request-----------: 322\"\n",
      "[1] 200\n",
      "[1] \"request-----------: 323\"\n",
      "[1] 200\n",
      "[1] \"request-----------: 324\"\n",
      "[1] 200\n",
      "[1] \"request-----------: 325\"\n",
      "[1] 200\n",
      "[1] \"request-----------: 326\"\n",
      "[1] 200\n",
      "[1] \"request-----------: 327\"\n",
      "[1] 200\n",
      "[1] \"request-----------: 328\"\n",
      "[1] 200\n",
      "[1] \"request-----------: 329\"\n",
      "[1] 200\n",
      "[1] \"request-----------: 330\"\n",
      "[1] 200\n",
      "[1] \"request-----------: 331\"\n",
      "[1] 200\n",
      "[1] \"request-----------: 332\"\n",
      "[1] 200\n",
      "[1] \"request-----------: 333\"\n",
      "[1] 200\n",
      "[1] \"request-----------: 334\"\n",
      "[1] 200\n",
      "[1] \"request-----------: 335\"\n",
      "[1] 200\n",
      "[1] \"request-----------: 336\"\n",
      "[1] 200\n",
      "[1] \"request-----------: 337\"\n",
      "[1] 200\n",
      "[1] \"request-----------: 338\"\n",
      "[1] 200\n",
      "[1] \"request-----------: 339\"\n",
      "[1] 200\n",
      "[1] \"request-----------: 340\"\n",
      "[1] 200\n",
      "[1] \"request-----------: 341\"\n",
      "[1] 200\n",
      "[1] \"request-----------: 342\"\n",
      "[1] 200\n",
      "[1] \"request-----------: 343\"\n",
      "[1] 200\n",
      "[1] \"request-----------: 344\"\n",
      "[1] 200\n",
      "[1] \"request-----------: 345\"\n",
      "[1] 200\n",
      "[1] \"request-----------: 346\"\n",
      "[1] 200\n",
      "[1] \"request-----------: 347\"\n",
      "[1] 200\n",
      "[1] \"request-----------: 348\"\n",
      "[1] 200\n",
      "[1] \"request-----------: 349\"\n",
      "[1] 200\n",
      "[1] \"request-----------: 350\"\n",
      "[1] 200\n",
      "[1] \"request-----------: 351\"\n",
      "[1] 200\n",
      "[1] \"request-----------: 352\"\n",
      "[1] 200\n",
      "[1] \"request-----------: 353\"\n",
      "[1] 200\n",
      "[1] \"request-----------: 354\"\n",
      "[1] 200\n",
      "[1] \"request-----------: 355\"\n",
      "[1] 200\n",
      "[1] \"request-----------: 356\"\n",
      "[1] 200\n",
      "[1] \"request-----------: 357\"\n",
      "[1] 200\n",
      "[1] \"request-----------: 358\"\n",
      "[1] 200\n",
      "[1] \"request-----------: 359\"\n",
      "[1] 200\n",
      "[1] \"request-----------: 360\"\n",
      "[1] 200\n",
      "[1] \"request-----------: 361\"\n",
      "[1] 200\n",
      "[1] \"request-----------: 362\"\n",
      "[1] 200\n",
      "[1] \"request-----------: 363\"\n",
      "[1] 200\n",
      "[1] \"request-----------: 364\"\n",
      "[1] 200\n",
      "[1] \"request-----------: 365\"\n",
      "[1] 200\n",
      "[1] \"request-----------: 366\"\n",
      "[1] 200\n",
      "[1] \"request-----------: 367\"\n",
      "[1] 200\n",
      "[1] \"request-----------: 368\"\n",
      "[1] 200\n",
      "[1] \"request-----------: 369\"\n",
      "[1] 200\n",
      "[1] \"request-----------: 370\"\n",
      "[1] 200\n",
      "[1] \"request-----------: 371\"\n",
      "[1] 200\n",
      "[1] \"request-----------: 372\"\n",
      "[1] 200\n",
      "[1] \"request-----------: 373\"\n",
      "[1] 200\n",
      "[1] \"request-----------: 374\"\n",
      "[1] 200\n",
      "[1] \"request-----------: 375\"\n",
      "[1] 200\n",
      "[1] \"request-----------: 376\"\n",
      "[1] 200\n",
      "[1] \"request-----------: 377\"\n",
      "[1] 200\n",
      "[1] \"request-----------: 378\"\n",
      "[1] 200\n",
      "[1] \"request-----------: 379\"\n",
      "[1] 200\n",
      "[1] \"request-----------: 380\"\n",
      "[1] 200\n",
      "[1] \"request-----------: 381\"\n",
      "[1] 200\n",
      "[1] \"request-----------: 382\"\n",
      "[1] 200\n",
      "[1] \"request-----------: 383\"\n",
      "[1] 200\n",
      "[1] \"request-----------: 384\"\n",
      "[1] 200\n",
      "[1] \"request-----------: 385\"\n",
      "[1] 200\n",
      "[1] \"request-----------: 386\"\n",
      "[1] 200\n",
      "[1] \"request-----------: 387\"\n",
      "[1] 200\n",
      "[1] \"request-----------: 388\"\n",
      "[1] 200\n",
      "[1] \"request-----------: 389\"\n",
      "[1] 200\n",
      "[1] \"request-----------: 390\"\n",
      "[1] 200\n",
      "[1] \"request-----------: 391\"\n",
      "[1] 200\n",
      "[1] \"request-----------: 392\"\n",
      "[1] 200\n",
      "[1] \"request-----------: 393\"\n",
      "[1] 200\n",
      "[1] \"request-----------: 394\"\n",
      "[1] 200\n",
      "[1] \"request-----------: 395\"\n",
      "[1] 200\n",
      "[1] \"request-----------: 396\"\n",
      "[1] 200\n",
      "[1] \"request-----------: 397\"\n",
      "[1] 200\n",
      "[1] \"request-----------: 398\"\n",
      "[1] 200\n",
      "[1] \"request-----------: 399\"\n",
      "[1] 200\n",
      "[1] \"request-----------: 400\"\n",
      "[1] 200\n",
      "[1] \"request-----------: 401\"\n",
      "[1] 200\n",
      "[1] \"request-----------: 402\"\n",
      "[1] 200\n",
      "[1] \"request-----------: 403\"\n",
      "[1] 200\n",
      "[1] \"request-----------: 404\"\n",
      "[1] 200\n",
      "[1] \"request-----------: 405\"\n",
      "[1] 200\n",
      "[1] \"request-----------: 406\"\n",
      "[1] 200\n",
      "[1] \"request-----------: 407\"\n",
      "[1] 200\n",
      "[1] \"request-----------: 408\"\n",
      "[1] 200\n",
      "[1] \"request-----------: 409\"\n",
      "[1] 200\n",
      "[1] \"request-----------: 410\"\n",
      "[1] 200\n",
      "[1] \"request-----------: 411\"\n",
      "[1] 200\n",
      "[1] \"request-----------: 412\"\n",
      "[1] 200\n",
      "[1] \"request-----------: 413\"\n",
      "[1] 200\n",
      "[1] \"request-----------: 414\"\n",
      "[1] 200\n",
      "[1] \"request-----------: 415\"\n",
      "[1] 200\n",
      "[1] \"request-----------: 416\"\n",
      "[1] 200\n",
      "[1] \"request-----------: 417\"\n",
      "[1] 200\n",
      "[1] \"request-----------: 418\"\n",
      "[1] 200\n",
      "[1] \"request-----------: 419\"\n",
      "[1] 200\n",
      "[1] \"request-----------: 420\"\n",
      "[1] 200\n",
      "[1] \"request-----------: 421\"\n",
      "[1] 200\n",
      "[1] \"request-----------: 422\"\n",
      "[1] 200\n",
      "[1] \"request-----------: 423\"\n",
      "[1] 200\n",
      "[1] \"request-----------: 424\"\n",
      "[1] 200\n",
      "[1] \"request-----------: 425\"\n",
      "[1] 200\n",
      "[1] \"request-----------: 426\"\n",
      "[1] 200\n",
      "[1] \"request-----------: 427\"\n",
      "[1] 200\n",
      "[1] \"request-----------: 428\"\n",
      "[1] 200\n",
      "[1] \"request-----------: 429\"\n",
      "[1] 200\n",
      "[1] \"request-----------: 430\"\n",
      "[1] 200\n",
      "[1] \"request-----------: 431\"\n",
      "[1] 200\n",
      "[1] \"request-----------: 432\"\n",
      "[1] 200\n",
      "[1] \"request-----------: 433\"\n",
      "[1] 200\n",
      "[1] \"request-----------: 434\"\n",
      "[1] 200\n",
      "[1] \"request-----------: 435\"\n",
      "[1] 200\n",
      "[1] \"request-----------: 436\"\n",
      "[1] 200\n",
      "[1] \"request-----------: 437\"\n",
      "[1] 200\n",
      "[1] \"request-----------: 438\"\n",
      "[1] 200\n",
      "[1] \"request-----------: 439\"\n",
      "[1] 200\n",
      "[1] \"request-----------: 440\"\n",
      "[1] 200\n",
      "[1] \"request-----------: 441\"\n",
      "[1] 200\n",
      "[1] \"request-----------: 442\"\n",
      "[1] 200\n",
      "[1] \"request-----------: 443\"\n",
      "[1] 200\n",
      "[1] \"request-----------: 444\"\n",
      "[1] 200\n",
      "[1] \"request-----------: 445\"\n",
      "[1] 200\n",
      "[1] \"request-----------: 446\"\n",
      "[1] 200\n",
      "[1] \"request-----------: 447\"\n",
      "[1] 200\n",
      "[1] \"request-----------: 448\"\n",
      "[1] 200\n",
      "[1] \"request-----------: 449\"\n",
      "[1] 200\n",
      "[1] \"request-----------: 450\"\n",
      "[1] 200\n",
      "[1] \"request-----------: 451\"\n",
      "[1] 200\n",
      "[1] \"request-----------: 452\"\n",
      "[1] 200\n",
      "[1] \"request-----------: 453\"\n",
      "[1] 200\n",
      "[1] \"request-----------: 454\"\n",
      "[1] 200\n",
      "[1] \"request-----------: 455\"\n",
      "[1] 200\n",
      "[1] \"request-----------: 456\"\n",
      "[1] 200\n",
      "[1] \"request-----------: 457\"\n",
      "[1] 200\n",
      "[1] \"request-----------: 458\"\n",
      "[1] 200\n",
      "[1] \"request-----------: 459\"\n",
      "[1] 200\n",
      "[1] \"request-----------: 460\"\n",
      "[1] 200\n",
      "[1] \"request-----------: 461\"\n",
      "[1] 200\n",
      "[1] \"request-----------: 462\"\n",
      "[1] 200\n",
      "[1] \"request-----------: 463\"\n",
      "[1] 200\n",
      "[1] \"request-----------: 464\"\n",
      "[1] 200\n",
      "[1] \"request-----------: 465\"\n",
      "[1] 200\n",
      "[1] \"request-----------: 466\"\n",
      "[1] 200\n",
      "[1] \"request-----------: 467\"\n",
      "[1] 200\n",
      "[1] \"request-----------: 468\"\n",
      "[1] 200\n",
      "[1] \"request-----------: 469\"\n",
      "[1] 200\n",
      "[1] \"request-----------: 470\"\n",
      "[1] 200\n",
      "[1] \"request-----------: 471\"\n",
      "[1] 200\n",
      "[1] \"request-----------: 472\"\n",
      "[1] 200\n",
      "[1] \"request-----------: 473\"\n",
      "[1] 200\n",
      "[1] \"request-----------: 474\"\n",
      "[1] 200\n",
      "[1] \"request-----------: 475\"\n",
      "[1] 200\n",
      "[1] \"request-----------: 476\"\n",
      "[1] 200\n",
      "[1] \"request-----------: 477\"\n",
      "[1] 200\n",
      "[1] \"request-----------: 478\"\n",
      "[1] 200\n",
      "[1] \"request-----------: 479\"\n",
      "[1] 200\n",
      "[1] \"request-----------: 480\"\n",
      "[1] 200\n",
      "[1] \"request-----------: 481\"\n",
      "[1] 200\n",
      "[1] \"request-----------: 482\"\n",
      "[1] 200\n",
      "[1] \"request-----------: 483\"\n",
      "[1] 200\n",
      "[1] \"request-----------: 484\"\n",
      "[1] 200\n",
      "[1] \"request-----------: 485\"\n",
      "[1] 200\n",
      "[1] \"request-----------: 486\"\n",
      "[1] 200\n",
      "[1] \"request-----------: 487\"\n",
      "[1] 200\n",
      "[1] \"request-----------: 488\"\n",
      "[1] 200\n",
      "[1] \"request-----------: 489\"\n",
      "[1] 200\n",
      "[1] \"request-----------: 490\"\n",
      "[1] 200\n",
      "[1] \"request-----------: 491\"\n",
      "[1] 200\n",
      "[1] \"request-----------: 492\"\n",
      "[1] 200\n",
      "[1] \"request-----------: 493\"\n",
      "[1] 200\n",
      "[1] \"request-----------: 494\"\n",
      "[1] 200\n",
      "[1] \"request-----------: 495\"\n",
      "[1] 200\n",
      "[1] \"request-----------: 496\"\n",
      "[1] 200\n",
      "[1] \"request-----------: 497\"\n",
      "[1] 200\n",
      "[1] \"request-----------: 498\"\n",
      "[1] 200\n",
      "[1] \"request-----------: 499\"\n",
      "[1] 200\n",
      "[1] \"request-----------: 500\"\n",
      "[1] 200\n",
      "[1] \"request-----------: 501\"\n",
      "[1] 200\n",
      "[1] \"request-----------: 502\"\n",
      "[1] 200\n",
      "[1] \"request-----------: 503\"\n",
      "[1] 200\n",
      "[1] \"request-----------: 504\"\n",
      "[1] 200\n",
      "[1] \"request-----------: 505\"\n",
      "[1] 200\n",
      "[1] \"request-----------: 506\"\n",
      "[1] 200\n",
      "[1] \"request-----------: 507\"\n",
      "[1] 200\n",
      "[1] \"request-----------: 508\"\n",
      "[1] 200\n",
      "[1] \"request-----------: 509\"\n",
      "[1] 200\n",
      "[1] \"request-----------: 510\"\n",
      "[1] 200\n",
      "[1] \"request-----------: 511\"\n",
      "[1] 200\n",
      "[1] \"request-----------: 512\"\n",
      "[1] 200\n",
      "[1] \"request-----------: 513\"\n",
      "[1] 200\n",
      "[1] \"request-----------: 514\"\n",
      "[1] 200\n",
      "[1] \"request-----------: 515\"\n",
      "[1] 200\n",
      "[1] \"request-----------: 516\"\n",
      "[1] 200\n",
      "[1] \"request-----------: 517\"\n",
      "[1] 200\n",
      "[1] \"request-----------: 518\"\n",
      "[1] 200\n",
      "[1] \"request-----------: 519\"\n",
      "[1] 200\n",
      "[1] \"request-----------: 520\"\n",
      "[1] 200\n",
      "[1] \"request-----------: 521\"\n",
      "[1] 200\n",
      "[1] \"request-----------: 522\"\n",
      "[1] 200\n",
      "[1] \"request-----------: 523\"\n",
      "[1] 200\n",
      "[1] \"request-----------: 524\"\n",
      "[1] 200\n",
      "[1] \"request-----------: 525\"\n",
      "[1] 200\n",
      "[1] \"request-----------: 526\"\n",
      "[1] 200\n",
      "[1] \"request-----------: 527\"\n",
      "[1] 200\n",
      "[1] \"request-----------: 528\"\n",
      "[1] 200\n",
      "[1] \"request-----------: 529\"\n",
      "[1] 200\n",
      "[1] \"request-----------: 530\"\n",
      "[1] 200\n",
      "[1] \"request-----------: 531\"\n",
      "[1] 200\n",
      "[1] \"request-----------: 532\"\n",
      "[1] 200\n",
      "[1] \"request-----------: 533\"\n",
      "[1] 200\n",
      "[1] \"request-----------: 534\"\n",
      "[1] 200\n",
      "[1] \"request-----------: 535\"\n",
      "[1] 200\n",
      "[1] \"request-----------: 536\"\n",
      "[1] 200\n",
      "[1] \"request-----------: 537\"\n",
      "[1] 200\n",
      "[1] \"request-----------: 538\"\n",
      "[1] 200\n",
      "[1] \"request-----------: 539\"\n",
      "[1] 200\n",
      "[1] \"request-----------: 540\"\n",
      "[1] 200\n",
      "[1] \"request-----------: 541\"\n",
      "[1] 200\n",
      "[1] \"request-----------: 542\"\n",
      "[1] 200\n",
      "[1] \"request-----------: 543\"\n",
      "[1] 200\n",
      "[1] \"request-----------: 544\"\n",
      "[1] 200\n",
      "[1] \"request-----------: 545\"\n",
      "[1] 200\n",
      "[1] \"request-----------: 546\"\n",
      "[1] 200\n",
      "[1] \"request-----------: 547\"\n",
      "[1] 200\n",
      "[1] \"request-----------: 548\"\n",
      "[1] 200\n",
      "[1] \"request-----------: 549\"\n",
      "[1] 200\n",
      "[1] \"request-----------: 550\"\n",
      "[1] 200\n",
      "[1] \"request-----------: 551\"\n",
      "[1] 200\n",
      "[1] \"request-----------: 552\"\n",
      "[1] 200\n",
      "[1] \"request-----------: 553\"\n",
      "[1] 200\n",
      "[1] \"request-----------: 554\"\n",
      "[1] 200\n",
      "[1] \"request-----------: 555\"\n",
      "[1] 200\n",
      "[1] \"request-----------: 556\"\n",
      "[1] 200\n",
      "[1] \"request-----------: 557\"\n",
      "[1] 200\n",
      "[1] \"request-----------: 558\"\n",
      "[1] 200\n",
      "[1] \"request-----------: 559\"\n",
      "[1] 200\n",
      "[1] \"request-----------: 560\"\n",
      "[1] 200\n",
      "[1] \"request-----------: 561\"\n",
      "[1] 200\n",
      "[1] \"request-----------: 562\"\n",
      "[1] 200\n",
      "[1] \"request-----------: 563\"\n",
      "[1] 200\n",
      "[1] \"request-----------: 564\"\n",
      "[1] 200\n",
      "[1] \"request-----------: 565\"\n",
      "[1] 200\n",
      "[1] \"request-----------: 566\"\n",
      "[1] 200\n",
      "[1] \"request-----------: 567\"\n",
      "[1] 200\n",
      "[1] \"request-----------: 568\"\n",
      "[1] 200\n",
      "[1] \"request-----------: 569\"\n",
      "[1] 200\n",
      "[1] \"request-----------: 570\"\n",
      "[1] 200\n",
      "[1] \"request-----------: 571\"\n",
      "[1] 200\n",
      "[1] \"request-----------: 572\"\n",
      "[1] 200\n",
      "[1] \"request-----------: 573\"\n",
      "[1] 200\n",
      "[1] \"request-----------: 574\"\n",
      "[1] 200\n",
      "[1] \"request-----------: 575\"\n",
      "[1] 200\n",
      "[1] \"request-----------: 576\"\n",
      "[1] 200\n",
      "[1] \"request-----------: 577\"\n",
      "[1] 200\n",
      "[1] \"request-----------: 578\"\n",
      "[1] 200\n",
      "[1] \"request-----------: 579\"\n",
      "[1] 200\n",
      "[1] \"request-----------: 580\"\n",
      "[1] 200\n",
      "[1] \"request-----------: 581\"\n",
      "[1] 200\n",
      "[1] \"request-----------: 582\"\n",
      "[1] 200\n",
      "[1] \"request-----------: 583\"\n",
      "[1] 200\n",
      "[1] \"request-----------: 584\"\n",
      "[1] 200\n",
      "[1] \"request-----------: 585\"\n",
      "[1] 200\n",
      "[1] \"request-----------: 586\"\n",
      "[1] 200\n",
      "[1] \"request-----------: 587\"\n",
      "[1] 200\n",
      "[1] \"request-----------: 588\"\n",
      "[1] 200\n",
      "[1] \"request-----------: 589\"\n",
      "[1] 200\n",
      "[1] \"request-----------: 590\"\n",
      "[1] 200\n",
      "[1] \"request-----------: 591\"\n",
      "[1] 200\n",
      "[1] \"request-----------: 592\"\n",
      "[1] 200\n",
      "[1] \"request-----------: 593\"\n",
      "[1] 200\n",
      "[1] \"request-----------: 594\"\n",
      "[1] 200\n",
      "[1] \"request-----------: 595\"\n",
      "[1] 200\n",
      "[1] \"request-----------: 596\"\n",
      "[1] 200\n",
      "[1] \"request-----------: 597\"\n",
      "[1] 200\n",
      "[1] \"request-----------: 598\"\n",
      "[1] 200\n",
      "[1] \"request-----------: 599\"\n",
      "[1] 200\n",
      "[1] \"request-----------: 600\"\n",
      "[1] 200\n",
      "[1] \"request-----------: 601\"\n",
      "[1] 200\n",
      "[1] \"request-----------: 602\"\n",
      "[1] 200\n",
      "[1] \"request-----------: 603\"\n",
      "[1] 200\n",
      "[1] \"request-----------: 604\"\n",
      "[1] 200\n",
      "[1] \"request-----------: 605\"\n",
      "[1] 200\n",
      "[1] \"request-----------: 606\"\n",
      "[1] 200\n",
      "[1] \"request-----------: 607\"\n",
      "[1] 200\n",
      "[1] \"request-----------: 608\"\n",
      "[1] 200\n",
      "[1] \"request-----------: 609\"\n",
      "[1] 200\n",
      "[1] \"request-----------: 610\"\n",
      "[1] 200\n",
      "[1] \"request-----------: 611\"\n",
      "[1] 200\n",
      "[1] \"request-----------: 612\"\n",
      "[1] 200\n",
      "[1] \"request-----------: 613\"\n",
      "[1] 200\n",
      "[1] \"request-----------: 614\"\n",
      "[1] 200\n",
      "[1] \"request-----------: 615\"\n",
      "[1] 200\n",
      "[1] \"request-----------: 616\"\n",
      "[1] 200\n",
      "[1] \"request-----------: 617\"\n",
      "[1] 200\n",
      "[1] \"request-----------: 618\"\n",
      "[1] 200\n",
      "[1] \"request-----------: 619\"\n",
      "[1] 200\n",
      "[1] \"request-----------: 620\"\n",
      "[1] 200\n",
      "[1] \"request-----------: 621\"\n",
      "[1] 200\n",
      "[1] \"request-----------: 622\"\n",
      "[1] 200\n",
      "[1] \"request-----------: 623\"\n",
      "[1] 200\n",
      "[1] \"request-----------: 624\"\n",
      "[1] 200\n",
      "[1] \"request-----------: 625\"\n",
      "[1] 200\n",
      "[1] \"request-----------: 626\"\n",
      "[1] 200\n",
      "[1] \"request-----------: 627\"\n",
      "[1] 200\n",
      "[1] \"request-----------: 628\"\n",
      "[1] 200\n",
      "[1] \"request-----------: 629\"\n",
      "[1] 200\n",
      "[1] \"request-----------: 630\"\n",
      "[1] 200\n",
      "[1] \"request-----------: 631\"\n",
      "[1] 200\n",
      "[1] \"request-----------: 632\"\n",
      "[1] 200\n",
      "[1] \"request-----------: 633\"\n",
      "[1] 200\n",
      "[1] \"request-----------: 634\"\n",
      "[1] 200\n",
      "[1] \"request-----------: 635\"\n",
      "[1] 200\n",
      "[1] \"request-----------: 636\"\n",
      "[1] 200\n",
      "[1] \"request-----------: 637\"\n",
      "[1] 200\n",
      "[1] \"request-----------: 638\"\n",
      "[1] 200\n",
      "[1] \"request-----------: 639\"\n",
      "[1] 200\n",
      "[1] \"request-----------: 640\"\n",
      "[1] 200\n",
      "[1] \"request-----------: 641\"\n",
      "[1] 200\n",
      "[1] \"request-----------: 642\"\n",
      "[1] 200\n",
      "[1] \"request-----------: 643\"\n",
      "[1] 200\n",
      "[1] \"request-----------: 644\"\n",
      "[1] 200\n",
      "[1] \"request-----------: 645\"\n",
      "[1] 200\n",
      "[1] \"request-----------: 646\"\n",
      "[1] 200\n",
      "[1] \"request-----------: 647\"\n",
      "[1] 200\n",
      "[1] \"request-----------: 648\"\n",
      "[1] 200\n",
      "[1] \"request-----------: 649\"\n",
      "[1] 200\n",
      "[1] \"request-----------: 650\"\n",
      "[1] 200\n",
      "[1] \"request-----------: 651\"\n",
      "[1] 200\n",
      "[1] \"request-----------: 652\"\n",
      "[1] 200\n",
      "[1] \"request-----------: 653\"\n",
      "[1] 200\n",
      "[1] \"request-----------: 654\"\n",
      "[1] 200\n",
      "[1] \"request-----------: 655\"\n",
      "[1] 200\n",
      "[1] \"request-----------: 656\"\n",
      "[1] 200\n",
      "[1] \"request-----------: 657\"\n",
      "[1] 200\n",
      "[1] \"request-----------: 658\"\n",
      "[1] 200\n",
      "[1] \"request-----------: 659\"\n",
      "[1] 200\n",
      "[1] \"request-----------: 660\"\n",
      "[1] 200\n",
      "[1] \"request-----------: 661\"\n",
      "[1] 200\n",
      "[1] \"request-----------: 662\"\n",
      "[1] 200\n",
      "[1] \"request-----------: 663\"\n",
      "[1] 200\n",
      "[1] \"request-----------: 664\"\n",
      "[1] 200\n",
      "[1] \"request-----------: 665\"\n",
      "[1] 200\n",
      "[1] \"request-----------: 666\"\n",
      "[1] 200\n",
      "[1] \"request-----------: 667\"\n",
      "[1] 200\n",
      "[1] \"request-----------: 668\"\n",
      "[1] 200\n",
      "[1] \"request-----------: 669\"\n",
      "[1] 200\n",
      "[1] \"request-----------: 670\"\n",
      "[1] 200\n",
      "[1] \"request-----------: 671\"\n",
      "[1] 200\n",
      "[1] \"request-----------: 672\"\n",
      "[1] 200\n",
      "[1] \"request-----------: 673\"\n",
      "[1] 200\n",
      "[1] \"request-----------: 674\"\n",
      "[1] 200\n",
      "[1] \"request-----------: 675\"\n",
      "[1] 200\n",
      "[1] \"request-----------: 676\"\n",
      "[1] 200\n",
      "[1] \"request-----------: 677\"\n",
      "[1] 200\n",
      "[1] \"request-----------: 678\"\n",
      "[1] 200\n",
      "[1] \"request-----------: 679\"\n",
      "[1] 200\n",
      "[1] \"request-----------: 680\"\n",
      "[1] 200\n",
      "[1] \"request-----------: 681\"\n",
      "[1] 200\n",
      "[1] \"request-----------: 682\"\n",
      "[1] 200\n",
      "[1] \"request-----------: 683\"\n",
      "[1] 200\n",
      "[1] \"request-----------: 684\"\n",
      "[1] 200\n",
      "[1] \"request-----------: 685\"\n",
      "[1] 200\n",
      "[1] \"request-----------: 686\"\n",
      "[1] 200\n",
      "[1] \"request-----------: 687\"\n",
      "[1] 200\n",
      "[1] \"request-----------: 688\"\n",
      "[1] 200\n",
      "[1] \"request-----------: 689\"\n",
      "[1] 200\n",
      "[1] \"request-----------: 690\"\n",
      "[1] 200\n",
      "[1] \"request-----------: 691\"\n",
      "[1] 200\n",
      "[1] \"request-----------: 692\"\n",
      "[1] 200\n",
      "[1] \"request-----------: 693\"\n",
      "[1] 200\n",
      "[1] \"request-----------: 694\"\n",
      "[1] 200\n",
      "[1] \"request-----------: 695\"\n",
      "[1] 200\n",
      "[1] \"request-----------: 696\"\n",
      "[1] 200\n",
      "[1] \"request-----------: 697\"\n",
      "[1] 200\n",
      "[1] \"request-----------: 698\"\n",
      "[1] 200\n",
      "[1] \"request-----------: 699\"\n",
      "[1] 200\n",
      "[1] \"request-----------: 700\"\n",
      "[1] 200\n",
      "[1] \"request-----------: 701\"\n",
      "[1] 200\n",
      "[1] \"request-----------: 702\"\n",
      "[1] 200\n",
      "[1] \"request-----------: 703\"\n",
      "[1] 200\n",
      "[1] \"request-----------: 704\"\n",
      "[1] 200\n",
      "[1] \"request-----------: 705\"\n",
      "[1] 200\n",
      "[1] \"request-----------: 706\"\n",
      "[1] 200\n",
      "[1] \"request-----------: 707\"\n",
      "[1] 200\n",
      "[1] \"request-----------: 708\"\n",
      "[1] 200\n",
      "[1] \"request-----------: 709\"\n",
      "[1] 200\n",
      "[1] \"request-----------: 710\"\n",
      "[1] 200\n",
      "[1] \"request-----------: 711\"\n",
      "[1] 200\n",
      "[1] \"request-----------: 712\"\n",
      "[1] 200\n",
      "[1] \"request-----------: 713\"\n",
      "[1] 200\n",
      "[1] \"request-----------: 714\"\n",
      "[1] 200\n",
      "[1] \"request-----------: 715\"\n",
      "[1] 200\n",
      "[1] \"request-----------: 716\"\n",
      "[1] 200\n"
     ]
    }
   ],
   "source": [
    "for (i in 1:nrow(airbus_granted)){\n",
    "    print(paste('request-----------:', i))\n",
    "    flush.console()\n",
    "    Sys.sleep(0.5)\n",
    "    pn <- airbus_granted[i, Patent_number]\n",
    "    url <- construct_url(pn)\n",
    "    gdf <- get_granted(url)\n",
    "    if (dim(gdf)[1] == 0) {\n",
    "        airbus_granted[i, 'granted'] <- 0\n",
    "    } else {\n",
    "        airbus_granted[i, 'granted'] <- 1\n",
    "        airbus_granted[i, 'pub_date'] <- gdf[1, 'pub_date']\n",
    "        airbus_granted[i, 'appln_number'] <- gdf[1, 'appln_number']\n",
    "        airbus_granted[i, 'kind_code'] <- gdf[1, 'kind_code']\n",
    "    }\n",
    "}"
   ]
  },
  {
   "cell_type": "code",
   "execution_count": 83,
   "metadata": {
    "vscode": {
     "languageId": "r"
    }
   },
   "outputs": [
    {
     "data": {
      "text/html": [
       "<table class=\"dataframe\">\n",
       "<caption>A data.table: 6 × 9</caption>\n",
       "<thead>\n",
       "\t<tr><th scope=col>HAN_ID</th><th scope=col>HARM_ID</th><th scope=col>Appln_id</th><th scope=col>Publn_auth</th><th scope=col>Patent_number</th><th scope=col>granted</th><th scope=col>pub_date</th><th scope=col>appln_number</th><th scope=col>kind_code</th></tr>\n",
       "\t<tr><th scope=col>&lt;int&gt;</th><th scope=col>&lt;int&gt;</th><th scope=col>&lt;int&gt;</th><th scope=col>&lt;chr&gt;</th><th scope=col>&lt;chr&gt;</th><th scope=col>&lt;int&gt;</th><th scope=col>&lt;chr&gt;</th><th scope=col>&lt;chr&gt;</th><th scope=col>&lt;chr&gt;</th></tr>\n",
       "</thead>\n",
       "<tbody>\n",
       "\t<tr><td>60513</td><td>60513</td><td>   213</td><td>EP</td><td>EP2030891</td><td>0</td><td>NA              </td><td>NA      </td><td>NA</td></tr>\n",
       "\t<tr><td>60513</td><td>60513</td><td> 65448</td><td>EP</td><td>EP2025928</td><td>0</td><td>NA              </td><td>NA      </td><td>NA</td></tr>\n",
       "\t<tr><td>60513</td><td>60513</td><td>156990</td><td>EP</td><td>EP1920908</td><td>1</td><td>Wed, 08 Apr 2015</td><td>07021377</td><td>B1</td></tr>\n",
       "\t<tr><td>60513</td><td>60513</td><td>161551</td><td>EP</td><td>EP1972896</td><td>1</td><td>Wed, 06 May 2015</td><td>08004318</td><td>B1</td></tr>\n",
       "\t<tr><td>60513</td><td>60513</td><td>173385</td><td>EP</td><td>EP2134522</td><td>1</td><td>Wed, 01 Mar 2017</td><td>08717791</td><td>B1</td></tr>\n",
       "\t<tr><td>60513</td><td>60513</td><td>173386</td><td>EP</td><td>EP2136979</td><td>1</td><td>Wed, 11 May 2016</td><td>08717792</td><td>B1</td></tr>\n",
       "</tbody>\n",
       "</table>\n"
      ],
      "text/latex": [
       "A data.table: 6 × 9\n",
       "\\begin{tabular}{lllllllll}\n",
       " HAN\\_ID & HARM\\_ID & Appln\\_id & Publn\\_auth & Patent\\_number & granted & pub\\_date & appln\\_number & kind\\_code\\\\\n",
       " <int> & <int> & <int> & <chr> & <chr> & <int> & <chr> & <chr> & <chr>\\\\\n",
       "\\hline\n",
       "\t 60513 & 60513 &    213 & EP & EP2030891 & 0 & NA               & NA       & NA\\\\\n",
       "\t 60513 & 60513 &  65448 & EP & EP2025928 & 0 & NA               & NA       & NA\\\\\n",
       "\t 60513 & 60513 & 156990 & EP & EP1920908 & 1 & Wed, 08 Apr 2015 & 07021377 & B1\\\\\n",
       "\t 60513 & 60513 & 161551 & EP & EP1972896 & 1 & Wed, 06 May 2015 & 08004318 & B1\\\\\n",
       "\t 60513 & 60513 & 173385 & EP & EP2134522 & 1 & Wed, 01 Mar 2017 & 08717791 & B1\\\\\n",
       "\t 60513 & 60513 & 173386 & EP & EP2136979 & 1 & Wed, 11 May 2016 & 08717792 & B1\\\\\n",
       "\\end{tabular}\n"
      ],
      "text/markdown": [
       "\n",
       "A data.table: 6 × 9\n",
       "\n",
       "| HAN_ID &lt;int&gt; | HARM_ID &lt;int&gt; | Appln_id &lt;int&gt; | Publn_auth &lt;chr&gt; | Patent_number &lt;chr&gt; | granted &lt;int&gt; | pub_date &lt;chr&gt; | appln_number &lt;chr&gt; | kind_code &lt;chr&gt; |\n",
       "|---|---|---|---|---|---|---|---|---|\n",
       "| 60513 | 60513 |    213 | EP | EP2030891 | 0 | NA               | NA       | NA |\n",
       "| 60513 | 60513 |  65448 | EP | EP2025928 | 0 | NA               | NA       | NA |\n",
       "| 60513 | 60513 | 156990 | EP | EP1920908 | 1 | Wed, 08 Apr 2015 | 07021377 | B1 |\n",
       "| 60513 | 60513 | 161551 | EP | EP1972896 | 1 | Wed, 06 May 2015 | 08004318 | B1 |\n",
       "| 60513 | 60513 | 173385 | EP | EP2134522 | 1 | Wed, 01 Mar 2017 | 08717791 | B1 |\n",
       "| 60513 | 60513 | 173386 | EP | EP2136979 | 1 | Wed, 11 May 2016 | 08717792 | B1 |\n",
       "\n"
      ],
      "text/plain": [
       "  HAN_ID HARM_ID Appln_id Publn_auth Patent_number granted pub_date        \n",
       "1 60513  60513      213   EP         EP2030891     0       NA              \n",
       "2 60513  60513    65448   EP         EP2025928     0       NA              \n",
       "3 60513  60513   156990   EP         EP1920908     1       Wed, 08 Apr 2015\n",
       "4 60513  60513   161551   EP         EP1972896     1       Wed, 06 May 2015\n",
       "5 60513  60513   173385   EP         EP2134522     1       Wed, 01 Mar 2017\n",
       "6 60513  60513   173386   EP         EP2136979     1       Wed, 11 May 2016\n",
       "  appln_number kind_code\n",
       "1 NA           NA       \n",
       "2 NA           NA       \n",
       "3 07021377     B1       \n",
       "4 08004318     B1       \n",
       "5 08717791     B1       \n",
       "6 08717792     B1       "
      ]
     },
     "metadata": {},
     "output_type": "display_data"
    }
   ],
   "source": [
    "head(airbus_granted)"
   ]
  },
  {
   "cell_type": "code",
   "execution_count": 96,
   "metadata": {
    "vscode": {
     "languageId": "r"
    }
   },
   "outputs": [
    {
     "data": {
      "text/html": [
       "<table class=\"dataframe\">\n",
       "<caption>A data.table: 6 × 9</caption>\n",
       "<thead>\n",
       "\t<tr><th scope=col>HAN_ID</th><th scope=col>HARM_ID</th><th scope=col>Appln_id</th><th scope=col>Publn_auth</th><th scope=col>Patent_number</th><th scope=col>granted</th><th scope=col>pub_date</th><th scope=col>appln_number</th><th scope=col>kind_code</th></tr>\n",
       "\t<tr><th scope=col>&lt;int&gt;</th><th scope=col>&lt;int&gt;</th><th scope=col>&lt;int&gt;</th><th scope=col>&lt;chr&gt;</th><th scope=col>&lt;chr&gt;</th><th scope=col>&lt;int&gt;</th><th scope=col>&lt;chr&gt;</th><th scope=col>&lt;chr&gt;</th><th scope=col>&lt;chr&gt;</th></tr>\n",
       "</thead>\n",
       "<tbody>\n",
       "\t<tr><td>60513</td><td>60513</td><td>543179431</td><td>EP</td><td>EP3840175</td><td>0</td><td>NA</td><td>NA</td><td>NA</td></tr>\n",
       "\t<tr><td>60513</td><td>60513</td><td>544285732</td><td>EP</td><td>EP3851783</td><td>0</td><td>NA</td><td>NA</td><td>NA</td></tr>\n",
       "\t<tr><td>60513</td><td>60513</td><td>544873605</td><td>EP</td><td>EP3860302</td><td>0</td><td>NA</td><td>NA</td><td>NA</td></tr>\n",
       "\t<tr><td>60513</td><td>60513</td><td>545964455</td><td>EP</td><td>EP3871980</td><td>0</td><td>NA</td><td>NA</td><td>NA</td></tr>\n",
       "\t<tr><td>60513</td><td>60513</td><td>547077828</td><td>EP</td><td>EP3882371</td><td>0</td><td>NA</td><td>NA</td><td>NA</td></tr>\n",
       "\t<tr><td>60513</td><td>60513</td><td>549789029</td><td>EP</td><td>EP3907656</td><td>0</td><td>NA</td><td>NA</td><td>NA</td></tr>\n",
       "</tbody>\n",
       "</table>\n"
      ],
      "text/latex": [
       "A data.table: 6 × 9\n",
       "\\begin{tabular}{lllllllll}\n",
       " HAN\\_ID & HARM\\_ID & Appln\\_id & Publn\\_auth & Patent\\_number & granted & pub\\_date & appln\\_number & kind\\_code\\\\\n",
       " <int> & <int> & <int> & <chr> & <chr> & <int> & <chr> & <chr> & <chr>\\\\\n",
       "\\hline\n",
       "\t 60513 & 60513 & 543179431 & EP & EP3840175 & 0 & NA & NA & NA\\\\\n",
       "\t 60513 & 60513 & 544285732 & EP & EP3851783 & 0 & NA & NA & NA\\\\\n",
       "\t 60513 & 60513 & 544873605 & EP & EP3860302 & 0 & NA & NA & NA\\\\\n",
       "\t 60513 & 60513 & 545964455 & EP & EP3871980 & 0 & NA & NA & NA\\\\\n",
       "\t 60513 & 60513 & 547077828 & EP & EP3882371 & 0 & NA & NA & NA\\\\\n",
       "\t 60513 & 60513 & 549789029 & EP & EP3907656 & 0 & NA & NA & NA\\\\\n",
       "\\end{tabular}\n"
      ],
      "text/markdown": [
       "\n",
       "A data.table: 6 × 9\n",
       "\n",
       "| HAN_ID &lt;int&gt; | HARM_ID &lt;int&gt; | Appln_id &lt;int&gt; | Publn_auth &lt;chr&gt; | Patent_number &lt;chr&gt; | granted &lt;int&gt; | pub_date &lt;chr&gt; | appln_number &lt;chr&gt; | kind_code &lt;chr&gt; |\n",
       "|---|---|---|---|---|---|---|---|---|\n",
       "| 60513 | 60513 | 543179431 | EP | EP3840175 | 0 | NA | NA | NA |\n",
       "| 60513 | 60513 | 544285732 | EP | EP3851783 | 0 | NA | NA | NA |\n",
       "| 60513 | 60513 | 544873605 | EP | EP3860302 | 0 | NA | NA | NA |\n",
       "| 60513 | 60513 | 545964455 | EP | EP3871980 | 0 | NA | NA | NA |\n",
       "| 60513 | 60513 | 547077828 | EP | EP3882371 | 0 | NA | NA | NA |\n",
       "| 60513 | 60513 | 549789029 | EP | EP3907656 | 0 | NA | NA | NA |\n",
       "\n"
      ],
      "text/plain": [
       "  HAN_ID HARM_ID Appln_id  Publn_auth Patent_number granted pub_date\n",
       "1 60513  60513   543179431 EP         EP3840175     0       NA      \n",
       "2 60513  60513   544285732 EP         EP3851783     0       NA      \n",
       "3 60513  60513   544873605 EP         EP3860302     0       NA      \n",
       "4 60513  60513   545964455 EP         EP3871980     0       NA      \n",
       "5 60513  60513   547077828 EP         EP3882371     0       NA      \n",
       "6 60513  60513   549789029 EP         EP3907656     0       NA      \n",
       "  appln_number kind_code\n",
       "1 NA           NA       \n",
       "2 NA           NA       \n",
       "3 NA           NA       \n",
       "4 NA           NA       \n",
       "5 NA           NA       \n",
       "6 NA           NA       "
      ]
     },
     "metadata": {},
     "output_type": "display_data"
    }
   ],
   "source": [
    "tail(airbus_granted)"
   ]
  },
  {
   "cell_type": "code",
   "execution_count": 97,
   "metadata": {
    "vscode": {
     "languageId": "r"
    }
   },
   "outputs": [],
   "source": [
    "write.csv(airbus_granted, file=\"work/notebooks/patent/data/airbus_granted.csv\")"
   ]
  },
  {
   "cell_type": "code",
   "execution_count": 111,
   "metadata": {
    "vscode": {
     "languageId": "r"
    }
   },
   "outputs": [
    {
     "data": {
      "text/plain": [
       "\n",
       "\n",
       "| granted |  N  | share  |\n",
       "|:-------:|:---:|:------:|\n",
       "|    0    | 178 | 24.86  |\n",
       "|    1    | 538 | 75.14  |\n",
       "|  Total  | 716 | 100.00 |"
      ]
     },
     "metadata": {},
     "output_type": "display_data"
    }
   ],
   "source": [
    "airbus_granted %>%\n",
    "    .[, .N, by=granted] -> foo\n",
    "    transform(adorn_totals(foo)) %>%\n",
    "    .[, `:=`(share = N/716*100)] %>%\n",
    "    kable('pipe', align='ccc', digits=2)"
   ]
  },
  {
   "cell_type": "code",
   "execution_count": 148,
   "metadata": {
    "vscode": {
     "languageId": "r"
    }
   },
   "outputs": [],
   "source": [
    "airbus_granted %>%\n",
    "    .[granted == 1] %>%\n",
    "    .[, c('date') := tstrsplit(pub_date, \",\", keep=2)] %>%\n",
    "    .[, c('year') := tstrsplit(date, \" \", keep=4)] %>%\n",
    "    .[, date := as.Date(date, \"%d %b %Y\")] -> airbus_granted_date\n",
    "    "
   ]
  },
  {
   "cell_type": "code",
   "execution_count": 149,
   "metadata": {
    "vscode": {
     "languageId": "r"
    }
   },
   "outputs": [
    {
     "data": {
      "text/html": [
       "<table class=\"dataframe\">\n",
       "<caption>A data.table: 6 × 11</caption>\n",
       "<thead>\n",
       "\t<tr><th scope=col>HAN_ID</th><th scope=col>HARM_ID</th><th scope=col>Appln_id</th><th scope=col>Publn_auth</th><th scope=col>Patent_number</th><th scope=col>granted</th><th scope=col>pub_date</th><th scope=col>appln_number</th><th scope=col>kind_code</th><th scope=col>date</th><th scope=col>year</th></tr>\n",
       "\t<tr><th scope=col>&lt;int&gt;</th><th scope=col>&lt;int&gt;</th><th scope=col>&lt;int&gt;</th><th scope=col>&lt;chr&gt;</th><th scope=col>&lt;chr&gt;</th><th scope=col>&lt;int&gt;</th><th scope=col>&lt;chr&gt;</th><th scope=col>&lt;chr&gt;</th><th scope=col>&lt;chr&gt;</th><th scope=col>&lt;date&gt;</th><th scope=col>&lt;chr&gt;</th></tr>\n",
       "</thead>\n",
       "<tbody>\n",
       "\t<tr><td>60513</td><td>60513</td><td>156990</td><td>EP</td><td>EP1920908</td><td>1</td><td>Wed, 08 Apr 2015</td><td>07021377</td><td>B1</td><td>2015-04-08</td><td>2015</td></tr>\n",
       "\t<tr><td>60513</td><td>60513</td><td>161551</td><td>EP</td><td>EP1972896</td><td>1</td><td>Wed, 06 May 2015</td><td>08004318</td><td>B1</td><td>2015-05-06</td><td>2015</td></tr>\n",
       "\t<tr><td>60513</td><td>60513</td><td>173385</td><td>EP</td><td>EP2134522</td><td>1</td><td>Wed, 01 Mar 2017</td><td>08717791</td><td>B1</td><td>2017-03-01</td><td>2017</td></tr>\n",
       "\t<tr><td>60513</td><td>60513</td><td>173386</td><td>EP</td><td>EP2136979</td><td>1</td><td>Wed, 11 May 2016</td><td>08717792</td><td>B1</td><td>2016-05-11</td><td>2016</td></tr>\n",
       "\t<tr><td>60513</td><td>60513</td><td>188882</td><td>EP</td><td>EP1976108</td><td>1</td><td>Wed, 21 Oct 2020</td><td>08004255</td><td>B1</td><td>2020-10-21</td><td>2020</td></tr>\n",
       "\t<tr><td>60513</td><td>60513</td><td>357750</td><td>EP</td><td>EP2039604</td><td>1</td><td>Wed, 01 Mar 2017</td><td>08016066</td><td>B1</td><td>2017-03-01</td><td>2017</td></tr>\n",
       "</tbody>\n",
       "</table>\n"
      ],
      "text/latex": [
       "A data.table: 6 × 11\n",
       "\\begin{tabular}{lllllllllll}\n",
       " HAN\\_ID & HARM\\_ID & Appln\\_id & Publn\\_auth & Patent\\_number & granted & pub\\_date & appln\\_number & kind\\_code & date & year\\\\\n",
       " <int> & <int> & <int> & <chr> & <chr> & <int> & <chr> & <chr> & <chr> & <date> & <chr>\\\\\n",
       "\\hline\n",
       "\t 60513 & 60513 & 156990 & EP & EP1920908 & 1 & Wed, 08 Apr 2015 & 07021377 & B1 & 2015-04-08 & 2015\\\\\n",
       "\t 60513 & 60513 & 161551 & EP & EP1972896 & 1 & Wed, 06 May 2015 & 08004318 & B1 & 2015-05-06 & 2015\\\\\n",
       "\t 60513 & 60513 & 173385 & EP & EP2134522 & 1 & Wed, 01 Mar 2017 & 08717791 & B1 & 2017-03-01 & 2017\\\\\n",
       "\t 60513 & 60513 & 173386 & EP & EP2136979 & 1 & Wed, 11 May 2016 & 08717792 & B1 & 2016-05-11 & 2016\\\\\n",
       "\t 60513 & 60513 & 188882 & EP & EP1976108 & 1 & Wed, 21 Oct 2020 & 08004255 & B1 & 2020-10-21 & 2020\\\\\n",
       "\t 60513 & 60513 & 357750 & EP & EP2039604 & 1 & Wed, 01 Mar 2017 & 08016066 & B1 & 2017-03-01 & 2017\\\\\n",
       "\\end{tabular}\n"
      ],
      "text/markdown": [
       "\n",
       "A data.table: 6 × 11\n",
       "\n",
       "| HAN_ID &lt;int&gt; | HARM_ID &lt;int&gt; | Appln_id &lt;int&gt; | Publn_auth &lt;chr&gt; | Patent_number &lt;chr&gt; | granted &lt;int&gt; | pub_date &lt;chr&gt; | appln_number &lt;chr&gt; | kind_code &lt;chr&gt; | date &lt;date&gt; | year &lt;chr&gt; |\n",
       "|---|---|---|---|---|---|---|---|---|---|---|\n",
       "| 60513 | 60513 | 156990 | EP | EP1920908 | 1 | Wed, 08 Apr 2015 | 07021377 | B1 | 2015-04-08 | 2015 |\n",
       "| 60513 | 60513 | 161551 | EP | EP1972896 | 1 | Wed, 06 May 2015 | 08004318 | B1 | 2015-05-06 | 2015 |\n",
       "| 60513 | 60513 | 173385 | EP | EP2134522 | 1 | Wed, 01 Mar 2017 | 08717791 | B1 | 2017-03-01 | 2017 |\n",
       "| 60513 | 60513 | 173386 | EP | EP2136979 | 1 | Wed, 11 May 2016 | 08717792 | B1 | 2016-05-11 | 2016 |\n",
       "| 60513 | 60513 | 188882 | EP | EP1976108 | 1 | Wed, 21 Oct 2020 | 08004255 | B1 | 2020-10-21 | 2020 |\n",
       "| 60513 | 60513 | 357750 | EP | EP2039604 | 1 | Wed, 01 Mar 2017 | 08016066 | B1 | 2017-03-01 | 2017 |\n",
       "\n"
      ],
      "text/plain": [
       "  HAN_ID HARM_ID Appln_id Publn_auth Patent_number granted pub_date        \n",
       "1 60513  60513   156990   EP         EP1920908     1       Wed, 08 Apr 2015\n",
       "2 60513  60513   161551   EP         EP1972896     1       Wed, 06 May 2015\n",
       "3 60513  60513   173385   EP         EP2134522     1       Wed, 01 Mar 2017\n",
       "4 60513  60513   173386   EP         EP2136979     1       Wed, 11 May 2016\n",
       "5 60513  60513   188882   EP         EP1976108     1       Wed, 21 Oct 2020\n",
       "6 60513  60513   357750   EP         EP2039604     1       Wed, 01 Mar 2017\n",
       "  appln_number kind_code date       year\n",
       "1 07021377     B1        2015-04-08 2015\n",
       "2 08004318     B1        2015-05-06 2015\n",
       "3 08717791     B1        2017-03-01 2017\n",
       "4 08717792     B1        2016-05-11 2016\n",
       "5 08004255     B1        2020-10-21 2020\n",
       "6 08016066     B1        2017-03-01 2017"
      ]
     },
     "metadata": {},
     "output_type": "display_data"
    }
   ],
   "source": [
    "head(airbus_granted_date)"
   ]
  },
  {
   "cell_type": "code",
   "execution_count": 153,
   "metadata": {
    "vscode": {
     "languageId": "r"
    }
   },
   "outputs": [
    {
     "data": {
      "text/html": [
       "<table class=\"dataframe\">\n",
       "<caption>A data.table: 10 × 2</caption>\n",
       "<thead>\n",
       "\t<tr><th scope=col>year</th><th scope=col>N</th></tr>\n",
       "\t<tr><th scope=col>&lt;chr&gt;</th><th scope=col>&lt;int&gt;</th></tr>\n",
       "</thead>\n",
       "<tbody>\n",
       "\t<tr><td>2015</td><td> 22</td></tr>\n",
       "\t<tr><td>2017</td><td> 69</td></tr>\n",
       "\t<tr><td>2016</td><td> 54</td></tr>\n",
       "\t<tr><td>2020</td><td> 87</td></tr>\n",
       "\t<tr><td>2018</td><td> 91</td></tr>\n",
       "\t<tr><td>2019</td><td>114</td></tr>\n",
       "\t<tr><td>2021</td><td> 48</td></tr>\n",
       "\t<tr><td>2014</td><td>  6</td></tr>\n",
       "\t<tr><td>2022</td><td> 43</td></tr>\n",
       "\t<tr><td>2023</td><td>  4</td></tr>\n",
       "</tbody>\n",
       "</table>\n"
      ],
      "text/latex": [
       "A data.table: 10 × 2\n",
       "\\begin{tabular}{ll}\n",
       " year & N\\\\\n",
       " <chr> & <int>\\\\\n",
       "\\hline\n",
       "\t 2015 &  22\\\\\n",
       "\t 2017 &  69\\\\\n",
       "\t 2016 &  54\\\\\n",
       "\t 2020 &  87\\\\\n",
       "\t 2018 &  91\\\\\n",
       "\t 2019 & 114\\\\\n",
       "\t 2021 &  48\\\\\n",
       "\t 2014 &   6\\\\\n",
       "\t 2022 &  43\\\\\n",
       "\t 2023 &   4\\\\\n",
       "\\end{tabular}\n"
      ],
      "text/markdown": [
       "\n",
       "A data.table: 10 × 2\n",
       "\n",
       "| year &lt;chr&gt; | N &lt;int&gt; |\n",
       "|---|---|\n",
       "| 2015 |  22 |\n",
       "| 2017 |  69 |\n",
       "| 2016 |  54 |\n",
       "| 2020 |  87 |\n",
       "| 2018 |  91 |\n",
       "| 2019 | 114 |\n",
       "| 2021 |  48 |\n",
       "| 2014 |   6 |\n",
       "| 2022 |  43 |\n",
       "| 2023 |   4 |\n",
       "\n"
      ],
      "text/plain": [
       "   year N  \n",
       "1  2015  22\n",
       "2  2017  69\n",
       "3  2016  54\n",
       "4  2020  87\n",
       "5  2018  91\n",
       "6  2019 114\n",
       "7  2021  48\n",
       "8  2014   6\n",
       "9  2022  43\n",
       "10 2023   4"
      ]
     },
     "metadata": {},
     "output_type": "display_data"
    }
   ],
   "source": [
    "airbus_granted_date %>%\n",
    "    .[, .N, by=year]"
   ]
  },
  {
   "cell_type": "code",
   "execution_count": 20,
   "metadata": {
    "vscode": {
     "languageId": "r"
    }
   },
   "outputs": [
    {
     "name": "stderr",
     "output_type": "stream",
     "text": [
      "\u001b[1mRows: \u001b[22m\u001b[34m8\u001b[39m \u001b[1mColumns: \u001b[22m\u001b[34m2\u001b[39m\n",
      "\u001b[36m──\u001b[39m \u001b[1mColumn specification\u001b[22m \u001b[36m────────────────────────────────────────────────────────\u001b[39m\n",
      "\u001b[1mDelimiter:\u001b[22m \",\"\n",
      "\u001b[31mchr\u001b[39m (1): ipc_top\n",
      "\u001b[32mdbl\u001b[39m (1): frequency\n",
      "\n",
      "\u001b[36mℹ\u001b[39m Use `spec()` to retrieve the full column specification for this data.\n",
      "\u001b[36mℹ\u001b[39m Specify the column types or set `show_col_types = FALSE` to quiet this message.\n"
     ]
    },
    {
     "data": {
      "text/html": [
       "<table class=\"dataframe\">\n",
       "<caption>A spec_tbl_df: 8 × 2</caption>\n",
       "<thead>\n",
       "\t<tr><th scope=col>ipc_top</th><th scope=col>frequency</th></tr>\n",
       "\t<tr><th scope=col>&lt;chr&gt;</th><th scope=col>&lt;dbl&gt;</th></tr>\n",
       "</thead>\n",
       "<tbody>\n",
       "\t<tr><td>B</td><td>745</td></tr>\n",
       "\t<tr><td>H</td><td>356</td></tr>\n",
       "\t<tr><td>G</td><td>340</td></tr>\n",
       "\t<tr><td>C</td><td>152</td></tr>\n",
       "\t<tr><td>F</td><td>115</td></tr>\n",
       "\t<tr><td>A</td><td> 31</td></tr>\n",
       "\t<tr><td>D</td><td> 15</td></tr>\n",
       "\t<tr><td>E</td><td>  9</td></tr>\n",
       "</tbody>\n",
       "</table>\n"
      ],
      "text/latex": [
       "A spec\\_tbl\\_df: 8 × 2\n",
       "\\begin{tabular}{ll}\n",
       " ipc\\_top & frequency\\\\\n",
       " <chr> & <dbl>\\\\\n",
       "\\hline\n",
       "\t B & 745\\\\\n",
       "\t H & 356\\\\\n",
       "\t G & 340\\\\\n",
       "\t C & 152\\\\\n",
       "\t F & 115\\\\\n",
       "\t A &  31\\\\\n",
       "\t D &  15\\\\\n",
       "\t E &   9\\\\\n",
       "\\end{tabular}\n"
      ],
      "text/markdown": [
       "\n",
       "A spec_tbl_df: 8 × 2\n",
       "\n",
       "| ipc_top &lt;chr&gt; | frequency &lt;dbl&gt; |\n",
       "|---|---|\n",
       "| B | 745 |\n",
       "| H | 356 |\n",
       "| G | 340 |\n",
       "| C | 152 |\n",
       "| F | 115 |\n",
       "| A |  31 |\n",
       "| D |  15 |\n",
       "| E |   9 |\n",
       "\n"
      ],
      "text/plain": [
       "  ipc_top frequency\n",
       "1 B       745      \n",
       "2 H       356      \n",
       "3 G       340      \n",
       "4 C       152      \n",
       "5 F       115      \n",
       "6 A        31      \n",
       "7 D        15      \n",
       "8 E         9      "
      ]
     },
     "metadata": {},
     "output_type": "display_data"
    }
   ],
   "source": [
    "foo <- read_csv('work/notebooks/patent/temp.csv')\n",
    "foo"
   ]
  },
  {
   "cell_type": "code",
   "execution_count": 46,
   "metadata": {
    "vscode": {
     "languageId": "r"
    }
   },
   "outputs": [
    {
     "data": {
      "application/pdf": "[encoded data removed]",
      "image/jpeg": "[encoded data removed]",
      "image/png": "[encoded data removed]",
      "image/svg+xml": "<?xml version=\"1.0\" encoding=\"UTF-8\"?>\n<svg xmlns=\"http://www.w3.org/2000/svg\" xmlns:xlink=\"http://www.w3.org/1999/xlink\" width=\"432pt\" height=\"216pt\" viewBox=\"0 0 432 216\" version=\"1.1\">\n<defs>\n<g>\n<symbol overflow=\"visible\" id=\"glyph0-0\">\n<path style=\"stroke:none;\" d=\"M 0.390625 0 L 0.390625 -7.703125 L 3.453125 -7.703125 L 3.453125 0 Z M 0.765625 -0.390625 L 3.0625 -0.390625 L 3.0625 -7.3125 L 0.765625 -7.3125 Z M 0.765625 -0.390625 \"/>\n</symbol>\n<symbol overflow=\"visible\" id=\"glyph0-1\">\n<path style=\"stroke:none;\" d=\"M 5.84375 -7.125 C 5.445312 -6.507812 5.078125 -5.921875 4.734375 -5.359375 C 4.398438 -4.796875 4.113281 -4.226562 3.875 -3.65625 C 3.632812 -3.09375 3.445312 -2.507812 3.3125 -1.90625 C 3.1875 -1.3125 3.125 -0.675781 3.125 0 L 2.0625 0 C 2.0625 -0.632812 2.132812 -1.253906 2.28125 -1.859375 C 2.4375 -2.472656 2.640625 -3.070312 2.890625 -3.65625 C 3.148438 -4.25 3.445312 -4.828125 3.78125 -5.390625 C 4.125 -5.960938 4.484375 -6.523438 4.859375 -7.078125 L 0.59375 -7.078125 L 0.59375 -7.9375 L 5.84375 -7.9375 Z M 5.84375 -7.125 \"/>\n</symbol>\n<symbol overflow=\"visible\" id=\"glyph0-2\">\n<path style=\"stroke:none;\" d=\"M 4.96875 -1.796875 L 4.96875 0 L 4.015625 0 L 4.015625 -1.796875 L 0.265625 -1.796875 L 0.265625 -2.59375 L 3.90625 -7.9375 L 4.96875 -7.9375 L 4.96875 -2.59375 L 6.078125 -2.59375 L 6.078125 -1.796875 Z M 4.015625 -6.796875 C 4.003906 -6.773438 3.984375 -6.738281 3.953125 -6.6875 C 3.921875 -6.632812 3.882812 -6.570312 3.84375 -6.5 C 3.8125 -6.4375 3.773438 -6.367188 3.734375 -6.296875 C 3.691406 -6.234375 3.65625 -6.175781 3.625 -6.125 L 1.59375 -3.125 C 1.570312 -3.09375 1.539062 -3.050781 1.5 -3 C 1.46875 -2.957031 1.429688 -2.910156 1.390625 -2.859375 C 1.359375 -2.804688 1.320312 -2.753906 1.28125 -2.703125 C 1.25 -2.660156 1.222656 -2.625 1.203125 -2.59375 L 4.015625 -2.59375 Z M 4.015625 -6.796875 \"/>\n</symbol>\n<symbol overflow=\"visible\" id=\"glyph0-3\">\n<path style=\"stroke:none;\" d=\"M 5.9375 -2.59375 C 5.9375 -2.1875 5.875 -1.816406 5.75 -1.484375 C 5.632812 -1.160156 5.457031 -0.878906 5.21875 -0.640625 C 4.976562 -0.398438 4.679688 -0.210938 4.328125 -0.078125 C 3.984375 0.046875 3.582031 0.109375 3.125 0.109375 C 2.695312 0.109375 2.328125 0.0625 2.015625 -0.03125 C 1.710938 -0.132812 1.453125 -0.269531 1.234375 -0.4375 C 1.023438 -0.601562 0.859375 -0.800781 0.734375 -1.03125 C 0.609375 -1.257812 0.519531 -1.507812 0.46875 -1.78125 L 1.484375 -1.890625 C 1.523438 -1.742188 1.582031 -1.597656 1.65625 -1.453125 C 1.738281 -1.316406 1.84375 -1.191406 1.96875 -1.078125 C 2.101562 -0.960938 2.265625 -0.875 2.453125 -0.8125 C 2.640625 -0.75 2.867188 -0.71875 3.140625 -0.71875 C 3.398438 -0.71875 3.632812 -0.753906 3.84375 -0.828125 C 4.0625 -0.910156 4.25 -1.03125 4.40625 -1.1875 C 4.5625 -1.351562 4.675781 -1.550781 4.75 -1.78125 C 4.832031 -2.007812 4.875 -2.269531 4.875 -2.5625 C 4.875 -2.8125 4.832031 -3.035156 4.75 -3.234375 C 4.675781 -3.441406 4.566406 -3.617188 4.421875 -3.765625 C 4.273438 -3.910156 4.09375 -4.023438 3.875 -4.109375 C 3.664062 -4.191406 3.425781 -4.234375 3.15625 -4.234375 C 2.988281 -4.234375 2.832031 -4.21875 2.6875 -4.1875 C 2.550781 -4.164062 2.421875 -4.125 2.296875 -4.0625 C 2.171875 -4.007812 2.054688 -3.945312 1.953125 -3.875 C 1.859375 -3.8125 1.769531 -3.742188 1.6875 -3.671875 L 0.6875 -3.671875 L 0.953125 -7.9375 L 5.46875 -7.9375 L 5.46875 -7.078125 L 1.890625 -7.078125 L 1.734375 -4.5625 C 1.910156 -4.695312 2.132812 -4.8125 2.40625 -4.90625 C 2.675781 -5.007812 3 -5.0625 3.375 -5.0625 C 3.769531 -5.0625 4.125 -5 4.4375 -4.875 C 4.75 -4.757812 5.015625 -4.59375 5.234375 -4.375 C 5.460938 -4.15625 5.632812 -3.894531 5.75 -3.59375 C 5.875 -3.289062 5.9375 -2.957031 5.9375 -2.59375 Z M 5.9375 -2.59375 \"/>\n</symbol>\n<symbol overflow=\"visible\" id=\"glyph0-4\">\n<path style=\"stroke:none;\" d=\"M 5.921875 -2.1875 C 5.921875 -1.820312 5.859375 -1.5 5.734375 -1.21875 C 5.617188 -0.9375 5.445312 -0.695312 5.21875 -0.5 C 4.988281 -0.300781 4.707031 -0.148438 4.375 -0.046875 C 4.039062 0.0546875 3.65625 0.109375 3.21875 0.109375 C 2.726562 0.109375 2.3125 0.0507812 1.96875 -0.0625 C 1.632812 -0.1875 1.359375 -0.347656 1.140625 -0.546875 C 0.921875 -0.753906 0.753906 -0.984375 0.640625 -1.234375 C 0.535156 -1.492188 0.46875 -1.765625 0.4375 -2.046875 L 1.484375 -2.140625 C 1.515625 -1.929688 1.570312 -1.738281 1.65625 -1.5625 C 1.738281 -1.382812 1.847656 -1.234375 1.984375 -1.109375 C 2.117188 -0.992188 2.285156 -0.898438 2.484375 -0.828125 C 2.691406 -0.765625 2.9375 -0.734375 3.21875 -0.734375 C 3.726562 -0.734375 4.128906 -0.859375 4.421875 -1.109375 C 4.710938 -1.359375 4.859375 -1.734375 4.859375 -2.234375 C 4.859375 -2.523438 4.789062 -2.757812 4.65625 -2.9375 C 4.53125 -3.113281 4.367188 -3.25 4.171875 -3.34375 C 3.984375 -3.445312 3.773438 -3.515625 3.546875 -3.546875 C 3.316406 -3.585938 3.109375 -3.609375 2.921875 -3.609375 L 2.34375 -3.609375 L 2.34375 -4.484375 L 2.890625 -4.484375 C 3.085938 -4.484375 3.289062 -4.5 3.5 -4.53125 C 3.707031 -4.570312 3.894531 -4.644531 4.0625 -4.75 C 4.226562 -4.851562 4.367188 -4.992188 4.484375 -5.171875 C 4.597656 -5.347656 4.65625 -5.578125 4.65625 -5.859375 C 4.65625 -6.273438 4.53125 -6.609375 4.28125 -6.859375 C 4.03125 -7.109375 3.65625 -7.234375 3.15625 -7.234375 C 2.707031 -7.234375 2.34375 -7.117188 2.0625 -6.890625 C 1.789062 -6.660156 1.632812 -6.335938 1.59375 -5.921875 L 0.578125 -6 C 0.617188 -6.34375 0.710938 -6.644531 0.859375 -6.90625 C 1.015625 -7.164062 1.207031 -7.378906 1.4375 -7.546875 C 1.664062 -7.722656 1.925781 -7.851562 2.21875 -7.9375 C 2.519531 -8.019531 2.835938 -8.0625 3.171875 -8.0625 C 3.617188 -8.0625 4 -8.003906 4.3125 -7.890625 C 4.632812 -7.785156 4.894531 -7.632812 5.09375 -7.4375 C 5.300781 -7.25 5.453125 -7.023438 5.546875 -6.765625 C 5.640625 -6.515625 5.6875 -6.242188 5.6875 -5.953125 C 5.6875 -5.722656 5.65625 -5.503906 5.59375 -5.296875 C 5.53125 -5.097656 5.429688 -4.914062 5.296875 -4.75 C 5.160156 -4.59375 4.988281 -4.457031 4.78125 -4.34375 C 4.570312 -4.226562 4.320312 -4.140625 4.03125 -4.078125 L 4.03125 -4.046875 C 4.351562 -4.015625 4.628906 -3.941406 4.859375 -3.828125 C 5.097656 -3.722656 5.296875 -3.585938 5.453125 -3.421875 C 5.609375 -3.253906 5.722656 -3.066406 5.796875 -2.859375 C 5.878906 -2.648438 5.921875 -2.425781 5.921875 -2.1875 Z M 5.921875 -2.1875 \"/>\n</symbol>\n<symbol overflow=\"visible\" id=\"glyph0-5\">\n<path style=\"stroke:none;\" d=\"M 5.921875 -2.59375 C 5.921875 -2.195312 5.863281 -1.832031 5.75 -1.5 C 5.632812 -1.164062 5.46875 -0.878906 5.25 -0.640625 C 5.039062 -0.398438 4.773438 -0.210938 4.453125 -0.078125 C 4.128906 0.046875 3.757812 0.109375 3.34375 0.109375 C 2.882812 0.109375 2.484375 0.0195312 2.140625 -0.15625 C 1.796875 -0.332031 1.507812 -0.585938 1.28125 -0.921875 C 1.050781 -1.253906 0.878906 -1.660156 0.765625 -2.140625 C 0.648438 -2.617188 0.59375 -3.164062 0.59375 -3.78125 C 0.59375 -4.488281 0.65625 -5.109375 0.78125 -5.640625 C 0.90625 -6.179688 1.085938 -6.628906 1.328125 -6.984375 C 1.578125 -7.335938 1.878906 -7.601562 2.234375 -7.78125 C 2.585938 -7.96875 2.984375 -8.0625 3.421875 -8.0625 C 3.691406 -8.0625 3.945312 -8.03125 4.1875 -7.96875 C 4.425781 -7.914062 4.640625 -7.828125 4.828125 -7.703125 C 5.023438 -7.578125 5.195312 -7.410156 5.34375 -7.203125 C 5.488281 -6.992188 5.601562 -6.738281 5.6875 -6.4375 L 4.71875 -6.265625 C 4.613281 -6.609375 4.445312 -6.851562 4.21875 -7 C 3.988281 -7.15625 3.722656 -7.234375 3.421875 -7.234375 C 3.140625 -7.234375 2.882812 -7.164062 2.65625 -7.03125 C 2.4375 -6.90625 2.242188 -6.710938 2.078125 -6.453125 C 1.921875 -6.191406 1.800781 -5.863281 1.71875 -5.46875 C 1.632812 -5.070312 1.59375 -4.613281 1.59375 -4.09375 C 1.78125 -4.425781 2.039062 -4.679688 2.375 -4.859375 C 2.707031 -5.046875 3.09375 -5.140625 3.53125 -5.140625 C 3.882812 -5.140625 4.207031 -5.078125 4.5 -4.953125 C 4.789062 -4.835938 5.039062 -4.671875 5.25 -4.453125 C 5.46875 -4.234375 5.632812 -3.96875 5.75 -3.65625 C 5.863281 -3.34375 5.921875 -2.988281 5.921875 -2.59375 Z M 4.875 -2.546875 C 4.875 -2.828125 4.835938 -3.078125 4.765625 -3.296875 C 4.703125 -3.515625 4.601562 -3.703125 4.46875 -3.859375 C 4.34375 -4.015625 4.175781 -4.132812 3.96875 -4.21875 C 3.769531 -4.3125 3.539062 -4.359375 3.28125 -4.359375 C 3.09375 -4.359375 2.90625 -4.328125 2.71875 -4.265625 C 2.53125 -4.210938 2.359375 -4.125 2.203125 -4 C 2.054688 -3.882812 1.9375 -3.722656 1.84375 -3.515625 C 1.75 -3.316406 1.703125 -3.078125 1.703125 -2.796875 C 1.703125 -2.503906 1.738281 -2.226562 1.8125 -1.96875 C 1.882812 -1.71875 1.988281 -1.5 2.125 -1.3125 C 2.269531 -1.125 2.441406 -0.972656 2.640625 -0.859375 C 2.835938 -0.753906 3.0625 -0.703125 3.3125 -0.703125 C 3.5625 -0.703125 3.78125 -0.742188 3.96875 -0.828125 C 4.164062 -0.910156 4.332031 -1.03125 4.46875 -1.1875 C 4.601562 -1.351562 4.703125 -1.550781 4.765625 -1.78125 C 4.835938 -2.007812 4.875 -2.265625 4.875 -2.546875 Z M 4.875 -2.546875 \"/>\n</symbol>\n<symbol overflow=\"visible\" id=\"glyph0-6\">\n<path style=\"stroke:none;\" d=\"M 5.96875 -3.96875 C 5.96875 -3.207031 5.894531 -2.566406 5.75 -2.046875 C 5.601562 -1.523438 5.40625 -1.101562 5.15625 -0.78125 C 4.90625 -0.457031 4.609375 -0.226562 4.265625 -0.09375 C 3.929688 0.0390625 3.578125 0.109375 3.203125 0.109375 C 2.804688 0.109375 2.441406 0.0390625 2.109375 -0.09375 C 1.773438 -0.226562 1.484375 -0.457031 1.234375 -0.78125 C 0.992188 -1.101562 0.800781 -1.523438 0.65625 -2.046875 C 0.519531 -2.566406 0.453125 -3.207031 0.453125 -3.96875 C 0.453125 -4.769531 0.519531 -5.429688 0.65625 -5.953125 C 0.800781 -6.484375 1 -6.90625 1.25 -7.21875 C 1.5 -7.53125 1.789062 -7.75 2.125 -7.875 C 2.46875 -8 2.835938 -8.0625 3.234375 -8.0625 C 3.609375 -8.0625 3.960938 -8 4.296875 -7.875 C 4.628906 -7.75 4.921875 -7.53125 5.171875 -7.21875 C 5.421875 -6.90625 5.613281 -6.484375 5.75 -5.953125 C 5.894531 -5.429688 5.96875 -4.769531 5.96875 -3.96875 Z M 4.9375 -3.96875 C 4.9375 -4.601562 4.898438 -5.128906 4.828125 -5.546875 C 4.753906 -5.960938 4.644531 -6.296875 4.5 -6.546875 C 4.351562 -6.796875 4.171875 -6.972656 3.953125 -7.078125 C 3.742188 -7.179688 3.503906 -7.234375 3.234375 -7.234375 C 2.941406 -7.234375 2.6875 -7.179688 2.46875 -7.078125 C 2.25 -6.972656 2.066406 -6.796875 1.921875 -6.546875 C 1.773438 -6.296875 1.664062 -5.960938 1.59375 -5.546875 C 1.519531 -5.128906 1.484375 -4.601562 1.484375 -3.96875 C 1.484375 -3.363281 1.519531 -2.851562 1.59375 -2.4375 C 1.664062 -2.019531 1.773438 -1.679688 1.921875 -1.421875 C 2.078125 -1.171875 2.257812 -0.988281 2.46875 -0.875 C 2.6875 -0.769531 2.929688 -0.71875 3.203125 -0.71875 C 3.472656 -0.71875 3.710938 -0.769531 3.921875 -0.875 C 4.140625 -0.988281 4.320312 -1.171875 4.46875 -1.421875 C 4.625 -1.679688 4.738281 -2.019531 4.8125 -2.4375 C 4.894531 -2.851562 4.9375 -3.363281 4.9375 -3.96875 Z M 4.9375 -3.96875 \"/>\n</symbol>\n<symbol overflow=\"visible\" id=\"glyph0-7\">\n<path style=\"stroke:none;\" d=\"M 0.875 0 L 0.875 -0.859375 L 2.90625 -0.859375 L 2.90625 -6.96875 L 1.109375 -5.6875 L 1.109375 -6.65625 L 2.984375 -7.9375 L 3.921875 -7.9375 L 3.921875 -0.859375 L 5.859375 -0.859375 L 5.859375 0 Z M 0.875 0 \"/>\n</symbol>\n<symbol overflow=\"visible\" id=\"glyph0-8\">\n<path style=\"stroke:none;\" d=\"M 0.578125 0 L 0.578125 -0.71875 C 0.773438 -1.15625 1.007812 -1.539062 1.28125 -1.875 C 1.5625 -2.21875 1.851562 -2.523438 2.15625 -2.796875 C 2.457031 -3.066406 2.753906 -3.316406 3.046875 -3.546875 C 3.347656 -3.785156 3.617188 -4.019531 3.859375 -4.25 C 4.109375 -4.476562 4.304688 -4.722656 4.453125 -4.984375 C 4.597656 -5.242188 4.671875 -5.535156 4.671875 -5.859375 C 4.671875 -6.078125 4.632812 -6.269531 4.5625 -6.4375 C 4.5 -6.613281 4.40625 -6.757812 4.28125 -6.875 C 4.15625 -6.988281 4 -7.078125 3.8125 -7.140625 C 3.632812 -7.203125 3.4375 -7.234375 3.21875 -7.234375 C 3.019531 -7.234375 2.832031 -7.203125 2.65625 -7.140625 C 2.476562 -7.085938 2.316406 -7.003906 2.171875 -6.890625 C 2.035156 -6.773438 1.921875 -6.632812 1.828125 -6.46875 C 1.742188 -6.300781 1.6875 -6.109375 1.65625 -5.890625 L 0.625 -5.984375 C 0.65625 -6.265625 0.734375 -6.53125 0.859375 -6.78125 C 0.984375 -7.039062 1.15625 -7.265625 1.375 -7.453125 C 1.59375 -7.640625 1.851562 -7.785156 2.15625 -7.890625 C 2.46875 -8.003906 2.820312 -8.0625 3.21875 -8.0625 C 3.613281 -8.0625 3.960938 -8.015625 4.265625 -7.921875 C 4.578125 -7.828125 4.835938 -7.6875 5.046875 -7.5 C 5.265625 -7.320312 5.429688 -7.097656 5.546875 -6.828125 C 5.660156 -6.554688 5.71875 -6.242188 5.71875 -5.890625 C 5.71875 -5.617188 5.664062 -5.363281 5.5625 -5.125 C 5.46875 -4.882812 5.34375 -4.65625 5.1875 -4.4375 C 5.03125 -4.21875 4.84375 -4.003906 4.625 -3.796875 C 4.414062 -3.597656 4.195312 -3.398438 3.96875 -3.203125 C 3.738281 -3.015625 3.507812 -2.820312 3.28125 -2.625 C 3.050781 -2.4375 2.832031 -2.25 2.625 -2.0625 C 2.414062 -1.875 2.226562 -1.679688 2.0625 -1.484375 C 1.90625 -1.285156 1.785156 -1.078125 1.703125 -0.859375 L 5.84375 -0.859375 L 5.84375 0 Z M 0.578125 0 \"/>\n</symbol>\n<symbol overflow=\"visible\" id=\"glyph0-9\">\n<path style=\"stroke:none;\" d=\"M 5.875 -4.125 C 5.875 -3.425781 5.804688 -2.8125 5.671875 -2.28125 C 5.535156 -1.75 5.34375 -1.304688 5.09375 -0.953125 C 4.851562 -0.597656 4.554688 -0.332031 4.203125 -0.15625 C 3.847656 0.0195312 3.445312 0.109375 3 0.109375 C 2.695312 0.109375 2.421875 0.078125 2.171875 0.015625 C 1.929688 -0.046875 1.710938 -0.140625 1.515625 -0.265625 C 1.328125 -0.398438 1.164062 -0.570312 1.03125 -0.78125 C 0.894531 -0.988281 0.785156 -1.242188 0.703125 -1.546875 L 1.671875 -1.703125 C 1.773438 -1.359375 1.9375 -1.101562 2.15625 -0.9375 C 2.382812 -0.78125 2.671875 -0.703125 3.015625 -0.703125 C 3.285156 -0.703125 3.535156 -0.765625 3.765625 -0.890625 C 3.992188 -1.023438 4.1875 -1.222656 4.34375 -1.484375 C 4.507812 -1.742188 4.632812 -2.066406 4.71875 -2.453125 C 4.8125 -2.847656 4.863281 -3.304688 4.875 -3.828125 C 4.789062 -3.648438 4.679688 -3.492188 4.546875 -3.359375 C 4.410156 -3.222656 4.253906 -3.101562 4.078125 -3 C 3.898438 -2.90625 3.707031 -2.832031 3.5 -2.78125 C 3.300781 -2.738281 3.097656 -2.71875 2.890625 -2.71875 C 2.535156 -2.71875 2.210938 -2.78125 1.921875 -2.90625 C 1.628906 -3.03125 1.378906 -3.207031 1.171875 -3.4375 C 0.972656 -3.675781 0.816406 -3.957031 0.703125 -4.28125 C 0.597656 -4.613281 0.546875 -4.984375 0.546875 -5.390625 C 0.546875 -5.796875 0.601562 -6.164062 0.71875 -6.5 C 0.832031 -6.832031 1.003906 -7.113281 1.234375 -7.34375 C 1.460938 -7.570312 1.738281 -7.75 2.0625 -7.875 C 2.394531 -8 2.769531 -8.0625 3.1875 -8.0625 C 4.070312 -8.0625 4.738281 -7.734375 5.1875 -7.078125 C 5.644531 -6.421875 5.875 -5.4375 5.875 -4.125 Z M 4.765625 -5.109375 C 4.765625 -5.398438 4.726562 -5.675781 4.65625 -5.9375 C 4.59375 -6.195312 4.492188 -6.421875 4.359375 -6.609375 C 4.222656 -6.804688 4.050781 -6.957031 3.84375 -7.0625 C 3.644531 -7.175781 3.414062 -7.234375 3.15625 -7.234375 C 2.90625 -7.234375 2.679688 -7.191406 2.484375 -7.109375 C 2.296875 -7.023438 2.132812 -6.898438 2 -6.734375 C 1.863281 -6.578125 1.757812 -6.382812 1.6875 -6.15625 C 1.613281 -5.925781 1.578125 -5.671875 1.578125 -5.390625 C 1.578125 -5.117188 1.609375 -4.867188 1.671875 -4.640625 C 1.734375 -4.410156 1.832031 -4.210938 1.96875 -4.046875 C 2.101562 -3.878906 2.265625 -3.75 2.453125 -3.65625 C 2.648438 -3.5625 2.878906 -3.515625 3.140625 -3.515625 C 3.328125 -3.515625 3.515625 -3.546875 3.703125 -3.609375 C 3.898438 -3.671875 4.078125 -3.765625 4.234375 -3.890625 C 4.390625 -4.023438 4.515625 -4.191406 4.609375 -4.390625 C 4.710938 -4.597656 4.765625 -4.835938 4.765625 -5.109375 Z M 4.765625 -5.109375 \"/>\n</symbol>\n<symbol overflow=\"visible\" id=\"glyph1-0\">\n<path style=\"stroke:none;\" d=\"M 0.34375 0 L 0.34375 -7 L 3.140625 -7 L 3.140625 0 Z M 0.703125 -0.34375 L 2.796875 -0.34375 L 2.796875 -6.65625 L 0.703125 -6.65625 Z M 0.703125 -0.34375 \"/>\n</symbol>\n<symbol overflow=\"visible\" id=\"glyph1-1\">\n<path style=\"stroke:none;\" d=\"M 5.40625 -3.609375 C 5.40625 -2.921875 5.34375 -2.335938 5.21875 -1.859375 C 5.09375 -1.390625 4.914062 -1.007812 4.6875 -0.71875 C 4.46875 -0.425781 4.203125 -0.210938 3.890625 -0.078125 C 3.585938 0.046875 3.253906 0.109375 2.890625 0.109375 C 2.535156 0.109375 2.203125 0.046875 1.890625 -0.078125 C 1.585938 -0.210938 1.328125 -0.425781 1.109375 -0.71875 C 0.890625 -1.007812 0.71875 -1.390625 0.59375 -1.859375 C 0.476562 -2.335938 0.421875 -2.921875 0.421875 -3.609375 C 0.421875 -4.335938 0.476562 -4.941406 0.59375 -5.421875 C 0.71875 -5.898438 0.890625 -6.28125 1.109375 -6.5625 C 1.335938 -6.84375 1.601562 -7.039062 1.90625 -7.15625 C 2.21875 -7.269531 2.5625 -7.328125 2.9375 -7.328125 C 3.289062 -7.328125 3.617188 -7.269531 3.921875 -7.15625 C 4.222656 -7.039062 4.484375 -6.84375 4.703125 -6.5625 C 4.921875 -6.28125 5.09375 -5.898438 5.21875 -5.421875 C 5.34375 -4.941406 5.40625 -4.335938 5.40625 -3.609375 Z M 3.96875 -3.609375 C 3.96875 -4.117188 3.945312 -4.539062 3.90625 -4.875 C 3.863281 -5.207031 3.800781 -5.472656 3.71875 -5.671875 C 3.644531 -5.867188 3.539062 -6.003906 3.40625 -6.078125 C 3.269531 -6.160156 3.109375 -6.203125 2.921875 -6.203125 C 2.722656 -6.203125 2.554688 -6.160156 2.421875 -6.078125 C 2.285156 -6.003906 2.175781 -5.867188 2.09375 -5.671875 C 2.007812 -5.472656 1.945312 -5.207031 1.90625 -4.875 C 1.875 -4.539062 1.859375 -4.117188 1.859375 -3.609375 C 1.859375 -3.117188 1.875 -2.707031 1.90625 -2.375 C 1.945312 -2.039062 2.007812 -1.773438 2.09375 -1.578125 C 2.175781 -1.378906 2.28125 -1.238281 2.40625 -1.15625 C 2.539062 -1.070312 2.707031 -1.03125 2.90625 -1.03125 C 3.09375 -1.03125 3.253906 -1.070312 3.390625 -1.15625 C 3.523438 -1.238281 3.632812 -1.378906 3.71875 -1.578125 C 3.800781 -1.773438 3.863281 -2.039062 3.90625 -2.375 C 3.945312 -2.707031 3.96875 -3.117188 3.96875 -3.609375 Z M 3.96875 -3.609375 \"/>\n</symbol>\n<symbol overflow=\"visible\" id=\"glyph1-2\">\n<path style=\"stroke:none;\" d=\"M 0.359375 0 L 0.359375 -1 C 0.523438 -1.351562 0.722656 -1.675781 0.953125 -1.96875 C 1.191406 -2.257812 1.441406 -2.523438 1.703125 -2.765625 C 1.960938 -3.003906 2.21875 -3.226562 2.46875 -3.4375 C 2.726562 -3.644531 2.957031 -3.84375 3.15625 -4.03125 C 3.363281 -4.226562 3.53125 -4.421875 3.65625 -4.609375 C 3.78125 -4.804688 3.84375 -5.015625 3.84375 -5.234375 C 3.84375 -5.554688 3.757812 -5.796875 3.59375 -5.953125 C 3.4375 -6.109375 3.203125 -6.1875 2.890625 -6.1875 C 2.585938 -6.1875 2.351562 -6.101562 2.1875 -5.9375 C 2.03125 -5.769531 1.925781 -5.519531 1.875 -5.1875 L 0.421875 -5.265625 C 0.460938 -5.554688 0.535156 -5.820312 0.640625 -6.0625 C 0.742188 -6.3125 0.894531 -6.53125 1.09375 -6.71875 C 1.289062 -6.914062 1.535156 -7.066406 1.828125 -7.171875 C 2.117188 -7.273438 2.472656 -7.328125 2.890625 -7.328125 C 3.273438 -7.328125 3.617188 -7.28125 3.921875 -7.1875 C 4.222656 -7.101562 4.472656 -6.972656 4.671875 -6.796875 C 4.878906 -6.617188 5.035156 -6.40625 5.140625 -6.15625 C 5.253906 -5.90625 5.3125 -5.617188 5.3125 -5.296875 C 5.3125 -4.960938 5.242188 -4.65625 5.109375 -4.375 C 4.972656 -4.101562 4.800781 -3.851562 4.59375 -3.625 C 4.382812 -3.394531 4.148438 -3.175781 3.890625 -2.96875 C 3.640625 -2.769531 3.394531 -2.578125 3.15625 -2.390625 C 2.914062 -2.203125 2.695312 -2.007812 2.5 -1.8125 C 2.300781 -1.613281 2.15625 -1.40625 2.0625 -1.1875 L 5.421875 -1.1875 L 5.421875 0 Z M 0.359375 0 \"/>\n</symbol>\n<symbol overflow=\"visible\" id=\"glyph1-3\">\n<path style=\"stroke:none;\" d=\"M 5.546875 -2.40625 C 5.546875 -2.039062 5.488281 -1.703125 5.375 -1.390625 C 5.257812 -1.085938 5.085938 -0.820312 4.859375 -0.59375 C 4.640625 -0.375 4.363281 -0.203125 4.03125 -0.078125 C 3.695312 0.046875 3.3125 0.109375 2.875 0.109375 C 2.46875 0.109375 2.113281 0.0625 1.8125 -0.03125 C 1.507812 -0.132812 1.253906 -0.269531 1.046875 -0.4375 C 0.847656 -0.613281 0.6875 -0.816406 0.5625 -1.046875 C 0.445312 -1.285156 0.367188 -1.539062 0.328125 -1.8125 L 1.765625 -1.921875 C 1.796875 -1.804688 1.832031 -1.695312 1.875 -1.59375 C 1.925781 -1.488281 1.992188 -1.394531 2.078125 -1.3125 C 2.171875 -1.226562 2.28125 -1.160156 2.40625 -1.109375 C 2.539062 -1.066406 2.703125 -1.046875 2.890625 -1.046875 C 3.242188 -1.046875 3.523438 -1.160156 3.734375 -1.390625 C 3.953125 -1.617188 4.0625 -1.945312 4.0625 -2.375 C 4.0625 -2.5625 4.035156 -2.734375 3.984375 -2.890625 C 3.929688 -3.046875 3.851562 -3.175781 3.75 -3.28125 C 3.65625 -3.394531 3.535156 -3.476562 3.390625 -3.53125 C 3.253906 -3.59375 3.097656 -3.625 2.921875 -3.625 C 2.679688 -3.625 2.484375 -3.578125 2.328125 -3.484375 C 2.171875 -3.398438 2.039062 -3.289062 1.9375 -3.15625 L 0.53125 -3.15625 L 0.78125 -7.21875 L 5.125 -7.21875 L 5.125 -6.15625 L 2.09375 -6.15625 L 1.96875 -4.328125 C 2.113281 -4.453125 2.296875 -4.554688 2.515625 -4.640625 C 2.734375 -4.734375 2.988281 -4.78125 3.28125 -4.78125 C 3.632812 -4.78125 3.953125 -4.722656 4.234375 -4.609375 C 4.515625 -4.492188 4.75 -4.332031 4.9375 -4.125 C 5.132812 -3.914062 5.285156 -3.664062 5.390625 -3.375 C 5.492188 -3.082031 5.546875 -2.757812 5.546875 -2.40625 Z M 5.546875 -2.40625 \"/>\n</symbol>\n<symbol overflow=\"visible\" id=\"glyph1-4\">\n<path style=\"stroke:none;\" d=\"M 5.375 -6.078125 C 5.050781 -5.566406 4.742188 -5.066406 4.453125 -4.578125 C 4.171875 -4.097656 3.921875 -3.613281 3.703125 -3.125 C 3.484375 -2.644531 3.3125 -2.144531 3.1875 -1.625 C 3.0625 -1.113281 3 -0.570312 3 0 L 1.5 0 C 1.5 -0.570312 1.566406 -1.113281 1.703125 -1.625 C 1.835938 -2.144531 2.019531 -2.644531 2.25 -3.125 C 2.488281 -3.613281 2.757812 -4.097656 3.0625 -4.578125 C 3.375 -5.054688 3.703125 -5.546875 4.046875 -6.046875 L 0.453125 -6.046875 L 0.453125 -7.21875 L 5.375 -7.21875 Z M 5.375 -6.078125 \"/>\n</symbol>\n<symbol overflow=\"visible\" id=\"glyph1-5\">\n<path style=\"stroke:none;\" d=\"M 7.109375 -2.0625 C 7.109375 -1.695312 7.035156 -1.382812 6.890625 -1.125 C 6.742188 -0.863281 6.539062 -0.648438 6.28125 -0.484375 C 6.03125 -0.316406 5.734375 -0.191406 5.390625 -0.109375 C 5.054688 -0.0351562 4.695312 0 4.3125 0 L 0.703125 0 L 0.703125 -7.21875 L 4.015625 -7.21875 C 4.441406 -7.21875 4.820312 -7.179688 5.15625 -7.109375 C 5.488281 -7.035156 5.769531 -6.921875 6 -6.765625 C 6.226562 -6.617188 6.398438 -6.429688 6.515625 -6.203125 C 6.628906 -5.984375 6.6875 -5.71875 6.6875 -5.40625 C 6.6875 -5 6.570312 -4.65625 6.34375 -4.375 C 6.125 -4.09375 5.78125 -3.898438 5.3125 -3.796875 C 5.894531 -3.734375 6.335938 -3.550781 6.640625 -3.25 C 6.953125 -2.945312 7.109375 -2.550781 7.109375 -2.0625 Z M 5.171875 -5.203125 C 5.171875 -5.523438 5.066406 -5.753906 4.859375 -5.890625 C 4.648438 -6.023438 4.34375 -6.09375 3.9375 -6.09375 L 2.21875 -6.09375 L 2.21875 -4.3125 L 3.953125 -4.3125 C 4.378906 -4.3125 4.6875 -4.382812 4.875 -4.53125 C 5.070312 -4.6875 5.171875 -4.910156 5.171875 -5.203125 Z M 5.59375 -2.171875 C 5.59375 -2.367188 5.550781 -2.53125 5.46875 -2.65625 C 5.394531 -2.789062 5.289062 -2.894531 5.15625 -2.96875 C 5.03125 -3.050781 4.878906 -3.109375 4.703125 -3.140625 C 4.523438 -3.171875 4.332031 -3.1875 4.125 -3.1875 L 2.21875 -3.1875 L 2.21875 -1.125 L 4.1875 -1.125 C 4.382812 -1.125 4.566406 -1.140625 4.734375 -1.171875 C 4.910156 -1.203125 5.0625 -1.257812 5.1875 -1.34375 C 5.3125 -1.425781 5.410156 -1.535156 5.484375 -1.671875 C 5.554688 -1.804688 5.59375 -1.972656 5.59375 -2.171875 Z M 5.59375 -2.171875 \"/>\n</symbol>\n<symbol overflow=\"visible\" id=\"glyph1-6\">\n<path style=\"stroke:none;\" d=\"M 5.359375 0 L 5.359375 -3.09375 L 2.21875 -3.09375 L 2.21875 0 L 0.703125 0 L 0.703125 -7.21875 L 2.21875 -7.21875 L 2.21875 -4.34375 L 5.359375 -4.34375 L 5.359375 -7.21875 L 6.875 -7.21875 L 6.875 0 Z M 5.359375 0 \"/>\n</symbol>\n<symbol overflow=\"visible\" id=\"glyph1-7\">\n<path style=\"stroke:none;\" d=\"M 4.125 -1.078125 C 4.34375 -1.078125 4.550781 -1.09375 4.75 -1.125 C 4.957031 -1.164062 5.144531 -1.210938 5.3125 -1.265625 C 5.488281 -1.328125 5.644531 -1.394531 5.78125 -1.46875 C 5.925781 -1.539062 6.039062 -1.613281 6.125 -1.6875 L 6.125 -2.6875 L 4.375 -2.6875 L 4.375 -3.8125 L 7.515625 -3.8125 L 7.515625 -1.15625 C 7.347656 -0.988281 7.148438 -0.828125 6.921875 -0.671875 C 6.691406 -0.523438 6.429688 -0.394531 6.140625 -0.28125 C 5.847656 -0.164062 5.53125 -0.0703125 5.1875 0 C 4.84375 0.0703125 4.476562 0.109375 4.09375 0.109375 C 3.445312 0.109375 2.894531 0.015625 2.4375 -0.171875 C 1.976562 -0.359375 1.597656 -0.617188 1.296875 -0.953125 C 1.003906 -1.285156 0.785156 -1.679688 0.640625 -2.140625 C 0.503906 -2.597656 0.4375 -3.097656 0.4375 -3.640625 C 0.4375 -4.203125 0.507812 -4.710938 0.65625 -5.171875 C 0.800781 -5.628906 1.023438 -6.015625 1.328125 -6.328125 C 1.640625 -6.648438 2.023438 -6.894531 2.484375 -7.0625 C 2.953125 -7.238281 3.5 -7.328125 4.125 -7.328125 C 4.582031 -7.328125 4.988281 -7.28125 5.34375 -7.1875 C 5.695312 -7.101562 6.003906 -6.976562 6.265625 -6.8125 C 6.535156 -6.65625 6.757812 -6.457031 6.9375 -6.21875 C 7.113281 -5.988281 7.253906 -5.734375 7.359375 -5.453125 L 5.96875 -5.03125 C 5.90625 -5.175781 5.820312 -5.316406 5.71875 -5.453125 C 5.613281 -5.585938 5.484375 -5.707031 5.328125 -5.8125 C 5.179688 -5.914062 5.007812 -5.992188 4.8125 -6.046875 C 4.613281 -6.109375 4.382812 -6.140625 4.125 -6.140625 C 3.75 -6.140625 3.425781 -6.078125 3.15625 -5.953125 C 2.882812 -5.835938 2.65625 -5.671875 2.46875 -5.453125 C 2.289062 -5.234375 2.160156 -4.972656 2.078125 -4.671875 C 1.992188 -4.367188 1.953125 -4.023438 1.953125 -3.640625 C 1.953125 -3.265625 1.992188 -2.921875 2.078125 -2.609375 C 2.171875 -2.296875 2.304688 -2.023438 2.484375 -1.796875 C 2.660156 -1.578125 2.882812 -1.398438 3.15625 -1.265625 C 3.4375 -1.140625 3.757812 -1.078125 4.125 -1.078125 Z M 4.125 -1.078125 \"/>\n</symbol>\n<symbol overflow=\"visible\" id=\"glyph1-8\">\n<path style=\"stroke:none;\" d=\"M 4.078125 -1.09375 C 4.359375 -1.09375 4.601562 -1.128906 4.8125 -1.203125 C 5.019531 -1.285156 5.195312 -1.390625 5.34375 -1.515625 C 5.5 -1.648438 5.625 -1.796875 5.71875 -1.953125 C 5.820312 -2.117188 5.910156 -2.289062 5.984375 -2.46875 L 7.296875 -1.96875 C 7.191406 -1.707031 7.050781 -1.453125 6.875 -1.203125 C 6.707031 -0.953125 6.492188 -0.726562 6.234375 -0.53125 C 5.984375 -0.34375 5.679688 -0.1875 5.328125 -0.0625 C 4.972656 0.0507812 4.554688 0.109375 4.078125 0.109375 C 3.453125 0.109375 2.910156 0.015625 2.453125 -0.171875 C 1.992188 -0.359375 1.613281 -0.617188 1.3125 -0.953125 C 1.007812 -1.285156 0.785156 -1.679688 0.640625 -2.140625 C 0.503906 -2.597656 0.4375 -3.097656 0.4375 -3.640625 C 0.4375 -4.203125 0.503906 -4.710938 0.640625 -5.171875 C 0.785156 -5.628906 1.003906 -6.015625 1.296875 -6.328125 C 1.597656 -6.648438 1.972656 -6.894531 2.421875 -7.0625 C 2.867188 -7.238281 3.398438 -7.328125 4.015625 -7.328125 C 4.484375 -7.328125 4.894531 -7.273438 5.25 -7.171875 C 5.601562 -7.078125 5.90625 -6.941406 6.15625 -6.765625 C 6.414062 -6.585938 6.628906 -6.375 6.796875 -6.125 C 6.972656 -5.882812 7.109375 -5.617188 7.203125 -5.328125 L 5.875 -4.953125 C 5.820312 -5.109375 5.742188 -5.253906 5.640625 -5.390625 C 5.546875 -5.535156 5.421875 -5.660156 5.265625 -5.765625 C 5.117188 -5.878906 4.941406 -5.96875 4.734375 -6.03125 C 4.535156 -6.101562 4.304688 -6.140625 4.046875 -6.140625 C 3.671875 -6.140625 3.351562 -6.078125 3.09375 -5.953125 C 2.832031 -5.835938 2.613281 -5.671875 2.4375 -5.453125 C 2.269531 -5.234375 2.144531 -4.972656 2.0625 -4.671875 C 1.988281 -4.367188 1.953125 -4.023438 1.953125 -3.640625 C 1.953125 -3.265625 1.988281 -2.921875 2.0625 -2.609375 C 2.144531 -2.296875 2.269531 -2.023438 2.4375 -1.796875 C 2.613281 -1.578125 2.835938 -1.40625 3.109375 -1.28125 C 3.378906 -1.15625 3.703125 -1.09375 4.078125 -1.09375 Z M 4.078125 -1.09375 \"/>\n</symbol>\n<symbol overflow=\"visible\" id=\"glyph1-9\">\n<path style=\"stroke:none;\" d=\"M 2.21875 -6.0625 L 2.21875 -3.8125 L 5.90625 -3.8125 L 5.90625 -2.65625 L 2.21875 -2.65625 L 2.21875 0 L 0.703125 0 L 0.703125 -7.21875 L 6.03125 -7.21875 L 6.03125 -6.0625 Z M 2.21875 -6.0625 \"/>\n</symbol>\n<symbol overflow=\"visible\" id=\"glyph1-10\">\n<path style=\"stroke:none;\" d=\"M 5.8125 0 L 5.171875 -1.84375 L 2.421875 -1.84375 L 1.78125 0 L 0.265625 0 L 2.890625 -7.21875 L 4.6875 -7.21875 L 7.3125 0 Z M 4.109375 -5.0625 C 4.078125 -5.175781 4.039062 -5.296875 4 -5.421875 C 3.957031 -5.546875 3.921875 -5.65625 3.890625 -5.75 C 3.859375 -5.851562 3.832031 -5.9375 3.8125 -6 C 3.800781 -6.0625 3.789062 -6.097656 3.78125 -6.109375 C 3.78125 -6.097656 3.769531 -6.0625 3.75 -6 C 3.738281 -5.9375 3.71875 -5.851562 3.6875 -5.75 C 3.65625 -5.65625 3.617188 -5.546875 3.578125 -5.421875 C 3.546875 -5.296875 3.507812 -5.175781 3.46875 -5.0625 L 2.75 -2.984375 L 4.828125 -2.984375 Z M 4.109375 -5.0625 \"/>\n</symbol>\n<symbol overflow=\"visible\" id=\"glyph1-11\">\n<path style=\"stroke:none;\" d=\"M 7.140625 -3.671875 C 7.140625 -3.066406 7.046875 -2.535156 6.859375 -2.078125 C 6.679688 -1.617188 6.4375 -1.234375 6.125 -0.921875 C 5.8125 -0.617188 5.441406 -0.390625 5.015625 -0.234375 C 4.585938 -0.078125 4.125 0 3.625 0 L 0.703125 0 L 0.703125 -7.21875 L 3.3125 -7.21875 C 3.875 -7.21875 4.390625 -7.144531 4.859375 -7 C 5.328125 -6.863281 5.726562 -6.648438 6.0625 -6.359375 C 6.40625 -6.078125 6.671875 -5.710938 6.859375 -5.265625 C 7.046875 -4.816406 7.140625 -4.285156 7.140625 -3.671875 Z M 5.625 -3.671875 C 5.625 -4.085938 5.566406 -4.445312 5.453125 -4.75 C 5.335938 -5.050781 5.175781 -5.296875 4.96875 -5.484375 C 4.757812 -5.679688 4.507812 -5.828125 4.21875 -5.921875 C 3.9375 -6.015625 3.625 -6.0625 3.28125 -6.0625 L 2.21875 -6.0625 L 2.21875 -1.171875 L 3.5 -1.171875 C 3.800781 -1.171875 4.082031 -1.222656 4.34375 -1.328125 C 4.601562 -1.429688 4.828125 -1.585938 5.015625 -1.796875 C 5.203125 -2.015625 5.347656 -2.273438 5.453125 -2.578125 C 5.566406 -2.890625 5.625 -3.253906 5.625 -3.671875 Z M 5.625 -3.671875 \"/>\n</symbol>\n<symbol overflow=\"visible\" id=\"glyph1-12\">\n<path style=\"stroke:none;\" d=\"M 0.703125 0 L 0.703125 -7.21875 L 6.390625 -7.21875 L 6.390625 -6.0625 L 2.21875 -6.0625 L 2.21875 -4.234375 L 6.078125 -4.234375 L 6.078125 -3.078125 L 2.21875 -3.078125 L 2.21875 -1.171875 L 6.59375 -1.171875 L 6.59375 0 Z M 0.703125 0 \"/>\n</symbol>\n<symbol overflow=\"visible\" id=\"glyph2-0\">\n<path style=\"stroke:none;\" d=\"M 0.421875 0 L 0.421875 -8.328125 L 3.734375 -8.328125 L 3.734375 0 Z M 0.828125 -0.421875 L 3.328125 -0.421875 L 3.328125 -7.921875 L 0.828125 -7.921875 Z M 0.828125 -0.421875 \"/>\n</symbol>\n<symbol overflow=\"visible\" id=\"glyph2-1\">\n<path style=\"stroke:none;\" d=\"M 0.84375 0 L 0.84375 -8.59375 L 2.640625 -8.59375 L 2.640625 0 Z M 0.84375 0 \"/>\n</symbol>\n<symbol overflow=\"visible\" id=\"glyph2-2\">\n<path style=\"stroke:none;\" d=\"M 7.90625 -5.875 C 7.90625 -5.507812 7.84375 -5.15625 7.71875 -4.8125 C 7.59375 -4.46875 7.398438 -4.160156 7.140625 -3.890625 C 6.890625 -3.628906 6.566406 -3.421875 6.171875 -3.265625 C 5.773438 -3.109375 5.304688 -3.03125 4.765625 -3.03125 L 2.640625 -3.03125 L 2.640625 0 L 0.84375 0 L 0.84375 -8.59375 L 4.703125 -8.59375 C 5.253906 -8.59375 5.726562 -8.523438 6.125 -8.390625 C 6.53125 -8.265625 6.863281 -8.082031 7.125 -7.84375 C 7.394531 -7.601562 7.59375 -7.316406 7.71875 -6.984375 C 7.84375 -6.648438 7.90625 -6.28125 7.90625 -5.875 Z M 6.09375 -5.84375 C 6.09375 -6.289062 5.957031 -6.628906 5.6875 -6.859375 C 5.425781 -7.085938 5.03125 -7.203125 4.5 -7.203125 L 2.640625 -7.203125 L 2.640625 -4.40625 L 4.546875 -4.40625 C 4.816406 -4.40625 5.046875 -4.441406 5.234375 -4.515625 C 5.429688 -4.585938 5.59375 -4.6875 5.71875 -4.8125 C 5.851562 -4.9375 5.945312 -5.085938 6 -5.265625 C 6.0625 -5.441406 6.09375 -5.632812 6.09375 -5.84375 Z M 6.09375 -5.84375 \"/>\n</symbol>\n<symbol overflow=\"visible\" id=\"glyph2-3\">\n<path style=\"stroke:none;\" d=\"M 4.859375 -1.296875 C 5.191406 -1.296875 5.476562 -1.34375 5.71875 -1.4375 C 5.96875 -1.53125 6.179688 -1.65625 6.359375 -1.8125 C 6.546875 -1.96875 6.695312 -2.140625 6.8125 -2.328125 C 6.9375 -2.523438 7.035156 -2.726562 7.109375 -2.9375 L 8.6875 -2.34375 C 8.5625 -2.03125 8.394531 -1.722656 8.1875 -1.421875 C 7.988281 -1.128906 7.734375 -0.867188 7.421875 -0.640625 C 7.117188 -0.410156 6.753906 -0.222656 6.328125 -0.078125 C 5.910156 0.0546875 5.421875 0.125 4.859375 0.125 C 4.109375 0.125 3.457031 0.015625 2.90625 -0.203125 C 2.363281 -0.429688 1.914062 -0.742188 1.5625 -1.140625 C 1.207031 -1.535156 0.941406 -2.003906 0.765625 -2.546875 C 0.597656 -3.097656 0.515625 -3.695312 0.515625 -4.34375 C 0.515625 -5.007812 0.597656 -5.613281 0.765625 -6.15625 C 0.941406 -6.695312 1.203125 -7.15625 1.546875 -7.53125 C 1.898438 -7.914062 2.34375 -8.210938 2.875 -8.421875 C 3.414062 -8.628906 4.046875 -8.734375 4.765625 -8.734375 C 5.328125 -8.734375 5.816406 -8.671875 6.234375 -8.546875 C 6.660156 -8.429688 7.023438 -8.265625 7.328125 -8.046875 C 7.640625 -7.835938 7.894531 -7.585938 8.09375 -7.296875 C 8.300781 -7.003906 8.460938 -6.679688 8.578125 -6.328125 L 6.984375 -5.90625 C 6.929688 -6.082031 6.84375 -6.253906 6.71875 -6.421875 C 6.601562 -6.597656 6.453125 -6.75 6.265625 -6.875 C 6.085938 -7.007812 5.878906 -7.113281 5.640625 -7.1875 C 5.398438 -7.269531 5.125 -7.3125 4.8125 -7.3125 C 4.375 -7.3125 4 -7.238281 3.6875 -7.09375 C 3.375 -6.957031 3.113281 -6.757812 2.90625 -6.5 C 2.707031 -6.238281 2.5625 -5.925781 2.46875 -5.5625 C 2.375 -5.195312 2.328125 -4.789062 2.328125 -4.34375 C 2.328125 -3.894531 2.375 -3.484375 2.46875 -3.109375 C 2.5625 -2.734375 2.707031 -2.410156 2.90625 -2.140625 C 3.113281 -1.878906 3.378906 -1.671875 3.703125 -1.515625 C 4.023438 -1.367188 4.410156 -1.296875 4.859375 -1.296875 Z M 4.859375 -1.296875 \"/>\n</symbol>\n<symbol overflow=\"visible\" id=\"glyph2-4\">\n<path style=\"stroke:none;\" d=\"\"/>\n</symbol>\n<symbol overflow=\"visible\" id=\"glyph2-5\">\n<path style=\"stroke:none;\" d=\"M 2.5625 0.109375 C 2.0625 0.109375 1.671875 -0.0234375 1.390625 -0.296875 C 1.117188 -0.578125 0.984375 -0.992188 0.984375 -1.546875 L 0.984375 -5.4375 L 0.15625 -5.4375 L 0.15625 -6.609375 L 1.078125 -6.609375 L 1.609375 -8.15625 L 2.6875 -8.15625 L 2.6875 -6.609375 L 3.9375 -6.609375 L 3.9375 -5.4375 L 2.6875 -5.4375 L 2.6875 -2.015625 C 2.6875 -1.691406 2.742188 -1.453125 2.859375 -1.296875 C 2.984375 -1.148438 3.175781 -1.078125 3.4375 -1.078125 C 3.539062 -1.078125 3.632812 -1.082031 3.71875 -1.09375 C 3.800781 -1.113281 3.898438 -1.132812 4.015625 -1.15625 L 4.015625 -0.09375 C 3.796875 -0.03125 3.566406 0.015625 3.328125 0.046875 C 3.097656 0.0859375 2.84375 0.109375 2.5625 0.109375 Z M 2.5625 0.109375 \"/>\n</symbol>\n<symbol overflow=\"visible\" id=\"glyph2-6\">\n<path style=\"stroke:none;\" d=\"M 7.140625 -3.3125 C 7.140625 -2.800781 7.066406 -2.335938 6.921875 -1.921875 C 6.785156 -1.503906 6.578125 -1.144531 6.296875 -0.84375 C 6.023438 -0.539062 5.675781 -0.300781 5.25 -0.125 C 4.832031 0.0390625 4.347656 0.125 3.796875 0.125 C 3.253906 0.125 2.773438 0.0390625 2.359375 -0.125 C 1.953125 -0.289062 1.609375 -0.523438 1.328125 -0.828125 C 1.054688 -1.128906 0.847656 -1.488281 0.703125 -1.90625 C 0.554688 -2.332031 0.484375 -2.800781 0.484375 -3.3125 C 0.484375 -3.800781 0.550781 -4.253906 0.6875 -4.671875 C 0.820312 -5.085938 1.03125 -5.445312 1.3125 -5.75 C 1.59375 -6.0625 1.941406 -6.300781 2.359375 -6.46875 C 2.773438 -6.632812 3.265625 -6.71875 3.828125 -6.71875 C 4.421875 -6.71875 4.925781 -6.632812 5.34375 -6.46875 C 5.757812 -6.300781 6.101562 -6.0625 6.375 -5.75 C 6.644531 -5.445312 6.835938 -5.085938 6.953125 -4.671875 C 7.078125 -4.253906 7.140625 -3.800781 7.140625 -3.3125 Z M 5.359375 -3.3125 C 5.359375 -4.09375 5.226562 -4.660156 4.96875 -5.015625 C 4.707031 -5.367188 4.332031 -5.546875 3.84375 -5.546875 C 3.34375 -5.546875 2.957031 -5.363281 2.6875 -5 C 2.414062 -4.644531 2.28125 -4.082031 2.28125 -3.3125 C 2.28125 -2.914062 2.316406 -2.570312 2.390625 -2.28125 C 2.460938 -2 2.5625 -1.765625 2.6875 -1.578125 C 2.820312 -1.398438 2.976562 -1.265625 3.15625 -1.171875 C 3.34375 -1.085938 3.546875 -1.046875 3.765625 -1.046875 C 4.023438 -1.046875 4.253906 -1.085938 4.453125 -1.171875 C 4.648438 -1.265625 4.8125 -1.398438 4.9375 -1.578125 C 5.070312 -1.765625 5.175781 -2 5.25 -2.28125 C 5.320312 -2.570312 5.359375 -2.914062 5.359375 -3.3125 Z M 5.359375 -3.3125 \"/>\n</symbol>\n<symbol overflow=\"visible\" id=\"glyph2-7\">\n<path style=\"stroke:none;\" d=\"M 7.125 -3.328125 C 7.125 -2.828125 7.070312 -2.363281 6.96875 -1.9375 C 6.875 -1.519531 6.722656 -1.15625 6.515625 -0.84375 C 6.304688 -0.539062 6.039062 -0.300781 5.71875 -0.125 C 5.40625 0.0390625 5.03125 0.125 4.59375 0.125 C 4.394531 0.125 4.195312 0.101562 4 0.0625 C 3.8125 0.0195312 3.628906 -0.046875 3.453125 -0.140625 C 3.273438 -0.234375 3.113281 -0.351562 2.96875 -0.5 C 2.820312 -0.644531 2.695312 -0.828125 2.59375 -1.046875 L 2.546875 -1.046875 C 2.554688 -1.023438 2.5625 -0.972656 2.5625 -0.890625 C 2.5625 -0.816406 2.5625 -0.722656 2.5625 -0.609375 C 2.570312 -0.503906 2.578125 -0.390625 2.578125 -0.265625 C 2.585938 -0.148438 2.59375 -0.0390625 2.59375 0.0625 L 2.59375 2.59375 L 0.875 2.59375 L 0.875 -5.078125 C 0.875 -5.421875 0.867188 -5.722656 0.859375 -5.984375 C 0.847656 -6.253906 0.835938 -6.460938 0.828125 -6.609375 L 2.484375 -6.609375 C 2.492188 -6.578125 2.503906 -6.519531 2.515625 -6.4375 C 2.523438 -6.351562 2.53125 -6.257812 2.53125 -6.15625 C 2.539062 -6.050781 2.546875 -5.941406 2.546875 -5.828125 C 2.554688 -5.710938 2.5625 -5.613281 2.5625 -5.53125 L 2.59375 -5.53125 C 2.800781 -5.96875 3.082031 -6.28125 3.4375 -6.46875 C 3.800781 -6.65625 4.222656 -6.75 4.703125 -6.75 C 5.117188 -6.75 5.476562 -6.660156 5.78125 -6.484375 C 6.09375 -6.316406 6.347656 -6.082031 6.546875 -5.78125 C 6.742188 -5.476562 6.890625 -5.117188 6.984375 -4.703125 C 7.078125 -4.285156 7.125 -3.828125 7.125 -3.328125 Z M 5.328125 -3.328125 C 5.328125 -4.085938 5.210938 -4.644531 4.984375 -5 C 4.765625 -5.363281 4.425781 -5.546875 3.96875 -5.546875 C 3.800781 -5.546875 3.628906 -5.507812 3.453125 -5.4375 C 3.285156 -5.375 3.132812 -5.253906 3 -5.078125 C 2.875 -4.910156 2.769531 -4.679688 2.6875 -4.390625 C 2.601562 -4.097656 2.5625 -3.726562 2.5625 -3.28125 C 2.5625 -2.851562 2.601562 -2.492188 2.6875 -2.203125 C 2.769531 -1.921875 2.875 -1.691406 3 -1.515625 C 3.132812 -1.347656 3.285156 -1.226562 3.453125 -1.15625 C 3.617188 -1.082031 3.789062 -1.046875 3.96875 -1.046875 C 4.1875 -1.046875 4.378906 -1.085938 4.546875 -1.171875 C 4.710938 -1.265625 4.851562 -1.40625 4.96875 -1.59375 C 5.09375 -1.78125 5.179688 -2.015625 5.234375 -2.296875 C 5.296875 -2.585938 5.328125 -2.929688 5.328125 -3.328125 Z M 5.328125 -3.328125 \"/>\n</symbol>\n<symbol overflow=\"visible\" id=\"glyph2-8\">\n<path style=\"stroke:none;\" d=\"M 3.625 0.125 C 3.101562 0.125 2.644531 0.046875 2.25 -0.109375 C 1.851562 -0.273438 1.523438 -0.503906 1.265625 -0.796875 C 1.003906 -1.097656 0.804688 -1.457031 0.671875 -1.875 C 0.546875 -2.300781 0.484375 -2.765625 0.484375 -3.265625 C 0.484375 -3.816406 0.554688 -4.304688 0.703125 -4.734375 C 0.847656 -5.160156 1.050781 -5.519531 1.3125 -5.8125 C 1.582031 -6.113281 1.914062 -6.335938 2.3125 -6.484375 C 2.707031 -6.640625 3.15625 -6.71875 3.65625 -6.71875 C 4.082031 -6.71875 4.457031 -6.660156 4.78125 -6.546875 C 5.113281 -6.441406 5.398438 -6.289062 5.640625 -6.09375 C 5.878906 -5.894531 6.070312 -5.660156 6.21875 -5.390625 C 6.375 -5.117188 6.476562 -4.828125 6.53125 -4.515625 L 4.8125 -4.4375 C 4.757812 -4.769531 4.632812 -5.035156 4.4375 -5.234375 C 4.25 -5.441406 3.972656 -5.546875 3.609375 -5.546875 C 3.148438 -5.546875 2.8125 -5.351562 2.59375 -4.96875 C 2.382812 -4.59375 2.28125 -4.046875 2.28125 -3.328125 C 2.28125 -1.804688 2.734375 -1.046875 3.640625 -1.046875 C 3.960938 -1.046875 4.234375 -1.148438 4.453125 -1.359375 C 4.671875 -1.566406 4.804688 -1.875 4.859375 -2.28125 L 6.578125 -2.203125 C 6.546875 -1.890625 6.457031 -1.59375 6.3125 -1.3125 C 6.164062 -1.039062 5.96875 -0.796875 5.71875 -0.578125 C 5.476562 -0.367188 5.179688 -0.195312 4.828125 -0.0625 C 4.472656 0.0625 4.070312 0.125 3.625 0.125 Z M 3.625 0.125 \"/>\n</symbol>\n<symbol overflow=\"visible\" id=\"glyph2-9\">\n<path style=\"stroke:none;\" d=\"M 0.875 0 L 0.875 -9.0625 L 2.59375 -9.0625 L 2.59375 0 Z M 0.875 0 \"/>\n</symbol>\n<symbol overflow=\"visible\" id=\"glyph2-10\">\n<path style=\"stroke:none;\" d=\"M 2.40625 0.125 C 2.082031 0.125 1.796875 0.0820312 1.546875 0 C 1.296875 -0.09375 1.082031 -0.222656 0.90625 -0.390625 C 0.726562 -0.554688 0.59375 -0.765625 0.5 -1.015625 C 0.40625 -1.265625 0.359375 -1.550781 0.359375 -1.875 C 0.359375 -2.257812 0.425781 -2.582031 0.5625 -2.84375 C 0.707031 -3.113281 0.894531 -3.332031 1.125 -3.5 C 1.363281 -3.664062 1.640625 -3.785156 1.953125 -3.859375 C 2.273438 -3.929688 2.613281 -3.972656 2.96875 -3.984375 L 4.390625 -4 L 4.390625 -4.34375 C 4.390625 -4.582031 4.367188 -4.78125 4.328125 -4.9375 C 4.285156 -5.101562 4.222656 -5.234375 4.140625 -5.328125 C 4.054688 -5.429688 3.953125 -5.503906 3.828125 -5.546875 C 3.710938 -5.585938 3.582031 -5.609375 3.4375 -5.609375 C 3.289062 -5.609375 3.160156 -5.59375 3.046875 -5.5625 C 2.929688 -5.539062 2.832031 -5.492188 2.75 -5.421875 C 2.675781 -5.347656 2.613281 -5.25 2.5625 -5.125 C 2.507812 -5.007812 2.472656 -4.863281 2.453125 -4.6875 L 0.671875 -4.765625 C 0.710938 -5.054688 0.796875 -5.320312 0.921875 -5.5625 C 1.054688 -5.800781 1.238281 -6.003906 1.46875 -6.171875 C 1.695312 -6.347656 1.976562 -6.484375 2.3125 -6.578125 C 2.65625 -6.671875 3.050781 -6.71875 3.5 -6.71875 C 3.914062 -6.71875 4.28125 -6.664062 4.59375 -6.5625 C 4.914062 -6.46875 5.1875 -6.316406 5.40625 -6.109375 C 5.632812 -5.910156 5.804688 -5.664062 5.921875 -5.375 C 6.046875 -5.082031 6.109375 -4.742188 6.109375 -4.359375 L 6.109375 -1.953125 C 6.109375 -1.796875 6.113281 -1.65625 6.125 -1.53125 C 6.144531 -1.414062 6.171875 -1.316406 6.203125 -1.234375 C 6.242188 -1.148438 6.300781 -1.085938 6.375 -1.046875 C 6.445312 -1.003906 6.539062 -0.984375 6.65625 -0.984375 C 6.78125 -0.984375 6.90625 -0.992188 7.03125 -1.015625 L 7.03125 -0.078125 C 6.925781 -0.0546875 6.832031 -0.0351562 6.75 -0.015625 C 6.675781 0.00390625 6.597656 0.0195312 6.515625 0.03125 C 6.429688 0.0390625 6.34375 0.0507812 6.25 0.0625 C 6.15625 0.0703125 6.050781 0.078125 5.9375 0.078125 C 5.5 0.078125 5.175781 -0.0234375 4.96875 -0.234375 C 4.769531 -0.453125 4.648438 -0.765625 4.609375 -1.171875 L 4.578125 -1.171875 C 4.347656 -0.765625 4.050781 -0.445312 3.6875 -0.21875 C 3.332031 0.0078125 2.90625 0.125 2.40625 0.125 Z M 4.390625 -3.0625 L 3.515625 -3.046875 C 3.328125 -3.035156 3.148438 -3.019531 2.984375 -3 C 2.828125 -2.976562 2.6875 -2.929688 2.5625 -2.859375 C 2.4375 -2.785156 2.335938 -2.679688 2.265625 -2.546875 C 2.191406 -2.410156 2.15625 -2.226562 2.15625 -2 C 2.15625 -1.6875 2.226562 -1.453125 2.375 -1.296875 C 2.519531 -1.148438 2.710938 -1.078125 2.953125 -1.078125 C 3.171875 -1.078125 3.367188 -1.125 3.546875 -1.21875 C 3.722656 -1.3125 3.875 -1.429688 4 -1.578125 C 4.125 -1.734375 4.21875 -1.910156 4.28125 -2.109375 C 4.351562 -2.304688 4.390625 -2.507812 4.390625 -2.71875 Z M 4.390625 -3.0625 \"/>\n</symbol>\n<symbol overflow=\"visible\" id=\"glyph2-11\">\n<path style=\"stroke:none;\" d=\"M 6.4375 -1.921875 C 6.4375 -1.609375 6.367188 -1.328125 6.234375 -1.078125 C 6.109375 -0.828125 5.914062 -0.613281 5.65625 -0.4375 C 5.40625 -0.257812 5.097656 -0.117188 4.734375 -0.015625 C 4.367188 0.078125 3.953125 0.125 3.484375 0.125 C 3.066406 0.125 2.6875 0.09375 2.34375 0.03125 C 2.007812 -0.03125 1.710938 -0.128906 1.453125 -0.265625 C 1.203125 -0.410156 0.988281 -0.59375 0.8125 -0.8125 C 0.644531 -1.039062 0.519531 -1.316406 0.4375 -1.640625 L 1.953125 -1.875 C 1.992188 -1.6875 2.054688 -1.535156 2.140625 -1.421875 C 2.234375 -1.304688 2.34375 -1.21875 2.46875 -1.15625 C 2.59375 -1.101562 2.738281 -1.066406 2.90625 -1.046875 C 3.070312 -1.023438 3.265625 -1.015625 3.484375 -1.015625 C 3.679688 -1.015625 3.863281 -1.023438 4.03125 -1.046875 C 4.195312 -1.066406 4.34375 -1.101562 4.46875 -1.15625 C 4.59375 -1.21875 4.6875 -1.296875 4.75 -1.390625 C 4.820312 -1.492188 4.859375 -1.617188 4.859375 -1.765625 C 4.859375 -1.941406 4.804688 -2.078125 4.703125 -2.171875 C 4.609375 -2.273438 4.472656 -2.359375 4.296875 -2.421875 C 4.128906 -2.484375 3.925781 -2.535156 3.6875 -2.578125 C 3.457031 -2.628906 3.210938 -2.6875 2.953125 -2.75 C 2.671875 -2.8125 2.394531 -2.882812 2.125 -2.96875 C 1.863281 -3.050781 1.625 -3.164062 1.40625 -3.3125 C 1.195312 -3.457031 1.023438 -3.644531 0.890625 -3.875 C 0.765625 -4.101562 0.703125 -4.390625 0.703125 -4.734375 C 0.703125 -5.046875 0.757812 -5.320312 0.875 -5.5625 C 1 -5.8125 1.179688 -6.019531 1.421875 -6.1875 C 1.660156 -6.363281 1.953125 -6.5 2.296875 -6.59375 C 2.640625 -6.6875 3.039062 -6.734375 3.5 -6.734375 C 3.851562 -6.734375 4.1875 -6.695312 4.5 -6.625 C 4.8125 -6.5625 5.085938 -6.457031 5.328125 -6.3125 C 5.566406 -6.164062 5.769531 -5.976562 5.9375 -5.75 C 6.101562 -5.53125 6.21875 -5.265625 6.28125 -4.953125 L 4.765625 -4.796875 C 4.734375 -4.953125 4.679688 -5.082031 4.609375 -5.1875 C 4.535156 -5.289062 4.445312 -5.375 4.34375 -5.4375 C 4.238281 -5.5 4.113281 -5.539062 3.96875 -5.5625 C 3.820312 -5.582031 3.664062 -5.59375 3.5 -5.59375 C 3.09375 -5.59375 2.785156 -5.539062 2.578125 -5.4375 C 2.378906 -5.332031 2.28125 -5.15625 2.28125 -4.90625 C 2.28125 -4.757812 2.320312 -4.640625 2.40625 -4.546875 C 2.488281 -4.460938 2.601562 -4.390625 2.75 -4.328125 C 2.90625 -4.265625 3.085938 -4.210938 3.296875 -4.171875 C 3.503906 -4.128906 3.734375 -4.078125 3.984375 -4.015625 C 4.285156 -3.953125 4.582031 -3.875 4.875 -3.78125 C 5.175781 -3.695312 5.441406 -3.578125 5.671875 -3.421875 C 5.898438 -3.273438 6.082031 -3.082031 6.21875 -2.84375 C 6.363281 -2.601562 6.4375 -2.296875 6.4375 -1.921875 Z M 6.4375 -1.921875 \"/>\n</symbol>\n<symbol overflow=\"visible\" id=\"glyph3-0\">\n<path style=\"stroke:none;\" d=\"M 0 -0.421875 L -8.328125 -0.421875 L -8.328125 -3.734375 L 0 -3.734375 Z M -0.421875 -0.828125 L -0.421875 -3.328125 L -7.921875 -3.328125 L -7.921875 -0.828125 Z M -0.421875 -0.828125 \"/>\n</symbol>\n<symbol overflow=\"visible\" id=\"glyph3-1\">\n<path style=\"stroke:none;\" d=\"M -1.28125 -4.921875 C -1.28125 -5.179688 -1.300781 -5.429688 -1.34375 -5.671875 C -1.382812 -5.910156 -1.4375 -6.128906 -1.5 -6.328125 C -1.570312 -6.535156 -1.648438 -6.722656 -1.734375 -6.890625 C -1.828125 -7.054688 -1.921875 -7.191406 -2.015625 -7.296875 L -3.203125 -7.296875 L -3.203125 -5.203125 L -4.53125 -5.203125 L -4.53125 -8.953125 L -1.375 -8.953125 C -1.175781 -8.753906 -0.984375 -8.515625 -0.796875 -8.234375 C -0.617188 -7.960938 -0.460938 -7.648438 -0.328125 -7.296875 C -0.191406 -6.953125 -0.0820312 -6.578125 0 -6.171875 C 0.0820312 -5.765625 0.125 -5.332031 0.125 -4.875 C 0.125 -4.113281 0.015625 -3.457031 -0.203125 -2.90625 C -0.429688 -2.351562 -0.742188 -1.898438 -1.140625 -1.546875 C -1.535156 -1.191406 -2.003906 -0.929688 -2.546875 -0.765625 C -3.097656 -0.597656 -3.695312 -0.515625 -4.34375 -0.515625 C -5.007812 -0.515625 -5.613281 -0.601562 -6.15625 -0.78125 C -6.695312 -0.957031 -7.15625 -1.226562 -7.53125 -1.59375 C -7.914062 -1.957031 -8.210938 -2.414062 -8.421875 -2.96875 C -8.628906 -3.519531 -8.734375 -4.164062 -8.734375 -4.90625 C -8.734375 -5.445312 -8.675781 -5.925781 -8.5625 -6.34375 C -8.457031 -6.769531 -8.304688 -7.140625 -8.109375 -7.453125 C -7.921875 -7.773438 -7.6875 -8.039062 -7.40625 -8.25 C -7.132812 -8.46875 -6.828125 -8.640625 -6.484375 -8.765625 L -5.984375 -7.109375 C -6.160156 -7.035156 -6.328125 -6.9375 -6.484375 -6.8125 C -6.648438 -6.6875 -6.789062 -6.53125 -6.90625 -6.34375 C -7.03125 -6.164062 -7.128906 -5.957031 -7.203125 -5.71875 C -7.273438 -5.488281 -7.3125 -5.21875 -7.3125 -4.90625 C -7.3125 -4.457031 -7.238281 -4.070312 -7.09375 -3.75 C -6.957031 -3.425781 -6.757812 -3.15625 -6.5 -2.9375 C -6.238281 -2.726562 -5.925781 -2.570312 -5.5625 -2.46875 C -5.195312 -2.375 -4.789062 -2.328125 -4.34375 -2.328125 C -3.894531 -2.328125 -3.484375 -2.378906 -3.109375 -2.484375 C -2.734375 -2.585938 -2.410156 -2.742188 -2.140625 -2.953125 C -1.867188 -3.171875 -1.65625 -3.441406 -1.5 -3.765625 C -1.351562 -4.085938 -1.28125 -4.472656 -1.28125 -4.921875 Z M -1.28125 -4.921875 \"/>\n</symbol>\n<symbol overflow=\"visible\" id=\"glyph3-2\">\n<path style=\"stroke:none;\" d=\"M 0 -0.875 L -5.046875 -0.875 C -5.191406 -0.875 -5.34375 -0.867188 -5.5 -0.859375 C -5.664062 -0.859375 -5.816406 -0.851562 -5.953125 -0.84375 C -6.097656 -0.84375 -6.226562 -0.84375 -6.34375 -0.84375 C -6.46875 -0.84375 -6.554688 -0.835938 -6.609375 -0.828125 L -6.609375 -2.453125 C -6.554688 -2.460938 -6.46875 -2.472656 -6.34375 -2.484375 C -6.226562 -2.492188 -6.097656 -2.5 -5.953125 -2.5 C -5.816406 -2.507812 -5.675781 -2.519531 -5.53125 -2.53125 C -5.394531 -2.539062 -5.28125 -2.546875 -5.1875 -2.546875 L -5.1875 -2.5625 C -5.425781 -2.644531 -5.640625 -2.726562 -5.828125 -2.8125 C -6.023438 -2.90625 -6.1875 -3.007812 -6.3125 -3.125 C -6.445312 -3.238281 -6.550781 -3.375 -6.625 -3.53125 C -6.695312 -3.695312 -6.734375 -3.898438 -6.734375 -4.140625 C -6.734375 -4.242188 -6.722656 -4.34375 -6.703125 -4.4375 C -6.679688 -4.539062 -6.660156 -4.617188 -6.640625 -4.671875 L -5.203125 -4.671875 C -5.234375 -4.566406 -5.253906 -4.457031 -5.265625 -4.34375 C -5.285156 -4.226562 -5.296875 -4.09375 -5.296875 -3.9375 C -5.296875 -3.507812 -5.125 -3.175781 -4.78125 -2.9375 C -4.4375 -2.707031 -3.921875 -2.59375 -3.234375 -2.59375 L 0 -2.59375 Z M 0 -0.875 \"/>\n</symbol>\n<symbol overflow=\"visible\" id=\"glyph3-3\">\n<path style=\"stroke:none;\" d=\"M 0.125 -2.40625 C 0.125 -2.082031 0.0820312 -1.796875 0 -1.546875 C -0.09375 -1.296875 -0.222656 -1.082031 -0.390625 -0.90625 C -0.554688 -0.726562 -0.765625 -0.59375 -1.015625 -0.5 C -1.265625 -0.40625 -1.550781 -0.359375 -1.875 -0.359375 C -2.257812 -0.359375 -2.582031 -0.425781 -2.84375 -0.5625 C -3.113281 -0.707031 -3.332031 -0.894531 -3.5 -1.125 C -3.664062 -1.363281 -3.785156 -1.640625 -3.859375 -1.953125 C -3.929688 -2.273438 -3.972656 -2.613281 -3.984375 -2.96875 L -4 -4.390625 L -4.34375 -4.390625 C -4.582031 -4.390625 -4.78125 -4.367188 -4.9375 -4.328125 C -5.101562 -4.285156 -5.234375 -4.222656 -5.328125 -4.140625 C -5.429688 -4.054688 -5.503906 -3.953125 -5.546875 -3.828125 C -5.585938 -3.710938 -5.609375 -3.582031 -5.609375 -3.4375 C -5.609375 -3.289062 -5.59375 -3.160156 -5.5625 -3.046875 C -5.539062 -2.929688 -5.492188 -2.832031 -5.421875 -2.75 C -5.347656 -2.675781 -5.25 -2.613281 -5.125 -2.5625 C -5.007812 -2.507812 -4.863281 -2.472656 -4.6875 -2.453125 L -4.765625 -0.671875 C -5.054688 -0.710938 -5.320312 -0.796875 -5.5625 -0.921875 C -5.800781 -1.054688 -6.003906 -1.238281 -6.171875 -1.46875 C -6.347656 -1.695312 -6.484375 -1.976562 -6.578125 -2.3125 C -6.671875 -2.65625 -6.71875 -3.050781 -6.71875 -3.5 C -6.71875 -3.914062 -6.664062 -4.28125 -6.5625 -4.59375 C -6.46875 -4.914062 -6.316406 -5.1875 -6.109375 -5.40625 C -5.910156 -5.632812 -5.664062 -5.804688 -5.375 -5.921875 C -5.082031 -6.046875 -4.742188 -6.109375 -4.359375 -6.109375 L -1.953125 -6.109375 C -1.796875 -6.109375 -1.65625 -6.113281 -1.53125 -6.125 C -1.414062 -6.144531 -1.316406 -6.171875 -1.234375 -6.203125 C -1.148438 -6.242188 -1.085938 -6.300781 -1.046875 -6.375 C -1.003906 -6.445312 -0.984375 -6.539062 -0.984375 -6.65625 C -0.984375 -6.78125 -0.992188 -6.90625 -1.015625 -7.03125 L -0.078125 -7.03125 C -0.0546875 -6.925781 -0.0351562 -6.832031 -0.015625 -6.75 C 0.00390625 -6.675781 0.0195312 -6.597656 0.03125 -6.515625 C 0.0390625 -6.429688 0.0507812 -6.34375 0.0625 -6.25 C 0.0703125 -6.15625 0.078125 -6.050781 0.078125 -5.9375 C 0.078125 -5.5 -0.0234375 -5.175781 -0.234375 -4.96875 C -0.453125 -4.769531 -0.765625 -4.648438 -1.171875 -4.609375 L -1.171875 -4.578125 C -0.765625 -4.347656 -0.445312 -4.050781 -0.21875 -3.6875 C 0.0078125 -3.332031 0.125 -2.90625 0.125 -2.40625 Z M -3.0625 -4.390625 L -3.046875 -3.515625 C -3.035156 -3.328125 -3.019531 -3.148438 -3 -2.984375 C -2.976562 -2.828125 -2.929688 -2.6875 -2.859375 -2.5625 C -2.785156 -2.4375 -2.679688 -2.335938 -2.546875 -2.265625 C -2.410156 -2.191406 -2.226562 -2.15625 -2 -2.15625 C -1.6875 -2.15625 -1.453125 -2.226562 -1.296875 -2.375 C -1.148438 -2.519531 -1.078125 -2.710938 -1.078125 -2.953125 C -1.078125 -3.171875 -1.125 -3.367188 -1.21875 -3.546875 C -1.3125 -3.722656 -1.429688 -3.875 -1.578125 -4 C -1.734375 -4.125 -1.910156 -4.21875 -2.109375 -4.28125 C -2.304688 -4.351562 -2.507812 -4.390625 -2.71875 -4.390625 Z M -3.0625 -4.390625 \"/>\n</symbol>\n<symbol overflow=\"visible\" id=\"glyph3-4\">\n<path style=\"stroke:none;\" d=\"M 0 -5.15625 L -3.703125 -5.15625 C -3.960938 -5.15625 -4.195312 -5.132812 -4.40625 -5.09375 C -4.625 -5.050781 -4.804688 -4.984375 -4.953125 -4.890625 C -5.109375 -4.796875 -5.226562 -4.671875 -5.3125 -4.515625 C -5.394531 -4.367188 -5.4375 -4.1875 -5.4375 -3.96875 C -5.4375 -3.757812 -5.390625 -3.570312 -5.296875 -3.40625 C -5.210938 -3.238281 -5.082031 -3.09375 -4.90625 -2.96875 C -4.738281 -2.851562 -4.539062 -2.757812 -4.3125 -2.6875 C -4.082031 -2.625 -3.828125 -2.59375 -3.546875 -2.59375 L 0 -2.59375 L 0 -0.875 L -5.125 -0.875 C -5.269531 -0.875 -5.414062 -0.867188 -5.5625 -0.859375 C -5.71875 -0.859375 -5.863281 -0.851562 -6 -0.84375 C -6.132812 -0.84375 -6.253906 -0.84375 -6.359375 -0.84375 C -6.472656 -0.84375 -6.554688 -0.835938 -6.609375 -0.828125 L -6.609375 -2.453125 C -6.554688 -2.460938 -6.472656 -2.472656 -6.359375 -2.484375 C -6.253906 -2.492188 -6.132812 -2.5 -6 -2.5 C -5.875 -2.507812 -5.742188 -2.519531 -5.609375 -2.53125 C -5.484375 -2.539062 -5.378906 -2.546875 -5.296875 -2.546875 L -5.296875 -2.5625 C -5.796875 -2.789062 -6.160156 -3.082031 -6.390625 -3.4375 C -6.617188 -3.789062 -6.734375 -4.207031 -6.734375 -4.6875 C -6.734375 -5.082031 -6.664062 -5.414062 -6.53125 -5.6875 C -6.40625 -5.96875 -6.226562 -6.191406 -6 -6.359375 C -5.769531 -6.535156 -5.5 -6.660156 -5.1875 -6.734375 C -4.882812 -6.816406 -4.550781 -6.859375 -4.1875 -6.859375 L 0 -6.859375 Z M 0 -5.15625 \"/>\n</symbol>\n<symbol overflow=\"visible\" id=\"glyph3-5\">\n<path style=\"stroke:none;\" d=\"M 0.109375 -2.5625 C 0.109375 -2.0625 -0.0234375 -1.671875 -0.296875 -1.390625 C -0.578125 -1.117188 -0.992188 -0.984375 -1.546875 -0.984375 L -5.4375 -0.984375 L -5.4375 -0.15625 L -6.609375 -0.15625 L -6.609375 -1.078125 L -8.15625 -1.609375 L -8.15625 -2.6875 L -6.609375 -2.6875 L -6.609375 -3.9375 L -5.4375 -3.9375 L -5.4375 -2.6875 L -2.015625 -2.6875 C -1.691406 -2.6875 -1.453125 -2.742188 -1.296875 -2.859375 C -1.148438 -2.984375 -1.078125 -3.175781 -1.078125 -3.4375 C -1.078125 -3.539062 -1.082031 -3.632812 -1.09375 -3.71875 C -1.113281 -3.800781 -1.132812 -3.898438 -1.15625 -4.015625 L -0.09375 -4.015625 C -0.03125 -3.796875 0.015625 -3.566406 0.046875 -3.328125 C 0.0859375 -3.097656 0.109375 -2.84375 0.109375 -2.5625 Z M 0.109375 -2.5625 \"/>\n</symbol>\n<symbol overflow=\"visible\" id=\"glyph3-6\">\n<path style=\"stroke:none;\" d=\"M 0.125 -3.578125 C 0.125 -3.097656 0.0546875 -2.664062 -0.078125 -2.28125 C -0.222656 -1.90625 -0.4375 -1.582031 -0.71875 -1.3125 C -1.007812 -1.050781 -1.367188 -0.847656 -1.796875 -0.703125 C -2.234375 -0.554688 -2.742188 -0.484375 -3.328125 -0.484375 C -3.960938 -0.484375 -4.492188 -0.566406 -4.921875 -0.734375 C -5.359375 -0.910156 -5.707031 -1.140625 -5.96875 -1.421875 C -6.238281 -1.710938 -6.429688 -2.046875 -6.546875 -2.421875 C -6.660156 -2.796875 -6.71875 -3.1875 -6.71875 -3.59375 C -6.71875 -4.113281 -6.628906 -4.554688 -6.453125 -4.921875 C -6.273438 -5.296875 -6.019531 -5.597656 -5.6875 -5.828125 C -5.363281 -6.066406 -4.972656 -6.242188 -4.515625 -6.359375 C -4.066406 -6.472656 -3.566406 -6.53125 -3.015625 -6.53125 L -2.96875 -6.53125 L -2.96875 -2.28125 C -2.695312 -2.28125 -2.441406 -2.304688 -2.203125 -2.359375 C -1.960938 -2.410156 -1.753906 -2.488281 -1.578125 -2.59375 C -1.410156 -2.707031 -1.273438 -2.851562 -1.171875 -3.03125 C -1.078125 -3.207031 -1.03125 -3.414062 -1.03125 -3.65625 C -1.03125 -3.957031 -1.09375 -4.203125 -1.21875 -4.390625 C -1.34375 -4.585938 -1.539062 -4.726562 -1.8125 -4.8125 L -1.671875 -6.421875 C -1.484375 -6.347656 -1.28125 -6.242188 -1.0625 -6.109375 C -0.851562 -5.984375 -0.660156 -5.8125 -0.484375 -5.59375 C -0.304688 -5.375 -0.160156 -5.097656 -0.046875 -4.765625 C 0.0664062 -4.441406 0.125 -4.046875 0.125 -3.578125 Z M -5.640625 -3.578125 C -5.640625 -3.398438 -5.609375 -3.234375 -5.546875 -3.078125 C -5.492188 -2.929688 -5.398438 -2.800781 -5.265625 -2.6875 C -5.140625 -2.570312 -4.972656 -2.476562 -4.765625 -2.40625 C -4.566406 -2.34375 -4.328125 -2.304688 -4.046875 -2.296875 L -4.046875 -4.859375 C -4.578125 -4.828125 -4.972656 -4.695312 -5.234375 -4.46875 C -5.503906 -4.25 -5.640625 -3.953125 -5.640625 -3.578125 Z M -5.640625 -3.578125 \"/>\n</symbol>\n<symbol overflow=\"visible\" id=\"glyph3-7\">\n<path style=\"stroke:none;\" d=\"M 0 -5.15625 C -0.03125 -5.144531 -0.0859375 -5.132812 -0.171875 -5.125 C -0.253906 -5.113281 -0.347656 -5.101562 -0.453125 -5.09375 C -0.554688 -5.082031 -0.664062 -5.070312 -0.78125 -5.0625 C -0.894531 -5.0625 -0.992188 -5.0625 -1.078125 -5.0625 L -1.078125 -5.03125 C -0.648438 -4.832031 -0.34375 -4.554688 -0.15625 -4.203125 C 0.03125 -3.847656 0.125 -3.421875 0.125 -2.921875 C 0.125 -2.503906 0.0390625 -2.144531 -0.125 -1.84375 C -0.300781 -1.539062 -0.539062 -1.289062 -0.84375 -1.09375 C -1.15625 -0.894531 -1.519531 -0.75 -1.9375 -0.65625 C -2.351562 -0.5625 -2.804688 -0.515625 -3.296875 -0.515625 C -3.796875 -0.515625 -4.253906 -0.5625 -4.671875 -0.65625 C -5.085938 -0.757812 -5.445312 -0.914062 -5.75 -1.125 C -6.0625 -1.332031 -6.300781 -1.59375 -6.46875 -1.90625 C -6.632812 -2.226562 -6.71875 -2.609375 -6.71875 -3.046875 C -6.71875 -3.265625 -6.695312 -3.472656 -6.65625 -3.671875 C -6.613281 -3.867188 -6.546875 -4.050781 -6.453125 -4.21875 C -6.359375 -4.394531 -6.238281 -4.550781 -6.09375 -4.6875 C -5.945312 -4.832031 -5.769531 -4.953125 -5.5625 -5.046875 L -5.5625 -5.0625 C -5.601562 -5.0625 -5.660156 -5.054688 -5.734375 -5.046875 C -5.816406 -5.046875 -5.910156 -5.046875 -6.015625 -5.046875 C -6.117188 -5.046875 -6.222656 -5.046875 -6.328125 -5.046875 C -6.441406 -5.046875 -6.546875 -5.046875 -6.640625 -5.046875 L -9.0625 -5.046875 L -9.0625 -6.765625 L -1.4375 -6.765625 C -1.113281 -6.765625 -0.828125 -6.769531 -0.578125 -6.78125 C -0.328125 -6.789062 -0.132812 -6.800781 0 -6.8125 Z M -3.34375 -5.078125 C -3.769531 -5.078125 -4.128906 -5.035156 -4.421875 -4.953125 C -4.710938 -4.867188 -4.941406 -4.757812 -5.109375 -4.625 C -5.273438 -4.5 -5.390625 -4.347656 -5.453125 -4.171875 C -5.523438 -4.003906 -5.5625 -3.832031 -5.5625 -3.65625 C -5.5625 -3.4375 -5.515625 -3.242188 -5.421875 -3.078125 C -5.335938 -2.910156 -5.203125 -2.769531 -5.015625 -2.65625 C -4.835938 -2.539062 -4.609375 -2.453125 -4.328125 -2.390625 C -4.046875 -2.328125 -3.703125 -2.296875 -3.296875 -2.296875 C -1.796875 -2.296875 -1.046875 -2.75 -1.046875 -3.65625 C -1.046875 -3.820312 -1.082031 -3.988281 -1.15625 -4.15625 C -1.226562 -4.332031 -1.351562 -4.488281 -1.53125 -4.625 C -1.707031 -4.757812 -1.941406 -4.867188 -2.234375 -4.953125 C -2.523438 -5.035156 -2.894531 -5.078125 -3.34375 -5.078125 Z M -3.34375 -5.078125 \"/>\n</symbol>\n<symbol overflow=\"visible\" id=\"glyph3-8\">\n<path style=\"stroke:none;\" d=\"\"/>\n</symbol>\n<symbol overflow=\"visible\" id=\"glyph3-9\">\n<path style=\"stroke:none;\" d=\"M -3.328125 -7.125 C -2.828125 -7.125 -2.363281 -7.070312 -1.9375 -6.96875 C -1.519531 -6.875 -1.15625 -6.722656 -0.84375 -6.515625 C -0.539062 -6.304688 -0.300781 -6.039062 -0.125 -5.71875 C 0.0390625 -5.40625 0.125 -5.03125 0.125 -4.59375 C 0.125 -4.394531 0.101562 -4.195312 0.0625 -4 C 0.0195312 -3.8125 -0.046875 -3.628906 -0.140625 -3.453125 C -0.234375 -3.273438 -0.351562 -3.113281 -0.5 -2.96875 C -0.644531 -2.820312 -0.828125 -2.695312 -1.046875 -2.59375 L -1.046875 -2.546875 C -1.023438 -2.554688 -0.972656 -2.5625 -0.890625 -2.5625 C -0.816406 -2.5625 -0.722656 -2.5625 -0.609375 -2.5625 C -0.503906 -2.570312 -0.390625 -2.578125 -0.265625 -2.578125 C -0.148438 -2.585938 -0.0390625 -2.59375 0.0625 -2.59375 L 2.59375 -2.59375 L 2.59375 -0.875 L -5.078125 -0.875 C -5.421875 -0.875 -5.722656 -0.867188 -5.984375 -0.859375 C -6.253906 -0.847656 -6.460938 -0.835938 -6.609375 -0.828125 L -6.609375 -2.484375 C -6.578125 -2.492188 -6.519531 -2.503906 -6.4375 -2.515625 C -6.351562 -2.523438 -6.257812 -2.53125 -6.15625 -2.53125 C -6.050781 -2.539062 -5.941406 -2.546875 -5.828125 -2.546875 C -5.710938 -2.554688 -5.613281 -2.5625 -5.53125 -2.5625 L -5.53125 -2.59375 C -5.96875 -2.800781 -6.28125 -3.082031 -6.46875 -3.4375 C -6.65625 -3.800781 -6.75 -4.222656 -6.75 -4.703125 C -6.75 -5.117188 -6.660156 -5.476562 -6.484375 -5.78125 C -6.316406 -6.09375 -6.082031 -6.347656 -5.78125 -6.546875 C -5.476562 -6.742188 -5.117188 -6.890625 -4.703125 -6.984375 C -4.285156 -7.078125 -3.828125 -7.125 -3.328125 -7.125 Z M -3.328125 -5.328125 C -4.085938 -5.328125 -4.644531 -5.210938 -5 -4.984375 C -5.363281 -4.765625 -5.546875 -4.425781 -5.546875 -3.96875 C -5.546875 -3.800781 -5.507812 -3.628906 -5.4375 -3.453125 C -5.375 -3.285156 -5.253906 -3.132812 -5.078125 -3 C -4.910156 -2.875 -4.679688 -2.769531 -4.390625 -2.6875 C -4.097656 -2.601562 -3.726562 -2.5625 -3.28125 -2.5625 C -2.851562 -2.5625 -2.492188 -2.601562 -2.203125 -2.6875 C -1.921875 -2.769531 -1.691406 -2.875 -1.515625 -3 C -1.347656 -3.132812 -1.226562 -3.285156 -1.15625 -3.453125 C -1.082031 -3.617188 -1.046875 -3.789062 -1.046875 -3.96875 C -1.046875 -4.1875 -1.085938 -4.378906 -1.171875 -4.546875 C -1.265625 -4.710938 -1.40625 -4.851562 -1.59375 -4.96875 C -1.78125 -5.09375 -2.015625 -5.179688 -2.296875 -5.234375 C -2.585938 -5.296875 -2.929688 -5.328125 -3.328125 -5.328125 Z M -3.328125 -5.328125 \"/>\n</symbol>\n<symbol overflow=\"visible\" id=\"glyph3-10\">\n<path style=\"stroke:none;\" d=\"M -1.921875 -6.4375 C -1.609375 -6.4375 -1.328125 -6.367188 -1.078125 -6.234375 C -0.828125 -6.109375 -0.613281 -5.914062 -0.4375 -5.65625 C -0.257812 -5.40625 -0.117188 -5.097656 -0.015625 -4.734375 C 0.078125 -4.367188 0.125 -3.953125 0.125 -3.484375 C 0.125 -3.066406 0.09375 -2.6875 0.03125 -2.34375 C -0.03125 -2.007812 -0.128906 -1.710938 -0.265625 -1.453125 C -0.410156 -1.203125 -0.59375 -0.988281 -0.8125 -0.8125 C -1.039062 -0.644531 -1.316406 -0.519531 -1.640625 -0.4375 L -1.875 -1.953125 C -1.6875 -1.992188 -1.535156 -2.054688 -1.421875 -2.140625 C -1.304688 -2.234375 -1.21875 -2.34375 -1.15625 -2.46875 C -1.101562 -2.59375 -1.066406 -2.738281 -1.046875 -2.90625 C -1.023438 -3.070312 -1.015625 -3.265625 -1.015625 -3.484375 C -1.015625 -3.679688 -1.023438 -3.863281 -1.046875 -4.03125 C -1.066406 -4.195312 -1.101562 -4.34375 -1.15625 -4.46875 C -1.21875 -4.59375 -1.296875 -4.6875 -1.390625 -4.75 C -1.492188 -4.820312 -1.617188 -4.859375 -1.765625 -4.859375 C -1.941406 -4.859375 -2.078125 -4.804688 -2.171875 -4.703125 C -2.273438 -4.609375 -2.359375 -4.472656 -2.421875 -4.296875 C -2.484375 -4.128906 -2.535156 -3.925781 -2.578125 -3.6875 C -2.628906 -3.457031 -2.6875 -3.210938 -2.75 -2.953125 C -2.8125 -2.671875 -2.882812 -2.394531 -2.96875 -2.125 C -3.050781 -1.863281 -3.164062 -1.625 -3.3125 -1.40625 C -3.457031 -1.195312 -3.644531 -1.023438 -3.875 -0.890625 C -4.101562 -0.765625 -4.390625 -0.703125 -4.734375 -0.703125 C -5.046875 -0.703125 -5.320312 -0.757812 -5.5625 -0.875 C -5.8125 -1 -6.019531 -1.179688 -6.1875 -1.421875 C -6.363281 -1.660156 -6.5 -1.953125 -6.59375 -2.296875 C -6.6875 -2.640625 -6.734375 -3.039062 -6.734375 -3.5 C -6.734375 -3.851562 -6.695312 -4.1875 -6.625 -4.5 C -6.5625 -4.8125 -6.457031 -5.085938 -6.3125 -5.328125 C -6.164062 -5.566406 -5.976562 -5.769531 -5.75 -5.9375 C -5.53125 -6.101562 -5.265625 -6.21875 -4.953125 -6.28125 L -4.796875 -4.765625 C -4.953125 -4.734375 -5.082031 -4.679688 -5.1875 -4.609375 C -5.289062 -4.535156 -5.375 -4.445312 -5.4375 -4.34375 C -5.5 -4.238281 -5.539062 -4.113281 -5.5625 -3.96875 C -5.582031 -3.820312 -5.59375 -3.664062 -5.59375 -3.5 C -5.59375 -3.09375 -5.539062 -2.785156 -5.4375 -2.578125 C -5.332031 -2.378906 -5.15625 -2.28125 -4.90625 -2.28125 C -4.757812 -2.28125 -4.640625 -2.320312 -4.546875 -2.40625 C -4.460938 -2.488281 -4.390625 -2.601562 -4.328125 -2.75 C -4.265625 -2.90625 -4.210938 -3.085938 -4.171875 -3.296875 C -4.128906 -3.503906 -4.078125 -3.734375 -4.015625 -3.984375 C -3.953125 -4.285156 -3.875 -4.582031 -3.78125 -4.875 C -3.695312 -5.175781 -3.578125 -5.441406 -3.421875 -5.671875 C -3.273438 -5.898438 -3.082031 -6.082031 -2.84375 -6.21875 C -2.601562 -6.363281 -2.296875 -6.4375 -1.921875 -6.4375 Z M -1.921875 -6.4375 \"/>\n</symbol>\n<symbol overflow=\"visible\" id=\"glyph3-11\">\n<path style=\"stroke:none;\" d=\"M 0.125 -3.625 C 0.125 -3.101562 0.046875 -2.644531 -0.109375 -2.25 C -0.273438 -1.851562 -0.503906 -1.523438 -0.796875 -1.265625 C -1.097656 -1.003906 -1.457031 -0.804688 -1.875 -0.671875 C -2.300781 -0.546875 -2.765625 -0.484375 -3.265625 -0.484375 C -3.816406 -0.484375 -4.304688 -0.554688 -4.734375 -0.703125 C -5.160156 -0.847656 -5.519531 -1.050781 -5.8125 -1.3125 C -6.113281 -1.582031 -6.335938 -1.914062 -6.484375 -2.3125 C -6.640625 -2.707031 -6.71875 -3.15625 -6.71875 -3.65625 C -6.71875 -4.082031 -6.660156 -4.457031 -6.546875 -4.78125 C -6.441406 -5.113281 -6.289062 -5.398438 -6.09375 -5.640625 C -5.894531 -5.878906 -5.660156 -6.070312 -5.390625 -6.21875 C -5.117188 -6.375 -4.828125 -6.476562 -4.515625 -6.53125 L -4.4375 -4.8125 C -4.769531 -4.757812 -5.035156 -4.632812 -5.234375 -4.4375 C -5.441406 -4.25 -5.546875 -3.972656 -5.546875 -3.609375 C -5.546875 -3.148438 -5.351562 -2.8125 -4.96875 -2.59375 C -4.59375 -2.382812 -4.046875 -2.28125 -3.328125 -2.28125 C -1.804688 -2.28125 -1.046875 -2.734375 -1.046875 -3.640625 C -1.046875 -3.960938 -1.148438 -4.234375 -1.359375 -4.453125 C -1.566406 -4.671875 -1.875 -4.804688 -2.28125 -4.859375 L -2.203125 -6.578125 C -1.890625 -6.546875 -1.59375 -6.457031 -1.3125 -6.3125 C -1.039062 -6.164062 -0.796875 -5.96875 -0.578125 -5.71875 C -0.367188 -5.476562 -0.195312 -5.179688 -0.0625 -4.828125 C 0.0625 -4.472656 0.125 -4.070312 0.125 -3.625 Z M 0.125 -3.625 \"/>\n</symbol>\n<symbol overflow=\"visible\" id=\"glyph3-12\">\n<path style=\"stroke:none;\" d=\"M -3.3125 -7.140625 C -2.800781 -7.140625 -2.335938 -7.066406 -1.921875 -6.921875 C -1.503906 -6.785156 -1.144531 -6.578125 -0.84375 -6.296875 C -0.539062 -6.023438 -0.300781 -5.675781 -0.125 -5.25 C 0.0390625 -4.832031 0.125 -4.347656 0.125 -3.796875 C 0.125 -3.253906 0.0390625 -2.773438 -0.125 -2.359375 C -0.289062 -1.953125 -0.523438 -1.609375 -0.828125 -1.328125 C -1.128906 -1.054688 -1.488281 -0.847656 -1.90625 -0.703125 C -2.332031 -0.554688 -2.800781 -0.484375 -3.3125 -0.484375 C -3.800781 -0.484375 -4.253906 -0.550781 -4.671875 -0.6875 C -5.085938 -0.820312 -5.445312 -1.03125 -5.75 -1.3125 C -6.0625 -1.59375 -6.300781 -1.941406 -6.46875 -2.359375 C -6.632812 -2.773438 -6.71875 -3.265625 -6.71875 -3.828125 C -6.71875 -4.421875 -6.632812 -4.925781 -6.46875 -5.34375 C -6.300781 -5.757812 -6.0625 -6.101562 -5.75 -6.375 C -5.445312 -6.644531 -5.085938 -6.835938 -4.671875 -6.953125 C -4.253906 -7.078125 -3.800781 -7.140625 -3.3125 -7.140625 Z M -3.3125 -5.359375 C -4.09375 -5.359375 -4.660156 -5.226562 -5.015625 -4.96875 C -5.367188 -4.707031 -5.546875 -4.332031 -5.546875 -3.84375 C -5.546875 -3.34375 -5.363281 -2.957031 -5 -2.6875 C -4.644531 -2.414062 -4.082031 -2.28125 -3.3125 -2.28125 C -2.914062 -2.28125 -2.570312 -2.316406 -2.28125 -2.390625 C -2 -2.460938 -1.765625 -2.5625 -1.578125 -2.6875 C -1.398438 -2.820312 -1.265625 -2.976562 -1.171875 -3.15625 C -1.085938 -3.34375 -1.046875 -3.546875 -1.046875 -3.765625 C -1.046875 -4.023438 -1.085938 -4.253906 -1.171875 -4.453125 C -1.265625 -4.648438 -1.398438 -4.8125 -1.578125 -4.9375 C -1.765625 -5.070312 -2 -5.175781 -2.28125 -5.25 C -2.570312 -5.320312 -2.914062 -5.359375 -3.3125 -5.359375 Z M -3.3125 -5.359375 \"/>\n</symbol>\n<symbol overflow=\"visible\" id=\"glyph3-13\">\n<path style=\"stroke:none;\" d=\"M -6.609375 -2.484375 L -2.90625 -2.484375 C -2.644531 -2.484375 -2.40625 -2.503906 -2.1875 -2.546875 C -1.976562 -2.585938 -1.796875 -2.65625 -1.640625 -2.75 C -1.492188 -2.84375 -1.375 -2.960938 -1.28125 -3.109375 C -1.195312 -3.265625 -1.15625 -3.445312 -1.15625 -3.65625 C -1.15625 -3.863281 -1.203125 -4.050781 -1.296875 -4.21875 C -1.390625 -4.394531 -1.519531 -4.539062 -1.6875 -4.65625 C -1.851562 -4.78125 -2.050781 -4.875 -2.28125 -4.9375 C -2.519531 -5.007812 -2.78125 -5.046875 -3.0625 -5.046875 L -6.609375 -5.046875 L -6.609375 -6.765625 L -1.484375 -6.765625 C -1.335938 -6.765625 -1.1875 -6.765625 -1.03125 -6.765625 C -0.882812 -6.765625 -0.742188 -6.765625 -0.609375 -6.765625 C -0.472656 -6.773438 -0.347656 -6.785156 -0.234375 -6.796875 C -0.128906 -6.804688 -0.0507812 -6.8125 0 -6.8125 L 0 -5.171875 C -0.0507812 -5.171875 -0.128906 -5.164062 -0.234375 -5.15625 C -0.335938 -5.144531 -0.453125 -5.132812 -0.578125 -5.125 C -0.710938 -5.125 -0.84375 -5.117188 -0.96875 -5.109375 C -1.101562 -5.109375 -1.21875 -5.109375 -1.3125 -5.109375 L -1.3125 -5.078125 C -0.8125 -4.847656 -0.445312 -4.554688 -0.21875 -4.203125 C 0.0078125 -3.847656 0.125 -3.429688 0.125 -2.953125 C 0.125 -2.554688 0.0625 -2.21875 -0.0625 -1.9375 C -0.195312 -1.664062 -0.378906 -1.441406 -0.609375 -1.265625 C -0.835938 -1.085938 -1.101562 -0.960938 -1.40625 -0.890625 C -1.71875 -0.816406 -2.050781 -0.78125 -2.40625 -0.78125 L -6.609375 -0.78125 Z M -6.609375 -2.484375 \"/>\n</symbol>\n</g>\n<clipPath id=\"clip1\">\n  <path d=\"M 42.277344 5.480469 L 427 5.480469 L 427 183 L 42.277344 183 Z M 42.277344 5.480469 \"/>\n</clipPath>\n<clipPath id=\"clip2\">\n  <path d=\"M 42.277344 173 L 427.519531 173 L 427.519531 175 L 42.277344 175 Z M 42.277344 173 \"/>\n</clipPath>\n<clipPath id=\"clip3\">\n  <path d=\"M 42.277344 128 L 427.519531 128 L 427.519531 131 L 42.277344 131 Z M 42.277344 128 \"/>\n</clipPath>\n<clipPath id=\"clip4\">\n  <path d=\"M 42.277344 84 L 427.519531 84 L 427.519531 86 L 42.277344 86 Z M 42.277344 84 \"/>\n</clipPath>\n<clipPath id=\"clip5\">\n  <path d=\"M 42.277344 39 L 427.519531 39 L 427.519531 41 L 42.277344 41 Z M 42.277344 39 \"/>\n</clipPath>\n<clipPath id=\"clip6\">\n  <path d=\"M 69 5.480469 L 72 5.480469 L 72 183 L 69 183 Z M 69 5.480469 \"/>\n</clipPath>\n<clipPath id=\"clip7\">\n  <path d=\"M 116 5.480469 L 118 5.480469 L 118 183 L 116 183 Z M 116 5.480469 \"/>\n</clipPath>\n<clipPath id=\"clip8\">\n  <path d=\"M 163 5.480469 L 165 5.480469 L 165 183 L 163 183 Z M 163 5.480469 \"/>\n</clipPath>\n<clipPath id=\"clip9\">\n  <path d=\"M 210 5.480469 L 212 5.480469 L 212 183 L 210 183 Z M 210 5.480469 \"/>\n</clipPath>\n<clipPath id=\"clip10\">\n  <path d=\"M 257 5.480469 L 259 5.480469 L 259 183 L 257 183 Z M 257 5.480469 \"/>\n</clipPath>\n<clipPath id=\"clip11\">\n  <path d=\"M 303 5.480469 L 306 5.480469 L 306 183 L 303 183 Z M 303 5.480469 \"/>\n</clipPath>\n<clipPath id=\"clip12\">\n  <path d=\"M 350 5.480469 L 353 5.480469 L 353 183 L 350 183 Z M 350 5.480469 \"/>\n</clipPath>\n<clipPath id=\"clip13\">\n  <path d=\"M 397 5.480469 L 400 5.480469 L 400 183 L 397 183 Z M 397 5.480469 \"/>\n</clipPath>\n</defs>\n<g id=\"surface2481\">\n<rect x=\"0\" y=\"0\" width=\"432\" height=\"216\" style=\"fill:rgb(100%,100%,100%);fill-opacity:1;stroke:none;\"/>\n<rect x=\"0\" y=\"0\" width=\"432\" height=\"216\" style=\"fill:rgb(100%,100%,100%);fill-opacity:1;stroke:none;\"/>\n<path style=\"fill:none;stroke-width:1.422638;stroke-linecap:round;stroke-linejoin:round;stroke:rgb(100%,100%,100%);stroke-opacity:1;stroke-miterlimit:10;\" d=\"M 0 0 L 432 0 L 432 216 L 0 216 Z M 0 0 \"/>\n<g clip-path=\"url(#clip1)\" clip-rule=\"nonzero\">\n<path style=\" stroke:none;fill-rule:nonzero;fill:rgb(100%,100%,100%);fill-opacity:1;\" d=\"M 42.277344 5.480469 L 426.519531 5.480469 L 426.519531 182.027344 L 42.277344 182.027344 Z M 42.277344 5.480469 \"/>\n</g>\n<g clip-path=\"url(#clip2)\" clip-rule=\"nonzero\">\n<path style=\"fill:none;stroke-width:1.422638;stroke-linecap:butt;stroke-linejoin:round;stroke:rgb(92.156863%,92.156863%,92.156863%);stroke-opacity:1;stroke-miterlimit:10;\" d=\"M 42.277344 174 L 426.519531 174 \"/>\n</g>\n<g clip-path=\"url(#clip3)\" clip-rule=\"nonzero\">\n<path style=\"fill:none;stroke-width:1.422638;stroke-linecap:butt;stroke-linejoin:round;stroke:rgb(92.156863%,92.156863%,92.156863%);stroke-opacity:1;stroke-miterlimit:10;\" d=\"M 42.277344 129.417969 L 426.519531 129.417969 \"/>\n</g>\n<g clip-path=\"url(#clip4)\" clip-rule=\"nonzero\">\n<path style=\"fill:none;stroke-width:1.422638;stroke-linecap:butt;stroke-linejoin:round;stroke:rgb(92.156863%,92.156863%,92.156863%);stroke-opacity:1;stroke-miterlimit:10;\" d=\"M 42.277344 84.835938 L 426.519531 84.835938 \"/>\n</g>\n<g clip-path=\"url(#clip5)\" clip-rule=\"nonzero\">\n<path style=\"fill:none;stroke-width:1.422638;stroke-linecap:butt;stroke-linejoin:round;stroke:rgb(92.156863%,92.156863%,92.156863%);stroke-opacity:1;stroke-miterlimit:10;\" d=\"M 42.277344 40.253906 L 426.519531 40.253906 \"/>\n</g>\n<g clip-path=\"url(#clip6)\" clip-rule=\"nonzero\">\n<path style=\"fill:none;stroke-width:1.422638;stroke-linecap:butt;stroke-linejoin:round;stroke:rgb(92.156863%,92.156863%,92.156863%);stroke-opacity:1;stroke-miterlimit:10;\" d=\"M 70.394531 182.027344 L 70.394531 5.480469 \"/>\n</g>\n<g clip-path=\"url(#clip7)\" clip-rule=\"nonzero\">\n<path style=\"fill:none;stroke-width:1.422638;stroke-linecap:butt;stroke-linejoin:round;stroke:rgb(92.156863%,92.156863%,92.156863%);stroke-opacity:1;stroke-miterlimit:10;\" d=\"M 117.25 182.027344 L 117.25 5.480469 \"/>\n</g>\n<g clip-path=\"url(#clip8)\" clip-rule=\"nonzero\">\n<path style=\"fill:none;stroke-width:1.422638;stroke-linecap:butt;stroke-linejoin:round;stroke:rgb(92.156863%,92.156863%,92.156863%);stroke-opacity:1;stroke-miterlimit:10;\" d=\"M 164.109375 182.027344 L 164.109375 5.480469 \"/>\n</g>\n<g clip-path=\"url(#clip9)\" clip-rule=\"nonzero\">\n<path style=\"fill:none;stroke-width:1.422638;stroke-linecap:butt;stroke-linejoin:round;stroke:rgb(92.156863%,92.156863%,92.156863%);stroke-opacity:1;stroke-miterlimit:10;\" d=\"M 210.96875 182.027344 L 210.96875 5.480469 \"/>\n</g>\n<g clip-path=\"url(#clip10)\" clip-rule=\"nonzero\">\n<path style=\"fill:none;stroke-width:1.422638;stroke-linecap:butt;stroke-linejoin:round;stroke:rgb(92.156863%,92.156863%,92.156863%);stroke-opacity:1;stroke-miterlimit:10;\" d=\"M 257.828125 182.027344 L 257.828125 5.480469 \"/>\n</g>\n<g clip-path=\"url(#clip11)\" clip-rule=\"nonzero\">\n<path style=\"fill:none;stroke-width:1.422638;stroke-linecap:butt;stroke-linejoin:round;stroke:rgb(92.156863%,92.156863%,92.156863%);stroke-opacity:1;stroke-miterlimit:10;\" d=\"M 304.6875 182.027344 L 304.6875 5.480469 \"/>\n</g>\n<g clip-path=\"url(#clip12)\" clip-rule=\"nonzero\">\n<path style=\"fill:none;stroke-width:1.422638;stroke-linecap:butt;stroke-linejoin:round;stroke:rgb(92.156863%,92.156863%,92.156863%);stroke-opacity:1;stroke-miterlimit:10;\" d=\"M 351.546875 182.027344 L 351.546875 5.480469 \"/>\n</g>\n<g clip-path=\"url(#clip13)\" clip-rule=\"nonzero\">\n<path style=\"fill:none;stroke-width:1.422638;stroke-linecap:butt;stroke-linejoin:round;stroke:rgb(92.156863%,92.156863%,92.156863%);stroke-opacity:1;stroke-miterlimit:10;\" d=\"M 398.40625 182.027344 L 398.40625 5.480469 \"/>\n</g>\n<path style=\"fill-rule:nonzero;fill:rgb(82.745098%,82.745098%,82.745098%);fill-opacity:1;stroke-width:1.422638;stroke-linecap:butt;stroke-linejoin:miter;stroke:rgb(16.862745%,16.862745%,16.862745%);stroke-opacity:1;stroke-miterlimit:10;\" d=\"M 56.335938 41.144531 L 84.453125 41.144531 L 84.453125 174 L 56.335938 174 Z M 56.335938 41.144531 \"/>\n<path style=\"fill-rule:nonzero;fill:rgb(82.745098%,82.745098%,82.745098%);fill-opacity:1;stroke-width:1.422638;stroke-linecap:butt;stroke-linejoin:miter;stroke:rgb(16.862745%,16.862745%,16.862745%);stroke-opacity:1;stroke-miterlimit:10;\" d=\"M 103.195312 110.515625 L 131.3125 110.515625 L 131.3125 174 L 103.195312 174 Z M 103.195312 110.515625 \"/>\n<path style=\"fill-rule:nonzero;fill:rgb(82.745098%,82.745098%,82.745098%);fill-opacity:1;stroke-width:1.422638;stroke-linecap:butt;stroke-linejoin:miter;stroke:rgb(16.862745%,16.862745%,16.862745%);stroke-opacity:1;stroke-miterlimit:10;\" d=\"M 150.054688 113.367188 L 178.171875 113.367188 L 178.171875 174 L 150.054688 174 Z M 150.054688 113.367188 \"/>\n<path style=\"fill-rule:nonzero;fill:rgb(82.745098%,82.745098%,82.745098%);fill-opacity:1;stroke-width:1.422638;stroke-linecap:butt;stroke-linejoin:miter;stroke:rgb(16.862745%,16.862745%,16.862745%);stroke-opacity:1;stroke-miterlimit:10;\" d=\"M 196.910156 146.894531 L 225.027344 146.894531 L 225.027344 174 L 196.910156 174 Z M 196.910156 146.894531 \"/>\n<path style=\"fill-rule:nonzero;fill:rgb(82.745098%,82.745098%,82.745098%);fill-opacity:1;stroke-width:1.422638;stroke-linecap:butt;stroke-linejoin:miter;stroke:rgb(16.862745%,16.862745%,16.862745%);stroke-opacity:1;stroke-miterlimit:10;\" d=\"M 243.769531 153.492188 L 271.886719 153.492188 L 271.886719 174 L 243.769531 174 Z M 243.769531 153.492188 \"/>\n<path style=\"fill-rule:nonzero;fill:rgb(82.745098%,82.745098%,82.745098%);fill-opacity:1;stroke-width:1.422638;stroke-linecap:butt;stroke-linejoin:miter;stroke:rgb(16.862745%,16.862745%,16.862745%);stroke-opacity:1;stroke-miterlimit:10;\" d=\"M 290.628906 168.472656 L 318.746094 168.472656 L 318.746094 174 L 290.628906 174 Z M 290.628906 168.472656 \"/>\n<path style=\"fill-rule:nonzero;fill:rgb(82.745098%,82.745098%,82.745098%);fill-opacity:1;stroke-width:1.422638;stroke-linecap:butt;stroke-linejoin:miter;stroke:rgb(16.862745%,16.862745%,16.862745%);stroke-opacity:1;stroke-miterlimit:10;\" d=\"M 337.488281 171.324219 L 365.605469 171.324219 L 365.605469 174 L 337.488281 174 Z M 337.488281 171.324219 \"/>\n<path style=\"fill-rule:nonzero;fill:rgb(82.745098%,82.745098%,82.745098%);fill-opacity:1;stroke-width:1.422638;stroke-linecap:butt;stroke-linejoin:miter;stroke:rgb(16.862745%,16.862745%,16.862745%);stroke-opacity:1;stroke-miterlimit:10;\" d=\"M 384.347656 172.394531 L 412.464844 172.394531 L 412.464844 174 L 384.347656 174 Z M 384.347656 172.394531 \"/>\n<g style=\"fill:rgb(0%,0%,0%);fill-opacity:1;\">\n  <use xlink:href=\"#glyph0-1\" x=\"60.777816\" y=\"37.175759\"/>\n  <use xlink:href=\"#glyph0-2\" x=\"67.184066\" y=\"37.175759\"/>\n  <use xlink:href=\"#glyph0-3\" x=\"73.590316\" y=\"37.175759\"/>\n</g>\n<g style=\"fill:rgb(0%,0%,0%);fill-opacity:1;\">\n  <use xlink:href=\"#glyph0-4\" x=\"107.636707\" y=\"106.545906\"/>\n  <use xlink:href=\"#glyph0-3\" x=\"114.042957\" y=\"106.545906\"/>\n  <use xlink:href=\"#glyph0-5\" x=\"120.449207\" y=\"106.545906\"/>\n</g>\n<g style=\"fill:rgb(0%,0%,0%);fill-opacity:1;\">\n  <use xlink:href=\"#glyph0-4\" x=\"154.495599\" y=\"109.399177\"/>\n  <use xlink:href=\"#glyph0-2\" x=\"160.901849\" y=\"109.399177\"/>\n  <use xlink:href=\"#glyph0-6\" x=\"167.308099\" y=\"109.399177\"/>\n</g>\n<g style=\"fill:rgb(0%,0%,0%);fill-opacity:1;\">\n  <use xlink:href=\"#glyph0-7\" x=\"201.35449\" y=\"142.925109\"/>\n  <use xlink:href=\"#glyph0-3\" x=\"207.76074\" y=\"142.925109\"/>\n  <use xlink:href=\"#glyph0-8\" x=\"214.16699\" y=\"142.925109\"/>\n</g>\n<g style=\"fill:rgb(0%,0%,0%);fill-opacity:1;\">\n  <use xlink:href=\"#glyph0-7\" x=\"248.213382\" y=\"149.523298\"/>\n  <use xlink:href=\"#glyph0-7\" x=\"254.619632\" y=\"149.523298\"/>\n  <use xlink:href=\"#glyph0-3\" x=\"261.025882\" y=\"149.523298\"/>\n</g>\n<g style=\"fill:rgb(0%,0%,0%);fill-opacity:1;\">\n  <use xlink:href=\"#glyph0-4\" x=\"298.275398\" y=\"164.50297\"/>\n  <use xlink:href=\"#glyph0-7\" x=\"304.681648\" y=\"164.50297\"/>\n</g>\n<g style=\"fill:rgb(0%,0%,0%);fill-opacity:1;\">\n  <use xlink:href=\"#glyph0-7\" x=\"345.13429\" y=\"167.35624\"/>\n  <use xlink:href=\"#glyph0-3\" x=\"351.54054\" y=\"167.35624\"/>\n</g>\n<g style=\"fill:rgb(0%,0%,0%);fill-opacity:1;\">\n  <use xlink:href=\"#glyph0-9\" x=\"395.196306\" y=\"168.426217\"/>\n</g>\n<path style=\"fill:none;stroke-width:1.422638;stroke-linecap:butt;stroke-linejoin:round;stroke:rgb(0%,0%,0%);stroke-opacity:1;stroke-miterlimit:10;\" d=\"M 42.277344 182.027344 L 42.277344 5.480469 \"/>\n<g style=\"fill:rgb(0%,0%,0%);fill-opacity:1;\">\n  <use xlink:href=\"#glyph1-1\" x=\"31.506532\" y=\"177.612699\"/>\n</g>\n<g style=\"fill:rgb(0%,0%,0%);fill-opacity:1;\">\n  <use xlink:href=\"#glyph1-2\" x=\"19.819032\" y=\"133.030342\"/>\n  <use xlink:href=\"#glyph1-3\" x=\"25.662782\" y=\"133.030342\"/>\n  <use xlink:href=\"#glyph1-1\" x=\"31.506532\" y=\"133.030342\"/>\n</g>\n<g style=\"fill:rgb(0%,0%,0%);fill-opacity:1;\">\n  <use xlink:href=\"#glyph1-3\" x=\"19.819032\" y=\"88.447985\"/>\n  <use xlink:href=\"#glyph1-1\" x=\"25.662782\" y=\"88.447985\"/>\n  <use xlink:href=\"#glyph1-1\" x=\"31.506532\" y=\"88.447985\"/>\n</g>\n<g style=\"fill:rgb(0%,0%,0%);fill-opacity:1;\">\n  <use xlink:href=\"#glyph1-4\" x=\"19.819032\" y=\"43.865629\"/>\n  <use xlink:href=\"#glyph1-3\" x=\"25.662782\" y=\"43.865629\"/>\n  <use xlink:href=\"#glyph1-1\" x=\"31.506532\" y=\"43.865629\"/>\n</g>\n<path style=\"fill:none;stroke-width:1.422638;stroke-linecap:butt;stroke-linejoin:round;stroke:rgb(20%,20%,20%);stroke-opacity:1;stroke-miterlimit:10;\" d=\"M 39.539062 174 L 42.277344 174 \"/>\n<path style=\"fill:none;stroke-width:1.422638;stroke-linecap:butt;stroke-linejoin:round;stroke:rgb(20%,20%,20%);stroke-opacity:1;stroke-miterlimit:10;\" d=\"M 39.539062 129.417969 L 42.277344 129.417969 \"/>\n<path style=\"fill:none;stroke-width:1.422638;stroke-linecap:butt;stroke-linejoin:round;stroke:rgb(20%,20%,20%);stroke-opacity:1;stroke-miterlimit:10;\" d=\"M 39.539062 84.835938 L 42.277344 84.835938 \"/>\n<path style=\"fill:none;stroke-width:1.422638;stroke-linecap:butt;stroke-linejoin:round;stroke:rgb(20%,20%,20%);stroke-opacity:1;stroke-miterlimit:10;\" d=\"M 39.539062 40.253906 L 42.277344 40.253906 \"/>\n<path style=\"fill:none;stroke-width:1.422638;stroke-linecap:butt;stroke-linejoin:round;stroke:rgb(0%,0%,0%);stroke-opacity:1;stroke-miterlimit:10;\" d=\"M 42.277344 182.027344 L 426.519531 182.027344 \"/>\n<path style=\"fill:none;stroke-width:1.422638;stroke-linecap:butt;stroke-linejoin:round;stroke:rgb(20%,20%,20%);stroke-opacity:1;stroke-miterlimit:10;\" d=\"M 70.394531 184.765625 L 70.394531 182.027344 \"/>\n<path style=\"fill:none;stroke-width:1.422638;stroke-linecap:butt;stroke-linejoin:round;stroke:rgb(20%,20%,20%);stroke-opacity:1;stroke-miterlimit:10;\" d=\"M 117.25 184.765625 L 117.25 182.027344 \"/>\n<path style=\"fill:none;stroke-width:1.422638;stroke-linecap:butt;stroke-linejoin:round;stroke:rgb(20%,20%,20%);stroke-opacity:1;stroke-miterlimit:10;\" d=\"M 164.109375 184.765625 L 164.109375 182.027344 \"/>\n<path style=\"fill:none;stroke-width:1.422638;stroke-linecap:butt;stroke-linejoin:round;stroke:rgb(20%,20%,20%);stroke-opacity:1;stroke-miterlimit:10;\" d=\"M 210.96875 184.765625 L 210.96875 182.027344 \"/>\n<path style=\"fill:none;stroke-width:1.422638;stroke-linecap:butt;stroke-linejoin:round;stroke:rgb(20%,20%,20%);stroke-opacity:1;stroke-miterlimit:10;\" d=\"M 257.828125 184.765625 L 257.828125 182.027344 \"/>\n<path style=\"fill:none;stroke-width:1.422638;stroke-linecap:butt;stroke-linejoin:round;stroke:rgb(20%,20%,20%);stroke-opacity:1;stroke-miterlimit:10;\" d=\"M 304.6875 184.765625 L 304.6875 182.027344 \"/>\n<path style=\"fill:none;stroke-width:1.422638;stroke-linecap:butt;stroke-linejoin:round;stroke:rgb(20%,20%,20%);stroke-opacity:1;stroke-miterlimit:10;\" d=\"M 351.546875 184.765625 L 351.546875 182.027344 \"/>\n<path style=\"fill:none;stroke-width:1.422638;stroke-linecap:butt;stroke-linejoin:round;stroke:rgb(20%,20%,20%);stroke-opacity:1;stroke-miterlimit:10;\" d=\"M 398.40625 184.765625 L 398.40625 182.027344 \"/>\n<g style=\"fill:rgb(0%,0%,0%);fill-opacity:1;\">\n  <use xlink:href=\"#glyph1-5\" x=\"66.601591\" y=\"194.180968\"/>\n</g>\n<g style=\"fill:rgb(0%,0%,0%);fill-opacity:1;\">\n  <use xlink:href=\"#glyph1-6\" x=\"113.460483\" y=\"194.180968\"/>\n</g>\n<g style=\"fill:rgb(0%,0%,0%);fill-opacity:1;\">\n  <use xlink:href=\"#glyph1-7\" x=\"160.027138\" y=\"194.180968\"/>\n</g>\n<g style=\"fill:rgb(0%,0%,0%);fill-opacity:1;\">\n  <use xlink:href=\"#glyph1-8\" x=\"207.178265\" y=\"194.180968\"/>\n</g>\n<g style=\"fill:rgb(0%,0%,0%);fill-opacity:1;\">\n  <use xlink:href=\"#glyph1-9\" x=\"254.62163\" y=\"194.180968\"/>\n</g>\n<g style=\"fill:rgb(0%,0%,0%);fill-opacity:1;\">\n  <use xlink:href=\"#glyph1-10\" x=\"300.896048\" y=\"194.180968\"/>\n</g>\n<g style=\"fill:rgb(0%,0%,0%);fill-opacity:1;\">\n  <use xlink:href=\"#glyph1-11\" x=\"347.75494\" y=\"194.180968\"/>\n</g>\n<g style=\"fill:rgb(0%,0%,0%);fill-opacity:1;\">\n  <use xlink:href=\"#glyph1-12\" x=\"394.903504\" y=\"194.180968\"/>\n</g>\n<g style=\"fill:rgb(0%,0%,0%);fill-opacity:1;\">\n  <use xlink:href=\"#glyph2-1\" x=\"195.149703\" y=\"207.520548\"/>\n  <use xlink:href=\"#glyph2-2\" x=\"198.618453\" y=\"207.520548\"/>\n  <use xlink:href=\"#glyph2-3\" x=\"206.962203\" y=\"207.520548\"/>\n  <use xlink:href=\"#glyph2-4\" x=\"215.993453\" y=\"207.520548\"/>\n  <use xlink:href=\"#glyph2-5\" x=\"219.462203\" y=\"207.520548\"/>\n  <use xlink:href=\"#glyph2-6\" x=\"223.618453\" y=\"207.520548\"/>\n  <use xlink:href=\"#glyph2-7\" x=\"231.259078\" y=\"207.520548\"/>\n  <use xlink:href=\"#glyph2-4\" x=\"238.899703\" y=\"207.520548\"/>\n  <use xlink:href=\"#glyph2-8\" x=\"242.368453\" y=\"207.520548\"/>\n  <use xlink:href=\"#glyph2-9\" x=\"249.321578\" y=\"207.520548\"/>\n  <use xlink:href=\"#glyph2-10\" x=\"252.790328\" y=\"207.520548\"/>\n  <use xlink:href=\"#glyph2-11\" x=\"259.743453\" y=\"207.520548\"/>\n  <use xlink:href=\"#glyph2-11\" x=\"266.696578\" y=\"207.520548\"/>\n</g>\n<g style=\"fill:rgb(0%,0%,0%);fill-opacity:1;\">\n  <use xlink:href=\"#glyph3-1\" x=\"14.079306\" y=\"160.427567\"/>\n  <use xlink:href=\"#glyph3-2\" x=\"14.079306\" y=\"150.708817\"/>\n  <use xlink:href=\"#glyph3-3\" x=\"14.079306\" y=\"145.849442\"/>\n  <use xlink:href=\"#glyph3-4\" x=\"14.079306\" y=\"138.896317\"/>\n  <use xlink:href=\"#glyph3-5\" x=\"14.079306\" y=\"131.255692\"/>\n  <use xlink:href=\"#glyph3-6\" x=\"14.079306\" y=\"127.099442\"/>\n  <use xlink:href=\"#glyph3-7\" x=\"14.079306\" y=\"120.146317\"/>\n  <use xlink:href=\"#glyph3-8\" x=\"14.079306\" y=\"112.505692\"/>\n  <use xlink:href=\"#glyph3-9\" x=\"14.079306\" y=\"109.036942\"/>\n  <use xlink:href=\"#glyph3-3\" x=\"14.079306\" y=\"101.396317\"/>\n  <use xlink:href=\"#glyph3-5\" x=\"14.079306\" y=\"94.443192\"/>\n  <use xlink:href=\"#glyph3-6\" x=\"14.079306\" y=\"90.286942\"/>\n  <use xlink:href=\"#glyph3-4\" x=\"14.079306\" y=\"83.333817\"/>\n  <use xlink:href=\"#glyph3-5\" x=\"14.079306\" y=\"75.693192\"/>\n  <use xlink:href=\"#glyph3-10\" x=\"14.079306\" y=\"71.536942\"/>\n  <use xlink:href=\"#glyph3-8\" x=\"14.079306\" y=\"64.583817\"/>\n  <use xlink:href=\"#glyph3-11\" x=\"14.079306\" y=\"61.115067\"/>\n  <use xlink:href=\"#glyph3-12\" x=\"14.079306\" y=\"54.161942\"/>\n  <use xlink:href=\"#glyph3-13\" x=\"14.079306\" y=\"46.521317\"/>\n  <use xlink:href=\"#glyph3-4\" x=\"14.079306\" y=\"38.880692\"/>\n  <use xlink:href=\"#glyph3-5\" x=\"14.079306\" y=\"31.240067\"/>\n</g>\n</g>\n</svg>\n",
      "text/plain": [
       "plot without title"
      ]
     },
     "metadata": {
      "application/pdf": {
       "height": 180,
       "width": 360
      },
      "image/jpeg": {
       "height": 180,
       "width": 360
      },
      "image/png": {
       "height": 180,
       "width": 360
      },
      "image/svg+xml": {
       "height": 180,
       "isolated": true,
       "width": 360
      }
     },
     "output_type": "display_data"
    }
   ],
   "source": [
    "options(repr.plot.width = 6, repr.plot.height = 3)\n",
    "foo %>%\n",
    "    ggplot(aes(x=reorder(ipc_top, -frequency), y=frequency)) + \n",
    "    geom_col(fill=gray_scale[4], color=gray_scale[5], width=0.6) +\n",
    "    theme_bw() + \n",
    "    ylim(0, 900) +\n",
    "    geom_text(aes(label=frequency), vjust=-0.5) + \n",
    "    labs(\n",
    "        x='IPC top class', \n",
    "        y='Granted patents count',\n",
    "    ) +\n",
    "    theme(\n",
    "        panel.grid.minor = element_blank(),\n",
    "        panel.border = element_blank(),\n",
    "        axis.line = element_line(color = \"black\"),\n",
    "        axis.text.x=element_text(face='bold', color='black', size=10),\n",
    "        axis.title.x=element_text(size=12, face='bold'),\n",
    "        axis.text.y=element_text(face='bold', color='black', size=10),\n",
    "        axis.title.y=element_text(size=12, face='bold'),\n",
    "        ) -> p1\n",
    "\n",
    "p1\n",
    "    "
   ]
  },
  {
   "cell_type": "code",
   "execution_count": 47,
   "metadata": {
    "vscode": {
     "languageId": "r"
    }
   },
   "outputs": [],
   "source": [
    "ggsave(\n",
    "    p1, \n",
    "    file='work/docs/images/blog/airbus_ipc_top.png',\n",
    "    width=6, height=3, type=\"cairo-png\",\n",
    "    device = grDevices::png, \n",
    "    dpi=300, bg='transparent')"
   ]
  },
  {
   "cell_type": "code",
   "execution_count": 319,
   "metadata": {
    "vscode": {
     "languageId": "r"
    }
   },
   "outputs": [
    {
     "data": {
      "application/pdf": "[encoded data removed]",
      "image/jpeg": "[encoded data removed]",
      "image/png": "[encoded data removed]",
      "image/svg+xml": "<?xml version=\"1.0\" encoding=\"UTF-8\"?>\n<svg xmlns=\"http://www.w3.org/2000/svg\" xmlns:xlink=\"http://www.w3.org/1999/xlink\" width=\"432pt\" height=\"216pt\" viewBox=\"0 0 432 216\" version=\"1.1\">\n<defs>\n<g>\n<symbol overflow=\"visible\" id=\"glyph0-0\">\n<path style=\"stroke:none;\" d=\"M 0.390625 0 L 0.390625 -7.703125 L 3.453125 -7.703125 L 3.453125 0 Z M 0.765625 -0.390625 L 3.0625 -0.390625 L 3.0625 -7.3125 L 0.765625 -7.3125 Z M 0.765625 -0.390625 \"/>\n</symbol>\n<symbol overflow=\"visible\" id=\"glyph0-1\">\n<path style=\"stroke:none;\" d=\"M 5.921875 -2.59375 C 5.921875 -2.195312 5.863281 -1.832031 5.75 -1.5 C 5.632812 -1.164062 5.46875 -0.878906 5.25 -0.640625 C 5.039062 -0.398438 4.773438 -0.210938 4.453125 -0.078125 C 4.128906 0.046875 3.757812 0.109375 3.34375 0.109375 C 2.882812 0.109375 2.484375 0.0195312 2.140625 -0.15625 C 1.796875 -0.332031 1.507812 -0.585938 1.28125 -0.921875 C 1.050781 -1.253906 0.878906 -1.660156 0.765625 -2.140625 C 0.648438 -2.617188 0.59375 -3.164062 0.59375 -3.78125 C 0.59375 -4.488281 0.65625 -5.109375 0.78125 -5.640625 C 0.90625 -6.179688 1.085938 -6.628906 1.328125 -6.984375 C 1.578125 -7.335938 1.878906 -7.601562 2.234375 -7.78125 C 2.585938 -7.96875 2.984375 -8.0625 3.421875 -8.0625 C 3.691406 -8.0625 3.945312 -8.03125 4.1875 -7.96875 C 4.425781 -7.914062 4.640625 -7.828125 4.828125 -7.703125 C 5.023438 -7.578125 5.195312 -7.410156 5.34375 -7.203125 C 5.488281 -6.992188 5.601562 -6.738281 5.6875 -6.4375 L 4.71875 -6.265625 C 4.613281 -6.609375 4.445312 -6.851562 4.21875 -7 C 3.988281 -7.15625 3.722656 -7.234375 3.421875 -7.234375 C 3.140625 -7.234375 2.882812 -7.164062 2.65625 -7.03125 C 2.4375 -6.90625 2.242188 -6.710938 2.078125 -6.453125 C 1.921875 -6.191406 1.800781 -5.863281 1.71875 -5.46875 C 1.632812 -5.070312 1.59375 -4.613281 1.59375 -4.09375 C 1.78125 -4.425781 2.039062 -4.679688 2.375 -4.859375 C 2.707031 -5.046875 3.09375 -5.140625 3.53125 -5.140625 C 3.882812 -5.140625 4.207031 -5.078125 4.5 -4.953125 C 4.789062 -4.835938 5.039062 -4.671875 5.25 -4.453125 C 5.46875 -4.234375 5.632812 -3.96875 5.75 -3.65625 C 5.863281 -3.34375 5.921875 -2.988281 5.921875 -2.59375 Z M 4.875 -2.546875 C 4.875 -2.828125 4.835938 -3.078125 4.765625 -3.296875 C 4.703125 -3.515625 4.601562 -3.703125 4.46875 -3.859375 C 4.34375 -4.015625 4.175781 -4.132812 3.96875 -4.21875 C 3.769531 -4.3125 3.539062 -4.359375 3.28125 -4.359375 C 3.09375 -4.359375 2.90625 -4.328125 2.71875 -4.265625 C 2.53125 -4.210938 2.359375 -4.125 2.203125 -4 C 2.054688 -3.882812 1.9375 -3.722656 1.84375 -3.515625 C 1.75 -3.316406 1.703125 -3.078125 1.703125 -2.796875 C 1.703125 -2.503906 1.738281 -2.226562 1.8125 -1.96875 C 1.882812 -1.71875 1.988281 -1.5 2.125 -1.3125 C 2.269531 -1.125 2.441406 -0.972656 2.640625 -0.859375 C 2.835938 -0.753906 3.0625 -0.703125 3.3125 -0.703125 C 3.5625 -0.703125 3.78125 -0.742188 3.96875 -0.828125 C 4.164062 -0.910156 4.332031 -1.03125 4.46875 -1.1875 C 4.601562 -1.351562 4.703125 -1.550781 4.765625 -1.78125 C 4.835938 -2.007812 4.875 -2.265625 4.875 -2.546875 Z M 4.875 -2.546875 \"/>\n</symbol>\n<symbol overflow=\"visible\" id=\"glyph0-2\">\n<path style=\"stroke:none;\" d=\"M 0.578125 0 L 0.578125 -0.71875 C 0.773438 -1.15625 1.007812 -1.539062 1.28125 -1.875 C 1.5625 -2.21875 1.851562 -2.523438 2.15625 -2.796875 C 2.457031 -3.066406 2.753906 -3.316406 3.046875 -3.546875 C 3.347656 -3.785156 3.617188 -4.019531 3.859375 -4.25 C 4.109375 -4.476562 4.304688 -4.722656 4.453125 -4.984375 C 4.597656 -5.242188 4.671875 -5.535156 4.671875 -5.859375 C 4.671875 -6.078125 4.632812 -6.269531 4.5625 -6.4375 C 4.5 -6.613281 4.40625 -6.757812 4.28125 -6.875 C 4.15625 -6.988281 4 -7.078125 3.8125 -7.140625 C 3.632812 -7.203125 3.4375 -7.234375 3.21875 -7.234375 C 3.019531 -7.234375 2.832031 -7.203125 2.65625 -7.140625 C 2.476562 -7.085938 2.316406 -7.003906 2.171875 -6.890625 C 2.035156 -6.773438 1.921875 -6.632812 1.828125 -6.46875 C 1.742188 -6.300781 1.6875 -6.109375 1.65625 -5.890625 L 0.625 -5.984375 C 0.65625 -6.265625 0.734375 -6.53125 0.859375 -6.78125 C 0.984375 -7.039062 1.15625 -7.265625 1.375 -7.453125 C 1.59375 -7.640625 1.851562 -7.785156 2.15625 -7.890625 C 2.46875 -8.003906 2.820312 -8.0625 3.21875 -8.0625 C 3.613281 -8.0625 3.960938 -8.015625 4.265625 -7.921875 C 4.578125 -7.828125 4.835938 -7.6875 5.046875 -7.5 C 5.265625 -7.320312 5.429688 -7.097656 5.546875 -6.828125 C 5.660156 -6.554688 5.71875 -6.242188 5.71875 -5.890625 C 5.71875 -5.617188 5.664062 -5.363281 5.5625 -5.125 C 5.46875 -4.882812 5.34375 -4.65625 5.1875 -4.4375 C 5.03125 -4.21875 4.84375 -4.003906 4.625 -3.796875 C 4.414062 -3.597656 4.195312 -3.398438 3.96875 -3.203125 C 3.738281 -3.015625 3.507812 -2.820312 3.28125 -2.625 C 3.050781 -2.4375 2.832031 -2.25 2.625 -2.0625 C 2.414062 -1.875 2.226562 -1.679688 2.0625 -1.484375 C 1.90625 -1.285156 1.785156 -1.078125 1.703125 -0.859375 L 5.84375 -0.859375 L 5.84375 0 Z M 0.578125 0 \"/>\n</symbol>\n<symbol overflow=\"visible\" id=\"glyph0-3\">\n<path style=\"stroke:none;\" d=\"M 5.9375 -2.59375 C 5.9375 -2.1875 5.875 -1.816406 5.75 -1.484375 C 5.632812 -1.160156 5.457031 -0.878906 5.21875 -0.640625 C 4.976562 -0.398438 4.679688 -0.210938 4.328125 -0.078125 C 3.984375 0.046875 3.582031 0.109375 3.125 0.109375 C 2.695312 0.109375 2.328125 0.0625 2.015625 -0.03125 C 1.710938 -0.132812 1.453125 -0.269531 1.234375 -0.4375 C 1.023438 -0.601562 0.859375 -0.800781 0.734375 -1.03125 C 0.609375 -1.257812 0.519531 -1.507812 0.46875 -1.78125 L 1.484375 -1.890625 C 1.523438 -1.742188 1.582031 -1.597656 1.65625 -1.453125 C 1.738281 -1.316406 1.84375 -1.191406 1.96875 -1.078125 C 2.101562 -0.960938 2.265625 -0.875 2.453125 -0.8125 C 2.640625 -0.75 2.867188 -0.71875 3.140625 -0.71875 C 3.398438 -0.71875 3.632812 -0.753906 3.84375 -0.828125 C 4.0625 -0.910156 4.25 -1.03125 4.40625 -1.1875 C 4.5625 -1.351562 4.675781 -1.550781 4.75 -1.78125 C 4.832031 -2.007812 4.875 -2.269531 4.875 -2.5625 C 4.875 -2.8125 4.832031 -3.035156 4.75 -3.234375 C 4.675781 -3.441406 4.566406 -3.617188 4.421875 -3.765625 C 4.273438 -3.910156 4.09375 -4.023438 3.875 -4.109375 C 3.664062 -4.191406 3.425781 -4.234375 3.15625 -4.234375 C 2.988281 -4.234375 2.832031 -4.21875 2.6875 -4.1875 C 2.550781 -4.164062 2.421875 -4.125 2.296875 -4.0625 C 2.171875 -4.007812 2.054688 -3.945312 1.953125 -3.875 C 1.859375 -3.8125 1.769531 -3.742188 1.6875 -3.671875 L 0.6875 -3.671875 L 0.953125 -7.9375 L 5.46875 -7.9375 L 5.46875 -7.078125 L 1.890625 -7.078125 L 1.734375 -4.5625 C 1.910156 -4.695312 2.132812 -4.8125 2.40625 -4.90625 C 2.675781 -5.007812 3 -5.0625 3.375 -5.0625 C 3.769531 -5.0625 4.125 -5 4.4375 -4.875 C 4.75 -4.757812 5.015625 -4.59375 5.234375 -4.375 C 5.460938 -4.15625 5.632812 -3.894531 5.75 -3.59375 C 5.875 -3.289062 5.9375 -2.957031 5.9375 -2.59375 Z M 5.9375 -2.59375 \"/>\n</symbol>\n<symbol overflow=\"visible\" id=\"glyph0-4\">\n<path style=\"stroke:none;\" d=\"M 4.96875 -1.796875 L 4.96875 0 L 4.015625 0 L 4.015625 -1.796875 L 0.265625 -1.796875 L 0.265625 -2.59375 L 3.90625 -7.9375 L 4.96875 -7.9375 L 4.96875 -2.59375 L 6.078125 -2.59375 L 6.078125 -1.796875 Z M 4.015625 -6.796875 C 4.003906 -6.773438 3.984375 -6.738281 3.953125 -6.6875 C 3.921875 -6.632812 3.882812 -6.570312 3.84375 -6.5 C 3.8125 -6.4375 3.773438 -6.367188 3.734375 -6.296875 C 3.691406 -6.234375 3.65625 -6.175781 3.625 -6.125 L 1.59375 -3.125 C 1.570312 -3.09375 1.539062 -3.050781 1.5 -3 C 1.46875 -2.957031 1.429688 -2.910156 1.390625 -2.859375 C 1.359375 -2.804688 1.320312 -2.753906 1.28125 -2.703125 C 1.25 -2.660156 1.222656 -2.625 1.203125 -2.59375 L 4.015625 -2.59375 Z M 4.015625 -6.796875 \"/>\n</symbol>\n<symbol overflow=\"visible\" id=\"glyph0-5\">\n<path style=\"stroke:none;\" d=\"M 5.875 -4.125 C 5.875 -3.425781 5.804688 -2.8125 5.671875 -2.28125 C 5.535156 -1.75 5.34375 -1.304688 5.09375 -0.953125 C 4.851562 -0.597656 4.554688 -0.332031 4.203125 -0.15625 C 3.847656 0.0195312 3.445312 0.109375 3 0.109375 C 2.695312 0.109375 2.421875 0.078125 2.171875 0.015625 C 1.929688 -0.046875 1.710938 -0.140625 1.515625 -0.265625 C 1.328125 -0.398438 1.164062 -0.570312 1.03125 -0.78125 C 0.894531 -0.988281 0.785156 -1.242188 0.703125 -1.546875 L 1.671875 -1.703125 C 1.773438 -1.359375 1.9375 -1.101562 2.15625 -0.9375 C 2.382812 -0.78125 2.671875 -0.703125 3.015625 -0.703125 C 3.285156 -0.703125 3.535156 -0.765625 3.765625 -0.890625 C 3.992188 -1.023438 4.1875 -1.222656 4.34375 -1.484375 C 4.507812 -1.742188 4.632812 -2.066406 4.71875 -2.453125 C 4.8125 -2.847656 4.863281 -3.304688 4.875 -3.828125 C 4.789062 -3.648438 4.679688 -3.492188 4.546875 -3.359375 C 4.410156 -3.222656 4.253906 -3.101562 4.078125 -3 C 3.898438 -2.90625 3.707031 -2.832031 3.5 -2.78125 C 3.300781 -2.738281 3.097656 -2.71875 2.890625 -2.71875 C 2.535156 -2.71875 2.210938 -2.78125 1.921875 -2.90625 C 1.628906 -3.03125 1.378906 -3.207031 1.171875 -3.4375 C 0.972656 -3.675781 0.816406 -3.957031 0.703125 -4.28125 C 0.597656 -4.613281 0.546875 -4.984375 0.546875 -5.390625 C 0.546875 -5.796875 0.601562 -6.164062 0.71875 -6.5 C 0.832031 -6.832031 1.003906 -7.113281 1.234375 -7.34375 C 1.460938 -7.570312 1.738281 -7.75 2.0625 -7.875 C 2.394531 -8 2.769531 -8.0625 3.1875 -8.0625 C 4.070312 -8.0625 4.738281 -7.734375 5.1875 -7.078125 C 5.644531 -6.421875 5.875 -5.4375 5.875 -4.125 Z M 4.765625 -5.109375 C 4.765625 -5.398438 4.726562 -5.675781 4.65625 -5.9375 C 4.59375 -6.195312 4.492188 -6.421875 4.359375 -6.609375 C 4.222656 -6.804688 4.050781 -6.957031 3.84375 -7.0625 C 3.644531 -7.175781 3.414062 -7.234375 3.15625 -7.234375 C 2.90625 -7.234375 2.679688 -7.191406 2.484375 -7.109375 C 2.296875 -7.023438 2.132812 -6.898438 2 -6.734375 C 1.863281 -6.578125 1.757812 -6.382812 1.6875 -6.15625 C 1.613281 -5.925781 1.578125 -5.671875 1.578125 -5.390625 C 1.578125 -5.117188 1.609375 -4.867188 1.671875 -4.640625 C 1.734375 -4.410156 1.832031 -4.210938 1.96875 -4.046875 C 2.101562 -3.878906 2.265625 -3.75 2.453125 -3.65625 C 2.648438 -3.5625 2.878906 -3.515625 3.140625 -3.515625 C 3.328125 -3.515625 3.515625 -3.546875 3.703125 -3.609375 C 3.898438 -3.671875 4.078125 -3.765625 4.234375 -3.890625 C 4.390625 -4.023438 4.515625 -4.191406 4.609375 -4.390625 C 4.710938 -4.597656 4.765625 -4.835938 4.765625 -5.109375 Z M 4.765625 -5.109375 \"/>\n</symbol>\n<symbol overflow=\"visible\" id=\"glyph0-6\">\n<path style=\"stroke:none;\" d=\"M 0.875 0 L 0.875 -0.859375 L 2.90625 -0.859375 L 2.90625 -6.96875 L 1.109375 -5.6875 L 1.109375 -6.65625 L 2.984375 -7.9375 L 3.921875 -7.9375 L 3.921875 -0.859375 L 5.859375 -0.859375 L 5.859375 0 Z M 0.875 0 \"/>\n</symbol>\n<symbol overflow=\"visible\" id=\"glyph0-7\">\n<path style=\"stroke:none;\" d=\"M 5.921875 -2.21875 C 5.921875 -1.875 5.863281 -1.5625 5.75 -1.28125 C 5.644531 -1 5.484375 -0.753906 5.265625 -0.546875 C 5.046875 -0.335938 4.765625 -0.175781 4.421875 -0.0625 C 4.078125 0.0507812 3.675781 0.109375 3.21875 0.109375 C 2.75 0.109375 2.34375 0.0507812 2 -0.0625 C 1.664062 -0.175781 1.382812 -0.332031 1.15625 -0.53125 C 0.9375 -0.738281 0.769531 -0.984375 0.65625 -1.265625 C 0.550781 -1.554688 0.5 -1.867188 0.5 -2.203125 C 0.5 -2.492188 0.539062 -2.75 0.625 -2.96875 C 0.71875 -3.195312 0.835938 -3.394531 0.984375 -3.5625 C 1.140625 -3.726562 1.3125 -3.859375 1.5 -3.953125 C 1.6875 -4.054688 1.882812 -4.125 2.09375 -4.15625 L 2.09375 -4.171875 C 1.863281 -4.222656 1.660156 -4.304688 1.484375 -4.421875 C 1.316406 -4.546875 1.171875 -4.6875 1.046875 -4.84375 C 0.929688 -5.007812 0.84375 -5.191406 0.78125 -5.390625 C 0.71875 -5.585938 0.6875 -5.800781 0.6875 -6.03125 C 0.6875 -6.300781 0.738281 -6.5625 0.84375 -6.8125 C 0.957031 -7.0625 1.117188 -7.273438 1.328125 -7.453125 C 1.535156 -7.640625 1.796875 -7.785156 2.109375 -7.890625 C 2.421875 -8.003906 2.78125 -8.0625 3.1875 -8.0625 C 3.625 -8.0625 4 -8.003906 4.3125 -7.890625 C 4.632812 -7.785156 4.898438 -7.640625 5.109375 -7.453125 C 5.316406 -7.265625 5.46875 -7.046875 5.5625 -6.796875 C 5.664062 -6.554688 5.71875 -6.296875 5.71875 -6.015625 C 5.71875 -5.796875 5.6875 -5.585938 5.625 -5.390625 C 5.5625 -5.191406 5.472656 -5.007812 5.359375 -4.84375 C 5.242188 -4.675781 5.097656 -4.535156 4.921875 -4.421875 C 4.742188 -4.304688 4.539062 -4.226562 4.3125 -4.1875 L 4.3125 -4.171875 C 4.539062 -4.128906 4.753906 -4.054688 4.953125 -3.953125 C 5.148438 -3.859375 5.316406 -3.726562 5.453125 -3.5625 C 5.597656 -3.40625 5.710938 -3.210938 5.796875 -2.984375 C 5.878906 -2.753906 5.921875 -2.5 5.921875 -2.21875 Z M 4.671875 -5.953125 C 4.671875 -6.160156 4.644531 -6.34375 4.59375 -6.5 C 4.539062 -6.664062 4.457031 -6.804688 4.34375 -6.921875 C 4.226562 -7.046875 4.078125 -7.140625 3.890625 -7.203125 C 3.703125 -7.273438 3.46875 -7.3125 3.1875 -7.3125 C 2.925781 -7.3125 2.703125 -7.273438 2.515625 -7.203125 C 2.328125 -7.140625 2.175781 -7.046875 2.0625 -6.921875 C 1.945312 -6.804688 1.859375 -6.664062 1.796875 -6.5 C 1.742188 -6.34375 1.71875 -6.160156 1.71875 -5.953125 C 1.71875 -5.796875 1.738281 -5.632812 1.78125 -5.46875 C 1.820312 -5.300781 1.894531 -5.148438 2 -5.015625 C 2.113281 -4.890625 2.265625 -4.78125 2.453125 -4.6875 C 2.648438 -4.601562 2.898438 -4.5625 3.203125 -4.5625 C 3.523438 -4.5625 3.78125 -4.601562 3.96875 -4.6875 C 4.164062 -4.78125 4.316406 -4.890625 4.421875 -5.015625 C 4.523438 -5.148438 4.59375 -5.300781 4.625 -5.46875 C 4.65625 -5.632812 4.671875 -5.796875 4.671875 -5.953125 Z M 4.859375 -2.3125 C 4.859375 -2.5 4.832031 -2.679688 4.78125 -2.859375 C 4.726562 -3.046875 4.640625 -3.207031 4.515625 -3.34375 C 4.390625 -3.476562 4.21875 -3.585938 4 -3.671875 C 3.78125 -3.753906 3.507812 -3.796875 3.1875 -3.796875 C 2.894531 -3.796875 2.644531 -3.753906 2.4375 -3.671875 C 2.226562 -3.585938 2.054688 -3.472656 1.921875 -3.328125 C 1.796875 -3.191406 1.703125 -3.03125 1.640625 -2.84375 C 1.578125 -2.664062 1.546875 -2.484375 1.546875 -2.296875 C 1.546875 -2.046875 1.578125 -1.816406 1.640625 -1.609375 C 1.703125 -1.410156 1.796875 -1.238281 1.921875 -1.09375 C 2.054688 -0.957031 2.226562 -0.847656 2.4375 -0.765625 C 2.65625 -0.679688 2.914062 -0.640625 3.21875 -0.640625 C 3.53125 -0.640625 3.789062 -0.679688 4 -0.765625 C 4.207031 -0.847656 4.375 -0.957031 4.5 -1.09375 C 4.632812 -1.238281 4.726562 -1.414062 4.78125 -1.625 C 4.832031 -1.832031 4.859375 -2.0625 4.859375 -2.3125 Z M 4.859375 -2.3125 \"/>\n</symbol>\n<symbol overflow=\"visible\" id=\"glyph0-8\">\n<path style=\"stroke:none;\" d=\"M 5.84375 -7.125 C 5.445312 -6.507812 5.078125 -5.921875 4.734375 -5.359375 C 4.398438 -4.796875 4.113281 -4.226562 3.875 -3.65625 C 3.632812 -3.09375 3.445312 -2.507812 3.3125 -1.90625 C 3.1875 -1.3125 3.125 -0.675781 3.125 0 L 2.0625 0 C 2.0625 -0.632812 2.132812 -1.253906 2.28125 -1.859375 C 2.4375 -2.472656 2.640625 -3.070312 2.890625 -3.65625 C 3.148438 -4.25 3.445312 -4.828125 3.78125 -5.390625 C 4.125 -5.960938 4.484375 -6.523438 4.859375 -7.078125 L 0.59375 -7.078125 L 0.59375 -7.9375 L 5.84375 -7.9375 Z M 5.84375 -7.125 \"/>\n</symbol>\n<symbol overflow=\"visible\" id=\"glyph0-9\">\n<path style=\"stroke:none;\" d=\"M 5.921875 -2.1875 C 5.921875 -1.820312 5.859375 -1.5 5.734375 -1.21875 C 5.617188 -0.9375 5.445312 -0.695312 5.21875 -0.5 C 4.988281 -0.300781 4.707031 -0.148438 4.375 -0.046875 C 4.039062 0.0546875 3.65625 0.109375 3.21875 0.109375 C 2.726562 0.109375 2.3125 0.0507812 1.96875 -0.0625 C 1.632812 -0.1875 1.359375 -0.347656 1.140625 -0.546875 C 0.921875 -0.753906 0.753906 -0.984375 0.640625 -1.234375 C 0.535156 -1.492188 0.46875 -1.765625 0.4375 -2.046875 L 1.484375 -2.140625 C 1.515625 -1.929688 1.570312 -1.738281 1.65625 -1.5625 C 1.738281 -1.382812 1.847656 -1.234375 1.984375 -1.109375 C 2.117188 -0.992188 2.285156 -0.898438 2.484375 -0.828125 C 2.691406 -0.765625 2.9375 -0.734375 3.21875 -0.734375 C 3.726562 -0.734375 4.128906 -0.859375 4.421875 -1.109375 C 4.710938 -1.359375 4.859375 -1.734375 4.859375 -2.234375 C 4.859375 -2.523438 4.789062 -2.757812 4.65625 -2.9375 C 4.53125 -3.113281 4.367188 -3.25 4.171875 -3.34375 C 3.984375 -3.445312 3.773438 -3.515625 3.546875 -3.546875 C 3.316406 -3.585938 3.109375 -3.609375 2.921875 -3.609375 L 2.34375 -3.609375 L 2.34375 -4.484375 L 2.890625 -4.484375 C 3.085938 -4.484375 3.289062 -4.5 3.5 -4.53125 C 3.707031 -4.570312 3.894531 -4.644531 4.0625 -4.75 C 4.226562 -4.851562 4.367188 -4.992188 4.484375 -5.171875 C 4.597656 -5.347656 4.65625 -5.578125 4.65625 -5.859375 C 4.65625 -6.273438 4.53125 -6.609375 4.28125 -6.859375 C 4.03125 -7.109375 3.65625 -7.234375 3.15625 -7.234375 C 2.707031 -7.234375 2.34375 -7.117188 2.0625 -6.890625 C 1.789062 -6.660156 1.632812 -6.335938 1.59375 -5.921875 L 0.578125 -6 C 0.617188 -6.34375 0.710938 -6.644531 0.859375 -6.90625 C 1.015625 -7.164062 1.207031 -7.378906 1.4375 -7.546875 C 1.664062 -7.722656 1.925781 -7.851562 2.21875 -7.9375 C 2.519531 -8.019531 2.835938 -8.0625 3.171875 -8.0625 C 3.617188 -8.0625 4 -8.003906 4.3125 -7.890625 C 4.632812 -7.785156 4.894531 -7.632812 5.09375 -7.4375 C 5.300781 -7.25 5.453125 -7.023438 5.546875 -6.765625 C 5.640625 -6.515625 5.6875 -6.242188 5.6875 -5.953125 C 5.6875 -5.722656 5.65625 -5.503906 5.59375 -5.296875 C 5.53125 -5.097656 5.429688 -4.914062 5.296875 -4.75 C 5.160156 -4.59375 4.988281 -4.457031 4.78125 -4.34375 C 4.570312 -4.226562 4.320312 -4.140625 4.03125 -4.078125 L 4.03125 -4.046875 C 4.351562 -4.015625 4.628906 -3.941406 4.859375 -3.828125 C 5.097656 -3.722656 5.296875 -3.585938 5.453125 -3.421875 C 5.609375 -3.253906 5.722656 -3.066406 5.796875 -2.859375 C 5.878906 -2.648438 5.921875 -2.425781 5.921875 -2.1875 Z M 5.921875 -2.1875 \"/>\n</symbol>\n<symbol overflow=\"visible\" id=\"glyph1-0\">\n<path style=\"stroke:none;\" d=\"M 0.3125 0 L 0.3125 -6.203125 L 2.78125 -6.203125 L 2.78125 0 Z M 0.625 -0.3125 L 2.46875 -0.3125 L 2.46875 -5.890625 L 0.625 -5.890625 Z M 0.625 -0.3125 \"/>\n</symbol>\n<symbol overflow=\"visible\" id=\"glyph1-1\">\n<path style=\"stroke:none;\" d=\"M 4.796875 -3.203125 C 4.796875 -2.585938 4.738281 -2.070312 4.625 -1.65625 C 4.507812 -1.238281 4.351562 -0.898438 4.15625 -0.640625 C 3.957031 -0.378906 3.722656 -0.191406 3.453125 -0.078125 C 3.179688 0.0351562 2.882812 0.09375 2.5625 0.09375 C 2.238281 0.09375 1.941406 0.0351562 1.671875 -0.078125 C 1.410156 -0.191406 1.179688 -0.375 0.984375 -0.625 C 0.785156 -0.882812 0.632812 -1.222656 0.53125 -1.640625 C 0.425781 -2.066406 0.375 -2.585938 0.375 -3.203125 C 0.375 -3.847656 0.425781 -4.378906 0.53125 -4.796875 C 0.632812 -5.222656 0.785156 -5.5625 0.984375 -5.8125 C 1.179688 -6.0625 1.414062 -6.234375 1.6875 -6.328125 C 1.96875 -6.429688 2.269531 -6.484375 2.59375 -6.484375 C 2.90625 -6.484375 3.195312 -6.429688 3.46875 -6.328125 C 3.738281 -6.234375 3.96875 -6.0625 4.15625 -5.8125 C 4.351562 -5.5625 4.507812 -5.222656 4.625 -4.796875 C 4.738281 -4.378906 4.796875 -3.847656 4.796875 -3.203125 Z M 3.515625 -3.203125 C 3.515625 -3.648438 3.492188 -4.019531 3.453125 -4.3125 C 3.421875 -4.613281 3.367188 -4.847656 3.296875 -5.015625 C 3.222656 -5.191406 3.128906 -5.316406 3.015625 -5.390625 C 2.898438 -5.460938 2.757812 -5.5 2.59375 -5.5 C 2.414062 -5.5 2.265625 -5.460938 2.140625 -5.390625 C 2.023438 -5.316406 1.925781 -5.191406 1.84375 -5.015625 C 1.769531 -4.835938 1.71875 -4.601562 1.6875 -4.3125 C 1.65625 -4.019531 1.640625 -3.648438 1.640625 -3.203125 C 1.640625 -2.765625 1.65625 -2.394531 1.6875 -2.09375 C 1.726562 -1.800781 1.785156 -1.566406 1.859375 -1.390625 C 1.929688 -1.210938 2.023438 -1.085938 2.140625 -1.015625 C 2.253906 -0.941406 2.398438 -0.90625 2.578125 -0.90625 C 2.742188 -0.90625 2.882812 -0.941406 3 -1.015625 C 3.113281 -1.085938 3.207031 -1.210938 3.28125 -1.390625 C 3.363281 -1.566406 3.421875 -1.800781 3.453125 -2.09375 C 3.492188 -2.394531 3.515625 -2.765625 3.515625 -3.203125 Z M 3.515625 -3.203125 \"/>\n</symbol>\n<symbol overflow=\"visible\" id=\"glyph1-2\">\n<path style=\"stroke:none;\" d=\"M 4.90625 -2.125 C 4.90625 -1.800781 4.851562 -1.503906 4.75 -1.234375 C 4.65625 -0.960938 4.507812 -0.726562 4.3125 -0.53125 C 4.113281 -0.332031 3.863281 -0.175781 3.5625 -0.0625 C 3.269531 0.0390625 2.929688 0.09375 2.546875 0.09375 C 2.179688 0.09375 1.863281 0.0507812 1.59375 -0.03125 C 1.332031 -0.125 1.109375 -0.242188 0.921875 -0.390625 C 0.742188 -0.546875 0.601562 -0.726562 0.5 -0.9375 C 0.394531 -1.144531 0.320312 -1.363281 0.28125 -1.59375 L 1.5625 -1.703125 C 1.582031 -1.597656 1.613281 -1.5 1.65625 -1.40625 C 1.707031 -1.3125 1.769531 -1.226562 1.84375 -1.15625 C 1.925781 -1.082031 2.023438 -1.023438 2.140625 -0.984375 C 2.253906 -0.941406 2.394531 -0.921875 2.5625 -0.921875 C 2.875 -0.921875 3.125 -1.019531 3.3125 -1.21875 C 3.5 -1.425781 3.59375 -1.722656 3.59375 -2.109375 C 3.59375 -2.273438 3.566406 -2.425781 3.515625 -2.5625 C 3.472656 -2.695312 3.410156 -2.8125 3.328125 -2.90625 C 3.242188 -3.007812 3.140625 -3.082031 3.015625 -3.125 C 2.890625 -3.175781 2.742188 -3.203125 2.578125 -3.203125 C 2.367188 -3.203125 2.195312 -3.160156 2.0625 -3.078125 C 1.925781 -3.003906 1.8125 -2.910156 1.71875 -2.796875 L 0.46875 -2.796875 L 0.6875 -6.390625 L 4.546875 -6.390625 L 4.546875 -5.453125 L 1.859375 -5.453125 L 1.75 -3.828125 C 1.875 -3.941406 2.03125 -4.035156 2.21875 -4.109375 C 2.414062 -4.191406 2.644531 -4.234375 2.90625 -4.234375 C 3.21875 -4.234375 3.5 -4.179688 3.75 -4.078125 C 4 -3.984375 4.207031 -3.84375 4.375 -3.65625 C 4.550781 -3.46875 4.679688 -3.242188 4.765625 -2.984375 C 4.859375 -2.722656 4.90625 -2.4375 4.90625 -2.125 Z M 4.90625 -2.125 \"/>\n</symbol>\n<symbol overflow=\"visible\" id=\"glyph1-3\">\n<path style=\"stroke:none;\" d=\"M 0.578125 0 L 0.578125 -0.953125 L 2.171875 -0.953125 L 2.171875 -5.3125 L 0.640625 -4.359375 L 0.640625 -5.359375 L 2.234375 -6.390625 L 3.453125 -6.390625 L 3.453125 -0.953125 L 4.90625 -0.953125 L 4.90625 0 Z M 0.578125 0 \"/>\n</symbol>\n<symbol overflow=\"visible\" id=\"glyph2-0\">\n<path style=\"stroke:none;\" d=\"M 0.34375 0 L 0.34375 -7 L 3.140625 -7 L 3.140625 0 Z M 0.703125 -0.34375 L 2.796875 -0.34375 L 2.796875 -6.65625 L 0.703125 -6.65625 Z M 0.703125 -0.34375 \"/>\n</symbol>\n<symbol overflow=\"visible\" id=\"glyph2-1\">\n<path style=\"stroke:none;\" d=\"M 0.359375 0 L 0.359375 -1 C 0.523438 -1.351562 0.722656 -1.675781 0.953125 -1.96875 C 1.191406 -2.257812 1.441406 -2.523438 1.703125 -2.765625 C 1.960938 -3.003906 2.21875 -3.226562 2.46875 -3.4375 C 2.726562 -3.644531 2.957031 -3.84375 3.15625 -4.03125 C 3.363281 -4.226562 3.53125 -4.421875 3.65625 -4.609375 C 3.78125 -4.804688 3.84375 -5.015625 3.84375 -5.234375 C 3.84375 -5.554688 3.757812 -5.796875 3.59375 -5.953125 C 3.4375 -6.109375 3.203125 -6.1875 2.890625 -6.1875 C 2.585938 -6.1875 2.351562 -6.101562 2.1875 -5.9375 C 2.03125 -5.769531 1.925781 -5.519531 1.875 -5.1875 L 0.421875 -5.265625 C 0.460938 -5.554688 0.535156 -5.820312 0.640625 -6.0625 C 0.742188 -6.3125 0.894531 -6.53125 1.09375 -6.71875 C 1.289062 -6.914062 1.535156 -7.066406 1.828125 -7.171875 C 2.117188 -7.273438 2.472656 -7.328125 2.890625 -7.328125 C 3.273438 -7.328125 3.617188 -7.28125 3.921875 -7.1875 C 4.222656 -7.101562 4.472656 -6.972656 4.671875 -6.796875 C 4.878906 -6.617188 5.035156 -6.40625 5.140625 -6.15625 C 5.253906 -5.90625 5.3125 -5.617188 5.3125 -5.296875 C 5.3125 -4.960938 5.242188 -4.65625 5.109375 -4.375 C 4.972656 -4.101562 4.800781 -3.851562 4.59375 -3.625 C 4.382812 -3.394531 4.148438 -3.175781 3.890625 -2.96875 C 3.640625 -2.769531 3.394531 -2.578125 3.15625 -2.390625 C 2.914062 -2.203125 2.695312 -2.007812 2.5 -1.8125 C 2.300781 -1.613281 2.15625 -1.40625 2.0625 -1.1875 L 5.421875 -1.1875 L 5.421875 0 Z M 0.359375 0 \"/>\n</symbol>\n<symbol overflow=\"visible\" id=\"glyph2-2\">\n<path style=\"stroke:none;\" d=\"M 5.40625 -3.609375 C 5.40625 -2.921875 5.34375 -2.335938 5.21875 -1.859375 C 5.09375 -1.390625 4.914062 -1.007812 4.6875 -0.71875 C 4.46875 -0.425781 4.203125 -0.210938 3.890625 -0.078125 C 3.585938 0.046875 3.253906 0.109375 2.890625 0.109375 C 2.535156 0.109375 2.203125 0.046875 1.890625 -0.078125 C 1.585938 -0.210938 1.328125 -0.425781 1.109375 -0.71875 C 0.890625 -1.007812 0.71875 -1.390625 0.59375 -1.859375 C 0.476562 -2.335938 0.421875 -2.921875 0.421875 -3.609375 C 0.421875 -4.335938 0.476562 -4.941406 0.59375 -5.421875 C 0.71875 -5.898438 0.890625 -6.28125 1.109375 -6.5625 C 1.335938 -6.84375 1.601562 -7.039062 1.90625 -7.15625 C 2.21875 -7.269531 2.5625 -7.328125 2.9375 -7.328125 C 3.289062 -7.328125 3.617188 -7.269531 3.921875 -7.15625 C 4.222656 -7.039062 4.484375 -6.84375 4.703125 -6.5625 C 4.921875 -6.28125 5.09375 -5.898438 5.21875 -5.421875 C 5.34375 -4.941406 5.40625 -4.335938 5.40625 -3.609375 Z M 3.96875 -3.609375 C 3.96875 -4.117188 3.945312 -4.539062 3.90625 -4.875 C 3.863281 -5.207031 3.800781 -5.472656 3.71875 -5.671875 C 3.644531 -5.867188 3.539062 -6.003906 3.40625 -6.078125 C 3.269531 -6.160156 3.109375 -6.203125 2.921875 -6.203125 C 2.722656 -6.203125 2.554688 -6.160156 2.421875 -6.078125 C 2.285156 -6.003906 2.175781 -5.867188 2.09375 -5.671875 C 2.007812 -5.472656 1.945312 -5.207031 1.90625 -4.875 C 1.875 -4.539062 1.859375 -4.117188 1.859375 -3.609375 C 1.859375 -3.117188 1.875 -2.707031 1.90625 -2.375 C 1.945312 -2.039062 2.007812 -1.773438 2.09375 -1.578125 C 2.175781 -1.378906 2.28125 -1.238281 2.40625 -1.15625 C 2.539062 -1.070312 2.707031 -1.03125 2.90625 -1.03125 C 3.09375 -1.03125 3.253906 -1.070312 3.390625 -1.15625 C 3.523438 -1.238281 3.632812 -1.378906 3.71875 -1.578125 C 3.800781 -1.773438 3.863281 -2.039062 3.90625 -2.375 C 3.945312 -2.707031 3.96875 -3.117188 3.96875 -3.609375 Z M 3.96875 -3.609375 \"/>\n</symbol>\n<symbol overflow=\"visible\" id=\"glyph2-3\">\n<path style=\"stroke:none;\" d=\"M 0.65625 0 L 0.65625 -1.078125 L 2.453125 -1.078125 L 2.453125 -6 L 0.71875 -4.921875 L 0.71875 -6.046875 L 2.53125 -7.21875 L 3.890625 -7.21875 L 3.890625 -1.078125 L 5.546875 -1.078125 L 5.546875 0 Z M 0.65625 0 \"/>\n</symbol>\n<symbol overflow=\"visible\" id=\"glyph2-4\">\n<path style=\"stroke:none;\" d=\"M 4.8125 -1.46875 L 4.8125 0 L 3.453125 0 L 3.453125 -1.46875 L 0.15625 -1.46875 L 0.15625 -2.546875 L 3.203125 -7.21875 L 4.8125 -7.21875 L 4.8125 -2.546875 L 5.78125 -2.546875 L 5.78125 -1.46875 Z M 3.453125 -4.90625 C 3.453125 -4.96875 3.453125 -5.046875 3.453125 -5.140625 C 3.453125 -5.234375 3.453125 -5.328125 3.453125 -5.421875 C 3.460938 -5.523438 3.46875 -5.617188 3.46875 -5.703125 C 3.476562 -5.796875 3.484375 -5.867188 3.484375 -5.921875 C 3.472656 -5.878906 3.445312 -5.820312 3.40625 -5.75 C 3.375 -5.6875 3.332031 -5.613281 3.28125 -5.53125 C 3.238281 -5.457031 3.191406 -5.378906 3.140625 -5.296875 C 3.085938 -5.210938 3.046875 -5.144531 3.015625 -5.09375 L 1.328125 -2.546875 L 3.453125 -2.546875 Z M 3.453125 -4.90625 \"/>\n</symbol>\n<symbol overflow=\"visible\" id=\"glyph2-5\">\n<path style=\"stroke:none;\" d=\"M 5.546875 -2.40625 C 5.546875 -2.039062 5.488281 -1.703125 5.375 -1.390625 C 5.257812 -1.085938 5.085938 -0.820312 4.859375 -0.59375 C 4.640625 -0.375 4.363281 -0.203125 4.03125 -0.078125 C 3.695312 0.046875 3.3125 0.109375 2.875 0.109375 C 2.46875 0.109375 2.113281 0.0625 1.8125 -0.03125 C 1.507812 -0.132812 1.253906 -0.269531 1.046875 -0.4375 C 0.847656 -0.613281 0.6875 -0.816406 0.5625 -1.046875 C 0.445312 -1.285156 0.367188 -1.539062 0.328125 -1.8125 L 1.765625 -1.921875 C 1.796875 -1.804688 1.832031 -1.695312 1.875 -1.59375 C 1.925781 -1.488281 1.992188 -1.394531 2.078125 -1.3125 C 2.171875 -1.226562 2.28125 -1.160156 2.40625 -1.109375 C 2.539062 -1.066406 2.703125 -1.046875 2.890625 -1.046875 C 3.242188 -1.046875 3.523438 -1.160156 3.734375 -1.390625 C 3.953125 -1.617188 4.0625 -1.945312 4.0625 -2.375 C 4.0625 -2.5625 4.035156 -2.734375 3.984375 -2.890625 C 3.929688 -3.046875 3.851562 -3.175781 3.75 -3.28125 C 3.65625 -3.394531 3.535156 -3.476562 3.390625 -3.53125 C 3.253906 -3.59375 3.097656 -3.625 2.921875 -3.625 C 2.679688 -3.625 2.484375 -3.578125 2.328125 -3.484375 C 2.171875 -3.398438 2.039062 -3.289062 1.9375 -3.15625 L 0.53125 -3.15625 L 0.78125 -7.21875 L 5.125 -7.21875 L 5.125 -6.15625 L 2.09375 -6.15625 L 1.96875 -4.328125 C 2.113281 -4.453125 2.296875 -4.554688 2.515625 -4.640625 C 2.734375 -4.734375 2.988281 -4.78125 3.28125 -4.78125 C 3.632812 -4.78125 3.953125 -4.722656 4.234375 -4.609375 C 4.515625 -4.492188 4.75 -4.332031 4.9375 -4.125 C 5.132812 -3.914062 5.285156 -3.664062 5.390625 -3.375 C 5.492188 -3.082031 5.546875 -2.757812 5.546875 -2.40625 Z M 5.546875 -2.40625 \"/>\n</symbol>\n<symbol overflow=\"visible\" id=\"glyph2-6\">\n<path style=\"stroke:none;\" d=\"M 5.453125 -2.359375 C 5.453125 -1.992188 5.398438 -1.660156 5.296875 -1.359375 C 5.203125 -1.054688 5.050781 -0.796875 4.84375 -0.578125 C 4.644531 -0.367188 4.390625 -0.203125 4.078125 -0.078125 C 3.773438 0.046875 3.425781 0.109375 3.03125 0.109375 C 2.175781 0.109375 1.519531 -0.1875 1.0625 -0.78125 C 0.613281 -1.382812 0.390625 -2.273438 0.390625 -3.453125 C 0.390625 -4.734375 0.617188 -5.695312 1.078125 -6.34375 C 1.546875 -7 2.207031 -7.328125 3.0625 -7.328125 C 3.351562 -7.328125 3.613281 -7.296875 3.84375 -7.234375 C 4.082031 -7.179688 4.296875 -7.085938 4.484375 -6.953125 C 4.671875 -6.816406 4.828125 -6.644531 4.953125 -6.4375 C 5.078125 -6.226562 5.179688 -5.972656 5.265625 -5.671875 L 3.90625 -5.484375 C 3.832031 -5.734375 3.71875 -5.910156 3.5625 -6.015625 C 3.414062 -6.128906 3.238281 -6.1875 3.03125 -6.1875 C 2.644531 -6.1875 2.34375 -5.992188 2.125 -5.609375 C 1.90625 -5.222656 1.796875 -4.640625 1.796875 -3.859375 C 1.953125 -4.109375 2.164062 -4.300781 2.4375 -4.4375 C 2.707031 -4.582031 3.015625 -4.65625 3.359375 -4.65625 C 3.679688 -4.65625 3.96875 -4.601562 4.21875 -4.5 C 4.476562 -4.394531 4.695312 -4.242188 4.875 -4.046875 C 5.0625 -3.847656 5.203125 -3.601562 5.296875 -3.3125 C 5.398438 -3.03125 5.453125 -2.710938 5.453125 -2.359375 Z M 4.015625 -2.328125 C 4.015625 -2.515625 3.988281 -2.6875 3.9375 -2.84375 C 3.894531 -3 3.828125 -3.128906 3.734375 -3.234375 C 3.648438 -3.347656 3.539062 -3.4375 3.40625 -3.5 C 3.269531 -3.5625 3.117188 -3.59375 2.953125 -3.59375 C 2.828125 -3.59375 2.695312 -3.570312 2.5625 -3.53125 C 2.4375 -3.488281 2.320312 -3.421875 2.21875 -3.328125 C 2.125 -3.234375 2.046875 -3.117188 1.984375 -2.984375 C 1.921875 -2.847656 1.890625 -2.675781 1.890625 -2.46875 C 1.890625 -2.269531 1.914062 -2.082031 1.96875 -1.90625 C 2.019531 -1.726562 2.09375 -1.570312 2.1875 -1.4375 C 2.28125 -1.300781 2.394531 -1.195312 2.53125 -1.125 C 2.664062 -1.050781 2.816406 -1.015625 2.984375 -1.015625 C 3.304688 -1.015625 3.554688 -1.128906 3.734375 -1.359375 C 3.921875 -1.597656 4.015625 -1.921875 4.015625 -2.328125 Z M 4.015625 -2.328125 \"/>\n</symbol>\n<symbol overflow=\"visible\" id=\"glyph2-7\">\n<path style=\"stroke:none;\" d=\"M 5.375 -6.078125 C 5.050781 -5.566406 4.742188 -5.066406 4.453125 -4.578125 C 4.171875 -4.097656 3.921875 -3.613281 3.703125 -3.125 C 3.484375 -2.644531 3.3125 -2.144531 3.1875 -1.625 C 3.0625 -1.113281 3 -0.570312 3 0 L 1.5 0 C 1.5 -0.570312 1.566406 -1.113281 1.703125 -1.625 C 1.835938 -2.144531 2.019531 -2.644531 2.25 -3.125 C 2.488281 -3.613281 2.757812 -4.097656 3.0625 -4.578125 C 3.375 -5.054688 3.703125 -5.546875 4.046875 -6.046875 L 0.453125 -6.046875 L 0.453125 -7.21875 L 5.375 -7.21875 Z M 5.375 -6.078125 \"/>\n</symbol>\n<symbol overflow=\"visible\" id=\"glyph2-8\">\n<path style=\"stroke:none;\" d=\"M 5.515625 -2.03125 C 5.515625 -1.71875 5.460938 -1.429688 5.359375 -1.171875 C 5.253906 -0.910156 5.097656 -0.6875 4.890625 -0.5 C 4.679688 -0.3125 4.410156 -0.160156 4.078125 -0.046875 C 3.753906 0.0546875 3.367188 0.109375 2.921875 0.109375 C 2.484375 0.109375 2.097656 0.0546875 1.765625 -0.046875 C 1.441406 -0.160156 1.171875 -0.3125 0.953125 -0.5 C 0.742188 -0.6875 0.585938 -0.910156 0.484375 -1.171875 C 0.378906 -1.429688 0.328125 -1.71875 0.328125 -2.03125 C 0.328125 -2.289062 0.367188 -2.519531 0.453125 -2.71875 C 0.535156 -2.925781 0.644531 -3.101562 0.78125 -3.25 C 0.914062 -3.394531 1.070312 -3.507812 1.25 -3.59375 C 1.425781 -3.6875 1.613281 -3.75 1.8125 -3.78125 L 1.8125 -3.796875 C 1.601562 -3.835938 1.414062 -3.910156 1.25 -4.015625 C 1.09375 -4.117188 0.957031 -4.242188 0.84375 -4.390625 C 0.738281 -4.535156 0.65625 -4.691406 0.59375 -4.859375 C 0.53125 -5.035156 0.5 -5.222656 0.5 -5.421875 C 0.5 -5.703125 0.550781 -5.960938 0.65625 -6.203125 C 0.757812 -6.441406 0.910156 -6.644531 1.109375 -6.8125 C 1.316406 -6.976562 1.566406 -7.101562 1.859375 -7.1875 C 2.160156 -7.28125 2.507812 -7.328125 2.90625 -7.328125 C 3.320312 -7.328125 3.679688 -7.28125 3.984375 -7.1875 C 4.296875 -7.09375 4.550781 -6.960938 4.75 -6.796875 C 4.945312 -6.628906 5.09375 -6.425781 5.1875 -6.1875 C 5.289062 -5.945312 5.34375 -5.6875 5.34375 -5.40625 C 5.34375 -5.21875 5.3125 -5.035156 5.25 -4.859375 C 5.1875 -4.679688 5.097656 -4.519531 4.984375 -4.375 C 4.867188 -4.238281 4.726562 -4.117188 4.5625 -4.015625 C 4.40625 -3.921875 4.226562 -3.851562 4.03125 -3.8125 L 4.03125 -3.78125 C 4.238281 -3.75 4.429688 -3.6875 4.609375 -3.59375 C 4.796875 -3.507812 4.957031 -3.394531 5.09375 -3.25 C 5.226562 -3.101562 5.332031 -2.925781 5.40625 -2.71875 C 5.476562 -2.519531 5.515625 -2.289062 5.515625 -2.03125 Z M 3.859375 -5.328125 C 3.859375 -5.472656 3.84375 -5.601562 3.8125 -5.71875 C 3.78125 -5.84375 3.726562 -5.945312 3.65625 -6.03125 C 3.582031 -6.125 3.484375 -6.195312 3.359375 -6.25 C 3.242188 -6.300781 3.09375 -6.328125 2.90625 -6.328125 C 2.726562 -6.328125 2.578125 -6.300781 2.453125 -6.25 C 2.335938 -6.195312 2.242188 -6.125 2.171875 -6.03125 C 2.097656 -5.945312 2.046875 -5.84375 2.015625 -5.71875 C 1.984375 -5.601562 1.96875 -5.472656 1.96875 -5.328125 C 1.96875 -5.203125 1.976562 -5.078125 2 -4.953125 C 2.03125 -4.828125 2.078125 -4.71875 2.140625 -4.625 C 2.210938 -4.53125 2.3125 -4.453125 2.4375 -4.390625 C 2.5625 -4.328125 2.722656 -4.296875 2.921875 -4.296875 C 3.117188 -4.296875 3.28125 -4.328125 3.40625 -4.390625 C 3.53125 -4.453125 3.625 -4.53125 3.6875 -4.625 C 3.757812 -4.726562 3.804688 -4.835938 3.828125 -4.953125 C 3.847656 -5.078125 3.859375 -5.203125 3.859375 -5.328125 Z M 4.03125 -2.15625 C 4.03125 -2.300781 4.007812 -2.441406 3.96875 -2.578125 C 3.9375 -2.710938 3.878906 -2.832031 3.796875 -2.9375 C 3.710938 -3.039062 3.597656 -3.125 3.453125 -3.1875 C 3.304688 -3.25 3.117188 -3.28125 2.890625 -3.28125 C 2.691406 -3.28125 2.519531 -3.25 2.375 -3.1875 C 2.238281 -3.125 2.128906 -3.039062 2.046875 -2.9375 C 1.960938 -2.832031 1.898438 -2.707031 1.859375 -2.5625 C 1.828125 -2.425781 1.8125 -2.285156 1.8125 -2.140625 C 1.8125 -1.953125 1.828125 -1.78125 1.859375 -1.625 C 1.898438 -1.476562 1.960938 -1.351562 2.046875 -1.25 C 2.140625 -1.144531 2.253906 -1.0625 2.390625 -1 C 2.535156 -0.9375 2.71875 -0.90625 2.9375 -0.90625 C 3.15625 -0.90625 3.332031 -0.9375 3.46875 -1 C 3.613281 -1.0625 3.722656 -1.144531 3.796875 -1.25 C 3.878906 -1.363281 3.9375 -1.492188 3.96875 -1.640625 C 4.007812 -1.796875 4.03125 -1.96875 4.03125 -2.15625 Z M 4.03125 -2.15625 \"/>\n</symbol>\n<symbol overflow=\"visible\" id=\"glyph2-9\">\n<path style=\"stroke:none;\" d=\"M 5.453125 -3.734375 C 5.453125 -2.453125 5.21875 -1.488281 4.75 -0.84375 C 4.28125 -0.207031 3.613281 0.109375 2.75 0.109375 C 2.4375 0.109375 2.15625 0.0703125 1.90625 0 C 1.664062 -0.0625 1.453125 -0.160156 1.265625 -0.296875 C 1.078125 -0.429688 0.921875 -0.609375 0.796875 -0.828125 C 0.671875 -1.046875 0.570312 -1.300781 0.5 -1.59375 L 1.84375 -1.78125 C 1.914062 -1.53125 2.03125 -1.34375 2.1875 -1.21875 C 2.34375 -1.09375 2.535156 -1.03125 2.765625 -1.03125 C 2.960938 -1.03125 3.132812 -1.078125 3.28125 -1.171875 C 3.4375 -1.265625 3.566406 -1.40625 3.671875 -1.59375 C 3.785156 -1.78125 3.875 -2.015625 3.9375 -2.296875 C 4 -2.585938 4.03125 -2.929688 4.03125 -3.328125 C 3.96875 -3.191406 3.878906 -3.070312 3.765625 -2.96875 C 3.648438 -2.863281 3.519531 -2.773438 3.375 -2.703125 C 3.238281 -2.640625 3.085938 -2.585938 2.921875 -2.546875 C 2.765625 -2.515625 2.601562 -2.5 2.4375 -2.5 C 2.125 -2.5 1.835938 -2.554688 1.578125 -2.671875 C 1.328125 -2.785156 1.109375 -2.945312 0.921875 -3.15625 C 0.742188 -3.363281 0.601562 -3.613281 0.5 -3.90625 C 0.40625 -4.207031 0.359375 -4.539062 0.359375 -4.90625 C 0.359375 -5.289062 0.414062 -5.632812 0.53125 -5.9375 C 0.644531 -6.238281 0.8125 -6.492188 1.03125 -6.703125 C 1.25 -6.910156 1.515625 -7.066406 1.828125 -7.171875 C 2.140625 -7.273438 2.492188 -7.328125 2.890625 -7.328125 C 3.304688 -7.328125 3.671875 -7.253906 3.984375 -7.109375 C 4.304688 -6.972656 4.570312 -6.753906 4.78125 -6.453125 C 5 -6.160156 5.164062 -5.785156 5.28125 -5.328125 C 5.394531 -4.878906 5.453125 -4.347656 5.453125 -3.734375 Z M 3.921875 -4.734375 C 3.921875 -4.941406 3.894531 -5.132812 3.84375 -5.3125 C 3.800781 -5.488281 3.734375 -5.644531 3.640625 -5.78125 C 3.554688 -5.914062 3.445312 -6.019531 3.3125 -6.09375 C 3.175781 -6.164062 3.019531 -6.203125 2.84375 -6.203125 C 2.6875 -6.203125 2.546875 -6.171875 2.421875 -6.109375 C 2.296875 -6.054688 2.1875 -5.972656 2.09375 -5.859375 C 2.007812 -5.742188 1.941406 -5.601562 1.890625 -5.4375 C 1.847656 -5.28125 1.828125 -5.101562 1.828125 -4.90625 C 1.828125 -4.71875 1.847656 -4.539062 1.890625 -4.375 C 1.929688 -4.207031 1.992188 -4.066406 2.078125 -3.953125 C 2.171875 -3.835938 2.28125 -3.742188 2.40625 -3.671875 C 2.539062 -3.609375 2.691406 -3.578125 2.859375 -3.578125 C 2.992188 -3.578125 3.125 -3.597656 3.25 -3.640625 C 3.375 -3.691406 3.488281 -3.765625 3.59375 -3.859375 C 3.695312 -3.960938 3.773438 -4.082031 3.828125 -4.21875 C 3.890625 -4.363281 3.921875 -4.535156 3.921875 -4.734375 Z M 3.921875 -4.734375 \"/>\n</symbol>\n<symbol overflow=\"visible\" id=\"glyph2-10\">\n<path style=\"stroke:none;\" d=\"M 5.453125 -2 C 5.453125 -1.675781 5.398438 -1.382812 5.296875 -1.125 C 5.191406 -0.863281 5.03125 -0.640625 4.8125 -0.453125 C 4.59375 -0.265625 4.320312 -0.117188 4 -0.015625 C 3.6875 0.078125 3.316406 0.125 2.890625 0.125 C 2.421875 0.125 2.023438 0.0664062 1.703125 -0.046875 C 1.378906 -0.171875 1.113281 -0.332031 0.90625 -0.53125 C 0.695312 -0.726562 0.539062 -0.953125 0.4375 -1.203125 C 0.332031 -1.453125 0.265625 -1.707031 0.234375 -1.96875 L 1.703125 -2.09375 C 1.722656 -1.9375 1.757812 -1.796875 1.8125 -1.671875 C 1.875 -1.546875 1.953125 -1.4375 2.046875 -1.34375 C 2.140625 -1.25 2.253906 -1.175781 2.390625 -1.125 C 2.535156 -1.070312 2.703125 -1.046875 2.890625 -1.046875 C 3.234375 -1.046875 3.5 -1.128906 3.6875 -1.296875 C 3.882812 -1.472656 3.984375 -1.738281 3.984375 -2.09375 C 3.984375 -2.3125 3.9375 -2.484375 3.84375 -2.609375 C 3.757812 -2.734375 3.644531 -2.832031 3.5 -2.90625 C 3.363281 -2.976562 3.210938 -3.023438 3.046875 -3.046875 C 2.890625 -3.078125 2.738281 -3.09375 2.59375 -3.09375 L 2.09375 -3.09375 L 2.09375 -4.25 L 2.5625 -4.25 C 2.707031 -4.25 2.851562 -4.257812 3 -4.28125 C 3.15625 -4.3125 3.289062 -4.363281 3.40625 -4.4375 C 3.53125 -4.507812 3.628906 -4.609375 3.703125 -4.734375 C 3.773438 -4.867188 3.8125 -5.035156 3.8125 -5.234375 C 3.8125 -5.523438 3.726562 -5.753906 3.5625 -5.921875 C 3.394531 -6.097656 3.15625 -6.1875 2.84375 -6.1875 C 2.539062 -6.1875 2.296875 -6.101562 2.109375 -5.9375 C 1.929688 -5.769531 1.832031 -5.535156 1.8125 -5.234375 L 0.359375 -5.34375 C 0.398438 -5.675781 0.492188 -5.96875 0.640625 -6.21875 C 0.785156 -6.46875 0.96875 -6.675781 1.1875 -6.84375 C 1.40625 -7.007812 1.660156 -7.128906 1.953125 -7.203125 C 2.242188 -7.285156 2.546875 -7.328125 2.859375 -7.328125 C 3.285156 -7.328125 3.648438 -7.273438 3.953125 -7.171875 C 4.265625 -7.078125 4.515625 -6.941406 4.703125 -6.765625 C 4.898438 -6.585938 5.046875 -6.378906 5.140625 -6.140625 C 5.234375 -5.910156 5.28125 -5.664062 5.28125 -5.40625 C 5.28125 -5.195312 5.25 -5 5.1875 -4.8125 C 5.125 -4.632812 5.03125 -4.472656 4.90625 -4.328125 C 4.78125 -4.179688 4.617188 -4.054688 4.421875 -3.953125 C 4.222656 -3.847656 3.992188 -3.769531 3.734375 -3.71875 L 3.734375 -3.703125 C 4.023438 -3.660156 4.28125 -3.585938 4.5 -3.484375 C 4.71875 -3.390625 4.894531 -3.265625 5.03125 -3.109375 C 5.175781 -2.960938 5.28125 -2.796875 5.34375 -2.609375 C 5.414062 -2.421875 5.453125 -2.21875 5.453125 -2 Z M 5.453125 -2 \"/>\n</symbol>\n<symbol overflow=\"visible\" id=\"glyph3-0\">\n<path style=\"stroke:none;\" d=\"M 0.421875 0 L 0.421875 -8.328125 L 3.734375 -8.328125 L 3.734375 0 Z M 0.828125 -0.421875 L 3.328125 -0.421875 L 3.328125 -7.921875 L 0.828125 -7.921875 Z M 0.828125 -0.421875 \"/>\n</symbol>\n<symbol overflow=\"visible\" id=\"glyph3-1\">\n<path style=\"stroke:none;\" d=\"M 5.078125 -3.53125 L 5.078125 0 L 3.28125 0 L 3.28125 -3.53125 L 0.21875 -8.59375 L 2.09375 -8.59375 L 4.15625 -4.96875 L 6.25 -8.59375 L 8.140625 -8.59375 Z M 5.078125 -3.53125 \"/>\n</symbol>\n<symbol overflow=\"visible\" id=\"glyph3-2\">\n<path style=\"stroke:none;\" d=\"M 3.578125 0.125 C 3.097656 0.125 2.664062 0.0546875 2.28125 -0.078125 C 1.90625 -0.222656 1.582031 -0.4375 1.3125 -0.71875 C 1.050781 -1.007812 0.847656 -1.367188 0.703125 -1.796875 C 0.554688 -2.234375 0.484375 -2.742188 0.484375 -3.328125 C 0.484375 -3.960938 0.566406 -4.492188 0.734375 -4.921875 C 0.910156 -5.359375 1.140625 -5.707031 1.421875 -5.96875 C 1.710938 -6.238281 2.046875 -6.429688 2.421875 -6.546875 C 2.796875 -6.660156 3.1875 -6.71875 3.59375 -6.71875 C 4.113281 -6.71875 4.554688 -6.628906 4.921875 -6.453125 C 5.296875 -6.273438 5.597656 -6.019531 5.828125 -5.6875 C 6.066406 -5.363281 6.242188 -4.972656 6.359375 -4.515625 C 6.472656 -4.066406 6.53125 -3.566406 6.53125 -3.015625 L 6.53125 -2.96875 L 2.28125 -2.96875 C 2.28125 -2.695312 2.304688 -2.441406 2.359375 -2.203125 C 2.410156 -1.960938 2.488281 -1.753906 2.59375 -1.578125 C 2.707031 -1.410156 2.851562 -1.273438 3.03125 -1.171875 C 3.207031 -1.078125 3.414062 -1.03125 3.65625 -1.03125 C 3.957031 -1.03125 4.203125 -1.09375 4.390625 -1.21875 C 4.585938 -1.34375 4.726562 -1.539062 4.8125 -1.8125 L 6.421875 -1.671875 C 6.347656 -1.484375 6.242188 -1.28125 6.109375 -1.0625 C 5.984375 -0.851562 5.8125 -0.660156 5.59375 -0.484375 C 5.375 -0.304688 5.097656 -0.160156 4.765625 -0.046875 C 4.441406 0.0664062 4.046875 0.125 3.578125 0.125 Z M 3.578125 -5.640625 C 3.398438 -5.640625 3.234375 -5.609375 3.078125 -5.546875 C 2.929688 -5.492188 2.800781 -5.398438 2.6875 -5.265625 C 2.570312 -5.140625 2.476562 -4.972656 2.40625 -4.765625 C 2.34375 -4.566406 2.304688 -4.328125 2.296875 -4.046875 L 4.859375 -4.046875 C 4.828125 -4.578125 4.695312 -4.972656 4.46875 -5.234375 C 4.25 -5.503906 3.953125 -5.640625 3.578125 -5.640625 Z M 3.578125 -5.640625 \"/>\n</symbol>\n<symbol overflow=\"visible\" id=\"glyph3-3\">\n<path style=\"stroke:none;\" d=\"M 2.40625 0.125 C 2.082031 0.125 1.796875 0.0820312 1.546875 0 C 1.296875 -0.09375 1.082031 -0.222656 0.90625 -0.390625 C 0.726562 -0.554688 0.59375 -0.765625 0.5 -1.015625 C 0.40625 -1.265625 0.359375 -1.550781 0.359375 -1.875 C 0.359375 -2.257812 0.425781 -2.582031 0.5625 -2.84375 C 0.707031 -3.113281 0.894531 -3.332031 1.125 -3.5 C 1.363281 -3.664062 1.640625 -3.785156 1.953125 -3.859375 C 2.273438 -3.929688 2.613281 -3.972656 2.96875 -3.984375 L 4.390625 -4 L 4.390625 -4.34375 C 4.390625 -4.582031 4.367188 -4.78125 4.328125 -4.9375 C 4.285156 -5.101562 4.222656 -5.234375 4.140625 -5.328125 C 4.054688 -5.429688 3.953125 -5.503906 3.828125 -5.546875 C 3.710938 -5.585938 3.582031 -5.609375 3.4375 -5.609375 C 3.289062 -5.609375 3.160156 -5.59375 3.046875 -5.5625 C 2.929688 -5.539062 2.832031 -5.492188 2.75 -5.421875 C 2.675781 -5.347656 2.613281 -5.25 2.5625 -5.125 C 2.507812 -5.007812 2.472656 -4.863281 2.453125 -4.6875 L 0.671875 -4.765625 C 0.710938 -5.054688 0.796875 -5.320312 0.921875 -5.5625 C 1.054688 -5.800781 1.238281 -6.003906 1.46875 -6.171875 C 1.695312 -6.347656 1.976562 -6.484375 2.3125 -6.578125 C 2.65625 -6.671875 3.050781 -6.71875 3.5 -6.71875 C 3.914062 -6.71875 4.28125 -6.664062 4.59375 -6.5625 C 4.914062 -6.46875 5.1875 -6.316406 5.40625 -6.109375 C 5.632812 -5.910156 5.804688 -5.664062 5.921875 -5.375 C 6.046875 -5.082031 6.109375 -4.742188 6.109375 -4.359375 L 6.109375 -1.953125 C 6.109375 -1.796875 6.113281 -1.65625 6.125 -1.53125 C 6.144531 -1.414062 6.171875 -1.316406 6.203125 -1.234375 C 6.242188 -1.148438 6.300781 -1.085938 6.375 -1.046875 C 6.445312 -1.003906 6.539062 -0.984375 6.65625 -0.984375 C 6.78125 -0.984375 6.90625 -0.992188 7.03125 -1.015625 L 7.03125 -0.078125 C 6.925781 -0.0546875 6.832031 -0.0351562 6.75 -0.015625 C 6.675781 0.00390625 6.597656 0.0195312 6.515625 0.03125 C 6.429688 0.0390625 6.34375 0.0507812 6.25 0.0625 C 6.15625 0.0703125 6.050781 0.078125 5.9375 0.078125 C 5.5 0.078125 5.175781 -0.0234375 4.96875 -0.234375 C 4.769531 -0.453125 4.648438 -0.765625 4.609375 -1.171875 L 4.578125 -1.171875 C 4.347656 -0.765625 4.050781 -0.445312 3.6875 -0.21875 C 3.332031 0.0078125 2.90625 0.125 2.40625 0.125 Z M 4.390625 -3.0625 L 3.515625 -3.046875 C 3.328125 -3.035156 3.148438 -3.019531 2.984375 -3 C 2.828125 -2.976562 2.6875 -2.929688 2.5625 -2.859375 C 2.4375 -2.785156 2.335938 -2.679688 2.265625 -2.546875 C 2.191406 -2.410156 2.15625 -2.226562 2.15625 -2 C 2.15625 -1.6875 2.226562 -1.453125 2.375 -1.296875 C 2.519531 -1.148438 2.710938 -1.078125 2.953125 -1.078125 C 3.171875 -1.078125 3.367188 -1.125 3.546875 -1.21875 C 3.722656 -1.3125 3.875 -1.429688 4 -1.578125 C 4.125 -1.734375 4.21875 -1.910156 4.28125 -2.109375 C 4.351562 -2.304688 4.390625 -2.507812 4.390625 -2.71875 Z M 4.390625 -3.0625 \"/>\n</symbol>\n<symbol overflow=\"visible\" id=\"glyph3-4\">\n<path style=\"stroke:none;\" d=\"M 0.875 0 L 0.875 -5.046875 C 0.875 -5.191406 0.867188 -5.34375 0.859375 -5.5 C 0.859375 -5.664062 0.851562 -5.816406 0.84375 -5.953125 C 0.84375 -6.097656 0.84375 -6.226562 0.84375 -6.34375 C 0.84375 -6.46875 0.835938 -6.554688 0.828125 -6.609375 L 2.453125 -6.609375 C 2.460938 -6.554688 2.472656 -6.46875 2.484375 -6.34375 C 2.492188 -6.226562 2.5 -6.097656 2.5 -5.953125 C 2.507812 -5.816406 2.519531 -5.675781 2.53125 -5.53125 C 2.539062 -5.394531 2.546875 -5.28125 2.546875 -5.1875 L 2.5625 -5.1875 C 2.644531 -5.425781 2.726562 -5.640625 2.8125 -5.828125 C 2.90625 -6.023438 3.007812 -6.1875 3.125 -6.3125 C 3.238281 -6.445312 3.375 -6.550781 3.53125 -6.625 C 3.695312 -6.695312 3.898438 -6.734375 4.140625 -6.734375 C 4.242188 -6.734375 4.34375 -6.722656 4.4375 -6.703125 C 4.539062 -6.679688 4.617188 -6.660156 4.671875 -6.640625 L 4.671875 -5.203125 C 4.566406 -5.234375 4.457031 -5.253906 4.34375 -5.265625 C 4.226562 -5.285156 4.09375 -5.296875 3.9375 -5.296875 C 3.507812 -5.296875 3.175781 -5.125 2.9375 -4.78125 C 2.707031 -4.4375 2.59375 -3.921875 2.59375 -3.234375 L 2.59375 0 Z M 0.875 0 \"/>\n</symbol>\n<symbol overflow=\"visible\" id=\"glyph4-0\">\n<path style=\"stroke:none;\" d=\"M 0 -0.375 L -7.671875 -0.375 L -7.671875 -3.4375 L 0 -3.4375 Z M -0.375 -0.765625 L -0.375 -3.0625 L -7.28125 -3.0625 L -7.28125 -0.765625 Z M -0.375 -0.765625 \"/>\n</symbol>\n<symbol overflow=\"visible\" id=\"glyph4-1\">\n<path style=\"stroke:none;\" d=\"M -7.03125 -4.046875 L 0 -4.046875 L 0 -2.96875 L -7.03125 -2.96875 L -7.03125 -0.265625 L -7.90625 -0.265625 L -7.90625 -6.765625 L -7.03125 -6.765625 Z M -7.03125 -4.046875 \"/>\n</symbol>\n<symbol overflow=\"visible\" id=\"glyph4-2\">\n<path style=\"stroke:none;\" d=\"M -3.046875 -5.90625 C -1.984375 -5.90625 -1.191406 -5.671875 -0.671875 -5.203125 C -0.148438 -4.742188 0.109375 -4.066406 0.109375 -3.171875 C 0.109375 -2.742188 0.046875 -2.363281 -0.078125 -2.03125 C -0.203125 -1.695312 -0.394531 -1.414062 -0.65625 -1.1875 C -0.925781 -0.957031 -1.253906 -0.78125 -1.640625 -0.65625 C -2.035156 -0.539062 -2.503906 -0.484375 -3.046875 -0.484375 C -5.140625 -0.484375 -6.1875 -1.390625 -6.1875 -3.203125 C -6.1875 -3.671875 -6.117188 -4.078125 -5.984375 -4.421875 C -5.859375 -4.765625 -5.664062 -5.046875 -5.40625 -5.265625 C -5.144531 -5.484375 -4.816406 -5.644531 -4.421875 -5.75 C -4.023438 -5.851562 -3.566406 -5.90625 -3.046875 -5.90625 Z M -3.046875 -4.859375 C -3.515625 -4.859375 -3.898438 -4.816406 -4.203125 -4.734375 C -4.515625 -4.660156 -4.757812 -4.554688 -4.9375 -4.421875 C -5.125 -4.285156 -5.253906 -4.113281 -5.328125 -3.90625 C -5.398438 -3.707031 -5.4375 -3.476562 -5.4375 -3.21875 C -5.4375 -2.957031 -5.398438 -2.722656 -5.328125 -2.515625 C -5.253906 -2.316406 -5.125 -2.144531 -4.9375 -2 C -4.75 -1.851562 -4.5 -1.738281 -4.1875 -1.65625 C -3.882812 -1.582031 -3.503906 -1.546875 -3.046875 -1.546875 C -2.578125 -1.546875 -2.1875 -1.585938 -1.875 -1.671875 C -1.5625 -1.753906 -1.3125 -1.863281 -1.125 -2 C -0.945312 -2.144531 -0.820312 -2.316406 -0.75 -2.515625 C -0.675781 -2.710938 -0.640625 -2.925781 -0.640625 -3.15625 C -0.640625 -3.414062 -0.675781 -3.648438 -0.75 -3.859375 C -0.820312 -4.066406 -0.945312 -4.242188 -1.125 -4.390625 C -1.3125 -4.535156 -1.5625 -4.648438 -1.875 -4.734375 C -2.1875 -4.816406 -2.578125 -4.859375 -3.046875 -4.859375 Z M -3.046875 -4.859375 \"/>\n</symbol>\n<symbol overflow=\"visible\" id=\"glyph4-3\">\n<path style=\"stroke:none;\" d=\"M -0.046875 -3.109375 C -0.00390625 -2.953125 0.0234375 -2.796875 0.046875 -2.640625 C 0.078125 -2.484375 0.09375 -2.300781 0.09375 -2.09375 C 0.09375 -1.28125 -0.363281 -0.875 -1.28125 -0.875 L -5.34375 -0.875 L -5.34375 -0.171875 L -6.078125 -0.171875 L -6.078125 -0.921875 L -7.4375 -1.21875 L -7.4375 -1.890625 L -6.078125 -1.890625 L -6.078125 -3.015625 L -5.34375 -3.015625 L -5.34375 -1.890625 L -1.5 -1.890625 C -1.207031 -1.890625 -1.003906 -1.9375 -0.890625 -2.03125 C -0.773438 -2.125 -0.71875 -2.289062 -0.71875 -2.53125 C -0.71875 -2.625 -0.722656 -2.71875 -0.734375 -2.8125 C -0.753906 -2.90625 -0.773438 -3.003906 -0.796875 -3.109375 Z M -0.046875 -3.109375 \"/>\n</symbol>\n<symbol overflow=\"visible\" id=\"glyph4-4\">\n<path style=\"stroke:none;\" d=\"M 0.109375 -2.328125 C 0.109375 -1.710938 -0.0507812 -1.25 -0.375 -0.9375 C -0.695312 -0.632812 -1.140625 -0.484375 -1.703125 -0.484375 C -2.097656 -0.484375 -2.421875 -0.554688 -2.671875 -0.703125 C -2.929688 -0.859375 -3.132812 -1.054688 -3.28125 -1.296875 C -3.425781 -1.546875 -3.523438 -1.828125 -3.578125 -2.140625 C -3.640625 -2.460938 -3.675781 -2.785156 -3.6875 -3.109375 L -3.703125 -4.46875 L -4.03125 -4.46875 C -4.28125 -4.46875 -4.492188 -4.441406 -4.671875 -4.390625 C -4.847656 -4.335938 -4.988281 -4.257812 -5.09375 -4.15625 C -5.207031 -4.050781 -5.289062 -3.914062 -5.34375 -3.75 C -5.394531 -3.582031 -5.421875 -3.390625 -5.421875 -3.171875 C -5.421875 -2.972656 -5.40625 -2.796875 -5.375 -2.640625 C -5.34375 -2.484375 -5.289062 -2.347656 -5.21875 -2.234375 C -5.144531 -2.117188 -5.046875 -2.023438 -4.921875 -1.953125 C -4.796875 -1.878906 -4.640625 -1.832031 -4.453125 -1.8125 L -4.546875 -0.765625 C -4.785156 -0.796875 -5.003906 -0.863281 -5.203125 -0.96875 C -5.410156 -1.070312 -5.585938 -1.21875 -5.734375 -1.40625 C -5.878906 -1.601562 -5.988281 -1.847656 -6.0625 -2.140625 C -6.144531 -2.429688 -6.1875 -2.78125 -6.1875 -3.1875 C -6.1875 -3.957031 -6.007812 -4.535156 -5.65625 -4.921875 C -5.3125 -5.304688 -4.804688 -5.5 -4.140625 -5.5 L -1.53125 -5.5 C -1.226562 -5.5 -1 -5.535156 -0.84375 -5.609375 C -0.695312 -5.691406 -0.625 -5.84375 -0.625 -6.0625 C -0.625 -6.125 -0.625 -6.179688 -0.625 -6.234375 C -0.632812 -6.285156 -0.644531 -6.335938 -0.65625 -6.390625 L -0.03125 -6.390625 C 0 -6.265625 0.0195312 -6.140625 0.03125 -6.015625 C 0.0507812 -5.890625 0.0625 -5.753906 0.0625 -5.609375 C 0.0625 -5.421875 0.0351562 -5.257812 -0.015625 -5.125 C -0.0664062 -4.988281 -0.144531 -4.875 -0.25 -4.78125 C -0.351562 -4.695312 -0.476562 -4.632812 -0.625 -4.59375 C -0.78125 -4.550781 -0.957031 -4.523438 -1.15625 -4.515625 L -1.15625 -4.46875 C -0.96875 -4.363281 -0.796875 -4.242188 -0.640625 -4.109375 C -0.484375 -3.984375 -0.347656 -3.832031 -0.234375 -3.65625 C -0.117188 -3.488281 -0.0351562 -3.296875 0.015625 -3.078125 C 0.078125 -2.859375 0.109375 -2.609375 0.109375 -2.328125 Z M -0.640625 -2.5625 C -0.640625 -2.875 -0.695312 -3.148438 -0.8125 -3.390625 C -0.9375 -3.640625 -1.085938 -3.84375 -1.265625 -4 C -1.453125 -4.15625 -1.65625 -4.269531 -1.875 -4.34375 C -2.09375 -4.425781 -2.300781 -4.46875 -2.5 -4.46875 L -3 -4.46875 L -2.96875 -3.375 C -2.96875 -3.125 -2.953125 -2.882812 -2.921875 -2.65625 C -2.890625 -2.4375 -2.828125 -2.242188 -2.734375 -2.078125 C -2.640625 -1.910156 -2.507812 -1.773438 -2.34375 -1.671875 C -2.175781 -1.578125 -1.953125 -1.53125 -1.671875 -1.53125 C -1.347656 -1.53125 -1.09375 -1.617188 -0.90625 -1.796875 C -0.726562 -1.972656 -0.640625 -2.226562 -0.640625 -2.5625 Z M -0.640625 -2.5625 \"/>\n</symbol>\n<symbol overflow=\"visible\" id=\"glyph4-5\">\n<path style=\"stroke:none;\" d=\"M 0 -0.78125 L -8.328125 -0.78125 L -8.328125 -1.78125 L 0 -1.78125 Z M 0 -0.78125 \"/>\n</symbol>\n<symbol overflow=\"visible\" id=\"glyph4-6\">\n<path style=\"stroke:none;\" d=\"\"/>\n</symbol>\n<symbol overflow=\"visible\" id=\"glyph4-7\">\n<path style=\"stroke:none;\" d=\"M -4 -0.578125 C -4.613281 -0.578125 -5.164062 -0.660156 -5.65625 -0.828125 C -6.15625 -0.992188 -6.582031 -1.242188 -6.9375 -1.578125 C -7.289062 -1.910156 -7.5625 -2.320312 -7.75 -2.8125 C -7.9375 -3.300781 -8.03125 -3.867188 -8.03125 -4.515625 C -8.03125 -5.003906 -7.984375 -5.429688 -7.890625 -5.796875 C -7.804688 -6.160156 -7.679688 -6.476562 -7.515625 -6.75 C -7.359375 -7.019531 -7.164062 -7.25 -6.9375 -7.4375 C -6.707031 -7.625 -6.453125 -7.78125 -6.171875 -7.90625 L -5.859375 -6.890625 C -6.054688 -6.796875 -6.234375 -6.675781 -6.390625 -6.53125 C -6.546875 -6.394531 -6.679688 -6.226562 -6.796875 -6.03125 C -6.910156 -5.84375 -7 -5.617188 -7.0625 -5.359375 C -7.125 -5.109375 -7.15625 -4.816406 -7.15625 -4.484375 C -7.15625 -4.003906 -7.078125 -3.585938 -6.921875 -3.234375 C -6.773438 -2.878906 -6.5625 -2.585938 -6.28125 -2.359375 C -6.007812 -2.128906 -5.675781 -1.957031 -5.28125 -1.84375 C -4.894531 -1.726562 -4.46875 -1.671875 -4 -1.671875 C -3.519531 -1.671875 -3.082031 -1.726562 -2.6875 -1.84375 C -2.289062 -1.96875 -1.945312 -2.148438 -1.65625 -2.390625 C -1.375 -2.640625 -1.15625 -2.945312 -1 -3.3125 C -0.84375 -3.675781 -0.765625 -4.09375 -0.765625 -4.5625 C -0.765625 -4.875 -0.789062 -5.160156 -0.84375 -5.421875 C -0.894531 -5.679688 -0.960938 -5.914062 -1.046875 -6.125 C -1.128906 -6.34375 -1.222656 -6.53125 -1.328125 -6.6875 C -1.429688 -6.851562 -1.535156 -6.988281 -1.640625 -7.09375 L -3.0625 -7.09375 L -3.0625 -4.734375 L -3.953125 -4.734375 L -3.953125 -8.09375 L -1.234375 -8.09375 C -1.046875 -7.914062 -0.867188 -7.707031 -0.703125 -7.46875 C -0.546875 -7.226562 -0.40625 -6.957031 -0.28125 -6.65625 C -0.15625 -6.363281 -0.0625 -6.039062 0 -5.6875 C 0.0703125 -5.34375 0.109375 -4.96875 0.109375 -4.5625 C 0.109375 -3.894531 0.0078125 -3.3125 -0.1875 -2.8125 C -0.394531 -2.320312 -0.679688 -1.910156 -1.046875 -1.578125 C -1.410156 -1.242188 -1.84375 -0.992188 -2.34375 -0.828125 C -2.84375 -0.660156 -3.394531 -0.578125 -4 -0.578125 Z M -4 -0.578125 \"/>\n</symbol>\n<symbol overflow=\"visible\" id=\"glyph4-8\">\n<path style=\"stroke:none;\" d=\"M 0 -0.796875 L -4.65625 -0.796875 C -4.789062 -0.796875 -4.921875 -0.796875 -5.046875 -0.796875 C -5.179688 -0.796875 -5.3125 -0.789062 -5.4375 -0.78125 C -5.5625 -0.78125 -5.675781 -0.773438 -5.78125 -0.765625 C -5.894531 -0.765625 -5.992188 -0.765625 -6.078125 -0.765625 L -6.078125 -1.71875 C -5.992188 -1.71875 -5.894531 -1.71875 -5.78125 -1.71875 C -5.664062 -1.726562 -5.550781 -1.734375 -5.4375 -1.734375 C -5.320312 -1.742188 -5.210938 -1.75 -5.109375 -1.75 C -5.003906 -1.757812 -4.910156 -1.765625 -4.828125 -1.765625 L -4.828125 -1.78125 C -5.066406 -1.851562 -5.269531 -1.929688 -5.4375 -2.015625 C -5.601562 -2.097656 -5.742188 -2.191406 -5.859375 -2.296875 C -5.972656 -2.398438 -6.054688 -2.523438 -6.109375 -2.671875 C -6.160156 -2.828125 -6.1875 -3.015625 -6.1875 -3.234375 C -6.1875 -3.316406 -6.179688 -3.394531 -6.171875 -3.46875 C -6.160156 -3.539062 -6.144531 -3.597656 -6.125 -3.640625 L -5.203125 -3.640625 C -5.222656 -3.566406 -5.238281 -3.484375 -5.25 -3.390625 C -5.257812 -3.304688 -5.265625 -3.207031 -5.265625 -3.09375 C -5.265625 -2.863281 -5.210938 -2.664062 -5.109375 -2.5 C -5.003906 -2.34375 -4.859375 -2.210938 -4.671875 -2.109375 C -4.484375 -2.003906 -4.257812 -1.925781 -4 -1.875 C -3.75 -1.832031 -3.472656 -1.8125 -3.171875 -1.8125 L 0 -1.8125 Z M 0 -0.796875 \"/>\n</symbol>\n<symbol overflow=\"visible\" id=\"glyph4-9\">\n<path style=\"stroke:none;\" d=\"M 0 -4.625 L -3.859375 -4.625 C -4.148438 -4.625 -4.394531 -4.601562 -4.59375 -4.5625 C -4.789062 -4.519531 -4.945312 -4.453125 -5.0625 -4.359375 C -5.1875 -4.265625 -5.273438 -4.132812 -5.328125 -3.96875 C -5.378906 -3.8125 -5.40625 -3.613281 -5.40625 -3.375 C -5.40625 -3.132812 -5.363281 -2.914062 -5.28125 -2.71875 C -5.195312 -2.53125 -5.070312 -2.367188 -4.90625 -2.234375 C -4.75 -2.097656 -4.550781 -1.992188 -4.3125 -1.921875 C -4.082031 -1.847656 -3.816406 -1.8125 -3.515625 -1.8125 L 0 -1.8125 L 0 -0.796875 L -4.78125 -0.796875 C -4.90625 -0.796875 -5.035156 -0.796875 -5.171875 -0.796875 C -5.316406 -0.796875 -5.453125 -0.789062 -5.578125 -0.78125 C -5.703125 -0.78125 -5.804688 -0.773438 -5.890625 -0.765625 C -5.984375 -0.765625 -6.046875 -0.765625 -6.078125 -0.765625 L -6.078125 -1.71875 C -6.054688 -1.71875 -6.003906 -1.71875 -5.921875 -1.71875 C -5.835938 -1.726562 -5.742188 -1.734375 -5.640625 -1.734375 C -5.535156 -1.742188 -5.425781 -1.75 -5.3125 -1.75 C -5.207031 -1.757812 -5.113281 -1.765625 -5.03125 -1.765625 L -5.03125 -1.78125 C -5.207031 -1.875 -5.367188 -1.976562 -5.515625 -2.09375 C -5.660156 -2.21875 -5.78125 -2.351562 -5.875 -2.5 C -5.976562 -2.65625 -6.054688 -2.832031 -6.109375 -3.03125 C -6.160156 -3.226562 -6.1875 -3.457031 -6.1875 -3.71875 C -6.1875 -4.0625 -6.144531 -4.351562 -6.0625 -4.59375 C -5.976562 -4.832031 -5.847656 -5.03125 -5.671875 -5.1875 C -5.503906 -5.351562 -5.285156 -5.472656 -5.015625 -5.546875 C -4.742188 -5.617188 -4.421875 -5.65625 -4.046875 -5.65625 L 0 -5.65625 Z M 0 -4.625 \"/>\n</symbol>\n<symbol overflow=\"visible\" id=\"glyph4-10\">\n<path style=\"stroke:none;\" d=\"M -2.828125 -1.546875 C -2.503906 -1.546875 -2.207031 -1.578125 -1.9375 -1.640625 C -1.675781 -1.710938 -1.445312 -1.816406 -1.25 -1.953125 C -1.0625 -2.085938 -0.910156 -2.257812 -0.796875 -2.46875 C -0.691406 -2.6875 -0.640625 -2.945312 -0.640625 -3.25 C -0.640625 -3.6875 -0.726562 -4.035156 -0.90625 -4.296875 C -1.082031 -4.554688 -1.304688 -4.734375 -1.578125 -4.828125 L -1.328125 -5.71875 C -1.160156 -5.65625 -0.988281 -5.566406 -0.8125 -5.453125 C -0.644531 -5.335938 -0.492188 -5.1875 -0.359375 -5 C -0.222656 -4.8125 -0.109375 -4.570312 -0.015625 -4.28125 C 0.0664062 -4 0.109375 -3.65625 0.109375 -3.25 C 0.109375 -2.34375 -0.15625 -1.65625 -0.6875 -1.1875 C -1.226562 -0.71875 -2.023438 -0.484375 -3.078125 -0.484375 C -3.648438 -0.484375 -4.128906 -0.554688 -4.515625 -0.703125 C -4.910156 -0.847656 -5.234375 -1.039062 -5.484375 -1.28125 C -5.734375 -1.53125 -5.910156 -1.816406 -6.015625 -2.140625 C -6.128906 -2.472656 -6.1875 -2.828125 -6.1875 -3.203125 C -6.1875 -3.710938 -6.101562 -4.140625 -5.9375 -4.484375 C -5.769531 -4.828125 -5.539062 -5.101562 -5.25 -5.3125 C -4.96875 -5.519531 -4.628906 -5.664062 -4.234375 -5.75 C -3.835938 -5.84375 -3.410156 -5.890625 -2.953125 -5.890625 L -2.828125 -5.890625 Z M -3.59375 -4.84375 C -4.238281 -4.78125 -4.707031 -4.613281 -5 -4.34375 C -5.289062 -4.082031 -5.4375 -3.695312 -5.4375 -3.1875 C -5.4375 -3.019531 -5.410156 -2.84375 -5.359375 -2.65625 C -5.304688 -2.46875 -5.207031 -2.296875 -5.0625 -2.140625 C -4.925781 -1.984375 -4.738281 -1.847656 -4.5 -1.734375 C -4.269531 -1.628906 -3.96875 -1.570312 -3.59375 -1.5625 Z M -3.59375 -4.84375 \"/>\n</symbol>\n<symbol overflow=\"visible\" id=\"glyph4-11\">\n<path style=\"stroke:none;\" d=\"M -0.984375 -4.609375 C -0.585938 -4.421875 -0.304688 -4.171875 -0.140625 -3.859375 C 0.0234375 -3.554688 0.109375 -3.175781 0.109375 -2.71875 C 0.109375 -1.945312 -0.144531 -1.378906 -0.65625 -1.015625 C -1.175781 -0.660156 -1.960938 -0.484375 -3.015625 -0.484375 C -5.128906 -0.484375 -6.1875 -1.226562 -6.1875 -2.71875 C -6.1875 -3.175781 -6.101562 -3.554688 -5.9375 -3.859375 C -5.769531 -4.171875 -5.5 -4.421875 -5.125 -4.609375 L -5.125 -4.625 C -5.164062 -4.625 -5.226562 -4.617188 -5.3125 -4.609375 C -5.394531 -4.609375 -5.476562 -4.609375 -5.5625 -4.609375 C -5.644531 -4.609375 -5.726562 -4.609375 -5.8125 -4.609375 C -5.894531 -4.609375 -5.953125 -4.609375 -5.984375 -4.609375 L -8.328125 -4.609375 L -8.328125 -5.625 L -1.25 -5.625 C -1.101562 -5.625 -0.960938 -5.625 -0.828125 -5.625 C -0.691406 -5.625 -0.566406 -5.625 -0.453125 -5.625 C -0.347656 -5.632812 -0.253906 -5.640625 -0.171875 -5.640625 C -0.0859375 -5.648438 -0.03125 -5.65625 0 -5.65625 L 0 -4.6875 C -0.0390625 -4.675781 -0.09375 -4.664062 -0.15625 -4.65625 C -0.226562 -4.65625 -0.304688 -4.648438 -0.390625 -4.640625 C -0.484375 -4.640625 -0.578125 -4.632812 -0.671875 -4.625 C -0.773438 -4.625 -0.878906 -4.625 -0.984375 -4.625 Z M -3.046875 -1.546875 C -2.628906 -1.546875 -2.269531 -1.570312 -1.96875 -1.625 C -1.664062 -1.675781 -1.414062 -1.757812 -1.21875 -1.875 C -1.03125 -1.988281 -0.890625 -2.132812 -0.796875 -2.3125 C -0.710938 -2.5 -0.671875 -2.71875 -0.671875 -2.96875 C -0.671875 -3.238281 -0.710938 -3.472656 -0.796875 -3.671875 C -0.878906 -3.878906 -1.015625 -4.050781 -1.203125 -4.1875 C -1.398438 -4.320312 -1.65625 -4.425781 -1.96875 -4.5 C -2.28125 -4.570312 -2.660156 -4.609375 -3.109375 -4.609375 C -3.535156 -4.609375 -3.898438 -4.570312 -4.203125 -4.5 C -4.503906 -4.425781 -4.742188 -4.320312 -4.921875 -4.1875 C -5.109375 -4.050781 -5.238281 -3.878906 -5.3125 -3.671875 C -5.394531 -3.472656 -5.4375 -3.242188 -5.4375 -2.984375 C -5.4375 -2.734375 -5.394531 -2.519531 -5.3125 -2.34375 C -5.226562 -2.164062 -5.085938 -2.015625 -4.890625 -1.890625 C -4.703125 -1.773438 -4.453125 -1.6875 -4.140625 -1.625 C -3.835938 -1.570312 -3.472656 -1.546875 -3.046875 -1.546875 Z M -3.046875 -1.546875 \"/>\n</symbol>\n<symbol overflow=\"visible\" id=\"glyph4-12\">\n<path style=\"stroke:none;\" d=\"M -5.53125 -7.0625 C -5.1875 -7.0625 -4.863281 -7.003906 -4.5625 -6.890625 C -4.269531 -6.773438 -4.015625 -6.601562 -3.796875 -6.375 C -3.578125 -6.15625 -3.398438 -5.875 -3.265625 -5.53125 C -3.140625 -5.1875 -3.078125 -4.789062 -3.078125 -4.34375 L -3.078125 -2.015625 L 0 -2.015625 L 0 -0.9375 L -7.90625 -0.9375 L -7.90625 -4.265625 C -7.90625 -4.734375 -7.847656 -5.140625 -7.734375 -5.484375 C -7.617188 -5.835938 -7.457031 -6.128906 -7.25 -6.359375 C -7.050781 -6.597656 -6.800781 -6.773438 -6.5 -6.890625 C -6.207031 -7.003906 -5.882812 -7.0625 -5.53125 -7.0625 Z M -5.515625 -5.984375 C -6.015625 -5.984375 -6.394531 -5.828125 -6.65625 -5.515625 C -6.914062 -5.210938 -7.046875 -4.753906 -7.046875 -4.140625 L -7.046875 -2.015625 L -3.9375 -2.015625 L -3.9375 -4.1875 C -3.9375 -4.800781 -4.070312 -5.253906 -4.34375 -5.546875 C -4.613281 -5.835938 -5.003906 -5.984375 -5.515625 -5.984375 Z M -5.515625 -5.984375 \"/>\n</symbol>\n<symbol overflow=\"visible\" id=\"glyph4-13\">\n<path style=\"stroke:none;\" d=\"M -1.671875 -5.328125 C -1.390625 -5.328125 -1.132812 -5.269531 -0.90625 -5.15625 C -0.6875 -5.050781 -0.5 -4.894531 -0.34375 -4.6875 C -0.195312 -4.476562 -0.0820312 -4.21875 0 -3.90625 C 0.0703125 -3.601562 0.109375 -3.257812 0.109375 -2.875 C 0.109375 -2.519531 0.0820312 -2.203125 0.03125 -1.921875 C -0.0195312 -1.640625 -0.101562 -1.390625 -0.21875 -1.171875 C -0.34375 -0.960938 -0.503906 -0.785156 -0.703125 -0.640625 C -0.898438 -0.492188 -1.140625 -0.382812 -1.421875 -0.3125 L -1.59375 -1.21875 C -1.269531 -1.300781 -1.03125 -1.476562 -0.875 -1.75 C -0.726562 -2.019531 -0.65625 -2.394531 -0.65625 -2.875 C -0.65625 -3.082031 -0.671875 -3.273438 -0.703125 -3.453125 C -0.734375 -3.640625 -0.785156 -3.800781 -0.859375 -3.9375 C -0.929688 -4.070312 -1.023438 -4.175781 -1.140625 -4.25 C -1.265625 -4.320312 -1.414062 -4.359375 -1.59375 -4.359375 C -1.78125 -4.359375 -1.929688 -4.3125 -2.046875 -4.21875 C -2.171875 -4.132812 -2.269531 -4.015625 -2.34375 -3.859375 C -2.425781 -3.710938 -2.492188 -3.523438 -2.546875 -3.296875 C -2.609375 -3.078125 -2.675781 -2.835938 -2.75 -2.578125 C -2.8125 -2.335938 -2.878906 -2.097656 -2.953125 -1.859375 C -3.035156 -1.617188 -3.140625 -1.398438 -3.265625 -1.203125 C -3.398438 -1.015625 -3.5625 -0.859375 -3.75 -0.734375 C -3.9375 -0.617188 -4.175781 -0.5625 -4.46875 -0.5625 C -5.019531 -0.5625 -5.441406 -0.757812 -5.734375 -1.15625 C -6.023438 -1.550781 -6.171875 -2.125 -6.171875 -2.875 C -6.171875 -3.550781 -6.050781 -4.085938 -5.8125 -4.484375 C -5.582031 -4.878906 -5.207031 -5.128906 -4.6875 -5.234375 L -4.578125 -4.3125 C -4.734375 -4.28125 -4.863281 -4.21875 -4.96875 -4.125 C -5.070312 -4.039062 -5.15625 -3.929688 -5.21875 -3.796875 C -5.289062 -3.671875 -5.335938 -3.53125 -5.359375 -3.375 C -5.390625 -3.21875 -5.40625 -3.050781 -5.40625 -2.875 C -5.40625 -2.425781 -5.332031 -2.09375 -5.1875 -1.875 C -5.050781 -1.65625 -4.847656 -1.546875 -4.578125 -1.546875 C -4.410156 -1.546875 -4.269531 -1.582031 -4.15625 -1.65625 C -4.050781 -1.738281 -3.960938 -1.851562 -3.890625 -2 C -3.816406 -2.144531 -3.753906 -2.316406 -3.703125 -2.515625 C -3.648438 -2.722656 -3.59375 -2.945312 -3.53125 -3.1875 C -3.488281 -3.351562 -3.441406 -3.519531 -3.390625 -3.6875 C -3.347656 -3.851562 -3.296875 -4.015625 -3.234375 -4.171875 C -3.171875 -4.328125 -3.09375 -4.472656 -3 -4.609375 C -2.914062 -4.753906 -2.8125 -4.878906 -2.6875 -4.984375 C -2.5625 -5.097656 -2.414062 -5.179688 -2.25 -5.234375 C -2.082031 -5.296875 -1.890625 -5.328125 -1.671875 -5.328125 Z M -1.671875 -5.328125 \"/>\n</symbol>\n</g>\n<clipPath id=\"clip1\">\n  <path d=\"M 38.578125 5.480469 L 427 5.480469 L 427 183 L 38.578125 183 Z M 38.578125 5.480469 \"/>\n</clipPath>\n<clipPath id=\"clip2\">\n  <path d=\"M 38.578125 173 L 427.519531 173 L 427.519531 175 L 38.578125 175 Z M 38.578125 173 \"/>\n</clipPath>\n<clipPath id=\"clip3\">\n  <path d=\"M 38.578125 111 L 427.519531 111 L 427.519531 113 L 38.578125 113 Z M 38.578125 111 \"/>\n</clipPath>\n<clipPath id=\"clip4\">\n  <path d=\"M 38.578125 49 L 427.519531 49 L 427.519531 52 L 38.578125 52 Z M 38.578125 49 \"/>\n</clipPath>\n<clipPath id=\"clip5\">\n  <path d=\"M 60 5.480469 L 63 5.480469 L 63 183 L 60 183 Z M 60 5.480469 \"/>\n</clipPath>\n<clipPath id=\"clip6\">\n  <path d=\"M 98 5.480469 L 101 5.480469 L 101 183 L 98 183 Z M 98 5.480469 \"/>\n</clipPath>\n<clipPath id=\"clip7\">\n  <path d=\"M 136 5.480469 L 139 5.480469 L 139 183 L 136 183 Z M 136 5.480469 \"/>\n</clipPath>\n<clipPath id=\"clip8\">\n  <path d=\"M 174 5.480469 L 177 5.480469 L 177 183 L 174 183 Z M 174 5.480469 \"/>\n</clipPath>\n<clipPath id=\"clip9\">\n  <path d=\"M 212 5.480469 L 215 5.480469 L 215 183 L 212 183 Z M 212 5.480469 \"/>\n</clipPath>\n<clipPath id=\"clip10\">\n  <path d=\"M 250 5.480469 L 253 5.480469 L 253 183 L 250 183 Z M 250 5.480469 \"/>\n</clipPath>\n<clipPath id=\"clip11\">\n  <path d=\"M 288 5.480469 L 291 5.480469 L 291 183 L 288 183 Z M 288 5.480469 \"/>\n</clipPath>\n<clipPath id=\"clip12\">\n  <path d=\"M 326 5.480469 L 329 5.480469 L 329 183 L 326 183 Z M 326 5.480469 \"/>\n</clipPath>\n<clipPath id=\"clip13\">\n  <path d=\"M 364 5.480469 L 367 5.480469 L 367 183 L 364 183 Z M 364 5.480469 \"/>\n</clipPath>\n<clipPath id=\"clip14\">\n  <path d=\"M 402 5.480469 L 405 5.480469 L 405 183 L 402 183 Z M 402 5.480469 \"/>\n</clipPath>\n</defs>\n<g id=\"surface8648\">\n<rect x=\"0\" y=\"0\" width=\"432\" height=\"216\" style=\"fill:rgb(100%,100%,100%);fill-opacity:1;stroke:none;\"/>\n<rect x=\"0\" y=\"0\" width=\"432\" height=\"216\" style=\"fill:rgb(100%,100%,100%);fill-opacity:1;stroke:none;\"/>\n<path style=\"fill:none;stroke-width:1.422638;stroke-linecap:round;stroke-linejoin:round;stroke:rgb(100%,100%,100%);stroke-opacity:1;stroke-miterlimit:10;\" d=\"M 0 0 L 432 0 L 432 216 L 0 216 Z M 0 0 \"/>\n<g clip-path=\"url(#clip1)\" clip-rule=\"nonzero\">\n<path style=\" stroke:none;fill-rule:nonzero;fill:rgb(100%,100%,100%);fill-opacity:1;\" d=\"M 38.578125 5.480469 L 426.519531 5.480469 L 426.519531 182.027344 L 38.578125 182.027344 Z M 38.578125 5.480469 \"/>\n</g>\n<g clip-path=\"url(#clip2)\" clip-rule=\"nonzero\">\n<path style=\"fill:none;stroke-width:1.422638;stroke-linecap:butt;stroke-linejoin:round;stroke:rgb(92.156863%,92.156863%,92.156863%);stroke-opacity:1;stroke-miterlimit:10;\" d=\"M 38.578125 174 L 426.519531 174 \"/>\n</g>\n<g clip-path=\"url(#clip3)\" clip-rule=\"nonzero\">\n<path style=\"fill:none;stroke-width:1.422638;stroke-linecap:butt;stroke-linejoin:round;stroke:rgb(92.156863%,92.156863%,92.156863%);stroke-opacity:1;stroke-miterlimit:10;\" d=\"M 38.578125 112.269531 L 426.519531 112.269531 \"/>\n</g>\n<g clip-path=\"url(#clip4)\" clip-rule=\"nonzero\">\n<path style=\"fill:none;stroke-width:1.422638;stroke-linecap:butt;stroke-linejoin:round;stroke:rgb(92.156863%,92.156863%,92.156863%);stroke-opacity:1;stroke-miterlimit:10;\" d=\"M 38.578125 50.542969 L 426.519531 50.542969 \"/>\n</g>\n<g clip-path=\"url(#clip5)\" clip-rule=\"nonzero\">\n<path style=\"fill:none;stroke-width:1.422638;stroke-linecap:butt;stroke-linejoin:round;stroke:rgb(92.156863%,92.156863%,92.156863%);stroke-opacity:1;stroke-miterlimit:10;\" d=\"M 61.398438 182.027344 L 61.398438 5.480469 \"/>\n</g>\n<g clip-path=\"url(#clip6)\" clip-rule=\"nonzero\">\n<path style=\"fill:none;stroke-width:1.422638;stroke-linecap:butt;stroke-linejoin:round;stroke:rgb(92.156863%,92.156863%,92.156863%);stroke-opacity:1;stroke-miterlimit:10;\" d=\"M 99.433594 182.027344 L 99.433594 5.480469 \"/>\n</g>\n<g clip-path=\"url(#clip7)\" clip-rule=\"nonzero\">\n<path style=\"fill:none;stroke-width:1.422638;stroke-linecap:butt;stroke-linejoin:round;stroke:rgb(92.156863%,92.156863%,92.156863%);stroke-opacity:1;stroke-miterlimit:10;\" d=\"M 137.464844 182.027344 L 137.464844 5.480469 \"/>\n</g>\n<g clip-path=\"url(#clip8)\" clip-rule=\"nonzero\">\n<path style=\"fill:none;stroke-width:1.422638;stroke-linecap:butt;stroke-linejoin:round;stroke:rgb(92.156863%,92.156863%,92.156863%);stroke-opacity:1;stroke-miterlimit:10;\" d=\"M 175.5 182.027344 L 175.5 5.480469 \"/>\n</g>\n<g clip-path=\"url(#clip9)\" clip-rule=\"nonzero\">\n<path style=\"fill:none;stroke-width:1.422638;stroke-linecap:butt;stroke-linejoin:round;stroke:rgb(92.156863%,92.156863%,92.156863%);stroke-opacity:1;stroke-miterlimit:10;\" d=\"M 213.53125 182.027344 L 213.53125 5.480469 \"/>\n</g>\n<g clip-path=\"url(#clip10)\" clip-rule=\"nonzero\">\n<path style=\"fill:none;stroke-width:1.422638;stroke-linecap:butt;stroke-linejoin:round;stroke:rgb(92.156863%,92.156863%,92.156863%);stroke-opacity:1;stroke-miterlimit:10;\" d=\"M 251.566406 182.027344 L 251.566406 5.480469 \"/>\n</g>\n<g clip-path=\"url(#clip11)\" clip-rule=\"nonzero\">\n<path style=\"fill:none;stroke-width:1.422638;stroke-linecap:butt;stroke-linejoin:round;stroke:rgb(92.156863%,92.156863%,92.156863%);stroke-opacity:1;stroke-miterlimit:10;\" d=\"M 289.601562 182.027344 L 289.601562 5.480469 \"/>\n</g>\n<g clip-path=\"url(#clip12)\" clip-rule=\"nonzero\">\n<path style=\"fill:none;stroke-width:1.422638;stroke-linecap:butt;stroke-linejoin:round;stroke:rgb(92.156863%,92.156863%,92.156863%);stroke-opacity:1;stroke-miterlimit:10;\" d=\"M 327.632812 182.027344 L 327.632812 5.480469 \"/>\n</g>\n<g clip-path=\"url(#clip13)\" clip-rule=\"nonzero\">\n<path style=\"fill:none;stroke-width:1.422638;stroke-linecap:butt;stroke-linejoin:round;stroke:rgb(92.156863%,92.156863%,92.156863%);stroke-opacity:1;stroke-miterlimit:10;\" d=\"M 365.667969 182.027344 L 365.667969 5.480469 \"/>\n</g>\n<g clip-path=\"url(#clip14)\" clip-rule=\"nonzero\">\n<path style=\"fill:none;stroke-width:1.422638;stroke-linecap:butt;stroke-linejoin:round;stroke:rgb(92.156863%,92.156863%,92.156863%);stroke-opacity:1;stroke-miterlimit:10;\" d=\"M 403.699219 182.027344 L 403.699219 5.480469 \"/>\n</g>\n<path style=\"fill-rule:nonzero;fill:rgb(82.745098%,82.745098%,82.745098%);fill-opacity:1;stroke-width:1.422638;stroke-linecap:butt;stroke-linejoin:miter;stroke:rgb(16.862745%,16.862745%,16.862745%);stroke-opacity:1;stroke-miterlimit:10;\" d=\"M 48.085938 166.59375 L 74.710938 166.59375 L 74.710938 174 L 48.085938 174 Z M 48.085938 166.59375 \"/>\n<path style=\"fill-rule:nonzero;fill:rgb(82.745098%,82.745098%,82.745098%);fill-opacity:1;stroke-width:1.422638;stroke-linecap:butt;stroke-linejoin:miter;stroke:rgb(16.862745%,16.862745%,16.862745%);stroke-opacity:1;stroke-miterlimit:10;\" d=\"M 86.121094 146.839844 L 112.746094 146.839844 L 112.746094 174 L 86.121094 174 Z M 86.121094 146.839844 \"/>\n<path style=\"fill-rule:nonzero;fill:rgb(82.745098%,82.745098%,82.745098%);fill-opacity:1;stroke-width:1.422638;stroke-linecap:butt;stroke-linejoin:miter;stroke:rgb(16.862745%,16.862745%,16.862745%);stroke-opacity:1;stroke-miterlimit:10;\" d=\"M 124.152344 107.332031 L 150.777344 107.332031 L 150.777344 174 L 124.152344 174 Z M 124.152344 107.332031 \"/>\n<path style=\"fill-rule:nonzero;fill:rgb(82.745098%,82.745098%,82.745098%);fill-opacity:1;stroke-width:1.422638;stroke-linecap:butt;stroke-linejoin:miter;stroke:rgb(16.862745%,16.862745%,16.862745%);stroke-opacity:1;stroke-miterlimit:10;\" d=\"M 162.1875 88.8125 L 188.8125 88.8125 L 188.8125 174 L 162.1875 174 Z M 162.1875 88.8125 \"/>\n<path style=\"fill-rule:nonzero;fill:rgb(82.745098%,82.745098%,82.745098%);fill-opacity:1;stroke-width:1.422638;stroke-linecap:butt;stroke-linejoin:miter;stroke:rgb(16.862745%,16.862745%,16.862745%);stroke-opacity:1;stroke-miterlimit:10;\" d=\"M 200.222656 61.652344 L 226.847656 61.652344 L 226.847656 174 L 200.222656 174 Z M 200.222656 61.652344 \"/>\n<path style=\"fill-rule:nonzero;fill:rgb(82.745098%,82.745098%,82.745098%);fill-opacity:1;stroke-width:1.422638;stroke-linecap:butt;stroke-linejoin:miter;stroke:rgb(16.862745%,16.862745%,16.862745%);stroke-opacity:1;stroke-miterlimit:10;\" d=\"M 238.253906 33.257812 L 264.878906 33.257812 L 264.878906 174 L 238.253906 174 Z M 238.253906 33.257812 \"/>\n<path style=\"fill-rule:nonzero;fill:rgb(82.745098%,82.745098%,82.745098%);fill-opacity:1;stroke-width:1.422638;stroke-linecap:butt;stroke-linejoin:miter;stroke:rgb(16.862745%,16.862745%,16.862745%);stroke-opacity:1;stroke-miterlimit:10;\" d=\"M 276.289062 66.589844 L 302.914062 66.589844 L 302.914062 174 L 276.289062 174 Z M 276.289062 66.589844 \"/>\n<path style=\"fill-rule:nonzero;fill:rgb(82.745098%,82.745098%,82.745098%);fill-opacity:1;stroke-width:1.422638;stroke-linecap:butt;stroke-linejoin:miter;stroke:rgb(16.862745%,16.862745%,16.862745%);stroke-opacity:1;stroke-miterlimit:10;\" d=\"M 314.320312 114.742188 L 340.945312 114.742188 L 340.945312 174.003906 L 314.320312 174.003906 Z M 314.320312 114.742188 \"/>\n<path style=\"fill-rule:nonzero;fill:rgb(82.745098%,82.745098%,82.745098%);fill-opacity:1;stroke-width:1.422638;stroke-linecap:butt;stroke-linejoin:miter;stroke:rgb(16.862745%,16.862745%,16.862745%);stroke-opacity:1;stroke-miterlimit:10;\" d=\"M 352.355469 120.914062 L 378.980469 120.914062 L 378.980469 174 L 352.355469 174 Z M 352.355469 120.914062 \"/>\n<path style=\"fill-rule:nonzero;fill:rgb(82.745098%,82.745098%,82.745098%);fill-opacity:1;stroke-width:1.422638;stroke-linecap:butt;stroke-linejoin:miter;stroke:rgb(16.862745%,16.862745%,16.862745%);stroke-opacity:1;stroke-miterlimit:10;\" d=\"M 390.390625 169.0625 L 417.015625 169.0625 L 417.015625 174 L 390.390625 174 Z M 390.390625 169.0625 \"/>\n<g style=\"fill:rgb(0%,0%,0%);fill-opacity:1;\">\n  <use xlink:href=\"#glyph0-1\" x=\"58.189729\" y=\"162.623652\"/>\n</g>\n<g style=\"fill:rgb(0%,0%,0%);fill-opacity:1;\">\n  <use xlink:href=\"#glyph0-2\" x=\"93.020137\" y=\"142.870238\"/>\n  <use xlink:href=\"#glyph0-2\" x=\"99.426387\" y=\"142.870238\"/>\n</g>\n<g style=\"fill:rgb(0%,0%,0%);fill-opacity:1;\">\n  <use xlink:href=\"#glyph0-3\" x=\"131.053669\" y=\"103.363411\"/>\n  <use xlink:href=\"#glyph0-4\" x=\"137.459919\" y=\"103.363411\"/>\n</g>\n<g style=\"fill:rgb(0%,0%,0%);fill-opacity:1;\">\n  <use xlink:href=\"#glyph0-1\" x=\"169.087202\" y=\"84.844586\"/>\n  <use xlink:href=\"#glyph0-5\" x=\"175.493452\" y=\"84.844586\"/>\n</g>\n<g style=\"fill:rgb(0%,0%,0%);fill-opacity:1;\">\n  <use xlink:href=\"#glyph0-5\" x=\"207.120734\" y=\"57.683643\"/>\n  <use xlink:href=\"#glyph0-6\" x=\"213.526984\" y=\"57.683643\"/>\n</g>\n<g style=\"fill:rgb(0%,0%,0%);fill-opacity:1;\">\n  <use xlink:href=\"#glyph0-6\" x=\"241.951142\" y=\"29.288111\"/>\n  <use xlink:href=\"#glyph0-6\" x=\"248.357392\" y=\"29.288111\"/>\n  <use xlink:href=\"#glyph0-4\" x=\"254.763642\" y=\"29.288111\"/>\n</g>\n<g style=\"fill:rgb(0%,0%,0%);fill-opacity:1;\">\n  <use xlink:href=\"#glyph0-7\" x=\"283.187799\" y=\"62.621996\"/>\n  <use xlink:href=\"#glyph0-8\" x=\"289.594049\" y=\"62.621996\"/>\n</g>\n<g style=\"fill:rgb(0%,0%,0%);fill-opacity:1;\">\n  <use xlink:href=\"#glyph0-4\" x=\"321.221332\" y=\"110.770941\"/>\n  <use xlink:href=\"#glyph0-7\" x=\"327.627582\" y=\"110.770941\"/>\n</g>\n<g style=\"fill:rgb(0%,0%,0%);fill-opacity:1;\">\n  <use xlink:href=\"#glyph0-4\" x=\"359.254864\" y=\"116.943883\"/>\n  <use xlink:href=\"#glyph0-9\" x=\"365.661114\" y=\"116.943883\"/>\n</g>\n<g style=\"fill:rgb(0%,0%,0%);fill-opacity:1;\">\n  <use xlink:href=\"#glyph0-4\" x=\"400.491521\" y=\"165.092828\"/>\n</g>\n<path style=\"fill:none;stroke-width:1.422638;stroke-linecap:butt;stroke-linejoin:round;stroke:rgb(0%,0%,0%);stroke-opacity:1;stroke-miterlimit:10;\" d=\"M 38.578125 182.027344 L 38.578125 5.480469 \"/>\n<g style=\"fill:rgb(30.196078%,30.196078%,30.196078%);fill-opacity:1;\">\n  <use xlink:href=\"#glyph1-1\" x=\"28.474793\" y=\"177.199906\"/>\n</g>\n<g style=\"fill:rgb(30.196078%,30.196078%,30.196078%);fill-opacity:1;\">\n  <use xlink:href=\"#glyph1-2\" x=\"23.302918\" y=\"115.470489\"/>\n  <use xlink:href=\"#glyph1-1\" x=\"28.474793\" y=\"115.470489\"/>\n</g>\n<g style=\"fill:rgb(30.196078%,30.196078%,30.196078%);fill-opacity:1;\">\n  <use xlink:href=\"#glyph1-3\" x=\"18.131043\" y=\"53.741072\"/>\n  <use xlink:href=\"#glyph1-1\" x=\"23.302918\" y=\"53.741072\"/>\n  <use xlink:href=\"#glyph1-1\" x=\"28.474793\" y=\"53.741072\"/>\n</g>\n<path style=\"fill:none;stroke-width:1.422638;stroke-linecap:butt;stroke-linejoin:round;stroke:rgb(20%,20%,20%);stroke-opacity:1;stroke-miterlimit:10;\" d=\"M 35.839844 174 L 38.578125 174 \"/>\n<path style=\"fill:none;stroke-width:1.422638;stroke-linecap:butt;stroke-linejoin:round;stroke:rgb(20%,20%,20%);stroke-opacity:1;stroke-miterlimit:10;\" d=\"M 35.839844 112.269531 L 38.578125 112.269531 \"/>\n<path style=\"fill:none;stroke-width:1.422638;stroke-linecap:butt;stroke-linejoin:round;stroke:rgb(20%,20%,20%);stroke-opacity:1;stroke-miterlimit:10;\" d=\"M 35.839844 50.542969 L 38.578125 50.542969 \"/>\n<path style=\"fill:none;stroke-width:1.422638;stroke-linecap:butt;stroke-linejoin:round;stroke:rgb(0%,0%,0%);stroke-opacity:1;stroke-miterlimit:10;\" d=\"M 38.578125 182.027344 L 426.519531 182.027344 \"/>\n<path style=\"fill:none;stroke-width:1.422638;stroke-linecap:butt;stroke-linejoin:round;stroke:rgb(20%,20%,20%);stroke-opacity:1;stroke-miterlimit:10;\" d=\"M 61.398438 184.765625 L 61.398438 182.027344 \"/>\n<path style=\"fill:none;stroke-width:1.422638;stroke-linecap:butt;stroke-linejoin:round;stroke:rgb(20%,20%,20%);stroke-opacity:1;stroke-miterlimit:10;\" d=\"M 99.433594 184.765625 L 99.433594 182.027344 \"/>\n<path style=\"fill:none;stroke-width:1.422638;stroke-linecap:butt;stroke-linejoin:round;stroke:rgb(20%,20%,20%);stroke-opacity:1;stroke-miterlimit:10;\" d=\"M 137.464844 184.765625 L 137.464844 182.027344 \"/>\n<path style=\"fill:none;stroke-width:1.422638;stroke-linecap:butt;stroke-linejoin:round;stroke:rgb(20%,20%,20%);stroke-opacity:1;stroke-miterlimit:10;\" d=\"M 175.5 184.765625 L 175.5 182.027344 \"/>\n<path style=\"fill:none;stroke-width:1.422638;stroke-linecap:butt;stroke-linejoin:round;stroke:rgb(20%,20%,20%);stroke-opacity:1;stroke-miterlimit:10;\" d=\"M 213.53125 184.765625 L 213.53125 182.027344 \"/>\n<path style=\"fill:none;stroke-width:1.422638;stroke-linecap:butt;stroke-linejoin:round;stroke:rgb(20%,20%,20%);stroke-opacity:1;stroke-miterlimit:10;\" d=\"M 251.566406 184.765625 L 251.566406 182.027344 \"/>\n<path style=\"fill:none;stroke-width:1.422638;stroke-linecap:butt;stroke-linejoin:round;stroke:rgb(20%,20%,20%);stroke-opacity:1;stroke-miterlimit:10;\" d=\"M 289.601562 184.765625 L 289.601562 182.027344 \"/>\n<path style=\"fill:none;stroke-width:1.422638;stroke-linecap:butt;stroke-linejoin:round;stroke:rgb(20%,20%,20%);stroke-opacity:1;stroke-miterlimit:10;\" d=\"M 327.632812 184.765625 L 327.632812 182.027344 \"/>\n<path style=\"fill:none;stroke-width:1.422638;stroke-linecap:butt;stroke-linejoin:round;stroke:rgb(20%,20%,20%);stroke-opacity:1;stroke-miterlimit:10;\" d=\"M 365.667969 184.765625 L 365.667969 182.027344 \"/>\n<path style=\"fill:none;stroke-width:1.422638;stroke-linecap:butt;stroke-linejoin:round;stroke:rgb(20%,20%,20%);stroke-opacity:1;stroke-miterlimit:10;\" d=\"M 403.699219 184.765625 L 403.699219 182.027344 \"/>\n<g style=\"fill:rgb(0%,0%,0%);fill-opacity:1;\">\n  <use xlink:href=\"#glyph2-1\" x=\"49.713212\" y=\"194.180968\"/>\n  <use xlink:href=\"#glyph2-2\" x=\"55.556962\" y=\"194.180968\"/>\n  <use xlink:href=\"#glyph2-3\" x=\"61.400712\" y=\"194.180968\"/>\n  <use xlink:href=\"#glyph2-4\" x=\"67.244462\" y=\"194.180968\"/>\n</g>\n<g style=\"fill:rgb(0%,0%,0%);fill-opacity:1;\">\n  <use xlink:href=\"#glyph2-1\" x=\"87.746744\" y=\"194.180968\"/>\n  <use xlink:href=\"#glyph2-2\" x=\"93.590494\" y=\"194.180968\"/>\n  <use xlink:href=\"#glyph2-3\" x=\"99.434244\" y=\"194.180968\"/>\n  <use xlink:href=\"#glyph2-5\" x=\"105.277994\" y=\"194.180968\"/>\n</g>\n<g style=\"fill:rgb(0%,0%,0%);fill-opacity:1;\">\n  <use xlink:href=\"#glyph2-1\" x=\"125.780277\" y=\"194.180968\"/>\n  <use xlink:href=\"#glyph2-2\" x=\"131.624027\" y=\"194.180968\"/>\n  <use xlink:href=\"#glyph2-3\" x=\"137.467777\" y=\"194.180968\"/>\n  <use xlink:href=\"#glyph2-6\" x=\"143.311527\" y=\"194.180968\"/>\n</g>\n<g style=\"fill:rgb(0%,0%,0%);fill-opacity:1;\">\n  <use xlink:href=\"#glyph2-1\" x=\"163.813809\" y=\"194.180968\"/>\n  <use xlink:href=\"#glyph2-2\" x=\"169.657559\" y=\"194.180968\"/>\n  <use xlink:href=\"#glyph2-3\" x=\"175.501309\" y=\"194.180968\"/>\n  <use xlink:href=\"#glyph2-7\" x=\"181.345059\" y=\"194.180968\"/>\n</g>\n<g style=\"fill:rgb(0%,0%,0%);fill-opacity:1;\">\n  <use xlink:href=\"#glyph2-1\" x=\"201.847341\" y=\"194.180968\"/>\n  <use xlink:href=\"#glyph2-2\" x=\"207.691091\" y=\"194.180968\"/>\n  <use xlink:href=\"#glyph2-3\" x=\"213.534841\" y=\"194.180968\"/>\n  <use xlink:href=\"#glyph2-8\" x=\"219.378591\" y=\"194.180968\"/>\n</g>\n<g style=\"fill:rgb(0%,0%,0%);fill-opacity:1;\">\n  <use xlink:href=\"#glyph2-1\" x=\"239.880874\" y=\"194.180968\"/>\n  <use xlink:href=\"#glyph2-2\" x=\"245.724624\" y=\"194.180968\"/>\n  <use xlink:href=\"#glyph2-3\" x=\"251.568374\" y=\"194.180968\"/>\n  <use xlink:href=\"#glyph2-9\" x=\"257.412124\" y=\"194.180968\"/>\n</g>\n<g style=\"fill:rgb(0%,0%,0%);fill-opacity:1;\">\n  <use xlink:href=\"#glyph2-1\" x=\"277.914406\" y=\"194.180968\"/>\n  <use xlink:href=\"#glyph2-2\" x=\"283.758156\" y=\"194.180968\"/>\n  <use xlink:href=\"#glyph2-1\" x=\"289.601906\" y=\"194.180968\"/>\n  <use xlink:href=\"#glyph2-2\" x=\"295.445656\" y=\"194.180968\"/>\n</g>\n<g style=\"fill:rgb(0%,0%,0%);fill-opacity:1;\">\n  <use xlink:href=\"#glyph2-1\" x=\"315.947939\" y=\"194.180968\"/>\n  <use xlink:href=\"#glyph2-2\" x=\"321.791689\" y=\"194.180968\"/>\n  <use xlink:href=\"#glyph2-1\" x=\"327.635439\" y=\"194.180968\"/>\n  <use xlink:href=\"#glyph2-3\" x=\"333.479189\" y=\"194.180968\"/>\n</g>\n<g style=\"fill:rgb(0%,0%,0%);fill-opacity:1;\">\n  <use xlink:href=\"#glyph2-1\" x=\"353.981471\" y=\"194.180968\"/>\n  <use xlink:href=\"#glyph2-2\" x=\"359.825221\" y=\"194.180968\"/>\n  <use xlink:href=\"#glyph2-1\" x=\"365.668971\" y=\"194.180968\"/>\n  <use xlink:href=\"#glyph2-1\" x=\"371.512721\" y=\"194.180968\"/>\n</g>\n<g style=\"fill:rgb(0%,0%,0%);fill-opacity:1;\">\n  <use xlink:href=\"#glyph2-1\" x=\"392.015004\" y=\"194.180968\"/>\n  <use xlink:href=\"#glyph2-2\" x=\"397.858754\" y=\"194.180968\"/>\n  <use xlink:href=\"#glyph2-1\" x=\"403.702504\" y=\"194.180968\"/>\n  <use xlink:href=\"#glyph2-10\" x=\"409.546254\" y=\"194.180968\"/>\n</g>\n<g style=\"fill:rgb(0%,0%,0%);fill-opacity:1;\">\n  <use xlink:href=\"#glyph3-1\" x=\"219.336031\" y=\"207.520548\"/>\n  <use xlink:href=\"#glyph3-2\" x=\"226.992281\" y=\"207.520548\"/>\n  <use xlink:href=\"#glyph3-3\" x=\"233.945406\" y=\"207.520548\"/>\n  <use xlink:href=\"#glyph3-4\" x=\"240.898531\" y=\"207.520548\"/>\n</g>\n<g style=\"fill:rgb(0%,0%,0%);fill-opacity:1;\">\n  <use xlink:href=\"#glyph4-1\" x=\"13.391317\" y=\"149.322831\"/>\n  <use xlink:href=\"#glyph4-2\" x=\"13.391317\" y=\"143.572831\"/>\n  <use xlink:href=\"#glyph4-3\" x=\"13.391317\" y=\"137.182206\"/>\n  <use xlink:href=\"#glyph4-4\" x=\"13.391317\" y=\"133.994706\"/>\n  <use xlink:href=\"#glyph4-5\" x=\"13.391317\" y=\"127.604081\"/>\n  <use xlink:href=\"#glyph4-6\" x=\"13.391317\" y=\"125.041581\"/>\n  <use xlink:href=\"#glyph4-7\" x=\"13.391317\" y=\"121.854081\"/>\n  <use xlink:href=\"#glyph4-8\" x=\"13.391317\" y=\"112.916581\"/>\n  <use xlink:href=\"#glyph4-4\" x=\"13.391317\" y=\"109.088456\"/>\n  <use xlink:href=\"#glyph4-9\" x=\"13.391317\" y=\"102.697831\"/>\n  <use xlink:href=\"#glyph4-3\" x=\"13.391317\" y=\"96.307206\"/>\n  <use xlink:href=\"#glyph4-10\" x=\"13.391317\" y=\"93.119706\"/>\n  <use xlink:href=\"#glyph4-11\" x=\"13.391317\" y=\"86.729081\"/>\n  <use xlink:href=\"#glyph4-6\" x=\"13.391317\" y=\"80.338456\"/>\n  <use xlink:href=\"#glyph4-12\" x=\"13.391317\" y=\"77.150956\"/>\n  <use xlink:href=\"#glyph4-4\" x=\"13.391317\" y=\"69.479081\"/>\n  <use xlink:href=\"#glyph4-3\" x=\"13.391317\" y=\"63.088456\"/>\n  <use xlink:href=\"#glyph4-10\" x=\"13.391317\" y=\"59.900956\"/>\n  <use xlink:href=\"#glyph4-9\" x=\"13.391317\" y=\"53.510331\"/>\n  <use xlink:href=\"#glyph4-3\" x=\"13.391317\" y=\"47.119706\"/>\n  <use xlink:href=\"#glyph4-13\" x=\"13.391317\" y=\"43.932206\"/>\n</g>\n</g>\n</svg>\n",
      "text/plain": [
       "plot without title"
      ]
     },
     "metadata": {
      "application/pdf": {
       "height": 180,
       "width": 360
      },
      "image/jpeg": {
       "height": 180,
       "width": 360
      },
      "image/png": {
       "height": 180,
       "width": 360
      },
      "image/svg+xml": {
       "height": 180,
       "isolated": true,
       "width": 360
      }
     },
     "output_type": "display_data"
    }
   ],
   "source": [
    "options(repr.plot.width = 6, repr.plot.height = 3)\n",
    "airbus_granted_date %>%\n",
    "    group_by(year) %>%\n",
    "    summarize(N = n()) %>%\n",
    "    as_tibble() %>%\n",
    "    ggplot(aes(x=year, y=N)) +\n",
    "    geom_col(\n",
    "        fill=gray_scale[4], color=gray_scale[5], \n",
    "        size=0.5, width=0.7) +\n",
    "    geom_text(aes(label=N), vjust=-0.5) + \n",
    "    theme_bw() +\n",
    "    ylim(0, 130) +\n",
    "    labs(\n",
    "        x='Year', \n",
    "        y='Total Granted Patents',\n",
    "    ) +\n",
    "    theme(\n",
    "        panel.grid.minor = element_blank(),\n",
    "        panel.border = element_blank(),\n",
    "        axis.line = element_line(color = \"black\"),\n",
    "        axis.text.x=element_text(face='bold', color='black', size=10),\n",
    "        axis.title.x=element_text(size=12, face='bold'),\n",
    "        axis.text.y=element_text(face='bold'),\n",
    "        ) -> p1\n",
    "\n",
    "p1"
   ]
  },
  {
   "cell_type": "code",
   "execution_count": 320,
   "metadata": {
    "vscode": {
     "languageId": "r"
    }
   },
   "outputs": [],
   "source": [
    "ggsave(\n",
    "    p1, \n",
    "    file='work/docs/images/blog/airbus_patent.png',\n",
    "    width=6, height=3, type=\"cairo-png\",\n",
    "    device = grDevices::png, \n",
    "    dpi=300, bg='transparent')"
   ]
  },
  {
   "cell_type": "code",
   "execution_count": 321,
   "metadata": {
    "vscode": {
     "languageId": "r"
    }
   },
   "outputs": [],
   "source": [
    "write_webp(readPNG('work/docs/images/blog/airbus_patent.png'), 'work/docs/images/blog/airbus_patent.webp')"
   ]
  },
  {
   "cell_type": "code",
   "execution_count": 2,
   "metadata": {
    "vscode": {
     "languageId": "r"
    }
   },
   "outputs": [],
   "source": [
    "# read the dataset\n",
    "airbus <- fread('work/notebooks/patent/data/airbus_granted.csv')"
   ]
  },
  {
   "cell_type": "code",
   "execution_count": 3,
   "metadata": {
    "vscode": {
     "languageId": "r"
    }
   },
   "outputs": [
    {
     "data": {
      "text/html": [
       "<table class=\"dataframe\">\n",
       "<caption>A data.table: 6 × 10</caption>\n",
       "<thead>\n",
       "\t<tr><th scope=col>V1</th><th scope=col>HAN_ID</th><th scope=col>HARM_ID</th><th scope=col>Appln_id</th><th scope=col>Publn_auth</th><th scope=col>Patent_number</th><th scope=col>granted</th><th scope=col>pub_date</th><th scope=col>appln_number</th><th scope=col>kind_code</th></tr>\n",
       "\t<tr><th scope=col>&lt;int&gt;</th><th scope=col>&lt;int&gt;</th><th scope=col>&lt;int&gt;</th><th scope=col>&lt;int&gt;</th><th scope=col>&lt;chr&gt;</th><th scope=col>&lt;chr&gt;</th><th scope=col>&lt;int&gt;</th><th scope=col>&lt;chr&gt;</th><th scope=col>&lt;int&gt;</th><th scope=col>&lt;chr&gt;</th></tr>\n",
       "</thead>\n",
       "<tbody>\n",
       "\t<tr><td>1</td><td>60513</td><td>60513</td><td>   213</td><td>EP</td><td>EP2030891</td><td>0</td><td>NA              </td><td>     NA</td><td>NA</td></tr>\n",
       "\t<tr><td>2</td><td>60513</td><td>60513</td><td> 65448</td><td>EP</td><td>EP2025928</td><td>0</td><td>NA              </td><td>     NA</td><td>NA</td></tr>\n",
       "\t<tr><td>3</td><td>60513</td><td>60513</td><td>156990</td><td>EP</td><td>EP1920908</td><td>1</td><td>Wed, 08 Apr 2015</td><td>7021377</td><td>B1</td></tr>\n",
       "\t<tr><td>4</td><td>60513</td><td>60513</td><td>161551</td><td>EP</td><td>EP1972896</td><td>1</td><td>Wed, 06 May 2015</td><td>8004318</td><td>B1</td></tr>\n",
       "\t<tr><td>5</td><td>60513</td><td>60513</td><td>173385</td><td>EP</td><td>EP2134522</td><td>1</td><td>Wed, 01 Mar 2017</td><td>8717791</td><td>B1</td></tr>\n",
       "\t<tr><td>6</td><td>60513</td><td>60513</td><td>173386</td><td>EP</td><td>EP2136979</td><td>1</td><td>Wed, 11 May 2016</td><td>8717792</td><td>B1</td></tr>\n",
       "</tbody>\n",
       "</table>\n"
      ],
      "text/latex": [
       "A data.table: 6 × 10\n",
       "\\begin{tabular}{llllllllll}\n",
       " V1 & HAN\\_ID & HARM\\_ID & Appln\\_id & Publn\\_auth & Patent\\_number & granted & pub\\_date & appln\\_number & kind\\_code\\\\\n",
       " <int> & <int> & <int> & <int> & <chr> & <chr> & <int> & <chr> & <int> & <chr>\\\\\n",
       "\\hline\n",
       "\t 1 & 60513 & 60513 &    213 & EP & EP2030891 & 0 & NA               &      NA & NA\\\\\n",
       "\t 2 & 60513 & 60513 &  65448 & EP & EP2025928 & 0 & NA               &      NA & NA\\\\\n",
       "\t 3 & 60513 & 60513 & 156990 & EP & EP1920908 & 1 & Wed, 08 Apr 2015 & 7021377 & B1\\\\\n",
       "\t 4 & 60513 & 60513 & 161551 & EP & EP1972896 & 1 & Wed, 06 May 2015 & 8004318 & B1\\\\\n",
       "\t 5 & 60513 & 60513 & 173385 & EP & EP2134522 & 1 & Wed, 01 Mar 2017 & 8717791 & B1\\\\\n",
       "\t 6 & 60513 & 60513 & 173386 & EP & EP2136979 & 1 & Wed, 11 May 2016 & 8717792 & B1\\\\\n",
       "\\end{tabular}\n"
      ],
      "text/markdown": [
       "\n",
       "A data.table: 6 × 10\n",
       "\n",
       "| V1 &lt;int&gt; | HAN_ID &lt;int&gt; | HARM_ID &lt;int&gt; | Appln_id &lt;int&gt; | Publn_auth &lt;chr&gt; | Patent_number &lt;chr&gt; | granted &lt;int&gt; | pub_date &lt;chr&gt; | appln_number &lt;int&gt; | kind_code &lt;chr&gt; |\n",
       "|---|---|---|---|---|---|---|---|---|---|\n",
       "| 1 | 60513 | 60513 |    213 | EP | EP2030891 | 0 | NA               |      NA | NA |\n",
       "| 2 | 60513 | 60513 |  65448 | EP | EP2025928 | 0 | NA               |      NA | NA |\n",
       "| 3 | 60513 | 60513 | 156990 | EP | EP1920908 | 1 | Wed, 08 Apr 2015 | 7021377 | B1 |\n",
       "| 4 | 60513 | 60513 | 161551 | EP | EP1972896 | 1 | Wed, 06 May 2015 | 8004318 | B1 |\n",
       "| 5 | 60513 | 60513 | 173385 | EP | EP2134522 | 1 | Wed, 01 Mar 2017 | 8717791 | B1 |\n",
       "| 6 | 60513 | 60513 | 173386 | EP | EP2136979 | 1 | Wed, 11 May 2016 | 8717792 | B1 |\n",
       "\n"
      ],
      "text/plain": [
       "  V1 HAN_ID HARM_ID Appln_id Publn_auth Patent_number granted pub_date        \n",
       "1 1  60513  60513      213   EP         EP2030891     0       NA              \n",
       "2 2  60513  60513    65448   EP         EP2025928     0       NA              \n",
       "3 3  60513  60513   156990   EP         EP1920908     1       Wed, 08 Apr 2015\n",
       "4 4  60513  60513   161551   EP         EP1972896     1       Wed, 06 May 2015\n",
       "5 5  60513  60513   173385   EP         EP2134522     1       Wed, 01 Mar 2017\n",
       "6 6  60513  60513   173386   EP         EP2136979     1       Wed, 11 May 2016\n",
       "  appln_number kind_code\n",
       "1      NA      NA       \n",
       "2      NA      NA       \n",
       "3 7021377      B1       \n",
       "4 8004318      B1       \n",
       "5 8717791      B1       \n",
       "6 8717792      B1       "
      ]
     },
     "metadata": {},
     "output_type": "display_data"
    }
   ],
   "source": [
    "head(airbus)"
   ]
  },
  {
   "cell_type": "code",
   "execution_count": 4,
   "metadata": {
    "vscode": {
     "languageId": "r"
    }
   },
   "outputs": [
    {
     "data": {
      "text/html": [
       "<table class=\"dataframe\">\n",
       "<caption>A data.table: 6 × 10</caption>\n",
       "<thead>\n",
       "\t<tr><th scope=col>V1</th><th scope=col>HAN_ID</th><th scope=col>HARM_ID</th><th scope=col>Appln_id</th><th scope=col>Publn_auth</th><th scope=col>Patent_number</th><th scope=col>granted</th><th scope=col>pub_date</th><th scope=col>appln_number</th><th scope=col>kind_code</th></tr>\n",
       "\t<tr><th scope=col>&lt;int&gt;</th><th scope=col>&lt;int&gt;</th><th scope=col>&lt;int&gt;</th><th scope=col>&lt;int&gt;</th><th scope=col>&lt;chr&gt;</th><th scope=col>&lt;chr&gt;</th><th scope=col>&lt;int&gt;</th><th scope=col>&lt;chr&gt;</th><th scope=col>&lt;int&gt;</th><th scope=col>&lt;chr&gt;</th></tr>\n",
       "</thead>\n",
       "<tbody>\n",
       "\t<tr><td>3</td><td>60513</td><td>60513</td><td>156990</td><td>EP</td><td>EP1920908</td><td>1</td><td>Wed, 08 Apr 2015</td><td>7021377</td><td>B1</td></tr>\n",
       "\t<tr><td>4</td><td>60513</td><td>60513</td><td>161551</td><td>EP</td><td>EP1972896</td><td>1</td><td>Wed, 06 May 2015</td><td>8004318</td><td>B1</td></tr>\n",
       "\t<tr><td>5</td><td>60513</td><td>60513</td><td>173385</td><td>EP</td><td>EP2134522</td><td>1</td><td>Wed, 01 Mar 2017</td><td>8717791</td><td>B1</td></tr>\n",
       "\t<tr><td>6</td><td>60513</td><td>60513</td><td>173386</td><td>EP</td><td>EP2136979</td><td>1</td><td>Wed, 11 May 2016</td><td>8717792</td><td>B1</td></tr>\n",
       "\t<tr><td>7</td><td>60513</td><td>60513</td><td>188882</td><td>EP</td><td>EP1976108</td><td>1</td><td>Wed, 21 Oct 2020</td><td>8004255</td><td>B1</td></tr>\n",
       "\t<tr><td>8</td><td>60513</td><td>60513</td><td>357750</td><td>EP</td><td>EP2039604</td><td>1</td><td>Wed, 01 Mar 2017</td><td>8016066</td><td>B1</td></tr>\n",
       "</tbody>\n",
       "</table>\n"
      ],
      "text/latex": [
       "A data.table: 6 × 10\n",
       "\\begin{tabular}{llllllllll}\n",
       " V1 & HAN\\_ID & HARM\\_ID & Appln\\_id & Publn\\_auth & Patent\\_number & granted & pub\\_date & appln\\_number & kind\\_code\\\\\n",
       " <int> & <int> & <int> & <int> & <chr> & <chr> & <int> & <chr> & <int> & <chr>\\\\\n",
       "\\hline\n",
       "\t 3 & 60513 & 60513 & 156990 & EP & EP1920908 & 1 & Wed, 08 Apr 2015 & 7021377 & B1\\\\\n",
       "\t 4 & 60513 & 60513 & 161551 & EP & EP1972896 & 1 & Wed, 06 May 2015 & 8004318 & B1\\\\\n",
       "\t 5 & 60513 & 60513 & 173385 & EP & EP2134522 & 1 & Wed, 01 Mar 2017 & 8717791 & B1\\\\\n",
       "\t 6 & 60513 & 60513 & 173386 & EP & EP2136979 & 1 & Wed, 11 May 2016 & 8717792 & B1\\\\\n",
       "\t 7 & 60513 & 60513 & 188882 & EP & EP1976108 & 1 & Wed, 21 Oct 2020 & 8004255 & B1\\\\\n",
       "\t 8 & 60513 & 60513 & 357750 & EP & EP2039604 & 1 & Wed, 01 Mar 2017 & 8016066 & B1\\\\\n",
       "\\end{tabular}\n"
      ],
      "text/markdown": [
       "\n",
       "A data.table: 6 × 10\n",
       "\n",
       "| V1 &lt;int&gt; | HAN_ID &lt;int&gt; | HARM_ID &lt;int&gt; | Appln_id &lt;int&gt; | Publn_auth &lt;chr&gt; | Patent_number &lt;chr&gt; | granted &lt;int&gt; | pub_date &lt;chr&gt; | appln_number &lt;int&gt; | kind_code &lt;chr&gt; |\n",
       "|---|---|---|---|---|---|---|---|---|---|\n",
       "| 3 | 60513 | 60513 | 156990 | EP | EP1920908 | 1 | Wed, 08 Apr 2015 | 7021377 | B1 |\n",
       "| 4 | 60513 | 60513 | 161551 | EP | EP1972896 | 1 | Wed, 06 May 2015 | 8004318 | B1 |\n",
       "| 5 | 60513 | 60513 | 173385 | EP | EP2134522 | 1 | Wed, 01 Mar 2017 | 8717791 | B1 |\n",
       "| 6 | 60513 | 60513 | 173386 | EP | EP2136979 | 1 | Wed, 11 May 2016 | 8717792 | B1 |\n",
       "| 7 | 60513 | 60513 | 188882 | EP | EP1976108 | 1 | Wed, 21 Oct 2020 | 8004255 | B1 |\n",
       "| 8 | 60513 | 60513 | 357750 | EP | EP2039604 | 1 | Wed, 01 Mar 2017 | 8016066 | B1 |\n",
       "\n"
      ],
      "text/plain": [
       "  V1 HAN_ID HARM_ID Appln_id Publn_auth Patent_number granted pub_date        \n",
       "1 3  60513  60513   156990   EP         EP1920908     1       Wed, 08 Apr 2015\n",
       "2 4  60513  60513   161551   EP         EP1972896     1       Wed, 06 May 2015\n",
       "3 5  60513  60513   173385   EP         EP2134522     1       Wed, 01 Mar 2017\n",
       "4 6  60513  60513   173386   EP         EP2136979     1       Wed, 11 May 2016\n",
       "5 7  60513  60513   188882   EP         EP1976108     1       Wed, 21 Oct 2020\n",
       "6 8  60513  60513   357750   EP         EP2039604     1       Wed, 01 Mar 2017\n",
       "  appln_number kind_code\n",
       "1 7021377      B1       \n",
       "2 8004318      B1       \n",
       "3 8717791      B1       \n",
       "4 8717792      B1       \n",
       "5 8004255      B1       \n",
       "6 8016066      B1       "
      ]
     },
     "metadata": {},
     "output_type": "display_data"
    }
   ],
   "source": [
    "airbus %>%\n",
    "    .[granted==1,] -> airbus_granted\n",
    "head(airbus_granted)"
   ]
  },
  {
   "cell_type": "code",
   "execution_count": 13,
   "metadata": {
    "vscode": {
     "languageId": "r"
    }
   },
   "outputs": [
    {
     "data": {
      "text/html": [
       "<table class=\"dataframe\">\n",
       "<caption>A data.table: 6 × 10</caption>\n",
       "<thead>\n",
       "\t<tr><th scope=col>V1</th><th scope=col>HAN_ID</th><th scope=col>HARM_ID</th><th scope=col>Appln_id</th><th scope=col>Publn_auth</th><th scope=col>Patent_number</th><th scope=col>granted</th><th scope=col>pub_date</th><th scope=col>appln_number</th><th scope=col>kind_code</th></tr>\n",
       "\t<tr><th scope=col>&lt;int&gt;</th><th scope=col>&lt;int&gt;</th><th scope=col>&lt;int&gt;</th><th scope=col>&lt;int&gt;</th><th scope=col>&lt;chr&gt;</th><th scope=col>&lt;chr&gt;</th><th scope=col>&lt;int&gt;</th><th scope=col>&lt;chr&gt;</th><th scope=col>&lt;int&gt;</th><th scope=col>&lt;chr&gt;</th></tr>\n",
       "</thead>\n",
       "<tbody>\n",
       "\t<tr><td>696</td><td>60513</td><td>60513</td><td>527943540</td><td>EP</td><td>EP3883144</td><td>1</td><td>Wed, 07 Dec 2022</td><td>20163878</td><td>B1</td></tr>\n",
       "\t<tr><td>697</td><td>60513</td><td>60513</td><td>527977383</td><td>EP</td><td>EP3882376</td><td>1</td><td>Wed, 05 Oct 2022</td><td>20164194</td><td>B1</td></tr>\n",
       "\t<tr><td>698</td><td>60513</td><td>60513</td><td>528224000</td><td>EP</td><td>EP3886189</td><td>1</td><td>Wed, 06 Jul 2022</td><td>20165725</td><td>B1</td></tr>\n",
       "\t<tr><td>700</td><td>60513</td><td>60513</td><td>529690180</td><td>EP</td><td>EP3731055</td><td>1</td><td>Wed, 08 Sep 2021</td><td>20170301</td><td>B1</td></tr>\n",
       "\t<tr><td>701</td><td>60513</td><td>60513</td><td>530051711</td><td>EP</td><td>EP3905535</td><td>1</td><td>Wed, 27 Apr 2022</td><td>20171723</td><td>B1</td></tr>\n",
       "\t<tr><td>706</td><td>60513</td><td>60513</td><td>531407299</td><td>EP</td><td>EP3913398</td><td>1</td><td>Wed, 16 Nov 2022</td><td>20175733</td><td>B1</td></tr>\n",
       "</tbody>\n",
       "</table>\n"
      ],
      "text/latex": [
       "A data.table: 6 × 10\n",
       "\\begin{tabular}{llllllllll}\n",
       " V1 & HAN\\_ID & HARM\\_ID & Appln\\_id & Publn\\_auth & Patent\\_number & granted & pub\\_date & appln\\_number & kind\\_code\\\\\n",
       " <int> & <int> & <int> & <int> & <chr> & <chr> & <int> & <chr> & <int> & <chr>\\\\\n",
       "\\hline\n",
       "\t 696 & 60513 & 60513 & 527943540 & EP & EP3883144 & 1 & Wed, 07 Dec 2022 & 20163878 & B1\\\\\n",
       "\t 697 & 60513 & 60513 & 527977383 & EP & EP3882376 & 1 & Wed, 05 Oct 2022 & 20164194 & B1\\\\\n",
       "\t 698 & 60513 & 60513 & 528224000 & EP & EP3886189 & 1 & Wed, 06 Jul 2022 & 20165725 & B1\\\\\n",
       "\t 700 & 60513 & 60513 & 529690180 & EP & EP3731055 & 1 & Wed, 08 Sep 2021 & 20170301 & B1\\\\\n",
       "\t 701 & 60513 & 60513 & 530051711 & EP & EP3905535 & 1 & Wed, 27 Apr 2022 & 20171723 & B1\\\\\n",
       "\t 706 & 60513 & 60513 & 531407299 & EP & EP3913398 & 1 & Wed, 16 Nov 2022 & 20175733 & B1\\\\\n",
       "\\end{tabular}\n"
      ],
      "text/markdown": [
       "\n",
       "A data.table: 6 × 10\n",
       "\n",
       "| V1 &lt;int&gt; | HAN_ID &lt;int&gt; | HARM_ID &lt;int&gt; | Appln_id &lt;int&gt; | Publn_auth &lt;chr&gt; | Patent_number &lt;chr&gt; | granted &lt;int&gt; | pub_date &lt;chr&gt; | appln_number &lt;int&gt; | kind_code &lt;chr&gt; |\n",
       "|---|---|---|---|---|---|---|---|---|---|\n",
       "| 696 | 60513 | 60513 | 527943540 | EP | EP3883144 | 1 | Wed, 07 Dec 2022 | 20163878 | B1 |\n",
       "| 697 | 60513 | 60513 | 527977383 | EP | EP3882376 | 1 | Wed, 05 Oct 2022 | 20164194 | B1 |\n",
       "| 698 | 60513 | 60513 | 528224000 | EP | EP3886189 | 1 | Wed, 06 Jul 2022 | 20165725 | B1 |\n",
       "| 700 | 60513 | 60513 | 529690180 | EP | EP3731055 | 1 | Wed, 08 Sep 2021 | 20170301 | B1 |\n",
       "| 701 | 60513 | 60513 | 530051711 | EP | EP3905535 | 1 | Wed, 27 Apr 2022 | 20171723 | B1 |\n",
       "| 706 | 60513 | 60513 | 531407299 | EP | EP3913398 | 1 | Wed, 16 Nov 2022 | 20175733 | B1 |\n",
       "\n"
      ],
      "text/plain": [
       "  V1  HAN_ID HARM_ID Appln_id  Publn_auth Patent_number granted\n",
       "1 696 60513  60513   527943540 EP         EP3883144     1      \n",
       "2 697 60513  60513   527977383 EP         EP3882376     1      \n",
       "3 698 60513  60513   528224000 EP         EP3886189     1      \n",
       "4 700 60513  60513   529690180 EP         EP3731055     1      \n",
       "5 701 60513  60513   530051711 EP         EP3905535     1      \n",
       "6 706 60513  60513   531407299 EP         EP3913398     1      \n",
       "  pub_date         appln_number kind_code\n",
       "1 Wed, 07 Dec 2022 20163878     B1       \n",
       "2 Wed, 05 Oct 2022 20164194     B1       \n",
       "3 Wed, 06 Jul 2022 20165725     B1       \n",
       "4 Wed, 08 Sep 2021 20170301     B1       \n",
       "5 Wed, 27 Apr 2022 20171723     B1       \n",
       "6 Wed, 16 Nov 2022 20175733     B1       "
      ]
     },
     "metadata": {},
     "output_type": "display_data"
    }
   ],
   "source": [
    "tail(airbus_granted)"
   ]
  },
  {
   "cell_type": "code",
   "execution_count": 5,
   "metadata": {
    "vscode": {
     "languageId": "r"
    }
   },
   "outputs": [],
   "source": [
    "# classification \n",
    "\n",
    "construct_url <- function(patent_number) {\n",
    "    pub_link = 'https://data.epo.org/linked-data/data/publication/EP/'\n",
    "    patent_number <- gsub('EP', '', patent_number)\n",
    "    pn <- str_trim(patent_number)\n",
    "    link <- paste(pub_link, pn, '/B1/-', sep=\"\")\n",
    "\n",
    "    return(link)\n",
    "}"
   ]
  },
  {
   "cell_type": "code",
   "execution_count": 36,
   "metadata": {
    "vscode": {
     "languageId": "r"
    }
   },
   "outputs": [],
   "source": [
    "get_ipc <- function(url){\n",
    "    # set up headers \n",
    "    request <- GET(\n",
    "        url,\n",
    "        add_headers(\n",
    "            Host = \"data.epo.org\",\n",
    "            `User-Agent` = \"Chrome/88.0.4324.188\"\n",
    "        )\n",
    "    )\n",
    "\n",
    "    print(status_code(request))\n",
    "\n",
    "    # initialize a vector\n",
    "    ipc_c <- c()\n",
    "    if (status_code(request) == 200) {\n",
    "        response <- content(request, as = \"text\", encoding = \"UTF-8\")\n",
    "        json <- fromJSON(response, flatten = TRUE)\n",
    "        ipcs <- json$result$primaryTopic$classificationIPCInventive\n",
    "\n",
    "        if (is.atomic(ipcs)){\n",
    "            ipcs_split <- strsplit(ipcs, split=\"/\")\n",
    "            ipc_c <- append(ipc_c, tail(ipcs_split[[1]], 1))\n",
    "            print(url)\n",
    "            print(ipc_c)\n",
    "        } else {\n",
    "            ipc_c <- append(ipc_c, ipcs$label)\n",
    "        }\n",
    "        \n",
    "\n",
    "    }\n",
    "\n",
    "    return(ipc_c)\n",
    "}"
   ]
  },
  {
   "cell_type": "code",
   "execution_count": 93,
   "metadata": {
    "vscode": {
     "languageId": "r"
    }
   },
   "outputs": [
    {
     "data": {
      "text/html": [
       "'https://data.epo.org/linked-data/data/publication/EP/3731055/B1/-'"
      ],
      "text/latex": [
       "'https://data.epo.org/linked-data/data/publication/EP/3731055/B1/-'"
      ],
      "text/markdown": [
       "'https://data.epo.org/linked-data/data/publication/EP/3731055/B1/-'"
      ],
      "text/plain": [
       "[1] \"https://data.epo.org/linked-data/data/publication/EP/3731055/B1/-\""
      ]
     },
     "metadata": {},
     "output_type": "display_data"
    }
   ],
   "source": [
    "url <- construct_url('EP3731055')\n",
    "url"
   ]
  },
  {
   "cell_type": "code",
   "execution_count": 97,
   "metadata": {
    "vscode": {
     "languageId": "r"
    }
   },
   "outputs": [
    {
     "name": "stdout",
     "output_type": "stream",
     "text": [
      "[1] 200\n"
     ]
    },
    {
     "data": {
      "text/html": [
       "'G05D 1/06'"
      ],
      "text/latex": [
       "'G05D 1/06'"
      ],
      "text/markdown": [
       "'G05D 1/06'"
      ],
      "text/plain": [
       "[1] \"G05D 1/06\""
      ]
     },
     "metadata": {},
     "output_type": "display_data"
    }
   ],
   "source": [
    "ex1 <- get_ipc(url)\n",
    "ex1"
   ]
  },
  {
   "cell_type": "code",
   "execution_count": 7,
   "metadata": {
    "vscode": {
     "languageId": "r"
    }
   },
   "outputs": [],
   "source": [
    "airbus_granted %>%\n",
    "    .[sample(.N, 5)] %>%\n",
    "    .[, .(Patent_number)] -> foo"
   ]
  },
  {
   "cell_type": "code",
   "execution_count": 8,
   "metadata": {
    "vscode": {
     "languageId": "r"
    }
   },
   "outputs": [
    {
     "data": {
      "text/html": [
       "<table class=\"dataframe\">\n",
       "<caption>A data.table: 5 × 1</caption>\n",
       "<thead>\n",
       "\t<tr><th scope=col>Patent_number</th></tr>\n",
       "\t<tr><th scope=col>&lt;chr&gt;</th></tr>\n",
       "</thead>\n",
       "<tbody>\n",
       "\t<tr><td>EP2930395</td></tr>\n",
       "\t<tr><td>EP3173218</td></tr>\n",
       "\t<tr><td>EP2837556</td></tr>\n",
       "\t<tr><td>EP2913269</td></tr>\n",
       "\t<tr><td>EP3501969</td></tr>\n",
       "</tbody>\n",
       "</table>\n"
      ],
      "text/latex": [
       "A data.table: 5 × 1\n",
       "\\begin{tabular}{l}\n",
       " Patent\\_number\\\\\n",
       " <chr>\\\\\n",
       "\\hline\n",
       "\t EP2930395\\\\\n",
       "\t EP3173218\\\\\n",
       "\t EP2837556\\\\\n",
       "\t EP2913269\\\\\n",
       "\t EP3501969\\\\\n",
       "\\end{tabular}\n"
      ],
      "text/markdown": [
       "\n",
       "A data.table: 5 × 1\n",
       "\n",
       "| Patent_number &lt;chr&gt; |\n",
       "|---|\n",
       "| EP2930395 |\n",
       "| EP3173218 |\n",
       "| EP2837556 |\n",
       "| EP2913269 |\n",
       "| EP3501969 |\n",
       "\n"
      ],
      "text/plain": [
       "  Patent_number\n",
       "1 EP2930395    \n",
       "2 EP3173218    \n",
       "3 EP2837556    \n",
       "4 EP2913269    \n",
       "5 EP3501969    "
      ]
     },
     "metadata": {},
     "output_type": "display_data"
    }
   ],
   "source": [
    "foo"
   ]
  },
  {
   "cell_type": "code",
   "execution_count": 9,
   "metadata": {
    "vscode": {
     "languageId": "r"
    }
   },
   "outputs": [],
   "source": [
    "get_ipc2 <- function(pn){\n",
    "    url <- construct_url(pn)\n",
    "    ipcs <- get_ipc(url)\n",
    "\n",
    "    return(ipcs)\n",
    "}"
   ]
  },
  {
   "cell_type": "code",
   "execution_count": 10,
   "metadata": {
    "vscode": {
     "languageId": "r"
    }
   },
   "outputs": [
    {
     "name": "stdout",
     "output_type": "stream",
     "text": [
      "[1] 200\n",
      "[1] 200\n",
      "[1] 200\n",
      "[1] 200\n",
      "[1] 200\n"
     ]
    }
   ],
   "source": [
    "foo %>%\n",
    "    .[, ipc := lapply(Patent_number, get_ipc2)] -> hello\n"
   ]
  },
  {
   "cell_type": "code",
   "execution_count": 12,
   "metadata": {
    "vscode": {
     "languageId": "r"
    }
   },
   "outputs": [
    {
     "data": {
      "text/html": [
       "<table class=\"dataframe\">\n",
       "<caption>A data.table: 5 × 2</caption>\n",
       "<thead>\n",
       "\t<tr><th scope=col>Patent_number</th><th scope=col>ipc</th></tr>\n",
       "\t<tr><th scope=col>&lt;chr&gt;</th><th scope=col>&lt;list&gt;</th></tr>\n",
       "</thead>\n",
       "<tbody>\n",
       "\t<tr><td>EP2930395</td><td>B64C 27/00, F16F 15/00</td></tr>\n",
       "\t<tr><td>EP3173218</td><td>B29C 70/38</td></tr>\n",
       "\t<tr><td>EP2837556</td><td>B64C 13/12, F16D 11/04</td></tr>\n",
       "\t<tr><td>EP2913269</td><td>B64C 27/82</td></tr>\n",
       "\t<tr><td>EP3501969</td><td>B29C 70/24, B32B 7/08 , B64C 1/00 , B64C 1/12 </td></tr>\n",
       "</tbody>\n",
       "</table>\n"
      ],
      "text/latex": [
       "A data.table: 5 × 2\n",
       "\\begin{tabular}{ll}\n",
       " Patent\\_number & ipc\\\\\n",
       " <chr> & <list>\\\\\n",
       "\\hline\n",
       "\t EP2930395 & B64C 27/00, F16F 15/00\\\\\n",
       "\t EP3173218 & B29C 70/38\\\\\n",
       "\t EP2837556 & B64C 13/12, F16D 11/04\\\\\n",
       "\t EP2913269 & B64C 27/82\\\\\n",
       "\t EP3501969 & B29C 70/24, B32B 7/08 , B64C 1/00 , B64C 1/12 \\\\\n",
       "\\end{tabular}\n"
      ],
      "text/markdown": [
       "\n",
       "A data.table: 5 × 2\n",
       "\n",
       "| Patent_number &lt;chr&gt; | ipc &lt;list&gt; |\n",
       "|---|---|\n",
       "| EP2930395 | B64C 27/00, F16F 15/00 |\n",
       "| EP3173218 | B29C 70/38 |\n",
       "| EP2837556 | B64C 13/12, F16D 11/04 |\n",
       "| EP2913269 | B64C 27/82 |\n",
       "| EP3501969 | B29C 70/24, B32B 7/08 , B64C 1/00 , B64C 1/12  |\n",
       "\n"
      ],
      "text/plain": [
       "  Patent_number ipc                                           \n",
       "1 EP2930395     B64C 27/00, F16F 15/00                        \n",
       "2 EP3173218     B29C 70/38                                    \n",
       "3 EP2837556     B64C 13/12, F16D 11/04                        \n",
       "4 EP2913269     B64C 27/82                                    \n",
       "5 EP3501969     B29C 70/24, B32B 7/08 , B64C 1/00 , B64C 1/12 "
      ]
     },
     "metadata": {},
     "output_type": "display_data"
    }
   ],
   "source": [
    "hello"
   ]
  },
  {
   "cell_type": "code",
   "execution_count": 37,
   "metadata": {
    "vscode": {
     "languageId": "r"
    }
   },
   "outputs": [
    {
     "name": "stdout",
     "output_type": "stream",
     "text": [
      "[1] 200\n",
      "[1] 200\n",
      "[1] 200\n",
      "[1] 200\n",
      "[1] 200\n",
      "[1] 200\n",
      "[1] 200\n",
      "[1] 200\n",
      "[1] 200\n",
      "[1] 200\n",
      "[1] 200\n",
      "[1] 200\n",
      "[1] 200\n",
      "[1] 200\n",
      "[1] 200\n",
      "[1] 200\n",
      "[1] 200\n",
      "[1] 200\n",
      "[1] 200\n",
      "[1] 200\n",
      "[1] 200\n",
      "[1] 200\n",
      "[1] 200\n",
      "[1] 200\n",
      "[1] 200\n",
      "[1] 200\n",
      "[1] 200\n",
      "[1] 200\n",
      "[1] 200\n",
      "[1] 200\n",
      "[1] 200\n",
      "[1] 200\n",
      "[1] 200\n",
      "[1] 200\n",
      "[1] 200\n",
      "[1] 200\n",
      "[1] 200\n",
      "[1] 200\n",
      "[1] 200\n",
      "[1] 200\n",
      "[1] 200\n",
      "[1] 200\n",
      "[1] 200\n",
      "[1] 200\n",
      "[1] 200\n",
      "[1] 200\n",
      "[1] 200\n",
      "[1] 200\n",
      "[1] 200\n",
      "[1] 200\n",
      "[1] 200\n",
      "[1] 200\n",
      "[1] 200\n",
      "[1] 200\n",
      "[1] 200\n",
      "[1] 200\n",
      "[1] 200\n",
      "[1] 200\n",
      "[1] 200\n",
      "[1] 200\n",
      "[1] 200\n",
      "[1] 200\n",
      "[1] 200\n",
      "[1] 200\n",
      "[1] 200\n",
      "[1] 200\n",
      "[1] 200\n",
      "[1] 200\n",
      "[1] 200\n",
      "[1] 200\n",
      "[1] 200\n",
      "[1] 200\n",
      "[1] 200\n",
      "[1] 200\n",
      "[1] 200\n",
      "[1] 200\n",
      "[1] 200\n",
      "[1] 200\n",
      "[1] 200\n",
      "[1] 200\n",
      "[1] 200\n",
      "[1] 200\n",
      "[1] 200\n",
      "[1] 200\n",
      "[1] 200\n",
      "[1] 200\n",
      "[1] 200\n",
      "[1] 200\n",
      "[1] 200\n",
      "[1] 200\n",
      "[1] 200\n",
      "[1] 200\n",
      "[1] 200\n",
      "[1] 200\n",
      "[1] 200\n",
      "[1] 200\n",
      "[1] 200\n",
      "[1] 200\n",
      "[1] 200\n",
      "[1] 200\n",
      "[1] 200\n",
      "[1] 200\n",
      "[1] 200\n",
      "[1] 200\n",
      "[1] \"https://data.epo.org/linked-data/data/publication/EP/2748761/B1/-\"\n",
      "[1] \"G06K9-00\"\n",
      "[1] 200\n",
      "[1] 200\n",
      "[1] 200\n",
      "[1] 200\n",
      "[1] 200\n",
      "[1] 200\n",
      "[1] 200\n",
      "[1] 200\n",
      "[1] 200\n",
      "[1] 200\n",
      "[1] 200\n",
      "[1] 200\n",
      "[1] 200\n",
      "[1] 200\n",
      "[1] 200\n",
      "[1] 200\n",
      "[1] 200\n",
      "[1] 200\n",
      "[1] 200\n",
      "[1] 200\n",
      "[1] 200\n",
      "[1] 200\n",
      "[1] 200\n",
      "[1] 200\n",
      "[1] 200\n",
      "[1] 200\n",
      "[1] 200\n",
      "[1] 200\n",
      "[1] 200\n",
      "[1] 200\n",
      "[1] 200\n",
      "[1] 200\n",
      "[1] 200\n",
      "[1] \"https://data.epo.org/linked-data/data/publication/EP/2624170/B1/-\"\n",
      "[1] \"G06K9-00\"\n",
      "[1] 200\n",
      "[1] 200\n",
      "[1] 200\n",
      "[1] 200\n",
      "[1] 200\n",
      "[1] 200\n",
      "[1] 200\n",
      "[1] 200\n",
      "[1] 200\n",
      "[1] 200\n",
      "[1] 200\n",
      "[1] 200\n",
      "[1] 200\n",
      "[1] 200\n",
      "[1] 200\n",
      "[1] 200\n",
      "[1] 200\n",
      "[1] 200\n",
      "[1] 200\n",
      "[1] 200\n",
      "[1] 200\n",
      "[1] 200\n",
      "[1] 200\n",
      "[1] 200\n",
      "[1] 200\n",
      "[1] 200\n",
      "[1] 200\n",
      "[1] 200\n",
      "[1] 200\n",
      "[1] 200\n",
      "[1] 200\n",
      "[1] 200\n",
      "[1] 200\n",
      "[1] 200\n",
      "[1] 200\n",
      "[1] 200\n",
      "[1] 200\n",
      "[1] 200\n",
      "[1] 200\n",
      "[1] 200\n",
      "[1] 200\n",
      "[1] 200\n",
      "[1] 200\n",
      "[1] 200\n",
      "[1] 200\n",
      "[1] 200\n",
      "[1] 200\n",
      "[1] 200\n",
      "[1] 200\n",
      "[1] \"https://data.epo.org/linked-data/data/publication/EP/2854190/B1/-\"\n",
      "[1] \"H01L35-30\"\n",
      "[1] 200\n",
      "[1] \"https://data.epo.org/linked-data/data/publication/EP/2854191/B1/-\"\n",
      "[1] \"H01L35-30\"\n",
      "[1] 200\n",
      "[1] 200\n",
      "[1] 200\n",
      "[1] 200\n",
      "[1] 200\n",
      "[1] 200\n",
      "[1] 200\n",
      "[1] 200\n",
      "[1] 200\n",
      "[1] 200\n",
      "[1] 200\n",
      "[1] 200\n",
      "[1] 200\n",
      "[1] 200\n",
      "[1] 200\n",
      "[1] 200\n",
      "[1] 200\n",
      "[1] 200\n",
      "[1] 200\n",
      "[1] 200\n",
      "[1] 200\n",
      "[1] 200\n",
      "[1] 200\n",
      "[1] 200\n",
      "[1] \"https://data.epo.org/linked-data/data/publication/EP/2887409/B1/-\"\n",
      "[1] \"H01L35-30\"\n",
      "[1] 200\n",
      "[1] 200\n",
      "[1] 200\n",
      "[1] 200\n",
      "[1] 200\n",
      "[1] 200\n",
      "[1] 200\n",
      "[1] 200\n",
      "[1] 200\n",
      "[1] 200\n",
      "[1] 200\n",
      "[1] 200\n",
      "[1] 200\n",
      "[1] 200\n",
      "[1] 200\n",
      "[1] 200\n",
      "[1] 200\n",
      "[1] 200\n",
      "[1] 200\n",
      "[1] 200\n",
      "[1] 200\n",
      "[1] 200\n",
      "[1] 200\n",
      "[1] 200\n",
      "[1] 200\n",
      "[1] 200\n",
      "[1] 200\n",
      "[1] 200\n",
      "[1] 200\n",
      "[1] 200\n",
      "[1] 200\n",
      "[1] 200\n",
      "[1] 200\n",
      "[1] 200\n",
      "[1] 200\n",
      "[1] 200\n",
      "[1] 200\n",
      "[1] 200\n",
      "[1] 200\n",
      "[1] 200\n",
      "[1] 200\n",
      "[1] 200\n",
      "[1] 200\n",
      "[1] 200\n",
      "[1] 200\n",
      "[1] 200\n",
      "[1] 200\n",
      "[1] 200\n",
      "[1] 200\n",
      "[1] 200\n",
      "[1] 200\n",
      "[1] 200\n",
      "[1] 200\n",
      "[1] 200\n",
      "[1] 200\n",
      "[1] 200\n",
      "[1] 200\n",
      "[1] 200\n",
      "[1] 200\n",
      "[1] 200\n",
      "[1] 200\n",
      "[1] 200\n",
      "[1] 200\n",
      "[1] 200\n",
      "[1] 200\n",
      "[1] 200\n",
      "[1] 200\n",
      "[1] 200\n",
      "[1] 200\n",
      "[1] 200\n",
      "[1] 200\n",
      "[1] 200\n",
      "[1] 200\n",
      "[1] 200\n",
      "[1] 200\n",
      "[1] 200\n",
      "[1] 200\n",
      "[1] 200\n",
      "[1] 200\n",
      "[1] 200\n",
      "[1] 200\n",
      "[1] 200\n",
      "[1] 200\n",
      "[1] 200\n",
      "[1] 200\n",
      "[1] 200\n",
      "[1] 200\n",
      "[1] 200\n",
      "[1] 200\n",
      "[1] 200\n",
      "[1] 200\n",
      "[1] 200\n",
      "[1] 200\n",
      "[1] 200\n",
      "[1] 200\n",
      "[1] 200\n",
      "[1] 200\n",
      "[1] 200\n",
      "[1] 200\n",
      "[1] 200\n",
      "[1] 200\n",
      "[1] 200\n",
      "[1] 200\n",
      "[1] 200\n",
      "[1] 200\n",
      "[1] 200\n",
      "[1] 200\n",
      "[1] 200\n",
      "[1] 200\n",
      "[1] 200\n",
      "[1] 200\n",
      "[1] 200\n",
      "[1] 200\n",
      "[1] 200\n",
      "[1] 200\n",
      "[1] 200\n",
      "[1] 200\n",
      "[1] 200\n",
      "[1] 200\n",
      "[1] 200\n",
      "[1] 200\n",
      "[1] 200\n",
      "[1] 200\n",
      "[1] 200\n",
      "[1] 200\n",
      "[1] 200\n",
      "[1] 200\n",
      "[1] 200\n",
      "[1] 200\n",
      "[1] 200\n",
      "[1] 200\n",
      "[1] 200\n",
      "[1] 200\n",
      "[1] 200\n",
      "[1] 200\n",
      "[1] 200\n",
      "[1] 200\n",
      "[1] 200\n",
      "[1] 200\n",
      "[1] 200\n",
      "[1] 200\n",
      "[1] 200\n",
      "[1] 200\n",
      "[1] 200\n",
      "[1] 200\n",
      "[1] 200\n",
      "[1] 200\n",
      "[1] 200\n",
      "[1] 200\n",
      "[1] 200\n",
      "[1] 200\n",
      "[1] 200\n",
      "[1] 200\n",
      "[1] 200\n",
      "[1] 200\n",
      "[1] 200\n",
      "[1] 200\n",
      "[1] 200\n",
      "[1] 200\n",
      "[1] 200\n",
      "[1] 200\n",
      "[1] 200\n",
      "[1] 200\n",
      "[1] 200\n",
      "[1] 200\n",
      "[1] 200\n",
      "[1] 200\n",
      "[1] 200\n",
      "[1] 200\n",
      "[1] 200\n",
      "[1] 200\n",
      "[1] 200\n",
      "[1] 200\n",
      "[1] 200\n",
      "[1] 200\n",
      "[1] 200\n",
      "[1] 200\n",
      "[1] 200\n",
      "[1] 200\n",
      "[1] 200\n",
      "[1] 200\n",
      "[1] 200\n",
      "[1] 200\n",
      "[1] 200\n",
      "[1] 200\n",
      "[1] 200\n",
      "[1] 200\n",
      "[1] 200\n",
      "[1] 200\n",
      "[1] 200\n",
      "[1] 200\n",
      "[1] 200\n",
      "[1] 200\n",
      "[1] 200\n",
      "[1] 200\n",
      "[1] 200\n",
      "[1] 200\n",
      "[1] 200\n",
      "[1] 200\n",
      "[1] 200\n",
      "[1] 200\n",
      "[1] 200\n",
      "[1] 200\n",
      "[1] 200\n",
      "[1] 200\n",
      "[1] 200\n",
      "[1] 200\n",
      "[1] 200\n",
      "[1] 200\n",
      "[1] 200\n",
      "[1] 200\n",
      "[1] 200\n",
      "[1] 200\n",
      "[1] 200\n",
      "[1] 200\n",
      "[1] 200\n",
      "[1] 200\n",
      "[1] 200\n",
      "[1] 200\n",
      "[1] 200\n",
      "[1] 200\n",
      "[1] 200\n",
      "[1] 200\n",
      "[1] 200\n",
      "[1] 200\n",
      "[1] 200\n",
      "[1] 200\n",
      "[1] 200\n",
      "[1] 200\n",
      "[1] 200\n",
      "[1] 200\n",
      "[1] 200\n",
      "[1] 200\n",
      "[1] 200\n",
      "[1] 200\n",
      "[1] 200\n",
      "[1] 200\n",
      "[1] 200\n",
      "[1] 200\n",
      "[1] 200\n",
      "[1] 200\n",
      "[1] 200\n",
      "[1] 200\n",
      "[1] 200\n",
      "[1] 200\n",
      "[1] 200\n",
      "[1] 200\n",
      "[1] 200\n",
      "[1] 200\n",
      "[1] 200\n",
      "[1] 200\n",
      "[1] 200\n",
      "[1] 200\n",
      "[1] 200\n",
      "[1] 200\n",
      "[1] 200\n",
      "[1] 200\n",
      "[1] 200\n",
      "[1] 200\n",
      "[1] 200\n",
      "[1] 200\n",
      "[1] 200\n",
      "[1] 200\n",
      "[1] 200\n",
      "[1] 200\n",
      "[1] 200\n",
      "[1] 200\n",
      "[1] 200\n",
      "[1] 200\n",
      "[1] 200\n",
      "[1] 200\n",
      "[1] 200\n",
      "[1] 200\n",
      "[1] 200\n",
      "[1] 200\n",
      "[1] 200\n",
      "[1] 200\n",
      "[1] 200\n",
      "[1] 200\n",
      "[1] 200\n",
      "[1] 200\n",
      "[1] 200\n",
      "[1] 200\n",
      "[1] 200\n",
      "[1] 200\n",
      "[1] 200\n",
      "[1] 200\n",
      "[1] 200\n",
      "[1] 200\n",
      "[1] 200\n",
      "[1] 200\n",
      "[1] 200\n",
      "[1] 200\n",
      "[1] 200\n",
      "[1] 200\n",
      "[1] 200\n",
      "[1] 200\n",
      "[1] 200\n",
      "[1] 200\n",
      "[1] 200\n",
      "[1] 200\n",
      "[1] 200\n",
      "[1] 200\n",
      "[1] 200\n",
      "[1] 200\n",
      "[1] 200\n",
      "[1] 200\n",
      "[1] 200\n",
      "[1] 200\n",
      "[1] 200\n",
      "[1] 200\n",
      "[1] 200\n",
      "[1] 200\n",
      "[1] 200\n",
      "[1] 200\n",
      "[1] 200\n",
      "[1] 200\n",
      "[1] 200\n",
      "[1] 200\n",
      "[1] 200\n",
      "[1] 200\n",
      "[1] 200\n",
      "[1] 200\n",
      "[1] 200\n",
      "[1] 200\n",
      "[1] 200\n",
      "[1] 200\n"
     ]
    }
   ],
   "source": [
    "airbus_granted %>%\n",
    "    .[, ipc := lapply(Patent_number, get_ipc2)] -> airbus_granted_ipc\n"
   ]
  },
  {
   "cell_type": "code",
   "execution_count": 41,
   "metadata": {
    "vscode": {
     "languageId": "r"
    }
   },
   "outputs": [
    {
     "data": {
      "text/html": [
       "<table class=\"dataframe\">\n",
       "<caption>A data.table: 6 × 11</caption>\n",
       "<thead>\n",
       "\t<tr><th scope=col>V1</th><th scope=col>HAN_ID</th><th scope=col>HARM_ID</th><th scope=col>Appln_id</th><th scope=col>Publn_auth</th><th scope=col>Patent_number</th><th scope=col>granted</th><th scope=col>pub_date</th><th scope=col>appln_number</th><th scope=col>kind_code</th><th scope=col>ipc</th></tr>\n",
       "\t<tr><th scope=col>&lt;int&gt;</th><th scope=col>&lt;int&gt;</th><th scope=col>&lt;int&gt;</th><th scope=col>&lt;int&gt;</th><th scope=col>&lt;chr&gt;</th><th scope=col>&lt;chr&gt;</th><th scope=col>&lt;int&gt;</th><th scope=col>&lt;chr&gt;</th><th scope=col>&lt;int&gt;</th><th scope=col>&lt;chr&gt;</th><th scope=col>&lt;list&gt;</th></tr>\n",
       "</thead>\n",
       "<tbody>\n",
       "\t<tr><td>3</td><td>60513</td><td>60513</td><td>156990</td><td>EP</td><td>EP1920908</td><td>1</td><td>Wed, 08 Apr 2015</td><td>7021377</td><td>B1</td><td>B29C 70/38, B29C 70/54, B29C 70/56</td></tr>\n",
       "\t<tr><td>4</td><td>60513</td><td>60513</td><td>161551</td><td>EP</td><td>EP1972896</td><td>1</td><td>Wed, 06 May 2015</td><td>8004318</td><td>B1</td><td>B64D 45/08, G01C 23/00</td></tr>\n",
       "\t<tr><td>5</td><td>60513</td><td>60513</td><td>173385</td><td>EP</td><td>EP2134522</td><td>1</td><td>Wed, 01 Mar 2017</td><td>8717791</td><td>B1</td><td>B29B 11/16 , B29C 70/20 , B29C 70/38 , B29C 70/54 , B65H 49/18 , B65H 51/005, B65H 57/16 , D02J 1/18  , D04H 1/4242, D04H 1/60  , D04H 1/655 , D04H 13/00 , D04H 3/002 , D04H 3/04  , D04H 3/12  </td></tr>\n",
       "\t<tr><td>6</td><td>60513</td><td>60513</td><td>173386</td><td>EP</td><td>EP2136979</td><td>1</td><td>Wed, 11 May 2016</td><td>8717792</td><td>B1</td><td>B29B 11/16, B29C 70/38, B29C 70/54</td></tr>\n",
       "\t<tr><td>7</td><td>60513</td><td>60513</td><td>188882</td><td>EP</td><td>EP1976108</td><td>1</td><td>Wed, 21 Oct 2020</td><td>8004255</td><td>B1</td><td>H02M 3/337 , H02M 7/5387</td></tr>\n",
       "\t<tr><td>8</td><td>60513</td><td>60513</td><td>357750</td><td>EP</td><td>EP2039604</td><td>1</td><td>Wed, 01 Mar 2017</td><td>8016066</td><td>B1</td><td>B64D 1/04, F41A 9/09, G01B 7/00, G01B 7/14, G01S 5/16</td></tr>\n",
       "</tbody>\n",
       "</table>\n"
      ],
      "text/latex": [
       "A data.table: 6 × 11\n",
       "\\begin{tabular}{lllllllllll}\n",
       " V1 & HAN\\_ID & HARM\\_ID & Appln\\_id & Publn\\_auth & Patent\\_number & granted & pub\\_date & appln\\_number & kind\\_code & ipc\\\\\n",
       " <int> & <int> & <int> & <int> & <chr> & <chr> & <int> & <chr> & <int> & <chr> & <list>\\\\\n",
       "\\hline\n",
       "\t 3 & 60513 & 60513 & 156990 & EP & EP1920908 & 1 & Wed, 08 Apr 2015 & 7021377 & B1 & B29C 70/38, B29C 70/54, B29C 70/56\\\\\n",
       "\t 4 & 60513 & 60513 & 161551 & EP & EP1972896 & 1 & Wed, 06 May 2015 & 8004318 & B1 & B64D 45/08, G01C 23/00\\\\\n",
       "\t 5 & 60513 & 60513 & 173385 & EP & EP2134522 & 1 & Wed, 01 Mar 2017 & 8717791 & B1 & B29B 11/16 , B29C 70/20 , B29C 70/38 , B29C 70/54 , B65H 49/18 , B65H 51/005, B65H 57/16 , D02J 1/18  , D04H 1/4242, D04H 1/60  , D04H 1/655 , D04H 13/00 , D04H 3/002 , D04H 3/04  , D04H 3/12  \\\\\n",
       "\t 6 & 60513 & 60513 & 173386 & EP & EP2136979 & 1 & Wed, 11 May 2016 & 8717792 & B1 & B29B 11/16, B29C 70/38, B29C 70/54\\\\\n",
       "\t 7 & 60513 & 60513 & 188882 & EP & EP1976108 & 1 & Wed, 21 Oct 2020 & 8004255 & B1 & H02M 3/337 , H02M 7/5387\\\\\n",
       "\t 8 & 60513 & 60513 & 357750 & EP & EP2039604 & 1 & Wed, 01 Mar 2017 & 8016066 & B1 & B64D 1/04, F41A 9/09, G01B 7/00, G01B 7/14, G01S 5/16\\\\\n",
       "\\end{tabular}\n"
      ],
      "text/markdown": [
       "\n",
       "A data.table: 6 × 11\n",
       "\n",
       "| V1 &lt;int&gt; | HAN_ID &lt;int&gt; | HARM_ID &lt;int&gt; | Appln_id &lt;int&gt; | Publn_auth &lt;chr&gt; | Patent_number &lt;chr&gt; | granted &lt;int&gt; | pub_date &lt;chr&gt; | appln_number &lt;int&gt; | kind_code &lt;chr&gt; | ipc &lt;list&gt; |\n",
       "|---|---|---|---|---|---|---|---|---|---|---|\n",
       "| 3 | 60513 | 60513 | 156990 | EP | EP1920908 | 1 | Wed, 08 Apr 2015 | 7021377 | B1 | B29C 70/38, B29C 70/54, B29C 70/56 |\n",
       "| 4 | 60513 | 60513 | 161551 | EP | EP1972896 | 1 | Wed, 06 May 2015 | 8004318 | B1 | B64D 45/08, G01C 23/00 |\n",
       "| 5 | 60513 | 60513 | 173385 | EP | EP2134522 | 1 | Wed, 01 Mar 2017 | 8717791 | B1 | B29B 11/16 , B29C 70/20 , B29C 70/38 , B29C 70/54 , B65H 49/18 , B65H 51/005, B65H 57/16 , D02J 1/18  , D04H 1/4242, D04H 1/60  , D04H 1/655 , D04H 13/00 , D04H 3/002 , D04H 3/04  , D04H 3/12   |\n",
       "| 6 | 60513 | 60513 | 173386 | EP | EP2136979 | 1 | Wed, 11 May 2016 | 8717792 | B1 | B29B 11/16, B29C 70/38, B29C 70/54 |\n",
       "| 7 | 60513 | 60513 | 188882 | EP | EP1976108 | 1 | Wed, 21 Oct 2020 | 8004255 | B1 | H02M 3/337 , H02M 7/5387 |\n",
       "| 8 | 60513 | 60513 | 357750 | EP | EP2039604 | 1 | Wed, 01 Mar 2017 | 8016066 | B1 | B64D 1/04, F41A 9/09, G01B 7/00, G01B 7/14, G01S 5/16 |\n",
       "\n"
      ],
      "text/plain": [
       "  V1 HAN_ID HARM_ID Appln_id Publn_auth Patent_number granted pub_date        \n",
       "1 3  60513  60513   156990   EP         EP1920908     1       Wed, 08 Apr 2015\n",
       "2 4  60513  60513   161551   EP         EP1972896     1       Wed, 06 May 2015\n",
       "3 5  60513  60513   173385   EP         EP2134522     1       Wed, 01 Mar 2017\n",
       "4 6  60513  60513   173386   EP         EP2136979     1       Wed, 11 May 2016\n",
       "5 7  60513  60513   188882   EP         EP1976108     1       Wed, 21 Oct 2020\n",
       "6 8  60513  60513   357750   EP         EP2039604     1       Wed, 01 Mar 2017\n",
       "  appln_number kind_code\n",
       "1 7021377      B1       \n",
       "2 8004318      B1       \n",
       "3 8717791      B1       \n",
       "4 8717792      B1       \n",
       "5 8004255      B1       \n",
       "6 8016066      B1       \n",
       "  ipc                                                                                                                                                                                              \n",
       "1 B29C 70/38, B29C 70/54, B29C 70/56                                                                                                                                                               \n",
       "2 B64D 45/08, G01C 23/00                                                                                                                                                                           \n",
       "3 B29B 11/16 , B29C 70/20 , B29C 70/38 , B29C 70/54 , B65H 49/18 , B65H 51/005, B65H 57/16 , D02J 1/18  , D04H 1/4242, D04H 1/60  , D04H 1/655 , D04H 13/00 , D04H 3/002 , D04H 3/04  , D04H 3/12  \n",
       "4 B29B 11/16, B29C 70/38, B29C 70/54                                                                                                                                                               \n",
       "5 H02M 3/337 , H02M 7/5387                                                                                                                                                                         \n",
       "6 B64D 1/04, F41A 9/09, G01B 7/00, G01B 7/14, G01S 5/16                                                                                                                                            "
      ]
     },
     "metadata": {},
     "output_type": "display_data"
    }
   ],
   "source": [
    "head(airbus_granted_ipc)"
   ]
  },
  {
   "cell_type": "code",
   "execution_count": null,
   "metadata": {
    "vscode": {
     "languageId": "r"
    }
   },
   "outputs": [],
   "source": []
  },
  {
   "cell_type": "code",
   "execution_count": null,
   "metadata": {
    "vscode": {
     "languageId": "r"
    }
   },
   "outputs": [],
   "source": []
  },
  {
   "cell_type": "code",
   "execution_count": 62,
   "metadata": {
    "vscode": {
     "languageId": "r"
    }
   },
   "outputs": [
    {
     "data": {
      "text/html": [
       "1675"
      ],
      "text/latex": [
       "1675"
      ],
      "text/markdown": [
       "1675"
      ],
      "text/plain": [
       "[1] 1675"
      ]
     },
     "metadata": {},
     "output_type": "display_data"
    }
   ],
   "source": [
    "length(as.factor(unlist(airbus_granted_ipc$ipc)))"
   ]
  },
  {
   "cell_type": "code",
   "execution_count": 59,
   "metadata": {
    "vscode": {
     "languageId": "r"
    }
   },
   "outputs": [
    {
     "data": {
      "text/html": [
       "<style>\n",
       ".list-inline {list-style: none; margin:0; padding: 0}\n",
       ".list-inline>li {display: inline-block}\n",
       ".list-inline>li:not(:last-child)::after {content: \"\\00b7\"; padding: 0 .5ex}\n",
       "</style>\n",
       "<ol class=list-inline><li>B29C 70/38</li><li>B29C 70/54</li><li>B29C 70/56</li></ol>\n",
       "\n",
       "<details>\n",
       "\t<summary style=display:list-item;cursor:pointer>\n",
       "\t\t<strong>Levels</strong>:\n",
       "\t</summary>\n",
       "\t<style>\n",
       "\t.list-inline {list-style: none; margin:0; padding: 0}\n",
       "\t.list-inline>li {display: inline-block}\n",
       "\t.list-inline>li:not(:last-child)::after {content: \"\\00b7\"; padding: 0 .5ex}\n",
       "\t</style>\n",
       "\t<ol class=list-inline><li>'B29C 70/38'</li><li>'B29C 70/54'</li><li>'B29C 70/56'</li></ol>\n",
       "</details>"
      ],
      "text/latex": [
       "\\begin{enumerate*}\n",
       "\\item B29C 70/38\n",
       "\\item B29C 70/54\n",
       "\\item B29C 70/56\n",
       "\\end{enumerate*}\n",
       "\n",
       "\\emph{Levels}: \\begin{enumerate*}\n",
       "\\item 'B29C 70/38'\n",
       "\\item 'B29C 70/54'\n",
       "\\item 'B29C 70/56'\n",
       "\\end{enumerate*}\n"
      ],
      "text/markdown": [
       "1. B29C 70/38\n",
       "2. B29C 70/54\n",
       "3. B29C 70/56\n",
       "\n",
       "\n",
       "\n",
       "**Levels**: 1. 'B29C 70/38'\n",
       "2. 'B29C 70/54'\n",
       "3. 'B29C 70/56'\n",
       "\n",
       "\n"
      ],
      "text/plain": [
       "[1] B29C 70/38 B29C 70/54 B29C 70/56\n",
       "Levels: B29C 70/38 B29C 70/54 B29C 70/56"
      ]
     },
     "metadata": {},
     "output_type": "display_data"
    }
   ],
   "source": [
    "airbus_granted_ipc$ipc[1] -> foo\n",
    "unlist(foo) -> foo2\n",
    "as.factor(foo2)"
   ]
  },
  {
   "cell_type": "code",
   "execution_count": 40,
   "metadata": {
    "vscode": {
     "languageId": "r"
    }
   },
   "outputs": [
    {
     "ename": "ERROR",
     "evalue": "Error in utils::write.table(as.data.frame(airbus_granted_ipc), file = \"work/notebooks/patent/data/airbus_granted_ipc.csv\", : unimplemented type 'list' in 'EncodeElement'\n\n",
     "output_type": "error",
     "traceback": [
      "Error in utils::write.table(as.data.frame(airbus_granted_ipc), file = \"work/notebooks/patent/data/airbus_granted_ipc.csv\", : unimplemented type 'list' in 'EncodeElement'\n\nTraceback:\n",
      "1. write.csv(as.data.frame(airbus_granted_ipc), file = \"work/notebooks/patent/data/airbus_granted_ipc.csv\", \n .     row.names = FALSE)",
      "2. eval.parent(Call)",
      "3. eval(expr, p)",
      "4. eval(expr, p)",
      "5. utils::write.table(as.data.frame(airbus_granted_ipc), file = \"work/notebooks/patent/data/airbus_granted_ipc.csv\", \n .     row.names = FALSE, col.names = TRUE, sep = \",\", dec = \".\", \n .     qmethod = \"double\")"
     ]
    }
   ],
   "source": [
    "write.csv(\n",
    "    as.data.frame(airbus_granted_ipc), \n",
    "    file='work/notebooks/patent/data/airbus_granted_ipc.csv',\n",
    "    row.names=FALSE)"
   ]
  },
  {
   "cell_type": "code",
   "execution_count": null,
   "metadata": {
    "vscode": {
     "languageId": "r"
    }
   },
   "outputs": [],
   "source": []
  }
 ],
 "metadata": {
  "kernelspec": {
   "display_name": "R",
   "language": "R",
   "name": "ir"
  },
  "language_info": {
   "codemirror_mode": "r",
   "file_extension": ".r",
   "mimetype": "text/x-r-source",
   "name": "R",
   "pygments_lexer": "r",
   "version": "4.2.2"
  },
  "orig_nbformat": 4,
  "vscode": {
   "interpreter": {
    "hash": "16bff2c6a4793fe572f28f54bf2473ba4d5d1eb32d0a445bafdbd12ba8e85d21"
   }
  }
 },
 "nbformat": 4,
 "nbformat_minor": 2
}
