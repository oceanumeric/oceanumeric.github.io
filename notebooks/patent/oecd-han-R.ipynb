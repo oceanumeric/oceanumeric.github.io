{
 "cells": [
  {
   "cell_type": "code",
   "execution_count": 1,
   "metadata": {
    "vscode": {
     "languageId": "r"
    }
   },
   "outputs": [],
   "source": [
    "# load packages \n",
    "library(pacman)\n",
    "p_load(\n",
    "    tidyverse, data.table, dtplyr, reshape2, \n",
    "    archive, kableExtra, SPARQL, janitor, \n",
    "    png, webp, Cairo, rsvg,\n",
    "    httr, jsonlite)\n",
    "# set option\n",
    "options(dplyr.summarise.inform = FALSE)\n",
    "gray_scale <- c('#F3F4F8','#D2D4DA',  '#bcc0ca', \n",
    "                '#D3D3D3', '#2B2B2B', \n",
    "                '#B3B5BD', '#838383', \n",
    "                '#9496A1', '#7d7f89', '#777986', \n",
    "                '#656673', '#5B5D6B', '#4d505e',\n",
    "                '#404352', '#2b2d3b', '#282A3A',\n",
    "                '#1b1c2a', '#191a2b',\n",
    "                '#141626', '#101223')"
   ]
  },
  {
   "cell_type": "code",
   "execution_count": 2,
   "metadata": {
    "vscode": {
     "languageId": "r"
    }
   },
   "outputs": [],
   "source": [
    "# set up working directory\n",
    "setwd('work/notebooks/patent')"
   ]
  },
  {
   "cell_type": "code",
   "execution_count": 62,
   "metadata": {
    "vscode": {
     "languageId": "r"
    }
   },
   "outputs": [
    {
     "data": {
      "text/html": [
       "<table class=\"dataframe\">\n",
       "<caption>A data.table: 1 × 4</caption>\n",
       "<thead>\n",
       "\t<tr><th></th><th scope=col>EP</th><th scope=col>US</th><th scope=col>WO</th><th scope=col>Total</th></tr>\n",
       "\t<tr><th></th><th scope=col>&lt;chr&gt;</th><th scope=col>&lt;chr&gt;</th><th scope=col>&lt;chr&gt;</th><th scope=col>&lt;chr&gt;</th></tr>\n",
       "</thead>\n",
       "<tbody>\n",
       "\t<tr><th scope=row>2</th><td>716</td><td>415</td><td>88</td><td>1219</td></tr>\n",
       "</tbody>\n",
       "</table>\n"
      ],
      "text/latex": [
       "A data.table: 1 × 4\n",
       "\\begin{tabular}{r|llll}\n",
       "  & EP & US & WO & Total\\\\\n",
       "  & <chr> & <chr> & <chr> & <chr>\\\\\n",
       "\\hline\n",
       "\t2 & 716 & 415 & 88 & 1219\\\\\n",
       "\\end{tabular}\n"
      ],
      "text/markdown": [
       "\n",
       "A data.table: 1 × 4\n",
       "\n",
       "| <!--/--> | EP &lt;chr&gt; | US &lt;chr&gt; | WO &lt;chr&gt; | Total &lt;chr&gt; |\n",
       "|---|---|---|---|---|\n",
       "| 2 | 716 | 415 | 88 | 1219 |\n",
       "\n"
      ],
      "text/plain": [
       "  EP  US  WO Total\n",
       "1 716 415 88 1219 "
      ]
     },
     "metadata": {},
     "output_type": "display_data"
    }
   ],
   "source": [
    "# Code-Block 5. Extract patents for one-company full code\n",
    "# read dataset 1, 2, and 3 \n",
    "de_firms <- fread('./data/orbis_de_matched_l.csv')\n",
    "han_names <- fread('./data/202208_HAN_NAMES.txt')\n",
    "han_patents <- fread('./data/202208_HAN_PATENTS.txt')\n",
    "\n",
    "# filter out germany firms from han_names \n",
    "# by setting Person_ctry_code == 'DE'\n",
    "# match names \"AIRBUS DEFENCE\" and get their HAN_ID\n",
    "airbus <- toupper('Airbus Defence')\n",
    "han_names %>%\n",
    "    .[Person_ctry_code == 'DE'] %>%\n",
    "    .[Clean_name %like% airbus] %>%\n",
    "    .[,HAN_ID] -> airbus_han_ids\n",
    "\n",
    "# calcualte the summary statistics for AIRBUS DEFENCE\n",
    "han_patents %>%\n",
    "    .[HAN_ID %in% airbus_han_ids] %>%\n",
    "    .[, .N, by=Publn_auth] -> foo\n",
    "    transform(adorn_totals(foo)) %>%\n",
    "    transpose() %>%\n",
    "    row_to_names(row_number=1)\n",
    "\n",
    "# focusing on patents from EPO\n",
    "# filter with condition Publn_auth == 'EP'\n",
    "han_patents %>%\n",
    "    .[HAN_ID %in% airbus_han_ids] -> airbus_han_patents\n",
    "\n",
    "# save the dataset\n",
    "write.csv(airbus_han_patents, './data/airbus_han_patents.csv', row.names=FALSE)"
   ]
  },
  {
   "cell_type": "code",
   "execution_count": 50,
   "metadata": {
    "vscode": {
     "languageId": "r"
    }
   },
   "outputs": [],
   "source": [
    "airbus_ep_application <- fread('./data/airbus_ep_applications.csv')"
   ]
  },
  {
   "cell_type": "code",
   "execution_count": 51,
   "metadata": {
    "vscode": {
     "languageId": "r"
    }
   },
   "outputs": [
    {
     "data": {
      "text/html": [
       "<style>\n",
       ".list-inline {list-style: none; margin:0; padding: 0}\n",
       ".list-inline>li {display: inline-block}\n",
       ".list-inline>li:not(:last-child)::after {content: \"\\00b7\"; padding: 0 .5ex}\n",
       "</style>\n",
       "<ol class=list-inline><li>716</li><li>7</li></ol>\n"
      ],
      "text/latex": [
       "\\begin{enumerate*}\n",
       "\\item 716\n",
       "\\item 7\n",
       "\\end{enumerate*}\n"
      ],
      "text/markdown": [
       "1. 716\n",
       "2. 7\n",
       "\n",
       "\n"
      ],
      "text/plain": [
       "[1] 716   7"
      ]
     },
     "metadata": {},
     "output_type": "display_data"
    }
   ],
   "source": [
    "dim(airbus_ep_application)"
   ]
  },
  {
   "cell_type": "code",
   "execution_count": 5,
   "metadata": {
    "vscode": {
     "languageId": "r"
    }
   },
   "outputs": [
    {
     "data": {
      "text/html": [
       "<table class=\"dataframe\">\n",
       "<caption>A data.table: 6 × 7</caption>\n",
       "<thead>\n",
       "\t<tr><th scope=col>patentNumber</th><th scope=col>applicationDate</th><th scope=col>granted</th><th scope=col>grantDate</th><th scope=col>familyID</th><th scope=col>cpcTags</th><th scope=col>publicationItems</th></tr>\n",
       "\t<tr><th scope=col>&lt;chr&gt;</th><th scope=col>&lt;chr&gt;</th><th scope=col>&lt;int&gt;</th><th scope=col>&lt;chr&gt;</th><th scope=col>&lt;int&gt;</th><th scope=col>&lt;chr&gt;</th><th scope=col>&lt;chr&gt;</th></tr>\n",
       "</thead>\n",
       "<tbody>\n",
       "\t<tr><td>EP2030891</td><td>Wed, 04 Jun 2008</td><td>0</td><td>                </td><td>39745168</td><td>B64C 1/068                                                                                                                                                                                                         </td><td>['EP 2030891 A2', 'EP 2030891 A3']                 </td></tr>\n",
       "\t<tr><td>EP2025928</td><td>Thu, 24 Jul 2008</td><td>0</td><td>                </td><td>40039666</td><td>['F03D 1/0675', 'F03D 3/062']                                                                                                                                                                                      </td><td>['EP 2025928 A2', 'EP 2025928 A3']                 </td></tr>\n",
       "\t<tr><td>EP1920908</td><td>Fri, 02 Nov 2007</td><td>1</td><td>Wed, 08 Apr 2015</td><td>39118022</td><td>['B29C 70/386', 'B29C 70/541', 'B29C 70/543', 'B29C 70/545', 'B29C 70/56']                                                                                                                                         </td><td>['EP 1920908 A1', 'EP 1920908 B1']                 </td></tr>\n",
       "\t<tr><td>EP1972896</td><td>Sat, 08 Mar 2008</td><td>1</td><td>Wed, 06 May 2015</td><td>39544979</td><td>G01C 23/00                                                                                                                                                                                                         </td><td>['EP 1972896 A2', 'EP 1972896 A3', 'EP 1972896 B1']</td></tr>\n",
       "\t<tr><td>EP2134522</td><td>Thu, 13 Mar 2008</td><td>1</td><td>Wed, 01 Mar 2017</td><td>39595708</td><td>['B29B 11/16', 'B29C 70/382', 'B29C 70/386', 'B29C 70/545', 'B65H 49/18', 'B65H 51/005', 'B65H 57/16', 'D02J 1/18', 'D04H 1/4242', 'D04H 1/60', 'D04H 1/655', 'D04H 13/00', 'D04H 3/002', 'D04H 3/04', 'D04H 3/12']</td><td>['EP 2134522 A1', 'EP 2134522 B1', 'EP 2134522 B8']</td></tr>\n",
       "\t<tr><td>EP2136979</td><td>Thu, 13 Mar 2008</td><td>1</td><td>Wed, 11 May 2016</td><td>39495747</td><td>['B29B 11/16', 'B29C 31/085', 'B29C 70/386', 'B29C 70/541', 'B29C 70/543', 'B29C 70/545']                                                                                                                          </td><td>['EP 2136979 A1', 'EP 2136979 B1']                 </td></tr>\n",
       "</tbody>\n",
       "</table>\n"
      ],
      "text/latex": [
       "A data.table: 6 × 7\n",
       "\\begin{tabular}{lllllll}\n",
       " patentNumber & applicationDate & granted & grantDate & familyID & cpcTags & publicationItems\\\\\n",
       " <chr> & <chr> & <int> & <chr> & <int> & <chr> & <chr>\\\\\n",
       "\\hline\n",
       "\t EP2030891 & Wed, 04 Jun 2008 & 0 &                  & 39745168 & B64C 1/068                                                                                                                                                                                                          & {[}'EP 2030891 A2', 'EP 2030891 A3'{]}                 \\\\\n",
       "\t EP2025928 & Thu, 24 Jul 2008 & 0 &                  & 40039666 & {[}'F03D 1/0675', 'F03D 3/062'{]}                                                                                                                                                                                       & {[}'EP 2025928 A2', 'EP 2025928 A3'{]}                 \\\\\n",
       "\t EP1920908 & Fri, 02 Nov 2007 & 1 & Wed, 08 Apr 2015 & 39118022 & {[}'B29C 70/386', 'B29C 70/541', 'B29C 70/543', 'B29C 70/545', 'B29C 70/56'{]}                                                                                                                                          & {[}'EP 1920908 A1', 'EP 1920908 B1'{]}                 \\\\\n",
       "\t EP1972896 & Sat, 08 Mar 2008 & 1 & Wed, 06 May 2015 & 39544979 & G01C 23/00                                                                                                                                                                                                          & {[}'EP 1972896 A2', 'EP 1972896 A3', 'EP 1972896 B1'{]}\\\\\n",
       "\t EP2134522 & Thu, 13 Mar 2008 & 1 & Wed, 01 Mar 2017 & 39595708 & {[}'B29B 11/16', 'B29C 70/382', 'B29C 70/386', 'B29C 70/545', 'B65H 49/18', 'B65H 51/005', 'B65H 57/16', 'D02J 1/18', 'D04H 1/4242', 'D04H 1/60', 'D04H 1/655', 'D04H 13/00', 'D04H 3/002', 'D04H 3/04', 'D04H 3/12'{]} & {[}'EP 2134522 A1', 'EP 2134522 B1', 'EP 2134522 B8'{]}\\\\\n",
       "\t EP2136979 & Thu, 13 Mar 2008 & 1 & Wed, 11 May 2016 & 39495747 & {[}'B29B 11/16', 'B29C 31/085', 'B29C 70/386', 'B29C 70/541', 'B29C 70/543', 'B29C 70/545'{]}                                                                                                                           & {[}'EP 2136979 A1', 'EP 2136979 B1'{]}                 \\\\\n",
       "\\end{tabular}\n"
      ],
      "text/markdown": [
       "\n",
       "A data.table: 6 × 7\n",
       "\n",
       "| patentNumber &lt;chr&gt; | applicationDate &lt;chr&gt; | granted &lt;int&gt; | grantDate &lt;chr&gt; | familyID &lt;int&gt; | cpcTags &lt;chr&gt; | publicationItems &lt;chr&gt; |\n",
       "|---|---|---|---|---|---|---|\n",
       "| EP2030891 | Wed, 04 Jun 2008 | 0 | <!----> | 39745168 | B64C 1/068                                                                                                                                                                                                          | ['EP 2030891 A2', 'EP 2030891 A3']                  |\n",
       "| EP2025928 | Thu, 24 Jul 2008 | 0 | <!----> | 40039666 | ['F03D 1/0675', 'F03D 3/062']                                                                                                                                                                                       | ['EP 2025928 A2', 'EP 2025928 A3']                  |\n",
       "| EP1920908 | Fri, 02 Nov 2007 | 1 | Wed, 08 Apr 2015 | 39118022 | ['B29C 70/386', 'B29C 70/541', 'B29C 70/543', 'B29C 70/545', 'B29C 70/56']                                                                                                                                          | ['EP 1920908 A1', 'EP 1920908 B1']                  |\n",
       "| EP1972896 | Sat, 08 Mar 2008 | 1 | Wed, 06 May 2015 | 39544979 | G01C 23/00                                                                                                                                                                                                          | ['EP 1972896 A2', 'EP 1972896 A3', 'EP 1972896 B1'] |\n",
       "| EP2134522 | Thu, 13 Mar 2008 | 1 | Wed, 01 Mar 2017 | 39595708 | ['B29B 11/16', 'B29C 70/382', 'B29C 70/386', 'B29C 70/545', 'B65H 49/18', 'B65H 51/005', 'B65H 57/16', 'D02J 1/18', 'D04H 1/4242', 'D04H 1/60', 'D04H 1/655', 'D04H 13/00', 'D04H 3/002', 'D04H 3/04', 'D04H 3/12'] | ['EP 2134522 A1', 'EP 2134522 B1', 'EP 2134522 B8'] |\n",
       "| EP2136979 | Thu, 13 Mar 2008 | 1 | Wed, 11 May 2016 | 39495747 | ['B29B 11/16', 'B29C 31/085', 'B29C 70/386', 'B29C 70/541', 'B29C 70/543', 'B29C 70/545']                                                                                                                           | ['EP 2136979 A1', 'EP 2136979 B1']                  |\n",
       "\n"
      ],
      "text/plain": [
       "  patentNumber applicationDate  granted grantDate        familyID\n",
       "1 EP2030891    Wed, 04 Jun 2008 0                        39745168\n",
       "2 EP2025928    Thu, 24 Jul 2008 0                        40039666\n",
       "3 EP1920908    Fri, 02 Nov 2007 1       Wed, 08 Apr 2015 39118022\n",
       "4 EP1972896    Sat, 08 Mar 2008 1       Wed, 06 May 2015 39544979\n",
       "5 EP2134522    Thu, 13 Mar 2008 1       Wed, 01 Mar 2017 39595708\n",
       "6 EP2136979    Thu, 13 Mar 2008 1       Wed, 11 May 2016 39495747\n",
       "  cpcTags                                                                                                                                                                                                            \n",
       "1 B64C 1/068                                                                                                                                                                                                         \n",
       "2 ['F03D 1/0675', 'F03D 3/062']                                                                                                                                                                                      \n",
       "3 ['B29C 70/386', 'B29C 70/541', 'B29C 70/543', 'B29C 70/545', 'B29C 70/56']                                                                                                                                         \n",
       "4 G01C 23/00                                                                                                                                                                                                         \n",
       "5 ['B29B 11/16', 'B29C 70/382', 'B29C 70/386', 'B29C 70/545', 'B65H 49/18', 'B65H 51/005', 'B65H 57/16', 'D02J 1/18', 'D04H 1/4242', 'D04H 1/60', 'D04H 1/655', 'D04H 13/00', 'D04H 3/002', 'D04H 3/04', 'D04H 3/12']\n",
       "6 ['B29B 11/16', 'B29C 31/085', 'B29C 70/386', 'B29C 70/541', 'B29C 70/543', 'B29C 70/545']                                                                                                                          \n",
       "  publicationItems                                   \n",
       "1 ['EP 2030891 A2', 'EP 2030891 A3']                 \n",
       "2 ['EP 2025928 A2', 'EP 2025928 A3']                 \n",
       "3 ['EP 1920908 A1', 'EP 1920908 B1']                 \n",
       "4 ['EP 1972896 A2', 'EP 1972896 A3', 'EP 1972896 B1']\n",
       "5 ['EP 2134522 A1', 'EP 2134522 B1', 'EP 2134522 B8']\n",
       "6 ['EP 2136979 A1', 'EP 2136979 B1']                 "
      ]
     },
     "metadata": {},
     "output_type": "display_data"
    }
   ],
   "source": [
    "head(airbus_ep_application)"
   ]
  },
  {
   "cell_type": "code",
   "execution_count": 53,
   "metadata": {
    "vscode": {
     "languageId": "r"
    }
   },
   "outputs": [],
   "source": [
    "airbus_ep_publications <- fread('./data/airbus_ep_publications.csv')"
   ]
  },
  {
   "cell_type": "code",
   "execution_count": 54,
   "metadata": {
    "vscode": {
     "languageId": "r"
    }
   },
   "outputs": [
    {
     "data": {
      "text/html": [
       "<style>\n",
       ".list-inline {list-style: none; margin:0; padding: 0}\n",
       ".list-inline>li {display: inline-block}\n",
       ".list-inline>li:not(:last-child)::after {content: \"\\00b7\"; padding: 0 .5ex}\n",
       "</style>\n",
       "<ol class=list-inline><li>539</li><li>5</li></ol>\n"
      ],
      "text/latex": [
       "\\begin{enumerate*}\n",
       "\\item 539\n",
       "\\item 5\n",
       "\\end{enumerate*}\n"
      ],
      "text/markdown": [
       "1. 539\n",
       "2. 5\n",
       "\n",
       "\n"
      ],
      "text/plain": [
       "[1] 539   5"
      ]
     },
     "metadata": {},
     "output_type": "display_data"
    }
   ],
   "source": [
    "dim(airbus_ep_publications)"
   ]
  },
  {
   "cell_type": "code",
   "execution_count": 55,
   "metadata": {
    "vscode": {
     "languageId": "r"
    }
   },
   "outputs": [
    {
     "data": {
      "text/html": [
       "<table class=\"dataframe\">\n",
       "<caption>A data.table: 6 × 5</caption>\n",
       "<thead>\n",
       "\t<tr><th scope=col>patentNumber</th><th scope=col>publicationDate</th><th scope=col>priorityNumber</th><th scope=col>language</th><th scope=col>ipc</th></tr>\n",
       "\t<tr><th scope=col>&lt;chr&gt;</th><th scope=col>&lt;chr&gt;</th><th scope=col>&lt;chr&gt;</th><th scope=col>&lt;chr&gt;</th><th scope=col>&lt;chr&gt;</th></tr>\n",
       "</thead>\n",
       "<tbody>\n",
       "\t<tr><td>EP1920908</td><td>Wed, 08 Apr 2015</td><td>DE/102006052592</td><td>de</td><td>['B29C 70/38', 'B29C 70/54', 'B29C 70/56']                                                                                                                                                                      </td></tr>\n",
       "\t<tr><td>EP1972896</td><td>Wed, 06 May 2015</td><td>DE/102007014015</td><td>de</td><td>['B64D 45/08', 'G01C 23/00']                                                                                                                                                                                    </td></tr>\n",
       "\t<tr><td>EP2134522</td><td>Wed, 01 Mar 2017</td><td>DE/102007012608</td><td>de</td><td>['B29B 11/16', 'B29C 70/20', 'B29C 70/38', 'B29C 70/54', 'B65H 49/18', 'B65H 51/005', 'B65H 57/16', 'D02J 1/18', 'D04H 1/4242', 'D04H 1/60', 'D04H 1/655', 'D04H 13/00', 'D04H 3/002', 'D04H 3/04', 'D04H 3/12']</td></tr>\n",
       "\t<tr><td>EP2136979</td><td>Wed, 11 May 2016</td><td>DE/102007012609</td><td>de</td><td>['B29B 11/16', 'B29C 70/38', 'B29C 70/54']                                                                                                                                                                      </td></tr>\n",
       "\t<tr><td>EP1976108</td><td>Wed, 21 Oct 2020</td><td>DE/102007015302</td><td>de</td><td>['H02M 3/337', 'H02M 7/5387']                                                                                                                                                                                   </td></tr>\n",
       "\t<tr><td>EP2039604</td><td>Wed, 01 Mar 2017</td><td>DE/102007045205</td><td>de</td><td>['B64D 1/04', 'F41A 9/09', 'G01B 7/00', 'G01B 7/14', 'G01S 5/16']                                                                                                                                               </td></tr>\n",
       "</tbody>\n",
       "</table>\n"
      ],
      "text/latex": [
       "A data.table: 6 × 5\n",
       "\\begin{tabular}{lllll}\n",
       " patentNumber & publicationDate & priorityNumber & language & ipc\\\\\n",
       " <chr> & <chr> & <chr> & <chr> & <chr>\\\\\n",
       "\\hline\n",
       "\t EP1920908 & Wed, 08 Apr 2015 & DE/102006052592 & de & {[}'B29C 70/38', 'B29C 70/54', 'B29C 70/56'{]}                                                                                                                                                                      \\\\\n",
       "\t EP1972896 & Wed, 06 May 2015 & DE/102007014015 & de & {[}'B64D 45/08', 'G01C 23/00'{]}                                                                                                                                                                                    \\\\\n",
       "\t EP2134522 & Wed, 01 Mar 2017 & DE/102007012608 & de & {[}'B29B 11/16', 'B29C 70/20', 'B29C 70/38', 'B29C 70/54', 'B65H 49/18', 'B65H 51/005', 'B65H 57/16', 'D02J 1/18', 'D04H 1/4242', 'D04H 1/60', 'D04H 1/655', 'D04H 13/00', 'D04H 3/002', 'D04H 3/04', 'D04H 3/12'{]}\\\\\n",
       "\t EP2136979 & Wed, 11 May 2016 & DE/102007012609 & de & {[}'B29B 11/16', 'B29C 70/38', 'B29C 70/54'{]}                                                                                                                                                                      \\\\\n",
       "\t EP1976108 & Wed, 21 Oct 2020 & DE/102007015302 & de & {[}'H02M 3/337', 'H02M 7/5387'{]}                                                                                                                                                                                   \\\\\n",
       "\t EP2039604 & Wed, 01 Mar 2017 & DE/102007045205 & de & {[}'B64D 1/04', 'F41A 9/09', 'G01B 7/00', 'G01B 7/14', 'G01S 5/16'{]}                                                                                                                                               \\\\\n",
       "\\end{tabular}\n"
      ],
      "text/markdown": [
       "\n",
       "A data.table: 6 × 5\n",
       "\n",
       "| patentNumber &lt;chr&gt; | publicationDate &lt;chr&gt; | priorityNumber &lt;chr&gt; | language &lt;chr&gt; | ipc &lt;chr&gt; |\n",
       "|---|---|---|---|---|\n",
       "| EP1920908 | Wed, 08 Apr 2015 | DE/102006052592 | de | ['B29C 70/38', 'B29C 70/54', 'B29C 70/56']                                                                                                                                                                       |\n",
       "| EP1972896 | Wed, 06 May 2015 | DE/102007014015 | de | ['B64D 45/08', 'G01C 23/00']                                                                                                                                                                                     |\n",
       "| EP2134522 | Wed, 01 Mar 2017 | DE/102007012608 | de | ['B29B 11/16', 'B29C 70/20', 'B29C 70/38', 'B29C 70/54', 'B65H 49/18', 'B65H 51/005', 'B65H 57/16', 'D02J 1/18', 'D04H 1/4242', 'D04H 1/60', 'D04H 1/655', 'D04H 13/00', 'D04H 3/002', 'D04H 3/04', 'D04H 3/12'] |\n",
       "| EP2136979 | Wed, 11 May 2016 | DE/102007012609 | de | ['B29B 11/16', 'B29C 70/38', 'B29C 70/54']                                                                                                                                                                       |\n",
       "| EP1976108 | Wed, 21 Oct 2020 | DE/102007015302 | de | ['H02M 3/337', 'H02M 7/5387']                                                                                                                                                                                    |\n",
       "| EP2039604 | Wed, 01 Mar 2017 | DE/102007045205 | de | ['B64D 1/04', 'F41A 9/09', 'G01B 7/00', 'G01B 7/14', 'G01S 5/16']                                                                                                                                                |\n",
       "\n"
      ],
      "text/plain": [
       "  patentNumber publicationDate  priorityNumber  language\n",
       "1 EP1920908    Wed, 08 Apr 2015 DE/102006052592 de      \n",
       "2 EP1972896    Wed, 06 May 2015 DE/102007014015 de      \n",
       "3 EP2134522    Wed, 01 Mar 2017 DE/102007012608 de      \n",
       "4 EP2136979    Wed, 11 May 2016 DE/102007012609 de      \n",
       "5 EP1976108    Wed, 21 Oct 2020 DE/102007015302 de      \n",
       "6 EP2039604    Wed, 01 Mar 2017 DE/102007045205 de      \n",
       "  ipc                                                                                                                                                                                                             \n",
       "1 ['B29C 70/38', 'B29C 70/54', 'B29C 70/56']                                                                                                                                                                      \n",
       "2 ['B64D 45/08', 'G01C 23/00']                                                                                                                                                                                    \n",
       "3 ['B29B 11/16', 'B29C 70/20', 'B29C 70/38', 'B29C 70/54', 'B65H 49/18', 'B65H 51/005', 'B65H 57/16', 'D02J 1/18', 'D04H 1/4242', 'D04H 1/60', 'D04H 1/655', 'D04H 13/00', 'D04H 3/002', 'D04H 3/04', 'D04H 3/12']\n",
       "4 ['B29B 11/16', 'B29C 70/38', 'B29C 70/54']                                                                                                                                                                      \n",
       "5 ['H02M 3/337', 'H02M 7/5387']                                                                                                                                                                                   \n",
       "6 ['B64D 1/04', 'F41A 9/09', 'G01B 7/00', 'G01B 7/14', 'G01S 5/16']                                                                                                                                               "
      ]
     },
     "metadata": {},
     "output_type": "display_data"
    }
   ],
   "source": [
    "head(airbus_ep_publications)"
   ]
  },
  {
   "cell_type": "code",
   "execution_count": 13,
   "metadata": {
    "vscode": {
     "languageId": "r"
    }
   },
   "outputs": [
    {
     "data": {
      "text/html": [
       "<table class=\"dataframe\">\n",
       "<caption>A data.table: 6 × 9</caption>\n",
       "<thead>\n",
       "\t<tr><th scope=col>patentNumber</th><th scope=col>applicationDate</th><th scope=col>granted</th><th scope=col>grantDate</th><th scope=col>familyID</th><th scope=col>cpcTags</th><th scope=col>publicationItems</th><th scope=col>date</th><th scope=col>year</th></tr>\n",
       "\t<tr><th scope=col>&lt;chr&gt;</th><th scope=col>&lt;chr&gt;</th><th scope=col>&lt;int&gt;</th><th scope=col>&lt;chr&gt;</th><th scope=col>&lt;int&gt;</th><th scope=col>&lt;chr&gt;</th><th scope=col>&lt;chr&gt;</th><th scope=col>&lt;chr&gt;</th><th scope=col>&lt;chr&gt;</th></tr>\n",
       "</thead>\n",
       "<tbody>\n",
       "\t<tr><td>EP2030891</td><td>Wed, 04 Jun 2008</td><td>0</td><td>                </td><td>39745168</td><td>B64C 1/068                                                                                                                                                                                                         </td><td>['EP 2030891 A2', 'EP 2030891 A3']                 </td><td> 04 Jun 2008</td><td>2008</td></tr>\n",
       "\t<tr><td>EP2025928</td><td>Thu, 24 Jul 2008</td><td>0</td><td>                </td><td>40039666</td><td>['F03D 1/0675', 'F03D 3/062']                                                                                                                                                                                      </td><td>['EP 2025928 A2', 'EP 2025928 A3']                 </td><td> 24 Jul 2008</td><td>2008</td></tr>\n",
       "\t<tr><td>EP1920908</td><td>Fri, 02 Nov 2007</td><td>1</td><td>Wed, 08 Apr 2015</td><td>39118022</td><td>['B29C 70/386', 'B29C 70/541', 'B29C 70/543', 'B29C 70/545', 'B29C 70/56']                                                                                                                                         </td><td>['EP 1920908 A1', 'EP 1920908 B1']                 </td><td> 02 Nov 2007</td><td>2007</td></tr>\n",
       "\t<tr><td>EP1972896</td><td>Sat, 08 Mar 2008</td><td>1</td><td>Wed, 06 May 2015</td><td>39544979</td><td>G01C 23/00                                                                                                                                                                                                         </td><td>['EP 1972896 A2', 'EP 1972896 A3', 'EP 1972896 B1']</td><td> 08 Mar 2008</td><td>2008</td></tr>\n",
       "\t<tr><td>EP2134522</td><td>Thu, 13 Mar 2008</td><td>1</td><td>Wed, 01 Mar 2017</td><td>39595708</td><td>['B29B 11/16', 'B29C 70/382', 'B29C 70/386', 'B29C 70/545', 'B65H 49/18', 'B65H 51/005', 'B65H 57/16', 'D02J 1/18', 'D04H 1/4242', 'D04H 1/60', 'D04H 1/655', 'D04H 13/00', 'D04H 3/002', 'D04H 3/04', 'D04H 3/12']</td><td>['EP 2134522 A1', 'EP 2134522 B1', 'EP 2134522 B8']</td><td> 13 Mar 2008</td><td>2008</td></tr>\n",
       "\t<tr><td>EP2136979</td><td>Thu, 13 Mar 2008</td><td>1</td><td>Wed, 11 May 2016</td><td>39495747</td><td>['B29B 11/16', 'B29C 31/085', 'B29C 70/386', 'B29C 70/541', 'B29C 70/543', 'B29C 70/545']                                                                                                                          </td><td>['EP 2136979 A1', 'EP 2136979 B1']                 </td><td> 13 Mar 2008</td><td>2008</td></tr>\n",
       "</tbody>\n",
       "</table>\n"
      ],
      "text/latex": [
       "A data.table: 6 × 9\n",
       "\\begin{tabular}{lllllllll}\n",
       " patentNumber & applicationDate & granted & grantDate & familyID & cpcTags & publicationItems & date & year\\\\\n",
       " <chr> & <chr> & <int> & <chr> & <int> & <chr> & <chr> & <chr> & <chr>\\\\\n",
       "\\hline\n",
       "\t EP2030891 & Wed, 04 Jun 2008 & 0 &                  & 39745168 & B64C 1/068                                                                                                                                                                                                          & {[}'EP 2030891 A2', 'EP 2030891 A3'{]}                  &  04 Jun 2008 & 2008\\\\\n",
       "\t EP2025928 & Thu, 24 Jul 2008 & 0 &                  & 40039666 & {[}'F03D 1/0675', 'F03D 3/062'{]}                                                                                                                                                                                       & {[}'EP 2025928 A2', 'EP 2025928 A3'{]}                  &  24 Jul 2008 & 2008\\\\\n",
       "\t EP1920908 & Fri, 02 Nov 2007 & 1 & Wed, 08 Apr 2015 & 39118022 & {[}'B29C 70/386', 'B29C 70/541', 'B29C 70/543', 'B29C 70/545', 'B29C 70/56'{]}                                                                                                                                          & {[}'EP 1920908 A1', 'EP 1920908 B1'{]}                  &  02 Nov 2007 & 2007\\\\\n",
       "\t EP1972896 & Sat, 08 Mar 2008 & 1 & Wed, 06 May 2015 & 39544979 & G01C 23/00                                                                                                                                                                                                          & {[}'EP 1972896 A2', 'EP 1972896 A3', 'EP 1972896 B1'{]} &  08 Mar 2008 & 2008\\\\\n",
       "\t EP2134522 & Thu, 13 Mar 2008 & 1 & Wed, 01 Mar 2017 & 39595708 & {[}'B29B 11/16', 'B29C 70/382', 'B29C 70/386', 'B29C 70/545', 'B65H 49/18', 'B65H 51/005', 'B65H 57/16', 'D02J 1/18', 'D04H 1/4242', 'D04H 1/60', 'D04H 1/655', 'D04H 13/00', 'D04H 3/002', 'D04H 3/04', 'D04H 3/12'{]} & {[}'EP 2134522 A1', 'EP 2134522 B1', 'EP 2134522 B8'{]} &  13 Mar 2008 & 2008\\\\\n",
       "\t EP2136979 & Thu, 13 Mar 2008 & 1 & Wed, 11 May 2016 & 39495747 & {[}'B29B 11/16', 'B29C 31/085', 'B29C 70/386', 'B29C 70/541', 'B29C 70/543', 'B29C 70/545'{]}                                                                                                                           & {[}'EP 2136979 A1', 'EP 2136979 B1'{]}                  &  13 Mar 2008 & 2008\\\\\n",
       "\\end{tabular}\n"
      ],
      "text/markdown": [
       "\n",
       "A data.table: 6 × 9\n",
       "\n",
       "| patentNumber &lt;chr&gt; | applicationDate &lt;chr&gt; | granted &lt;int&gt; | grantDate &lt;chr&gt; | familyID &lt;int&gt; | cpcTags &lt;chr&gt; | publicationItems &lt;chr&gt; | date &lt;chr&gt; | year &lt;chr&gt; |\n",
       "|---|---|---|---|---|---|---|---|---|\n",
       "| EP2030891 | Wed, 04 Jun 2008 | 0 | <!----> | 39745168 | B64C 1/068                                                                                                                                                                                                          | ['EP 2030891 A2', 'EP 2030891 A3']                  |  04 Jun 2008 | 2008 |\n",
       "| EP2025928 | Thu, 24 Jul 2008 | 0 | <!----> | 40039666 | ['F03D 1/0675', 'F03D 3/062']                                                                                                                                                                                       | ['EP 2025928 A2', 'EP 2025928 A3']                  |  24 Jul 2008 | 2008 |\n",
       "| EP1920908 | Fri, 02 Nov 2007 | 1 | Wed, 08 Apr 2015 | 39118022 | ['B29C 70/386', 'B29C 70/541', 'B29C 70/543', 'B29C 70/545', 'B29C 70/56']                                                                                                                                          | ['EP 1920908 A1', 'EP 1920908 B1']                  |  02 Nov 2007 | 2007 |\n",
       "| EP1972896 | Sat, 08 Mar 2008 | 1 | Wed, 06 May 2015 | 39544979 | G01C 23/00                                                                                                                                                                                                          | ['EP 1972896 A2', 'EP 1972896 A3', 'EP 1972896 B1'] |  08 Mar 2008 | 2008 |\n",
       "| EP2134522 | Thu, 13 Mar 2008 | 1 | Wed, 01 Mar 2017 | 39595708 | ['B29B 11/16', 'B29C 70/382', 'B29C 70/386', 'B29C 70/545', 'B65H 49/18', 'B65H 51/005', 'B65H 57/16', 'D02J 1/18', 'D04H 1/4242', 'D04H 1/60', 'D04H 1/655', 'D04H 13/00', 'D04H 3/002', 'D04H 3/04', 'D04H 3/12'] | ['EP 2134522 A1', 'EP 2134522 B1', 'EP 2134522 B8'] |  13 Mar 2008 | 2008 |\n",
       "| EP2136979 | Thu, 13 Mar 2008 | 1 | Wed, 11 May 2016 | 39495747 | ['B29B 11/16', 'B29C 31/085', 'B29C 70/386', 'B29C 70/541', 'B29C 70/543', 'B29C 70/545']                                                                                                                           | ['EP 2136979 A1', 'EP 2136979 B1']                  |  13 Mar 2008 | 2008 |\n",
       "\n"
      ],
      "text/plain": [
       "  patentNumber applicationDate  granted grantDate        familyID\n",
       "1 EP2030891    Wed, 04 Jun 2008 0                        39745168\n",
       "2 EP2025928    Thu, 24 Jul 2008 0                        40039666\n",
       "3 EP1920908    Fri, 02 Nov 2007 1       Wed, 08 Apr 2015 39118022\n",
       "4 EP1972896    Sat, 08 Mar 2008 1       Wed, 06 May 2015 39544979\n",
       "5 EP2134522    Thu, 13 Mar 2008 1       Wed, 01 Mar 2017 39595708\n",
       "6 EP2136979    Thu, 13 Mar 2008 1       Wed, 11 May 2016 39495747\n",
       "  cpcTags                                                                                                                                                                                                            \n",
       "1 B64C 1/068                                                                                                                                                                                                         \n",
       "2 ['F03D 1/0675', 'F03D 3/062']                                                                                                                                                                                      \n",
       "3 ['B29C 70/386', 'B29C 70/541', 'B29C 70/543', 'B29C 70/545', 'B29C 70/56']                                                                                                                                         \n",
       "4 G01C 23/00                                                                                                                                                                                                         \n",
       "5 ['B29B 11/16', 'B29C 70/382', 'B29C 70/386', 'B29C 70/545', 'B65H 49/18', 'B65H 51/005', 'B65H 57/16', 'D02J 1/18', 'D04H 1/4242', 'D04H 1/60', 'D04H 1/655', 'D04H 13/00', 'D04H 3/002', 'D04H 3/04', 'D04H 3/12']\n",
       "6 ['B29B 11/16', 'B29C 31/085', 'B29C 70/386', 'B29C 70/541', 'B29C 70/543', 'B29C 70/545']                                                                                                                          \n",
       "  publicationItems                                    date         year\n",
       "1 ['EP 2030891 A2', 'EP 2030891 A3']                   04 Jun 2008 2008\n",
       "2 ['EP 2025928 A2', 'EP 2025928 A3']                   24 Jul 2008 2008\n",
       "3 ['EP 1920908 A1', 'EP 1920908 B1']                   02 Nov 2007 2007\n",
       "4 ['EP 1972896 A2', 'EP 1972896 A3', 'EP 1972896 B1']  08 Mar 2008 2008\n",
       "5 ['EP 2134522 A1', 'EP 2134522 B1', 'EP 2134522 B8']  13 Mar 2008 2008\n",
       "6 ['EP 2136979 A1', 'EP 2136979 B1']                   13 Mar 2008 2008"
      ]
     },
     "metadata": {},
     "output_type": "display_data"
    }
   ],
   "source": [
    "airbus_ep_application %>%\n",
    "    .[, date := tstrsplit(applicationDate, split=',', keep=c(2))] %>%\n",
    "    .[, year := tstrsplit(date, split=' ', keep=c(4))] %>%\n",
    "    head()\n",
    "    "
   ]
  },
  {
   "cell_type": "code",
   "execution_count": 56,
   "metadata": {
    "vscode": {
     "languageId": "r"
    }
   },
   "outputs": [],
   "source": [
    "airbus_prior <- fread('./data/airbus_ep_pub_prior.csv')"
   ]
  },
  {
   "cell_type": "code",
   "execution_count": 57,
   "metadata": {
    "vscode": {
     "languageId": "r"
    }
   },
   "outputs": [
    {
     "data": {
      "text/html": [
       "<style>\n",
       ".list-inline {list-style: none; margin:0; padding: 0}\n",
       ".list-inline>li {display: inline-block}\n",
       ".list-inline>li:not(:last-child)::after {content: \"\\00b7\"; padding: 0 .5ex}\n",
       "</style>\n",
       "<ol class=list-inline><li>539</li><li>6</li></ol>\n"
      ],
      "text/latex": [
       "\\begin{enumerate*}\n",
       "\\item 539\n",
       "\\item 6\n",
       "\\end{enumerate*}\n"
      ],
      "text/markdown": [
       "1. 539\n",
       "2. 6\n",
       "\n",
       "\n"
      ],
      "text/plain": [
       "[1] 539   6"
      ]
     },
     "metadata": {},
     "output_type": "display_data"
    }
   ],
   "source": [
    "dim(airbus_prior)"
   ]
  },
  {
   "cell_type": "code",
   "execution_count": 86,
   "metadata": {
    "vscode": {
     "languageId": "r"
    }
   },
   "outputs": [
    {
     "data": {
      "text/html": [
       "<style>\n",
       ".list-inline {list-style: none; margin:0; padding: 0}\n",
       ".list-inline>li {display: inline-block}\n",
       ".list-inline>li:not(:last-child)::after {content: \"\\00b7\"; padding: 0 .5ex}\n",
       "</style>\n",
       "<ol class=list-inline><li>539</li><li>8</li></ol>\n"
      ],
      "text/latex": [
       "\\begin{enumerate*}\n",
       "\\item 539\n",
       "\\item 8\n",
       "\\end{enumerate*}\n"
      ],
      "text/markdown": [
       "1. 539\n",
       "2. 8\n",
       "\n",
       "\n"
      ],
      "text/plain": [
       "[1] 539   8"
      ]
     },
     "metadata": {},
     "output_type": "display_data"
    }
   ],
   "source": [
    "foo <- fread(\"./data/airbus_app_prior.csv\")\n",
    "dim(foo)"
   ]
  },
  {
   "cell_type": "code",
   "execution_count": null,
   "metadata": {
    "vscode": {
     "languageId": "r"
    }
   },
   "outputs": [],
   "source": [
    "get_date <- function(date_string) {\n",
    "    \n",
    "}"
   ]
  },
  {
   "cell_type": "code",
   "execution_count": 99,
   "metadata": {
    "vscode": {
     "languageId": "r"
    }
   },
   "outputs": [],
   "source": [
    "substrRight <- function(x, n=4){\n",
    "  substr(x, nchar(x)-n+1, nchar(x))\n",
    "}"
   ]
  },
  {
   "cell_type": "code",
   "execution_count": 100,
   "metadata": {
    "vscode": {
     "languageId": "r"
    }
   },
   "outputs": [
    {
     "data": {
      "text/html": [
       "'2007'"
      ],
      "text/latex": [
       "'2007'"
      ],
      "text/markdown": [
       "'2007'"
      ],
      "text/plain": [
       "[1] \"2007\""
      ]
     },
     "metadata": {},
     "output_type": "display_data"
    }
   ],
   "source": [
    "strfoo <- 'Fri, 02 Nov 2007'\n",
    "substrRight(strfoo)"
   ]
  },
  {
   "cell_type": "code",
   "execution_count": 105,
   "metadata": {
    "vscode": {
     "languageId": "r"
    }
   },
   "outputs": [
    {
     "data": {
      "text/html": [
       "<table class=\"dataframe\">\n",
       "<caption>A data.table: 6 × 11</caption>\n",
       "<thead>\n",
       "\t<tr><th scope=col>patentNumber</th><th scope=col>applicationDate</th><th scope=col>granted</th><th scope=col>grantDate</th><th scope=col>familyID</th><th scope=col>cpcTags</th><th scope=col>publicationItems</th><th scope=col>priorityDate</th><th scope=col>applicationYear</th><th scope=col>priorityYear</th><th scope=col>grantYear</th></tr>\n",
       "\t<tr><th scope=col>&lt;chr&gt;</th><th scope=col>&lt;chr&gt;</th><th scope=col>&lt;int&gt;</th><th scope=col>&lt;chr&gt;</th><th scope=col>&lt;int&gt;</th><th scope=col>&lt;chr&gt;</th><th scope=col>&lt;chr&gt;</th><th scope=col>&lt;chr&gt;</th><th scope=col>&lt;list&gt;</th><th scope=col>&lt;list&gt;</th><th scope=col>&lt;list&gt;</th></tr>\n",
       "</thead>\n",
       "<tbody>\n",
       "\t<tr><td>EP3883144</td><td>Wed, 18 Mar 2020</td><td>1</td><td>Wed, 07 Dec 2022</td><td>69845911</td><td>['H04B 7/18502', 'H04W 56/0015']                      </td><td>['EP 3883144 A1', 'EP 3883144 B1']</td><td>Wed, 18 Mar 2020</td><td>2020</td><td>2020</td><td>2022</td></tr>\n",
       "\t<tr><td>EP3882376</td><td>Thu, 19 Mar 2020</td><td>1</td><td>Wed, 05 Oct 2022</td><td>69846318</td><td>['C25B 1/04', 'C25B 15/02', 'C25B 15/08', 'C25B 9/05']</td><td>['EP 3882376 A1', 'EP 3882376 B1']</td><td>Thu, 19 Mar 2020</td><td>2020</td><td>2020</td><td>2022</td></tr>\n",
       "\t<tr><td>EP3886189</td><td>Wed, 25 Mar 2020</td><td>1</td><td>Wed, 06 Jul 2022</td><td>70289237</td><td>['H02N 2/062', 'H02N 2/142', 'H10N 30/802']           </td><td>['EP 3886189 A1', 'EP 3886189 B1']</td><td>Wed, 25 Mar 2020</td><td>2020</td><td>2020</td><td>2022</td></tr>\n",
       "\t<tr><td>EP3731055</td><td>Mon, 20 Apr 2020</td><td>1</td><td>Wed, 08 Sep 2021</td><td>70333838</td><td>G05D 1/0676                                           </td><td>['EP 3731055 A1', 'EP 3731055 B1']</td><td>Tue, 23 Apr 2019</td><td>2020</td><td>2019</td><td>2021</td></tr>\n",
       "\t<tr><td>EP3905535</td><td>Tue, 28 Apr 2020</td><td>1</td><td>Wed, 27 Apr 2022</td><td>70475966</td><td>['G01S 19/21', 'H04B 1/7097']                         </td><td>['EP 3905535 A1', 'EP 3905535 B1']</td><td>Tue, 28 Apr 2020</td><td>2020</td><td>2020</td><td>2022</td></tr>\n",
       "\t<tr><td>EP3913398</td><td>Wed, 20 May 2020</td><td>1</td><td>Wed, 16 Nov 2022</td><td>70802639</td><td>G01S 13/9011                                          </td><td>['EP 3913398 A1', 'EP 3913398 B1']</td><td>Wed, 20 May 2020</td><td>2020</td><td>2020</td><td>2022</td></tr>\n",
       "</tbody>\n",
       "</table>\n"
      ],
      "text/latex": [
       "A data.table: 6 × 11\n",
       "\\begin{tabular}{lllllllllll}\n",
       " patentNumber & applicationDate & granted & grantDate & familyID & cpcTags & publicationItems & priorityDate & applicationYear & priorityYear & grantYear\\\\\n",
       " <chr> & <chr> & <int> & <chr> & <int> & <chr> & <chr> & <chr> & <list> & <list> & <list>\\\\\n",
       "\\hline\n",
       "\t EP3883144 & Wed, 18 Mar 2020 & 1 & Wed, 07 Dec 2022 & 69845911 & {[}'H04B 7/18502', 'H04W 56/0015'{]}                       & {[}'EP 3883144 A1', 'EP 3883144 B1'{]} & Wed, 18 Mar 2020 & 2020 & 2020 & 2022\\\\\n",
       "\t EP3882376 & Thu, 19 Mar 2020 & 1 & Wed, 05 Oct 2022 & 69846318 & {[}'C25B 1/04', 'C25B 15/02', 'C25B 15/08', 'C25B 9/05'{]} & {[}'EP 3882376 A1', 'EP 3882376 B1'{]} & Thu, 19 Mar 2020 & 2020 & 2020 & 2022\\\\\n",
       "\t EP3886189 & Wed, 25 Mar 2020 & 1 & Wed, 06 Jul 2022 & 70289237 & {[}'H02N 2/062', 'H02N 2/142', 'H10N 30/802'{]}            & {[}'EP 3886189 A1', 'EP 3886189 B1'{]} & Wed, 25 Mar 2020 & 2020 & 2020 & 2022\\\\\n",
       "\t EP3731055 & Mon, 20 Apr 2020 & 1 & Wed, 08 Sep 2021 & 70333838 & G05D 1/0676                                            & {[}'EP 3731055 A1', 'EP 3731055 B1'{]} & Tue, 23 Apr 2019 & 2020 & 2019 & 2021\\\\\n",
       "\t EP3905535 & Tue, 28 Apr 2020 & 1 & Wed, 27 Apr 2022 & 70475966 & {[}'G01S 19/21', 'H04B 1/7097'{]}                          & {[}'EP 3905535 A1', 'EP 3905535 B1'{]} & Tue, 28 Apr 2020 & 2020 & 2020 & 2022\\\\\n",
       "\t EP3913398 & Wed, 20 May 2020 & 1 & Wed, 16 Nov 2022 & 70802639 & G01S 13/9011                                           & {[}'EP 3913398 A1', 'EP 3913398 B1'{]} & Wed, 20 May 2020 & 2020 & 2020 & 2022\\\\\n",
       "\\end{tabular}\n"
      ],
      "text/markdown": [
       "\n",
       "A data.table: 6 × 11\n",
       "\n",
       "| patentNumber &lt;chr&gt; | applicationDate &lt;chr&gt; | granted &lt;int&gt; | grantDate &lt;chr&gt; | familyID &lt;int&gt; | cpcTags &lt;chr&gt; | publicationItems &lt;chr&gt; | priorityDate &lt;chr&gt; | applicationYear &lt;list&gt; | priorityYear &lt;list&gt; | grantYear &lt;list&gt; |\n",
       "|---|---|---|---|---|---|---|---|---|---|---|\n",
       "| EP3883144 | Wed, 18 Mar 2020 | 1 | Wed, 07 Dec 2022 | 69845911 | ['H04B 7/18502', 'H04W 56/0015']                       | ['EP 3883144 A1', 'EP 3883144 B1'] | Wed, 18 Mar 2020 | 2020 | 2020 | 2022 |\n",
       "| EP3882376 | Thu, 19 Mar 2020 | 1 | Wed, 05 Oct 2022 | 69846318 | ['C25B 1/04', 'C25B 15/02', 'C25B 15/08', 'C25B 9/05'] | ['EP 3882376 A1', 'EP 3882376 B1'] | Thu, 19 Mar 2020 | 2020 | 2020 | 2022 |\n",
       "| EP3886189 | Wed, 25 Mar 2020 | 1 | Wed, 06 Jul 2022 | 70289237 | ['H02N 2/062', 'H02N 2/142', 'H10N 30/802']            | ['EP 3886189 A1', 'EP 3886189 B1'] | Wed, 25 Mar 2020 | 2020 | 2020 | 2022 |\n",
       "| EP3731055 | Mon, 20 Apr 2020 | 1 | Wed, 08 Sep 2021 | 70333838 | G05D 1/0676                                            | ['EP 3731055 A1', 'EP 3731055 B1'] | Tue, 23 Apr 2019 | 2020 | 2019 | 2021 |\n",
       "| EP3905535 | Tue, 28 Apr 2020 | 1 | Wed, 27 Apr 2022 | 70475966 | ['G01S 19/21', 'H04B 1/7097']                          | ['EP 3905535 A1', 'EP 3905535 B1'] | Tue, 28 Apr 2020 | 2020 | 2020 | 2022 |\n",
       "| EP3913398 | Wed, 20 May 2020 | 1 | Wed, 16 Nov 2022 | 70802639 | G01S 13/9011                                           | ['EP 3913398 A1', 'EP 3913398 B1'] | Wed, 20 May 2020 | 2020 | 2020 | 2022 |\n",
       "\n"
      ],
      "text/plain": [
       "  patentNumber applicationDate  granted grantDate        familyID\n",
       "1 EP3883144    Wed, 18 Mar 2020 1       Wed, 07 Dec 2022 69845911\n",
       "2 EP3882376    Thu, 19 Mar 2020 1       Wed, 05 Oct 2022 69846318\n",
       "3 EP3886189    Wed, 25 Mar 2020 1       Wed, 06 Jul 2022 70289237\n",
       "4 EP3731055    Mon, 20 Apr 2020 1       Wed, 08 Sep 2021 70333838\n",
       "5 EP3905535    Tue, 28 Apr 2020 1       Wed, 27 Apr 2022 70475966\n",
       "6 EP3913398    Wed, 20 May 2020 1       Wed, 16 Nov 2022 70802639\n",
       "  cpcTags                                               \n",
       "1 ['H04B 7/18502', 'H04W 56/0015']                      \n",
       "2 ['C25B 1/04', 'C25B 15/02', 'C25B 15/08', 'C25B 9/05']\n",
       "3 ['H02N 2/062', 'H02N 2/142', 'H10N 30/802']           \n",
       "4 G05D 1/0676                                           \n",
       "5 ['G01S 19/21', 'H04B 1/7097']                         \n",
       "6 G01S 13/9011                                          \n",
       "  publicationItems                   priorityDate     applicationYear\n",
       "1 ['EP 3883144 A1', 'EP 3883144 B1'] Wed, 18 Mar 2020 2020           \n",
       "2 ['EP 3882376 A1', 'EP 3882376 B1'] Thu, 19 Mar 2020 2020           \n",
       "3 ['EP 3886189 A1', 'EP 3886189 B1'] Wed, 25 Mar 2020 2020           \n",
       "4 ['EP 3731055 A1', 'EP 3731055 B1'] Tue, 23 Apr 2019 2020           \n",
       "5 ['EP 3905535 A1', 'EP 3905535 B1'] Tue, 28 Apr 2020 2020           \n",
       "6 ['EP 3913398 A1', 'EP 3913398 B1'] Wed, 20 May 2020 2020           \n",
       "  priorityYear grantYear\n",
       "1 2020         2022     \n",
       "2 2020         2022     \n",
       "3 2020         2022     \n",
       "4 2019         2021     \n",
       "5 2020         2022     \n",
       "6 2020         2022     "
      ]
     },
     "metadata": {},
     "output_type": "display_data"
    }
   ],
   "source": [
    "foo %>%\n",
    "    .[, priorityYear := lapply(priorityDate, substrRight)] %>%\n",
    "    .[, applicationYear := lapply(applicationDate, substrRight)] %>%\n",
    "    .[, grantYear := lapply(grantDate, substrRight)] %>%\n",
    "    tail()"
   ]
  },
  {
   "attachments": {},
   "cell_type": "markdown",
   "metadata": {},
   "source": [
    "## EPO Citations"
   ]
  },
  {
   "cell_type": "code",
   "execution_count": 15,
   "metadata": {
    "vscode": {
     "languageId": "r"
    }
   },
   "outputs": [],
   "source": [
    "epo_citations <- fread('./data/202208_EPO_CITATIONS.txt')"
   ]
  },
  {
   "cell_type": "code",
   "execution_count": 16,
   "metadata": {
    "vscode": {
     "languageId": "r"
    }
   },
   "outputs": [
    {
     "data": {
      "text/html": [
       "<style>\n",
       ".list-inline {list-style: none; margin:0; padding: 0}\n",
       ".list-inline>li {display: inline-block}\n",
       ".list-inline>li:not(:last-child)::after {content: \"\\00b7\"; padding: 0 .5ex}\n",
       "</style>\n",
       "<ol class=list-inline><li>12965763</li><li>15</li></ol>\n"
      ],
      "text/latex": [
       "\\begin{enumerate*}\n",
       "\\item 12965763\n",
       "\\item 15\n",
       "\\end{enumerate*}\n"
      ],
      "text/markdown": [
       "1. 12965763\n",
       "2. 15\n",
       "\n",
       "\n"
      ],
      "text/plain": [
       "[1] 12965763       15"
      ]
     },
     "metadata": {},
     "output_type": "display_data"
    }
   ],
   "source": [
    "dim(epo_citations)"
   ]
  },
  {
   "cell_type": "code",
   "execution_count": 17,
   "metadata": {
    "vscode": {
     "languageId": "r"
    }
   },
   "outputs": [
    {
     "data": {
      "text/html": [
       "<table class=\"dataframe\">\n",
       "<caption>A data.table: 6 × 15</caption>\n",
       "<thead>\n",
       "\t<tr><th scope=col>Citing_pub_nbr</th><th scope=col>Citing_pub_date</th><th scope=col>Citing_app_nbr</th><th scope=col>Citing_appln_id</th><th scope=col>Cited_pub_nbr</th><th scope=col>Cited_pub_date</th><th scope=col>Cited_App_auth</th><th scope=col>Cited_App_nbr</th><th scope=col>Cited_Appln_id</th><th scope=col>Cit_Total</th><th scope=col>Citn_origin</th><th scope=col>Citn_category</th><th scope=col>Citn_lag_year</th><th scope=col>Citn_lag_month</th><th scope=col>PCT_Route</th></tr>\n",
       "\t<tr><th scope=col>&lt;chr&gt;</th><th scope=col>&lt;IDate&gt;</th><th scope=col>&lt;chr&gt;</th><th scope=col>&lt;int&gt;</th><th scope=col>&lt;chr&gt;</th><th scope=col>&lt;IDate&gt;</th><th scope=col>&lt;chr&gt;</th><th scope=col>&lt;chr&gt;</th><th scope=col>&lt;int&gt;</th><th scope=col>&lt;int&gt;</th><th scope=col>&lt;chr&gt;</th><th scope=col>&lt;chr&gt;</th><th scope=col>&lt;int&gt;</th><th scope=col>&lt;int&gt;</th><th scope=col>&lt;int&gt;</th></tr>\n",
       "</thead>\n",
       "<tbody>\n",
       "\t<tr><td>EP0000001</td><td>1978-12-20</td><td>EP19780200013</td><td>16428854</td><td>DE2161506</td><td>1973-06-14</td><td>DE</td><td>DE2161506 </td><td> 9912741</td><td>7</td><td>SEA</td><td>A</td><td>5</td><td>66</td><td>0</td></tr>\n",
       "\t<tr><td>EP0000001</td><td>1978-12-20</td><td>EP19780200013</td><td>16428854</td><td>FR2025459</td><td>1970-09-11</td><td>FR</td><td>FR6942154 </td><td>19548401</td><td>7</td><td>SEA</td><td> </td><td>8</td><td>99</td><td>0</td></tr>\n",
       "\t<tr><td>EP0000001</td><td>1978-12-20</td><td>EP19780200013</td><td>16428854</td><td>US3532159</td><td>1970-10-06</td><td>US</td><td>US3532159D</td><td>49957875</td><td>7</td><td>SEA</td><td> </td><td>8</td><td>98</td><td>0</td></tr>\n",
       "\t<tr><td>EP0000001</td><td>1978-12-20</td><td>EP19780200013</td><td>16428854</td><td>US3568762</td><td>1971-03-09</td><td>US</td><td>US3568762D</td><td>50023219</td><td>7</td><td>SEA</td><td> </td><td>7</td><td>93</td><td>0</td></tr>\n",
       "\t<tr><td>EP0000001</td><td>1978-12-20</td><td>EP19780200013</td><td>16428854</td><td>US3913665</td><td>1975-10-21</td><td>US</td><td>US40265573</td><td>50609500</td><td>7</td><td>SEA</td><td> </td><td>3</td><td>38</td><td>0</td></tr>\n",
       "\t<tr><td>EP0000001</td><td>1978-12-20</td><td>EP19780200013</td><td>16428854</td><td>US4018269</td><td>1977-04-19</td><td>US</td><td>US46803374</td><td>51119449</td><td>7</td><td>SEA</td><td> </td><td>1</td><td>20</td><td>0</td></tr>\n",
       "</tbody>\n",
       "</table>\n"
      ],
      "text/latex": [
       "A data.table: 6 × 15\n",
       "\\begin{tabular}{lllllllllllllll}\n",
       " Citing\\_pub\\_nbr & Citing\\_pub\\_date & Citing\\_app\\_nbr & Citing\\_appln\\_id & Cited\\_pub\\_nbr & Cited\\_pub\\_date & Cited\\_App\\_auth & Cited\\_App\\_nbr & Cited\\_Appln\\_id & Cit\\_Total & Citn\\_origin & Citn\\_category & Citn\\_lag\\_year & Citn\\_lag\\_month & PCT\\_Route\\\\\n",
       " <chr> & <IDate> & <chr> & <int> & <chr> & <IDate> & <chr> & <chr> & <int> & <int> & <chr> & <chr> & <int> & <int> & <int>\\\\\n",
       "\\hline\n",
       "\t EP0000001 & 1978-12-20 & EP19780200013 & 16428854 & DE2161506 & 1973-06-14 & DE & DE2161506  &  9912741 & 7 & SEA & A & 5 & 66 & 0\\\\\n",
       "\t EP0000001 & 1978-12-20 & EP19780200013 & 16428854 & FR2025459 & 1970-09-11 & FR & FR6942154  & 19548401 & 7 & SEA &   & 8 & 99 & 0\\\\\n",
       "\t EP0000001 & 1978-12-20 & EP19780200013 & 16428854 & US3532159 & 1970-10-06 & US & US3532159D & 49957875 & 7 & SEA &   & 8 & 98 & 0\\\\\n",
       "\t EP0000001 & 1978-12-20 & EP19780200013 & 16428854 & US3568762 & 1971-03-09 & US & US3568762D & 50023219 & 7 & SEA &   & 7 & 93 & 0\\\\\n",
       "\t EP0000001 & 1978-12-20 & EP19780200013 & 16428854 & US3913665 & 1975-10-21 & US & US40265573 & 50609500 & 7 & SEA &   & 3 & 38 & 0\\\\\n",
       "\t EP0000001 & 1978-12-20 & EP19780200013 & 16428854 & US4018269 & 1977-04-19 & US & US46803374 & 51119449 & 7 & SEA &   & 1 & 20 & 0\\\\\n",
       "\\end{tabular}\n"
      ],
      "text/markdown": [
       "\n",
       "A data.table: 6 × 15\n",
       "\n",
       "| Citing_pub_nbr &lt;chr&gt; | Citing_pub_date &lt;IDate&gt; | Citing_app_nbr &lt;chr&gt; | Citing_appln_id &lt;int&gt; | Cited_pub_nbr &lt;chr&gt; | Cited_pub_date &lt;IDate&gt; | Cited_App_auth &lt;chr&gt; | Cited_App_nbr &lt;chr&gt; | Cited_Appln_id &lt;int&gt; | Cit_Total &lt;int&gt; | Citn_origin &lt;chr&gt; | Citn_category &lt;chr&gt; | Citn_lag_year &lt;int&gt; | Citn_lag_month &lt;int&gt; | PCT_Route &lt;int&gt; |\n",
       "|---|---|---|---|---|---|---|---|---|---|---|---|---|---|---|\n",
       "| EP0000001 | 1978-12-20 | EP19780200013 | 16428854 | DE2161506 | 1973-06-14 | DE | DE2161506  |  9912741 | 7 | SEA | A | 5 | 66 | 0 |\n",
       "| EP0000001 | 1978-12-20 | EP19780200013 | 16428854 | FR2025459 | 1970-09-11 | FR | FR6942154  | 19548401 | 7 | SEA | <!----> | 8 | 99 | 0 |\n",
       "| EP0000001 | 1978-12-20 | EP19780200013 | 16428854 | US3532159 | 1970-10-06 | US | US3532159D | 49957875 | 7 | SEA | <!----> | 8 | 98 | 0 |\n",
       "| EP0000001 | 1978-12-20 | EP19780200013 | 16428854 | US3568762 | 1971-03-09 | US | US3568762D | 50023219 | 7 | SEA | <!----> | 7 | 93 | 0 |\n",
       "| EP0000001 | 1978-12-20 | EP19780200013 | 16428854 | US3913665 | 1975-10-21 | US | US40265573 | 50609500 | 7 | SEA | <!----> | 3 | 38 | 0 |\n",
       "| EP0000001 | 1978-12-20 | EP19780200013 | 16428854 | US4018269 | 1977-04-19 | US | US46803374 | 51119449 | 7 | SEA | <!----> | 1 | 20 | 0 |\n",
       "\n"
      ],
      "text/plain": [
       "  Citing_pub_nbr Citing_pub_date Citing_app_nbr Citing_appln_id Cited_pub_nbr\n",
       "1 EP0000001      1978-12-20      EP19780200013  16428854        DE2161506    \n",
       "2 EP0000001      1978-12-20      EP19780200013  16428854        FR2025459    \n",
       "3 EP0000001      1978-12-20      EP19780200013  16428854        US3532159    \n",
       "4 EP0000001      1978-12-20      EP19780200013  16428854        US3568762    \n",
       "5 EP0000001      1978-12-20      EP19780200013  16428854        US3913665    \n",
       "6 EP0000001      1978-12-20      EP19780200013  16428854        US4018269    \n",
       "  Cited_pub_date Cited_App_auth Cited_App_nbr Cited_Appln_id Cit_Total\n",
       "1 1973-06-14     DE             DE2161506      9912741       7        \n",
       "2 1970-09-11     FR             FR6942154     19548401       7        \n",
       "3 1970-10-06     US             US3532159D    49957875       7        \n",
       "4 1971-03-09     US             US3568762D    50023219       7        \n",
       "5 1975-10-21     US             US40265573    50609500       7        \n",
       "6 1977-04-19     US             US46803374    51119449       7        \n",
       "  Citn_origin Citn_category Citn_lag_year Citn_lag_month PCT_Route\n",
       "1 SEA         A             5             66             0        \n",
       "2 SEA                       8             99             0        \n",
       "3 SEA                       8             98             0        \n",
       "4 SEA                       7             93             0        \n",
       "5 SEA                       3             38             0        \n",
       "6 SEA                       1             20             0        "
      ]
     },
     "metadata": {},
     "output_type": "display_data"
    }
   ],
   "source": [
    "head(epo_citations)"
   ]
  },
  {
   "cell_type": "code",
   "execution_count": 18,
   "metadata": {
    "vscode": {
     "languageId": "r"
    }
   },
   "outputs": [
    {
     "data": {
      "text/html": [
       "<table class=\"dataframe\">\n",
       "<caption>A data.table: 5 × 15</caption>\n",
       "<thead>\n",
       "\t<tr><th scope=col>Citing_pub_nbr</th><th scope=col>Citing_pub_date</th><th scope=col>Citing_app_nbr</th><th scope=col>Citing_appln_id</th><th scope=col>Cited_pub_nbr</th><th scope=col>Cited_pub_date</th><th scope=col>Cited_App_auth</th><th scope=col>Cited_App_nbr</th><th scope=col>Cited_Appln_id</th><th scope=col>Cit_Total</th><th scope=col>Citn_origin</th><th scope=col>Citn_category</th><th scope=col>Citn_lag_year</th><th scope=col>Citn_lag_month</th><th scope=col>PCT_Route</th></tr>\n",
       "\t<tr><th scope=col>&lt;chr&gt;</th><th scope=col>&lt;IDate&gt;</th><th scope=col>&lt;chr&gt;</th><th scope=col>&lt;int&gt;</th><th scope=col>&lt;chr&gt;</th><th scope=col>&lt;IDate&gt;</th><th scope=col>&lt;chr&gt;</th><th scope=col>&lt;chr&gt;</th><th scope=col>&lt;int&gt;</th><th scope=col>&lt;int&gt;</th><th scope=col>&lt;chr&gt;</th><th scope=col>&lt;chr&gt;</th><th scope=col>&lt;int&gt;</th><th scope=col>&lt;int&gt;</th><th scope=col>&lt;int&gt;</th></tr>\n",
       "</thead>\n",
       "<tbody>\n",
       "\t<tr><td>EP2030891</td><td>2009-03-04</td><td>EP20080010159</td><td>213</td><td>DE3141869     </td><td>1983-05-11</td><td>DE</td><td>DE3141869     </td><td>10572877</td><td>4</td><td>APP</td><td>  </td><td>26</td><td>310</td><td>0</td></tr>\n",
       "\t<tr><td>EP2030891</td><td>2009-03-04</td><td>EP20080010159</td><td>213</td><td>DE3141869     </td><td>1983-05-11</td><td>DE</td><td>DE3141869     </td><td>10572877</td><td>4</td><td>SEA</td><td>  </td><td>26</td><td>310</td><td>0</td></tr>\n",
       "\t<tr><td>EP2030891</td><td>2009-03-04</td><td>EP20080010159</td><td>213</td><td>DE3501887     </td><td>1986-07-24</td><td>DE</td><td>DE3501887     </td><td>10818969</td><td>4</td><td>SEA</td><td>XA</td><td>23</td><td>272</td><td>0</td></tr>\n",
       "\t<tr><td>EP2030891</td><td>2009-03-04</td><td>EP20080010159</td><td>213</td><td>DE102005002370</td><td>2006-07-27</td><td>DE</td><td>DE102005002370</td><td>14971442</td><td>4</td><td>SEA</td><td>Y </td><td> 3</td><td> 32</td><td>0</td></tr>\n",
       "\t<tr><td>EP2030891</td><td>2009-03-04</td><td>EP20080010159</td><td>213</td><td>DE102005045181</td><td>2007-04-05</td><td>DE</td><td>DE102005045181</td><td>15003772</td><td>4</td><td>SEA</td><td>Y </td><td> 2</td><td> 23</td><td>0</td></tr>\n",
       "</tbody>\n",
       "</table>\n"
      ],
      "text/latex": [
       "A data.table: 5 × 15\n",
       "\\begin{tabular}{lllllllllllllll}\n",
       " Citing\\_pub\\_nbr & Citing\\_pub\\_date & Citing\\_app\\_nbr & Citing\\_appln\\_id & Cited\\_pub\\_nbr & Cited\\_pub\\_date & Cited\\_App\\_auth & Cited\\_App\\_nbr & Cited\\_Appln\\_id & Cit\\_Total & Citn\\_origin & Citn\\_category & Citn\\_lag\\_year & Citn\\_lag\\_month & PCT\\_Route\\\\\n",
       " <chr> & <IDate> & <chr> & <int> & <chr> & <IDate> & <chr> & <chr> & <int> & <int> & <chr> & <chr> & <int> & <int> & <int>\\\\\n",
       "\\hline\n",
       "\t EP2030891 & 2009-03-04 & EP20080010159 & 213 & DE3141869      & 1983-05-11 & DE & DE3141869      & 10572877 & 4 & APP &    & 26 & 310 & 0\\\\\n",
       "\t EP2030891 & 2009-03-04 & EP20080010159 & 213 & DE3141869      & 1983-05-11 & DE & DE3141869      & 10572877 & 4 & SEA &    & 26 & 310 & 0\\\\\n",
       "\t EP2030891 & 2009-03-04 & EP20080010159 & 213 & DE3501887      & 1986-07-24 & DE & DE3501887      & 10818969 & 4 & SEA & XA & 23 & 272 & 0\\\\\n",
       "\t EP2030891 & 2009-03-04 & EP20080010159 & 213 & DE102005002370 & 2006-07-27 & DE & DE102005002370 & 14971442 & 4 & SEA & Y  &  3 &  32 & 0\\\\\n",
       "\t EP2030891 & 2009-03-04 & EP20080010159 & 213 & DE102005045181 & 2007-04-05 & DE & DE102005045181 & 15003772 & 4 & SEA & Y  &  2 &  23 & 0\\\\\n",
       "\\end{tabular}\n"
      ],
      "text/markdown": [
       "\n",
       "A data.table: 5 × 15\n",
       "\n",
       "| Citing_pub_nbr &lt;chr&gt; | Citing_pub_date &lt;IDate&gt; | Citing_app_nbr &lt;chr&gt; | Citing_appln_id &lt;int&gt; | Cited_pub_nbr &lt;chr&gt; | Cited_pub_date &lt;IDate&gt; | Cited_App_auth &lt;chr&gt; | Cited_App_nbr &lt;chr&gt; | Cited_Appln_id &lt;int&gt; | Cit_Total &lt;int&gt; | Citn_origin &lt;chr&gt; | Citn_category &lt;chr&gt; | Citn_lag_year &lt;int&gt; | Citn_lag_month &lt;int&gt; | PCT_Route &lt;int&gt; |\n",
       "|---|---|---|---|---|---|---|---|---|---|---|---|---|---|---|\n",
       "| EP2030891 | 2009-03-04 | EP20080010159 | 213 | DE3141869      | 1983-05-11 | DE | DE3141869      | 10572877 | 4 | APP | <!----> | 26 | 310 | 0 |\n",
       "| EP2030891 | 2009-03-04 | EP20080010159 | 213 | DE3141869      | 1983-05-11 | DE | DE3141869      | 10572877 | 4 | SEA | <!----> | 26 | 310 | 0 |\n",
       "| EP2030891 | 2009-03-04 | EP20080010159 | 213 | DE3501887      | 1986-07-24 | DE | DE3501887      | 10818969 | 4 | SEA | XA | 23 | 272 | 0 |\n",
       "| EP2030891 | 2009-03-04 | EP20080010159 | 213 | DE102005002370 | 2006-07-27 | DE | DE102005002370 | 14971442 | 4 | SEA | Y  |  3 |  32 | 0 |\n",
       "| EP2030891 | 2009-03-04 | EP20080010159 | 213 | DE102005045181 | 2007-04-05 | DE | DE102005045181 | 15003772 | 4 | SEA | Y  |  2 |  23 | 0 |\n",
       "\n"
      ],
      "text/plain": [
       "  Citing_pub_nbr Citing_pub_date Citing_app_nbr Citing_appln_id Cited_pub_nbr \n",
       "1 EP2030891      2009-03-04      EP20080010159  213             DE3141869     \n",
       "2 EP2030891      2009-03-04      EP20080010159  213             DE3141869     \n",
       "3 EP2030891      2009-03-04      EP20080010159  213             DE3501887     \n",
       "4 EP2030891      2009-03-04      EP20080010159  213             DE102005002370\n",
       "5 EP2030891      2009-03-04      EP20080010159  213             DE102005045181\n",
       "  Cited_pub_date Cited_App_auth Cited_App_nbr  Cited_Appln_id Cit_Total\n",
       "1 1983-05-11     DE             DE3141869      10572877       4        \n",
       "2 1983-05-11     DE             DE3141869      10572877       4        \n",
       "3 1986-07-24     DE             DE3501887      10818969       4        \n",
       "4 2006-07-27     DE             DE102005002370 14971442       4        \n",
       "5 2007-04-05     DE             DE102005045181 15003772       4        \n",
       "  Citn_origin Citn_category Citn_lag_year Citn_lag_month PCT_Route\n",
       "1 APP                       26            310            0        \n",
       "2 SEA                       26            310            0        \n",
       "3 SEA         XA            23            272            0        \n",
       "4 SEA         Y              3             32            0        \n",
       "5 SEA         Y              2             23            0        "
      ]
     },
     "metadata": {},
     "output_type": "display_data"
    }
   ],
   "source": [
    "epo_citations %>%\n",
    "    .[Citing_pub_nbr == 'EP2030891']"
   ]
  },
  {
   "cell_type": "code",
   "execution_count": 19,
   "metadata": {
    "vscode": {
     "languageId": "r"
    }
   },
   "outputs": [],
   "source": [
    "epo_cit_counts <- fread('./data/202208_EPO_CIT_COUNTS.txt')"
   ]
  },
  {
   "cell_type": "code",
   "execution_count": 20,
   "metadata": {
    "vscode": {
     "languageId": "r"
    }
   },
   "outputs": [
    {
     "data": {
      "text/html": [
       "<style>\n",
       ".list-inline {list-style: none; margin:0; padding: 0}\n",
       ".list-inline>li {display: inline-block}\n",
       ".list-inline>li:not(:last-child)::after {content: \"\\00b7\"; padding: 0 .5ex}\n",
       "</style>\n",
       "<ol class=list-inline><li>2597090</li><li>35</li></ol>\n"
      ],
      "text/latex": [
       "\\begin{enumerate*}\n",
       "\\item 2597090\n",
       "\\item 35\n",
       "\\end{enumerate*}\n"
      ],
      "text/markdown": [
       "1. 2597090\n",
       "2. 35\n",
       "\n",
       "\n"
      ],
      "text/plain": [
       "[1] 2597090      35"
      ]
     },
     "metadata": {},
     "output_type": "display_data"
    }
   ],
   "source": [
    "dim(epo_cit_counts)"
   ]
  },
  {
   "cell_type": "code",
   "execution_count": 21,
   "metadata": {
    "vscode": {
     "languageId": "r"
    }
   },
   "outputs": [
    {
     "data": {
      "text/html": [
       "<table class=\"dataframe\">\n",
       "<caption>A data.table: 6 × 35</caption>\n",
       "<thead>\n",
       "\t<tr><th scope=col>EP_Pub_nbr</th><th scope=col>EP_Pub_date</th><th scope=col>EP_Appln_id</th><th scope=col>WO_Pub_nbr</th><th scope=col>WO_Appln_id</th><th scope=col>EP_Grant</th><th scope=col>Withdrawal</th><th scope=col>Refusal</th><th scope=col>EP_Pat_Cits</th><th scope=col>EP_NPL_Cits</th><th scope=col>⋯</th><th scope=col>Recd_asWO_byWO</th><th scope=col>Direct_cits_Recd</th><th scope=col>Recd_asEQV_byEP</th><th scope=col>Recd_asEQV_byWO</th><th scope=col>Total_cits_Recd</th><th scope=col>Recd_in3_asEP</th><th scope=col>Recd_in3_asWO</th><th scope=col>Direct_cits_Recd_in3</th><th scope=col>Recd_in3_asEQV</th><th scope=col>Total_cits_Recd_in3</th></tr>\n",
       "\t<tr><th scope=col>&lt;chr&gt;</th><th scope=col>&lt;int&gt;</th><th scope=col>&lt;int&gt;</th><th scope=col>&lt;chr&gt;</th><th scope=col>&lt;int&gt;</th><th scope=col>&lt;int&gt;</th><th scope=col>&lt;int&gt;</th><th scope=col>&lt;int&gt;</th><th scope=col>&lt;int&gt;</th><th scope=col>&lt;int&gt;</th><th scope=col>⋯</th><th scope=col>&lt;int&gt;</th><th scope=col>&lt;int&gt;</th><th scope=col>&lt;int&gt;</th><th scope=col>&lt;int&gt;</th><th scope=col>&lt;int&gt;</th><th scope=col>&lt;int&gt;</th><th scope=col>&lt;int&gt;</th><th scope=col>&lt;int&gt;</th><th scope=col>&lt;int&gt;</th><th scope=col>&lt;int&gt;</th></tr>\n",
       "</thead>\n",
       "<tbody>\n",
       "\t<tr><td>EP0000001</td><td>19781220</td><td>16428854</td><td></td><td>NA</td><td>19810107</td><td>0</td><td>0</td><td>7</td><td>0</td><td>⋯</td><td>0</td><td>2</td><td>0</td><td>2</td><td>4</td><td>1</td><td>0</td><td>1</td><td>0</td><td>1</td></tr>\n",
       "\t<tr><td>EP0000002</td><td>19781220</td><td>16427091</td><td></td><td>NA</td><td>19810826</td><td>0</td><td>0</td><td>2</td><td>1</td><td>⋯</td><td>0</td><td>4</td><td>0</td><td>0</td><td>4</td><td>1</td><td>0</td><td>1</td><td>0</td><td>1</td></tr>\n",
       "\t<tr><td>EP0000003</td><td>19781220</td><td>16429215</td><td></td><td>NA</td><td>      NA</td><td>1</td><td>0</td><td>1</td><td>0</td><td>⋯</td><td>0</td><td>0</td><td>0</td><td>0</td><td>0</td><td>0</td><td>0</td><td>0</td><td>0</td><td>0</td></tr>\n",
       "\t<tr><td>EP0000004</td><td>19781220</td><td>16427120</td><td></td><td>NA</td><td>19800903</td><td>0</td><td>0</td><td>4</td><td>0</td><td>⋯</td><td>0</td><td>0</td><td>0</td><td>0</td><td>0</td><td>0</td><td>0</td><td>0</td><td>0</td><td>0</td></tr>\n",
       "\t<tr><td>EP0000005</td><td>19781220</td><td>16427159</td><td></td><td>NA</td><td>19801029</td><td>0</td><td>0</td><td>3</td><td>0</td><td>⋯</td><td>0</td><td>4</td><td>1</td><td>0</td><td>5</td><td>1</td><td>0</td><td>1</td><td>1</td><td>2</td></tr>\n",
       "\t<tr><td>EP0000006</td><td>19781220</td><td>16428868</td><td></td><td>NA</td><td>19810204</td><td>0</td><td>0</td><td>3</td><td>2</td><td>⋯</td><td>0</td><td>1</td><td>0</td><td>0</td><td>1</td><td>0</td><td>0</td><td>0</td><td>0</td><td>0</td></tr>\n",
       "</tbody>\n",
       "</table>\n"
      ],
      "text/latex": [
       "A data.table: 6 × 35\n",
       "\\begin{tabular}{lllllllllllllllllllll}\n",
       " EP\\_Pub\\_nbr & EP\\_Pub\\_date & EP\\_Appln\\_id & WO\\_Pub\\_nbr & WO\\_Appln\\_id & EP\\_Grant & Withdrawal & Refusal & EP\\_Pat\\_Cits & EP\\_NPL\\_Cits & ⋯ & Recd\\_asWO\\_byWO & Direct\\_cits\\_Recd & Recd\\_asEQV\\_byEP & Recd\\_asEQV\\_byWO & Total\\_cits\\_Recd & Recd\\_in3\\_asEP & Recd\\_in3\\_asWO & Direct\\_cits\\_Recd\\_in3 & Recd\\_in3\\_asEQV & Total\\_cits\\_Recd\\_in3\\\\\n",
       " <chr> & <int> & <int> & <chr> & <int> & <int> & <int> & <int> & <int> & <int> & ⋯ & <int> & <int> & <int> & <int> & <int> & <int> & <int> & <int> & <int> & <int>\\\\\n",
       "\\hline\n",
       "\t EP0000001 & 19781220 & 16428854 &  & NA & 19810107 & 0 & 0 & 7 & 0 & ⋯ & 0 & 2 & 0 & 2 & 4 & 1 & 0 & 1 & 0 & 1\\\\\n",
       "\t EP0000002 & 19781220 & 16427091 &  & NA & 19810826 & 0 & 0 & 2 & 1 & ⋯ & 0 & 4 & 0 & 0 & 4 & 1 & 0 & 1 & 0 & 1\\\\\n",
       "\t EP0000003 & 19781220 & 16429215 &  & NA &       NA & 1 & 0 & 1 & 0 & ⋯ & 0 & 0 & 0 & 0 & 0 & 0 & 0 & 0 & 0 & 0\\\\\n",
       "\t EP0000004 & 19781220 & 16427120 &  & NA & 19800903 & 0 & 0 & 4 & 0 & ⋯ & 0 & 0 & 0 & 0 & 0 & 0 & 0 & 0 & 0 & 0\\\\\n",
       "\t EP0000005 & 19781220 & 16427159 &  & NA & 19801029 & 0 & 0 & 3 & 0 & ⋯ & 0 & 4 & 1 & 0 & 5 & 1 & 0 & 1 & 1 & 2\\\\\n",
       "\t EP0000006 & 19781220 & 16428868 &  & NA & 19810204 & 0 & 0 & 3 & 2 & ⋯ & 0 & 1 & 0 & 0 & 1 & 0 & 0 & 0 & 0 & 0\\\\\n",
       "\\end{tabular}\n"
      ],
      "text/markdown": [
       "\n",
       "A data.table: 6 × 35\n",
       "\n",
       "| EP_Pub_nbr &lt;chr&gt; | EP_Pub_date &lt;int&gt; | EP_Appln_id &lt;int&gt; | WO_Pub_nbr &lt;chr&gt; | WO_Appln_id &lt;int&gt; | EP_Grant &lt;int&gt; | Withdrawal &lt;int&gt; | Refusal &lt;int&gt; | EP_Pat_Cits &lt;int&gt; | EP_NPL_Cits &lt;int&gt; | ⋯ ⋯ | Recd_asWO_byWO &lt;int&gt; | Direct_cits_Recd &lt;int&gt; | Recd_asEQV_byEP &lt;int&gt; | Recd_asEQV_byWO &lt;int&gt; | Total_cits_Recd &lt;int&gt; | Recd_in3_asEP &lt;int&gt; | Recd_in3_asWO &lt;int&gt; | Direct_cits_Recd_in3 &lt;int&gt; | Recd_in3_asEQV &lt;int&gt; | Total_cits_Recd_in3 &lt;int&gt; |\n",
       "|---|---|---|---|---|---|---|---|---|---|---|---|---|---|---|---|---|---|---|---|---|\n",
       "| EP0000001 | 19781220 | 16428854 | <!----> | NA | 19810107 | 0 | 0 | 7 | 0 | ⋯ | 0 | 2 | 0 | 2 | 4 | 1 | 0 | 1 | 0 | 1 |\n",
       "| EP0000002 | 19781220 | 16427091 | <!----> | NA | 19810826 | 0 | 0 | 2 | 1 | ⋯ | 0 | 4 | 0 | 0 | 4 | 1 | 0 | 1 | 0 | 1 |\n",
       "| EP0000003 | 19781220 | 16429215 | <!----> | NA |       NA | 1 | 0 | 1 | 0 | ⋯ | 0 | 0 | 0 | 0 | 0 | 0 | 0 | 0 | 0 | 0 |\n",
       "| EP0000004 | 19781220 | 16427120 | <!----> | NA | 19800903 | 0 | 0 | 4 | 0 | ⋯ | 0 | 0 | 0 | 0 | 0 | 0 | 0 | 0 | 0 | 0 |\n",
       "| EP0000005 | 19781220 | 16427159 | <!----> | NA | 19801029 | 0 | 0 | 3 | 0 | ⋯ | 0 | 4 | 1 | 0 | 5 | 1 | 0 | 1 | 1 | 2 |\n",
       "| EP0000006 | 19781220 | 16428868 | <!----> | NA | 19810204 | 0 | 0 | 3 | 2 | ⋯ | 0 | 1 | 0 | 0 | 1 | 0 | 0 | 0 | 0 | 0 |\n",
       "\n"
      ],
      "text/plain": [
       "  EP_Pub_nbr EP_Pub_date EP_Appln_id WO_Pub_nbr WO_Appln_id EP_Grant Withdrawal\n",
       "1 EP0000001  19781220    16428854               NA          19810107 0         \n",
       "2 EP0000002  19781220    16427091               NA          19810826 0         \n",
       "3 EP0000003  19781220    16429215               NA                NA 1         \n",
       "4 EP0000004  19781220    16427120               NA          19800903 0         \n",
       "5 EP0000005  19781220    16427159               NA          19801029 0         \n",
       "6 EP0000006  19781220    16428868               NA          19810204 0         \n",
       "  Refusal EP_Pat_Cits EP_NPL_Cits ⋯ Recd_asWO_byWO Direct_cits_Recd\n",
       "1 0       7           0           ⋯ 0              2               \n",
       "2 0       2           1           ⋯ 0              4               \n",
       "3 0       1           0           ⋯ 0              0               \n",
       "4 0       4           0           ⋯ 0              0               \n",
       "5 0       3           0           ⋯ 0              4               \n",
       "6 0       3           2           ⋯ 0              1               \n",
       "  Recd_asEQV_byEP Recd_asEQV_byWO Total_cits_Recd Recd_in3_asEP Recd_in3_asWO\n",
       "1 0               2               4               1             0            \n",
       "2 0               0               4               1             0            \n",
       "3 0               0               0               0             0            \n",
       "4 0               0               0               0             0            \n",
       "5 1               0               5               1             0            \n",
       "6 0               0               1               0             0            \n",
       "  Direct_cits_Recd_in3 Recd_in3_asEQV Total_cits_Recd_in3\n",
       "1 1                    0              1                  \n",
       "2 1                    0              1                  \n",
       "3 0                    0              0                  \n",
       "4 0                    0              0                  \n",
       "5 1                    1              2                  \n",
       "6 0                    0              0                  "
      ]
     },
     "metadata": {},
     "output_type": "display_data"
    }
   ],
   "source": [
    "head(epo_cit_counts)"
   ]
  },
  {
   "cell_type": "code",
   "execution_count": 24,
   "metadata": {
    "vscode": {
     "languageId": "r"
    }
   },
   "outputs": [
    {
     "data": {
      "text/html": [
       "<table class=\"dataframe\">\n",
       "<caption>A data.table: 1 × 35</caption>\n",
       "<thead>\n",
       "\t<tr><th scope=col>EP_Pub_nbr</th><th scope=col>EP_Pub_date</th><th scope=col>EP_Appln_id</th><th scope=col>WO_Pub_nbr</th><th scope=col>WO_Appln_id</th><th scope=col>EP_Grant</th><th scope=col>Withdrawal</th><th scope=col>Refusal</th><th scope=col>EP_Pat_Cits</th><th scope=col>EP_NPL_Cits</th><th scope=col>⋯</th><th scope=col>Recd_asWO_byWO</th><th scope=col>Direct_cits_Recd</th><th scope=col>Recd_asEQV_byEP</th><th scope=col>Recd_asEQV_byWO</th><th scope=col>Total_cits_Recd</th><th scope=col>Recd_in3_asEP</th><th scope=col>Recd_in3_asWO</th><th scope=col>Direct_cits_Recd_in3</th><th scope=col>Recd_in3_asEQV</th><th scope=col>Total_cits_Recd_in3</th></tr>\n",
       "\t<tr><th scope=col>&lt;chr&gt;</th><th scope=col>&lt;int&gt;</th><th scope=col>&lt;int&gt;</th><th scope=col>&lt;chr&gt;</th><th scope=col>&lt;int&gt;</th><th scope=col>&lt;int&gt;</th><th scope=col>&lt;int&gt;</th><th scope=col>&lt;int&gt;</th><th scope=col>&lt;int&gt;</th><th scope=col>&lt;int&gt;</th><th scope=col>⋯</th><th scope=col>&lt;int&gt;</th><th scope=col>&lt;int&gt;</th><th scope=col>&lt;int&gt;</th><th scope=col>&lt;int&gt;</th><th scope=col>&lt;int&gt;</th><th scope=col>&lt;int&gt;</th><th scope=col>&lt;int&gt;</th><th scope=col>&lt;int&gt;</th><th scope=col>&lt;int&gt;</th><th scope=col>&lt;int&gt;</th></tr>\n",
       "</thead>\n",
       "<tbody>\n",
       "\t<tr><td>EP1920908</td><td>20080514</td><td>156990</td><td></td><td>NA</td><td>20150408</td><td>0</td><td>0</td><td>4</td><td>0</td><td>⋯</td><td>0</td><td>4</td><td>0</td><td>1</td><td>5</td><td>1</td><td>0</td><td>1</td><td>0</td><td>1</td></tr>\n",
       "</tbody>\n",
       "</table>\n"
      ],
      "text/latex": [
       "A data.table: 1 × 35\n",
       "\\begin{tabular}{lllllllllllllllllllll}\n",
       " EP\\_Pub\\_nbr & EP\\_Pub\\_date & EP\\_Appln\\_id & WO\\_Pub\\_nbr & WO\\_Appln\\_id & EP\\_Grant & Withdrawal & Refusal & EP\\_Pat\\_Cits & EP\\_NPL\\_Cits & ⋯ & Recd\\_asWO\\_byWO & Direct\\_cits\\_Recd & Recd\\_asEQV\\_byEP & Recd\\_asEQV\\_byWO & Total\\_cits\\_Recd & Recd\\_in3\\_asEP & Recd\\_in3\\_asWO & Direct\\_cits\\_Recd\\_in3 & Recd\\_in3\\_asEQV & Total\\_cits\\_Recd\\_in3\\\\\n",
       " <chr> & <int> & <int> & <chr> & <int> & <int> & <int> & <int> & <int> & <int> & ⋯ & <int> & <int> & <int> & <int> & <int> & <int> & <int> & <int> & <int> & <int>\\\\\n",
       "\\hline\n",
       "\t EP1920908 & 20080514 & 156990 &  & NA & 20150408 & 0 & 0 & 4 & 0 & ⋯ & 0 & 4 & 0 & 1 & 5 & 1 & 0 & 1 & 0 & 1\\\\\n",
       "\\end{tabular}\n"
      ],
      "text/markdown": [
       "\n",
       "A data.table: 1 × 35\n",
       "\n",
       "| EP_Pub_nbr &lt;chr&gt; | EP_Pub_date &lt;int&gt; | EP_Appln_id &lt;int&gt; | WO_Pub_nbr &lt;chr&gt; | WO_Appln_id &lt;int&gt; | EP_Grant &lt;int&gt; | Withdrawal &lt;int&gt; | Refusal &lt;int&gt; | EP_Pat_Cits &lt;int&gt; | EP_NPL_Cits &lt;int&gt; | ⋯ ⋯ | Recd_asWO_byWO &lt;int&gt; | Direct_cits_Recd &lt;int&gt; | Recd_asEQV_byEP &lt;int&gt; | Recd_asEQV_byWO &lt;int&gt; | Total_cits_Recd &lt;int&gt; | Recd_in3_asEP &lt;int&gt; | Recd_in3_asWO &lt;int&gt; | Direct_cits_Recd_in3 &lt;int&gt; | Recd_in3_asEQV &lt;int&gt; | Total_cits_Recd_in3 &lt;int&gt; |\n",
       "|---|---|---|---|---|---|---|---|---|---|---|---|---|---|---|---|---|---|---|---|---|\n",
       "| EP1920908 | 20080514 | 156990 | <!----> | NA | 20150408 | 0 | 0 | 4 | 0 | ⋯ | 0 | 4 | 0 | 1 | 5 | 1 | 0 | 1 | 0 | 1 |\n",
       "\n"
      ],
      "text/plain": [
       "  EP_Pub_nbr EP_Pub_date EP_Appln_id WO_Pub_nbr WO_Appln_id EP_Grant Withdrawal\n",
       "1 EP1920908  20080514    156990                 NA          20150408 0         \n",
       "  Refusal EP_Pat_Cits EP_NPL_Cits ⋯ Recd_asWO_byWO Direct_cits_Recd\n",
       "1 0       4           0           ⋯ 0              4               \n",
       "  Recd_asEQV_byEP Recd_asEQV_byWO Total_cits_Recd Recd_in3_asEP Recd_in3_asWO\n",
       "1 0               1               5               1             0            \n",
       "  Direct_cits_Recd_in3 Recd_in3_asEQV Total_cits_Recd_in3\n",
       "1 1                    0              1                  "
      ]
     },
     "metadata": {},
     "output_type": "display_data"
    }
   ],
   "source": [
    "epo_cit_counts %>%\n",
    "    .[EP_Pub_nbr == 'EP1920908']"
   ]
  },
  {
   "cell_type": "code",
   "execution_count": 26,
   "metadata": {
    "vscode": {
     "languageId": "r"
    }
   },
   "outputs": [],
   "source": [
    "airbus_ep_application$patentNumber -> foo\n"
   ]
  },
  {
   "cell_type": "code",
   "execution_count": 32,
   "metadata": {
    "vscode": {
     "languageId": "r"
    }
   },
   "outputs": [],
   "source": [
    "airbus_ep_publications$patentNumber -> foo"
   ]
  },
  {
   "cell_type": "code",
   "execution_count": 33,
   "metadata": {
    "vscode": {
     "languageId": "r"
    }
   },
   "outputs": [
    {
     "data": {
      "text/html": [
       "<style>\n",
       ".list-inline {list-style: none; margin:0; padding: 0}\n",
       ".list-inline>li {display: inline-block}\n",
       ".list-inline>li:not(:last-child)::after {content: \"\\00b7\"; padding: 0 .5ex}\n",
       "</style>\n",
       "<ol class=list-inline><li>538</li><li>5</li></ol>\n"
      ],
      "text/latex": [
       "\\begin{enumerate*}\n",
       "\\item 538\n",
       "\\item 5\n",
       "\\end{enumerate*}\n"
      ],
      "text/markdown": [
       "1. 538\n",
       "2. 5\n",
       "\n",
       "\n"
      ],
      "text/plain": [
       "[1] 538   5"
      ]
     },
     "metadata": {},
     "output_type": "display_data"
    }
   ],
   "source": [
    "dim(airbus_ep_publications)"
   ]
  },
  {
   "cell_type": "code",
   "execution_count": 49,
   "metadata": {
    "vscode": {
     "languageId": "r"
    }
   },
   "outputs": [
    {
     "name": "stdout",
     "output_type": "stream",
     "text": [
      "[1] \"EP3173338\" \"EP3883144\" \"EP2571764\" \"EP3045560\" \"EP2757350\"\n"
     ]
    },
    {
     "data": {
      "text/html": [
       "<table class=\"dataframe\">\n",
       "<caption>A data.table: 3 × 35</caption>\n",
       "<thead>\n",
       "\t<tr><th scope=col>EP_Pub_nbr</th><th scope=col>EP_Pub_date</th><th scope=col>EP_Appln_id</th><th scope=col>WO_Pub_nbr</th><th scope=col>WO_Appln_id</th><th scope=col>EP_Grant</th><th scope=col>Withdrawal</th><th scope=col>Refusal</th><th scope=col>EP_Pat_Cits</th><th scope=col>EP_NPL_Cits</th><th scope=col>⋯</th><th scope=col>Recd_asWO_byWO</th><th scope=col>Direct_cits_Recd</th><th scope=col>Recd_asEQV_byEP</th><th scope=col>Recd_asEQV_byWO</th><th scope=col>Total_cits_Recd</th><th scope=col>Recd_in3_asEP</th><th scope=col>Recd_in3_asWO</th><th scope=col>Direct_cits_Recd_in3</th><th scope=col>Recd_in3_asEQV</th><th scope=col>Total_cits_Recd_in3</th></tr>\n",
       "\t<tr><th scope=col>&lt;chr&gt;</th><th scope=col>&lt;int&gt;</th><th scope=col>&lt;int&gt;</th><th scope=col>&lt;chr&gt;</th><th scope=col>&lt;int&gt;</th><th scope=col>&lt;int&gt;</th><th scope=col>&lt;int&gt;</th><th scope=col>&lt;int&gt;</th><th scope=col>&lt;int&gt;</th><th scope=col>&lt;int&gt;</th><th scope=col>⋯</th><th scope=col>&lt;int&gt;</th><th scope=col>&lt;int&gt;</th><th scope=col>&lt;int&gt;</th><th scope=col>&lt;int&gt;</th><th scope=col>&lt;int&gt;</th><th scope=col>&lt;int&gt;</th><th scope=col>&lt;int&gt;</th><th scope=col>&lt;int&gt;</th><th scope=col>&lt;int&gt;</th><th scope=col>&lt;int&gt;</th></tr>\n",
       "</thead>\n",
       "<tbody>\n",
       "\t<tr><td>EP2757350</td><td>20140723</td><td>380983809</td><td></td><td>NA</td><td>20150916</td><td>0</td><td>0</td><td> 3</td><td>0</td><td>⋯</td><td>0</td><td>0</td><td>0</td><td>1</td><td>1</td><td>0</td><td>0</td><td>0</td><td>0</td><td>0</td></tr>\n",
       "\t<tr><td>EP3045560</td><td>20160720</td><td>448472760</td><td></td><td>NA</td><td>      NA</td><td>0</td><td>0</td><td> 3</td><td>1</td><td>⋯</td><td>0</td><td>0</td><td>0</td><td>0</td><td>0</td><td>0</td><td>0</td><td>0</td><td>0</td><td>0</td></tr>\n",
       "\t<tr><td>EP3173338</td><td>20170531</td><td>471830403</td><td></td><td>NA</td><td>      NA</td><td>0</td><td>0</td><td>10</td><td>0</td><td>⋯</td><td>0</td><td>2</td><td>0</td><td>0</td><td>2</td><td>1</td><td>0</td><td>1</td><td>0</td><td>1</td></tr>\n",
       "</tbody>\n",
       "</table>\n"
      ],
      "text/latex": [
       "A data.table: 3 × 35\n",
       "\\begin{tabular}{lllllllllllllllllllll}\n",
       " EP\\_Pub\\_nbr & EP\\_Pub\\_date & EP\\_Appln\\_id & WO\\_Pub\\_nbr & WO\\_Appln\\_id & EP\\_Grant & Withdrawal & Refusal & EP\\_Pat\\_Cits & EP\\_NPL\\_Cits & ⋯ & Recd\\_asWO\\_byWO & Direct\\_cits\\_Recd & Recd\\_asEQV\\_byEP & Recd\\_asEQV\\_byWO & Total\\_cits\\_Recd & Recd\\_in3\\_asEP & Recd\\_in3\\_asWO & Direct\\_cits\\_Recd\\_in3 & Recd\\_in3\\_asEQV & Total\\_cits\\_Recd\\_in3\\\\\n",
       " <chr> & <int> & <int> & <chr> & <int> & <int> & <int> & <int> & <int> & <int> & ⋯ & <int> & <int> & <int> & <int> & <int> & <int> & <int> & <int> & <int> & <int>\\\\\n",
       "\\hline\n",
       "\t EP2757350 & 20140723 & 380983809 &  & NA & 20150916 & 0 & 0 &  3 & 0 & ⋯ & 0 & 0 & 0 & 1 & 1 & 0 & 0 & 0 & 0 & 0\\\\\n",
       "\t EP3045560 & 20160720 & 448472760 &  & NA &       NA & 0 & 0 &  3 & 1 & ⋯ & 0 & 0 & 0 & 0 & 0 & 0 & 0 & 0 & 0 & 0\\\\\n",
       "\t EP3173338 & 20170531 & 471830403 &  & NA &       NA & 0 & 0 & 10 & 0 & ⋯ & 0 & 2 & 0 & 0 & 2 & 1 & 0 & 1 & 0 & 1\\\\\n",
       "\\end{tabular}\n"
      ],
      "text/markdown": [
       "\n",
       "A data.table: 3 × 35\n",
       "\n",
       "| EP_Pub_nbr &lt;chr&gt; | EP_Pub_date &lt;int&gt; | EP_Appln_id &lt;int&gt; | WO_Pub_nbr &lt;chr&gt; | WO_Appln_id &lt;int&gt; | EP_Grant &lt;int&gt; | Withdrawal &lt;int&gt; | Refusal &lt;int&gt; | EP_Pat_Cits &lt;int&gt; | EP_NPL_Cits &lt;int&gt; | ⋯ ⋯ | Recd_asWO_byWO &lt;int&gt; | Direct_cits_Recd &lt;int&gt; | Recd_asEQV_byEP &lt;int&gt; | Recd_asEQV_byWO &lt;int&gt; | Total_cits_Recd &lt;int&gt; | Recd_in3_asEP &lt;int&gt; | Recd_in3_asWO &lt;int&gt; | Direct_cits_Recd_in3 &lt;int&gt; | Recd_in3_asEQV &lt;int&gt; | Total_cits_Recd_in3 &lt;int&gt; |\n",
       "|---|---|---|---|---|---|---|---|---|---|---|---|---|---|---|---|---|---|---|---|---|\n",
       "| EP2757350 | 20140723 | 380983809 | <!----> | NA | 20150916 | 0 | 0 |  3 | 0 | ⋯ | 0 | 0 | 0 | 1 | 1 | 0 | 0 | 0 | 0 | 0 |\n",
       "| EP3045560 | 20160720 | 448472760 | <!----> | NA |       NA | 0 | 0 |  3 | 1 | ⋯ | 0 | 0 | 0 | 0 | 0 | 0 | 0 | 0 | 0 | 0 |\n",
       "| EP3173338 | 20170531 | 471830403 | <!----> | NA |       NA | 0 | 0 | 10 | 0 | ⋯ | 0 | 2 | 0 | 0 | 2 | 1 | 0 | 1 | 0 | 1 |\n",
       "\n"
      ],
      "text/plain": [
       "  EP_Pub_nbr EP_Pub_date EP_Appln_id WO_Pub_nbr WO_Appln_id EP_Grant Withdrawal\n",
       "1 EP2757350  20140723    380983809              NA          20150916 0         \n",
       "2 EP3045560  20160720    448472760              NA                NA 0         \n",
       "3 EP3173338  20170531    471830403              NA                NA 0         \n",
       "  Refusal EP_Pat_Cits EP_NPL_Cits ⋯ Recd_asWO_byWO Direct_cits_Recd\n",
       "1 0        3          0           ⋯ 0              0               \n",
       "2 0        3          1           ⋯ 0              0               \n",
       "3 0       10          0           ⋯ 0              2               \n",
       "  Recd_asEQV_byEP Recd_asEQV_byWO Total_cits_Recd Recd_in3_asEP Recd_in3_asWO\n",
       "1 0               1               1               0             0            \n",
       "2 0               0               0               0             0            \n",
       "3 0               0               2               1             0            \n",
       "  Direct_cits_Recd_in3 Recd_in3_asEQV Total_cits_Recd_in3\n",
       "1 0                    0              0                  \n",
       "2 0                    0              0                  \n",
       "3 1                    0              1                  "
      ]
     },
     "metadata": {},
     "output_type": "display_data"
    }
   ],
   "source": [
    "sample(foo, 5) -> foo_sample\n",
    "print(foo_sample)\n",
    "epo_cit_counts %>%\n",
    "    .[EP_Pub_nbr %in% foo_sample] %>%\n",
    "    head(10)"
   ]
  },
  {
   "cell_type": "code",
   "execution_count": 45,
   "metadata": {
    "vscode": {
     "languageId": "r"
    }
   },
   "outputs": [
    {
     "data": {
      "text/html": [
       "<style>\n",
       ".list-inline {list-style: none; margin:0; padding: 0}\n",
       ".list-inline>li {display: inline-block}\n",
       ".list-inline>li:not(:last-child)::after {content: \"\\00b7\"; padding: 0 .5ex}\n",
       "</style>\n",
       "<ol class=list-inline><li>'EP_Pub_nbr'</li><li>'EP_Pub_date'</li><li>'EP_Appln_id'</li><li>'WO_Pub_nbr'</li><li>'WO_Appln_id'</li><li>'EP_Grant'</li><li>'Withdrawal'</li><li>'Refusal'</li><li>'EP_Pat_Cits'</li><li>'EP_NPL_Cits'</li><li>'WO_Pat_Cits'</li><li>'WO_NPL_Cits'</li><li>'Total_Pat_Cits'</li><li>'Total_NPL_Cits'</li><li>'Total_Cits'</li><li>'EP_Pat_XCits'</li><li>'EP_NPL_XCits'</li><li>'WO_Pat_XCits'</li><li>'WO_NPL_XCits'</li><li>'Total_Pat_XCits'</li><li>'Total_NPL_XCits'</li><li>'Total_XCits'</li><li>'Recd_asEP_byEP'</li><li>'Recd_asWO_byEP'</li><li>'Recd_asEP_byWO'</li><li>'Recd_asWO_byWO'</li><li>'Direct_cits_Recd'</li><li>'Recd_asEQV_byEP'</li><li>'Recd_asEQV_byWO'</li><li>'Total_cits_Recd'</li><li>'Recd_in3_asEP'</li><li>'Recd_in3_asWO'</li><li>'Direct_cits_Recd_in3'</li><li>'Recd_in3_asEQV'</li><li>'Total_cits_Recd_in3'</li></ol>\n"
      ],
      "text/latex": [
       "\\begin{enumerate*}\n",
       "\\item 'EP\\_Pub\\_nbr'\n",
       "\\item 'EP\\_Pub\\_date'\n",
       "\\item 'EP\\_Appln\\_id'\n",
       "\\item 'WO\\_Pub\\_nbr'\n",
       "\\item 'WO\\_Appln\\_id'\n",
       "\\item 'EP\\_Grant'\n",
       "\\item 'Withdrawal'\n",
       "\\item 'Refusal'\n",
       "\\item 'EP\\_Pat\\_Cits'\n",
       "\\item 'EP\\_NPL\\_Cits'\n",
       "\\item 'WO\\_Pat\\_Cits'\n",
       "\\item 'WO\\_NPL\\_Cits'\n",
       "\\item 'Total\\_Pat\\_Cits'\n",
       "\\item 'Total\\_NPL\\_Cits'\n",
       "\\item 'Total\\_Cits'\n",
       "\\item 'EP\\_Pat\\_XCits'\n",
       "\\item 'EP\\_NPL\\_XCits'\n",
       "\\item 'WO\\_Pat\\_XCits'\n",
       "\\item 'WO\\_NPL\\_XCits'\n",
       "\\item 'Total\\_Pat\\_XCits'\n",
       "\\item 'Total\\_NPL\\_XCits'\n",
       "\\item 'Total\\_XCits'\n",
       "\\item 'Recd\\_asEP\\_byEP'\n",
       "\\item 'Recd\\_asWO\\_byEP'\n",
       "\\item 'Recd\\_asEP\\_byWO'\n",
       "\\item 'Recd\\_asWO\\_byWO'\n",
       "\\item 'Direct\\_cits\\_Recd'\n",
       "\\item 'Recd\\_asEQV\\_byEP'\n",
       "\\item 'Recd\\_asEQV\\_byWO'\n",
       "\\item 'Total\\_cits\\_Recd'\n",
       "\\item 'Recd\\_in3\\_asEP'\n",
       "\\item 'Recd\\_in3\\_asWO'\n",
       "\\item 'Direct\\_cits\\_Recd\\_in3'\n",
       "\\item 'Recd\\_in3\\_asEQV'\n",
       "\\item 'Total\\_cits\\_Recd\\_in3'\n",
       "\\end{enumerate*}\n"
      ],
      "text/markdown": [
       "1. 'EP_Pub_nbr'\n",
       "2. 'EP_Pub_date'\n",
       "3. 'EP_Appln_id'\n",
       "4. 'WO_Pub_nbr'\n",
       "5. 'WO_Appln_id'\n",
       "6. 'EP_Grant'\n",
       "7. 'Withdrawal'\n",
       "8. 'Refusal'\n",
       "9. 'EP_Pat_Cits'\n",
       "10. 'EP_NPL_Cits'\n",
       "11. 'WO_Pat_Cits'\n",
       "12. 'WO_NPL_Cits'\n",
       "13. 'Total_Pat_Cits'\n",
       "14. 'Total_NPL_Cits'\n",
       "15. 'Total_Cits'\n",
       "16. 'EP_Pat_XCits'\n",
       "17. 'EP_NPL_XCits'\n",
       "18. 'WO_Pat_XCits'\n",
       "19. 'WO_NPL_XCits'\n",
       "20. 'Total_Pat_XCits'\n",
       "21. 'Total_NPL_XCits'\n",
       "22. 'Total_XCits'\n",
       "23. 'Recd_asEP_byEP'\n",
       "24. 'Recd_asWO_byEP'\n",
       "25. 'Recd_asEP_byWO'\n",
       "26. 'Recd_asWO_byWO'\n",
       "27. 'Direct_cits_Recd'\n",
       "28. 'Recd_asEQV_byEP'\n",
       "29. 'Recd_asEQV_byWO'\n",
       "30. 'Total_cits_Recd'\n",
       "31. 'Recd_in3_asEP'\n",
       "32. 'Recd_in3_asWO'\n",
       "33. 'Direct_cits_Recd_in3'\n",
       "34. 'Recd_in3_asEQV'\n",
       "35. 'Total_cits_Recd_in3'\n",
       "\n",
       "\n"
      ],
      "text/plain": [
       " [1] \"EP_Pub_nbr\"           \"EP_Pub_date\"          \"EP_Appln_id\"         \n",
       " [4] \"WO_Pub_nbr\"           \"WO_Appln_id\"          \"EP_Grant\"            \n",
       " [7] \"Withdrawal\"           \"Refusal\"              \"EP_Pat_Cits\"         \n",
       "[10] \"EP_NPL_Cits\"          \"WO_Pat_Cits\"          \"WO_NPL_Cits\"         \n",
       "[13] \"Total_Pat_Cits\"       \"Total_NPL_Cits\"       \"Total_Cits\"          \n",
       "[16] \"EP_Pat_XCits\"         \"EP_NPL_XCits\"         \"WO_Pat_XCits\"        \n",
       "[19] \"WO_NPL_XCits\"         \"Total_Pat_XCits\"      \"Total_NPL_XCits\"     \n",
       "[22] \"Total_XCits\"          \"Recd_asEP_byEP\"       \"Recd_asWO_byEP\"      \n",
       "[25] \"Recd_asEP_byWO\"       \"Recd_asWO_byWO\"       \"Direct_cits_Recd\"    \n",
       "[28] \"Recd_asEQV_byEP\"      \"Recd_asEQV_byWO\"      \"Total_cits_Recd\"     \n",
       "[31] \"Recd_in3_asEP\"        \"Recd_in3_asWO\"        \"Direct_cits_Recd_in3\"\n",
       "[34] \"Recd_in3_asEQV\"       \"Total_cits_Recd_in3\" "
      ]
     },
     "metadata": {},
     "output_type": "display_data"
    }
   ],
   "source": [
    "colnames(epo_cit_counts)"
   ]
  },
  {
   "cell_type": "code",
   "execution_count": 46,
   "metadata": {
    "vscode": {
     "languageId": "r"
    }
   },
   "outputs": [
    {
     "data": {
      "text/html": [
       "<style>\n",
       ".list-inline {list-style: none; margin:0; padding: 0}\n",
       ".list-inline>li {display: inline-block}\n",
       ".list-inline>li:not(:last-child)::after {content: \"\\00b7\"; padding: 0 .5ex}\n",
       "</style>\n",
       "<ol class=list-inline><li>'Citing_pub_nbr'</li><li>'Citing_pub_date'</li><li>'Citing_app_nbr'</li><li>'Citing_appln_id'</li><li>'Cited_pub_nbr'</li><li>'Cited_pub_date'</li><li>'Cited_App_auth'</li><li>'Cited_App_nbr'</li><li>'Cited_Appln_id'</li><li>'Cit_Total'</li><li>'Citn_origin'</li><li>'Citn_category'</li><li>'Citn_lag_year'</li><li>'Citn_lag_month'</li><li>'PCT_Route'</li></ol>\n"
      ],
      "text/latex": [
       "\\begin{enumerate*}\n",
       "\\item 'Citing\\_pub\\_nbr'\n",
       "\\item 'Citing\\_pub\\_date'\n",
       "\\item 'Citing\\_app\\_nbr'\n",
       "\\item 'Citing\\_appln\\_id'\n",
       "\\item 'Cited\\_pub\\_nbr'\n",
       "\\item 'Cited\\_pub\\_date'\n",
       "\\item 'Cited\\_App\\_auth'\n",
       "\\item 'Cited\\_App\\_nbr'\n",
       "\\item 'Cited\\_Appln\\_id'\n",
       "\\item 'Cit\\_Total'\n",
       "\\item 'Citn\\_origin'\n",
       "\\item 'Citn\\_category'\n",
       "\\item 'Citn\\_lag\\_year'\n",
       "\\item 'Citn\\_lag\\_month'\n",
       "\\item 'PCT\\_Route'\n",
       "\\end{enumerate*}\n"
      ],
      "text/markdown": [
       "1. 'Citing_pub_nbr'\n",
       "2. 'Citing_pub_date'\n",
       "3. 'Citing_app_nbr'\n",
       "4. 'Citing_appln_id'\n",
       "5. 'Cited_pub_nbr'\n",
       "6. 'Cited_pub_date'\n",
       "7. 'Cited_App_auth'\n",
       "8. 'Cited_App_nbr'\n",
       "9. 'Cited_Appln_id'\n",
       "10. 'Cit_Total'\n",
       "11. 'Citn_origin'\n",
       "12. 'Citn_category'\n",
       "13. 'Citn_lag_year'\n",
       "14. 'Citn_lag_month'\n",
       "15. 'PCT_Route'\n",
       "\n",
       "\n"
      ],
      "text/plain": [
       " [1] \"Citing_pub_nbr\"  \"Citing_pub_date\" \"Citing_app_nbr\"  \"Citing_appln_id\"\n",
       " [5] \"Cited_pub_nbr\"   \"Cited_pub_date\"  \"Cited_App_auth\"  \"Cited_App_nbr\"  \n",
       " [9] \"Cited_Appln_id\"  \"Cit_Total\"       \"Citn_origin\"     \"Citn_category\"  \n",
       "[13] \"Citn_lag_year\"   \"Citn_lag_month\"  \"PCT_Route\"      "
      ]
     },
     "metadata": {},
     "output_type": "display_data"
    }
   ],
   "source": [
    "colnames(epo_citations)"
   ]
  },
  {
   "cell_type": "code",
   "execution_count": null,
   "metadata": {
    "vscode": {
     "languageId": "r"
    }
   },
   "outputs": [],
   "source": []
  }
 ],
 "metadata": {
  "kernelspec": {
   "display_name": "R",
   "language": "R",
   "name": "ir"
  },
  "language_info": {
   "codemirror_mode": "r",
   "file_extension": ".r",
   "mimetype": "text/x-r-source",
   "name": "R",
   "pygments_lexer": "r",
   "version": "4.2.2"
  },
  "orig_nbformat": 4,
  "vscode": {
   "interpreter": {
    "hash": "16bff2c6a4793fe572f28f54bf2473ba4d5d1eb32d0a445bafdbd12ba8e85d21"
   }
  }
 },
 "nbformat": 4,
 "nbformat_minor": 2
}
