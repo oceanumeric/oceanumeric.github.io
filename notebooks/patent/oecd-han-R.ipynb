{
 "cells": [
  {
   "cell_type": "code",
   "execution_count": 1,
   "metadata": {
    "vscode": {
     "languageId": "r"
    }
   },
   "outputs": [],
   "source": [
    "# load packages \n",
    "library(pacman)\n",
    "p_load(\n",
    "    tidyverse, data.table, dtplyr, reshape2, \n",
    "    archive, kableExtra, SPARQL, janitor, \n",
    "    png, webp, Cairo, rsvg,\n",
    "    httr, jsonlite)\n",
    "# set option\n",
    "options(dplyr.summarise.inform = FALSE)\n",
    "gray_scale <- c('#F3F4F8','#D2D4DA',  '#bcc0ca', \n",
    "                '#D3D3D3', '#2B2B2B', \n",
    "                '#B3B5BD', '#838383', \n",
    "                '#9496A1', '#7d7f89', '#777986', \n",
    "                '#656673', '#5B5D6B', '#4d505e',\n",
    "                '#404352', '#2b2d3b', '#282A3A',\n",
    "                '#1b1c2a', '#191a2b',\n",
    "                '#141626', '#101223')"
   ]
  },
  {
   "cell_type": "code",
   "execution_count": 2,
   "metadata": {
    "vscode": {
     "languageId": "r"
    }
   },
   "outputs": [],
   "source": [
    "# set up working directory\n",
    "setwd('work/notebooks/patent')"
   ]
  },
  {
   "cell_type": "code",
   "execution_count": 62,
   "metadata": {
    "vscode": {
     "languageId": "r"
    }
   },
   "outputs": [
    {
     "data": {
      "text/html": [
       "<table class=\"dataframe\">\n",
       "<caption>A data.table: 1 × 4</caption>\n",
       "<thead>\n",
       "\t<tr><th></th><th scope=col>EP</th><th scope=col>US</th><th scope=col>WO</th><th scope=col>Total</th></tr>\n",
       "\t<tr><th></th><th scope=col>&lt;chr&gt;</th><th scope=col>&lt;chr&gt;</th><th scope=col>&lt;chr&gt;</th><th scope=col>&lt;chr&gt;</th></tr>\n",
       "</thead>\n",
       "<tbody>\n",
       "\t<tr><th scope=row>2</th><td>716</td><td>415</td><td>88</td><td>1219</td></tr>\n",
       "</tbody>\n",
       "</table>\n"
      ],
      "text/latex": [
       "A data.table: 1 × 4\n",
       "\\begin{tabular}{r|llll}\n",
       "  & EP & US & WO & Total\\\\\n",
       "  & <chr> & <chr> & <chr> & <chr>\\\\\n",
       "\\hline\n",
       "\t2 & 716 & 415 & 88 & 1219\\\\\n",
       "\\end{tabular}\n"
      ],
      "text/markdown": [
       "\n",
       "A data.table: 1 × 4\n",
       "\n",
       "| <!--/--> | EP &lt;chr&gt; | US &lt;chr&gt; | WO &lt;chr&gt; | Total &lt;chr&gt; |\n",
       "|---|---|---|---|---|\n",
       "| 2 | 716 | 415 | 88 | 1219 |\n",
       "\n"
      ],
      "text/plain": [
       "  EP  US  WO Total\n",
       "1 716 415 88 1219 "
      ]
     },
     "metadata": {},
     "output_type": "display_data"
    }
   ],
   "source": [
    "# Code-Block 5. Extract patents for one-company full code\n",
    "# read dataset 1, 2, and 3 \n",
    "de_firms <- fread('./data/orbis_de_matched_l.csv')\n",
    "han_names <- fread('./data/202208_HAN_NAMES.txt')\n",
    "han_patents <- fread('./data/202208_HAN_PATENTS.txt')\n",
    "\n",
    "# filter out germany firms from han_names \n",
    "# by setting Person_ctry_code == 'DE'\n",
    "# match names \"AIRBUS DEFENCE\" and get their HAN_ID\n",
    "airbus <- toupper('Airbus Defence')\n",
    "han_names %>%\n",
    "    .[Person_ctry_code == 'DE'] %>%\n",
    "    .[Clean_name %like% airbus] %>%\n",
    "    .[,HAN_ID] -> airbus_han_ids\n",
    "\n",
    "# calcualte the summary statistics for AIRBUS DEFENCE\n",
    "han_patents %>%\n",
    "    .[HAN_ID %in% airbus_han_ids] %>%\n",
    "    .[, .N, by=Publn_auth] -> foo\n",
    "    transform(adorn_totals(foo)) %>%\n",
    "    transpose() %>%\n",
    "    row_to_names(row_number=1)\n",
    "\n",
    "# focusing on patents from EPO\n",
    "# filter with condition Publn_auth == 'EP'\n",
    "han_patents %>%\n",
    "    .[HAN_ID %in% airbus_han_ids] -> airbus_han_patents\n",
    "\n",
    "# save the dataset\n",
    "write.csv(airbus_han_patents, './data/airbus_han_patents.csv', row.names=FALSE)"
   ]
  },
  {
   "cell_type": "code",
   "execution_count": 3,
   "metadata": {
    "vscode": {
     "languageId": "r"
    }
   },
   "outputs": [],
   "source": [
    "airbus_ep_application <- fread('./data/airbus_ep_applications.csv')"
   ]
  },
  {
   "cell_type": "code",
   "execution_count": 4,
   "metadata": {
    "vscode": {
     "languageId": "r"
    }
   },
   "outputs": [
    {
     "data": {
      "text/html": [
       "<style>\n",
       ".list-inline {list-style: none; margin:0; padding: 0}\n",
       ".list-inline>li {display: inline-block}\n",
       ".list-inline>li:not(:last-child)::after {content: \"\\00b7\"; padding: 0 .5ex}\n",
       "</style>\n",
       "<ol class=list-inline><li>716</li><li>7</li></ol>\n"
      ],
      "text/latex": [
       "\\begin{enumerate*}\n",
       "\\item 716\n",
       "\\item 7\n",
       "\\end{enumerate*}\n"
      ],
      "text/markdown": [
       "1. 716\n",
       "2. 7\n",
       "\n",
       "\n"
      ],
      "text/plain": [
       "[1] 716   7"
      ]
     },
     "metadata": {},
     "output_type": "display_data"
    }
   ],
   "source": [
    "dim(airbus_ep_application)"
   ]
  },
  {
   "cell_type": "code",
   "execution_count": 5,
   "metadata": {
    "vscode": {
     "languageId": "r"
    }
   },
   "outputs": [
    {
     "data": {
      "text/html": [
       "<table class=\"dataframe\">\n",
       "<caption>A data.table: 6 × 7</caption>\n",
       "<thead>\n",
       "\t<tr><th scope=col>patentNumber</th><th scope=col>applicationDate</th><th scope=col>granted</th><th scope=col>grantDate</th><th scope=col>familyID</th><th scope=col>cpcTags</th><th scope=col>publicationItems</th></tr>\n",
       "\t<tr><th scope=col>&lt;chr&gt;</th><th scope=col>&lt;chr&gt;</th><th scope=col>&lt;int&gt;</th><th scope=col>&lt;chr&gt;</th><th scope=col>&lt;int&gt;</th><th scope=col>&lt;chr&gt;</th><th scope=col>&lt;chr&gt;</th></tr>\n",
       "</thead>\n",
       "<tbody>\n",
       "\t<tr><td>EP2030891</td><td>Wed, 04 Jun 2008</td><td>0</td><td>                </td><td>39745168</td><td>B64C 1/068                                                                                                                                                                                                         </td><td>['EP 2030891 A2', 'EP 2030891 A3']                 </td></tr>\n",
       "\t<tr><td>EP2025928</td><td>Thu, 24 Jul 2008</td><td>0</td><td>                </td><td>40039666</td><td>['F03D 1/0675', 'F03D 3/062']                                                                                                                                                                                      </td><td>['EP 2025928 A2', 'EP 2025928 A3']                 </td></tr>\n",
       "\t<tr><td>EP1920908</td><td>Fri, 02 Nov 2007</td><td>1</td><td>Wed, 08 Apr 2015</td><td>39118022</td><td>['B29C 70/386', 'B29C 70/541', 'B29C 70/543', 'B29C 70/545', 'B29C 70/56']                                                                                                                                         </td><td>['EP 1920908 A1', 'EP 1920908 B1']                 </td></tr>\n",
       "\t<tr><td>EP1972896</td><td>Sat, 08 Mar 2008</td><td>1</td><td>Wed, 06 May 2015</td><td>39544979</td><td>G01C 23/00                                                                                                                                                                                                         </td><td>['EP 1972896 A2', 'EP 1972896 A3', 'EP 1972896 B1']</td></tr>\n",
       "\t<tr><td>EP2134522</td><td>Thu, 13 Mar 2008</td><td>1</td><td>Wed, 01 Mar 2017</td><td>39595708</td><td>['B29B 11/16', 'B29C 70/382', 'B29C 70/386', 'B29C 70/545', 'B65H 49/18', 'B65H 51/005', 'B65H 57/16', 'D02J 1/18', 'D04H 1/4242', 'D04H 1/60', 'D04H 1/655', 'D04H 13/00', 'D04H 3/002', 'D04H 3/04', 'D04H 3/12']</td><td>['EP 2134522 A1', 'EP 2134522 B1', 'EP 2134522 B8']</td></tr>\n",
       "\t<tr><td>EP2136979</td><td>Thu, 13 Mar 2008</td><td>1</td><td>Wed, 11 May 2016</td><td>39495747</td><td>['B29B 11/16', 'B29C 31/085', 'B29C 70/386', 'B29C 70/541', 'B29C 70/543', 'B29C 70/545']                                                                                                                          </td><td>['EP 2136979 A1', 'EP 2136979 B1']                 </td></tr>\n",
       "</tbody>\n",
       "</table>\n"
      ],
      "text/latex": [
       "A data.table: 6 × 7\n",
       "\\begin{tabular}{lllllll}\n",
       " patentNumber & applicationDate & granted & grantDate & familyID & cpcTags & publicationItems\\\\\n",
       " <chr> & <chr> & <int> & <chr> & <int> & <chr> & <chr>\\\\\n",
       "\\hline\n",
       "\t EP2030891 & Wed, 04 Jun 2008 & 0 &                  & 39745168 & B64C 1/068                                                                                                                                                                                                          & {[}'EP 2030891 A2', 'EP 2030891 A3'{]}                 \\\\\n",
       "\t EP2025928 & Thu, 24 Jul 2008 & 0 &                  & 40039666 & {[}'F03D 1/0675', 'F03D 3/062'{]}                                                                                                                                                                                       & {[}'EP 2025928 A2', 'EP 2025928 A3'{]}                 \\\\\n",
       "\t EP1920908 & Fri, 02 Nov 2007 & 1 & Wed, 08 Apr 2015 & 39118022 & {[}'B29C 70/386', 'B29C 70/541', 'B29C 70/543', 'B29C 70/545', 'B29C 70/56'{]}                                                                                                                                          & {[}'EP 1920908 A1', 'EP 1920908 B1'{]}                 \\\\\n",
       "\t EP1972896 & Sat, 08 Mar 2008 & 1 & Wed, 06 May 2015 & 39544979 & G01C 23/00                                                                                                                                                                                                          & {[}'EP 1972896 A2', 'EP 1972896 A3', 'EP 1972896 B1'{]}\\\\\n",
       "\t EP2134522 & Thu, 13 Mar 2008 & 1 & Wed, 01 Mar 2017 & 39595708 & {[}'B29B 11/16', 'B29C 70/382', 'B29C 70/386', 'B29C 70/545', 'B65H 49/18', 'B65H 51/005', 'B65H 57/16', 'D02J 1/18', 'D04H 1/4242', 'D04H 1/60', 'D04H 1/655', 'D04H 13/00', 'D04H 3/002', 'D04H 3/04', 'D04H 3/12'{]} & {[}'EP 2134522 A1', 'EP 2134522 B1', 'EP 2134522 B8'{]}\\\\\n",
       "\t EP2136979 & Thu, 13 Mar 2008 & 1 & Wed, 11 May 2016 & 39495747 & {[}'B29B 11/16', 'B29C 31/085', 'B29C 70/386', 'B29C 70/541', 'B29C 70/543', 'B29C 70/545'{]}                                                                                                                           & {[}'EP 2136979 A1', 'EP 2136979 B1'{]}                 \\\\\n",
       "\\end{tabular}\n"
      ],
      "text/markdown": [
       "\n",
       "A data.table: 6 × 7\n",
       "\n",
       "| patentNumber &lt;chr&gt; | applicationDate &lt;chr&gt; | granted &lt;int&gt; | grantDate &lt;chr&gt; | familyID &lt;int&gt; | cpcTags &lt;chr&gt; | publicationItems &lt;chr&gt; |\n",
       "|---|---|---|---|---|---|---|\n",
       "| EP2030891 | Wed, 04 Jun 2008 | 0 | <!----> | 39745168 | B64C 1/068                                                                                                                                                                                                          | ['EP 2030891 A2', 'EP 2030891 A3']                  |\n",
       "| EP2025928 | Thu, 24 Jul 2008 | 0 | <!----> | 40039666 | ['F03D 1/0675', 'F03D 3/062']                                                                                                                                                                                       | ['EP 2025928 A2', 'EP 2025928 A3']                  |\n",
       "| EP1920908 | Fri, 02 Nov 2007 | 1 | Wed, 08 Apr 2015 | 39118022 | ['B29C 70/386', 'B29C 70/541', 'B29C 70/543', 'B29C 70/545', 'B29C 70/56']                                                                                                                                          | ['EP 1920908 A1', 'EP 1920908 B1']                  |\n",
       "| EP1972896 | Sat, 08 Mar 2008 | 1 | Wed, 06 May 2015 | 39544979 | G01C 23/00                                                                                                                                                                                                          | ['EP 1972896 A2', 'EP 1972896 A3', 'EP 1972896 B1'] |\n",
       "| EP2134522 | Thu, 13 Mar 2008 | 1 | Wed, 01 Mar 2017 | 39595708 | ['B29B 11/16', 'B29C 70/382', 'B29C 70/386', 'B29C 70/545', 'B65H 49/18', 'B65H 51/005', 'B65H 57/16', 'D02J 1/18', 'D04H 1/4242', 'D04H 1/60', 'D04H 1/655', 'D04H 13/00', 'D04H 3/002', 'D04H 3/04', 'D04H 3/12'] | ['EP 2134522 A1', 'EP 2134522 B1', 'EP 2134522 B8'] |\n",
       "| EP2136979 | Thu, 13 Mar 2008 | 1 | Wed, 11 May 2016 | 39495747 | ['B29B 11/16', 'B29C 31/085', 'B29C 70/386', 'B29C 70/541', 'B29C 70/543', 'B29C 70/545']                                                                                                                           | ['EP 2136979 A1', 'EP 2136979 B1']                  |\n",
       "\n"
      ],
      "text/plain": [
       "  patentNumber applicationDate  granted grantDate        familyID\n",
       "1 EP2030891    Wed, 04 Jun 2008 0                        39745168\n",
       "2 EP2025928    Thu, 24 Jul 2008 0                        40039666\n",
       "3 EP1920908    Fri, 02 Nov 2007 1       Wed, 08 Apr 2015 39118022\n",
       "4 EP1972896    Sat, 08 Mar 2008 1       Wed, 06 May 2015 39544979\n",
       "5 EP2134522    Thu, 13 Mar 2008 1       Wed, 01 Mar 2017 39595708\n",
       "6 EP2136979    Thu, 13 Mar 2008 1       Wed, 11 May 2016 39495747\n",
       "  cpcTags                                                                                                                                                                                                            \n",
       "1 B64C 1/068                                                                                                                                                                                                         \n",
       "2 ['F03D 1/0675', 'F03D 3/062']                                                                                                                                                                                      \n",
       "3 ['B29C 70/386', 'B29C 70/541', 'B29C 70/543', 'B29C 70/545', 'B29C 70/56']                                                                                                                                         \n",
       "4 G01C 23/00                                                                                                                                                                                                         \n",
       "5 ['B29B 11/16', 'B29C 70/382', 'B29C 70/386', 'B29C 70/545', 'B65H 49/18', 'B65H 51/005', 'B65H 57/16', 'D02J 1/18', 'D04H 1/4242', 'D04H 1/60', 'D04H 1/655', 'D04H 13/00', 'D04H 3/002', 'D04H 3/04', 'D04H 3/12']\n",
       "6 ['B29B 11/16', 'B29C 31/085', 'B29C 70/386', 'B29C 70/541', 'B29C 70/543', 'B29C 70/545']                                                                                                                          \n",
       "  publicationItems                                   \n",
       "1 ['EP 2030891 A2', 'EP 2030891 A3']                 \n",
       "2 ['EP 2025928 A2', 'EP 2025928 A3']                 \n",
       "3 ['EP 1920908 A1', 'EP 1920908 B1']                 \n",
       "4 ['EP 1972896 A2', 'EP 1972896 A3', 'EP 1972896 B1']\n",
       "5 ['EP 2134522 A1', 'EP 2134522 B1', 'EP 2134522 B8']\n",
       "6 ['EP 2136979 A1', 'EP 2136979 B1']                 "
      ]
     },
     "metadata": {},
     "output_type": "display_data"
    }
   ],
   "source": [
    "head(airbus_ep_application)"
   ]
  },
  {
   "cell_type": "code",
   "execution_count": 6,
   "metadata": {
    "vscode": {
     "languageId": "r"
    }
   },
   "outputs": [],
   "source": [
    "airbus_ep_publications <- fread('./data/airbus_ep_publications.csv')"
   ]
  },
  {
   "cell_type": "code",
   "execution_count": 7,
   "metadata": {
    "vscode": {
     "languageId": "r"
    }
   },
   "outputs": [
    {
     "data": {
      "text/html": [
       "<style>\n",
       ".list-inline {list-style: none; margin:0; padding: 0}\n",
       ".list-inline>li {display: inline-block}\n",
       ".list-inline>li:not(:last-child)::after {content: \"\\00b7\"; padding: 0 .5ex}\n",
       "</style>\n",
       "<ol class=list-inline><li>538</li><li>5</li></ol>\n"
      ],
      "text/latex": [
       "\\begin{enumerate*}\n",
       "\\item 538\n",
       "\\item 5\n",
       "\\end{enumerate*}\n"
      ],
      "text/markdown": [
       "1. 538\n",
       "2. 5\n",
       "\n",
       "\n"
      ],
      "text/plain": [
       "[1] 538   5"
      ]
     },
     "metadata": {},
     "output_type": "display_data"
    }
   ],
   "source": [
    "dim(airbus_ep_publications)"
   ]
  },
  {
   "cell_type": "code",
   "execution_count": 8,
   "metadata": {
    "vscode": {
     "languageId": "r"
    }
   },
   "outputs": [
    {
     "data": {
      "text/html": [
       "<table class=\"dataframe\">\n",
       "<caption>A data.table: 6 × 5</caption>\n",
       "<thead>\n",
       "\t<tr><th scope=col>patentNumber</th><th scope=col>publicationDate</th><th scope=col>priorityNumber</th><th scope=col>language</th><th scope=col>ipc</th></tr>\n",
       "\t<tr><th scope=col>&lt;chr&gt;</th><th scope=col>&lt;chr&gt;</th><th scope=col>&lt;chr&gt;</th><th scope=col>&lt;chr&gt;</th><th scope=col>&lt;chr&gt;</th></tr>\n",
       "</thead>\n",
       "<tbody>\n",
       "\t<tr><td>EP1920908</td><td>Wed, 08 Apr 2015</td><td>102006052592</td><td>de</td><td>['B29C 70/38', 'B29C 70/54', 'B29C 70/56']                                                                                                                                                                      </td></tr>\n",
       "\t<tr><td>EP1972896</td><td>Wed, 06 May 2015</td><td>102007014015</td><td>de</td><td>['B64D 45/08', 'G01C 23/00']                                                                                                                                                                                    </td></tr>\n",
       "\t<tr><td>EP2134522</td><td>Wed, 01 Mar 2017</td><td>102007012608</td><td>de</td><td>['B29B 11/16', 'B29C 70/20', 'B29C 70/38', 'B29C 70/54', 'B65H 49/18', 'B65H 51/005', 'B65H 57/16', 'D02J 1/18', 'D04H 1/4242', 'D04H 1/60', 'D04H 1/655', 'D04H 13/00', 'D04H 3/002', 'D04H 3/04', 'D04H 3/12']</td></tr>\n",
       "\t<tr><td>EP2136979</td><td>Wed, 11 May 2016</td><td>102007012609</td><td>de</td><td>['B29B 11/16', 'B29C 70/38', 'B29C 70/54']                                                                                                                                                                      </td></tr>\n",
       "\t<tr><td>EP1976108</td><td>Wed, 21 Oct 2020</td><td>102007015302</td><td>de</td><td>['H02M 3/337', 'H02M 7/5387']                                                                                                                                                                                   </td></tr>\n",
       "\t<tr><td>EP2039604</td><td>Wed, 01 Mar 2017</td><td>102007045205</td><td>de</td><td>['B64D 1/04', 'F41A 9/09', 'G01B 7/00', 'G01B 7/14', 'G01S 5/16']                                                                                                                                               </td></tr>\n",
       "</tbody>\n",
       "</table>\n"
      ],
      "text/latex": [
       "A data.table: 6 × 5\n",
       "\\begin{tabular}{lllll}\n",
       " patentNumber & publicationDate & priorityNumber & language & ipc\\\\\n",
       " <chr> & <chr> & <chr> & <chr> & <chr>\\\\\n",
       "\\hline\n",
       "\t EP1920908 & Wed, 08 Apr 2015 & 102006052592 & de & {[}'B29C 70/38', 'B29C 70/54', 'B29C 70/56'{]}                                                                                                                                                                      \\\\\n",
       "\t EP1972896 & Wed, 06 May 2015 & 102007014015 & de & {[}'B64D 45/08', 'G01C 23/00'{]}                                                                                                                                                                                    \\\\\n",
       "\t EP2134522 & Wed, 01 Mar 2017 & 102007012608 & de & {[}'B29B 11/16', 'B29C 70/20', 'B29C 70/38', 'B29C 70/54', 'B65H 49/18', 'B65H 51/005', 'B65H 57/16', 'D02J 1/18', 'D04H 1/4242', 'D04H 1/60', 'D04H 1/655', 'D04H 13/00', 'D04H 3/002', 'D04H 3/04', 'D04H 3/12'{]}\\\\\n",
       "\t EP2136979 & Wed, 11 May 2016 & 102007012609 & de & {[}'B29B 11/16', 'B29C 70/38', 'B29C 70/54'{]}                                                                                                                                                                      \\\\\n",
       "\t EP1976108 & Wed, 21 Oct 2020 & 102007015302 & de & {[}'H02M 3/337', 'H02M 7/5387'{]}                                                                                                                                                                                   \\\\\n",
       "\t EP2039604 & Wed, 01 Mar 2017 & 102007045205 & de & {[}'B64D 1/04', 'F41A 9/09', 'G01B 7/00', 'G01B 7/14', 'G01S 5/16'{]}                                                                                                                                               \\\\\n",
       "\\end{tabular}\n"
      ],
      "text/markdown": [
       "\n",
       "A data.table: 6 × 5\n",
       "\n",
       "| patentNumber &lt;chr&gt; | publicationDate &lt;chr&gt; | priorityNumber &lt;chr&gt; | language &lt;chr&gt; | ipc &lt;chr&gt; |\n",
       "|---|---|---|---|---|\n",
       "| EP1920908 | Wed, 08 Apr 2015 | 102006052592 | de | ['B29C 70/38', 'B29C 70/54', 'B29C 70/56']                                                                                                                                                                       |\n",
       "| EP1972896 | Wed, 06 May 2015 | 102007014015 | de | ['B64D 45/08', 'G01C 23/00']                                                                                                                                                                                     |\n",
       "| EP2134522 | Wed, 01 Mar 2017 | 102007012608 | de | ['B29B 11/16', 'B29C 70/20', 'B29C 70/38', 'B29C 70/54', 'B65H 49/18', 'B65H 51/005', 'B65H 57/16', 'D02J 1/18', 'D04H 1/4242', 'D04H 1/60', 'D04H 1/655', 'D04H 13/00', 'D04H 3/002', 'D04H 3/04', 'D04H 3/12'] |\n",
       "| EP2136979 | Wed, 11 May 2016 | 102007012609 | de | ['B29B 11/16', 'B29C 70/38', 'B29C 70/54']                                                                                                                                                                       |\n",
       "| EP1976108 | Wed, 21 Oct 2020 | 102007015302 | de | ['H02M 3/337', 'H02M 7/5387']                                                                                                                                                                                    |\n",
       "| EP2039604 | Wed, 01 Mar 2017 | 102007045205 | de | ['B64D 1/04', 'F41A 9/09', 'G01B 7/00', 'G01B 7/14', 'G01S 5/16']                                                                                                                                                |\n",
       "\n"
      ],
      "text/plain": [
       "  patentNumber publicationDate  priorityNumber language\n",
       "1 EP1920908    Wed, 08 Apr 2015 102006052592   de      \n",
       "2 EP1972896    Wed, 06 May 2015 102007014015   de      \n",
       "3 EP2134522    Wed, 01 Mar 2017 102007012608   de      \n",
       "4 EP2136979    Wed, 11 May 2016 102007012609   de      \n",
       "5 EP1976108    Wed, 21 Oct 2020 102007015302   de      \n",
       "6 EP2039604    Wed, 01 Mar 2017 102007045205   de      \n",
       "  ipc                                                                                                                                                                                                             \n",
       "1 ['B29C 70/38', 'B29C 70/54', 'B29C 70/56']                                                                                                                                                                      \n",
       "2 ['B64D 45/08', 'G01C 23/00']                                                                                                                                                                                    \n",
       "3 ['B29B 11/16', 'B29C 70/20', 'B29C 70/38', 'B29C 70/54', 'B65H 49/18', 'B65H 51/005', 'B65H 57/16', 'D02J 1/18', 'D04H 1/4242', 'D04H 1/60', 'D04H 1/655', 'D04H 13/00', 'D04H 3/002', 'D04H 3/04', 'D04H 3/12']\n",
       "4 ['B29B 11/16', 'B29C 70/38', 'B29C 70/54']                                                                                                                                                                      \n",
       "5 ['H02M 3/337', 'H02M 7/5387']                                                                                                                                                                                   \n",
       "6 ['B64D 1/04', 'F41A 9/09', 'G01B 7/00', 'G01B 7/14', 'G01S 5/16']                                                                                                                                               "
      ]
     },
     "metadata": {},
     "output_type": "display_data"
    }
   ],
   "source": [
    "head(airbus_ep_publications)"
   ]
  },
  {
   "cell_type": "code",
   "execution_count": null,
   "metadata": {
    "vscode": {
     "languageId": "r"
    }
   },
   "outputs": [],
   "source": []
  }
 ],
 "metadata": {
  "kernelspec": {
   "display_name": "R",
   "language": "R",
   "name": "ir"
  },
  "language_info": {
   "codemirror_mode": "r",
   "file_extension": ".r",
   "mimetype": "text/x-r-source",
   "name": "R",
   "pygments_lexer": "r",
   "version": "4.2.2"
  },
  "orig_nbformat": 4,
  "vscode": {
   "interpreter": {
    "hash": "16bff2c6a4793fe572f28f54bf2473ba4d5d1eb32d0a445bafdbd12ba8e85d21"
   }
  }
 },
 "nbformat": 4,
 "nbformat_minor": 2
}
