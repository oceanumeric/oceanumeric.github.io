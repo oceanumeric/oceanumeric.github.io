{
 "cells": [
  {
   "cell_type": "code",
   "execution_count": 1,
   "metadata": {
    "vscode": {
     "languageId": "r"
    }
   },
   "outputs": [],
   "source": [
    "# load packages \n",
    "library(pacman)\n",
    "p_load(\n",
    "    tidyverse, data.table, dtplyr, reshape2, \n",
    "    archive, kableExtra, SPARQL, janitor, \n",
    "    png, webp, Cairo, rsvg,\n",
    "    httr, jsonlite)\n",
    "# set option\n",
    "options(dplyr.summarise.inform = FALSE)\n",
    "gray_scale <- c('#F3F4F8','#D2D4DA',  '#bcc0ca', \n",
    "                '#D3D3D3', '#2B2B2B', \n",
    "                '#B3B5BD', '#838383', \n",
    "                '#9496A1', '#7d7f89', '#777986', \n",
    "                '#656673', '#5B5D6B', '#4d505e',\n",
    "                '#404352', '#2b2d3b', '#282A3A',\n",
    "                '#1b1c2a', '#191a2b',\n",
    "                '#141626', '#101223')"
   ]
  },
  {
   "cell_type": "code",
   "execution_count": 2,
   "metadata": {
    "vscode": {
     "languageId": "r"
    }
   },
   "outputs": [],
   "source": [
    "# set up working directory\n",
    "setwd('work/notebooks/patent')"
   ]
  },
  {
   "cell_type": "code",
   "execution_count": 62,
   "metadata": {
    "vscode": {
     "languageId": "r"
    }
   },
   "outputs": [
    {
     "data": {
      "text/html": [
       "<table class=\"dataframe\">\n",
       "<caption>A data.table: 1 × 4</caption>\n",
       "<thead>\n",
       "\t<tr><th></th><th scope=col>EP</th><th scope=col>US</th><th scope=col>WO</th><th scope=col>Total</th></tr>\n",
       "\t<tr><th></th><th scope=col>&lt;chr&gt;</th><th scope=col>&lt;chr&gt;</th><th scope=col>&lt;chr&gt;</th><th scope=col>&lt;chr&gt;</th></tr>\n",
       "</thead>\n",
       "<tbody>\n",
       "\t<tr><th scope=row>2</th><td>716</td><td>415</td><td>88</td><td>1219</td></tr>\n",
       "</tbody>\n",
       "</table>\n"
      ],
      "text/latex": [
       "A data.table: 1 × 4\n",
       "\\begin{tabular}{r|llll}\n",
       "  & EP & US & WO & Total\\\\\n",
       "  & <chr> & <chr> & <chr> & <chr>\\\\\n",
       "\\hline\n",
       "\t2 & 716 & 415 & 88 & 1219\\\\\n",
       "\\end{tabular}\n"
      ],
      "text/markdown": [
       "\n",
       "A data.table: 1 × 4\n",
       "\n",
       "| <!--/--> | EP &lt;chr&gt; | US &lt;chr&gt; | WO &lt;chr&gt; | Total &lt;chr&gt; |\n",
       "|---|---|---|---|---|\n",
       "| 2 | 716 | 415 | 88 | 1219 |\n",
       "\n"
      ],
      "text/plain": [
       "  EP  US  WO Total\n",
       "1 716 415 88 1219 "
      ]
     },
     "metadata": {},
     "output_type": "display_data"
    }
   ],
   "source": [
    "# Code-Block 5. Extract patents for one-company full code\n",
    "# read dataset 1, 2, and 3 \n",
    "de_firms <- fread('./data/orbis_de_matched_l.csv')\n",
    "han_names <- fread('./data/202208_HAN_NAMES.txt')\n",
    "han_patents <- fread('./data/202208_HAN_PATENTS.txt')\n",
    "\n",
    "# filter out germany firms from han_names \n",
    "# by setting Person_ctry_code == 'DE'\n",
    "# match names \"AIRBUS DEFENCE\" and get their HAN_ID\n",
    "airbus <- toupper('Airbus Defence')\n",
    "han_names %>%\n",
    "    .[Person_ctry_code == 'DE'] %>%\n",
    "    .[Clean_name %like% airbus] %>%\n",
    "    .[,HAN_ID] -> airbus_han_ids\n",
    "\n",
    "# calcualte the summary statistics for AIRBUS DEFENCE\n",
    "han_patents %>%\n",
    "    .[HAN_ID %in% airbus_han_ids] %>%\n",
    "    .[, .N, by=Publn_auth] -> foo\n",
    "    transform(adorn_totals(foo)) %>%\n",
    "    transpose() %>%\n",
    "    row_to_names(row_number=1)\n",
    "\n",
    "# focusing on patents from EPO\n",
    "# filter with condition Publn_auth == 'EP'\n",
    "han_patents %>%\n",
    "    .[HAN_ID %in% airbus_han_ids] -> airbus_han_patents\n",
    "\n",
    "# save the dataset\n",
    "write.csv(airbus_han_patents, './data/airbus_han_patents.csv', row.names=FALSE)"
   ]
  },
  {
   "cell_type": "code",
   "execution_count": 50,
   "metadata": {
    "vscode": {
     "languageId": "r"
    }
   },
   "outputs": [],
   "source": [
    "airbus_ep_application <- fread('./data/airbus_ep_applications.csv')"
   ]
  },
  {
   "cell_type": "code",
   "execution_count": 51,
   "metadata": {
    "vscode": {
     "languageId": "r"
    }
   },
   "outputs": [
    {
     "data": {
      "text/html": [
       "<style>\n",
       ".list-inline {list-style: none; margin:0; padding: 0}\n",
       ".list-inline>li {display: inline-block}\n",
       ".list-inline>li:not(:last-child)::after {content: \"\\00b7\"; padding: 0 .5ex}\n",
       "</style>\n",
       "<ol class=list-inline><li>716</li><li>7</li></ol>\n"
      ],
      "text/latex": [
       "\\begin{enumerate*}\n",
       "\\item 716\n",
       "\\item 7\n",
       "\\end{enumerate*}\n"
      ],
      "text/markdown": [
       "1. 716\n",
       "2. 7\n",
       "\n",
       "\n"
      ],
      "text/plain": [
       "[1] 716   7"
      ]
     },
     "metadata": {},
     "output_type": "display_data"
    }
   ],
   "source": [
    "dim(airbus_ep_application)"
   ]
  },
  {
   "cell_type": "code",
   "execution_count": 5,
   "metadata": {
    "vscode": {
     "languageId": "r"
    }
   },
   "outputs": [
    {
     "data": {
      "text/html": [
       "<table class=\"dataframe\">\n",
       "<caption>A data.table: 6 × 7</caption>\n",
       "<thead>\n",
       "\t<tr><th scope=col>patentNumber</th><th scope=col>applicationDate</th><th scope=col>granted</th><th scope=col>grantDate</th><th scope=col>familyID</th><th scope=col>cpcTags</th><th scope=col>publicationItems</th></tr>\n",
       "\t<tr><th scope=col>&lt;chr&gt;</th><th scope=col>&lt;chr&gt;</th><th scope=col>&lt;int&gt;</th><th scope=col>&lt;chr&gt;</th><th scope=col>&lt;int&gt;</th><th scope=col>&lt;chr&gt;</th><th scope=col>&lt;chr&gt;</th></tr>\n",
       "</thead>\n",
       "<tbody>\n",
       "\t<tr><td>EP2030891</td><td>Wed, 04 Jun 2008</td><td>0</td><td>                </td><td>39745168</td><td>B64C 1/068                                                                                                                                                                                                         </td><td>['EP 2030891 A2', 'EP 2030891 A3']                 </td></tr>\n",
       "\t<tr><td>EP2025928</td><td>Thu, 24 Jul 2008</td><td>0</td><td>                </td><td>40039666</td><td>['F03D 1/0675', 'F03D 3/062']                                                                                                                                                                                      </td><td>['EP 2025928 A2', 'EP 2025928 A3']                 </td></tr>\n",
       "\t<tr><td>EP1920908</td><td>Fri, 02 Nov 2007</td><td>1</td><td>Wed, 08 Apr 2015</td><td>39118022</td><td>['B29C 70/386', 'B29C 70/541', 'B29C 70/543', 'B29C 70/545', 'B29C 70/56']                                                                                                                                         </td><td>['EP 1920908 A1', 'EP 1920908 B1']                 </td></tr>\n",
       "\t<tr><td>EP1972896</td><td>Sat, 08 Mar 2008</td><td>1</td><td>Wed, 06 May 2015</td><td>39544979</td><td>G01C 23/00                                                                                                                                                                                                         </td><td>['EP 1972896 A2', 'EP 1972896 A3', 'EP 1972896 B1']</td></tr>\n",
       "\t<tr><td>EP2134522</td><td>Thu, 13 Mar 2008</td><td>1</td><td>Wed, 01 Mar 2017</td><td>39595708</td><td>['B29B 11/16', 'B29C 70/382', 'B29C 70/386', 'B29C 70/545', 'B65H 49/18', 'B65H 51/005', 'B65H 57/16', 'D02J 1/18', 'D04H 1/4242', 'D04H 1/60', 'D04H 1/655', 'D04H 13/00', 'D04H 3/002', 'D04H 3/04', 'D04H 3/12']</td><td>['EP 2134522 A1', 'EP 2134522 B1', 'EP 2134522 B8']</td></tr>\n",
       "\t<tr><td>EP2136979</td><td>Thu, 13 Mar 2008</td><td>1</td><td>Wed, 11 May 2016</td><td>39495747</td><td>['B29B 11/16', 'B29C 31/085', 'B29C 70/386', 'B29C 70/541', 'B29C 70/543', 'B29C 70/545']                                                                                                                          </td><td>['EP 2136979 A1', 'EP 2136979 B1']                 </td></tr>\n",
       "</tbody>\n",
       "</table>\n"
      ],
      "text/latex": [
       "A data.table: 6 × 7\n",
       "\\begin{tabular}{lllllll}\n",
       " patentNumber & applicationDate & granted & grantDate & familyID & cpcTags & publicationItems\\\\\n",
       " <chr> & <chr> & <int> & <chr> & <int> & <chr> & <chr>\\\\\n",
       "\\hline\n",
       "\t EP2030891 & Wed, 04 Jun 2008 & 0 &                  & 39745168 & B64C 1/068                                                                                                                                                                                                          & {[}'EP 2030891 A2', 'EP 2030891 A3'{]}                 \\\\\n",
       "\t EP2025928 & Thu, 24 Jul 2008 & 0 &                  & 40039666 & {[}'F03D 1/0675', 'F03D 3/062'{]}                                                                                                                                                                                       & {[}'EP 2025928 A2', 'EP 2025928 A3'{]}                 \\\\\n",
       "\t EP1920908 & Fri, 02 Nov 2007 & 1 & Wed, 08 Apr 2015 & 39118022 & {[}'B29C 70/386', 'B29C 70/541', 'B29C 70/543', 'B29C 70/545', 'B29C 70/56'{]}                                                                                                                                          & {[}'EP 1920908 A1', 'EP 1920908 B1'{]}                 \\\\\n",
       "\t EP1972896 & Sat, 08 Mar 2008 & 1 & Wed, 06 May 2015 & 39544979 & G01C 23/00                                                                                                                                                                                                          & {[}'EP 1972896 A2', 'EP 1972896 A3', 'EP 1972896 B1'{]}\\\\\n",
       "\t EP2134522 & Thu, 13 Mar 2008 & 1 & Wed, 01 Mar 2017 & 39595708 & {[}'B29B 11/16', 'B29C 70/382', 'B29C 70/386', 'B29C 70/545', 'B65H 49/18', 'B65H 51/005', 'B65H 57/16', 'D02J 1/18', 'D04H 1/4242', 'D04H 1/60', 'D04H 1/655', 'D04H 13/00', 'D04H 3/002', 'D04H 3/04', 'D04H 3/12'{]} & {[}'EP 2134522 A1', 'EP 2134522 B1', 'EP 2134522 B8'{]}\\\\\n",
       "\t EP2136979 & Thu, 13 Mar 2008 & 1 & Wed, 11 May 2016 & 39495747 & {[}'B29B 11/16', 'B29C 31/085', 'B29C 70/386', 'B29C 70/541', 'B29C 70/543', 'B29C 70/545'{]}                                                                                                                           & {[}'EP 2136979 A1', 'EP 2136979 B1'{]}                 \\\\\n",
       "\\end{tabular}\n"
      ],
      "text/markdown": [
       "\n",
       "A data.table: 6 × 7\n",
       "\n",
       "| patentNumber &lt;chr&gt; | applicationDate &lt;chr&gt; | granted &lt;int&gt; | grantDate &lt;chr&gt; | familyID &lt;int&gt; | cpcTags &lt;chr&gt; | publicationItems &lt;chr&gt; |\n",
       "|---|---|---|---|---|---|---|\n",
       "| EP2030891 | Wed, 04 Jun 2008 | 0 | <!----> | 39745168 | B64C 1/068                                                                                                                                                                                                          | ['EP 2030891 A2', 'EP 2030891 A3']                  |\n",
       "| EP2025928 | Thu, 24 Jul 2008 | 0 | <!----> | 40039666 | ['F03D 1/0675', 'F03D 3/062']                                                                                                                                                                                       | ['EP 2025928 A2', 'EP 2025928 A3']                  |\n",
       "| EP1920908 | Fri, 02 Nov 2007 | 1 | Wed, 08 Apr 2015 | 39118022 | ['B29C 70/386', 'B29C 70/541', 'B29C 70/543', 'B29C 70/545', 'B29C 70/56']                                                                                                                                          | ['EP 1920908 A1', 'EP 1920908 B1']                  |\n",
       "| EP1972896 | Sat, 08 Mar 2008 | 1 | Wed, 06 May 2015 | 39544979 | G01C 23/00                                                                                                                                                                                                          | ['EP 1972896 A2', 'EP 1972896 A3', 'EP 1972896 B1'] |\n",
       "| EP2134522 | Thu, 13 Mar 2008 | 1 | Wed, 01 Mar 2017 | 39595708 | ['B29B 11/16', 'B29C 70/382', 'B29C 70/386', 'B29C 70/545', 'B65H 49/18', 'B65H 51/005', 'B65H 57/16', 'D02J 1/18', 'D04H 1/4242', 'D04H 1/60', 'D04H 1/655', 'D04H 13/00', 'D04H 3/002', 'D04H 3/04', 'D04H 3/12'] | ['EP 2134522 A1', 'EP 2134522 B1', 'EP 2134522 B8'] |\n",
       "| EP2136979 | Thu, 13 Mar 2008 | 1 | Wed, 11 May 2016 | 39495747 | ['B29B 11/16', 'B29C 31/085', 'B29C 70/386', 'B29C 70/541', 'B29C 70/543', 'B29C 70/545']                                                                                                                           | ['EP 2136979 A1', 'EP 2136979 B1']                  |\n",
       "\n"
      ],
      "text/plain": [
       "  patentNumber applicationDate  granted grantDate        familyID\n",
       "1 EP2030891    Wed, 04 Jun 2008 0                        39745168\n",
       "2 EP2025928    Thu, 24 Jul 2008 0                        40039666\n",
       "3 EP1920908    Fri, 02 Nov 2007 1       Wed, 08 Apr 2015 39118022\n",
       "4 EP1972896    Sat, 08 Mar 2008 1       Wed, 06 May 2015 39544979\n",
       "5 EP2134522    Thu, 13 Mar 2008 1       Wed, 01 Mar 2017 39595708\n",
       "6 EP2136979    Thu, 13 Mar 2008 1       Wed, 11 May 2016 39495747\n",
       "  cpcTags                                                                                                                                                                                                            \n",
       "1 B64C 1/068                                                                                                                                                                                                         \n",
       "2 ['F03D 1/0675', 'F03D 3/062']                                                                                                                                                                                      \n",
       "3 ['B29C 70/386', 'B29C 70/541', 'B29C 70/543', 'B29C 70/545', 'B29C 70/56']                                                                                                                                         \n",
       "4 G01C 23/00                                                                                                                                                                                                         \n",
       "5 ['B29B 11/16', 'B29C 70/382', 'B29C 70/386', 'B29C 70/545', 'B65H 49/18', 'B65H 51/005', 'B65H 57/16', 'D02J 1/18', 'D04H 1/4242', 'D04H 1/60', 'D04H 1/655', 'D04H 13/00', 'D04H 3/002', 'D04H 3/04', 'D04H 3/12']\n",
       "6 ['B29B 11/16', 'B29C 31/085', 'B29C 70/386', 'B29C 70/541', 'B29C 70/543', 'B29C 70/545']                                                                                                                          \n",
       "  publicationItems                                   \n",
       "1 ['EP 2030891 A2', 'EP 2030891 A3']                 \n",
       "2 ['EP 2025928 A2', 'EP 2025928 A3']                 \n",
       "3 ['EP 1920908 A1', 'EP 1920908 B1']                 \n",
       "4 ['EP 1972896 A2', 'EP 1972896 A3', 'EP 1972896 B1']\n",
       "5 ['EP 2134522 A1', 'EP 2134522 B1', 'EP 2134522 B8']\n",
       "6 ['EP 2136979 A1', 'EP 2136979 B1']                 "
      ]
     },
     "metadata": {},
     "output_type": "display_data"
    }
   ],
   "source": [
    "head(airbus_ep_application)"
   ]
  },
  {
   "cell_type": "code",
   "execution_count": 53,
   "metadata": {
    "vscode": {
     "languageId": "r"
    }
   },
   "outputs": [],
   "source": [
    "airbus_ep_publications <- fread('./data/airbus_ep_publications.csv')"
   ]
  },
  {
   "cell_type": "code",
   "execution_count": 54,
   "metadata": {
    "vscode": {
     "languageId": "r"
    }
   },
   "outputs": [
    {
     "data": {
      "text/html": [
       "<style>\n",
       ".list-inline {list-style: none; margin:0; padding: 0}\n",
       ".list-inline>li {display: inline-block}\n",
       ".list-inline>li:not(:last-child)::after {content: \"\\00b7\"; padding: 0 .5ex}\n",
       "</style>\n",
       "<ol class=list-inline><li>539</li><li>5</li></ol>\n"
      ],
      "text/latex": [
       "\\begin{enumerate*}\n",
       "\\item 539\n",
       "\\item 5\n",
       "\\end{enumerate*}\n"
      ],
      "text/markdown": [
       "1. 539\n",
       "2. 5\n",
       "\n",
       "\n"
      ],
      "text/plain": [
       "[1] 539   5"
      ]
     },
     "metadata": {},
     "output_type": "display_data"
    }
   ],
   "source": [
    "dim(airbus_ep_publications)"
   ]
  },
  {
   "cell_type": "code",
   "execution_count": 55,
   "metadata": {
    "vscode": {
     "languageId": "r"
    }
   },
   "outputs": [
    {
     "data": {
      "text/html": [
       "<table class=\"dataframe\">\n",
       "<caption>A data.table: 6 × 5</caption>\n",
       "<thead>\n",
       "\t<tr><th scope=col>patentNumber</th><th scope=col>publicationDate</th><th scope=col>priorityNumber</th><th scope=col>language</th><th scope=col>ipc</th></tr>\n",
       "\t<tr><th scope=col>&lt;chr&gt;</th><th scope=col>&lt;chr&gt;</th><th scope=col>&lt;chr&gt;</th><th scope=col>&lt;chr&gt;</th><th scope=col>&lt;chr&gt;</th></tr>\n",
       "</thead>\n",
       "<tbody>\n",
       "\t<tr><td>EP1920908</td><td>Wed, 08 Apr 2015</td><td>DE/102006052592</td><td>de</td><td>['B29C 70/38', 'B29C 70/54', 'B29C 70/56']                                                                                                                                                                      </td></tr>\n",
       "\t<tr><td>EP1972896</td><td>Wed, 06 May 2015</td><td>DE/102007014015</td><td>de</td><td>['B64D 45/08', 'G01C 23/00']                                                                                                                                                                                    </td></tr>\n",
       "\t<tr><td>EP2134522</td><td>Wed, 01 Mar 2017</td><td>DE/102007012608</td><td>de</td><td>['B29B 11/16', 'B29C 70/20', 'B29C 70/38', 'B29C 70/54', 'B65H 49/18', 'B65H 51/005', 'B65H 57/16', 'D02J 1/18', 'D04H 1/4242', 'D04H 1/60', 'D04H 1/655', 'D04H 13/00', 'D04H 3/002', 'D04H 3/04', 'D04H 3/12']</td></tr>\n",
       "\t<tr><td>EP2136979</td><td>Wed, 11 May 2016</td><td>DE/102007012609</td><td>de</td><td>['B29B 11/16', 'B29C 70/38', 'B29C 70/54']                                                                                                                                                                      </td></tr>\n",
       "\t<tr><td>EP1976108</td><td>Wed, 21 Oct 2020</td><td>DE/102007015302</td><td>de</td><td>['H02M 3/337', 'H02M 7/5387']                                                                                                                                                                                   </td></tr>\n",
       "\t<tr><td>EP2039604</td><td>Wed, 01 Mar 2017</td><td>DE/102007045205</td><td>de</td><td>['B64D 1/04', 'F41A 9/09', 'G01B 7/00', 'G01B 7/14', 'G01S 5/16']                                                                                                                                               </td></tr>\n",
       "</tbody>\n",
       "</table>\n"
      ],
      "text/latex": [
       "A data.table: 6 × 5\n",
       "\\begin{tabular}{lllll}\n",
       " patentNumber & publicationDate & priorityNumber & language & ipc\\\\\n",
       " <chr> & <chr> & <chr> & <chr> & <chr>\\\\\n",
       "\\hline\n",
       "\t EP1920908 & Wed, 08 Apr 2015 & DE/102006052592 & de & {[}'B29C 70/38', 'B29C 70/54', 'B29C 70/56'{]}                                                                                                                                                                      \\\\\n",
       "\t EP1972896 & Wed, 06 May 2015 & DE/102007014015 & de & {[}'B64D 45/08', 'G01C 23/00'{]}                                                                                                                                                                                    \\\\\n",
       "\t EP2134522 & Wed, 01 Mar 2017 & DE/102007012608 & de & {[}'B29B 11/16', 'B29C 70/20', 'B29C 70/38', 'B29C 70/54', 'B65H 49/18', 'B65H 51/005', 'B65H 57/16', 'D02J 1/18', 'D04H 1/4242', 'D04H 1/60', 'D04H 1/655', 'D04H 13/00', 'D04H 3/002', 'D04H 3/04', 'D04H 3/12'{]}\\\\\n",
       "\t EP2136979 & Wed, 11 May 2016 & DE/102007012609 & de & {[}'B29B 11/16', 'B29C 70/38', 'B29C 70/54'{]}                                                                                                                                                                      \\\\\n",
       "\t EP1976108 & Wed, 21 Oct 2020 & DE/102007015302 & de & {[}'H02M 3/337', 'H02M 7/5387'{]}                                                                                                                                                                                   \\\\\n",
       "\t EP2039604 & Wed, 01 Mar 2017 & DE/102007045205 & de & {[}'B64D 1/04', 'F41A 9/09', 'G01B 7/00', 'G01B 7/14', 'G01S 5/16'{]}                                                                                                                                               \\\\\n",
       "\\end{tabular}\n"
      ],
      "text/markdown": [
       "\n",
       "A data.table: 6 × 5\n",
       "\n",
       "| patentNumber &lt;chr&gt; | publicationDate &lt;chr&gt; | priorityNumber &lt;chr&gt; | language &lt;chr&gt; | ipc &lt;chr&gt; |\n",
       "|---|---|---|---|---|\n",
       "| EP1920908 | Wed, 08 Apr 2015 | DE/102006052592 | de | ['B29C 70/38', 'B29C 70/54', 'B29C 70/56']                                                                                                                                                                       |\n",
       "| EP1972896 | Wed, 06 May 2015 | DE/102007014015 | de | ['B64D 45/08', 'G01C 23/00']                                                                                                                                                                                     |\n",
       "| EP2134522 | Wed, 01 Mar 2017 | DE/102007012608 | de | ['B29B 11/16', 'B29C 70/20', 'B29C 70/38', 'B29C 70/54', 'B65H 49/18', 'B65H 51/005', 'B65H 57/16', 'D02J 1/18', 'D04H 1/4242', 'D04H 1/60', 'D04H 1/655', 'D04H 13/00', 'D04H 3/002', 'D04H 3/04', 'D04H 3/12'] |\n",
       "| EP2136979 | Wed, 11 May 2016 | DE/102007012609 | de | ['B29B 11/16', 'B29C 70/38', 'B29C 70/54']                                                                                                                                                                       |\n",
       "| EP1976108 | Wed, 21 Oct 2020 | DE/102007015302 | de | ['H02M 3/337', 'H02M 7/5387']                                                                                                                                                                                    |\n",
       "| EP2039604 | Wed, 01 Mar 2017 | DE/102007045205 | de | ['B64D 1/04', 'F41A 9/09', 'G01B 7/00', 'G01B 7/14', 'G01S 5/16']                                                                                                                                                |\n",
       "\n"
      ],
      "text/plain": [
       "  patentNumber publicationDate  priorityNumber  language\n",
       "1 EP1920908    Wed, 08 Apr 2015 DE/102006052592 de      \n",
       "2 EP1972896    Wed, 06 May 2015 DE/102007014015 de      \n",
       "3 EP2134522    Wed, 01 Mar 2017 DE/102007012608 de      \n",
       "4 EP2136979    Wed, 11 May 2016 DE/102007012609 de      \n",
       "5 EP1976108    Wed, 21 Oct 2020 DE/102007015302 de      \n",
       "6 EP2039604    Wed, 01 Mar 2017 DE/102007045205 de      \n",
       "  ipc                                                                                                                                                                                                             \n",
       "1 ['B29C 70/38', 'B29C 70/54', 'B29C 70/56']                                                                                                                                                                      \n",
       "2 ['B64D 45/08', 'G01C 23/00']                                                                                                                                                                                    \n",
       "3 ['B29B 11/16', 'B29C 70/20', 'B29C 70/38', 'B29C 70/54', 'B65H 49/18', 'B65H 51/005', 'B65H 57/16', 'D02J 1/18', 'D04H 1/4242', 'D04H 1/60', 'D04H 1/655', 'D04H 13/00', 'D04H 3/002', 'D04H 3/04', 'D04H 3/12']\n",
       "4 ['B29B 11/16', 'B29C 70/38', 'B29C 70/54']                                                                                                                                                                      \n",
       "5 ['H02M 3/337', 'H02M 7/5387']                                                                                                                                                                                   \n",
       "6 ['B64D 1/04', 'F41A 9/09', 'G01B 7/00', 'G01B 7/14', 'G01S 5/16']                                                                                                                                               "
      ]
     },
     "metadata": {},
     "output_type": "display_data"
    }
   ],
   "source": [
    "head(airbus_ep_publications)"
   ]
  },
  {
   "cell_type": "code",
   "execution_count": 13,
   "metadata": {
    "vscode": {
     "languageId": "r"
    }
   },
   "outputs": [
    {
     "data": {
      "text/html": [
       "<table class=\"dataframe\">\n",
       "<caption>A data.table: 6 × 9</caption>\n",
       "<thead>\n",
       "\t<tr><th scope=col>patentNumber</th><th scope=col>applicationDate</th><th scope=col>granted</th><th scope=col>grantDate</th><th scope=col>familyID</th><th scope=col>cpcTags</th><th scope=col>publicationItems</th><th scope=col>date</th><th scope=col>year</th></tr>\n",
       "\t<tr><th scope=col>&lt;chr&gt;</th><th scope=col>&lt;chr&gt;</th><th scope=col>&lt;int&gt;</th><th scope=col>&lt;chr&gt;</th><th scope=col>&lt;int&gt;</th><th scope=col>&lt;chr&gt;</th><th scope=col>&lt;chr&gt;</th><th scope=col>&lt;chr&gt;</th><th scope=col>&lt;chr&gt;</th></tr>\n",
       "</thead>\n",
       "<tbody>\n",
       "\t<tr><td>EP2030891</td><td>Wed, 04 Jun 2008</td><td>0</td><td>                </td><td>39745168</td><td>B64C 1/068                                                                                                                                                                                                         </td><td>['EP 2030891 A2', 'EP 2030891 A3']                 </td><td> 04 Jun 2008</td><td>2008</td></tr>\n",
       "\t<tr><td>EP2025928</td><td>Thu, 24 Jul 2008</td><td>0</td><td>                </td><td>40039666</td><td>['F03D 1/0675', 'F03D 3/062']                                                                                                                                                                                      </td><td>['EP 2025928 A2', 'EP 2025928 A3']                 </td><td> 24 Jul 2008</td><td>2008</td></tr>\n",
       "\t<tr><td>EP1920908</td><td>Fri, 02 Nov 2007</td><td>1</td><td>Wed, 08 Apr 2015</td><td>39118022</td><td>['B29C 70/386', 'B29C 70/541', 'B29C 70/543', 'B29C 70/545', 'B29C 70/56']                                                                                                                                         </td><td>['EP 1920908 A1', 'EP 1920908 B1']                 </td><td> 02 Nov 2007</td><td>2007</td></tr>\n",
       "\t<tr><td>EP1972896</td><td>Sat, 08 Mar 2008</td><td>1</td><td>Wed, 06 May 2015</td><td>39544979</td><td>G01C 23/00                                                                                                                                                                                                         </td><td>['EP 1972896 A2', 'EP 1972896 A3', 'EP 1972896 B1']</td><td> 08 Mar 2008</td><td>2008</td></tr>\n",
       "\t<tr><td>EP2134522</td><td>Thu, 13 Mar 2008</td><td>1</td><td>Wed, 01 Mar 2017</td><td>39595708</td><td>['B29B 11/16', 'B29C 70/382', 'B29C 70/386', 'B29C 70/545', 'B65H 49/18', 'B65H 51/005', 'B65H 57/16', 'D02J 1/18', 'D04H 1/4242', 'D04H 1/60', 'D04H 1/655', 'D04H 13/00', 'D04H 3/002', 'D04H 3/04', 'D04H 3/12']</td><td>['EP 2134522 A1', 'EP 2134522 B1', 'EP 2134522 B8']</td><td> 13 Mar 2008</td><td>2008</td></tr>\n",
       "\t<tr><td>EP2136979</td><td>Thu, 13 Mar 2008</td><td>1</td><td>Wed, 11 May 2016</td><td>39495747</td><td>['B29B 11/16', 'B29C 31/085', 'B29C 70/386', 'B29C 70/541', 'B29C 70/543', 'B29C 70/545']                                                                                                                          </td><td>['EP 2136979 A1', 'EP 2136979 B1']                 </td><td> 13 Mar 2008</td><td>2008</td></tr>\n",
       "</tbody>\n",
       "</table>\n"
      ],
      "text/latex": [
       "A data.table: 6 × 9\n",
       "\\begin{tabular}{lllllllll}\n",
       " patentNumber & applicationDate & granted & grantDate & familyID & cpcTags & publicationItems & date & year\\\\\n",
       " <chr> & <chr> & <int> & <chr> & <int> & <chr> & <chr> & <chr> & <chr>\\\\\n",
       "\\hline\n",
       "\t EP2030891 & Wed, 04 Jun 2008 & 0 &                  & 39745168 & B64C 1/068                                                                                                                                                                                                          & {[}'EP 2030891 A2', 'EP 2030891 A3'{]}                  &  04 Jun 2008 & 2008\\\\\n",
       "\t EP2025928 & Thu, 24 Jul 2008 & 0 &                  & 40039666 & {[}'F03D 1/0675', 'F03D 3/062'{]}                                                                                                                                                                                       & {[}'EP 2025928 A2', 'EP 2025928 A3'{]}                  &  24 Jul 2008 & 2008\\\\\n",
       "\t EP1920908 & Fri, 02 Nov 2007 & 1 & Wed, 08 Apr 2015 & 39118022 & {[}'B29C 70/386', 'B29C 70/541', 'B29C 70/543', 'B29C 70/545', 'B29C 70/56'{]}                                                                                                                                          & {[}'EP 1920908 A1', 'EP 1920908 B1'{]}                  &  02 Nov 2007 & 2007\\\\\n",
       "\t EP1972896 & Sat, 08 Mar 2008 & 1 & Wed, 06 May 2015 & 39544979 & G01C 23/00                                                                                                                                                                                                          & {[}'EP 1972896 A2', 'EP 1972896 A3', 'EP 1972896 B1'{]} &  08 Mar 2008 & 2008\\\\\n",
       "\t EP2134522 & Thu, 13 Mar 2008 & 1 & Wed, 01 Mar 2017 & 39595708 & {[}'B29B 11/16', 'B29C 70/382', 'B29C 70/386', 'B29C 70/545', 'B65H 49/18', 'B65H 51/005', 'B65H 57/16', 'D02J 1/18', 'D04H 1/4242', 'D04H 1/60', 'D04H 1/655', 'D04H 13/00', 'D04H 3/002', 'D04H 3/04', 'D04H 3/12'{]} & {[}'EP 2134522 A1', 'EP 2134522 B1', 'EP 2134522 B8'{]} &  13 Mar 2008 & 2008\\\\\n",
       "\t EP2136979 & Thu, 13 Mar 2008 & 1 & Wed, 11 May 2016 & 39495747 & {[}'B29B 11/16', 'B29C 31/085', 'B29C 70/386', 'B29C 70/541', 'B29C 70/543', 'B29C 70/545'{]}                                                                                                                           & {[}'EP 2136979 A1', 'EP 2136979 B1'{]}                  &  13 Mar 2008 & 2008\\\\\n",
       "\\end{tabular}\n"
      ],
      "text/markdown": [
       "\n",
       "A data.table: 6 × 9\n",
       "\n",
       "| patentNumber &lt;chr&gt; | applicationDate &lt;chr&gt; | granted &lt;int&gt; | grantDate &lt;chr&gt; | familyID &lt;int&gt; | cpcTags &lt;chr&gt; | publicationItems &lt;chr&gt; | date &lt;chr&gt; | year &lt;chr&gt; |\n",
       "|---|---|---|---|---|---|---|---|---|\n",
       "| EP2030891 | Wed, 04 Jun 2008 | 0 | <!----> | 39745168 | B64C 1/068                                                                                                                                                                                                          | ['EP 2030891 A2', 'EP 2030891 A3']                  |  04 Jun 2008 | 2008 |\n",
       "| EP2025928 | Thu, 24 Jul 2008 | 0 | <!----> | 40039666 | ['F03D 1/0675', 'F03D 3/062']                                                                                                                                                                                       | ['EP 2025928 A2', 'EP 2025928 A3']                  |  24 Jul 2008 | 2008 |\n",
       "| EP1920908 | Fri, 02 Nov 2007 | 1 | Wed, 08 Apr 2015 | 39118022 | ['B29C 70/386', 'B29C 70/541', 'B29C 70/543', 'B29C 70/545', 'B29C 70/56']                                                                                                                                          | ['EP 1920908 A1', 'EP 1920908 B1']                  |  02 Nov 2007 | 2007 |\n",
       "| EP1972896 | Sat, 08 Mar 2008 | 1 | Wed, 06 May 2015 | 39544979 | G01C 23/00                                                                                                                                                                                                          | ['EP 1972896 A2', 'EP 1972896 A3', 'EP 1972896 B1'] |  08 Mar 2008 | 2008 |\n",
       "| EP2134522 | Thu, 13 Mar 2008 | 1 | Wed, 01 Mar 2017 | 39595708 | ['B29B 11/16', 'B29C 70/382', 'B29C 70/386', 'B29C 70/545', 'B65H 49/18', 'B65H 51/005', 'B65H 57/16', 'D02J 1/18', 'D04H 1/4242', 'D04H 1/60', 'D04H 1/655', 'D04H 13/00', 'D04H 3/002', 'D04H 3/04', 'D04H 3/12'] | ['EP 2134522 A1', 'EP 2134522 B1', 'EP 2134522 B8'] |  13 Mar 2008 | 2008 |\n",
       "| EP2136979 | Thu, 13 Mar 2008 | 1 | Wed, 11 May 2016 | 39495747 | ['B29B 11/16', 'B29C 31/085', 'B29C 70/386', 'B29C 70/541', 'B29C 70/543', 'B29C 70/545']                                                                                                                           | ['EP 2136979 A1', 'EP 2136979 B1']                  |  13 Mar 2008 | 2008 |\n",
       "\n"
      ],
      "text/plain": [
       "  patentNumber applicationDate  granted grantDate        familyID\n",
       "1 EP2030891    Wed, 04 Jun 2008 0                        39745168\n",
       "2 EP2025928    Thu, 24 Jul 2008 0                        40039666\n",
       "3 EP1920908    Fri, 02 Nov 2007 1       Wed, 08 Apr 2015 39118022\n",
       "4 EP1972896    Sat, 08 Mar 2008 1       Wed, 06 May 2015 39544979\n",
       "5 EP2134522    Thu, 13 Mar 2008 1       Wed, 01 Mar 2017 39595708\n",
       "6 EP2136979    Thu, 13 Mar 2008 1       Wed, 11 May 2016 39495747\n",
       "  cpcTags                                                                                                                                                                                                            \n",
       "1 B64C 1/068                                                                                                                                                                                                         \n",
       "2 ['F03D 1/0675', 'F03D 3/062']                                                                                                                                                                                      \n",
       "3 ['B29C 70/386', 'B29C 70/541', 'B29C 70/543', 'B29C 70/545', 'B29C 70/56']                                                                                                                                         \n",
       "4 G01C 23/00                                                                                                                                                                                                         \n",
       "5 ['B29B 11/16', 'B29C 70/382', 'B29C 70/386', 'B29C 70/545', 'B65H 49/18', 'B65H 51/005', 'B65H 57/16', 'D02J 1/18', 'D04H 1/4242', 'D04H 1/60', 'D04H 1/655', 'D04H 13/00', 'D04H 3/002', 'D04H 3/04', 'D04H 3/12']\n",
       "6 ['B29B 11/16', 'B29C 31/085', 'B29C 70/386', 'B29C 70/541', 'B29C 70/543', 'B29C 70/545']                                                                                                                          \n",
       "  publicationItems                                    date         year\n",
       "1 ['EP 2030891 A2', 'EP 2030891 A3']                   04 Jun 2008 2008\n",
       "2 ['EP 2025928 A2', 'EP 2025928 A3']                   24 Jul 2008 2008\n",
       "3 ['EP 1920908 A1', 'EP 1920908 B1']                   02 Nov 2007 2007\n",
       "4 ['EP 1972896 A2', 'EP 1972896 A3', 'EP 1972896 B1']  08 Mar 2008 2008\n",
       "5 ['EP 2134522 A1', 'EP 2134522 B1', 'EP 2134522 B8']  13 Mar 2008 2008\n",
       "6 ['EP 2136979 A1', 'EP 2136979 B1']                   13 Mar 2008 2008"
      ]
     },
     "metadata": {},
     "output_type": "display_data"
    }
   ],
   "source": [
    "airbus_ep_application %>%\n",
    "    .[, date := tstrsplit(applicationDate, split=',', keep=c(2))] %>%\n",
    "    .[, year := tstrsplit(date, split=' ', keep=c(4))] %>%\n",
    "    head()\n",
    "    "
   ]
  },
  {
   "cell_type": "code",
   "execution_count": 56,
   "metadata": {
    "vscode": {
     "languageId": "r"
    }
   },
   "outputs": [],
   "source": [
    "airbus_prior <- fread('./data/airbus_ep_pub_prior.csv')"
   ]
  },
  {
   "cell_type": "code",
   "execution_count": 57,
   "metadata": {
    "vscode": {
     "languageId": "r"
    }
   },
   "outputs": [
    {
     "data": {
      "text/html": [
       "<style>\n",
       ".list-inline {list-style: none; margin:0; padding: 0}\n",
       ".list-inline>li {display: inline-block}\n",
       ".list-inline>li:not(:last-child)::after {content: \"\\00b7\"; padding: 0 .5ex}\n",
       "</style>\n",
       "<ol class=list-inline><li>539</li><li>6</li></ol>\n"
      ],
      "text/latex": [
       "\\begin{enumerate*}\n",
       "\\item 539\n",
       "\\item 6\n",
       "\\end{enumerate*}\n"
      ],
      "text/markdown": [
       "1. 539\n",
       "2. 6\n",
       "\n",
       "\n"
      ],
      "text/plain": [
       "[1] 539   6"
      ]
     },
     "metadata": {},
     "output_type": "display_data"
    }
   ],
   "source": [
    "dim(airbus_prior)"
   ]
  },
  {
   "cell_type": "code",
   "execution_count": 86,
   "metadata": {
    "vscode": {
     "languageId": "r"
    }
   },
   "outputs": [
    {
     "data": {
      "text/html": [
       "<style>\n",
       ".list-inline {list-style: none; margin:0; padding: 0}\n",
       ".list-inline>li {display: inline-block}\n",
       ".list-inline>li:not(:last-child)::after {content: \"\\00b7\"; padding: 0 .5ex}\n",
       "</style>\n",
       "<ol class=list-inline><li>539</li><li>8</li></ol>\n"
      ],
      "text/latex": [
       "\\begin{enumerate*}\n",
       "\\item 539\n",
       "\\item 8\n",
       "\\end{enumerate*}\n"
      ],
      "text/markdown": [
       "1. 539\n",
       "2. 8\n",
       "\n",
       "\n"
      ],
      "text/plain": [
       "[1] 539   8"
      ]
     },
     "metadata": {},
     "output_type": "display_data"
    }
   ],
   "source": [
    "foo <- fread(\"./data/airbus_app_prior.csv\")\n",
    "dim(foo)"
   ]
  },
  {
   "cell_type": "code",
   "execution_count": null,
   "metadata": {
    "vscode": {
     "languageId": "r"
    }
   },
   "outputs": [],
   "source": [
    "get_date <- function(date_string) {\n",
    "    \n",
    "}"
   ]
  },
  {
   "cell_type": "code",
   "execution_count": 99,
   "metadata": {
    "vscode": {
     "languageId": "r"
    }
   },
   "outputs": [],
   "source": [
    "substrRight <- function(x, n=4){\n",
    "  substr(x, nchar(x)-n+1, nchar(x))\n",
    "}"
   ]
  },
  {
   "cell_type": "code",
   "execution_count": 100,
   "metadata": {
    "vscode": {
     "languageId": "r"
    }
   },
   "outputs": [
    {
     "data": {
      "text/html": [
       "'2007'"
      ],
      "text/latex": [
       "'2007'"
      ],
      "text/markdown": [
       "'2007'"
      ],
      "text/plain": [
       "[1] \"2007\""
      ]
     },
     "metadata": {},
     "output_type": "display_data"
    }
   ],
   "source": [
    "strfoo <- 'Fri, 02 Nov 2007'\n",
    "substrRight(strfoo)"
   ]
  },
  {
   "cell_type": "code",
   "execution_count": 135,
   "metadata": {
    "vscode": {
     "languageId": "r"
    }
   },
   "outputs": [],
   "source": [
    "foo %>%\n",
    "    .[, priorityYear := lapply(priorityDate, substrRight)] %>%\n",
    "    .[, applicationYear := lapply(applicationDate, substrRight)] %>%\n",
    "    .[, grantYear := lapply(grantDate, substrRight)] %>%\n",
    "    as_tibble() %>%\n",
    "    select(priorityYear, applicationYear, grantYear) %>%\n",
    "    group_by(grantYear) %>%\n",
    "    summarize(count=n()) -> gy_count"
   ]
  },
  {
   "cell_type": "code",
   "execution_count": 145,
   "metadata": {
    "vscode": {
     "languageId": "r"
    }
   },
   "outputs": [],
   "source": [
    "names(ay_count)[1] <- 'Year'\n",
    "names(py_count)[1] <- 'Year'\n",
    "names(gy_count)[1] <- 'Year'"
   ]
  },
  {
   "cell_type": "code",
   "execution_count": 160,
   "metadata": {
    "vscode": {
     "languageId": "r"
    }
   },
   "outputs": [
    {
     "data": {
      "text/html": [
       "<table class=\"dataframe\">\n",
       "<caption>A tibble: 6 × 4</caption>\n",
       "<thead>\n",
       "\t<tr><th scope=col>Year</th><th scope=col>priorityDate</th><th scope=col>applicationDate</th><th scope=col>grantedDate</th></tr>\n",
       "\t<tr><th scope=col>&lt;list&gt;</th><th scope=col>&lt;int&gt;</th><th scope=col>&lt;int&gt;</th><th scope=col>&lt;int&gt;</th></tr>\n",
       "</thead>\n",
       "<tbody>\n",
       "\t<tr><td>2006</td><td> 3</td><td>NA</td><td>NA</td></tr>\n",
       "\t<tr><td>2007</td><td>13</td><td> 3</td><td>NA</td></tr>\n",
       "\t<tr><td>2003</td><td> 1</td><td>NA</td><td>NA</td></tr>\n",
       "\t<tr><td>2004</td><td> 1</td><td> 1</td><td>NA</td></tr>\n",
       "\t<tr><td>2008</td><td>11</td><td>13</td><td>NA</td></tr>\n",
       "\t<tr><td>2009</td><td>16</td><td>11</td><td>NA</td></tr>\n",
       "</tbody>\n",
       "</table>\n"
      ],
      "text/latex": [
       "A tibble: 6 × 4\n",
       "\\begin{tabular}{llll}\n",
       " Year & priorityDate & applicationDate & grantedDate\\\\\n",
       " <list> & <int> & <int> & <int>\\\\\n",
       "\\hline\n",
       "\t 2006 &  3 & NA & NA\\\\\n",
       "\t 2007 & 13 &  3 & NA\\\\\n",
       "\t 2003 &  1 & NA & NA\\\\\n",
       "\t 2004 &  1 &  1 & NA\\\\\n",
       "\t 2008 & 11 & 13 & NA\\\\\n",
       "\t 2009 & 16 & 11 & NA\\\\\n",
       "\\end{tabular}\n"
      ],
      "text/markdown": [
       "\n",
       "A tibble: 6 × 4\n",
       "\n",
       "| Year &lt;list&gt; | priorityDate &lt;int&gt; | applicationDate &lt;int&gt; | grantedDate &lt;int&gt; |\n",
       "|---|---|---|---|\n",
       "| 2006 |  3 | NA | NA |\n",
       "| 2007 | 13 |  3 | NA |\n",
       "| 2003 |  1 | NA | NA |\n",
       "| 2004 |  1 |  1 | NA |\n",
       "| 2008 | 11 | 13 | NA |\n",
       "| 2009 | 16 | 11 | NA |\n",
       "\n"
      ],
      "text/plain": [
       "  Year priorityDate applicationDate grantedDate\n",
       "1 2006  3           NA              NA         \n",
       "2 2007 13            3              NA         \n",
       "3 2003  1           NA              NA         \n",
       "4 2004  1            1              NA         \n",
       "5 2008 11           13              NA         \n",
       "6 2009 16           11              NA         "
      ]
     },
     "metadata": {},
     "output_type": "display_data"
    }
   ],
   "source": [
    "fj1 <- full_join(py_count, ay_count, by='Year') \n",
    "fj2 <- full_join(fj1, gy_count, by='Year')\n",
    "names(fj2) <- c('Year', 'priorityDate', 'applicationDate', 'grantedDate')\n",
    "head(fj2)"
   ]
  },
  {
   "cell_type": "code",
   "execution_count": 161,
   "metadata": {
    "vscode": {
     "languageId": "r"
    }
   },
   "outputs": [],
   "source": [
    "fwrite(fj2, './data/fj2.csv')"
   ]
  },
  {
   "attachments": {},
   "cell_type": "markdown",
   "metadata": {},
   "source": [
    "## EPO Citations"
   ]
  },
  {
   "cell_type": "code",
   "execution_count": 15,
   "metadata": {
    "vscode": {
     "languageId": "r"
    }
   },
   "outputs": [],
   "source": [
    "epo_citations <- fread('./data/202208_EPO_CITATIONS.txt')"
   ]
  },
  {
   "cell_type": "code",
   "execution_count": 16,
   "metadata": {
    "vscode": {
     "languageId": "r"
    }
   },
   "outputs": [
    {
     "data": {
      "text/html": [
       "<style>\n",
       ".list-inline {list-style: none; margin:0; padding: 0}\n",
       ".list-inline>li {display: inline-block}\n",
       ".list-inline>li:not(:last-child)::after {content: \"\\00b7\"; padding: 0 .5ex}\n",
       "</style>\n",
       "<ol class=list-inline><li>12965763</li><li>15</li></ol>\n"
      ],
      "text/latex": [
       "\\begin{enumerate*}\n",
       "\\item 12965763\n",
       "\\item 15\n",
       "\\end{enumerate*}\n"
      ],
      "text/markdown": [
       "1. 12965763\n",
       "2. 15\n",
       "\n",
       "\n"
      ],
      "text/plain": [
       "[1] 12965763       15"
      ]
     },
     "metadata": {},
     "output_type": "display_data"
    }
   ],
   "source": [
    "dim(epo_citations)"
   ]
  },
  {
   "cell_type": "code",
   "execution_count": 17,
   "metadata": {
    "vscode": {
     "languageId": "r"
    }
   },
   "outputs": [
    {
     "data": {
      "text/html": [
       "<table class=\"dataframe\">\n",
       "<caption>A data.table: 6 × 15</caption>\n",
       "<thead>\n",
       "\t<tr><th scope=col>Citing_pub_nbr</th><th scope=col>Citing_pub_date</th><th scope=col>Citing_app_nbr</th><th scope=col>Citing_appln_id</th><th scope=col>Cited_pub_nbr</th><th scope=col>Cited_pub_date</th><th scope=col>Cited_App_auth</th><th scope=col>Cited_App_nbr</th><th scope=col>Cited_Appln_id</th><th scope=col>Cit_Total</th><th scope=col>Citn_origin</th><th scope=col>Citn_category</th><th scope=col>Citn_lag_year</th><th scope=col>Citn_lag_month</th><th scope=col>PCT_Route</th></tr>\n",
       "\t<tr><th scope=col>&lt;chr&gt;</th><th scope=col>&lt;IDate&gt;</th><th scope=col>&lt;chr&gt;</th><th scope=col>&lt;int&gt;</th><th scope=col>&lt;chr&gt;</th><th scope=col>&lt;IDate&gt;</th><th scope=col>&lt;chr&gt;</th><th scope=col>&lt;chr&gt;</th><th scope=col>&lt;int&gt;</th><th scope=col>&lt;int&gt;</th><th scope=col>&lt;chr&gt;</th><th scope=col>&lt;chr&gt;</th><th scope=col>&lt;int&gt;</th><th scope=col>&lt;int&gt;</th><th scope=col>&lt;int&gt;</th></tr>\n",
       "</thead>\n",
       "<tbody>\n",
       "\t<tr><td>EP0000001</td><td>1978-12-20</td><td>EP19780200013</td><td>16428854</td><td>DE2161506</td><td>1973-06-14</td><td>DE</td><td>DE2161506 </td><td> 9912741</td><td>7</td><td>SEA</td><td>A</td><td>5</td><td>66</td><td>0</td></tr>\n",
       "\t<tr><td>EP0000001</td><td>1978-12-20</td><td>EP19780200013</td><td>16428854</td><td>FR2025459</td><td>1970-09-11</td><td>FR</td><td>FR6942154 </td><td>19548401</td><td>7</td><td>SEA</td><td> </td><td>8</td><td>99</td><td>0</td></tr>\n",
       "\t<tr><td>EP0000001</td><td>1978-12-20</td><td>EP19780200013</td><td>16428854</td><td>US3532159</td><td>1970-10-06</td><td>US</td><td>US3532159D</td><td>49957875</td><td>7</td><td>SEA</td><td> </td><td>8</td><td>98</td><td>0</td></tr>\n",
       "\t<tr><td>EP0000001</td><td>1978-12-20</td><td>EP19780200013</td><td>16428854</td><td>US3568762</td><td>1971-03-09</td><td>US</td><td>US3568762D</td><td>50023219</td><td>7</td><td>SEA</td><td> </td><td>7</td><td>93</td><td>0</td></tr>\n",
       "\t<tr><td>EP0000001</td><td>1978-12-20</td><td>EP19780200013</td><td>16428854</td><td>US3913665</td><td>1975-10-21</td><td>US</td><td>US40265573</td><td>50609500</td><td>7</td><td>SEA</td><td> </td><td>3</td><td>38</td><td>0</td></tr>\n",
       "\t<tr><td>EP0000001</td><td>1978-12-20</td><td>EP19780200013</td><td>16428854</td><td>US4018269</td><td>1977-04-19</td><td>US</td><td>US46803374</td><td>51119449</td><td>7</td><td>SEA</td><td> </td><td>1</td><td>20</td><td>0</td></tr>\n",
       "</tbody>\n",
       "</table>\n"
      ],
      "text/latex": [
       "A data.table: 6 × 15\n",
       "\\begin{tabular}{lllllllllllllll}\n",
       " Citing\\_pub\\_nbr & Citing\\_pub\\_date & Citing\\_app\\_nbr & Citing\\_appln\\_id & Cited\\_pub\\_nbr & Cited\\_pub\\_date & Cited\\_App\\_auth & Cited\\_App\\_nbr & Cited\\_Appln\\_id & Cit\\_Total & Citn\\_origin & Citn\\_category & Citn\\_lag\\_year & Citn\\_lag\\_month & PCT\\_Route\\\\\n",
       " <chr> & <IDate> & <chr> & <int> & <chr> & <IDate> & <chr> & <chr> & <int> & <int> & <chr> & <chr> & <int> & <int> & <int>\\\\\n",
       "\\hline\n",
       "\t EP0000001 & 1978-12-20 & EP19780200013 & 16428854 & DE2161506 & 1973-06-14 & DE & DE2161506  &  9912741 & 7 & SEA & A & 5 & 66 & 0\\\\\n",
       "\t EP0000001 & 1978-12-20 & EP19780200013 & 16428854 & FR2025459 & 1970-09-11 & FR & FR6942154  & 19548401 & 7 & SEA &   & 8 & 99 & 0\\\\\n",
       "\t EP0000001 & 1978-12-20 & EP19780200013 & 16428854 & US3532159 & 1970-10-06 & US & US3532159D & 49957875 & 7 & SEA &   & 8 & 98 & 0\\\\\n",
       "\t EP0000001 & 1978-12-20 & EP19780200013 & 16428854 & US3568762 & 1971-03-09 & US & US3568762D & 50023219 & 7 & SEA &   & 7 & 93 & 0\\\\\n",
       "\t EP0000001 & 1978-12-20 & EP19780200013 & 16428854 & US3913665 & 1975-10-21 & US & US40265573 & 50609500 & 7 & SEA &   & 3 & 38 & 0\\\\\n",
       "\t EP0000001 & 1978-12-20 & EP19780200013 & 16428854 & US4018269 & 1977-04-19 & US & US46803374 & 51119449 & 7 & SEA &   & 1 & 20 & 0\\\\\n",
       "\\end{tabular}\n"
      ],
      "text/markdown": [
       "\n",
       "A data.table: 6 × 15\n",
       "\n",
       "| Citing_pub_nbr &lt;chr&gt; | Citing_pub_date &lt;IDate&gt; | Citing_app_nbr &lt;chr&gt; | Citing_appln_id &lt;int&gt; | Cited_pub_nbr &lt;chr&gt; | Cited_pub_date &lt;IDate&gt; | Cited_App_auth &lt;chr&gt; | Cited_App_nbr &lt;chr&gt; | Cited_Appln_id &lt;int&gt; | Cit_Total &lt;int&gt; | Citn_origin &lt;chr&gt; | Citn_category &lt;chr&gt; | Citn_lag_year &lt;int&gt; | Citn_lag_month &lt;int&gt; | PCT_Route &lt;int&gt; |\n",
       "|---|---|---|---|---|---|---|---|---|---|---|---|---|---|---|\n",
       "| EP0000001 | 1978-12-20 | EP19780200013 | 16428854 | DE2161506 | 1973-06-14 | DE | DE2161506  |  9912741 | 7 | SEA | A | 5 | 66 | 0 |\n",
       "| EP0000001 | 1978-12-20 | EP19780200013 | 16428854 | FR2025459 | 1970-09-11 | FR | FR6942154  | 19548401 | 7 | SEA | <!----> | 8 | 99 | 0 |\n",
       "| EP0000001 | 1978-12-20 | EP19780200013 | 16428854 | US3532159 | 1970-10-06 | US | US3532159D | 49957875 | 7 | SEA | <!----> | 8 | 98 | 0 |\n",
       "| EP0000001 | 1978-12-20 | EP19780200013 | 16428854 | US3568762 | 1971-03-09 | US | US3568762D | 50023219 | 7 | SEA | <!----> | 7 | 93 | 0 |\n",
       "| EP0000001 | 1978-12-20 | EP19780200013 | 16428854 | US3913665 | 1975-10-21 | US | US40265573 | 50609500 | 7 | SEA | <!----> | 3 | 38 | 0 |\n",
       "| EP0000001 | 1978-12-20 | EP19780200013 | 16428854 | US4018269 | 1977-04-19 | US | US46803374 | 51119449 | 7 | SEA | <!----> | 1 | 20 | 0 |\n",
       "\n"
      ],
      "text/plain": [
       "  Citing_pub_nbr Citing_pub_date Citing_app_nbr Citing_appln_id Cited_pub_nbr\n",
       "1 EP0000001      1978-12-20      EP19780200013  16428854        DE2161506    \n",
       "2 EP0000001      1978-12-20      EP19780200013  16428854        FR2025459    \n",
       "3 EP0000001      1978-12-20      EP19780200013  16428854        US3532159    \n",
       "4 EP0000001      1978-12-20      EP19780200013  16428854        US3568762    \n",
       "5 EP0000001      1978-12-20      EP19780200013  16428854        US3913665    \n",
       "6 EP0000001      1978-12-20      EP19780200013  16428854        US4018269    \n",
       "  Cited_pub_date Cited_App_auth Cited_App_nbr Cited_Appln_id Cit_Total\n",
       "1 1973-06-14     DE             DE2161506      9912741       7        \n",
       "2 1970-09-11     FR             FR6942154     19548401       7        \n",
       "3 1970-10-06     US             US3532159D    49957875       7        \n",
       "4 1971-03-09     US             US3568762D    50023219       7        \n",
       "5 1975-10-21     US             US40265573    50609500       7        \n",
       "6 1977-04-19     US             US46803374    51119449       7        \n",
       "  Citn_origin Citn_category Citn_lag_year Citn_lag_month PCT_Route\n",
       "1 SEA         A             5             66             0        \n",
       "2 SEA                       8             99             0        \n",
       "3 SEA                       8             98             0        \n",
       "4 SEA                       7             93             0        \n",
       "5 SEA                       3             38             0        \n",
       "6 SEA                       1             20             0        "
      ]
     },
     "metadata": {},
     "output_type": "display_data"
    }
   ],
   "source": [
    "head(epo_citations)"
   ]
  },
  {
   "cell_type": "code",
   "execution_count": 18,
   "metadata": {
    "vscode": {
     "languageId": "r"
    }
   },
   "outputs": [
    {
     "data": {
      "text/html": [
       "<table class=\"dataframe\">\n",
       "<caption>A data.table: 5 × 15</caption>\n",
       "<thead>\n",
       "\t<tr><th scope=col>Citing_pub_nbr</th><th scope=col>Citing_pub_date</th><th scope=col>Citing_app_nbr</th><th scope=col>Citing_appln_id</th><th scope=col>Cited_pub_nbr</th><th scope=col>Cited_pub_date</th><th scope=col>Cited_App_auth</th><th scope=col>Cited_App_nbr</th><th scope=col>Cited_Appln_id</th><th scope=col>Cit_Total</th><th scope=col>Citn_origin</th><th scope=col>Citn_category</th><th scope=col>Citn_lag_year</th><th scope=col>Citn_lag_month</th><th scope=col>PCT_Route</th></tr>\n",
       "\t<tr><th scope=col>&lt;chr&gt;</th><th scope=col>&lt;IDate&gt;</th><th scope=col>&lt;chr&gt;</th><th scope=col>&lt;int&gt;</th><th scope=col>&lt;chr&gt;</th><th scope=col>&lt;IDate&gt;</th><th scope=col>&lt;chr&gt;</th><th scope=col>&lt;chr&gt;</th><th scope=col>&lt;int&gt;</th><th scope=col>&lt;int&gt;</th><th scope=col>&lt;chr&gt;</th><th scope=col>&lt;chr&gt;</th><th scope=col>&lt;int&gt;</th><th scope=col>&lt;int&gt;</th><th scope=col>&lt;int&gt;</th></tr>\n",
       "</thead>\n",
       "<tbody>\n",
       "\t<tr><td>EP2030891</td><td>2009-03-04</td><td>EP20080010159</td><td>213</td><td>DE3141869     </td><td>1983-05-11</td><td>DE</td><td>DE3141869     </td><td>10572877</td><td>4</td><td>APP</td><td>  </td><td>26</td><td>310</td><td>0</td></tr>\n",
       "\t<tr><td>EP2030891</td><td>2009-03-04</td><td>EP20080010159</td><td>213</td><td>DE3141869     </td><td>1983-05-11</td><td>DE</td><td>DE3141869     </td><td>10572877</td><td>4</td><td>SEA</td><td>  </td><td>26</td><td>310</td><td>0</td></tr>\n",
       "\t<tr><td>EP2030891</td><td>2009-03-04</td><td>EP20080010159</td><td>213</td><td>DE3501887     </td><td>1986-07-24</td><td>DE</td><td>DE3501887     </td><td>10818969</td><td>4</td><td>SEA</td><td>XA</td><td>23</td><td>272</td><td>0</td></tr>\n",
       "\t<tr><td>EP2030891</td><td>2009-03-04</td><td>EP20080010159</td><td>213</td><td>DE102005002370</td><td>2006-07-27</td><td>DE</td><td>DE102005002370</td><td>14971442</td><td>4</td><td>SEA</td><td>Y </td><td> 3</td><td> 32</td><td>0</td></tr>\n",
       "\t<tr><td>EP2030891</td><td>2009-03-04</td><td>EP20080010159</td><td>213</td><td>DE102005045181</td><td>2007-04-05</td><td>DE</td><td>DE102005045181</td><td>15003772</td><td>4</td><td>SEA</td><td>Y </td><td> 2</td><td> 23</td><td>0</td></tr>\n",
       "</tbody>\n",
       "</table>\n"
      ],
      "text/latex": [
       "A data.table: 5 × 15\n",
       "\\begin{tabular}{lllllllllllllll}\n",
       " Citing\\_pub\\_nbr & Citing\\_pub\\_date & Citing\\_app\\_nbr & Citing\\_appln\\_id & Cited\\_pub\\_nbr & Cited\\_pub\\_date & Cited\\_App\\_auth & Cited\\_App\\_nbr & Cited\\_Appln\\_id & Cit\\_Total & Citn\\_origin & Citn\\_category & Citn\\_lag\\_year & Citn\\_lag\\_month & PCT\\_Route\\\\\n",
       " <chr> & <IDate> & <chr> & <int> & <chr> & <IDate> & <chr> & <chr> & <int> & <int> & <chr> & <chr> & <int> & <int> & <int>\\\\\n",
       "\\hline\n",
       "\t EP2030891 & 2009-03-04 & EP20080010159 & 213 & DE3141869      & 1983-05-11 & DE & DE3141869      & 10572877 & 4 & APP &    & 26 & 310 & 0\\\\\n",
       "\t EP2030891 & 2009-03-04 & EP20080010159 & 213 & DE3141869      & 1983-05-11 & DE & DE3141869      & 10572877 & 4 & SEA &    & 26 & 310 & 0\\\\\n",
       "\t EP2030891 & 2009-03-04 & EP20080010159 & 213 & DE3501887      & 1986-07-24 & DE & DE3501887      & 10818969 & 4 & SEA & XA & 23 & 272 & 0\\\\\n",
       "\t EP2030891 & 2009-03-04 & EP20080010159 & 213 & DE102005002370 & 2006-07-27 & DE & DE102005002370 & 14971442 & 4 & SEA & Y  &  3 &  32 & 0\\\\\n",
       "\t EP2030891 & 2009-03-04 & EP20080010159 & 213 & DE102005045181 & 2007-04-05 & DE & DE102005045181 & 15003772 & 4 & SEA & Y  &  2 &  23 & 0\\\\\n",
       "\\end{tabular}\n"
      ],
      "text/markdown": [
       "\n",
       "A data.table: 5 × 15\n",
       "\n",
       "| Citing_pub_nbr &lt;chr&gt; | Citing_pub_date &lt;IDate&gt; | Citing_app_nbr &lt;chr&gt; | Citing_appln_id &lt;int&gt; | Cited_pub_nbr &lt;chr&gt; | Cited_pub_date &lt;IDate&gt; | Cited_App_auth &lt;chr&gt; | Cited_App_nbr &lt;chr&gt; | Cited_Appln_id &lt;int&gt; | Cit_Total &lt;int&gt; | Citn_origin &lt;chr&gt; | Citn_category &lt;chr&gt; | Citn_lag_year &lt;int&gt; | Citn_lag_month &lt;int&gt; | PCT_Route &lt;int&gt; |\n",
       "|---|---|---|---|---|---|---|---|---|---|---|---|---|---|---|\n",
       "| EP2030891 | 2009-03-04 | EP20080010159 | 213 | DE3141869      | 1983-05-11 | DE | DE3141869      | 10572877 | 4 | APP | <!----> | 26 | 310 | 0 |\n",
       "| EP2030891 | 2009-03-04 | EP20080010159 | 213 | DE3141869      | 1983-05-11 | DE | DE3141869      | 10572877 | 4 | SEA | <!----> | 26 | 310 | 0 |\n",
       "| EP2030891 | 2009-03-04 | EP20080010159 | 213 | DE3501887      | 1986-07-24 | DE | DE3501887      | 10818969 | 4 | SEA | XA | 23 | 272 | 0 |\n",
       "| EP2030891 | 2009-03-04 | EP20080010159 | 213 | DE102005002370 | 2006-07-27 | DE | DE102005002370 | 14971442 | 4 | SEA | Y  |  3 |  32 | 0 |\n",
       "| EP2030891 | 2009-03-04 | EP20080010159 | 213 | DE102005045181 | 2007-04-05 | DE | DE102005045181 | 15003772 | 4 | SEA | Y  |  2 |  23 | 0 |\n",
       "\n"
      ],
      "text/plain": [
       "  Citing_pub_nbr Citing_pub_date Citing_app_nbr Citing_appln_id Cited_pub_nbr \n",
       "1 EP2030891      2009-03-04      EP20080010159  213             DE3141869     \n",
       "2 EP2030891      2009-03-04      EP20080010159  213             DE3141869     \n",
       "3 EP2030891      2009-03-04      EP20080010159  213             DE3501887     \n",
       "4 EP2030891      2009-03-04      EP20080010159  213             DE102005002370\n",
       "5 EP2030891      2009-03-04      EP20080010159  213             DE102005045181\n",
       "  Cited_pub_date Cited_App_auth Cited_App_nbr  Cited_Appln_id Cit_Total\n",
       "1 1983-05-11     DE             DE3141869      10572877       4        \n",
       "2 1983-05-11     DE             DE3141869      10572877       4        \n",
       "3 1986-07-24     DE             DE3501887      10818969       4        \n",
       "4 2006-07-27     DE             DE102005002370 14971442       4        \n",
       "5 2007-04-05     DE             DE102005045181 15003772       4        \n",
       "  Citn_origin Citn_category Citn_lag_year Citn_lag_month PCT_Route\n",
       "1 APP                       26            310            0        \n",
       "2 SEA                       26            310            0        \n",
       "3 SEA         XA            23            272            0        \n",
       "4 SEA         Y              3             32            0        \n",
       "5 SEA         Y              2             23            0        "
      ]
     },
     "metadata": {},
     "output_type": "display_data"
    }
   ],
   "source": [
    "epo_citations %>%\n",
    "    .[Citing_pub_nbr == 'EP2030891']"
   ]
  },
  {
   "cell_type": "code",
   "execution_count": 19,
   "metadata": {
    "vscode": {
     "languageId": "r"
    }
   },
   "outputs": [],
   "source": [
    "epo_cit_counts <- fread('./data/202208_EPO_CIT_COUNTS.txt')"
   ]
  },
  {
   "cell_type": "code",
   "execution_count": 20,
   "metadata": {
    "vscode": {
     "languageId": "r"
    }
   },
   "outputs": [
    {
     "data": {
      "text/html": [
       "<style>\n",
       ".list-inline {list-style: none; margin:0; padding: 0}\n",
       ".list-inline>li {display: inline-block}\n",
       ".list-inline>li:not(:last-child)::after {content: \"\\00b7\"; padding: 0 .5ex}\n",
       "</style>\n",
       "<ol class=list-inline><li>2597090</li><li>35</li></ol>\n"
      ],
      "text/latex": [
       "\\begin{enumerate*}\n",
       "\\item 2597090\n",
       "\\item 35\n",
       "\\end{enumerate*}\n"
      ],
      "text/markdown": [
       "1. 2597090\n",
       "2. 35\n",
       "\n",
       "\n"
      ],
      "text/plain": [
       "[1] 2597090      35"
      ]
     },
     "metadata": {},
     "output_type": "display_data"
    }
   ],
   "source": [
    "dim(epo_cit_counts)"
   ]
  },
  {
   "cell_type": "code",
   "execution_count": 21,
   "metadata": {
    "vscode": {
     "languageId": "r"
    }
   },
   "outputs": [
    {
     "data": {
      "text/html": [
       "<table class=\"dataframe\">\n",
       "<caption>A data.table: 6 × 35</caption>\n",
       "<thead>\n",
       "\t<tr><th scope=col>EP_Pub_nbr</th><th scope=col>EP_Pub_date</th><th scope=col>EP_Appln_id</th><th scope=col>WO_Pub_nbr</th><th scope=col>WO_Appln_id</th><th scope=col>EP_Grant</th><th scope=col>Withdrawal</th><th scope=col>Refusal</th><th scope=col>EP_Pat_Cits</th><th scope=col>EP_NPL_Cits</th><th scope=col>⋯</th><th scope=col>Recd_asWO_byWO</th><th scope=col>Direct_cits_Recd</th><th scope=col>Recd_asEQV_byEP</th><th scope=col>Recd_asEQV_byWO</th><th scope=col>Total_cits_Recd</th><th scope=col>Recd_in3_asEP</th><th scope=col>Recd_in3_asWO</th><th scope=col>Direct_cits_Recd_in3</th><th scope=col>Recd_in3_asEQV</th><th scope=col>Total_cits_Recd_in3</th></tr>\n",
       "\t<tr><th scope=col>&lt;chr&gt;</th><th scope=col>&lt;int&gt;</th><th scope=col>&lt;int&gt;</th><th scope=col>&lt;chr&gt;</th><th scope=col>&lt;int&gt;</th><th scope=col>&lt;int&gt;</th><th scope=col>&lt;int&gt;</th><th scope=col>&lt;int&gt;</th><th scope=col>&lt;int&gt;</th><th scope=col>&lt;int&gt;</th><th scope=col>⋯</th><th scope=col>&lt;int&gt;</th><th scope=col>&lt;int&gt;</th><th scope=col>&lt;int&gt;</th><th scope=col>&lt;int&gt;</th><th scope=col>&lt;int&gt;</th><th scope=col>&lt;int&gt;</th><th scope=col>&lt;int&gt;</th><th scope=col>&lt;int&gt;</th><th scope=col>&lt;int&gt;</th><th scope=col>&lt;int&gt;</th></tr>\n",
       "</thead>\n",
       "<tbody>\n",
       "\t<tr><td>EP0000001</td><td>19781220</td><td>16428854</td><td></td><td>NA</td><td>19810107</td><td>0</td><td>0</td><td>7</td><td>0</td><td>⋯</td><td>0</td><td>2</td><td>0</td><td>2</td><td>4</td><td>1</td><td>0</td><td>1</td><td>0</td><td>1</td></tr>\n",
       "\t<tr><td>EP0000002</td><td>19781220</td><td>16427091</td><td></td><td>NA</td><td>19810826</td><td>0</td><td>0</td><td>2</td><td>1</td><td>⋯</td><td>0</td><td>4</td><td>0</td><td>0</td><td>4</td><td>1</td><td>0</td><td>1</td><td>0</td><td>1</td></tr>\n",
       "\t<tr><td>EP0000003</td><td>19781220</td><td>16429215</td><td></td><td>NA</td><td>      NA</td><td>1</td><td>0</td><td>1</td><td>0</td><td>⋯</td><td>0</td><td>0</td><td>0</td><td>0</td><td>0</td><td>0</td><td>0</td><td>0</td><td>0</td><td>0</td></tr>\n",
       "\t<tr><td>EP0000004</td><td>19781220</td><td>16427120</td><td></td><td>NA</td><td>19800903</td><td>0</td><td>0</td><td>4</td><td>0</td><td>⋯</td><td>0</td><td>0</td><td>0</td><td>0</td><td>0</td><td>0</td><td>0</td><td>0</td><td>0</td><td>0</td></tr>\n",
       "\t<tr><td>EP0000005</td><td>19781220</td><td>16427159</td><td></td><td>NA</td><td>19801029</td><td>0</td><td>0</td><td>3</td><td>0</td><td>⋯</td><td>0</td><td>4</td><td>1</td><td>0</td><td>5</td><td>1</td><td>0</td><td>1</td><td>1</td><td>2</td></tr>\n",
       "\t<tr><td>EP0000006</td><td>19781220</td><td>16428868</td><td></td><td>NA</td><td>19810204</td><td>0</td><td>0</td><td>3</td><td>2</td><td>⋯</td><td>0</td><td>1</td><td>0</td><td>0</td><td>1</td><td>0</td><td>0</td><td>0</td><td>0</td><td>0</td></tr>\n",
       "</tbody>\n",
       "</table>\n"
      ],
      "text/latex": [
       "A data.table: 6 × 35\n",
       "\\begin{tabular}{lllllllllllllllllllll}\n",
       " EP\\_Pub\\_nbr & EP\\_Pub\\_date & EP\\_Appln\\_id & WO\\_Pub\\_nbr & WO\\_Appln\\_id & EP\\_Grant & Withdrawal & Refusal & EP\\_Pat\\_Cits & EP\\_NPL\\_Cits & ⋯ & Recd\\_asWO\\_byWO & Direct\\_cits\\_Recd & Recd\\_asEQV\\_byEP & Recd\\_asEQV\\_byWO & Total\\_cits\\_Recd & Recd\\_in3\\_asEP & Recd\\_in3\\_asWO & Direct\\_cits\\_Recd\\_in3 & Recd\\_in3\\_asEQV & Total\\_cits\\_Recd\\_in3\\\\\n",
       " <chr> & <int> & <int> & <chr> & <int> & <int> & <int> & <int> & <int> & <int> & ⋯ & <int> & <int> & <int> & <int> & <int> & <int> & <int> & <int> & <int> & <int>\\\\\n",
       "\\hline\n",
       "\t EP0000001 & 19781220 & 16428854 &  & NA & 19810107 & 0 & 0 & 7 & 0 & ⋯ & 0 & 2 & 0 & 2 & 4 & 1 & 0 & 1 & 0 & 1\\\\\n",
       "\t EP0000002 & 19781220 & 16427091 &  & NA & 19810826 & 0 & 0 & 2 & 1 & ⋯ & 0 & 4 & 0 & 0 & 4 & 1 & 0 & 1 & 0 & 1\\\\\n",
       "\t EP0000003 & 19781220 & 16429215 &  & NA &       NA & 1 & 0 & 1 & 0 & ⋯ & 0 & 0 & 0 & 0 & 0 & 0 & 0 & 0 & 0 & 0\\\\\n",
       "\t EP0000004 & 19781220 & 16427120 &  & NA & 19800903 & 0 & 0 & 4 & 0 & ⋯ & 0 & 0 & 0 & 0 & 0 & 0 & 0 & 0 & 0 & 0\\\\\n",
       "\t EP0000005 & 19781220 & 16427159 &  & NA & 19801029 & 0 & 0 & 3 & 0 & ⋯ & 0 & 4 & 1 & 0 & 5 & 1 & 0 & 1 & 1 & 2\\\\\n",
       "\t EP0000006 & 19781220 & 16428868 &  & NA & 19810204 & 0 & 0 & 3 & 2 & ⋯ & 0 & 1 & 0 & 0 & 1 & 0 & 0 & 0 & 0 & 0\\\\\n",
       "\\end{tabular}\n"
      ],
      "text/markdown": [
       "\n",
       "A data.table: 6 × 35\n",
       "\n",
       "| EP_Pub_nbr &lt;chr&gt; | EP_Pub_date &lt;int&gt; | EP_Appln_id &lt;int&gt; | WO_Pub_nbr &lt;chr&gt; | WO_Appln_id &lt;int&gt; | EP_Grant &lt;int&gt; | Withdrawal &lt;int&gt; | Refusal &lt;int&gt; | EP_Pat_Cits &lt;int&gt; | EP_NPL_Cits &lt;int&gt; | ⋯ ⋯ | Recd_asWO_byWO &lt;int&gt; | Direct_cits_Recd &lt;int&gt; | Recd_asEQV_byEP &lt;int&gt; | Recd_asEQV_byWO &lt;int&gt; | Total_cits_Recd &lt;int&gt; | Recd_in3_asEP &lt;int&gt; | Recd_in3_asWO &lt;int&gt; | Direct_cits_Recd_in3 &lt;int&gt; | Recd_in3_asEQV &lt;int&gt; | Total_cits_Recd_in3 &lt;int&gt; |\n",
       "|---|---|---|---|---|---|---|---|---|---|---|---|---|---|---|---|---|---|---|---|---|\n",
       "| EP0000001 | 19781220 | 16428854 | <!----> | NA | 19810107 | 0 | 0 | 7 | 0 | ⋯ | 0 | 2 | 0 | 2 | 4 | 1 | 0 | 1 | 0 | 1 |\n",
       "| EP0000002 | 19781220 | 16427091 | <!----> | NA | 19810826 | 0 | 0 | 2 | 1 | ⋯ | 0 | 4 | 0 | 0 | 4 | 1 | 0 | 1 | 0 | 1 |\n",
       "| EP0000003 | 19781220 | 16429215 | <!----> | NA |       NA | 1 | 0 | 1 | 0 | ⋯ | 0 | 0 | 0 | 0 | 0 | 0 | 0 | 0 | 0 | 0 |\n",
       "| EP0000004 | 19781220 | 16427120 | <!----> | NA | 19800903 | 0 | 0 | 4 | 0 | ⋯ | 0 | 0 | 0 | 0 | 0 | 0 | 0 | 0 | 0 | 0 |\n",
       "| EP0000005 | 19781220 | 16427159 | <!----> | NA | 19801029 | 0 | 0 | 3 | 0 | ⋯ | 0 | 4 | 1 | 0 | 5 | 1 | 0 | 1 | 1 | 2 |\n",
       "| EP0000006 | 19781220 | 16428868 | <!----> | NA | 19810204 | 0 | 0 | 3 | 2 | ⋯ | 0 | 1 | 0 | 0 | 1 | 0 | 0 | 0 | 0 | 0 |\n",
       "\n"
      ],
      "text/plain": [
       "  EP_Pub_nbr EP_Pub_date EP_Appln_id WO_Pub_nbr WO_Appln_id EP_Grant Withdrawal\n",
       "1 EP0000001  19781220    16428854               NA          19810107 0         \n",
       "2 EP0000002  19781220    16427091               NA          19810826 0         \n",
       "3 EP0000003  19781220    16429215               NA                NA 1         \n",
       "4 EP0000004  19781220    16427120               NA          19800903 0         \n",
       "5 EP0000005  19781220    16427159               NA          19801029 0         \n",
       "6 EP0000006  19781220    16428868               NA          19810204 0         \n",
       "  Refusal EP_Pat_Cits EP_NPL_Cits ⋯ Recd_asWO_byWO Direct_cits_Recd\n",
       "1 0       7           0           ⋯ 0              2               \n",
       "2 0       2           1           ⋯ 0              4               \n",
       "3 0       1           0           ⋯ 0              0               \n",
       "4 0       4           0           ⋯ 0              0               \n",
       "5 0       3           0           ⋯ 0              4               \n",
       "6 0       3           2           ⋯ 0              1               \n",
       "  Recd_asEQV_byEP Recd_asEQV_byWO Total_cits_Recd Recd_in3_asEP Recd_in3_asWO\n",
       "1 0               2               4               1             0            \n",
       "2 0               0               4               1             0            \n",
       "3 0               0               0               0             0            \n",
       "4 0               0               0               0             0            \n",
       "5 1               0               5               1             0            \n",
       "6 0               0               1               0             0            \n",
       "  Direct_cits_Recd_in3 Recd_in3_asEQV Total_cits_Recd_in3\n",
       "1 1                    0              1                  \n",
       "2 1                    0              1                  \n",
       "3 0                    0              0                  \n",
       "4 0                    0              0                  \n",
       "5 1                    1              2                  \n",
       "6 0                    0              0                  "
      ]
     },
     "metadata": {},
     "output_type": "display_data"
    }
   ],
   "source": [
    "head(epo_cit_counts)"
   ]
  },
  {
   "cell_type": "code",
   "execution_count": 179,
   "metadata": {
    "vscode": {
     "languageId": "r"
    }
   },
   "outputs": [
    {
     "data": {
      "text/html": [
       "<table class=\"dataframe\">\n",
       "<caption>A data.table: 1 × 35</caption>\n",
       "<thead>\n",
       "\t<tr><th scope=col>EP_Pub_nbr</th><th scope=col>EP_Pub_date</th><th scope=col>EP_Appln_id</th><th scope=col>WO_Pub_nbr</th><th scope=col>WO_Appln_id</th><th scope=col>EP_Grant</th><th scope=col>Withdrawal</th><th scope=col>Refusal</th><th scope=col>EP_Pat_Cits</th><th scope=col>EP_NPL_Cits</th><th scope=col>⋯</th><th scope=col>Recd_asWO_byWO</th><th scope=col>Direct_cits_Recd</th><th scope=col>Recd_asEQV_byEP</th><th scope=col>Recd_asEQV_byWO</th><th scope=col>Total_cits_Recd</th><th scope=col>Recd_in3_asEP</th><th scope=col>Recd_in3_asWO</th><th scope=col>Direct_cits_Recd_in3</th><th scope=col>Recd_in3_asEQV</th><th scope=col>Total_cits_Recd_in3</th></tr>\n",
       "\t<tr><th scope=col>&lt;chr&gt;</th><th scope=col>&lt;int&gt;</th><th scope=col>&lt;int&gt;</th><th scope=col>&lt;chr&gt;</th><th scope=col>&lt;int&gt;</th><th scope=col>&lt;int&gt;</th><th scope=col>&lt;int&gt;</th><th scope=col>&lt;int&gt;</th><th scope=col>&lt;int&gt;</th><th scope=col>&lt;int&gt;</th><th scope=col>⋯</th><th scope=col>&lt;int&gt;</th><th scope=col>&lt;int&gt;</th><th scope=col>&lt;int&gt;</th><th scope=col>&lt;int&gt;</th><th scope=col>&lt;int&gt;</th><th scope=col>&lt;int&gt;</th><th scope=col>&lt;int&gt;</th><th scope=col>&lt;int&gt;</th><th scope=col>&lt;int&gt;</th><th scope=col>&lt;int&gt;</th></tr>\n",
       "</thead>\n",
       "<tbody>\n",
       "\t<tr><td>EP3038913</td><td>20160706</td><td>421503165</td><td>WO2015028627</td><td>421298824</td><td>20190424</td><td>0</td><td>0</td><td>0</td><td>0</td><td>⋯</td><td>4</td><td>9</td><td>13</td><td>17</td><td>39</td><td>0</td><td>5</td><td>5</td><td>12</td><td>17</td></tr>\n",
       "</tbody>\n",
       "</table>\n"
      ],
      "text/latex": [
       "A data.table: 1 × 35\n",
       "\\begin{tabular}{lllllllllllllllllllll}\n",
       " EP\\_Pub\\_nbr & EP\\_Pub\\_date & EP\\_Appln\\_id & WO\\_Pub\\_nbr & WO\\_Appln\\_id & EP\\_Grant & Withdrawal & Refusal & EP\\_Pat\\_Cits & EP\\_NPL\\_Cits & ⋯ & Recd\\_asWO\\_byWO & Direct\\_cits\\_Recd & Recd\\_asEQV\\_byEP & Recd\\_asEQV\\_byWO & Total\\_cits\\_Recd & Recd\\_in3\\_asEP & Recd\\_in3\\_asWO & Direct\\_cits\\_Recd\\_in3 & Recd\\_in3\\_asEQV & Total\\_cits\\_Recd\\_in3\\\\\n",
       " <chr> & <int> & <int> & <chr> & <int> & <int> & <int> & <int> & <int> & <int> & ⋯ & <int> & <int> & <int> & <int> & <int> & <int> & <int> & <int> & <int> & <int>\\\\\n",
       "\\hline\n",
       "\t EP3038913 & 20160706 & 421503165 & WO2015028627 & 421298824 & 20190424 & 0 & 0 & 0 & 0 & ⋯ & 4 & 9 & 13 & 17 & 39 & 0 & 5 & 5 & 12 & 17\\\\\n",
       "\\end{tabular}\n"
      ],
      "text/markdown": [
       "\n",
       "A data.table: 1 × 35\n",
       "\n",
       "| EP_Pub_nbr &lt;chr&gt; | EP_Pub_date &lt;int&gt; | EP_Appln_id &lt;int&gt; | WO_Pub_nbr &lt;chr&gt; | WO_Appln_id &lt;int&gt; | EP_Grant &lt;int&gt; | Withdrawal &lt;int&gt; | Refusal &lt;int&gt; | EP_Pat_Cits &lt;int&gt; | EP_NPL_Cits &lt;int&gt; | ⋯ ⋯ | Recd_asWO_byWO &lt;int&gt; | Direct_cits_Recd &lt;int&gt; | Recd_asEQV_byEP &lt;int&gt; | Recd_asEQV_byWO &lt;int&gt; | Total_cits_Recd &lt;int&gt; | Recd_in3_asEP &lt;int&gt; | Recd_in3_asWO &lt;int&gt; | Direct_cits_Recd_in3 &lt;int&gt; | Recd_in3_asEQV &lt;int&gt; | Total_cits_Recd_in3 &lt;int&gt; |\n",
       "|---|---|---|---|---|---|---|---|---|---|---|---|---|---|---|---|---|---|---|---|---|\n",
       "| EP3038913 | 20160706 | 421503165 | WO2015028627 | 421298824 | 20190424 | 0 | 0 | 0 | 0 | ⋯ | 4 | 9 | 13 | 17 | 39 | 0 | 5 | 5 | 12 | 17 |\n",
       "\n"
      ],
      "text/plain": [
       "  EP_Pub_nbr EP_Pub_date EP_Appln_id WO_Pub_nbr   WO_Appln_id EP_Grant\n",
       "1 EP3038913  20160706    421503165   WO2015028627 421298824   20190424\n",
       "  Withdrawal Refusal EP_Pat_Cits EP_NPL_Cits ⋯ Recd_asWO_byWO Direct_cits_Recd\n",
       "1 0          0       0           0           ⋯ 4              9               \n",
       "  Recd_asEQV_byEP Recd_asEQV_byWO Total_cits_Recd Recd_in3_asEP Recd_in3_asWO\n",
       "1 13              17              39              0             5            \n",
       "  Direct_cits_Recd_in3 Recd_in3_asEQV Total_cits_Recd_in3\n",
       "1 5                    12             17                 "
      ]
     },
     "metadata": {},
     "output_type": "display_data"
    }
   ],
   "source": [
    "epo_cit_counts %>%\n",
    "    .[EP_Pub_nbr == 'EP3038913']"
   ]
  },
  {
   "cell_type": "code",
   "execution_count": 182,
   "metadata": {
    "vscode": {
     "languageId": "r"
    }
   },
   "outputs": [
    {
     "data": {
      "text/html": [
       "<table class=\"dataframe\">\n",
       "<caption>A data.table: 6 × 19</caption>\n",
       "<thead>\n",
       "\t<tr><th scope=col>EP_Pub_nbr</th><th scope=col>EP_Pub_date</th><th scope=col>EP_Appln_id</th><th scope=col>EP_Grant</th><th scope=col>Refusal</th><th scope=col>EP_Pat_Cits</th><th scope=col>EP_NPL_Cits</th><th scope=col>WO_Pat_Cits</th><th scope=col>WO_NPL_Cits</th><th scope=col>Total_Pat_Cits</th><th scope=col>Total_NPL_Cits</th><th scope=col>Total_Cits</th><th scope=col>Recd_asEP_byEP</th><th scope=col>Recd_asWO_byEP</th><th scope=col>Recd_asEP_byWO</th><th scope=col>Recd_asWO_byWO</th><th scope=col>Direct_cits_Recd</th><th scope=col>Total_cits_Recd</th><th scope=col>Total_cits_Recd_in3</th></tr>\n",
       "\t<tr><th scope=col>&lt;chr&gt;</th><th scope=col>&lt;int&gt;</th><th scope=col>&lt;int&gt;</th><th scope=col>&lt;int&gt;</th><th scope=col>&lt;int&gt;</th><th scope=col>&lt;int&gt;</th><th scope=col>&lt;int&gt;</th><th scope=col>&lt;int&gt;</th><th scope=col>&lt;int&gt;</th><th scope=col>&lt;int&gt;</th><th scope=col>&lt;int&gt;</th><th scope=col>&lt;int&gt;</th><th scope=col>&lt;int&gt;</th><th scope=col>&lt;int&gt;</th><th scope=col>&lt;int&gt;</th><th scope=col>&lt;int&gt;</th><th scope=col>&lt;int&gt;</th><th scope=col>&lt;int&gt;</th><th scope=col>&lt;int&gt;</th></tr>\n",
       "</thead>\n",
       "<tbody>\n",
       "\t<tr><td>EP3038913</td><td>20160706</td><td>421503165</td><td>20190424</td><td>0</td><td>0</td><td>0</td><td>5</td><td>0</td><td>5</td><td>0</td><td>5</td><td>0</td><td>5</td><td>0</td><td>4</td><td>9</td><td>39</td><td>17</td></tr>\n",
       "\t<tr><td>EP2853974</td><td>20150401</td><td>410918364</td><td>      NA</td><td>0</td><td>3</td><td>0</td><td>0</td><td>0</td><td>3</td><td>0</td><td>3</td><td>3</td><td>0</td><td>4</td><td>0</td><td>7</td><td> 7</td><td> 5</td></tr>\n",
       "\t<tr><td>EP2796263</td><td>20141029</td><td>412751709</td><td>20171011</td><td>0</td><td>4</td><td>0</td><td>0</td><td>0</td><td>4</td><td>0</td><td>4</td><td>4</td><td>0</td><td>2</td><td>0</td><td>6</td><td> 6</td><td> 3</td></tr>\n",
       "\t<tr><td>EP2228299</td><td>20100915</td><td>275022153</td><td>20160629</td><td>0</td><td>4</td><td>1</td><td>0</td><td>0</td><td>4</td><td>1</td><td>5</td><td>4</td><td>0</td><td>1</td><td>0</td><td>5</td><td> 5</td><td> 1</td></tr>\n",
       "\t<tr><td>EP2634597</td><td>20130904</td><td>342091760</td><td>20160622</td><td>0</td><td>5</td><td>3</td><td>0</td><td>0</td><td>5</td><td>3</td><td>8</td><td>3</td><td>0</td><td>2</td><td>0</td><td>5</td><td> 5</td><td> 0</td></tr>\n",
       "\t<tr><td>EP2680332</td><td>20140101</td><td>407428725</td><td>20170510</td><td>0</td><td>4</td><td>1</td><td>0</td><td>0</td><td>4</td><td>1</td><td>5</td><td>5</td><td>0</td><td>0</td><td>0</td><td>5</td><td> 5</td><td> 0</td></tr>\n",
       "</tbody>\n",
       "</table>\n"
      ],
      "text/latex": [
       "A data.table: 6 × 19\n",
       "\\begin{tabular}{lllllllllllllllllll}\n",
       " EP\\_Pub\\_nbr & EP\\_Pub\\_date & EP\\_Appln\\_id & EP\\_Grant & Refusal & EP\\_Pat\\_Cits & EP\\_NPL\\_Cits & WO\\_Pat\\_Cits & WO\\_NPL\\_Cits & Total\\_Pat\\_Cits & Total\\_NPL\\_Cits & Total\\_Cits & Recd\\_asEP\\_byEP & Recd\\_asWO\\_byEP & Recd\\_asEP\\_byWO & Recd\\_asWO\\_byWO & Direct\\_cits\\_Recd & Total\\_cits\\_Recd & Total\\_cits\\_Recd\\_in3\\\\\n",
       " <chr> & <int> & <int> & <int> & <int> & <int> & <int> & <int> & <int> & <int> & <int> & <int> & <int> & <int> & <int> & <int> & <int> & <int> & <int>\\\\\n",
       "\\hline\n",
       "\t EP3038913 & 20160706 & 421503165 & 20190424 & 0 & 0 & 0 & 5 & 0 & 5 & 0 & 5 & 0 & 5 & 0 & 4 & 9 & 39 & 17\\\\\n",
       "\t EP2853974 & 20150401 & 410918364 &       NA & 0 & 3 & 0 & 0 & 0 & 3 & 0 & 3 & 3 & 0 & 4 & 0 & 7 &  7 &  5\\\\\n",
       "\t EP2796263 & 20141029 & 412751709 & 20171011 & 0 & 4 & 0 & 0 & 0 & 4 & 0 & 4 & 4 & 0 & 2 & 0 & 6 &  6 &  3\\\\\n",
       "\t EP2228299 & 20100915 & 275022153 & 20160629 & 0 & 4 & 1 & 0 & 0 & 4 & 1 & 5 & 4 & 0 & 1 & 0 & 5 &  5 &  1\\\\\n",
       "\t EP2634597 & 20130904 & 342091760 & 20160622 & 0 & 5 & 3 & 0 & 0 & 5 & 3 & 8 & 3 & 0 & 2 & 0 & 5 &  5 &  0\\\\\n",
       "\t EP2680332 & 20140101 & 407428725 & 20170510 & 0 & 4 & 1 & 0 & 0 & 4 & 1 & 5 & 5 & 0 & 0 & 0 & 5 &  5 &  0\\\\\n",
       "\\end{tabular}\n"
      ],
      "text/markdown": [
       "\n",
       "A data.table: 6 × 19\n",
       "\n",
       "| EP_Pub_nbr &lt;chr&gt; | EP_Pub_date &lt;int&gt; | EP_Appln_id &lt;int&gt; | EP_Grant &lt;int&gt; | Refusal &lt;int&gt; | EP_Pat_Cits &lt;int&gt; | EP_NPL_Cits &lt;int&gt; | WO_Pat_Cits &lt;int&gt; | WO_NPL_Cits &lt;int&gt; | Total_Pat_Cits &lt;int&gt; | Total_NPL_Cits &lt;int&gt; | Total_Cits &lt;int&gt; | Recd_asEP_byEP &lt;int&gt; | Recd_asWO_byEP &lt;int&gt; | Recd_asEP_byWO &lt;int&gt; | Recd_asWO_byWO &lt;int&gt; | Direct_cits_Recd &lt;int&gt; | Total_cits_Recd &lt;int&gt; | Total_cits_Recd_in3 &lt;int&gt; |\n",
       "|---|---|---|---|---|---|---|---|---|---|---|---|---|---|---|---|---|---|---|\n",
       "| EP3038913 | 20160706 | 421503165 | 20190424 | 0 | 0 | 0 | 5 | 0 | 5 | 0 | 5 | 0 | 5 | 0 | 4 | 9 | 39 | 17 |\n",
       "| EP2853974 | 20150401 | 410918364 |       NA | 0 | 3 | 0 | 0 | 0 | 3 | 0 | 3 | 3 | 0 | 4 | 0 | 7 |  7 |  5 |\n",
       "| EP2796263 | 20141029 | 412751709 | 20171011 | 0 | 4 | 0 | 0 | 0 | 4 | 0 | 4 | 4 | 0 | 2 | 0 | 6 |  6 |  3 |\n",
       "| EP2228299 | 20100915 | 275022153 | 20160629 | 0 | 4 | 1 | 0 | 0 | 4 | 1 | 5 | 4 | 0 | 1 | 0 | 5 |  5 |  1 |\n",
       "| EP2634597 | 20130904 | 342091760 | 20160622 | 0 | 5 | 3 | 0 | 0 | 5 | 3 | 8 | 3 | 0 | 2 | 0 | 5 |  5 |  0 |\n",
       "| EP2680332 | 20140101 | 407428725 | 20170510 | 0 | 4 | 1 | 0 | 0 | 4 | 1 | 5 | 5 | 0 | 0 | 0 | 5 |  5 |  0 |\n",
       "\n"
      ],
      "text/plain": [
       "  EP_Pub_nbr EP_Pub_date EP_Appln_id EP_Grant Refusal EP_Pat_Cits EP_NPL_Cits\n",
       "1 EP3038913  20160706    421503165   20190424 0       0           0          \n",
       "2 EP2853974  20150401    410918364         NA 0       3           0          \n",
       "3 EP2796263  20141029    412751709   20171011 0       4           0          \n",
       "4 EP2228299  20100915    275022153   20160629 0       4           1          \n",
       "5 EP2634597  20130904    342091760   20160622 0       5           3          \n",
       "6 EP2680332  20140101    407428725   20170510 0       4           1          \n",
       "  WO_Pat_Cits WO_NPL_Cits Total_Pat_Cits Total_NPL_Cits Total_Cits\n",
       "1 5           0           5              0              5         \n",
       "2 0           0           3              0              3         \n",
       "3 0           0           4              0              4         \n",
       "4 0           0           4              1              5         \n",
       "5 0           0           5              3              8         \n",
       "6 0           0           4              1              5         \n",
       "  Recd_asEP_byEP Recd_asWO_byEP Recd_asEP_byWO Recd_asWO_byWO Direct_cits_Recd\n",
       "1 0              5              0              4              9               \n",
       "2 3              0              4              0              7               \n",
       "3 4              0              2              0              6               \n",
       "4 4              0              1              0              5               \n",
       "5 3              0              2              0              5               \n",
       "6 5              0              0              0              5               \n",
       "  Total_cits_Recd Total_cits_Recd_in3\n",
       "1 39              17                 \n",
       "2  7               5                 \n",
       "3  6               3                 \n",
       "4  5               1                 \n",
       "5  5               0                 \n",
       "6  5               0                 "
      ]
     },
     "metadata": {},
     "output_type": "display_data"
    }
   ],
   "source": [
    "airbus_ep_application$patentNumber -> foo\n",
    "epo_cit_counts %>%\n",
    "    .[, c(1, 2, 3, 6, 8:15, 23, 24, 25, 26, 27, 30, 35)] %>%\n",
    "    .[EP_Pub_nbr %in% foo] %>%\n",
    "    .[order(-rank(Direct_cits_Recd))] %>%\n",
    "    head()"
   ]
  },
  {
   "cell_type": "code",
   "execution_count": 165,
   "metadata": {
    "vscode": {
     "languageId": "r"
    }
   },
   "outputs": [
    {
     "data": {
      "text/html": [
       "<style>\n",
       ".list-inline {list-style: none; margin:0; padding: 0}\n",
       ".list-inline>li {display: inline-block}\n",
       ".list-inline>li:not(:last-child)::after {content: \"\\00b7\"; padding: 0 .5ex}\n",
       "</style>\n",
       "<ol class=list-inline><li>'EP_Pub_nbr'</li><li>'EP_Pub_date'</li><li>'EP_Appln_id'</li><li>'WO_Pub_nbr'</li><li>'WO_Appln_id'</li><li>'EP_Grant'</li><li>'Withdrawal'</li><li>'Refusal'</li><li>'EP_Pat_Cits'</li><li>'EP_NPL_Cits'</li><li>'WO_Pat_Cits'</li><li>'WO_NPL_Cits'</li><li>'Total_Pat_Cits'</li><li>'Total_NPL_Cits'</li><li>'Total_Cits'</li><li>'EP_Pat_XCits'</li><li>'EP_NPL_XCits'</li><li>'WO_Pat_XCits'</li><li>'WO_NPL_XCits'</li><li>'Total_Pat_XCits'</li><li>'Total_NPL_XCits'</li><li>'Total_XCits'</li><li>'Recd_asEP_byEP'</li><li>'Recd_asWO_byEP'</li><li>'Recd_asEP_byWO'</li><li>'Recd_asWO_byWO'</li><li>'Direct_cits_Recd'</li><li>'Recd_asEQV_byEP'</li><li>'Recd_asEQV_byWO'</li><li>'Total_cits_Recd'</li><li>'Recd_in3_asEP'</li><li>'Recd_in3_asWO'</li><li>'Direct_cits_Recd_in3'</li><li>'Recd_in3_asEQV'</li><li>'Total_cits_Recd_in3'</li></ol>\n"
      ],
      "text/latex": [
       "\\begin{enumerate*}\n",
       "\\item 'EP\\_Pub\\_nbr'\n",
       "\\item 'EP\\_Pub\\_date'\n",
       "\\item 'EP\\_Appln\\_id'\n",
       "\\item 'WO\\_Pub\\_nbr'\n",
       "\\item 'WO\\_Appln\\_id'\n",
       "\\item 'EP\\_Grant'\n",
       "\\item 'Withdrawal'\n",
       "\\item 'Refusal'\n",
       "\\item 'EP\\_Pat\\_Cits'\n",
       "\\item 'EP\\_NPL\\_Cits'\n",
       "\\item 'WO\\_Pat\\_Cits'\n",
       "\\item 'WO\\_NPL\\_Cits'\n",
       "\\item 'Total\\_Pat\\_Cits'\n",
       "\\item 'Total\\_NPL\\_Cits'\n",
       "\\item 'Total\\_Cits'\n",
       "\\item 'EP\\_Pat\\_XCits'\n",
       "\\item 'EP\\_NPL\\_XCits'\n",
       "\\item 'WO\\_Pat\\_XCits'\n",
       "\\item 'WO\\_NPL\\_XCits'\n",
       "\\item 'Total\\_Pat\\_XCits'\n",
       "\\item 'Total\\_NPL\\_XCits'\n",
       "\\item 'Total\\_XCits'\n",
       "\\item 'Recd\\_asEP\\_byEP'\n",
       "\\item 'Recd\\_asWO\\_byEP'\n",
       "\\item 'Recd\\_asEP\\_byWO'\n",
       "\\item 'Recd\\_asWO\\_byWO'\n",
       "\\item 'Direct\\_cits\\_Recd'\n",
       "\\item 'Recd\\_asEQV\\_byEP'\n",
       "\\item 'Recd\\_asEQV\\_byWO'\n",
       "\\item 'Total\\_cits\\_Recd'\n",
       "\\item 'Recd\\_in3\\_asEP'\n",
       "\\item 'Recd\\_in3\\_asWO'\n",
       "\\item 'Direct\\_cits\\_Recd\\_in3'\n",
       "\\item 'Recd\\_in3\\_asEQV'\n",
       "\\item 'Total\\_cits\\_Recd\\_in3'\n",
       "\\end{enumerate*}\n"
      ],
      "text/markdown": [
       "1. 'EP_Pub_nbr'\n",
       "2. 'EP_Pub_date'\n",
       "3. 'EP_Appln_id'\n",
       "4. 'WO_Pub_nbr'\n",
       "5. 'WO_Appln_id'\n",
       "6. 'EP_Grant'\n",
       "7. 'Withdrawal'\n",
       "8. 'Refusal'\n",
       "9. 'EP_Pat_Cits'\n",
       "10. 'EP_NPL_Cits'\n",
       "11. 'WO_Pat_Cits'\n",
       "12. 'WO_NPL_Cits'\n",
       "13. 'Total_Pat_Cits'\n",
       "14. 'Total_NPL_Cits'\n",
       "15. 'Total_Cits'\n",
       "16. 'EP_Pat_XCits'\n",
       "17. 'EP_NPL_XCits'\n",
       "18. 'WO_Pat_XCits'\n",
       "19. 'WO_NPL_XCits'\n",
       "20. 'Total_Pat_XCits'\n",
       "21. 'Total_NPL_XCits'\n",
       "22. 'Total_XCits'\n",
       "23. 'Recd_asEP_byEP'\n",
       "24. 'Recd_asWO_byEP'\n",
       "25. 'Recd_asEP_byWO'\n",
       "26. 'Recd_asWO_byWO'\n",
       "27. 'Direct_cits_Recd'\n",
       "28. 'Recd_asEQV_byEP'\n",
       "29. 'Recd_asEQV_byWO'\n",
       "30. 'Total_cits_Recd'\n",
       "31. 'Recd_in3_asEP'\n",
       "32. 'Recd_in3_asWO'\n",
       "33. 'Direct_cits_Recd_in3'\n",
       "34. 'Recd_in3_asEQV'\n",
       "35. 'Total_cits_Recd_in3'\n",
       "\n",
       "\n"
      ],
      "text/plain": [
       " [1] \"EP_Pub_nbr\"           \"EP_Pub_date\"          \"EP_Appln_id\"         \n",
       " [4] \"WO_Pub_nbr\"           \"WO_Appln_id\"          \"EP_Grant\"            \n",
       " [7] \"Withdrawal\"           \"Refusal\"              \"EP_Pat_Cits\"         \n",
       "[10] \"EP_NPL_Cits\"          \"WO_Pat_Cits\"          \"WO_NPL_Cits\"         \n",
       "[13] \"Total_Pat_Cits\"       \"Total_NPL_Cits\"       \"Total_Cits\"          \n",
       "[16] \"EP_Pat_XCits\"         \"EP_NPL_XCits\"         \"WO_Pat_XCits\"        \n",
       "[19] \"WO_NPL_XCits\"         \"Total_Pat_XCits\"      \"Total_NPL_XCits\"     \n",
       "[22] \"Total_XCits\"          \"Recd_asEP_byEP\"       \"Recd_asWO_byEP\"      \n",
       "[25] \"Recd_asEP_byWO\"       \"Recd_asWO_byWO\"       \"Direct_cits_Recd\"    \n",
       "[28] \"Recd_asEQV_byEP\"      \"Recd_asEQV_byWO\"      \"Total_cits_Recd\"     \n",
       "[31] \"Recd_in3_asEP\"        \"Recd_in3_asWO\"        \"Direct_cits_Recd_in3\"\n",
       "[34] \"Recd_in3_asEQV\"       \"Total_cits_Recd_in3\" "
      ]
     },
     "metadata": {},
     "output_type": "display_data"
    }
   ],
   "source": [
    "colnames(epo_cit_counts)"
   ]
  },
  {
   "cell_type": "code",
   "execution_count": 46,
   "metadata": {
    "vscode": {
     "languageId": "r"
    }
   },
   "outputs": [
    {
     "data": {
      "text/html": [
       "<style>\n",
       ".list-inline {list-style: none; margin:0; padding: 0}\n",
       ".list-inline>li {display: inline-block}\n",
       ".list-inline>li:not(:last-child)::after {content: \"\\00b7\"; padding: 0 .5ex}\n",
       "</style>\n",
       "<ol class=list-inline><li>'Citing_pub_nbr'</li><li>'Citing_pub_date'</li><li>'Citing_app_nbr'</li><li>'Citing_appln_id'</li><li>'Cited_pub_nbr'</li><li>'Cited_pub_date'</li><li>'Cited_App_auth'</li><li>'Cited_App_nbr'</li><li>'Cited_Appln_id'</li><li>'Cit_Total'</li><li>'Citn_origin'</li><li>'Citn_category'</li><li>'Citn_lag_year'</li><li>'Citn_lag_month'</li><li>'PCT_Route'</li></ol>\n"
      ],
      "text/latex": [
       "\\begin{enumerate*}\n",
       "\\item 'Citing\\_pub\\_nbr'\n",
       "\\item 'Citing\\_pub\\_date'\n",
       "\\item 'Citing\\_app\\_nbr'\n",
       "\\item 'Citing\\_appln\\_id'\n",
       "\\item 'Cited\\_pub\\_nbr'\n",
       "\\item 'Cited\\_pub\\_date'\n",
       "\\item 'Cited\\_App\\_auth'\n",
       "\\item 'Cited\\_App\\_nbr'\n",
       "\\item 'Cited\\_Appln\\_id'\n",
       "\\item 'Cit\\_Total'\n",
       "\\item 'Citn\\_origin'\n",
       "\\item 'Citn\\_category'\n",
       "\\item 'Citn\\_lag\\_year'\n",
       "\\item 'Citn\\_lag\\_month'\n",
       "\\item 'PCT\\_Route'\n",
       "\\end{enumerate*}\n"
      ],
      "text/markdown": [
       "1. 'Citing_pub_nbr'\n",
       "2. 'Citing_pub_date'\n",
       "3. 'Citing_app_nbr'\n",
       "4. 'Citing_appln_id'\n",
       "5. 'Cited_pub_nbr'\n",
       "6. 'Cited_pub_date'\n",
       "7. 'Cited_App_auth'\n",
       "8. 'Cited_App_nbr'\n",
       "9. 'Cited_Appln_id'\n",
       "10. 'Cit_Total'\n",
       "11. 'Citn_origin'\n",
       "12. 'Citn_category'\n",
       "13. 'Citn_lag_year'\n",
       "14. 'Citn_lag_month'\n",
       "15. 'PCT_Route'\n",
       "\n",
       "\n"
      ],
      "text/plain": [
       " [1] \"Citing_pub_nbr\"  \"Citing_pub_date\" \"Citing_app_nbr\"  \"Citing_appln_id\"\n",
       " [5] \"Cited_pub_nbr\"   \"Cited_pub_date\"  \"Cited_App_auth\"  \"Cited_App_nbr\"  \n",
       " [9] \"Cited_Appln_id\"  \"Cit_Total\"       \"Citn_origin\"     \"Citn_category\"  \n",
       "[13] \"Citn_lag_year\"   \"Citn_lag_month\"  \"PCT_Route\"      "
      ]
     },
     "metadata": {},
     "output_type": "display_data"
    }
   ],
   "source": [
    "colnames(epo_citations)"
   ]
  },
  {
   "cell_type": "code",
   "execution_count": 172,
   "metadata": {
    "vscode": {
     "languageId": "r"
    }
   },
   "outputs": [
    {
     "data": {
      "text/html": [
       "<table class=\"dataframe\">\n",
       "<caption>A data.table: 2 × 15</caption>\n",
       "<thead>\n",
       "\t<tr><th scope=col>Citing_pub_nbr</th><th scope=col>Citing_pub_date</th><th scope=col>Citing_app_nbr</th><th scope=col>Citing_appln_id</th><th scope=col>Cited_pub_nbr</th><th scope=col>Cited_pub_date</th><th scope=col>Cited_App_auth</th><th scope=col>Cited_App_nbr</th><th scope=col>Cited_Appln_id</th><th scope=col>Cit_Total</th><th scope=col>Citn_origin</th><th scope=col>Citn_category</th><th scope=col>Citn_lag_year</th><th scope=col>Citn_lag_month</th><th scope=col>PCT_Route</th></tr>\n",
       "\t<tr><th scope=col>&lt;chr&gt;</th><th scope=col>&lt;IDate&gt;</th><th scope=col>&lt;chr&gt;</th><th scope=col>&lt;int&gt;</th><th scope=col>&lt;chr&gt;</th><th scope=col>&lt;IDate&gt;</th><th scope=col>&lt;chr&gt;</th><th scope=col>&lt;chr&gt;</th><th scope=col>&lt;int&gt;</th><th scope=col>&lt;int&gt;</th><th scope=col>&lt;chr&gt;</th><th scope=col>&lt;chr&gt;</th><th scope=col>&lt;int&gt;</th><th scope=col>&lt;int&gt;</th><th scope=col>&lt;int&gt;</th></tr>\n",
       "</thead>\n",
       "<tbody>\n",
       "\t<tr><td>EP3038913</td><td>2016-07-06</td><td>EP20140756074</td><td>421503165</td><td>WO2004012993</td><td>2004-02-12</td><td>WO</td><td>WO2003000640</td><td> 24161850</td><td>2</td><td>EXA</td><td></td><td>12</td><td>149</td><td>1</td></tr>\n",
       "\t<tr><td>EP3038913</td><td>2016-07-06</td><td>EP20140756074</td><td>421503165</td><td>US2011042508</td><td>2011-02-24</td><td>US</td><td>US56666709  </td><td>332282896</td><td>2</td><td>EXA</td><td></td><td> 5</td><td> 65</td><td>1</td></tr>\n",
       "</tbody>\n",
       "</table>\n"
      ],
      "text/latex": [
       "A data.table: 2 × 15\n",
       "\\begin{tabular}{lllllllllllllll}\n",
       " Citing\\_pub\\_nbr & Citing\\_pub\\_date & Citing\\_app\\_nbr & Citing\\_appln\\_id & Cited\\_pub\\_nbr & Cited\\_pub\\_date & Cited\\_App\\_auth & Cited\\_App\\_nbr & Cited\\_Appln\\_id & Cit\\_Total & Citn\\_origin & Citn\\_category & Citn\\_lag\\_year & Citn\\_lag\\_month & PCT\\_Route\\\\\n",
       " <chr> & <IDate> & <chr> & <int> & <chr> & <IDate> & <chr> & <chr> & <int> & <int> & <chr> & <chr> & <int> & <int> & <int>\\\\\n",
       "\\hline\n",
       "\t EP3038913 & 2016-07-06 & EP20140756074 & 421503165 & WO2004012993 & 2004-02-12 & WO & WO2003000640 &  24161850 & 2 & EXA &  & 12 & 149 & 1\\\\\n",
       "\t EP3038913 & 2016-07-06 & EP20140756074 & 421503165 & US2011042508 & 2011-02-24 & US & US56666709   & 332282896 & 2 & EXA &  &  5 &  65 & 1\\\\\n",
       "\\end{tabular}\n"
      ],
      "text/markdown": [
       "\n",
       "A data.table: 2 × 15\n",
       "\n",
       "| Citing_pub_nbr &lt;chr&gt; | Citing_pub_date &lt;IDate&gt; | Citing_app_nbr &lt;chr&gt; | Citing_appln_id &lt;int&gt; | Cited_pub_nbr &lt;chr&gt; | Cited_pub_date &lt;IDate&gt; | Cited_App_auth &lt;chr&gt; | Cited_App_nbr &lt;chr&gt; | Cited_Appln_id &lt;int&gt; | Cit_Total &lt;int&gt; | Citn_origin &lt;chr&gt; | Citn_category &lt;chr&gt; | Citn_lag_year &lt;int&gt; | Citn_lag_month &lt;int&gt; | PCT_Route &lt;int&gt; |\n",
       "|---|---|---|---|---|---|---|---|---|---|---|---|---|---|---|\n",
       "| EP3038913 | 2016-07-06 | EP20140756074 | 421503165 | WO2004012993 | 2004-02-12 | WO | WO2003000640 |  24161850 | 2 | EXA | <!----> | 12 | 149 | 1 |\n",
       "| EP3038913 | 2016-07-06 | EP20140756074 | 421503165 | US2011042508 | 2011-02-24 | US | US56666709   | 332282896 | 2 | EXA | <!----> |  5 |  65 | 1 |\n",
       "\n"
      ],
      "text/plain": [
       "  Citing_pub_nbr Citing_pub_date Citing_app_nbr Citing_appln_id Cited_pub_nbr\n",
       "1 EP3038913      2016-07-06      EP20140756074  421503165       WO2004012993 \n",
       "2 EP3038913      2016-07-06      EP20140756074  421503165       US2011042508 \n",
       "  Cited_pub_date Cited_App_auth Cited_App_nbr Cited_Appln_id Cit_Total\n",
       "1 2004-02-12     WO             WO2003000640   24161850      2        \n",
       "2 2011-02-24     US             US56666709    332282896      2        \n",
       "  Citn_origin Citn_category Citn_lag_year Citn_lag_month PCT_Route\n",
       "1 EXA                       12            149            1        \n",
       "2 EXA                        5             65            1        "
      ]
     },
     "metadata": {},
     "output_type": "display_data"
    }
   ],
   "source": [
    "epo_citations %>%\n",
    "    .[Citing_pub_nbr == 'EP3038913']"
   ]
  },
  {
   "cell_type": "code",
   "execution_count": null,
   "metadata": {
    "vscode": {
     "languageId": "r"
    }
   },
   "outputs": [],
   "source": []
  },
  {
   "attachments": {},
   "cell_type": "markdown",
   "metadata": {},
   "source": [
    "## PCT citation "
   ]
  },
  {
   "cell_type": "code",
   "execution_count": 181,
   "metadata": {
    "vscode": {
     "languageId": "r"
    }
   },
   "outputs": [],
   "source": [
    "pct_citation <- fread('./data/202208_PCT_CITATIONS.txt')"
   ]
  },
  {
   "cell_type": "code",
   "execution_count": 186,
   "metadata": {
    "vscode": {
     "languageId": "r"
    }
   },
   "outputs": [
    {
     "data": {
      "text/html": [
       "<table class=\"dataframe\">\n",
       "<caption>A data.table: 5 × 15</caption>\n",
       "<thead>\n",
       "\t<tr><th scope=col>Citing_pub_nbr</th><th scope=col>Citing_pub_date</th><th scope=col>Citing_app_nbr</th><th scope=col>Citing_appln_id</th><th scope=col>Cited_pub_nbr</th><th scope=col>Cited_pub_date</th><th scope=col>Cited_App_auth</th><th scope=col>Cited_App_nbr</th><th scope=col>Cited_Appln_id</th><th scope=col>Cit_Total</th><th scope=col>Citn_origin</th><th scope=col>Citn_category</th><th scope=col>Citn_lag_year</th><th scope=col>Citn_lag_month</th><th scope=col>ISA</th></tr>\n",
       "\t<tr><th scope=col>&lt;chr&gt;</th><th scope=col>&lt;IDate&gt;</th><th scope=col>&lt;chr&gt;</th><th scope=col>&lt;int&gt;</th><th scope=col>&lt;chr&gt;</th><th scope=col>&lt;IDate&gt;</th><th scope=col>&lt;chr&gt;</th><th scope=col>&lt;chr&gt;</th><th scope=col>&lt;int&gt;</th><th scope=col>&lt;int&gt;</th><th scope=col>&lt;chr&gt;</th><th scope=col>&lt;chr&gt;</th><th scope=col>&lt;int&gt;</th><th scope=col>&lt;int&gt;</th><th scope=col>&lt;chr&gt;</th></tr>\n",
       "</thead>\n",
       "<tbody>\n",
       "\t<tr><td>WO2020087571</td><td>2020-05-07</td><td>WO2018115305</td><td>530638852</td><td>CN107131409</td><td>2017-09-05</td><td>CN</td><td>CN201710548048</td><td>483434586</td><td>7</td><td>ISR</td><td>Y</td><td> 3</td><td> 32</td><td>CN</td></tr>\n",
       "\t<tr><td>WO2017146917</td><td>2017-08-31</td><td>WO2017017401</td><td>483136922</td><td>US6179616  </td><td>2001-01-30</td><td>US</td><td>US30046999    </td><td> 49424868</td><td>6</td><td>ISR</td><td>A</td><td>16</td><td>199</td><td>KR</td></tr>\n",
       "\t<tr><td>WO2008069865</td><td>2008-06-12</td><td>WO2007021954</td><td> 54651303</td><td>US5240968  </td><td>1993-08-31</td><td>US</td><td>US99022892    </td><td> 54456064</td><td>8</td><td>ISR</td><td>A</td><td>15</td><td>178</td><td>EP</td></tr>\n",
       "\t<tr><td>WO2015176134</td><td>2015-11-26</td><td>WO2015050266</td><td>446526392</td><td>US7763177  </td><td>2008-05-08</td><td>US</td><td>US97673107    </td><td> 54406651</td><td>5</td><td>ISR</td><td>X</td><td> 7</td><td> 90</td><td>AU</td></tr>\n",
       "\t<tr><td>WO1990008191</td><td>1990-07-26</td><td>WO1990000032</td><td> 22999765</td><td>US4740461  </td><td>1988-04-26</td><td>US</td><td>US56605783    </td><td> 51874612</td><td>3</td><td>ISR</td><td> </td><td> 2</td><td> 27</td><td>EP</td></tr>\n",
       "</tbody>\n",
       "</table>\n"
      ],
      "text/latex": [
       "A data.table: 5 × 15\n",
       "\\begin{tabular}{lllllllllllllll}\n",
       " Citing\\_pub\\_nbr & Citing\\_pub\\_date & Citing\\_app\\_nbr & Citing\\_appln\\_id & Cited\\_pub\\_nbr & Cited\\_pub\\_date & Cited\\_App\\_auth & Cited\\_App\\_nbr & Cited\\_Appln\\_id & Cit\\_Total & Citn\\_origin & Citn\\_category & Citn\\_lag\\_year & Citn\\_lag\\_month & ISA\\\\\n",
       " <chr> & <IDate> & <chr> & <int> & <chr> & <IDate> & <chr> & <chr> & <int> & <int> & <chr> & <chr> & <int> & <int> & <chr>\\\\\n",
       "\\hline\n",
       "\t WO2020087571 & 2020-05-07 & WO2018115305 & 530638852 & CN107131409 & 2017-09-05 & CN & CN201710548048 & 483434586 & 7 & ISR & Y &  3 &  32 & CN\\\\\n",
       "\t WO2017146917 & 2017-08-31 & WO2017017401 & 483136922 & US6179616   & 2001-01-30 & US & US30046999     &  49424868 & 6 & ISR & A & 16 & 199 & KR\\\\\n",
       "\t WO2008069865 & 2008-06-12 & WO2007021954 &  54651303 & US5240968   & 1993-08-31 & US & US99022892     &  54456064 & 8 & ISR & A & 15 & 178 & EP\\\\\n",
       "\t WO2015176134 & 2015-11-26 & WO2015050266 & 446526392 & US7763177   & 2008-05-08 & US & US97673107     &  54406651 & 5 & ISR & X &  7 &  90 & AU\\\\\n",
       "\t WO1990008191 & 1990-07-26 & WO1990000032 &  22999765 & US4740461   & 1988-04-26 & US & US56605783     &  51874612 & 3 & ISR &   &  2 &  27 & EP\\\\\n",
       "\\end{tabular}\n"
      ],
      "text/markdown": [
       "\n",
       "A data.table: 5 × 15\n",
       "\n",
       "| Citing_pub_nbr &lt;chr&gt; | Citing_pub_date &lt;IDate&gt; | Citing_app_nbr &lt;chr&gt; | Citing_appln_id &lt;int&gt; | Cited_pub_nbr &lt;chr&gt; | Cited_pub_date &lt;IDate&gt; | Cited_App_auth &lt;chr&gt; | Cited_App_nbr &lt;chr&gt; | Cited_Appln_id &lt;int&gt; | Cit_Total &lt;int&gt; | Citn_origin &lt;chr&gt; | Citn_category &lt;chr&gt; | Citn_lag_year &lt;int&gt; | Citn_lag_month &lt;int&gt; | ISA &lt;chr&gt; |\n",
       "|---|---|---|---|---|---|---|---|---|---|---|---|---|---|---|\n",
       "| WO2020087571 | 2020-05-07 | WO2018115305 | 530638852 | CN107131409 | 2017-09-05 | CN | CN201710548048 | 483434586 | 7 | ISR | Y |  3 |  32 | CN |\n",
       "| WO2017146917 | 2017-08-31 | WO2017017401 | 483136922 | US6179616   | 2001-01-30 | US | US30046999     |  49424868 | 6 | ISR | A | 16 | 199 | KR |\n",
       "| WO2008069865 | 2008-06-12 | WO2007021954 |  54651303 | US5240968   | 1993-08-31 | US | US99022892     |  54456064 | 8 | ISR | A | 15 | 178 | EP |\n",
       "| WO2015176134 | 2015-11-26 | WO2015050266 | 446526392 | US7763177   | 2008-05-08 | US | US97673107     |  54406651 | 5 | ISR | X |  7 |  90 | AU |\n",
       "| WO1990008191 | 1990-07-26 | WO1990000032 |  22999765 | US4740461   | 1988-04-26 | US | US56605783     |  51874612 | 3 | ISR | <!----> |  2 |  27 | EP |\n",
       "\n"
      ],
      "text/plain": [
       "  Citing_pub_nbr Citing_pub_date Citing_app_nbr Citing_appln_id Cited_pub_nbr\n",
       "1 WO2020087571   2020-05-07      WO2018115305   530638852       CN107131409  \n",
       "2 WO2017146917   2017-08-31      WO2017017401   483136922       US6179616    \n",
       "3 WO2008069865   2008-06-12      WO2007021954    54651303       US5240968    \n",
       "4 WO2015176134   2015-11-26      WO2015050266   446526392       US7763177    \n",
       "5 WO1990008191   1990-07-26      WO1990000032    22999765       US4740461    \n",
       "  Cited_pub_date Cited_App_auth Cited_App_nbr  Cited_Appln_id Cit_Total\n",
       "1 2017-09-05     CN             CN201710548048 483434586      7        \n",
       "2 2001-01-30     US             US30046999      49424868      6        \n",
       "3 1993-08-31     US             US99022892      54456064      8        \n",
       "4 2008-05-08     US             US97673107      54406651      5        \n",
       "5 1988-04-26     US             US56605783      51874612      3        \n",
       "  Citn_origin Citn_category Citn_lag_year Citn_lag_month ISA\n",
       "1 ISR         Y              3             32            CN \n",
       "2 ISR         A             16            199            KR \n",
       "3 ISR         A             15            178            EP \n",
       "4 ISR         X              7             90            AU \n",
       "5 ISR                        2             27            EP "
      ]
     },
     "metadata": {},
     "output_type": "display_data"
    }
   ],
   "source": [
    "pct_citation %>%\n",
    "    .[sample(.N, 5)]"
   ]
  },
  {
   "cell_type": "code",
   "execution_count": 188,
   "metadata": {
    "vscode": {
     "languageId": "r"
    }
   },
   "outputs": [
    {
     "data": {
      "text/html": [
       "<table class=\"dataframe\">\n",
       "<caption>A data.table: 4 × 15</caption>\n",
       "<thead>\n",
       "\t<tr><th scope=col>Citing_pub_nbr</th><th scope=col>Citing_pub_date</th><th scope=col>Citing_app_nbr</th><th scope=col>Citing_appln_id</th><th scope=col>Cited_pub_nbr</th><th scope=col>Cited_pub_date</th><th scope=col>Cited_App_auth</th><th scope=col>Cited_App_nbr</th><th scope=col>Cited_Appln_id</th><th scope=col>Cit_Total</th><th scope=col>Citn_origin</th><th scope=col>Citn_category</th><th scope=col>Citn_lag_year</th><th scope=col>Citn_lag_month</th><th scope=col>ISA</th></tr>\n",
       "\t<tr><th scope=col>&lt;chr&gt;</th><th scope=col>&lt;IDate&gt;</th><th scope=col>&lt;chr&gt;</th><th scope=col>&lt;int&gt;</th><th scope=col>&lt;chr&gt;</th><th scope=col>&lt;IDate&gt;</th><th scope=col>&lt;chr&gt;</th><th scope=col>&lt;chr&gt;</th><th scope=col>&lt;int&gt;</th><th scope=col>&lt;int&gt;</th><th scope=col>&lt;chr&gt;</th><th scope=col>&lt;chr&gt;</th><th scope=col>&lt;int&gt;</th><th scope=col>&lt;int&gt;</th><th scope=col>&lt;chr&gt;</th></tr>\n",
       "</thead>\n",
       "<tbody>\n",
       "\t<tr><td>WO2017021391</td><td>2017-02-09</td><td>WO2016068386</td><td>458921359</td><td>WO2015028627</td><td>2015-03-05</td><td>WO</td><td>WO2014068410</td><td>421298824</td><td>4</td><td>ISR</td><td>A</td><td>2</td><td>23</td><td>EP</td></tr>\n",
       "\t<tr><td>WO2017042291</td><td>2017-03-16</td><td>WO2016071223</td><td>469062131</td><td>WO2015028627</td><td>2015-03-05</td><td>WO</td><td>WO2014068410</td><td>421298824</td><td>6</td><td>ISR</td><td>A</td><td>2</td><td>24</td><td>EP</td></tr>\n",
       "\t<tr><td>WO2017049806</td><td>2017-03-30</td><td>WO2016000248</td><td>476936175</td><td>WO2015028627</td><td>2015-03-05</td><td>WO</td><td>WO2014068410</td><td>421298824</td><td>7</td><td>ISR</td><td>A</td><td>2</td><td>24</td><td>CN</td></tr>\n",
       "\t<tr><td>WO2018078388</td><td>2018-05-03</td><td>WO2017053249</td><td>485855323</td><td>WO2015028627</td><td>2015-03-05</td><td>WO</td><td>WO2014068410</td><td>421298824</td><td>7</td><td>ISR</td><td>A</td><td>3</td><td>38</td><td>EP</td></tr>\n",
       "</tbody>\n",
       "</table>\n"
      ],
      "text/latex": [
       "A data.table: 4 × 15\n",
       "\\begin{tabular}{lllllllllllllll}\n",
       " Citing\\_pub\\_nbr & Citing\\_pub\\_date & Citing\\_app\\_nbr & Citing\\_appln\\_id & Cited\\_pub\\_nbr & Cited\\_pub\\_date & Cited\\_App\\_auth & Cited\\_App\\_nbr & Cited\\_Appln\\_id & Cit\\_Total & Citn\\_origin & Citn\\_category & Citn\\_lag\\_year & Citn\\_lag\\_month & ISA\\\\\n",
       " <chr> & <IDate> & <chr> & <int> & <chr> & <IDate> & <chr> & <chr> & <int> & <int> & <chr> & <chr> & <int> & <int> & <chr>\\\\\n",
       "\\hline\n",
       "\t WO2017021391 & 2017-02-09 & WO2016068386 & 458921359 & WO2015028627 & 2015-03-05 & WO & WO2014068410 & 421298824 & 4 & ISR & A & 2 & 23 & EP\\\\\n",
       "\t WO2017042291 & 2017-03-16 & WO2016071223 & 469062131 & WO2015028627 & 2015-03-05 & WO & WO2014068410 & 421298824 & 6 & ISR & A & 2 & 24 & EP\\\\\n",
       "\t WO2017049806 & 2017-03-30 & WO2016000248 & 476936175 & WO2015028627 & 2015-03-05 & WO & WO2014068410 & 421298824 & 7 & ISR & A & 2 & 24 & CN\\\\\n",
       "\t WO2018078388 & 2018-05-03 & WO2017053249 & 485855323 & WO2015028627 & 2015-03-05 & WO & WO2014068410 & 421298824 & 7 & ISR & A & 3 & 38 & EP\\\\\n",
       "\\end{tabular}\n"
      ],
      "text/markdown": [
       "\n",
       "A data.table: 4 × 15\n",
       "\n",
       "| Citing_pub_nbr &lt;chr&gt; | Citing_pub_date &lt;IDate&gt; | Citing_app_nbr &lt;chr&gt; | Citing_appln_id &lt;int&gt; | Cited_pub_nbr &lt;chr&gt; | Cited_pub_date &lt;IDate&gt; | Cited_App_auth &lt;chr&gt; | Cited_App_nbr &lt;chr&gt; | Cited_Appln_id &lt;int&gt; | Cit_Total &lt;int&gt; | Citn_origin &lt;chr&gt; | Citn_category &lt;chr&gt; | Citn_lag_year &lt;int&gt; | Citn_lag_month &lt;int&gt; | ISA &lt;chr&gt; |\n",
       "|---|---|---|---|---|---|---|---|---|---|---|---|---|---|---|\n",
       "| WO2017021391 | 2017-02-09 | WO2016068386 | 458921359 | WO2015028627 | 2015-03-05 | WO | WO2014068410 | 421298824 | 4 | ISR | A | 2 | 23 | EP |\n",
       "| WO2017042291 | 2017-03-16 | WO2016071223 | 469062131 | WO2015028627 | 2015-03-05 | WO | WO2014068410 | 421298824 | 6 | ISR | A | 2 | 24 | EP |\n",
       "| WO2017049806 | 2017-03-30 | WO2016000248 | 476936175 | WO2015028627 | 2015-03-05 | WO | WO2014068410 | 421298824 | 7 | ISR | A | 2 | 24 | CN |\n",
       "| WO2018078388 | 2018-05-03 | WO2017053249 | 485855323 | WO2015028627 | 2015-03-05 | WO | WO2014068410 | 421298824 | 7 | ISR | A | 3 | 38 | EP |\n",
       "\n"
      ],
      "text/plain": [
       "  Citing_pub_nbr Citing_pub_date Citing_app_nbr Citing_appln_id Cited_pub_nbr\n",
       "1 WO2017021391   2017-02-09      WO2016068386   458921359       WO2015028627 \n",
       "2 WO2017042291   2017-03-16      WO2016071223   469062131       WO2015028627 \n",
       "3 WO2017049806   2017-03-30      WO2016000248   476936175       WO2015028627 \n",
       "4 WO2018078388   2018-05-03      WO2017053249   485855323       WO2015028627 \n",
       "  Cited_pub_date Cited_App_auth Cited_App_nbr Cited_Appln_id Cit_Total\n",
       "1 2015-03-05     WO             WO2014068410  421298824      4        \n",
       "2 2015-03-05     WO             WO2014068410  421298824      6        \n",
       "3 2015-03-05     WO             WO2014068410  421298824      7        \n",
       "4 2015-03-05     WO             WO2014068410  421298824      7        \n",
       "  Citn_origin Citn_category Citn_lag_year Citn_lag_month ISA\n",
       "1 ISR         A             2             23             EP \n",
       "2 ISR         A             2             24             EP \n",
       "3 ISR         A             2             24             CN \n",
       "4 ISR         A             3             38             EP "
      ]
     },
     "metadata": {},
     "output_type": "display_data"
    }
   ],
   "source": [
    "pct_citation %>%\n",
    "    .[Cited_pub_nbr == 'WO2015028627']"
   ]
  },
  {
   "cell_type": "code",
   "execution_count": null,
   "metadata": {
    "vscode": {
     "languageId": "r"
    }
   },
   "outputs": [],
   "source": []
  },
  {
   "attachments": {},
   "cell_type": "markdown",
   "metadata": {},
   "source": [
    "## Who is citing airbus' granted patents?"
   ]
  },
  {
   "cell_type": "code",
   "execution_count": 204,
   "metadata": {
    "vscode": {
     "languageId": "r"
    }
   },
   "outputs": [
    {
     "data": {
      "text/html": [
       "<style>\n",
       ".list-inline {list-style: none; margin:0; padding: 0}\n",
       ".list-inline>li {display: inline-block}\n",
       ".list-inline>li:not(:last-child)::after {content: \"\\00b7\"; padding: 0 .5ex}\n",
       "</style>\n",
       "<ol class=list-inline><li>539</li><li>7</li></ol>\n"
      ],
      "text/latex": [
       "\\begin{enumerate*}\n",
       "\\item 539\n",
       "\\item 7\n",
       "\\end{enumerate*}\n"
      ],
      "text/markdown": [
       "1. 539\n",
       "2. 7\n",
       "\n",
       "\n"
      ],
      "text/plain": [
       "[1] 539   7"
      ]
     },
     "metadata": {},
     "output_type": "display_data"
    }
   ],
   "source": [
    "airbus_ep_application %>%\n",
    "    .[granted == 1] -> airbus_gpt\n",
    "dim(airbus_gpt)"
   ]
  },
  {
   "cell_type": "code",
   "execution_count": 206,
   "metadata": {
    "vscode": {
     "languageId": "r"
    }
   },
   "outputs": [
    {
     "data": {
      "text/html": [
       "<table class=\"dataframe\">\n",
       "<caption>A data.table: 3 × 7</caption>\n",
       "<thead>\n",
       "\t<tr><th scope=col>patentNumber</th><th scope=col>applicationDate</th><th scope=col>granted</th><th scope=col>grantDate</th><th scope=col>familyID</th><th scope=col>cpcTags</th><th scope=col>publicationItems</th></tr>\n",
       "\t<tr><th scope=col>&lt;chr&gt;</th><th scope=col>&lt;chr&gt;</th><th scope=col>&lt;int&gt;</th><th scope=col>&lt;chr&gt;</th><th scope=col>&lt;int&gt;</th><th scope=col>&lt;chr&gt;</th><th scope=col>&lt;chr&gt;</th></tr>\n",
       "</thead>\n",
       "<tbody>\n",
       "\t<tr><td>EP3731055</td><td>Mon, 20 Apr 2020</td><td>1</td><td>Wed, 08 Sep 2021</td><td>70333838</td><td>G05D 1/0676                  </td><td>['EP 3731055 A1', 'EP 3731055 B1']</td></tr>\n",
       "\t<tr><td>EP3905535</td><td>Tue, 28 Apr 2020</td><td>1</td><td>Wed, 27 Apr 2022</td><td>70475966</td><td>['G01S 19/21', 'H04B 1/7097']</td><td>['EP 3905535 A1', 'EP 3905535 B1']</td></tr>\n",
       "\t<tr><td>EP3913398</td><td>Wed, 20 May 2020</td><td>1</td><td>Wed, 16 Nov 2022</td><td>70802639</td><td>G01S 13/9011                 </td><td>['EP 3913398 A1', 'EP 3913398 B1']</td></tr>\n",
       "</tbody>\n",
       "</table>\n"
      ],
      "text/latex": [
       "A data.table: 3 × 7\n",
       "\\begin{tabular}{lllllll}\n",
       " patentNumber & applicationDate & granted & grantDate & familyID & cpcTags & publicationItems\\\\\n",
       " <chr> & <chr> & <int> & <chr> & <int> & <chr> & <chr>\\\\\n",
       "\\hline\n",
       "\t EP3731055 & Mon, 20 Apr 2020 & 1 & Wed, 08 Sep 2021 & 70333838 & G05D 1/0676                   & {[}'EP 3731055 A1', 'EP 3731055 B1'{]}\\\\\n",
       "\t EP3905535 & Tue, 28 Apr 2020 & 1 & Wed, 27 Apr 2022 & 70475966 & {[}'G01S 19/21', 'H04B 1/7097'{]} & {[}'EP 3905535 A1', 'EP 3905535 B1'{]}\\\\\n",
       "\t EP3913398 & Wed, 20 May 2020 & 1 & Wed, 16 Nov 2022 & 70802639 & G01S 13/9011                  & {[}'EP 3913398 A1', 'EP 3913398 B1'{]}\\\\\n",
       "\\end{tabular}\n"
      ],
      "text/markdown": [
       "\n",
       "A data.table: 3 × 7\n",
       "\n",
       "| patentNumber &lt;chr&gt; | applicationDate &lt;chr&gt; | granted &lt;int&gt; | grantDate &lt;chr&gt; | familyID &lt;int&gt; | cpcTags &lt;chr&gt; | publicationItems &lt;chr&gt; |\n",
       "|---|---|---|---|---|---|---|\n",
       "| EP3731055 | Mon, 20 Apr 2020 | 1 | Wed, 08 Sep 2021 | 70333838 | G05D 1/0676                   | ['EP 3731055 A1', 'EP 3731055 B1'] |\n",
       "| EP3905535 | Tue, 28 Apr 2020 | 1 | Wed, 27 Apr 2022 | 70475966 | ['G01S 19/21', 'H04B 1/7097'] | ['EP 3905535 A1', 'EP 3905535 B1'] |\n",
       "| EP3913398 | Wed, 20 May 2020 | 1 | Wed, 16 Nov 2022 | 70802639 | G01S 13/9011                  | ['EP 3913398 A1', 'EP 3913398 B1'] |\n",
       "\n"
      ],
      "text/plain": [
       "  patentNumber applicationDate  granted grantDate        familyID\n",
       "1 EP3731055    Mon, 20 Apr 2020 1       Wed, 08 Sep 2021 70333838\n",
       "2 EP3905535    Tue, 28 Apr 2020 1       Wed, 27 Apr 2022 70475966\n",
       "3 EP3913398    Wed, 20 May 2020 1       Wed, 16 Nov 2022 70802639\n",
       "  cpcTags                       publicationItems                  \n",
       "1 G05D 1/0676                   ['EP 3731055 A1', 'EP 3731055 B1']\n",
       "2 ['G01S 19/21', 'H04B 1/7097'] ['EP 3905535 A1', 'EP 3905535 B1']\n",
       "3 G01S 13/9011                  ['EP 3913398 A1', 'EP 3913398 B1']"
      ]
     },
     "metadata": {},
     "output_type": "display_data"
    }
   ],
   "source": [
    "tail(airbus_gpt, 3)"
   ]
  },
  {
   "cell_type": "code",
   "execution_count": 234,
   "metadata": {
    "vscode": {
     "languageId": "r"
    }
   },
   "outputs": [],
   "source": [
    "options(repr.plot.width = 6, repr.plot.height = 3)\n",
    "epo_citations %>%\n",
    "    .[Citing_pub_nbr %in% airbus_gpt$patentNumber] %>%\n",
    "    .[, .(Cited_App_auth)] %>%\n",
    "    as_tibble() %>%\n",
    "    group_by(Cited_App_auth) %>%\n",
    "    summarize(count=n()) %>%\n",
    "    ggplot(aes(x= Cited_App_auth, y=count)) + \n",
    "    geom_col(fill=gray_scale[4], color=gray_scale[5]) + \n",
    "    geom_text(aes(label=count), vjust=-0.5) + \n",
    "    ylim(0, 1250) + \n",
    "    theme_bw() + \n",
    "    labs(x='Cited Patents Authority') + \n",
    "    theme(\n",
    "        panel.grid.minor = element_blank(),\n",
    "        panel.border = element_blank(),\n",
    "        axis.line = element_line(color = \"black\"),\n",
    "    ) -> p1"
   ]
  },
  {
   "cell_type": "code",
   "execution_count": 247,
   "metadata": {
    "vscode": {
     "languageId": "r"
    }
   },
   "outputs": [],
   "source": [
    "ggsave(\n",
    "    p1, \n",
    "    file='/home/jovyan/work/docs/images/blog/airbus_cited_auth.png',\n",
    "    width=6, height=3, type=\"cairo-png\",\n",
    "    device = grDevices::png, \n",
    "    dpi=300, bg='transparent')"
   ]
  },
  {
   "cell_type": "code",
   "execution_count": 261,
   "metadata": {
    "vscode": {
     "languageId": "r"
    }
   },
   "outputs": [],
   "source": [
    "options(repr.plot.width = 6, repr.plot.height = 3)\n",
    "epo_citations %>%\n",
    "    .[Citing_pub_nbr %in% airbus_gpt$patentNumber] %>%\n",
    "    unique(by='Citing_pub_nbr') %>%\n",
    "    ggplot(aes(Cit_Total)) + \n",
    "    geom_histogram(binwidth=1, fill=gray_scale[4], color=gray_scale[5]) + \n",
    "    theme_bw() + \n",
    "    labs(x='Total Number of Citations') +\n",
    "    theme(\n",
    "        panel.grid.minor = element_blank(),\n",
    "        panel.border = element_blank(),\n",
    "        axis.line = element_line(color = \"black\"),\n",
    "    ) + \n",
    "    scale_x_continuous(breaks=seq(0, 36, 5)) -> p2"
   ]
  },
  {
   "cell_type": "code",
   "execution_count": 303,
   "metadata": {
    "vscode": {
     "languageId": "r"
    }
   },
   "outputs": [],
   "source": [
    "ggsave(\n",
    "    p2, \n",
    "    file='/home/jovyan/work/docs/images/blog/airbus_hist_citations.png',\n",
    "    width=6, height=3, type=\"cairo-png\",\n",
    "    device = grDevices::png, \n",
    "    dpi=300, bg='transparent')"
   ]
  },
  {
   "cell_type": "code",
   "execution_count": 322,
   "metadata": {
    "vscode": {
     "languageId": "r"
    }
   },
   "outputs": [],
   "source": [
    "options(repr.plot.width = 6, repr.plot.height = 3)\n",
    "epo_citations %>%\n",
    "    .[Citing_pub_nbr %in% airbus_gpt$patentNumber] %>%\n",
    "    .[, .(Citn_origin)] %>%\n",
    "    .[, .N, by=Citn_origin] %>%\n",
    "    ggplot(aes(x=Citn_origin, y=N)) +\n",
    "    geom_col(fill=gray_scale[4], color=gray_scale[5], width=0.5) + \n",
    "    geom_text(aes(label=N), vjust=-0.5) + \n",
    "    theme_bw() + \n",
    "    labs(x='Citation Origin') + \n",
    "    ylim(0, 1950) + \n",
    "    theme(\n",
    "        panel.grid.minor = element_blank(),\n",
    "        panel.border = element_blank(),\n",
    "        axis.line = element_line(color = \"black\"),\n",
    "    ) -> p3\n",
    "    "
   ]
  },
  {
   "cell_type": "code",
   "execution_count": 323,
   "metadata": {
    "vscode": {
     "languageId": "r"
    }
   },
   "outputs": [],
   "source": [
    "ggsave(\n",
    "    p3, \n",
    "    file='/home/jovyan/work/docs/images/blog/airbus_citation_origin.png',\n",
    "    width=6, height=3, type=\"cairo-png\",\n",
    "    device = grDevices::png, \n",
    "    dpi=300, bg='transparent')"
   ]
  },
  {
   "cell_type": "code",
   "execution_count": 359,
   "metadata": {
    "vscode": {
     "languageId": "r"
    }
   },
   "outputs": [],
   "source": [
    "options(repr.plot.width = 6, repr.plot.height = 3)\n",
    "epo_citations %>%\n",
    "    .[Citing_pub_nbr %in% airbus_gpt$patentNumber] %>%\n",
    "    .[!is.na(Citn_lag_year)] %>%\n",
    "    .[order(-rank(Citn_lag_year))] %>%\n",
    "    ggplot(aes(Citn_lag_year)) + \n",
    "    geom_histogram(fill=gray_scale[4], color=gray_scale[5], bins=30) +\n",
    "    theme_bw() + \n",
    "    labs(x='Citation lag in years') +\n",
    "    theme(\n",
    "        panel.grid.minor = element_blank(),\n",
    "        panel.border = element_blank(),\n",
    "        axis.line = element_line(color = \"black\"),\n",
    "    ) + \n",
    "    scale_x_continuous(breaks=seq(0, 110, 10)) -> p4"
   ]
  },
  {
   "cell_type": "code",
   "execution_count": 360,
   "metadata": {
    "vscode": {
     "languageId": "r"
    }
   },
   "outputs": [],
   "source": [
    "ggsave(\n",
    "    p4, \n",
    "    file='/home/jovyan/work/docs/images/blog/airbus_citation_lags.png',\n",
    "    width=6, height=3, type=\"cairo-png\",\n",
    "    device = grDevices::png, \n",
    "    dpi=300, bg='transparent')"
   ]
  },
  {
   "cell_type": "code",
   "execution_count": 366,
   "metadata": {
    "vscode": {
     "languageId": "r"
    }
   },
   "outputs": [
    {
     "data": {
      "text/html": [
       "<table class=\"dataframe\">\n",
       "<caption>A data.table: 1 × 2</caption>\n",
       "<thead>\n",
       "\t<tr><th scope=col>Cited_App_auth</th><th scope=col>N</th></tr>\n",
       "\t<tr><th scope=col>&lt;chr&gt;</th><th scope=col>&lt;int&gt;</th></tr>\n",
       "</thead>\n",
       "<tbody>\n",
       "\t<tr><td>EP</td><td>146</td></tr>\n",
       "</tbody>\n",
       "</table>\n"
      ],
      "text/latex": [
       "A data.table: 1 × 2\n",
       "\\begin{tabular}{ll}\n",
       " Cited\\_App\\_auth & N\\\\\n",
       " <chr> & <int>\\\\\n",
       "\\hline\n",
       "\t EP & 146\\\\\n",
       "\\end{tabular}\n"
      ],
      "text/markdown": [
       "\n",
       "A data.table: 1 × 2\n",
       "\n",
       "| Cited_App_auth &lt;chr&gt; | N &lt;int&gt; |\n",
       "|---|---|\n",
       "| EP | 146 |\n",
       "\n"
      ],
      "text/plain": [
       "  Cited_App_auth N  \n",
       "1 EP             146"
      ]
     },
     "metadata": {},
     "output_type": "display_data"
    }
   ],
   "source": [
    "options(repr.plot.width = 6, repr.plot.height = 3)\n",
    "epo_citations %>%\n",
    "    .[Cited_pub_nbr %in% airbus_gpt$patentNumber] %>%\n",
    "    .[, .N, keyby=Cited_App_auth]"
   ]
  },
  {
   "cell_type": "code",
   "execution_count": 378,
   "metadata": {
    "vscode": {
     "languageId": "r"
    }
   },
   "outputs": [
    {
     "data": {
      "text/html": [
       "<table class=\"dataframe\">\n",
       "<caption>A data.table: 6 × 15</caption>\n",
       "<thead>\n",
       "\t<tr><th scope=col>Citing_pub_nbr</th><th scope=col>Citing_pub_date</th><th scope=col>Citing_app_nbr</th><th scope=col>Citing_appln_id</th><th scope=col>Cited_pub_nbr</th><th scope=col>Cited_pub_date</th><th scope=col>Cited_App_auth</th><th scope=col>Cited_App_nbr</th><th scope=col>Cited_Appln_id</th><th scope=col>Cit_Total</th><th scope=col>Citn_origin</th><th scope=col>Citn_category</th><th scope=col>Citn_lag_year</th><th scope=col>Citn_lag_month</th><th scope=col>PCT_Route</th></tr>\n",
       "\t<tr><th scope=col>&lt;chr&gt;</th><th scope=col>&lt;IDate&gt;</th><th scope=col>&lt;chr&gt;</th><th scope=col>&lt;int&gt;</th><th scope=col>&lt;chr&gt;</th><th scope=col>&lt;IDate&gt;</th><th scope=col>&lt;chr&gt;</th><th scope=col>&lt;chr&gt;</th><th scope=col>&lt;int&gt;</th><th scope=col>&lt;int&gt;</th><th scope=col>&lt;chr&gt;</th><th scope=col>&lt;chr&gt;</th><th scope=col>&lt;int&gt;</th><th scope=col>&lt;int&gt;</th><th scope=col>&lt;int&gt;</th></tr>\n",
       "</thead>\n",
       "<tbody>\n",
       "\t<tr><td>EP3920674</td><td>2021-12-08</td><td>EP20210153102</td><td>544661355</td><td>US9699902   </td><td>2017-07-04</td><td>US</td><td>US201414340432</td><td>480747715</td><td>3</td><td>SEA</td><td>XI</td><td> 4</td><td> 53</td><td>0</td></tr>\n",
       "\t<tr><td>EP3920674</td><td>2021-12-08</td><td>EP20210153102</td><td>544661355</td><td>EP3537856   </td><td>2019-09-11</td><td>EP</td><td>EP20190155648 </td><td>507280334</td><td>3</td><td>SEA</td><td>XI</td><td> 2</td><td> 27</td><td>0</td></tr>\n",
       "\t<tr><td>EP3920675</td><td>2021-12-08</td><td>EP20210182182</td><td>552977087</td><td>US2006276081</td><td>2006-12-07</td><td>US</td><td>US50311506    </td><td> 51391579</td><td>4</td><td>SEA</td><td>Y </td><td>15</td><td>180</td><td>0</td></tr>\n",
       "\t<tr><td>EP3920675</td><td>2021-12-08</td><td>EP20210182182</td><td>552977087</td><td>US2013003285</td><td>2013-01-03</td><td>US</td><td>US201113198866</td><td>379405572</td><td>4</td><td>SEA</td><td>Y </td><td> 8</td><td>107</td><td>0</td></tr>\n",
       "\t<tr><td>EP3920675</td><td>2021-12-08</td><td>EP20210182182</td><td>552977087</td><td>US2014146462</td><td>2014-05-29</td><td>US</td><td>US201213685146</td><td>418443770</td><td>4</td><td>SEA</td><td>XI</td><td> 7</td><td> 91</td><td>0</td></tr>\n",
       "\t<tr><td>EP3920675</td><td>2021-12-08</td><td>EP20210182182</td><td>552977087</td><td>US2014268536</td><td>2014-09-18</td><td>US</td><td>US201414212941</td><td>421953651</td><td>4</td><td>SEA</td><td>A </td><td> 7</td><td> 87</td><td>0</td></tr>\n",
       "</tbody>\n",
       "</table>\n"
      ],
      "text/latex": [
       "A data.table: 6 × 15\n",
       "\\begin{tabular}{lllllllllllllll}\n",
       " Citing\\_pub\\_nbr & Citing\\_pub\\_date & Citing\\_app\\_nbr & Citing\\_appln\\_id & Cited\\_pub\\_nbr & Cited\\_pub\\_date & Cited\\_App\\_auth & Cited\\_App\\_nbr & Cited\\_Appln\\_id & Cit\\_Total & Citn\\_origin & Citn\\_category & Citn\\_lag\\_year & Citn\\_lag\\_month & PCT\\_Route\\\\\n",
       " <chr> & <IDate> & <chr> & <int> & <chr> & <IDate> & <chr> & <chr> & <int> & <int> & <chr> & <chr> & <int> & <int> & <int>\\\\\n",
       "\\hline\n",
       "\t EP3920674 & 2021-12-08 & EP20210153102 & 544661355 & US9699902    & 2017-07-04 & US & US201414340432 & 480747715 & 3 & SEA & XI &  4 &  53 & 0\\\\\n",
       "\t EP3920674 & 2021-12-08 & EP20210153102 & 544661355 & EP3537856    & 2019-09-11 & EP & EP20190155648  & 507280334 & 3 & SEA & XI &  2 &  27 & 0\\\\\n",
       "\t EP3920675 & 2021-12-08 & EP20210182182 & 552977087 & US2006276081 & 2006-12-07 & US & US50311506     &  51391579 & 4 & SEA & Y  & 15 & 180 & 0\\\\\n",
       "\t EP3920675 & 2021-12-08 & EP20210182182 & 552977087 & US2013003285 & 2013-01-03 & US & US201113198866 & 379405572 & 4 & SEA & Y  &  8 & 107 & 0\\\\\n",
       "\t EP3920675 & 2021-12-08 & EP20210182182 & 552977087 & US2014146462 & 2014-05-29 & US & US201213685146 & 418443770 & 4 & SEA & XI &  7 &  91 & 0\\\\\n",
       "\t EP3920675 & 2021-12-08 & EP20210182182 & 552977087 & US2014268536 & 2014-09-18 & US & US201414212941 & 421953651 & 4 & SEA & A  &  7 &  87 & 0\\\\\n",
       "\\end{tabular}\n"
      ],
      "text/markdown": [
       "\n",
       "A data.table: 6 × 15\n",
       "\n",
       "| Citing_pub_nbr &lt;chr&gt; | Citing_pub_date &lt;IDate&gt; | Citing_app_nbr &lt;chr&gt; | Citing_appln_id &lt;int&gt; | Cited_pub_nbr &lt;chr&gt; | Cited_pub_date &lt;IDate&gt; | Cited_App_auth &lt;chr&gt; | Cited_App_nbr &lt;chr&gt; | Cited_Appln_id &lt;int&gt; | Cit_Total &lt;int&gt; | Citn_origin &lt;chr&gt; | Citn_category &lt;chr&gt; | Citn_lag_year &lt;int&gt; | Citn_lag_month &lt;int&gt; | PCT_Route &lt;int&gt; |\n",
       "|---|---|---|---|---|---|---|---|---|---|---|---|---|---|---|\n",
       "| EP3920674 | 2021-12-08 | EP20210153102 | 544661355 | US9699902    | 2017-07-04 | US | US201414340432 | 480747715 | 3 | SEA | XI |  4 |  53 | 0 |\n",
       "| EP3920674 | 2021-12-08 | EP20210153102 | 544661355 | EP3537856    | 2019-09-11 | EP | EP20190155648  | 507280334 | 3 | SEA | XI |  2 |  27 | 0 |\n",
       "| EP3920675 | 2021-12-08 | EP20210182182 | 552977087 | US2006276081 | 2006-12-07 | US | US50311506     |  51391579 | 4 | SEA | Y  | 15 | 180 | 0 |\n",
       "| EP3920675 | 2021-12-08 | EP20210182182 | 552977087 | US2013003285 | 2013-01-03 | US | US201113198866 | 379405572 | 4 | SEA | Y  |  8 | 107 | 0 |\n",
       "| EP3920675 | 2021-12-08 | EP20210182182 | 552977087 | US2014146462 | 2014-05-29 | US | US201213685146 | 418443770 | 4 | SEA | XI |  7 |  91 | 0 |\n",
       "| EP3920675 | 2021-12-08 | EP20210182182 | 552977087 | US2014268536 | 2014-09-18 | US | US201414212941 | 421953651 | 4 | SEA | A  |  7 |  87 | 0 |\n",
       "\n"
      ],
      "text/plain": [
       "  Citing_pub_nbr Citing_pub_date Citing_app_nbr Citing_appln_id Cited_pub_nbr\n",
       "1 EP3920674      2021-12-08      EP20210153102  544661355       US9699902    \n",
       "2 EP3920674      2021-12-08      EP20210153102  544661355       EP3537856    \n",
       "3 EP3920675      2021-12-08      EP20210182182  552977087       US2006276081 \n",
       "4 EP3920675      2021-12-08      EP20210182182  552977087       US2013003285 \n",
       "5 EP3920675      2021-12-08      EP20210182182  552977087       US2014146462 \n",
       "6 EP3920675      2021-12-08      EP20210182182  552977087       US2014268536 \n",
       "  Cited_pub_date Cited_App_auth Cited_App_nbr  Cited_Appln_id Cit_Total\n",
       "1 2017-07-04     US             US201414340432 480747715      3        \n",
       "2 2019-09-11     EP             EP20190155648  507280334      3        \n",
       "3 2006-12-07     US             US50311506      51391579      4        \n",
       "4 2013-01-03     US             US201113198866 379405572      4        \n",
       "5 2014-05-29     US             US201213685146 418443770      4        \n",
       "6 2014-09-18     US             US201414212941 421953651      4        \n",
       "  Citn_origin Citn_category Citn_lag_year Citn_lag_month PCT_Route\n",
       "1 SEA         XI             4             53            0        \n",
       "2 SEA         XI             2             27            0        \n",
       "3 SEA         Y             15            180            0        \n",
       "4 SEA         Y              8            107            0        \n",
       "5 SEA         XI             7             91            0        \n",
       "6 SEA         A              7             87            0        "
      ]
     },
     "metadata": {},
     "output_type": "display_data"
    }
   ],
   "source": [
    "tail(epo_citations)"
   ]
  },
  {
   "cell_type": "code",
   "execution_count": 403,
   "metadata": {
    "vscode": {
     "languageId": "r"
    }
   },
   "outputs": [],
   "source": [
    "# forward citation pct\n",
    "options(repr.plot.width = 6, repr.plot.height = 3)\n",
    "epo_cit_counts %>%\n",
    "    .[EP_Pub_nbr %in% airbus_gpt$patentNumber] %>%\n",
    "    .[, c(1, 2, 6, 8:15, 24:27, 30)] %>%\n",
    "    ggplot(aes(Total_cits_Recd)) + \n",
    "    geom_histogram(fill=gray_scale[4], color=gray_scale[5], bins=30) +\n",
    "    theme_bw() + \n",
    "    labs(x='Total citations received') +\n",
    "    theme(\n",
    "        panel.grid.minor = element_blank(),\n",
    "        panel.border = element_blank(),\n",
    "        axis.line = element_line(color = \"black\"),\n",
    "    ) + \n",
    "    scale_x_continuous(breaks=seq(0, 50, 5)) -> p5\n",
    "    "
   ]
  },
  {
   "cell_type": "code",
   "execution_count": 404,
   "metadata": {
    "vscode": {
     "languageId": "r"
    }
   },
   "outputs": [],
   "source": [
    "ggsave(\n",
    "    p5, \n",
    "    file='/home/jovyan/work/docs/images/blog/airbus_forward_citation.png',\n",
    "    width=6, height=3, type=\"cairo-png\",\n",
    "    device = grDevices::png, \n",
    "    dpi=300, bg='transparent')"
   ]
  },
  {
   "cell_type": "code",
   "execution_count": 474,
   "metadata": {
    "vscode": {
     "languageId": "r"
    }
   },
   "outputs": [
    {
     "data": {
      "text/html": [
       "<table class=\"dataframe\">\n",
       "<caption>A data.table: 8 × 2</caption>\n",
       "<thead>\n",
       "\t<tr><th scope=col>Direct_cits_Recd</th><th scope=col>N</th></tr>\n",
       "\t<tr><th scope=col>&lt;int&gt;</th><th scope=col>&lt;int&gt;</th></tr>\n",
       "</thead>\n",
       "<tbody>\n",
       "\t<tr><td>0</td><td>337</td></tr>\n",
       "\t<tr><td>1</td><td> 63</td></tr>\n",
       "\t<tr><td>2</td><td> 21</td></tr>\n",
       "\t<tr><td>3</td><td> 13</td></tr>\n",
       "\t<tr><td>4</td><td>  5</td></tr>\n",
       "\t<tr><td>5</td><td>  4</td></tr>\n",
       "\t<tr><td>6</td><td>  1</td></tr>\n",
       "\t<tr><td>9</td><td>  1</td></tr>\n",
       "</tbody>\n",
       "</table>\n"
      ],
      "text/latex": [
       "A data.table: 8 × 2\n",
       "\\begin{tabular}{ll}\n",
       " Direct\\_cits\\_Recd & N\\\\\n",
       " <int> & <int>\\\\\n",
       "\\hline\n",
       "\t 0 & 337\\\\\n",
       "\t 1 &  63\\\\\n",
       "\t 2 &  21\\\\\n",
       "\t 3 &  13\\\\\n",
       "\t 4 &   5\\\\\n",
       "\t 5 &   4\\\\\n",
       "\t 6 &   1\\\\\n",
       "\t 9 &   1\\\\\n",
       "\\end{tabular}\n"
      ],
      "text/markdown": [
       "\n",
       "A data.table: 8 × 2\n",
       "\n",
       "| Direct_cits_Recd &lt;int&gt; | N &lt;int&gt; |\n",
       "|---|---|\n",
       "| 0 | 337 |\n",
       "| 1 |  63 |\n",
       "| 2 |  21 |\n",
       "| 3 |  13 |\n",
       "| 4 |   5 |\n",
       "| 5 |   4 |\n",
       "| 6 |   1 |\n",
       "| 9 |   1 |\n",
       "\n"
      ],
      "text/plain": [
       "  Direct_cits_Recd N  \n",
       "1 0                337\n",
       "2 1                 63\n",
       "3 2                 21\n",
       "4 3                 13\n",
       "5 4                  5\n",
       "6 5                  4\n",
       "7 6                  1\n",
       "8 9                  1"
      ]
     },
     "metadata": {},
     "output_type": "display_data"
    }
   ],
   "source": [
    "# forward citation pct\n",
    "options(repr.plot.width = 6, repr.plot.height = 3)\n",
    "epo_cit_counts %>%\n",
    "    .[EP_Pub_nbr %in% airbus_gpt$patentNumber] %>%\n",
    "    .[, c(1, 2, 6, 8:15, 24:27, 30)] %>%\n",
    "    .[order(-rank(Direct_cits_Recd))] %>%\n",
    "    .[, .(Direct_cits_Recd)] %>%\n",
    "    .[, .N, keyby=Direct_cits_Recd]"
   ]
  },
  {
   "cell_type": "code",
   "execution_count": 447,
   "metadata": {
    "vscode": {
     "languageId": "r"
    }
   },
   "outputs": [
    {
     "data": {
      "text/html": [
       "<table class=\"dataframe\">\n",
       "<caption>A data.table: 1 × 7</caption>\n",
       "<thead>\n",
       "\t<tr><th scope=col>patentNumber</th><th scope=col>applicationDate</th><th scope=col>granted</th><th scope=col>grantDate</th><th scope=col>familyID</th><th scope=col>cpcTags</th><th scope=col>publicationItems</th></tr>\n",
       "\t<tr><th scope=col>&lt;chr&gt;</th><th scope=col>&lt;chr&gt;</th><th scope=col>&lt;int&gt;</th><th scope=col>&lt;chr&gt;</th><th scope=col>&lt;int&gt;</th><th scope=col>&lt;chr&gt;</th><th scope=col>&lt;chr&gt;</th></tr>\n",
       "</thead>\n",
       "<tbody>\n",
       "\t<tr><td>EP2702382</td><td>Thu, 26 Apr 2012</td><td>1</td><td>Wed, 20 Mar 2019</td><td>46384068</td><td>['F03D 17/00', 'F03D 80/50', 'G01C 11/02', 'G01M 5/0016', 'G01M 5/0033', 'G01M 5/0075', 'G01M 5/0091', 'G05D 1/0094']</td><td>['EP 2702382 A2', 'EP 2702382 B1']</td></tr>\n",
       "</tbody>\n",
       "</table>\n"
      ],
      "text/latex": [
       "A data.table: 1 × 7\n",
       "\\begin{tabular}{lllllll}\n",
       " patentNumber & applicationDate & granted & grantDate & familyID & cpcTags & publicationItems\\\\\n",
       " <chr> & <chr> & <int> & <chr> & <int> & <chr> & <chr>\\\\\n",
       "\\hline\n",
       "\t EP2702382 & Thu, 26 Apr 2012 & 1 & Wed, 20 Mar 2019 & 46384068 & {[}'F03D 17/00', 'F03D 80/50', 'G01C 11/02', 'G01M 5/0016', 'G01M 5/0033', 'G01M 5/0075', 'G01M 5/0091', 'G05D 1/0094'{]} & {[}'EP 2702382 A2', 'EP 2702382 B1'{]}\\\\\n",
       "\\end{tabular}\n"
      ],
      "text/markdown": [
       "\n",
       "A data.table: 1 × 7\n",
       "\n",
       "| patentNumber &lt;chr&gt; | applicationDate &lt;chr&gt; | granted &lt;int&gt; | grantDate &lt;chr&gt; | familyID &lt;int&gt; | cpcTags &lt;chr&gt; | publicationItems &lt;chr&gt; |\n",
       "|---|---|---|---|---|---|---|\n",
       "| EP2702382 | Thu, 26 Apr 2012 | 1 | Wed, 20 Mar 2019 | 46384068 | ['F03D 17/00', 'F03D 80/50', 'G01C 11/02', 'G01M 5/0016', 'G01M 5/0033', 'G01M 5/0075', 'G01M 5/0091', 'G05D 1/0094'] | ['EP 2702382 A2', 'EP 2702382 B1'] |\n",
       "\n"
      ],
      "text/plain": [
       "  patentNumber applicationDate  granted grantDate        familyID\n",
       "1 EP2702382    Thu, 26 Apr 2012 1       Wed, 20 Mar 2019 46384068\n",
       "  cpcTags                                                                                                              \n",
       "1 ['F03D 17/00', 'F03D 80/50', 'G01C 11/02', 'G01M 5/0016', 'G01M 5/0033', 'G01M 5/0075', 'G01M 5/0091', 'G05D 1/0094']\n",
       "  publicationItems                  \n",
       "1 ['EP 2702382 A2', 'EP 2702382 B1']"
      ]
     },
     "metadata": {},
     "output_type": "display_data"
    }
   ],
   "source": [
    "airbus_gpt %>%\n",
    "    .[patentNumber == 'EP2702382']"
   ]
  },
  {
   "cell_type": "code",
   "execution_count": 450,
   "metadata": {
    "vscode": {
     "languageId": "r"
    }
   },
   "outputs": [
    {
     "data": {
      "text/html": [
       "<table class=\"dataframe\">\n",
       "<caption>A data.table: 0 × 15</caption>\n",
       "<thead>\n",
       "\t<tr><th scope=col>Citing_pub_nbr</th><th scope=col>Citing_pub_date</th><th scope=col>Citing_app_nbr</th><th scope=col>Citing_appln_id</th><th scope=col>Cited_pub_nbr</th><th scope=col>Cited_pub_date</th><th scope=col>Cited_App_auth</th><th scope=col>Cited_App_nbr</th><th scope=col>Cited_Appln_id</th><th scope=col>Cit_Total</th><th scope=col>Citn_origin</th><th scope=col>Citn_category</th><th scope=col>Citn_lag_year</th><th scope=col>Citn_lag_month</th><th scope=col>ISA</th></tr>\n",
       "\t<tr><th scope=col>&lt;chr&gt;</th><th scope=col>&lt;IDate&gt;</th><th scope=col>&lt;chr&gt;</th><th scope=col>&lt;int&gt;</th><th scope=col>&lt;chr&gt;</th><th scope=col>&lt;IDate&gt;</th><th scope=col>&lt;chr&gt;</th><th scope=col>&lt;chr&gt;</th><th scope=col>&lt;int&gt;</th><th scope=col>&lt;int&gt;</th><th scope=col>&lt;chr&gt;</th><th scope=col>&lt;chr&gt;</th><th scope=col>&lt;int&gt;</th><th scope=col>&lt;int&gt;</th><th scope=col>&lt;chr&gt;</th></tr>\n",
       "</thead>\n",
       "<tbody>\n",
       "</tbody>\n",
       "</table>\n"
      ],
      "text/latex": [
       "A data.table: 0 × 15\n",
       "\\begin{tabular}{lllllllllllllll}\n",
       " Citing\\_pub\\_nbr & Citing\\_pub\\_date & Citing\\_app\\_nbr & Citing\\_appln\\_id & Cited\\_pub\\_nbr & Cited\\_pub\\_date & Cited\\_App\\_auth & Cited\\_App\\_nbr & Cited\\_Appln\\_id & Cit\\_Total & Citn\\_origin & Citn\\_category & Citn\\_lag\\_year & Citn\\_lag\\_month & ISA\\\\\n",
       " <chr> & <IDate> & <chr> & <int> & <chr> & <IDate> & <chr> & <chr> & <int> & <int> & <chr> & <chr> & <int> & <int> & <chr>\\\\\n",
       "\\hline\n",
       "\\end{tabular}\n"
      ],
      "text/markdown": [
       "\n",
       "A data.table: 0 × 15\n",
       "\n",
       "| Citing_pub_nbr &lt;chr&gt; | Citing_pub_date &lt;IDate&gt; | Citing_app_nbr &lt;chr&gt; | Citing_appln_id &lt;int&gt; | Cited_pub_nbr &lt;chr&gt; | Cited_pub_date &lt;IDate&gt; | Cited_App_auth &lt;chr&gt; | Cited_App_nbr &lt;chr&gt; | Cited_Appln_id &lt;int&gt; | Cit_Total &lt;int&gt; | Citn_origin &lt;chr&gt; | Citn_category &lt;chr&gt; | Citn_lag_year &lt;int&gt; | Citn_lag_month &lt;int&gt; | ISA &lt;chr&gt; |\n",
       "|---|---|---|---|---|---|---|---|---|---|---|---|---|---|---|\n",
       "\n"
      ],
      "text/plain": [
       "     Citing_pub_nbr Citing_pub_date Citing_app_nbr Citing_appln_id\n",
       "     Cited_pub_nbr Cited_pub_date Cited_App_auth Cited_App_nbr Cited_Appln_id\n",
       "     Cit_Total Citn_origin Citn_category Citn_lag_year Citn_lag_month ISA"
      ]
     },
     "metadata": {},
     "output_type": "display_data"
    }
   ],
   "source": [
    "pct_citation %>%\n",
    "    .[Cited_pub_nbr == 'ES2730975']"
   ]
  },
  {
   "cell_type": "code",
   "execution_count": 417,
   "metadata": {
    "vscode": {
     "languageId": "r"
    }
   },
   "outputs": [
    {
     "data": {
      "text/html": [
       "<table class=\"dataframe\">\n",
       "<caption>A data.table: 5 × 15</caption>\n",
       "<thead>\n",
       "\t<tr><th scope=col>Citing_pub_nbr</th><th scope=col>Citing_pub_date</th><th scope=col>Citing_app_nbr</th><th scope=col>Citing_appln_id</th><th scope=col>Cited_pub_nbr</th><th scope=col>Cited_pub_date</th><th scope=col>Cited_App_auth</th><th scope=col>Cited_App_nbr</th><th scope=col>Cited_Appln_id</th><th scope=col>Cit_Total</th><th scope=col>Citn_origin</th><th scope=col>Citn_category</th><th scope=col>Citn_lag_year</th><th scope=col>Citn_lag_month</th><th scope=col>ISA</th></tr>\n",
       "\t<tr><th scope=col>&lt;chr&gt;</th><th scope=col>&lt;IDate&gt;</th><th scope=col>&lt;chr&gt;</th><th scope=col>&lt;int&gt;</th><th scope=col>&lt;chr&gt;</th><th scope=col>&lt;IDate&gt;</th><th scope=col>&lt;chr&gt;</th><th scope=col>&lt;chr&gt;</th><th scope=col>&lt;int&gt;</th><th scope=col>&lt;int&gt;</th><th scope=col>&lt;chr&gt;</th><th scope=col>&lt;chr&gt;</th><th scope=col>&lt;int&gt;</th><th scope=col>&lt;int&gt;</th><th scope=col>&lt;chr&gt;</th></tr>\n",
       "</thead>\n",
       "<tbody>\n",
       "\t<tr><td>WO2009106490</td><td>2009-09-03</td><td>WO2009052074</td><td>57347706</td><td>WO2000049760</td><td>2000-08-24</td><td>WO</td><td>WO2000000269</td><td>43097721</td><td>4</td><td>ISR</td><td>X</td><td> 9</td><td>109</td><td>EP</td></tr>\n",
       "\t<tr><td>WO2006011764</td><td>2006-02-02</td><td>WO2005002459</td><td>39985220</td><td>US6443811   </td><td>2002-09-03</td><td>US</td><td>US59712500  </td><td>52103421</td><td>8</td><td>ISR</td><td>A</td><td> 4</td><td> 41</td><td>KR</td></tr>\n",
       "\t<tr><td>WO2000051767</td><td>2000-09-08</td><td>WO2000001169</td><td>25457556</td><td>JPS63243210 </td><td>1988-10-11</td><td>JP</td><td>JP7767787   </td><td>29088766</td><td>3</td><td>ISR</td><td>A</td><td>12</td><td>143</td><td>JP</td></tr>\n",
       "\t<tr><td>WO2006008694</td><td>2006-01-26</td><td>WO2005052289</td><td>24041989</td><td>US5394385   </td><td>1995-02-28</td><td>US</td><td>US11570793  </td><td>47741198</td><td>6</td><td>ISR</td><td>A</td><td>11</td><td>131</td><td>EP</td></tr>\n",
       "\t<tr><td>WO2004045105</td><td>2004-05-27</td><td>WO2003027272</td><td>45712891</td><td>US6243575   </td><td>2001-06-05</td><td>US</td><td>US13978198  </td><td>48102343</td><td>8</td><td>ISR</td><td>X</td><td> 3</td><td> 35</td><td>US</td></tr>\n",
       "</tbody>\n",
       "</table>\n"
      ],
      "text/latex": [
       "A data.table: 5 × 15\n",
       "\\begin{tabular}{lllllllllllllll}\n",
       " Citing\\_pub\\_nbr & Citing\\_pub\\_date & Citing\\_app\\_nbr & Citing\\_appln\\_id & Cited\\_pub\\_nbr & Cited\\_pub\\_date & Cited\\_App\\_auth & Cited\\_App\\_nbr & Cited\\_Appln\\_id & Cit\\_Total & Citn\\_origin & Citn\\_category & Citn\\_lag\\_year & Citn\\_lag\\_month & ISA\\\\\n",
       " <chr> & <IDate> & <chr> & <int> & <chr> & <IDate> & <chr> & <chr> & <int> & <int> & <chr> & <chr> & <int> & <int> & <chr>\\\\\n",
       "\\hline\n",
       "\t WO2009106490 & 2009-09-03 & WO2009052074 & 57347706 & WO2000049760 & 2000-08-24 & WO & WO2000000269 & 43097721 & 4 & ISR & X &  9 & 109 & EP\\\\\n",
       "\t WO2006011764 & 2006-02-02 & WO2005002459 & 39985220 & US6443811    & 2002-09-03 & US & US59712500   & 52103421 & 8 & ISR & A &  4 &  41 & KR\\\\\n",
       "\t WO2000051767 & 2000-09-08 & WO2000001169 & 25457556 & JPS63243210  & 1988-10-11 & JP & JP7767787    & 29088766 & 3 & ISR & A & 12 & 143 & JP\\\\\n",
       "\t WO2006008694 & 2006-01-26 & WO2005052289 & 24041989 & US5394385    & 1995-02-28 & US & US11570793   & 47741198 & 6 & ISR & A & 11 & 131 & EP\\\\\n",
       "\t WO2004045105 & 2004-05-27 & WO2003027272 & 45712891 & US6243575    & 2001-06-05 & US & US13978198   & 48102343 & 8 & ISR & X &  3 &  35 & US\\\\\n",
       "\\end{tabular}\n"
      ],
      "text/markdown": [
       "\n",
       "A data.table: 5 × 15\n",
       "\n",
       "| Citing_pub_nbr &lt;chr&gt; | Citing_pub_date &lt;IDate&gt; | Citing_app_nbr &lt;chr&gt; | Citing_appln_id &lt;int&gt; | Cited_pub_nbr &lt;chr&gt; | Cited_pub_date &lt;IDate&gt; | Cited_App_auth &lt;chr&gt; | Cited_App_nbr &lt;chr&gt; | Cited_Appln_id &lt;int&gt; | Cit_Total &lt;int&gt; | Citn_origin &lt;chr&gt; | Citn_category &lt;chr&gt; | Citn_lag_year &lt;int&gt; | Citn_lag_month &lt;int&gt; | ISA &lt;chr&gt; |\n",
       "|---|---|---|---|---|---|---|---|---|---|---|---|---|---|---|\n",
       "| WO2009106490 | 2009-09-03 | WO2009052074 | 57347706 | WO2000049760 | 2000-08-24 | WO | WO2000000269 | 43097721 | 4 | ISR | X |  9 | 109 | EP |\n",
       "| WO2006011764 | 2006-02-02 | WO2005002459 | 39985220 | US6443811    | 2002-09-03 | US | US59712500   | 52103421 | 8 | ISR | A |  4 |  41 | KR |\n",
       "| WO2000051767 | 2000-09-08 | WO2000001169 | 25457556 | JPS63243210  | 1988-10-11 | JP | JP7767787    | 29088766 | 3 | ISR | A | 12 | 143 | JP |\n",
       "| WO2006008694 | 2006-01-26 | WO2005052289 | 24041989 | US5394385    | 1995-02-28 | US | US11570793   | 47741198 | 6 | ISR | A | 11 | 131 | EP |\n",
       "| WO2004045105 | 2004-05-27 | WO2003027272 | 45712891 | US6243575    | 2001-06-05 | US | US13978198   | 48102343 | 8 | ISR | X |  3 |  35 | US |\n",
       "\n"
      ],
      "text/plain": [
       "  Citing_pub_nbr Citing_pub_date Citing_app_nbr Citing_appln_id Cited_pub_nbr\n",
       "1 WO2009106490   2009-09-03      WO2009052074   57347706        WO2000049760 \n",
       "2 WO2006011764   2006-02-02      WO2005002459   39985220        US6443811    \n",
       "3 WO2000051767   2000-09-08      WO2000001169   25457556        JPS63243210  \n",
       "4 WO2006008694   2006-01-26      WO2005052289   24041989        US5394385    \n",
       "5 WO2004045105   2004-05-27      WO2003027272   45712891        US6243575    \n",
       "  Cited_pub_date Cited_App_auth Cited_App_nbr Cited_Appln_id Cit_Total\n",
       "1 2000-08-24     WO             WO2000000269  43097721       4        \n",
       "2 2002-09-03     US             US59712500    52103421       8        \n",
       "3 1988-10-11     JP             JP7767787     29088766       3        \n",
       "4 1995-02-28     US             US11570793    47741198       6        \n",
       "5 2001-06-05     US             US13978198    48102343       8        \n",
       "  Citn_origin Citn_category Citn_lag_year Citn_lag_month ISA\n",
       "1 ISR         X              9            109            EP \n",
       "2 ISR         A              4             41            KR \n",
       "3 ISR         A             12            143            JP \n",
       "4 ISR         A             11            131            EP \n",
       "5 ISR         X              3             35            US "
      ]
     },
     "metadata": {},
     "output_type": "display_data"
    }
   ],
   "source": [
    "pct_citation %>%\n",
    "    .[sample(.N, 5)]"
   ]
  },
  {
   "cell_type": "code",
   "execution_count": 443,
   "metadata": {
    "vscode": {
     "languageId": "r"
    }
   },
   "outputs": [
    {
     "data": {
      "application/pdf": "[encoded data removed]",
      "image/jpeg": "[encoded data removed]",
      "image/png": "[encoded data removed]",
      "image/svg+xml": "<?xml version=\"1.0\" encoding=\"UTF-8\"?>\n<svg xmlns=\"http://www.w3.org/2000/svg\" xmlns:xlink=\"http://www.w3.org/1999/xlink\" width=\"432pt\" height=\"216pt\" viewBox=\"0 0 432 216\" version=\"1.1\">\n<defs>\n<g>\n<symbol overflow=\"visible\" id=\"glyph0-0\">\n<path style=\"stroke:none;\" d=\"M 0.3125 0 L 0.3125 -6.203125 L 2.78125 -6.203125 L 2.78125 0 Z M 0.625 -0.3125 L 2.46875 -0.3125 L 2.46875 -5.890625 L 0.625 -5.890625 Z M 0.625 -0.3125 \"/>\n</symbol>\n<symbol overflow=\"visible\" id=\"glyph0-1\">\n<path style=\"stroke:none;\" d=\"M 4.8125 -3.203125 C 4.8125 -2.585938 4.75 -2.066406 4.625 -1.640625 C 4.507812 -1.222656 4.351562 -0.882812 4.15625 -0.625 C 3.957031 -0.375 3.71875 -0.191406 3.4375 -0.078125 C 3.164062 0.0351562 2.878906 0.09375 2.578125 0.09375 C 2.265625 0.09375 1.972656 0.0351562 1.703125 -0.078125 C 1.429688 -0.191406 1.195312 -0.375 1 -0.625 C 0.800781 -0.882812 0.644531 -1.222656 0.53125 -1.640625 C 0.414062 -2.066406 0.359375 -2.585938 0.359375 -3.203125 C 0.359375 -3.847656 0.414062 -4.378906 0.53125 -4.796875 C 0.644531 -5.222656 0.800781 -5.5625 1 -5.8125 C 1.195312 -6.0625 1.429688 -6.234375 1.703125 -6.328125 C 1.984375 -6.429688 2.28125 -6.484375 2.59375 -6.484375 C 2.90625 -6.484375 3.191406 -6.429688 3.453125 -6.328125 C 3.722656 -6.234375 3.957031 -6.0625 4.15625 -5.8125 C 4.363281 -5.5625 4.523438 -5.222656 4.640625 -4.796875 C 4.753906 -4.378906 4.8125 -3.847656 4.8125 -3.203125 Z M 3.984375 -3.203125 C 3.984375 -3.710938 3.953125 -4.132812 3.890625 -4.46875 C 3.828125 -4.800781 3.734375 -5.066406 3.609375 -5.265625 C 3.492188 -5.472656 3.347656 -5.617188 3.171875 -5.703125 C 3.003906 -5.785156 2.8125 -5.828125 2.59375 -5.828125 C 2.363281 -5.828125 2.160156 -5.785156 1.984375 -5.703125 C 1.816406 -5.617188 1.671875 -5.472656 1.546875 -5.265625 C 1.429688 -5.066406 1.34375 -4.796875 1.28125 -4.453125 C 1.21875 -4.117188 1.1875 -3.703125 1.1875 -3.203125 C 1.1875 -2.710938 1.21875 -2.296875 1.28125 -1.953125 C 1.34375 -1.617188 1.429688 -1.347656 1.546875 -1.140625 C 1.671875 -0.941406 1.816406 -0.796875 1.984375 -0.703125 C 2.160156 -0.617188 2.359375 -0.578125 2.578125 -0.578125 C 2.796875 -0.578125 2.988281 -0.617188 3.15625 -0.703125 C 3.332031 -0.796875 3.476562 -0.941406 3.59375 -1.140625 C 3.71875 -1.347656 3.8125 -1.617188 3.875 -1.953125 C 3.945312 -2.296875 3.984375 -2.710938 3.984375 -3.203125 Z M 3.984375 -3.203125 \"/>\n</symbol>\n<symbol overflow=\"visible\" id=\"glyph0-2\">\n<path style=\"stroke:none;\" d=\"M 0.46875 0 L 0.46875 -0.578125 C 0.625 -0.929688 0.8125 -1.242188 1.03125 -1.515625 C 1.25 -1.785156 1.484375 -2.03125 1.734375 -2.25 C 1.984375 -2.46875 2.226562 -2.671875 2.46875 -2.859375 C 2.707031 -3.046875 2.921875 -3.234375 3.109375 -3.421875 C 3.304688 -3.609375 3.460938 -3.804688 3.578125 -4.015625 C 3.703125 -4.222656 3.765625 -4.457031 3.765625 -4.71875 C 3.765625 -4.894531 3.734375 -5.050781 3.671875 -5.1875 C 3.617188 -5.320312 3.539062 -5.4375 3.4375 -5.53125 C 3.34375 -5.625 3.222656 -5.691406 3.078125 -5.734375 C 2.929688 -5.785156 2.769531 -5.8125 2.59375 -5.8125 C 2.425781 -5.8125 2.269531 -5.789062 2.125 -5.75 C 1.988281 -5.707031 1.863281 -5.640625 1.75 -5.546875 C 1.632812 -5.453125 1.539062 -5.335938 1.46875 -5.203125 C 1.40625 -5.066406 1.363281 -4.910156 1.34375 -4.734375 L 0.5 -4.8125 C 0.53125 -5.039062 0.59375 -5.253906 0.6875 -5.453125 C 0.789062 -5.660156 0.929688 -5.84375 1.109375 -6 C 1.285156 -6.15625 1.492188 -6.273438 1.734375 -6.359375 C 1.984375 -6.441406 2.269531 -6.484375 2.59375 -6.484375 C 2.914062 -6.484375 3.195312 -6.445312 3.4375 -6.375 C 3.6875 -6.300781 3.894531 -6.1875 4.0625 -6.03125 C 4.238281 -5.882812 4.375 -5.703125 4.46875 -5.484375 C 4.5625 -5.273438 4.609375 -5.023438 4.609375 -4.734375 C 4.609375 -4.523438 4.566406 -4.320312 4.484375 -4.125 C 4.410156 -3.925781 4.304688 -3.738281 4.171875 -3.5625 C 4.046875 -3.394531 3.898438 -3.226562 3.734375 -3.0625 C 3.566406 -2.894531 3.390625 -2.734375 3.203125 -2.578125 C 3.015625 -2.421875 2.828125 -2.265625 2.640625 -2.109375 C 2.453125 -1.960938 2.273438 -1.8125 2.109375 -1.65625 C 1.941406 -1.507812 1.789062 -1.351562 1.65625 -1.1875 C 1.53125 -1.03125 1.429688 -0.863281 1.359375 -0.6875 L 4.703125 -0.6875 L 4.703125 0 Z M 0.46875 0 \"/>\n</symbol>\n<symbol overflow=\"visible\" id=\"glyph0-3\">\n<path style=\"stroke:none;\" d=\"M 4.78125 -2.078125 C 4.78125 -1.765625 4.726562 -1.472656 4.625 -1.203125 C 4.53125 -0.929688 4.390625 -0.703125 4.203125 -0.515625 C 4.015625 -0.328125 3.773438 -0.175781 3.484375 -0.0625 C 3.203125 0.0390625 2.878906 0.09375 2.515625 0.09375 C 2.171875 0.09375 1.875 0.0546875 1.625 -0.015625 C 1.375 -0.0976562 1.160156 -0.207031 0.984375 -0.34375 C 0.816406 -0.488281 0.679688 -0.648438 0.578125 -0.828125 C 0.484375 -1.015625 0.414062 -1.21875 0.375 -1.4375 L 1.203125 -1.53125 C 1.234375 -1.40625 1.28125 -1.285156 1.34375 -1.171875 C 1.40625 -1.054688 1.488281 -0.953125 1.59375 -0.859375 C 1.695312 -0.773438 1.820312 -0.707031 1.96875 -0.65625 C 2.125 -0.601562 2.3125 -0.578125 2.53125 -0.578125 C 2.738281 -0.578125 2.925781 -0.609375 3.09375 -0.671875 C 3.269531 -0.734375 3.421875 -0.828125 3.546875 -0.953125 C 3.671875 -1.085938 3.765625 -1.242188 3.828125 -1.421875 C 3.898438 -1.609375 3.9375 -1.820312 3.9375 -2.0625 C 3.9375 -2.257812 3.898438 -2.441406 3.828125 -2.609375 C 3.765625 -2.773438 3.675781 -2.914062 3.5625 -3.03125 C 3.445312 -3.15625 3.300781 -3.25 3.125 -3.3125 C 2.957031 -3.375 2.765625 -3.40625 2.546875 -3.40625 C 2.410156 -3.40625 2.285156 -3.394531 2.171875 -3.375 C 2.054688 -3.351562 1.945312 -3.320312 1.84375 -3.28125 C 1.75 -3.238281 1.660156 -3.1875 1.578125 -3.125 C 1.503906 -3.070312 1.429688 -3.015625 1.359375 -2.953125 L 0.5625 -2.953125 L 0.765625 -6.390625 L 4.40625 -6.390625 L 4.40625 -5.703125 L 1.515625 -5.703125 L 1.390625 -3.671875 C 1.535156 -3.785156 1.71875 -3.878906 1.9375 -3.953125 C 2.15625 -4.035156 2.414062 -4.078125 2.71875 -4.078125 C 3.03125 -4.078125 3.3125 -4.03125 3.5625 -3.9375 C 3.820312 -3.84375 4.039062 -3.707031 4.21875 -3.53125 C 4.394531 -3.351562 4.53125 -3.140625 4.625 -2.890625 C 4.726562 -2.648438 4.78125 -2.378906 4.78125 -2.078125 Z M 4.78125 -2.078125 \"/>\n</symbol>\n<symbol overflow=\"visible\" id=\"glyph0-4\">\n<path style=\"stroke:none;\" d=\"M 4.703125 -5.734375 C 4.378906 -5.242188 4.082031 -4.769531 3.8125 -4.3125 C 3.539062 -3.863281 3.304688 -3.410156 3.109375 -2.953125 C 2.921875 -2.492188 2.773438 -2.019531 2.671875 -1.53125 C 2.566406 -1.050781 2.515625 -0.539062 2.515625 0 L 1.65625 0 C 1.65625 -0.507812 1.710938 -1.007812 1.828125 -1.5 C 1.953125 -2 2.117188 -2.484375 2.328125 -2.953125 C 2.535156 -3.421875 2.773438 -3.882812 3.046875 -4.34375 C 3.316406 -4.800781 3.601562 -5.253906 3.90625 -5.703125 L 0.484375 -5.703125 L 0.484375 -6.390625 L 4.703125 -6.390625 Z M 4.703125 -5.734375 \"/>\n</symbol>\n<symbol overflow=\"visible\" id=\"glyph0-5\">\n<path style=\"stroke:none;\" d=\"M 0.703125 0 L 0.703125 -0.6875 L 2.34375 -0.6875 L 2.34375 -5.609375 L 0.890625 -4.578125 L 0.890625 -5.359375 L 2.40625 -6.390625 L 3.15625 -6.390625 L 3.15625 -0.6875 L 4.71875 -0.6875 L 4.71875 0 Z M 0.703125 0 \"/>\n</symbol>\n<symbol overflow=\"visible\" id=\"glyph0-6\">\n<path style=\"stroke:none;\" d=\"M 3.59375 -5.78125 C 3.226562 -5.78125 2.90625 -5.71875 2.625 -5.59375 C 2.34375 -5.476562 2.109375 -5.304688 1.921875 -5.078125 C 1.734375 -4.859375 1.59375 -4.585938 1.5 -4.265625 C 1.40625 -3.953125 1.359375 -3.609375 1.359375 -3.234375 C 1.359375 -2.847656 1.410156 -2.492188 1.515625 -2.171875 C 1.617188 -1.847656 1.765625 -1.570312 1.953125 -1.34375 C 2.148438 -1.113281 2.390625 -0.9375 2.671875 -0.8125 C 2.953125 -0.6875 3.269531 -0.625 3.625 -0.625 C 3.875 -0.625 4.097656 -0.65625 4.296875 -0.71875 C 4.503906 -0.78125 4.691406 -0.867188 4.859375 -0.984375 C 5.023438 -1.109375 5.171875 -1.25 5.296875 -1.40625 C 5.429688 -1.570312 5.550781 -1.753906 5.65625 -1.953125 L 6.359375 -1.59375 C 6.242188 -1.351562 6.097656 -1.128906 5.921875 -0.921875 C 5.753906 -0.722656 5.554688 -0.546875 5.328125 -0.390625 C 5.109375 -0.242188 4.851562 -0.125 4.5625 -0.03125 C 4.269531 0.0507812 3.945312 0.09375 3.59375 0.09375 C 3.070312 0.09375 2.613281 0.0078125 2.21875 -0.15625 C 1.832031 -0.320312 1.507812 -0.550781 1.25 -0.84375 C 0.988281 -1.144531 0.789062 -1.492188 0.65625 -1.890625 C 0.53125 -2.296875 0.46875 -2.742188 0.46875 -3.234375 C 0.46875 -3.734375 0.535156 -4.179688 0.671875 -4.578125 C 0.816406 -4.984375 1.019531 -5.328125 1.28125 -5.609375 C 1.539062 -5.890625 1.863281 -6.101562 2.25 -6.25 C 2.644531 -6.40625 3.09375 -6.484375 3.59375 -6.484375 C 4.269531 -6.484375 4.835938 -6.347656 5.296875 -6.078125 C 5.753906 -5.816406 6.085938 -5.425781 6.296875 -4.90625 L 5.484375 -4.640625 C 5.421875 -4.785156 5.335938 -4.925781 5.234375 -5.0625 C 5.128906 -5.207031 5 -5.332031 4.84375 -5.4375 C 4.6875 -5.539062 4.503906 -5.625 4.296875 -5.6875 C 4.097656 -5.75 3.863281 -5.78125 3.59375 -5.78125 Z M 3.59375 -5.78125 \"/>\n</symbol>\n<symbol overflow=\"visible\" id=\"glyph0-7\">\n<path style=\"stroke:none;\" d=\"M 4.90625 0 L 1.484375 -5.453125 C 1.492188 -5.296875 1.503906 -5.144531 1.515625 -5 C 1.515625 -4.882812 1.515625 -4.753906 1.515625 -4.609375 C 1.523438 -4.472656 1.53125 -4.351562 1.53125 -4.25 L 1.53125 0 L 0.765625 0 L 0.765625 -6.390625 L 1.765625 -6.390625 L 5.234375 -0.90625 C 5.222656 -1.0625 5.210938 -1.210938 5.203125 -1.359375 C 5.191406 -1.484375 5.179688 -1.617188 5.171875 -1.765625 C 5.171875 -1.921875 5.171875 -2.066406 5.171875 -2.203125 L 5.171875 -6.390625 L 5.953125 -6.390625 L 5.953125 0 Z M 4.90625 0 \"/>\n</symbol>\n<symbol overflow=\"visible\" id=\"glyph0-8\">\n<path style=\"stroke:none;\" d=\"M 6.265625 -3.265625 C 6.265625 -2.734375 6.179688 -2.265625 6.015625 -1.859375 C 5.859375 -1.453125 5.640625 -1.109375 5.359375 -0.828125 C 5.085938 -0.554688 4.757812 -0.347656 4.375 -0.203125 C 4 -0.0664062 3.59375 0 3.15625 0 L 0.765625 0 L 0.765625 -6.390625 L 2.875 -6.390625 C 3.375 -6.390625 3.828125 -6.328125 4.234375 -6.203125 C 4.648438 -6.085938 5.007812 -5.898438 5.3125 -5.640625 C 5.613281 -5.390625 5.847656 -5.066406 6.015625 -4.671875 C 6.179688 -4.273438 6.265625 -3.804688 6.265625 -3.265625 Z M 5.390625 -3.265625 C 5.390625 -3.691406 5.328125 -4.054688 5.203125 -4.359375 C 5.085938 -4.671875 4.914062 -4.925781 4.6875 -5.125 C 4.46875 -5.320312 4.203125 -5.46875 3.890625 -5.5625 C 3.578125 -5.65625 3.234375 -5.703125 2.859375 -5.703125 L 1.625 -5.703125 L 1.625 -0.6875 L 3.0625 -0.6875 C 3.394531 -0.6875 3.703125 -0.738281 3.984375 -0.84375 C 4.273438 -0.957031 4.523438 -1.125 4.734375 -1.34375 C 4.941406 -1.5625 5.101562 -1.828125 5.21875 -2.140625 C 5.332031 -2.460938 5.390625 -2.835938 5.390625 -3.265625 Z M 5.390625 -3.265625 \"/>\n</symbol>\n<symbol overflow=\"visible\" id=\"glyph0-9\">\n<path style=\"stroke:none;\" d=\"M 0.765625 0 L 0.765625 -6.390625 L 5.609375 -6.390625 L 5.609375 -5.6875 L 1.625 -5.6875 L 1.625 -3.640625 L 5.34375 -3.640625 L 5.34375 -2.9375 L 1.625 -2.9375 L 1.625 -0.703125 L 5.796875 -0.703125 L 5.796875 0 Z M 0.765625 0 \"/>\n</symbol>\n<symbol overflow=\"visible\" id=\"glyph0-10\">\n<path style=\"stroke:none;\" d=\"M 5.703125 -4.46875 C 5.703125 -4.1875 5.65625 -3.925781 5.5625 -3.6875 C 5.476562 -3.445312 5.34375 -3.238281 5.15625 -3.0625 C 4.976562 -2.882812 4.75 -2.742188 4.46875 -2.640625 C 4.195312 -2.535156 3.878906 -2.484375 3.515625 -2.484375 L 1.625 -2.484375 L 1.625 0 L 0.765625 0 L 0.765625 -6.390625 L 3.453125 -6.390625 C 3.828125 -6.390625 4.15625 -6.34375 4.4375 -6.25 C 4.71875 -6.164062 4.953125 -6.035156 5.140625 -5.859375 C 5.328125 -5.691406 5.46875 -5.488281 5.5625 -5.25 C 5.65625 -5.019531 5.703125 -4.757812 5.703125 -4.46875 Z M 4.84375 -4.46875 C 4.84375 -4.875 4.71875 -5.179688 4.46875 -5.390625 C 4.21875 -5.597656 3.84375 -5.703125 3.34375 -5.703125 L 1.625 -5.703125 L 1.625 -3.171875 L 3.390625 -3.171875 C 3.890625 -3.171875 4.253906 -3.28125 4.484375 -3.5 C 4.722656 -3.726562 4.84375 -4.050781 4.84375 -4.46875 Z M 4.84375 -4.46875 \"/>\n</symbol>\n<symbol overflow=\"visible\" id=\"glyph0-11\">\n<path style=\"stroke:none;\" d=\"M 1.625 -5.6875 L 1.625 -3.3125 L 5.203125 -3.3125 L 5.203125 -2.59375 L 1.625 -2.59375 L 1.625 0 L 0.765625 0 L 0.765625 -6.390625 L 5.3125 -6.390625 L 5.3125 -5.6875 Z M 1.625 -5.6875 \"/>\n</symbol>\n<symbol overflow=\"visible\" id=\"glyph0-12\">\n<path style=\"stroke:none;\" d=\"M 5.28125 0 L 3.625 -2.65625 L 1.625 -2.65625 L 1.625 0 L 0.765625 0 L 0.765625 -6.390625 L 3.765625 -6.390625 C 4.128906 -6.390625 4.453125 -6.347656 4.734375 -6.265625 C 5.015625 -6.179688 5.25 -6.0625 5.4375 -5.90625 C 5.632812 -5.75 5.78125 -5.554688 5.875 -5.328125 C 5.976562 -5.109375 6.03125 -4.851562 6.03125 -4.5625 C 6.03125 -4.363281 6 -4.164062 5.9375 -3.96875 C 5.875 -3.769531 5.78125 -3.585938 5.65625 -3.421875 C 5.53125 -3.265625 5.367188 -3.125 5.171875 -3 C 4.972656 -2.882812 4.738281 -2.800781 4.46875 -2.75 L 6.28125 0 Z M 5.15625 -4.5625 C 5.15625 -4.75 5.117188 -4.914062 5.046875 -5.0625 C 4.984375 -5.207031 4.890625 -5.328125 4.765625 -5.421875 C 4.640625 -5.515625 4.484375 -5.582031 4.296875 -5.625 C 4.117188 -5.675781 3.914062 -5.703125 3.6875 -5.703125 L 1.625 -5.703125 L 1.625 -3.34375 L 3.71875 -3.34375 C 3.96875 -3.34375 4.179688 -3.375 4.359375 -3.4375 C 4.546875 -3.5 4.695312 -3.582031 4.8125 -3.6875 C 4.925781 -3.800781 5.007812 -3.929688 5.0625 -4.078125 C 5.125 -4.222656 5.15625 -4.382812 5.15625 -4.5625 Z M 5.15625 -4.5625 \"/>\n</symbol>\n<symbol overflow=\"visible\" id=\"glyph0-13\">\n<path style=\"stroke:none;\" d=\"M 0.46875 -3.234375 C 0.46875 -3.734375 0.535156 -4.179688 0.671875 -4.578125 C 0.804688 -4.984375 1.003906 -5.328125 1.265625 -5.609375 C 1.535156 -5.890625 1.867188 -6.101562 2.265625 -6.25 C 2.660156 -6.40625 3.125 -6.484375 3.65625 -6.484375 C 4.039062 -6.484375 4.378906 -6.445312 4.671875 -6.375 C 4.972656 -6.3125 5.234375 -6.210938 5.453125 -6.078125 C 5.671875 -5.953125 5.851562 -5.796875 6 -5.609375 C 6.15625 -5.421875 6.285156 -5.210938 6.390625 -4.984375 L 5.5625 -4.734375 C 5.488281 -4.890625 5.394531 -5.03125 5.28125 -5.15625 C 5.175781 -5.289062 5.046875 -5.40625 4.890625 -5.5 C 4.734375 -5.59375 4.550781 -5.660156 4.34375 -5.703125 C 4.132812 -5.753906 3.894531 -5.78125 3.625 -5.78125 C 3.238281 -5.78125 2.898438 -5.71875 2.609375 -5.59375 C 2.328125 -5.476562 2.09375 -5.304688 1.90625 -5.078125 C 1.71875 -4.859375 1.578125 -4.585938 1.484375 -4.265625 C 1.390625 -3.953125 1.34375 -3.609375 1.34375 -3.234375 C 1.34375 -2.847656 1.390625 -2.492188 1.484375 -2.171875 C 1.585938 -1.847656 1.738281 -1.570312 1.9375 -1.34375 C 2.132812 -1.113281 2.378906 -0.929688 2.671875 -0.796875 C 2.960938 -0.671875 3.300781 -0.609375 3.6875 -0.609375 C 3.9375 -0.609375 4.164062 -0.628906 4.375 -0.671875 C 4.59375 -0.710938 4.785156 -0.765625 4.953125 -0.828125 C 5.128906 -0.898438 5.28125 -0.976562 5.40625 -1.0625 C 5.539062 -1.144531 5.648438 -1.234375 5.734375 -1.328125 L 5.734375 -2.46875 L 3.828125 -2.46875 L 3.828125 -3.203125 L 6.53125 -3.203125 L 6.53125 -1 C 6.394531 -0.851562 6.226562 -0.710938 6.03125 -0.578125 C 5.84375 -0.441406 5.628906 -0.320312 5.390625 -0.21875 C 5.148438 -0.125 4.882812 -0.0507812 4.59375 0 C 4.3125 0.0625 4.007812 0.09375 3.6875 0.09375 C 3.144531 0.09375 2.671875 0.0078125 2.265625 -0.15625 C 1.867188 -0.320312 1.535156 -0.550781 1.265625 -0.84375 C 1.003906 -1.144531 0.804688 -1.492188 0.671875 -1.890625 C 0.535156 -2.296875 0.46875 -2.742188 0.46875 -3.234375 Z M 0.46875 -3.234375 \"/>\n</symbol>\n<symbol overflow=\"visible\" id=\"glyph0-14\">\n<path style=\"stroke:none;\" d=\"M 5.703125 -1.796875 C 5.703125 -1.472656 5.640625 -1.195312 5.515625 -0.96875 C 5.390625 -0.738281 5.21875 -0.550781 5 -0.40625 C 4.789062 -0.269531 4.539062 -0.164062 4.25 -0.09375 C 3.96875 -0.03125 3.671875 0 3.359375 0 L 0.765625 0 L 0.765625 -6.390625 L 3.09375 -6.390625 C 3.445312 -6.390625 3.757812 -6.359375 4.03125 -6.296875 C 4.3125 -6.242188 4.546875 -6.15625 4.734375 -6.03125 C 4.929688 -5.90625 5.082031 -5.742188 5.1875 -5.546875 C 5.289062 -5.347656 5.34375 -5.113281 5.34375 -4.84375 C 5.34375 -4.664062 5.316406 -4.5 5.265625 -4.34375 C 5.210938 -4.1875 5.132812 -4.039062 5.03125 -3.90625 C 4.9375 -3.78125 4.8125 -3.671875 4.65625 -3.578125 C 4.5 -3.484375 4.320312 -3.414062 4.125 -3.375 C 4.375 -3.34375 4.597656 -3.28125 4.796875 -3.1875 C 5.003906 -3.101562 5.171875 -2.992188 5.296875 -2.859375 C 5.429688 -2.722656 5.53125 -2.5625 5.59375 -2.375 C 5.664062 -2.195312 5.703125 -2.003906 5.703125 -1.796875 Z M 4.46875 -4.734375 C 4.46875 -5.078125 4.347656 -5.320312 4.109375 -5.46875 C 3.878906 -5.625 3.539062 -5.703125 3.09375 -5.703125 L 1.625 -5.703125 L 1.625 -3.671875 L 3.09375 -3.671875 C 3.34375 -3.671875 3.554688 -3.695312 3.734375 -3.75 C 3.910156 -3.800781 4.050781 -3.875 4.15625 -3.96875 C 4.269531 -4.0625 4.347656 -4.171875 4.390625 -4.296875 C 4.441406 -4.429688 4.46875 -4.578125 4.46875 -4.734375 Z M 4.828125 -1.875 C 4.828125 -2.070312 4.789062 -2.238281 4.71875 -2.375 C 4.644531 -2.519531 4.535156 -2.640625 4.390625 -2.734375 C 4.253906 -2.828125 4.085938 -2.894531 3.890625 -2.9375 C 3.703125 -2.976562 3.488281 -3 3.25 -3 L 1.625 -3 L 1.625 -0.6875 L 3.3125 -0.6875 C 3.53125 -0.6875 3.734375 -0.703125 3.921875 -0.734375 C 4.109375 -0.773438 4.269531 -0.84375 4.40625 -0.9375 C 4.539062 -1.03125 4.644531 -1.148438 4.71875 -1.296875 C 4.789062 -1.453125 4.828125 -1.644531 4.828125 -1.875 Z M 4.828125 -1.875 \"/>\n</symbol>\n<symbol overflow=\"visible\" id=\"glyph0-15\">\n<path style=\"stroke:none;\" d=\"M 2.078125 0.09375 C 1.554688 0.09375 1.128906 -0.0390625 0.796875 -0.3125 C 0.460938 -0.582031 0.242188 -1.007812 0.140625 -1.59375 L 1 -1.734375 C 1.03125 -1.535156 1.078125 -1.363281 1.140625 -1.21875 C 1.210938 -1.082031 1.296875 -0.96875 1.390625 -0.875 C 1.484375 -0.78125 1.585938 -0.710938 1.703125 -0.671875 C 1.828125 -0.628906 1.953125 -0.609375 2.078125 -0.609375 C 2.390625 -0.609375 2.632812 -0.71875 2.8125 -0.9375 C 3 -1.15625 3.09375 -1.472656 3.09375 -1.890625 L 3.09375 -5.6875 L 1.859375 -5.6875 L 1.859375 -6.390625 L 3.953125 -6.390625 L 3.953125 -1.90625 C 3.953125 -1.601562 3.910156 -1.328125 3.828125 -1.078125 C 3.742188 -0.835938 3.617188 -0.628906 3.453125 -0.453125 C 3.296875 -0.273438 3.097656 -0.140625 2.859375 -0.046875 C 2.628906 0.046875 2.367188 0.09375 2.078125 0.09375 Z M 2.078125 0.09375 \"/>\n</symbol>\n<symbol overflow=\"visible\" id=\"glyph0-16\">\n<path style=\"stroke:none;\" d=\"M 5.015625 0 L 2.46875 -3.09375 L 1.625 -2.453125 L 1.625 0 L 0.765625 0 L 0.765625 -6.390625 L 1.625 -6.390625 L 1.625 -3.1875 L 4.71875 -6.390625 L 5.734375 -6.390625 L 3.015625 -3.625 L 6.09375 0 Z M 5.015625 0 \"/>\n</symbol>\n<symbol overflow=\"visible\" id=\"glyph0-17\">\n<path style=\"stroke:none;\" d=\"M 3.3125 0.09375 C 2.96875 0.09375 2.632812 0.046875 2.3125 -0.046875 C 2 -0.140625 1.722656 -0.285156 1.484375 -0.484375 C 1.253906 -0.679688 1.066406 -0.929688 0.921875 -1.234375 C 0.785156 -1.546875 0.71875 -1.910156 0.71875 -2.328125 L 0.71875 -6.390625 L 1.578125 -6.390625 L 1.578125 -2.390625 C 1.578125 -2.066406 1.617188 -1.789062 1.703125 -1.5625 C 1.796875 -1.34375 1.921875 -1.160156 2.078125 -1.015625 C 2.234375 -0.878906 2.414062 -0.773438 2.625 -0.703125 C 2.832031 -0.640625 3.0625 -0.609375 3.3125 -0.609375 C 3.5625 -0.609375 3.796875 -0.640625 4.015625 -0.703125 C 4.234375 -0.773438 4.425781 -0.882812 4.59375 -1.03125 C 4.757812 -1.175781 4.890625 -1.363281 4.984375 -1.59375 C 5.085938 -1.832031 5.140625 -2.117188 5.140625 -2.453125 L 5.140625 -6.390625 L 6 -6.390625 L 6 -2.40625 C 6 -1.976562 5.925781 -1.609375 5.78125 -1.296875 C 5.644531 -0.984375 5.453125 -0.722656 5.203125 -0.515625 C 4.960938 -0.304688 4.679688 -0.148438 4.359375 -0.046875 C 4.035156 0.046875 3.6875 0.09375 3.3125 0.09375 Z M 3.3125 0.09375 \"/>\n</symbol>\n<symbol overflow=\"visible\" id=\"glyph0-18\">\n<path style=\"stroke:none;\" d=\"M 5.78125 -1.765625 C 5.78125 -1.492188 5.726562 -1.242188 5.625 -1.015625 C 5.519531 -0.796875 5.359375 -0.601562 5.140625 -0.4375 C 4.921875 -0.269531 4.644531 -0.140625 4.3125 -0.046875 C 3.976562 0.046875 3.582031 0.09375 3.125 0.09375 C 2.332031 0.09375 1.710938 -0.046875 1.265625 -0.328125 C 0.828125 -0.609375 0.546875 -1.007812 0.421875 -1.53125 L 1.265625 -1.703125 C 1.304688 -1.535156 1.367188 -1.382812 1.453125 -1.25 C 1.546875 -1.113281 1.664062 -0.992188 1.8125 -0.890625 C 1.957031 -0.796875 2.140625 -0.71875 2.359375 -0.65625 C 2.585938 -0.601562 2.851562 -0.578125 3.15625 -0.578125 C 3.414062 -0.578125 3.648438 -0.597656 3.859375 -0.640625 C 4.078125 -0.691406 4.265625 -0.757812 4.421875 -0.84375 C 4.578125 -0.9375 4.695312 -1.054688 4.78125 -1.203125 C 4.875 -1.347656 4.921875 -1.519531 4.921875 -1.71875 C 4.921875 -1.925781 4.867188 -2.09375 4.765625 -2.21875 C 4.671875 -2.351562 4.535156 -2.460938 4.359375 -2.546875 C 4.191406 -2.628906 3.988281 -2.695312 3.75 -2.75 C 3.507812 -2.8125 3.242188 -2.878906 2.953125 -2.953125 C 2.773438 -2.992188 2.597656 -3.035156 2.421875 -3.078125 C 2.242188 -3.128906 2.070312 -3.1875 1.90625 -3.25 C 1.738281 -3.3125 1.582031 -3.382812 1.4375 -3.46875 C 1.289062 -3.5625 1.164062 -3.671875 1.0625 -3.796875 C 0.957031 -3.921875 0.875 -4.0625 0.8125 -4.21875 C 0.75 -4.382812 0.71875 -4.570312 0.71875 -4.78125 C 0.71875 -5.082031 0.78125 -5.34375 0.90625 -5.5625 C 1.03125 -5.78125 1.203125 -5.957031 1.421875 -6.09375 C 1.640625 -6.226562 1.894531 -6.328125 2.1875 -6.390625 C 2.488281 -6.453125 2.8125 -6.484375 3.15625 -6.484375 C 3.550781 -6.484375 3.890625 -6.453125 4.171875 -6.390625 C 4.453125 -6.335938 4.6875 -6.25 4.875 -6.125 C 5.070312 -6 5.226562 -5.84375 5.34375 -5.65625 C 5.457031 -5.476562 5.550781 -5.265625 5.625 -5.015625 L 4.765625 -4.875 C 4.722656 -5.03125 4.660156 -5.164062 4.578125 -5.28125 C 4.503906 -5.40625 4.398438 -5.503906 4.265625 -5.578125 C 4.140625 -5.660156 3.984375 -5.722656 3.796875 -5.765625 C 3.609375 -5.816406 3.390625 -5.84375 3.140625 -5.84375 C 2.847656 -5.84375 2.597656 -5.8125 2.390625 -5.75 C 2.191406 -5.695312 2.03125 -5.625 1.90625 -5.53125 C 1.78125 -5.445312 1.691406 -5.34375 1.640625 -5.21875 C 1.585938 -5.09375 1.5625 -4.960938 1.5625 -4.828125 C 1.5625 -4.640625 1.609375 -4.484375 1.703125 -4.359375 C 1.804688 -4.234375 1.9375 -4.128906 2.09375 -4.046875 C 2.257812 -3.960938 2.445312 -3.894531 2.65625 -3.84375 C 2.875 -3.789062 3.101562 -3.738281 3.34375 -3.6875 C 3.539062 -3.632812 3.738281 -3.582031 3.9375 -3.53125 C 4.132812 -3.488281 4.320312 -3.4375 4.5 -3.375 C 4.675781 -3.3125 4.84375 -3.234375 5 -3.140625 C 5.15625 -3.054688 5.289062 -2.953125 5.40625 -2.828125 C 5.519531 -2.703125 5.609375 -2.550781 5.671875 -2.375 C 5.742188 -2.195312 5.78125 -1.992188 5.78125 -1.765625 Z M 5.78125 -1.765625 \"/>\n</symbol>\n<symbol overflow=\"visible\" id=\"glyph0-19\">\n<path style=\"stroke:none;\" d=\"M 6.859375 0 L 5.828125 0 L 4.71875 -4.0625 C 4.6875 -4.175781 4.648438 -4.3125 4.609375 -4.46875 C 4.566406 -4.625 4.53125 -4.773438 4.5 -4.921875 C 4.46875 -5.085938 4.4375 -5.253906 4.40625 -5.421875 C 4.363281 -5.253906 4.320312 -5.085938 4.28125 -4.921875 C 4.25 -4.773438 4.210938 -4.625 4.171875 -4.46875 C 4.140625 -4.3125 4.109375 -4.175781 4.078125 -4.0625 L 2.953125 0 L 1.921875 0 L 0.046875 -6.390625 L 0.9375 -6.390625 L 2.09375 -2.328125 C 2.144531 -2.140625 2.191406 -1.953125 2.234375 -1.765625 C 2.285156 -1.578125 2.328125 -1.410156 2.359375 -1.265625 C 2.398438 -1.085938 2.4375 -0.921875 2.46875 -0.765625 C 2.507812 -0.972656 2.554688 -1.175781 2.609375 -1.375 C 2.628906 -1.457031 2.648438 -1.546875 2.671875 -1.640625 C 2.691406 -1.734375 2.710938 -1.828125 2.734375 -1.921875 C 2.765625 -2.015625 2.789062 -2.101562 2.8125 -2.1875 C 2.832031 -2.269531 2.851562 -2.347656 2.875 -2.421875 L 3.984375 -6.390625 L 4.8125 -6.390625 L 5.921875 -2.421875 C 5.941406 -2.347656 5.960938 -2.269531 5.984375 -2.1875 C 6.003906 -2.101562 6.023438 -2.015625 6.046875 -1.921875 C 6.078125 -1.835938 6.101562 -1.75 6.125 -1.65625 C 6.144531 -1.5625 6.164062 -1.472656 6.1875 -1.390625 C 6.226562 -1.179688 6.273438 -0.972656 6.328125 -0.765625 C 6.328125 -0.765625 6.335938 -0.816406 6.359375 -0.921875 C 6.390625 -1.023438 6.421875 -1.15625 6.453125 -1.3125 C 6.492188 -1.46875 6.535156 -1.632812 6.578125 -1.8125 C 6.617188 -2 6.660156 -2.171875 6.703125 -2.328125 L 7.84375 -6.390625 L 8.75 -6.390625 Z M 6.859375 0 \"/>\n</symbol>\n<symbol overflow=\"visible\" id=\"glyph0-20\">\n<path style=\"stroke:none;\" d=\"M 6.78125 -3.234375 C 6.78125 -2.734375 6.707031 -2.273438 6.5625 -1.859375 C 6.425781 -1.453125 6.21875 -1.101562 5.9375 -0.8125 C 5.664062 -0.519531 5.332031 -0.296875 4.9375 -0.140625 C 4.550781 0.015625 4.109375 0.09375 3.609375 0.09375 C 3.078125 0.09375 2.613281 0.0078125 2.21875 -0.15625 C 1.820312 -0.320312 1.492188 -0.550781 1.234375 -0.84375 C 0.972656 -1.144531 0.773438 -1.492188 0.640625 -1.890625 C 0.503906 -2.296875 0.4375 -2.742188 0.4375 -3.234375 C 0.4375 -3.734375 0.503906 -4.179688 0.640625 -4.578125 C 0.785156 -4.984375 0.992188 -5.328125 1.265625 -5.609375 C 1.535156 -5.890625 1.863281 -6.101562 2.25 -6.25 C 2.644531 -6.40625 3.101562 -6.484375 3.625 -6.484375 C 4.125 -6.484375 4.570312 -6.40625 4.96875 -6.25 C 5.363281 -6.101562 5.695312 -5.882812 5.96875 -5.59375 C 6.238281 -5.3125 6.441406 -4.96875 6.578125 -4.5625 C 6.710938 -4.164062 6.78125 -3.722656 6.78125 -3.234375 Z M 5.90625 -3.234375 C 5.90625 -3.609375 5.851562 -3.953125 5.75 -4.265625 C 5.65625 -4.585938 5.507812 -4.859375 5.3125 -5.078125 C 5.125 -5.304688 4.882812 -5.476562 4.59375 -5.59375 C 4.3125 -5.71875 3.988281 -5.78125 3.625 -5.78125 C 3.238281 -5.78125 2.898438 -5.71875 2.609375 -5.59375 C 2.328125 -5.476562 2.085938 -5.304688 1.890625 -5.078125 C 1.703125 -4.859375 1.5625 -4.585938 1.46875 -4.265625 C 1.375 -3.953125 1.328125 -3.609375 1.328125 -3.234375 C 1.328125 -2.847656 1.375 -2.492188 1.46875 -2.171875 C 1.5625 -1.847656 1.703125 -1.570312 1.890625 -1.34375 C 2.085938 -1.113281 2.328125 -0.929688 2.609375 -0.796875 C 2.898438 -0.671875 3.234375 -0.609375 3.609375 -0.609375 C 4.003906 -0.609375 4.347656 -0.671875 4.640625 -0.796875 C 4.929688 -0.929688 5.171875 -1.113281 5.359375 -1.34375 C 5.546875 -1.582031 5.679688 -1.859375 5.765625 -2.171875 C 5.859375 -2.492188 5.90625 -2.847656 5.90625 -3.234375 Z M 5.90625 -3.234375 \"/>\n</symbol>\n<symbol overflow=\"visible\" id=\"glyph1-0\">\n<path style=\"stroke:none;\" d=\"M 0.375 0 L 0.375 -7.671875 L 3.4375 -7.671875 L 3.4375 0 Z M 0.765625 -0.375 L 3.0625 -0.375 L 3.0625 -7.28125 L 0.765625 -7.28125 Z M 0.765625 -0.375 \"/>\n</symbol>\n<symbol overflow=\"visible\" id=\"glyph1-1\">\n<path style=\"stroke:none;\" d=\"M 4.453125 -7.15625 C 4.003906 -7.15625 3.601562 -7.078125 3.25 -6.921875 C 2.90625 -6.773438 2.613281 -6.5625 2.375 -6.28125 C 2.144531 -6.007812 1.96875 -5.675781 1.84375 -5.28125 C 1.726562 -4.894531 1.671875 -4.46875 1.671875 -4 C 1.671875 -3.519531 1.734375 -3.082031 1.859375 -2.6875 C 1.992188 -2.289062 2.179688 -1.945312 2.421875 -1.65625 C 2.660156 -1.375 2.953125 -1.15625 3.296875 -1 C 3.648438 -0.84375 4.050781 -0.765625 4.5 -0.765625 C 4.800781 -0.765625 5.078125 -0.804688 5.328125 -0.890625 C 5.578125 -0.972656 5.804688 -1.085938 6.015625 -1.234375 C 6.222656 -1.378906 6.40625 -1.550781 6.5625 -1.75 C 6.726562 -1.945312 6.867188 -2.171875 6.984375 -2.421875 L 7.859375 -1.984375 C 7.722656 -1.679688 7.550781 -1.398438 7.34375 -1.140625 C 7.132812 -0.890625 6.882812 -0.671875 6.59375 -0.484375 C 6.3125 -0.296875 5.992188 -0.148438 5.640625 -0.046875 C 5.285156 0.0546875 4.882812 0.109375 4.4375 0.109375 C 3.800781 0.109375 3.238281 0.0078125 2.75 -0.1875 C 2.269531 -0.394531 1.867188 -0.679688 1.546875 -1.046875 C 1.222656 -1.410156 0.976562 -1.84375 0.8125 -2.34375 C 0.65625 -2.84375 0.578125 -3.394531 0.578125 -4 C 0.578125 -4.613281 0.660156 -5.164062 0.828125 -5.65625 C 1.003906 -6.15625 1.253906 -6.582031 1.578125 -6.9375 C 1.910156 -7.289062 2.316406 -7.5625 2.796875 -7.75 C 3.273438 -7.9375 3.820312 -8.03125 4.4375 -8.03125 C 5.28125 -8.03125 5.984375 -7.863281 6.546875 -7.53125 C 7.109375 -7.207031 7.523438 -6.71875 7.796875 -6.0625 L 6.78125 -5.734375 C 6.707031 -5.921875 6.601562 -6.097656 6.46875 -6.265625 C 6.34375 -6.441406 6.179688 -6.59375 5.984375 -6.71875 C 5.796875 -6.851562 5.570312 -6.957031 5.3125 -7.03125 C 5.0625 -7.113281 4.773438 -7.15625 4.453125 -7.15625 Z M 4.453125 -7.15625 \"/>\n</symbol>\n<symbol overflow=\"visible\" id=\"glyph1-2\">\n<path style=\"stroke:none;\" d=\"M 0.765625 -7.375 L 0.765625 -8.328125 L 1.78125 -8.328125 L 1.78125 -7.375 Z M 0.765625 0 L 0.765625 -6.078125 L 1.78125 -6.078125 L 1.78125 0 Z M 0.765625 0 \"/>\n</symbol>\n<symbol overflow=\"visible\" id=\"glyph1-3\">\n<path style=\"stroke:none;\" d=\"M 3.109375 -0.046875 C 2.953125 -0.00390625 2.796875 0.0234375 2.640625 0.046875 C 2.484375 0.078125 2.300781 0.09375 2.09375 0.09375 C 1.28125 0.09375 0.875 -0.363281 0.875 -1.28125 L 0.875 -5.34375 L 0.171875 -5.34375 L 0.171875 -6.078125 L 0.921875 -6.078125 L 1.21875 -7.4375 L 1.890625 -7.4375 L 1.890625 -6.078125 L 3.015625 -6.078125 L 3.015625 -5.34375 L 1.890625 -5.34375 L 1.890625 -1.5 C 1.890625 -1.207031 1.9375 -1.003906 2.03125 -0.890625 C 2.125 -0.773438 2.289062 -0.71875 2.53125 -0.71875 C 2.625 -0.71875 2.71875 -0.722656 2.8125 -0.734375 C 2.90625 -0.753906 3.003906 -0.773438 3.109375 -0.796875 Z M 3.109375 -0.046875 \"/>\n</symbol>\n<symbol overflow=\"visible\" id=\"glyph1-4\">\n<path style=\"stroke:none;\" d=\"M 1.546875 -2.828125 C 1.546875 -2.503906 1.578125 -2.207031 1.640625 -1.9375 C 1.710938 -1.675781 1.816406 -1.445312 1.953125 -1.25 C 2.085938 -1.0625 2.257812 -0.910156 2.46875 -0.796875 C 2.6875 -0.691406 2.945312 -0.640625 3.25 -0.640625 C 3.6875 -0.640625 4.035156 -0.726562 4.296875 -0.90625 C 4.554688 -1.082031 4.734375 -1.304688 4.828125 -1.578125 L 5.71875 -1.328125 C 5.65625 -1.160156 5.566406 -0.988281 5.453125 -0.8125 C 5.335938 -0.644531 5.1875 -0.492188 5 -0.359375 C 4.8125 -0.222656 4.570312 -0.109375 4.28125 -0.015625 C 4 0.0664062 3.65625 0.109375 3.25 0.109375 C 2.34375 0.109375 1.65625 -0.15625 1.1875 -0.6875 C 0.71875 -1.226562 0.484375 -2.023438 0.484375 -3.078125 C 0.484375 -3.648438 0.554688 -4.128906 0.703125 -4.515625 C 0.847656 -4.910156 1.039062 -5.234375 1.28125 -5.484375 C 1.53125 -5.734375 1.816406 -5.910156 2.140625 -6.015625 C 2.472656 -6.128906 2.828125 -6.1875 3.203125 -6.1875 C 3.710938 -6.1875 4.140625 -6.101562 4.484375 -5.9375 C 4.828125 -5.769531 5.101562 -5.539062 5.3125 -5.25 C 5.519531 -4.96875 5.664062 -4.628906 5.75 -4.234375 C 5.84375 -3.835938 5.890625 -3.410156 5.890625 -2.953125 L 5.890625 -2.828125 Z M 4.84375 -3.59375 C 4.78125 -4.238281 4.613281 -4.707031 4.34375 -5 C 4.082031 -5.289062 3.695312 -5.4375 3.1875 -5.4375 C 3.019531 -5.4375 2.84375 -5.410156 2.65625 -5.359375 C 2.46875 -5.304688 2.296875 -5.207031 2.140625 -5.0625 C 1.984375 -4.925781 1.847656 -4.738281 1.734375 -4.5 C 1.628906 -4.269531 1.570312 -3.96875 1.5625 -3.59375 Z M 4.84375 -3.59375 \"/>\n</symbol>\n<symbol overflow=\"visible\" id=\"glyph1-5\">\n<path style=\"stroke:none;\" d=\"M 4.609375 -0.984375 C 4.421875 -0.585938 4.171875 -0.304688 3.859375 -0.140625 C 3.554688 0.0234375 3.175781 0.109375 2.71875 0.109375 C 1.945312 0.109375 1.378906 -0.144531 1.015625 -0.65625 C 0.660156 -1.175781 0.484375 -1.960938 0.484375 -3.015625 C 0.484375 -5.128906 1.226562 -6.1875 2.71875 -6.1875 C 3.175781 -6.1875 3.554688 -6.101562 3.859375 -5.9375 C 4.171875 -5.769531 4.421875 -5.5 4.609375 -5.125 L 4.625 -5.125 C 4.625 -5.164062 4.617188 -5.226562 4.609375 -5.3125 C 4.609375 -5.394531 4.609375 -5.476562 4.609375 -5.5625 C 4.609375 -5.644531 4.609375 -5.726562 4.609375 -5.8125 C 4.609375 -5.894531 4.609375 -5.953125 4.609375 -5.984375 L 4.609375 -8.328125 L 5.625 -8.328125 L 5.625 -1.25 C 5.625 -1.101562 5.625 -0.960938 5.625 -0.828125 C 5.625 -0.691406 5.625 -0.566406 5.625 -0.453125 C 5.632812 -0.347656 5.640625 -0.253906 5.640625 -0.171875 C 5.648438 -0.0859375 5.65625 -0.03125 5.65625 0 L 4.6875 0 C 4.675781 -0.0390625 4.664062 -0.09375 4.65625 -0.15625 C 4.65625 -0.226562 4.648438 -0.304688 4.640625 -0.390625 C 4.640625 -0.484375 4.632812 -0.578125 4.625 -0.671875 C 4.625 -0.773438 4.625 -0.878906 4.625 -0.984375 Z M 1.546875 -3.046875 C 1.546875 -2.628906 1.570312 -2.269531 1.625 -1.96875 C 1.675781 -1.664062 1.757812 -1.414062 1.875 -1.21875 C 1.988281 -1.03125 2.132812 -0.890625 2.3125 -0.796875 C 2.5 -0.710938 2.71875 -0.671875 2.96875 -0.671875 C 3.238281 -0.671875 3.472656 -0.710938 3.671875 -0.796875 C 3.878906 -0.878906 4.050781 -1.015625 4.1875 -1.203125 C 4.320312 -1.398438 4.425781 -1.65625 4.5 -1.96875 C 4.570312 -2.28125 4.609375 -2.660156 4.609375 -3.109375 C 4.609375 -3.535156 4.570312 -3.898438 4.5 -4.203125 C 4.425781 -4.503906 4.320312 -4.742188 4.1875 -4.921875 C 4.050781 -5.109375 3.878906 -5.238281 3.671875 -5.3125 C 3.472656 -5.394531 3.242188 -5.4375 2.984375 -5.4375 C 2.734375 -5.4375 2.519531 -5.394531 2.34375 -5.3125 C 2.164062 -5.226562 2.015625 -5.085938 1.890625 -4.890625 C 1.773438 -4.703125 1.6875 -4.453125 1.625 -4.140625 C 1.570312 -3.835938 1.546875 -3.472656 1.546875 -3.046875 Z M 1.546875 -3.046875 \"/>\n</symbol>\n<symbol overflow=\"visible\" id=\"glyph1-6\">\n<path style=\"stroke:none;\" d=\"\"/>\n</symbol>\n<symbol overflow=\"visible\" id=\"glyph1-7\">\n<path style=\"stroke:none;\" d=\"M 6.546875 0 L 5.65625 -2.3125 L 2.046875 -2.3125 L 1.140625 0 L 0.015625 0 L 3.25 -7.90625 L 4.46875 -7.90625 L 7.640625 0 Z M 4.3125 -5.765625 C 4.25 -5.910156 4.191406 -6.0625 4.140625 -6.21875 C 4.085938 -6.375 4.039062 -6.515625 4 -6.640625 C 3.957031 -6.765625 3.921875 -6.867188 3.890625 -6.953125 C 3.867188 -7.035156 3.851562 -7.085938 3.84375 -7.109375 C 3.832031 -7.085938 3.8125 -7.03125 3.78125 -6.9375 C 3.757812 -6.851562 3.726562 -6.75 3.6875 -6.625 C 3.644531 -6.5 3.597656 -6.359375 3.546875 -6.203125 C 3.492188 -6.046875 3.4375 -5.894531 3.375 -5.75 L 2.375 -3.15625 L 5.328125 -3.15625 Z M 4.3125 -5.765625 \"/>\n</symbol>\n<symbol overflow=\"visible\" id=\"glyph1-8\">\n<path style=\"stroke:none;\" d=\"M 1.765625 -6.078125 L 1.765625 -2.21875 C 1.765625 -1.925781 1.785156 -1.679688 1.828125 -1.484375 C 1.867188 -1.285156 1.9375 -1.125 2.03125 -1 C 2.132812 -0.875 2.265625 -0.785156 2.421875 -0.734375 C 2.578125 -0.691406 2.773438 -0.671875 3.015625 -0.671875 C 3.253906 -0.671875 3.46875 -0.710938 3.65625 -0.796875 C 3.851562 -0.878906 4.019531 -1 4.15625 -1.15625 C 4.289062 -1.3125 4.394531 -1.503906 4.46875 -1.734375 C 4.550781 -1.972656 4.59375 -2.25 4.59375 -2.5625 L 4.59375 -6.078125 L 5.59375 -6.078125 L 5.59375 -1.296875 C 5.59375 -1.171875 5.59375 -1.035156 5.59375 -0.890625 C 5.601562 -0.753906 5.609375 -0.625 5.609375 -0.5 C 5.609375 -0.375 5.609375 -0.265625 5.609375 -0.171875 C 5.617188 -0.0859375 5.625 -0.03125 5.625 0 L 4.671875 0 C 4.671875 -0.0195312 4.664062 -0.0703125 4.65625 -0.15625 C 4.65625 -0.238281 4.648438 -0.332031 4.640625 -0.4375 C 4.640625 -0.539062 4.632812 -0.644531 4.625 -0.75 C 4.625 -0.863281 4.625 -0.957031 4.625 -1.03125 L 4.609375 -1.03125 C 4.515625 -0.863281 4.410156 -0.707031 4.296875 -0.5625 C 4.179688 -0.414062 4.046875 -0.289062 3.890625 -0.1875 C 3.734375 -0.09375 3.554688 -0.0195312 3.359375 0.03125 C 3.160156 0.0820312 2.929688 0.109375 2.671875 0.109375 C 2.335938 0.109375 2.046875 0.0664062 1.796875 -0.015625 C 1.554688 -0.0976562 1.359375 -0.222656 1.203125 -0.390625 C 1.046875 -0.566406 0.929688 -0.785156 0.859375 -1.046875 C 0.785156 -1.316406 0.75 -1.644531 0.75 -2.03125 L 0.75 -6.078125 Z M 1.765625 -6.078125 \"/>\n</symbol>\n<symbol overflow=\"visible\" id=\"glyph1-9\">\n<path style=\"stroke:none;\" d=\"M 1.78125 -5.03125 C 1.894531 -5.238281 2.015625 -5.414062 2.140625 -5.5625 C 2.273438 -5.707031 2.421875 -5.828125 2.578125 -5.921875 C 2.734375 -6.015625 2.90625 -6.082031 3.09375 -6.125 C 3.28125 -6.164062 3.488281 -6.1875 3.71875 -6.1875 C 4.113281 -6.1875 4.429688 -6.132812 4.671875 -6.03125 C 4.921875 -5.925781 5.117188 -5.78125 5.265625 -5.59375 C 5.410156 -5.40625 5.507812 -5.175781 5.5625 -4.90625 C 5.625 -4.644531 5.65625 -4.359375 5.65625 -4.046875 L 5.65625 0 L 4.625 0 L 4.625 -3.859375 C 4.625 -4.109375 4.609375 -4.332031 4.578125 -4.53125 C 4.546875 -4.726562 4.484375 -4.890625 4.390625 -5.015625 C 4.304688 -5.148438 4.179688 -5.25 4.015625 -5.3125 C 3.859375 -5.375 3.644531 -5.40625 3.375 -5.40625 C 3.132812 -5.40625 2.914062 -5.363281 2.71875 -5.28125 C 2.53125 -5.195312 2.367188 -5.070312 2.234375 -4.90625 C 2.097656 -4.75 1.992188 -4.554688 1.921875 -4.328125 C 1.847656 -4.109375 1.8125 -3.859375 1.8125 -3.578125 L 1.8125 0 L 0.796875 0 L 0.796875 -8.328125 L 1.8125 -8.328125 L 1.8125 -6.171875 C 1.8125 -6.046875 1.804688 -5.921875 1.796875 -5.796875 C 1.796875 -5.671875 1.789062 -5.554688 1.78125 -5.453125 C 1.78125 -5.347656 1.773438 -5.257812 1.765625 -5.1875 C 1.765625 -5.113281 1.765625 -5.0625 1.765625 -5.03125 Z M 1.78125 -5.03125 \"/>\n</symbol>\n<symbol overflow=\"visible\" id=\"glyph1-10\">\n<path style=\"stroke:none;\" d=\"M 5.90625 -3.046875 C 5.90625 -1.984375 5.671875 -1.191406 5.203125 -0.671875 C 4.742188 -0.148438 4.066406 0.109375 3.171875 0.109375 C 2.742188 0.109375 2.363281 0.046875 2.03125 -0.078125 C 1.695312 -0.203125 1.414062 -0.394531 1.1875 -0.65625 C 0.957031 -0.925781 0.78125 -1.253906 0.65625 -1.640625 C 0.539062 -2.035156 0.484375 -2.503906 0.484375 -3.046875 C 0.484375 -5.140625 1.390625 -6.1875 3.203125 -6.1875 C 3.671875 -6.1875 4.078125 -6.117188 4.421875 -5.984375 C 4.765625 -5.859375 5.046875 -5.664062 5.265625 -5.40625 C 5.484375 -5.144531 5.644531 -4.816406 5.75 -4.421875 C 5.851562 -4.023438 5.90625 -3.566406 5.90625 -3.046875 Z M 4.859375 -3.046875 C 4.859375 -3.515625 4.816406 -3.898438 4.734375 -4.203125 C 4.660156 -4.515625 4.554688 -4.757812 4.421875 -4.9375 C 4.285156 -5.125 4.113281 -5.253906 3.90625 -5.328125 C 3.707031 -5.398438 3.476562 -5.4375 3.21875 -5.4375 C 2.957031 -5.4375 2.722656 -5.398438 2.515625 -5.328125 C 2.316406 -5.253906 2.144531 -5.125 2 -4.9375 C 1.851562 -4.75 1.738281 -4.5 1.65625 -4.1875 C 1.582031 -3.882812 1.546875 -3.503906 1.546875 -3.046875 C 1.546875 -2.578125 1.585938 -2.1875 1.671875 -1.875 C 1.753906 -1.5625 1.863281 -1.3125 2 -1.125 C 2.144531 -0.945312 2.316406 -0.820312 2.515625 -0.75 C 2.710938 -0.675781 2.925781 -0.640625 3.15625 -0.640625 C 3.414062 -0.640625 3.648438 -0.675781 3.859375 -0.75 C 4.066406 -0.820312 4.242188 -0.945312 4.390625 -1.125 C 4.535156 -1.3125 4.648438 -1.5625 4.734375 -1.875 C 4.816406 -2.1875 4.859375 -2.578125 4.859375 -3.046875 Z M 4.859375 -3.046875 \"/>\n</symbol>\n<symbol overflow=\"visible\" id=\"glyph1-11\">\n<path style=\"stroke:none;\" d=\"M 0.796875 0 L 0.796875 -4.65625 C 0.796875 -4.789062 0.796875 -4.921875 0.796875 -5.046875 C 0.796875 -5.179688 0.789062 -5.3125 0.78125 -5.4375 C 0.78125 -5.5625 0.773438 -5.675781 0.765625 -5.78125 C 0.765625 -5.894531 0.765625 -5.992188 0.765625 -6.078125 L 1.71875 -6.078125 C 1.71875 -5.992188 1.71875 -5.894531 1.71875 -5.78125 C 1.726562 -5.664062 1.734375 -5.550781 1.734375 -5.4375 C 1.742188 -5.320312 1.75 -5.210938 1.75 -5.109375 C 1.757812 -5.003906 1.765625 -4.910156 1.765625 -4.828125 L 1.78125 -4.828125 C 1.851562 -5.066406 1.929688 -5.269531 2.015625 -5.4375 C 2.097656 -5.601562 2.191406 -5.742188 2.296875 -5.859375 C 2.398438 -5.972656 2.523438 -6.054688 2.671875 -6.109375 C 2.828125 -6.160156 3.015625 -6.1875 3.234375 -6.1875 C 3.316406 -6.1875 3.394531 -6.179688 3.46875 -6.171875 C 3.539062 -6.160156 3.597656 -6.144531 3.640625 -6.125 L 3.640625 -5.203125 C 3.566406 -5.222656 3.484375 -5.238281 3.390625 -5.25 C 3.304688 -5.257812 3.207031 -5.265625 3.09375 -5.265625 C 2.863281 -5.265625 2.664062 -5.210938 2.5 -5.109375 C 2.34375 -5.003906 2.210938 -4.859375 2.109375 -4.671875 C 2.003906 -4.484375 1.925781 -4.257812 1.875 -4 C 1.832031 -3.75 1.8125 -3.472656 1.8125 -3.171875 L 1.8125 0 Z M 0.796875 0 \"/>\n</symbol>\n<symbol overflow=\"visible\" id=\"glyph1-12\">\n<path style=\"stroke:none;\" d=\"M 5.328125 -1.671875 C 5.328125 -1.390625 5.269531 -1.132812 5.15625 -0.90625 C 5.050781 -0.6875 4.894531 -0.5 4.6875 -0.34375 C 4.476562 -0.195312 4.21875 -0.0820312 3.90625 0 C 3.601562 0.0703125 3.257812 0.109375 2.875 0.109375 C 2.519531 0.109375 2.203125 0.0820312 1.921875 0.03125 C 1.640625 -0.0195312 1.390625 -0.101562 1.171875 -0.21875 C 0.960938 -0.34375 0.785156 -0.503906 0.640625 -0.703125 C 0.492188 -0.898438 0.382812 -1.140625 0.3125 -1.421875 L 1.21875 -1.59375 C 1.300781 -1.269531 1.476562 -1.03125 1.75 -0.875 C 2.019531 -0.726562 2.394531 -0.65625 2.875 -0.65625 C 3.082031 -0.65625 3.273438 -0.671875 3.453125 -0.703125 C 3.640625 -0.734375 3.800781 -0.785156 3.9375 -0.859375 C 4.070312 -0.929688 4.175781 -1.023438 4.25 -1.140625 C 4.320312 -1.265625 4.359375 -1.414062 4.359375 -1.59375 C 4.359375 -1.78125 4.3125 -1.929688 4.21875 -2.046875 C 4.132812 -2.171875 4.015625 -2.269531 3.859375 -2.34375 C 3.710938 -2.425781 3.523438 -2.492188 3.296875 -2.546875 C 3.078125 -2.609375 2.835938 -2.675781 2.578125 -2.75 C 2.335938 -2.8125 2.097656 -2.878906 1.859375 -2.953125 C 1.617188 -3.035156 1.398438 -3.140625 1.203125 -3.265625 C 1.015625 -3.398438 0.859375 -3.5625 0.734375 -3.75 C 0.617188 -3.9375 0.5625 -4.175781 0.5625 -4.46875 C 0.5625 -5.019531 0.757812 -5.441406 1.15625 -5.734375 C 1.550781 -6.023438 2.125 -6.171875 2.875 -6.171875 C 3.550781 -6.171875 4.085938 -6.050781 4.484375 -5.8125 C 4.878906 -5.582031 5.128906 -5.207031 5.234375 -4.6875 L 4.3125 -4.578125 C 4.28125 -4.734375 4.21875 -4.863281 4.125 -4.96875 C 4.039062 -5.070312 3.929688 -5.15625 3.796875 -5.21875 C 3.671875 -5.289062 3.53125 -5.335938 3.375 -5.359375 C 3.21875 -5.390625 3.050781 -5.40625 2.875 -5.40625 C 2.425781 -5.40625 2.09375 -5.332031 1.875 -5.1875 C 1.65625 -5.050781 1.546875 -4.847656 1.546875 -4.578125 C 1.546875 -4.410156 1.582031 -4.269531 1.65625 -4.15625 C 1.738281 -4.050781 1.851562 -3.960938 2 -3.890625 C 2.144531 -3.816406 2.316406 -3.753906 2.515625 -3.703125 C 2.722656 -3.648438 2.945312 -3.59375 3.1875 -3.53125 C 3.351562 -3.488281 3.519531 -3.441406 3.6875 -3.390625 C 3.851562 -3.347656 4.015625 -3.296875 4.171875 -3.234375 C 4.328125 -3.171875 4.472656 -3.09375 4.609375 -3 C 4.753906 -2.914062 4.878906 -2.8125 4.984375 -2.6875 C 5.097656 -2.5625 5.179688 -2.414062 5.234375 -2.25 C 5.296875 -2.082031 5.328125 -1.890625 5.328125 -1.671875 Z M 5.328125 -1.671875 \"/>\n</symbol>\n<symbol overflow=\"visible\" id=\"glyph2-0\">\n<path style=\"stroke:none;\" d=\"M 0 -0.375 L -7.671875 -0.375 L -7.671875 -3.4375 L 0 -3.4375 Z M -0.375 -0.765625 L -0.375 -3.0625 L -7.28125 -3.0625 L -7.28125 -0.765625 Z M -0.375 -0.765625 \"/>\n</symbol>\n<symbol overflow=\"visible\" id=\"glyph2-1\">\n<path style=\"stroke:none;\" d=\"M 0 -6.078125 L -6.734375 -1.84375 C -6.554688 -1.851562 -6.375 -1.863281 -6.1875 -1.875 C -6.039062 -1.875 -5.878906 -1.875 -5.703125 -1.875 C -5.535156 -1.882812 -5.382812 -1.890625 -5.25 -1.890625 L 0 -1.890625 L 0 -0.9375 L -7.90625 -0.9375 L -7.90625 -2.1875 L -1.125 -6.46875 C -1.3125 -6.457031 -1.492188 -6.445312 -1.671875 -6.4375 C -1.835938 -6.425781 -2.007812 -6.414062 -2.1875 -6.40625 C -2.375 -6.40625 -2.550781 -6.40625 -2.71875 -6.40625 L -7.90625 -6.40625 L -7.90625 -7.375 L 0 -7.375 Z M 0 -6.078125 \"/>\n</symbol>\n<symbol overflow=\"visible\" id=\"glyph2-2\">\n<path style=\"stroke:none;\" d=\"\"/>\n</symbol>\n<symbol overflow=\"visible\" id=\"glyph2-3\">\n<path style=\"stroke:none;\" d=\"M -3.046875 -5.90625 C -1.984375 -5.90625 -1.191406 -5.671875 -0.671875 -5.203125 C -0.148438 -4.742188 0.109375 -4.066406 0.109375 -3.171875 C 0.109375 -2.742188 0.046875 -2.363281 -0.078125 -2.03125 C -0.203125 -1.695312 -0.394531 -1.414062 -0.65625 -1.1875 C -0.925781 -0.957031 -1.253906 -0.78125 -1.640625 -0.65625 C -2.035156 -0.539062 -2.503906 -0.484375 -3.046875 -0.484375 C -5.140625 -0.484375 -6.1875 -1.390625 -6.1875 -3.203125 C -6.1875 -3.671875 -6.117188 -4.078125 -5.984375 -4.421875 C -5.859375 -4.765625 -5.664062 -5.046875 -5.40625 -5.265625 C -5.144531 -5.484375 -4.816406 -5.644531 -4.421875 -5.75 C -4.023438 -5.851562 -3.566406 -5.90625 -3.046875 -5.90625 Z M -3.046875 -4.859375 C -3.515625 -4.859375 -3.898438 -4.816406 -4.203125 -4.734375 C -4.515625 -4.660156 -4.757812 -4.554688 -4.9375 -4.421875 C -5.125 -4.285156 -5.253906 -4.113281 -5.328125 -3.90625 C -5.398438 -3.707031 -5.4375 -3.476562 -5.4375 -3.21875 C -5.4375 -2.957031 -5.398438 -2.722656 -5.328125 -2.515625 C -5.253906 -2.316406 -5.125 -2.144531 -4.9375 -2 C -4.75 -1.851562 -4.5 -1.738281 -4.1875 -1.65625 C -3.882812 -1.582031 -3.503906 -1.546875 -3.046875 -1.546875 C -2.578125 -1.546875 -2.1875 -1.585938 -1.875 -1.671875 C -1.5625 -1.753906 -1.3125 -1.863281 -1.125 -2 C -0.945312 -2.144531 -0.820312 -2.316406 -0.75 -2.515625 C -0.675781 -2.710938 -0.640625 -2.925781 -0.640625 -3.15625 C -0.640625 -3.414062 -0.675781 -3.648438 -0.75 -3.859375 C -0.820312 -4.066406 -0.945312 -4.242188 -1.125 -4.390625 C -1.3125 -4.535156 -1.5625 -4.648438 -1.875 -4.734375 C -2.1875 -4.816406 -2.578125 -4.859375 -3.046875 -4.859375 Z M -3.046875 -4.859375 \"/>\n</symbol>\n<symbol overflow=\"visible\" id=\"glyph2-4\">\n<path style=\"stroke:none;\" d=\"M -5.34375 -2.03125 L 0 -2.03125 L 0 -1.015625 L -5.34375 -1.015625 L -5.34375 -0.15625 L -6.078125 -0.15625 L -6.078125 -1.015625 L -6.765625 -1.015625 C -6.984375 -1.015625 -7.1875 -1.035156 -7.375 -1.078125 C -7.5625 -1.117188 -7.722656 -1.191406 -7.859375 -1.296875 C -8.003906 -1.410156 -8.117188 -1.5625 -8.203125 -1.75 C -8.285156 -1.945312 -8.328125 -2.195312 -8.328125 -2.5 C -8.328125 -2.613281 -8.316406 -2.734375 -8.296875 -2.859375 C -8.285156 -2.992188 -8.269531 -3.113281 -8.25 -3.21875 L -7.484375 -3.21875 C -7.492188 -3.144531 -7.503906 -3.066406 -7.515625 -2.984375 C -7.523438 -2.898438 -7.53125 -2.828125 -7.53125 -2.765625 C -7.53125 -2.609375 -7.507812 -2.484375 -7.46875 -2.390625 C -7.425781 -2.296875 -7.363281 -2.222656 -7.28125 -2.171875 C -7.207031 -2.117188 -7.113281 -2.082031 -7 -2.0625 C -6.894531 -2.039062 -6.769531 -2.03125 -6.625 -2.03125 L -6.078125 -2.03125 L -6.078125 -3.21875 L -5.34375 -3.21875 Z M -5.34375 -2.03125 \"/>\n</symbol>\n<symbol overflow=\"visible\" id=\"glyph2-5\">\n<path style=\"stroke:none;\" d=\"M -7.15625 -4.453125 C -7.15625 -4.003906 -7.078125 -3.601562 -6.921875 -3.25 C -6.773438 -2.90625 -6.5625 -2.613281 -6.28125 -2.375 C -6.007812 -2.144531 -5.675781 -1.96875 -5.28125 -1.84375 C -4.894531 -1.726562 -4.46875 -1.671875 -4 -1.671875 C -3.519531 -1.671875 -3.082031 -1.734375 -2.6875 -1.859375 C -2.289062 -1.992188 -1.945312 -2.179688 -1.65625 -2.421875 C -1.375 -2.660156 -1.15625 -2.953125 -1 -3.296875 C -0.84375 -3.648438 -0.765625 -4.050781 -0.765625 -4.5 C -0.765625 -4.800781 -0.804688 -5.078125 -0.890625 -5.328125 C -0.972656 -5.578125 -1.085938 -5.804688 -1.234375 -6.015625 C -1.378906 -6.222656 -1.550781 -6.40625 -1.75 -6.5625 C -1.945312 -6.726562 -2.171875 -6.867188 -2.421875 -6.984375 L -1.984375 -7.859375 C -1.679688 -7.722656 -1.398438 -7.550781 -1.140625 -7.34375 C -0.890625 -7.132812 -0.671875 -6.882812 -0.484375 -6.59375 C -0.296875 -6.3125 -0.148438 -5.992188 -0.046875 -5.640625 C 0.0546875 -5.285156 0.109375 -4.882812 0.109375 -4.4375 C 0.109375 -3.800781 0.0078125 -3.238281 -0.1875 -2.75 C -0.394531 -2.269531 -0.679688 -1.867188 -1.046875 -1.546875 C -1.410156 -1.222656 -1.84375 -0.976562 -2.34375 -0.8125 C -2.84375 -0.65625 -3.394531 -0.578125 -4 -0.578125 C -4.613281 -0.578125 -5.164062 -0.660156 -5.65625 -0.828125 C -6.15625 -1.003906 -6.582031 -1.253906 -6.9375 -1.578125 C -7.289062 -1.910156 -7.5625 -2.316406 -7.75 -2.796875 C -7.9375 -3.273438 -8.03125 -3.820312 -8.03125 -4.4375 C -8.03125 -5.28125 -7.863281 -5.984375 -7.53125 -6.546875 C -7.207031 -7.109375 -6.71875 -7.523438 -6.0625 -7.796875 L -5.734375 -6.78125 C -5.921875 -6.707031 -6.097656 -6.601562 -6.265625 -6.46875 C -6.441406 -6.34375 -6.59375 -6.179688 -6.71875 -5.984375 C -6.851562 -5.796875 -6.957031 -5.570312 -7.03125 -5.3125 C -7.113281 -5.0625 -7.15625 -4.773438 -7.15625 -4.453125 Z M -7.15625 -4.453125 \"/>\n</symbol>\n<symbol overflow=\"visible\" id=\"glyph2-6\">\n<path style=\"stroke:none;\" d=\"M -7.375 -0.765625 L -8.328125 -0.765625 L -8.328125 -1.78125 L -7.375 -1.78125 Z M 0 -0.765625 L -6.078125 -0.765625 L -6.078125 -1.78125 L 0 -1.78125 Z M 0 -0.765625 \"/>\n</symbol>\n<symbol overflow=\"visible\" id=\"glyph2-7\">\n<path style=\"stroke:none;\" d=\"M -0.046875 -3.109375 C -0.00390625 -2.953125 0.0234375 -2.796875 0.046875 -2.640625 C 0.078125 -2.484375 0.09375 -2.300781 0.09375 -2.09375 C 0.09375 -1.28125 -0.363281 -0.875 -1.28125 -0.875 L -5.34375 -0.875 L -5.34375 -0.171875 L -6.078125 -0.171875 L -6.078125 -0.921875 L -7.4375 -1.21875 L -7.4375 -1.890625 L -6.078125 -1.890625 L -6.078125 -3.015625 L -5.34375 -3.015625 L -5.34375 -1.890625 L -1.5 -1.890625 C -1.207031 -1.890625 -1.003906 -1.9375 -0.890625 -2.03125 C -0.773438 -2.125 -0.71875 -2.289062 -0.71875 -2.53125 C -0.71875 -2.625 -0.722656 -2.71875 -0.734375 -2.8125 C -0.753906 -2.90625 -0.773438 -3.003906 -0.796875 -3.109375 Z M -0.046875 -3.109375 \"/>\n</symbol>\n<symbol overflow=\"visible\" id=\"glyph2-8\">\n<path style=\"stroke:none;\" d=\"M -2.828125 -1.546875 C -2.503906 -1.546875 -2.207031 -1.578125 -1.9375 -1.640625 C -1.675781 -1.710938 -1.445312 -1.816406 -1.25 -1.953125 C -1.0625 -2.085938 -0.910156 -2.257812 -0.796875 -2.46875 C -0.691406 -2.6875 -0.640625 -2.945312 -0.640625 -3.25 C -0.640625 -3.6875 -0.726562 -4.035156 -0.90625 -4.296875 C -1.082031 -4.554688 -1.304688 -4.734375 -1.578125 -4.828125 L -1.328125 -5.71875 C -1.160156 -5.65625 -0.988281 -5.566406 -0.8125 -5.453125 C -0.644531 -5.335938 -0.492188 -5.1875 -0.359375 -5 C -0.222656 -4.8125 -0.109375 -4.570312 -0.015625 -4.28125 C 0.0664062 -4 0.109375 -3.65625 0.109375 -3.25 C 0.109375 -2.34375 -0.15625 -1.65625 -0.6875 -1.1875 C -1.226562 -0.71875 -2.023438 -0.484375 -3.078125 -0.484375 C -3.648438 -0.484375 -4.128906 -0.554688 -4.515625 -0.703125 C -4.910156 -0.847656 -5.234375 -1.039062 -5.484375 -1.28125 C -5.734375 -1.53125 -5.910156 -1.816406 -6.015625 -2.140625 C -6.128906 -2.472656 -6.1875 -2.828125 -6.1875 -3.203125 C -6.1875 -3.710938 -6.101562 -4.140625 -5.9375 -4.484375 C -5.769531 -4.828125 -5.539062 -5.101562 -5.25 -5.3125 C -4.96875 -5.519531 -4.628906 -5.664062 -4.234375 -5.75 C -3.835938 -5.84375 -3.410156 -5.890625 -2.953125 -5.890625 L -2.828125 -5.890625 Z M -3.59375 -4.84375 C -4.238281 -4.78125 -4.707031 -4.613281 -5 -4.34375 C -5.289062 -4.082031 -5.4375 -3.695312 -5.4375 -3.1875 C -5.4375 -3.019531 -5.410156 -2.84375 -5.359375 -2.65625 C -5.304688 -2.46875 -5.207031 -2.296875 -5.0625 -2.140625 C -4.925781 -1.984375 -4.738281 -1.847656 -4.5 -1.734375 C -4.269531 -1.628906 -3.96875 -1.570312 -3.59375 -1.5625 Z M -3.59375 -4.84375 \"/>\n</symbol>\n<symbol overflow=\"visible\" id=\"glyph2-9\">\n<path style=\"stroke:none;\" d=\"M -0.984375 -4.609375 C -0.585938 -4.421875 -0.304688 -4.171875 -0.140625 -3.859375 C 0.0234375 -3.554688 0.109375 -3.175781 0.109375 -2.71875 C 0.109375 -1.945312 -0.144531 -1.378906 -0.65625 -1.015625 C -1.175781 -0.660156 -1.960938 -0.484375 -3.015625 -0.484375 C -5.128906 -0.484375 -6.1875 -1.226562 -6.1875 -2.71875 C -6.1875 -3.175781 -6.101562 -3.554688 -5.9375 -3.859375 C -5.769531 -4.171875 -5.5 -4.421875 -5.125 -4.609375 L -5.125 -4.625 C -5.164062 -4.625 -5.226562 -4.617188 -5.3125 -4.609375 C -5.394531 -4.609375 -5.476562 -4.609375 -5.5625 -4.609375 C -5.644531 -4.609375 -5.726562 -4.609375 -5.8125 -4.609375 C -5.894531 -4.609375 -5.953125 -4.609375 -5.984375 -4.609375 L -8.328125 -4.609375 L -8.328125 -5.625 L -1.25 -5.625 C -1.101562 -5.625 -0.960938 -5.625 -0.828125 -5.625 C -0.691406 -5.625 -0.566406 -5.625 -0.453125 -5.625 C -0.347656 -5.632812 -0.253906 -5.640625 -0.171875 -5.640625 C -0.0859375 -5.648438 -0.03125 -5.65625 0 -5.65625 L 0 -4.6875 C -0.0390625 -4.675781 -0.09375 -4.664062 -0.15625 -4.65625 C -0.226562 -4.65625 -0.304688 -4.648438 -0.390625 -4.640625 C -0.484375 -4.640625 -0.578125 -4.632812 -0.671875 -4.625 C -0.773438 -4.625 -0.878906 -4.625 -0.984375 -4.625 Z M -3.046875 -1.546875 C -2.628906 -1.546875 -2.269531 -1.570312 -1.96875 -1.625 C -1.664062 -1.675781 -1.414062 -1.757812 -1.21875 -1.875 C -1.03125 -1.988281 -0.890625 -2.132812 -0.796875 -2.3125 C -0.710938 -2.5 -0.671875 -2.71875 -0.671875 -2.96875 C -0.671875 -3.238281 -0.710938 -3.472656 -0.796875 -3.671875 C -0.878906 -3.878906 -1.015625 -4.050781 -1.203125 -4.1875 C -1.398438 -4.320312 -1.65625 -4.425781 -1.96875 -4.5 C -2.28125 -4.570312 -2.660156 -4.609375 -3.109375 -4.609375 C -3.535156 -4.609375 -3.898438 -4.570312 -4.203125 -4.5 C -4.503906 -4.425781 -4.742188 -4.320312 -4.921875 -4.1875 C -5.109375 -4.050781 -5.238281 -3.878906 -5.3125 -3.671875 C -5.394531 -3.472656 -5.4375 -3.242188 -5.4375 -2.984375 C -5.4375 -2.734375 -5.394531 -2.519531 -5.3125 -2.34375 C -5.226562 -2.164062 -5.085938 -2.015625 -4.890625 -1.890625 C -4.703125 -1.773438 -4.453125 -1.6875 -4.140625 -1.625 C -3.835938 -1.570312 -3.472656 -1.546875 -3.046875 -1.546875 Z M -3.046875 -1.546875 \"/>\n</symbol>\n<symbol overflow=\"visible\" id=\"glyph2-10\">\n<path style=\"stroke:none;\" d=\"M -5.53125 -7.0625 C -5.1875 -7.0625 -4.863281 -7.003906 -4.5625 -6.890625 C -4.269531 -6.773438 -4.015625 -6.601562 -3.796875 -6.375 C -3.578125 -6.15625 -3.398438 -5.875 -3.265625 -5.53125 C -3.140625 -5.1875 -3.078125 -4.789062 -3.078125 -4.34375 L -3.078125 -2.015625 L 0 -2.015625 L 0 -0.9375 L -7.90625 -0.9375 L -7.90625 -4.265625 C -7.90625 -4.734375 -7.847656 -5.140625 -7.734375 -5.484375 C -7.617188 -5.835938 -7.457031 -6.128906 -7.25 -6.359375 C -7.050781 -6.597656 -6.800781 -6.773438 -6.5 -6.890625 C -6.207031 -7.003906 -5.882812 -7.0625 -5.53125 -7.0625 Z M -5.515625 -5.984375 C -6.015625 -5.984375 -6.394531 -5.828125 -6.65625 -5.515625 C -6.914062 -5.210938 -7.046875 -4.753906 -7.046875 -4.140625 L -7.046875 -2.015625 L -3.9375 -2.015625 L -3.9375 -4.1875 C -3.9375 -4.800781 -4.070312 -5.253906 -4.34375 -5.546875 C -4.613281 -5.835938 -5.003906 -5.984375 -5.515625 -5.984375 Z M -5.515625 -5.984375 \"/>\n</symbol>\n<symbol overflow=\"visible\" id=\"glyph2-11\">\n<path style=\"stroke:none;\" d=\"M 0.109375 -2.328125 C 0.109375 -1.710938 -0.0507812 -1.25 -0.375 -0.9375 C -0.695312 -0.632812 -1.140625 -0.484375 -1.703125 -0.484375 C -2.097656 -0.484375 -2.421875 -0.554688 -2.671875 -0.703125 C -2.929688 -0.859375 -3.132812 -1.054688 -3.28125 -1.296875 C -3.425781 -1.546875 -3.523438 -1.828125 -3.578125 -2.140625 C -3.640625 -2.460938 -3.675781 -2.785156 -3.6875 -3.109375 L -3.703125 -4.46875 L -4.03125 -4.46875 C -4.28125 -4.46875 -4.492188 -4.441406 -4.671875 -4.390625 C -4.847656 -4.335938 -4.988281 -4.257812 -5.09375 -4.15625 C -5.207031 -4.050781 -5.289062 -3.914062 -5.34375 -3.75 C -5.394531 -3.582031 -5.421875 -3.390625 -5.421875 -3.171875 C -5.421875 -2.972656 -5.40625 -2.796875 -5.375 -2.640625 C -5.34375 -2.484375 -5.289062 -2.347656 -5.21875 -2.234375 C -5.144531 -2.117188 -5.046875 -2.023438 -4.921875 -1.953125 C -4.796875 -1.878906 -4.640625 -1.832031 -4.453125 -1.8125 L -4.546875 -0.765625 C -4.785156 -0.796875 -5.003906 -0.863281 -5.203125 -0.96875 C -5.410156 -1.070312 -5.585938 -1.21875 -5.734375 -1.40625 C -5.878906 -1.601562 -5.988281 -1.847656 -6.0625 -2.140625 C -6.144531 -2.429688 -6.1875 -2.78125 -6.1875 -3.1875 C -6.1875 -3.957031 -6.007812 -4.535156 -5.65625 -4.921875 C -5.3125 -5.304688 -4.804688 -5.5 -4.140625 -5.5 L -1.53125 -5.5 C -1.226562 -5.5 -1 -5.535156 -0.84375 -5.609375 C -0.695312 -5.691406 -0.625 -5.84375 -0.625 -6.0625 C -0.625 -6.125 -0.625 -6.179688 -0.625 -6.234375 C -0.632812 -6.285156 -0.644531 -6.335938 -0.65625 -6.390625 L -0.03125 -6.390625 C 0 -6.265625 0.0195312 -6.140625 0.03125 -6.015625 C 0.0507812 -5.890625 0.0625 -5.753906 0.0625 -5.609375 C 0.0625 -5.421875 0.0351562 -5.257812 -0.015625 -5.125 C -0.0664062 -4.988281 -0.144531 -4.875 -0.25 -4.78125 C -0.351562 -4.695312 -0.476562 -4.632812 -0.625 -4.59375 C -0.78125 -4.550781 -0.957031 -4.523438 -1.15625 -4.515625 L -1.15625 -4.46875 C -0.96875 -4.363281 -0.796875 -4.242188 -0.640625 -4.109375 C -0.484375 -3.984375 -0.347656 -3.832031 -0.234375 -3.65625 C -0.117188 -3.488281 -0.0351562 -3.296875 0.015625 -3.078125 C 0.078125 -2.859375 0.109375 -2.609375 0.109375 -2.328125 Z M -0.640625 -2.5625 C -0.640625 -2.875 -0.695312 -3.148438 -0.8125 -3.390625 C -0.9375 -3.640625 -1.085938 -3.84375 -1.265625 -4 C -1.453125 -4.15625 -1.65625 -4.269531 -1.875 -4.34375 C -2.09375 -4.425781 -2.300781 -4.46875 -2.5 -4.46875 L -3 -4.46875 L -2.96875 -3.375 C -2.96875 -3.125 -2.953125 -2.882812 -2.921875 -2.65625 C -2.890625 -2.4375 -2.828125 -2.242188 -2.734375 -2.078125 C -2.640625 -1.910156 -2.507812 -1.773438 -2.34375 -1.671875 C -2.175781 -1.578125 -1.953125 -1.53125 -1.671875 -1.53125 C -1.347656 -1.53125 -1.09375 -1.617188 -0.90625 -1.796875 C -0.726562 -1.972656 -0.640625 -2.226562 -0.640625 -2.5625 Z M -0.640625 -2.5625 \"/>\n</symbol>\n<symbol overflow=\"visible\" id=\"glyph2-12\">\n<path style=\"stroke:none;\" d=\"M 0 -4.625 L -3.859375 -4.625 C -4.148438 -4.625 -4.394531 -4.601562 -4.59375 -4.5625 C -4.789062 -4.519531 -4.945312 -4.453125 -5.0625 -4.359375 C -5.1875 -4.265625 -5.273438 -4.132812 -5.328125 -3.96875 C -5.378906 -3.8125 -5.40625 -3.613281 -5.40625 -3.375 C -5.40625 -3.132812 -5.363281 -2.914062 -5.28125 -2.71875 C -5.195312 -2.53125 -5.070312 -2.367188 -4.90625 -2.234375 C -4.75 -2.097656 -4.550781 -1.992188 -4.3125 -1.921875 C -4.082031 -1.847656 -3.816406 -1.8125 -3.515625 -1.8125 L 0 -1.8125 L 0 -0.796875 L -4.78125 -0.796875 C -4.90625 -0.796875 -5.035156 -0.796875 -5.171875 -0.796875 C -5.316406 -0.796875 -5.453125 -0.789062 -5.578125 -0.78125 C -5.703125 -0.78125 -5.804688 -0.773438 -5.890625 -0.765625 C -5.984375 -0.765625 -6.046875 -0.765625 -6.078125 -0.765625 L -6.078125 -1.71875 C -6.054688 -1.71875 -6.003906 -1.71875 -5.921875 -1.71875 C -5.835938 -1.726562 -5.742188 -1.734375 -5.640625 -1.734375 C -5.535156 -1.742188 -5.425781 -1.75 -5.3125 -1.75 C -5.207031 -1.757812 -5.113281 -1.765625 -5.03125 -1.765625 L -5.03125 -1.78125 C -5.207031 -1.875 -5.367188 -1.976562 -5.515625 -2.09375 C -5.660156 -2.21875 -5.78125 -2.351562 -5.875 -2.5 C -5.976562 -2.65625 -6.054688 -2.832031 -6.109375 -3.03125 C -6.160156 -3.226562 -6.1875 -3.457031 -6.1875 -3.71875 C -6.1875 -4.0625 -6.144531 -4.351562 -6.0625 -4.59375 C -5.976562 -4.832031 -5.847656 -5.03125 -5.671875 -5.1875 C -5.503906 -5.351562 -5.285156 -5.472656 -5.015625 -5.546875 C -4.742188 -5.617188 -4.421875 -5.65625 -4.046875 -5.65625 L 0 -5.65625 Z M 0 -4.625 \"/>\n</symbol>\n<symbol overflow=\"visible\" id=\"glyph2-13\">\n<path style=\"stroke:none;\" d=\"M -1.671875 -5.328125 C -1.390625 -5.328125 -1.132812 -5.269531 -0.90625 -5.15625 C -0.6875 -5.050781 -0.5 -4.894531 -0.34375 -4.6875 C -0.195312 -4.476562 -0.0820312 -4.21875 0 -3.90625 C 0.0703125 -3.601562 0.109375 -3.257812 0.109375 -2.875 C 0.109375 -2.519531 0.0820312 -2.203125 0.03125 -1.921875 C -0.0195312 -1.640625 -0.101562 -1.390625 -0.21875 -1.171875 C -0.34375 -0.960938 -0.503906 -0.785156 -0.703125 -0.640625 C -0.898438 -0.492188 -1.140625 -0.382812 -1.421875 -0.3125 L -1.59375 -1.21875 C -1.269531 -1.300781 -1.03125 -1.476562 -0.875 -1.75 C -0.726562 -2.019531 -0.65625 -2.394531 -0.65625 -2.875 C -0.65625 -3.082031 -0.671875 -3.273438 -0.703125 -3.453125 C -0.734375 -3.640625 -0.785156 -3.800781 -0.859375 -3.9375 C -0.929688 -4.070312 -1.023438 -4.175781 -1.140625 -4.25 C -1.265625 -4.320312 -1.414062 -4.359375 -1.59375 -4.359375 C -1.78125 -4.359375 -1.929688 -4.3125 -2.046875 -4.21875 C -2.171875 -4.132812 -2.269531 -4.015625 -2.34375 -3.859375 C -2.425781 -3.710938 -2.492188 -3.523438 -2.546875 -3.296875 C -2.609375 -3.078125 -2.675781 -2.835938 -2.75 -2.578125 C -2.8125 -2.335938 -2.878906 -2.097656 -2.953125 -1.859375 C -3.035156 -1.617188 -3.140625 -1.398438 -3.265625 -1.203125 C -3.398438 -1.015625 -3.5625 -0.859375 -3.75 -0.734375 C -3.9375 -0.617188 -4.175781 -0.5625 -4.46875 -0.5625 C -5.019531 -0.5625 -5.441406 -0.757812 -5.734375 -1.15625 C -6.023438 -1.550781 -6.171875 -2.125 -6.171875 -2.875 C -6.171875 -3.550781 -6.050781 -4.085938 -5.8125 -4.484375 C -5.582031 -4.878906 -5.207031 -5.128906 -4.6875 -5.234375 L -4.578125 -4.3125 C -4.734375 -4.28125 -4.863281 -4.21875 -4.96875 -4.125 C -5.070312 -4.039062 -5.15625 -3.929688 -5.21875 -3.796875 C -5.289062 -3.671875 -5.335938 -3.53125 -5.359375 -3.375 C -5.390625 -3.21875 -5.40625 -3.050781 -5.40625 -2.875 C -5.40625 -2.425781 -5.332031 -2.09375 -5.1875 -1.875 C -5.050781 -1.65625 -4.847656 -1.546875 -4.578125 -1.546875 C -4.410156 -1.546875 -4.269531 -1.582031 -4.15625 -1.65625 C -4.050781 -1.738281 -3.960938 -1.851562 -3.890625 -2 C -3.816406 -2.144531 -3.753906 -2.316406 -3.703125 -2.515625 C -3.648438 -2.722656 -3.59375 -2.945312 -3.53125 -3.1875 C -3.488281 -3.351562 -3.441406 -3.519531 -3.390625 -3.6875 C -3.347656 -3.851562 -3.296875 -4.015625 -3.234375 -4.171875 C -3.171875 -4.328125 -3.09375 -4.472656 -3 -4.609375 C -2.914062 -4.753906 -2.8125 -4.878906 -2.6875 -4.984375 C -2.5625 -5.097656 -2.414062 -5.179688 -2.25 -5.234375 C -2.082031 -5.296875 -1.890625 -5.328125 -1.671875 -5.328125 Z M -1.671875 -5.328125 \"/>\n</symbol>\n</g>\n<clipPath id=\"clip1\">\n  <path d=\"M 64.4375 5.480469 L 427 5.480469 L 427 185 L 64.4375 185 Z M 64.4375 5.480469 \"/>\n</clipPath>\n<clipPath id=\"clip2\">\n  <path d=\"M 64.4375 175 L 427.519531 175 L 427.519531 178 L 64.4375 178 Z M 64.4375 175 \"/>\n</clipPath>\n<clipPath id=\"clip3\">\n  <path d=\"M 64.4375 141 L 427.519531 141 L 427.519531 144 L 64.4375 144 Z M 64.4375 141 \"/>\n</clipPath>\n<clipPath id=\"clip4\">\n  <path d=\"M 64.4375 107 L 427.519531 107 L 427.519531 110 L 64.4375 110 Z M 64.4375 107 \"/>\n</clipPath>\n<clipPath id=\"clip5\">\n  <path d=\"M 64.4375 73 L 427.519531 73 L 427.519531 76 L 64.4375 76 Z M 64.4375 73 \"/>\n</clipPath>\n<clipPath id=\"clip6\">\n  <path d=\"M 64.4375 40 L 427.519531 40 L 427.519531 42 L 64.4375 42 Z M 64.4375 40 \"/>\n</clipPath>\n<clipPath id=\"clip7\">\n  <path d=\"M 64.4375 6 L 427.519531 6 L 427.519531 8 L 64.4375 8 Z M 64.4375 6 \"/>\n</clipPath>\n<clipPath id=\"clip8\">\n  <path d=\"M 85 5.480469 L 87 5.480469 L 87 185.539062 L 85 185.539062 Z M 85 5.480469 \"/>\n</clipPath>\n<clipPath id=\"clip9\">\n  <path d=\"M 120 5.480469 L 122 5.480469 L 122 185.539062 L 120 185.539062 Z M 120 5.480469 \"/>\n</clipPath>\n<clipPath id=\"clip10\">\n  <path d=\"M 156 5.480469 L 158 5.480469 L 158 185.539062 L 156 185.539062 Z M 156 5.480469 \"/>\n</clipPath>\n<clipPath id=\"clip11\">\n  <path d=\"M 191 5.480469 L 193 5.480469 L 193 185.539062 L 191 185.539062 Z M 191 5.480469 \"/>\n</clipPath>\n<clipPath id=\"clip12\">\n  <path d=\"M 227 5.480469 L 229 5.480469 L 229 185.539062 L 227 185.539062 Z M 227 5.480469 \"/>\n</clipPath>\n<clipPath id=\"clip13\">\n  <path d=\"M 262 5.480469 L 264 5.480469 L 264 185.539062 L 262 185.539062 Z M 262 5.480469 \"/>\n</clipPath>\n<clipPath id=\"clip14\">\n  <path d=\"M 298 5.480469 L 300 5.480469 L 300 185.539062 L 298 185.539062 Z M 298 5.480469 \"/>\n</clipPath>\n<clipPath id=\"clip15\">\n  <path d=\"M 333 5.480469 L 335 5.480469 L 335 185.539062 L 333 185.539062 Z M 333 5.480469 \"/>\n</clipPath>\n<clipPath id=\"clip16\">\n  <path d=\"M 369 5.480469 L 371 5.480469 L 371 185.539062 L 369 185.539062 Z M 369 5.480469 \"/>\n</clipPath>\n<clipPath id=\"clip17\">\n  <path d=\"M 404 5.480469 L 406 5.480469 L 406 185.539062 L 404 185.539062 Z M 404 5.480469 \"/>\n</clipPath>\n</defs>\n<g id=\"surface6129\">\n<rect x=\"0\" y=\"0\" width=\"432\" height=\"216\" style=\"fill:rgb(100%,100%,100%);fill-opacity:1;stroke:none;\"/>\n<rect x=\"0\" y=\"0\" width=\"432\" height=\"216\" style=\"fill:rgb(100%,100%,100%);fill-opacity:1;stroke:none;\"/>\n<path style=\"fill:none;stroke-width:1.422638;stroke-linecap:round;stroke-linejoin:round;stroke:rgb(100%,100%,100%);stroke-opacity:1;stroke-miterlimit:10;\" d=\"M 0 0 L 432 0 L 432 216 L 0 216 Z M 0 0 \"/>\n<g clip-path=\"url(#clip1)\" clip-rule=\"nonzero\">\n<path style=\" stroke:none;fill-rule:nonzero;fill:rgb(100%,100%,100%);fill-opacity:1;\" d=\"M 64.4375 5.480469 L 426.519531 5.480469 L 426.519531 184.539062 L 64.4375 184.539062 Z M 64.4375 5.480469 \"/>\n</g>\n<g clip-path=\"url(#clip2)\" clip-rule=\"nonzero\">\n<path style=\"fill:none;stroke-width:1.422638;stroke-linecap:butt;stroke-linejoin:round;stroke:rgb(92.156863%,92.156863%,92.156863%);stroke-opacity:1;stroke-miterlimit:10;\" d=\"M 64.4375 176.398438 L 426.519531 176.398438 \"/>\n</g>\n<g clip-path=\"url(#clip3)\" clip-rule=\"nonzero\">\n<path style=\"fill:none;stroke-width:1.422638;stroke-linecap:butt;stroke-linejoin:round;stroke:rgb(92.156863%,92.156863%,92.156863%);stroke-opacity:1;stroke-miterlimit:10;\" d=\"M 64.4375 142.488281 L 426.519531 142.488281 \"/>\n</g>\n<g clip-path=\"url(#clip4)\" clip-rule=\"nonzero\">\n<path style=\"fill:none;stroke-width:1.422638;stroke-linecap:butt;stroke-linejoin:round;stroke:rgb(92.156863%,92.156863%,92.156863%);stroke-opacity:1;stroke-miterlimit:10;\" d=\"M 64.4375 108.574219 L 426.519531 108.574219 \"/>\n</g>\n<g clip-path=\"url(#clip5)\" clip-rule=\"nonzero\">\n<path style=\"fill:none;stroke-width:1.422638;stroke-linecap:butt;stroke-linejoin:round;stroke:rgb(92.156863%,92.156863%,92.156863%);stroke-opacity:1;stroke-miterlimit:10;\" d=\"M 64.4375 74.660156 L 426.519531 74.660156 \"/>\n</g>\n<g clip-path=\"url(#clip6)\" clip-rule=\"nonzero\">\n<path style=\"fill:none;stroke-width:1.422638;stroke-linecap:butt;stroke-linejoin:round;stroke:rgb(92.156863%,92.156863%,92.156863%);stroke-opacity:1;stroke-miterlimit:10;\" d=\"M 64.4375 40.75 L 426.519531 40.75 \"/>\n</g>\n<g clip-path=\"url(#clip7)\" clip-rule=\"nonzero\">\n<path style=\"fill:none;stroke-width:1.422638;stroke-linecap:butt;stroke-linejoin:round;stroke:rgb(92.156863%,92.156863%,92.156863%);stroke-opacity:1;stroke-miterlimit:10;\" d=\"M 64.4375 6.835938 L 426.519531 6.835938 \"/>\n</g>\n<g clip-path=\"url(#clip8)\" clip-rule=\"nonzero\">\n<path style=\"fill:none;stroke-width:1.422638;stroke-linecap:butt;stroke-linejoin:round;stroke:rgb(92.156863%,92.156863%,92.156863%);stroke-opacity:1;stroke-miterlimit:10;\" d=\"M 85.738281 184.539062 L 85.738281 5.480469 \"/>\n</g>\n<g clip-path=\"url(#clip9)\" clip-rule=\"nonzero\">\n<path style=\"fill:none;stroke-width:1.422638;stroke-linecap:butt;stroke-linejoin:round;stroke:rgb(92.156863%,92.156863%,92.156863%);stroke-opacity:1;stroke-miterlimit:10;\" d=\"M 121.234375 184.539062 L 121.234375 5.480469 \"/>\n</g>\n<g clip-path=\"url(#clip10)\" clip-rule=\"nonzero\">\n<path style=\"fill:none;stroke-width:1.422638;stroke-linecap:butt;stroke-linejoin:round;stroke:rgb(92.156863%,92.156863%,92.156863%);stroke-opacity:1;stroke-miterlimit:10;\" d=\"M 156.734375 184.539062 L 156.734375 5.480469 \"/>\n</g>\n<g clip-path=\"url(#clip11)\" clip-rule=\"nonzero\">\n<path style=\"fill:none;stroke-width:1.422638;stroke-linecap:butt;stroke-linejoin:round;stroke:rgb(92.156863%,92.156863%,92.156863%);stroke-opacity:1;stroke-miterlimit:10;\" d=\"M 192.230469 184.539062 L 192.230469 5.480469 \"/>\n</g>\n<g clip-path=\"url(#clip12)\" clip-rule=\"nonzero\">\n<path style=\"fill:none;stroke-width:1.422638;stroke-linecap:butt;stroke-linejoin:round;stroke:rgb(92.156863%,92.156863%,92.156863%);stroke-opacity:1;stroke-miterlimit:10;\" d=\"M 227.730469 184.539062 L 227.730469 5.480469 \"/>\n</g>\n<g clip-path=\"url(#clip13)\" clip-rule=\"nonzero\">\n<path style=\"fill:none;stroke-width:1.422638;stroke-linecap:butt;stroke-linejoin:round;stroke:rgb(92.156863%,92.156863%,92.156863%);stroke-opacity:1;stroke-miterlimit:10;\" d=\"M 263.226562 184.539062 L 263.226562 5.480469 \"/>\n</g>\n<g clip-path=\"url(#clip14)\" clip-rule=\"nonzero\">\n<path style=\"fill:none;stroke-width:1.422638;stroke-linecap:butt;stroke-linejoin:round;stroke:rgb(92.156863%,92.156863%,92.156863%);stroke-opacity:1;stroke-miterlimit:10;\" d=\"M 298.726562 184.539062 L 298.726562 5.480469 \"/>\n</g>\n<g clip-path=\"url(#clip15)\" clip-rule=\"nonzero\">\n<path style=\"fill:none;stroke-width:1.422638;stroke-linecap:butt;stroke-linejoin:round;stroke:rgb(92.156863%,92.156863%,92.156863%);stroke-opacity:1;stroke-miterlimit:10;\" d=\"M 334.226562 184.539062 L 334.226562 5.480469 \"/>\n</g>\n<g clip-path=\"url(#clip16)\" clip-rule=\"nonzero\">\n<path style=\"fill:none;stroke-width:1.422638;stroke-linecap:butt;stroke-linejoin:round;stroke:rgb(92.156863%,92.156863%,92.156863%);stroke-opacity:1;stroke-miterlimit:10;\" d=\"M 369.722656 184.539062 L 369.722656 5.480469 \"/>\n</g>\n<g clip-path=\"url(#clip17)\" clip-rule=\"nonzero\">\n<path style=\"fill:none;stroke-width:1.422638;stroke-linecap:butt;stroke-linejoin:round;stroke:rgb(92.156863%,92.156863%,92.156863%);stroke-opacity:1;stroke-miterlimit:10;\" d=\"M 405.222656 184.539062 L 405.222656 5.480469 \"/>\n</g>\n<path style=\"fill-rule:nonzero;fill:rgb(82.745098%,82.745098%,82.745098%);fill-opacity:1;stroke-width:1.422638;stroke-linecap:butt;stroke-linejoin:miter;stroke:rgb(16.862745%,16.862745%,16.862745%);stroke-opacity:1;stroke-miterlimit:10;\" d=\"M 353.75 47.820312 L 385.699219 47.820312 L 385.699219 176.398438 L 353.75 176.398438 Z M 353.75 47.820312 \"/>\n<path style=\"fill-rule:nonzero;fill:rgb(82.745098%,82.745098%,82.745098%);fill-opacity:1;stroke-width:1.422638;stroke-linecap:butt;stroke-linejoin:miter;stroke:rgb(16.862745%,16.862745%,16.862745%);stroke-opacity:1;stroke-miterlimit:10;\" d=\"M 247.253906 125.96875 L 279.203125 125.96875 L 279.203125 176.398438 L 247.253906 176.398438 Z M 247.253906 125.96875 \"/>\n<path style=\"fill-rule:nonzero;fill:rgb(82.745098%,82.745098%,82.745098%);fill-opacity:1;stroke-width:1.422638;stroke-linecap:butt;stroke-linejoin:miter;stroke:rgb(16.862745%,16.862745%,16.862745%);stroke-opacity:1;stroke-miterlimit:10;\" d=\"M 389.246094 127.566406 L 421.195312 127.566406 L 421.195312 176.398438 L 389.246094 176.398438 Z M 389.246094 127.566406 \"/>\n<path style=\"fill-rule:nonzero;fill:rgb(82.745098%,82.745098%,82.745098%);fill-opacity:1;stroke-width:1.422638;stroke-linecap:butt;stroke-linejoin:miter;stroke:rgb(16.862745%,16.862745%,16.862745%);stroke-opacity:1;stroke-miterlimit:10;\" d=\"M 69.761719 152.9375 L 101.710938 152.9375 L 101.710938 176.402344 L 69.761719 176.402344 Z M 69.761719 152.9375 \"/>\n<path style=\"fill-rule:nonzero;fill:rgb(82.745098%,82.745098%,82.745098%);fill-opacity:1;stroke-width:1.422638;stroke-linecap:butt;stroke-linejoin:miter;stroke:rgb(16.862745%,16.862745%,16.862745%);stroke-opacity:1;stroke-miterlimit:10;\" d=\"M 140.757812 154.015625 L 172.707031 154.015625 L 172.707031 176.402344 L 140.757812 176.402344 Z M 140.757812 154.015625 \"/>\n<path style=\"fill-rule:nonzero;fill:rgb(82.745098%,82.745098%,82.745098%);fill-opacity:1;stroke-width:1.422638;stroke-linecap:butt;stroke-linejoin:miter;stroke:rgb(16.862745%,16.862745%,16.862745%);stroke-opacity:1;stroke-miterlimit:10;\" d=\"M 105.261719 161.933594 L 137.210938 161.933594 L 137.210938 176.398438 L 105.261719 176.398438 Z M 105.261719 161.933594 \"/>\n<path style=\"fill-rule:nonzero;fill:rgb(82.745098%,82.745098%,82.745098%);fill-opacity:1;stroke-width:1.422638;stroke-linecap:butt;stroke-linejoin:miter;stroke:rgb(16.862745%,16.862745%,16.862745%);stroke-opacity:1;stroke-miterlimit:10;\" d=\"M 282.753906 168.90625 L 314.703125 168.90625 L 314.703125 176.402344 L 282.753906 176.402344 Z M 282.753906 168.90625 \"/>\n<path style=\"fill-rule:nonzero;fill:rgb(82.745098%,82.745098%,82.745098%);fill-opacity:1;stroke-width:1.422638;stroke-linecap:butt;stroke-linejoin:miter;stroke:rgb(16.862745%,16.862745%,16.862745%);stroke-opacity:1;stroke-miterlimit:10;\" d=\"M 211.753906 171.042969 L 243.703125 171.042969 L 243.703125 176.402344 L 211.753906 176.402344 Z M 211.753906 171.042969 \"/>\n<path style=\"fill-rule:nonzero;fill:rgb(82.745098%,82.745098%,82.745098%);fill-opacity:1;stroke-width:1.422638;stroke-linecap:butt;stroke-linejoin:miter;stroke:rgb(16.862745%,16.862745%,16.862745%);stroke-opacity:1;stroke-miterlimit:10;\" d=\"M 176.257812 172.023438 L 208.207031 172.023438 L 208.207031 176.402344 L 176.257812 176.402344 Z M 176.257812 172.023438 \"/>\n<path style=\"fill-rule:nonzero;fill:rgb(82.745098%,82.745098%,82.745098%);fill-opacity:1;stroke-width:1.422638;stroke-linecap:butt;stroke-linejoin:miter;stroke:rgb(16.862745%,16.862745%,16.862745%);stroke-opacity:1;stroke-miterlimit:10;\" d=\"M 318.25 175.824219 L 350.199219 175.824219 L 350.199219 176.398438 L 318.25 176.398438 Z M 318.25 175.824219 \"/>\n<path style=\"fill:none;stroke-width:1.422638;stroke-linecap:butt;stroke-linejoin:round;stroke:rgb(0%,0%,0%);stroke-opacity:1;stroke-miterlimit:10;\" d=\"M 64.4375 184.539062 L 64.4375 5.480469 \"/>\n<g style=\"fill:rgb(30.196078%,30.196078%,30.196078%);fill-opacity:1;\">\n  <use xlink:href=\"#glyph0-1\" x=\"54.334168\" y=\"179.599227\"/>\n</g>\n<g style=\"fill:rgb(30.196078%,30.196078%,30.196078%);fill-opacity:1;\">\n  <use xlink:href=\"#glyph0-2\" x=\"23.302918\" y=\"145.686403\"/>\n  <use xlink:href=\"#glyph0-3\" x=\"28.474793\" y=\"145.686403\"/>\n  <use xlink:href=\"#glyph0-1\" x=\"33.646668\" y=\"145.686403\"/>\n  <use xlink:href=\"#glyph0-1\" x=\"38.818543\" y=\"145.686403\"/>\n  <use xlink:href=\"#glyph0-1\" x=\"43.990418\" y=\"145.686403\"/>\n  <use xlink:href=\"#glyph0-1\" x=\"49.162293\" y=\"145.686403\"/>\n  <use xlink:href=\"#glyph0-1\" x=\"54.334168\" y=\"145.686403\"/>\n</g>\n<g style=\"fill:rgb(30.196078%,30.196078%,30.196078%);fill-opacity:1;\">\n  <use xlink:href=\"#glyph0-3\" x=\"23.302918\" y=\"111.77358\"/>\n  <use xlink:href=\"#glyph0-1\" x=\"28.474793\" y=\"111.77358\"/>\n  <use xlink:href=\"#glyph0-1\" x=\"33.646668\" y=\"111.77358\"/>\n  <use xlink:href=\"#glyph0-1\" x=\"38.818543\" y=\"111.77358\"/>\n  <use xlink:href=\"#glyph0-1\" x=\"43.990418\" y=\"111.77358\"/>\n  <use xlink:href=\"#glyph0-1\" x=\"49.162293\" y=\"111.77358\"/>\n  <use xlink:href=\"#glyph0-1\" x=\"54.334168\" y=\"111.77358\"/>\n</g>\n<g style=\"fill:rgb(30.196078%,30.196078%,30.196078%);fill-opacity:1;\">\n  <use xlink:href=\"#glyph0-4\" x=\"23.302918\" y=\"77.860757\"/>\n  <use xlink:href=\"#glyph0-3\" x=\"28.474793\" y=\"77.860757\"/>\n  <use xlink:href=\"#glyph0-1\" x=\"33.646668\" y=\"77.860757\"/>\n  <use xlink:href=\"#glyph0-1\" x=\"38.818543\" y=\"77.860757\"/>\n  <use xlink:href=\"#glyph0-1\" x=\"43.990418\" y=\"77.860757\"/>\n  <use xlink:href=\"#glyph0-1\" x=\"49.162293\" y=\"77.860757\"/>\n  <use xlink:href=\"#glyph0-1\" x=\"54.334168\" y=\"77.860757\"/>\n</g>\n<g style=\"fill:rgb(30.196078%,30.196078%,30.196078%);fill-opacity:1;\">\n  <use xlink:href=\"#glyph0-5\" x=\"18.131043\" y=\"43.947934\"/>\n  <use xlink:href=\"#glyph0-1\" x=\"23.302918\" y=\"43.947934\"/>\n  <use xlink:href=\"#glyph0-1\" x=\"28.474793\" y=\"43.947934\"/>\n  <use xlink:href=\"#glyph0-1\" x=\"33.646668\" y=\"43.947934\"/>\n  <use xlink:href=\"#glyph0-1\" x=\"38.818543\" y=\"43.947934\"/>\n  <use xlink:href=\"#glyph0-1\" x=\"43.990418\" y=\"43.947934\"/>\n  <use xlink:href=\"#glyph0-1\" x=\"49.162293\" y=\"43.947934\"/>\n  <use xlink:href=\"#glyph0-1\" x=\"54.334168\" y=\"43.947934\"/>\n</g>\n<g style=\"fill:rgb(30.196078%,30.196078%,30.196078%);fill-opacity:1;\">\n  <use xlink:href=\"#glyph0-5\" x=\"18.131043\" y=\"10.03511\"/>\n  <use xlink:href=\"#glyph0-2\" x=\"23.302918\" y=\"10.03511\"/>\n  <use xlink:href=\"#glyph0-3\" x=\"28.474793\" y=\"10.03511\"/>\n  <use xlink:href=\"#glyph0-1\" x=\"33.646668\" y=\"10.03511\"/>\n  <use xlink:href=\"#glyph0-1\" x=\"38.818543\" y=\"10.03511\"/>\n  <use xlink:href=\"#glyph0-1\" x=\"43.990418\" y=\"10.03511\"/>\n  <use xlink:href=\"#glyph0-1\" x=\"49.162293\" y=\"10.03511\"/>\n  <use xlink:href=\"#glyph0-1\" x=\"54.334168\" y=\"10.03511\"/>\n</g>\n<path style=\"fill:none;stroke-width:1.422638;stroke-linecap:butt;stroke-linejoin:round;stroke:rgb(20%,20%,20%);stroke-opacity:1;stroke-miterlimit:10;\" d=\"M 61.699219 176.398438 L 64.4375 176.398438 \"/>\n<path style=\"fill:none;stroke-width:1.422638;stroke-linecap:butt;stroke-linejoin:round;stroke:rgb(20%,20%,20%);stroke-opacity:1;stroke-miterlimit:10;\" d=\"M 61.699219 142.488281 L 64.4375 142.488281 \"/>\n<path style=\"fill:none;stroke-width:1.422638;stroke-linecap:butt;stroke-linejoin:round;stroke:rgb(20%,20%,20%);stroke-opacity:1;stroke-miterlimit:10;\" d=\"M 61.699219 108.574219 L 64.4375 108.574219 \"/>\n<path style=\"fill:none;stroke-width:1.422638;stroke-linecap:butt;stroke-linejoin:round;stroke:rgb(20%,20%,20%);stroke-opacity:1;stroke-miterlimit:10;\" d=\"M 61.699219 74.660156 L 64.4375 74.660156 \"/>\n<path style=\"fill:none;stroke-width:1.422638;stroke-linecap:butt;stroke-linejoin:round;stroke:rgb(20%,20%,20%);stroke-opacity:1;stroke-miterlimit:10;\" d=\"M 61.699219 40.75 L 64.4375 40.75 \"/>\n<path style=\"fill:none;stroke-width:1.422638;stroke-linecap:butt;stroke-linejoin:round;stroke:rgb(20%,20%,20%);stroke-opacity:1;stroke-miterlimit:10;\" d=\"M 61.699219 6.835938 L 64.4375 6.835938 \"/>\n<path style=\"fill:none;stroke-width:1.422638;stroke-linecap:butt;stroke-linejoin:round;stroke:rgb(0%,0%,0%);stroke-opacity:1;stroke-miterlimit:10;\" d=\"M 64.4375 184.539062 L 426.519531 184.539062 \"/>\n<path style=\"fill:none;stroke-width:1.422638;stroke-linecap:butt;stroke-linejoin:round;stroke:rgb(20%,20%,20%);stroke-opacity:1;stroke-miterlimit:10;\" d=\"M 85.738281 187.277344 L 85.738281 184.539062 \"/>\n<path style=\"fill:none;stroke-width:1.422638;stroke-linecap:butt;stroke-linejoin:round;stroke:rgb(20%,20%,20%);stroke-opacity:1;stroke-miterlimit:10;\" d=\"M 121.234375 187.277344 L 121.234375 184.539062 \"/>\n<path style=\"fill:none;stroke-width:1.422638;stroke-linecap:butt;stroke-linejoin:round;stroke:rgb(20%,20%,20%);stroke-opacity:1;stroke-miterlimit:10;\" d=\"M 156.734375 187.277344 L 156.734375 184.539062 \"/>\n<path style=\"fill:none;stroke-width:1.422638;stroke-linecap:butt;stroke-linejoin:round;stroke:rgb(20%,20%,20%);stroke-opacity:1;stroke-miterlimit:10;\" d=\"M 192.230469 187.277344 L 192.230469 184.539062 \"/>\n<path style=\"fill:none;stroke-width:1.422638;stroke-linecap:butt;stroke-linejoin:round;stroke:rgb(20%,20%,20%);stroke-opacity:1;stroke-miterlimit:10;\" d=\"M 227.730469 187.277344 L 227.730469 184.539062 \"/>\n<path style=\"fill:none;stroke-width:1.422638;stroke-linecap:butt;stroke-linejoin:round;stroke:rgb(20%,20%,20%);stroke-opacity:1;stroke-miterlimit:10;\" d=\"M 263.226562 187.277344 L 263.226562 184.539062 \"/>\n<path style=\"fill:none;stroke-width:1.422638;stroke-linecap:butt;stroke-linejoin:round;stroke:rgb(20%,20%,20%);stroke-opacity:1;stroke-miterlimit:10;\" d=\"M 298.726562 187.277344 L 298.726562 184.539062 \"/>\n<path style=\"fill:none;stroke-width:1.422638;stroke-linecap:butt;stroke-linejoin:round;stroke:rgb(20%,20%,20%);stroke-opacity:1;stroke-miterlimit:10;\" d=\"M 334.226562 187.277344 L 334.226562 184.539062 \"/>\n<path style=\"fill:none;stroke-width:1.422638;stroke-linecap:butt;stroke-linejoin:round;stroke:rgb(20%,20%,20%);stroke-opacity:1;stroke-miterlimit:10;\" d=\"M 369.722656 187.277344 L 369.722656 184.539062 \"/>\n<path style=\"fill:none;stroke-width:1.422638;stroke-linecap:butt;stroke-linejoin:round;stroke:rgb(20%,20%,20%);stroke-opacity:1;stroke-miterlimit:10;\" d=\"M 405.222656 187.277344 L 405.222656 184.539062 \"/>\n<g style=\"fill:rgb(30.196078%,30.196078%,30.196078%);fill-opacity:1;\">\n  <use xlink:href=\"#glyph0-6\" x=\"82.362253\" y=\"195.868957\"/>\n  <use xlink:href=\"#glyph0-7\" x=\"89.081003\" y=\"195.868957\"/>\n</g>\n<g style=\"fill:rgb(30.196078%,30.196078%,30.196078%);fill-opacity:1;\">\n  <use xlink:href=\"#glyph0-8\" x=\"117.861717\" y=\"195.868957\"/>\n  <use xlink:href=\"#glyph0-9\" x=\"124.580467\" y=\"195.868957\"/>\n</g>\n<g style=\"fill:rgb(30.196078%,30.196078%,30.196078%);fill-opacity:1;\">\n  <use xlink:href=\"#glyph0-9\" x=\"153.617829\" y=\"195.868957\"/>\n  <use xlink:href=\"#glyph0-10\" x=\"159.820954\" y=\"195.868957\"/>\n</g>\n<g style=\"fill:rgb(30.196078%,30.196078%,30.196078%);fill-opacity:1;\">\n  <use xlink:href=\"#glyph0-11\" x=\"189.380589\" y=\"195.868957\"/>\n  <use xlink:href=\"#glyph0-12\" x=\"195.052464\" y=\"195.868957\"/>\n</g>\n<g style=\"fill:rgb(30.196078%,30.196078%,30.196078%);fill-opacity:1;\">\n  <use xlink:href=\"#glyph0-13\" x=\"224.098803\" y=\"195.868957\"/>\n  <use xlink:href=\"#glyph0-14\" x=\"231.333178\" y=\"195.868957\"/>\n</g>\n<g style=\"fill:rgb(30.196078%,30.196078%,30.196078%);fill-opacity:1;\">\n  <use xlink:href=\"#glyph0-15\" x=\"260.886165\" y=\"195.868957\"/>\n  <use xlink:href=\"#glyph0-10\" x=\"265.542415\" y=\"195.868957\"/>\n</g>\n<g style=\"fill:rgb(30.196078%,30.196078%,30.196078%);fill-opacity:1;\">\n  <use xlink:href=\"#glyph0-16\" x=\"295.609863\" y=\"195.868957\"/>\n  <use xlink:href=\"#glyph0-12\" x=\"301.812988\" y=\"195.868957\"/>\n</g>\n<g style=\"fill:rgb(30.196078%,30.196078%,30.196078%);fill-opacity:1;\">\n  <use xlink:href=\"#glyph0-12\" x=\"330.85035\" y=\"195.868957\"/>\n  <use xlink:href=\"#glyph0-17\" x=\"337.5691\" y=\"195.868957\"/>\n</g>\n<g style=\"fill:rgb(30.196078%,30.196078%,30.196078%);fill-opacity:1;\">\n  <use xlink:href=\"#glyph0-17\" x=\"366.349814\" y=\"195.868957\"/>\n  <use xlink:href=\"#glyph0-18\" x=\"373.068564\" y=\"195.868957\"/>\n</g>\n<g style=\"fill:rgb(30.196078%,30.196078%,30.196078%);fill-opacity:1;\">\n  <use xlink:href=\"#glyph0-19\" x=\"400.814524\" y=\"195.868957\"/>\n  <use xlink:href=\"#glyph0-20\" x=\"409.595774\" y=\"195.868957\"/>\n</g>\n<g style=\"fill:rgb(0%,0%,0%);fill-opacity:1;\">\n  <use xlink:href=\"#glyph1-1\" x=\"203.627657\" y=\"208.520548\"/>\n  <use xlink:href=\"#glyph1-2\" x=\"211.940157\" y=\"208.520548\"/>\n  <use xlink:href=\"#glyph1-3\" x=\"214.502657\" y=\"208.520548\"/>\n  <use xlink:href=\"#glyph1-4\" x=\"217.690157\" y=\"208.520548\"/>\n  <use xlink:href=\"#glyph1-5\" x=\"224.080782\" y=\"208.520548\"/>\n  <use xlink:href=\"#glyph1-6\" x=\"230.471407\" y=\"208.520548\"/>\n  <use xlink:href=\"#glyph1-7\" x=\"233.018282\" y=\"208.520548\"/>\n  <use xlink:href=\"#glyph1-8\" x=\"240.690157\" y=\"208.520548\"/>\n  <use xlink:href=\"#glyph1-3\" x=\"247.080782\" y=\"208.520548\"/>\n  <use xlink:href=\"#glyph1-9\" x=\"250.268282\" y=\"208.520548\"/>\n  <use xlink:href=\"#glyph1-10\" x=\"256.658907\" y=\"208.520548\"/>\n  <use xlink:href=\"#glyph1-11\" x=\"263.049532\" y=\"208.520548\"/>\n  <use xlink:href=\"#glyph1-2\" x=\"266.877657\" y=\"208.520548\"/>\n  <use xlink:href=\"#glyph1-3\" x=\"269.440157\" y=\"208.520548\"/>\n  <use xlink:href=\"#glyph1-2\" x=\"272.627657\" y=\"208.520548\"/>\n  <use xlink:href=\"#glyph1-4\" x=\"275.190157\" y=\"208.520548\"/>\n  <use xlink:href=\"#glyph1-12\" x=\"281.580782\" y=\"208.520548\"/>\n</g>\n<g style=\"fill:rgb(0%,0%,0%);fill-opacity:1;\">\n  <use xlink:href=\"#glyph2-1\" x=\"13.391317\" y=\"141.642118\"/>\n  <use xlink:href=\"#glyph2-2\" x=\"13.391317\" y=\"133.329618\"/>\n  <use xlink:href=\"#glyph2-3\" x=\"13.391317\" y=\"130.142118\"/>\n  <use xlink:href=\"#glyph2-4\" x=\"13.391317\" y=\"123.751493\"/>\n  <use xlink:href=\"#glyph2-2\" x=\"13.391317\" y=\"120.563993\"/>\n  <use xlink:href=\"#glyph2-5\" x=\"13.391317\" y=\"117.376493\"/>\n  <use xlink:href=\"#glyph2-6\" x=\"13.391317\" y=\"109.063993\"/>\n  <use xlink:href=\"#glyph2-7\" x=\"13.391317\" y=\"106.501493\"/>\n  <use xlink:href=\"#glyph2-8\" x=\"13.391317\" y=\"103.313993\"/>\n  <use xlink:href=\"#glyph2-9\" x=\"13.391317\" y=\"96.923368\"/>\n  <use xlink:href=\"#glyph2-2\" x=\"13.391317\" y=\"90.532743\"/>\n  <use xlink:href=\"#glyph2-10\" x=\"13.391317\" y=\"87.345243\"/>\n  <use xlink:href=\"#glyph2-11\" x=\"13.391317\" y=\"79.673368\"/>\n  <use xlink:href=\"#glyph2-7\" x=\"13.391317\" y=\"73.282743\"/>\n  <use xlink:href=\"#glyph2-8\" x=\"13.391317\" y=\"70.095243\"/>\n  <use xlink:href=\"#glyph2-12\" x=\"13.391317\" y=\"63.704618\"/>\n  <use xlink:href=\"#glyph2-7\" x=\"13.391317\" y=\"57.313993\"/>\n  <use xlink:href=\"#glyph2-13\" x=\"13.391317\" y=\"54.126493\"/>\n</g>\n</g>\n</svg>\n",
      "text/plain": [
       "plot without title"
      ]
     },
     "metadata": {
      "application/pdf": {
       "height": 180,
       "width": 360
      },
      "image/jpeg": {
       "height": 180,
       "width": 360
      },
      "image/png": {
       "height": 180,
       "width": 360
      },
      "image/svg+xml": {
       "height": 180,
       "isolated": true,
       "width": 360
      }
     },
     "output_type": "display_data"
    }
   ],
   "source": [
    "options(repr.plot.width = 6, repr.plot.height = 3)\n",
    "pct_citation %>%\n",
    "    .[, .(Cited_App_auth)] %>%\n",
    "    .[, .N, keyby=Cited_App_auth] %>%\n",
    "    .[order(-rank(N))] %>%\n",
    "    .[nchar(Cited_App_auth) >=2] %>%\n",
    "    head(10) %>%\n",
    "    ggplot(aes(x=Cited_App_auth, y=N)) + \n",
    "    geom_col(fill=gray_scale[4], color=gray_scale[5]) + \n",
    "    theme_bw() + \n",
    "    ylim(0, 12000000) + \n",
    "    labs(x='Cited Authorities', y='N of Cited Patents') + \n",
    "    theme(\n",
    "        panel.grid.minor = element_blank(),\n",
    "        panel.border = element_blank(),\n",
    "        axis.line = element_line(color = \"black\"),\n",
    "    )"
   ]
  },
  {
   "cell_type": "code",
   "execution_count": null,
   "metadata": {
    "vscode": {
     "languageId": "r"
    }
   },
   "outputs": [],
   "source": []
  }
 ],
 "metadata": {
  "kernelspec": {
   "display_name": "R",
   "language": "R",
   "name": "ir"
  },
  "language_info": {
   "codemirror_mode": "r",
   "file_extension": ".r",
   "mimetype": "text/x-r-source",
   "name": "R",
   "pygments_lexer": "r",
   "version": "4.2.2"
  },
  "orig_nbformat": 4,
  "vscode": {
   "interpreter": {
    "hash": "16bff2c6a4793fe572f28f54bf2473ba4d5d1eb32d0a445bafdbd12ba8e85d21"
   }
  }
 },
 "nbformat": 4,
 "nbformat_minor": 2
}
