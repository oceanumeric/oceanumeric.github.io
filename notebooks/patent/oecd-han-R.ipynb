{
 "cells": [
  {
   "cell_type": "code",
   "execution_count": 1,
   "metadata": {
    "vscode": {
     "languageId": "r"
    }
   },
   "outputs": [],
   "source": [
    "# load packages \n",
    "library(pacman)\n",
    "p_load(\n",
    "    tidyverse, data.table, dtplyr, reshape2, \n",
    "    archive, kableExtra, SPARQL, janitor, \n",
    "    png, webp, Cairo, rsvg,\n",
    "    httr, jsonlite)\n",
    "# set option\n",
    "options(dplyr.summarise.inform = FALSE)\n",
    "gray_scale <- c('#F3F4F8','#D2D4DA',  '#bcc0ca', \n",
    "                '#D3D3D3', '#2B2B2B', \n",
    "                '#B3B5BD', '#838383', \n",
    "                '#9496A1', '#7d7f89', '#777986', \n",
    "                '#656673', '#5B5D6B', '#4d505e',\n",
    "                '#404352', '#2b2d3b', '#282A3A',\n",
    "                '#1b1c2a', '#191a2b',\n",
    "                '#141626', '#101223')"
   ]
  },
  {
   "cell_type": "code",
   "execution_count": 2,
   "metadata": {
    "vscode": {
     "languageId": "r"
    }
   },
   "outputs": [],
   "source": [
    "# set up working directory\n",
    "setwd('work/notebooks/patent')"
   ]
  },
  {
   "cell_type": "code",
   "execution_count": 62,
   "metadata": {
    "vscode": {
     "languageId": "r"
    }
   },
   "outputs": [
    {
     "data": {
      "text/html": [
       "<table class=\"dataframe\">\n",
       "<caption>A data.table: 1 × 4</caption>\n",
       "<thead>\n",
       "\t<tr><th></th><th scope=col>EP</th><th scope=col>US</th><th scope=col>WO</th><th scope=col>Total</th></tr>\n",
       "\t<tr><th></th><th scope=col>&lt;chr&gt;</th><th scope=col>&lt;chr&gt;</th><th scope=col>&lt;chr&gt;</th><th scope=col>&lt;chr&gt;</th></tr>\n",
       "</thead>\n",
       "<tbody>\n",
       "\t<tr><th scope=row>2</th><td>716</td><td>415</td><td>88</td><td>1219</td></tr>\n",
       "</tbody>\n",
       "</table>\n"
      ],
      "text/latex": [
       "A data.table: 1 × 4\n",
       "\\begin{tabular}{r|llll}\n",
       "  & EP & US & WO & Total\\\\\n",
       "  & <chr> & <chr> & <chr> & <chr>\\\\\n",
       "\\hline\n",
       "\t2 & 716 & 415 & 88 & 1219\\\\\n",
       "\\end{tabular}\n"
      ],
      "text/markdown": [
       "\n",
       "A data.table: 1 × 4\n",
       "\n",
       "| <!--/--> | EP &lt;chr&gt; | US &lt;chr&gt; | WO &lt;chr&gt; | Total &lt;chr&gt; |\n",
       "|---|---|---|---|---|\n",
       "| 2 | 716 | 415 | 88 | 1219 |\n",
       "\n"
      ],
      "text/plain": [
       "  EP  US  WO Total\n",
       "1 716 415 88 1219 "
      ]
     },
     "metadata": {},
     "output_type": "display_data"
    }
   ],
   "source": [
    "# Code-Block 5. Extract patents for one-company full code\n",
    "# read dataset 1, 2, and 3 \n",
    "de_firms <- fread('./data/orbis_de_matched_l.csv')\n",
    "han_names <- fread('./data/202208_HAN_NAMES.txt')\n",
    "han_patents <- fread('./data/202208_HAN_PATENTS.txt')\n",
    "\n",
    "# filter out germany firms from han_names \n",
    "# by setting Person_ctry_code == 'DE'\n",
    "# match names \"AIRBUS DEFENCE\" and get their HAN_ID\n",
    "airbus <- toupper('Airbus Defence')\n",
    "han_names %>%\n",
    "    .[Person_ctry_code == 'DE'] %>%\n",
    "    .[Clean_name %like% airbus] %>%\n",
    "    .[,HAN_ID] -> airbus_han_ids\n",
    "\n",
    "# calcualte the summary statistics for AIRBUS DEFENCE\n",
    "han_patents %>%\n",
    "    .[HAN_ID %in% airbus_han_ids] %>%\n",
    "    .[, .N, by=Publn_auth] -> foo\n",
    "    transform(adorn_totals(foo)) %>%\n",
    "    transpose() %>%\n",
    "    row_to_names(row_number=1)\n",
    "\n",
    "# focusing on patents from EPO\n",
    "# filter with condition Publn_auth == 'EP'\n",
    "han_patents %>%\n",
    "    .[HAN_ID %in% airbus_han_ids] -> airbus_han_patents\n",
    "\n",
    "# save the dataset\n",
    "write.csv(airbus_han_patents, './data/airbus_han_patents.csv', row.names=FALSE)"
   ]
  },
  {
   "cell_type": "code",
   "execution_count": 50,
   "metadata": {
    "vscode": {
     "languageId": "r"
    }
   },
   "outputs": [],
   "source": [
    "airbus_ep_application <- fread('./data/airbus_ep_applications.csv')"
   ]
  },
  {
   "cell_type": "code",
   "execution_count": 51,
   "metadata": {
    "vscode": {
     "languageId": "r"
    }
   },
   "outputs": [
    {
     "data": {
      "text/html": [
       "<style>\n",
       ".list-inline {list-style: none; margin:0; padding: 0}\n",
       ".list-inline>li {display: inline-block}\n",
       ".list-inline>li:not(:last-child)::after {content: \"\\00b7\"; padding: 0 .5ex}\n",
       "</style>\n",
       "<ol class=list-inline><li>716</li><li>7</li></ol>\n"
      ],
      "text/latex": [
       "\\begin{enumerate*}\n",
       "\\item 716\n",
       "\\item 7\n",
       "\\end{enumerate*}\n"
      ],
      "text/markdown": [
       "1. 716\n",
       "2. 7\n",
       "\n",
       "\n"
      ],
      "text/plain": [
       "[1] 716   7"
      ]
     },
     "metadata": {},
     "output_type": "display_data"
    }
   ],
   "source": [
    "dim(airbus_ep_application)"
   ]
  },
  {
   "cell_type": "code",
   "execution_count": 5,
   "metadata": {
    "vscode": {
     "languageId": "r"
    }
   },
   "outputs": [
    {
     "data": {
      "text/html": [
       "<table class=\"dataframe\">\n",
       "<caption>A data.table: 6 × 7</caption>\n",
       "<thead>\n",
       "\t<tr><th scope=col>patentNumber</th><th scope=col>applicationDate</th><th scope=col>granted</th><th scope=col>grantDate</th><th scope=col>familyID</th><th scope=col>cpcTags</th><th scope=col>publicationItems</th></tr>\n",
       "\t<tr><th scope=col>&lt;chr&gt;</th><th scope=col>&lt;chr&gt;</th><th scope=col>&lt;int&gt;</th><th scope=col>&lt;chr&gt;</th><th scope=col>&lt;int&gt;</th><th scope=col>&lt;chr&gt;</th><th scope=col>&lt;chr&gt;</th></tr>\n",
       "</thead>\n",
       "<tbody>\n",
       "\t<tr><td>EP2030891</td><td>Wed, 04 Jun 2008</td><td>0</td><td>                </td><td>39745168</td><td>B64C 1/068                                                                                                                                                                                                         </td><td>['EP 2030891 A2', 'EP 2030891 A3']                 </td></tr>\n",
       "\t<tr><td>EP2025928</td><td>Thu, 24 Jul 2008</td><td>0</td><td>                </td><td>40039666</td><td>['F03D 1/0675', 'F03D 3/062']                                                                                                                                                                                      </td><td>['EP 2025928 A2', 'EP 2025928 A3']                 </td></tr>\n",
       "\t<tr><td>EP1920908</td><td>Fri, 02 Nov 2007</td><td>1</td><td>Wed, 08 Apr 2015</td><td>39118022</td><td>['B29C 70/386', 'B29C 70/541', 'B29C 70/543', 'B29C 70/545', 'B29C 70/56']                                                                                                                                         </td><td>['EP 1920908 A1', 'EP 1920908 B1']                 </td></tr>\n",
       "\t<tr><td>EP1972896</td><td>Sat, 08 Mar 2008</td><td>1</td><td>Wed, 06 May 2015</td><td>39544979</td><td>G01C 23/00                                                                                                                                                                                                         </td><td>['EP 1972896 A2', 'EP 1972896 A3', 'EP 1972896 B1']</td></tr>\n",
       "\t<tr><td>EP2134522</td><td>Thu, 13 Mar 2008</td><td>1</td><td>Wed, 01 Mar 2017</td><td>39595708</td><td>['B29B 11/16', 'B29C 70/382', 'B29C 70/386', 'B29C 70/545', 'B65H 49/18', 'B65H 51/005', 'B65H 57/16', 'D02J 1/18', 'D04H 1/4242', 'D04H 1/60', 'D04H 1/655', 'D04H 13/00', 'D04H 3/002', 'D04H 3/04', 'D04H 3/12']</td><td>['EP 2134522 A1', 'EP 2134522 B1', 'EP 2134522 B8']</td></tr>\n",
       "\t<tr><td>EP2136979</td><td>Thu, 13 Mar 2008</td><td>1</td><td>Wed, 11 May 2016</td><td>39495747</td><td>['B29B 11/16', 'B29C 31/085', 'B29C 70/386', 'B29C 70/541', 'B29C 70/543', 'B29C 70/545']                                                                                                                          </td><td>['EP 2136979 A1', 'EP 2136979 B1']                 </td></tr>\n",
       "</tbody>\n",
       "</table>\n"
      ],
      "text/latex": [
       "A data.table: 6 × 7\n",
       "\\begin{tabular}{lllllll}\n",
       " patentNumber & applicationDate & granted & grantDate & familyID & cpcTags & publicationItems\\\\\n",
       " <chr> & <chr> & <int> & <chr> & <int> & <chr> & <chr>\\\\\n",
       "\\hline\n",
       "\t EP2030891 & Wed, 04 Jun 2008 & 0 &                  & 39745168 & B64C 1/068                                                                                                                                                                                                          & {[}'EP 2030891 A2', 'EP 2030891 A3'{]}                 \\\\\n",
       "\t EP2025928 & Thu, 24 Jul 2008 & 0 &                  & 40039666 & {[}'F03D 1/0675', 'F03D 3/062'{]}                                                                                                                                                                                       & {[}'EP 2025928 A2', 'EP 2025928 A3'{]}                 \\\\\n",
       "\t EP1920908 & Fri, 02 Nov 2007 & 1 & Wed, 08 Apr 2015 & 39118022 & {[}'B29C 70/386', 'B29C 70/541', 'B29C 70/543', 'B29C 70/545', 'B29C 70/56'{]}                                                                                                                                          & {[}'EP 1920908 A1', 'EP 1920908 B1'{]}                 \\\\\n",
       "\t EP1972896 & Sat, 08 Mar 2008 & 1 & Wed, 06 May 2015 & 39544979 & G01C 23/00                                                                                                                                                                                                          & {[}'EP 1972896 A2', 'EP 1972896 A3', 'EP 1972896 B1'{]}\\\\\n",
       "\t EP2134522 & Thu, 13 Mar 2008 & 1 & Wed, 01 Mar 2017 & 39595708 & {[}'B29B 11/16', 'B29C 70/382', 'B29C 70/386', 'B29C 70/545', 'B65H 49/18', 'B65H 51/005', 'B65H 57/16', 'D02J 1/18', 'D04H 1/4242', 'D04H 1/60', 'D04H 1/655', 'D04H 13/00', 'D04H 3/002', 'D04H 3/04', 'D04H 3/12'{]} & {[}'EP 2134522 A1', 'EP 2134522 B1', 'EP 2134522 B8'{]}\\\\\n",
       "\t EP2136979 & Thu, 13 Mar 2008 & 1 & Wed, 11 May 2016 & 39495747 & {[}'B29B 11/16', 'B29C 31/085', 'B29C 70/386', 'B29C 70/541', 'B29C 70/543', 'B29C 70/545'{]}                                                                                                                           & {[}'EP 2136979 A1', 'EP 2136979 B1'{]}                 \\\\\n",
       "\\end{tabular}\n"
      ],
      "text/markdown": [
       "\n",
       "A data.table: 6 × 7\n",
       "\n",
       "| patentNumber &lt;chr&gt; | applicationDate &lt;chr&gt; | granted &lt;int&gt; | grantDate &lt;chr&gt; | familyID &lt;int&gt; | cpcTags &lt;chr&gt; | publicationItems &lt;chr&gt; |\n",
       "|---|---|---|---|---|---|---|\n",
       "| EP2030891 | Wed, 04 Jun 2008 | 0 | <!----> | 39745168 | B64C 1/068                                                                                                                                                                                                          | ['EP 2030891 A2', 'EP 2030891 A3']                  |\n",
       "| EP2025928 | Thu, 24 Jul 2008 | 0 | <!----> | 40039666 | ['F03D 1/0675', 'F03D 3/062']                                                                                                                                                                                       | ['EP 2025928 A2', 'EP 2025928 A3']                  |\n",
       "| EP1920908 | Fri, 02 Nov 2007 | 1 | Wed, 08 Apr 2015 | 39118022 | ['B29C 70/386', 'B29C 70/541', 'B29C 70/543', 'B29C 70/545', 'B29C 70/56']                                                                                                                                          | ['EP 1920908 A1', 'EP 1920908 B1']                  |\n",
       "| EP1972896 | Sat, 08 Mar 2008 | 1 | Wed, 06 May 2015 | 39544979 | G01C 23/00                                                                                                                                                                                                          | ['EP 1972896 A2', 'EP 1972896 A3', 'EP 1972896 B1'] |\n",
       "| EP2134522 | Thu, 13 Mar 2008 | 1 | Wed, 01 Mar 2017 | 39595708 | ['B29B 11/16', 'B29C 70/382', 'B29C 70/386', 'B29C 70/545', 'B65H 49/18', 'B65H 51/005', 'B65H 57/16', 'D02J 1/18', 'D04H 1/4242', 'D04H 1/60', 'D04H 1/655', 'D04H 13/00', 'D04H 3/002', 'D04H 3/04', 'D04H 3/12'] | ['EP 2134522 A1', 'EP 2134522 B1', 'EP 2134522 B8'] |\n",
       "| EP2136979 | Thu, 13 Mar 2008 | 1 | Wed, 11 May 2016 | 39495747 | ['B29B 11/16', 'B29C 31/085', 'B29C 70/386', 'B29C 70/541', 'B29C 70/543', 'B29C 70/545']                                                                                                                           | ['EP 2136979 A1', 'EP 2136979 B1']                  |\n",
       "\n"
      ],
      "text/plain": [
       "  patentNumber applicationDate  granted grantDate        familyID\n",
       "1 EP2030891    Wed, 04 Jun 2008 0                        39745168\n",
       "2 EP2025928    Thu, 24 Jul 2008 0                        40039666\n",
       "3 EP1920908    Fri, 02 Nov 2007 1       Wed, 08 Apr 2015 39118022\n",
       "4 EP1972896    Sat, 08 Mar 2008 1       Wed, 06 May 2015 39544979\n",
       "5 EP2134522    Thu, 13 Mar 2008 1       Wed, 01 Mar 2017 39595708\n",
       "6 EP2136979    Thu, 13 Mar 2008 1       Wed, 11 May 2016 39495747\n",
       "  cpcTags                                                                                                                                                                                                            \n",
       "1 B64C 1/068                                                                                                                                                                                                         \n",
       "2 ['F03D 1/0675', 'F03D 3/062']                                                                                                                                                                                      \n",
       "3 ['B29C 70/386', 'B29C 70/541', 'B29C 70/543', 'B29C 70/545', 'B29C 70/56']                                                                                                                                         \n",
       "4 G01C 23/00                                                                                                                                                                                                         \n",
       "5 ['B29B 11/16', 'B29C 70/382', 'B29C 70/386', 'B29C 70/545', 'B65H 49/18', 'B65H 51/005', 'B65H 57/16', 'D02J 1/18', 'D04H 1/4242', 'D04H 1/60', 'D04H 1/655', 'D04H 13/00', 'D04H 3/002', 'D04H 3/04', 'D04H 3/12']\n",
       "6 ['B29B 11/16', 'B29C 31/085', 'B29C 70/386', 'B29C 70/541', 'B29C 70/543', 'B29C 70/545']                                                                                                                          \n",
       "  publicationItems                                   \n",
       "1 ['EP 2030891 A2', 'EP 2030891 A3']                 \n",
       "2 ['EP 2025928 A2', 'EP 2025928 A3']                 \n",
       "3 ['EP 1920908 A1', 'EP 1920908 B1']                 \n",
       "4 ['EP 1972896 A2', 'EP 1972896 A3', 'EP 1972896 B1']\n",
       "5 ['EP 2134522 A1', 'EP 2134522 B1', 'EP 2134522 B8']\n",
       "6 ['EP 2136979 A1', 'EP 2136979 B1']                 "
      ]
     },
     "metadata": {},
     "output_type": "display_data"
    }
   ],
   "source": [
    "head(airbus_ep_application)"
   ]
  },
  {
   "cell_type": "code",
   "execution_count": 53,
   "metadata": {
    "vscode": {
     "languageId": "r"
    }
   },
   "outputs": [],
   "source": [
    "airbus_ep_publications <- fread('./data/airbus_ep_publications.csv')"
   ]
  },
  {
   "cell_type": "code",
   "execution_count": 54,
   "metadata": {
    "vscode": {
     "languageId": "r"
    }
   },
   "outputs": [
    {
     "data": {
      "text/html": [
       "<style>\n",
       ".list-inline {list-style: none; margin:0; padding: 0}\n",
       ".list-inline>li {display: inline-block}\n",
       ".list-inline>li:not(:last-child)::after {content: \"\\00b7\"; padding: 0 .5ex}\n",
       "</style>\n",
       "<ol class=list-inline><li>539</li><li>5</li></ol>\n"
      ],
      "text/latex": [
       "\\begin{enumerate*}\n",
       "\\item 539\n",
       "\\item 5\n",
       "\\end{enumerate*}\n"
      ],
      "text/markdown": [
       "1. 539\n",
       "2. 5\n",
       "\n",
       "\n"
      ],
      "text/plain": [
       "[1] 539   5"
      ]
     },
     "metadata": {},
     "output_type": "display_data"
    }
   ],
   "source": [
    "dim(airbus_ep_publications)"
   ]
  },
  {
   "cell_type": "code",
   "execution_count": 55,
   "metadata": {
    "vscode": {
     "languageId": "r"
    }
   },
   "outputs": [
    {
     "data": {
      "text/html": [
       "<table class=\"dataframe\">\n",
       "<caption>A data.table: 6 × 5</caption>\n",
       "<thead>\n",
       "\t<tr><th scope=col>patentNumber</th><th scope=col>publicationDate</th><th scope=col>priorityNumber</th><th scope=col>language</th><th scope=col>ipc</th></tr>\n",
       "\t<tr><th scope=col>&lt;chr&gt;</th><th scope=col>&lt;chr&gt;</th><th scope=col>&lt;chr&gt;</th><th scope=col>&lt;chr&gt;</th><th scope=col>&lt;chr&gt;</th></tr>\n",
       "</thead>\n",
       "<tbody>\n",
       "\t<tr><td>EP1920908</td><td>Wed, 08 Apr 2015</td><td>DE/102006052592</td><td>de</td><td>['B29C 70/38', 'B29C 70/54', 'B29C 70/56']                                                                                                                                                                      </td></tr>\n",
       "\t<tr><td>EP1972896</td><td>Wed, 06 May 2015</td><td>DE/102007014015</td><td>de</td><td>['B64D 45/08', 'G01C 23/00']                                                                                                                                                                                    </td></tr>\n",
       "\t<tr><td>EP2134522</td><td>Wed, 01 Mar 2017</td><td>DE/102007012608</td><td>de</td><td>['B29B 11/16', 'B29C 70/20', 'B29C 70/38', 'B29C 70/54', 'B65H 49/18', 'B65H 51/005', 'B65H 57/16', 'D02J 1/18', 'D04H 1/4242', 'D04H 1/60', 'D04H 1/655', 'D04H 13/00', 'D04H 3/002', 'D04H 3/04', 'D04H 3/12']</td></tr>\n",
       "\t<tr><td>EP2136979</td><td>Wed, 11 May 2016</td><td>DE/102007012609</td><td>de</td><td>['B29B 11/16', 'B29C 70/38', 'B29C 70/54']                                                                                                                                                                      </td></tr>\n",
       "\t<tr><td>EP1976108</td><td>Wed, 21 Oct 2020</td><td>DE/102007015302</td><td>de</td><td>['H02M 3/337', 'H02M 7/5387']                                                                                                                                                                                   </td></tr>\n",
       "\t<tr><td>EP2039604</td><td>Wed, 01 Mar 2017</td><td>DE/102007045205</td><td>de</td><td>['B64D 1/04', 'F41A 9/09', 'G01B 7/00', 'G01B 7/14', 'G01S 5/16']                                                                                                                                               </td></tr>\n",
       "</tbody>\n",
       "</table>\n"
      ],
      "text/latex": [
       "A data.table: 6 × 5\n",
       "\\begin{tabular}{lllll}\n",
       " patentNumber & publicationDate & priorityNumber & language & ipc\\\\\n",
       " <chr> & <chr> & <chr> & <chr> & <chr>\\\\\n",
       "\\hline\n",
       "\t EP1920908 & Wed, 08 Apr 2015 & DE/102006052592 & de & {[}'B29C 70/38', 'B29C 70/54', 'B29C 70/56'{]}                                                                                                                                                                      \\\\\n",
       "\t EP1972896 & Wed, 06 May 2015 & DE/102007014015 & de & {[}'B64D 45/08', 'G01C 23/00'{]}                                                                                                                                                                                    \\\\\n",
       "\t EP2134522 & Wed, 01 Mar 2017 & DE/102007012608 & de & {[}'B29B 11/16', 'B29C 70/20', 'B29C 70/38', 'B29C 70/54', 'B65H 49/18', 'B65H 51/005', 'B65H 57/16', 'D02J 1/18', 'D04H 1/4242', 'D04H 1/60', 'D04H 1/655', 'D04H 13/00', 'D04H 3/002', 'D04H 3/04', 'D04H 3/12'{]}\\\\\n",
       "\t EP2136979 & Wed, 11 May 2016 & DE/102007012609 & de & {[}'B29B 11/16', 'B29C 70/38', 'B29C 70/54'{]}                                                                                                                                                                      \\\\\n",
       "\t EP1976108 & Wed, 21 Oct 2020 & DE/102007015302 & de & {[}'H02M 3/337', 'H02M 7/5387'{]}                                                                                                                                                                                   \\\\\n",
       "\t EP2039604 & Wed, 01 Mar 2017 & DE/102007045205 & de & {[}'B64D 1/04', 'F41A 9/09', 'G01B 7/00', 'G01B 7/14', 'G01S 5/16'{]}                                                                                                                                               \\\\\n",
       "\\end{tabular}\n"
      ],
      "text/markdown": [
       "\n",
       "A data.table: 6 × 5\n",
       "\n",
       "| patentNumber &lt;chr&gt; | publicationDate &lt;chr&gt; | priorityNumber &lt;chr&gt; | language &lt;chr&gt; | ipc &lt;chr&gt; |\n",
       "|---|---|---|---|---|\n",
       "| EP1920908 | Wed, 08 Apr 2015 | DE/102006052592 | de | ['B29C 70/38', 'B29C 70/54', 'B29C 70/56']                                                                                                                                                                       |\n",
       "| EP1972896 | Wed, 06 May 2015 | DE/102007014015 | de | ['B64D 45/08', 'G01C 23/00']                                                                                                                                                                                     |\n",
       "| EP2134522 | Wed, 01 Mar 2017 | DE/102007012608 | de | ['B29B 11/16', 'B29C 70/20', 'B29C 70/38', 'B29C 70/54', 'B65H 49/18', 'B65H 51/005', 'B65H 57/16', 'D02J 1/18', 'D04H 1/4242', 'D04H 1/60', 'D04H 1/655', 'D04H 13/00', 'D04H 3/002', 'D04H 3/04', 'D04H 3/12'] |\n",
       "| EP2136979 | Wed, 11 May 2016 | DE/102007012609 | de | ['B29B 11/16', 'B29C 70/38', 'B29C 70/54']                                                                                                                                                                       |\n",
       "| EP1976108 | Wed, 21 Oct 2020 | DE/102007015302 | de | ['H02M 3/337', 'H02M 7/5387']                                                                                                                                                                                    |\n",
       "| EP2039604 | Wed, 01 Mar 2017 | DE/102007045205 | de | ['B64D 1/04', 'F41A 9/09', 'G01B 7/00', 'G01B 7/14', 'G01S 5/16']                                                                                                                                                |\n",
       "\n"
      ],
      "text/plain": [
       "  patentNumber publicationDate  priorityNumber  language\n",
       "1 EP1920908    Wed, 08 Apr 2015 DE/102006052592 de      \n",
       "2 EP1972896    Wed, 06 May 2015 DE/102007014015 de      \n",
       "3 EP2134522    Wed, 01 Mar 2017 DE/102007012608 de      \n",
       "4 EP2136979    Wed, 11 May 2016 DE/102007012609 de      \n",
       "5 EP1976108    Wed, 21 Oct 2020 DE/102007015302 de      \n",
       "6 EP2039604    Wed, 01 Mar 2017 DE/102007045205 de      \n",
       "  ipc                                                                                                                                                                                                             \n",
       "1 ['B29C 70/38', 'B29C 70/54', 'B29C 70/56']                                                                                                                                                                      \n",
       "2 ['B64D 45/08', 'G01C 23/00']                                                                                                                                                                                    \n",
       "3 ['B29B 11/16', 'B29C 70/20', 'B29C 70/38', 'B29C 70/54', 'B65H 49/18', 'B65H 51/005', 'B65H 57/16', 'D02J 1/18', 'D04H 1/4242', 'D04H 1/60', 'D04H 1/655', 'D04H 13/00', 'D04H 3/002', 'D04H 3/04', 'D04H 3/12']\n",
       "4 ['B29B 11/16', 'B29C 70/38', 'B29C 70/54']                                                                                                                                                                      \n",
       "5 ['H02M 3/337', 'H02M 7/5387']                                                                                                                                                                                   \n",
       "6 ['B64D 1/04', 'F41A 9/09', 'G01B 7/00', 'G01B 7/14', 'G01S 5/16']                                                                                                                                               "
      ]
     },
     "metadata": {},
     "output_type": "display_data"
    }
   ],
   "source": [
    "head(airbus_ep_publications)"
   ]
  },
  {
   "cell_type": "code",
   "execution_count": 13,
   "metadata": {
    "vscode": {
     "languageId": "r"
    }
   },
   "outputs": [
    {
     "data": {
      "text/html": [
       "<table class=\"dataframe\">\n",
       "<caption>A data.table: 6 × 9</caption>\n",
       "<thead>\n",
       "\t<tr><th scope=col>patentNumber</th><th scope=col>applicationDate</th><th scope=col>granted</th><th scope=col>grantDate</th><th scope=col>familyID</th><th scope=col>cpcTags</th><th scope=col>publicationItems</th><th scope=col>date</th><th scope=col>year</th></tr>\n",
       "\t<tr><th scope=col>&lt;chr&gt;</th><th scope=col>&lt;chr&gt;</th><th scope=col>&lt;int&gt;</th><th scope=col>&lt;chr&gt;</th><th scope=col>&lt;int&gt;</th><th scope=col>&lt;chr&gt;</th><th scope=col>&lt;chr&gt;</th><th scope=col>&lt;chr&gt;</th><th scope=col>&lt;chr&gt;</th></tr>\n",
       "</thead>\n",
       "<tbody>\n",
       "\t<tr><td>EP2030891</td><td>Wed, 04 Jun 2008</td><td>0</td><td>                </td><td>39745168</td><td>B64C 1/068                                                                                                                                                                                                         </td><td>['EP 2030891 A2', 'EP 2030891 A3']                 </td><td> 04 Jun 2008</td><td>2008</td></tr>\n",
       "\t<tr><td>EP2025928</td><td>Thu, 24 Jul 2008</td><td>0</td><td>                </td><td>40039666</td><td>['F03D 1/0675', 'F03D 3/062']                                                                                                                                                                                      </td><td>['EP 2025928 A2', 'EP 2025928 A3']                 </td><td> 24 Jul 2008</td><td>2008</td></tr>\n",
       "\t<tr><td>EP1920908</td><td>Fri, 02 Nov 2007</td><td>1</td><td>Wed, 08 Apr 2015</td><td>39118022</td><td>['B29C 70/386', 'B29C 70/541', 'B29C 70/543', 'B29C 70/545', 'B29C 70/56']                                                                                                                                         </td><td>['EP 1920908 A1', 'EP 1920908 B1']                 </td><td> 02 Nov 2007</td><td>2007</td></tr>\n",
       "\t<tr><td>EP1972896</td><td>Sat, 08 Mar 2008</td><td>1</td><td>Wed, 06 May 2015</td><td>39544979</td><td>G01C 23/00                                                                                                                                                                                                         </td><td>['EP 1972896 A2', 'EP 1972896 A3', 'EP 1972896 B1']</td><td> 08 Mar 2008</td><td>2008</td></tr>\n",
       "\t<tr><td>EP2134522</td><td>Thu, 13 Mar 2008</td><td>1</td><td>Wed, 01 Mar 2017</td><td>39595708</td><td>['B29B 11/16', 'B29C 70/382', 'B29C 70/386', 'B29C 70/545', 'B65H 49/18', 'B65H 51/005', 'B65H 57/16', 'D02J 1/18', 'D04H 1/4242', 'D04H 1/60', 'D04H 1/655', 'D04H 13/00', 'D04H 3/002', 'D04H 3/04', 'D04H 3/12']</td><td>['EP 2134522 A1', 'EP 2134522 B1', 'EP 2134522 B8']</td><td> 13 Mar 2008</td><td>2008</td></tr>\n",
       "\t<tr><td>EP2136979</td><td>Thu, 13 Mar 2008</td><td>1</td><td>Wed, 11 May 2016</td><td>39495747</td><td>['B29B 11/16', 'B29C 31/085', 'B29C 70/386', 'B29C 70/541', 'B29C 70/543', 'B29C 70/545']                                                                                                                          </td><td>['EP 2136979 A1', 'EP 2136979 B1']                 </td><td> 13 Mar 2008</td><td>2008</td></tr>\n",
       "</tbody>\n",
       "</table>\n"
      ],
      "text/latex": [
       "A data.table: 6 × 9\n",
       "\\begin{tabular}{lllllllll}\n",
       " patentNumber & applicationDate & granted & grantDate & familyID & cpcTags & publicationItems & date & year\\\\\n",
       " <chr> & <chr> & <int> & <chr> & <int> & <chr> & <chr> & <chr> & <chr>\\\\\n",
       "\\hline\n",
       "\t EP2030891 & Wed, 04 Jun 2008 & 0 &                  & 39745168 & B64C 1/068                                                                                                                                                                                                          & {[}'EP 2030891 A2', 'EP 2030891 A3'{]}                  &  04 Jun 2008 & 2008\\\\\n",
       "\t EP2025928 & Thu, 24 Jul 2008 & 0 &                  & 40039666 & {[}'F03D 1/0675', 'F03D 3/062'{]}                                                                                                                                                                                       & {[}'EP 2025928 A2', 'EP 2025928 A3'{]}                  &  24 Jul 2008 & 2008\\\\\n",
       "\t EP1920908 & Fri, 02 Nov 2007 & 1 & Wed, 08 Apr 2015 & 39118022 & {[}'B29C 70/386', 'B29C 70/541', 'B29C 70/543', 'B29C 70/545', 'B29C 70/56'{]}                                                                                                                                          & {[}'EP 1920908 A1', 'EP 1920908 B1'{]}                  &  02 Nov 2007 & 2007\\\\\n",
       "\t EP1972896 & Sat, 08 Mar 2008 & 1 & Wed, 06 May 2015 & 39544979 & G01C 23/00                                                                                                                                                                                                          & {[}'EP 1972896 A2', 'EP 1972896 A3', 'EP 1972896 B1'{]} &  08 Mar 2008 & 2008\\\\\n",
       "\t EP2134522 & Thu, 13 Mar 2008 & 1 & Wed, 01 Mar 2017 & 39595708 & {[}'B29B 11/16', 'B29C 70/382', 'B29C 70/386', 'B29C 70/545', 'B65H 49/18', 'B65H 51/005', 'B65H 57/16', 'D02J 1/18', 'D04H 1/4242', 'D04H 1/60', 'D04H 1/655', 'D04H 13/00', 'D04H 3/002', 'D04H 3/04', 'D04H 3/12'{]} & {[}'EP 2134522 A1', 'EP 2134522 B1', 'EP 2134522 B8'{]} &  13 Mar 2008 & 2008\\\\\n",
       "\t EP2136979 & Thu, 13 Mar 2008 & 1 & Wed, 11 May 2016 & 39495747 & {[}'B29B 11/16', 'B29C 31/085', 'B29C 70/386', 'B29C 70/541', 'B29C 70/543', 'B29C 70/545'{]}                                                                                                                           & {[}'EP 2136979 A1', 'EP 2136979 B1'{]}                  &  13 Mar 2008 & 2008\\\\\n",
       "\\end{tabular}\n"
      ],
      "text/markdown": [
       "\n",
       "A data.table: 6 × 9\n",
       "\n",
       "| patentNumber &lt;chr&gt; | applicationDate &lt;chr&gt; | granted &lt;int&gt; | grantDate &lt;chr&gt; | familyID &lt;int&gt; | cpcTags &lt;chr&gt; | publicationItems &lt;chr&gt; | date &lt;chr&gt; | year &lt;chr&gt; |\n",
       "|---|---|---|---|---|---|---|---|---|\n",
       "| EP2030891 | Wed, 04 Jun 2008 | 0 | <!----> | 39745168 | B64C 1/068                                                                                                                                                                                                          | ['EP 2030891 A2', 'EP 2030891 A3']                  |  04 Jun 2008 | 2008 |\n",
       "| EP2025928 | Thu, 24 Jul 2008 | 0 | <!----> | 40039666 | ['F03D 1/0675', 'F03D 3/062']                                                                                                                                                                                       | ['EP 2025928 A2', 'EP 2025928 A3']                  |  24 Jul 2008 | 2008 |\n",
       "| EP1920908 | Fri, 02 Nov 2007 | 1 | Wed, 08 Apr 2015 | 39118022 | ['B29C 70/386', 'B29C 70/541', 'B29C 70/543', 'B29C 70/545', 'B29C 70/56']                                                                                                                                          | ['EP 1920908 A1', 'EP 1920908 B1']                  |  02 Nov 2007 | 2007 |\n",
       "| EP1972896 | Sat, 08 Mar 2008 | 1 | Wed, 06 May 2015 | 39544979 | G01C 23/00                                                                                                                                                                                                          | ['EP 1972896 A2', 'EP 1972896 A3', 'EP 1972896 B1'] |  08 Mar 2008 | 2008 |\n",
       "| EP2134522 | Thu, 13 Mar 2008 | 1 | Wed, 01 Mar 2017 | 39595708 | ['B29B 11/16', 'B29C 70/382', 'B29C 70/386', 'B29C 70/545', 'B65H 49/18', 'B65H 51/005', 'B65H 57/16', 'D02J 1/18', 'D04H 1/4242', 'D04H 1/60', 'D04H 1/655', 'D04H 13/00', 'D04H 3/002', 'D04H 3/04', 'D04H 3/12'] | ['EP 2134522 A1', 'EP 2134522 B1', 'EP 2134522 B8'] |  13 Mar 2008 | 2008 |\n",
       "| EP2136979 | Thu, 13 Mar 2008 | 1 | Wed, 11 May 2016 | 39495747 | ['B29B 11/16', 'B29C 31/085', 'B29C 70/386', 'B29C 70/541', 'B29C 70/543', 'B29C 70/545']                                                                                                                           | ['EP 2136979 A1', 'EP 2136979 B1']                  |  13 Mar 2008 | 2008 |\n",
       "\n"
      ],
      "text/plain": [
       "  patentNumber applicationDate  granted grantDate        familyID\n",
       "1 EP2030891    Wed, 04 Jun 2008 0                        39745168\n",
       "2 EP2025928    Thu, 24 Jul 2008 0                        40039666\n",
       "3 EP1920908    Fri, 02 Nov 2007 1       Wed, 08 Apr 2015 39118022\n",
       "4 EP1972896    Sat, 08 Mar 2008 1       Wed, 06 May 2015 39544979\n",
       "5 EP2134522    Thu, 13 Mar 2008 1       Wed, 01 Mar 2017 39595708\n",
       "6 EP2136979    Thu, 13 Mar 2008 1       Wed, 11 May 2016 39495747\n",
       "  cpcTags                                                                                                                                                                                                            \n",
       "1 B64C 1/068                                                                                                                                                                                                         \n",
       "2 ['F03D 1/0675', 'F03D 3/062']                                                                                                                                                                                      \n",
       "3 ['B29C 70/386', 'B29C 70/541', 'B29C 70/543', 'B29C 70/545', 'B29C 70/56']                                                                                                                                         \n",
       "4 G01C 23/00                                                                                                                                                                                                         \n",
       "5 ['B29B 11/16', 'B29C 70/382', 'B29C 70/386', 'B29C 70/545', 'B65H 49/18', 'B65H 51/005', 'B65H 57/16', 'D02J 1/18', 'D04H 1/4242', 'D04H 1/60', 'D04H 1/655', 'D04H 13/00', 'D04H 3/002', 'D04H 3/04', 'D04H 3/12']\n",
       "6 ['B29B 11/16', 'B29C 31/085', 'B29C 70/386', 'B29C 70/541', 'B29C 70/543', 'B29C 70/545']                                                                                                                          \n",
       "  publicationItems                                    date         year\n",
       "1 ['EP 2030891 A2', 'EP 2030891 A3']                   04 Jun 2008 2008\n",
       "2 ['EP 2025928 A2', 'EP 2025928 A3']                   24 Jul 2008 2008\n",
       "3 ['EP 1920908 A1', 'EP 1920908 B1']                   02 Nov 2007 2007\n",
       "4 ['EP 1972896 A2', 'EP 1972896 A3', 'EP 1972896 B1']  08 Mar 2008 2008\n",
       "5 ['EP 2134522 A1', 'EP 2134522 B1', 'EP 2134522 B8']  13 Mar 2008 2008\n",
       "6 ['EP 2136979 A1', 'EP 2136979 B1']                   13 Mar 2008 2008"
      ]
     },
     "metadata": {},
     "output_type": "display_data"
    }
   ],
   "source": [
    "airbus_ep_application %>%\n",
    "    .[, date := tstrsplit(applicationDate, split=',', keep=c(2))] %>%\n",
    "    .[, year := tstrsplit(date, split=' ', keep=c(4))] %>%\n",
    "    head()\n",
    "    "
   ]
  },
  {
   "cell_type": "code",
   "execution_count": 56,
   "metadata": {
    "vscode": {
     "languageId": "r"
    }
   },
   "outputs": [],
   "source": [
    "airbus_prior <- fread('./data/airbus_ep_pub_prior.csv')"
   ]
  },
  {
   "cell_type": "code",
   "execution_count": 57,
   "metadata": {
    "vscode": {
     "languageId": "r"
    }
   },
   "outputs": [
    {
     "data": {
      "text/html": [
       "<style>\n",
       ".list-inline {list-style: none; margin:0; padding: 0}\n",
       ".list-inline>li {display: inline-block}\n",
       ".list-inline>li:not(:last-child)::after {content: \"\\00b7\"; padding: 0 .5ex}\n",
       "</style>\n",
       "<ol class=list-inline><li>539</li><li>6</li></ol>\n"
      ],
      "text/latex": [
       "\\begin{enumerate*}\n",
       "\\item 539\n",
       "\\item 6\n",
       "\\end{enumerate*}\n"
      ],
      "text/markdown": [
       "1. 539\n",
       "2. 6\n",
       "\n",
       "\n"
      ],
      "text/plain": [
       "[1] 539   6"
      ]
     },
     "metadata": {},
     "output_type": "display_data"
    }
   ],
   "source": [
    "dim(airbus_prior)"
   ]
  },
  {
   "cell_type": "code",
   "execution_count": 86,
   "metadata": {
    "vscode": {
     "languageId": "r"
    }
   },
   "outputs": [
    {
     "data": {
      "text/html": [
       "<style>\n",
       ".list-inline {list-style: none; margin:0; padding: 0}\n",
       ".list-inline>li {display: inline-block}\n",
       ".list-inline>li:not(:last-child)::after {content: \"\\00b7\"; padding: 0 .5ex}\n",
       "</style>\n",
       "<ol class=list-inline><li>539</li><li>8</li></ol>\n"
      ],
      "text/latex": [
       "\\begin{enumerate*}\n",
       "\\item 539\n",
       "\\item 8\n",
       "\\end{enumerate*}\n"
      ],
      "text/markdown": [
       "1. 539\n",
       "2. 8\n",
       "\n",
       "\n"
      ],
      "text/plain": [
       "[1] 539   8"
      ]
     },
     "metadata": {},
     "output_type": "display_data"
    }
   ],
   "source": [
    "foo <- fread(\"./data/airbus_app_prior.csv\")\n",
    "dim(foo)"
   ]
  },
  {
   "cell_type": "code",
   "execution_count": null,
   "metadata": {
    "vscode": {
     "languageId": "r"
    }
   },
   "outputs": [],
   "source": [
    "get_date <- function(date_string) {\n",
    "    \n",
    "}"
   ]
  },
  {
   "cell_type": "code",
   "execution_count": 99,
   "metadata": {
    "vscode": {
     "languageId": "r"
    }
   },
   "outputs": [],
   "source": [
    "substrRight <- function(x, n=4){\n",
    "  substr(x, nchar(x)-n+1, nchar(x))\n",
    "}"
   ]
  },
  {
   "cell_type": "code",
   "execution_count": 100,
   "metadata": {
    "vscode": {
     "languageId": "r"
    }
   },
   "outputs": [
    {
     "data": {
      "text/html": [
       "'2007'"
      ],
      "text/latex": [
       "'2007'"
      ],
      "text/markdown": [
       "'2007'"
      ],
      "text/plain": [
       "[1] \"2007\""
      ]
     },
     "metadata": {},
     "output_type": "display_data"
    }
   ],
   "source": [
    "strfoo <- 'Fri, 02 Nov 2007'\n",
    "substrRight(strfoo)"
   ]
  },
  {
   "cell_type": "code",
   "execution_count": 135,
   "metadata": {
    "vscode": {
     "languageId": "r"
    }
   },
   "outputs": [],
   "source": [
    "foo %>%\n",
    "    .[, priorityYear := lapply(priorityDate, substrRight)] %>%\n",
    "    .[, applicationYear := lapply(applicationDate, substrRight)] %>%\n",
    "    .[, grantYear := lapply(grantDate, substrRight)] %>%\n",
    "    as_tibble() %>%\n",
    "    select(priorityYear, applicationYear, grantYear) %>%\n",
    "    group_by(grantYear) %>%\n",
    "    summarize(count=n()) -> gy_count"
   ]
  },
  {
   "cell_type": "code",
   "execution_count": 145,
   "metadata": {
    "vscode": {
     "languageId": "r"
    }
   },
   "outputs": [],
   "source": [
    "names(ay_count)[1] <- 'Year'\n",
    "names(py_count)[1] <- 'Year'\n",
    "names(gy_count)[1] <- 'Year'"
   ]
  },
  {
   "cell_type": "code",
   "execution_count": 160,
   "metadata": {
    "vscode": {
     "languageId": "r"
    }
   },
   "outputs": [
    {
     "data": {
      "text/html": [
       "<table class=\"dataframe\">\n",
       "<caption>A tibble: 6 × 4</caption>\n",
       "<thead>\n",
       "\t<tr><th scope=col>Year</th><th scope=col>priorityDate</th><th scope=col>applicationDate</th><th scope=col>grantedDate</th></tr>\n",
       "\t<tr><th scope=col>&lt;list&gt;</th><th scope=col>&lt;int&gt;</th><th scope=col>&lt;int&gt;</th><th scope=col>&lt;int&gt;</th></tr>\n",
       "</thead>\n",
       "<tbody>\n",
       "\t<tr><td>2006</td><td> 3</td><td>NA</td><td>NA</td></tr>\n",
       "\t<tr><td>2007</td><td>13</td><td> 3</td><td>NA</td></tr>\n",
       "\t<tr><td>2003</td><td> 1</td><td>NA</td><td>NA</td></tr>\n",
       "\t<tr><td>2004</td><td> 1</td><td> 1</td><td>NA</td></tr>\n",
       "\t<tr><td>2008</td><td>11</td><td>13</td><td>NA</td></tr>\n",
       "\t<tr><td>2009</td><td>16</td><td>11</td><td>NA</td></tr>\n",
       "</tbody>\n",
       "</table>\n"
      ],
      "text/latex": [
       "A tibble: 6 × 4\n",
       "\\begin{tabular}{llll}\n",
       " Year & priorityDate & applicationDate & grantedDate\\\\\n",
       " <list> & <int> & <int> & <int>\\\\\n",
       "\\hline\n",
       "\t 2006 &  3 & NA & NA\\\\\n",
       "\t 2007 & 13 &  3 & NA\\\\\n",
       "\t 2003 &  1 & NA & NA\\\\\n",
       "\t 2004 &  1 &  1 & NA\\\\\n",
       "\t 2008 & 11 & 13 & NA\\\\\n",
       "\t 2009 & 16 & 11 & NA\\\\\n",
       "\\end{tabular}\n"
      ],
      "text/markdown": [
       "\n",
       "A tibble: 6 × 4\n",
       "\n",
       "| Year &lt;list&gt; | priorityDate &lt;int&gt; | applicationDate &lt;int&gt; | grantedDate &lt;int&gt; |\n",
       "|---|---|---|---|\n",
       "| 2006 |  3 | NA | NA |\n",
       "| 2007 | 13 |  3 | NA |\n",
       "| 2003 |  1 | NA | NA |\n",
       "| 2004 |  1 |  1 | NA |\n",
       "| 2008 | 11 | 13 | NA |\n",
       "| 2009 | 16 | 11 | NA |\n",
       "\n"
      ],
      "text/plain": [
       "  Year priorityDate applicationDate grantedDate\n",
       "1 2006  3           NA              NA         \n",
       "2 2007 13            3              NA         \n",
       "3 2003  1           NA              NA         \n",
       "4 2004  1            1              NA         \n",
       "5 2008 11           13              NA         \n",
       "6 2009 16           11              NA         "
      ]
     },
     "metadata": {},
     "output_type": "display_data"
    }
   ],
   "source": [
    "fj1 <- full_join(py_count, ay_count, by='Year') \n",
    "fj2 <- full_join(fj1, gy_count, by='Year')\n",
    "names(fj2) <- c('Year', 'priorityDate', 'applicationDate', 'grantedDate')\n",
    "head(fj2)"
   ]
  },
  {
   "cell_type": "code",
   "execution_count": 161,
   "metadata": {
    "vscode": {
     "languageId": "r"
    }
   },
   "outputs": [],
   "source": [
    "fwrite(fj2, './data/fj2.csv')"
   ]
  },
  {
   "attachments": {},
   "cell_type": "markdown",
   "metadata": {},
   "source": [
    "## EPO Citations"
   ]
  },
  {
   "cell_type": "code",
   "execution_count": 15,
   "metadata": {
    "vscode": {
     "languageId": "r"
    }
   },
   "outputs": [],
   "source": [
    "epo_citations <- fread('./data/202208_EPO_CITATIONS.txt')"
   ]
  },
  {
   "cell_type": "code",
   "execution_count": 16,
   "metadata": {
    "vscode": {
     "languageId": "r"
    }
   },
   "outputs": [
    {
     "data": {
      "text/html": [
       "<style>\n",
       ".list-inline {list-style: none; margin:0; padding: 0}\n",
       ".list-inline>li {display: inline-block}\n",
       ".list-inline>li:not(:last-child)::after {content: \"\\00b7\"; padding: 0 .5ex}\n",
       "</style>\n",
       "<ol class=list-inline><li>12965763</li><li>15</li></ol>\n"
      ],
      "text/latex": [
       "\\begin{enumerate*}\n",
       "\\item 12965763\n",
       "\\item 15\n",
       "\\end{enumerate*}\n"
      ],
      "text/markdown": [
       "1. 12965763\n",
       "2. 15\n",
       "\n",
       "\n"
      ],
      "text/plain": [
       "[1] 12965763       15"
      ]
     },
     "metadata": {},
     "output_type": "display_data"
    }
   ],
   "source": [
    "dim(epo_citations)"
   ]
  },
  {
   "cell_type": "code",
   "execution_count": 17,
   "metadata": {
    "vscode": {
     "languageId": "r"
    }
   },
   "outputs": [
    {
     "data": {
      "text/html": [
       "<table class=\"dataframe\">\n",
       "<caption>A data.table: 6 × 15</caption>\n",
       "<thead>\n",
       "\t<tr><th scope=col>Citing_pub_nbr</th><th scope=col>Citing_pub_date</th><th scope=col>Citing_app_nbr</th><th scope=col>Citing_appln_id</th><th scope=col>Cited_pub_nbr</th><th scope=col>Cited_pub_date</th><th scope=col>Cited_App_auth</th><th scope=col>Cited_App_nbr</th><th scope=col>Cited_Appln_id</th><th scope=col>Cit_Total</th><th scope=col>Citn_origin</th><th scope=col>Citn_category</th><th scope=col>Citn_lag_year</th><th scope=col>Citn_lag_month</th><th scope=col>PCT_Route</th></tr>\n",
       "\t<tr><th scope=col>&lt;chr&gt;</th><th scope=col>&lt;IDate&gt;</th><th scope=col>&lt;chr&gt;</th><th scope=col>&lt;int&gt;</th><th scope=col>&lt;chr&gt;</th><th scope=col>&lt;IDate&gt;</th><th scope=col>&lt;chr&gt;</th><th scope=col>&lt;chr&gt;</th><th scope=col>&lt;int&gt;</th><th scope=col>&lt;int&gt;</th><th scope=col>&lt;chr&gt;</th><th scope=col>&lt;chr&gt;</th><th scope=col>&lt;int&gt;</th><th scope=col>&lt;int&gt;</th><th scope=col>&lt;int&gt;</th></tr>\n",
       "</thead>\n",
       "<tbody>\n",
       "\t<tr><td>EP0000001</td><td>1978-12-20</td><td>EP19780200013</td><td>16428854</td><td>DE2161506</td><td>1973-06-14</td><td>DE</td><td>DE2161506 </td><td> 9912741</td><td>7</td><td>SEA</td><td>A</td><td>5</td><td>66</td><td>0</td></tr>\n",
       "\t<tr><td>EP0000001</td><td>1978-12-20</td><td>EP19780200013</td><td>16428854</td><td>FR2025459</td><td>1970-09-11</td><td>FR</td><td>FR6942154 </td><td>19548401</td><td>7</td><td>SEA</td><td> </td><td>8</td><td>99</td><td>0</td></tr>\n",
       "\t<tr><td>EP0000001</td><td>1978-12-20</td><td>EP19780200013</td><td>16428854</td><td>US3532159</td><td>1970-10-06</td><td>US</td><td>US3532159D</td><td>49957875</td><td>7</td><td>SEA</td><td> </td><td>8</td><td>98</td><td>0</td></tr>\n",
       "\t<tr><td>EP0000001</td><td>1978-12-20</td><td>EP19780200013</td><td>16428854</td><td>US3568762</td><td>1971-03-09</td><td>US</td><td>US3568762D</td><td>50023219</td><td>7</td><td>SEA</td><td> </td><td>7</td><td>93</td><td>0</td></tr>\n",
       "\t<tr><td>EP0000001</td><td>1978-12-20</td><td>EP19780200013</td><td>16428854</td><td>US3913665</td><td>1975-10-21</td><td>US</td><td>US40265573</td><td>50609500</td><td>7</td><td>SEA</td><td> </td><td>3</td><td>38</td><td>0</td></tr>\n",
       "\t<tr><td>EP0000001</td><td>1978-12-20</td><td>EP19780200013</td><td>16428854</td><td>US4018269</td><td>1977-04-19</td><td>US</td><td>US46803374</td><td>51119449</td><td>7</td><td>SEA</td><td> </td><td>1</td><td>20</td><td>0</td></tr>\n",
       "</tbody>\n",
       "</table>\n"
      ],
      "text/latex": [
       "A data.table: 6 × 15\n",
       "\\begin{tabular}{lllllllllllllll}\n",
       " Citing\\_pub\\_nbr & Citing\\_pub\\_date & Citing\\_app\\_nbr & Citing\\_appln\\_id & Cited\\_pub\\_nbr & Cited\\_pub\\_date & Cited\\_App\\_auth & Cited\\_App\\_nbr & Cited\\_Appln\\_id & Cit\\_Total & Citn\\_origin & Citn\\_category & Citn\\_lag\\_year & Citn\\_lag\\_month & PCT\\_Route\\\\\n",
       " <chr> & <IDate> & <chr> & <int> & <chr> & <IDate> & <chr> & <chr> & <int> & <int> & <chr> & <chr> & <int> & <int> & <int>\\\\\n",
       "\\hline\n",
       "\t EP0000001 & 1978-12-20 & EP19780200013 & 16428854 & DE2161506 & 1973-06-14 & DE & DE2161506  &  9912741 & 7 & SEA & A & 5 & 66 & 0\\\\\n",
       "\t EP0000001 & 1978-12-20 & EP19780200013 & 16428854 & FR2025459 & 1970-09-11 & FR & FR6942154  & 19548401 & 7 & SEA &   & 8 & 99 & 0\\\\\n",
       "\t EP0000001 & 1978-12-20 & EP19780200013 & 16428854 & US3532159 & 1970-10-06 & US & US3532159D & 49957875 & 7 & SEA &   & 8 & 98 & 0\\\\\n",
       "\t EP0000001 & 1978-12-20 & EP19780200013 & 16428854 & US3568762 & 1971-03-09 & US & US3568762D & 50023219 & 7 & SEA &   & 7 & 93 & 0\\\\\n",
       "\t EP0000001 & 1978-12-20 & EP19780200013 & 16428854 & US3913665 & 1975-10-21 & US & US40265573 & 50609500 & 7 & SEA &   & 3 & 38 & 0\\\\\n",
       "\t EP0000001 & 1978-12-20 & EP19780200013 & 16428854 & US4018269 & 1977-04-19 & US & US46803374 & 51119449 & 7 & SEA &   & 1 & 20 & 0\\\\\n",
       "\\end{tabular}\n"
      ],
      "text/markdown": [
       "\n",
       "A data.table: 6 × 15\n",
       "\n",
       "| Citing_pub_nbr &lt;chr&gt; | Citing_pub_date &lt;IDate&gt; | Citing_app_nbr &lt;chr&gt; | Citing_appln_id &lt;int&gt; | Cited_pub_nbr &lt;chr&gt; | Cited_pub_date &lt;IDate&gt; | Cited_App_auth &lt;chr&gt; | Cited_App_nbr &lt;chr&gt; | Cited_Appln_id &lt;int&gt; | Cit_Total &lt;int&gt; | Citn_origin &lt;chr&gt; | Citn_category &lt;chr&gt; | Citn_lag_year &lt;int&gt; | Citn_lag_month &lt;int&gt; | PCT_Route &lt;int&gt; |\n",
       "|---|---|---|---|---|---|---|---|---|---|---|---|---|---|---|\n",
       "| EP0000001 | 1978-12-20 | EP19780200013 | 16428854 | DE2161506 | 1973-06-14 | DE | DE2161506  |  9912741 | 7 | SEA | A | 5 | 66 | 0 |\n",
       "| EP0000001 | 1978-12-20 | EP19780200013 | 16428854 | FR2025459 | 1970-09-11 | FR | FR6942154  | 19548401 | 7 | SEA | <!----> | 8 | 99 | 0 |\n",
       "| EP0000001 | 1978-12-20 | EP19780200013 | 16428854 | US3532159 | 1970-10-06 | US | US3532159D | 49957875 | 7 | SEA | <!----> | 8 | 98 | 0 |\n",
       "| EP0000001 | 1978-12-20 | EP19780200013 | 16428854 | US3568762 | 1971-03-09 | US | US3568762D | 50023219 | 7 | SEA | <!----> | 7 | 93 | 0 |\n",
       "| EP0000001 | 1978-12-20 | EP19780200013 | 16428854 | US3913665 | 1975-10-21 | US | US40265573 | 50609500 | 7 | SEA | <!----> | 3 | 38 | 0 |\n",
       "| EP0000001 | 1978-12-20 | EP19780200013 | 16428854 | US4018269 | 1977-04-19 | US | US46803374 | 51119449 | 7 | SEA | <!----> | 1 | 20 | 0 |\n",
       "\n"
      ],
      "text/plain": [
       "  Citing_pub_nbr Citing_pub_date Citing_app_nbr Citing_appln_id Cited_pub_nbr\n",
       "1 EP0000001      1978-12-20      EP19780200013  16428854        DE2161506    \n",
       "2 EP0000001      1978-12-20      EP19780200013  16428854        FR2025459    \n",
       "3 EP0000001      1978-12-20      EP19780200013  16428854        US3532159    \n",
       "4 EP0000001      1978-12-20      EP19780200013  16428854        US3568762    \n",
       "5 EP0000001      1978-12-20      EP19780200013  16428854        US3913665    \n",
       "6 EP0000001      1978-12-20      EP19780200013  16428854        US4018269    \n",
       "  Cited_pub_date Cited_App_auth Cited_App_nbr Cited_Appln_id Cit_Total\n",
       "1 1973-06-14     DE             DE2161506      9912741       7        \n",
       "2 1970-09-11     FR             FR6942154     19548401       7        \n",
       "3 1970-10-06     US             US3532159D    49957875       7        \n",
       "4 1971-03-09     US             US3568762D    50023219       7        \n",
       "5 1975-10-21     US             US40265573    50609500       7        \n",
       "6 1977-04-19     US             US46803374    51119449       7        \n",
       "  Citn_origin Citn_category Citn_lag_year Citn_lag_month PCT_Route\n",
       "1 SEA         A             5             66             0        \n",
       "2 SEA                       8             99             0        \n",
       "3 SEA                       8             98             0        \n",
       "4 SEA                       7             93             0        \n",
       "5 SEA                       3             38             0        \n",
       "6 SEA                       1             20             0        "
      ]
     },
     "metadata": {},
     "output_type": "display_data"
    }
   ],
   "source": [
    "head(epo_citations)"
   ]
  },
  {
   "cell_type": "code",
   "execution_count": 18,
   "metadata": {
    "vscode": {
     "languageId": "r"
    }
   },
   "outputs": [
    {
     "data": {
      "text/html": [
       "<table class=\"dataframe\">\n",
       "<caption>A data.table: 5 × 15</caption>\n",
       "<thead>\n",
       "\t<tr><th scope=col>Citing_pub_nbr</th><th scope=col>Citing_pub_date</th><th scope=col>Citing_app_nbr</th><th scope=col>Citing_appln_id</th><th scope=col>Cited_pub_nbr</th><th scope=col>Cited_pub_date</th><th scope=col>Cited_App_auth</th><th scope=col>Cited_App_nbr</th><th scope=col>Cited_Appln_id</th><th scope=col>Cit_Total</th><th scope=col>Citn_origin</th><th scope=col>Citn_category</th><th scope=col>Citn_lag_year</th><th scope=col>Citn_lag_month</th><th scope=col>PCT_Route</th></tr>\n",
       "\t<tr><th scope=col>&lt;chr&gt;</th><th scope=col>&lt;IDate&gt;</th><th scope=col>&lt;chr&gt;</th><th scope=col>&lt;int&gt;</th><th scope=col>&lt;chr&gt;</th><th scope=col>&lt;IDate&gt;</th><th scope=col>&lt;chr&gt;</th><th scope=col>&lt;chr&gt;</th><th scope=col>&lt;int&gt;</th><th scope=col>&lt;int&gt;</th><th scope=col>&lt;chr&gt;</th><th scope=col>&lt;chr&gt;</th><th scope=col>&lt;int&gt;</th><th scope=col>&lt;int&gt;</th><th scope=col>&lt;int&gt;</th></tr>\n",
       "</thead>\n",
       "<tbody>\n",
       "\t<tr><td>EP2030891</td><td>2009-03-04</td><td>EP20080010159</td><td>213</td><td>DE3141869     </td><td>1983-05-11</td><td>DE</td><td>DE3141869     </td><td>10572877</td><td>4</td><td>APP</td><td>  </td><td>26</td><td>310</td><td>0</td></tr>\n",
       "\t<tr><td>EP2030891</td><td>2009-03-04</td><td>EP20080010159</td><td>213</td><td>DE3141869     </td><td>1983-05-11</td><td>DE</td><td>DE3141869     </td><td>10572877</td><td>4</td><td>SEA</td><td>  </td><td>26</td><td>310</td><td>0</td></tr>\n",
       "\t<tr><td>EP2030891</td><td>2009-03-04</td><td>EP20080010159</td><td>213</td><td>DE3501887     </td><td>1986-07-24</td><td>DE</td><td>DE3501887     </td><td>10818969</td><td>4</td><td>SEA</td><td>XA</td><td>23</td><td>272</td><td>0</td></tr>\n",
       "\t<tr><td>EP2030891</td><td>2009-03-04</td><td>EP20080010159</td><td>213</td><td>DE102005002370</td><td>2006-07-27</td><td>DE</td><td>DE102005002370</td><td>14971442</td><td>4</td><td>SEA</td><td>Y </td><td> 3</td><td> 32</td><td>0</td></tr>\n",
       "\t<tr><td>EP2030891</td><td>2009-03-04</td><td>EP20080010159</td><td>213</td><td>DE102005045181</td><td>2007-04-05</td><td>DE</td><td>DE102005045181</td><td>15003772</td><td>4</td><td>SEA</td><td>Y </td><td> 2</td><td> 23</td><td>0</td></tr>\n",
       "</tbody>\n",
       "</table>\n"
      ],
      "text/latex": [
       "A data.table: 5 × 15\n",
       "\\begin{tabular}{lllllllllllllll}\n",
       " Citing\\_pub\\_nbr & Citing\\_pub\\_date & Citing\\_app\\_nbr & Citing\\_appln\\_id & Cited\\_pub\\_nbr & Cited\\_pub\\_date & Cited\\_App\\_auth & Cited\\_App\\_nbr & Cited\\_Appln\\_id & Cit\\_Total & Citn\\_origin & Citn\\_category & Citn\\_lag\\_year & Citn\\_lag\\_month & PCT\\_Route\\\\\n",
       " <chr> & <IDate> & <chr> & <int> & <chr> & <IDate> & <chr> & <chr> & <int> & <int> & <chr> & <chr> & <int> & <int> & <int>\\\\\n",
       "\\hline\n",
       "\t EP2030891 & 2009-03-04 & EP20080010159 & 213 & DE3141869      & 1983-05-11 & DE & DE3141869      & 10572877 & 4 & APP &    & 26 & 310 & 0\\\\\n",
       "\t EP2030891 & 2009-03-04 & EP20080010159 & 213 & DE3141869      & 1983-05-11 & DE & DE3141869      & 10572877 & 4 & SEA &    & 26 & 310 & 0\\\\\n",
       "\t EP2030891 & 2009-03-04 & EP20080010159 & 213 & DE3501887      & 1986-07-24 & DE & DE3501887      & 10818969 & 4 & SEA & XA & 23 & 272 & 0\\\\\n",
       "\t EP2030891 & 2009-03-04 & EP20080010159 & 213 & DE102005002370 & 2006-07-27 & DE & DE102005002370 & 14971442 & 4 & SEA & Y  &  3 &  32 & 0\\\\\n",
       "\t EP2030891 & 2009-03-04 & EP20080010159 & 213 & DE102005045181 & 2007-04-05 & DE & DE102005045181 & 15003772 & 4 & SEA & Y  &  2 &  23 & 0\\\\\n",
       "\\end{tabular}\n"
      ],
      "text/markdown": [
       "\n",
       "A data.table: 5 × 15\n",
       "\n",
       "| Citing_pub_nbr &lt;chr&gt; | Citing_pub_date &lt;IDate&gt; | Citing_app_nbr &lt;chr&gt; | Citing_appln_id &lt;int&gt; | Cited_pub_nbr &lt;chr&gt; | Cited_pub_date &lt;IDate&gt; | Cited_App_auth &lt;chr&gt; | Cited_App_nbr &lt;chr&gt; | Cited_Appln_id &lt;int&gt; | Cit_Total &lt;int&gt; | Citn_origin &lt;chr&gt; | Citn_category &lt;chr&gt; | Citn_lag_year &lt;int&gt; | Citn_lag_month &lt;int&gt; | PCT_Route &lt;int&gt; |\n",
       "|---|---|---|---|---|---|---|---|---|---|---|---|---|---|---|\n",
       "| EP2030891 | 2009-03-04 | EP20080010159 | 213 | DE3141869      | 1983-05-11 | DE | DE3141869      | 10572877 | 4 | APP | <!----> | 26 | 310 | 0 |\n",
       "| EP2030891 | 2009-03-04 | EP20080010159 | 213 | DE3141869      | 1983-05-11 | DE | DE3141869      | 10572877 | 4 | SEA | <!----> | 26 | 310 | 0 |\n",
       "| EP2030891 | 2009-03-04 | EP20080010159 | 213 | DE3501887      | 1986-07-24 | DE | DE3501887      | 10818969 | 4 | SEA | XA | 23 | 272 | 0 |\n",
       "| EP2030891 | 2009-03-04 | EP20080010159 | 213 | DE102005002370 | 2006-07-27 | DE | DE102005002370 | 14971442 | 4 | SEA | Y  |  3 |  32 | 0 |\n",
       "| EP2030891 | 2009-03-04 | EP20080010159 | 213 | DE102005045181 | 2007-04-05 | DE | DE102005045181 | 15003772 | 4 | SEA | Y  |  2 |  23 | 0 |\n",
       "\n"
      ],
      "text/plain": [
       "  Citing_pub_nbr Citing_pub_date Citing_app_nbr Citing_appln_id Cited_pub_nbr \n",
       "1 EP2030891      2009-03-04      EP20080010159  213             DE3141869     \n",
       "2 EP2030891      2009-03-04      EP20080010159  213             DE3141869     \n",
       "3 EP2030891      2009-03-04      EP20080010159  213             DE3501887     \n",
       "4 EP2030891      2009-03-04      EP20080010159  213             DE102005002370\n",
       "5 EP2030891      2009-03-04      EP20080010159  213             DE102005045181\n",
       "  Cited_pub_date Cited_App_auth Cited_App_nbr  Cited_Appln_id Cit_Total\n",
       "1 1983-05-11     DE             DE3141869      10572877       4        \n",
       "2 1983-05-11     DE             DE3141869      10572877       4        \n",
       "3 1986-07-24     DE             DE3501887      10818969       4        \n",
       "4 2006-07-27     DE             DE102005002370 14971442       4        \n",
       "5 2007-04-05     DE             DE102005045181 15003772       4        \n",
       "  Citn_origin Citn_category Citn_lag_year Citn_lag_month PCT_Route\n",
       "1 APP                       26            310            0        \n",
       "2 SEA                       26            310            0        \n",
       "3 SEA         XA            23            272            0        \n",
       "4 SEA         Y              3             32            0        \n",
       "5 SEA         Y              2             23            0        "
      ]
     },
     "metadata": {},
     "output_type": "display_data"
    }
   ],
   "source": [
    "epo_citations %>%\n",
    "    .[Citing_pub_nbr == 'EP2030891']"
   ]
  },
  {
   "cell_type": "code",
   "execution_count": 19,
   "metadata": {
    "vscode": {
     "languageId": "r"
    }
   },
   "outputs": [],
   "source": [
    "epo_cit_counts <- fread('./data/202208_EPO_CIT_COUNTS.txt')"
   ]
  },
  {
   "cell_type": "code",
   "execution_count": 20,
   "metadata": {
    "vscode": {
     "languageId": "r"
    }
   },
   "outputs": [
    {
     "data": {
      "text/html": [
       "<style>\n",
       ".list-inline {list-style: none; margin:0; padding: 0}\n",
       ".list-inline>li {display: inline-block}\n",
       ".list-inline>li:not(:last-child)::after {content: \"\\00b7\"; padding: 0 .5ex}\n",
       "</style>\n",
       "<ol class=list-inline><li>2597090</li><li>35</li></ol>\n"
      ],
      "text/latex": [
       "\\begin{enumerate*}\n",
       "\\item 2597090\n",
       "\\item 35\n",
       "\\end{enumerate*}\n"
      ],
      "text/markdown": [
       "1. 2597090\n",
       "2. 35\n",
       "\n",
       "\n"
      ],
      "text/plain": [
       "[1] 2597090      35"
      ]
     },
     "metadata": {},
     "output_type": "display_data"
    }
   ],
   "source": [
    "dim(epo_cit_counts)"
   ]
  },
  {
   "cell_type": "code",
   "execution_count": 21,
   "metadata": {
    "vscode": {
     "languageId": "r"
    }
   },
   "outputs": [
    {
     "data": {
      "text/html": [
       "<table class=\"dataframe\">\n",
       "<caption>A data.table: 6 × 35</caption>\n",
       "<thead>\n",
       "\t<tr><th scope=col>EP_Pub_nbr</th><th scope=col>EP_Pub_date</th><th scope=col>EP_Appln_id</th><th scope=col>WO_Pub_nbr</th><th scope=col>WO_Appln_id</th><th scope=col>EP_Grant</th><th scope=col>Withdrawal</th><th scope=col>Refusal</th><th scope=col>EP_Pat_Cits</th><th scope=col>EP_NPL_Cits</th><th scope=col>⋯</th><th scope=col>Recd_asWO_byWO</th><th scope=col>Direct_cits_Recd</th><th scope=col>Recd_asEQV_byEP</th><th scope=col>Recd_asEQV_byWO</th><th scope=col>Total_cits_Recd</th><th scope=col>Recd_in3_asEP</th><th scope=col>Recd_in3_asWO</th><th scope=col>Direct_cits_Recd_in3</th><th scope=col>Recd_in3_asEQV</th><th scope=col>Total_cits_Recd_in3</th></tr>\n",
       "\t<tr><th scope=col>&lt;chr&gt;</th><th scope=col>&lt;int&gt;</th><th scope=col>&lt;int&gt;</th><th scope=col>&lt;chr&gt;</th><th scope=col>&lt;int&gt;</th><th scope=col>&lt;int&gt;</th><th scope=col>&lt;int&gt;</th><th scope=col>&lt;int&gt;</th><th scope=col>&lt;int&gt;</th><th scope=col>&lt;int&gt;</th><th scope=col>⋯</th><th scope=col>&lt;int&gt;</th><th scope=col>&lt;int&gt;</th><th scope=col>&lt;int&gt;</th><th scope=col>&lt;int&gt;</th><th scope=col>&lt;int&gt;</th><th scope=col>&lt;int&gt;</th><th scope=col>&lt;int&gt;</th><th scope=col>&lt;int&gt;</th><th scope=col>&lt;int&gt;</th><th scope=col>&lt;int&gt;</th></tr>\n",
       "</thead>\n",
       "<tbody>\n",
       "\t<tr><td>EP0000001</td><td>19781220</td><td>16428854</td><td></td><td>NA</td><td>19810107</td><td>0</td><td>0</td><td>7</td><td>0</td><td>⋯</td><td>0</td><td>2</td><td>0</td><td>2</td><td>4</td><td>1</td><td>0</td><td>1</td><td>0</td><td>1</td></tr>\n",
       "\t<tr><td>EP0000002</td><td>19781220</td><td>16427091</td><td></td><td>NA</td><td>19810826</td><td>0</td><td>0</td><td>2</td><td>1</td><td>⋯</td><td>0</td><td>4</td><td>0</td><td>0</td><td>4</td><td>1</td><td>0</td><td>1</td><td>0</td><td>1</td></tr>\n",
       "\t<tr><td>EP0000003</td><td>19781220</td><td>16429215</td><td></td><td>NA</td><td>      NA</td><td>1</td><td>0</td><td>1</td><td>0</td><td>⋯</td><td>0</td><td>0</td><td>0</td><td>0</td><td>0</td><td>0</td><td>0</td><td>0</td><td>0</td><td>0</td></tr>\n",
       "\t<tr><td>EP0000004</td><td>19781220</td><td>16427120</td><td></td><td>NA</td><td>19800903</td><td>0</td><td>0</td><td>4</td><td>0</td><td>⋯</td><td>0</td><td>0</td><td>0</td><td>0</td><td>0</td><td>0</td><td>0</td><td>0</td><td>0</td><td>0</td></tr>\n",
       "\t<tr><td>EP0000005</td><td>19781220</td><td>16427159</td><td></td><td>NA</td><td>19801029</td><td>0</td><td>0</td><td>3</td><td>0</td><td>⋯</td><td>0</td><td>4</td><td>1</td><td>0</td><td>5</td><td>1</td><td>0</td><td>1</td><td>1</td><td>2</td></tr>\n",
       "\t<tr><td>EP0000006</td><td>19781220</td><td>16428868</td><td></td><td>NA</td><td>19810204</td><td>0</td><td>0</td><td>3</td><td>2</td><td>⋯</td><td>0</td><td>1</td><td>0</td><td>0</td><td>1</td><td>0</td><td>0</td><td>0</td><td>0</td><td>0</td></tr>\n",
       "</tbody>\n",
       "</table>\n"
      ],
      "text/latex": [
       "A data.table: 6 × 35\n",
       "\\begin{tabular}{lllllllllllllllllllll}\n",
       " EP\\_Pub\\_nbr & EP\\_Pub\\_date & EP\\_Appln\\_id & WO\\_Pub\\_nbr & WO\\_Appln\\_id & EP\\_Grant & Withdrawal & Refusal & EP\\_Pat\\_Cits & EP\\_NPL\\_Cits & ⋯ & Recd\\_asWO\\_byWO & Direct\\_cits\\_Recd & Recd\\_asEQV\\_byEP & Recd\\_asEQV\\_byWO & Total\\_cits\\_Recd & Recd\\_in3\\_asEP & Recd\\_in3\\_asWO & Direct\\_cits\\_Recd\\_in3 & Recd\\_in3\\_asEQV & Total\\_cits\\_Recd\\_in3\\\\\n",
       " <chr> & <int> & <int> & <chr> & <int> & <int> & <int> & <int> & <int> & <int> & ⋯ & <int> & <int> & <int> & <int> & <int> & <int> & <int> & <int> & <int> & <int>\\\\\n",
       "\\hline\n",
       "\t EP0000001 & 19781220 & 16428854 &  & NA & 19810107 & 0 & 0 & 7 & 0 & ⋯ & 0 & 2 & 0 & 2 & 4 & 1 & 0 & 1 & 0 & 1\\\\\n",
       "\t EP0000002 & 19781220 & 16427091 &  & NA & 19810826 & 0 & 0 & 2 & 1 & ⋯ & 0 & 4 & 0 & 0 & 4 & 1 & 0 & 1 & 0 & 1\\\\\n",
       "\t EP0000003 & 19781220 & 16429215 &  & NA &       NA & 1 & 0 & 1 & 0 & ⋯ & 0 & 0 & 0 & 0 & 0 & 0 & 0 & 0 & 0 & 0\\\\\n",
       "\t EP0000004 & 19781220 & 16427120 &  & NA & 19800903 & 0 & 0 & 4 & 0 & ⋯ & 0 & 0 & 0 & 0 & 0 & 0 & 0 & 0 & 0 & 0\\\\\n",
       "\t EP0000005 & 19781220 & 16427159 &  & NA & 19801029 & 0 & 0 & 3 & 0 & ⋯ & 0 & 4 & 1 & 0 & 5 & 1 & 0 & 1 & 1 & 2\\\\\n",
       "\t EP0000006 & 19781220 & 16428868 &  & NA & 19810204 & 0 & 0 & 3 & 2 & ⋯ & 0 & 1 & 0 & 0 & 1 & 0 & 0 & 0 & 0 & 0\\\\\n",
       "\\end{tabular}\n"
      ],
      "text/markdown": [
       "\n",
       "A data.table: 6 × 35\n",
       "\n",
       "| EP_Pub_nbr &lt;chr&gt; | EP_Pub_date &lt;int&gt; | EP_Appln_id &lt;int&gt; | WO_Pub_nbr &lt;chr&gt; | WO_Appln_id &lt;int&gt; | EP_Grant &lt;int&gt; | Withdrawal &lt;int&gt; | Refusal &lt;int&gt; | EP_Pat_Cits &lt;int&gt; | EP_NPL_Cits &lt;int&gt; | ⋯ ⋯ | Recd_asWO_byWO &lt;int&gt; | Direct_cits_Recd &lt;int&gt; | Recd_asEQV_byEP &lt;int&gt; | Recd_asEQV_byWO &lt;int&gt; | Total_cits_Recd &lt;int&gt; | Recd_in3_asEP &lt;int&gt; | Recd_in3_asWO &lt;int&gt; | Direct_cits_Recd_in3 &lt;int&gt; | Recd_in3_asEQV &lt;int&gt; | Total_cits_Recd_in3 &lt;int&gt; |\n",
       "|---|---|---|---|---|---|---|---|---|---|---|---|---|---|---|---|---|---|---|---|---|\n",
       "| EP0000001 | 19781220 | 16428854 | <!----> | NA | 19810107 | 0 | 0 | 7 | 0 | ⋯ | 0 | 2 | 0 | 2 | 4 | 1 | 0 | 1 | 0 | 1 |\n",
       "| EP0000002 | 19781220 | 16427091 | <!----> | NA | 19810826 | 0 | 0 | 2 | 1 | ⋯ | 0 | 4 | 0 | 0 | 4 | 1 | 0 | 1 | 0 | 1 |\n",
       "| EP0000003 | 19781220 | 16429215 | <!----> | NA |       NA | 1 | 0 | 1 | 0 | ⋯ | 0 | 0 | 0 | 0 | 0 | 0 | 0 | 0 | 0 | 0 |\n",
       "| EP0000004 | 19781220 | 16427120 | <!----> | NA | 19800903 | 0 | 0 | 4 | 0 | ⋯ | 0 | 0 | 0 | 0 | 0 | 0 | 0 | 0 | 0 | 0 |\n",
       "| EP0000005 | 19781220 | 16427159 | <!----> | NA | 19801029 | 0 | 0 | 3 | 0 | ⋯ | 0 | 4 | 1 | 0 | 5 | 1 | 0 | 1 | 1 | 2 |\n",
       "| EP0000006 | 19781220 | 16428868 | <!----> | NA | 19810204 | 0 | 0 | 3 | 2 | ⋯ | 0 | 1 | 0 | 0 | 1 | 0 | 0 | 0 | 0 | 0 |\n",
       "\n"
      ],
      "text/plain": [
       "  EP_Pub_nbr EP_Pub_date EP_Appln_id WO_Pub_nbr WO_Appln_id EP_Grant Withdrawal\n",
       "1 EP0000001  19781220    16428854               NA          19810107 0         \n",
       "2 EP0000002  19781220    16427091               NA          19810826 0         \n",
       "3 EP0000003  19781220    16429215               NA                NA 1         \n",
       "4 EP0000004  19781220    16427120               NA          19800903 0         \n",
       "5 EP0000005  19781220    16427159               NA          19801029 0         \n",
       "6 EP0000006  19781220    16428868               NA          19810204 0         \n",
       "  Refusal EP_Pat_Cits EP_NPL_Cits ⋯ Recd_asWO_byWO Direct_cits_Recd\n",
       "1 0       7           0           ⋯ 0              2               \n",
       "2 0       2           1           ⋯ 0              4               \n",
       "3 0       1           0           ⋯ 0              0               \n",
       "4 0       4           0           ⋯ 0              0               \n",
       "5 0       3           0           ⋯ 0              4               \n",
       "6 0       3           2           ⋯ 0              1               \n",
       "  Recd_asEQV_byEP Recd_asEQV_byWO Total_cits_Recd Recd_in3_asEP Recd_in3_asWO\n",
       "1 0               2               4               1             0            \n",
       "2 0               0               4               1             0            \n",
       "3 0               0               0               0             0            \n",
       "4 0               0               0               0             0            \n",
       "5 1               0               5               1             0            \n",
       "6 0               0               1               0             0            \n",
       "  Direct_cits_Recd_in3 Recd_in3_asEQV Total_cits_Recd_in3\n",
       "1 1                    0              1                  \n",
       "2 1                    0              1                  \n",
       "3 0                    0              0                  \n",
       "4 0                    0              0                  \n",
       "5 1                    1              2                  \n",
       "6 0                    0              0                  "
      ]
     },
     "metadata": {},
     "output_type": "display_data"
    }
   ],
   "source": [
    "head(epo_cit_counts)"
   ]
  },
  {
   "cell_type": "code",
   "execution_count": 179,
   "metadata": {
    "vscode": {
     "languageId": "r"
    }
   },
   "outputs": [
    {
     "data": {
      "text/html": [
       "<table class=\"dataframe\">\n",
       "<caption>A data.table: 1 × 35</caption>\n",
       "<thead>\n",
       "\t<tr><th scope=col>EP_Pub_nbr</th><th scope=col>EP_Pub_date</th><th scope=col>EP_Appln_id</th><th scope=col>WO_Pub_nbr</th><th scope=col>WO_Appln_id</th><th scope=col>EP_Grant</th><th scope=col>Withdrawal</th><th scope=col>Refusal</th><th scope=col>EP_Pat_Cits</th><th scope=col>EP_NPL_Cits</th><th scope=col>⋯</th><th scope=col>Recd_asWO_byWO</th><th scope=col>Direct_cits_Recd</th><th scope=col>Recd_asEQV_byEP</th><th scope=col>Recd_asEQV_byWO</th><th scope=col>Total_cits_Recd</th><th scope=col>Recd_in3_asEP</th><th scope=col>Recd_in3_asWO</th><th scope=col>Direct_cits_Recd_in3</th><th scope=col>Recd_in3_asEQV</th><th scope=col>Total_cits_Recd_in3</th></tr>\n",
       "\t<tr><th scope=col>&lt;chr&gt;</th><th scope=col>&lt;int&gt;</th><th scope=col>&lt;int&gt;</th><th scope=col>&lt;chr&gt;</th><th scope=col>&lt;int&gt;</th><th scope=col>&lt;int&gt;</th><th scope=col>&lt;int&gt;</th><th scope=col>&lt;int&gt;</th><th scope=col>&lt;int&gt;</th><th scope=col>&lt;int&gt;</th><th scope=col>⋯</th><th scope=col>&lt;int&gt;</th><th scope=col>&lt;int&gt;</th><th scope=col>&lt;int&gt;</th><th scope=col>&lt;int&gt;</th><th scope=col>&lt;int&gt;</th><th scope=col>&lt;int&gt;</th><th scope=col>&lt;int&gt;</th><th scope=col>&lt;int&gt;</th><th scope=col>&lt;int&gt;</th><th scope=col>&lt;int&gt;</th></tr>\n",
       "</thead>\n",
       "<tbody>\n",
       "\t<tr><td>EP3038913</td><td>20160706</td><td>421503165</td><td>WO2015028627</td><td>421298824</td><td>20190424</td><td>0</td><td>0</td><td>0</td><td>0</td><td>⋯</td><td>4</td><td>9</td><td>13</td><td>17</td><td>39</td><td>0</td><td>5</td><td>5</td><td>12</td><td>17</td></tr>\n",
       "</tbody>\n",
       "</table>\n"
      ],
      "text/latex": [
       "A data.table: 1 × 35\n",
       "\\begin{tabular}{lllllllllllllllllllll}\n",
       " EP\\_Pub\\_nbr & EP\\_Pub\\_date & EP\\_Appln\\_id & WO\\_Pub\\_nbr & WO\\_Appln\\_id & EP\\_Grant & Withdrawal & Refusal & EP\\_Pat\\_Cits & EP\\_NPL\\_Cits & ⋯ & Recd\\_asWO\\_byWO & Direct\\_cits\\_Recd & Recd\\_asEQV\\_byEP & Recd\\_asEQV\\_byWO & Total\\_cits\\_Recd & Recd\\_in3\\_asEP & Recd\\_in3\\_asWO & Direct\\_cits\\_Recd\\_in3 & Recd\\_in3\\_asEQV & Total\\_cits\\_Recd\\_in3\\\\\n",
       " <chr> & <int> & <int> & <chr> & <int> & <int> & <int> & <int> & <int> & <int> & ⋯ & <int> & <int> & <int> & <int> & <int> & <int> & <int> & <int> & <int> & <int>\\\\\n",
       "\\hline\n",
       "\t EP3038913 & 20160706 & 421503165 & WO2015028627 & 421298824 & 20190424 & 0 & 0 & 0 & 0 & ⋯ & 4 & 9 & 13 & 17 & 39 & 0 & 5 & 5 & 12 & 17\\\\\n",
       "\\end{tabular}\n"
      ],
      "text/markdown": [
       "\n",
       "A data.table: 1 × 35\n",
       "\n",
       "| EP_Pub_nbr &lt;chr&gt; | EP_Pub_date &lt;int&gt; | EP_Appln_id &lt;int&gt; | WO_Pub_nbr &lt;chr&gt; | WO_Appln_id &lt;int&gt; | EP_Grant &lt;int&gt; | Withdrawal &lt;int&gt; | Refusal &lt;int&gt; | EP_Pat_Cits &lt;int&gt; | EP_NPL_Cits &lt;int&gt; | ⋯ ⋯ | Recd_asWO_byWO &lt;int&gt; | Direct_cits_Recd &lt;int&gt; | Recd_asEQV_byEP &lt;int&gt; | Recd_asEQV_byWO &lt;int&gt; | Total_cits_Recd &lt;int&gt; | Recd_in3_asEP &lt;int&gt; | Recd_in3_asWO &lt;int&gt; | Direct_cits_Recd_in3 &lt;int&gt; | Recd_in3_asEQV &lt;int&gt; | Total_cits_Recd_in3 &lt;int&gt; |\n",
       "|---|---|---|---|---|---|---|---|---|---|---|---|---|---|---|---|---|---|---|---|---|\n",
       "| EP3038913 | 20160706 | 421503165 | WO2015028627 | 421298824 | 20190424 | 0 | 0 | 0 | 0 | ⋯ | 4 | 9 | 13 | 17 | 39 | 0 | 5 | 5 | 12 | 17 |\n",
       "\n"
      ],
      "text/plain": [
       "  EP_Pub_nbr EP_Pub_date EP_Appln_id WO_Pub_nbr   WO_Appln_id EP_Grant\n",
       "1 EP3038913  20160706    421503165   WO2015028627 421298824   20190424\n",
       "  Withdrawal Refusal EP_Pat_Cits EP_NPL_Cits ⋯ Recd_asWO_byWO Direct_cits_Recd\n",
       "1 0          0       0           0           ⋯ 4              9               \n",
       "  Recd_asEQV_byEP Recd_asEQV_byWO Total_cits_Recd Recd_in3_asEP Recd_in3_asWO\n",
       "1 13              17              39              0             5            \n",
       "  Direct_cits_Recd_in3 Recd_in3_asEQV Total_cits_Recd_in3\n",
       "1 5                    12             17                 "
      ]
     },
     "metadata": {},
     "output_type": "display_data"
    }
   ],
   "source": [
    "epo_cit_counts %>%\n",
    "    .[EP_Pub_nbr == 'EP3038913']"
   ]
  },
  {
   "cell_type": "code",
   "execution_count": 182,
   "metadata": {
    "vscode": {
     "languageId": "r"
    }
   },
   "outputs": [
    {
     "data": {
      "text/html": [
       "<table class=\"dataframe\">\n",
       "<caption>A data.table: 6 × 19</caption>\n",
       "<thead>\n",
       "\t<tr><th scope=col>EP_Pub_nbr</th><th scope=col>EP_Pub_date</th><th scope=col>EP_Appln_id</th><th scope=col>EP_Grant</th><th scope=col>Refusal</th><th scope=col>EP_Pat_Cits</th><th scope=col>EP_NPL_Cits</th><th scope=col>WO_Pat_Cits</th><th scope=col>WO_NPL_Cits</th><th scope=col>Total_Pat_Cits</th><th scope=col>Total_NPL_Cits</th><th scope=col>Total_Cits</th><th scope=col>Recd_asEP_byEP</th><th scope=col>Recd_asWO_byEP</th><th scope=col>Recd_asEP_byWO</th><th scope=col>Recd_asWO_byWO</th><th scope=col>Direct_cits_Recd</th><th scope=col>Total_cits_Recd</th><th scope=col>Total_cits_Recd_in3</th></tr>\n",
       "\t<tr><th scope=col>&lt;chr&gt;</th><th scope=col>&lt;int&gt;</th><th scope=col>&lt;int&gt;</th><th scope=col>&lt;int&gt;</th><th scope=col>&lt;int&gt;</th><th scope=col>&lt;int&gt;</th><th scope=col>&lt;int&gt;</th><th scope=col>&lt;int&gt;</th><th scope=col>&lt;int&gt;</th><th scope=col>&lt;int&gt;</th><th scope=col>&lt;int&gt;</th><th scope=col>&lt;int&gt;</th><th scope=col>&lt;int&gt;</th><th scope=col>&lt;int&gt;</th><th scope=col>&lt;int&gt;</th><th scope=col>&lt;int&gt;</th><th scope=col>&lt;int&gt;</th><th scope=col>&lt;int&gt;</th><th scope=col>&lt;int&gt;</th></tr>\n",
       "</thead>\n",
       "<tbody>\n",
       "\t<tr><td>EP3038913</td><td>20160706</td><td>421503165</td><td>20190424</td><td>0</td><td>0</td><td>0</td><td>5</td><td>0</td><td>5</td><td>0</td><td>5</td><td>0</td><td>5</td><td>0</td><td>4</td><td>9</td><td>39</td><td>17</td></tr>\n",
       "\t<tr><td>EP2853974</td><td>20150401</td><td>410918364</td><td>      NA</td><td>0</td><td>3</td><td>0</td><td>0</td><td>0</td><td>3</td><td>0</td><td>3</td><td>3</td><td>0</td><td>4</td><td>0</td><td>7</td><td> 7</td><td> 5</td></tr>\n",
       "\t<tr><td>EP2796263</td><td>20141029</td><td>412751709</td><td>20171011</td><td>0</td><td>4</td><td>0</td><td>0</td><td>0</td><td>4</td><td>0</td><td>4</td><td>4</td><td>0</td><td>2</td><td>0</td><td>6</td><td> 6</td><td> 3</td></tr>\n",
       "\t<tr><td>EP2228299</td><td>20100915</td><td>275022153</td><td>20160629</td><td>0</td><td>4</td><td>1</td><td>0</td><td>0</td><td>4</td><td>1</td><td>5</td><td>4</td><td>0</td><td>1</td><td>0</td><td>5</td><td> 5</td><td> 1</td></tr>\n",
       "\t<tr><td>EP2634597</td><td>20130904</td><td>342091760</td><td>20160622</td><td>0</td><td>5</td><td>3</td><td>0</td><td>0</td><td>5</td><td>3</td><td>8</td><td>3</td><td>0</td><td>2</td><td>0</td><td>5</td><td> 5</td><td> 0</td></tr>\n",
       "\t<tr><td>EP2680332</td><td>20140101</td><td>407428725</td><td>20170510</td><td>0</td><td>4</td><td>1</td><td>0</td><td>0</td><td>4</td><td>1</td><td>5</td><td>5</td><td>0</td><td>0</td><td>0</td><td>5</td><td> 5</td><td> 0</td></tr>\n",
       "</tbody>\n",
       "</table>\n"
      ],
      "text/latex": [
       "A data.table: 6 × 19\n",
       "\\begin{tabular}{lllllllllllllllllll}\n",
       " EP\\_Pub\\_nbr & EP\\_Pub\\_date & EP\\_Appln\\_id & EP\\_Grant & Refusal & EP\\_Pat\\_Cits & EP\\_NPL\\_Cits & WO\\_Pat\\_Cits & WO\\_NPL\\_Cits & Total\\_Pat\\_Cits & Total\\_NPL\\_Cits & Total\\_Cits & Recd\\_asEP\\_byEP & Recd\\_asWO\\_byEP & Recd\\_asEP\\_byWO & Recd\\_asWO\\_byWO & Direct\\_cits\\_Recd & Total\\_cits\\_Recd & Total\\_cits\\_Recd\\_in3\\\\\n",
       " <chr> & <int> & <int> & <int> & <int> & <int> & <int> & <int> & <int> & <int> & <int> & <int> & <int> & <int> & <int> & <int> & <int> & <int> & <int>\\\\\n",
       "\\hline\n",
       "\t EP3038913 & 20160706 & 421503165 & 20190424 & 0 & 0 & 0 & 5 & 0 & 5 & 0 & 5 & 0 & 5 & 0 & 4 & 9 & 39 & 17\\\\\n",
       "\t EP2853974 & 20150401 & 410918364 &       NA & 0 & 3 & 0 & 0 & 0 & 3 & 0 & 3 & 3 & 0 & 4 & 0 & 7 &  7 &  5\\\\\n",
       "\t EP2796263 & 20141029 & 412751709 & 20171011 & 0 & 4 & 0 & 0 & 0 & 4 & 0 & 4 & 4 & 0 & 2 & 0 & 6 &  6 &  3\\\\\n",
       "\t EP2228299 & 20100915 & 275022153 & 20160629 & 0 & 4 & 1 & 0 & 0 & 4 & 1 & 5 & 4 & 0 & 1 & 0 & 5 &  5 &  1\\\\\n",
       "\t EP2634597 & 20130904 & 342091760 & 20160622 & 0 & 5 & 3 & 0 & 0 & 5 & 3 & 8 & 3 & 0 & 2 & 0 & 5 &  5 &  0\\\\\n",
       "\t EP2680332 & 20140101 & 407428725 & 20170510 & 0 & 4 & 1 & 0 & 0 & 4 & 1 & 5 & 5 & 0 & 0 & 0 & 5 &  5 &  0\\\\\n",
       "\\end{tabular}\n"
      ],
      "text/markdown": [
       "\n",
       "A data.table: 6 × 19\n",
       "\n",
       "| EP_Pub_nbr &lt;chr&gt; | EP_Pub_date &lt;int&gt; | EP_Appln_id &lt;int&gt; | EP_Grant &lt;int&gt; | Refusal &lt;int&gt; | EP_Pat_Cits &lt;int&gt; | EP_NPL_Cits &lt;int&gt; | WO_Pat_Cits &lt;int&gt; | WO_NPL_Cits &lt;int&gt; | Total_Pat_Cits &lt;int&gt; | Total_NPL_Cits &lt;int&gt; | Total_Cits &lt;int&gt; | Recd_asEP_byEP &lt;int&gt; | Recd_asWO_byEP &lt;int&gt; | Recd_asEP_byWO &lt;int&gt; | Recd_asWO_byWO &lt;int&gt; | Direct_cits_Recd &lt;int&gt; | Total_cits_Recd &lt;int&gt; | Total_cits_Recd_in3 &lt;int&gt; |\n",
       "|---|---|---|---|---|---|---|---|---|---|---|---|---|---|---|---|---|---|---|\n",
       "| EP3038913 | 20160706 | 421503165 | 20190424 | 0 | 0 | 0 | 5 | 0 | 5 | 0 | 5 | 0 | 5 | 0 | 4 | 9 | 39 | 17 |\n",
       "| EP2853974 | 20150401 | 410918364 |       NA | 0 | 3 | 0 | 0 | 0 | 3 | 0 | 3 | 3 | 0 | 4 | 0 | 7 |  7 |  5 |\n",
       "| EP2796263 | 20141029 | 412751709 | 20171011 | 0 | 4 | 0 | 0 | 0 | 4 | 0 | 4 | 4 | 0 | 2 | 0 | 6 |  6 |  3 |\n",
       "| EP2228299 | 20100915 | 275022153 | 20160629 | 0 | 4 | 1 | 0 | 0 | 4 | 1 | 5 | 4 | 0 | 1 | 0 | 5 |  5 |  1 |\n",
       "| EP2634597 | 20130904 | 342091760 | 20160622 | 0 | 5 | 3 | 0 | 0 | 5 | 3 | 8 | 3 | 0 | 2 | 0 | 5 |  5 |  0 |\n",
       "| EP2680332 | 20140101 | 407428725 | 20170510 | 0 | 4 | 1 | 0 | 0 | 4 | 1 | 5 | 5 | 0 | 0 | 0 | 5 |  5 |  0 |\n",
       "\n"
      ],
      "text/plain": [
       "  EP_Pub_nbr EP_Pub_date EP_Appln_id EP_Grant Refusal EP_Pat_Cits EP_NPL_Cits\n",
       "1 EP3038913  20160706    421503165   20190424 0       0           0          \n",
       "2 EP2853974  20150401    410918364         NA 0       3           0          \n",
       "3 EP2796263  20141029    412751709   20171011 0       4           0          \n",
       "4 EP2228299  20100915    275022153   20160629 0       4           1          \n",
       "5 EP2634597  20130904    342091760   20160622 0       5           3          \n",
       "6 EP2680332  20140101    407428725   20170510 0       4           1          \n",
       "  WO_Pat_Cits WO_NPL_Cits Total_Pat_Cits Total_NPL_Cits Total_Cits\n",
       "1 5           0           5              0              5         \n",
       "2 0           0           3              0              3         \n",
       "3 0           0           4              0              4         \n",
       "4 0           0           4              1              5         \n",
       "5 0           0           5              3              8         \n",
       "6 0           0           4              1              5         \n",
       "  Recd_asEP_byEP Recd_asWO_byEP Recd_asEP_byWO Recd_asWO_byWO Direct_cits_Recd\n",
       "1 0              5              0              4              9               \n",
       "2 3              0              4              0              7               \n",
       "3 4              0              2              0              6               \n",
       "4 4              0              1              0              5               \n",
       "5 3              0              2              0              5               \n",
       "6 5              0              0              0              5               \n",
       "  Total_cits_Recd Total_cits_Recd_in3\n",
       "1 39              17                 \n",
       "2  7               5                 \n",
       "3  6               3                 \n",
       "4  5               1                 \n",
       "5  5               0                 \n",
       "6  5               0                 "
      ]
     },
     "metadata": {},
     "output_type": "display_data"
    }
   ],
   "source": [
    "airbus_ep_application$patentNumber -> foo\n",
    "epo_cit_counts %>%\n",
    "    .[, c(1, 2, 3, 6, 8:15, 23, 24, 25, 26, 27, 30, 35)] %>%\n",
    "    .[EP_Pub_nbr %in% foo] %>%\n",
    "    .[order(-rank(Direct_cits_Recd))] %>%\n",
    "    head()"
   ]
  },
  {
   "cell_type": "code",
   "execution_count": 165,
   "metadata": {
    "vscode": {
     "languageId": "r"
    }
   },
   "outputs": [
    {
     "data": {
      "text/html": [
       "<style>\n",
       ".list-inline {list-style: none; margin:0; padding: 0}\n",
       ".list-inline>li {display: inline-block}\n",
       ".list-inline>li:not(:last-child)::after {content: \"\\00b7\"; padding: 0 .5ex}\n",
       "</style>\n",
       "<ol class=list-inline><li>'EP_Pub_nbr'</li><li>'EP_Pub_date'</li><li>'EP_Appln_id'</li><li>'WO_Pub_nbr'</li><li>'WO_Appln_id'</li><li>'EP_Grant'</li><li>'Withdrawal'</li><li>'Refusal'</li><li>'EP_Pat_Cits'</li><li>'EP_NPL_Cits'</li><li>'WO_Pat_Cits'</li><li>'WO_NPL_Cits'</li><li>'Total_Pat_Cits'</li><li>'Total_NPL_Cits'</li><li>'Total_Cits'</li><li>'EP_Pat_XCits'</li><li>'EP_NPL_XCits'</li><li>'WO_Pat_XCits'</li><li>'WO_NPL_XCits'</li><li>'Total_Pat_XCits'</li><li>'Total_NPL_XCits'</li><li>'Total_XCits'</li><li>'Recd_asEP_byEP'</li><li>'Recd_asWO_byEP'</li><li>'Recd_asEP_byWO'</li><li>'Recd_asWO_byWO'</li><li>'Direct_cits_Recd'</li><li>'Recd_asEQV_byEP'</li><li>'Recd_asEQV_byWO'</li><li>'Total_cits_Recd'</li><li>'Recd_in3_asEP'</li><li>'Recd_in3_asWO'</li><li>'Direct_cits_Recd_in3'</li><li>'Recd_in3_asEQV'</li><li>'Total_cits_Recd_in3'</li></ol>\n"
      ],
      "text/latex": [
       "\\begin{enumerate*}\n",
       "\\item 'EP\\_Pub\\_nbr'\n",
       "\\item 'EP\\_Pub\\_date'\n",
       "\\item 'EP\\_Appln\\_id'\n",
       "\\item 'WO\\_Pub\\_nbr'\n",
       "\\item 'WO\\_Appln\\_id'\n",
       "\\item 'EP\\_Grant'\n",
       "\\item 'Withdrawal'\n",
       "\\item 'Refusal'\n",
       "\\item 'EP\\_Pat\\_Cits'\n",
       "\\item 'EP\\_NPL\\_Cits'\n",
       "\\item 'WO\\_Pat\\_Cits'\n",
       "\\item 'WO\\_NPL\\_Cits'\n",
       "\\item 'Total\\_Pat\\_Cits'\n",
       "\\item 'Total\\_NPL\\_Cits'\n",
       "\\item 'Total\\_Cits'\n",
       "\\item 'EP\\_Pat\\_XCits'\n",
       "\\item 'EP\\_NPL\\_XCits'\n",
       "\\item 'WO\\_Pat\\_XCits'\n",
       "\\item 'WO\\_NPL\\_XCits'\n",
       "\\item 'Total\\_Pat\\_XCits'\n",
       "\\item 'Total\\_NPL\\_XCits'\n",
       "\\item 'Total\\_XCits'\n",
       "\\item 'Recd\\_asEP\\_byEP'\n",
       "\\item 'Recd\\_asWO\\_byEP'\n",
       "\\item 'Recd\\_asEP\\_byWO'\n",
       "\\item 'Recd\\_asWO\\_byWO'\n",
       "\\item 'Direct\\_cits\\_Recd'\n",
       "\\item 'Recd\\_asEQV\\_byEP'\n",
       "\\item 'Recd\\_asEQV\\_byWO'\n",
       "\\item 'Total\\_cits\\_Recd'\n",
       "\\item 'Recd\\_in3\\_asEP'\n",
       "\\item 'Recd\\_in3\\_asWO'\n",
       "\\item 'Direct\\_cits\\_Recd\\_in3'\n",
       "\\item 'Recd\\_in3\\_asEQV'\n",
       "\\item 'Total\\_cits\\_Recd\\_in3'\n",
       "\\end{enumerate*}\n"
      ],
      "text/markdown": [
       "1. 'EP_Pub_nbr'\n",
       "2. 'EP_Pub_date'\n",
       "3. 'EP_Appln_id'\n",
       "4. 'WO_Pub_nbr'\n",
       "5. 'WO_Appln_id'\n",
       "6. 'EP_Grant'\n",
       "7. 'Withdrawal'\n",
       "8. 'Refusal'\n",
       "9. 'EP_Pat_Cits'\n",
       "10. 'EP_NPL_Cits'\n",
       "11. 'WO_Pat_Cits'\n",
       "12. 'WO_NPL_Cits'\n",
       "13. 'Total_Pat_Cits'\n",
       "14. 'Total_NPL_Cits'\n",
       "15. 'Total_Cits'\n",
       "16. 'EP_Pat_XCits'\n",
       "17. 'EP_NPL_XCits'\n",
       "18. 'WO_Pat_XCits'\n",
       "19. 'WO_NPL_XCits'\n",
       "20. 'Total_Pat_XCits'\n",
       "21. 'Total_NPL_XCits'\n",
       "22. 'Total_XCits'\n",
       "23. 'Recd_asEP_byEP'\n",
       "24. 'Recd_asWO_byEP'\n",
       "25. 'Recd_asEP_byWO'\n",
       "26. 'Recd_asWO_byWO'\n",
       "27. 'Direct_cits_Recd'\n",
       "28. 'Recd_asEQV_byEP'\n",
       "29. 'Recd_asEQV_byWO'\n",
       "30. 'Total_cits_Recd'\n",
       "31. 'Recd_in3_asEP'\n",
       "32. 'Recd_in3_asWO'\n",
       "33. 'Direct_cits_Recd_in3'\n",
       "34. 'Recd_in3_asEQV'\n",
       "35. 'Total_cits_Recd_in3'\n",
       "\n",
       "\n"
      ],
      "text/plain": [
       " [1] \"EP_Pub_nbr\"           \"EP_Pub_date\"          \"EP_Appln_id\"         \n",
       " [4] \"WO_Pub_nbr\"           \"WO_Appln_id\"          \"EP_Grant\"            \n",
       " [7] \"Withdrawal\"           \"Refusal\"              \"EP_Pat_Cits\"         \n",
       "[10] \"EP_NPL_Cits\"          \"WO_Pat_Cits\"          \"WO_NPL_Cits\"         \n",
       "[13] \"Total_Pat_Cits\"       \"Total_NPL_Cits\"       \"Total_Cits\"          \n",
       "[16] \"EP_Pat_XCits\"         \"EP_NPL_XCits\"         \"WO_Pat_XCits\"        \n",
       "[19] \"WO_NPL_XCits\"         \"Total_Pat_XCits\"      \"Total_NPL_XCits\"     \n",
       "[22] \"Total_XCits\"          \"Recd_asEP_byEP\"       \"Recd_asWO_byEP\"      \n",
       "[25] \"Recd_asEP_byWO\"       \"Recd_asWO_byWO\"       \"Direct_cits_Recd\"    \n",
       "[28] \"Recd_asEQV_byEP\"      \"Recd_asEQV_byWO\"      \"Total_cits_Recd\"     \n",
       "[31] \"Recd_in3_asEP\"        \"Recd_in3_asWO\"        \"Direct_cits_Recd_in3\"\n",
       "[34] \"Recd_in3_asEQV\"       \"Total_cits_Recd_in3\" "
      ]
     },
     "metadata": {},
     "output_type": "display_data"
    }
   ],
   "source": [
    "colnames(epo_cit_counts)"
   ]
  },
  {
   "cell_type": "code",
   "execution_count": 46,
   "metadata": {
    "vscode": {
     "languageId": "r"
    }
   },
   "outputs": [
    {
     "data": {
      "text/html": [
       "<style>\n",
       ".list-inline {list-style: none; margin:0; padding: 0}\n",
       ".list-inline>li {display: inline-block}\n",
       ".list-inline>li:not(:last-child)::after {content: \"\\00b7\"; padding: 0 .5ex}\n",
       "</style>\n",
       "<ol class=list-inline><li>'Citing_pub_nbr'</li><li>'Citing_pub_date'</li><li>'Citing_app_nbr'</li><li>'Citing_appln_id'</li><li>'Cited_pub_nbr'</li><li>'Cited_pub_date'</li><li>'Cited_App_auth'</li><li>'Cited_App_nbr'</li><li>'Cited_Appln_id'</li><li>'Cit_Total'</li><li>'Citn_origin'</li><li>'Citn_category'</li><li>'Citn_lag_year'</li><li>'Citn_lag_month'</li><li>'PCT_Route'</li></ol>\n"
      ],
      "text/latex": [
       "\\begin{enumerate*}\n",
       "\\item 'Citing\\_pub\\_nbr'\n",
       "\\item 'Citing\\_pub\\_date'\n",
       "\\item 'Citing\\_app\\_nbr'\n",
       "\\item 'Citing\\_appln\\_id'\n",
       "\\item 'Cited\\_pub\\_nbr'\n",
       "\\item 'Cited\\_pub\\_date'\n",
       "\\item 'Cited\\_App\\_auth'\n",
       "\\item 'Cited\\_App\\_nbr'\n",
       "\\item 'Cited\\_Appln\\_id'\n",
       "\\item 'Cit\\_Total'\n",
       "\\item 'Citn\\_origin'\n",
       "\\item 'Citn\\_category'\n",
       "\\item 'Citn\\_lag\\_year'\n",
       "\\item 'Citn\\_lag\\_month'\n",
       "\\item 'PCT\\_Route'\n",
       "\\end{enumerate*}\n"
      ],
      "text/markdown": [
       "1. 'Citing_pub_nbr'\n",
       "2. 'Citing_pub_date'\n",
       "3. 'Citing_app_nbr'\n",
       "4. 'Citing_appln_id'\n",
       "5. 'Cited_pub_nbr'\n",
       "6. 'Cited_pub_date'\n",
       "7. 'Cited_App_auth'\n",
       "8. 'Cited_App_nbr'\n",
       "9. 'Cited_Appln_id'\n",
       "10. 'Cit_Total'\n",
       "11. 'Citn_origin'\n",
       "12. 'Citn_category'\n",
       "13. 'Citn_lag_year'\n",
       "14. 'Citn_lag_month'\n",
       "15. 'PCT_Route'\n",
       "\n",
       "\n"
      ],
      "text/plain": [
       " [1] \"Citing_pub_nbr\"  \"Citing_pub_date\" \"Citing_app_nbr\"  \"Citing_appln_id\"\n",
       " [5] \"Cited_pub_nbr\"   \"Cited_pub_date\"  \"Cited_App_auth\"  \"Cited_App_nbr\"  \n",
       " [9] \"Cited_Appln_id\"  \"Cit_Total\"       \"Citn_origin\"     \"Citn_category\"  \n",
       "[13] \"Citn_lag_year\"   \"Citn_lag_month\"  \"PCT_Route\"      "
      ]
     },
     "metadata": {},
     "output_type": "display_data"
    }
   ],
   "source": [
    "colnames(epo_citations)"
   ]
  },
  {
   "cell_type": "code",
   "execution_count": 172,
   "metadata": {
    "vscode": {
     "languageId": "r"
    }
   },
   "outputs": [
    {
     "data": {
      "text/html": [
       "<table class=\"dataframe\">\n",
       "<caption>A data.table: 2 × 15</caption>\n",
       "<thead>\n",
       "\t<tr><th scope=col>Citing_pub_nbr</th><th scope=col>Citing_pub_date</th><th scope=col>Citing_app_nbr</th><th scope=col>Citing_appln_id</th><th scope=col>Cited_pub_nbr</th><th scope=col>Cited_pub_date</th><th scope=col>Cited_App_auth</th><th scope=col>Cited_App_nbr</th><th scope=col>Cited_Appln_id</th><th scope=col>Cit_Total</th><th scope=col>Citn_origin</th><th scope=col>Citn_category</th><th scope=col>Citn_lag_year</th><th scope=col>Citn_lag_month</th><th scope=col>PCT_Route</th></tr>\n",
       "\t<tr><th scope=col>&lt;chr&gt;</th><th scope=col>&lt;IDate&gt;</th><th scope=col>&lt;chr&gt;</th><th scope=col>&lt;int&gt;</th><th scope=col>&lt;chr&gt;</th><th scope=col>&lt;IDate&gt;</th><th scope=col>&lt;chr&gt;</th><th scope=col>&lt;chr&gt;</th><th scope=col>&lt;int&gt;</th><th scope=col>&lt;int&gt;</th><th scope=col>&lt;chr&gt;</th><th scope=col>&lt;chr&gt;</th><th scope=col>&lt;int&gt;</th><th scope=col>&lt;int&gt;</th><th scope=col>&lt;int&gt;</th></tr>\n",
       "</thead>\n",
       "<tbody>\n",
       "\t<tr><td>EP3038913</td><td>2016-07-06</td><td>EP20140756074</td><td>421503165</td><td>WO2004012993</td><td>2004-02-12</td><td>WO</td><td>WO2003000640</td><td> 24161850</td><td>2</td><td>EXA</td><td></td><td>12</td><td>149</td><td>1</td></tr>\n",
       "\t<tr><td>EP3038913</td><td>2016-07-06</td><td>EP20140756074</td><td>421503165</td><td>US2011042508</td><td>2011-02-24</td><td>US</td><td>US56666709  </td><td>332282896</td><td>2</td><td>EXA</td><td></td><td> 5</td><td> 65</td><td>1</td></tr>\n",
       "</tbody>\n",
       "</table>\n"
      ],
      "text/latex": [
       "A data.table: 2 × 15\n",
       "\\begin{tabular}{lllllllllllllll}\n",
       " Citing\\_pub\\_nbr & Citing\\_pub\\_date & Citing\\_app\\_nbr & Citing\\_appln\\_id & Cited\\_pub\\_nbr & Cited\\_pub\\_date & Cited\\_App\\_auth & Cited\\_App\\_nbr & Cited\\_Appln\\_id & Cit\\_Total & Citn\\_origin & Citn\\_category & Citn\\_lag\\_year & Citn\\_lag\\_month & PCT\\_Route\\\\\n",
       " <chr> & <IDate> & <chr> & <int> & <chr> & <IDate> & <chr> & <chr> & <int> & <int> & <chr> & <chr> & <int> & <int> & <int>\\\\\n",
       "\\hline\n",
       "\t EP3038913 & 2016-07-06 & EP20140756074 & 421503165 & WO2004012993 & 2004-02-12 & WO & WO2003000640 &  24161850 & 2 & EXA &  & 12 & 149 & 1\\\\\n",
       "\t EP3038913 & 2016-07-06 & EP20140756074 & 421503165 & US2011042508 & 2011-02-24 & US & US56666709   & 332282896 & 2 & EXA &  &  5 &  65 & 1\\\\\n",
       "\\end{tabular}\n"
      ],
      "text/markdown": [
       "\n",
       "A data.table: 2 × 15\n",
       "\n",
       "| Citing_pub_nbr &lt;chr&gt; | Citing_pub_date &lt;IDate&gt; | Citing_app_nbr &lt;chr&gt; | Citing_appln_id &lt;int&gt; | Cited_pub_nbr &lt;chr&gt; | Cited_pub_date &lt;IDate&gt; | Cited_App_auth &lt;chr&gt; | Cited_App_nbr &lt;chr&gt; | Cited_Appln_id &lt;int&gt; | Cit_Total &lt;int&gt; | Citn_origin &lt;chr&gt; | Citn_category &lt;chr&gt; | Citn_lag_year &lt;int&gt; | Citn_lag_month &lt;int&gt; | PCT_Route &lt;int&gt; |\n",
       "|---|---|---|---|---|---|---|---|---|---|---|---|---|---|---|\n",
       "| EP3038913 | 2016-07-06 | EP20140756074 | 421503165 | WO2004012993 | 2004-02-12 | WO | WO2003000640 |  24161850 | 2 | EXA | <!----> | 12 | 149 | 1 |\n",
       "| EP3038913 | 2016-07-06 | EP20140756074 | 421503165 | US2011042508 | 2011-02-24 | US | US56666709   | 332282896 | 2 | EXA | <!----> |  5 |  65 | 1 |\n",
       "\n"
      ],
      "text/plain": [
       "  Citing_pub_nbr Citing_pub_date Citing_app_nbr Citing_appln_id Cited_pub_nbr\n",
       "1 EP3038913      2016-07-06      EP20140756074  421503165       WO2004012993 \n",
       "2 EP3038913      2016-07-06      EP20140756074  421503165       US2011042508 \n",
       "  Cited_pub_date Cited_App_auth Cited_App_nbr Cited_Appln_id Cit_Total\n",
       "1 2004-02-12     WO             WO2003000640   24161850      2        \n",
       "2 2011-02-24     US             US56666709    332282896      2        \n",
       "  Citn_origin Citn_category Citn_lag_year Citn_lag_month PCT_Route\n",
       "1 EXA                       12            149            1        \n",
       "2 EXA                        5             65            1        "
      ]
     },
     "metadata": {},
     "output_type": "display_data"
    }
   ],
   "source": [
    "epo_citations %>%\n",
    "    .[Citing_pub_nbr == 'EP3038913']"
   ]
  },
  {
   "cell_type": "code",
   "execution_count": null,
   "metadata": {
    "vscode": {
     "languageId": "r"
    }
   },
   "outputs": [],
   "source": []
  },
  {
   "attachments": {},
   "cell_type": "markdown",
   "metadata": {},
   "source": [
    "## PCT citation "
   ]
  },
  {
   "cell_type": "code",
   "execution_count": 181,
   "metadata": {
    "vscode": {
     "languageId": "r"
    }
   },
   "outputs": [],
   "source": [
    "pct_citation <- fread('./data/202208_PCT_CITATIONS.txt')"
   ]
  },
  {
   "cell_type": "code",
   "execution_count": 186,
   "metadata": {
    "vscode": {
     "languageId": "r"
    }
   },
   "outputs": [
    {
     "data": {
      "text/html": [
       "<table class=\"dataframe\">\n",
       "<caption>A data.table: 5 × 15</caption>\n",
       "<thead>\n",
       "\t<tr><th scope=col>Citing_pub_nbr</th><th scope=col>Citing_pub_date</th><th scope=col>Citing_app_nbr</th><th scope=col>Citing_appln_id</th><th scope=col>Cited_pub_nbr</th><th scope=col>Cited_pub_date</th><th scope=col>Cited_App_auth</th><th scope=col>Cited_App_nbr</th><th scope=col>Cited_Appln_id</th><th scope=col>Cit_Total</th><th scope=col>Citn_origin</th><th scope=col>Citn_category</th><th scope=col>Citn_lag_year</th><th scope=col>Citn_lag_month</th><th scope=col>ISA</th></tr>\n",
       "\t<tr><th scope=col>&lt;chr&gt;</th><th scope=col>&lt;IDate&gt;</th><th scope=col>&lt;chr&gt;</th><th scope=col>&lt;int&gt;</th><th scope=col>&lt;chr&gt;</th><th scope=col>&lt;IDate&gt;</th><th scope=col>&lt;chr&gt;</th><th scope=col>&lt;chr&gt;</th><th scope=col>&lt;int&gt;</th><th scope=col>&lt;int&gt;</th><th scope=col>&lt;chr&gt;</th><th scope=col>&lt;chr&gt;</th><th scope=col>&lt;int&gt;</th><th scope=col>&lt;int&gt;</th><th scope=col>&lt;chr&gt;</th></tr>\n",
       "</thead>\n",
       "<tbody>\n",
       "\t<tr><td>WO2020087571</td><td>2020-05-07</td><td>WO2018115305</td><td>530638852</td><td>CN107131409</td><td>2017-09-05</td><td>CN</td><td>CN201710548048</td><td>483434586</td><td>7</td><td>ISR</td><td>Y</td><td> 3</td><td> 32</td><td>CN</td></tr>\n",
       "\t<tr><td>WO2017146917</td><td>2017-08-31</td><td>WO2017017401</td><td>483136922</td><td>US6179616  </td><td>2001-01-30</td><td>US</td><td>US30046999    </td><td> 49424868</td><td>6</td><td>ISR</td><td>A</td><td>16</td><td>199</td><td>KR</td></tr>\n",
       "\t<tr><td>WO2008069865</td><td>2008-06-12</td><td>WO2007021954</td><td> 54651303</td><td>US5240968  </td><td>1993-08-31</td><td>US</td><td>US99022892    </td><td> 54456064</td><td>8</td><td>ISR</td><td>A</td><td>15</td><td>178</td><td>EP</td></tr>\n",
       "\t<tr><td>WO2015176134</td><td>2015-11-26</td><td>WO2015050266</td><td>446526392</td><td>US7763177  </td><td>2008-05-08</td><td>US</td><td>US97673107    </td><td> 54406651</td><td>5</td><td>ISR</td><td>X</td><td> 7</td><td> 90</td><td>AU</td></tr>\n",
       "\t<tr><td>WO1990008191</td><td>1990-07-26</td><td>WO1990000032</td><td> 22999765</td><td>US4740461  </td><td>1988-04-26</td><td>US</td><td>US56605783    </td><td> 51874612</td><td>3</td><td>ISR</td><td> </td><td> 2</td><td> 27</td><td>EP</td></tr>\n",
       "</tbody>\n",
       "</table>\n"
      ],
      "text/latex": [
       "A data.table: 5 × 15\n",
       "\\begin{tabular}{lllllllllllllll}\n",
       " Citing\\_pub\\_nbr & Citing\\_pub\\_date & Citing\\_app\\_nbr & Citing\\_appln\\_id & Cited\\_pub\\_nbr & Cited\\_pub\\_date & Cited\\_App\\_auth & Cited\\_App\\_nbr & Cited\\_Appln\\_id & Cit\\_Total & Citn\\_origin & Citn\\_category & Citn\\_lag\\_year & Citn\\_lag\\_month & ISA\\\\\n",
       " <chr> & <IDate> & <chr> & <int> & <chr> & <IDate> & <chr> & <chr> & <int> & <int> & <chr> & <chr> & <int> & <int> & <chr>\\\\\n",
       "\\hline\n",
       "\t WO2020087571 & 2020-05-07 & WO2018115305 & 530638852 & CN107131409 & 2017-09-05 & CN & CN201710548048 & 483434586 & 7 & ISR & Y &  3 &  32 & CN\\\\\n",
       "\t WO2017146917 & 2017-08-31 & WO2017017401 & 483136922 & US6179616   & 2001-01-30 & US & US30046999     &  49424868 & 6 & ISR & A & 16 & 199 & KR\\\\\n",
       "\t WO2008069865 & 2008-06-12 & WO2007021954 &  54651303 & US5240968   & 1993-08-31 & US & US99022892     &  54456064 & 8 & ISR & A & 15 & 178 & EP\\\\\n",
       "\t WO2015176134 & 2015-11-26 & WO2015050266 & 446526392 & US7763177   & 2008-05-08 & US & US97673107     &  54406651 & 5 & ISR & X &  7 &  90 & AU\\\\\n",
       "\t WO1990008191 & 1990-07-26 & WO1990000032 &  22999765 & US4740461   & 1988-04-26 & US & US56605783     &  51874612 & 3 & ISR &   &  2 &  27 & EP\\\\\n",
       "\\end{tabular}\n"
      ],
      "text/markdown": [
       "\n",
       "A data.table: 5 × 15\n",
       "\n",
       "| Citing_pub_nbr &lt;chr&gt; | Citing_pub_date &lt;IDate&gt; | Citing_app_nbr &lt;chr&gt; | Citing_appln_id &lt;int&gt; | Cited_pub_nbr &lt;chr&gt; | Cited_pub_date &lt;IDate&gt; | Cited_App_auth &lt;chr&gt; | Cited_App_nbr &lt;chr&gt; | Cited_Appln_id &lt;int&gt; | Cit_Total &lt;int&gt; | Citn_origin &lt;chr&gt; | Citn_category &lt;chr&gt; | Citn_lag_year &lt;int&gt; | Citn_lag_month &lt;int&gt; | ISA &lt;chr&gt; |\n",
       "|---|---|---|---|---|---|---|---|---|---|---|---|---|---|---|\n",
       "| WO2020087571 | 2020-05-07 | WO2018115305 | 530638852 | CN107131409 | 2017-09-05 | CN | CN201710548048 | 483434586 | 7 | ISR | Y |  3 |  32 | CN |\n",
       "| WO2017146917 | 2017-08-31 | WO2017017401 | 483136922 | US6179616   | 2001-01-30 | US | US30046999     |  49424868 | 6 | ISR | A | 16 | 199 | KR |\n",
       "| WO2008069865 | 2008-06-12 | WO2007021954 |  54651303 | US5240968   | 1993-08-31 | US | US99022892     |  54456064 | 8 | ISR | A | 15 | 178 | EP |\n",
       "| WO2015176134 | 2015-11-26 | WO2015050266 | 446526392 | US7763177   | 2008-05-08 | US | US97673107     |  54406651 | 5 | ISR | X |  7 |  90 | AU |\n",
       "| WO1990008191 | 1990-07-26 | WO1990000032 |  22999765 | US4740461   | 1988-04-26 | US | US56605783     |  51874612 | 3 | ISR | <!----> |  2 |  27 | EP |\n",
       "\n"
      ],
      "text/plain": [
       "  Citing_pub_nbr Citing_pub_date Citing_app_nbr Citing_appln_id Cited_pub_nbr\n",
       "1 WO2020087571   2020-05-07      WO2018115305   530638852       CN107131409  \n",
       "2 WO2017146917   2017-08-31      WO2017017401   483136922       US6179616    \n",
       "3 WO2008069865   2008-06-12      WO2007021954    54651303       US5240968    \n",
       "4 WO2015176134   2015-11-26      WO2015050266   446526392       US7763177    \n",
       "5 WO1990008191   1990-07-26      WO1990000032    22999765       US4740461    \n",
       "  Cited_pub_date Cited_App_auth Cited_App_nbr  Cited_Appln_id Cit_Total\n",
       "1 2017-09-05     CN             CN201710548048 483434586      7        \n",
       "2 2001-01-30     US             US30046999      49424868      6        \n",
       "3 1993-08-31     US             US99022892      54456064      8        \n",
       "4 2008-05-08     US             US97673107      54406651      5        \n",
       "5 1988-04-26     US             US56605783      51874612      3        \n",
       "  Citn_origin Citn_category Citn_lag_year Citn_lag_month ISA\n",
       "1 ISR         Y              3             32            CN \n",
       "2 ISR         A             16            199            KR \n",
       "3 ISR         A             15            178            EP \n",
       "4 ISR         X              7             90            AU \n",
       "5 ISR                        2             27            EP "
      ]
     },
     "metadata": {},
     "output_type": "display_data"
    }
   ],
   "source": [
    "pct_citation %>%\n",
    "    .[sample(.N, 5)]"
   ]
  },
  {
   "cell_type": "code",
   "execution_count": 188,
   "metadata": {
    "vscode": {
     "languageId": "r"
    }
   },
   "outputs": [
    {
     "data": {
      "text/html": [
       "<table class=\"dataframe\">\n",
       "<caption>A data.table: 4 × 15</caption>\n",
       "<thead>\n",
       "\t<tr><th scope=col>Citing_pub_nbr</th><th scope=col>Citing_pub_date</th><th scope=col>Citing_app_nbr</th><th scope=col>Citing_appln_id</th><th scope=col>Cited_pub_nbr</th><th scope=col>Cited_pub_date</th><th scope=col>Cited_App_auth</th><th scope=col>Cited_App_nbr</th><th scope=col>Cited_Appln_id</th><th scope=col>Cit_Total</th><th scope=col>Citn_origin</th><th scope=col>Citn_category</th><th scope=col>Citn_lag_year</th><th scope=col>Citn_lag_month</th><th scope=col>ISA</th></tr>\n",
       "\t<tr><th scope=col>&lt;chr&gt;</th><th scope=col>&lt;IDate&gt;</th><th scope=col>&lt;chr&gt;</th><th scope=col>&lt;int&gt;</th><th scope=col>&lt;chr&gt;</th><th scope=col>&lt;IDate&gt;</th><th scope=col>&lt;chr&gt;</th><th scope=col>&lt;chr&gt;</th><th scope=col>&lt;int&gt;</th><th scope=col>&lt;int&gt;</th><th scope=col>&lt;chr&gt;</th><th scope=col>&lt;chr&gt;</th><th scope=col>&lt;int&gt;</th><th scope=col>&lt;int&gt;</th><th scope=col>&lt;chr&gt;</th></tr>\n",
       "</thead>\n",
       "<tbody>\n",
       "\t<tr><td>WO2017021391</td><td>2017-02-09</td><td>WO2016068386</td><td>458921359</td><td>WO2015028627</td><td>2015-03-05</td><td>WO</td><td>WO2014068410</td><td>421298824</td><td>4</td><td>ISR</td><td>A</td><td>2</td><td>23</td><td>EP</td></tr>\n",
       "\t<tr><td>WO2017042291</td><td>2017-03-16</td><td>WO2016071223</td><td>469062131</td><td>WO2015028627</td><td>2015-03-05</td><td>WO</td><td>WO2014068410</td><td>421298824</td><td>6</td><td>ISR</td><td>A</td><td>2</td><td>24</td><td>EP</td></tr>\n",
       "\t<tr><td>WO2017049806</td><td>2017-03-30</td><td>WO2016000248</td><td>476936175</td><td>WO2015028627</td><td>2015-03-05</td><td>WO</td><td>WO2014068410</td><td>421298824</td><td>7</td><td>ISR</td><td>A</td><td>2</td><td>24</td><td>CN</td></tr>\n",
       "\t<tr><td>WO2018078388</td><td>2018-05-03</td><td>WO2017053249</td><td>485855323</td><td>WO2015028627</td><td>2015-03-05</td><td>WO</td><td>WO2014068410</td><td>421298824</td><td>7</td><td>ISR</td><td>A</td><td>3</td><td>38</td><td>EP</td></tr>\n",
       "</tbody>\n",
       "</table>\n"
      ],
      "text/latex": [
       "A data.table: 4 × 15\n",
       "\\begin{tabular}{lllllllllllllll}\n",
       " Citing\\_pub\\_nbr & Citing\\_pub\\_date & Citing\\_app\\_nbr & Citing\\_appln\\_id & Cited\\_pub\\_nbr & Cited\\_pub\\_date & Cited\\_App\\_auth & Cited\\_App\\_nbr & Cited\\_Appln\\_id & Cit\\_Total & Citn\\_origin & Citn\\_category & Citn\\_lag\\_year & Citn\\_lag\\_month & ISA\\\\\n",
       " <chr> & <IDate> & <chr> & <int> & <chr> & <IDate> & <chr> & <chr> & <int> & <int> & <chr> & <chr> & <int> & <int> & <chr>\\\\\n",
       "\\hline\n",
       "\t WO2017021391 & 2017-02-09 & WO2016068386 & 458921359 & WO2015028627 & 2015-03-05 & WO & WO2014068410 & 421298824 & 4 & ISR & A & 2 & 23 & EP\\\\\n",
       "\t WO2017042291 & 2017-03-16 & WO2016071223 & 469062131 & WO2015028627 & 2015-03-05 & WO & WO2014068410 & 421298824 & 6 & ISR & A & 2 & 24 & EP\\\\\n",
       "\t WO2017049806 & 2017-03-30 & WO2016000248 & 476936175 & WO2015028627 & 2015-03-05 & WO & WO2014068410 & 421298824 & 7 & ISR & A & 2 & 24 & CN\\\\\n",
       "\t WO2018078388 & 2018-05-03 & WO2017053249 & 485855323 & WO2015028627 & 2015-03-05 & WO & WO2014068410 & 421298824 & 7 & ISR & A & 3 & 38 & EP\\\\\n",
       "\\end{tabular}\n"
      ],
      "text/markdown": [
       "\n",
       "A data.table: 4 × 15\n",
       "\n",
       "| Citing_pub_nbr &lt;chr&gt; | Citing_pub_date &lt;IDate&gt; | Citing_app_nbr &lt;chr&gt; | Citing_appln_id &lt;int&gt; | Cited_pub_nbr &lt;chr&gt; | Cited_pub_date &lt;IDate&gt; | Cited_App_auth &lt;chr&gt; | Cited_App_nbr &lt;chr&gt; | Cited_Appln_id &lt;int&gt; | Cit_Total &lt;int&gt; | Citn_origin &lt;chr&gt; | Citn_category &lt;chr&gt; | Citn_lag_year &lt;int&gt; | Citn_lag_month &lt;int&gt; | ISA &lt;chr&gt; |\n",
       "|---|---|---|---|---|---|---|---|---|---|---|---|---|---|---|\n",
       "| WO2017021391 | 2017-02-09 | WO2016068386 | 458921359 | WO2015028627 | 2015-03-05 | WO | WO2014068410 | 421298824 | 4 | ISR | A | 2 | 23 | EP |\n",
       "| WO2017042291 | 2017-03-16 | WO2016071223 | 469062131 | WO2015028627 | 2015-03-05 | WO | WO2014068410 | 421298824 | 6 | ISR | A | 2 | 24 | EP |\n",
       "| WO2017049806 | 2017-03-30 | WO2016000248 | 476936175 | WO2015028627 | 2015-03-05 | WO | WO2014068410 | 421298824 | 7 | ISR | A | 2 | 24 | CN |\n",
       "| WO2018078388 | 2018-05-03 | WO2017053249 | 485855323 | WO2015028627 | 2015-03-05 | WO | WO2014068410 | 421298824 | 7 | ISR | A | 3 | 38 | EP |\n",
       "\n"
      ],
      "text/plain": [
       "  Citing_pub_nbr Citing_pub_date Citing_app_nbr Citing_appln_id Cited_pub_nbr\n",
       "1 WO2017021391   2017-02-09      WO2016068386   458921359       WO2015028627 \n",
       "2 WO2017042291   2017-03-16      WO2016071223   469062131       WO2015028627 \n",
       "3 WO2017049806   2017-03-30      WO2016000248   476936175       WO2015028627 \n",
       "4 WO2018078388   2018-05-03      WO2017053249   485855323       WO2015028627 \n",
       "  Cited_pub_date Cited_App_auth Cited_App_nbr Cited_Appln_id Cit_Total\n",
       "1 2015-03-05     WO             WO2014068410  421298824      4        \n",
       "2 2015-03-05     WO             WO2014068410  421298824      6        \n",
       "3 2015-03-05     WO             WO2014068410  421298824      7        \n",
       "4 2015-03-05     WO             WO2014068410  421298824      7        \n",
       "  Citn_origin Citn_category Citn_lag_year Citn_lag_month ISA\n",
       "1 ISR         A             2             23             EP \n",
       "2 ISR         A             2             24             EP \n",
       "3 ISR         A             2             24             CN \n",
       "4 ISR         A             3             38             EP "
      ]
     },
     "metadata": {},
     "output_type": "display_data"
    }
   ],
   "source": [
    "pct_citation %>%\n",
    "    .[Cited_pub_nbr == 'WO2015028627']"
   ]
  },
  {
   "cell_type": "code",
   "execution_count": null,
   "metadata": {
    "vscode": {
     "languageId": "r"
    }
   },
   "outputs": [],
   "source": []
  },
  {
   "attachments": {},
   "cell_type": "markdown",
   "metadata": {},
   "source": [
    "## Who is citing airbus' granted patents?"
   ]
  },
  {
   "cell_type": "code",
   "execution_count": 204,
   "metadata": {
    "vscode": {
     "languageId": "r"
    }
   },
   "outputs": [
    {
     "data": {
      "text/html": [
       "<style>\n",
       ".list-inline {list-style: none; margin:0; padding: 0}\n",
       ".list-inline>li {display: inline-block}\n",
       ".list-inline>li:not(:last-child)::after {content: \"\\00b7\"; padding: 0 .5ex}\n",
       "</style>\n",
       "<ol class=list-inline><li>539</li><li>7</li></ol>\n"
      ],
      "text/latex": [
       "\\begin{enumerate*}\n",
       "\\item 539\n",
       "\\item 7\n",
       "\\end{enumerate*}\n"
      ],
      "text/markdown": [
       "1. 539\n",
       "2. 7\n",
       "\n",
       "\n"
      ],
      "text/plain": [
       "[1] 539   7"
      ]
     },
     "metadata": {},
     "output_type": "display_data"
    }
   ],
   "source": [
    "airbus_ep_application %>%\n",
    "    .[granted == 1] -> airbus_gpt\n",
    "dim(airbus_gpt)"
   ]
  },
  {
   "cell_type": "code",
   "execution_count": 206,
   "metadata": {
    "vscode": {
     "languageId": "r"
    }
   },
   "outputs": [
    {
     "data": {
      "text/html": [
       "<table class=\"dataframe\">\n",
       "<caption>A data.table: 3 × 7</caption>\n",
       "<thead>\n",
       "\t<tr><th scope=col>patentNumber</th><th scope=col>applicationDate</th><th scope=col>granted</th><th scope=col>grantDate</th><th scope=col>familyID</th><th scope=col>cpcTags</th><th scope=col>publicationItems</th></tr>\n",
       "\t<tr><th scope=col>&lt;chr&gt;</th><th scope=col>&lt;chr&gt;</th><th scope=col>&lt;int&gt;</th><th scope=col>&lt;chr&gt;</th><th scope=col>&lt;int&gt;</th><th scope=col>&lt;chr&gt;</th><th scope=col>&lt;chr&gt;</th></tr>\n",
       "</thead>\n",
       "<tbody>\n",
       "\t<tr><td>EP3731055</td><td>Mon, 20 Apr 2020</td><td>1</td><td>Wed, 08 Sep 2021</td><td>70333838</td><td>G05D 1/0676                  </td><td>['EP 3731055 A1', 'EP 3731055 B1']</td></tr>\n",
       "\t<tr><td>EP3905535</td><td>Tue, 28 Apr 2020</td><td>1</td><td>Wed, 27 Apr 2022</td><td>70475966</td><td>['G01S 19/21', 'H04B 1/7097']</td><td>['EP 3905535 A1', 'EP 3905535 B1']</td></tr>\n",
       "\t<tr><td>EP3913398</td><td>Wed, 20 May 2020</td><td>1</td><td>Wed, 16 Nov 2022</td><td>70802639</td><td>G01S 13/9011                 </td><td>['EP 3913398 A1', 'EP 3913398 B1']</td></tr>\n",
       "</tbody>\n",
       "</table>\n"
      ],
      "text/latex": [
       "A data.table: 3 × 7\n",
       "\\begin{tabular}{lllllll}\n",
       " patentNumber & applicationDate & granted & grantDate & familyID & cpcTags & publicationItems\\\\\n",
       " <chr> & <chr> & <int> & <chr> & <int> & <chr> & <chr>\\\\\n",
       "\\hline\n",
       "\t EP3731055 & Mon, 20 Apr 2020 & 1 & Wed, 08 Sep 2021 & 70333838 & G05D 1/0676                   & {[}'EP 3731055 A1', 'EP 3731055 B1'{]}\\\\\n",
       "\t EP3905535 & Tue, 28 Apr 2020 & 1 & Wed, 27 Apr 2022 & 70475966 & {[}'G01S 19/21', 'H04B 1/7097'{]} & {[}'EP 3905535 A1', 'EP 3905535 B1'{]}\\\\\n",
       "\t EP3913398 & Wed, 20 May 2020 & 1 & Wed, 16 Nov 2022 & 70802639 & G01S 13/9011                  & {[}'EP 3913398 A1', 'EP 3913398 B1'{]}\\\\\n",
       "\\end{tabular}\n"
      ],
      "text/markdown": [
       "\n",
       "A data.table: 3 × 7\n",
       "\n",
       "| patentNumber &lt;chr&gt; | applicationDate &lt;chr&gt; | granted &lt;int&gt; | grantDate &lt;chr&gt; | familyID &lt;int&gt; | cpcTags &lt;chr&gt; | publicationItems &lt;chr&gt; |\n",
       "|---|---|---|---|---|---|---|\n",
       "| EP3731055 | Mon, 20 Apr 2020 | 1 | Wed, 08 Sep 2021 | 70333838 | G05D 1/0676                   | ['EP 3731055 A1', 'EP 3731055 B1'] |\n",
       "| EP3905535 | Tue, 28 Apr 2020 | 1 | Wed, 27 Apr 2022 | 70475966 | ['G01S 19/21', 'H04B 1/7097'] | ['EP 3905535 A1', 'EP 3905535 B1'] |\n",
       "| EP3913398 | Wed, 20 May 2020 | 1 | Wed, 16 Nov 2022 | 70802639 | G01S 13/9011                  | ['EP 3913398 A1', 'EP 3913398 B1'] |\n",
       "\n"
      ],
      "text/plain": [
       "  patentNumber applicationDate  granted grantDate        familyID\n",
       "1 EP3731055    Mon, 20 Apr 2020 1       Wed, 08 Sep 2021 70333838\n",
       "2 EP3905535    Tue, 28 Apr 2020 1       Wed, 27 Apr 2022 70475966\n",
       "3 EP3913398    Wed, 20 May 2020 1       Wed, 16 Nov 2022 70802639\n",
       "  cpcTags                       publicationItems                  \n",
       "1 G05D 1/0676                   ['EP 3731055 A1', 'EP 3731055 B1']\n",
       "2 ['G01S 19/21', 'H04B 1/7097'] ['EP 3905535 A1', 'EP 3905535 B1']\n",
       "3 G01S 13/9011                  ['EP 3913398 A1', 'EP 3913398 B1']"
      ]
     },
     "metadata": {},
     "output_type": "display_data"
    }
   ],
   "source": [
    "tail(airbus_gpt, 3)"
   ]
  },
  {
   "cell_type": "code",
   "execution_count": 234,
   "metadata": {
    "vscode": {
     "languageId": "r"
    }
   },
   "outputs": [],
   "source": [
    "options(repr.plot.width = 6, repr.plot.height = 3)\n",
    "epo_citations %>%\n",
    "    .[Citing_pub_nbr %in% airbus_gpt$patentNumber] %>%\n",
    "    .[, .(Cited_App_auth)] %>%\n",
    "    as_tibble() %>%\n",
    "    group_by(Cited_App_auth) %>%\n",
    "    summarize(count=n()) %>%\n",
    "    ggplot(aes(x= Cited_App_auth, y=count)) + \n",
    "    geom_col(fill=gray_scale[4], color=gray_scale[5]) + \n",
    "    geom_text(aes(label=count), vjust=-0.5) + \n",
    "    ylim(0, 1250) + \n",
    "    theme_bw() + \n",
    "    labs(x='Cited Patents Authority') + \n",
    "    theme(\n",
    "        panel.grid.minor = element_blank(),\n",
    "        panel.border = element_blank(),\n",
    "        axis.line = element_line(color = \"black\"),\n",
    "    ) -> p1"
   ]
  },
  {
   "cell_type": "code",
   "execution_count": 247,
   "metadata": {
    "vscode": {
     "languageId": "r"
    }
   },
   "outputs": [],
   "source": [
    "ggsave(\n",
    "    p1, \n",
    "    file='/home/jovyan/work/docs/images/blog/airbus_cited_auth.png',\n",
    "    width=6, height=3, type=\"cairo-png\",\n",
    "    device = grDevices::png, \n",
    "    dpi=300, bg='transparent')"
   ]
  },
  {
   "cell_type": "code",
   "execution_count": 261,
   "metadata": {
    "vscode": {
     "languageId": "r"
    }
   },
   "outputs": [],
   "source": [
    "options(repr.plot.width = 6, repr.plot.height = 3)\n",
    "epo_citations %>%\n",
    "    .[Citing_pub_nbr %in% airbus_gpt$patentNumber] %>%\n",
    "    unique(by='Citing_pub_nbr') %>%\n",
    "    ggplot(aes(Cit_Total)) + \n",
    "    geom_histogram(binwidth=1, fill=gray_scale[4], color=gray_scale[5]) + \n",
    "    theme_bw() + \n",
    "    labs(x='Total Number of Citations') +\n",
    "    theme(\n",
    "        panel.grid.minor = element_blank(),\n",
    "        panel.border = element_blank(),\n",
    "        axis.line = element_line(color = \"black\"),\n",
    "    ) + \n",
    "    scale_x_continuous(breaks=seq(0, 36, 5)) -> p2"
   ]
  },
  {
   "cell_type": "code",
   "execution_count": 303,
   "metadata": {
    "vscode": {
     "languageId": "r"
    }
   },
   "outputs": [],
   "source": [
    "ggsave(\n",
    "    p2, \n",
    "    file='/home/jovyan/work/docs/images/blog/airbus_hist_citations.png',\n",
    "    width=6, height=3, type=\"cairo-png\",\n",
    "    device = grDevices::png, \n",
    "    dpi=300, bg='transparent')"
   ]
  },
  {
   "cell_type": "code",
   "execution_count": 322,
   "metadata": {
    "vscode": {
     "languageId": "r"
    }
   },
   "outputs": [],
   "source": [
    "options(repr.plot.width = 6, repr.plot.height = 3)\n",
    "epo_citations %>%\n",
    "    .[Citing_pub_nbr %in% airbus_gpt$patentNumber] %>%\n",
    "    .[, .(Citn_origin)] %>%\n",
    "    .[, .N, by=Citn_origin] %>%\n",
    "    ggplot(aes(x=Citn_origin, y=N)) +\n",
    "    geom_col(fill=gray_scale[4], color=gray_scale[5], width=0.5) + \n",
    "    geom_text(aes(label=N), vjust=-0.5) + \n",
    "    theme_bw() + \n",
    "    labs(x='Citation Origin') + \n",
    "    ylim(0, 1950) + \n",
    "    theme(\n",
    "        panel.grid.minor = element_blank(),\n",
    "        panel.border = element_blank(),\n",
    "        axis.line = element_line(color = \"black\"),\n",
    "    ) -> p3\n",
    "    "
   ]
  },
  {
   "cell_type": "code",
   "execution_count": 323,
   "metadata": {
    "vscode": {
     "languageId": "r"
    }
   },
   "outputs": [],
   "source": [
    "ggsave(\n",
    "    p3, \n",
    "    file='/home/jovyan/work/docs/images/blog/airbus_citation_origin.png',\n",
    "    width=6, height=3, type=\"cairo-png\",\n",
    "    device = grDevices::png, \n",
    "    dpi=300, bg='transparent')"
   ]
  },
  {
   "cell_type": "code",
   "execution_count": 359,
   "metadata": {
    "vscode": {
     "languageId": "r"
    }
   },
   "outputs": [],
   "source": [
    "options(repr.plot.width = 6, repr.plot.height = 3)\n",
    "epo_citations %>%\n",
    "    .[Citing_pub_nbr %in% airbus_gpt$patentNumber] %>%\n",
    "    .[!is.na(Citn_lag_year)] %>%\n",
    "    .[order(-rank(Citn_lag_year))] %>%\n",
    "    ggplot(aes(Citn_lag_year)) + \n",
    "    geom_histogram(fill=gray_scale[4], color=gray_scale[5], bins=30) +\n",
    "    theme_bw() + \n",
    "    labs(x='Citation lag in years') +\n",
    "    theme(\n",
    "        panel.grid.minor = element_blank(),\n",
    "        panel.border = element_blank(),\n",
    "        axis.line = element_line(color = \"black\"),\n",
    "    ) + \n",
    "    scale_x_continuous(breaks=seq(0, 110, 10)) -> p4"
   ]
  },
  {
   "cell_type": "code",
   "execution_count": 360,
   "metadata": {
    "vscode": {
     "languageId": "r"
    }
   },
   "outputs": [],
   "source": [
    "ggsave(\n",
    "    p4, \n",
    "    file='/home/jovyan/work/docs/images/blog/airbus_citation_lags.png',\n",
    "    width=6, height=3, type=\"cairo-png\",\n",
    "    device = grDevices::png, \n",
    "    dpi=300, bg='transparent')"
   ]
  },
  {
   "cell_type": "code",
   "execution_count": 366,
   "metadata": {
    "vscode": {
     "languageId": "r"
    }
   },
   "outputs": [
    {
     "data": {
      "text/html": [
       "<table class=\"dataframe\">\n",
       "<caption>A data.table: 1 × 2</caption>\n",
       "<thead>\n",
       "\t<tr><th scope=col>Cited_App_auth</th><th scope=col>N</th></tr>\n",
       "\t<tr><th scope=col>&lt;chr&gt;</th><th scope=col>&lt;int&gt;</th></tr>\n",
       "</thead>\n",
       "<tbody>\n",
       "\t<tr><td>EP</td><td>146</td></tr>\n",
       "</tbody>\n",
       "</table>\n"
      ],
      "text/latex": [
       "A data.table: 1 × 2\n",
       "\\begin{tabular}{ll}\n",
       " Cited\\_App\\_auth & N\\\\\n",
       " <chr> & <int>\\\\\n",
       "\\hline\n",
       "\t EP & 146\\\\\n",
       "\\end{tabular}\n"
      ],
      "text/markdown": [
       "\n",
       "A data.table: 1 × 2\n",
       "\n",
       "| Cited_App_auth &lt;chr&gt; | N &lt;int&gt; |\n",
       "|---|---|\n",
       "| EP | 146 |\n",
       "\n"
      ],
      "text/plain": [
       "  Cited_App_auth N  \n",
       "1 EP             146"
      ]
     },
     "metadata": {},
     "output_type": "display_data"
    }
   ],
   "source": [
    "options(repr.plot.width = 6, repr.plot.height = 3)\n",
    "epo_citations %>%\n",
    "    .[Cited_pub_nbr %in% airbus_gpt$patentNumber] %>%\n",
    "    .[, .N, keyby=Cited_App_auth]"
   ]
  },
  {
   "cell_type": "code",
   "execution_count": 378,
   "metadata": {
    "vscode": {
     "languageId": "r"
    }
   },
   "outputs": [
    {
     "data": {
      "text/html": [
       "<table class=\"dataframe\">\n",
       "<caption>A data.table: 6 × 15</caption>\n",
       "<thead>\n",
       "\t<tr><th scope=col>Citing_pub_nbr</th><th scope=col>Citing_pub_date</th><th scope=col>Citing_app_nbr</th><th scope=col>Citing_appln_id</th><th scope=col>Cited_pub_nbr</th><th scope=col>Cited_pub_date</th><th scope=col>Cited_App_auth</th><th scope=col>Cited_App_nbr</th><th scope=col>Cited_Appln_id</th><th scope=col>Cit_Total</th><th scope=col>Citn_origin</th><th scope=col>Citn_category</th><th scope=col>Citn_lag_year</th><th scope=col>Citn_lag_month</th><th scope=col>PCT_Route</th></tr>\n",
       "\t<tr><th scope=col>&lt;chr&gt;</th><th scope=col>&lt;IDate&gt;</th><th scope=col>&lt;chr&gt;</th><th scope=col>&lt;int&gt;</th><th scope=col>&lt;chr&gt;</th><th scope=col>&lt;IDate&gt;</th><th scope=col>&lt;chr&gt;</th><th scope=col>&lt;chr&gt;</th><th scope=col>&lt;int&gt;</th><th scope=col>&lt;int&gt;</th><th scope=col>&lt;chr&gt;</th><th scope=col>&lt;chr&gt;</th><th scope=col>&lt;int&gt;</th><th scope=col>&lt;int&gt;</th><th scope=col>&lt;int&gt;</th></tr>\n",
       "</thead>\n",
       "<tbody>\n",
       "\t<tr><td>EP3920674</td><td>2021-12-08</td><td>EP20210153102</td><td>544661355</td><td>US9699902   </td><td>2017-07-04</td><td>US</td><td>US201414340432</td><td>480747715</td><td>3</td><td>SEA</td><td>XI</td><td> 4</td><td> 53</td><td>0</td></tr>\n",
       "\t<tr><td>EP3920674</td><td>2021-12-08</td><td>EP20210153102</td><td>544661355</td><td>EP3537856   </td><td>2019-09-11</td><td>EP</td><td>EP20190155648 </td><td>507280334</td><td>3</td><td>SEA</td><td>XI</td><td> 2</td><td> 27</td><td>0</td></tr>\n",
       "\t<tr><td>EP3920675</td><td>2021-12-08</td><td>EP20210182182</td><td>552977087</td><td>US2006276081</td><td>2006-12-07</td><td>US</td><td>US50311506    </td><td> 51391579</td><td>4</td><td>SEA</td><td>Y </td><td>15</td><td>180</td><td>0</td></tr>\n",
       "\t<tr><td>EP3920675</td><td>2021-12-08</td><td>EP20210182182</td><td>552977087</td><td>US2013003285</td><td>2013-01-03</td><td>US</td><td>US201113198866</td><td>379405572</td><td>4</td><td>SEA</td><td>Y </td><td> 8</td><td>107</td><td>0</td></tr>\n",
       "\t<tr><td>EP3920675</td><td>2021-12-08</td><td>EP20210182182</td><td>552977087</td><td>US2014146462</td><td>2014-05-29</td><td>US</td><td>US201213685146</td><td>418443770</td><td>4</td><td>SEA</td><td>XI</td><td> 7</td><td> 91</td><td>0</td></tr>\n",
       "\t<tr><td>EP3920675</td><td>2021-12-08</td><td>EP20210182182</td><td>552977087</td><td>US2014268536</td><td>2014-09-18</td><td>US</td><td>US201414212941</td><td>421953651</td><td>4</td><td>SEA</td><td>A </td><td> 7</td><td> 87</td><td>0</td></tr>\n",
       "</tbody>\n",
       "</table>\n"
      ],
      "text/latex": [
       "A data.table: 6 × 15\n",
       "\\begin{tabular}{lllllllllllllll}\n",
       " Citing\\_pub\\_nbr & Citing\\_pub\\_date & Citing\\_app\\_nbr & Citing\\_appln\\_id & Cited\\_pub\\_nbr & Cited\\_pub\\_date & Cited\\_App\\_auth & Cited\\_App\\_nbr & Cited\\_Appln\\_id & Cit\\_Total & Citn\\_origin & Citn\\_category & Citn\\_lag\\_year & Citn\\_lag\\_month & PCT\\_Route\\\\\n",
       " <chr> & <IDate> & <chr> & <int> & <chr> & <IDate> & <chr> & <chr> & <int> & <int> & <chr> & <chr> & <int> & <int> & <int>\\\\\n",
       "\\hline\n",
       "\t EP3920674 & 2021-12-08 & EP20210153102 & 544661355 & US9699902    & 2017-07-04 & US & US201414340432 & 480747715 & 3 & SEA & XI &  4 &  53 & 0\\\\\n",
       "\t EP3920674 & 2021-12-08 & EP20210153102 & 544661355 & EP3537856    & 2019-09-11 & EP & EP20190155648  & 507280334 & 3 & SEA & XI &  2 &  27 & 0\\\\\n",
       "\t EP3920675 & 2021-12-08 & EP20210182182 & 552977087 & US2006276081 & 2006-12-07 & US & US50311506     &  51391579 & 4 & SEA & Y  & 15 & 180 & 0\\\\\n",
       "\t EP3920675 & 2021-12-08 & EP20210182182 & 552977087 & US2013003285 & 2013-01-03 & US & US201113198866 & 379405572 & 4 & SEA & Y  &  8 & 107 & 0\\\\\n",
       "\t EP3920675 & 2021-12-08 & EP20210182182 & 552977087 & US2014146462 & 2014-05-29 & US & US201213685146 & 418443770 & 4 & SEA & XI &  7 &  91 & 0\\\\\n",
       "\t EP3920675 & 2021-12-08 & EP20210182182 & 552977087 & US2014268536 & 2014-09-18 & US & US201414212941 & 421953651 & 4 & SEA & A  &  7 &  87 & 0\\\\\n",
       "\\end{tabular}\n"
      ],
      "text/markdown": [
       "\n",
       "A data.table: 6 × 15\n",
       "\n",
       "| Citing_pub_nbr &lt;chr&gt; | Citing_pub_date &lt;IDate&gt; | Citing_app_nbr &lt;chr&gt; | Citing_appln_id &lt;int&gt; | Cited_pub_nbr &lt;chr&gt; | Cited_pub_date &lt;IDate&gt; | Cited_App_auth &lt;chr&gt; | Cited_App_nbr &lt;chr&gt; | Cited_Appln_id &lt;int&gt; | Cit_Total &lt;int&gt; | Citn_origin &lt;chr&gt; | Citn_category &lt;chr&gt; | Citn_lag_year &lt;int&gt; | Citn_lag_month &lt;int&gt; | PCT_Route &lt;int&gt; |\n",
       "|---|---|---|---|---|---|---|---|---|---|---|---|---|---|---|\n",
       "| EP3920674 | 2021-12-08 | EP20210153102 | 544661355 | US9699902    | 2017-07-04 | US | US201414340432 | 480747715 | 3 | SEA | XI |  4 |  53 | 0 |\n",
       "| EP3920674 | 2021-12-08 | EP20210153102 | 544661355 | EP3537856    | 2019-09-11 | EP | EP20190155648  | 507280334 | 3 | SEA | XI |  2 |  27 | 0 |\n",
       "| EP3920675 | 2021-12-08 | EP20210182182 | 552977087 | US2006276081 | 2006-12-07 | US | US50311506     |  51391579 | 4 | SEA | Y  | 15 | 180 | 0 |\n",
       "| EP3920675 | 2021-12-08 | EP20210182182 | 552977087 | US2013003285 | 2013-01-03 | US | US201113198866 | 379405572 | 4 | SEA | Y  |  8 | 107 | 0 |\n",
       "| EP3920675 | 2021-12-08 | EP20210182182 | 552977087 | US2014146462 | 2014-05-29 | US | US201213685146 | 418443770 | 4 | SEA | XI |  7 |  91 | 0 |\n",
       "| EP3920675 | 2021-12-08 | EP20210182182 | 552977087 | US2014268536 | 2014-09-18 | US | US201414212941 | 421953651 | 4 | SEA | A  |  7 |  87 | 0 |\n",
       "\n"
      ],
      "text/plain": [
       "  Citing_pub_nbr Citing_pub_date Citing_app_nbr Citing_appln_id Cited_pub_nbr\n",
       "1 EP3920674      2021-12-08      EP20210153102  544661355       US9699902    \n",
       "2 EP3920674      2021-12-08      EP20210153102  544661355       EP3537856    \n",
       "3 EP3920675      2021-12-08      EP20210182182  552977087       US2006276081 \n",
       "4 EP3920675      2021-12-08      EP20210182182  552977087       US2013003285 \n",
       "5 EP3920675      2021-12-08      EP20210182182  552977087       US2014146462 \n",
       "6 EP3920675      2021-12-08      EP20210182182  552977087       US2014268536 \n",
       "  Cited_pub_date Cited_App_auth Cited_App_nbr  Cited_Appln_id Cit_Total\n",
       "1 2017-07-04     US             US201414340432 480747715      3        \n",
       "2 2019-09-11     EP             EP20190155648  507280334      3        \n",
       "3 2006-12-07     US             US50311506      51391579      4        \n",
       "4 2013-01-03     US             US201113198866 379405572      4        \n",
       "5 2014-05-29     US             US201213685146 418443770      4        \n",
       "6 2014-09-18     US             US201414212941 421953651      4        \n",
       "  Citn_origin Citn_category Citn_lag_year Citn_lag_month PCT_Route\n",
       "1 SEA         XI             4             53            0        \n",
       "2 SEA         XI             2             27            0        \n",
       "3 SEA         Y             15            180            0        \n",
       "4 SEA         Y              8            107            0        \n",
       "5 SEA         XI             7             91            0        \n",
       "6 SEA         A              7             87            0        "
      ]
     },
     "metadata": {},
     "output_type": "display_data"
    }
   ],
   "source": [
    "tail(epo_citations)"
   ]
  },
  {
   "cell_type": "code",
   "execution_count": 403,
   "metadata": {
    "vscode": {
     "languageId": "r"
    }
   },
   "outputs": [],
   "source": [
    "# forward citation pct\n",
    "options(repr.plot.width = 6, repr.plot.height = 3)\n",
    "epo_cit_counts %>%\n",
    "    .[EP_Pub_nbr %in% airbus_gpt$patentNumber] %>%\n",
    "    .[, c(1, 2, 6, 8:15, 24:27, 30)] %>%\n",
    "    ggplot(aes(Total_cits_Recd)) + \n",
    "    geom_histogram(fill=gray_scale[4], color=gray_scale[5], bins=30) +\n",
    "    theme_bw() + \n",
    "    labs(x='Total citations received') +\n",
    "    theme(\n",
    "        panel.grid.minor = element_blank(),\n",
    "        panel.border = element_blank(),\n",
    "        axis.line = element_line(color = \"black\"),\n",
    "    ) + \n",
    "    scale_x_continuous(breaks=seq(0, 50, 5)) -> p5\n",
    "    "
   ]
  },
  {
   "cell_type": "code",
   "execution_count": 404,
   "metadata": {
    "vscode": {
     "languageId": "r"
    }
   },
   "outputs": [],
   "source": [
    "ggsave(\n",
    "    p5, \n",
    "    file='/home/jovyan/work/docs/images/blog/airbus_forward_citation.png',\n",
    "    width=6, height=3, type=\"cairo-png\",\n",
    "    device = grDevices::png, \n",
    "    dpi=300, bg='transparent')"
   ]
  },
  {
   "cell_type": "code",
   "execution_count": 409,
   "metadata": {
    "vscode": {
     "languageId": "r"
    }
   },
   "outputs": [
    {
     "data": {
      "text/html": [
       "<table class=\"dataframe\">\n",
       "<caption>A data.table: 6 × 16</caption>\n",
       "<thead>\n",
       "\t<tr><th scope=col>EP_Pub_nbr</th><th scope=col>EP_Pub_date</th><th scope=col>EP_Grant</th><th scope=col>Refusal</th><th scope=col>EP_Pat_Cits</th><th scope=col>EP_NPL_Cits</th><th scope=col>WO_Pat_Cits</th><th scope=col>WO_NPL_Cits</th><th scope=col>Total_Pat_Cits</th><th scope=col>Total_NPL_Cits</th><th scope=col>Total_Cits</th><th scope=col>Recd_asWO_byEP</th><th scope=col>Recd_asEP_byWO</th><th scope=col>Recd_asWO_byWO</th><th scope=col>Direct_cits_Recd</th><th scope=col>Total_cits_Recd</th></tr>\n",
       "\t<tr><th scope=col>&lt;chr&gt;</th><th scope=col>&lt;int&gt;</th><th scope=col>&lt;int&gt;</th><th scope=col>&lt;int&gt;</th><th scope=col>&lt;int&gt;</th><th scope=col>&lt;int&gt;</th><th scope=col>&lt;int&gt;</th><th scope=col>&lt;int&gt;</th><th scope=col>&lt;int&gt;</th><th scope=col>&lt;int&gt;</th><th scope=col>&lt;int&gt;</th><th scope=col>&lt;int&gt;</th><th scope=col>&lt;int&gt;</th><th scope=col>&lt;int&gt;</th><th scope=col>&lt;int&gt;</th><th scope=col>&lt;int&gt;</th></tr>\n",
       "</thead>\n",
       "<tbody>\n",
       "\t<tr><td>EP3038913</td><td>20160706</td><td>20190424</td><td>0</td><td>0</td><td>0</td><td> 5</td><td>0</td><td> 5</td><td>0</td><td> 5</td><td>5</td><td>0</td><td>4</td><td>9</td><td>39</td></tr>\n",
       "\t<tr><td>EP2702382</td><td>20140305</td><td>20190320</td><td>0</td><td>0</td><td>0</td><td>11</td><td>0</td><td>11</td><td>0</td><td>11</td><td>3</td><td>0</td><td>1</td><td>4</td><td>32</td></tr>\n",
       "\t<tr><td>EP2571762</td><td>20130327</td><td>20141203</td><td>0</td><td>0</td><td>0</td><td> 7</td><td>0</td><td> 7</td><td>0</td><td> 7</td><td>0</td><td>0</td><td>1</td><td>1</td><td>15</td></tr>\n",
       "\t<tr><td>EP2929615</td><td>20151014</td><td>      NA</td><td>0</td><td>0</td><td>0</td><td> 8</td><td>0</td><td> 8</td><td>0</td><td> 8</td><td>2</td><td>0</td><td>0</td><td>2</td><td>10</td></tr>\n",
       "\t<tr><td>EP3056425</td><td>20160817</td><td>20180822</td><td>0</td><td>4</td><td>0</td><td> 0</td><td>0</td><td> 4</td><td>0</td><td> 4</td><td>0</td><td>0</td><td>0</td><td>1</td><td>10</td></tr>\n",
       "\t<tr><td>EP3179440</td><td>20170614</td><td>20180711</td><td>0</td><td>2</td><td>4</td><td> 0</td><td>0</td><td> 2</td><td>4</td><td> 6</td><td>0</td><td>0</td><td>0</td><td>0</td><td> 9</td></tr>\n",
       "</tbody>\n",
       "</table>\n"
      ],
      "text/latex": [
       "A data.table: 6 × 16\n",
       "\\begin{tabular}{llllllllllllllll}\n",
       " EP\\_Pub\\_nbr & EP\\_Pub\\_date & EP\\_Grant & Refusal & EP\\_Pat\\_Cits & EP\\_NPL\\_Cits & WO\\_Pat\\_Cits & WO\\_NPL\\_Cits & Total\\_Pat\\_Cits & Total\\_NPL\\_Cits & Total\\_Cits & Recd\\_asWO\\_byEP & Recd\\_asEP\\_byWO & Recd\\_asWO\\_byWO & Direct\\_cits\\_Recd & Total\\_cits\\_Recd\\\\\n",
       " <chr> & <int> & <int> & <int> & <int> & <int> & <int> & <int> & <int> & <int> & <int> & <int> & <int> & <int> & <int> & <int>\\\\\n",
       "\\hline\n",
       "\t EP3038913 & 20160706 & 20190424 & 0 & 0 & 0 &  5 & 0 &  5 & 0 &  5 & 5 & 0 & 4 & 9 & 39\\\\\n",
       "\t EP2702382 & 20140305 & 20190320 & 0 & 0 & 0 & 11 & 0 & 11 & 0 & 11 & 3 & 0 & 1 & 4 & 32\\\\\n",
       "\t EP2571762 & 20130327 & 20141203 & 0 & 0 & 0 &  7 & 0 &  7 & 0 &  7 & 0 & 0 & 1 & 1 & 15\\\\\n",
       "\t EP2929615 & 20151014 &       NA & 0 & 0 & 0 &  8 & 0 &  8 & 0 &  8 & 2 & 0 & 0 & 2 & 10\\\\\n",
       "\t EP3056425 & 20160817 & 20180822 & 0 & 4 & 0 &  0 & 0 &  4 & 0 &  4 & 0 & 0 & 0 & 1 & 10\\\\\n",
       "\t EP3179440 & 20170614 & 20180711 & 0 & 2 & 4 &  0 & 0 &  2 & 4 &  6 & 0 & 0 & 0 & 0 &  9\\\\\n",
       "\\end{tabular}\n"
      ],
      "text/markdown": [
       "\n",
       "A data.table: 6 × 16\n",
       "\n",
       "| EP_Pub_nbr &lt;chr&gt; | EP_Pub_date &lt;int&gt; | EP_Grant &lt;int&gt; | Refusal &lt;int&gt; | EP_Pat_Cits &lt;int&gt; | EP_NPL_Cits &lt;int&gt; | WO_Pat_Cits &lt;int&gt; | WO_NPL_Cits &lt;int&gt; | Total_Pat_Cits &lt;int&gt; | Total_NPL_Cits &lt;int&gt; | Total_Cits &lt;int&gt; | Recd_asWO_byEP &lt;int&gt; | Recd_asEP_byWO &lt;int&gt; | Recd_asWO_byWO &lt;int&gt; | Direct_cits_Recd &lt;int&gt; | Total_cits_Recd &lt;int&gt; |\n",
       "|---|---|---|---|---|---|---|---|---|---|---|---|---|---|---|---|\n",
       "| EP3038913 | 20160706 | 20190424 | 0 | 0 | 0 |  5 | 0 |  5 | 0 |  5 | 5 | 0 | 4 | 9 | 39 |\n",
       "| EP2702382 | 20140305 | 20190320 | 0 | 0 | 0 | 11 | 0 | 11 | 0 | 11 | 3 | 0 | 1 | 4 | 32 |\n",
       "| EP2571762 | 20130327 | 20141203 | 0 | 0 | 0 |  7 | 0 |  7 | 0 |  7 | 0 | 0 | 1 | 1 | 15 |\n",
       "| EP2929615 | 20151014 |       NA | 0 | 0 | 0 |  8 | 0 |  8 | 0 |  8 | 2 | 0 | 0 | 2 | 10 |\n",
       "| EP3056425 | 20160817 | 20180822 | 0 | 4 | 0 |  0 | 0 |  4 | 0 |  4 | 0 | 0 | 0 | 1 | 10 |\n",
       "| EP3179440 | 20170614 | 20180711 | 0 | 2 | 4 |  0 | 0 |  2 | 4 |  6 | 0 | 0 | 0 | 0 |  9 |\n",
       "\n"
      ],
      "text/plain": [
       "  EP_Pub_nbr EP_Pub_date EP_Grant Refusal EP_Pat_Cits EP_NPL_Cits WO_Pat_Cits\n",
       "1 EP3038913  20160706    20190424 0       0           0            5         \n",
       "2 EP2702382  20140305    20190320 0       0           0           11         \n",
       "3 EP2571762  20130327    20141203 0       0           0            7         \n",
       "4 EP2929615  20151014          NA 0       0           0            8         \n",
       "5 EP3056425  20160817    20180822 0       4           0            0         \n",
       "6 EP3179440  20170614    20180711 0       2           4            0         \n",
       "  WO_NPL_Cits Total_Pat_Cits Total_NPL_Cits Total_Cits Recd_asWO_byEP\n",
       "1 0            5             0               5         5             \n",
       "2 0           11             0              11         3             \n",
       "3 0            7             0               7         0             \n",
       "4 0            8             0               8         2             \n",
       "5 0            4             0               4         0             \n",
       "6 0            2             4               6         0             \n",
       "  Recd_asEP_byWO Recd_asWO_byWO Direct_cits_Recd Total_cits_Recd\n",
       "1 0              4              9                39             \n",
       "2 0              1              4                32             \n",
       "3 0              1              1                15             \n",
       "4 0              0              2                10             \n",
       "5 0              0              1                10             \n",
       "6 0              0              0                 9             "
      ]
     },
     "metadata": {},
     "output_type": "display_data"
    }
   ],
   "source": [
    "# forward citation pct\n",
    "options(repr.plot.width = 6, repr.plot.height = 3)\n",
    "epo_cit_counts %>%\n",
    "    .[EP_Pub_nbr %in% airbus_gpt$patentNumber] %>%\n",
    "    .[, c(1, 2, 6, 8:15, 24:27, 30)] %>%\n",
    "    .[order(-rank(Total_cits_Recd))] %>%\n",
    "    head()"
   ]
  },
  {
   "cell_type": "code",
   "execution_count": null,
   "metadata": {
    "vscode": {
     "languageId": "r"
    }
   },
   "outputs": [],
   "source": []
  }
 ],
 "metadata": {
  "kernelspec": {
   "display_name": "R",
   "language": "R",
   "name": "ir"
  },
  "language_info": {
   "codemirror_mode": "r",
   "file_extension": ".r",
   "mimetype": "text/x-r-source",
   "name": "R",
   "pygments_lexer": "r",
   "version": "4.2.2"
  },
  "orig_nbformat": 4,
  "vscode": {
   "interpreter": {
    "hash": "16bff2c6a4793fe572f28f54bf2473ba4d5d1eb32d0a445bafdbd12ba8e85d21"
   }
  }
 },
 "nbformat": 4,
 "nbformat_minor": 2
}
