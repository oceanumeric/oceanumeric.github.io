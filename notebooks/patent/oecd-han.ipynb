{
 "cells": [
  {
   "attachments": {},
   "cell_type": "markdown",
   "metadata": {},
   "source": [
    "# OECD HAN Database"
   ]
  },
  {
   "cell_type": "code",
   "execution_count": 1,
   "metadata": {
    "vscode": {
     "languageId": "r"
    }
   },
   "outputs": [],
   "source": [
    "# load packages \n",
    "library(pacman)\n",
    "p_load(tidyverse, data.table, dtplyr, reshape2, archive, kableExtra)\n",
    "# set option\n",
    "options(dplyr.summarise.inform = FALSE)\n",
    "gray_scale <- c('#F3F4F8','#D2D4DA', '#B3B5BD', \n",
    "                '#9496A1', '#7d7f89', '#777986', \n",
    "                '#656673', '#5B5D6B', '#4d505e',\n",
    "                '#404352', '#2b2d3b', '#282A3A',\n",
    "                '#1b1c2a', '#191a2b',\n",
    "                '#141626', '#101223')"
   ]
  },
  {
   "cell_type": "code",
   "execution_count": 2,
   "metadata": {
    "vscode": {
     "languageId": "r"
    }
   },
   "outputs": [],
   "source": [
    "han_names <- fread('work/notebooks/patent/data/202208_HAN_NAMES.txt')"
   ]
  },
  {
   "cell_type": "code",
   "execution_count": 7,
   "metadata": {
    "vscode": {
     "languageId": "r"
    }
   },
   "outputs": [
    {
     "data": {
      "text/html": [
       "<style>\n",
       ".list-inline {list-style: none; margin:0; padding: 0}\n",
       ".list-inline>li {display: inline-block}\n",
       ".list-inline>li:not(:last-child)::after {content: \"\\00b7\"; padding: 0 .5ex}\n",
       "</style>\n",
       "<ol class=list-inline><li>4191007</li><li>3</li></ol>\n"
      ],
      "text/latex": [
       "\\begin{enumerate*}\n",
       "\\item 4191007\n",
       "\\item 3\n",
       "\\end{enumerate*}\n"
      ],
      "text/markdown": [
       "1. 4191007\n",
       "2. 3\n",
       "\n",
       "\n"
      ],
      "text/plain": [
       "[1] 4191007       3"
      ]
     },
     "metadata": {},
     "output_type": "display_data"
    }
   ],
   "source": [
    "dim(han_names)"
   ]
  },
  {
   "cell_type": "code",
   "execution_count": 7,
   "metadata": {
    "vscode": {
     "languageId": "r"
    }
   },
   "outputs": [
    {
     "data": {
      "text/html": [
       "<table class=\"dataframe\">\n",
       "<caption>A data.table: 6 × 3</caption>\n",
       "<thead>\n",
       "\t<tr><th scope=col>HAN_ID</th><th scope=col>Clean_name</th><th scope=col>Person_ctry_code</th></tr>\n",
       "\t<tr><th scope=col>&lt;int&gt;</th><th scope=col>&lt;chr&gt;</th><th scope=col>&lt;chr&gt;</th></tr>\n",
       "</thead>\n",
       "<tbody>\n",
       "\t<tr><td>1</td><td><span style=white-space:pre-wrap>&amp; HAMBOURG NIENDORF            </span></td><td>DE</td></tr>\n",
       "\t<tr><td>2</td><td><span style=white-space:pre-wrap>&amp; KK                           </span></td><td>JP</td></tr>\n",
       "\t<tr><td>3</td><td>“ASTRONIT” CLOSE CORP          </td><td>RU</td></tr>\n",
       "\t<tr><td>4</td><td>“DEUTSCHE SEE” GMBH            </td><td>DE</td></tr>\n",
       "\t<tr><td>5</td><td>“EFIRNOIE” OPEN JOINT STOCK CO </td><td>RU</td></tr>\n",
       "\t<tr><td>6</td><td>“EUROSTANDART” LTD LIABILITY CO</td><td>RU</td></tr>\n",
       "</tbody>\n",
       "</table>\n"
      ],
      "text/latex": [
       "A data.table: 6 × 3\n",
       "\\begin{tabular}{lll}\n",
       " HAN\\_ID & Clean\\_name & Person\\_ctry\\_code\\\\\n",
       " <int> & <chr> & <chr>\\\\\n",
       "\\hline\n",
       "\t 1 & \\& HAMBOURG NIENDORF             & DE\\\\\n",
       "\t 2 & \\& KK                            & JP\\\\\n",
       "\t 3 & “ASTRONIT” CLOSE CORP           & RU\\\\\n",
       "\t 4 & “DEUTSCHE SEE” GMBH             & DE\\\\\n",
       "\t 5 & “EFIRNOIE” OPEN JOINT STOCK CO  & RU\\\\\n",
       "\t 6 & “EUROSTANDART” LTD LIABILITY CO & RU\\\\\n",
       "\\end{tabular}\n"
      ],
      "text/markdown": [
       "\n",
       "A data.table: 6 × 3\n",
       "\n",
       "| HAN_ID &lt;int&gt; | Clean_name &lt;chr&gt; | Person_ctry_code &lt;chr&gt; |\n",
       "|---|---|---|\n",
       "| 1 | &amp; HAMBOURG NIENDORF             | DE |\n",
       "| 2 | &amp; KK                            | JP |\n",
       "| 3 | “ASTRONIT” CLOSE CORP           | RU |\n",
       "| 4 | “DEUTSCHE SEE” GMBH             | DE |\n",
       "| 5 | “EFIRNOIE” OPEN JOINT STOCK CO  | RU |\n",
       "| 6 | “EUROSTANDART” LTD LIABILITY CO | RU |\n",
       "\n"
      ],
      "text/plain": [
       "  HAN_ID Clean_name                      Person_ctry_code\n",
       "1 1      & HAMBOURG NIENDORF             DE              \n",
       "2 2      & KK                            JP              \n",
       "3 3      “ASTRONIT” CLOSE CORP           RU              \n",
       "4 4      “DEUTSCHE SEE” GMBH             DE              \n",
       "5 5      “EFIRNOIE” OPEN JOINT STOCK CO  RU              \n",
       "6 6      “EUROSTANDART” LTD LIABILITY CO RU              "
      ]
     },
     "metadata": {},
     "output_type": "display_data"
    }
   ],
   "source": [
    "head(han_names)"
   ]
  },
  {
   "cell_type": "code",
   "execution_count": 3,
   "metadata": {
    "vscode": {
     "languageId": "r"
    }
   },
   "outputs": [],
   "source": [
    "de_firms <- fread('work/notebooks/patent/data/orbis_de_matched_l.csv')"
   ]
  },
  {
   "cell_type": "code",
   "execution_count": 55,
   "metadata": {
    "vscode": {
     "languageId": "r"
    }
   },
   "outputs": [
    {
     "data": {
      "text/plain": [
       "\n",
       "\n",
       "| HAN_ID |           Clean_name           | Person_ctry_code |\n",
       "|:------:|:------------------------------:|:----------------:|\n",
       "|   1    |      & HAMBOURG NIENDORF       |        DE        |\n",
       "|   2    |              & KK              |        JP        |\n",
       "|   3    |     “ASTRONIT” CLOSE CORP      |        RU        |\n",
       "|   4    |      “DEUTSCHE SEE” GMBH       |        DE        |\n",
       "|   5    | “EFIRNOIE” OPEN JOINT STOCK CO |        RU        |"
      ]
     },
     "metadata": {},
     "output_type": "display_data"
    }
   ],
   "source": [
    "han_names %>%\n",
    "    .[1:5,] %>%\n",
    "    kable('pipe', align='ccc')"
   ]
  },
  {
   "cell_type": "code",
   "execution_count": 53,
   "metadata": {
    "vscode": {
     "languageId": "r"
    }
   },
   "outputs": [
    {
     "data": {
      "text/html": [
       "<table class=\"dataframe\">\n",
       "<caption>A data.table: 5 × 2</caption>\n",
       "<thead>\n",
       "\t<tr><th scope=col>name_native</th><th scope=col>name_internat</th></tr>\n",
       "\t<tr><th scope=col>&lt;chr&gt;</th><th scope=col>&lt;chr&gt;</th></tr>\n",
       "</thead>\n",
       "<tbody>\n",
       "\t<tr><td>Airbus Defence and Space GmbH        </td><td>Airbus Defence and Space GmbH        </td></tr>\n",
       "\t<tr><td>EurA AG                              </td><td>EurA AG                              </td></tr>\n",
       "\t<tr><td>TuTech Innovation GmbH               </td><td>TuTech Innovation GmbH               </td></tr>\n",
       "\t<tr><td>FFT Produktionssysteme GmbH &amp; Co. KG.</td><td>FFT Produktionssysteme GmbH &amp; Co. KG.</td></tr>\n",
       "\t<tr><td>Diehl Aviation Laupheim GmbH         </td><td>Diehl Aviation Laupheim GmbH         </td></tr>\n",
       "</tbody>\n",
       "</table>\n"
      ],
      "text/latex": [
       "A data.table: 5 × 2\n",
       "\\begin{tabular}{ll}\n",
       " name\\_native & name\\_internat\\\\\n",
       " <chr> & <chr>\\\\\n",
       "\\hline\n",
       "\t Airbus Defence and Space GmbH         & Airbus Defence and Space GmbH        \\\\\n",
       "\t EurA AG                               & EurA AG                              \\\\\n",
       "\t TuTech Innovation GmbH                & TuTech Innovation GmbH               \\\\\n",
       "\t FFT Produktionssysteme GmbH \\& Co. KG. & FFT Produktionssysteme GmbH \\& Co. KG.\\\\\n",
       "\t Diehl Aviation Laupheim GmbH          & Diehl Aviation Laupheim GmbH         \\\\\n",
       "\\end{tabular}\n"
      ],
      "text/markdown": [
       "\n",
       "A data.table: 5 × 2\n",
       "\n",
       "| name_native &lt;chr&gt; | name_internat &lt;chr&gt; |\n",
       "|---|---|\n",
       "| Airbus Defence and Space GmbH         | Airbus Defence and Space GmbH         |\n",
       "| EurA AG                               | EurA AG                               |\n",
       "| TuTech Innovation GmbH                | TuTech Innovation GmbH                |\n",
       "| FFT Produktionssysteme GmbH &amp; Co. KG. | FFT Produktionssysteme GmbH &amp; Co. KG. |\n",
       "| Diehl Aviation Laupheim GmbH          | Diehl Aviation Laupheim GmbH          |\n",
       "\n"
      ],
      "text/plain": [
       "  name_native                           name_internat                        \n",
       "1 Airbus Defence and Space GmbH         Airbus Defence and Space GmbH        \n",
       "2 EurA AG                               EurA AG                              \n",
       "3 TuTech Innovation GmbH                TuTech Innovation GmbH               \n",
       "4 FFT Produktionssysteme GmbH & Co. KG. FFT Produktionssysteme GmbH & Co. KG.\n",
       "5 Diehl Aviation Laupheim GmbH          Diehl Aviation Laupheim GmbH         "
      ]
     },
     "metadata": {},
     "output_type": "display_data"
    }
   ],
   "source": [
    "de_firms %>%\n",
    "    .[1:5, 2:3]"
   ]
  },
  {
   "cell_type": "code",
   "execution_count": 4,
   "metadata": {
    "vscode": {
     "languageId": "r"
    }
   },
   "outputs": [
    {
     "data": {
      "text/html": [
       "<style>\n",
       ".list-inline {list-style: none; margin:0; padding: 0}\n",
       ".list-inline>li {display: inline-block}\n",
       ".list-inline>li:not(:last-child)::after {content: \"\\00b7\"; padding: 0 .5ex}\n",
       "</style>\n",
       "<ol class=list-inline><li>60513</li><li>62422</li><li>3637004</li><li>4401227</li><li>4527012</li></ol>\n"
      ],
      "text/latex": [
       "\\begin{enumerate*}\n",
       "\\item 60513\n",
       "\\item 62422\n",
       "\\item 3637004\n",
       "\\item 4401227\n",
       "\\item 4527012\n",
       "\\end{enumerate*}\n"
      ],
      "text/markdown": [
       "1. 60513\n",
       "2. 62422\n",
       "3. 3637004\n",
       "4. 4401227\n",
       "5. 4527012\n",
       "\n",
       "\n"
      ],
      "text/plain": [
       "[1]   60513   62422 3637004 4401227 4527012"
      ]
     },
     "metadata": {},
     "output_type": "display_data"
    }
   ],
   "source": [
    "# query\n",
    "airbus <- toupper('Airbus Defence')\n",
    "han_names %>%\n",
    "    .[Person_ctry_code == 'DE'] %>%\n",
    "    .[Clean_name %like% airbus] %>%\n",
    "    .[,HAN_ID] -> airbus_han_ids\n",
    "airbus_han_ids"
   ]
  },
  {
   "cell_type": "code",
   "execution_count": 5,
   "metadata": {
    "vscode": {
     "languageId": "r"
    }
   },
   "outputs": [],
   "source": [
    "han_person <- fread('work/notebooks/patent/data/202208_HAN_PERSON.txt')"
   ]
  },
  {
   "cell_type": "code",
   "execution_count": 6,
   "metadata": {
    "vscode": {
     "languageId": "r"
    }
   },
   "outputs": [],
   "source": [
    "han_patents <- fread('work/notebooks/patent/data/202208_HAN_PATENTS.txt')"
   ]
  },
  {
   "cell_type": "code",
   "execution_count": 19,
   "metadata": {
    "vscode": {
     "languageId": "r"
    }
   },
   "outputs": [
    {
     "data": {
      "text/html": [
       "<table class=\"dataframe\">\n",
       "<caption>A data.table: 5 × 5</caption>\n",
       "<thead>\n",
       "\t<tr><th scope=col>HAN_ID</th><th scope=col>HARM_ID</th><th scope=col>Appln_id</th><th scope=col>Publn_auth</th><th scope=col>Patent_number</th></tr>\n",
       "\t<tr><th scope=col>&lt;int&gt;</th><th scope=col>&lt;int&gt;</th><th scope=col>&lt;int&gt;</th><th scope=col>&lt;chr&gt;</th><th scope=col>&lt;chr&gt;</th></tr>\n",
       "</thead>\n",
       "<tbody>\n",
       "\t<tr><td>60513</td><td>60513</td><td>   156990</td><td>EP</td><td>EP1920908 </td></tr>\n",
       "\t<tr><td>60513</td><td>60513</td><td>483683605</td><td>US</td><td>US10703486</td></tr>\n",
       "\t<tr><td>60513</td><td>60513</td><td>481847610</td><td>EP</td><td>EP3435476 </td></tr>\n",
       "\t<tr><td>60513</td><td>60513</td><td>415684469</td><td>US</td><td>US9308691 </td></tr>\n",
       "\t<tr><td>60513</td><td>60513</td><td>419500061</td><td>EP</td><td>EP2960636 </td></tr>\n",
       "</tbody>\n",
       "</table>\n"
      ],
      "text/latex": [
       "A data.table: 5 × 5\n",
       "\\begin{tabular}{lllll}\n",
       " HAN\\_ID & HARM\\_ID & Appln\\_id & Publn\\_auth & Patent\\_number\\\\\n",
       " <int> & <int> & <int> & <chr> & <chr>\\\\\n",
       "\\hline\n",
       "\t 60513 & 60513 &    156990 & EP & EP1920908 \\\\\n",
       "\t 60513 & 60513 & 483683605 & US & US10703486\\\\\n",
       "\t 60513 & 60513 & 481847610 & EP & EP3435476 \\\\\n",
       "\t 60513 & 60513 & 415684469 & US & US9308691 \\\\\n",
       "\t 60513 & 60513 & 419500061 & EP & EP2960636 \\\\\n",
       "\\end{tabular}\n"
      ],
      "text/markdown": [
       "\n",
       "A data.table: 5 × 5\n",
       "\n",
       "| HAN_ID &lt;int&gt; | HARM_ID &lt;int&gt; | Appln_id &lt;int&gt; | Publn_auth &lt;chr&gt; | Patent_number &lt;chr&gt; |\n",
       "|---|---|---|---|---|\n",
       "| 60513 | 60513 |    156990 | EP | EP1920908  |\n",
       "| 60513 | 60513 | 483683605 | US | US10703486 |\n",
       "| 60513 | 60513 | 481847610 | EP | EP3435476  |\n",
       "| 60513 | 60513 | 415684469 | US | US9308691  |\n",
       "| 60513 | 60513 | 419500061 | EP | EP2960636  |\n",
       "\n"
      ],
      "text/plain": [
       "  HAN_ID HARM_ID Appln_id  Publn_auth Patent_number\n",
       "1 60513  60513      156990 EP         EP1920908    \n",
       "2 60513  60513   483683605 US         US10703486   \n",
       "3 60513  60513   481847610 EP         EP3435476    \n",
       "4 60513  60513   415684469 US         US9308691    \n",
       "5 60513  60513   419500061 EP         EP2960636    "
      ]
     },
     "metadata": {},
     "output_type": "display_data"
    }
   ],
   "source": [
    "han_patents %>%\n",
    "    .[HAN_ID %in% airbus_han_ids] %>%\n",
    "    .[sample(.N, 5)]"
   ]
  },
  {
   "cell_type": "code",
   "execution_count": 26,
   "metadata": {
    "vscode": {
     "languageId": "r"
    }
   },
   "outputs": [
    {
     "data": {
      "text/plain": [
       "\n",
       "\n",
       "| HAN_ID | HARM_ID | Appln_id  | Publn_auth |Patent_number |\n",
       "|:------:|:-------:|:---------:|:----------:|:-------------|\n",
       "| 60513  |  60513  | 408666014 |     EP     |EP2689872     |\n",
       "| 60513  |  60513  | 415684469 |     US     |US9308691     |\n",
       "| 60513  |  60513  | 450308171 |     EP     |EP3219614     |\n",
       "| 60513  |  60513  | 480021212 |     US     |US2017165795  |\n",
       "| 60513  |  60513  | 483683605 |     US     |US10703486    |"
      ]
     },
     "metadata": {},
     "output_type": "display_data"
    }
   ],
   "source": [
    "fooids = c('US2017165795', 'EP3181711', 'US10703486', 'EP3219614', 'US9308691','EP2689872')\n",
    "han_patents %>%\n",
    "    .[HAN_ID %in% airbus_han_ids] %>%\n",
    "    .[Patent_number %in% fooids] %>%\n",
    "    kable('pipe', align='ccccl')"
   ]
  },
  {
   "cell_type": "code",
   "execution_count": 34,
   "metadata": {
    "vscode": {
     "languageId": "r"
    }
   },
   "outputs": [
    {
     "data": {
      "text/plain": [
       "\n",
       "\n",
       "| HAN_ID | HARM_ID | Appln_id | Publn_auth | Patent_number |\n",
       "|:------:|:-------:|:--------:|:----------:|:-------------:|\n",
       "| 60513  |  60513  |   213    |     EP     |   EP2030891   |\n",
       "| 60513  |  60513  |  65448   |     EP     |   EP2025928   |\n",
       "| 60513  |  60513  |  156990  |     EP     |   EP1920908   |\n",
       "| 60513  |  60513  |  161551  |     EP     |   EP1972896   |\n",
       "| 60513  |  60513  |  173385  |     EP     |   EP2134522   |\n",
       "| 60513  |  60513  |  173386  |     EP     |   EP2136979   |"
      ]
     },
     "metadata": {},
     "output_type": "display_data"
    }
   ],
   "source": [
    "han_patents %>%\n",
    "    .[HAN_ID %in% airbus_han_ids] %>%\n",
    "    .[Publn_auth == 'EP'] %>%\n",
    "    head %>%\n",
    "    kable('pipe', align='ccccc')"
   ]
  },
  {
   "cell_type": "code",
   "execution_count": null,
   "metadata": {
    "vscode": {
     "languageId": "r"
    }
   },
   "outputs": [],
   "source": []
  }
 ],
 "metadata": {
  "kernelspec": {
   "display_name": "R",
   "language": "R",
   "name": "ir"
  },
  "language_info": {
   "codemirror_mode": "r",
   "file_extension": ".r",
   "mimetype": "text/x-r-source",
   "name": "R",
   "pygments_lexer": "r",
   "version": "4.2.2"
  },
  "orig_nbformat": 4,
  "vscode": {
   "interpreter": {
    "hash": "16bff2c6a4793fe572f28f54bf2473ba4d5d1eb32d0a445bafdbd12ba8e85d21"
   }
  }
 },
 "nbformat": 4,
 "nbformat_minor": 2
}
