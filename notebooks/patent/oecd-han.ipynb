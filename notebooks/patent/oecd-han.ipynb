{
 "cells": [
  {
   "attachments": {},
   "cell_type": "markdown",
   "metadata": {},
   "source": [
    "# OECD HAN Database"
   ]
  },
  {
   "cell_type": "code",
   "execution_count": 1,
   "metadata": {
    "vscode": {
     "languageId": "r"
    }
   },
   "outputs": [],
   "source": [
    "# load packages \n",
    "library(pacman)\n",
    "p_load(tidyverse, data.table, reshape2, archive)\n",
    "# set option\n",
    "options(dplyr.summarise.inform = FALSE)\n",
    "gray_scale <- c('#F3F4F8','#D2D4DA', '#B3B5BD', \n",
    "                '#9496A1', '#7d7f89', '#777986', \n",
    "                '#656673', '#5B5D6B', '#4d505e',\n",
    "                '#404352', '#2b2d3b', '#282A3A',\n",
    "                '#1b1c2a', '#191a2b',\n",
    "                '#141626', '#101223')"
   ]
  },
  {
   "cell_type": "code",
   "execution_count": 2,
   "metadata": {
    "vscode": {
     "languageId": "r"
    }
   },
   "outputs": [
    {
     "name": "stdout",
     "output_type": "stream",
     "text": [
      "[1] 2\n"
     ]
    }
   ],
   "source": [
    "print(2)"
   ]
  },
  {
   "cell_type": "code",
   "execution_count": 18,
   "metadata": {
    "vscode": {
     "languageId": "r"
    }
   },
   "outputs": [
    {
     "data": {
      "text/html": [
       "<table class=\"dataframe\">\n",
       "<caption>A tibble: 1 × 3</caption>\n",
       "<thead>\n",
       "\t<tr><th scope=col>path</th><th scope=col>size</th><th scope=col>date</th></tr>\n",
       "\t<tr><th scope=col>&lt;chr&gt;</th><th scope=col>&lt;int&gt;</th><th scope=col>&lt;dttm&gt;</th></tr>\n",
       "</thead>\n",
       "<tbody>\n",
       "\t<tr><td>202208_HAN_NAMES.txt</td><td>169597918</td><td>2022-09-14 08:29:28</td></tr>\n",
       "</tbody>\n",
       "</table>\n"
      ],
      "text/latex": [
       "A tibble: 1 × 3\n",
       "\\begin{tabular}{lll}\n",
       " path & size & date\\\\\n",
       " <chr> & <int> & <dttm>\\\\\n",
       "\\hline\n",
       "\t 202208\\_HAN\\_NAMES.txt & 169597918 & 2022-09-14 08:29:28\\\\\n",
       "\\end{tabular}\n"
      ],
      "text/markdown": [
       "\n",
       "A tibble: 1 × 3\n",
       "\n",
       "| path &lt;chr&gt; | size &lt;int&gt; | date &lt;dttm&gt; |\n",
       "|---|---|---|\n",
       "| 202208_HAN_NAMES.txt | 169597918 | 2022-09-14 08:29:28 |\n",
       "\n"
      ],
      "text/plain": [
       "  path                 size      date               \n",
       "1 202208_HAN_NAMES.txt 169597918 2022-09-14 08:29:28"
      ]
     },
     "metadata": {},
     "output_type": "display_data"
    }
   ],
   "source": [
    "file_path <- 'work/notebooks/patent/data/202208_HAN_NAMES.7z'\n",
    "archive(file_path)"
   ]
  },
  {
   "cell_type": "code",
   "execution_count": 32,
   "metadata": {
    "vscode": {
     "languageId": "r"
    }
   },
   "outputs": [
    {
     "data": {
      "text/plain": [
       "A connection with                                                                                                \n",
       "description \"archive_read(work/notebooks/patent/data/202208_HAN_NAMES.7z)[202208_HAN_NAMES.txt]\"\n",
       "class       \"archive_read\"                                                                      \n",
       "mode        \"r\"                                                                                 \n",
       "text        \"text\"                                                                              \n",
       "opened      \"closed\"                                                                            \n",
       "can read    \"yes\"                                                                               \n",
       "can write   \"no\"                                                                                "
      ]
     },
     "metadata": {},
     "output_type": "display_data"
    }
   ],
   "source": [
    "archive_read(file_path, file='202208_HAN_NAMES.txt')"
   ]
  },
  {
   "cell_type": "code",
   "execution_count": 37,
   "metadata": {
    "vscode": {
     "languageId": "r"
    }
   },
   "outputs": [
    {
     "data": {
      "text/html": [
       "<table class=\"dataframe\">\n",
       "<caption>A data.frame: 6 × 3</caption>\n",
       "<thead>\n",
       "\t<tr><th></th><th scope=col>HAN_ID</th><th scope=col>Clean_name</th><th scope=col>Person_ctry_code</th></tr>\n",
       "\t<tr><th></th><th scope=col>&lt;int&gt;</th><th scope=col>&lt;chr&gt;</th><th scope=col>&lt;chr&gt;</th></tr>\n",
       "</thead>\n",
       "<tbody>\n",
       "\t<tr><th scope=row>1</th><td>1</td><td><span style=white-space:pre-wrap>&amp; HAMBOURG NIENDORF            </span></td><td>DE</td></tr>\n",
       "\t<tr><th scope=row>2</th><td>2</td><td><span style=white-space:pre-wrap>&amp; KK                           </span></td><td>JP</td></tr>\n",
       "\t<tr><th scope=row>3</th><td>3</td><td>“ASTRONIT” CLOSE CORP          </td><td>RU</td></tr>\n",
       "\t<tr><th scope=row>4</th><td>4</td><td>“DEUTSCHE SEE” GMBH            </td><td>DE</td></tr>\n",
       "\t<tr><th scope=row>5</th><td>5</td><td>“EFIRNOIE” OPEN JOINT STOCK CO </td><td>RU</td></tr>\n",
       "\t<tr><th scope=row>6</th><td>6</td><td>“EUROSTANDART” LTD LIABILITY CO</td><td>RU</td></tr>\n",
       "</tbody>\n",
       "</table>\n"
      ],
      "text/latex": [
       "A data.frame: 6 × 3\n",
       "\\begin{tabular}{r|lll}\n",
       "  & HAN\\_ID & Clean\\_name & Person\\_ctry\\_code\\\\\n",
       "  & <int> & <chr> & <chr>\\\\\n",
       "\\hline\n",
       "\t1 & 1 & \\& HAMBOURG NIENDORF             & DE\\\\\n",
       "\t2 & 2 & \\& KK                            & JP\\\\\n",
       "\t3 & 3 & “ASTRONIT” CLOSE CORP           & RU\\\\\n",
       "\t4 & 4 & “DEUTSCHE SEE” GMBH             & DE\\\\\n",
       "\t5 & 5 & “EFIRNOIE” OPEN JOINT STOCK CO  & RU\\\\\n",
       "\t6 & 6 & “EUROSTANDART” LTD LIABILITY CO & RU\\\\\n",
       "\\end{tabular}\n"
      ],
      "text/markdown": [
       "\n",
       "A data.frame: 6 × 3\n",
       "\n",
       "| <!--/--> | HAN_ID &lt;int&gt; | Clean_name &lt;chr&gt; | Person_ctry_code &lt;chr&gt; |\n",
       "|---|---|---|---|\n",
       "| 1 | 1 | &amp; HAMBOURG NIENDORF             | DE |\n",
       "| 2 | 2 | &amp; KK                            | JP |\n",
       "| 3 | 3 | “ASTRONIT” CLOSE CORP           | RU |\n",
       "| 4 | 4 | “DEUTSCHE SEE” GMBH             | DE |\n",
       "| 5 | 5 | “EFIRNOIE” OPEN JOINT STOCK CO  | RU |\n",
       "| 6 | 6 | “EUROSTANDART” LTD LIABILITY CO | RU |\n",
       "\n"
      ],
      "text/plain": [
       "  HAN_ID Clean_name                      Person_ctry_code\n",
       "1 1      & HAMBOURG NIENDORF             DE              \n",
       "2 2      & KK                            JP              \n",
       "3 3      “ASTRONIT” CLOSE CORP           RU              \n",
       "4 4      “DEUTSCHE SEE” GMBH             DE              \n",
       "5 5      “EFIRNOIE” OPEN JOINT STOCK CO  RU              \n",
       "6 6      “EUROSTANDART” LTD LIABILITY CO RU              "
      ]
     },
     "metadata": {},
     "output_type": "display_data"
    }
   ],
   "source": [
    "head(han_names)"
   ]
  },
  {
   "cell_type": "code",
   "execution_count": 18,
   "metadata": {
    "vscode": {
     "languageId": "r"
    }
   },
   "outputs": [],
   "source": [
    "foo <- fread('work/notebooks/patent/data/202208_HAN_NAMES.txt', sep=\"|\")"
   ]
  },
  {
   "cell_type": "code",
   "execution_count": 19,
   "metadata": {
    "vscode": {
     "languageId": "r"
    }
   },
   "outputs": [
    {
     "data": {
      "text/html": [
       "<table class=\"dataframe\">\n",
       "<caption>A data.table: 6 × 3</caption>\n",
       "<thead>\n",
       "\t<tr><th scope=col>HAN_ID</th><th scope=col>Clean_name</th><th scope=col>Person_ctry_code</th></tr>\n",
       "\t<tr><th scope=col>&lt;int&gt;</th><th scope=col>&lt;chr&gt;</th><th scope=col>&lt;chr&gt;</th></tr>\n",
       "</thead>\n",
       "<tbody>\n",
       "\t<tr><td>1</td><td><span style=white-space:pre-wrap>&amp; HAMBOURG NIENDORF            </span></td><td>DE</td></tr>\n",
       "\t<tr><td>2</td><td><span style=white-space:pre-wrap>&amp; KK                           </span></td><td>JP</td></tr>\n",
       "\t<tr><td>3</td><td>“ASTRONIT” CLOSE CORP          </td><td>RU</td></tr>\n",
       "\t<tr><td>4</td><td>“DEUTSCHE SEE” GMBH            </td><td>DE</td></tr>\n",
       "\t<tr><td>5</td><td>“EFIRNOIE” OPEN JOINT STOCK CO </td><td>RU</td></tr>\n",
       "\t<tr><td>6</td><td>“EUROSTANDART” LTD LIABILITY CO</td><td>RU</td></tr>\n",
       "</tbody>\n",
       "</table>\n"
      ],
      "text/latex": [
       "A data.table: 6 × 3\n",
       "\\begin{tabular}{lll}\n",
       " HAN\\_ID & Clean\\_name & Person\\_ctry\\_code\\\\\n",
       " <int> & <chr> & <chr>\\\\\n",
       "\\hline\n",
       "\t 1 & \\& HAMBOURG NIENDORF             & DE\\\\\n",
       "\t 2 & \\& KK                            & JP\\\\\n",
       "\t 3 & “ASTRONIT” CLOSE CORP           & RU\\\\\n",
       "\t 4 & “DEUTSCHE SEE” GMBH             & DE\\\\\n",
       "\t 5 & “EFIRNOIE” OPEN JOINT STOCK CO  & RU\\\\\n",
       "\t 6 & “EUROSTANDART” LTD LIABILITY CO & RU\\\\\n",
       "\\end{tabular}\n"
      ],
      "text/markdown": [
       "\n",
       "A data.table: 6 × 3\n",
       "\n",
       "| HAN_ID &lt;int&gt; | Clean_name &lt;chr&gt; | Person_ctry_code &lt;chr&gt; |\n",
       "|---|---|---|\n",
       "| 1 | &amp; HAMBOURG NIENDORF             | DE |\n",
       "| 2 | &amp; KK                            | JP |\n",
       "| 3 | “ASTRONIT” CLOSE CORP           | RU |\n",
       "| 4 | “DEUTSCHE SEE” GMBH             | DE |\n",
       "| 5 | “EFIRNOIE” OPEN JOINT STOCK CO  | RU |\n",
       "| 6 | “EUROSTANDART” LTD LIABILITY CO | RU |\n",
       "\n"
      ],
      "text/plain": [
       "  HAN_ID Clean_name                      Person_ctry_code\n",
       "1 1      & HAMBOURG NIENDORF             DE              \n",
       "2 2      & KK                            JP              \n",
       "3 3      “ASTRONIT” CLOSE CORP           RU              \n",
       "4 4      “DEUTSCHE SEE” GMBH             DE              \n",
       "5 5      “EFIRNOIE” OPEN JOINT STOCK CO  RU              \n",
       "6 6      “EUROSTANDART” LTD LIABILITY CO RU              "
      ]
     },
     "metadata": {},
     "output_type": "display_data"
    }
   ],
   "source": [
    "head(foo)"
   ]
  },
  {
   "cell_type": "code",
   "execution_count": 14,
   "metadata": {
    "vscode": {
     "languageId": "r"
    }
   },
   "outputs": [
    {
     "data": {
      "text/html": [
       "<table class=\"dataframe\">\n",
       "<caption>A data.frame: 6 × 3</caption>\n",
       "<thead>\n",
       "\t<tr><th></th><th scope=col>HAN_ID</th><th scope=col>Clean_name</th><th scope=col>Person_ctry_code</th></tr>\n",
       "\t<tr><th></th><th scope=col>&lt;int&gt;</th><th scope=col>&lt;chr&gt;</th><th scope=col>&lt;chr&gt;</th></tr>\n",
       "</thead>\n",
       "<tbody>\n",
       "\t<tr><th scope=row>1</th><td>1</td><td><span style=white-space:pre-wrap>&amp; HAMBOURG NIENDORF            </span></td><td>DE</td></tr>\n",
       "\t<tr><th scope=row>2</th><td>2</td><td><span style=white-space:pre-wrap>&amp; KK                           </span></td><td>JP</td></tr>\n",
       "\t<tr><th scope=row>3</th><td>3</td><td>“ASTRONIT” CLOSE CORP          </td><td>RU</td></tr>\n",
       "\t<tr><th scope=row>4</th><td>4</td><td>“DEUTSCHE SEE” GMBH            </td><td>DE</td></tr>\n",
       "\t<tr><th scope=row>5</th><td>5</td><td>“EFIRNOIE” OPEN JOINT STOCK CO </td><td>RU</td></tr>\n",
       "\t<tr><th scope=row>6</th><td>6</td><td>“EUROSTANDART” LTD LIABILITY CO</td><td>RU</td></tr>\n",
       "</tbody>\n",
       "</table>\n"
      ],
      "text/latex": [
       "A data.frame: 6 × 3\n",
       "\\begin{tabular}{r|lll}\n",
       "  & HAN\\_ID & Clean\\_name & Person\\_ctry\\_code\\\\\n",
       "  & <int> & <chr> & <chr>\\\\\n",
       "\\hline\n",
       "\t1 & 1 & \\& HAMBOURG NIENDORF             & DE\\\\\n",
       "\t2 & 2 & \\& KK                            & JP\\\\\n",
       "\t3 & 3 & “ASTRONIT” CLOSE CORP           & RU\\\\\n",
       "\t4 & 4 & “DEUTSCHE SEE” GMBH             & DE\\\\\n",
       "\t5 & 5 & “EFIRNOIE” OPEN JOINT STOCK CO  & RU\\\\\n",
       "\t6 & 6 & “EUROSTANDART” LTD LIABILITY CO & RU\\\\\n",
       "\\end{tabular}\n"
      ],
      "text/markdown": [
       "\n",
       "A data.frame: 6 × 3\n",
       "\n",
       "| <!--/--> | HAN_ID &lt;int&gt; | Clean_name &lt;chr&gt; | Person_ctry_code &lt;chr&gt; |\n",
       "|---|---|---|---|\n",
       "| 1 | 1 | &amp; HAMBOURG NIENDORF             | DE |\n",
       "| 2 | 2 | &amp; KK                            | JP |\n",
       "| 3 | 3 | “ASTRONIT” CLOSE CORP           | RU |\n",
       "| 4 | 4 | “DEUTSCHE SEE” GMBH             | DE |\n",
       "| 5 | 5 | “EFIRNOIE” OPEN JOINT STOCK CO  | RU |\n",
       "| 6 | 6 | “EUROSTANDART” LTD LIABILITY CO | RU |\n",
       "\n"
      ],
      "text/plain": [
       "  HAN_ID Clean_name                      Person_ctry_code\n",
       "1 1      & HAMBOURG NIENDORF             DE              \n",
       "2 2      & KK                            JP              \n",
       "3 3      “ASTRONIT” CLOSE CORP           RU              \n",
       "4 4      “DEUTSCHE SEE” GMBH             DE              \n",
       "5 5      “EFIRNOIE” OPEN JOINT STOCK CO  RU              \n",
       "6 6      “EUROSTANDART” LTD LIABILITY CO RU              "
      ]
     },
     "metadata": {},
     "output_type": "display_data"
    }
   ],
   "source": [
    "head(foo)"
   ]
  },
  {
   "cell_type": "code",
   "execution_count": null,
   "metadata": {
    "vscode": {
     "languageId": "r"
    }
   },
   "outputs": [],
   "source": []
  }
 ],
 "metadata": {
  "kernelspec": {
   "display_name": "R",
   "language": "R",
   "name": "ir"
  },
  "language_info": {
   "codemirror_mode": "r",
   "file_extension": ".r",
   "mimetype": "text/x-r-source",
   "name": "R",
   "pygments_lexer": "r",
   "version": "4.2.2"
  },
  "orig_nbformat": 4,
  "vscode": {
   "interpreter": {
    "hash": "16bff2c6a4793fe572f28f54bf2473ba4d5d1eb32d0a445bafdbd12ba8e85d21"
   }
  }
 },
 "nbformat": 4,
 "nbformat_minor": 2
}
