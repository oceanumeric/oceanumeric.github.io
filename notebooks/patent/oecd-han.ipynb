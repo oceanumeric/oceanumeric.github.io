{
 "cells": [
  {
   "cell_type": "code",
   "execution_count": 1,
   "metadata": {
    "vscode": {
     "languageId": "r"
    }
   },
   "outputs": [],
   "source": [
    "# load packages \n",
    "library(pacman)\n",
    "p_load(\n",
    "    tidyverse, data.table, dtplyr, reshape2, \n",
    "    archive, kableExtra, SPARQL, janitor, \n",
    "    httr, jsonlite)\n",
    "# set option\n",
    "options(dplyr.summarise.inform = FALSE)\n",
    "gray_scale <- c('#F3F4F8','#D2D4DA', '#B3B5BD', \n",
    "                '#9496A1', '#7d7f89', '#777986', \n",
    "                '#656673', '#5B5D6B', '#4d505e',\n",
    "                '#404352', '#2b2d3b', '#282A3A',\n",
    "                '#1b1c2a', '#191a2b',\n",
    "                '#141626', '#101223')"
   ]
  },
  {
   "cell_type": "code",
   "execution_count": 2,
   "metadata": {
    "vscode": {
     "languageId": "r"
    }
   },
   "outputs": [],
   "source": [
    "han_names <- fread('work/notebooks/patent/data/202208_HAN_NAMES.txt')"
   ]
  },
  {
   "cell_type": "code",
   "execution_count": 7,
   "metadata": {
    "vscode": {
     "languageId": "r"
    }
   },
   "outputs": [
    {
     "data": {
      "text/html": [
       "<style>\n",
       ".list-inline {list-style: none; margin:0; padding: 0}\n",
       ".list-inline>li {display: inline-block}\n",
       ".list-inline>li:not(:last-child)::after {content: \"\\00b7\"; padding: 0 .5ex}\n",
       "</style>\n",
       "<ol class=list-inline><li>4191007</li><li>3</li></ol>\n"
      ],
      "text/latex": [
       "\\begin{enumerate*}\n",
       "\\item 4191007\n",
       "\\item 3\n",
       "\\end{enumerate*}\n"
      ],
      "text/markdown": [
       "1. 4191007\n",
       "2. 3\n",
       "\n",
       "\n"
      ],
      "text/plain": [
       "[1] 4191007       3"
      ]
     },
     "metadata": {},
     "output_type": "display_data"
    }
   ],
   "source": [
    "dim(han_names)"
   ]
  },
  {
   "cell_type": "code",
   "execution_count": 7,
   "metadata": {
    "vscode": {
     "languageId": "r"
    }
   },
   "outputs": [
    {
     "data": {
      "text/html": [
       "<table class=\"dataframe\">\n",
       "<caption>A data.table: 6 × 3</caption>\n",
       "<thead>\n",
       "\t<tr><th scope=col>HAN_ID</th><th scope=col>Clean_name</th><th scope=col>Person_ctry_code</th></tr>\n",
       "\t<tr><th scope=col>&lt;int&gt;</th><th scope=col>&lt;chr&gt;</th><th scope=col>&lt;chr&gt;</th></tr>\n",
       "</thead>\n",
       "<tbody>\n",
       "\t<tr><td>1</td><td><span style=white-space:pre-wrap>&amp; HAMBOURG NIENDORF            </span></td><td>DE</td></tr>\n",
       "\t<tr><td>2</td><td><span style=white-space:pre-wrap>&amp; KK                           </span></td><td>JP</td></tr>\n",
       "\t<tr><td>3</td><td>“ASTRONIT” CLOSE CORP          </td><td>RU</td></tr>\n",
       "\t<tr><td>4</td><td>“DEUTSCHE SEE” GMBH            </td><td>DE</td></tr>\n",
       "\t<tr><td>5</td><td>“EFIRNOIE” OPEN JOINT STOCK CO </td><td>RU</td></tr>\n",
       "\t<tr><td>6</td><td>“EUROSTANDART” LTD LIABILITY CO</td><td>RU</td></tr>\n",
       "</tbody>\n",
       "</table>\n"
      ],
      "text/latex": [
       "A data.table: 6 × 3\n",
       "\\begin{tabular}{lll}\n",
       " HAN\\_ID & Clean\\_name & Person\\_ctry\\_code\\\\\n",
       " <int> & <chr> & <chr>\\\\\n",
       "\\hline\n",
       "\t 1 & \\& HAMBOURG NIENDORF             & DE\\\\\n",
       "\t 2 & \\& KK                            & JP\\\\\n",
       "\t 3 & “ASTRONIT” CLOSE CORP           & RU\\\\\n",
       "\t 4 & “DEUTSCHE SEE” GMBH             & DE\\\\\n",
       "\t 5 & “EFIRNOIE” OPEN JOINT STOCK CO  & RU\\\\\n",
       "\t 6 & “EUROSTANDART” LTD LIABILITY CO & RU\\\\\n",
       "\\end{tabular}\n"
      ],
      "text/markdown": [
       "\n",
       "A data.table: 6 × 3\n",
       "\n",
       "| HAN_ID &lt;int&gt; | Clean_name &lt;chr&gt; | Person_ctry_code &lt;chr&gt; |\n",
       "|---|---|---|\n",
       "| 1 | &amp; HAMBOURG NIENDORF             | DE |\n",
       "| 2 | &amp; KK                            | JP |\n",
       "| 3 | “ASTRONIT” CLOSE CORP           | RU |\n",
       "| 4 | “DEUTSCHE SEE” GMBH             | DE |\n",
       "| 5 | “EFIRNOIE” OPEN JOINT STOCK CO  | RU |\n",
       "| 6 | “EUROSTANDART” LTD LIABILITY CO | RU |\n",
       "\n"
      ],
      "text/plain": [
       "  HAN_ID Clean_name                      Person_ctry_code\n",
       "1 1      & HAMBOURG NIENDORF             DE              \n",
       "2 2      & KK                            JP              \n",
       "3 3      “ASTRONIT” CLOSE CORP           RU              \n",
       "4 4      “DEUTSCHE SEE” GMBH             DE              \n",
       "5 5      “EFIRNOIE” OPEN JOINT STOCK CO  RU              \n",
       "6 6      “EUROSTANDART” LTD LIABILITY CO RU              "
      ]
     },
     "metadata": {},
     "output_type": "display_data"
    }
   ],
   "source": [
    "head(han_names)"
   ]
  },
  {
   "cell_type": "code",
   "execution_count": 3,
   "metadata": {
    "vscode": {
     "languageId": "r"
    }
   },
   "outputs": [],
   "source": [
    "de_firms <- fread('work/notebooks/patent/data/orbis_de_matched_l.csv')"
   ]
  },
  {
   "cell_type": "code",
   "execution_count": 55,
   "metadata": {
    "vscode": {
     "languageId": "r"
    }
   },
   "outputs": [
    {
     "data": {
      "text/plain": [
       "\n",
       "\n",
       "| HAN_ID |           Clean_name           | Person_ctry_code |\n",
       "|:------:|:------------------------------:|:----------------:|\n",
       "|   1    |      & HAMBOURG NIENDORF       |        DE        |\n",
       "|   2    |              & KK              |        JP        |\n",
       "|   3    |     “ASTRONIT” CLOSE CORP      |        RU        |\n",
       "|   4    |      “DEUTSCHE SEE” GMBH       |        DE        |\n",
       "|   5    | “EFIRNOIE” OPEN JOINT STOCK CO |        RU        |"
      ]
     },
     "metadata": {},
     "output_type": "display_data"
    }
   ],
   "source": [
    "han_names %>%\n",
    "    .[1:5,] %>%\n",
    "    kable('pipe', align='ccc')"
   ]
  },
  {
   "cell_type": "code",
   "execution_count": 53,
   "metadata": {
    "vscode": {
     "languageId": "r"
    }
   },
   "outputs": [
    {
     "data": {
      "text/html": [
       "<table class=\"dataframe\">\n",
       "<caption>A data.table: 5 × 2</caption>\n",
       "<thead>\n",
       "\t<tr><th scope=col>name_native</th><th scope=col>name_internat</th></tr>\n",
       "\t<tr><th scope=col>&lt;chr&gt;</th><th scope=col>&lt;chr&gt;</th></tr>\n",
       "</thead>\n",
       "<tbody>\n",
       "\t<tr><td>Airbus Defence and Space GmbH        </td><td>Airbus Defence and Space GmbH        </td></tr>\n",
       "\t<tr><td>EurA AG                              </td><td>EurA AG                              </td></tr>\n",
       "\t<tr><td>TuTech Innovation GmbH               </td><td>TuTech Innovation GmbH               </td></tr>\n",
       "\t<tr><td>FFT Produktionssysteme GmbH &amp; Co. KG.</td><td>FFT Produktionssysteme GmbH &amp; Co. KG.</td></tr>\n",
       "\t<tr><td>Diehl Aviation Laupheim GmbH         </td><td>Diehl Aviation Laupheim GmbH         </td></tr>\n",
       "</tbody>\n",
       "</table>\n"
      ],
      "text/latex": [
       "A data.table: 5 × 2\n",
       "\\begin{tabular}{ll}\n",
       " name\\_native & name\\_internat\\\\\n",
       " <chr> & <chr>\\\\\n",
       "\\hline\n",
       "\t Airbus Defence and Space GmbH         & Airbus Defence and Space GmbH        \\\\\n",
       "\t EurA AG                               & EurA AG                              \\\\\n",
       "\t TuTech Innovation GmbH                & TuTech Innovation GmbH               \\\\\n",
       "\t FFT Produktionssysteme GmbH \\& Co. KG. & FFT Produktionssysteme GmbH \\& Co. KG.\\\\\n",
       "\t Diehl Aviation Laupheim GmbH          & Diehl Aviation Laupheim GmbH         \\\\\n",
       "\\end{tabular}\n"
      ],
      "text/markdown": [
       "\n",
       "A data.table: 5 × 2\n",
       "\n",
       "| name_native &lt;chr&gt; | name_internat &lt;chr&gt; |\n",
       "|---|---|\n",
       "| Airbus Defence and Space GmbH         | Airbus Defence and Space GmbH         |\n",
       "| EurA AG                               | EurA AG                               |\n",
       "| TuTech Innovation GmbH                | TuTech Innovation GmbH                |\n",
       "| FFT Produktionssysteme GmbH &amp; Co. KG. | FFT Produktionssysteme GmbH &amp; Co. KG. |\n",
       "| Diehl Aviation Laupheim GmbH          | Diehl Aviation Laupheim GmbH          |\n",
       "\n"
      ],
      "text/plain": [
       "  name_native                           name_internat                        \n",
       "1 Airbus Defence and Space GmbH         Airbus Defence and Space GmbH        \n",
       "2 EurA AG                               EurA AG                              \n",
       "3 TuTech Innovation GmbH                TuTech Innovation GmbH               \n",
       "4 FFT Produktionssysteme GmbH & Co. KG. FFT Produktionssysteme GmbH & Co. KG.\n",
       "5 Diehl Aviation Laupheim GmbH          Diehl Aviation Laupheim GmbH         "
      ]
     },
     "metadata": {},
     "output_type": "display_data"
    }
   ],
   "source": [
    "de_firms %>%\n",
    "    .[1:5, 2:3]"
   ]
  },
  {
   "cell_type": "code",
   "execution_count": 83,
   "metadata": {
    "vscode": {
     "languageId": "r"
    }
   },
   "outputs": [
    {
     "data": {
      "text/html": [
       "<style>\n",
       ".list-inline {list-style: none; margin:0; padding: 0}\n",
       ".list-inline>li {display: inline-block}\n",
       ".list-inline>li:not(:last-child)::after {content: \"\\00b7\"; padding: 0 .5ex}\n",
       "</style>\n",
       "<ol class=list-inline><li>60513</li><li>62422</li><li>3637004</li><li>4401227</li><li>4527012</li></ol>\n"
      ],
      "text/latex": [
       "\\begin{enumerate*}\n",
       "\\item 60513\n",
       "\\item 62422\n",
       "\\item 3637004\n",
       "\\item 4401227\n",
       "\\item 4527012\n",
       "\\end{enumerate*}\n"
      ],
      "text/markdown": [
       "1. 60513\n",
       "2. 62422\n",
       "3. 3637004\n",
       "4. 4401227\n",
       "5. 4527012\n",
       "\n",
       "\n"
      ],
      "text/plain": [
       "[1]   60513   62422 3637004 4401227 4527012"
      ]
     },
     "metadata": {},
     "output_type": "display_data"
    }
   ],
   "source": [
    "# query\n",
    "airbus <- toupper('Airbus Defence')\n",
    "han_names %>%\n",
    "    .[Person_ctry_code == 'DE'] %>%\n",
    "    .[Clean_name %like% airbus] %>%\n",
    "    .[,HAN_ID] -> airbus_han_ids\n",
    "airbus_han_ids"
   ]
  },
  {
   "cell_type": "code",
   "execution_count": 4,
   "metadata": {
    "vscode": {
     "languageId": "r"
    }
   },
   "outputs": [],
   "source": [
    "han_patents <- fread('work/notebooks/patent/data/202208_HAN_PATENTS.txt')"
   ]
  },
  {
   "cell_type": "code",
   "execution_count": 86,
   "metadata": {
    "vscode": {
     "languageId": "r"
    }
   },
   "outputs": [
    {
     "data": {
      "text/html": [
       "<table class=\"dataframe\">\n",
       "<caption>A data.table: 1 × 4</caption>\n",
       "<thead>\n",
       "\t<tr><th></th><th scope=col>EP</th><th scope=col>US</th><th scope=col>WO</th><th scope=col>Total</th></tr>\n",
       "\t<tr><th></th><th scope=col>&lt;chr&gt;</th><th scope=col>&lt;chr&gt;</th><th scope=col>&lt;chr&gt;</th><th scope=col>&lt;chr&gt;</th></tr>\n",
       "</thead>\n",
       "<tbody>\n",
       "\t<tr><th scope=row>2</th><td>716</td><td>415</td><td>88</td><td>1219</td></tr>\n",
       "</tbody>\n",
       "</table>\n"
      ],
      "text/latex": [
       "A data.table: 1 × 4\n",
       "\\begin{tabular}{r|llll}\n",
       "  & EP & US & WO & Total\\\\\n",
       "  & <chr> & <chr> & <chr> & <chr>\\\\\n",
       "\\hline\n",
       "\t2 & 716 & 415 & 88 & 1219\\\\\n",
       "\\end{tabular}\n"
      ],
      "text/markdown": [
       "\n",
       "A data.table: 1 × 4\n",
       "\n",
       "| <!--/--> | EP &lt;chr&gt; | US &lt;chr&gt; | WO &lt;chr&gt; | Total &lt;chr&gt; |\n",
       "|---|---|---|---|---|\n",
       "| 2 | 716 | 415 | 88 | 1219 |\n",
       "\n"
      ],
      "text/plain": [
       "  EP  US  WO Total\n",
       "1 716 415 88 1219 "
      ]
     },
     "metadata": {},
     "output_type": "display_data"
    }
   ],
   "source": [
    "han_patents %>%\n",
    "    .[HAN_ID %in% airbus_han_ids] %>%\n",
    "    .[, .N, by=Publn_auth] -> foo\n",
    "    transform(adorn_totals(foo)) %>%\n",
    "    transpose() %>%\n",
    "    row_to_names(row_number=1)"
   ]
  },
  {
   "cell_type": "code",
   "execution_count": 84,
   "metadata": {
    "vscode": {
     "languageId": "r"
    }
   },
   "outputs": [
    {
     "data": {
      "text/html": [
       "<table class=\"dataframe\">\n",
       "<caption>A data.table: 5 × 5</caption>\n",
       "<thead>\n",
       "\t<tr><th scope=col>HAN_ID</th><th scope=col>HARM_ID</th><th scope=col>Appln_id</th><th scope=col>Publn_auth</th><th scope=col>Patent_number</th></tr>\n",
       "\t<tr><th scope=col>&lt;int&gt;</th><th scope=col>&lt;int&gt;</th><th scope=col>&lt;int&gt;</th><th scope=col>&lt;chr&gt;</th><th scope=col>&lt;chr&gt;</th></tr>\n",
       "</thead>\n",
       "<tbody>\n",
       "\t<tr><td>60513</td><td>60513</td><td>442096647</td><td>EP</td><td>EP3112597   </td></tr>\n",
       "\t<tr><td>60513</td><td>60513</td><td>417401751</td><td>EP</td><td>EP2913271   </td></tr>\n",
       "\t<tr><td>60513</td><td>60513</td><td>404985890</td><td>EP</td><td>EP2825450   </td></tr>\n",
       "\t<tr><td>60513</td><td>60513</td><td>527283926</td><td>US</td><td>US2020070202</td></tr>\n",
       "\t<tr><td>60513</td><td>60513</td><td>544408405</td><td>WO</td><td>WO2021123759</td></tr>\n",
       "</tbody>\n",
       "</table>\n"
      ],
      "text/latex": [
       "A data.table: 5 × 5\n",
       "\\begin{tabular}{lllll}\n",
       " HAN\\_ID & HARM\\_ID & Appln\\_id & Publn\\_auth & Patent\\_number\\\\\n",
       " <int> & <int> & <int> & <chr> & <chr>\\\\\n",
       "\\hline\n",
       "\t 60513 & 60513 & 442096647 & EP & EP3112597   \\\\\n",
       "\t 60513 & 60513 & 417401751 & EP & EP2913271   \\\\\n",
       "\t 60513 & 60513 & 404985890 & EP & EP2825450   \\\\\n",
       "\t 60513 & 60513 & 527283926 & US & US2020070202\\\\\n",
       "\t 60513 & 60513 & 544408405 & WO & WO2021123759\\\\\n",
       "\\end{tabular}\n"
      ],
      "text/markdown": [
       "\n",
       "A data.table: 5 × 5\n",
       "\n",
       "| HAN_ID &lt;int&gt; | HARM_ID &lt;int&gt; | Appln_id &lt;int&gt; | Publn_auth &lt;chr&gt; | Patent_number &lt;chr&gt; |\n",
       "|---|---|---|---|---|\n",
       "| 60513 | 60513 | 442096647 | EP | EP3112597    |\n",
       "| 60513 | 60513 | 417401751 | EP | EP2913271    |\n",
       "| 60513 | 60513 | 404985890 | EP | EP2825450    |\n",
       "| 60513 | 60513 | 527283926 | US | US2020070202 |\n",
       "| 60513 | 60513 | 544408405 | WO | WO2021123759 |\n",
       "\n"
      ],
      "text/plain": [
       "  HAN_ID HARM_ID Appln_id  Publn_auth Patent_number\n",
       "1 60513  60513   442096647 EP         EP3112597    \n",
       "2 60513  60513   417401751 EP         EP2913271    \n",
       "3 60513  60513   404985890 EP         EP2825450    \n",
       "4 60513  60513   527283926 US         US2020070202 \n",
       "5 60513  60513   544408405 WO         WO2021123759 "
      ]
     },
     "metadata": {},
     "output_type": "display_data"
    }
   ],
   "source": [
    "han_patents %>%\n",
    "    .[HAN_ID %in% airbus_han_ids] %>%\n",
    "    .[sample(.N, 5)]"
   ]
  },
  {
   "cell_type": "code",
   "execution_count": 96,
   "metadata": {
    "vscode": {
     "languageId": "r"
    }
   },
   "outputs": [
    {
     "data": {
      "text/html": [
       "<table class=\"dataframe\">\n",
       "<caption>A data.table: 6 × 5</caption>\n",
       "<thead>\n",
       "\t<tr><th scope=col>HAN_ID</th><th scope=col>HARM_ID</th><th scope=col>Appln_id</th><th scope=col>Publn_auth</th><th scope=col>Patent_number</th></tr>\n",
       "\t<tr><th scope=col>&lt;int&gt;</th><th scope=col>&lt;int&gt;</th><th scope=col>&lt;int&gt;</th><th scope=col>&lt;chr&gt;</th><th scope=col>&lt;chr&gt;</th></tr>\n",
       "</thead>\n",
       "<tbody>\n",
       "\t<tr><td>60513</td><td>60513</td><td>   213</td><td>EP</td><td>EP2030891</td></tr>\n",
       "\t<tr><td>60513</td><td>60513</td><td> 65448</td><td>EP</td><td>EP2025928</td></tr>\n",
       "\t<tr><td>60513</td><td>60513</td><td>156990</td><td>EP</td><td>EP1920908</td></tr>\n",
       "\t<tr><td>60513</td><td>60513</td><td>161551</td><td>EP</td><td>EP1972896</td></tr>\n",
       "\t<tr><td>60513</td><td>60513</td><td>173385</td><td>EP</td><td>EP2134522</td></tr>\n",
       "\t<tr><td>60513</td><td>60513</td><td>173386</td><td>EP</td><td>EP2136979</td></tr>\n",
       "</tbody>\n",
       "</table>\n"
      ],
      "text/latex": [
       "A data.table: 6 × 5\n",
       "\\begin{tabular}{lllll}\n",
       " HAN\\_ID & HARM\\_ID & Appln\\_id & Publn\\_auth & Patent\\_number\\\\\n",
       " <int> & <int> & <int> & <chr> & <chr>\\\\\n",
       "\\hline\n",
       "\t 60513 & 60513 &    213 & EP & EP2030891\\\\\n",
       "\t 60513 & 60513 &  65448 & EP & EP2025928\\\\\n",
       "\t 60513 & 60513 & 156990 & EP & EP1920908\\\\\n",
       "\t 60513 & 60513 & 161551 & EP & EP1972896\\\\\n",
       "\t 60513 & 60513 & 173385 & EP & EP2134522\\\\\n",
       "\t 60513 & 60513 & 173386 & EP & EP2136979\\\\\n",
       "\\end{tabular}\n"
      ],
      "text/markdown": [
       "\n",
       "A data.table: 6 × 5\n",
       "\n",
       "| HAN_ID &lt;int&gt; | HARM_ID &lt;int&gt; | Appln_id &lt;int&gt; | Publn_auth &lt;chr&gt; | Patent_number &lt;chr&gt; |\n",
       "|---|---|---|---|---|\n",
       "| 60513 | 60513 |    213 | EP | EP2030891 |\n",
       "| 60513 | 60513 |  65448 | EP | EP2025928 |\n",
       "| 60513 | 60513 | 156990 | EP | EP1920908 |\n",
       "| 60513 | 60513 | 161551 | EP | EP1972896 |\n",
       "| 60513 | 60513 | 173385 | EP | EP2134522 |\n",
       "| 60513 | 60513 | 173386 | EP | EP2136979 |\n",
       "\n"
      ],
      "text/plain": [
       "  HAN_ID HARM_ID Appln_id Publn_auth Patent_number\n",
       "1 60513  60513      213   EP         EP2030891    \n",
       "2 60513  60513    65448   EP         EP2025928    \n",
       "3 60513  60513   156990   EP         EP1920908    \n",
       "4 60513  60513   161551   EP         EP1972896    \n",
       "5 60513  60513   173385   EP         EP2134522    \n",
       "6 60513  60513   173386   EP         EP2136979    "
      ]
     },
     "metadata": {},
     "output_type": "display_data"
    }
   ],
   "source": [
    "han_patents %>%\n",
    "    .[HAN_ID %in% airbus_han_ids] %>%\n",
    "    .[Publn_auth == 'EP'] -> airbus_ep_patents\n",
    "    head(airbus_ep_patents)"
   ]
  },
  {
   "cell_type": "code",
   "execution_count": 27,
   "metadata": {
    "vscode": {
     "languageId": "r"
    }
   },
   "outputs": [],
   "source": [
    "request <- GET('https://data.epo.org/linked-data/data/publication/EP/1972896.json')"
   ]
  },
  {
   "cell_type": "code",
   "execution_count": 28,
   "metadata": {
    "vscode": {
     "languageId": "r"
    }
   },
   "outputs": [],
   "source": [
    "response <- content(request, as = \"text\", encoding = \"UTF-8\")\n",
    "json <- fromJSON(response, flatten = TRUE)\n",
    "names(json$result)"
   ]
  },
  {
   "cell_type": "code",
   "execution_count": 12,
   "metadata": {
    "vscode": {
     "languageId": "r"
    }
   },
   "outputs": [
    {
     "data": {
      "text/html": [
       "<table class=\"dataframe\">\n",
       "<caption>A data.frame: 3 × 8</caption>\n",
       "<thead>\n",
       "\t<tr><th></th><th scope=col>_about</th><th scope=col>label</th><th scope=col>publicationAuthority</th><th scope=col>publicationDate</th><th scope=col>application._about</th><th scope=col>application.applicationNumber</th><th scope=col>publicationKind._about</th><th scope=col>publicationKind.label</th></tr>\n",
       "\t<tr><th></th><th scope=col>&lt;chr&gt;</th><th scope=col>&lt;chr&gt;</th><th scope=col>&lt;chr&gt;</th><th scope=col>&lt;chr&gt;</th><th scope=col>&lt;chr&gt;</th><th scope=col>&lt;chr&gt;</th><th scope=col>&lt;chr&gt;</th><th scope=col>&lt;chr&gt;</th></tr>\n",
       "</thead>\n",
       "<tbody>\n",
       "\t<tr><th scope=row>1</th><td>http://data.epo.org/linked-data/data/publication/EP/1972896/A2/-</td><td>EP 1972896 A2</td><td>http://data.epo.org/linked-data/id/st3/EP</td><td>Wed, 24 Sep 2008</td><td>http://data.epo.org/linked-data/id/application/EP/08004318</td><td>08004318</td><td>http://data.epo.org/linked-data/def/patent/publicationKind_A2</td><td>A2</td></tr>\n",
       "\t<tr><th scope=row>2</th><td>http://data.epo.org/linked-data/data/publication/EP/1972896/A3/-</td><td>EP 1972896 A3</td><td>http://data.epo.org/linked-data/id/st3/EP</td><td>Wed, 07 Nov 2012</td><td>http://data.epo.org/linked-data/id/application/EP/08004318</td><td>08004318</td><td>http://data.epo.org/linked-data/def/patent/publicationKind_A3</td><td>A3</td></tr>\n",
       "\t<tr><th scope=row>3</th><td>http://data.epo.org/linked-data/data/publication/EP/1972896/B1/-</td><td>EP 1972896 B1</td><td>http://data.epo.org/linked-data/id/st3/EP</td><td>Wed, 06 May 2015</td><td>http://data.epo.org/linked-data/id/application/EP/08004318</td><td>08004318</td><td>http://data.epo.org/linked-data/def/patent/publicationKind_B1</td><td>B1</td></tr>\n",
       "</tbody>\n",
       "</table>\n"
      ],
      "text/latex": [
       "A data.frame: 3 × 8\n",
       "\\begin{tabular}{r|llllllll}\n",
       "  & \\_about & label & publicationAuthority & publicationDate & application.\\_about & application.applicationNumber & publicationKind.\\_about & publicationKind.label\\\\\n",
       "  & <chr> & <chr> & <chr> & <chr> & <chr> & <chr> & <chr> & <chr>\\\\\n",
       "\\hline\n",
       "\t1 & http://data.epo.org/linked-data/data/publication/EP/1972896/A2/- & EP 1972896 A2 & http://data.epo.org/linked-data/id/st3/EP & Wed, 24 Sep 2008 & http://data.epo.org/linked-data/id/application/EP/08004318 & 08004318 & http://data.epo.org/linked-data/def/patent/publicationKind\\_A2 & A2\\\\\n",
       "\t2 & http://data.epo.org/linked-data/data/publication/EP/1972896/A3/- & EP 1972896 A3 & http://data.epo.org/linked-data/id/st3/EP & Wed, 07 Nov 2012 & http://data.epo.org/linked-data/id/application/EP/08004318 & 08004318 & http://data.epo.org/linked-data/def/patent/publicationKind\\_A3 & A3\\\\\n",
       "\t3 & http://data.epo.org/linked-data/data/publication/EP/1972896/B1/- & EP 1972896 B1 & http://data.epo.org/linked-data/id/st3/EP & Wed, 06 May 2015 & http://data.epo.org/linked-data/id/application/EP/08004318 & 08004318 & http://data.epo.org/linked-data/def/patent/publicationKind\\_B1 & B1\\\\\n",
       "\\end{tabular}\n"
      ],
      "text/markdown": [
       "\n",
       "A data.frame: 3 × 8\n",
       "\n",
       "| <!--/--> | _about &lt;chr&gt; | label &lt;chr&gt; | publicationAuthority &lt;chr&gt; | publicationDate &lt;chr&gt; | application._about &lt;chr&gt; | application.applicationNumber &lt;chr&gt; | publicationKind._about &lt;chr&gt; | publicationKind.label &lt;chr&gt; |\n",
       "|---|---|---|---|---|---|---|---|---|\n",
       "| 1 | http://data.epo.org/linked-data/data/publication/EP/1972896/A2/- | EP 1972896 A2 | http://data.epo.org/linked-data/id/st3/EP | Wed, 24 Sep 2008 | http://data.epo.org/linked-data/id/application/EP/08004318 | 08004318 | http://data.epo.org/linked-data/def/patent/publicationKind_A2 | A2 |\n",
       "| 2 | http://data.epo.org/linked-data/data/publication/EP/1972896/A3/- | EP 1972896 A3 | http://data.epo.org/linked-data/id/st3/EP | Wed, 07 Nov 2012 | http://data.epo.org/linked-data/id/application/EP/08004318 | 08004318 | http://data.epo.org/linked-data/def/patent/publicationKind_A3 | A3 |\n",
       "| 3 | http://data.epo.org/linked-data/data/publication/EP/1972896/B1/- | EP 1972896 B1 | http://data.epo.org/linked-data/id/st3/EP | Wed, 06 May 2015 | http://data.epo.org/linked-data/id/application/EP/08004318 | 08004318 | http://data.epo.org/linked-data/def/patent/publicationKind_B1 | B1 |\n",
       "\n"
      ],
      "text/plain": [
       "  _about                                                          \n",
       "1 http://data.epo.org/linked-data/data/publication/EP/1972896/A2/-\n",
       "2 http://data.epo.org/linked-data/data/publication/EP/1972896/A3/-\n",
       "3 http://data.epo.org/linked-data/data/publication/EP/1972896/B1/-\n",
       "  label         publicationAuthority                      publicationDate \n",
       "1 EP 1972896 A2 http://data.epo.org/linked-data/id/st3/EP Wed, 24 Sep 2008\n",
       "2 EP 1972896 A3 http://data.epo.org/linked-data/id/st3/EP Wed, 07 Nov 2012\n",
       "3 EP 1972896 B1 http://data.epo.org/linked-data/id/st3/EP Wed, 06 May 2015\n",
       "  application._about                                        \n",
       "1 http://data.epo.org/linked-data/id/application/EP/08004318\n",
       "2 http://data.epo.org/linked-data/id/application/EP/08004318\n",
       "3 http://data.epo.org/linked-data/id/application/EP/08004318\n",
       "  application.applicationNumber\n",
       "1 08004318                     \n",
       "2 08004318                     \n",
       "3 08004318                     \n",
       "  publicationKind._about                                       \n",
       "1 http://data.epo.org/linked-data/def/patent/publicationKind_A2\n",
       "2 http://data.epo.org/linked-data/def/patent/publicationKind_A3\n",
       "3 http://data.epo.org/linked-data/def/patent/publicationKind_B1\n",
       "  publicationKind.label\n",
       "1 A2                   \n",
       "2 A3                   \n",
       "3 B1                   "
      ]
     },
     "metadata": {},
     "output_type": "display_data"
    }
   ],
   "source": [
    "head(json$result$items)"
   ]
  },
  {
   "cell_type": "code",
   "execution_count": 15,
   "metadata": {
    "vscode": {
     "languageId": "r"
    }
   },
   "outputs": [
    {
     "data": {
      "text/plain": [
       "\n",
       "\n",
       "|Link                                                             | Publication_date | Application_number | Kind_code |\n",
       "|:----------------------------------------------------------------|:----------------:|:------------------:|:---------:|\n",
       "|http://data.epo.org/linked-data/data/publication/EP/1972896/A2/- | Wed, 24 Sep 2008 |      08004318      |    A2     |\n",
       "|http://data.epo.org/linked-data/data/publication/EP/1972896/A3/- | Wed, 07 Nov 2012 |      08004318      |    A3     |\n",
       "|http://data.epo.org/linked-data/data/publication/EP/1972896/B1/- | Wed, 06 May 2015 |      08004318      |    B1     |"
      ]
     },
     "metadata": {},
     "output_type": "display_data"
    }
   ],
   "source": [
    "json$result$items %>%\n",
    "    select(\n",
    "        `_about`, \n",
    "        publicationDate, \n",
    "        application.applicationNumber,\n",
    "        publicationKind.label) %>%\n",
    "    rename(Link=`_about`, Publication_date=publicationDate, \n",
    "        Application_number=application.applicationNumber, \n",
    "        Kind_code=publicationKind.label) %>%\n",
    "        kable('pipe', align='lccc')"
   ]
  },
  {
   "cell_type": "code",
   "execution_count": 99,
   "metadata": {
    "vscode": {
     "languageId": "r"
    }
   },
   "outputs": [],
   "source": [
    "get_publications <- function(url) {\n",
    "    # initialize df\n",
    "    df0 <- data.frame(\n",
    "            link=character(),\n",
    "            pub_date=character(),\n",
    "            appln_number=character(),\n",
    "            kind_code=character(),\n",
    "            stringsAsFactors = FALSE\n",
    "        )\n",
    "    # set up headers \n",
    "    request <- GET(\n",
    "        url,\n",
    "        add_headers(\n",
    "            Accept = \"text/html,application/xhtml+xml,application/xml;q=0.9,image/avif,image/webp,image/apng,*/*;q=0.8,application/signed-exchange;v=b3;q=0.9\",\n",
    "            `Accept-Encoding` = \"gzip, deflate, br\",\n",
    "            `Accept-Language` = \"en-US,en;q=0.9\",\n",
    "            Connection = \"keep-alive\",\n",
    "            Cookie = \"__ssds=2; __ssuzjsr2=a9be0cd8e; __uzmbj2=1674140969; __uzmaj2=bc092231-9990-40c4-9dc9-a2522cc3d5f3; __uzmdj2=1674381382; __uzmcj2=541805878521\",\n",
    "            Host = \"data.epo.org\",\n",
    "            `Sec-Fetch-Dest` =  \"document\",\n",
    "            `Sec-Fetch-Mode` = \"navigate\",\n",
    "            `Sec-Fetch-Site` = \"cross-site\",\n",
    "            `Sec-Fetch-User` = \"?1\",\n",
    "            `Upgrade-Insecure-Requests` = \"1\",\n",
    "            `User-Agent` = \"Mozilla/5.0 (X11; Linux aarch64) AppleWebKit/537.36 (KHTML, like Gecko) Chrome/88.0.4324.188 Safari/537.36 CrKey/1.54.250320\"\n",
    "        )\n",
    "    )\n",
    "\n",
    "    if (status_code(request) == 200) {\n",
    "        response <- content(request, as = \"text\", encoding = \"UTF-8\")\n",
    "        json <- fromJSON(response, flatten = TRUE)\n",
    "\n",
    "        if (length(json$result$items) == 0){\n",
    "            return(df0)\n",
    "        } else {\n",
    "            json$result$items %>%\n",
    "            select(\n",
    "                `_about`, \n",
    "                publicationDate, \n",
    "                application.applicationNumber,\n",
    "                publicationKind.label) %>%\n",
    "            rename(link=`_about`, pub_date=publicationDate, \n",
    "                appln_number=application.applicationNumber, \n",
    "                kind_code=publicationKind.label) -> df\n",
    "\n",
    "                return(df)\n",
    "        }\n",
    "    } else {\n",
    "        return(df0)\n",
    "    }\n",
    "\n",
    "    return(df0)\n",
    "}"
   ]
  },
  {
   "cell_type": "code",
   "execution_count": 47,
   "metadata": {
    "vscode": {
     "languageId": "r"
    }
   },
   "outputs": [],
   "source": [
    "get_granted <- function(url, kind='B1') {\n",
    "    df <- get_publications(url)\n",
    "    df %>%\n",
    "        filter(kind_code == kind) -> foo\n",
    "    \n",
    "    return(foo)\n",
    "}"
   ]
  },
  {
   "cell_type": "code",
   "execution_count": 66,
   "metadata": {
    "vscode": {
     "languageId": "r"
    }
   },
   "outputs": [],
   "source": [
    "construct_url <- function(patent_number) {\n",
    "    pub_link = 'https://data.epo.org/linked-data/data/publication/EP/'\n",
    "    patent_number <- gsub('EP', '', patent_number)\n",
    "    pn <- str_trim(patent_number)\n",
    "    link <- paste(pub_link, pn, '.json', sep=\"\")\n",
    "\n",
    "    return(link)\n",
    "}"
   ]
  },
  {
   "cell_type": "code",
   "execution_count": 94,
   "metadata": {
    "vscode": {
     "languageId": "r"
    }
   },
   "outputs": [],
   "source": [
    "url = construct_url(' EP2136979 ')"
   ]
  },
  {
   "cell_type": "code",
   "execution_count": 100,
   "metadata": {
    "vscode": {
     "languageId": "r"
    }
   },
   "outputs": [
    {
     "name": "stdout",
     "output_type": "stream",
     "text": [
      "[1] 200\n"
     ]
    },
    {
     "data": {
      "text/html": [
       "<table class=\"dataframe\">\n",
       "<caption>A data.frame: 0 × 4</caption>\n",
       "<thead>\n",
       "\t<tr><th scope=col>link</th><th scope=col>pub_date</th><th scope=col>appln_number</th><th scope=col>kind_code</th></tr>\n",
       "\t<tr><th scope=col>&lt;chr&gt;</th><th scope=col>&lt;chr&gt;</th><th scope=col>&lt;chr&gt;</th><th scope=col>&lt;chr&gt;</th></tr>\n",
       "</thead>\n",
       "<tbody>\n",
       "</tbody>\n",
       "</table>\n"
      ],
      "text/latex": [
       "A data.frame: 0 × 4\n",
       "\\begin{tabular}{llll}\n",
       " link & pub\\_date & appln\\_number & kind\\_code\\\\\n",
       " <chr> & <chr> & <chr> & <chr>\\\\\n",
       "\\hline\n",
       "\\end{tabular}\n"
      ],
      "text/markdown": [
       "\n",
       "A data.frame: 0 × 4\n",
       "\n",
       "| link &lt;chr&gt; | pub_date &lt;chr&gt; | appln_number &lt;chr&gt; | kind_code &lt;chr&gt; |\n",
       "|---|---|---|---|\n",
       "\n"
      ],
      "text/plain": [
       "     link pub_date appln_number kind_code"
      ]
     },
     "metadata": {},
     "output_type": "display_data"
    }
   ],
   "source": [
    "get_granted(url)"
   ]
  },
  {
   "cell_type": "code",
   "execution_count": 95,
   "metadata": {
    "vscode": {
     "languageId": "r"
    }
   },
   "outputs": [
    {
     "data": {
      "text/html": [
       "<table class=\"dataframe\">\n",
       "<caption>A data.frame: 0 × 4</caption>\n",
       "<thead>\n",
       "\t<tr><th scope=col>link</th><th scope=col>pub_date</th><th scope=col>appln_number</th><th scope=col>kind_code</th></tr>\n",
       "\t<tr><th scope=col>&lt;chr&gt;</th><th scope=col>&lt;chr&gt;</th><th scope=col>&lt;chr&gt;</th><th scope=col>&lt;chr&gt;</th></tr>\n",
       "</thead>\n",
       "<tbody>\n",
       "</tbody>\n",
       "</table>\n"
      ],
      "text/latex": [
       "A data.frame: 0 × 4\n",
       "\\begin{tabular}{llll}\n",
       " link & pub\\_date & appln\\_number & kind\\_code\\\\\n",
       " <chr> & <chr> & <chr> & <chr>\\\\\n",
       "\\hline\n",
       "\\end{tabular}\n"
      ],
      "text/markdown": [
       "\n",
       "A data.frame: 0 × 4\n",
       "\n",
       "| link &lt;chr&gt; | pub_date &lt;chr&gt; | appln_number &lt;chr&gt; | kind_code &lt;chr&gt; |\n",
       "|---|---|---|---|\n",
       "\n"
      ],
      "text/plain": [
       "     link pub_date appln_number kind_code"
      ]
     },
     "metadata": {},
     "output_type": "display_data"
    }
   ],
   "source": [
    "get_granted(url)"
   ]
  },
  {
   "cell_type": "code",
   "execution_count": 88,
   "metadata": {
    "vscode": {
     "languageId": "r"
    }
   },
   "outputs": [
    {
     "data": {
      "text/html": [
       "<style>\n",
       ".list-inline {list-style: none; margin:0; padding: 0}\n",
       ".list-inline>li {display: inline-block}\n",
       ".list-inline>li:not(:last-child)::after {content: \"\\00b7\"; padding: 0 .5ex}\n",
       "</style>\n",
       "<ol class=list-inline><li>'_about'</li><li>'definition'</li><li>'extendedMetadataVersion'</li><li>'first'</li><li>'hasPart'</li><li>'isPartOf'</li><li>'items'</li><li>'itemsPerPage'</li><li>'notice'</li><li>'page'</li><li>'startIndex'</li><li>'type'</li></ol>\n"
      ],
      "text/latex": [
       "\\begin{enumerate*}\n",
       "\\item '\\_about'\n",
       "\\item 'definition'\n",
       "\\item 'extendedMetadataVersion'\n",
       "\\item 'first'\n",
       "\\item 'hasPart'\n",
       "\\item 'isPartOf'\n",
       "\\item 'items'\n",
       "\\item 'itemsPerPage'\n",
       "\\item 'notice'\n",
       "\\item 'page'\n",
       "\\item 'startIndex'\n",
       "\\item 'type'\n",
       "\\end{enumerate*}\n"
      ],
      "text/markdown": [
       "1. '_about'\n",
       "2. 'definition'\n",
       "3. 'extendedMetadataVersion'\n",
       "4. 'first'\n",
       "5. 'hasPart'\n",
       "6. 'isPartOf'\n",
       "7. 'items'\n",
       "8. 'itemsPerPage'\n",
       "9. 'notice'\n",
       "10. 'page'\n",
       "11. 'startIndex'\n",
       "12. 'type'\n",
       "\n",
       "\n"
      ],
      "text/plain": [
       " [1] \"_about\"                  \"definition\"             \n",
       " [3] \"extendedMetadataVersion\" \"first\"                  \n",
       " [5] \"hasPart\"                 \"isPartOf\"               \n",
       " [7] \"items\"                   \"itemsPerPage\"           \n",
       " [9] \"notice\"                  \"page\"                   \n",
       "[11] \"startIndex\"              \"type\"                   "
      ]
     },
     "metadata": {},
     "output_type": "display_data"
    }
   ],
   "source": [
    "foo <- GET(url)\n",
    "response <- content(foo, as = \"text\", encoding = \"UTF-8\")\n",
    "json <- fromJSON(response, flatten = TRUE)\n",
    "names(json$result)"
   ]
  },
  {
   "cell_type": "code",
   "execution_count": null,
   "metadata": {
    "vscode": {
     "languageId": "r"
    }
   },
   "outputs": [],
   "source": []
  }
 ],
 "metadata": {
  "kernelspec": {
   "display_name": "R",
   "language": "R",
   "name": "ir"
  },
  "language_info": {
   "codemirror_mode": "r",
   "file_extension": ".r",
   "mimetype": "text/x-r-source",
   "name": "R",
   "pygments_lexer": "r",
   "version": "4.2.2"
  },
  "orig_nbformat": 4,
  "vscode": {
   "interpreter": {
    "hash": "16bff2c6a4793fe572f28f54bf2473ba4d5d1eb32d0a445bafdbd12ba8e85d21"
   }
  }
 },
 "nbformat": 4,
 "nbformat_minor": 2
}
