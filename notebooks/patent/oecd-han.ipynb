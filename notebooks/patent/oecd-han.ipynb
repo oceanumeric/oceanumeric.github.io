{
 "cells": [
  {
   "attachments": {},
   "cell_type": "markdown",
   "metadata": {},
   "source": [
    "# OECD HAN Database"
   ]
  },
  {
   "cell_type": "code",
   "execution_count": 4,
   "metadata": {
    "vscode": {
     "languageId": "r"
    }
   },
   "outputs": [],
   "source": [
    "# load packages \n",
    "library(pacman)\n",
    "p_load(tidyverse, data.table, dtplyr, reshape2, archive, kableExtra)\n",
    "# set option\n",
    "options(dplyr.summarise.inform = FALSE)\n",
    "gray_scale <- c('#F3F4F8','#D2D4DA', '#B3B5BD', \n",
    "                '#9496A1', '#7d7f89', '#777986', \n",
    "                '#656673', '#5B5D6B', '#4d505e',\n",
    "                '#404352', '#2b2d3b', '#282A3A',\n",
    "                '#1b1c2a', '#191a2b',\n",
    "                '#141626', '#101223')"
   ]
  },
  {
   "cell_type": "code",
   "execution_count": 6,
   "metadata": {
    "vscode": {
     "languageId": "r"
    }
   },
   "outputs": [],
   "source": [
    "han_names <- fread('work/notebooks/patent/data/202208_HAN_NAMES.txt')"
   ]
  },
  {
   "cell_type": "code",
   "execution_count": 7,
   "metadata": {
    "vscode": {
     "languageId": "r"
    }
   },
   "outputs": [
    {
     "data": {
      "text/html": [
       "<style>\n",
       ".list-inline {list-style: none; margin:0; padding: 0}\n",
       ".list-inline>li {display: inline-block}\n",
       ".list-inline>li:not(:last-child)::after {content: \"\\00b7\"; padding: 0 .5ex}\n",
       "</style>\n",
       "<ol class=list-inline><li>4191007</li><li>3</li></ol>\n"
      ],
      "text/latex": [
       "\\begin{enumerate*}\n",
       "\\item 4191007\n",
       "\\item 3\n",
       "\\end{enumerate*}\n"
      ],
      "text/markdown": [
       "1. 4191007\n",
       "2. 3\n",
       "\n",
       "\n"
      ],
      "text/plain": [
       "[1] 4191007       3"
      ]
     },
     "metadata": {},
     "output_type": "display_data"
    }
   ],
   "source": [
    "dim(han_names)"
   ]
  },
  {
   "cell_type": "code",
   "execution_count": 7,
   "metadata": {
    "vscode": {
     "languageId": "r"
    }
   },
   "outputs": [
    {
     "data": {
      "text/html": [
       "<table class=\"dataframe\">\n",
       "<caption>A data.table: 6 × 3</caption>\n",
       "<thead>\n",
       "\t<tr><th scope=col>HAN_ID</th><th scope=col>Clean_name</th><th scope=col>Person_ctry_code</th></tr>\n",
       "\t<tr><th scope=col>&lt;int&gt;</th><th scope=col>&lt;chr&gt;</th><th scope=col>&lt;chr&gt;</th></tr>\n",
       "</thead>\n",
       "<tbody>\n",
       "\t<tr><td>1</td><td><span style=white-space:pre-wrap>&amp; HAMBOURG NIENDORF            </span></td><td>DE</td></tr>\n",
       "\t<tr><td>2</td><td><span style=white-space:pre-wrap>&amp; KK                           </span></td><td>JP</td></tr>\n",
       "\t<tr><td>3</td><td>“ASTRONIT” CLOSE CORP          </td><td>RU</td></tr>\n",
       "\t<tr><td>4</td><td>“DEUTSCHE SEE” GMBH            </td><td>DE</td></tr>\n",
       "\t<tr><td>5</td><td>“EFIRNOIE” OPEN JOINT STOCK CO </td><td>RU</td></tr>\n",
       "\t<tr><td>6</td><td>“EUROSTANDART” LTD LIABILITY CO</td><td>RU</td></tr>\n",
       "</tbody>\n",
       "</table>\n"
      ],
      "text/latex": [
       "A data.table: 6 × 3\n",
       "\\begin{tabular}{lll}\n",
       " HAN\\_ID & Clean\\_name & Person\\_ctry\\_code\\\\\n",
       " <int> & <chr> & <chr>\\\\\n",
       "\\hline\n",
       "\t 1 & \\& HAMBOURG NIENDORF             & DE\\\\\n",
       "\t 2 & \\& KK                            & JP\\\\\n",
       "\t 3 & “ASTRONIT” CLOSE CORP           & RU\\\\\n",
       "\t 4 & “DEUTSCHE SEE” GMBH             & DE\\\\\n",
       "\t 5 & “EFIRNOIE” OPEN JOINT STOCK CO  & RU\\\\\n",
       "\t 6 & “EUROSTANDART” LTD LIABILITY CO & RU\\\\\n",
       "\\end{tabular}\n"
      ],
      "text/markdown": [
       "\n",
       "A data.table: 6 × 3\n",
       "\n",
       "| HAN_ID &lt;int&gt; | Clean_name &lt;chr&gt; | Person_ctry_code &lt;chr&gt; |\n",
       "|---|---|---|\n",
       "| 1 | &amp; HAMBOURG NIENDORF             | DE |\n",
       "| 2 | &amp; KK                            | JP |\n",
       "| 3 | “ASTRONIT” CLOSE CORP           | RU |\n",
       "| 4 | “DEUTSCHE SEE” GMBH             | DE |\n",
       "| 5 | “EFIRNOIE” OPEN JOINT STOCK CO  | RU |\n",
       "| 6 | “EUROSTANDART” LTD LIABILITY CO | RU |\n",
       "\n"
      ],
      "text/plain": [
       "  HAN_ID Clean_name                      Person_ctry_code\n",
       "1 1      & HAMBOURG NIENDORF             DE              \n",
       "2 2      & KK                            JP              \n",
       "3 3      “ASTRONIT” CLOSE CORP           RU              \n",
       "4 4      “DEUTSCHE SEE” GMBH             DE              \n",
       "5 5      “EFIRNOIE” OPEN JOINT STOCK CO  RU              \n",
       "6 6      “EUROSTANDART” LTD LIABILITY CO RU              "
      ]
     },
     "metadata": {},
     "output_type": "display_data"
    }
   ],
   "source": [
    "head(han_names)"
   ]
  },
  {
   "cell_type": "code",
   "execution_count": 8,
   "metadata": {
    "vscode": {
     "languageId": "r"
    }
   },
   "outputs": [],
   "source": [
    "de_firms <- fread('work/notebooks/patent/data/orbis_de_matched_l.csv')"
   ]
  },
  {
   "cell_type": "code",
   "execution_count": 55,
   "metadata": {
    "vscode": {
     "languageId": "r"
    }
   },
   "outputs": [
    {
     "data": {
      "text/plain": [
       "\n",
       "\n",
       "| HAN_ID |           Clean_name           | Person_ctry_code |\n",
       "|:------:|:------------------------------:|:----------------:|\n",
       "|   1    |      & HAMBOURG NIENDORF       |        DE        |\n",
       "|   2    |              & KK              |        JP        |\n",
       "|   3    |     “ASTRONIT” CLOSE CORP      |        RU        |\n",
       "|   4    |      “DEUTSCHE SEE” GMBH       |        DE        |\n",
       "|   5    | “EFIRNOIE” OPEN JOINT STOCK CO |        RU        |"
      ]
     },
     "metadata": {},
     "output_type": "display_data"
    }
   ],
   "source": [
    "han_names %>%\n",
    "    .[1:5,] %>%\n",
    "    kable('pipe', align='ccc')"
   ]
  },
  {
   "cell_type": "code",
   "execution_count": 53,
   "metadata": {
    "vscode": {
     "languageId": "r"
    }
   },
   "outputs": [
    {
     "data": {
      "text/html": [
       "<table class=\"dataframe\">\n",
       "<caption>A data.table: 5 × 2</caption>\n",
       "<thead>\n",
       "\t<tr><th scope=col>name_native</th><th scope=col>name_internat</th></tr>\n",
       "\t<tr><th scope=col>&lt;chr&gt;</th><th scope=col>&lt;chr&gt;</th></tr>\n",
       "</thead>\n",
       "<tbody>\n",
       "\t<tr><td>Airbus Defence and Space GmbH        </td><td>Airbus Defence and Space GmbH        </td></tr>\n",
       "\t<tr><td>EurA AG                              </td><td>EurA AG                              </td></tr>\n",
       "\t<tr><td>TuTech Innovation GmbH               </td><td>TuTech Innovation GmbH               </td></tr>\n",
       "\t<tr><td>FFT Produktionssysteme GmbH &amp; Co. KG.</td><td>FFT Produktionssysteme GmbH &amp; Co. KG.</td></tr>\n",
       "\t<tr><td>Diehl Aviation Laupheim GmbH         </td><td>Diehl Aviation Laupheim GmbH         </td></tr>\n",
       "</tbody>\n",
       "</table>\n"
      ],
      "text/latex": [
       "A data.table: 5 × 2\n",
       "\\begin{tabular}{ll}\n",
       " name\\_native & name\\_internat\\\\\n",
       " <chr> & <chr>\\\\\n",
       "\\hline\n",
       "\t Airbus Defence and Space GmbH         & Airbus Defence and Space GmbH        \\\\\n",
       "\t EurA AG                               & EurA AG                              \\\\\n",
       "\t TuTech Innovation GmbH                & TuTech Innovation GmbH               \\\\\n",
       "\t FFT Produktionssysteme GmbH \\& Co. KG. & FFT Produktionssysteme GmbH \\& Co. KG.\\\\\n",
       "\t Diehl Aviation Laupheim GmbH          & Diehl Aviation Laupheim GmbH         \\\\\n",
       "\\end{tabular}\n"
      ],
      "text/markdown": [
       "\n",
       "A data.table: 5 × 2\n",
       "\n",
       "| name_native &lt;chr&gt; | name_internat &lt;chr&gt; |\n",
       "|---|---|\n",
       "| Airbus Defence and Space GmbH         | Airbus Defence and Space GmbH         |\n",
       "| EurA AG                               | EurA AG                               |\n",
       "| TuTech Innovation GmbH                | TuTech Innovation GmbH                |\n",
       "| FFT Produktionssysteme GmbH &amp; Co. KG. | FFT Produktionssysteme GmbH &amp; Co. KG. |\n",
       "| Diehl Aviation Laupheim GmbH          | Diehl Aviation Laupheim GmbH          |\n",
       "\n"
      ],
      "text/plain": [
       "  name_native                           name_internat                        \n",
       "1 Airbus Defence and Space GmbH         Airbus Defence and Space GmbH        \n",
       "2 EurA AG                               EurA AG                              \n",
       "3 TuTech Innovation GmbH                TuTech Innovation GmbH               \n",
       "4 FFT Produktionssysteme GmbH & Co. KG. FFT Produktionssysteme GmbH & Co. KG.\n",
       "5 Diehl Aviation Laupheim GmbH          Diehl Aviation Laupheim GmbH         "
      ]
     },
     "metadata": {},
     "output_type": "display_data"
    }
   ],
   "source": [
    "de_firms %>%\n",
    "    .[1:5, 2:3]"
   ]
  },
  {
   "cell_type": "code",
   "execution_count": 15,
   "metadata": {
    "vscode": {
     "languageId": "r"
    }
   },
   "outputs": [
    {
     "data": {
      "text/html": [
       "<style>\n",
       ".list-inline {list-style: none; margin:0; padding: 0}\n",
       ".list-inline>li {display: inline-block}\n",
       ".list-inline>li:not(:last-child)::after {content: \"\\00b7\"; padding: 0 .5ex}\n",
       "</style>\n",
       "<ol class=list-inline><li>60513</li><li>62422</li><li>3637004</li><li>4401227</li><li>4527012</li></ol>\n"
      ],
      "text/latex": [
       "\\begin{enumerate*}\n",
       "\\item 60513\n",
       "\\item 62422\n",
       "\\item 3637004\n",
       "\\item 4401227\n",
       "\\item 4527012\n",
       "\\end{enumerate*}\n"
      ],
      "text/markdown": [
       "1. 60513\n",
       "2. 62422\n",
       "3. 3637004\n",
       "4. 4401227\n",
       "5. 4527012\n",
       "\n",
       "\n"
      ],
      "text/plain": [
       "[1]   60513   62422 3637004 4401227 4527012"
      ]
     },
     "metadata": {},
     "output_type": "display_data"
    }
   ],
   "source": [
    "# query\n",
    "airbus <- toupper('Airbus Defence')\n",
    "han_names %>%\n",
    "    .[Person_ctry_code == 'DE'] %>%\n",
    "    .[Clean_name %like% airbus] %>%\n",
    "    .[,HAN_ID] -> airbus_han_ids\n",
    "airbus_han_ids"
   ]
  },
  {
   "cell_type": "code",
   "execution_count": 20,
   "metadata": {
    "vscode": {
     "languageId": "r"
    }
   },
   "outputs": [],
   "source": [
    "han_person <- fread('work/notebooks/patent/data/202208_HAN_PERSON.txt')"
   ]
  },
  {
   "cell_type": "code",
   "execution_count": 21,
   "metadata": {
    "vscode": {
     "languageId": "r"
    }
   },
   "outputs": [
    {
     "data": {
      "text/html": [
       "<table class=\"dataframe\">\n",
       "<caption>A data.table: 6 × 6</caption>\n",
       "<thead>\n",
       "\t<tr><th scope=col>HAN_ID</th><th scope=col>HARM_ID</th><th scope=col>Person_id</th><th scope=col>Person_name_clean</th><th scope=col>Person_ctry_code</th><th scope=col>Matched</th></tr>\n",
       "\t<tr><th scope=col>&lt;int&gt;</th><th scope=col>&lt;int&gt;</th><th scope=col>&lt;int&gt;</th><th scope=col>&lt;chr&gt;</th><th scope=col>&lt;chr&gt;</th><th scope=col>&lt;int&gt;</th></tr>\n",
       "</thead>\n",
       "<tbody>\n",
       "\t<tr><td>1</td><td>1</td><td>15164069</td><td><span style=white-space:pre-wrap>&amp; HAMBOURG NIENDORF           </span></td><td>DE</td><td>0</td></tr>\n",
       "\t<tr><td>2</td><td>2</td><td>30816597</td><td><span style=white-space:pre-wrap>&amp; KK                          </span></td><td>JP</td><td>0</td></tr>\n",
       "\t<tr><td>3</td><td>3</td><td>67383967</td><td>“ASTRONIT” CLOSE CORP         </td><td>RU</td><td>0</td></tr>\n",
       "\t<tr><td>3</td><td>3</td><td>47772459</td><td>“ASTRONIT” CLOSE CORP         </td><td>RU</td><td>0</td></tr>\n",
       "\t<tr><td>4</td><td>4</td><td>47210990</td><td>“DEUTSCHE SEE” GMBH           </td><td>DE</td><td>0</td></tr>\n",
       "\t<tr><td>5</td><td>5</td><td>47367244</td><td>“EFIRNOIE” OPEN JOINT STOCK CO</td><td>RU</td><td>0</td></tr>\n",
       "</tbody>\n",
       "</table>\n"
      ],
      "text/latex": [
       "A data.table: 6 × 6\n",
       "\\begin{tabular}{llllll}\n",
       " HAN\\_ID & HARM\\_ID & Person\\_id & Person\\_name\\_clean & Person\\_ctry\\_code & Matched\\\\\n",
       " <int> & <int> & <int> & <chr> & <chr> & <int>\\\\\n",
       "\\hline\n",
       "\t 1 & 1 & 15164069 & \\& HAMBOURG NIENDORF            & DE & 0\\\\\n",
       "\t 2 & 2 & 30816597 & \\& KK                           & JP & 0\\\\\n",
       "\t 3 & 3 & 67383967 & “ASTRONIT” CLOSE CORP          & RU & 0\\\\\n",
       "\t 3 & 3 & 47772459 & “ASTRONIT” CLOSE CORP          & RU & 0\\\\\n",
       "\t 4 & 4 & 47210990 & “DEUTSCHE SEE” GMBH            & DE & 0\\\\\n",
       "\t 5 & 5 & 47367244 & “EFIRNOIE” OPEN JOINT STOCK CO & RU & 0\\\\\n",
       "\\end{tabular}\n"
      ],
      "text/markdown": [
       "\n",
       "A data.table: 6 × 6\n",
       "\n",
       "| HAN_ID &lt;int&gt; | HARM_ID &lt;int&gt; | Person_id &lt;int&gt; | Person_name_clean &lt;chr&gt; | Person_ctry_code &lt;chr&gt; | Matched &lt;int&gt; |\n",
       "|---|---|---|---|---|---|\n",
       "| 1 | 1 | 15164069 | &amp; HAMBOURG NIENDORF            | DE | 0 |\n",
       "| 2 | 2 | 30816597 | &amp; KK                           | JP | 0 |\n",
       "| 3 | 3 | 67383967 | “ASTRONIT” CLOSE CORP          | RU | 0 |\n",
       "| 3 | 3 | 47772459 | “ASTRONIT” CLOSE CORP          | RU | 0 |\n",
       "| 4 | 4 | 47210990 | “DEUTSCHE SEE” GMBH            | DE | 0 |\n",
       "| 5 | 5 | 47367244 | “EFIRNOIE” OPEN JOINT STOCK CO | RU | 0 |\n",
       "\n"
      ],
      "text/plain": [
       "  HAN_ID HARM_ID Person_id Person_name_clean              Person_ctry_code\n",
       "1 1      1       15164069  & HAMBOURG NIENDORF            DE              \n",
       "2 2      2       30816597  & KK                           JP              \n",
       "3 3      3       67383967  “ASTRONIT” CLOSE CORP          RU              \n",
       "4 3      3       47772459  “ASTRONIT” CLOSE CORP          RU              \n",
       "5 4      4       47210990  “DEUTSCHE SEE” GMBH            DE              \n",
       "6 5      5       47367244  “EFIRNOIE” OPEN JOINT STOCK CO RU              \n",
       "  Matched\n",
       "1 0      \n",
       "2 0      \n",
       "3 0      \n",
       "4 0      \n",
       "5 0      \n",
       "6 0      "
      ]
     },
     "metadata": {},
     "output_type": "display_data"
    }
   ],
   "source": [
    "head(han_person)"
   ]
  },
  {
   "cell_type": "code",
   "execution_count": null,
   "metadata": {
    "vscode": {
     "languageId": "r"
    }
   },
   "outputs": [],
   "source": []
  }
 ],
 "metadata": {
  "kernelspec": {
   "display_name": "R",
   "language": "R",
   "name": "ir"
  },
  "language_info": {
   "codemirror_mode": "r",
   "file_extension": ".r",
   "mimetype": "text/x-r-source",
   "name": "R",
   "pygments_lexer": "r",
   "version": "4.2.2"
  },
  "orig_nbformat": 4,
  "vscode": {
   "interpreter": {
    "hash": "16bff2c6a4793fe572f28f54bf2473ba4d5d1eb32d0a445bafdbd12ba8e85d21"
   }
  }
 },
 "nbformat": 4,
 "nbformat_minor": 2
}
