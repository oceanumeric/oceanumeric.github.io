{
 "cells": [
  {
   "attachments": {},
   "cell_type": "markdown",
   "metadata": {},
   "source": [
    "# OECD HAN Database"
   ]
  },
  {
   "cell_type": "code",
   "execution_count": 4,
   "metadata": {
    "vscode": {
     "languageId": "r"
    }
   },
   "outputs": [],
   "source": [
    "# load packages \n",
    "library(pacman)\n",
    "p_load(tidyverse, data.table, dtplyr, reshape2, archive, kableExtra)\n",
    "# set option\n",
    "options(dplyr.summarise.inform = FALSE)\n",
    "gray_scale <- c('#F3F4F8','#D2D4DA', '#B3B5BD', \n",
    "                '#9496A1', '#7d7f89', '#777986', \n",
    "                '#656673', '#5B5D6B', '#4d505e',\n",
    "                '#404352', '#2b2d3b', '#282A3A',\n",
    "                '#1b1c2a', '#191a2b',\n",
    "                '#141626', '#101223')"
   ]
  },
  {
   "cell_type": "code",
   "execution_count": 6,
   "metadata": {
    "vscode": {
     "languageId": "r"
    }
   },
   "outputs": [],
   "source": [
    "han_names <- fread('work/notebooks/patent/data/202208_HAN_NAMES.txt')"
   ]
  },
  {
   "cell_type": "code",
   "execution_count": 7,
   "metadata": {
    "vscode": {
     "languageId": "r"
    }
   },
   "outputs": [
    {
     "data": {
      "text/html": [
       "<style>\n",
       ".list-inline {list-style: none; margin:0; padding: 0}\n",
       ".list-inline>li {display: inline-block}\n",
       ".list-inline>li:not(:last-child)::after {content: \"\\00b7\"; padding: 0 .5ex}\n",
       "</style>\n",
       "<ol class=list-inline><li>4191007</li><li>3</li></ol>\n"
      ],
      "text/latex": [
       "\\begin{enumerate*}\n",
       "\\item 4191007\n",
       "\\item 3\n",
       "\\end{enumerate*}\n"
      ],
      "text/markdown": [
       "1. 4191007\n",
       "2. 3\n",
       "\n",
       "\n"
      ],
      "text/plain": [
       "[1] 4191007       3"
      ]
     },
     "metadata": {},
     "output_type": "display_data"
    }
   ],
   "source": [
    "dim(han_names)"
   ]
  },
  {
   "cell_type": "code",
   "execution_count": 7,
   "metadata": {
    "vscode": {
     "languageId": "r"
    }
   },
   "outputs": [
    {
     "data": {
      "text/html": [
       "<table class=\"dataframe\">\n",
       "<caption>A data.table: 6 × 3</caption>\n",
       "<thead>\n",
       "\t<tr><th scope=col>HAN_ID</th><th scope=col>Clean_name</th><th scope=col>Person_ctry_code</th></tr>\n",
       "\t<tr><th scope=col>&lt;int&gt;</th><th scope=col>&lt;chr&gt;</th><th scope=col>&lt;chr&gt;</th></tr>\n",
       "</thead>\n",
       "<tbody>\n",
       "\t<tr><td>1</td><td><span style=white-space:pre-wrap>&amp; HAMBOURG NIENDORF            </span></td><td>DE</td></tr>\n",
       "\t<tr><td>2</td><td><span style=white-space:pre-wrap>&amp; KK                           </span></td><td>JP</td></tr>\n",
       "\t<tr><td>3</td><td>“ASTRONIT” CLOSE CORP          </td><td>RU</td></tr>\n",
       "\t<tr><td>4</td><td>“DEUTSCHE SEE” GMBH            </td><td>DE</td></tr>\n",
       "\t<tr><td>5</td><td>“EFIRNOIE” OPEN JOINT STOCK CO </td><td>RU</td></tr>\n",
       "\t<tr><td>6</td><td>“EUROSTANDART” LTD LIABILITY CO</td><td>RU</td></tr>\n",
       "</tbody>\n",
       "</table>\n"
      ],
      "text/latex": [
       "A data.table: 6 × 3\n",
       "\\begin{tabular}{lll}\n",
       " HAN\\_ID & Clean\\_name & Person\\_ctry\\_code\\\\\n",
       " <int> & <chr> & <chr>\\\\\n",
       "\\hline\n",
       "\t 1 & \\& HAMBOURG NIENDORF             & DE\\\\\n",
       "\t 2 & \\& KK                            & JP\\\\\n",
       "\t 3 & “ASTRONIT” CLOSE CORP           & RU\\\\\n",
       "\t 4 & “DEUTSCHE SEE” GMBH             & DE\\\\\n",
       "\t 5 & “EFIRNOIE” OPEN JOINT STOCK CO  & RU\\\\\n",
       "\t 6 & “EUROSTANDART” LTD LIABILITY CO & RU\\\\\n",
       "\\end{tabular}\n"
      ],
      "text/markdown": [
       "\n",
       "A data.table: 6 × 3\n",
       "\n",
       "| HAN_ID &lt;int&gt; | Clean_name &lt;chr&gt; | Person_ctry_code &lt;chr&gt; |\n",
       "|---|---|---|\n",
       "| 1 | &amp; HAMBOURG NIENDORF             | DE |\n",
       "| 2 | &amp; KK                            | JP |\n",
       "| 3 | “ASTRONIT” CLOSE CORP           | RU |\n",
       "| 4 | “DEUTSCHE SEE” GMBH             | DE |\n",
       "| 5 | “EFIRNOIE” OPEN JOINT STOCK CO  | RU |\n",
       "| 6 | “EUROSTANDART” LTD LIABILITY CO | RU |\n",
       "\n"
      ],
      "text/plain": [
       "  HAN_ID Clean_name                      Person_ctry_code\n",
       "1 1      & HAMBOURG NIENDORF             DE              \n",
       "2 2      & KK                            JP              \n",
       "3 3      “ASTRONIT” CLOSE CORP           RU              \n",
       "4 4      “DEUTSCHE SEE” GMBH             DE              \n",
       "5 5      “EFIRNOIE” OPEN JOINT STOCK CO  RU              \n",
       "6 6      “EUROSTANDART” LTD LIABILITY CO RU              "
      ]
     },
     "metadata": {},
     "output_type": "display_data"
    }
   ],
   "source": [
    "head(han_names)"
   ]
  },
  {
   "cell_type": "code",
   "execution_count": 8,
   "metadata": {
    "vscode": {
     "languageId": "r"
    }
   },
   "outputs": [],
   "source": [
    "de_firms <- fread('work/notebooks/patent/data/orbis_de_matched_l.csv')"
   ]
  },
  {
   "cell_type": "code",
   "execution_count": 55,
   "metadata": {
    "vscode": {
     "languageId": "r"
    }
   },
   "outputs": [
    {
     "data": {
      "text/plain": [
       "\n",
       "\n",
       "| HAN_ID |           Clean_name           | Person_ctry_code |\n",
       "|:------:|:------------------------------:|:----------------:|\n",
       "|   1    |      & HAMBOURG NIENDORF       |        DE        |\n",
       "|   2    |              & KK              |        JP        |\n",
       "|   3    |     “ASTRONIT” CLOSE CORP      |        RU        |\n",
       "|   4    |      “DEUTSCHE SEE” GMBH       |        DE        |\n",
       "|   5    | “EFIRNOIE” OPEN JOINT STOCK CO |        RU        |"
      ]
     },
     "metadata": {},
     "output_type": "display_data"
    }
   ],
   "source": [
    "han_names %>%\n",
    "    .[1:5,] %>%\n",
    "    kable('pipe', align='ccc')"
   ]
  },
  {
   "cell_type": "code",
   "execution_count": 53,
   "metadata": {
    "vscode": {
     "languageId": "r"
    }
   },
   "outputs": [
    {
     "data": {
      "text/html": [
       "<table class=\"dataframe\">\n",
       "<caption>A data.table: 5 × 2</caption>\n",
       "<thead>\n",
       "\t<tr><th scope=col>name_native</th><th scope=col>name_internat</th></tr>\n",
       "\t<tr><th scope=col>&lt;chr&gt;</th><th scope=col>&lt;chr&gt;</th></tr>\n",
       "</thead>\n",
       "<tbody>\n",
       "\t<tr><td>Airbus Defence and Space GmbH        </td><td>Airbus Defence and Space GmbH        </td></tr>\n",
       "\t<tr><td>EurA AG                              </td><td>EurA AG                              </td></tr>\n",
       "\t<tr><td>TuTech Innovation GmbH               </td><td>TuTech Innovation GmbH               </td></tr>\n",
       "\t<tr><td>FFT Produktionssysteme GmbH &amp; Co. KG.</td><td>FFT Produktionssysteme GmbH &amp; Co. KG.</td></tr>\n",
       "\t<tr><td>Diehl Aviation Laupheim GmbH         </td><td>Diehl Aviation Laupheim GmbH         </td></tr>\n",
       "</tbody>\n",
       "</table>\n"
      ],
      "text/latex": [
       "A data.table: 5 × 2\n",
       "\\begin{tabular}{ll}\n",
       " name\\_native & name\\_internat\\\\\n",
       " <chr> & <chr>\\\\\n",
       "\\hline\n",
       "\t Airbus Defence and Space GmbH         & Airbus Defence and Space GmbH        \\\\\n",
       "\t EurA AG                               & EurA AG                              \\\\\n",
       "\t TuTech Innovation GmbH                & TuTech Innovation GmbH               \\\\\n",
       "\t FFT Produktionssysteme GmbH \\& Co. KG. & FFT Produktionssysteme GmbH \\& Co. KG.\\\\\n",
       "\t Diehl Aviation Laupheim GmbH          & Diehl Aviation Laupheim GmbH         \\\\\n",
       "\\end{tabular}\n"
      ],
      "text/markdown": [
       "\n",
       "A data.table: 5 × 2\n",
       "\n",
       "| name_native &lt;chr&gt; | name_internat &lt;chr&gt; |\n",
       "|---|---|\n",
       "| Airbus Defence and Space GmbH         | Airbus Defence and Space GmbH         |\n",
       "| EurA AG                               | EurA AG                               |\n",
       "| TuTech Innovation GmbH                | TuTech Innovation GmbH                |\n",
       "| FFT Produktionssysteme GmbH &amp; Co. KG. | FFT Produktionssysteme GmbH &amp; Co. KG. |\n",
       "| Diehl Aviation Laupheim GmbH          | Diehl Aviation Laupheim GmbH          |\n",
       "\n"
      ],
      "text/plain": [
       "  name_native                           name_internat                        \n",
       "1 Airbus Defence and Space GmbH         Airbus Defence and Space GmbH        \n",
       "2 EurA AG                               EurA AG                              \n",
       "3 TuTech Innovation GmbH                TuTech Innovation GmbH               \n",
       "4 FFT Produktionssysteme GmbH & Co. KG. FFT Produktionssysteme GmbH & Co. KG.\n",
       "5 Diehl Aviation Laupheim GmbH          Diehl Aviation Laupheim GmbH         "
      ]
     },
     "metadata": {},
     "output_type": "display_data"
    }
   ],
   "source": [
    "de_firms %>%\n",
    "    .[1:5, 2:3]"
   ]
  },
  {
   "cell_type": "code",
   "execution_count": 15,
   "metadata": {
    "vscode": {
     "languageId": "r"
    }
   },
   "outputs": [
    {
     "data": {
      "text/html": [
       "<style>\n",
       ".list-inline {list-style: none; margin:0; padding: 0}\n",
       ".list-inline>li {display: inline-block}\n",
       ".list-inline>li:not(:last-child)::after {content: \"\\00b7\"; padding: 0 .5ex}\n",
       "</style>\n",
       "<ol class=list-inline><li>60513</li><li>62422</li><li>3637004</li><li>4401227</li><li>4527012</li></ol>\n"
      ],
      "text/latex": [
       "\\begin{enumerate*}\n",
       "\\item 60513\n",
       "\\item 62422\n",
       "\\item 3637004\n",
       "\\item 4401227\n",
       "\\item 4527012\n",
       "\\end{enumerate*}\n"
      ],
      "text/markdown": [
       "1. 60513\n",
       "2. 62422\n",
       "3. 3637004\n",
       "4. 4401227\n",
       "5. 4527012\n",
       "\n",
       "\n"
      ],
      "text/plain": [
       "[1]   60513   62422 3637004 4401227 4527012"
      ]
     },
     "metadata": {},
     "output_type": "display_data"
    }
   ],
   "source": [
    "# query\n",
    "airbus <- toupper('Airbus Defence')\n",
    "han_names %>%\n",
    "    .[Person_ctry_code == 'DE'] %>%\n",
    "    .[Clean_name %like% airbus] %>%\n",
    "    .[,HAN_ID] -> airbus_han_ids\n",
    "airbus_han_ids"
   ]
  },
  {
   "cell_type": "code",
   "execution_count": 20,
   "metadata": {
    "vscode": {
     "languageId": "r"
    }
   },
   "outputs": [],
   "source": [
    "han_person <- fread('work/notebooks/patent/data/202208_HAN_PERSON.txt')"
   ]
  },
  {
   "cell_type": "code",
   "execution_count": 22,
   "metadata": {
    "vscode": {
     "languageId": "r"
    }
   },
   "outputs": [
    {
     "data": {
      "text/html": [
       "<table class=\"dataframe\">\n",
       "<caption>A data.table: 43 × 6</caption>\n",
       "<thead>\n",
       "\t<tr><th scope=col>HAN_ID</th><th scope=col>HARM_ID</th><th scope=col>Person_id</th><th scope=col>Person_name_clean</th><th scope=col>Person_ctry_code</th><th scope=col>Matched</th></tr>\n",
       "\t<tr><th scope=col>&lt;int&gt;</th><th scope=col>&lt;int&gt;</th><th scope=col>&lt;int&gt;</th><th scope=col>&lt;chr&gt;</th><th scope=col>&lt;chr&gt;</th><th scope=col>&lt;int&gt;</th></tr>\n",
       "</thead>\n",
       "<tbody>\n",
       "\t<tr><td><span style=white-space:pre-wrap>  60513</span></td><td><span style=white-space:pre-wrap>  60513</span></td><td>53436663</td><td><span style=white-space:pre-wrap>AIRBUS DEFENCE &amp; SPACE GMBH    </span></td><td>DE</td><td>1</td></tr>\n",
       "\t<tr><td><span style=white-space:pre-wrap>  60513</span></td><td><span style=white-space:pre-wrap>  60513</span></td><td>54048509</td><td><span style=white-space:pre-wrap>AIRBUS DEFENCE &amp; SPACE GMBH    </span></td><td>DE</td><td>1</td></tr>\n",
       "\t<tr><td><span style=white-space:pre-wrap>  60513</span></td><td><span style=white-space:pre-wrap>  60513</span></td><td>72444595</td><td><span style=white-space:pre-wrap>AIRBUS DEFENCE &amp; SPACE GMBH    </span></td><td>DE</td><td>1</td></tr>\n",
       "\t<tr><td><span style=white-space:pre-wrap>  60513</span></td><td><span style=white-space:pre-wrap>  60513</span></td><td>51178870</td><td><span style=white-space:pre-wrap>AIRBUS DEFENCE &amp; SPACE GMBH    </span></td><td>DE</td><td>1</td></tr>\n",
       "\t<tr><td><span style=white-space:pre-wrap>  60513</span></td><td><span style=white-space:pre-wrap>  60513</span></td><td>53550520</td><td><span style=white-space:pre-wrap>AIRBUS DEFENCE &amp; SPACE GMBH    </span></td><td>DE</td><td>1</td></tr>\n",
       "\t<tr><td><span style=white-space:pre-wrap>  60513</span></td><td><span style=white-space:pre-wrap>  60513</span></td><td>55417987</td><td><span style=white-space:pre-wrap>AIRBUS DEFENCE &amp; SPACE GMBH    </span></td><td>DE</td><td>1</td></tr>\n",
       "\t<tr><td><span style=white-space:pre-wrap>  60513</span></td><td><span style=white-space:pre-wrap>  60513</span></td><td>47862439</td><td><span style=white-space:pre-wrap>AIRBUS DEFENCE &amp; SPACE GMBH    </span></td><td>DE</td><td>1</td></tr>\n",
       "\t<tr><td><span style=white-space:pre-wrap>  60513</span></td><td><span style=white-space:pre-wrap>  60513</span></td><td>51379857</td><td><span style=white-space:pre-wrap>AIRBUS DEFENCE &amp; SPACE GMBH    </span></td><td>DE</td><td>1</td></tr>\n",
       "\t<tr><td><span style=white-space:pre-wrap>  60513</span></td><td><span style=white-space:pre-wrap>  60513</span></td><td>52065724</td><td><span style=white-space:pre-wrap>AIRBUS DEFENCE &amp; SPACE GMBH    </span></td><td>DE</td><td>1</td></tr>\n",
       "\t<tr><td><span style=white-space:pre-wrap>  60513</span></td><td><span style=white-space:pre-wrap>  60513</span></td><td>52501359</td><td><span style=white-space:pre-wrap>AIRBUS DEFENCE &amp; SPACE GMBH    </span></td><td>DE</td><td>1</td></tr>\n",
       "\t<tr><td><span style=white-space:pre-wrap>  60513</span></td><td><span style=white-space:pre-wrap>  60513</span></td><td>53511788</td><td><span style=white-space:pre-wrap>AIRBUS DEFENCE &amp; SPACE GMBH    </span></td><td>DE</td><td>1</td></tr>\n",
       "\t<tr><td><span style=white-space:pre-wrap>  60513</span></td><td><span style=white-space:pre-wrap>  60513</span></td><td>55821811</td><td><span style=white-space:pre-wrap>AIRBUS DEFENCE &amp; SPACE GMBH    </span></td><td>DE</td><td>1</td></tr>\n",
       "\t<tr><td><span style=white-space:pre-wrap>  60513</span></td><td><span style=white-space:pre-wrap>  60513</span></td><td>63748634</td><td><span style=white-space:pre-wrap>AIRBUS DEFENCE &amp; SPACE GMBH    </span></td><td>DE</td><td>1</td></tr>\n",
       "\t<tr><td><span style=white-space:pre-wrap>  60513</span></td><td><span style=white-space:pre-wrap>  60513</span></td><td>64327023</td><td><span style=white-space:pre-wrap>AIRBUS DEFENCE &amp; SPACE GMBH    </span></td><td>DE</td><td>1</td></tr>\n",
       "\t<tr><td><span style=white-space:pre-wrap>  60513</span></td><td><span style=white-space:pre-wrap>  60513</span></td><td>67357390</td><td><span style=white-space:pre-wrap>AIRBUS DEFENCE &amp; SPACE GMBH    </span></td><td>DE</td><td>1</td></tr>\n",
       "\t<tr><td><span style=white-space:pre-wrap>  60513</span></td><td><span style=white-space:pre-wrap>  60513</span></td><td>74476538</td><td><span style=white-space:pre-wrap>AIRBUS DEFENCE &amp; SPACE GMBH    </span></td><td>DE</td><td>1</td></tr>\n",
       "\t<tr><td><span style=white-space:pre-wrap>  60513</span></td><td><span style=white-space:pre-wrap>  60513</span></td><td>76203220</td><td><span style=white-space:pre-wrap>AIRBUS DEFENCE &amp; SPACE GMBH    </span></td><td>DE</td><td>1</td></tr>\n",
       "\t<tr><td><span style=white-space:pre-wrap>  60513</span></td><td><span style=white-space:pre-wrap>  60513</span></td><td>48745228</td><td><span style=white-space:pre-wrap>AIRBUS DEFENCE &amp; SPACE GMBH    </span></td><td>DE</td><td>1</td></tr>\n",
       "\t<tr><td><span style=white-space:pre-wrap>  60513</span></td><td><span style=white-space:pre-wrap>  60513</span></td><td>52404336</td><td><span style=white-space:pre-wrap>AIRBUS DEFENCE &amp; SPACE GMBH    </span></td><td>DE</td><td>1</td></tr>\n",
       "\t<tr><td><span style=white-space:pre-wrap>  60513</span></td><td><span style=white-space:pre-wrap>  60513</span></td><td>52490885</td><td><span style=white-space:pre-wrap>AIRBUS DEFENCE &amp; SPACE GMBH    </span></td><td>DE</td><td>1</td></tr>\n",
       "\t<tr><td><span style=white-space:pre-wrap>  60513</span></td><td><span style=white-space:pre-wrap>  60513</span></td><td>55098185</td><td><span style=white-space:pre-wrap>AIRBUS DEFENCE &amp; SPACE GMBH    </span></td><td>DE</td><td>1</td></tr>\n",
       "\t<tr><td><span style=white-space:pre-wrap>  60513</span></td><td><span style=white-space:pre-wrap>  60513</span></td><td>72276707</td><td><span style=white-space:pre-wrap>AIRBUS DEFENCE &amp; SPACE GMBH    </span></td><td>DE</td><td>1</td></tr>\n",
       "\t<tr><td><span style=white-space:pre-wrap>  60513</span></td><td><span style=white-space:pre-wrap>  60513</span></td><td>74425251</td><td><span style=white-space:pre-wrap>AIRBUS DEFENCE &amp; SPACE GMBH    </span></td><td>DE</td><td>1</td></tr>\n",
       "\t<tr><td><span style=white-space:pre-wrap>  60513</span></td><td><span style=white-space:pre-wrap>  60513</span></td><td>51955457</td><td><span style=white-space:pre-wrap>AIRBUS DEFENCE &amp; SPACE GMBH    </span></td><td>DE</td><td>1</td></tr>\n",
       "\t<tr><td><span style=white-space:pre-wrap>  60513</span></td><td><span style=white-space:pre-wrap>  60513</span></td><td>52065725</td><td><span style=white-space:pre-wrap>AIRBUS DEFENCE &amp; SPACE GMBH    </span></td><td>DE</td><td>1</td></tr>\n",
       "\t<tr><td><span style=white-space:pre-wrap>  60513</span></td><td><span style=white-space:pre-wrap>  60513</span></td><td>54693570</td><td><span style=white-space:pre-wrap>AIRBUS DEFENCE &amp; SPACE GMBH    </span></td><td>DE</td><td>1</td></tr>\n",
       "\t<tr><td><span style=white-space:pre-wrap>  60513</span></td><td><span style=white-space:pre-wrap>  60513</span></td><td>55417988</td><td><span style=white-space:pre-wrap>AIRBUS DEFENCE &amp; SPACE GMBH    </span></td><td>DE</td><td>1</td></tr>\n",
       "\t<tr><td><span style=white-space:pre-wrap>  60513</span></td><td><span style=white-space:pre-wrap>  60513</span></td><td>55813218</td><td><span style=white-space:pre-wrap>AIRBUS DEFENCE &amp; SPACE GMBH    </span></td><td>DE</td><td>1</td></tr>\n",
       "\t<tr><td><span style=white-space:pre-wrap>  60513</span></td><td><span style=white-space:pre-wrap>  60513</span></td><td>63748633</td><td><span style=white-space:pre-wrap>AIRBUS DEFENCE &amp; SPACE GMBH    </span></td><td>DE</td><td>1</td></tr>\n",
       "\t<tr><td><span style=white-space:pre-wrap>  60513</span></td><td><span style=white-space:pre-wrap>  60513</span></td><td>77630109</td><td><span style=white-space:pre-wrap>AIRBUS DEFENCE &amp; SPACE GMBH    </span></td><td>DE</td><td>1</td></tr>\n",
       "\t<tr><td><span style=white-space:pre-wrap>  60513</span></td><td><span style=white-space:pre-wrap>  60513</span></td><td>48327981</td><td><span style=white-space:pre-wrap>AIRBUS DEFENCE &amp; SPACE GMBH    </span></td><td>DE</td><td>1</td></tr>\n",
       "\t<tr><td><span style=white-space:pre-wrap>  60513</span></td><td><span style=white-space:pre-wrap>  60513</span></td><td>53522587</td><td><span style=white-space:pre-wrap>AIRBUS DEFENCE &amp; SPACE GMBH    </span></td><td>DE</td><td>1</td></tr>\n",
       "\t<tr><td><span style=white-space:pre-wrap>  60513</span></td><td><span style=white-space:pre-wrap>  60513</span></td><td>63831372</td><td><span style=white-space:pre-wrap>AIRBUS DEFENCE &amp; SPACE GMBH    </span></td><td>DE</td><td>1</td></tr>\n",
       "\t<tr><td><span style=white-space:pre-wrap>  60513</span></td><td><span style=white-space:pre-wrap>  60513</span></td><td>64150326</td><td><span style=white-space:pre-wrap>AIRBUS DEFENCE &amp; SPACE GMBH    </span></td><td>DE</td><td>1</td></tr>\n",
       "\t<tr><td><span style=white-space:pre-wrap>  60513</span></td><td><span style=white-space:pre-wrap>  60513</span></td><td>52498651</td><td><span style=white-space:pre-wrap>AIRBUS DEFENCE &amp; SPACE GMBH    </span></td><td>DE</td><td>1</td></tr>\n",
       "\t<tr><td><span style=white-space:pre-wrap>  60513</span></td><td><span style=white-space:pre-wrap>  60513</span></td><td>49159503</td><td><span style=white-space:pre-wrap>AIRBUS DEFENCE &amp; SPACE GMBH    </span></td><td>DE</td><td>1</td></tr>\n",
       "\t<tr><td><span style=white-space:pre-wrap>  60513</span></td><td><span style=white-space:pre-wrap>  60513</span></td><td>53322351</td><td><span style=white-space:pre-wrap>AIRBUS DEFENCE &amp; SPACE GMBH    </span></td><td>DE</td><td>1</td></tr>\n",
       "\t<tr><td><span style=white-space:pre-wrap>  60513</span></td><td><span style=white-space:pre-wrap>  60513</span></td><td>55812057</td><td><span style=white-space:pre-wrap>AIRBUS DEFENCE &amp; SPACE GMBH    </span></td><td>DE</td><td>1</td></tr>\n",
       "\t<tr><td><span style=white-space:pre-wrap>  60513</span></td><td><span style=white-space:pre-wrap>  60513</span></td><td>57922291</td><td><span style=white-space:pre-wrap>AIRBUS DEFENCE &amp; SPACE GMBH    </span></td><td>DE</td><td>1</td></tr>\n",
       "\t<tr><td>  62422</td><td>  62422</td><td>53557864</td><td>AIRBUS DEFENCE ANG SPACE GMBH  </td><td>DE</td><td>0</td></tr>\n",
       "\t<tr><td>3637004</td><td>3637004</td><td>54491439</td><td><span style=white-space:pre-wrap>AIRBUS DEFENCE &amp; SPACE         </span></td><td>DE</td><td>1</td></tr>\n",
       "\t<tr><td>4401227</td><td>4401227</td><td>71558137</td><td>AIRBUS DEFENCE ANS SPACE GMBH  </td><td>DE</td><td>0</td></tr>\n",
       "\t<tr><td>4527012</td><td>4527012</td><td>77793673</td><td>AIRBUS DEFENCE &amp; AIR SPACE GMBH</td><td>DE</td><td>0</td></tr>\n",
       "</tbody>\n",
       "</table>\n"
      ],
      "text/latex": [
       "A data.table: 43 × 6\n",
       "\\begin{tabular}{llllll}\n",
       " HAN\\_ID & HARM\\_ID & Person\\_id & Person\\_name\\_clean & Person\\_ctry\\_code & Matched\\\\\n",
       " <int> & <int> & <int> & <chr> & <chr> & <int>\\\\\n",
       "\\hline\n",
       "\t   60513 &   60513 & 53436663 & AIRBUS DEFENCE \\& SPACE GMBH     & DE & 1\\\\\n",
       "\t   60513 &   60513 & 54048509 & AIRBUS DEFENCE \\& SPACE GMBH     & DE & 1\\\\\n",
       "\t   60513 &   60513 & 72444595 & AIRBUS DEFENCE \\& SPACE GMBH     & DE & 1\\\\\n",
       "\t   60513 &   60513 & 51178870 & AIRBUS DEFENCE \\& SPACE GMBH     & DE & 1\\\\\n",
       "\t   60513 &   60513 & 53550520 & AIRBUS DEFENCE \\& SPACE GMBH     & DE & 1\\\\\n",
       "\t   60513 &   60513 & 55417987 & AIRBUS DEFENCE \\& SPACE GMBH     & DE & 1\\\\\n",
       "\t   60513 &   60513 & 47862439 & AIRBUS DEFENCE \\& SPACE GMBH     & DE & 1\\\\\n",
       "\t   60513 &   60513 & 51379857 & AIRBUS DEFENCE \\& SPACE GMBH     & DE & 1\\\\\n",
       "\t   60513 &   60513 & 52065724 & AIRBUS DEFENCE \\& SPACE GMBH     & DE & 1\\\\\n",
       "\t   60513 &   60513 & 52501359 & AIRBUS DEFENCE \\& SPACE GMBH     & DE & 1\\\\\n",
       "\t   60513 &   60513 & 53511788 & AIRBUS DEFENCE \\& SPACE GMBH     & DE & 1\\\\\n",
       "\t   60513 &   60513 & 55821811 & AIRBUS DEFENCE \\& SPACE GMBH     & DE & 1\\\\\n",
       "\t   60513 &   60513 & 63748634 & AIRBUS DEFENCE \\& SPACE GMBH     & DE & 1\\\\\n",
       "\t   60513 &   60513 & 64327023 & AIRBUS DEFENCE \\& SPACE GMBH     & DE & 1\\\\\n",
       "\t   60513 &   60513 & 67357390 & AIRBUS DEFENCE \\& SPACE GMBH     & DE & 1\\\\\n",
       "\t   60513 &   60513 & 74476538 & AIRBUS DEFENCE \\& SPACE GMBH     & DE & 1\\\\\n",
       "\t   60513 &   60513 & 76203220 & AIRBUS DEFENCE \\& SPACE GMBH     & DE & 1\\\\\n",
       "\t   60513 &   60513 & 48745228 & AIRBUS DEFENCE \\& SPACE GMBH     & DE & 1\\\\\n",
       "\t   60513 &   60513 & 52404336 & AIRBUS DEFENCE \\& SPACE GMBH     & DE & 1\\\\\n",
       "\t   60513 &   60513 & 52490885 & AIRBUS DEFENCE \\& SPACE GMBH     & DE & 1\\\\\n",
       "\t   60513 &   60513 & 55098185 & AIRBUS DEFENCE \\& SPACE GMBH     & DE & 1\\\\\n",
       "\t   60513 &   60513 & 72276707 & AIRBUS DEFENCE \\& SPACE GMBH     & DE & 1\\\\\n",
       "\t   60513 &   60513 & 74425251 & AIRBUS DEFENCE \\& SPACE GMBH     & DE & 1\\\\\n",
       "\t   60513 &   60513 & 51955457 & AIRBUS DEFENCE \\& SPACE GMBH     & DE & 1\\\\\n",
       "\t   60513 &   60513 & 52065725 & AIRBUS DEFENCE \\& SPACE GMBH     & DE & 1\\\\\n",
       "\t   60513 &   60513 & 54693570 & AIRBUS DEFENCE \\& SPACE GMBH     & DE & 1\\\\\n",
       "\t   60513 &   60513 & 55417988 & AIRBUS DEFENCE \\& SPACE GMBH     & DE & 1\\\\\n",
       "\t   60513 &   60513 & 55813218 & AIRBUS DEFENCE \\& SPACE GMBH     & DE & 1\\\\\n",
       "\t   60513 &   60513 & 63748633 & AIRBUS DEFENCE \\& SPACE GMBH     & DE & 1\\\\\n",
       "\t   60513 &   60513 & 77630109 & AIRBUS DEFENCE \\& SPACE GMBH     & DE & 1\\\\\n",
       "\t   60513 &   60513 & 48327981 & AIRBUS DEFENCE \\& SPACE GMBH     & DE & 1\\\\\n",
       "\t   60513 &   60513 & 53522587 & AIRBUS DEFENCE \\& SPACE GMBH     & DE & 1\\\\\n",
       "\t   60513 &   60513 & 63831372 & AIRBUS DEFENCE \\& SPACE GMBH     & DE & 1\\\\\n",
       "\t   60513 &   60513 & 64150326 & AIRBUS DEFENCE \\& SPACE GMBH     & DE & 1\\\\\n",
       "\t   60513 &   60513 & 52498651 & AIRBUS DEFENCE \\& SPACE GMBH     & DE & 1\\\\\n",
       "\t   60513 &   60513 & 49159503 & AIRBUS DEFENCE \\& SPACE GMBH     & DE & 1\\\\\n",
       "\t   60513 &   60513 & 53322351 & AIRBUS DEFENCE \\& SPACE GMBH     & DE & 1\\\\\n",
       "\t   60513 &   60513 & 55812057 & AIRBUS DEFENCE \\& SPACE GMBH     & DE & 1\\\\\n",
       "\t   60513 &   60513 & 57922291 & AIRBUS DEFENCE \\& SPACE GMBH     & DE & 1\\\\\n",
       "\t   62422 &   62422 & 53557864 & AIRBUS DEFENCE ANG SPACE GMBH   & DE & 0\\\\\n",
       "\t 3637004 & 3637004 & 54491439 & AIRBUS DEFENCE \\& SPACE          & DE & 1\\\\\n",
       "\t 4401227 & 4401227 & 71558137 & AIRBUS DEFENCE ANS SPACE GMBH   & DE & 0\\\\\n",
       "\t 4527012 & 4527012 & 77793673 & AIRBUS DEFENCE \\& AIR SPACE GMBH & DE & 0\\\\\n",
       "\\end{tabular}\n"
      ],
      "text/markdown": [
       "\n",
       "A data.table: 43 × 6\n",
       "\n",
       "| HAN_ID &lt;int&gt; | HARM_ID &lt;int&gt; | Person_id &lt;int&gt; | Person_name_clean &lt;chr&gt; | Person_ctry_code &lt;chr&gt; | Matched &lt;int&gt; |\n",
       "|---|---|---|---|---|---|\n",
       "|   60513 |   60513 | 53436663 | AIRBUS DEFENCE &amp; SPACE GMBH     | DE | 1 |\n",
       "|   60513 |   60513 | 54048509 | AIRBUS DEFENCE &amp; SPACE GMBH     | DE | 1 |\n",
       "|   60513 |   60513 | 72444595 | AIRBUS DEFENCE &amp; SPACE GMBH     | DE | 1 |\n",
       "|   60513 |   60513 | 51178870 | AIRBUS DEFENCE &amp; SPACE GMBH     | DE | 1 |\n",
       "|   60513 |   60513 | 53550520 | AIRBUS DEFENCE &amp; SPACE GMBH     | DE | 1 |\n",
       "|   60513 |   60513 | 55417987 | AIRBUS DEFENCE &amp; SPACE GMBH     | DE | 1 |\n",
       "|   60513 |   60513 | 47862439 | AIRBUS DEFENCE &amp; SPACE GMBH     | DE | 1 |\n",
       "|   60513 |   60513 | 51379857 | AIRBUS DEFENCE &amp; SPACE GMBH     | DE | 1 |\n",
       "|   60513 |   60513 | 52065724 | AIRBUS DEFENCE &amp; SPACE GMBH     | DE | 1 |\n",
       "|   60513 |   60513 | 52501359 | AIRBUS DEFENCE &amp; SPACE GMBH     | DE | 1 |\n",
       "|   60513 |   60513 | 53511788 | AIRBUS DEFENCE &amp; SPACE GMBH     | DE | 1 |\n",
       "|   60513 |   60513 | 55821811 | AIRBUS DEFENCE &amp; SPACE GMBH     | DE | 1 |\n",
       "|   60513 |   60513 | 63748634 | AIRBUS DEFENCE &amp; SPACE GMBH     | DE | 1 |\n",
       "|   60513 |   60513 | 64327023 | AIRBUS DEFENCE &amp; SPACE GMBH     | DE | 1 |\n",
       "|   60513 |   60513 | 67357390 | AIRBUS DEFENCE &amp; SPACE GMBH     | DE | 1 |\n",
       "|   60513 |   60513 | 74476538 | AIRBUS DEFENCE &amp; SPACE GMBH     | DE | 1 |\n",
       "|   60513 |   60513 | 76203220 | AIRBUS DEFENCE &amp; SPACE GMBH     | DE | 1 |\n",
       "|   60513 |   60513 | 48745228 | AIRBUS DEFENCE &amp; SPACE GMBH     | DE | 1 |\n",
       "|   60513 |   60513 | 52404336 | AIRBUS DEFENCE &amp; SPACE GMBH     | DE | 1 |\n",
       "|   60513 |   60513 | 52490885 | AIRBUS DEFENCE &amp; SPACE GMBH     | DE | 1 |\n",
       "|   60513 |   60513 | 55098185 | AIRBUS DEFENCE &amp; SPACE GMBH     | DE | 1 |\n",
       "|   60513 |   60513 | 72276707 | AIRBUS DEFENCE &amp; SPACE GMBH     | DE | 1 |\n",
       "|   60513 |   60513 | 74425251 | AIRBUS DEFENCE &amp; SPACE GMBH     | DE | 1 |\n",
       "|   60513 |   60513 | 51955457 | AIRBUS DEFENCE &amp; SPACE GMBH     | DE | 1 |\n",
       "|   60513 |   60513 | 52065725 | AIRBUS DEFENCE &amp; SPACE GMBH     | DE | 1 |\n",
       "|   60513 |   60513 | 54693570 | AIRBUS DEFENCE &amp; SPACE GMBH     | DE | 1 |\n",
       "|   60513 |   60513 | 55417988 | AIRBUS DEFENCE &amp; SPACE GMBH     | DE | 1 |\n",
       "|   60513 |   60513 | 55813218 | AIRBUS DEFENCE &amp; SPACE GMBH     | DE | 1 |\n",
       "|   60513 |   60513 | 63748633 | AIRBUS DEFENCE &amp; SPACE GMBH     | DE | 1 |\n",
       "|   60513 |   60513 | 77630109 | AIRBUS DEFENCE &amp; SPACE GMBH     | DE | 1 |\n",
       "|   60513 |   60513 | 48327981 | AIRBUS DEFENCE &amp; SPACE GMBH     | DE | 1 |\n",
       "|   60513 |   60513 | 53522587 | AIRBUS DEFENCE &amp; SPACE GMBH     | DE | 1 |\n",
       "|   60513 |   60513 | 63831372 | AIRBUS DEFENCE &amp; SPACE GMBH     | DE | 1 |\n",
       "|   60513 |   60513 | 64150326 | AIRBUS DEFENCE &amp; SPACE GMBH     | DE | 1 |\n",
       "|   60513 |   60513 | 52498651 | AIRBUS DEFENCE &amp; SPACE GMBH     | DE | 1 |\n",
       "|   60513 |   60513 | 49159503 | AIRBUS DEFENCE &amp; SPACE GMBH     | DE | 1 |\n",
       "|   60513 |   60513 | 53322351 | AIRBUS DEFENCE &amp; SPACE GMBH     | DE | 1 |\n",
       "|   60513 |   60513 | 55812057 | AIRBUS DEFENCE &amp; SPACE GMBH     | DE | 1 |\n",
       "|   60513 |   60513 | 57922291 | AIRBUS DEFENCE &amp; SPACE GMBH     | DE | 1 |\n",
       "|   62422 |   62422 | 53557864 | AIRBUS DEFENCE ANG SPACE GMBH   | DE | 0 |\n",
       "| 3637004 | 3637004 | 54491439 | AIRBUS DEFENCE &amp; SPACE          | DE | 1 |\n",
       "| 4401227 | 4401227 | 71558137 | AIRBUS DEFENCE ANS SPACE GMBH   | DE | 0 |\n",
       "| 4527012 | 4527012 | 77793673 | AIRBUS DEFENCE &amp; AIR SPACE GMBH | DE | 0 |\n",
       "\n"
      ],
      "text/plain": [
       "   HAN_ID  HARM_ID Person_id Person_name_clean               Person_ctry_code\n",
       "1    60513   60513 53436663  AIRBUS DEFENCE & SPACE GMBH     DE              \n",
       "2    60513   60513 54048509  AIRBUS DEFENCE & SPACE GMBH     DE              \n",
       "3    60513   60513 72444595  AIRBUS DEFENCE & SPACE GMBH     DE              \n",
       "4    60513   60513 51178870  AIRBUS DEFENCE & SPACE GMBH     DE              \n",
       "5    60513   60513 53550520  AIRBUS DEFENCE & SPACE GMBH     DE              \n",
       "6    60513   60513 55417987  AIRBUS DEFENCE & SPACE GMBH     DE              \n",
       "7    60513   60513 47862439  AIRBUS DEFENCE & SPACE GMBH     DE              \n",
       "8    60513   60513 51379857  AIRBUS DEFENCE & SPACE GMBH     DE              \n",
       "9    60513   60513 52065724  AIRBUS DEFENCE & SPACE GMBH     DE              \n",
       "10   60513   60513 52501359  AIRBUS DEFENCE & SPACE GMBH     DE              \n",
       "11   60513   60513 53511788  AIRBUS DEFENCE & SPACE GMBH     DE              \n",
       "12   60513   60513 55821811  AIRBUS DEFENCE & SPACE GMBH     DE              \n",
       "13   60513   60513 63748634  AIRBUS DEFENCE & SPACE GMBH     DE              \n",
       "14   60513   60513 64327023  AIRBUS DEFENCE & SPACE GMBH     DE              \n",
       "15   60513   60513 67357390  AIRBUS DEFENCE & SPACE GMBH     DE              \n",
       "16   60513   60513 74476538  AIRBUS DEFENCE & SPACE GMBH     DE              \n",
       "17   60513   60513 76203220  AIRBUS DEFENCE & SPACE GMBH     DE              \n",
       "18   60513   60513 48745228  AIRBUS DEFENCE & SPACE GMBH     DE              \n",
       "19   60513   60513 52404336  AIRBUS DEFENCE & SPACE GMBH     DE              \n",
       "20   60513   60513 52490885  AIRBUS DEFENCE & SPACE GMBH     DE              \n",
       "21   60513   60513 55098185  AIRBUS DEFENCE & SPACE GMBH     DE              \n",
       "22   60513   60513 72276707  AIRBUS DEFENCE & SPACE GMBH     DE              \n",
       "23   60513   60513 74425251  AIRBUS DEFENCE & SPACE GMBH     DE              \n",
       "24   60513   60513 51955457  AIRBUS DEFENCE & SPACE GMBH     DE              \n",
       "25   60513   60513 52065725  AIRBUS DEFENCE & SPACE GMBH     DE              \n",
       "26   60513   60513 54693570  AIRBUS DEFENCE & SPACE GMBH     DE              \n",
       "27   60513   60513 55417988  AIRBUS DEFENCE & SPACE GMBH     DE              \n",
       "28   60513   60513 55813218  AIRBUS DEFENCE & SPACE GMBH     DE              \n",
       "29   60513   60513 63748633  AIRBUS DEFENCE & SPACE GMBH     DE              \n",
       "30   60513   60513 77630109  AIRBUS DEFENCE & SPACE GMBH     DE              \n",
       "31   60513   60513 48327981  AIRBUS DEFENCE & SPACE GMBH     DE              \n",
       "32   60513   60513 53522587  AIRBUS DEFENCE & SPACE GMBH     DE              \n",
       "33   60513   60513 63831372  AIRBUS DEFENCE & SPACE GMBH     DE              \n",
       "34   60513   60513 64150326  AIRBUS DEFENCE & SPACE GMBH     DE              \n",
       "35   60513   60513 52498651  AIRBUS DEFENCE & SPACE GMBH     DE              \n",
       "36   60513   60513 49159503  AIRBUS DEFENCE & SPACE GMBH     DE              \n",
       "37   60513   60513 53322351  AIRBUS DEFENCE & SPACE GMBH     DE              \n",
       "38   60513   60513 55812057  AIRBUS DEFENCE & SPACE GMBH     DE              \n",
       "39   60513   60513 57922291  AIRBUS DEFENCE & SPACE GMBH     DE              \n",
       "40   62422   62422 53557864  AIRBUS DEFENCE ANG SPACE GMBH   DE              \n",
       "41 3637004 3637004 54491439  AIRBUS DEFENCE & SPACE          DE              \n",
       "42 4401227 4401227 71558137  AIRBUS DEFENCE ANS SPACE GMBH   DE              \n",
       "43 4527012 4527012 77793673  AIRBUS DEFENCE & AIR SPACE GMBH DE              \n",
       "   Matched\n",
       "1  1      \n",
       "2  1      \n",
       "3  1      \n",
       "4  1      \n",
       "5  1      \n",
       "6  1      \n",
       "7  1      \n",
       "8  1      \n",
       "9  1      \n",
       "10 1      \n",
       "11 1      \n",
       "12 1      \n",
       "13 1      \n",
       "14 1      \n",
       "15 1      \n",
       "16 1      \n",
       "17 1      \n",
       "18 1      \n",
       "19 1      \n",
       "20 1      \n",
       "21 1      \n",
       "22 1      \n",
       "23 1      \n",
       "24 1      \n",
       "25 1      \n",
       "26 1      \n",
       "27 1      \n",
       "28 1      \n",
       "29 1      \n",
       "30 1      \n",
       "31 1      \n",
       "32 1      \n",
       "33 1      \n",
       "34 1      \n",
       "35 1      \n",
       "36 1      \n",
       "37 1      \n",
       "38 1      \n",
       "39 1      \n",
       "40 0      \n",
       "41 1      \n",
       "42 0      \n",
       "43 0      "
      ]
     },
     "metadata": {},
     "output_type": "display_data"
    }
   ],
   "source": [
    "han_person %>%\n",
    "    .[HAN_ID %in% airbus_han_ids]"
   ]
  },
  {
   "cell_type": "code",
   "execution_count": 23,
   "metadata": {
    "vscode": {
     "languageId": "r"
    }
   },
   "outputs": [],
   "source": [
    "han_patents <- fread('work/notebooks/patent/data/202208_HAN_PATENTS.txt')"
   ]
  },
  {
   "cell_type": "code",
   "execution_count": 31,
   "metadata": {
    "vscode": {
     "languageId": "r"
    }
   },
   "outputs": [
    {
     "data": {
      "text/html": [
       "<table class=\"dataframe\">\n",
       "<caption>A data.table: 5 × 5</caption>\n",
       "<thead>\n",
       "\t<tr><th scope=col>HAN_ID</th><th scope=col>HARM_ID</th><th scope=col>Appln_id</th><th scope=col>Publn_auth</th><th scope=col>Patent_number</th></tr>\n",
       "\t<tr><th scope=col>&lt;int&gt;</th><th scope=col>&lt;int&gt;</th><th scope=col>&lt;int&gt;</th><th scope=col>&lt;chr&gt;</th><th scope=col>&lt;chr&gt;</th></tr>\n",
       "</thead>\n",
       "<tbody>\n",
       "\t<tr><td>60513</td><td>60513</td><td>498018567</td><td>WO</td><td>WO2019030020</td></tr>\n",
       "\t<tr><td>60513</td><td>60513</td><td>504430645</td><td>EP</td><td>EP3667266   </td></tr>\n",
       "\t<tr><td>60513</td><td>60513</td><td>467727684</td><td>US</td><td>US10049590  </td></tr>\n",
       "\t<tr><td>60513</td><td>60513</td><td>470567845</td><td>US</td><td>US10399692  </td></tr>\n",
       "\t<tr><td>60513</td><td>60513</td><td>417437137</td><td>EP</td><td>EP2978912   </td></tr>\n",
       "</tbody>\n",
       "</table>\n"
      ],
      "text/latex": [
       "A data.table: 5 × 5\n",
       "\\begin{tabular}{lllll}\n",
       " HAN\\_ID & HARM\\_ID & Appln\\_id & Publn\\_auth & Patent\\_number\\\\\n",
       " <int> & <int> & <int> & <chr> & <chr>\\\\\n",
       "\\hline\n",
       "\t 60513 & 60513 & 498018567 & WO & WO2019030020\\\\\n",
       "\t 60513 & 60513 & 504430645 & EP & EP3667266   \\\\\n",
       "\t 60513 & 60513 & 467727684 & US & US10049590  \\\\\n",
       "\t 60513 & 60513 & 470567845 & US & US10399692  \\\\\n",
       "\t 60513 & 60513 & 417437137 & EP & EP2978912   \\\\\n",
       "\\end{tabular}\n"
      ],
      "text/markdown": [
       "\n",
       "A data.table: 5 × 5\n",
       "\n",
       "| HAN_ID &lt;int&gt; | HARM_ID &lt;int&gt; | Appln_id &lt;int&gt; | Publn_auth &lt;chr&gt; | Patent_number &lt;chr&gt; |\n",
       "|---|---|---|---|---|\n",
       "| 60513 | 60513 | 498018567 | WO | WO2019030020 |\n",
       "| 60513 | 60513 | 504430645 | EP | EP3667266    |\n",
       "| 60513 | 60513 | 467727684 | US | US10049590   |\n",
       "| 60513 | 60513 | 470567845 | US | US10399692   |\n",
       "| 60513 | 60513 | 417437137 | EP | EP2978912    |\n",
       "\n"
      ],
      "text/plain": [
       "  HAN_ID HARM_ID Appln_id  Publn_auth Patent_number\n",
       "1 60513  60513   498018567 WO         WO2019030020 \n",
       "2 60513  60513   504430645 EP         EP3667266    \n",
       "3 60513  60513   467727684 US         US10049590   \n",
       "4 60513  60513   470567845 US         US10399692   \n",
       "5 60513  60513   417437137 EP         EP2978912    "
      ]
     },
     "metadata": {},
     "output_type": "display_data"
    }
   ],
   "source": [
    "han_patents %>%\n",
    "    .[HAN_ID %in% airbus_han_ids] %>%\n",
    "    .[sample(.N, 5)]"
   ]
  },
  {
   "cell_type": "code",
   "execution_count": 51,
   "metadata": {
    "vscode": {
     "languageId": "r"
    }
   },
   "outputs": [
    {
     "data": {
      "text/plain": [
       "\n",
       "\n",
       "| V1  | V2  | V3 |\n",
       "|:---:|:---:|:--:|\n",
       "| EP  | US  | WO |\n",
       "| 716 | 415 | 88 |"
      ]
     },
     "metadata": {},
     "output_type": "display_data"
    }
   ],
   "source": [
    "han_patents %>%\n",
    "    .[HAN_ID %in% airbus_han_ids] %>%\n",
    "    .[, .N, by=Publn_auth] %>%\n",
    "    transpose() %>%\n",
    "    kable('pipe', align='ccc')"
   ]
  },
  {
   "cell_type": "code",
   "execution_count": null,
   "metadata": {
    "vscode": {
     "languageId": "r"
    }
   },
   "outputs": [],
   "source": []
  }
 ],
 "metadata": {
  "kernelspec": {
   "display_name": "R",
   "language": "R",
   "name": "ir"
  },
  "language_info": {
   "codemirror_mode": "r",
   "file_extension": ".r",
   "mimetype": "text/x-r-source",
   "name": "R",
   "pygments_lexer": "r",
   "version": "4.2.2"
  },
  "orig_nbformat": 4,
  "vscode": {
   "interpreter": {
    "hash": "16bff2c6a4793fe572f28f54bf2473ba4d5d1eb32d0a445bafdbd12ba8e85d21"
   }
  }
 },
 "nbformat": 4,
 "nbformat_minor": 2
}
