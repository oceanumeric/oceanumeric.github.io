{
 "cells": [
  {
   "cell_type": "code",
   "execution_count": 112,
   "metadata": {
    "vscode": {
     "languageId": "r"
    }
   },
   "outputs": [],
   "source": [
    "# load packages \n",
    "library(pacman)\n",
    "p_load(\n",
    "    tidyverse, data.table, dtplyr, reshape2, \n",
    "    archive, kableExtra, SPARQL, janitor, \n",
    "    httr, jsonlite)\n",
    "# set option\n",
    "options(dplyr.summarise.inform = FALSE)\n",
    "gray_scale <- c('#F3F4F8','#D2D4DA', '#B3B5BD', \n",
    "                '#9496A1', '#7d7f89', '#777986', \n",
    "                '#656673', '#5B5D6B', '#4d505e',\n",
    "                '#404352', '#2b2d3b', '#282A3A',\n",
    "                '#1b1c2a', '#191a2b',\n",
    "                '#141626', '#101223')"
   ]
  },
  {
   "cell_type": "code",
   "execution_count": 2,
   "metadata": {
    "vscode": {
     "languageId": "r"
    }
   },
   "outputs": [],
   "source": [
    "han_names <- fread('work/notebooks/patent/data/202208_HAN_NAMES.txt')"
   ]
  },
  {
   "cell_type": "code",
   "execution_count": 7,
   "metadata": {
    "vscode": {
     "languageId": "r"
    }
   },
   "outputs": [
    {
     "data": {
      "text/html": [
       "<style>\n",
       ".list-inline {list-style: none; margin:0; padding: 0}\n",
       ".list-inline>li {display: inline-block}\n",
       ".list-inline>li:not(:last-child)::after {content: \"\\00b7\"; padding: 0 .5ex}\n",
       "</style>\n",
       "<ol class=list-inline><li>4191007</li><li>3</li></ol>\n"
      ],
      "text/latex": [
       "\\begin{enumerate*}\n",
       "\\item 4191007\n",
       "\\item 3\n",
       "\\end{enumerate*}\n"
      ],
      "text/markdown": [
       "1. 4191007\n",
       "2. 3\n",
       "\n",
       "\n"
      ],
      "text/plain": [
       "[1] 4191007       3"
      ]
     },
     "metadata": {},
     "output_type": "display_data"
    }
   ],
   "source": [
    "dim(han_names)"
   ]
  },
  {
   "cell_type": "code",
   "execution_count": 7,
   "metadata": {
    "vscode": {
     "languageId": "r"
    }
   },
   "outputs": [
    {
     "data": {
      "text/html": [
       "<table class=\"dataframe\">\n",
       "<caption>A data.table: 6 × 3</caption>\n",
       "<thead>\n",
       "\t<tr><th scope=col>HAN_ID</th><th scope=col>Clean_name</th><th scope=col>Person_ctry_code</th></tr>\n",
       "\t<tr><th scope=col>&lt;int&gt;</th><th scope=col>&lt;chr&gt;</th><th scope=col>&lt;chr&gt;</th></tr>\n",
       "</thead>\n",
       "<tbody>\n",
       "\t<tr><td>1</td><td><span style=white-space:pre-wrap>&amp; HAMBOURG NIENDORF            </span></td><td>DE</td></tr>\n",
       "\t<tr><td>2</td><td><span style=white-space:pre-wrap>&amp; KK                           </span></td><td>JP</td></tr>\n",
       "\t<tr><td>3</td><td>“ASTRONIT” CLOSE CORP          </td><td>RU</td></tr>\n",
       "\t<tr><td>4</td><td>“DEUTSCHE SEE” GMBH            </td><td>DE</td></tr>\n",
       "\t<tr><td>5</td><td>“EFIRNOIE” OPEN JOINT STOCK CO </td><td>RU</td></tr>\n",
       "\t<tr><td>6</td><td>“EUROSTANDART” LTD LIABILITY CO</td><td>RU</td></tr>\n",
       "</tbody>\n",
       "</table>\n"
      ],
      "text/latex": [
       "A data.table: 6 × 3\n",
       "\\begin{tabular}{lll}\n",
       " HAN\\_ID & Clean\\_name & Person\\_ctry\\_code\\\\\n",
       " <int> & <chr> & <chr>\\\\\n",
       "\\hline\n",
       "\t 1 & \\& HAMBOURG NIENDORF             & DE\\\\\n",
       "\t 2 & \\& KK                            & JP\\\\\n",
       "\t 3 & “ASTRONIT” CLOSE CORP           & RU\\\\\n",
       "\t 4 & “DEUTSCHE SEE” GMBH             & DE\\\\\n",
       "\t 5 & “EFIRNOIE” OPEN JOINT STOCK CO  & RU\\\\\n",
       "\t 6 & “EUROSTANDART” LTD LIABILITY CO & RU\\\\\n",
       "\\end{tabular}\n"
      ],
      "text/markdown": [
       "\n",
       "A data.table: 6 × 3\n",
       "\n",
       "| HAN_ID &lt;int&gt; | Clean_name &lt;chr&gt; | Person_ctry_code &lt;chr&gt; |\n",
       "|---|---|---|\n",
       "| 1 | &amp; HAMBOURG NIENDORF             | DE |\n",
       "| 2 | &amp; KK                            | JP |\n",
       "| 3 | “ASTRONIT” CLOSE CORP           | RU |\n",
       "| 4 | “DEUTSCHE SEE” GMBH             | DE |\n",
       "| 5 | “EFIRNOIE” OPEN JOINT STOCK CO  | RU |\n",
       "| 6 | “EUROSTANDART” LTD LIABILITY CO | RU |\n",
       "\n"
      ],
      "text/plain": [
       "  HAN_ID Clean_name                      Person_ctry_code\n",
       "1 1      & HAMBOURG NIENDORF             DE              \n",
       "2 2      & KK                            JP              \n",
       "3 3      “ASTRONIT” CLOSE CORP           RU              \n",
       "4 4      “DEUTSCHE SEE” GMBH             DE              \n",
       "5 5      “EFIRNOIE” OPEN JOINT STOCK CO  RU              \n",
       "6 6      “EUROSTANDART” LTD LIABILITY CO RU              "
      ]
     },
     "metadata": {},
     "output_type": "display_data"
    }
   ],
   "source": [
    "head(han_names)"
   ]
  },
  {
   "cell_type": "code",
   "execution_count": 3,
   "metadata": {
    "vscode": {
     "languageId": "r"
    }
   },
   "outputs": [],
   "source": [
    "de_firms <- fread('work/notebooks/patent/data/orbis_de_matched_l.csv')"
   ]
  },
  {
   "cell_type": "code",
   "execution_count": 55,
   "metadata": {
    "vscode": {
     "languageId": "r"
    }
   },
   "outputs": [
    {
     "data": {
      "text/plain": [
       "\n",
       "\n",
       "| HAN_ID |           Clean_name           | Person_ctry_code |\n",
       "|:------:|:------------------------------:|:----------------:|\n",
       "|   1    |      & HAMBOURG NIENDORF       |        DE        |\n",
       "|   2    |              & KK              |        JP        |\n",
       "|   3    |     “ASTRONIT” CLOSE CORP      |        RU        |\n",
       "|   4    |      “DEUTSCHE SEE” GMBH       |        DE        |\n",
       "|   5    | “EFIRNOIE” OPEN JOINT STOCK CO |        RU        |"
      ]
     },
     "metadata": {},
     "output_type": "display_data"
    }
   ],
   "source": [
    "han_names %>%\n",
    "    .[1:5,] %>%\n",
    "    kable('pipe', align='ccc')"
   ]
  },
  {
   "cell_type": "code",
   "execution_count": 53,
   "metadata": {
    "vscode": {
     "languageId": "r"
    }
   },
   "outputs": [
    {
     "data": {
      "text/html": [
       "<table class=\"dataframe\">\n",
       "<caption>A data.table: 5 × 2</caption>\n",
       "<thead>\n",
       "\t<tr><th scope=col>name_native</th><th scope=col>name_internat</th></tr>\n",
       "\t<tr><th scope=col>&lt;chr&gt;</th><th scope=col>&lt;chr&gt;</th></tr>\n",
       "</thead>\n",
       "<tbody>\n",
       "\t<tr><td>Airbus Defence and Space GmbH        </td><td>Airbus Defence and Space GmbH        </td></tr>\n",
       "\t<tr><td>EurA AG                              </td><td>EurA AG                              </td></tr>\n",
       "\t<tr><td>TuTech Innovation GmbH               </td><td>TuTech Innovation GmbH               </td></tr>\n",
       "\t<tr><td>FFT Produktionssysteme GmbH &amp; Co. KG.</td><td>FFT Produktionssysteme GmbH &amp; Co. KG.</td></tr>\n",
       "\t<tr><td>Diehl Aviation Laupheim GmbH         </td><td>Diehl Aviation Laupheim GmbH         </td></tr>\n",
       "</tbody>\n",
       "</table>\n"
      ],
      "text/latex": [
       "A data.table: 5 × 2\n",
       "\\begin{tabular}{ll}\n",
       " name\\_native & name\\_internat\\\\\n",
       " <chr> & <chr>\\\\\n",
       "\\hline\n",
       "\t Airbus Defence and Space GmbH         & Airbus Defence and Space GmbH        \\\\\n",
       "\t EurA AG                               & EurA AG                              \\\\\n",
       "\t TuTech Innovation GmbH                & TuTech Innovation GmbH               \\\\\n",
       "\t FFT Produktionssysteme GmbH \\& Co. KG. & FFT Produktionssysteme GmbH \\& Co. KG.\\\\\n",
       "\t Diehl Aviation Laupheim GmbH          & Diehl Aviation Laupheim GmbH         \\\\\n",
       "\\end{tabular}\n"
      ],
      "text/markdown": [
       "\n",
       "A data.table: 5 × 2\n",
       "\n",
       "| name_native &lt;chr&gt; | name_internat &lt;chr&gt; |\n",
       "|---|---|\n",
       "| Airbus Defence and Space GmbH         | Airbus Defence and Space GmbH         |\n",
       "| EurA AG                               | EurA AG                               |\n",
       "| TuTech Innovation GmbH                | TuTech Innovation GmbH                |\n",
       "| FFT Produktionssysteme GmbH &amp; Co. KG. | FFT Produktionssysteme GmbH &amp; Co. KG. |\n",
       "| Diehl Aviation Laupheim GmbH          | Diehl Aviation Laupheim GmbH          |\n",
       "\n"
      ],
      "text/plain": [
       "  name_native                           name_internat                        \n",
       "1 Airbus Defence and Space GmbH         Airbus Defence and Space GmbH        \n",
       "2 EurA AG                               EurA AG                              \n",
       "3 TuTech Innovation GmbH                TuTech Innovation GmbH               \n",
       "4 FFT Produktionssysteme GmbH & Co. KG. FFT Produktionssysteme GmbH & Co. KG.\n",
       "5 Diehl Aviation Laupheim GmbH          Diehl Aviation Laupheim GmbH         "
      ]
     },
     "metadata": {},
     "output_type": "display_data"
    }
   ],
   "source": [
    "de_firms %>%\n",
    "    .[1:5, 2:3]"
   ]
  },
  {
   "cell_type": "code",
   "execution_count": 83,
   "metadata": {
    "vscode": {
     "languageId": "r"
    }
   },
   "outputs": [
    {
     "data": {
      "text/html": [
       "<style>\n",
       ".list-inline {list-style: none; margin:0; padding: 0}\n",
       ".list-inline>li {display: inline-block}\n",
       ".list-inline>li:not(:last-child)::after {content: \"\\00b7\"; padding: 0 .5ex}\n",
       "</style>\n",
       "<ol class=list-inline><li>60513</li><li>62422</li><li>3637004</li><li>4401227</li><li>4527012</li></ol>\n"
      ],
      "text/latex": [
       "\\begin{enumerate*}\n",
       "\\item 60513\n",
       "\\item 62422\n",
       "\\item 3637004\n",
       "\\item 4401227\n",
       "\\item 4527012\n",
       "\\end{enumerate*}\n"
      ],
      "text/markdown": [
       "1. 60513\n",
       "2. 62422\n",
       "3. 3637004\n",
       "4. 4401227\n",
       "5. 4527012\n",
       "\n",
       "\n"
      ],
      "text/plain": [
       "[1]   60513   62422 3637004 4401227 4527012"
      ]
     },
     "metadata": {},
     "output_type": "display_data"
    }
   ],
   "source": [
    "# query\n",
    "airbus <- toupper('Airbus Defence')\n",
    "han_names %>%\n",
    "    .[Person_ctry_code == 'DE'] %>%\n",
    "    .[Clean_name %like% airbus] %>%\n",
    "    .[,HAN_ID] -> airbus_han_ids\n",
    "airbus_han_ids"
   ]
  },
  {
   "cell_type": "code",
   "execution_count": 61,
   "metadata": {
    "vscode": {
     "languageId": "r"
    }
   },
   "outputs": [],
   "source": [
    "han_patents <- fread('work/notebooks/patent/data/202208_HAN_PATENTS.txt')"
   ]
  },
  {
   "cell_type": "code",
   "execution_count": 86,
   "metadata": {
    "vscode": {
     "languageId": "r"
    }
   },
   "outputs": [
    {
     "data": {
      "text/html": [
       "<table class=\"dataframe\">\n",
       "<caption>A data.table: 1 × 4</caption>\n",
       "<thead>\n",
       "\t<tr><th></th><th scope=col>EP</th><th scope=col>US</th><th scope=col>WO</th><th scope=col>Total</th></tr>\n",
       "\t<tr><th></th><th scope=col>&lt;chr&gt;</th><th scope=col>&lt;chr&gt;</th><th scope=col>&lt;chr&gt;</th><th scope=col>&lt;chr&gt;</th></tr>\n",
       "</thead>\n",
       "<tbody>\n",
       "\t<tr><th scope=row>2</th><td>716</td><td>415</td><td>88</td><td>1219</td></tr>\n",
       "</tbody>\n",
       "</table>\n"
      ],
      "text/latex": [
       "A data.table: 1 × 4\n",
       "\\begin{tabular}{r|llll}\n",
       "  & EP & US & WO & Total\\\\\n",
       "  & <chr> & <chr> & <chr> & <chr>\\\\\n",
       "\\hline\n",
       "\t2 & 716 & 415 & 88 & 1219\\\\\n",
       "\\end{tabular}\n"
      ],
      "text/markdown": [
       "\n",
       "A data.table: 1 × 4\n",
       "\n",
       "| <!--/--> | EP &lt;chr&gt; | US &lt;chr&gt; | WO &lt;chr&gt; | Total &lt;chr&gt; |\n",
       "|---|---|---|---|---|\n",
       "| 2 | 716 | 415 | 88 | 1219 |\n",
       "\n"
      ],
      "text/plain": [
       "  EP  US  WO Total\n",
       "1 716 415 88 1219 "
      ]
     },
     "metadata": {},
     "output_type": "display_data"
    }
   ],
   "source": [
    "han_patents %>%\n",
    "    .[HAN_ID %in% airbus_han_ids] %>%\n",
    "    .[, .N, by=Publn_auth] -> foo\n",
    "    transform(adorn_totals(foo)) %>%\n",
    "    transpose() %>%\n",
    "    row_to_names(row_number=1)"
   ]
  },
  {
   "cell_type": "code",
   "execution_count": 84,
   "metadata": {
    "vscode": {
     "languageId": "r"
    }
   },
   "outputs": [
    {
     "data": {
      "text/html": [
       "<table class=\"dataframe\">\n",
       "<caption>A data.table: 5 × 5</caption>\n",
       "<thead>\n",
       "\t<tr><th scope=col>HAN_ID</th><th scope=col>HARM_ID</th><th scope=col>Appln_id</th><th scope=col>Publn_auth</th><th scope=col>Patent_number</th></tr>\n",
       "\t<tr><th scope=col>&lt;int&gt;</th><th scope=col>&lt;int&gt;</th><th scope=col>&lt;int&gt;</th><th scope=col>&lt;chr&gt;</th><th scope=col>&lt;chr&gt;</th></tr>\n",
       "</thead>\n",
       "<tbody>\n",
       "\t<tr><td>60513</td><td>60513</td><td>442096647</td><td>EP</td><td>EP3112597   </td></tr>\n",
       "\t<tr><td>60513</td><td>60513</td><td>417401751</td><td>EP</td><td>EP2913271   </td></tr>\n",
       "\t<tr><td>60513</td><td>60513</td><td>404985890</td><td>EP</td><td>EP2825450   </td></tr>\n",
       "\t<tr><td>60513</td><td>60513</td><td>527283926</td><td>US</td><td>US2020070202</td></tr>\n",
       "\t<tr><td>60513</td><td>60513</td><td>544408405</td><td>WO</td><td>WO2021123759</td></tr>\n",
       "</tbody>\n",
       "</table>\n"
      ],
      "text/latex": [
       "A data.table: 5 × 5\n",
       "\\begin{tabular}{lllll}\n",
       " HAN\\_ID & HARM\\_ID & Appln\\_id & Publn\\_auth & Patent\\_number\\\\\n",
       " <int> & <int> & <int> & <chr> & <chr>\\\\\n",
       "\\hline\n",
       "\t 60513 & 60513 & 442096647 & EP & EP3112597   \\\\\n",
       "\t 60513 & 60513 & 417401751 & EP & EP2913271   \\\\\n",
       "\t 60513 & 60513 & 404985890 & EP & EP2825450   \\\\\n",
       "\t 60513 & 60513 & 527283926 & US & US2020070202\\\\\n",
       "\t 60513 & 60513 & 544408405 & WO & WO2021123759\\\\\n",
       "\\end{tabular}\n"
      ],
      "text/markdown": [
       "\n",
       "A data.table: 5 × 5\n",
       "\n",
       "| HAN_ID &lt;int&gt; | HARM_ID &lt;int&gt; | Appln_id &lt;int&gt; | Publn_auth &lt;chr&gt; | Patent_number &lt;chr&gt; |\n",
       "|---|---|---|---|---|\n",
       "| 60513 | 60513 | 442096647 | EP | EP3112597    |\n",
       "| 60513 | 60513 | 417401751 | EP | EP2913271    |\n",
       "| 60513 | 60513 | 404985890 | EP | EP2825450    |\n",
       "| 60513 | 60513 | 527283926 | US | US2020070202 |\n",
       "| 60513 | 60513 | 544408405 | WO | WO2021123759 |\n",
       "\n"
      ],
      "text/plain": [
       "  HAN_ID HARM_ID Appln_id  Publn_auth Patent_number\n",
       "1 60513  60513   442096647 EP         EP3112597    \n",
       "2 60513  60513   417401751 EP         EP2913271    \n",
       "3 60513  60513   404985890 EP         EP2825450    \n",
       "4 60513  60513   527283926 US         US2020070202 \n",
       "5 60513  60513   544408405 WO         WO2021123759 "
      ]
     },
     "metadata": {},
     "output_type": "display_data"
    }
   ],
   "source": [
    "han_patents %>%\n",
    "    .[HAN_ID %in% airbus_han_ids] %>%\n",
    "    .[sample(.N, 5)]"
   ]
  },
  {
   "cell_type": "code",
   "execution_count": 96,
   "metadata": {
    "vscode": {
     "languageId": "r"
    }
   },
   "outputs": [
    {
     "data": {
      "text/html": [
       "<table class=\"dataframe\">\n",
       "<caption>A data.table: 6 × 5</caption>\n",
       "<thead>\n",
       "\t<tr><th scope=col>HAN_ID</th><th scope=col>HARM_ID</th><th scope=col>Appln_id</th><th scope=col>Publn_auth</th><th scope=col>Patent_number</th></tr>\n",
       "\t<tr><th scope=col>&lt;int&gt;</th><th scope=col>&lt;int&gt;</th><th scope=col>&lt;int&gt;</th><th scope=col>&lt;chr&gt;</th><th scope=col>&lt;chr&gt;</th></tr>\n",
       "</thead>\n",
       "<tbody>\n",
       "\t<tr><td>60513</td><td>60513</td><td>   213</td><td>EP</td><td>EP2030891</td></tr>\n",
       "\t<tr><td>60513</td><td>60513</td><td> 65448</td><td>EP</td><td>EP2025928</td></tr>\n",
       "\t<tr><td>60513</td><td>60513</td><td>156990</td><td>EP</td><td>EP1920908</td></tr>\n",
       "\t<tr><td>60513</td><td>60513</td><td>161551</td><td>EP</td><td>EP1972896</td></tr>\n",
       "\t<tr><td>60513</td><td>60513</td><td>173385</td><td>EP</td><td>EP2134522</td></tr>\n",
       "\t<tr><td>60513</td><td>60513</td><td>173386</td><td>EP</td><td>EP2136979</td></tr>\n",
       "</tbody>\n",
       "</table>\n"
      ],
      "text/latex": [
       "A data.table: 6 × 5\n",
       "\\begin{tabular}{lllll}\n",
       " HAN\\_ID & HARM\\_ID & Appln\\_id & Publn\\_auth & Patent\\_number\\\\\n",
       " <int> & <int> & <int> & <chr> & <chr>\\\\\n",
       "\\hline\n",
       "\t 60513 & 60513 &    213 & EP & EP2030891\\\\\n",
       "\t 60513 & 60513 &  65448 & EP & EP2025928\\\\\n",
       "\t 60513 & 60513 & 156990 & EP & EP1920908\\\\\n",
       "\t 60513 & 60513 & 161551 & EP & EP1972896\\\\\n",
       "\t 60513 & 60513 & 173385 & EP & EP2134522\\\\\n",
       "\t 60513 & 60513 & 173386 & EP & EP2136979\\\\\n",
       "\\end{tabular}\n"
      ],
      "text/markdown": [
       "\n",
       "A data.table: 6 × 5\n",
       "\n",
       "| HAN_ID &lt;int&gt; | HARM_ID &lt;int&gt; | Appln_id &lt;int&gt; | Publn_auth &lt;chr&gt; | Patent_number &lt;chr&gt; |\n",
       "|---|---|---|---|---|\n",
       "| 60513 | 60513 |    213 | EP | EP2030891 |\n",
       "| 60513 | 60513 |  65448 | EP | EP2025928 |\n",
       "| 60513 | 60513 | 156990 | EP | EP1920908 |\n",
       "| 60513 | 60513 | 161551 | EP | EP1972896 |\n",
       "| 60513 | 60513 | 173385 | EP | EP2134522 |\n",
       "| 60513 | 60513 | 173386 | EP | EP2136979 |\n",
       "\n"
      ],
      "text/plain": [
       "  HAN_ID HARM_ID Appln_id Publn_auth Patent_number\n",
       "1 60513  60513      213   EP         EP2030891    \n",
       "2 60513  60513    65448   EP         EP2025928    \n",
       "3 60513  60513   156990   EP         EP1920908    \n",
       "4 60513  60513   161551   EP         EP1972896    \n",
       "5 60513  60513   173385   EP         EP2134522    \n",
       "6 60513  60513   173386   EP         EP2136979    "
      ]
     },
     "metadata": {},
     "output_type": "display_data"
    }
   ],
   "source": [
    "han_patents %>%\n",
    "    .[HAN_ID %in% airbus_han_ids] %>%\n",
    "    .[Publn_auth == 'EP'] -> airbus_ep_patents\n",
    "    head(airbus_ep_patents)"
   ]
  },
  {
   "cell_type": "code",
   "execution_count": 111,
   "metadata": {
    "vscode": {
     "languageId": "r"
    }
   },
   "outputs": [
    {
     "data": {
      "text/html": [
       "<dl>\n",
       "\t<dt>$format</dt>\n",
       "\t\t<dd>'linked-data-api'</dd>\n",
       "\t<dt>$version</dt>\n",
       "\t\t<dd>'0.2'</dd>\n",
       "\t<dt>$result</dt>\n",
       "\t\t<dd><dl>\n",
       "\t<dt>$`_about`</dt>\n",
       "\t\t<dd>'http://data.epo.org/linked-data/data/publication/EP/1972896.json'</dd>\n",
       "\t<dt>$definition</dt>\n",
       "\t\t<dd>'http://data.epo.org/linked-data/meta/data/publication/_st3Code/_publicationNumber.json'</dd>\n",
       "\t<dt>$extendedMetadataVersion</dt>\n",
       "\t\t<dd>'http://data.epo.org/linked-data/data/publication/EP/1972896.json?_metadata=all'</dd>\n",
       "\t<dt>$first</dt>\n",
       "\t\t<dd>'http://data.epo.org/linked-data/data/publication/EP/1972896.json?_page=0'</dd>\n",
       "\t<dt>$hasPart</dt>\n",
       "\t\t<dd>'http://data.epo.org/linked-data/data/publication/EP/1972896.json'</dd>\n",
       "\t<dt>$isPartOf</dt>\n",
       "\t\t<dd>'http://data.epo.org/linked-data/data/publication/EP/1972896.json'</dd>\n",
       "\t<dt>$items</dt>\n",
       "\t\t<dd><ol>\n",
       "\t<li><dl>\n",
       "\t<dt>$`_about`</dt>\n",
       "\t\t<dd>'http://data.epo.org/linked-data/data/publication/EP/1972896/A2/-'</dd>\n",
       "\t<dt>$application</dt>\n",
       "\t\t<dd><dl>\n",
       "\t<dt>$`_about`</dt>\n",
       "\t\t<dd>'http://data.epo.org/linked-data/id/application/EP/08004318'</dd>\n",
       "\t<dt>$applicationNumber</dt>\n",
       "\t\t<dd>'08004318'</dd>\n",
       "</dl>\n",
       "</dd>\n",
       "\t<dt>$label</dt>\n",
       "\t\t<dd>'EP 1972896 A2'</dd>\n",
       "\t<dt>$publicationAuthority</dt>\n",
       "\t\t<dd>'http://data.epo.org/linked-data/id/st3/EP'</dd>\n",
       "\t<dt>$publicationDate</dt>\n",
       "\t\t<dd>'Wed, 24 Sep 2008'</dd>\n",
       "\t<dt>$publicationKind</dt>\n",
       "\t\t<dd><dl>\n",
       "\t<dt>$`_about`</dt>\n",
       "\t\t<dd>'http://data.epo.org/linked-data/def/patent/publicationKind_A2'</dd>\n",
       "\t<dt>$label</dt>\n",
       "\t\t<dd>'A2'</dd>\n",
       "</dl>\n",
       "</dd>\n",
       "</dl>\n",
       "</li>\n",
       "\t<li><dl>\n",
       "\t<dt>$`_about`</dt>\n",
       "\t\t<dd>'http://data.epo.org/linked-data/data/publication/EP/1972896/A3/-'</dd>\n",
       "\t<dt>$application</dt>\n",
       "\t\t<dd><dl>\n",
       "\t<dt>$`_about`</dt>\n",
       "\t\t<dd>'http://data.epo.org/linked-data/id/application/EP/08004318'</dd>\n",
       "\t<dt>$applicationNumber</dt>\n",
       "\t\t<dd>'08004318'</dd>\n",
       "</dl>\n",
       "</dd>\n",
       "\t<dt>$label</dt>\n",
       "\t\t<dd>'EP 1972896 A3'</dd>\n",
       "\t<dt>$publicationAuthority</dt>\n",
       "\t\t<dd>'http://data.epo.org/linked-data/id/st3/EP'</dd>\n",
       "\t<dt>$publicationDate</dt>\n",
       "\t\t<dd>'Wed, 07 Nov 2012'</dd>\n",
       "\t<dt>$publicationKind</dt>\n",
       "\t\t<dd><dl>\n",
       "\t<dt>$`_about`</dt>\n",
       "\t\t<dd>'http://data.epo.org/linked-data/def/patent/publicationKind_A3'</dd>\n",
       "\t<dt>$label</dt>\n",
       "\t\t<dd>'A3'</dd>\n",
       "</dl>\n",
       "</dd>\n",
       "</dl>\n",
       "</li>\n",
       "\t<li><dl>\n",
       "\t<dt>$`_about`</dt>\n",
       "\t\t<dd>'http://data.epo.org/linked-data/data/publication/EP/1972896/B1/-'</dd>\n",
       "\t<dt>$application</dt>\n",
       "\t\t<dd><dl>\n",
       "\t<dt>$`_about`</dt>\n",
       "\t\t<dd>'http://data.epo.org/linked-data/id/application/EP/08004318'</dd>\n",
       "\t<dt>$applicationNumber</dt>\n",
       "\t\t<dd>'08004318'</dd>\n",
       "</dl>\n",
       "</dd>\n",
       "\t<dt>$label</dt>\n",
       "\t\t<dd>'EP 1972896 B1'</dd>\n",
       "\t<dt>$publicationAuthority</dt>\n",
       "\t\t<dd>'http://data.epo.org/linked-data/id/st3/EP'</dd>\n",
       "\t<dt>$publicationDate</dt>\n",
       "\t\t<dd>'Wed, 06 May 2015'</dd>\n",
       "\t<dt>$publicationKind</dt>\n",
       "\t\t<dd><dl>\n",
       "\t<dt>$`_about`</dt>\n",
       "\t\t<dd>'http://data.epo.org/linked-data/def/patent/publicationKind_B1'</dd>\n",
       "\t<dt>$label</dt>\n",
       "\t\t<dd>'B1'</dd>\n",
       "</dl>\n",
       "</dd>\n",
       "</dl>\n",
       "</li>\n",
       "</ol>\n",
       "</dd>\n",
       "\t<dt>$itemsPerPage</dt>\n",
       "\t\t<dd>10</dd>\n",
       "\t<dt>$notice</dt>\n",
       "\t\t<dd><strong>$label</strong> = 'Provided by the European Patent Office.'</dd>\n",
       "\t<dt>$page</dt>\n",
       "\t\t<dd>0</dd>\n",
       "\t<dt>$startIndex</dt>\n",
       "\t\t<dd>1</dd>\n",
       "\t<dt>$type</dt>\n",
       "\t\t<dd><ol>\n",
       "\t<li>'http://purl.org/linked-data/api/vocab#ListEndpoint'</li>\n",
       "\t<li>'http://purl.org/linked-data/api/vocab#Page'</li>\n",
       "</ol>\n",
       "</dd>\n",
       "</dl>\n",
       "</dd>\n",
       "</dl>\n"
      ],
      "text/latex": [
       "\\begin{description}\n",
       "\\item[\\$format] 'linked-data-api'\n",
       "\\item[\\$version] '0.2'\n",
       "\\item[\\$result] \\begin{description}\n",
       "\\item[\\$`\\_about`] 'http://data.epo.org/linked-data/data/publication/EP/1972896.json'\n",
       "\\item[\\$definition] 'http://data.epo.org/linked-data/meta/data/publication/\\_st3Code/\\_publicationNumber.json'\n",
       "\\item[\\$extendedMetadataVersion] 'http://data.epo.org/linked-data/data/publication/EP/1972896.json?\\_metadata=all'\n",
       "\\item[\\$first] 'http://data.epo.org/linked-data/data/publication/EP/1972896.json?\\_page=0'\n",
       "\\item[\\$hasPart] 'http://data.epo.org/linked-data/data/publication/EP/1972896.json'\n",
       "\\item[\\$isPartOf] 'http://data.epo.org/linked-data/data/publication/EP/1972896.json'\n",
       "\\item[\\$items] \\begin{enumerate}\n",
       "\\item \\begin{description}\n",
       "\\item[\\$`\\_about`] 'http://data.epo.org/linked-data/data/publication/EP/1972896/A2/-'\n",
       "\\item[\\$application] \\begin{description}\n",
       "\\item[\\$`\\_about`] 'http://data.epo.org/linked-data/id/application/EP/08004318'\n",
       "\\item[\\$applicationNumber] '08004318'\n",
       "\\end{description}\n",
       "\n",
       "\\item[\\$label] 'EP 1972896 A2'\n",
       "\\item[\\$publicationAuthority] 'http://data.epo.org/linked-data/id/st3/EP'\n",
       "\\item[\\$publicationDate] 'Wed, 24 Sep 2008'\n",
       "\\item[\\$publicationKind] \\begin{description}\n",
       "\\item[\\$`\\_about`] 'http://data.epo.org/linked-data/def/patent/publicationKind\\_A2'\n",
       "\\item[\\$label] 'A2'\n",
       "\\end{description}\n",
       "\n",
       "\\end{description}\n",
       "\n",
       "\\item \\begin{description}\n",
       "\\item[\\$`\\_about`] 'http://data.epo.org/linked-data/data/publication/EP/1972896/A3/-'\n",
       "\\item[\\$application] \\begin{description}\n",
       "\\item[\\$`\\_about`] 'http://data.epo.org/linked-data/id/application/EP/08004318'\n",
       "\\item[\\$applicationNumber] '08004318'\n",
       "\\end{description}\n",
       "\n",
       "\\item[\\$label] 'EP 1972896 A3'\n",
       "\\item[\\$publicationAuthority] 'http://data.epo.org/linked-data/id/st3/EP'\n",
       "\\item[\\$publicationDate] 'Wed, 07 Nov 2012'\n",
       "\\item[\\$publicationKind] \\begin{description}\n",
       "\\item[\\$`\\_about`] 'http://data.epo.org/linked-data/def/patent/publicationKind\\_A3'\n",
       "\\item[\\$label] 'A3'\n",
       "\\end{description}\n",
       "\n",
       "\\end{description}\n",
       "\n",
       "\\item \\begin{description}\n",
       "\\item[\\$`\\_about`] 'http://data.epo.org/linked-data/data/publication/EP/1972896/B1/-'\n",
       "\\item[\\$application] \\begin{description}\n",
       "\\item[\\$`\\_about`] 'http://data.epo.org/linked-data/id/application/EP/08004318'\n",
       "\\item[\\$applicationNumber] '08004318'\n",
       "\\end{description}\n",
       "\n",
       "\\item[\\$label] 'EP 1972896 B1'\n",
       "\\item[\\$publicationAuthority] 'http://data.epo.org/linked-data/id/st3/EP'\n",
       "\\item[\\$publicationDate] 'Wed, 06 May 2015'\n",
       "\\item[\\$publicationKind] \\begin{description}\n",
       "\\item[\\$`\\_about`] 'http://data.epo.org/linked-data/def/patent/publicationKind\\_B1'\n",
       "\\item[\\$label] 'B1'\n",
       "\\end{description}\n",
       "\n",
       "\\end{description}\n",
       "\n",
       "\\end{enumerate}\n",
       "\n",
       "\\item[\\$itemsPerPage] 10\n",
       "\\item[\\$notice] \\textbf{\\$label} = 'Provided by the European Patent Office.'\n",
       "\\item[\\$page] 0\n",
       "\\item[\\$startIndex] 1\n",
       "\\item[\\$type] \\begin{enumerate}\n",
       "\\item 'http://purl.org/linked-data/api/vocab\\#ListEndpoint'\n",
       "\\item 'http://purl.org/linked-data/api/vocab\\#Page'\n",
       "\\end{enumerate}\n",
       "\n",
       "\\end{description}\n",
       "\n",
       "\\end{description}\n"
      ],
      "text/markdown": [
       "$format\n",
       ":   'linked-data-api'\n",
       "$version\n",
       ":   '0.2'\n",
       "$result\n",
       ":   $`_about`\n",
       ":   'http://data.epo.org/linked-data/data/publication/EP/1972896.json'\n",
       "$definition\n",
       ":   'http://data.epo.org/linked-data/meta/data/publication/_st3Code/_publicationNumber.json'\n",
       "$extendedMetadataVersion\n",
       ":   'http://data.epo.org/linked-data/data/publication/EP/1972896.json?_metadata=all'\n",
       "$first\n",
       ":   'http://data.epo.org/linked-data/data/publication/EP/1972896.json?_page=0'\n",
       "$hasPart\n",
       ":   'http://data.epo.org/linked-data/data/publication/EP/1972896.json'\n",
       "$isPartOf\n",
       ":   'http://data.epo.org/linked-data/data/publication/EP/1972896.json'\n",
       "$items\n",
       ":   1. $`_about`\n",
       ":   'http://data.epo.org/linked-data/data/publication/EP/1972896/A2/-'\n",
       "$application\n",
       ":   $`_about`\n",
       ":   'http://data.epo.org/linked-data/id/application/EP/08004318'\n",
       "$applicationNumber\n",
       ":   '08004318'\n",
       "\n",
       "\n",
       "\n",
       "$label\n",
       ":   'EP 1972896 A2'\n",
       "$publicationAuthority\n",
       ":   'http://data.epo.org/linked-data/id/st3/EP'\n",
       "$publicationDate\n",
       ":   'Wed, 24 Sep 2008'\n",
       "$publicationKind\n",
       ":   $`_about`\n",
       ":   'http://data.epo.org/linked-data/def/patent/publicationKind_A2'\n",
       "$label\n",
       ":   'A2'\n",
       "\n",
       "\n",
       "\n",
       "\n",
       "\n",
       "\n",
       "2. $`_about`\n",
       ":   'http://data.epo.org/linked-data/data/publication/EP/1972896/A3/-'\n",
       "$application\n",
       ":   $`_about`\n",
       ":   'http://data.epo.org/linked-data/id/application/EP/08004318'\n",
       "$applicationNumber\n",
       ":   '08004318'\n",
       "\n",
       "\n",
       "\n",
       "$label\n",
       ":   'EP 1972896 A3'\n",
       "$publicationAuthority\n",
       ":   'http://data.epo.org/linked-data/id/st3/EP'\n",
       "$publicationDate\n",
       ":   'Wed, 07 Nov 2012'\n",
       "$publicationKind\n",
       ":   $`_about`\n",
       ":   'http://data.epo.org/linked-data/def/patent/publicationKind_A3'\n",
       "$label\n",
       ":   'A3'\n",
       "\n",
       "\n",
       "\n",
       "\n",
       "\n",
       "\n",
       "3. $`_about`\n",
       ":   'http://data.epo.org/linked-data/data/publication/EP/1972896/B1/-'\n",
       "$application\n",
       ":   $`_about`\n",
       ":   'http://data.epo.org/linked-data/id/application/EP/08004318'\n",
       "$applicationNumber\n",
       ":   '08004318'\n",
       "\n",
       "\n",
       "\n",
       "$label\n",
       ":   'EP 1972896 B1'\n",
       "$publicationAuthority\n",
       ":   'http://data.epo.org/linked-data/id/st3/EP'\n",
       "$publicationDate\n",
       ":   'Wed, 06 May 2015'\n",
       "$publicationKind\n",
       ":   $`_about`\n",
       ":   'http://data.epo.org/linked-data/def/patent/publicationKind_B1'\n",
       "$label\n",
       ":   'B1'\n",
       "\n",
       "\n",
       "\n",
       "\n",
       "\n",
       "\n",
       "\n",
       "\n",
       "\n",
       "$itemsPerPage\n",
       ":   10\n",
       "$notice\n",
       ":   **$label** = 'Provided by the European Patent Office.'\n",
       "$page\n",
       ":   0\n",
       "$startIndex\n",
       ":   1\n",
       "$type\n",
       ":   1. 'http://purl.org/linked-data/api/vocab#ListEndpoint'\n",
       "2. 'http://purl.org/linked-data/api/vocab#Page'\n",
       "\n",
       "\n",
       "\n",
       "\n",
       "\n",
       "\n",
       "\n",
       "\n"
      ],
      "text/plain": [
       "$format\n",
       "[1] \"linked-data-api\"\n",
       "\n",
       "$version\n",
       "[1] \"0.2\"\n",
       "\n",
       "$result\n",
       "$result$`_about`\n",
       "[1] \"http://data.epo.org/linked-data/data/publication/EP/1972896.json\"\n",
       "\n",
       "$result$definition\n",
       "[1] \"http://data.epo.org/linked-data/meta/data/publication/_st3Code/_publicationNumber.json\"\n",
       "\n",
       "$result$extendedMetadataVersion\n",
       "[1] \"http://data.epo.org/linked-data/data/publication/EP/1972896.json?_metadata=all\"\n",
       "\n",
       "$result$first\n",
       "[1] \"http://data.epo.org/linked-data/data/publication/EP/1972896.json?_page=0\"\n",
       "\n",
       "$result$hasPart\n",
       "[1] \"http://data.epo.org/linked-data/data/publication/EP/1972896.json\"\n",
       "\n",
       "$result$isPartOf\n",
       "[1] \"http://data.epo.org/linked-data/data/publication/EP/1972896.json\"\n",
       "\n",
       "$result$items\n",
       "$result$items[[1]]\n",
       "$result$items[[1]]$`_about`\n",
       "[1] \"http://data.epo.org/linked-data/data/publication/EP/1972896/A2/-\"\n",
       "\n",
       "$result$items[[1]]$application\n",
       "$result$items[[1]]$application$`_about`\n",
       "[1] \"http://data.epo.org/linked-data/id/application/EP/08004318\"\n",
       "\n",
       "$result$items[[1]]$application$applicationNumber\n",
       "[1] \"08004318\"\n",
       "\n",
       "\n",
       "$result$items[[1]]$label\n",
       "[1] \"EP 1972896 A2\"\n",
       "\n",
       "$result$items[[1]]$publicationAuthority\n",
       "[1] \"http://data.epo.org/linked-data/id/st3/EP\"\n",
       "\n",
       "$result$items[[1]]$publicationDate\n",
       "[1] \"Wed, 24 Sep 2008\"\n",
       "\n",
       "$result$items[[1]]$publicationKind\n",
       "$result$items[[1]]$publicationKind$`_about`\n",
       "[1] \"http://data.epo.org/linked-data/def/patent/publicationKind_A2\"\n",
       "\n",
       "$result$items[[1]]$publicationKind$label\n",
       "[1] \"A2\"\n",
       "\n",
       "\n",
       "\n",
       "$result$items[[2]]\n",
       "$result$items[[2]]$`_about`\n",
       "[1] \"http://data.epo.org/linked-data/data/publication/EP/1972896/A3/-\"\n",
       "\n",
       "$result$items[[2]]$application\n",
       "$result$items[[2]]$application$`_about`\n",
       "[1] \"http://data.epo.org/linked-data/id/application/EP/08004318\"\n",
       "\n",
       "$result$items[[2]]$application$applicationNumber\n",
       "[1] \"08004318\"\n",
       "\n",
       "\n",
       "$result$items[[2]]$label\n",
       "[1] \"EP 1972896 A3\"\n",
       "\n",
       "$result$items[[2]]$publicationAuthority\n",
       "[1] \"http://data.epo.org/linked-data/id/st3/EP\"\n",
       "\n",
       "$result$items[[2]]$publicationDate\n",
       "[1] \"Wed, 07 Nov 2012\"\n",
       "\n",
       "$result$items[[2]]$publicationKind\n",
       "$result$items[[2]]$publicationKind$`_about`\n",
       "[1] \"http://data.epo.org/linked-data/def/patent/publicationKind_A3\"\n",
       "\n",
       "$result$items[[2]]$publicationKind$label\n",
       "[1] \"A3\"\n",
       "\n",
       "\n",
       "\n",
       "$result$items[[3]]\n",
       "$result$items[[3]]$`_about`\n",
       "[1] \"http://data.epo.org/linked-data/data/publication/EP/1972896/B1/-\"\n",
       "\n",
       "$result$items[[3]]$application\n",
       "$result$items[[3]]$application$`_about`\n",
       "[1] \"http://data.epo.org/linked-data/id/application/EP/08004318\"\n",
       "\n",
       "$result$items[[3]]$application$applicationNumber\n",
       "[1] \"08004318\"\n",
       "\n",
       "\n",
       "$result$items[[3]]$label\n",
       "[1] \"EP 1972896 B1\"\n",
       "\n",
       "$result$items[[3]]$publicationAuthority\n",
       "[1] \"http://data.epo.org/linked-data/id/st3/EP\"\n",
       "\n",
       "$result$items[[3]]$publicationDate\n",
       "[1] \"Wed, 06 May 2015\"\n",
       "\n",
       "$result$items[[3]]$publicationKind\n",
       "$result$items[[3]]$publicationKind$`_about`\n",
       "[1] \"http://data.epo.org/linked-data/def/patent/publicationKind_B1\"\n",
       "\n",
       "$result$items[[3]]$publicationKind$label\n",
       "[1] \"B1\"\n",
       "\n",
       "\n",
       "\n",
       "\n",
       "$result$itemsPerPage\n",
       "[1] 10\n",
       "\n",
       "$result$notice\n",
       "$result$notice$label\n",
       "[1] \"Provided by the European Patent Office.\"\n",
       "\n",
       "\n",
       "$result$page\n",
       "[1] 0\n",
       "\n",
       "$result$startIndex\n",
       "[1] 1\n",
       "\n",
       "$result$type\n",
       "$result$type[[1]]\n",
       "[1] \"http://purl.org/linked-data/api/vocab#ListEndpoint\"\n",
       "\n",
       "$result$type[[2]]\n",
       "[1] \"http://purl.org/linked-data/api/vocab#Page\"\n",
       "\n",
       "\n"
      ]
     },
     "metadata": {},
     "output_type": "display_data"
    }
   ],
   "source": [
    "res <- get('\"httr\"')"
   ]
  },
  {
   "cell_type": "code",
   "execution_count": null,
   "metadata": {
    "vscode": {
     "languageId": "r"
    }
   },
   "outputs": [],
   "source": []
  }
 ],
 "metadata": {
  "kernelspec": {
   "display_name": "R",
   "language": "R",
   "name": "ir"
  },
  "language_info": {
   "codemirror_mode": "r",
   "file_extension": ".r",
   "mimetype": "text/x-r-source",
   "name": "R",
   "pygments_lexer": "r",
   "version": "4.2.2"
  },
  "orig_nbformat": 4,
  "vscode": {
   "interpreter": {
    "hash": "16bff2c6a4793fe572f28f54bf2473ba4d5d1eb32d0a445bafdbd12ba8e85d21"
   }
  }
 },
 "nbformat": 4,
 "nbformat_minor": 2
}
