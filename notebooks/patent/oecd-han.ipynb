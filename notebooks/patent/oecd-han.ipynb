{
 "cells": [
  {
   "attachments": {},
   "cell_type": "markdown",
   "metadata": {},
   "source": [
    "# OECD HAN Database"
   ]
  },
  {
   "cell_type": "code",
   "execution_count": 1,
   "metadata": {
    "vscode": {
     "languageId": "r"
    }
   },
   "outputs": [
    {
     "name": "stderr",
     "output_type": "stream",
     "text": [
      "Installing package into ‘/home/zou/R/x86_64-pc-linux-gnu-library/4.2’\n",
      "(as ‘lib’ is unspecified)\n",
      "\n",
      "Warning message in utils::install.packages(package, ...):\n",
      "“installation of package ‘archive’ had non-zero exit status”\n",
      "Warning message in p_install(package, character.only = TRUE, ...):\n",
      "“”\n",
      "Warning message in library(package, lib.loc = lib.loc, character.only = TRUE, logical.return = TRUE, :\n",
      "“there is no package called ‘archive’”\n",
      "Warning message in p_load(tidyverse, data.table, dtplyr, reshape2, archive):\n",
      "“Failed to install/load:\n",
      "archive”\n"
     ]
    }
   ],
   "source": [
    "# load packages \n",
    "library(pacman)\n",
    "p_load(tidyverse, data.table, dtplyr, reshape2, archive)\n",
    "# set option\n",
    "options(dplyr.summarise.inform = FALSE)\n",
    "gray_scale <- c('#F3F4F8','#D2D4DA', '#B3B5BD', \n",
    "                '#9496A1', '#7d7f89', '#777986', \n",
    "                '#656673', '#5B5D6B', '#4d505e',\n",
    "                '#404352', '#2b2d3b', '#282A3A',\n",
    "                '#1b1c2a', '#191a2b',\n",
    "                '#141626', '#101223')"
   ]
  },
  {
   "cell_type": "code",
   "execution_count": 30,
   "metadata": {
    "vscode": {
     "languageId": "r"
    }
   },
   "outputs": [],
   "source": [
    "han_names <- fread('work/notebooks/patent/data/202208_HAN_NAMES.txt')"
   ]
  },
  {
   "cell_type": "code",
   "execution_count": 8,
   "metadata": {
    "vscode": {
     "languageId": "r"
    }
   },
   "outputs": [
    {
     "data": {
      "text/html": [
       "<style>\n",
       ".list-inline {list-style: none; margin:0; padding: 0}\n",
       ".list-inline>li {display: inline-block}\n",
       ".list-inline>li:not(:last-child)::after {content: \"\\00b7\"; padding: 0 .5ex}\n",
       "</style>\n",
       "<ol class=list-inline><li>4191007</li><li>3</li></ol>\n"
      ],
      "text/latex": [
       "\\begin{enumerate*}\n",
       "\\item 4191007\n",
       "\\item 3\n",
       "\\end{enumerate*}\n"
      ],
      "text/markdown": [
       "1. 4191007\n",
       "2. 3\n",
       "\n",
       "\n"
      ],
      "text/plain": [
       "[1] 4191007       3"
      ]
     },
     "metadata": {},
     "output_type": "display_data"
    }
   ],
   "source": [
    "dim(han_names)"
   ]
  },
  {
   "cell_type": "code",
   "execution_count": 7,
   "metadata": {
    "vscode": {
     "languageId": "r"
    }
   },
   "outputs": [
    {
     "data": {
      "text/html": [
       "<table class=\"dataframe\">\n",
       "<caption>A data.table: 6 × 3</caption>\n",
       "<thead>\n",
       "\t<tr><th scope=col>HAN_ID</th><th scope=col>Clean_name</th><th scope=col>Person_ctry_code</th></tr>\n",
       "\t<tr><th scope=col>&lt;int&gt;</th><th scope=col>&lt;chr&gt;</th><th scope=col>&lt;chr&gt;</th></tr>\n",
       "</thead>\n",
       "<tbody>\n",
       "\t<tr><td>1</td><td><span style=white-space:pre-wrap>&amp; HAMBOURG NIENDORF            </span></td><td>DE</td></tr>\n",
       "\t<tr><td>2</td><td><span style=white-space:pre-wrap>&amp; KK                           </span></td><td>JP</td></tr>\n",
       "\t<tr><td>3</td><td>“ASTRONIT” CLOSE CORP          </td><td>RU</td></tr>\n",
       "\t<tr><td>4</td><td>“DEUTSCHE SEE” GMBH            </td><td>DE</td></tr>\n",
       "\t<tr><td>5</td><td>“EFIRNOIE” OPEN JOINT STOCK CO </td><td>RU</td></tr>\n",
       "\t<tr><td>6</td><td>“EUROSTANDART” LTD LIABILITY CO</td><td>RU</td></tr>\n",
       "</tbody>\n",
       "</table>\n"
      ],
      "text/latex": [
       "A data.table: 6 × 3\n",
       "\\begin{tabular}{lll}\n",
       " HAN\\_ID & Clean\\_name & Person\\_ctry\\_code\\\\\n",
       " <int> & <chr> & <chr>\\\\\n",
       "\\hline\n",
       "\t 1 & \\& HAMBOURG NIENDORF             & DE\\\\\n",
       "\t 2 & \\& KK                            & JP\\\\\n",
       "\t 3 & “ASTRONIT” CLOSE CORP           & RU\\\\\n",
       "\t 4 & “DEUTSCHE SEE” GMBH             & DE\\\\\n",
       "\t 5 & “EFIRNOIE” OPEN JOINT STOCK CO  & RU\\\\\n",
       "\t 6 & “EUROSTANDART” LTD LIABILITY CO & RU\\\\\n",
       "\\end{tabular}\n"
      ],
      "text/markdown": [
       "\n",
       "A data.table: 6 × 3\n",
       "\n",
       "| HAN_ID &lt;int&gt; | Clean_name &lt;chr&gt; | Person_ctry_code &lt;chr&gt; |\n",
       "|---|---|---|\n",
       "| 1 | &amp; HAMBOURG NIENDORF             | DE |\n",
       "| 2 | &amp; KK                            | JP |\n",
       "| 3 | “ASTRONIT” CLOSE CORP           | RU |\n",
       "| 4 | “DEUTSCHE SEE” GMBH             | DE |\n",
       "| 5 | “EFIRNOIE” OPEN JOINT STOCK CO  | RU |\n",
       "| 6 | “EUROSTANDART” LTD LIABILITY CO | RU |\n",
       "\n"
      ],
      "text/plain": [
       "  HAN_ID Clean_name                      Person_ctry_code\n",
       "1 1      & HAMBOURG NIENDORF             DE              \n",
       "2 2      & KK                            JP              \n",
       "3 3      “ASTRONIT” CLOSE CORP           RU              \n",
       "4 4      “DEUTSCHE SEE” GMBH             DE              \n",
       "5 5      “EFIRNOIE” OPEN JOINT STOCK CO  RU              \n",
       "6 6      “EUROSTANDART” LTD LIABILITY CO RU              "
      ]
     },
     "metadata": {},
     "output_type": "display_data"
    }
   ],
   "source": [
    "head(han_names)"
   ]
  },
  {
   "cell_type": "code",
   "execution_count": 4,
   "metadata": {
    "vscode": {
     "languageId": "r"
    }
   },
   "outputs": [
    {
     "data": {
      "text/html": [
       "<style>\n",
       ".list-inline {list-style: none; margin:0; padding: 0}\n",
       ".list-inline>li {display: inline-block}\n",
       ".list-inline>li:not(:last-child)::after {content: \"\\00b7\"; padding: 0 .5ex}\n",
       "</style>\n",
       "<ol class=list-inline><li>7740824</li><li>6</li></ol>\n"
      ],
      "text/latex": [
       "\\begin{enumerate*}\n",
       "\\item 7740824\n",
       "\\item 6\n",
       "\\end{enumerate*}\n"
      ],
      "text/markdown": [
       "1. 7740824\n",
       "2. 6\n",
       "\n",
       "\n"
      ],
      "text/plain": [
       "[1] 7740824       6"
      ]
     },
     "metadata": {},
     "output_type": "display_data"
    }
   ],
   "source": [
    "han_persons <- fread('work/notebooks/patent/data/202208_HAN_PERSON.txt')\n",
    "dim(han_persons)"
   ]
  },
  {
   "cell_type": "code",
   "execution_count": 11,
   "metadata": {
    "vscode": {
     "languageId": "r"
    }
   },
   "outputs": [
    {
     "data": {
      "text/html": [
       "<table class=\"dataframe\">\n",
       "<caption>A data.table: 10 × 6</caption>\n",
       "<thead>\n",
       "\t<tr><th scope=col>HAN_ID</th><th scope=col>HARM_ID</th><th scope=col>Person_id</th><th scope=col>Person_name_clean</th><th scope=col>Person_ctry_code</th><th scope=col>Matched</th></tr>\n",
       "\t<tr><th scope=col>&lt;int&gt;</th><th scope=col>&lt;int&gt;</th><th scope=col>&lt;int&gt;</th><th scope=col>&lt;chr&gt;</th><th scope=col>&lt;chr&gt;</th><th scope=col>&lt;int&gt;</th></tr>\n",
       "</thead>\n",
       "<tbody>\n",
       "\t<tr><td>1</td><td>1</td><td>15164069</td><td><span style=white-space:pre-wrap>&amp; HAMBOURG NIENDORF            </span></td><td>DE</td><td>0</td></tr>\n",
       "\t<tr><td>2</td><td>2</td><td>30816597</td><td><span style=white-space:pre-wrap>&amp; KK                           </span></td><td>JP</td><td>0</td></tr>\n",
       "\t<tr><td>3</td><td>3</td><td>67383967</td><td>“ASTRONIT” CLOSE CORP          </td><td>RU</td><td>0</td></tr>\n",
       "\t<tr><td>3</td><td>3</td><td>47772459</td><td>“ASTRONIT” CLOSE CORP          </td><td>RU</td><td>0</td></tr>\n",
       "\t<tr><td>4</td><td>4</td><td>47210990</td><td>“DEUTSCHE SEE” GMBH            </td><td>DE</td><td>0</td></tr>\n",
       "\t<tr><td>5</td><td>5</td><td>47367244</td><td>“EFIRNOIE” OPEN JOINT STOCK CO </td><td>RU</td><td>0</td></tr>\n",
       "\t<tr><td>5</td><td>5</td><td>64495153</td><td>“EFIRNOIE” OPEN JOINT STOCK CO </td><td>RU</td><td>0</td></tr>\n",
       "\t<tr><td>6</td><td>6</td><td>47433466</td><td>“EUROSTANDART” LTD LIABILITY CO</td><td>RU</td><td>0</td></tr>\n",
       "\t<tr><td>6</td><td>6</td><td>67613311</td><td>“EUROSTANDART” LTD LIABILITY CO</td><td>RU</td><td>0</td></tr>\n",
       "\t<tr><td>7</td><td>7</td><td>53655360</td><td>“IVIX” LTD                     </td><td>RU</td><td>0</td></tr>\n",
       "</tbody>\n",
       "</table>\n"
      ],
      "text/latex": [
       "A data.table: 10 × 6\n",
       "\\begin{tabular}{llllll}\n",
       " HAN\\_ID & HARM\\_ID & Person\\_id & Person\\_name\\_clean & Person\\_ctry\\_code & Matched\\\\\n",
       " <int> & <int> & <int> & <chr> & <chr> & <int>\\\\\n",
       "\\hline\n",
       "\t 1 & 1 & 15164069 & \\& HAMBOURG NIENDORF             & DE & 0\\\\\n",
       "\t 2 & 2 & 30816597 & \\& KK                            & JP & 0\\\\\n",
       "\t 3 & 3 & 67383967 & “ASTRONIT” CLOSE CORP           & RU & 0\\\\\n",
       "\t 3 & 3 & 47772459 & “ASTRONIT” CLOSE CORP           & RU & 0\\\\\n",
       "\t 4 & 4 & 47210990 & “DEUTSCHE SEE” GMBH             & DE & 0\\\\\n",
       "\t 5 & 5 & 47367244 & “EFIRNOIE” OPEN JOINT STOCK CO  & RU & 0\\\\\n",
       "\t 5 & 5 & 64495153 & “EFIRNOIE” OPEN JOINT STOCK CO  & RU & 0\\\\\n",
       "\t 6 & 6 & 47433466 & “EUROSTANDART” LTD LIABILITY CO & RU & 0\\\\\n",
       "\t 6 & 6 & 67613311 & “EUROSTANDART” LTD LIABILITY CO & RU & 0\\\\\n",
       "\t 7 & 7 & 53655360 & “IVIX” LTD                      & RU & 0\\\\\n",
       "\\end{tabular}\n"
      ],
      "text/markdown": [
       "\n",
       "A data.table: 10 × 6\n",
       "\n",
       "| HAN_ID &lt;int&gt; | HARM_ID &lt;int&gt; | Person_id &lt;int&gt; | Person_name_clean &lt;chr&gt; | Person_ctry_code &lt;chr&gt; | Matched &lt;int&gt; |\n",
       "|---|---|---|---|---|---|\n",
       "| 1 | 1 | 15164069 | &amp; HAMBOURG NIENDORF             | DE | 0 |\n",
       "| 2 | 2 | 30816597 | &amp; KK                            | JP | 0 |\n",
       "| 3 | 3 | 67383967 | “ASTRONIT” CLOSE CORP           | RU | 0 |\n",
       "| 3 | 3 | 47772459 | “ASTRONIT” CLOSE CORP           | RU | 0 |\n",
       "| 4 | 4 | 47210990 | “DEUTSCHE SEE” GMBH             | DE | 0 |\n",
       "| 5 | 5 | 47367244 | “EFIRNOIE” OPEN JOINT STOCK CO  | RU | 0 |\n",
       "| 5 | 5 | 64495153 | “EFIRNOIE” OPEN JOINT STOCK CO  | RU | 0 |\n",
       "| 6 | 6 | 47433466 | “EUROSTANDART” LTD LIABILITY CO | RU | 0 |\n",
       "| 6 | 6 | 67613311 | “EUROSTANDART” LTD LIABILITY CO | RU | 0 |\n",
       "| 7 | 7 | 53655360 | “IVIX” LTD                      | RU | 0 |\n",
       "\n"
      ],
      "text/plain": [
       "   HAN_ID HARM_ID Person_id Person_name_clean               Person_ctry_code\n",
       "1  1      1       15164069  & HAMBOURG NIENDORF             DE              \n",
       "2  2      2       30816597  & KK                            JP              \n",
       "3  3      3       67383967  “ASTRONIT” CLOSE CORP           RU              \n",
       "4  3      3       47772459  “ASTRONIT” CLOSE CORP           RU              \n",
       "5  4      4       47210990  “DEUTSCHE SEE” GMBH             DE              \n",
       "6  5      5       47367244  “EFIRNOIE” OPEN JOINT STOCK CO  RU              \n",
       "7  5      5       64495153  “EFIRNOIE” OPEN JOINT STOCK CO  RU              \n",
       "8  6      6       47433466  “EUROSTANDART” LTD LIABILITY CO RU              \n",
       "9  6      6       67613311  “EUROSTANDART” LTD LIABILITY CO RU              \n",
       "10 7      7       53655360  “IVIX” LTD                      RU              \n",
       "   Matched\n",
       "1  0      \n",
       "2  0      \n",
       "3  0      \n",
       "4  0      \n",
       "5  0      \n",
       "6  0      \n",
       "7  0      \n",
       "8  0      \n",
       "9  0      \n",
       "10 0      "
      ]
     },
     "metadata": {},
     "output_type": "display_data"
    }
   ],
   "source": [
    "head(han_persons, 10)"
   ]
  },
  {
   "cell_type": "code",
   "execution_count": 5,
   "metadata": {
    "vscode": {
     "languageId": "r"
    }
   },
   "outputs": [],
   "source": [
    "patents <- fread(\"work/notebooks/patent/data/202208_HAN_PATENTS.txt\")"
   ]
  },
  {
   "cell_type": "code",
   "execution_count": 8,
   "metadata": {
    "vscode": {
     "languageId": "r"
    }
   },
   "outputs": [
    {
     "data": {
      "text/html": [
       "<style>\n",
       ".list-inline {list-style: none; margin:0; padding: 0}\n",
       ".list-inline>li {display: inline-block}\n",
       ".list-inline>li:not(:last-child)::after {content: \"\\00b7\"; padding: 0 .5ex}\n",
       "</style>\n",
       "<ol class=list-inline><li>18355687</li><li>5</li></ol>\n"
      ],
      "text/latex": [
       "\\begin{enumerate*}\n",
       "\\item 18355687\n",
       "\\item 5\n",
       "\\end{enumerate*}\n"
      ],
      "text/markdown": [
       "1. 18355687\n",
       "2. 5\n",
       "\n",
       "\n"
      ],
      "text/plain": [
       "[1] 18355687        5"
      ]
     },
     "metadata": {},
     "output_type": "display_data"
    }
   ],
   "source": [
    "dim(patents)"
   ]
  },
  {
   "cell_type": "code",
   "execution_count": 13,
   "metadata": {
    "vscode": {
     "languageId": "r"
    }
   },
   "outputs": [
    {
     "data": {
      "text/html": [
       "<table class=\"dataframe\">\n",
       "<caption>A data.table: 6 × 5</caption>\n",
       "<thead>\n",
       "\t<tr><th scope=col>HAN_ID</th><th scope=col>HARM_ID</th><th scope=col>Appln_id</th><th scope=col>Publn_auth</th><th scope=col>Patent_number</th></tr>\n",
       "\t<tr><th scope=col>&lt;int&gt;</th><th scope=col>&lt;int&gt;</th><th scope=col>&lt;int&gt;</th><th scope=col>&lt;chr&gt;</th><th scope=col>&lt;chr&gt;</th></tr>\n",
       "</thead>\n",
       "<tbody>\n",
       "\t<tr><td> 4</td><td> 4</td><td>311606173</td><td>US</td><td>US8668089   </td></tr>\n",
       "\t<tr><td> 7</td><td> 7</td><td>439191607</td><td>US</td><td>US9409947   </td></tr>\n",
       "\t<tr><td> 7</td><td> 7</td><td>518367793</td><td>US</td><td>US10836794  </td></tr>\n",
       "\t<tr><td>10</td><td>10</td><td>365204276</td><td>US</td><td>US8513480   </td></tr>\n",
       "\t<tr><td>14</td><td>14</td><td>336903179</td><td>WO</td><td>WO2011112122</td></tr>\n",
       "\t<tr><td>14</td><td>14</td><td>363622722</td><td>WO</td><td>WO2012064218</td></tr>\n",
       "</tbody>\n",
       "</table>\n"
      ],
      "text/latex": [
       "A data.table: 6 × 5\n",
       "\\begin{tabular}{lllll}\n",
       " HAN\\_ID & HARM\\_ID & Appln\\_id & Publn\\_auth & Patent\\_number\\\\\n",
       " <int> & <int> & <int> & <chr> & <chr>\\\\\n",
       "\\hline\n",
       "\t  4 &  4 & 311606173 & US & US8668089   \\\\\n",
       "\t  7 &  7 & 439191607 & US & US9409947   \\\\\n",
       "\t  7 &  7 & 518367793 & US & US10836794  \\\\\n",
       "\t 10 & 10 & 365204276 & US & US8513480   \\\\\n",
       "\t 14 & 14 & 336903179 & WO & WO2011112122\\\\\n",
       "\t 14 & 14 & 363622722 & WO & WO2012064218\\\\\n",
       "\\end{tabular}\n"
      ],
      "text/markdown": [
       "\n",
       "A data.table: 6 × 5\n",
       "\n",
       "| HAN_ID &lt;int&gt; | HARM_ID &lt;int&gt; | Appln_id &lt;int&gt; | Publn_auth &lt;chr&gt; | Patent_number &lt;chr&gt; |\n",
       "|---|---|---|---|---|\n",
       "|  4 |  4 | 311606173 | US | US8668089    |\n",
       "|  7 |  7 | 439191607 | US | US9409947    |\n",
       "|  7 |  7 | 518367793 | US | US10836794   |\n",
       "| 10 | 10 | 365204276 | US | US8513480    |\n",
       "| 14 | 14 | 336903179 | WO | WO2011112122 |\n",
       "| 14 | 14 | 363622722 | WO | WO2012064218 |\n",
       "\n"
      ],
      "text/plain": [
       "  HAN_ID HARM_ID Appln_id  Publn_auth Patent_number\n",
       "1  4      4      311606173 US         US8668089    \n",
       "2  7      7      439191607 US         US9409947    \n",
       "3  7      7      518367793 US         US10836794   \n",
       "4 10     10      365204276 US         US8513480    \n",
       "5 14     14      336903179 WO         WO2011112122 \n",
       "6 14     14      363622722 WO         WO2012064218 "
      ]
     },
     "metadata": {},
     "output_type": "display_data"
    }
   ],
   "source": [
    "head(patents)"
   ]
  },
  {
   "cell_type": "code",
   "execution_count": 6,
   "metadata": {
    "vscode": {
     "languageId": "r"
    }
   },
   "outputs": [
    {
     "data": {
      "text/html": [
       "<table class=\"dataframe\">\n",
       "<caption>A data.table: 0 × 5</caption>\n",
       "<thead>\n",
       "\t<tr><th scope=col>HAN_ID</th><th scope=col>HARM_ID</th><th scope=col>Appln_id</th><th scope=col>Publn_auth</th><th scope=col>Patent_number</th></tr>\n",
       "\t<tr><th scope=col>&lt;int&gt;</th><th scope=col>&lt;int&gt;</th><th scope=col>&lt;int&gt;</th><th scope=col>&lt;chr&gt;</th><th scope=col>&lt;chr&gt;</th></tr>\n",
       "</thead>\n",
       "<tbody>\n",
       "</tbody>\n",
       "</table>\n"
      ],
      "text/latex": [
       "A data.table: 0 × 5\n",
       "\\begin{tabular}{lllll}\n",
       " HAN\\_ID & HARM\\_ID & Appln\\_id & Publn\\_auth & Patent\\_number\\\\\n",
       " <int> & <int> & <int> & <chr> & <chr>\\\\\n",
       "\\hline\n",
       "\\end{tabular}\n"
      ],
      "text/markdown": [
       "\n",
       "A data.table: 0 × 5\n",
       "\n",
       "| HAN_ID &lt;int&gt; | HARM_ID &lt;int&gt; | Appln_id &lt;int&gt; | Publn_auth &lt;chr&gt; | Patent_number &lt;chr&gt; |\n",
       "|---|---|---|---|---|\n",
       "\n"
      ],
      "text/plain": [
       "     HAN_ID HARM_ID Appln_id Publn_auth Patent_number"
      ]
     },
     "metadata": {},
     "output_type": "display_data"
    }
   ],
   "source": [
    "patents %>%\n",
    "    .[HAN_ID == 1]"
   ]
  },
  {
   "cell_type": "code",
   "execution_count": 7,
   "metadata": {
    "vscode": {
     "languageId": "r"
    }
   },
   "outputs": [],
   "source": [
    "harm_names <- fread(\"work/notebooks/patent/data/202208_HARM_NAMES.txt\")"
   ]
  },
  {
   "cell_type": "code",
   "execution_count": 9,
   "metadata": {
    "vscode": {
     "languageId": "r"
    }
   },
   "outputs": [
    {
     "data": {
      "text/html": [
       "<table class=\"dataframe\">\n",
       "<caption>A data.table: 10 × 3</caption>\n",
       "<thead>\n",
       "\t<tr><th scope=col>HARM_ID</th><th scope=col>Clean_name</th><th scope=col>Person_ctry_code</th></tr>\n",
       "\t<tr><th scope=col>&lt;int&gt;</th><th scope=col>&lt;chr&gt;</th><th scope=col>&lt;chr&gt;</th></tr>\n",
       "</thead>\n",
       "<tbody>\n",
       "\t<tr><td> 1</td><td><span style=white-space:pre-wrap>&amp; HAMBOURG NIENDORF                        </span></td><td>DE</td></tr>\n",
       "\t<tr><td> 2</td><td><span style=white-space:pre-wrap>&amp; KK                                       </span></td><td>JP</td></tr>\n",
       "\t<tr><td> 3</td><td>“ASTRONIT” CLOSE CORP                      </td><td>RU</td></tr>\n",
       "\t<tr><td> 4</td><td>“DEUTSCHE SEE” GMBH                        </td><td>DE</td></tr>\n",
       "\t<tr><td> 5</td><td>“EFIRNOIE” OPEN JOINT STOCK CO             </td><td>RU</td></tr>\n",
       "\t<tr><td> 6</td><td>“EUROSTANDART” LTD LIABILITY CO            </td><td>RU</td></tr>\n",
       "\t<tr><td> 7</td><td>“IVIX” LTD                                 </td><td>RU</td></tr>\n",
       "\t<tr><td> 8</td><td>“PERMNEFTEMASHREMONT” PUBLIC JOINT STOCK CO</td><td>RU</td></tr>\n",
       "\t<tr><td> 9</td><td>“RM CENTER” LTD LIABILITY CO               </td><td>RU</td></tr>\n",
       "\t<tr><td>10</td><td>“RRT” LTD                                  </td><td>RU</td></tr>\n",
       "</tbody>\n",
       "</table>\n"
      ],
      "text/latex": [
       "A data.table: 10 × 3\n",
       "\\begin{tabular}{lll}\n",
       " HARM\\_ID & Clean\\_name & Person\\_ctry\\_code\\\\\n",
       " <int> & <chr> & <chr>\\\\\n",
       "\\hline\n",
       "\t  1 & \\& HAMBOURG NIENDORF                         & DE\\\\\n",
       "\t  2 & \\& KK                                        & JP\\\\\n",
       "\t  3 & “ASTRONIT” CLOSE CORP                       & RU\\\\\n",
       "\t  4 & “DEUTSCHE SEE” GMBH                         & DE\\\\\n",
       "\t  5 & “EFIRNOIE” OPEN JOINT STOCK CO              & RU\\\\\n",
       "\t  6 & “EUROSTANDART” LTD LIABILITY CO             & RU\\\\\n",
       "\t  7 & “IVIX” LTD                                  & RU\\\\\n",
       "\t  8 & “PERMNEFTEMASHREMONT” PUBLIC JOINT STOCK CO & RU\\\\\n",
       "\t  9 & “RM CENTER” LTD LIABILITY CO                & RU\\\\\n",
       "\t 10 & “RRT” LTD                                   & RU\\\\\n",
       "\\end{tabular}\n"
      ],
      "text/markdown": [
       "\n",
       "A data.table: 10 × 3\n",
       "\n",
       "| HARM_ID &lt;int&gt; | Clean_name &lt;chr&gt; | Person_ctry_code &lt;chr&gt; |\n",
       "|---|---|---|\n",
       "|  1 | &amp; HAMBOURG NIENDORF                         | DE |\n",
       "|  2 | &amp; KK                                        | JP |\n",
       "|  3 | “ASTRONIT” CLOSE CORP                       | RU |\n",
       "|  4 | “DEUTSCHE SEE” GMBH                         | DE |\n",
       "|  5 | “EFIRNOIE” OPEN JOINT STOCK CO              | RU |\n",
       "|  6 | “EUROSTANDART” LTD LIABILITY CO             | RU |\n",
       "|  7 | “IVIX” LTD                                  | RU |\n",
       "|  8 | “PERMNEFTEMASHREMONT” PUBLIC JOINT STOCK CO | RU |\n",
       "|  9 | “RM CENTER” LTD LIABILITY CO                | RU |\n",
       "| 10 | “RRT” LTD                                   | RU |\n",
       "\n"
      ],
      "text/plain": [
       "   HARM_ID Clean_name                                  Person_ctry_code\n",
       "1   1      & HAMBOURG NIENDORF                         DE              \n",
       "2   2      & KK                                        JP              \n",
       "3   3      “ASTRONIT” CLOSE CORP                       RU              \n",
       "4   4      “DEUTSCHE SEE” GMBH                         DE              \n",
       "5   5      “EFIRNOIE” OPEN JOINT STOCK CO              RU              \n",
       "6   6      “EUROSTANDART” LTD LIABILITY CO             RU              \n",
       "7   7      “IVIX” LTD                                  RU              \n",
       "8   8      “PERMNEFTEMASHREMONT” PUBLIC JOINT STOCK CO RU              \n",
       "9   9      “RM CENTER” LTD LIABILITY CO                RU              \n",
       "10 10      “RRT” LTD                                   RU              "
      ]
     },
     "metadata": {},
     "output_type": "display_data"
    }
   ],
   "source": [
    "head(harm_names, 10)"
   ]
  },
  {
   "cell_type": "code",
   "execution_count": 10,
   "metadata": {
    "vscode": {
     "languageId": "r"
    }
   },
   "outputs": [
    {
     "data": {
      "text/html": [
       "<table class=\"dataframe\">\n",
       "<caption>A data.table: 10 × 3</caption>\n",
       "<thead>\n",
       "\t<tr><th scope=col>HAN_ID</th><th scope=col>Clean_name</th><th scope=col>Person_ctry_code</th></tr>\n",
       "\t<tr><th scope=col>&lt;int&gt;</th><th scope=col>&lt;chr&gt;</th><th scope=col>&lt;chr&gt;</th></tr>\n",
       "</thead>\n",
       "<tbody>\n",
       "\t<tr><td> 1</td><td><span style=white-space:pre-wrap>&amp; HAMBOURG NIENDORF                        </span></td><td>DE</td></tr>\n",
       "\t<tr><td> 2</td><td><span style=white-space:pre-wrap>&amp; KK                                       </span></td><td>JP</td></tr>\n",
       "\t<tr><td> 3</td><td>“ASTRONIT” CLOSE CORP                      </td><td>RU</td></tr>\n",
       "\t<tr><td> 4</td><td>“DEUTSCHE SEE” GMBH                        </td><td>DE</td></tr>\n",
       "\t<tr><td> 5</td><td>“EFIRNOIE” OPEN JOINT STOCK CO             </td><td>RU</td></tr>\n",
       "\t<tr><td> 6</td><td>“EUROSTANDART” LTD LIABILITY CO            </td><td>RU</td></tr>\n",
       "\t<tr><td> 7</td><td>“IVIX” LTD                                 </td><td>RU</td></tr>\n",
       "\t<tr><td> 8</td><td>PUBLIC JOINT STOCK CO “PERMNEFTEMASHREMONT”</td><td>RU</td></tr>\n",
       "\t<tr><td> 9</td><td>“RM CENTER” LTD LIABILITY CO               </td><td>RU</td></tr>\n",
       "\t<tr><td>10</td><td>“RRT” LTD                                  </td><td>RU</td></tr>\n",
       "</tbody>\n",
       "</table>\n"
      ],
      "text/latex": [
       "A data.table: 10 × 3\n",
       "\\begin{tabular}{lll}\n",
       " HAN\\_ID & Clean\\_name & Person\\_ctry\\_code\\\\\n",
       " <int> & <chr> & <chr>\\\\\n",
       "\\hline\n",
       "\t  1 & \\& HAMBOURG NIENDORF                         & DE\\\\\n",
       "\t  2 & \\& KK                                        & JP\\\\\n",
       "\t  3 & “ASTRONIT” CLOSE CORP                       & RU\\\\\n",
       "\t  4 & “DEUTSCHE SEE” GMBH                         & DE\\\\\n",
       "\t  5 & “EFIRNOIE” OPEN JOINT STOCK CO              & RU\\\\\n",
       "\t  6 & “EUROSTANDART” LTD LIABILITY CO             & RU\\\\\n",
       "\t  7 & “IVIX” LTD                                  & RU\\\\\n",
       "\t  8 & PUBLIC JOINT STOCK CO “PERMNEFTEMASHREMONT” & RU\\\\\n",
       "\t  9 & “RM CENTER” LTD LIABILITY CO                & RU\\\\\n",
       "\t 10 & “RRT” LTD                                   & RU\\\\\n",
       "\\end{tabular}\n"
      ],
      "text/markdown": [
       "\n",
       "A data.table: 10 × 3\n",
       "\n",
       "| HAN_ID &lt;int&gt; | Clean_name &lt;chr&gt; | Person_ctry_code &lt;chr&gt; |\n",
       "|---|---|---|\n",
       "|  1 | &amp; HAMBOURG NIENDORF                         | DE |\n",
       "|  2 | &amp; KK                                        | JP |\n",
       "|  3 | “ASTRONIT” CLOSE CORP                       | RU |\n",
       "|  4 | “DEUTSCHE SEE” GMBH                         | DE |\n",
       "|  5 | “EFIRNOIE” OPEN JOINT STOCK CO              | RU |\n",
       "|  6 | “EUROSTANDART” LTD LIABILITY CO             | RU |\n",
       "|  7 | “IVIX” LTD                                  | RU |\n",
       "|  8 | PUBLIC JOINT STOCK CO “PERMNEFTEMASHREMONT” | RU |\n",
       "|  9 | “RM CENTER” LTD LIABILITY CO                | RU |\n",
       "| 10 | “RRT” LTD                                   | RU |\n",
       "\n"
      ],
      "text/plain": [
       "   HAN_ID Clean_name                                  Person_ctry_code\n",
       "1   1     & HAMBOURG NIENDORF                         DE              \n",
       "2   2     & KK                                        JP              \n",
       "3   3     “ASTRONIT” CLOSE CORP                       RU              \n",
       "4   4     “DEUTSCHE SEE” GMBH                         DE              \n",
       "5   5     “EFIRNOIE” OPEN JOINT STOCK CO              RU              \n",
       "6   6     “EUROSTANDART” LTD LIABILITY CO             RU              \n",
       "7   7     “IVIX” LTD                                  RU              \n",
       "8   8     PUBLIC JOINT STOCK CO “PERMNEFTEMASHREMONT” RU              \n",
       "9   9     “RM CENTER” LTD LIABILITY CO                RU              \n",
       "10 10     “RRT” LTD                                   RU              "
      ]
     },
     "metadata": {},
     "output_type": "display_data"
    }
   ],
   "source": [
    "head(han_names, 10)"
   ]
  },
  {
   "cell_type": "code",
   "execution_count": 27,
   "metadata": {
    "vscode": {
     "languageId": "r"
    }
   },
   "outputs": [
    {
     "data": {
      "text/html": [
       "<table class=\"dataframe\">\n",
       "<caption>A data.table: 12 × 6</caption>\n",
       "<thead>\n",
       "\t<tr><th scope=col>HAN_ID</th><th scope=col>HARM_ID</th><th scope=col>Person_id</th><th scope=col>Person_name_clean</th><th scope=col>Person_ctry_code</th><th scope=col>Matched</th></tr>\n",
       "\t<tr><th scope=col>&lt;int&gt;</th><th scope=col>&lt;int&gt;</th><th scope=col>&lt;int&gt;</th><th scope=col>&lt;chr&gt;</th><th scope=col>&lt;chr&gt;</th><th scope=col>&lt;int&gt;</th></tr>\n",
       "</thead>\n",
       "<tbody>\n",
       "\t<tr><td> 6</td><td>      6</td><td>67613311</td><td>“EUROSTANDART” LTD LIABILITY CO            </td><td>RU</td><td>0</td></tr>\n",
       "\t<tr><td> 7</td><td>      7</td><td>53655360</td><td>“IVIX” LTD                                 </td><td>RU</td><td>0</td></tr>\n",
       "\t<tr><td> 8</td><td>      8</td><td>48761393</td><td>“PERMNEFTEMASHREMONT” PUBLIC JOINT STOCK CO</td><td>RU</td><td>1</td></tr>\n",
       "\t<tr><td> 8</td><td>      8</td><td>64875050</td><td>“PERMNEFTEMASHREMONT” PUBLIC JOINT STOCK CO</td><td>RU</td><td>1</td></tr>\n",
       "\t<tr><td> 8</td><td>2462366</td><td>48754911</td><td>PUBLIC JOINT STOCK CO “PERMNEFTEMASHREMONT”</td><td>RU</td><td>1</td></tr>\n",
       "\t<tr><td> 8</td><td>2462366</td><td>64543597</td><td>PUBLIC JOINT STOCK CO “PERMNEFTEMASHREMONT”</td><td>RU</td><td>1</td></tr>\n",
       "\t<tr><td> 9</td><td>      9</td><td>49061631</td><td>“RM CENTER” LTD LIABILITY CO               </td><td>RU</td><td>0</td></tr>\n",
       "\t<tr><td> 9</td><td>      9</td><td>64317566</td><td>“RM CENTER” LTD LIABILITY CO               </td><td>RU</td><td>0</td></tr>\n",
       "\t<tr><td>10</td><td>     10</td><td>45208426</td><td>“RRT” LTD                                  </td><td>RU</td><td>0</td></tr>\n",
       "\t<tr><td>11</td><td>     11</td><td>47448360</td><td>“VDC” LTD LIABILITY CO                     </td><td>RU</td><td>0</td></tr>\n",
       "\t<tr><td>11</td><td>     11</td><td>68633079</td><td>“VDC” LTD LIABILITY CO                     </td><td>RU</td><td>0</td></tr>\n",
       "\t<tr><td>12</td><td>     12</td><td>68011961</td><td>”AVENTA INFO” LTD LIABILITY CO             </td><td>RU</td><td>0</td></tr>\n",
       "</tbody>\n",
       "</table>\n"
      ],
      "text/latex": [
       "A data.table: 12 × 6\n",
       "\\begin{tabular}{llllll}\n",
       " HAN\\_ID & HARM\\_ID & Person\\_id & Person\\_name\\_clean & Person\\_ctry\\_code & Matched\\\\\n",
       " <int> & <int> & <int> & <chr> & <chr> & <int>\\\\\n",
       "\\hline\n",
       "\t  6 &       6 & 67613311 & “EUROSTANDART” LTD LIABILITY CO             & RU & 0\\\\\n",
       "\t  7 &       7 & 53655360 & “IVIX” LTD                                  & RU & 0\\\\\n",
       "\t  8 &       8 & 48761393 & “PERMNEFTEMASHREMONT” PUBLIC JOINT STOCK CO & RU & 1\\\\\n",
       "\t  8 &       8 & 64875050 & “PERMNEFTEMASHREMONT” PUBLIC JOINT STOCK CO & RU & 1\\\\\n",
       "\t  8 & 2462366 & 48754911 & PUBLIC JOINT STOCK CO “PERMNEFTEMASHREMONT” & RU & 1\\\\\n",
       "\t  8 & 2462366 & 64543597 & PUBLIC JOINT STOCK CO “PERMNEFTEMASHREMONT” & RU & 1\\\\\n",
       "\t  9 &       9 & 49061631 & “RM CENTER” LTD LIABILITY CO                & RU & 0\\\\\n",
       "\t  9 &       9 & 64317566 & “RM CENTER” LTD LIABILITY CO                & RU & 0\\\\\n",
       "\t 10 &      10 & 45208426 & “RRT” LTD                                   & RU & 0\\\\\n",
       "\t 11 &      11 & 47448360 & “VDC” LTD LIABILITY CO                      & RU & 0\\\\\n",
       "\t 11 &      11 & 68633079 & “VDC” LTD LIABILITY CO                      & RU & 0\\\\\n",
       "\t 12 &      12 & 68011961 & ”AVENTA INFO” LTD LIABILITY CO              & RU & 0\\\\\n",
       "\\end{tabular}\n"
      ],
      "text/markdown": [
       "\n",
       "A data.table: 12 × 6\n",
       "\n",
       "| HAN_ID &lt;int&gt; | HARM_ID &lt;int&gt; | Person_id &lt;int&gt; | Person_name_clean &lt;chr&gt; | Person_ctry_code &lt;chr&gt; | Matched &lt;int&gt; |\n",
       "|---|---|---|---|---|---|\n",
       "|  6 |       6 | 67613311 | “EUROSTANDART” LTD LIABILITY CO             | RU | 0 |\n",
       "|  7 |       7 | 53655360 | “IVIX” LTD                                  | RU | 0 |\n",
       "|  8 |       8 | 48761393 | “PERMNEFTEMASHREMONT” PUBLIC JOINT STOCK CO | RU | 1 |\n",
       "|  8 |       8 | 64875050 | “PERMNEFTEMASHREMONT” PUBLIC JOINT STOCK CO | RU | 1 |\n",
       "|  8 | 2462366 | 48754911 | PUBLIC JOINT STOCK CO “PERMNEFTEMASHREMONT” | RU | 1 |\n",
       "|  8 | 2462366 | 64543597 | PUBLIC JOINT STOCK CO “PERMNEFTEMASHREMONT” | RU | 1 |\n",
       "|  9 |       9 | 49061631 | “RM CENTER” LTD LIABILITY CO                | RU | 0 |\n",
       "|  9 |       9 | 64317566 | “RM CENTER” LTD LIABILITY CO                | RU | 0 |\n",
       "| 10 |      10 | 45208426 | “RRT” LTD                                   | RU | 0 |\n",
       "| 11 |      11 | 47448360 | “VDC” LTD LIABILITY CO                      | RU | 0 |\n",
       "| 11 |      11 | 68633079 | “VDC” LTD LIABILITY CO                      | RU | 0 |\n",
       "| 12 |      12 | 68011961 | ”AVENTA INFO” LTD LIABILITY CO              | RU | 0 |\n",
       "\n"
      ],
      "text/plain": [
       "   HAN_ID HARM_ID Person_id Person_name_clean                          \n",
       "1   6           6 67613311  “EUROSTANDART” LTD LIABILITY CO            \n",
       "2   7           7 53655360  “IVIX” LTD                                 \n",
       "3   8           8 48761393  “PERMNEFTEMASHREMONT” PUBLIC JOINT STOCK CO\n",
       "4   8           8 64875050  “PERMNEFTEMASHREMONT” PUBLIC JOINT STOCK CO\n",
       "5   8     2462366 48754911  PUBLIC JOINT STOCK CO “PERMNEFTEMASHREMONT”\n",
       "6   8     2462366 64543597  PUBLIC JOINT STOCK CO “PERMNEFTEMASHREMONT”\n",
       "7   9           9 49061631  “RM CENTER” LTD LIABILITY CO               \n",
       "8   9           9 64317566  “RM CENTER” LTD LIABILITY CO               \n",
       "9  10          10 45208426  “RRT” LTD                                  \n",
       "10 11          11 47448360  “VDC” LTD LIABILITY CO                     \n",
       "11 11          11 68633079  “VDC” LTD LIABILITY CO                     \n",
       "12 12          12 68011961  ”AVENTA INFO” LTD LIABILITY CO             \n",
       "   Person_ctry_code Matched\n",
       "1  RU               0      \n",
       "2  RU               0      \n",
       "3  RU               1      \n",
       "4  RU               1      \n",
       "5  RU               1      \n",
       "6  RU               1      \n",
       "7  RU               0      \n",
       "8  RU               0      \n",
       "9  RU               0      \n",
       "10 RU               0      \n",
       "11 RU               0      \n",
       "12 RU               0      "
      ]
     },
     "metadata": {},
     "output_type": "display_data"
    }
   ],
   "source": [
    "han_persons[9:20,]"
   ]
  },
  {
   "cell_type": "code",
   "execution_count": 20,
   "metadata": {
    "vscode": {
     "languageId": "r"
    }
   },
   "outputs": [
    {
     "data": {
      "text/html": [
       "<table class=\"dataframe\">\n",
       "<caption>A data.table: 5 × 3</caption>\n",
       "<thead>\n",
       "\t<tr><th scope=col>HAN_ID</th><th scope=col>Clean_name</th><th scope=col>Person_ctry_code</th></tr>\n",
       "\t<tr><th scope=col>&lt;int&gt;</th><th scope=col>&lt;chr&gt;</th><th scope=col>&lt;chr&gt;</th></tr>\n",
       "</thead>\n",
       "<tbody>\n",
       "\t<tr><td>3160663</td><td>VISSEAUX                        </td><td>FR</td></tr>\n",
       "\t<tr><td> 282319</td><td>BADISCHES BLECHPAKKUNGSWERK GMBH</td><td>DE</td></tr>\n",
       "\t<tr><td>4002055</td><td>TIAN QINGSHENG                  </td><td>CN</td></tr>\n",
       "\t<tr><td>1073123</td><td>GETADE AGRI CONCEPT             </td><td>FR</td></tr>\n",
       "\t<tr><td>3425285</td><td>Z BAVIERONI SPA                 </td><td>IT</td></tr>\n",
       "</tbody>\n",
       "</table>\n"
      ],
      "text/latex": [
       "A data.table: 5 × 3\n",
       "\\begin{tabular}{lll}\n",
       " HAN\\_ID & Clean\\_name & Person\\_ctry\\_code\\\\\n",
       " <int> & <chr> & <chr>\\\\\n",
       "\\hline\n",
       "\t 3160663 & VISSEAUX                         & FR\\\\\n",
       "\t  282319 & BADISCHES BLECHPAKKUNGSWERK GMBH & DE\\\\\n",
       "\t 4002055 & TIAN QINGSHENG                   & CN\\\\\n",
       "\t 1073123 & GETADE AGRI CONCEPT              & FR\\\\\n",
       "\t 3425285 & Z BAVIERONI SPA                  & IT\\\\\n",
       "\\end{tabular}\n"
      ],
      "text/markdown": [
       "\n",
       "A data.table: 5 × 3\n",
       "\n",
       "| HAN_ID &lt;int&gt; | Clean_name &lt;chr&gt; | Person_ctry_code &lt;chr&gt; |\n",
       "|---|---|---|\n",
       "| 3160663 | VISSEAUX                         | FR |\n",
       "|  282319 | BADISCHES BLECHPAKKUNGSWERK GMBH | DE |\n",
       "| 4002055 | TIAN QINGSHENG                   | CN |\n",
       "| 1073123 | GETADE AGRI CONCEPT              | FR |\n",
       "| 3425285 | Z BAVIERONI SPA                  | IT |\n",
       "\n"
      ],
      "text/plain": [
       "  HAN_ID  Clean_name                       Person_ctry_code\n",
       "1 3160663 VISSEAUX                         FR              \n",
       "2  282319 BADISCHES BLECHPAKKUNGSWERK GMBH DE              \n",
       "3 4002055 TIAN QINGSHENG                   CN              \n",
       "4 1073123 GETADE AGRI CONCEPT              FR              \n",
       "5 3425285 Z BAVIERONI SPA                  IT              "
      ]
     },
     "metadata": {},
     "output_type": "display_data"
    }
   ],
   "source": [
    "han_names %>%\n",
    "    .[sample(.N, 5)]"
   ]
  },
  {
   "cell_type": "code",
   "execution_count": null,
   "metadata": {
    "vscode": {
     "languageId": "r"
    }
   },
   "outputs": [],
   "source": []
  }
 ],
 "metadata": {
  "kernelspec": {
   "display_name": "R",
   "language": "R",
   "name": "ir"
  },
  "language_info": {
   "codemirror_mode": "r",
   "file_extension": ".r",
   "mimetype": "text/x-r-source",
   "name": "R",
   "pygments_lexer": "r",
   "version": "4.2.2"
  },
  "orig_nbformat": 4,
  "vscode": {
   "interpreter": {
    "hash": "16bff2c6a4793fe572f28f54bf2473ba4d5d1eb32d0a445bafdbd12ba8e85d21"
   }
  }
 },
 "nbformat": 4,
 "nbformat_minor": 2
}
