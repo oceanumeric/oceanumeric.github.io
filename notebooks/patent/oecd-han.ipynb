{
 "cells": [
  {
   "attachments": {},
   "cell_type": "markdown",
   "metadata": {},
   "source": [
    "# OECD HAN Database"
   ]
  },
  {
   "cell_type": "code",
   "execution_count": 30,
   "metadata": {
    "vscode": {
     "languageId": "r"
    }
   },
   "outputs": [],
   "source": [
    "# load packages \n",
    "library(pacman)\n",
    "p_load(\n",
    "    tidyverse, data.table, dtplyr, reshape2, \n",
    "    archive, kableExtra, SPARQL, janitor)\n",
    "# set option\n",
    "options(dplyr.summarise.inform = FALSE)\n",
    "gray_scale <- c('#F3F4F8','#D2D4DA', '#B3B5BD', \n",
    "                '#9496A1', '#7d7f89', '#777986', \n",
    "                '#656673', '#5B5D6B', '#4d505e',\n",
    "                '#404352', '#2b2d3b', '#282A3A',\n",
    "                '#1b1c2a', '#191a2b',\n",
    "                '#141626', '#101223')"
   ]
  },
  {
   "cell_type": "code",
   "execution_count": 2,
   "metadata": {
    "vscode": {
     "languageId": "r"
    }
   },
   "outputs": [],
   "source": [
    "han_names <- fread('work/notebooks/patent/data/202208_HAN_NAMES.txt')"
   ]
  },
  {
   "cell_type": "code",
   "execution_count": 7,
   "metadata": {
    "vscode": {
     "languageId": "r"
    }
   },
   "outputs": [
    {
     "data": {
      "text/html": [
       "<style>\n",
       ".list-inline {list-style: none; margin:0; padding: 0}\n",
       ".list-inline>li {display: inline-block}\n",
       ".list-inline>li:not(:last-child)::after {content: \"\\00b7\"; padding: 0 .5ex}\n",
       "</style>\n",
       "<ol class=list-inline><li>4191007</li><li>3</li></ol>\n"
      ],
      "text/latex": [
       "\\begin{enumerate*}\n",
       "\\item 4191007\n",
       "\\item 3\n",
       "\\end{enumerate*}\n"
      ],
      "text/markdown": [
       "1. 4191007\n",
       "2. 3\n",
       "\n",
       "\n"
      ],
      "text/plain": [
       "[1] 4191007       3"
      ]
     },
     "metadata": {},
     "output_type": "display_data"
    }
   ],
   "source": [
    "dim(han_names)"
   ]
  },
  {
   "cell_type": "code",
   "execution_count": 7,
   "metadata": {
    "vscode": {
     "languageId": "r"
    }
   },
   "outputs": [
    {
     "data": {
      "text/html": [
       "<table class=\"dataframe\">\n",
       "<caption>A data.table: 6 × 3</caption>\n",
       "<thead>\n",
       "\t<tr><th scope=col>HAN_ID</th><th scope=col>Clean_name</th><th scope=col>Person_ctry_code</th></tr>\n",
       "\t<tr><th scope=col>&lt;int&gt;</th><th scope=col>&lt;chr&gt;</th><th scope=col>&lt;chr&gt;</th></tr>\n",
       "</thead>\n",
       "<tbody>\n",
       "\t<tr><td>1</td><td><span style=white-space:pre-wrap>&amp; HAMBOURG NIENDORF            </span></td><td>DE</td></tr>\n",
       "\t<tr><td>2</td><td><span style=white-space:pre-wrap>&amp; KK                           </span></td><td>JP</td></tr>\n",
       "\t<tr><td>3</td><td>“ASTRONIT” CLOSE CORP          </td><td>RU</td></tr>\n",
       "\t<tr><td>4</td><td>“DEUTSCHE SEE” GMBH            </td><td>DE</td></tr>\n",
       "\t<tr><td>5</td><td>“EFIRNOIE” OPEN JOINT STOCK CO </td><td>RU</td></tr>\n",
       "\t<tr><td>6</td><td>“EUROSTANDART” LTD LIABILITY CO</td><td>RU</td></tr>\n",
       "</tbody>\n",
       "</table>\n"
      ],
      "text/latex": [
       "A data.table: 6 × 3\n",
       "\\begin{tabular}{lll}\n",
       " HAN\\_ID & Clean\\_name & Person\\_ctry\\_code\\\\\n",
       " <int> & <chr> & <chr>\\\\\n",
       "\\hline\n",
       "\t 1 & \\& HAMBOURG NIENDORF             & DE\\\\\n",
       "\t 2 & \\& KK                            & JP\\\\\n",
       "\t 3 & “ASTRONIT” CLOSE CORP           & RU\\\\\n",
       "\t 4 & “DEUTSCHE SEE” GMBH             & DE\\\\\n",
       "\t 5 & “EFIRNOIE” OPEN JOINT STOCK CO  & RU\\\\\n",
       "\t 6 & “EUROSTANDART” LTD LIABILITY CO & RU\\\\\n",
       "\\end{tabular}\n"
      ],
      "text/markdown": [
       "\n",
       "A data.table: 6 × 3\n",
       "\n",
       "| HAN_ID &lt;int&gt; | Clean_name &lt;chr&gt; | Person_ctry_code &lt;chr&gt; |\n",
       "|---|---|---|\n",
       "| 1 | &amp; HAMBOURG NIENDORF             | DE |\n",
       "| 2 | &amp; KK                            | JP |\n",
       "| 3 | “ASTRONIT” CLOSE CORP           | RU |\n",
       "| 4 | “DEUTSCHE SEE” GMBH             | DE |\n",
       "| 5 | “EFIRNOIE” OPEN JOINT STOCK CO  | RU |\n",
       "| 6 | “EUROSTANDART” LTD LIABILITY CO | RU |\n",
       "\n"
      ],
      "text/plain": [
       "  HAN_ID Clean_name                      Person_ctry_code\n",
       "1 1      & HAMBOURG NIENDORF             DE              \n",
       "2 2      & KK                            JP              \n",
       "3 3      “ASTRONIT” CLOSE CORP           RU              \n",
       "4 4      “DEUTSCHE SEE” GMBH             DE              \n",
       "5 5      “EFIRNOIE” OPEN JOINT STOCK CO  RU              \n",
       "6 6      “EUROSTANDART” LTD LIABILITY CO RU              "
      ]
     },
     "metadata": {},
     "output_type": "display_data"
    }
   ],
   "source": [
    "head(han_names)"
   ]
  },
  {
   "cell_type": "code",
   "execution_count": 3,
   "metadata": {
    "vscode": {
     "languageId": "r"
    }
   },
   "outputs": [],
   "source": [
    "de_firms <- fread('work/notebooks/patent/data/orbis_de_matched_l.csv')"
   ]
  },
  {
   "cell_type": "code",
   "execution_count": 55,
   "metadata": {
    "vscode": {
     "languageId": "r"
    }
   },
   "outputs": [
    {
     "data": {
      "text/plain": [
       "\n",
       "\n",
       "| HAN_ID |           Clean_name           | Person_ctry_code |\n",
       "|:------:|:------------------------------:|:----------------:|\n",
       "|   1    |      & HAMBOURG NIENDORF       |        DE        |\n",
       "|   2    |              & KK              |        JP        |\n",
       "|   3    |     “ASTRONIT” CLOSE CORP      |        RU        |\n",
       "|   4    |      “DEUTSCHE SEE” GMBH       |        DE        |\n",
       "|   5    | “EFIRNOIE” OPEN JOINT STOCK CO |        RU        |"
      ]
     },
     "metadata": {},
     "output_type": "display_data"
    }
   ],
   "source": [
    "han_names %>%\n",
    "    .[1:5,] %>%\n",
    "    kable('pipe', align='ccc')"
   ]
  },
  {
   "cell_type": "code",
   "execution_count": 53,
   "metadata": {
    "vscode": {
     "languageId": "r"
    }
   },
   "outputs": [
    {
     "data": {
      "text/html": [
       "<table class=\"dataframe\">\n",
       "<caption>A data.table: 5 × 2</caption>\n",
       "<thead>\n",
       "\t<tr><th scope=col>name_native</th><th scope=col>name_internat</th></tr>\n",
       "\t<tr><th scope=col>&lt;chr&gt;</th><th scope=col>&lt;chr&gt;</th></tr>\n",
       "</thead>\n",
       "<tbody>\n",
       "\t<tr><td>Airbus Defence and Space GmbH        </td><td>Airbus Defence and Space GmbH        </td></tr>\n",
       "\t<tr><td>EurA AG                              </td><td>EurA AG                              </td></tr>\n",
       "\t<tr><td>TuTech Innovation GmbH               </td><td>TuTech Innovation GmbH               </td></tr>\n",
       "\t<tr><td>FFT Produktionssysteme GmbH &amp; Co. KG.</td><td>FFT Produktionssysteme GmbH &amp; Co. KG.</td></tr>\n",
       "\t<tr><td>Diehl Aviation Laupheim GmbH         </td><td>Diehl Aviation Laupheim GmbH         </td></tr>\n",
       "</tbody>\n",
       "</table>\n"
      ],
      "text/latex": [
       "A data.table: 5 × 2\n",
       "\\begin{tabular}{ll}\n",
       " name\\_native & name\\_internat\\\\\n",
       " <chr> & <chr>\\\\\n",
       "\\hline\n",
       "\t Airbus Defence and Space GmbH         & Airbus Defence and Space GmbH        \\\\\n",
       "\t EurA AG                               & EurA AG                              \\\\\n",
       "\t TuTech Innovation GmbH                & TuTech Innovation GmbH               \\\\\n",
       "\t FFT Produktionssysteme GmbH \\& Co. KG. & FFT Produktionssysteme GmbH \\& Co. KG.\\\\\n",
       "\t Diehl Aviation Laupheim GmbH          & Diehl Aviation Laupheim GmbH         \\\\\n",
       "\\end{tabular}\n"
      ],
      "text/markdown": [
       "\n",
       "A data.table: 5 × 2\n",
       "\n",
       "| name_native &lt;chr&gt; | name_internat &lt;chr&gt; |\n",
       "|---|---|\n",
       "| Airbus Defence and Space GmbH         | Airbus Defence and Space GmbH         |\n",
       "| EurA AG                               | EurA AG                               |\n",
       "| TuTech Innovation GmbH                | TuTech Innovation GmbH                |\n",
       "| FFT Produktionssysteme GmbH &amp; Co. KG. | FFT Produktionssysteme GmbH &amp; Co. KG. |\n",
       "| Diehl Aviation Laupheim GmbH          | Diehl Aviation Laupheim GmbH          |\n",
       "\n"
      ],
      "text/plain": [
       "  name_native                           name_internat                        \n",
       "1 Airbus Defence and Space GmbH         Airbus Defence and Space GmbH        \n",
       "2 EurA AG                               EurA AG                              \n",
       "3 TuTech Innovation GmbH                TuTech Innovation GmbH               \n",
       "4 FFT Produktionssysteme GmbH & Co. KG. FFT Produktionssysteme GmbH & Co. KG.\n",
       "5 Diehl Aviation Laupheim GmbH          Diehl Aviation Laupheim GmbH         "
      ]
     },
     "metadata": {},
     "output_type": "display_data"
    }
   ],
   "source": [
    "de_firms %>%\n",
    "    .[1:5, 2:3]"
   ]
  },
  {
   "cell_type": "code",
   "execution_count": 83,
   "metadata": {
    "vscode": {
     "languageId": "r"
    }
   },
   "outputs": [
    {
     "data": {
      "text/html": [
       "<style>\n",
       ".list-inline {list-style: none; margin:0; padding: 0}\n",
       ".list-inline>li {display: inline-block}\n",
       ".list-inline>li:not(:last-child)::after {content: \"\\00b7\"; padding: 0 .5ex}\n",
       "</style>\n",
       "<ol class=list-inline><li>60513</li><li>62422</li><li>3637004</li><li>4401227</li><li>4527012</li></ol>\n"
      ],
      "text/latex": [
       "\\begin{enumerate*}\n",
       "\\item 60513\n",
       "\\item 62422\n",
       "\\item 3637004\n",
       "\\item 4401227\n",
       "\\item 4527012\n",
       "\\end{enumerate*}\n"
      ],
      "text/markdown": [
       "1. 60513\n",
       "2. 62422\n",
       "3. 3637004\n",
       "4. 4401227\n",
       "5. 4527012\n",
       "\n",
       "\n"
      ],
      "text/plain": [
       "[1]   60513   62422 3637004 4401227 4527012"
      ]
     },
     "metadata": {},
     "output_type": "display_data"
    }
   ],
   "source": [
    "# query\n",
    "airbus <- toupper('Airbus Defence')\n",
    "han_names %>%\n",
    "    .[Person_ctry_code == 'DE'] %>%\n",
    "    .[Clean_name %like% airbus] %>%\n",
    "    .[,HAN_ID] -> airbus_han_ids\n",
    "airbus_han_ids"
   ]
  },
  {
   "cell_type": "code",
   "execution_count": 61,
   "metadata": {
    "vscode": {
     "languageId": "r"
    }
   },
   "outputs": [],
   "source": [
    "han_patents <- fread('work/notebooks/patent/data/202208_HAN_PATENTS.txt')"
   ]
  },
  {
   "cell_type": "code",
   "execution_count": 86,
   "metadata": {
    "vscode": {
     "languageId": "r"
    }
   },
   "outputs": [
    {
     "data": {
      "text/html": [
       "<table class=\"dataframe\">\n",
       "<caption>A data.table: 1 × 4</caption>\n",
       "<thead>\n",
       "\t<tr><th></th><th scope=col>EP</th><th scope=col>US</th><th scope=col>WO</th><th scope=col>Total</th></tr>\n",
       "\t<tr><th></th><th scope=col>&lt;chr&gt;</th><th scope=col>&lt;chr&gt;</th><th scope=col>&lt;chr&gt;</th><th scope=col>&lt;chr&gt;</th></tr>\n",
       "</thead>\n",
       "<tbody>\n",
       "\t<tr><th scope=row>2</th><td>716</td><td>415</td><td>88</td><td>1219</td></tr>\n",
       "</tbody>\n",
       "</table>\n"
      ],
      "text/latex": [
       "A data.table: 1 × 4\n",
       "\\begin{tabular}{r|llll}\n",
       "  & EP & US & WO & Total\\\\\n",
       "  & <chr> & <chr> & <chr> & <chr>\\\\\n",
       "\\hline\n",
       "\t2 & 716 & 415 & 88 & 1219\\\\\n",
       "\\end{tabular}\n"
      ],
      "text/markdown": [
       "\n",
       "A data.table: 1 × 4\n",
       "\n",
       "| <!--/--> | EP &lt;chr&gt; | US &lt;chr&gt; | WO &lt;chr&gt; | Total &lt;chr&gt; |\n",
       "|---|---|---|---|---|\n",
       "| 2 | 716 | 415 | 88 | 1219 |\n",
       "\n"
      ],
      "text/plain": [
       "  EP  US  WO Total\n",
       "1 716 415 88 1219 "
      ]
     },
     "metadata": {},
     "output_type": "display_data"
    }
   ],
   "source": [
    "han_patents %>%\n",
    "    .[HAN_ID %in% airbus_han_ids] %>%\n",
    "    .[, .N, by=Publn_auth] -> foo\n",
    "    transform(adorn_totals(foo)) %>%\n",
    "    transpose() %>%\n",
    "    row_to_names(row_number=1)"
   ]
  },
  {
   "cell_type": "code",
   "execution_count": 84,
   "metadata": {
    "vscode": {
     "languageId": "r"
    }
   },
   "outputs": [
    {
     "data": {
      "text/html": [
       "<table class=\"dataframe\">\n",
       "<caption>A data.table: 5 × 5</caption>\n",
       "<thead>\n",
       "\t<tr><th scope=col>HAN_ID</th><th scope=col>HARM_ID</th><th scope=col>Appln_id</th><th scope=col>Publn_auth</th><th scope=col>Patent_number</th></tr>\n",
       "\t<tr><th scope=col>&lt;int&gt;</th><th scope=col>&lt;int&gt;</th><th scope=col>&lt;int&gt;</th><th scope=col>&lt;chr&gt;</th><th scope=col>&lt;chr&gt;</th></tr>\n",
       "</thead>\n",
       "<tbody>\n",
       "\t<tr><td>60513</td><td>60513</td><td>442096647</td><td>EP</td><td>EP3112597   </td></tr>\n",
       "\t<tr><td>60513</td><td>60513</td><td>417401751</td><td>EP</td><td>EP2913271   </td></tr>\n",
       "\t<tr><td>60513</td><td>60513</td><td>404985890</td><td>EP</td><td>EP2825450   </td></tr>\n",
       "\t<tr><td>60513</td><td>60513</td><td>527283926</td><td>US</td><td>US2020070202</td></tr>\n",
       "\t<tr><td>60513</td><td>60513</td><td>544408405</td><td>WO</td><td>WO2021123759</td></tr>\n",
       "</tbody>\n",
       "</table>\n"
      ],
      "text/latex": [
       "A data.table: 5 × 5\n",
       "\\begin{tabular}{lllll}\n",
       " HAN\\_ID & HARM\\_ID & Appln\\_id & Publn\\_auth & Patent\\_number\\\\\n",
       " <int> & <int> & <int> & <chr> & <chr>\\\\\n",
       "\\hline\n",
       "\t 60513 & 60513 & 442096647 & EP & EP3112597   \\\\\n",
       "\t 60513 & 60513 & 417401751 & EP & EP2913271   \\\\\n",
       "\t 60513 & 60513 & 404985890 & EP & EP2825450   \\\\\n",
       "\t 60513 & 60513 & 527283926 & US & US2020070202\\\\\n",
       "\t 60513 & 60513 & 544408405 & WO & WO2021123759\\\\\n",
       "\\end{tabular}\n"
      ],
      "text/markdown": [
       "\n",
       "A data.table: 5 × 5\n",
       "\n",
       "| HAN_ID &lt;int&gt; | HARM_ID &lt;int&gt; | Appln_id &lt;int&gt; | Publn_auth &lt;chr&gt; | Patent_number &lt;chr&gt; |\n",
       "|---|---|---|---|---|\n",
       "| 60513 | 60513 | 442096647 | EP | EP3112597    |\n",
       "| 60513 | 60513 | 417401751 | EP | EP2913271    |\n",
       "| 60513 | 60513 | 404985890 | EP | EP2825450    |\n",
       "| 60513 | 60513 | 527283926 | US | US2020070202 |\n",
       "| 60513 | 60513 | 544408405 | WO | WO2021123759 |\n",
       "\n"
      ],
      "text/plain": [
       "  HAN_ID HARM_ID Appln_id  Publn_auth Patent_number\n",
       "1 60513  60513   442096647 EP         EP3112597    \n",
       "2 60513  60513   417401751 EP         EP2913271    \n",
       "3 60513  60513   404985890 EP         EP2825450    \n",
       "4 60513  60513   527283926 US         US2020070202 \n",
       "5 60513  60513   544408405 WO         WO2021123759 "
      ]
     },
     "metadata": {},
     "output_type": "display_data"
    }
   ],
   "source": [
    "han_patents %>%\n",
    "    .[HAN_ID %in% airbus_han_ids] %>%\n",
    "    .[sample(.N, 5)]"
   ]
  },
  {
   "cell_type": "code",
   "execution_count": 26,
   "metadata": {
    "vscode": {
     "languageId": "r"
    }
   },
   "outputs": [
    {
     "data": {
      "text/plain": [
       "\n",
       "\n",
       "| HAN_ID | HARM_ID | Appln_id  | Publn_auth |Patent_number |\n",
       "|:------:|:-------:|:---------:|:----------:|:-------------|\n",
       "| 60513  |  60513  | 408666014 |     EP     |EP2689872     |\n",
       "| 60513  |  60513  | 415684469 |     US     |US9308691     |\n",
       "| 60513  |  60513  | 450308171 |     EP     |EP3219614     |\n",
       "| 60513  |  60513  | 480021212 |     US     |US2017165795  |\n",
       "| 60513  |  60513  | 483683605 |     US     |US10703486    |"
      ]
     },
     "metadata": {},
     "output_type": "display_data"
    }
   ],
   "source": [
    "fooids = c('US2017165795', 'EP3181711', 'US10703486', 'EP3219614', 'US9308691','EP2689872')\n",
    "han_patents %>%\n",
    "    .[HAN_ID %in% airbus_han_ids] %>%\n",
    "    .[Patent_number %in% fooids] %>%\n",
    "    kable('pipe', align='ccccl')"
   ]
  },
  {
   "cell_type": "code",
   "execution_count": 34,
   "metadata": {
    "vscode": {
     "languageId": "r"
    }
   },
   "outputs": [
    {
     "data": {
      "text/plain": [
       "\n",
       "\n",
       "| HAN_ID | HARM_ID | Appln_id | Publn_auth | Patent_number |\n",
       "|:------:|:-------:|:--------:|:----------:|:-------------:|\n",
       "| 60513  |  60513  |   213    |     EP     |   EP2030891   |\n",
       "| 60513  |  60513  |  65448   |     EP     |   EP2025928   |\n",
       "| 60513  |  60513  |  156990  |     EP     |   EP1920908   |\n",
       "| 60513  |  60513  |  161551  |     EP     |   EP1972896   |\n",
       "| 60513  |  60513  |  173385  |     EP     |   EP2134522   |\n",
       "| 60513  |  60513  |  173386  |     EP     |   EP2136979   |"
      ]
     },
     "metadata": {},
     "output_type": "display_data"
    }
   ],
   "source": [
    "han_patents %>%\n",
    "    .[HAN_ID %in% airbus_han_ids] %>%\n",
    "    .[Publn_auth == 'EP'] %>%\n",
    "    head %>%\n",
    "    kable('pipe', align='ccccc')"
   ]
  },
  {
   "cell_type": "code",
   "execution_count": 5,
   "metadata": {
    "vscode": {
     "languageId": "r"
    }
   },
   "outputs": [],
   "source": [
    "foo <- fread('work/notebooks/patent/data/resulttable 2.csv')"
   ]
  },
  {
   "cell_type": "code",
   "execution_count": 10,
   "metadata": {
    "vscode": {
     "languageId": "r"
    }
   },
   "outputs": [
    {
     "data": {
      "text/plain": [
       "\n",
       "\n",
       "| pat_publn_id | publn_kind | appln_id | publn_date | publn_first_grant |\n",
       "|:------------:|:----------:|:--------:|:----------:|:-----------------:|\n",
       "|  277148936   |     A1     |  156990  | 2008-05-14 |         N         |\n",
       "|  437725522   |     B1     |  156990  | 2015-04-08 |         Y         |"
      ]
     },
     "metadata": {},
     "output_type": "display_data"
    }
   ],
   "source": [
    "foo %>%\n",
    "    .[, c(1, 5, 6, 7, 9)] %>%\n",
    "    kable('pipe', align='ccccc')"
   ]
  },
  {
   "cell_type": "code",
   "execution_count": 19,
   "metadata": {
    "vscode": {
     "languageId": "r"
    }
   },
   "outputs": [],
   "source": [
    "endpoint <- \"https://data.epo.org/linked-data/query\"\n",
    "# create query statement\n",
    "query <- \"PREFIX skos: <http://www.w3.org/2004/02/skos/core#> \n",
    "PREFIX rdf: <http://www.w3.org/1999/02/22-rdf-syntax-ns#> \n",
    "PREFIX vcard: <http://www.w3.org/2006/vcard/ns#> \n",
    "prefix patent: <http://data.epo.org/linked-data/def/patent/>\n",
    "\n",
    "SELECT * \n",
    "WHERE {\n",
    "   ?publn rdf:type patent:Publication;\n",
    "          patent:applicantVC ?applicant;\n",
    "          patent:publicationAuthority/skos:notation ?auth;\n",
    "          patent:publicationNumber ?nr;\n",
    "          patent:publicationKind/skos:notation ?kind.\n",
    "  ?applicant vcard:fn ?name.\n",
    "  \n",
    "   FILTER(STRSTARTS(UCASE(?name), 'HUAWEI'))\n",
    "} LIMIT 10\"\n",
    "# Step 2 - Use SPARQL package to submit query and save results to a data frame\n",
    "qd <- SPARQL(endpoint,query,curl_args=list(useragent=R.version.string))\n",
    "df <- qd$results"
   ]
  },
  {
   "cell_type": "code",
   "execution_count": 20,
   "metadata": {
    "vscode": {
     "languageId": "r"
    }
   },
   "outputs": [
    {
     "data": {
      "text/html": [
       "<table class=\"dataframe\">\n",
       "<caption>A data.frame: 6 × 6</caption>\n",
       "<thead>\n",
       "\t<tr><th></th><th scope=col>publn</th><th scope=col>applicant</th><th scope=col>auth</th><th scope=col>nr</th><th scope=col>kind</th><th scope=col>name</th></tr>\n",
       "\t<tr><th></th><th scope=col>&lt;chr&gt;</th><th scope=col>&lt;chr&gt;</th><th scope=col>&lt;chr&gt;</th><th scope=col>&lt;chr&gt;</th><th scope=col>&lt;chr&gt;</th><th scope=col>&lt;chr&gt;</th></tr>\n",
       "</thead>\n",
       "<tbody>\n",
       "\t<tr><th scope=row>1</th><td>&lt;http://data.epo.org/linked-data/data/publication/EP/1536591/A1/-&gt;</td><td>&lt;http://data.epo.org/linked-data/data/vc/AF6A00EBED9A0A944405571B3CD93799&gt;</td><td>EP</td><td>1536591</td><td>A1</td><td>Huawei Technologies Co., Ltd.</td></tr>\n",
       "\t<tr><th scope=row>2</th><td>&lt;http://data.epo.org/linked-data/data/publication/EP/1566921/A1/-&gt;</td><td>&lt;http://data.epo.org/linked-data/data/vc/CDC89188C00CD3068260AFCD99E44CD3&gt;</td><td>EP</td><td>1566921</td><td>A1</td><td>Huawei Technologies Co., Ltd.</td></tr>\n",
       "\t<tr><th scope=row>3</th><td>&lt;http://data.epo.org/linked-data/data/publication/EP/2114028/B1/-&gt;</td><td>&lt;http://data.epo.org/linked-data/data/vc/30A7AAC966CA77F2EA95DBAB78798573&gt;</td><td>EP</td><td>2114028</td><td>B1</td><td>Huawei Technologies Co., Ltd.</td></tr>\n",
       "\t<tr><th scope=row>4</th><td>&lt;http://data.epo.org/linked-data/data/publication/EP/2114028/A1/-&gt;</td><td>&lt;http://data.epo.org/linked-data/data/vc/F2806D1A93692FF97F69FEA3009D96DC&gt;</td><td>EP</td><td>2114028</td><td>A1</td><td>Huawei Technologies Co., Ltd.</td></tr>\n",
       "\t<tr><th scope=row>5</th><td>&lt;http://data.epo.org/linked-data/data/publication/EP/2112780/A1/-&gt;</td><td>&lt;http://data.epo.org/linked-data/data/vc/E981DB78F395D6429045B02441FC54EE&gt;</td><td>EP</td><td>2112780</td><td>A1</td><td>Huawei Technologies Co., Ltd.</td></tr>\n",
       "\t<tr><th scope=row>6</th><td>&lt;http://data.epo.org/linked-data/data/publication/EP/2698967/A1/-&gt;</td><td>&lt;http://data.epo.org/linked-data/data/vc/2AAA05ADF2FBC02CA97DC72726E181A4&gt;</td><td>EP</td><td>2698967</td><td>A1</td><td>Huawei Technologies Co., Ltd </td></tr>\n",
       "</tbody>\n",
       "</table>\n"
      ],
      "text/latex": [
       "A data.frame: 6 × 6\n",
       "\\begin{tabular}{r|llllll}\n",
       "  & publn & applicant & auth & nr & kind & name\\\\\n",
       "  & <chr> & <chr> & <chr> & <chr> & <chr> & <chr>\\\\\n",
       "\\hline\n",
       "\t1 & <http://data.epo.org/linked-data/data/publication/EP/1536591/A1/-> & <http://data.epo.org/linked-data/data/vc/AF6A00EBED9A0A944405571B3CD93799> & EP & 1536591 & A1 & Huawei Technologies Co., Ltd.\\\\\n",
       "\t2 & <http://data.epo.org/linked-data/data/publication/EP/1566921/A1/-> & <http://data.epo.org/linked-data/data/vc/CDC89188C00CD3068260AFCD99E44CD3> & EP & 1566921 & A1 & Huawei Technologies Co., Ltd.\\\\\n",
       "\t3 & <http://data.epo.org/linked-data/data/publication/EP/2114028/B1/-> & <http://data.epo.org/linked-data/data/vc/30A7AAC966CA77F2EA95DBAB78798573> & EP & 2114028 & B1 & Huawei Technologies Co., Ltd.\\\\\n",
       "\t4 & <http://data.epo.org/linked-data/data/publication/EP/2114028/A1/-> & <http://data.epo.org/linked-data/data/vc/F2806D1A93692FF97F69FEA3009D96DC> & EP & 2114028 & A1 & Huawei Technologies Co., Ltd.\\\\\n",
       "\t5 & <http://data.epo.org/linked-data/data/publication/EP/2112780/A1/-> & <http://data.epo.org/linked-data/data/vc/E981DB78F395D6429045B02441FC54EE> & EP & 2112780 & A1 & Huawei Technologies Co., Ltd.\\\\\n",
       "\t6 & <http://data.epo.org/linked-data/data/publication/EP/2698967/A1/-> & <http://data.epo.org/linked-data/data/vc/2AAA05ADF2FBC02CA97DC72726E181A4> & EP & 2698967 & A1 & Huawei Technologies Co., Ltd \\\\\n",
       "\\end{tabular}\n"
      ],
      "text/markdown": [
       "\n",
       "A data.frame: 6 × 6\n",
       "\n",
       "| <!--/--> | publn &lt;chr&gt; | applicant &lt;chr&gt; | auth &lt;chr&gt; | nr &lt;chr&gt; | kind &lt;chr&gt; | name &lt;chr&gt; |\n",
       "|---|---|---|---|---|---|---|\n",
       "| 1 | &lt;http://data.epo.org/linked-data/data/publication/EP/1536591/A1/-&gt; | &lt;http://data.epo.org/linked-data/data/vc/AF6A00EBED9A0A944405571B3CD93799&gt; | EP | 1536591 | A1 | Huawei Technologies Co., Ltd. |\n",
       "| 2 | &lt;http://data.epo.org/linked-data/data/publication/EP/1566921/A1/-&gt; | &lt;http://data.epo.org/linked-data/data/vc/CDC89188C00CD3068260AFCD99E44CD3&gt; | EP | 1566921 | A1 | Huawei Technologies Co., Ltd. |\n",
       "| 3 | &lt;http://data.epo.org/linked-data/data/publication/EP/2114028/B1/-&gt; | &lt;http://data.epo.org/linked-data/data/vc/30A7AAC966CA77F2EA95DBAB78798573&gt; | EP | 2114028 | B1 | Huawei Technologies Co., Ltd. |\n",
       "| 4 | &lt;http://data.epo.org/linked-data/data/publication/EP/2114028/A1/-&gt; | &lt;http://data.epo.org/linked-data/data/vc/F2806D1A93692FF97F69FEA3009D96DC&gt; | EP | 2114028 | A1 | Huawei Technologies Co., Ltd. |\n",
       "| 5 | &lt;http://data.epo.org/linked-data/data/publication/EP/2112780/A1/-&gt; | &lt;http://data.epo.org/linked-data/data/vc/E981DB78F395D6429045B02441FC54EE&gt; | EP | 2112780 | A1 | Huawei Technologies Co., Ltd. |\n",
       "| 6 | &lt;http://data.epo.org/linked-data/data/publication/EP/2698967/A1/-&gt; | &lt;http://data.epo.org/linked-data/data/vc/2AAA05ADF2FBC02CA97DC72726E181A4&gt; | EP | 2698967 | A1 | Huawei Technologies Co., Ltd  |\n",
       "\n"
      ],
      "text/plain": [
       "  publn                                                             \n",
       "1 <http://data.epo.org/linked-data/data/publication/EP/1536591/A1/->\n",
       "2 <http://data.epo.org/linked-data/data/publication/EP/1566921/A1/->\n",
       "3 <http://data.epo.org/linked-data/data/publication/EP/2114028/B1/->\n",
       "4 <http://data.epo.org/linked-data/data/publication/EP/2114028/A1/->\n",
       "5 <http://data.epo.org/linked-data/data/publication/EP/2112780/A1/->\n",
       "6 <http://data.epo.org/linked-data/data/publication/EP/2698967/A1/->\n",
       "  applicant                                                                 \n",
       "1 <http://data.epo.org/linked-data/data/vc/AF6A00EBED9A0A944405571B3CD93799>\n",
       "2 <http://data.epo.org/linked-data/data/vc/CDC89188C00CD3068260AFCD99E44CD3>\n",
       "3 <http://data.epo.org/linked-data/data/vc/30A7AAC966CA77F2EA95DBAB78798573>\n",
       "4 <http://data.epo.org/linked-data/data/vc/F2806D1A93692FF97F69FEA3009D96DC>\n",
       "5 <http://data.epo.org/linked-data/data/vc/E981DB78F395D6429045B02441FC54EE>\n",
       "6 <http://data.epo.org/linked-data/data/vc/2AAA05ADF2FBC02CA97DC72726E181A4>\n",
       "  auth nr      kind name                         \n",
       "1 EP   1536591 A1   Huawei Technologies Co., Ltd.\n",
       "2 EP   1566921 A1   Huawei Technologies Co., Ltd.\n",
       "3 EP   2114028 B1   Huawei Technologies Co., Ltd.\n",
       "4 EP   2114028 A1   Huawei Technologies Co., Ltd.\n",
       "5 EP   2112780 A1   Huawei Technologies Co., Ltd.\n",
       "6 EP   2698967 A1   Huawei Technologies Co., Ltd "
      ]
     },
     "metadata": {},
     "output_type": "display_data"
    }
   ],
   "source": [
    "head(df)"
   ]
  },
  {
   "cell_type": "code",
   "execution_count": null,
   "metadata": {
    "vscode": {
     "languageId": "r"
    }
   },
   "outputs": [],
   "source": []
  }
 ],
 "metadata": {
  "kernelspec": {
   "display_name": "R",
   "language": "R",
   "name": "ir"
  },
  "language_info": {
   "codemirror_mode": "r",
   "file_extension": ".r",
   "mimetype": "text/x-r-source",
   "name": "R",
   "pygments_lexer": "r",
   "version": "4.2.2"
  },
  "orig_nbformat": 4,
  "vscode": {
   "interpreter": {
    "hash": "16bff2c6a4793fe572f28f54bf2473ba4d5d1eb32d0a445bafdbd12ba8e85d21"
   }
  }
 },
 "nbformat": 4,
 "nbformat_minor": 2
}
