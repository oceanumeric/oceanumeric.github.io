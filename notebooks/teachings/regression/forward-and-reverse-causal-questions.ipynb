{
 "cells": [
  {
   "cell_type": "markdown",
   "metadata": {},
   "source": [
    "<head>\n",
    "    <style>\n",
    "        .md-typeset h2 {\n",
    "            margin:0;\n",
    "            }\n",
    "        .md-typeset h3 {\n",
    "            margin:0;\n",
    "            }\n",
    "        .jupyter-wrapper table.dataframe tr, .jupyter-wrapper table.dataframe th, .jupyter-wrapper table.dataframe td {\n",
    "            text-align:left;\n",
    "            }\n",
    "        .jupyter-wrapper table.dataframe {\n",
    "            table-layout: auto;\n",
    "            }\n",
    "        .jp-RenderedText pre {\n",
    "            display: inline-block;\n",
    "            overflow-x: auto;\n",
    "            width: max-content;\n",
    "        }\n",
    "    </style>\n",
    "</head>"
   ]
  },
  {
   "cell_type": "markdown",
   "metadata": {},
   "source": [
    "# Why Ask Why and How \n",
    "\n",
    "The statistical and econometrics literature on causality is more focused on \n",
    "\"effects of causes\" than on \"causes of effects\". \n",
    "\n",
    "![comics](https://blog.ml.cmu.edu/wp-content/uploads/2019/11/xkcd_causation.png)"
   ]
  },
  {
   "cell_type": "markdown",
   "metadata": {},
   "source": [
    "## Reverse causal questions \n",
    "\n",
    "When we see a interesting phenomenon, Our mind reaches to the outcome or effects \n",
    "first and then think about why? For example:\n",
    "\n",
    "- Why do more attractive people earn more money?\n",
    "- Why does _per capita_ income vary so much by country?\n",
    "- Do many poor people vote for Republicans and rich people vote for Democrats?\n",
    "\n",
    "This fits our nature as we human being cares about 'results' (or utility) more\n",
    "than _causes_. \n",
    "\n",
    "![perception](https://larspsyll.files.wordpress.com/2015/05/dilbert.gif)"
   ]
  },
  {
   "cell_type": "markdown",
   "metadata": {},
   "source": [
    "## Forward causal questions \n",
    "\n",
    "For most of the reverse causal inference, we could also frame it as \"effects \n",
    "of causes.\" For instance,\n",
    "\n",
    "- What might happen if we do $X$ \n",
    "- What might happen if I smoke every day?\n",
    "    - the effect of smoking on health\n",
    "    - the effect of smoking on emotion \n",
    "\n",
    "![what-if](https://prod-ripcut-delivery.disney-plus.net/v1/variant/disney/395B5A9A29E82DA9C91DFC68060D2BD58C9C78964192D480CF2EE0A9C79334FC/scale?width=1200&aspectRatio=1.78&format=jpeg)"
   ]
  },
  {
   "cell_type": "markdown",
   "metadata": {},
   "source": [
    "## How should we ask a question?\n",
    "\n",
    "If you want to do _reverse causal questions_, such as 'Why nations fail', then\n",
    "you need to: \n",
    "\n",
    "- build a model\n",
    "- modeling checking\n",
    "- hypothesis generation \n",
    "\n",
    "If you want to do _forwar causal questions_, such as 'What if ...', then\n",
    "you need to:\n",
    "\n",
    "- form causes first\n",
    "- estimate effects "
   ]
  },
  {
   "cell_type": "markdown",
   "metadata": {},
   "source": [
    "<div class=\"admonition question\">\n",
    "<p class=\"admonition-title\">\n",
    "Exercie\n",
    "<p>\n",
    "<ul>\n",
    "  <li>Give an example of reverse causal questions </li>\n",
    "  <li>Give an example of forward causal questions</li>\n",
    "  <li>What kind of questions could be phrased into 'What if...' format?</li>\n",
    "  <li>What are advantage and disadvantages of different way of thinking?</li>\n",
    "</ul>\n",
    "</div>"
   ]
  },
  {
   "cell_type": "markdown",
   "metadata": {},
   "source": [
    "## Example: P&G marketing and advertising \n",
    "\n",
    "P&G spends a huge amount of money on marketing and\n",
    "advertising activities. The money is spread out over many vehicles, such as \n",
    "\n",
    "- television, \n",
    "- radio, \n",
    "- newspaper, \n",
    "- supermarket \n",
    "- coupons, \n",
    "- events, \n",
    "- emails, \n",
    "- display ads, \n",
    "- search engine, etc. \n",
    "\n",
    "The key performance metric is sales amount. \n",
    "\n",
    "If sales amount suddenly drops, then the executives will want to know _what\n",
    "caused the drop_. This is the classic reverse causality question. Of course, lots of\n",
    "possible hypotheses could be generated . . . \n",
    "\n",
    "- TV ad was not liked, \n",
    "- coupons weren’t distributed on time, \n",
    "- emails suffered a deliverability problem, etc. \n",
    "\n",
    "By a process of elimination, one can drill down to a small set \n",
    "of plausible causes. This is all complex work that gives approximate answers.\n",
    "\n",
    "The reverse-causal question is: Why did this happen? And this leads to improved \n",
    "modeling. In our course, __we try to avoid this kind of questions__. \n"
   ]
  },
  {
   "cell_type": "markdown",
   "metadata": {},
   "source": [
    "## Algorithms to generate a research question\n",
    "\n",
    "1. Define your interest:\n",
    "    - i. explore a new phenomenon \n",
    "    - ii. model building (reverse causal questions: why)\n",
    "    - iii. causal inferences (forward causal question: why if)\n",
    "\n",
    "For _causal questions_: \n",
    "\n",
    "2. list your key performance metric (after all, almost every one likes 'good' stuff)\n",
    "2. ask 'what if ....(causes)...., what will happen to `key-performance-metric`' \n",
    "3. think about another factors might affect `key-performance-metric`'\n",
    "4. use a graph to guide your thinking\n",
    "\n",
    "### A graphic example \n",
    "\n",
    "![dag](https://media.springernature.com/full/springer-static/image/art%3A10.1038%2Fs41390-018-0071-3/MediaObjects/41390_2018_71_Fig1_HTML.jpg)"
   ]
  },
  {
   "cell_type": "markdown",
   "metadata": {},
   "source": [
    "### Exercise \n",
    "\n",
    "<div class=\"admonition question\">\n",
    "<p class=\"admonition-title\">\n",
    "Exercie\n",
    "<p>\n",
    "<ul>\n",
    "  <li>Screen research papers from top journals and check their research questions </li>\n",
    "</ul>\n",
    "</div>\n",
    "\n",
    "- [Research Policy](https://www.sciencedirect.com/journal/research-policy)\n",
    "- [Management Science](https://pubsonline.informs.org/journal/mnsc)\n",
    "- [American Economic Review](https://www.aeaweb.org/issues/698)\n",
    "- [Organization Science](https://pubsonline.informs.org/journal/orsc)"
   ]
  },
  {
   "cell_type": "markdown",
   "metadata": {},
   "source": [
    "<iframe type=\"text/html\" sandbox=\"allow-scripts allow-same-origin allow-popups\" width=\"336\" height=\"550\" frameborder=\"0\" allowfullscreen style=\"max-width:100%\" src=\"https://lesen.amazon.de/kp/card?asin=B005JC0PR2&preview=inline&linkCode=kpe&ref_=cm_sw_r_kb_dp_T7T1WW7SVAXTJSSKT576\" ></iframe>"
   ]
  }
 ],
 "metadata": {
  "kernelspec": {
   "display_name": "Python 3.9.5 ('mvenv': venv)",
   "language": "python",
   "name": "python3"
  },
  "language_info": {
   "name": "python",
   "version": "3.9.5"
  },
  "orig_nbformat": 4,
  "vscode": {
   "interpreter": {
    "hash": "63d6cab39498d3e9394f08688953487e2226093dc6f01678016431a1b8640115"
   }
  }
 },
 "nbformat": 4,
 "nbformat_minor": 2
}
