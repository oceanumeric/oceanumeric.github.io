{
 "cells": [
  {
   "cell_type": "markdown",
   "metadata": {},
   "source": [
    "<head>\n",
    "    <style>\n",
    "        .md-typeset h2 {\n",
    "            margin:0;\n",
    "            }\n",
    "        .md-typeset h3 {\n",
    "            margin:0;\n",
    "            }\n",
    "        .jupyter-wrapper table.dataframe tr, .jupyter-wrapper table.dataframe th, .jupyter-wrapper table.dataframe td {\n",
    "            text-align:left;\n",
    "            }\n",
    "        .jupyter-wrapper table.dataframe {\n",
    "            table-layout: auto;\n",
    "            }\n",
    "        .jp-RenderedText pre {\n",
    "            display: inline-block;\n",
    "            overflow-x: auto;\n",
    "            width: max-content;\n",
    "        }\n",
    "    </style>\n",
    "</head>"
   ]
  },
  {
   "cell_type": "markdown",
   "metadata": {},
   "source": [
    "# COVID-19 vaccines: development and evaluation\n",
    "\n",
    "In this lecture, we will simulate how COVID-19 vaccines were 'developed and\n",
    "evaluated' with common statistical methods. In real life, much more work have \n",
    "to be done for the vaccine development and evaluation. Neverthelss, we will \n",
    "follow the general guidelines (such as [this one](https://covid19vaccinetrial.co.uk/phase-i-trial-explained))\n",
    "and try to give you the overview of vaccine development and evaluation (the \n",
    "the following figure) and how __causal reasoning and statistical methods__ could\n",
    "play a role in vaccine development and approval stages. \n",
    "\n",
    "![overview](https://www.ema.europa.eu/sites/default/files/stanadard_vaccine_development_-_updated_05-2021_v32x_0.png)\n"
   ]
  },
  {
   "cell_type": "markdown",
   "metadata": {},
   "source": [
    "## Key assumptions for our simulation\n",
    "\n",
    "\n",
    "We all know that human being has natural immunity, which is the antibody \n",
    "protection your body creates against a germ or virus once you've been infected \n",
    "with it. \n",
    "\n",
    "In our simulation, we will assume amount of antibody against covid19\n",
    "in our _population_ follows the Gaussian distribution. Intuitively, the\n",
    "distribution gives _the frequency of values of a random variable_. In our\n",
    "case the random variable at this stage is _the amount of antibody_ in a person.\n",
    "It is a _continuous variable_ and its mean is 20 and standard deviation is 3. \n",
    "\n",
    "Now, let's generate value for this variable in `Stata`. Our `sample size` will\n",
    "be 1000. \n",
    "\n",
    "<div class='admonition note'>\n",
    "<p class='admonition-title'>Note</p>\n",
    "<p>Every time you see '//' in Stata script, they are comment. Stata\n",
    "will not execute it</p>\n",
    "</div>"
   ]
  },
  {
   "cell_type": "code",
   "execution_count": 1,
   "metadata": {},
   "outputs": [],
   "source": [
    "// just comment, stata will do nothing"
   ]
  },
  {
   "cell_type": "code",
   "execution_count": 2,
   "metadata": {},
   "outputs": [
    {
     "name": "stdout",
     "output_type": "stream",
     "text": [
      "\n",
      "\n",
      "number of observations (_N) was 0, now 1,000\n",
      "\n",
      "\n"
     ]
    }
   ],
   "source": [
    "// clear Stata\n",
    "clear  \n",
    "// set sample size (observation) = 1000\n",
    "set obs 1000  \n",
    "// set the random generator seed\n",
    "set seed 19201\n",
    "// random normal distribution with mean=20\n",
    "generate antibody = rnormal(20, 3)\n"
   ]
  },
  {
   "cell_type": "markdown",
   "metadata": {},
   "source": [
    "Now a random variable called `antibody` has been generated for 1000 people. Since\n",
    "this random variable follows the Gaussian distribution (or normal distribution),\n",
    "some people might have more antibody while others might have less. Now we will\n",
    "_summarize and visaulize_ how the antibody will be distributed in our sample. "
   ]
  },
  {
   "cell_type": "code",
   "execution_count": 3,
   "metadata": {},
   "outputs": [
    {
     "name": "stdout",
     "output_type": "stream",
     "text": [
      "\n",
      "Contains data\n",
      "  obs:         1,000                          \n",
      " vars:             1                          \n",
      "--------------------------------------------------------------------------------\n",
      "              storage   display    value\n",
      "variable name   type    format     label      variable label\n",
      "--------------------------------------------------------------------------------\n",
      "antibody        float   %9.0g                 \n",
      "--------------------------------------------------------------------------------\n",
      "Sorted by: \n",
      "     Note: Dataset has changed since last saved.\n"
     ]
    }
   ],
   "source": [
    "describe   // describe the dataset we have "
   ]
  },
  {
   "cell_type": "code",
   "execution_count": 4,
   "metadata": {},
   "outputs": [
    {
     "name": "stdout",
     "output_type": "stream",
     "text": [
      "\n",
      "    Variable |        Obs        Mean    Std. Dev.       Min        Max\n",
      "-------------+---------------------------------------------------------\n",
      "    antibody |      1,000    20.08761    2.923729   11.54476   30.63326\n"
     ]
    }
   ],
   "source": [
    "summarize antibody"
   ]
  },
  {
   "cell_type": "markdown",
   "metadata": {},
   "source": [
    "You can observe:\n",
    "\n",
    "- obseration = 1000\n",
    "- mean = 20.08761\n",
    "- standard deviation = 2.92\n",
    "- min, max = 11.544, 30.633"
   ]
  },
  {
   "cell_type": "code",
   "execution_count": 5,
   "metadata": {},
   "outputs": [
    {
     "name": "stdout",
     "output_type": "stream",
     "text": [
      "\n",
      "     +----------+\n",
      "     | antibody |\n",
      "     |----------|\n",
      "  1. | 18.25307 |\n",
      "  2. | 16.46375 |\n",
      "  3. | 22.61064 |\n",
      "  4. | 16.88403 |\n",
      "  5. | 20.63522 |\n",
      "     |----------|\n",
      "  6. | 20.68504 |\n",
      "  7. | 22.81262 |\n",
      "  8. | 21.36884 |\n",
      "  9. |  18.1802 |\n",
      " 10. | 17.53478 |\n",
      "     +----------+\n"
     ]
    }
   ],
   "source": [
    "// list first 10 observations \n",
    "list antibody in f/10"
   ]
  },
  {
   "cell_type": "code",
   "execution_count": 6,
   "metadata": {},
   "outputs": [
    {
     "name": "stdout",
     "output_type": "stream",
     "text": [
      "\n",
      "      +----------+\n",
      "      | antibody |\n",
      "      |----------|\n",
      " 991. | 18.41049 |\n",
      " 992. | 19.78679 |\n",
      " 993. |  23.2485 |\n",
      " 994. | 22.26105 |\n",
      " 995. | 20.59435 |\n",
      "      |----------|\n",
      " 996. | 24.75361 |\n",
      " 997. | 17.14018 |\n",
      " 998. | 23.63145 |\n",
      " 999. |   27.327 |\n",
      "1000. | 18.83713 |\n",
      "      +----------+\n"
     ]
    }
   ],
   "source": [
    "// list last 10 observations \n",
    "list antibody in -10/l"
   ]
  },
  {
   "cell_type": "code",
   "execution_count": 7,
   "metadata": {},
   "outputs": [
    {
     "data": {
      "application/pdf": "[encoded data removed]",
      "image/svg+xml": "<?xml version=\"1.0\" encoding=\"UTF-8\" standalone=\"no\"?>\n<!-- This is a Stata 16.1 generated SVG file (http://www.stata.com) -->\n\n<svg version=\"1.1\" width=\"600px\" height=\"436px\" viewBox=\"0 0 3960 2880\" xmlns=\"http://www.w3.org/2000/svg\" xmlns:xlink=\"http://www.w3.org/1999/xlink\">\n\t<desc>Stata Graph - Graph</desc>\n\t<rect x=\"0\" y=\"0\" width=\"3960\" height=\"2880\" style=\"fill:#EAF2F3;stroke:none\"/>\n\t<rect x=\"0.00\" y=\"0.00\" width=\"3959.88\" height=\"2880.00\" style=\"fill:#EAF2F3\"/>\n\t<rect x=\"2.88\" y=\"2.88\" width=\"3954.12\" height=\"2874.24\" style=\"fill:none;stroke:#EAF2F3;stroke-width:5.76\"/>\n\t<rect x=\"390.80\" y=\"275.35\" width=\"3468.22\" height=\"2473.84\" style=\"fill:#FFFFFF\"/>\n\t<rect x=\"393.68\" y=\"278.23\" width=\"3462.46\" height=\"2468.08\" style=\"fill:none;stroke:#FFFFFF;stroke-width:5.76\"/>\n\t<line x1=\"390.80\" y1=\"2648.46\" x2=\"3859.02\" y2=\"2648.46\" style=\"stroke:#EAF2F3;stroke-width:8.64\"/>\n\t<line x1=\"390.80\" y1=\"2097.75\" x2=\"3859.02\" y2=\"2097.75\" style=\"stroke:#EAF2F3;stroke-width:8.64\"/>\n\t<line x1=\"390.80\" y1=\"1547.17\" x2=\"3859.02\" y2=\"1547.17\" style=\"stroke:#EAF2F3;stroke-width:8.64\"/>\n\t<line x1=\"390.80\" y1=\"996.47\" x2=\"3859.02\" y2=\"996.47\" style=\"stroke:#EAF2F3;stroke-width:8.64\"/>\n\t<line x1=\"390.80\" y1=\"445.89\" x2=\"3859.02\" y2=\"445.89\" style=\"stroke:#EAF2F3;stroke-width:8.64\"/>\n\t<rect x=\"958.20\" y=\"1318.47\" width=\"2333.43\" height=\"442.92\" style=\"fill:#8DA3B7\"/>\n\t<rect x=\"962.52\" y=\"1322.79\" width=\"2324.79\" height=\"434.28\" style=\"fill:none;stroke:#1A476F;stroke-width:8.64\"/>\n\t<line x1=\"958.20\" y1=\"1541.48\" x2=\"3291.63\" y2=\"1541.48\" style=\"stroke:#1A476F;stroke-width:8.64\"/>\n\t<line x1=\"2124.91\" y1=\"1761.39\" x2=\"2124.91\" y2=\"2404.91\" style=\"stroke:#1A476F;stroke-width:8.64\"/>\n\t<line x1=\"2124.91\" y1=\"1318.47\" x2=\"2124.91\" y2=\"668.02\" style=\"stroke:#1A476F;stroke-width:8.64\"/>\n\t<line x1=\"1343.31\" y1=\"2404.91\" x2=\"2906.64\" y2=\"2404.91\" style=\"stroke:#1A476F;stroke-width:8.64\"/>\n\t<line x1=\"1343.31\" y1=\"668.02\" x2=\"2906.64\" y2=\"668.02\" style=\"stroke:#1A476F;stroke-width:8.64\"/>\n\t<circle cx=\"2124.91\" cy=\"2478.29\" r=\"26.35\" style=\"fill:#1A476F\"/>\n\t<circle cx=\"2124.91\" cy=\"2478.29\" r=\"22.03\" style=\"fill:none;stroke:#1A476F;stroke-width:8.64\"/>\n\t<circle cx=\"2124.91\" cy=\"2430.65\" r=\"26.35\" style=\"fill:#1A476F\"/>\n\t<circle cx=\"2124.91\" cy=\"2430.65\" r=\"22.03\" style=\"fill:none;stroke:#1A476F;stroke-width:8.64\"/>\n\t<circle cx=\"2124.91\" cy=\"605.03\" r=\"26.35\" style=\"fill:#1A476F\"/>\n\t<circle cx=\"2124.91\" cy=\"605.03\" r=\"22.03\" style=\"fill:none;stroke:#1A476F;stroke-width:8.64\"/>\n\t<circle cx=\"2124.91\" cy=\"587.58\" r=\"26.35\" style=\"fill:#1A476F\"/>\n\t<circle cx=\"2124.91\" cy=\"587.58\" r=\"22.03\" style=\"fill:none;stroke:#1A476F;stroke-width:8.64\"/>\n\t<circle cx=\"2124.91\" cy=\"579.04\" r=\"26.35\" style=\"fill:#1A476F\"/>\n\t<circle cx=\"2124.91\" cy=\"579.04\" r=\"22.03\" style=\"fill:none;stroke:#1A476F;stroke-width:8.64\"/>\n\t<circle cx=\"2124.91\" cy=\"376.21\" r=\"26.35\" style=\"fill:#1A476F\"/>\n\t<circle cx=\"2124.91\" cy=\"376.21\" r=\"22.03\" style=\"fill:none;stroke:#1A476F;stroke-width:8.64\"/>\n\t<line x1=\"390.80\" y1=\"2749.19\" x2=\"390.80\" y2=\"275.35\" style=\"stroke:#000000;stroke-width:5.76\"/>\n\t<line x1=\"390.80\" y1=\"2648.46\" x2=\"350.83\" y2=\"2648.46\" style=\"stroke:#000000;stroke-width:5.76\"/>\n\t<text x=\"300.72\" y=\"2648.46\" style=\"font-family:'Helvetica';font-size:99.99px;fill:#000000\" transform=\"rotate(-90 300.72,2648.46)\" text-anchor=\"middle\">10</text>\n\t<line x1=\"390.80\" y1=\"2097.75\" x2=\"350.83\" y2=\"2097.75\" style=\"stroke:#000000;stroke-width:5.76\"/>\n\t<text x=\"300.72\" y=\"2097.75\" style=\"font-family:'Helvetica';font-size:99.99px;fill:#000000\" transform=\"rotate(-90 300.72,2097.75)\" text-anchor=\"middle\">15</text>\n\t<line x1=\"390.80\" y1=\"1547.17\" x2=\"350.83\" y2=\"1547.17\" style=\"stroke:#000000;stroke-width:5.76\"/>\n\t<text x=\"300.72\" y=\"1547.17\" style=\"font-family:'Helvetica';font-size:99.99px;fill:#000000\" transform=\"rotate(-90 300.72,1547.17)\" text-anchor=\"middle\">20</text>\n\t<line x1=\"390.80\" y1=\"996.47\" x2=\"350.83\" y2=\"996.47\" style=\"stroke:#000000;stroke-width:5.76\"/>\n\t<text x=\"300.72\" y=\"996.47\" style=\"font-family:'Helvetica';font-size:99.99px;fill:#000000\" transform=\"rotate(-90 300.72,996.47)\" text-anchor=\"middle\">25</text>\n\t<line x1=\"390.80\" y1=\"445.89\" x2=\"350.83\" y2=\"445.89\" style=\"stroke:#000000;stroke-width:5.76\"/>\n\t<text x=\"300.72\" y=\"445.89\" style=\"font-family:'Helvetica';font-size:99.99px;fill:#000000\" transform=\"rotate(-90 300.72,445.89)\" text-anchor=\"middle\">30</text>\n\t<text x=\"190.71\" y=\"1512.27\" style=\"font-family:'Helvetica';font-size:99.99px;fill:#000000\" transform=\"rotate(-90 190.71,1512.27)\" text-anchor=\"middle\">antibody</text>\n\t<line x1=\"390.80\" y1=\"2749.19\" x2=\"3859.02\" y2=\"2749.19\" style=\"stroke:#000000;stroke-width:5.76\"/>\n\t<text x=\"2124.91\" y=\"215.98\" style=\"font-family:'Helvetica';font-size:139.96px;fill:#1E2D53\" text-anchor=\"middle\">Box plot of antibody</text>\n</svg>\n",
      "text/html": [
       "                <iframe frameborder=\"0\" scrolling=\"no\" height=\"436\" width=\"600\"                srcdoc=\"<html><body>&lt;?xml version=&quot;1.0&quot; encoding=&quot;UTF-8&quot; standalone=&quot;no&quot;?&gt;\n",
       "&lt;!-- This is a Stata 16.1 generated SVG file (http://www.stata.com) --&gt;\n",
       "\n",
       "&lt;svg version=&quot;1.1&quot; width=&quot;600px&quot; height=&quot;436px&quot; viewBox=&quot;0 0 3960 2880&quot; xmlns=&quot;http://www.w3.org/2000/svg&quot; xmlns:xlink=&quot;http://www.w3.org/1999/xlink&quot;&gt;\n",
       "\t&lt;desc&gt;Stata Graph - Graph&lt;/desc&gt;\n",
       "\t&lt;rect x=&quot;0&quot; y=&quot;0&quot; width=&quot;3960&quot; height=&quot;2880&quot; style=&quot;fill:#EAF2F3;stroke:none&quot;/&gt;\n",
       "\t&lt;rect x=&quot;0.00&quot; y=&quot;0.00&quot; width=&quot;3959.88&quot; height=&quot;2880.00&quot; style=&quot;fill:#EAF2F3&quot;/&gt;\n",
       "\t&lt;rect x=&quot;2.88&quot; y=&quot;2.88&quot; width=&quot;3954.12&quot; height=&quot;2874.24&quot; style=&quot;fill:none;stroke:#EAF2F3;stroke-width:5.76&quot;/&gt;\n",
       "\t&lt;rect x=&quot;390.80&quot; y=&quot;275.35&quot; width=&quot;3468.22&quot; height=&quot;2473.84&quot; style=&quot;fill:#FFFFFF&quot;/&gt;\n",
       "\t&lt;rect x=&quot;393.68&quot; y=&quot;278.23&quot; width=&quot;3462.46&quot; height=&quot;2468.08&quot; style=&quot;fill:none;stroke:#FFFFFF;stroke-width:5.76&quot;/&gt;\n",
       "\t&lt;line x1=&quot;390.80&quot; y1=&quot;2648.46&quot; x2=&quot;3859.02&quot; y2=&quot;2648.46&quot; style=&quot;stroke:#EAF2F3;stroke-width:8.64&quot;/&gt;\n",
       "\t&lt;line x1=&quot;390.80&quot; y1=&quot;2097.75&quot; x2=&quot;3859.02&quot; y2=&quot;2097.75&quot; style=&quot;stroke:#EAF2F3;stroke-width:8.64&quot;/&gt;\n",
       "\t&lt;line x1=&quot;390.80&quot; y1=&quot;1547.17&quot; x2=&quot;3859.02&quot; y2=&quot;1547.17&quot; style=&quot;stroke:#EAF2F3;stroke-width:8.64&quot;/&gt;\n",
       "\t&lt;line x1=&quot;390.80&quot; y1=&quot;996.47&quot; x2=&quot;3859.02&quot; y2=&quot;996.47&quot; style=&quot;stroke:#EAF2F3;stroke-width:8.64&quot;/&gt;\n",
       "\t&lt;line x1=&quot;390.80&quot; y1=&quot;445.89&quot; x2=&quot;3859.02&quot; y2=&quot;445.89&quot; style=&quot;stroke:#EAF2F3;stroke-width:8.64&quot;/&gt;\n",
       "\t&lt;rect x=&quot;958.20&quot; y=&quot;1318.47&quot; width=&quot;2333.43&quot; height=&quot;442.92&quot; style=&quot;fill:#8DA3B7&quot;/&gt;\n",
       "\t&lt;rect x=&quot;962.52&quot; y=&quot;1322.79&quot; width=&quot;2324.79&quot; height=&quot;434.28&quot; style=&quot;fill:none;stroke:#1A476F;stroke-width:8.64&quot;/&gt;\n",
       "\t&lt;line x1=&quot;958.20&quot; y1=&quot;1541.48&quot; x2=&quot;3291.63&quot; y2=&quot;1541.48&quot; style=&quot;stroke:#1A476F;stroke-width:8.64&quot;/&gt;\n",
       "\t&lt;line x1=&quot;2124.91&quot; y1=&quot;1761.39&quot; x2=&quot;2124.91&quot; y2=&quot;2404.91&quot; style=&quot;stroke:#1A476F;stroke-width:8.64&quot;/&gt;\n",
       "\t&lt;line x1=&quot;2124.91&quot; y1=&quot;1318.47&quot; x2=&quot;2124.91&quot; y2=&quot;668.02&quot; style=&quot;stroke:#1A476F;stroke-width:8.64&quot;/&gt;\n",
       "\t&lt;line x1=&quot;1343.31&quot; y1=&quot;2404.91&quot; x2=&quot;2906.64&quot; y2=&quot;2404.91&quot; style=&quot;stroke:#1A476F;stroke-width:8.64&quot;/&gt;\n",
       "\t&lt;line x1=&quot;1343.31&quot; y1=&quot;668.02&quot; x2=&quot;2906.64&quot; y2=&quot;668.02&quot; style=&quot;stroke:#1A476F;stroke-width:8.64&quot;/&gt;\n",
       "\t&lt;circle cx=&quot;2124.91&quot; cy=&quot;2478.29&quot; r=&quot;26.35&quot; style=&quot;fill:#1A476F&quot;/&gt;\n",
       "\t&lt;circle cx=&quot;2124.91&quot; cy=&quot;2478.29&quot; r=&quot;22.03&quot; style=&quot;fill:none;stroke:#1A476F;stroke-width:8.64&quot;/&gt;\n",
       "\t&lt;circle cx=&quot;2124.91&quot; cy=&quot;2430.65&quot; r=&quot;26.35&quot; style=&quot;fill:#1A476F&quot;/&gt;\n",
       "\t&lt;circle cx=&quot;2124.91&quot; cy=&quot;2430.65&quot; r=&quot;22.03&quot; style=&quot;fill:none;stroke:#1A476F;stroke-width:8.64&quot;/&gt;\n",
       "\t&lt;circle cx=&quot;2124.91&quot; cy=&quot;605.03&quot; r=&quot;26.35&quot; style=&quot;fill:#1A476F&quot;/&gt;\n",
       "\t&lt;circle cx=&quot;2124.91&quot; cy=&quot;605.03&quot; r=&quot;22.03&quot; style=&quot;fill:none;stroke:#1A476F;stroke-width:8.64&quot;/&gt;\n",
       "\t&lt;circle cx=&quot;2124.91&quot; cy=&quot;587.58&quot; r=&quot;26.35&quot; style=&quot;fill:#1A476F&quot;/&gt;\n",
       "\t&lt;circle cx=&quot;2124.91&quot; cy=&quot;587.58&quot; r=&quot;22.03&quot; style=&quot;fill:none;stroke:#1A476F;stroke-width:8.64&quot;/&gt;\n",
       "\t&lt;circle cx=&quot;2124.91&quot; cy=&quot;579.04&quot; r=&quot;26.35&quot; style=&quot;fill:#1A476F&quot;/&gt;\n",
       "\t&lt;circle cx=&quot;2124.91&quot; cy=&quot;579.04&quot; r=&quot;22.03&quot; style=&quot;fill:none;stroke:#1A476F;stroke-width:8.64&quot;/&gt;\n",
       "\t&lt;circle cx=&quot;2124.91&quot; cy=&quot;376.21&quot; r=&quot;26.35&quot; style=&quot;fill:#1A476F&quot;/&gt;\n",
       "\t&lt;circle cx=&quot;2124.91&quot; cy=&quot;376.21&quot; r=&quot;22.03&quot; style=&quot;fill:none;stroke:#1A476F;stroke-width:8.64&quot;/&gt;\n",
       "\t&lt;line x1=&quot;390.80&quot; y1=&quot;2749.19&quot; x2=&quot;390.80&quot; y2=&quot;275.35&quot; style=&quot;stroke:#000000;stroke-width:5.76&quot;/&gt;\n",
       "\t&lt;line x1=&quot;390.80&quot; y1=&quot;2648.46&quot; x2=&quot;350.83&quot; y2=&quot;2648.46&quot; style=&quot;stroke:#000000;stroke-width:5.76&quot;/&gt;\n",
       "\t&lt;text x=&quot;300.72&quot; y=&quot;2648.46&quot; style=&quot;font-family:&#x27;Helvetica&#x27;;font-size:99.99px;fill:#000000&quot; transform=&quot;rotate(-90 300.72,2648.46)&quot; text-anchor=&quot;middle&quot;&gt;10&lt;/text&gt;\n",
       "\t&lt;line x1=&quot;390.80&quot; y1=&quot;2097.75&quot; x2=&quot;350.83&quot; y2=&quot;2097.75&quot; style=&quot;stroke:#000000;stroke-width:5.76&quot;/&gt;\n",
       "\t&lt;text x=&quot;300.72&quot; y=&quot;2097.75&quot; style=&quot;font-family:&#x27;Helvetica&#x27;;font-size:99.99px;fill:#000000&quot; transform=&quot;rotate(-90 300.72,2097.75)&quot; text-anchor=&quot;middle&quot;&gt;15&lt;/text&gt;\n",
       "\t&lt;line x1=&quot;390.80&quot; y1=&quot;1547.17&quot; x2=&quot;350.83&quot; y2=&quot;1547.17&quot; style=&quot;stroke:#000000;stroke-width:5.76&quot;/&gt;\n",
       "\t&lt;text x=&quot;300.72&quot; y=&quot;1547.17&quot; style=&quot;font-family:&#x27;Helvetica&#x27;;font-size:99.99px;fill:#000000&quot; transform=&quot;rotate(-90 300.72,1547.17)&quot; text-anchor=&quot;middle&quot;&gt;20&lt;/text&gt;\n",
       "\t&lt;line x1=&quot;390.80&quot; y1=&quot;996.47&quot; x2=&quot;350.83&quot; y2=&quot;996.47&quot; style=&quot;stroke:#000000;stroke-width:5.76&quot;/&gt;\n",
       "\t&lt;text x=&quot;300.72&quot; y=&quot;996.47&quot; style=&quot;font-family:&#x27;Helvetica&#x27;;font-size:99.99px;fill:#000000&quot; transform=&quot;rotate(-90 300.72,996.47)&quot; text-anchor=&quot;middle&quot;&gt;25&lt;/text&gt;\n",
       "\t&lt;line x1=&quot;390.80&quot; y1=&quot;445.89&quot; x2=&quot;350.83&quot; y2=&quot;445.89&quot; style=&quot;stroke:#000000;stroke-width:5.76&quot;/&gt;\n",
       "\t&lt;text x=&quot;300.72&quot; y=&quot;445.89&quot; style=&quot;font-family:&#x27;Helvetica&#x27;;font-size:99.99px;fill:#000000&quot; transform=&quot;rotate(-90 300.72,445.89)&quot; text-anchor=&quot;middle&quot;&gt;30&lt;/text&gt;\n",
       "\t&lt;text x=&quot;190.71&quot; y=&quot;1512.27&quot; style=&quot;font-family:&#x27;Helvetica&#x27;;font-size:99.99px;fill:#000000&quot; transform=&quot;rotate(-90 190.71,1512.27)&quot; text-anchor=&quot;middle&quot;&gt;antibody&lt;/text&gt;\n",
       "\t&lt;line x1=&quot;390.80&quot; y1=&quot;2749.19&quot; x2=&quot;3859.02&quot; y2=&quot;2749.19&quot; style=&quot;stroke:#000000;stroke-width:5.76&quot;/&gt;\n",
       "\t&lt;text x=&quot;2124.91&quot; y=&quot;215.98&quot; style=&quot;font-family:&#x27;Helvetica&#x27;;font-size:139.96px;fill:#1E2D53&quot; text-anchor=&quot;middle&quot;&gt;Box plot of antibody&lt;/text&gt;\n",
       "&lt;/svg&gt;\n",
       "</body></html>\"></iframe>\n"
      ],
      "text/plain": [
       "This front-end cannot display the desired image type."
      ]
     },
     "metadata": {
      "image/svg+xml": {
       "height": 436,
       "width": 600
      },
      "text/html": {
       "height": 436,
       "width": 600
      }
     },
     "output_type": "display_data"
    }
   ],
   "source": [
    "graph box antibody, title(\"Box plot of antibody\")"
   ]
  },
  {
   "cell_type": "markdown",
   "metadata": {},
   "source": [
    "Please make sure you understand the concept of box plot. If not, just review \n",
    "it with the following figure.\n",
    "\n",
    "![boxplot](https://upload.wikimedia.org/wikipedia/commons/thumb/b/b1/Elements_of_a_boxplot.svg/1200px-Elements_of_a_boxplot.svg.png)"
   ]
  },
  {
   "cell_type": "code",
   "execution_count": 8,
   "metadata": {},
   "outputs": [
    {
     "name": "stdout",
     "output_type": "stream",
     "text": [
      "\n",
      "                          antibody\n",
      "-------------------------------------------------------------\n",
      "      Percentiles      Smallest\n",
      " 1%     13.44618       11.54476\n",
      " 5%     15.25752       11.97706\n",
      "10%     16.26203       12.21118       Obs               1,000\n",
      "25%     18.05436       12.46592       Sum of Wgt.       1,000\n",
      "\n",
      "50%     20.05177                      Mean           20.08761\n",
      "                        Largest       Std. Dev.      2.923729\n",
      "75%     22.07603       28.55541\n",
      "90%      23.8663       28.71392       Variance       8.548194\n",
      "95%     24.90666       28.79069       Skewness       .0602794\n",
      "99%     26.98062       30.63326       Kurtosis       2.922993\n"
     ]
    }
   ],
   "source": [
    "// we can also get the statistical summary\n",
    "summarize antibody, detail"
   ]
  },
  {
   "cell_type": "code",
   "execution_count": 9,
   "metadata": {},
   "outputs": [
    {
     "name": "stdout",
     "output_type": "stream",
     "text": [
      "(bin=29, start=11.544757, width=.65822407)\n"
     ]
    },
    {
     "data": {
      "application/pdf": "[encoded data removed]",
      "image/svg+xml": "<?xml version=\"1.0\" encoding=\"UTF-8\" standalone=\"no\"?>\n<!-- This is a Stata 16.1 generated SVG file (http://www.stata.com) -->\n\n<svg version=\"1.1\" width=\"600px\" height=\"436px\" viewBox=\"0 0 3960 2880\" xmlns=\"http://www.w3.org/2000/svg\" xmlns:xlink=\"http://www.w3.org/1999/xlink\">\n\t<desc>Stata Graph - Graph</desc>\n\t<rect x=\"0\" y=\"0\" width=\"3960\" height=\"2880\" style=\"fill:#EAF2F3;stroke:none\"/>\n\t<rect x=\"0.00\" y=\"0.00\" width=\"3959.88\" height=\"2880.00\" style=\"fill:#EAF2F3\"/>\n\t<rect x=\"2.88\" y=\"2.88\" width=\"3954.12\" height=\"2874.24\" style=\"fill:none;stroke:#EAF2F3;stroke-width:5.76\"/>\n\t<rect x=\"390.80\" y=\"275.35\" width=\"3468.22\" height=\"2213.83\" style=\"fill:#FFFFFF\"/>\n\t<rect x=\"393.68\" y=\"278.23\" width=\"3462.46\" height=\"2208.07\" style=\"fill:none;stroke:#FFFFFF;stroke-width:5.76\"/>\n\t<line x1=\"390.80\" y1=\"2489.19\" x2=\"3859.02\" y2=\"2489.19\" style=\"stroke:#EAF2F3;stroke-width:8.64\"/>\n\t<line x1=\"390.80\" y1=\"2071.64\" x2=\"3859.02\" y2=\"2071.64\" style=\"stroke:#EAF2F3;stroke-width:8.64\"/>\n\t<line x1=\"390.80\" y1=\"1654.09\" x2=\"3859.02\" y2=\"1654.09\" style=\"stroke:#EAF2F3;stroke-width:8.64\"/>\n\t<line x1=\"390.80\" y1=\"1236.55\" x2=\"3859.02\" y2=\"1236.55\" style=\"stroke:#EAF2F3;stroke-width:8.64\"/>\n\t<line x1=\"390.80\" y1=\"818.88\" x2=\"3859.02\" y2=\"818.88\" style=\"stroke:#EAF2F3;stroke-width:8.64\"/>\n\t<line x1=\"390.80\" y1=\"401.33\" x2=\"3859.02\" y2=\"401.33\" style=\"stroke:#EAF2F3;stroke-width:8.64\"/>\n\t<rect x=\"704.26\" y=\"2447.48\" width=\"106.67\" height=\"41.71\" style=\"fill:#CAC27E\"/>\n\t<rect x=\"708.58\" y=\"2451.80\" width=\"98.03\" height=\"33.07\" style=\"fill:none;stroke:#D7D29E;stroke-width:8.64\"/>\n\t<rect x=\"810.93\" y=\"2426.57\" width=\"106.55\" height=\"62.62\" style=\"fill:#CAC27E\"/>\n\t<rect x=\"815.25\" y=\"2430.89\" width=\"97.91\" height=\"53.98\" style=\"fill:none;stroke:#D7D29E;stroke-width:8.64\"/>\n\t<rect x=\"917.48\" y=\"2363.95\" width=\"106.67\" height=\"125.24\" style=\"fill:#CAC27E\"/>\n\t<rect x=\"921.80\" y=\"2368.27\" width=\"98.03\" height=\"116.60\" style=\"fill:none;stroke:#D7D29E;stroke-width:8.64\"/>\n\t<rect x=\"1024.15\" y=\"2301.33\" width=\"106.55\" height=\"187.86\" style=\"fill:#CAC27E\"/>\n\t<rect x=\"1028.47\" y=\"2305.65\" width=\"97.91\" height=\"179.22\" style=\"fill:none;stroke:#D7D29E;stroke-width:8.64\"/>\n\t<rect x=\"1130.70\" y=\"2217.79\" width=\"106.67\" height=\"271.39\" style=\"fill:#CAC27E\"/>\n\t<rect x=\"1135.02\" y=\"2222.11\" width=\"98.03\" height=\"262.75\" style=\"fill:none;stroke:#D7D29E;stroke-width:8.64\"/>\n\t<rect x=\"1237.38\" y=\"1946.40\" width=\"106.55\" height=\"542.78\" style=\"fill:#CAC27E\"/>\n\t<rect x=\"1241.70\" y=\"1950.72\" width=\"97.91\" height=\"534.14\" style=\"fill:none;stroke:#D7D29E;stroke-width:8.64\"/>\n\t<rect x=\"1343.92\" y=\"1779.33\" width=\"106.55\" height=\"709.85\" style=\"fill:#CAC27E\"/>\n\t<rect x=\"1348.24\" y=\"1783.65\" width=\"97.91\" height=\"701.21\" style=\"fill:none;stroke:#D7D29E;stroke-width:8.64\"/>\n\t<rect x=\"1450.47\" y=\"1654.09\" width=\"106.67\" height=\"835.09\" style=\"fill:#CAC27E\"/>\n\t<rect x=\"1454.79\" y=\"1658.41\" width=\"98.03\" height=\"826.45\" style=\"fill:none;stroke:#D7D29E;stroke-width:8.64\"/>\n\t<rect x=\"1557.15\" y=\"1361.79\" width=\"106.55\" height=\"1127.40\" style=\"fill:#CAC27E\"/>\n\t<rect x=\"1561.47\" y=\"1366.11\" width=\"97.91\" height=\"1118.76\" style=\"fill:none;stroke:#D7D29E;stroke-width:8.64\"/>\n\t<rect x=\"1663.69\" y=\"1006.86\" width=\"106.67\" height=\"1482.32\" style=\"fill:#CAC27E\"/>\n\t<rect x=\"1668.01\" y=\"1011.18\" width=\"98.03\" height=\"1473.68\" style=\"fill:none;stroke:#D7D29E;stroke-width:8.64\"/>\n\t<rect x=\"1770.37\" y=\"1048.57\" width=\"106.55\" height=\"1440.62\" style=\"fill:#CAC27E\"/>\n\t<rect x=\"1774.69\" y=\"1052.89\" width=\"97.91\" height=\"1431.98\" style=\"fill:none;stroke:#D7D29E;stroke-width:8.64\"/>\n\t<rect x=\"1876.92\" y=\"881.62\" width=\"106.55\" height=\"1607.56\" style=\"fill:#CAC27E\"/>\n\t<rect x=\"1881.24\" y=\"885.94\" width=\"97.91\" height=\"1598.92\" style=\"fill:none;stroke:#D7D29E;stroke-width:8.64\"/>\n\t<rect x=\"1983.46\" y=\"401.33\" width=\"106.67\" height=\"2087.85\" style=\"fill:#CAC27E\"/>\n\t<rect x=\"1987.78\" y=\"405.65\" width=\"98.03\" height=\"2079.21\" style=\"fill:none;stroke:#D7D29E;stroke-width:8.64\"/>\n\t<rect x=\"2090.14\" y=\"338.71\" width=\"106.55\" height=\"2150.47\" style=\"fill:#CAC27E\"/>\n\t<rect x=\"2094.46\" y=\"343.03\" width=\"97.91\" height=\"2141.83\" style=\"fill:none;stroke:#D7D29E;stroke-width:8.64\"/>\n\t<rect x=\"2196.69\" y=\"1027.65\" width=\"106.67\" height=\"1461.53\" style=\"fill:#CAC27E\"/>\n\t<rect x=\"2201.01\" y=\"1031.97\" width=\"98.03\" height=\"1452.89\" style=\"fill:none;stroke:#D7D29E;stroke-width:8.64\"/>\n\t<rect x=\"2303.36\" y=\"965.03\" width=\"106.55\" height=\"1524.15\" style=\"fill:#CAC27E\"/>\n\t<rect x=\"2307.68\" y=\"969.35\" width=\"97.91\" height=\"1515.51\" style=\"fill:none;stroke:#D7D29E;stroke-width:8.64\"/>\n\t<rect x=\"2409.91\" y=\"1153.01\" width=\"106.67\" height=\"1336.17\" style=\"fill:#CAC27E\"/>\n\t<rect x=\"2414.23\" y=\"1157.33\" width=\"98.03\" height=\"1327.53\" style=\"fill:none;stroke:#D7D29E;stroke-width:8.64\"/>\n\t<rect x=\"2516.58\" y=\"1528.86\" width=\"106.55\" height=\"960.33\" style=\"fill:#CAC27E\"/>\n\t<rect x=\"2520.90\" y=\"1533.18\" width=\"97.91\" height=\"951.69\" style=\"fill:none;stroke:#D7D29E;stroke-width:8.64\"/>\n\t<rect x=\"2623.13\" y=\"1299.17\" width=\"106.55\" height=\"1190.02\" style=\"fill:#CAC27E\"/>\n\t<rect x=\"2627.45\" y=\"1303.49\" width=\"97.91\" height=\"1181.38\" style=\"fill:none;stroke:#D7D29E;stroke-width:8.64\"/>\n\t<rect x=\"2729.68\" y=\"1967.19\" width=\"106.67\" height=\"521.99\" style=\"fill:#CAC27E\"/>\n\t<rect x=\"2734.00\" y=\"1971.51\" width=\"98.03\" height=\"513.35\" style=\"fill:none;stroke:#D7D29E;stroke-width:8.64\"/>\n\t<rect x=\"2836.35\" y=\"1946.40\" width=\"106.55\" height=\"542.78\" style=\"fill:#CAC27E\"/>\n\t<rect x=\"2840.67\" y=\"1950.72\" width=\"97.91\" height=\"534.14\" style=\"fill:none;stroke:#D7D29E;stroke-width:8.64\"/>\n\t<rect x=\"2942.90\" y=\"2196.88\" width=\"106.67\" height=\"292.31\" style=\"fill:#CAC27E\"/>\n\t<rect x=\"2947.22\" y=\"2201.20\" width=\"98.03\" height=\"283.67\" style=\"fill:none;stroke:#D7D29E;stroke-width:8.64\"/>\n\t<rect x=\"3049.57\" y=\"2384.86\" width=\"106.55\" height=\"104.32\" style=\"fill:#CAC27E\"/>\n\t<rect x=\"3053.89\" y=\"2389.18\" width=\"97.91\" height=\"95.68\" style=\"fill:none;stroke:#D7D29E;stroke-width:8.64\"/>\n\t<rect x=\"3156.12\" y=\"2363.95\" width=\"106.55\" height=\"125.24\" style=\"fill:#CAC27E\"/>\n\t<rect x=\"3160.44\" y=\"2368.27\" width=\"97.91\" height=\"116.60\" style=\"fill:none;stroke:#D7D29E;stroke-width:8.64\"/>\n\t<rect x=\"3262.67\" y=\"2426.57\" width=\"106.67\" height=\"62.62\" style=\"fill:#CAC27E\"/>\n\t<rect x=\"3266.99\" y=\"2430.89\" width=\"98.03\" height=\"53.98\" style=\"fill:none;stroke:#D7D29E;stroke-width:8.64\"/>\n\t<rect x=\"3369.34\" y=\"2468.27\" width=\"106.55\" height=\"20.91\" style=\"fill:#CAC27E\"/>\n\t<rect x=\"3373.66\" y=\"2472.59\" width=\"97.91\" height=\"12.27\" style=\"fill:none;stroke:#D7D29E;stroke-width:8.64\"/>\n\t<rect x=\"3475.89\" y=\"2447.48\" width=\"106.67\" height=\"41.71\" style=\"fill:#CAC27E\"/>\n\t<rect x=\"3480.21\" y=\"2451.80\" width=\"98.03\" height=\"33.07\" style=\"fill:none;stroke:#D7D29E;stroke-width:8.64\"/>\n\t<rect x=\"3689.11\" y=\"2468.27\" width=\"106.55\" height=\"20.91\" style=\"fill:#CAC27E\"/>\n\t<rect x=\"3693.43\" y=\"2472.59\" width=\"97.91\" height=\"12.27\" style=\"fill:none;stroke:#D7D29E;stroke-width:8.64\"/>\n\t<line x1=\"390.80\" y1=\"2489.19\" x2=\"390.80\" y2=\"275.35\" style=\"stroke:#000000;stroke-width:5.76\"/>\n\t<line x1=\"390.80\" y1=\"2489.19\" x2=\"350.83\" y2=\"2489.19\" style=\"stroke:#000000;stroke-width:5.76\"/>\n\t<text x=\"300.72\" y=\"2489.19\" style=\"font-family:'Helvetica';font-size:99.99px;fill:#000000\" transform=\"rotate(-90 300.72,2489.19)\" text-anchor=\"middle\">0</text>\n\t<line x1=\"390.80\" y1=\"2071.64\" x2=\"350.83\" y2=\"2071.64\" style=\"stroke:#000000;stroke-width:5.76\"/>\n\t<text x=\"300.72\" y=\"2071.64\" style=\"font-family:'Helvetica';font-size:99.99px;fill:#000000\" transform=\"rotate(-90 300.72,2071.64)\" text-anchor=\"middle\">20</text>\n\t<line x1=\"390.80\" y1=\"1654.09\" x2=\"350.83\" y2=\"1654.09\" style=\"stroke:#000000;stroke-width:5.76\"/>\n\t<text x=\"300.72\" y=\"1654.09\" style=\"font-family:'Helvetica';font-size:99.99px;fill:#000000\" transform=\"rotate(-90 300.72,1654.09)\" text-anchor=\"middle\">40</text>\n\t<line x1=\"390.80\" y1=\"1236.55\" x2=\"350.83\" y2=\"1236.55\" style=\"stroke:#000000;stroke-width:5.76\"/>\n\t<text x=\"300.72\" y=\"1236.55\" style=\"font-family:'Helvetica';font-size:99.99px;fill:#000000\" transform=\"rotate(-90 300.72,1236.55)\" text-anchor=\"middle\">60</text>\n\t<line x1=\"390.80\" y1=\"818.88\" x2=\"350.83\" y2=\"818.88\" style=\"stroke:#000000;stroke-width:5.76\"/>\n\t<text x=\"300.72\" y=\"818.88\" style=\"font-family:'Helvetica';font-size:99.99px;fill:#000000\" transform=\"rotate(-90 300.72,818.88)\" text-anchor=\"middle\">80</text>\n\t<line x1=\"390.80\" y1=\"401.33\" x2=\"350.83\" y2=\"401.33\" style=\"stroke:#000000;stroke-width:5.76\"/>\n\t<text x=\"300.72\" y=\"401.33\" style=\"font-family:'Helvetica';font-size:99.99px;fill:#000000\" transform=\"rotate(-90 300.72,401.33)\" text-anchor=\"middle\">100</text>\n\t<text x=\"190.71\" y=\"1382.33\" style=\"font-family:'Helvetica';font-size:99.99px;fill:#000000\" transform=\"rotate(-90 190.71,1382.33)\" text-anchor=\"middle\">Frequency</text>\n\t<line x1=\"390.80\" y1=\"2489.19\" x2=\"3859.02\" y2=\"2489.19\" style=\"stroke:#000000;stroke-width:5.76\"/>\n\t<line x1=\"454.16\" y1=\"2489.19\" x2=\"454.16\" y2=\"2529.16\" style=\"stroke:#000000;stroke-width:5.76\"/>\n\t<text x=\"454.16\" y=\"2619.14\" style=\"font-family:'Helvetica';font-size:99.99px;fill:#000000\" text-anchor=\"middle\">10</text>\n\t<line x1=\"1263.86\" y1=\"2489.19\" x2=\"1263.86\" y2=\"2529.16\" style=\"stroke:#000000;stroke-width:5.76\"/>\n\t<text x=\"1263.86\" y=\"2619.14\" style=\"font-family:'Helvetica';font-size:99.99px;fill:#000000\" text-anchor=\"middle\">15</text>\n\t<line x1=\"2073.68\" y1=\"2489.19\" x2=\"2073.68\" y2=\"2529.16\" style=\"stroke:#000000;stroke-width:5.76\"/>\n\t<text x=\"2073.68\" y=\"2619.14\" style=\"font-family:'Helvetica';font-size:99.99px;fill:#000000\" text-anchor=\"middle\">20</text>\n\t<line x1=\"2883.38\" y1=\"2489.19\" x2=\"2883.38\" y2=\"2529.16\" style=\"stroke:#000000;stroke-width:5.76\"/>\n\t<text x=\"2883.38\" y=\"2619.14\" style=\"font-family:'Helvetica';font-size:99.99px;fill:#000000\" text-anchor=\"middle\">25</text>\n\t<line x1=\"3693.20\" y1=\"2489.19\" x2=\"3693.20\" y2=\"2529.16\" style=\"stroke:#000000;stroke-width:5.76\"/>\n\t<text x=\"3693.20\" y=\"2619.14\" style=\"font-family:'Helvetica';font-size:99.99px;fill:#000000\" text-anchor=\"middle\">30</text>\n\t<text x=\"2124.91\" y=\"2729.16\" style=\"font-family:'Helvetica';font-size:99.99px;fill:#000000\" text-anchor=\"middle\">antibody</text>\n\t<text x=\"2124.91\" y=\"215.98\" style=\"font-family:'Helvetica';font-size:139.96px;fill:#1E2D53\" text-anchor=\"middle\">Histogram of antibody (frequency)</text>\n</svg>\n",
      "text/html": [
       "                <iframe frameborder=\"0\" scrolling=\"no\" height=\"436\" width=\"600\"                srcdoc=\"<html><body>&lt;?xml version=&quot;1.0&quot; encoding=&quot;UTF-8&quot; standalone=&quot;no&quot;?&gt;\n",
       "&lt;!-- This is a Stata 16.1 generated SVG file (http://www.stata.com) --&gt;\n",
       "\n",
       "&lt;svg version=&quot;1.1&quot; width=&quot;600px&quot; height=&quot;436px&quot; viewBox=&quot;0 0 3960 2880&quot; xmlns=&quot;http://www.w3.org/2000/svg&quot; xmlns:xlink=&quot;http://www.w3.org/1999/xlink&quot;&gt;\n",
       "\t&lt;desc&gt;Stata Graph - Graph&lt;/desc&gt;\n",
       "\t&lt;rect x=&quot;0&quot; y=&quot;0&quot; width=&quot;3960&quot; height=&quot;2880&quot; style=&quot;fill:#EAF2F3;stroke:none&quot;/&gt;\n",
       "\t&lt;rect x=&quot;0.00&quot; y=&quot;0.00&quot; width=&quot;3959.88&quot; height=&quot;2880.00&quot; style=&quot;fill:#EAF2F3&quot;/&gt;\n",
       "\t&lt;rect x=&quot;2.88&quot; y=&quot;2.88&quot; width=&quot;3954.12&quot; height=&quot;2874.24&quot; style=&quot;fill:none;stroke:#EAF2F3;stroke-width:5.76&quot;/&gt;\n",
       "\t&lt;rect x=&quot;390.80&quot; y=&quot;275.35&quot; width=&quot;3468.22&quot; height=&quot;2213.83&quot; style=&quot;fill:#FFFFFF&quot;/&gt;\n",
       "\t&lt;rect x=&quot;393.68&quot; y=&quot;278.23&quot; width=&quot;3462.46&quot; height=&quot;2208.07&quot; style=&quot;fill:none;stroke:#FFFFFF;stroke-width:5.76&quot;/&gt;\n",
       "\t&lt;line x1=&quot;390.80&quot; y1=&quot;2489.19&quot; x2=&quot;3859.02&quot; y2=&quot;2489.19&quot; style=&quot;stroke:#EAF2F3;stroke-width:8.64&quot;/&gt;\n",
       "\t&lt;line x1=&quot;390.80&quot; y1=&quot;2071.64&quot; x2=&quot;3859.02&quot; y2=&quot;2071.64&quot; style=&quot;stroke:#EAF2F3;stroke-width:8.64&quot;/&gt;\n",
       "\t&lt;line x1=&quot;390.80&quot; y1=&quot;1654.09&quot; x2=&quot;3859.02&quot; y2=&quot;1654.09&quot; style=&quot;stroke:#EAF2F3;stroke-width:8.64&quot;/&gt;\n",
       "\t&lt;line x1=&quot;390.80&quot; y1=&quot;1236.55&quot; x2=&quot;3859.02&quot; y2=&quot;1236.55&quot; style=&quot;stroke:#EAF2F3;stroke-width:8.64&quot;/&gt;\n",
       "\t&lt;line x1=&quot;390.80&quot; y1=&quot;818.88&quot; x2=&quot;3859.02&quot; y2=&quot;818.88&quot; style=&quot;stroke:#EAF2F3;stroke-width:8.64&quot;/&gt;\n",
       "\t&lt;line x1=&quot;390.80&quot; y1=&quot;401.33&quot; x2=&quot;3859.02&quot; y2=&quot;401.33&quot; style=&quot;stroke:#EAF2F3;stroke-width:8.64&quot;/&gt;\n",
       "\t&lt;rect x=&quot;704.26&quot; y=&quot;2447.48&quot; width=&quot;106.67&quot; height=&quot;41.71&quot; style=&quot;fill:#CAC27E&quot;/&gt;\n",
       "\t&lt;rect x=&quot;708.58&quot; y=&quot;2451.80&quot; width=&quot;98.03&quot; height=&quot;33.07&quot; style=&quot;fill:none;stroke:#D7D29E;stroke-width:8.64&quot;/&gt;\n",
       "\t&lt;rect x=&quot;810.93&quot; y=&quot;2426.57&quot; width=&quot;106.55&quot; height=&quot;62.62&quot; style=&quot;fill:#CAC27E&quot;/&gt;\n",
       "\t&lt;rect x=&quot;815.25&quot; y=&quot;2430.89&quot; width=&quot;97.91&quot; height=&quot;53.98&quot; style=&quot;fill:none;stroke:#D7D29E;stroke-width:8.64&quot;/&gt;\n",
       "\t&lt;rect x=&quot;917.48&quot; y=&quot;2363.95&quot; width=&quot;106.67&quot; height=&quot;125.24&quot; style=&quot;fill:#CAC27E&quot;/&gt;\n",
       "\t&lt;rect x=&quot;921.80&quot; y=&quot;2368.27&quot; width=&quot;98.03&quot; height=&quot;116.60&quot; style=&quot;fill:none;stroke:#D7D29E;stroke-width:8.64&quot;/&gt;\n",
       "\t&lt;rect x=&quot;1024.15&quot; y=&quot;2301.33&quot; width=&quot;106.55&quot; height=&quot;187.86&quot; style=&quot;fill:#CAC27E&quot;/&gt;\n",
       "\t&lt;rect x=&quot;1028.47&quot; y=&quot;2305.65&quot; width=&quot;97.91&quot; height=&quot;179.22&quot; style=&quot;fill:none;stroke:#D7D29E;stroke-width:8.64&quot;/&gt;\n",
       "\t&lt;rect x=&quot;1130.70&quot; y=&quot;2217.79&quot; width=&quot;106.67&quot; height=&quot;271.39&quot; style=&quot;fill:#CAC27E&quot;/&gt;\n",
       "\t&lt;rect x=&quot;1135.02&quot; y=&quot;2222.11&quot; width=&quot;98.03&quot; height=&quot;262.75&quot; style=&quot;fill:none;stroke:#D7D29E;stroke-width:8.64&quot;/&gt;\n",
       "\t&lt;rect x=&quot;1237.38&quot; y=&quot;1946.40&quot; width=&quot;106.55&quot; height=&quot;542.78&quot; style=&quot;fill:#CAC27E&quot;/&gt;\n",
       "\t&lt;rect x=&quot;1241.70&quot; y=&quot;1950.72&quot; width=&quot;97.91&quot; height=&quot;534.14&quot; style=&quot;fill:none;stroke:#D7D29E;stroke-width:8.64&quot;/&gt;\n",
       "\t&lt;rect x=&quot;1343.92&quot; y=&quot;1779.33&quot; width=&quot;106.55&quot; height=&quot;709.85&quot; style=&quot;fill:#CAC27E&quot;/&gt;\n",
       "\t&lt;rect x=&quot;1348.24&quot; y=&quot;1783.65&quot; width=&quot;97.91&quot; height=&quot;701.21&quot; style=&quot;fill:none;stroke:#D7D29E;stroke-width:8.64&quot;/&gt;\n",
       "\t&lt;rect x=&quot;1450.47&quot; y=&quot;1654.09&quot; width=&quot;106.67&quot; height=&quot;835.09&quot; style=&quot;fill:#CAC27E&quot;/&gt;\n",
       "\t&lt;rect x=&quot;1454.79&quot; y=&quot;1658.41&quot; width=&quot;98.03&quot; height=&quot;826.45&quot; style=&quot;fill:none;stroke:#D7D29E;stroke-width:8.64&quot;/&gt;\n",
       "\t&lt;rect x=&quot;1557.15&quot; y=&quot;1361.79&quot; width=&quot;106.55&quot; height=&quot;1127.40&quot; style=&quot;fill:#CAC27E&quot;/&gt;\n",
       "\t&lt;rect x=&quot;1561.47&quot; y=&quot;1366.11&quot; width=&quot;97.91&quot; height=&quot;1118.76&quot; style=&quot;fill:none;stroke:#D7D29E;stroke-width:8.64&quot;/&gt;\n",
       "\t&lt;rect x=&quot;1663.69&quot; y=&quot;1006.86&quot; width=&quot;106.67&quot; height=&quot;1482.32&quot; style=&quot;fill:#CAC27E&quot;/&gt;\n",
       "\t&lt;rect x=&quot;1668.01&quot; y=&quot;1011.18&quot; width=&quot;98.03&quot; height=&quot;1473.68&quot; style=&quot;fill:none;stroke:#D7D29E;stroke-width:8.64&quot;/&gt;\n",
       "\t&lt;rect x=&quot;1770.37&quot; y=&quot;1048.57&quot; width=&quot;106.55&quot; height=&quot;1440.62&quot; style=&quot;fill:#CAC27E&quot;/&gt;\n",
       "\t&lt;rect x=&quot;1774.69&quot; y=&quot;1052.89&quot; width=&quot;97.91&quot; height=&quot;1431.98&quot; style=&quot;fill:none;stroke:#D7D29E;stroke-width:8.64&quot;/&gt;\n",
       "\t&lt;rect x=&quot;1876.92&quot; y=&quot;881.62&quot; width=&quot;106.55&quot; height=&quot;1607.56&quot; style=&quot;fill:#CAC27E&quot;/&gt;\n",
       "\t&lt;rect x=&quot;1881.24&quot; y=&quot;885.94&quot; width=&quot;97.91&quot; height=&quot;1598.92&quot; style=&quot;fill:none;stroke:#D7D29E;stroke-width:8.64&quot;/&gt;\n",
       "\t&lt;rect x=&quot;1983.46&quot; y=&quot;401.33&quot; width=&quot;106.67&quot; height=&quot;2087.85&quot; style=&quot;fill:#CAC27E&quot;/&gt;\n",
       "\t&lt;rect x=&quot;1987.78&quot; y=&quot;405.65&quot; width=&quot;98.03&quot; height=&quot;2079.21&quot; style=&quot;fill:none;stroke:#D7D29E;stroke-width:8.64&quot;/&gt;\n",
       "\t&lt;rect x=&quot;2090.14&quot; y=&quot;338.71&quot; width=&quot;106.55&quot; height=&quot;2150.47&quot; style=&quot;fill:#CAC27E&quot;/&gt;\n",
       "\t&lt;rect x=&quot;2094.46&quot; y=&quot;343.03&quot; width=&quot;97.91&quot; height=&quot;2141.83&quot; style=&quot;fill:none;stroke:#D7D29E;stroke-width:8.64&quot;/&gt;\n",
       "\t&lt;rect x=&quot;2196.69&quot; y=&quot;1027.65&quot; width=&quot;106.67&quot; height=&quot;1461.53&quot; style=&quot;fill:#CAC27E&quot;/&gt;\n",
       "\t&lt;rect x=&quot;2201.01&quot; y=&quot;1031.97&quot; width=&quot;98.03&quot; height=&quot;1452.89&quot; style=&quot;fill:none;stroke:#D7D29E;stroke-width:8.64&quot;/&gt;\n",
       "\t&lt;rect x=&quot;2303.36&quot; y=&quot;965.03&quot; width=&quot;106.55&quot; height=&quot;1524.15&quot; style=&quot;fill:#CAC27E&quot;/&gt;\n",
       "\t&lt;rect x=&quot;2307.68&quot; y=&quot;969.35&quot; width=&quot;97.91&quot; height=&quot;1515.51&quot; style=&quot;fill:none;stroke:#D7D29E;stroke-width:8.64&quot;/&gt;\n",
       "\t&lt;rect x=&quot;2409.91&quot; y=&quot;1153.01&quot; width=&quot;106.67&quot; height=&quot;1336.17&quot; style=&quot;fill:#CAC27E&quot;/&gt;\n",
       "\t&lt;rect x=&quot;2414.23&quot; y=&quot;1157.33&quot; width=&quot;98.03&quot; height=&quot;1327.53&quot; style=&quot;fill:none;stroke:#D7D29E;stroke-width:8.64&quot;/&gt;\n",
       "\t&lt;rect x=&quot;2516.58&quot; y=&quot;1528.86&quot; width=&quot;106.55&quot; height=&quot;960.33&quot; style=&quot;fill:#CAC27E&quot;/&gt;\n",
       "\t&lt;rect x=&quot;2520.90&quot; y=&quot;1533.18&quot; width=&quot;97.91&quot; height=&quot;951.69&quot; style=&quot;fill:none;stroke:#D7D29E;stroke-width:8.64&quot;/&gt;\n",
       "\t&lt;rect x=&quot;2623.13&quot; y=&quot;1299.17&quot; width=&quot;106.55&quot; height=&quot;1190.02&quot; style=&quot;fill:#CAC27E&quot;/&gt;\n",
       "\t&lt;rect x=&quot;2627.45&quot; y=&quot;1303.49&quot; width=&quot;97.91&quot; height=&quot;1181.38&quot; style=&quot;fill:none;stroke:#D7D29E;stroke-width:8.64&quot;/&gt;\n",
       "\t&lt;rect x=&quot;2729.68&quot; y=&quot;1967.19&quot; width=&quot;106.67&quot; height=&quot;521.99&quot; style=&quot;fill:#CAC27E&quot;/&gt;\n",
       "\t&lt;rect x=&quot;2734.00&quot; y=&quot;1971.51&quot; width=&quot;98.03&quot; height=&quot;513.35&quot; style=&quot;fill:none;stroke:#D7D29E;stroke-width:8.64&quot;/&gt;\n",
       "\t&lt;rect x=&quot;2836.35&quot; y=&quot;1946.40&quot; width=&quot;106.55&quot; height=&quot;542.78&quot; style=&quot;fill:#CAC27E&quot;/&gt;\n",
       "\t&lt;rect x=&quot;2840.67&quot; y=&quot;1950.72&quot; width=&quot;97.91&quot; height=&quot;534.14&quot; style=&quot;fill:none;stroke:#D7D29E;stroke-width:8.64&quot;/&gt;\n",
       "\t&lt;rect x=&quot;2942.90&quot; y=&quot;2196.88&quot; width=&quot;106.67&quot; height=&quot;292.31&quot; style=&quot;fill:#CAC27E&quot;/&gt;\n",
       "\t&lt;rect x=&quot;2947.22&quot; y=&quot;2201.20&quot; width=&quot;98.03&quot; height=&quot;283.67&quot; style=&quot;fill:none;stroke:#D7D29E;stroke-width:8.64&quot;/&gt;\n",
       "\t&lt;rect x=&quot;3049.57&quot; y=&quot;2384.86&quot; width=&quot;106.55&quot; height=&quot;104.32&quot; style=&quot;fill:#CAC27E&quot;/&gt;\n",
       "\t&lt;rect x=&quot;3053.89&quot; y=&quot;2389.18&quot; width=&quot;97.91&quot; height=&quot;95.68&quot; style=&quot;fill:none;stroke:#D7D29E;stroke-width:8.64&quot;/&gt;\n",
       "\t&lt;rect x=&quot;3156.12&quot; y=&quot;2363.95&quot; width=&quot;106.55&quot; height=&quot;125.24&quot; style=&quot;fill:#CAC27E&quot;/&gt;\n",
       "\t&lt;rect x=&quot;3160.44&quot; y=&quot;2368.27&quot; width=&quot;97.91&quot; height=&quot;116.60&quot; style=&quot;fill:none;stroke:#D7D29E;stroke-width:8.64&quot;/&gt;\n",
       "\t&lt;rect x=&quot;3262.67&quot; y=&quot;2426.57&quot; width=&quot;106.67&quot; height=&quot;62.62&quot; style=&quot;fill:#CAC27E&quot;/&gt;\n",
       "\t&lt;rect x=&quot;3266.99&quot; y=&quot;2430.89&quot; width=&quot;98.03&quot; height=&quot;53.98&quot; style=&quot;fill:none;stroke:#D7D29E;stroke-width:8.64&quot;/&gt;\n",
       "\t&lt;rect x=&quot;3369.34&quot; y=&quot;2468.27&quot; width=&quot;106.55&quot; height=&quot;20.91&quot; style=&quot;fill:#CAC27E&quot;/&gt;\n",
       "\t&lt;rect x=&quot;3373.66&quot; y=&quot;2472.59&quot; width=&quot;97.91&quot; height=&quot;12.27&quot; style=&quot;fill:none;stroke:#D7D29E;stroke-width:8.64&quot;/&gt;\n",
       "\t&lt;rect x=&quot;3475.89&quot; y=&quot;2447.48&quot; width=&quot;106.67&quot; height=&quot;41.71&quot; style=&quot;fill:#CAC27E&quot;/&gt;\n",
       "\t&lt;rect x=&quot;3480.21&quot; y=&quot;2451.80&quot; width=&quot;98.03&quot; height=&quot;33.07&quot; style=&quot;fill:none;stroke:#D7D29E;stroke-width:8.64&quot;/&gt;\n",
       "\t&lt;rect x=&quot;3689.11&quot; y=&quot;2468.27&quot; width=&quot;106.55&quot; height=&quot;20.91&quot; style=&quot;fill:#CAC27E&quot;/&gt;\n",
       "\t&lt;rect x=&quot;3693.43&quot; y=&quot;2472.59&quot; width=&quot;97.91&quot; height=&quot;12.27&quot; style=&quot;fill:none;stroke:#D7D29E;stroke-width:8.64&quot;/&gt;\n",
       "\t&lt;line x1=&quot;390.80&quot; y1=&quot;2489.19&quot; x2=&quot;390.80&quot; y2=&quot;275.35&quot; style=&quot;stroke:#000000;stroke-width:5.76&quot;/&gt;\n",
       "\t&lt;line x1=&quot;390.80&quot; y1=&quot;2489.19&quot; x2=&quot;350.83&quot; y2=&quot;2489.19&quot; style=&quot;stroke:#000000;stroke-width:5.76&quot;/&gt;\n",
       "\t&lt;text x=&quot;300.72&quot; y=&quot;2489.19&quot; style=&quot;font-family:&#x27;Helvetica&#x27;;font-size:99.99px;fill:#000000&quot; transform=&quot;rotate(-90 300.72,2489.19)&quot; text-anchor=&quot;middle&quot;&gt;0&lt;/text&gt;\n",
       "\t&lt;line x1=&quot;390.80&quot; y1=&quot;2071.64&quot; x2=&quot;350.83&quot; y2=&quot;2071.64&quot; style=&quot;stroke:#000000;stroke-width:5.76&quot;/&gt;\n",
       "\t&lt;text x=&quot;300.72&quot; y=&quot;2071.64&quot; style=&quot;font-family:&#x27;Helvetica&#x27;;font-size:99.99px;fill:#000000&quot; transform=&quot;rotate(-90 300.72,2071.64)&quot; text-anchor=&quot;middle&quot;&gt;20&lt;/text&gt;\n",
       "\t&lt;line x1=&quot;390.80&quot; y1=&quot;1654.09&quot; x2=&quot;350.83&quot; y2=&quot;1654.09&quot; style=&quot;stroke:#000000;stroke-width:5.76&quot;/&gt;\n",
       "\t&lt;text x=&quot;300.72&quot; y=&quot;1654.09&quot; style=&quot;font-family:&#x27;Helvetica&#x27;;font-size:99.99px;fill:#000000&quot; transform=&quot;rotate(-90 300.72,1654.09)&quot; text-anchor=&quot;middle&quot;&gt;40&lt;/text&gt;\n",
       "\t&lt;line x1=&quot;390.80&quot; y1=&quot;1236.55&quot; x2=&quot;350.83&quot; y2=&quot;1236.55&quot; style=&quot;stroke:#000000;stroke-width:5.76&quot;/&gt;\n",
       "\t&lt;text x=&quot;300.72&quot; y=&quot;1236.55&quot; style=&quot;font-family:&#x27;Helvetica&#x27;;font-size:99.99px;fill:#000000&quot; transform=&quot;rotate(-90 300.72,1236.55)&quot; text-anchor=&quot;middle&quot;&gt;60&lt;/text&gt;\n",
       "\t&lt;line x1=&quot;390.80&quot; y1=&quot;818.88&quot; x2=&quot;350.83&quot; y2=&quot;818.88&quot; style=&quot;stroke:#000000;stroke-width:5.76&quot;/&gt;\n",
       "\t&lt;text x=&quot;300.72&quot; y=&quot;818.88&quot; style=&quot;font-family:&#x27;Helvetica&#x27;;font-size:99.99px;fill:#000000&quot; transform=&quot;rotate(-90 300.72,818.88)&quot; text-anchor=&quot;middle&quot;&gt;80&lt;/text&gt;\n",
       "\t&lt;line x1=&quot;390.80&quot; y1=&quot;401.33&quot; x2=&quot;350.83&quot; y2=&quot;401.33&quot; style=&quot;stroke:#000000;stroke-width:5.76&quot;/&gt;\n",
       "\t&lt;text x=&quot;300.72&quot; y=&quot;401.33&quot; style=&quot;font-family:&#x27;Helvetica&#x27;;font-size:99.99px;fill:#000000&quot; transform=&quot;rotate(-90 300.72,401.33)&quot; text-anchor=&quot;middle&quot;&gt;100&lt;/text&gt;\n",
       "\t&lt;text x=&quot;190.71&quot; y=&quot;1382.33&quot; style=&quot;font-family:&#x27;Helvetica&#x27;;font-size:99.99px;fill:#000000&quot; transform=&quot;rotate(-90 190.71,1382.33)&quot; text-anchor=&quot;middle&quot;&gt;Frequency&lt;/text&gt;\n",
       "\t&lt;line x1=&quot;390.80&quot; y1=&quot;2489.19&quot; x2=&quot;3859.02&quot; y2=&quot;2489.19&quot; style=&quot;stroke:#000000;stroke-width:5.76&quot;/&gt;\n",
       "\t&lt;line x1=&quot;454.16&quot; y1=&quot;2489.19&quot; x2=&quot;454.16&quot; y2=&quot;2529.16&quot; style=&quot;stroke:#000000;stroke-width:5.76&quot;/&gt;\n",
       "\t&lt;text x=&quot;454.16&quot; y=&quot;2619.14&quot; style=&quot;font-family:&#x27;Helvetica&#x27;;font-size:99.99px;fill:#000000&quot; text-anchor=&quot;middle&quot;&gt;10&lt;/text&gt;\n",
       "\t&lt;line x1=&quot;1263.86&quot; y1=&quot;2489.19&quot; x2=&quot;1263.86&quot; y2=&quot;2529.16&quot; style=&quot;stroke:#000000;stroke-width:5.76&quot;/&gt;\n",
       "\t&lt;text x=&quot;1263.86&quot; y=&quot;2619.14&quot; style=&quot;font-family:&#x27;Helvetica&#x27;;font-size:99.99px;fill:#000000&quot; text-anchor=&quot;middle&quot;&gt;15&lt;/text&gt;\n",
       "\t&lt;line x1=&quot;2073.68&quot; y1=&quot;2489.19&quot; x2=&quot;2073.68&quot; y2=&quot;2529.16&quot; style=&quot;stroke:#000000;stroke-width:5.76&quot;/&gt;\n",
       "\t&lt;text x=&quot;2073.68&quot; y=&quot;2619.14&quot; style=&quot;font-family:&#x27;Helvetica&#x27;;font-size:99.99px;fill:#000000&quot; text-anchor=&quot;middle&quot;&gt;20&lt;/text&gt;\n",
       "\t&lt;line x1=&quot;2883.38&quot; y1=&quot;2489.19&quot; x2=&quot;2883.38&quot; y2=&quot;2529.16&quot; style=&quot;stroke:#000000;stroke-width:5.76&quot;/&gt;\n",
       "\t&lt;text x=&quot;2883.38&quot; y=&quot;2619.14&quot; style=&quot;font-family:&#x27;Helvetica&#x27;;font-size:99.99px;fill:#000000&quot; text-anchor=&quot;middle&quot;&gt;25&lt;/text&gt;\n",
       "\t&lt;line x1=&quot;3693.20&quot; y1=&quot;2489.19&quot; x2=&quot;3693.20&quot; y2=&quot;2529.16&quot; style=&quot;stroke:#000000;stroke-width:5.76&quot;/&gt;\n",
       "\t&lt;text x=&quot;3693.20&quot; y=&quot;2619.14&quot; style=&quot;font-family:&#x27;Helvetica&#x27;;font-size:99.99px;fill:#000000&quot; text-anchor=&quot;middle&quot;&gt;30&lt;/text&gt;\n",
       "\t&lt;text x=&quot;2124.91&quot; y=&quot;2729.16&quot; style=&quot;font-family:&#x27;Helvetica&#x27;;font-size:99.99px;fill:#000000&quot; text-anchor=&quot;middle&quot;&gt;antibody&lt;/text&gt;\n",
       "\t&lt;text x=&quot;2124.91&quot; y=&quot;215.98&quot; style=&quot;font-family:&#x27;Helvetica&#x27;;font-size:139.96px;fill:#1E2D53&quot; text-anchor=&quot;middle&quot;&gt;Histogram of antibody (frequency)&lt;/text&gt;\n",
       "&lt;/svg&gt;\n",
       "</body></html>\"></iframe>\n"
      ],
      "text/plain": [
       "This front-end cannot display the desired image type."
      ]
     },
     "metadata": {
      "image/svg+xml": {
       "height": 436,
       "width": 600
      },
      "text/html": {
       "height": 436,
       "width": 600
      }
     },
     "output_type": "display_data"
    },
    {
     "name": "stdout",
     "output_type": "stream",
     "text": [
      "\n"
     ]
    }
   ],
   "source": [
    "hist antibody, frequency title(\"Histogram of antibody (frequency)\")"
   ]
  },
  {
   "cell_type": "markdown",
   "metadata": {},
   "source": [
    "<div class=\"admonition question\">\n",
    "<p class=\"admonition-title\">\n",
    "Questions\n",
    "<p>\n",
    "<ul>\n",
    "  <li>How likely you could observe a person of having antibody greater than 32 in our sample? </li>\n",
    "  <li>Could you estimate the mean of our sample from the histogram we plot?</li>\n",
    "  <li>Is the histogram symmetric or skewed?</li>\n",
    "</ul>\n",
    "</div>"
   ]
  },
  {
   "cell_type": "markdown",
   "metadata": {},
   "source": [
    "## Who can take part in the clinical trails?\n",
    "\n",
    "We have generated `antibody` for our sample (1000 observations or people). However,\n",
    "we have not decided _who could take part the clinical trails_? When we develop\n",
    "the vaccine for Covid-19, we want people who take part the clinical trails \n",
    "to be _representative_. For instance, only _women_ or _men_ take part the \n",
    "clinical trails, it will not be representative. \n",
    "\n",
    "Now, we will generate two new variables:\n",
    "\n",
    "* age: people who are 18-60 years old can take part the clinical trials\n",
    "* gender: both men and women should be included in our sample with equal size"
   ]
  },
  {
   "cell_type": "markdown",
   "metadata": {},
   "source": [
    "### How should we generate `age` values for our sample? \n",
    "\n",
    "When we want to generate a new variable, we have to think about what kind of\n",
    "_reality_ we wane to emulate (match, imitate). For `antibody`, we assumes it \n",
    "follows _normal distribution_, that's why it has the bell curve like the following\n",
    "one. \n",
    "\n",
    "![iqbellcurve](https://i.kym-cdn.com/photos/images/facebook/002/031/358/75a.png)\n",
    "\n",
    "For `age`, we will follow demographic distribution of Germany. The following\n",
    "graph gives the age distribution of Germany in 2018. \n",
    "\n",
    "![agedistribution](https://upload.wikimedia.org/wikipedia/commons/d/d1/Germany_population_pyramid_%282018%29.jpg)\n",
    "\n",
    "From the above figure, we could see:\n",
    "\n",
    "* for people who are 18-50 years old, the size of population is similar\n",
    "* the population has more people who are 50-60 years old\n",
    "* we will just assume the size of population for 18-60 years old are same\n",
    "\n",
    "Therefore, we will assume that the population size for 15-60 years old follows\n",
    "the _uniform_ distribution, which has the following shape. \n",
    "\n",
    "<img src=\"https://upload.wikimedia.org/wikipedia/commons/thumb/9/96/Uniform_Distribution_PDF_SVG.svg/1200px-Uniform_Distribution_PDF_SVG.svg.png\" alt=\"uniform\" width=\"500\"/>\n"
   ]
  },
  {
   "cell_type": "code",
   "execution_count": 10,
   "metadata": {},
   "outputs": [],
   "source": [
    "// generate age between 18 - 60\n",
    "set seed 19201 \n",
    "generate age = floor((60-18+1)*runiform() + 18)"
   ]
  },
  {
   "cell_type": "markdown",
   "metadata": {},
   "source": [
    "In `Stata`, the uniform distribution is called via `runiform`. Since the variable\n",
    "age has to be __integer__, therefore, we need to use `floor` function to get the\n",
    "integer. "
   ]
  },
  {
   "cell_type": "code",
   "execution_count": 11,
   "metadata": {},
   "outputs": [
    {
     "name": "stdout",
     "output_type": "stream",
     "text": [
      ".45987925\n"
     ]
    }
   ],
   "source": [
    "display runiform()  // generate a random number from [0, 1]"
   ]
  },
  {
   "cell_type": "markdown",
   "metadata": {},
   "source": [
    "<div class=\"admonition warning\">\n",
    "<p class=\"admonition-title\">\n",
    "Warning\n",
    "<p>\n",
    "When you run runiform() on your computer, the number will be different as\n",
    "each number was generatred <b>randomly</b> from [0, 1]. \n",
    "</p>\n",
    "</div>"
   ]
  },
  {
   "cell_type": "code",
   "execution_count": 12,
   "metadata": {},
   "outputs": [
    {
     "name": "stdout",
     "output_type": "stream",
     "text": [
      ".70828883\n"
     ]
    }
   ],
   "source": [
    "display runiform() * 10  // 10 times a random number from [0, 1]"
   ]
  },
  {
   "cell_type": "code",
   "execution_count": 13,
   "metadata": {},
   "outputs": [
    {
     "name": "stdout",
     "output_type": "stream",
     "text": [
      "\n",
      "55.513\n",
      "\n",
      "25\n"
     ]
    }
   ],
   "source": [
    "display (60-18+1)*runiform() + 18  // generate age from 18-60\n",
    "display floor((60-18+1)*runiform() + 18)  // use floor to get the integer"
   ]
  },
  {
   "cell_type": "code",
   "execution_count": 14,
   "metadata": {},
   "outputs": [
    {
     "name": "stdout",
     "output_type": "stream",
     "text": [
      "\n",
      "     +----------------+\n",
      "     | antibody   age |\n",
      "     |----------------|\n",
      "  1. | 18.25307    58 |\n",
      "  2. | 16.46375    43 |\n",
      "  3. | 22.61064    49 |\n",
      "  4. | 16.88403    40 |\n",
      "  5. | 20.63522    24 |\n",
      "     |----------------|\n",
      "  6. | 20.68504    43 |\n",
      "  7. | 22.81262    19 |\n",
      "  8. | 21.36884    53 |\n",
      "  9. |  18.1802    59 |\n",
      " 10. | 17.53478    56 |\n",
      "     +----------------+\n"
     ]
    }
   ],
   "source": [
    "// now we will list the first 10 observations of age\n",
    "list antibody age in f/10"
   ]
  },
  {
   "cell_type": "code",
   "execution_count": 15,
   "metadata": {},
   "outputs": [
    {
     "name": "stdout",
     "output_type": "stream",
     "text": [
      "\n",
      "Contains data\n",
      "  obs:         1,000                          \n",
      " vars:             2                          \n",
      "--------------------------------------------------------------------------------\n",
      "              storage   display    value\n",
      "variable name   type    format     label      variable label\n",
      "--------------------------------------------------------------------------------\n",
      "antibody        float   %9.0g                 \n",
      "age             float   %9.0g                 \n",
      "--------------------------------------------------------------------------------\n",
      "Sorted by: \n",
      "     Note: Dataset has changed since last saved.\n"
     ]
    }
   ],
   "source": [
    "// we could distribe our dataset\n",
    "describe"
   ]
  },
  {
   "cell_type": "markdown",
   "metadata": {},
   "source": [
    "Now, we have 2 variables (`antibody` and `age`) and 1000 observations for each\n",
    "variable. In Stata, one could also `label` the dataset. "
   ]
  },
  {
   "cell_type": "code",
   "execution_count": 16,
   "metadata": {},
   "outputs": [],
   "source": [
    "label variable antibody \"amount of antibody\"\n",
    "label variable age \"value of age\""
   ]
  },
  {
   "cell_type": "markdown",
   "metadata": {},
   "source": [
    "Once we `label` them, we could see the description when we `describe` the \n",
    "dataset again. "
   ]
  },
  {
   "cell_type": "code",
   "execution_count": 17,
   "metadata": {},
   "outputs": [
    {
     "name": "stdout",
     "output_type": "stream",
     "text": [
      "\n",
      "Contains data\n",
      "  obs:         1,000                          \n",
      " vars:             2                          \n",
      "--------------------------------------------------------------------------------\n",
      "              storage   display    value\n",
      "variable name   type    format     label      variable label\n",
      "--------------------------------------------------------------------------------\n",
      "antibody        float   %9.0g                 amount of antibody\n",
      "age             float   %9.0g                 value of age\n",
      "--------------------------------------------------------------------------------\n",
      "Sorted by: \n",
      "     Note: Dataset has changed since last saved.\n"
     ]
    }
   ],
   "source": [
    "describe"
   ]
  },
  {
   "cell_type": "markdown",
   "metadata": {},
   "source": [
    "### Generate variable `gender` for our sample\n",
    "\n",
    "Now, we will generate `gender` for our dataset. Since computer 'feels' comfortable\n",
    "for dealing with numbers, we will:\n",
    "\n",
    "* use number 1 to represent _female_ (or code female as 1)\n",
    "* use number 0 to represent _male_ (or code male as 0)\n",
    "\n",
    "We will use `runiform` to generate values for `gender`. We use uniform distribution\n",
    "becaus it is equally likely to be female or male. "
   ]
  },
  {
   "cell_type": "code",
   "execution_count": 18,
   "metadata": {},
   "outputs": [
    {
     "name": "stdout",
     "output_type": "stream",
     "text": [
      "(525 missing values generated)\n"
     ]
    }
   ],
   "source": [
    "// generate gender\n",
    "generate gender = 1 if runiform() >= 0.5"
   ]
  },
  {
   "cell_type": "code",
   "execution_count": 19,
   "metadata": {},
   "outputs": [
    {
     "name": "stdout",
     "output_type": "stream",
     "text": [
      "\n",
      "     +--------+\n",
      "     | gender |\n",
      "     |--------|\n",
      "  1. |      . |\n",
      "  2. |      . |\n",
      "  3. |      1 |\n",
      "  4. |      1 |\n",
      "  5. |      . |\n",
      "     |--------|\n",
      "  6. |      1 |\n",
      "  7. |      . |\n",
      "  8. |      . |\n",
      "  9. |      . |\n",
      " 10. |      1 |\n",
      "     +--------+\n"
     ]
    }
   ],
   "source": [
    "list gender in f/10"
   ]
  },
  {
   "cell_type": "markdown",
   "metadata": {},
   "source": [
    "<div class=\"admonition note\">\n",
    "<p class=\"admonition-title\">\n",
    "Note\n",
    "</p>\n",
    "It is important to know that Stata uses dot (.) to represent the missing values.\n",
    "</div>"
   ]
  },
  {
   "cell_type": "code",
   "execution_count": 20,
   "metadata": {},
   "outputs": [
    {
     "name": "stdout",
     "output_type": "stream",
     "text": [
      "(525 real changes made)\n"
     ]
    }
   ],
   "source": [
    "// replace missing values \n",
    "replace gender = 0 if missing(gender)"
   ]
  },
  {
   "cell_type": "code",
   "execution_count": 21,
   "metadata": {},
   "outputs": [
    {
     "name": "stdout",
     "output_type": "stream",
     "text": [
      "\n",
      "     +--------+\n",
      "     | gender |\n",
      "     |--------|\n",
      "  1. |      0 |\n",
      "  2. |      0 |\n",
      "  3. |      1 |\n",
      "  4. |      1 |\n",
      "  5. |      0 |\n",
      "     |--------|\n",
      "  6. |      1 |\n",
      "  7. |      0 |\n",
      "  8. |      0 |\n",
      "  9. |      0 |\n",
      " 10. |      1 |\n",
      "     +--------+\n"
     ]
    }
   ],
   "source": [
    "list gender in f/10"
   ]
  },
  {
   "cell_type": "code",
   "execution_count": 22,
   "metadata": {},
   "outputs": [],
   "source": [
    "// label gender \n",
    "label variable gender \"female = 1, male = 0 \""
   ]
  },
  {
   "cell_type": "code",
   "execution_count": 23,
   "metadata": {},
   "outputs": [
    {
     "name": "stdout",
     "output_type": "stream",
     "text": [
      "\n",
      "Contains data\n",
      "  obs:         1,000                          \n",
      " vars:             3                          \n",
      "--------------------------------------------------------------------------------\n",
      "              storage   display    value\n",
      "variable name   type    format     label      variable label\n",
      "--------------------------------------------------------------------------------\n",
      "antibody        float   %9.0g                 amount of antibody\n",
      "age             float   %9.0g                 value of age\n",
      "gender          float   %9.0g                 female = 1, male = 0\n",
      "--------------------------------------------------------------------------------\n",
      "Sorted by: \n",
      "     Note: Dataset has changed since last saved.\n"
     ]
    }
   ],
   "source": [
    "// describe our dataset again\n",
    "describe"
   ]
  },
  {
   "cell_type": "code",
   "execution_count": 24,
   "metadata": {},
   "outputs": [
    {
     "name": "stdout",
     "output_type": "stream",
     "text": [
      "\n",
      "    Variable |        Obs        Mean    Std. Dev.       Min        Max\n",
      "-------------+---------------------------------------------------------\n",
      "    antibody |      1,000    20.08761    2.923729   11.54476   30.63326\n",
      "         age |      1,000      39.169     13.0362         18         60\n",
      "      gender |      1,000        .475    .4996245          0          1\n"
     ]
    }
   ],
   "source": [
    "// summarize our dataset\n",
    "summarize"
   ]
  },
  {
   "cell_type": "markdown",
   "metadata": {},
   "source": [
    "Now, we will visualize our dataset to have a big picture. \n",
    "\n",
    "<div class=\"admonition tip\">\n",
    "<p class=\"admonition-title\">\n",
    "Tips\n",
    "</p>\n",
    "In the future, before doing any statistical or regression analysis, please \n",
    "try to visualize your dataset to get:\n",
    "\n",
    "<ul>\n",
    "<li>The relationship between different variables</li>\n",
    "<li>The general trend of variable</li>\n",
    "</ul>\n",
    "</div>"
   ]
  },
  {
   "cell_type": "code",
   "execution_count": 25,
   "metadata": {},
   "outputs": [
    {
     "data": {
      "application/pdf": "[encoded data removed]",
      "image/svg+xml": "<?xml version=\"1.0\" encoding=\"UTF-8\" standalone=\"no\"?>\n<!-- This is a Stata 16.1 generated SVG file (http://www.stata.com) -->\n\n<svg version=\"1.1\" width=\"600px\" height=\"436px\" viewBox=\"0 0 3960 2880\" xmlns=\"http://www.w3.org/2000/svg\" xmlns:xlink=\"http://www.w3.org/1999/xlink\">\n\t<desc>Stata Graph - Graph</desc>\n\t<rect x=\"0\" y=\"0\" width=\"3960\" height=\"2880\" style=\"fill:#EAF2F3;stroke:none\"/>\n\t<rect x=\"0.00\" y=\"0.00\" width=\"3959.88\" height=\"2880.00\" style=\"fill:#EAF2F3\"/>\n\t<rect x=\"2.88\" y=\"2.88\" width=\"3954.12\" height=\"2874.24\" style=\"fill:none;stroke:#EAF2F3;stroke-width:5.76\"/>\n\t<rect x=\"388.33\" y=\"406.66\" width=\"1683.50\" height=\"1970.41\" style=\"fill:#FFFFFF\"/>\n\t<rect x=\"390.78\" y=\"409.10\" width=\"1678.60\" height=\"1965.51\" style=\"fill:none;stroke:#FFFFFF;stroke-width:4.90\"/>\n\t<line x1=\"388.33\" y1=\"2377.06\" x2=\"2071.82\" y2=\"2377.06\" style=\"stroke:#EAF2F3;stroke-width:7.34\"/>\n\t<line x1=\"388.33\" y1=\"1897.89\" x2=\"2071.82\" y2=\"1897.89\" style=\"stroke:#EAF2F3;stroke-width:7.34\"/>\n\t<line x1=\"388.33\" y1=\"1418.84\" x2=\"2071.82\" y2=\"1418.84\" style=\"stroke:#EAF2F3;stroke-width:7.34\"/>\n\t<line x1=\"388.33\" y1=\"939.66\" x2=\"2071.82\" y2=\"939.66\" style=\"stroke:#EAF2F3;stroke-width:7.34\"/>\n\t<line x1=\"388.33\" y1=\"460.49\" x2=\"2071.82\" y2=\"460.49\" style=\"stroke:#EAF2F3;stroke-width:7.34\"/>\n\t<rect x=\"2141.00\" y=\"406.66\" width=\"1683.49\" height=\"1970.41\" style=\"fill:#FFFFFF\"/>\n\t<rect x=\"2143.45\" y=\"409.10\" width=\"1678.60\" height=\"1965.51\" style=\"fill:none;stroke:#FFFFFF;stroke-width:4.90\"/>\n\t<line x1=\"2141.00\" y1=\"2377.06\" x2=\"3824.49\" y2=\"2377.06\" style=\"stroke:#EAF2F3;stroke-width:7.34\"/>\n\t<line x1=\"2141.00\" y1=\"1897.89\" x2=\"3824.49\" y2=\"1897.89\" style=\"stroke:#EAF2F3;stroke-width:7.34\"/>\n\t<line x1=\"2141.00\" y1=\"1418.84\" x2=\"3824.49\" y2=\"1418.84\" style=\"stroke:#EAF2F3;stroke-width:7.34\"/>\n\t<line x1=\"2141.00\" y1=\"939.66\" x2=\"3824.49\" y2=\"939.66\" style=\"stroke:#EAF2F3;stroke-width:7.34\"/>\n\t<line x1=\"2141.00\" y1=\"460.49\" x2=\"3824.49\" y2=\"460.49\" style=\"stroke:#EAF2F3;stroke-width:7.34\"/>\n\t<rect x=\"468.89\" y=\"1083.34\" width=\"53.46\" height=\"1293.72\" style=\"fill:#CAC27E\"/>\n\t<rect x=\"472.56\" y=\"1087.01\" width=\"46.12\" height=\"1286.38\" style=\"fill:none;stroke:#D7D29E;stroke-width:7.34\"/>\n\t<rect x=\"522.35\" y=\"2137.48\" width=\"53.34\" height=\"239.59\" style=\"fill:#CAC27E\"/>\n\t<rect x=\"526.02\" y=\"2141.15\" width=\"45.99\" height=\"232.24\" style=\"fill:none;stroke:#D7D29E;stroke-width:7.34\"/>\n\t<rect x=\"575.68\" y=\"1131.23\" width=\"53.46\" height=\"1245.83\" style=\"fill:#CAC27E\"/>\n\t<rect x=\"579.36\" y=\"1134.91\" width=\"46.12\" height=\"1238.49\" style=\"fill:none;stroke:#D7D29E;stroke-width:7.34\"/>\n\t<rect x=\"629.14\" y=\"1658.43\" width=\"53.46\" height=\"718.64\" style=\"fill:#CAC27E\"/>\n\t<rect x=\"632.82\" y=\"1662.10\" width=\"46.12\" height=\"711.29\" style=\"fill:none;stroke:#D7D29E;stroke-width:7.34\"/>\n\t<rect x=\"682.61\" y=\"747.97\" width=\"53.34\" height=\"1629.10\" style=\"fill:#CAC27E\"/>\n\t<rect x=\"686.28\" y=\"751.64\" width=\"45.99\" height=\"1621.75\" style=\"fill:none;stroke:#D7D29E;stroke-width:7.34\"/>\n\t<rect x=\"735.94\" y=\"1945.91\" width=\"53.46\" height=\"431.16\" style=\"fill:#CAC27E\"/>\n\t<rect x=\"739.61\" y=\"1949.58\" width=\"46.12\" height=\"423.81\" style=\"fill:none;stroke:#D7D29E;stroke-width:7.34\"/>\n\t<rect x=\"789.40\" y=\"939.66\" width=\"53.46\" height=\"1437.40\" style=\"fill:#CAC27E\"/>\n\t<rect x=\"793.07\" y=\"943.33\" width=\"46.12\" height=\"1430.06\" style=\"fill:none;stroke:#D7D29E;stroke-width:7.34\"/>\n\t<rect x=\"842.86\" y=\"1802.10\" width=\"53.34\" height=\"574.96\" style=\"fill:#CAC27E\"/>\n\t<rect x=\"846.53\" y=\"1805.78\" width=\"45.99\" height=\"567.62\" style=\"fill:none;stroke:#D7D29E;stroke-width:7.34\"/>\n\t<rect x=\"896.20\" y=\"1179.25\" width=\"53.46\" height=\"1197.81\" style=\"fill:#CAC27E\"/>\n\t<rect x=\"899.87\" y=\"1182.92\" width=\"46.12\" height=\"1190.47\" style=\"fill:none;stroke:#D7D29E;stroke-width:7.34\"/>\n\t<rect x=\"949.66\" y=\"1993.80\" width=\"53.46\" height=\"383.27\" style=\"fill:#CAC27E\"/>\n\t<rect x=\"953.33\" y=\"1997.47\" width=\"46.12\" height=\"375.92\" style=\"fill:none;stroke:#D7D29E;stroke-width:7.34\"/>\n\t<rect x=\"1003.12\" y=\"1897.89\" width=\"53.34\" height=\"479.17\" style=\"fill:#CAC27E\"/>\n\t<rect x=\"1006.79\" y=\"1901.56\" width=\"45.99\" height=\"471.83\" style=\"fill:none;stroke:#D7D29E;stroke-width:7.34\"/>\n\t<rect x=\"1056.45\" y=\"1610.41\" width=\"53.46\" height=\"766.66\" style=\"fill:#CAC27E\"/>\n\t<rect x=\"1060.13\" y=\"1614.08\" width=\"46.12\" height=\"759.31\" style=\"fill:none;stroke:#D7D29E;stroke-width:7.34\"/>\n\t<rect x=\"1109.91\" y=\"1658.43\" width=\"53.46\" height=\"718.64\" style=\"fill:#CAC27E\"/>\n\t<rect x=\"1113.59\" y=\"1662.10\" width=\"46.12\" height=\"711.29\" style=\"fill:none;stroke:#D7D29E;stroke-width:7.34\"/>\n\t<rect x=\"1163.37\" y=\"1131.23\" width=\"53.34\" height=\"1245.83\" style=\"fill:#CAC27E\"/>\n\t<rect x=\"1167.05\" y=\"1134.91\" width=\"45.99\" height=\"1238.49\" style=\"fill:none;stroke:#D7D29E;stroke-width:7.34\"/>\n\t<rect x=\"1216.71\" y=\"1706.32\" width=\"53.46\" height=\"670.75\" style=\"fill:#CAC27E\"/>\n\t<rect x=\"1220.38\" y=\"1709.99\" width=\"46.12\" height=\"663.40\" style=\"fill:none;stroke:#D7D29E;stroke-width:7.34\"/>\n\t<rect x=\"1270.17\" y=\"1179.25\" width=\"53.46\" height=\"1197.81\" style=\"fill:#CAC27E\"/>\n\t<rect x=\"1273.84\" y=\"1182.92\" width=\"46.12\" height=\"1190.47\" style=\"fill:none;stroke:#D7D29E;stroke-width:7.34\"/>\n\t<rect x=\"1323.63\" y=\"2041.69\" width=\"53.34\" height=\"335.37\" style=\"fill:#CAC27E\"/>\n\t<rect x=\"1327.30\" y=\"2045.36\" width=\"45.99\" height=\"328.03\" style=\"fill:none;stroke:#D7D29E;stroke-width:7.34\"/>\n\t<rect x=\"1376.97\" y=\"1227.14\" width=\"53.46\" height=\"1149.92\" style=\"fill:#CAC27E\"/>\n\t<rect x=\"1380.64\" y=\"1230.82\" width=\"46.12\" height=\"1142.58\" style=\"fill:none;stroke:#D7D29E;stroke-width:7.34\"/>\n\t<rect x=\"1430.43\" y=\"1945.91\" width=\"53.46\" height=\"431.16\" style=\"fill:#CAC27E\"/>\n\t<rect x=\"1434.10\" y=\"1949.58\" width=\"46.12\" height=\"423.81\" style=\"fill:none;stroke:#D7D29E;stroke-width:7.34\"/>\n\t<rect x=\"1483.89\" y=\"2137.48\" width=\"53.34\" height=\"239.59\" style=\"fill:#CAC27E\"/>\n\t<rect x=\"1487.56\" y=\"2141.15\" width=\"45.99\" height=\"232.24\" style=\"fill:none;stroke:#D7D29E;stroke-width:7.34\"/>\n\t<rect x=\"1537.22\" y=\"1802.10\" width=\"53.46\" height=\"574.96\" style=\"fill:#CAC27E\"/>\n\t<rect x=\"1540.89\" y=\"1805.78\" width=\"46.12\" height=\"567.62\" style=\"fill:none;stroke:#D7D29E;stroke-width:7.34\"/>\n\t<rect x=\"1590.68\" y=\"1418.84\" width=\"53.46\" height=\"958.23\" style=\"fill:#CAC27E\"/>\n\t<rect x=\"1594.35\" y=\"1422.51\" width=\"46.12\" height=\"950.88\" style=\"fill:none;stroke:#D7D29E;stroke-width:7.34\"/>\n\t<rect x=\"1644.14\" y=\"1227.14\" width=\"53.34\" height=\"1149.92\" style=\"fill:#CAC27E\"/>\n\t<rect x=\"1647.81\" y=\"1230.82\" width=\"45.99\" height=\"1142.58\" style=\"fill:none;stroke:#D7D29E;stroke-width:7.34\"/>\n\t<rect x=\"1697.48\" y=\"1945.91\" width=\"53.46\" height=\"431.16\" style=\"fill:#CAC27E\"/>\n\t<rect x=\"1701.15\" y=\"1949.58\" width=\"46.12\" height=\"423.81\" style=\"fill:none;stroke:#D7D29E;stroke-width:7.34\"/>\n\t<rect x=\"1750.94\" y=\"1179.25\" width=\"53.46\" height=\"1197.81\" style=\"fill:#CAC27E\"/>\n\t<rect x=\"1754.61\" y=\"1182.92\" width=\"46.12\" height=\"1190.47\" style=\"fill:none;stroke:#D7D29E;stroke-width:7.34\"/>\n\t<rect x=\"1804.40\" y=\"1658.43\" width=\"53.34\" height=\"718.64\" style=\"fill:#CAC27E\"/>\n\t<rect x=\"1808.07\" y=\"1662.10\" width=\"45.99\" height=\"711.29\" style=\"fill:none;stroke:#D7D29E;stroke-width:7.34\"/>\n\t<rect x=\"1857.73\" y=\"1035.45\" width=\"53.46\" height=\"1341.62\" style=\"fill:#CAC27E\"/>\n\t<rect x=\"1861.41\" y=\"1039.12\" width=\"46.12\" height=\"1334.27\" style=\"fill:none;stroke:#D7D29E;stroke-width:7.34\"/>\n\t<rect x=\"1911.19\" y=\"1658.43\" width=\"53.46\" height=\"718.64\" style=\"fill:#CAC27E\"/>\n\t<rect x=\"1914.87\" y=\"1662.10\" width=\"46.12\" height=\"711.29\" style=\"fill:none;stroke:#D7D29E;stroke-width:7.34\"/>\n\t<rect x=\"1964.65\" y=\"700.08\" width=\"53.34\" height=\"1676.99\" style=\"fill:#CAC27E\"/>\n\t<rect x=\"1968.33\" y=\"703.75\" width=\"45.99\" height=\"1669.64\" style=\"fill:none;stroke:#D7D29E;stroke-width:7.34\"/>\n\t<rect x=\"2221.56\" y=\"1083.34\" width=\"53.46\" height=\"1293.72\" style=\"fill:#CAC27E\"/>\n\t<rect x=\"2225.23\" y=\"1087.01\" width=\"46.12\" height=\"1286.38\" style=\"fill:none;stroke:#D7D29E;stroke-width:7.34\"/>\n\t<rect x=\"2275.02\" y=\"1850.00\" width=\"53.34\" height=\"527.07\" style=\"fill:#CAC27E\"/>\n\t<rect x=\"2278.69\" y=\"1853.67\" width=\"45.99\" height=\"519.72\" style=\"fill:none;stroke:#D7D29E;stroke-width:7.34\"/>\n\t<rect x=\"2328.36\" y=\"1131.23\" width=\"53.46\" height=\"1245.83\" style=\"fill:#CAC27E\"/>\n\t<rect x=\"2332.03\" y=\"1134.91\" width=\"46.12\" height=\"1238.49\" style=\"fill:none;stroke:#D7D29E;stroke-width:7.34\"/>\n\t<rect x=\"2381.82\" y=\"1945.91\" width=\"53.46\" height=\"431.16\" style=\"fill:#CAC27E\"/>\n\t<rect x=\"2385.49\" y=\"1949.58\" width=\"46.12\" height=\"423.81\" style=\"fill:none;stroke:#D7D29E;stroke-width:7.34\"/>\n\t<rect x=\"2435.28\" y=\"1418.84\" width=\"53.34\" height=\"958.23\" style=\"fill:#CAC27E\"/>\n\t<rect x=\"2438.95\" y=\"1422.51\" width=\"45.99\" height=\"950.88\" style=\"fill:none;stroke:#D7D29E;stroke-width:7.34\"/>\n\t<rect x=\"2488.61\" y=\"1514.62\" width=\"53.46\" height=\"862.44\" style=\"fill:#CAC27E\"/>\n\t<rect x=\"2492.28\" y=\"1518.30\" width=\"46.12\" height=\"855.10\" style=\"fill:none;stroke:#D7D29E;stroke-width:7.34\"/>\n\t<rect x=\"2542.07\" y=\"891.77\" width=\"53.46\" height=\"1485.29\" style=\"fill:#CAC27E\"/>\n\t<rect x=\"2545.74\" y=\"895.44\" width=\"46.12\" height=\"1477.95\" style=\"fill:none;stroke:#D7D29E;stroke-width:7.34\"/>\n\t<rect x=\"2595.53\" y=\"2089.58\" width=\"53.34\" height=\"287.48\" style=\"fill:#CAC27E\"/>\n\t<rect x=\"2599.20\" y=\"2093.26\" width=\"45.99\" height=\"280.14\" style=\"fill:none;stroke:#D7D29E;stroke-width:7.34\"/>\n\t<rect x=\"2648.87\" y=\"1322.93\" width=\"53.46\" height=\"1054.14\" style=\"fill:#CAC27E\"/>\n\t<rect x=\"2652.54\" y=\"1326.60\" width=\"46.12\" height=\"1046.79\" style=\"fill:none;stroke:#D7D29E;stroke-width:7.34\"/>\n\t<rect x=\"2702.33\" y=\"1993.80\" width=\"53.46\" height=\"383.27\" style=\"fill:#CAC27E\"/>\n\t<rect x=\"2706.00\" y=\"1997.47\" width=\"46.12\" height=\"375.92\" style=\"fill:none;stroke:#D7D29E;stroke-width:7.34\"/>\n\t<rect x=\"2755.79\" y=\"1850.00\" width=\"53.34\" height=\"527.07\" style=\"fill:#CAC27E\"/>\n\t<rect x=\"2759.46\" y=\"1853.67\" width=\"45.99\" height=\"519.72\" style=\"fill:none;stroke:#D7D29E;stroke-width:7.34\"/>\n\t<rect x=\"2809.12\" y=\"1610.41\" width=\"53.46\" height=\"766.66\" style=\"fill:#CAC27E\"/>\n\t<rect x=\"2812.80\" y=\"1614.08\" width=\"46.12\" height=\"759.31\" style=\"fill:none;stroke:#D7D29E;stroke-width:7.34\"/>\n\t<rect x=\"2862.59\" y=\"1897.89\" width=\"53.46\" height=\"479.17\" style=\"fill:#CAC27E\"/>\n\t<rect x=\"2866.26\" y=\"1901.56\" width=\"46.12\" height=\"471.83\" style=\"fill:none;stroke:#D7D29E;stroke-width:7.34\"/>\n\t<rect x=\"2916.05\" y=\"1706.32\" width=\"53.34\" height=\"670.75\" style=\"fill:#CAC27E\"/>\n\t<rect x=\"2919.72\" y=\"1709.99\" width=\"45.99\" height=\"663.40\" style=\"fill:none;stroke:#D7D29E;stroke-width:7.34\"/>\n\t<rect x=\"2969.38\" y=\"1897.89\" width=\"53.46\" height=\"479.17\" style=\"fill:#CAC27E\"/>\n\t<rect x=\"2973.05\" y=\"1901.56\" width=\"46.12\" height=\"471.83\" style=\"fill:none;stroke:#D7D29E;stroke-width:7.34\"/>\n\t<rect x=\"3022.84\" y=\"1370.82\" width=\"53.34\" height=\"1006.24\" style=\"fill:#CAC27E\"/>\n\t<rect x=\"3026.51\" y=\"1374.49\" width=\"45.99\" height=\"998.90\" style=\"fill:none;stroke:#D7D29E;stroke-width:7.34\"/>\n\t<rect x=\"3076.18\" y=\"1897.89\" width=\"53.46\" height=\"479.17\" style=\"fill:#CAC27E\"/>\n\t<rect x=\"3079.85\" y=\"1901.56\" width=\"46.12\" height=\"471.83\" style=\"fill:none;stroke:#D7D29E;stroke-width:7.34\"/>\n\t<rect x=\"3129.64\" y=\"1466.73\" width=\"53.46\" height=\"910.33\" style=\"fill:#CAC27E\"/>\n\t<rect x=\"3133.31\" y=\"1470.40\" width=\"46.12\" height=\"902.99\" style=\"fill:none;stroke:#D7D29E;stroke-width:7.34\"/>\n\t<rect x=\"3183.10\" y=\"2089.58\" width=\"53.34\" height=\"287.48\" style=\"fill:#CAC27E\"/>\n\t<rect x=\"3186.77\" y=\"2093.26\" width=\"45.99\" height=\"280.14\" style=\"fill:none;stroke:#D7D29E;stroke-width:7.34\"/>\n\t<rect x=\"3236.43\" y=\"1754.21\" width=\"53.46\" height=\"622.85\" style=\"fill:#CAC27E\"/>\n\t<rect x=\"3240.11\" y=\"1757.88\" width=\"46.12\" height=\"615.51\" style=\"fill:none;stroke:#D7D29E;stroke-width:7.34\"/>\n\t<rect x=\"3289.89\" y=\"1514.62\" width=\"53.46\" height=\"862.44\" style=\"fill:#CAC27E\"/>\n\t<rect x=\"3293.57\" y=\"1518.30\" width=\"46.12\" height=\"855.10\" style=\"fill:none;stroke:#D7D29E;stroke-width:7.34\"/>\n\t<rect x=\"3343.35\" y=\"1993.80\" width=\"53.34\" height=\"383.27\" style=\"fill:#CAC27E\"/>\n\t<rect x=\"3347.03\" y=\"1997.47\" width=\"45.99\" height=\"375.92\" style=\"fill:none;stroke:#D7D29E;stroke-width:7.34\"/>\n\t<rect x=\"3396.69\" y=\"1035.45\" width=\"53.46\" height=\"1341.62\" style=\"fill:#CAC27E\"/>\n\t<rect x=\"3400.36\" y=\"1039.12\" width=\"46.12\" height=\"1334.27\" style=\"fill:none;stroke:#D7D29E;stroke-width:7.34\"/>\n\t<rect x=\"3450.15\" y=\"1850.00\" width=\"53.46\" height=\"527.07\" style=\"fill:#CAC27E\"/>\n\t<rect x=\"3453.82\" y=\"1853.67\" width=\"46.12\" height=\"519.72\" style=\"fill:none;stroke:#D7D29E;stroke-width:7.34\"/>\n\t<rect x=\"3503.61\" y=\"1466.73\" width=\"53.34\" height=\"910.33\" style=\"fill:#CAC27E\"/>\n\t<rect x=\"3507.28\" y=\"1470.40\" width=\"45.99\" height=\"902.99\" style=\"fill:none;stroke:#D7D29E;stroke-width:7.34\"/>\n\t<rect x=\"3556.95\" y=\"1802.10\" width=\"53.46\" height=\"574.96\" style=\"fill:#CAC27E\"/>\n\t<rect x=\"3560.62\" y=\"1805.78\" width=\"46.12\" height=\"567.62\" style=\"fill:none;stroke:#D7D29E;stroke-width:7.34\"/>\n\t<rect x=\"3610.41\" y=\"700.08\" width=\"53.46\" height=\"1676.99\" style=\"fill:#CAC27E\"/>\n\t<rect x=\"3614.08\" y=\"703.75\" width=\"46.12\" height=\"1669.64\" style=\"fill:none;stroke:#D7D29E;stroke-width:7.34\"/>\n\t<rect x=\"3663.87\" y=\"1754.21\" width=\"53.34\" height=\"622.85\" style=\"fill:#CAC27E\"/>\n\t<rect x=\"3667.54\" y=\"1757.88\" width=\"45.99\" height=\"615.51\" style=\"fill:none;stroke:#D7D29E;stroke-width:7.34\"/>\n\t<rect x=\"3717.20\" y=\"1275.04\" width=\"53.46\" height=\"1102.03\" style=\"fill:#CAC27E\"/>\n\t<rect x=\"3720.87\" y=\"1278.71\" width=\"46.12\" height=\"1094.68\" style=\"fill:none;stroke:#D7D29E;stroke-width:7.34\"/>\n\t<line x1=\"388.33\" y1=\"2377.06\" x2=\"388.33\" y2=\"406.66\" style=\"stroke:#000000;stroke-width:4.90\"/>\n\t<line x1=\"388.33\" y1=\"2377.06\" x2=\"354.30\" y2=\"2377.06\" style=\"stroke:#000000;stroke-width:4.90\"/>\n\t<text x=\"311.78\" y=\"2377.06\" style=\"font-family:'Helvetica';font-size:85.02px;fill:#000000\" transform=\"rotate(-90 311.78,2377.06)\" text-anchor=\"middle\">0</text>\n\t<line x1=\"388.33\" y1=\"1897.89\" x2=\"354.30\" y2=\"1897.89\" style=\"stroke:#000000;stroke-width:4.90\"/>\n\t<text x=\"311.78\" y=\"1897.89\" style=\"font-family:'Helvetica';font-size:85.02px;fill:#000000\" transform=\"rotate(-90 311.78,1897.89)\" text-anchor=\"middle\">10</text>\n\t<line x1=\"388.33\" y1=\"1418.84\" x2=\"354.30\" y2=\"1418.84\" style=\"stroke:#000000;stroke-width:4.90\"/>\n\t<text x=\"311.78\" y=\"1418.84\" style=\"font-family:'Helvetica';font-size:85.02px;fill:#000000\" transform=\"rotate(-90 311.78,1418.84)\" text-anchor=\"middle\">20</text>\n\t<line x1=\"388.33\" y1=\"939.66\" x2=\"354.30\" y2=\"939.66\" style=\"stroke:#000000;stroke-width:4.90\"/>\n\t<text x=\"311.78\" y=\"939.66\" style=\"font-family:'Helvetica';font-size:85.02px;fill:#000000\" transform=\"rotate(-90 311.78,939.66)\" text-anchor=\"middle\">30</text>\n\t<line x1=\"388.33\" y1=\"460.49\" x2=\"354.30\" y2=\"460.49\" style=\"stroke:#000000;stroke-width:4.90\"/>\n\t<text x=\"311.78\" y=\"460.49\" style=\"font-family:'Helvetica';font-size:85.02px;fill:#000000\" transform=\"rotate(-90 311.78,460.49)\" text-anchor=\"middle\">40</text>\n\t<line x1=\"388.33\" y1=\"2377.06\" x2=\"2071.82\" y2=\"2377.06\" style=\"stroke:#000000;stroke-width:4.90\"/>\n\t<line x1=\"542.64\" y1=\"2377.06\" x2=\"542.64\" y2=\"2411.10\" style=\"stroke:#000000;stroke-width:4.90\"/>\n\t<text x=\"542.64\" y=\"2487.50\" style=\"font-family:'Helvetica';font-size:85.02px;fill:#000000\" text-anchor=\"middle\">20</text>\n\t<line x1=\"911.54\" y1=\"2377.06\" x2=\"911.54\" y2=\"2411.10\" style=\"stroke:#000000;stroke-width:4.90\"/>\n\t<text x=\"911.54\" y=\"2487.50\" style=\"font-family:'Helvetica';font-size:85.02px;fill:#000000\" text-anchor=\"middle\">30</text>\n\t<line x1=\"1280.32\" y1=\"2377.06\" x2=\"1280.32\" y2=\"2411.10\" style=\"stroke:#000000;stroke-width:4.90\"/>\n\t<text x=\"1280.32\" y=\"2487.50\" style=\"font-family:'Helvetica';font-size:85.02px;fill:#000000\" text-anchor=\"middle\">40</text>\n\t<line x1=\"1649.22\" y1=\"2377.06\" x2=\"1649.22\" y2=\"2411.10\" style=\"stroke:#000000;stroke-width:4.90\"/>\n\t<text x=\"1649.22\" y=\"2487.50\" style=\"font-family:'Helvetica';font-size:85.02px;fill:#000000\" text-anchor=\"middle\">50</text>\n\t<line x1=\"2017.99\" y1=\"2377.06\" x2=\"2017.99\" y2=\"2411.10\" style=\"stroke:#000000;stroke-width:4.90\"/>\n\t<text x=\"2017.99\" y=\"2487.50\" style=\"font-family:'Helvetica';font-size:85.02px;fill:#000000\" text-anchor=\"middle\">60</text>\n\t<line x1=\"2141.00\" y1=\"2377.06\" x2=\"3824.49\" y2=\"2377.06\" style=\"stroke:#000000;stroke-width:4.90\"/>\n\t<line x1=\"2295.32\" y1=\"2377.06\" x2=\"2295.32\" y2=\"2411.10\" style=\"stroke:#000000;stroke-width:4.90\"/>\n\t<text x=\"2295.32\" y=\"2487.50\" style=\"font-family:'Helvetica';font-size:85.02px;fill:#000000\" text-anchor=\"middle\">20</text>\n\t<line x1=\"2664.21\" y1=\"2377.06\" x2=\"2664.21\" y2=\"2411.10\" style=\"stroke:#000000;stroke-width:4.90\"/>\n\t<text x=\"2664.21\" y=\"2487.50\" style=\"font-family:'Helvetica';font-size:85.02px;fill:#000000\" text-anchor=\"middle\">30</text>\n\t<line x1=\"3032.99\" y1=\"2377.06\" x2=\"3032.99\" y2=\"2411.10\" style=\"stroke:#000000;stroke-width:4.90\"/>\n\t<text x=\"3032.99\" y=\"2487.50\" style=\"font-family:'Helvetica';font-size:85.02px;fill:#000000\" text-anchor=\"middle\">40</text>\n\t<line x1=\"3401.89\" y1=\"2377.06\" x2=\"3401.89\" y2=\"2411.10\" style=\"stroke:#000000;stroke-width:4.90\"/>\n\t<text x=\"3401.89\" y=\"2487.50\" style=\"font-family:'Helvetica';font-size:85.02px;fill:#000000\" text-anchor=\"middle\">50</text>\n\t<line x1=\"3770.66\" y1=\"2377.06\" x2=\"3770.66\" y2=\"2411.10\" style=\"stroke:#000000;stroke-width:4.90\"/>\n\t<text x=\"3770.66\" y=\"2487.50\" style=\"font-family:'Helvetica';font-size:85.02px;fill:#000000\" text-anchor=\"middle\">60</text>\n\t<rect x=\"388.33\" y=\"283.77\" width=\"1683.50\" height=\"122.89\" style=\"fill:#D9E6EB\"/>\n\t<rect x=\"390.78\" y=\"286.22\" width=\"1678.60\" height=\"117.99\" style=\"fill:none;stroke:#D9E6EB;stroke-width:4.90\"/>\n\t<text x=\"1230.08\" y=\"363.80\" style=\"font-family:'Helvetica';font-size:93.56px;fill:#000000\" text-anchor=\"middle\">0</text>\n\t<rect x=\"2141.00\" y=\"283.77\" width=\"1683.49\" height=\"122.89\" style=\"fill:#D9E6EB\"/>\n\t<rect x=\"2143.45\" y=\"286.22\" width=\"1678.60\" height=\"117.99\" style=\"fill:none;stroke:#D9E6EB;stroke-width:4.90\"/>\n\t<text x=\"2982.75\" y=\"363.80\" style=\"font-family:'Helvetica';font-size:93.56px;fill:#000000\" text-anchor=\"middle\">1</text>\n\t<text x=\"1230.08\" y=\"233.26\" style=\"font-family:'Helvetica';font-size:119.05px;fill:#1E2D53\" text-anchor=\"middle\">Age distribution by gender</text>\n\t<text x=\"2982.75\" y=\"233.26\" style=\"font-family:'Helvetica';font-size:119.05px;fill:#1E2D53\" text-anchor=\"middle\">Age distribution by gender</text>\n\t<text x=\"170.79\" y=\"1332.71\" style=\"font-family:'Helvetica';font-size:99.99px;fill:#000000\" transform=\"rotate(-90 170.79,1332.71)\" text-anchor=\"middle\">Frequency</text>\n\t<text x=\"2029.99\" y=\"2634.61\" style=\"font-family:'Helvetica';font-size:99.99px;fill:#000000\" text-anchor=\"middle\">value of age</text>\n\t<text x=\"218.05\" y=\"2737.89\" style=\"font-family:'Helvetica';font-size:79.94px;fill:#000000\">Graphs by female = 1, male = 0 </text>\n</svg>\n",
      "text/html": [
       "                <iframe frameborder=\"0\" scrolling=\"no\" height=\"436\" width=\"600\"                srcdoc=\"<html><body>&lt;?xml version=&quot;1.0&quot; encoding=&quot;UTF-8&quot; standalone=&quot;no&quot;?&gt;\n",
       "&lt;!-- This is a Stata 16.1 generated SVG file (http://www.stata.com) --&gt;\n",
       "\n",
       "&lt;svg version=&quot;1.1&quot; width=&quot;600px&quot; height=&quot;436px&quot; viewBox=&quot;0 0 3960 2880&quot; xmlns=&quot;http://www.w3.org/2000/svg&quot; xmlns:xlink=&quot;http://www.w3.org/1999/xlink&quot;&gt;\n",
       "\t&lt;desc&gt;Stata Graph - Graph&lt;/desc&gt;\n",
       "\t&lt;rect x=&quot;0&quot; y=&quot;0&quot; width=&quot;3960&quot; height=&quot;2880&quot; style=&quot;fill:#EAF2F3;stroke:none&quot;/&gt;\n",
       "\t&lt;rect x=&quot;0.00&quot; y=&quot;0.00&quot; width=&quot;3959.88&quot; height=&quot;2880.00&quot; style=&quot;fill:#EAF2F3&quot;/&gt;\n",
       "\t&lt;rect x=&quot;2.88&quot; y=&quot;2.88&quot; width=&quot;3954.12&quot; height=&quot;2874.24&quot; style=&quot;fill:none;stroke:#EAF2F3;stroke-width:5.76&quot;/&gt;\n",
       "\t&lt;rect x=&quot;388.33&quot; y=&quot;406.66&quot; width=&quot;1683.50&quot; height=&quot;1970.41&quot; style=&quot;fill:#FFFFFF&quot;/&gt;\n",
       "\t&lt;rect x=&quot;390.78&quot; y=&quot;409.10&quot; width=&quot;1678.60&quot; height=&quot;1965.51&quot; style=&quot;fill:none;stroke:#FFFFFF;stroke-width:4.90&quot;/&gt;\n",
       "\t&lt;line x1=&quot;388.33&quot; y1=&quot;2377.06&quot; x2=&quot;2071.82&quot; y2=&quot;2377.06&quot; style=&quot;stroke:#EAF2F3;stroke-width:7.34&quot;/&gt;\n",
       "\t&lt;line x1=&quot;388.33&quot; y1=&quot;1897.89&quot; x2=&quot;2071.82&quot; y2=&quot;1897.89&quot; style=&quot;stroke:#EAF2F3;stroke-width:7.34&quot;/&gt;\n",
       "\t&lt;line x1=&quot;388.33&quot; y1=&quot;1418.84&quot; x2=&quot;2071.82&quot; y2=&quot;1418.84&quot; style=&quot;stroke:#EAF2F3;stroke-width:7.34&quot;/&gt;\n",
       "\t&lt;line x1=&quot;388.33&quot; y1=&quot;939.66&quot; x2=&quot;2071.82&quot; y2=&quot;939.66&quot; style=&quot;stroke:#EAF2F3;stroke-width:7.34&quot;/&gt;\n",
       "\t&lt;line x1=&quot;388.33&quot; y1=&quot;460.49&quot; x2=&quot;2071.82&quot; y2=&quot;460.49&quot; style=&quot;stroke:#EAF2F3;stroke-width:7.34&quot;/&gt;\n",
       "\t&lt;rect x=&quot;2141.00&quot; y=&quot;406.66&quot; width=&quot;1683.49&quot; height=&quot;1970.41&quot; style=&quot;fill:#FFFFFF&quot;/&gt;\n",
       "\t&lt;rect x=&quot;2143.45&quot; y=&quot;409.10&quot; width=&quot;1678.60&quot; height=&quot;1965.51&quot; style=&quot;fill:none;stroke:#FFFFFF;stroke-width:4.90&quot;/&gt;\n",
       "\t&lt;line x1=&quot;2141.00&quot; y1=&quot;2377.06&quot; x2=&quot;3824.49&quot; y2=&quot;2377.06&quot; style=&quot;stroke:#EAF2F3;stroke-width:7.34&quot;/&gt;\n",
       "\t&lt;line x1=&quot;2141.00&quot; y1=&quot;1897.89&quot; x2=&quot;3824.49&quot; y2=&quot;1897.89&quot; style=&quot;stroke:#EAF2F3;stroke-width:7.34&quot;/&gt;\n",
       "\t&lt;line x1=&quot;2141.00&quot; y1=&quot;1418.84&quot; x2=&quot;3824.49&quot; y2=&quot;1418.84&quot; style=&quot;stroke:#EAF2F3;stroke-width:7.34&quot;/&gt;\n",
       "\t&lt;line x1=&quot;2141.00&quot; y1=&quot;939.66&quot; x2=&quot;3824.49&quot; y2=&quot;939.66&quot; style=&quot;stroke:#EAF2F3;stroke-width:7.34&quot;/&gt;\n",
       "\t&lt;line x1=&quot;2141.00&quot; y1=&quot;460.49&quot; x2=&quot;3824.49&quot; y2=&quot;460.49&quot; style=&quot;stroke:#EAF2F3;stroke-width:7.34&quot;/&gt;\n",
       "\t&lt;rect x=&quot;468.89&quot; y=&quot;1083.34&quot; width=&quot;53.46&quot; height=&quot;1293.72&quot; style=&quot;fill:#CAC27E&quot;/&gt;\n",
       "\t&lt;rect x=&quot;472.56&quot; y=&quot;1087.01&quot; width=&quot;46.12&quot; height=&quot;1286.38&quot; style=&quot;fill:none;stroke:#D7D29E;stroke-width:7.34&quot;/&gt;\n",
       "\t&lt;rect x=&quot;522.35&quot; y=&quot;2137.48&quot; width=&quot;53.34&quot; height=&quot;239.59&quot; style=&quot;fill:#CAC27E&quot;/&gt;\n",
       "\t&lt;rect x=&quot;526.02&quot; y=&quot;2141.15&quot; width=&quot;45.99&quot; height=&quot;232.24&quot; style=&quot;fill:none;stroke:#D7D29E;stroke-width:7.34&quot;/&gt;\n",
       "\t&lt;rect x=&quot;575.68&quot; y=&quot;1131.23&quot; width=&quot;53.46&quot; height=&quot;1245.83&quot; style=&quot;fill:#CAC27E&quot;/&gt;\n",
       "\t&lt;rect x=&quot;579.36&quot; y=&quot;1134.91&quot; width=&quot;46.12&quot; height=&quot;1238.49&quot; style=&quot;fill:none;stroke:#D7D29E;stroke-width:7.34&quot;/&gt;\n",
       "\t&lt;rect x=&quot;629.14&quot; y=&quot;1658.43&quot; width=&quot;53.46&quot; height=&quot;718.64&quot; style=&quot;fill:#CAC27E&quot;/&gt;\n",
       "\t&lt;rect x=&quot;632.82&quot; y=&quot;1662.10&quot; width=&quot;46.12&quot; height=&quot;711.29&quot; style=&quot;fill:none;stroke:#D7D29E;stroke-width:7.34&quot;/&gt;\n",
       "\t&lt;rect x=&quot;682.61&quot; y=&quot;747.97&quot; width=&quot;53.34&quot; height=&quot;1629.10&quot; style=&quot;fill:#CAC27E&quot;/&gt;\n",
       "\t&lt;rect x=&quot;686.28&quot; y=&quot;751.64&quot; width=&quot;45.99&quot; height=&quot;1621.75&quot; style=&quot;fill:none;stroke:#D7D29E;stroke-width:7.34&quot;/&gt;\n",
       "\t&lt;rect x=&quot;735.94&quot; y=&quot;1945.91&quot; width=&quot;53.46&quot; height=&quot;431.16&quot; style=&quot;fill:#CAC27E&quot;/&gt;\n",
       "\t&lt;rect x=&quot;739.61&quot; y=&quot;1949.58&quot; width=&quot;46.12&quot; height=&quot;423.81&quot; style=&quot;fill:none;stroke:#D7D29E;stroke-width:7.34&quot;/&gt;\n",
       "\t&lt;rect x=&quot;789.40&quot; y=&quot;939.66&quot; width=&quot;53.46&quot; height=&quot;1437.40&quot; style=&quot;fill:#CAC27E&quot;/&gt;\n",
       "\t&lt;rect x=&quot;793.07&quot; y=&quot;943.33&quot; width=&quot;46.12&quot; height=&quot;1430.06&quot; style=&quot;fill:none;stroke:#D7D29E;stroke-width:7.34&quot;/&gt;\n",
       "\t&lt;rect x=&quot;842.86&quot; y=&quot;1802.10&quot; width=&quot;53.34&quot; height=&quot;574.96&quot; style=&quot;fill:#CAC27E&quot;/&gt;\n",
       "\t&lt;rect x=&quot;846.53&quot; y=&quot;1805.78&quot; width=&quot;45.99&quot; height=&quot;567.62&quot; style=&quot;fill:none;stroke:#D7D29E;stroke-width:7.34&quot;/&gt;\n",
       "\t&lt;rect x=&quot;896.20&quot; y=&quot;1179.25&quot; width=&quot;53.46&quot; height=&quot;1197.81&quot; style=&quot;fill:#CAC27E&quot;/&gt;\n",
       "\t&lt;rect x=&quot;899.87&quot; y=&quot;1182.92&quot; width=&quot;46.12&quot; height=&quot;1190.47&quot; style=&quot;fill:none;stroke:#D7D29E;stroke-width:7.34&quot;/&gt;\n",
       "\t&lt;rect x=&quot;949.66&quot; y=&quot;1993.80&quot; width=&quot;53.46&quot; height=&quot;383.27&quot; style=&quot;fill:#CAC27E&quot;/&gt;\n",
       "\t&lt;rect x=&quot;953.33&quot; y=&quot;1997.47&quot; width=&quot;46.12&quot; height=&quot;375.92&quot; style=&quot;fill:none;stroke:#D7D29E;stroke-width:7.34&quot;/&gt;\n",
       "\t&lt;rect x=&quot;1003.12&quot; y=&quot;1897.89&quot; width=&quot;53.34&quot; height=&quot;479.17&quot; style=&quot;fill:#CAC27E&quot;/&gt;\n",
       "\t&lt;rect x=&quot;1006.79&quot; y=&quot;1901.56&quot; width=&quot;45.99&quot; height=&quot;471.83&quot; style=&quot;fill:none;stroke:#D7D29E;stroke-width:7.34&quot;/&gt;\n",
       "\t&lt;rect x=&quot;1056.45&quot; y=&quot;1610.41&quot; width=&quot;53.46&quot; height=&quot;766.66&quot; style=&quot;fill:#CAC27E&quot;/&gt;\n",
       "\t&lt;rect x=&quot;1060.13&quot; y=&quot;1614.08&quot; width=&quot;46.12&quot; height=&quot;759.31&quot; style=&quot;fill:none;stroke:#D7D29E;stroke-width:7.34&quot;/&gt;\n",
       "\t&lt;rect x=&quot;1109.91&quot; y=&quot;1658.43&quot; width=&quot;53.46&quot; height=&quot;718.64&quot; style=&quot;fill:#CAC27E&quot;/&gt;\n",
       "\t&lt;rect x=&quot;1113.59&quot; y=&quot;1662.10&quot; width=&quot;46.12&quot; height=&quot;711.29&quot; style=&quot;fill:none;stroke:#D7D29E;stroke-width:7.34&quot;/&gt;\n",
       "\t&lt;rect x=&quot;1163.37&quot; y=&quot;1131.23&quot; width=&quot;53.34&quot; height=&quot;1245.83&quot; style=&quot;fill:#CAC27E&quot;/&gt;\n",
       "\t&lt;rect x=&quot;1167.05&quot; y=&quot;1134.91&quot; width=&quot;45.99&quot; height=&quot;1238.49&quot; style=&quot;fill:none;stroke:#D7D29E;stroke-width:7.34&quot;/&gt;\n",
       "\t&lt;rect x=&quot;1216.71&quot; y=&quot;1706.32&quot; width=&quot;53.46&quot; height=&quot;670.75&quot; style=&quot;fill:#CAC27E&quot;/&gt;\n",
       "\t&lt;rect x=&quot;1220.38&quot; y=&quot;1709.99&quot; width=&quot;46.12&quot; height=&quot;663.40&quot; style=&quot;fill:none;stroke:#D7D29E;stroke-width:7.34&quot;/&gt;\n",
       "\t&lt;rect x=&quot;1270.17&quot; y=&quot;1179.25&quot; width=&quot;53.46&quot; height=&quot;1197.81&quot; style=&quot;fill:#CAC27E&quot;/&gt;\n",
       "\t&lt;rect x=&quot;1273.84&quot; y=&quot;1182.92&quot; width=&quot;46.12&quot; height=&quot;1190.47&quot; style=&quot;fill:none;stroke:#D7D29E;stroke-width:7.34&quot;/&gt;\n",
       "\t&lt;rect x=&quot;1323.63&quot; y=&quot;2041.69&quot; width=&quot;53.34&quot; height=&quot;335.37&quot; style=&quot;fill:#CAC27E&quot;/&gt;\n",
       "\t&lt;rect x=&quot;1327.30&quot; y=&quot;2045.36&quot; width=&quot;45.99&quot; height=&quot;328.03&quot; style=&quot;fill:none;stroke:#D7D29E;stroke-width:7.34&quot;/&gt;\n",
       "\t&lt;rect x=&quot;1376.97&quot; y=&quot;1227.14&quot; width=&quot;53.46&quot; height=&quot;1149.92&quot; style=&quot;fill:#CAC27E&quot;/&gt;\n",
       "\t&lt;rect x=&quot;1380.64&quot; y=&quot;1230.82&quot; width=&quot;46.12&quot; height=&quot;1142.58&quot; style=&quot;fill:none;stroke:#D7D29E;stroke-width:7.34&quot;/&gt;\n",
       "\t&lt;rect x=&quot;1430.43&quot; y=&quot;1945.91&quot; width=&quot;53.46&quot; height=&quot;431.16&quot; style=&quot;fill:#CAC27E&quot;/&gt;\n",
       "\t&lt;rect x=&quot;1434.10&quot; y=&quot;1949.58&quot; width=&quot;46.12&quot; height=&quot;423.81&quot; style=&quot;fill:none;stroke:#D7D29E;stroke-width:7.34&quot;/&gt;\n",
       "\t&lt;rect x=&quot;1483.89&quot; y=&quot;2137.48&quot; width=&quot;53.34&quot; height=&quot;239.59&quot; style=&quot;fill:#CAC27E&quot;/&gt;\n",
       "\t&lt;rect x=&quot;1487.56&quot; y=&quot;2141.15&quot; width=&quot;45.99&quot; height=&quot;232.24&quot; style=&quot;fill:none;stroke:#D7D29E;stroke-width:7.34&quot;/&gt;\n",
       "\t&lt;rect x=&quot;1537.22&quot; y=&quot;1802.10&quot; width=&quot;53.46&quot; height=&quot;574.96&quot; style=&quot;fill:#CAC27E&quot;/&gt;\n",
       "\t&lt;rect x=&quot;1540.89&quot; y=&quot;1805.78&quot; width=&quot;46.12&quot; height=&quot;567.62&quot; style=&quot;fill:none;stroke:#D7D29E;stroke-width:7.34&quot;/&gt;\n",
       "\t&lt;rect x=&quot;1590.68&quot; y=&quot;1418.84&quot; width=&quot;53.46&quot; height=&quot;958.23&quot; style=&quot;fill:#CAC27E&quot;/&gt;\n",
       "\t&lt;rect x=&quot;1594.35&quot; y=&quot;1422.51&quot; width=&quot;46.12&quot; height=&quot;950.88&quot; style=&quot;fill:none;stroke:#D7D29E;stroke-width:7.34&quot;/&gt;\n",
       "\t&lt;rect x=&quot;1644.14&quot; y=&quot;1227.14&quot; width=&quot;53.34&quot; height=&quot;1149.92&quot; style=&quot;fill:#CAC27E&quot;/&gt;\n",
       "\t&lt;rect x=&quot;1647.81&quot; y=&quot;1230.82&quot; width=&quot;45.99&quot; height=&quot;1142.58&quot; style=&quot;fill:none;stroke:#D7D29E;stroke-width:7.34&quot;/&gt;\n",
       "\t&lt;rect x=&quot;1697.48&quot; y=&quot;1945.91&quot; width=&quot;53.46&quot; height=&quot;431.16&quot; style=&quot;fill:#CAC27E&quot;/&gt;\n",
       "\t&lt;rect x=&quot;1701.15&quot; y=&quot;1949.58&quot; width=&quot;46.12&quot; height=&quot;423.81&quot; style=&quot;fill:none;stroke:#D7D29E;stroke-width:7.34&quot;/&gt;\n",
       "\t&lt;rect x=&quot;1750.94&quot; y=&quot;1179.25&quot; width=&quot;53.46&quot; height=&quot;1197.81&quot; style=&quot;fill:#CAC27E&quot;/&gt;\n",
       "\t&lt;rect x=&quot;1754.61&quot; y=&quot;1182.92&quot; width=&quot;46.12&quot; height=&quot;1190.47&quot; style=&quot;fill:none;stroke:#D7D29E;stroke-width:7.34&quot;/&gt;\n",
       "\t&lt;rect x=&quot;1804.40&quot; y=&quot;1658.43&quot; width=&quot;53.34&quot; height=&quot;718.64&quot; style=&quot;fill:#CAC27E&quot;/&gt;\n",
       "\t&lt;rect x=&quot;1808.07&quot; y=&quot;1662.10&quot; width=&quot;45.99&quot; height=&quot;711.29&quot; style=&quot;fill:none;stroke:#D7D29E;stroke-width:7.34&quot;/&gt;\n",
       "\t&lt;rect x=&quot;1857.73&quot; y=&quot;1035.45&quot; width=&quot;53.46&quot; height=&quot;1341.62&quot; style=&quot;fill:#CAC27E&quot;/&gt;\n",
       "\t&lt;rect x=&quot;1861.41&quot; y=&quot;1039.12&quot; width=&quot;46.12&quot; height=&quot;1334.27&quot; style=&quot;fill:none;stroke:#D7D29E;stroke-width:7.34&quot;/&gt;\n",
       "\t&lt;rect x=&quot;1911.19&quot; y=&quot;1658.43&quot; width=&quot;53.46&quot; height=&quot;718.64&quot; style=&quot;fill:#CAC27E&quot;/&gt;\n",
       "\t&lt;rect x=&quot;1914.87&quot; y=&quot;1662.10&quot; width=&quot;46.12&quot; height=&quot;711.29&quot; style=&quot;fill:none;stroke:#D7D29E;stroke-width:7.34&quot;/&gt;\n",
       "\t&lt;rect x=&quot;1964.65&quot; y=&quot;700.08&quot; width=&quot;53.34&quot; height=&quot;1676.99&quot; style=&quot;fill:#CAC27E&quot;/&gt;\n",
       "\t&lt;rect x=&quot;1968.33&quot; y=&quot;703.75&quot; width=&quot;45.99&quot; height=&quot;1669.64&quot; style=&quot;fill:none;stroke:#D7D29E;stroke-width:7.34&quot;/&gt;\n",
       "\t&lt;rect x=&quot;2221.56&quot; y=&quot;1083.34&quot; width=&quot;53.46&quot; height=&quot;1293.72&quot; style=&quot;fill:#CAC27E&quot;/&gt;\n",
       "\t&lt;rect x=&quot;2225.23&quot; y=&quot;1087.01&quot; width=&quot;46.12&quot; height=&quot;1286.38&quot; style=&quot;fill:none;stroke:#D7D29E;stroke-width:7.34&quot;/&gt;\n",
       "\t&lt;rect x=&quot;2275.02&quot; y=&quot;1850.00&quot; width=&quot;53.34&quot; height=&quot;527.07&quot; style=&quot;fill:#CAC27E&quot;/&gt;\n",
       "\t&lt;rect x=&quot;2278.69&quot; y=&quot;1853.67&quot; width=&quot;45.99&quot; height=&quot;519.72&quot; style=&quot;fill:none;stroke:#D7D29E;stroke-width:7.34&quot;/&gt;\n",
       "\t&lt;rect x=&quot;2328.36&quot; y=&quot;1131.23&quot; width=&quot;53.46&quot; height=&quot;1245.83&quot; style=&quot;fill:#CAC27E&quot;/&gt;\n",
       "\t&lt;rect x=&quot;2332.03&quot; y=&quot;1134.91&quot; width=&quot;46.12&quot; height=&quot;1238.49&quot; style=&quot;fill:none;stroke:#D7D29E;stroke-width:7.34&quot;/&gt;\n",
       "\t&lt;rect x=&quot;2381.82&quot; y=&quot;1945.91&quot; width=&quot;53.46&quot; height=&quot;431.16&quot; style=&quot;fill:#CAC27E&quot;/&gt;\n",
       "\t&lt;rect x=&quot;2385.49&quot; y=&quot;1949.58&quot; width=&quot;46.12&quot; height=&quot;423.81&quot; style=&quot;fill:none;stroke:#D7D29E;stroke-width:7.34&quot;/&gt;\n",
       "\t&lt;rect x=&quot;2435.28&quot; y=&quot;1418.84&quot; width=&quot;53.34&quot; height=&quot;958.23&quot; style=&quot;fill:#CAC27E&quot;/&gt;\n",
       "\t&lt;rect x=&quot;2438.95&quot; y=&quot;1422.51&quot; width=&quot;45.99&quot; height=&quot;950.88&quot; style=&quot;fill:none;stroke:#D7D29E;stroke-width:7.34&quot;/&gt;\n",
       "\t&lt;rect x=&quot;2488.61&quot; y=&quot;1514.62&quot; width=&quot;53.46&quot; height=&quot;862.44&quot; style=&quot;fill:#CAC27E&quot;/&gt;\n",
       "\t&lt;rect x=&quot;2492.28&quot; y=&quot;1518.30&quot; width=&quot;46.12&quot; height=&quot;855.10&quot; style=&quot;fill:none;stroke:#D7D29E;stroke-width:7.34&quot;/&gt;\n",
       "\t&lt;rect x=&quot;2542.07&quot; y=&quot;891.77&quot; width=&quot;53.46&quot; height=&quot;1485.29&quot; style=&quot;fill:#CAC27E&quot;/&gt;\n",
       "\t&lt;rect x=&quot;2545.74&quot; y=&quot;895.44&quot; width=&quot;46.12&quot; height=&quot;1477.95&quot; style=&quot;fill:none;stroke:#D7D29E;stroke-width:7.34&quot;/&gt;\n",
       "\t&lt;rect x=&quot;2595.53&quot; y=&quot;2089.58&quot; width=&quot;53.34&quot; height=&quot;287.48&quot; style=&quot;fill:#CAC27E&quot;/&gt;\n",
       "\t&lt;rect x=&quot;2599.20&quot; y=&quot;2093.26&quot; width=&quot;45.99&quot; height=&quot;280.14&quot; style=&quot;fill:none;stroke:#D7D29E;stroke-width:7.34&quot;/&gt;\n",
       "\t&lt;rect x=&quot;2648.87&quot; y=&quot;1322.93&quot; width=&quot;53.46&quot; height=&quot;1054.14&quot; style=&quot;fill:#CAC27E&quot;/&gt;\n",
       "\t&lt;rect x=&quot;2652.54&quot; y=&quot;1326.60&quot; width=&quot;46.12&quot; height=&quot;1046.79&quot; style=&quot;fill:none;stroke:#D7D29E;stroke-width:7.34&quot;/&gt;\n",
       "\t&lt;rect x=&quot;2702.33&quot; y=&quot;1993.80&quot; width=&quot;53.46&quot; height=&quot;383.27&quot; style=&quot;fill:#CAC27E&quot;/&gt;\n",
       "\t&lt;rect x=&quot;2706.00&quot; y=&quot;1997.47&quot; width=&quot;46.12&quot; height=&quot;375.92&quot; style=&quot;fill:none;stroke:#D7D29E;stroke-width:7.34&quot;/&gt;\n",
       "\t&lt;rect x=&quot;2755.79&quot; y=&quot;1850.00&quot; width=&quot;53.34&quot; height=&quot;527.07&quot; style=&quot;fill:#CAC27E&quot;/&gt;\n",
       "\t&lt;rect x=&quot;2759.46&quot; y=&quot;1853.67&quot; width=&quot;45.99&quot; height=&quot;519.72&quot; style=&quot;fill:none;stroke:#D7D29E;stroke-width:7.34&quot;/&gt;\n",
       "\t&lt;rect x=&quot;2809.12&quot; y=&quot;1610.41&quot; width=&quot;53.46&quot; height=&quot;766.66&quot; style=&quot;fill:#CAC27E&quot;/&gt;\n",
       "\t&lt;rect x=&quot;2812.80&quot; y=&quot;1614.08&quot; width=&quot;46.12&quot; height=&quot;759.31&quot; style=&quot;fill:none;stroke:#D7D29E;stroke-width:7.34&quot;/&gt;\n",
       "\t&lt;rect x=&quot;2862.59&quot; y=&quot;1897.89&quot; width=&quot;53.46&quot; height=&quot;479.17&quot; style=&quot;fill:#CAC27E&quot;/&gt;\n",
       "\t&lt;rect x=&quot;2866.26&quot; y=&quot;1901.56&quot; width=&quot;46.12&quot; height=&quot;471.83&quot; style=&quot;fill:none;stroke:#D7D29E;stroke-width:7.34&quot;/&gt;\n",
       "\t&lt;rect x=&quot;2916.05&quot; y=&quot;1706.32&quot; width=&quot;53.34&quot; height=&quot;670.75&quot; style=&quot;fill:#CAC27E&quot;/&gt;\n",
       "\t&lt;rect x=&quot;2919.72&quot; y=&quot;1709.99&quot; width=&quot;45.99&quot; height=&quot;663.40&quot; style=&quot;fill:none;stroke:#D7D29E;stroke-width:7.34&quot;/&gt;\n",
       "\t&lt;rect x=&quot;2969.38&quot; y=&quot;1897.89&quot; width=&quot;53.46&quot; height=&quot;479.17&quot; style=&quot;fill:#CAC27E&quot;/&gt;\n",
       "\t&lt;rect x=&quot;2973.05&quot; y=&quot;1901.56&quot; width=&quot;46.12&quot; height=&quot;471.83&quot; style=&quot;fill:none;stroke:#D7D29E;stroke-width:7.34&quot;/&gt;\n",
       "\t&lt;rect x=&quot;3022.84&quot; y=&quot;1370.82&quot; width=&quot;53.34&quot; height=&quot;1006.24&quot; style=&quot;fill:#CAC27E&quot;/&gt;\n",
       "\t&lt;rect x=&quot;3026.51&quot; y=&quot;1374.49&quot; width=&quot;45.99&quot; height=&quot;998.90&quot; style=&quot;fill:none;stroke:#D7D29E;stroke-width:7.34&quot;/&gt;\n",
       "\t&lt;rect x=&quot;3076.18&quot; y=&quot;1897.89&quot; width=&quot;53.46&quot; height=&quot;479.17&quot; style=&quot;fill:#CAC27E&quot;/&gt;\n",
       "\t&lt;rect x=&quot;3079.85&quot; y=&quot;1901.56&quot; width=&quot;46.12&quot; height=&quot;471.83&quot; style=&quot;fill:none;stroke:#D7D29E;stroke-width:7.34&quot;/&gt;\n",
       "\t&lt;rect x=&quot;3129.64&quot; y=&quot;1466.73&quot; width=&quot;53.46&quot; height=&quot;910.33&quot; style=&quot;fill:#CAC27E&quot;/&gt;\n",
       "\t&lt;rect x=&quot;3133.31&quot; y=&quot;1470.40&quot; width=&quot;46.12&quot; height=&quot;902.99&quot; style=&quot;fill:none;stroke:#D7D29E;stroke-width:7.34&quot;/&gt;\n",
       "\t&lt;rect x=&quot;3183.10&quot; y=&quot;2089.58&quot; width=&quot;53.34&quot; height=&quot;287.48&quot; style=&quot;fill:#CAC27E&quot;/&gt;\n",
       "\t&lt;rect x=&quot;3186.77&quot; y=&quot;2093.26&quot; width=&quot;45.99&quot; height=&quot;280.14&quot; style=&quot;fill:none;stroke:#D7D29E;stroke-width:7.34&quot;/&gt;\n",
       "\t&lt;rect x=&quot;3236.43&quot; y=&quot;1754.21&quot; width=&quot;53.46&quot; height=&quot;622.85&quot; style=&quot;fill:#CAC27E&quot;/&gt;\n",
       "\t&lt;rect x=&quot;3240.11&quot; y=&quot;1757.88&quot; width=&quot;46.12&quot; height=&quot;615.51&quot; style=&quot;fill:none;stroke:#D7D29E;stroke-width:7.34&quot;/&gt;\n",
       "\t&lt;rect x=&quot;3289.89&quot; y=&quot;1514.62&quot; width=&quot;53.46&quot; height=&quot;862.44&quot; style=&quot;fill:#CAC27E&quot;/&gt;\n",
       "\t&lt;rect x=&quot;3293.57&quot; y=&quot;1518.30&quot; width=&quot;46.12&quot; height=&quot;855.10&quot; style=&quot;fill:none;stroke:#D7D29E;stroke-width:7.34&quot;/&gt;\n",
       "\t&lt;rect x=&quot;3343.35&quot; y=&quot;1993.80&quot; width=&quot;53.34&quot; height=&quot;383.27&quot; style=&quot;fill:#CAC27E&quot;/&gt;\n",
       "\t&lt;rect x=&quot;3347.03&quot; y=&quot;1997.47&quot; width=&quot;45.99&quot; height=&quot;375.92&quot; style=&quot;fill:none;stroke:#D7D29E;stroke-width:7.34&quot;/&gt;\n",
       "\t&lt;rect x=&quot;3396.69&quot; y=&quot;1035.45&quot; width=&quot;53.46&quot; height=&quot;1341.62&quot; style=&quot;fill:#CAC27E&quot;/&gt;\n",
       "\t&lt;rect x=&quot;3400.36&quot; y=&quot;1039.12&quot; width=&quot;46.12&quot; height=&quot;1334.27&quot; style=&quot;fill:none;stroke:#D7D29E;stroke-width:7.34&quot;/&gt;\n",
       "\t&lt;rect x=&quot;3450.15&quot; y=&quot;1850.00&quot; width=&quot;53.46&quot; height=&quot;527.07&quot; style=&quot;fill:#CAC27E&quot;/&gt;\n",
       "\t&lt;rect x=&quot;3453.82&quot; y=&quot;1853.67&quot; width=&quot;46.12&quot; height=&quot;519.72&quot; style=&quot;fill:none;stroke:#D7D29E;stroke-width:7.34&quot;/&gt;\n",
       "\t&lt;rect x=&quot;3503.61&quot; y=&quot;1466.73&quot; width=&quot;53.34&quot; height=&quot;910.33&quot; style=&quot;fill:#CAC27E&quot;/&gt;\n",
       "\t&lt;rect x=&quot;3507.28&quot; y=&quot;1470.40&quot; width=&quot;45.99&quot; height=&quot;902.99&quot; style=&quot;fill:none;stroke:#D7D29E;stroke-width:7.34&quot;/&gt;\n",
       "\t&lt;rect x=&quot;3556.95&quot; y=&quot;1802.10&quot; width=&quot;53.46&quot; height=&quot;574.96&quot; style=&quot;fill:#CAC27E&quot;/&gt;\n",
       "\t&lt;rect x=&quot;3560.62&quot; y=&quot;1805.78&quot; width=&quot;46.12&quot; height=&quot;567.62&quot; style=&quot;fill:none;stroke:#D7D29E;stroke-width:7.34&quot;/&gt;\n",
       "\t&lt;rect x=&quot;3610.41&quot; y=&quot;700.08&quot; width=&quot;53.46&quot; height=&quot;1676.99&quot; style=&quot;fill:#CAC27E&quot;/&gt;\n",
       "\t&lt;rect x=&quot;3614.08&quot; y=&quot;703.75&quot; width=&quot;46.12&quot; height=&quot;1669.64&quot; style=&quot;fill:none;stroke:#D7D29E;stroke-width:7.34&quot;/&gt;\n",
       "\t&lt;rect x=&quot;3663.87&quot; y=&quot;1754.21&quot; width=&quot;53.34&quot; height=&quot;622.85&quot; style=&quot;fill:#CAC27E&quot;/&gt;\n",
       "\t&lt;rect x=&quot;3667.54&quot; y=&quot;1757.88&quot; width=&quot;45.99&quot; height=&quot;615.51&quot; style=&quot;fill:none;stroke:#D7D29E;stroke-width:7.34&quot;/&gt;\n",
       "\t&lt;rect x=&quot;3717.20&quot; y=&quot;1275.04&quot; width=&quot;53.46&quot; height=&quot;1102.03&quot; style=&quot;fill:#CAC27E&quot;/&gt;\n",
       "\t&lt;rect x=&quot;3720.87&quot; y=&quot;1278.71&quot; width=&quot;46.12&quot; height=&quot;1094.68&quot; style=&quot;fill:none;stroke:#D7D29E;stroke-width:7.34&quot;/&gt;\n",
       "\t&lt;line x1=&quot;388.33&quot; y1=&quot;2377.06&quot; x2=&quot;388.33&quot; y2=&quot;406.66&quot; style=&quot;stroke:#000000;stroke-width:4.90&quot;/&gt;\n",
       "\t&lt;line x1=&quot;388.33&quot; y1=&quot;2377.06&quot; x2=&quot;354.30&quot; y2=&quot;2377.06&quot; style=&quot;stroke:#000000;stroke-width:4.90&quot;/&gt;\n",
       "\t&lt;text x=&quot;311.78&quot; y=&quot;2377.06&quot; style=&quot;font-family:&#x27;Helvetica&#x27;;font-size:85.02px;fill:#000000&quot; transform=&quot;rotate(-90 311.78,2377.06)&quot; text-anchor=&quot;middle&quot;&gt;0&lt;/text&gt;\n",
       "\t&lt;line x1=&quot;388.33&quot; y1=&quot;1897.89&quot; x2=&quot;354.30&quot; y2=&quot;1897.89&quot; style=&quot;stroke:#000000;stroke-width:4.90&quot;/&gt;\n",
       "\t&lt;text x=&quot;311.78&quot; y=&quot;1897.89&quot; style=&quot;font-family:&#x27;Helvetica&#x27;;font-size:85.02px;fill:#000000&quot; transform=&quot;rotate(-90 311.78,1897.89)&quot; text-anchor=&quot;middle&quot;&gt;10&lt;/text&gt;\n",
       "\t&lt;line x1=&quot;388.33&quot; y1=&quot;1418.84&quot; x2=&quot;354.30&quot; y2=&quot;1418.84&quot; style=&quot;stroke:#000000;stroke-width:4.90&quot;/&gt;\n",
       "\t&lt;text x=&quot;311.78&quot; y=&quot;1418.84&quot; style=&quot;font-family:&#x27;Helvetica&#x27;;font-size:85.02px;fill:#000000&quot; transform=&quot;rotate(-90 311.78,1418.84)&quot; text-anchor=&quot;middle&quot;&gt;20&lt;/text&gt;\n",
       "\t&lt;line x1=&quot;388.33&quot; y1=&quot;939.66&quot; x2=&quot;354.30&quot; y2=&quot;939.66&quot; style=&quot;stroke:#000000;stroke-width:4.90&quot;/&gt;\n",
       "\t&lt;text x=&quot;311.78&quot; y=&quot;939.66&quot; style=&quot;font-family:&#x27;Helvetica&#x27;;font-size:85.02px;fill:#000000&quot; transform=&quot;rotate(-90 311.78,939.66)&quot; text-anchor=&quot;middle&quot;&gt;30&lt;/text&gt;\n",
       "\t&lt;line x1=&quot;388.33&quot; y1=&quot;460.49&quot; x2=&quot;354.30&quot; y2=&quot;460.49&quot; style=&quot;stroke:#000000;stroke-width:4.90&quot;/&gt;\n",
       "\t&lt;text x=&quot;311.78&quot; y=&quot;460.49&quot; style=&quot;font-family:&#x27;Helvetica&#x27;;font-size:85.02px;fill:#000000&quot; transform=&quot;rotate(-90 311.78,460.49)&quot; text-anchor=&quot;middle&quot;&gt;40&lt;/text&gt;\n",
       "\t&lt;line x1=&quot;388.33&quot; y1=&quot;2377.06&quot; x2=&quot;2071.82&quot; y2=&quot;2377.06&quot; style=&quot;stroke:#000000;stroke-width:4.90&quot;/&gt;\n",
       "\t&lt;line x1=&quot;542.64&quot; y1=&quot;2377.06&quot; x2=&quot;542.64&quot; y2=&quot;2411.10&quot; style=&quot;stroke:#000000;stroke-width:4.90&quot;/&gt;\n",
       "\t&lt;text x=&quot;542.64&quot; y=&quot;2487.50&quot; style=&quot;font-family:&#x27;Helvetica&#x27;;font-size:85.02px;fill:#000000&quot; text-anchor=&quot;middle&quot;&gt;20&lt;/text&gt;\n",
       "\t&lt;line x1=&quot;911.54&quot; y1=&quot;2377.06&quot; x2=&quot;911.54&quot; y2=&quot;2411.10&quot; style=&quot;stroke:#000000;stroke-width:4.90&quot;/&gt;\n",
       "\t&lt;text x=&quot;911.54&quot; y=&quot;2487.50&quot; style=&quot;font-family:&#x27;Helvetica&#x27;;font-size:85.02px;fill:#000000&quot; text-anchor=&quot;middle&quot;&gt;30&lt;/text&gt;\n",
       "\t&lt;line x1=&quot;1280.32&quot; y1=&quot;2377.06&quot; x2=&quot;1280.32&quot; y2=&quot;2411.10&quot; style=&quot;stroke:#000000;stroke-width:4.90&quot;/&gt;\n",
       "\t&lt;text x=&quot;1280.32&quot; y=&quot;2487.50&quot; style=&quot;font-family:&#x27;Helvetica&#x27;;font-size:85.02px;fill:#000000&quot; text-anchor=&quot;middle&quot;&gt;40&lt;/text&gt;\n",
       "\t&lt;line x1=&quot;1649.22&quot; y1=&quot;2377.06&quot; x2=&quot;1649.22&quot; y2=&quot;2411.10&quot; style=&quot;stroke:#000000;stroke-width:4.90&quot;/&gt;\n",
       "\t&lt;text x=&quot;1649.22&quot; y=&quot;2487.50&quot; style=&quot;font-family:&#x27;Helvetica&#x27;;font-size:85.02px;fill:#000000&quot; text-anchor=&quot;middle&quot;&gt;50&lt;/text&gt;\n",
       "\t&lt;line x1=&quot;2017.99&quot; y1=&quot;2377.06&quot; x2=&quot;2017.99&quot; y2=&quot;2411.10&quot; style=&quot;stroke:#000000;stroke-width:4.90&quot;/&gt;\n",
       "\t&lt;text x=&quot;2017.99&quot; y=&quot;2487.50&quot; style=&quot;font-family:&#x27;Helvetica&#x27;;font-size:85.02px;fill:#000000&quot; text-anchor=&quot;middle&quot;&gt;60&lt;/text&gt;\n",
       "\t&lt;line x1=&quot;2141.00&quot; y1=&quot;2377.06&quot; x2=&quot;3824.49&quot; y2=&quot;2377.06&quot; style=&quot;stroke:#000000;stroke-width:4.90&quot;/&gt;\n",
       "\t&lt;line x1=&quot;2295.32&quot; y1=&quot;2377.06&quot; x2=&quot;2295.32&quot; y2=&quot;2411.10&quot; style=&quot;stroke:#000000;stroke-width:4.90&quot;/&gt;\n",
       "\t&lt;text x=&quot;2295.32&quot; y=&quot;2487.50&quot; style=&quot;font-family:&#x27;Helvetica&#x27;;font-size:85.02px;fill:#000000&quot; text-anchor=&quot;middle&quot;&gt;20&lt;/text&gt;\n",
       "\t&lt;line x1=&quot;2664.21&quot; y1=&quot;2377.06&quot; x2=&quot;2664.21&quot; y2=&quot;2411.10&quot; style=&quot;stroke:#000000;stroke-width:4.90&quot;/&gt;\n",
       "\t&lt;text x=&quot;2664.21&quot; y=&quot;2487.50&quot; style=&quot;font-family:&#x27;Helvetica&#x27;;font-size:85.02px;fill:#000000&quot; text-anchor=&quot;middle&quot;&gt;30&lt;/text&gt;\n",
       "\t&lt;line x1=&quot;3032.99&quot; y1=&quot;2377.06&quot; x2=&quot;3032.99&quot; y2=&quot;2411.10&quot; style=&quot;stroke:#000000;stroke-width:4.90&quot;/&gt;\n",
       "\t&lt;text x=&quot;3032.99&quot; y=&quot;2487.50&quot; style=&quot;font-family:&#x27;Helvetica&#x27;;font-size:85.02px;fill:#000000&quot; text-anchor=&quot;middle&quot;&gt;40&lt;/text&gt;\n",
       "\t&lt;line x1=&quot;3401.89&quot; y1=&quot;2377.06&quot; x2=&quot;3401.89&quot; y2=&quot;2411.10&quot; style=&quot;stroke:#000000;stroke-width:4.90&quot;/&gt;\n",
       "\t&lt;text x=&quot;3401.89&quot; y=&quot;2487.50&quot; style=&quot;font-family:&#x27;Helvetica&#x27;;font-size:85.02px;fill:#000000&quot; text-anchor=&quot;middle&quot;&gt;50&lt;/text&gt;\n",
       "\t&lt;line x1=&quot;3770.66&quot; y1=&quot;2377.06&quot; x2=&quot;3770.66&quot; y2=&quot;2411.10&quot; style=&quot;stroke:#000000;stroke-width:4.90&quot;/&gt;\n",
       "\t&lt;text x=&quot;3770.66&quot; y=&quot;2487.50&quot; style=&quot;font-family:&#x27;Helvetica&#x27;;font-size:85.02px;fill:#000000&quot; text-anchor=&quot;middle&quot;&gt;60&lt;/text&gt;\n",
       "\t&lt;rect x=&quot;388.33&quot; y=&quot;283.77&quot; width=&quot;1683.50&quot; height=&quot;122.89&quot; style=&quot;fill:#D9E6EB&quot;/&gt;\n",
       "\t&lt;rect x=&quot;390.78&quot; y=&quot;286.22&quot; width=&quot;1678.60&quot; height=&quot;117.99&quot; style=&quot;fill:none;stroke:#D9E6EB;stroke-width:4.90&quot;/&gt;\n",
       "\t&lt;text x=&quot;1230.08&quot; y=&quot;363.80&quot; style=&quot;font-family:&#x27;Helvetica&#x27;;font-size:93.56px;fill:#000000&quot; text-anchor=&quot;middle&quot;&gt;0&lt;/text&gt;\n",
       "\t&lt;rect x=&quot;2141.00&quot; y=&quot;283.77&quot; width=&quot;1683.49&quot; height=&quot;122.89&quot; style=&quot;fill:#D9E6EB&quot;/&gt;\n",
       "\t&lt;rect x=&quot;2143.45&quot; y=&quot;286.22&quot; width=&quot;1678.60&quot; height=&quot;117.99&quot; style=&quot;fill:none;stroke:#D9E6EB;stroke-width:4.90&quot;/&gt;\n",
       "\t&lt;text x=&quot;2982.75&quot; y=&quot;363.80&quot; style=&quot;font-family:&#x27;Helvetica&#x27;;font-size:93.56px;fill:#000000&quot; text-anchor=&quot;middle&quot;&gt;1&lt;/text&gt;\n",
       "\t&lt;text x=&quot;1230.08&quot; y=&quot;233.26&quot; style=&quot;font-family:&#x27;Helvetica&#x27;;font-size:119.05px;fill:#1E2D53&quot; text-anchor=&quot;middle&quot;&gt;Age distribution by gender&lt;/text&gt;\n",
       "\t&lt;text x=&quot;2982.75&quot; y=&quot;233.26&quot; style=&quot;font-family:&#x27;Helvetica&#x27;;font-size:119.05px;fill:#1E2D53&quot; text-anchor=&quot;middle&quot;&gt;Age distribution by gender&lt;/text&gt;\n",
       "\t&lt;text x=&quot;170.79&quot; y=&quot;1332.71&quot; style=&quot;font-family:&#x27;Helvetica&#x27;;font-size:99.99px;fill:#000000&quot; transform=&quot;rotate(-90 170.79,1332.71)&quot; text-anchor=&quot;middle&quot;&gt;Frequency&lt;/text&gt;\n",
       "\t&lt;text x=&quot;2029.99&quot; y=&quot;2634.61&quot; style=&quot;font-family:&#x27;Helvetica&#x27;;font-size:99.99px;fill:#000000&quot; text-anchor=&quot;middle&quot;&gt;value of age&lt;/text&gt;\n",
       "\t&lt;text x=&quot;218.05&quot; y=&quot;2737.89&quot; style=&quot;font-family:&#x27;Helvetica&#x27;;font-size:79.94px;fill:#000000&quot;&gt;Graphs by female = 1, male = 0 &lt;/text&gt;\n",
       "&lt;/svg&gt;\n",
       "</body></html>\"></iframe>\n"
      ],
      "text/plain": [
       "This front-end cannot display the desired image type."
      ]
     },
     "metadata": {
      "image/svg+xml": {
       "height": 436,
       "width": 600
      },
      "text/html": {
       "height": 436,
       "width": 600
      }
     },
     "output_type": "display_data"
    }
   ],
   "source": [
    "// generate histogram of age \n",
    "histogram age , frequency by(gender) title(\"Age distribution by gender\")"
   ]
  },
  {
   "cell_type": "code",
   "execution_count": 26,
   "metadata": {},
   "outputs": [
    {
     "data": {
      "application/pdf": "[encoded data removed]",
      "image/svg+xml": "<?xml version=\"1.0\" encoding=\"UTF-8\" standalone=\"no\"?>\n<!-- This is a Stata 16.1 generated SVG file (http://www.stata.com) -->\n\n<svg version=\"1.1\" width=\"600px\" height=\"436px\" viewBox=\"0 0 3960 2880\" xmlns=\"http://www.w3.org/2000/svg\" xmlns:xlink=\"http://www.w3.org/1999/xlink\">\n\t<desc>Stata Graph - Graph</desc>\n\t<rect x=\"0\" y=\"0\" width=\"3960\" height=\"2880\" style=\"fill:#EAF2F3;stroke:none\"/>\n\t<rect x=\"0.00\" y=\"0.00\" width=\"3959.88\" height=\"2880.00\" style=\"fill:#EAF2F3\"/>\n\t<rect x=\"2.88\" y=\"2.88\" width=\"3954.12\" height=\"2874.24\" style=\"fill:none;stroke:#EAF2F3;stroke-width:5.76\"/>\n\t<rect x=\"390.80\" y=\"275.35\" width=\"3468.22\" height=\"2343.90\" style=\"fill:#FFFFFF\"/>\n\t<rect x=\"393.68\" y=\"278.23\" width=\"3462.46\" height=\"2338.14\" style=\"fill:none;stroke:#FFFFFF;stroke-width:5.76\"/>\n\t<line x1=\"390.80\" y1=\"2416.42\" x2=\"3859.02\" y2=\"2416.42\" style=\"stroke:#EAF2F3;stroke-width:8.64\"/>\n\t<line x1=\"390.80\" y1=\"1906.30\" x2=\"3859.02\" y2=\"1906.30\" style=\"stroke:#EAF2F3;stroke-width:8.64\"/>\n\t<line x1=\"390.80\" y1=\"1396.31\" x2=\"3859.02\" y2=\"1396.31\" style=\"stroke:#EAF2F3;stroke-width:8.64\"/>\n\t<line x1=\"390.80\" y1=\"886.20\" x2=\"3859.02\" y2=\"886.20\" style=\"stroke:#EAF2F3;stroke-width:8.64\"/>\n\t<line x1=\"390.80\" y1=\"376.21\" x2=\"3859.02\" y2=\"376.21\" style=\"stroke:#EAF2F3;stroke-width:8.64\"/>\n\t<rect x=\"683.72\" y=\"835.21\" width=\"960.80\" height=\"1173.19\" style=\"fill:#8DA3B7\"/>\n\t<rect x=\"688.04\" y=\"839.53\" width=\"952.16\" height=\"1164.55\" style=\"fill:none;stroke:#1A476F;stroke-width:8.64\"/>\n\t<line x1=\"683.72\" y1=\"1447.30\" x2=\"1644.51\" y2=\"1447.30\" style=\"stroke:#1A476F;stroke-width:8.64\"/>\n\t<line x1=\"1164.12\" y1=\"2008.40\" x2=\"1164.12\" y2=\"2518.39\" style=\"stroke:#1A476F;stroke-width:8.64\"/>\n\t<line x1=\"1164.12\" y1=\"835.21\" x2=\"1164.12\" y2=\"376.21\" style=\"stroke:#1A476F;stroke-width:8.64\"/>\n\t<line x1=\"842.24\" y1=\"2518.39\" x2=\"1485.99\" y2=\"2518.39\" style=\"stroke:#1A476F;stroke-width:8.64\"/>\n\t<line x1=\"842.24\" y1=\"376.21\" x2=\"1485.99\" y2=\"376.21\" style=\"stroke:#1A476F;stroke-width:8.64\"/>\n\t<rect x=\"2605.31\" y=\"835.21\" width=\"960.80\" height=\"1224.17\" style=\"fill:#8DA3B7\"/>\n\t<rect x=\"2609.63\" y=\"839.53\" width=\"952.16\" height=\"1215.53\" style=\"fill:none;stroke:#1A476F;stroke-width:8.64\"/>\n\t<line x1=\"2605.31\" y1=\"1447.30\" x2=\"3566.10\" y2=\"1447.30\" style=\"stroke:#1A476F;stroke-width:8.64\"/>\n\t<line x1=\"3085.71\" y1=\"2059.39\" x2=\"3085.71\" y2=\"2518.39\" style=\"stroke:#1A476F;stroke-width:8.64\"/>\n\t<line x1=\"3085.71\" y1=\"835.21\" x2=\"3085.71\" y2=\"376.21\" style=\"stroke:#1A476F;stroke-width:8.64\"/>\n\t<line x1=\"2763.83\" y1=\"2518.39\" x2=\"3407.58\" y2=\"2518.39\" style=\"stroke:#1A476F;stroke-width:8.64\"/>\n\t<line x1=\"2763.83\" y1=\"376.21\" x2=\"3407.58\" y2=\"376.21\" style=\"stroke:#1A476F;stroke-width:8.64\"/>\n\t<line x1=\"390.80\" y1=\"2619.25\" x2=\"390.80\" y2=\"275.35\" style=\"stroke:#000000;stroke-width:5.76\"/>\n\t<line x1=\"390.80\" y1=\"2416.42\" x2=\"350.83\" y2=\"2416.42\" style=\"stroke:#000000;stroke-width:5.76\"/>\n\t<text x=\"300.72\" y=\"2416.42\" style=\"font-family:'Helvetica';font-size:99.99px;fill:#000000\" transform=\"rotate(-90 300.72,2416.42)\" text-anchor=\"middle\">20</text>\n\t<line x1=\"390.80\" y1=\"1906.30\" x2=\"350.83\" y2=\"1906.30\" style=\"stroke:#000000;stroke-width:5.76\"/>\n\t<text x=\"300.72\" y=\"1906.30\" style=\"font-family:'Helvetica';font-size:99.99px;fill:#000000\" transform=\"rotate(-90 300.72,1906.30)\" text-anchor=\"middle\">30</text>\n\t<line x1=\"390.80\" y1=\"1396.31\" x2=\"350.83\" y2=\"1396.31\" style=\"stroke:#000000;stroke-width:5.76\"/>\n\t<text x=\"300.72\" y=\"1396.31\" style=\"font-family:'Helvetica';font-size:99.99px;fill:#000000\" transform=\"rotate(-90 300.72,1396.31)\" text-anchor=\"middle\">40</text>\n\t<line x1=\"390.80\" y1=\"886.20\" x2=\"350.83\" y2=\"886.20\" style=\"stroke:#000000;stroke-width:5.76\"/>\n\t<text x=\"300.72\" y=\"886.20\" style=\"font-family:'Helvetica';font-size:99.99px;fill:#000000\" transform=\"rotate(-90 300.72,886.20)\" text-anchor=\"middle\">50</text>\n\t<line x1=\"390.80\" y1=\"376.21\" x2=\"350.83\" y2=\"376.21\" style=\"stroke:#000000;stroke-width:5.76\"/>\n\t<text x=\"300.72\" y=\"376.21\" style=\"font-family:'Helvetica';font-size:99.99px;fill:#000000\" transform=\"rotate(-90 300.72,376.21)\" text-anchor=\"middle\">60</text>\n\t<text x=\"190.71\" y=\"1447.30\" style=\"font-family:'Helvetica';font-size:99.99px;fill:#000000\" transform=\"rotate(-90 190.71,1447.30)\" text-anchor=\"middle\">value of age</text>\n\t<line x1=\"390.80\" y1=\"2619.25\" x2=\"3859.02\" y2=\"2619.25\" style=\"stroke:#000000;stroke-width:5.76\"/>\n\t<text x=\"1164.12\" y=\"2729.16\" style=\"font-family:'Helvetica';font-size:99.99px;fill:#000000\" text-anchor=\"middle\">0</text>\n\t<text x=\"3085.71\" y=\"2729.16\" style=\"font-family:'Helvetica';font-size:99.99px;fill:#000000\" text-anchor=\"middle\">1</text>\n\t<text x=\"2124.91\" y=\"215.98\" style=\"font-family:'Helvetica';font-size:139.96px;fill:#1E2D53\" text-anchor=\"middle\">Box plot of age over gender</text>\n</svg>\n",
      "text/html": [
       "                <iframe frameborder=\"0\" scrolling=\"no\" height=\"436\" width=\"600\"                srcdoc=\"<html><body>&lt;?xml version=&quot;1.0&quot; encoding=&quot;UTF-8&quot; standalone=&quot;no&quot;?&gt;\n",
       "&lt;!-- This is a Stata 16.1 generated SVG file (http://www.stata.com) --&gt;\n",
       "\n",
       "&lt;svg version=&quot;1.1&quot; width=&quot;600px&quot; height=&quot;436px&quot; viewBox=&quot;0 0 3960 2880&quot; xmlns=&quot;http://www.w3.org/2000/svg&quot; xmlns:xlink=&quot;http://www.w3.org/1999/xlink&quot;&gt;\n",
       "\t&lt;desc&gt;Stata Graph - Graph&lt;/desc&gt;\n",
       "\t&lt;rect x=&quot;0&quot; y=&quot;0&quot; width=&quot;3960&quot; height=&quot;2880&quot; style=&quot;fill:#EAF2F3;stroke:none&quot;/&gt;\n",
       "\t&lt;rect x=&quot;0.00&quot; y=&quot;0.00&quot; width=&quot;3959.88&quot; height=&quot;2880.00&quot; style=&quot;fill:#EAF2F3&quot;/&gt;\n",
       "\t&lt;rect x=&quot;2.88&quot; y=&quot;2.88&quot; width=&quot;3954.12&quot; height=&quot;2874.24&quot; style=&quot;fill:none;stroke:#EAF2F3;stroke-width:5.76&quot;/&gt;\n",
       "\t&lt;rect x=&quot;390.80&quot; y=&quot;275.35&quot; width=&quot;3468.22&quot; height=&quot;2343.90&quot; style=&quot;fill:#FFFFFF&quot;/&gt;\n",
       "\t&lt;rect x=&quot;393.68&quot; y=&quot;278.23&quot; width=&quot;3462.46&quot; height=&quot;2338.14&quot; style=&quot;fill:none;stroke:#FFFFFF;stroke-width:5.76&quot;/&gt;\n",
       "\t&lt;line x1=&quot;390.80&quot; y1=&quot;2416.42&quot; x2=&quot;3859.02&quot; y2=&quot;2416.42&quot; style=&quot;stroke:#EAF2F3;stroke-width:8.64&quot;/&gt;\n",
       "\t&lt;line x1=&quot;390.80&quot; y1=&quot;1906.30&quot; x2=&quot;3859.02&quot; y2=&quot;1906.30&quot; style=&quot;stroke:#EAF2F3;stroke-width:8.64&quot;/&gt;\n",
       "\t&lt;line x1=&quot;390.80&quot; y1=&quot;1396.31&quot; x2=&quot;3859.02&quot; y2=&quot;1396.31&quot; style=&quot;stroke:#EAF2F3;stroke-width:8.64&quot;/&gt;\n",
       "\t&lt;line x1=&quot;390.80&quot; y1=&quot;886.20&quot; x2=&quot;3859.02&quot; y2=&quot;886.20&quot; style=&quot;stroke:#EAF2F3;stroke-width:8.64&quot;/&gt;\n",
       "\t&lt;line x1=&quot;390.80&quot; y1=&quot;376.21&quot; x2=&quot;3859.02&quot; y2=&quot;376.21&quot; style=&quot;stroke:#EAF2F3;stroke-width:8.64&quot;/&gt;\n",
       "\t&lt;rect x=&quot;683.72&quot; y=&quot;835.21&quot; width=&quot;960.80&quot; height=&quot;1173.19&quot; style=&quot;fill:#8DA3B7&quot;/&gt;\n",
       "\t&lt;rect x=&quot;688.04&quot; y=&quot;839.53&quot; width=&quot;952.16&quot; height=&quot;1164.55&quot; style=&quot;fill:none;stroke:#1A476F;stroke-width:8.64&quot;/&gt;\n",
       "\t&lt;line x1=&quot;683.72&quot; y1=&quot;1447.30&quot; x2=&quot;1644.51&quot; y2=&quot;1447.30&quot; style=&quot;stroke:#1A476F;stroke-width:8.64&quot;/&gt;\n",
       "\t&lt;line x1=&quot;1164.12&quot; y1=&quot;2008.40&quot; x2=&quot;1164.12&quot; y2=&quot;2518.39&quot; style=&quot;stroke:#1A476F;stroke-width:8.64&quot;/&gt;\n",
       "\t&lt;line x1=&quot;1164.12&quot; y1=&quot;835.21&quot; x2=&quot;1164.12&quot; y2=&quot;376.21&quot; style=&quot;stroke:#1A476F;stroke-width:8.64&quot;/&gt;\n",
       "\t&lt;line x1=&quot;842.24&quot; y1=&quot;2518.39&quot; x2=&quot;1485.99&quot; y2=&quot;2518.39&quot; style=&quot;stroke:#1A476F;stroke-width:8.64&quot;/&gt;\n",
       "\t&lt;line x1=&quot;842.24&quot; y1=&quot;376.21&quot; x2=&quot;1485.99&quot; y2=&quot;376.21&quot; style=&quot;stroke:#1A476F;stroke-width:8.64&quot;/&gt;\n",
       "\t&lt;rect x=&quot;2605.31&quot; y=&quot;835.21&quot; width=&quot;960.80&quot; height=&quot;1224.17&quot; style=&quot;fill:#8DA3B7&quot;/&gt;\n",
       "\t&lt;rect x=&quot;2609.63&quot; y=&quot;839.53&quot; width=&quot;952.16&quot; height=&quot;1215.53&quot; style=&quot;fill:none;stroke:#1A476F;stroke-width:8.64&quot;/&gt;\n",
       "\t&lt;line x1=&quot;2605.31&quot; y1=&quot;1447.30&quot; x2=&quot;3566.10&quot; y2=&quot;1447.30&quot; style=&quot;stroke:#1A476F;stroke-width:8.64&quot;/&gt;\n",
       "\t&lt;line x1=&quot;3085.71&quot; y1=&quot;2059.39&quot; x2=&quot;3085.71&quot; y2=&quot;2518.39&quot; style=&quot;stroke:#1A476F;stroke-width:8.64&quot;/&gt;\n",
       "\t&lt;line x1=&quot;3085.71&quot; y1=&quot;835.21&quot; x2=&quot;3085.71&quot; y2=&quot;376.21&quot; style=&quot;stroke:#1A476F;stroke-width:8.64&quot;/&gt;\n",
       "\t&lt;line x1=&quot;2763.83&quot; y1=&quot;2518.39&quot; x2=&quot;3407.58&quot; y2=&quot;2518.39&quot; style=&quot;stroke:#1A476F;stroke-width:8.64&quot;/&gt;\n",
       "\t&lt;line x1=&quot;2763.83&quot; y1=&quot;376.21&quot; x2=&quot;3407.58&quot; y2=&quot;376.21&quot; style=&quot;stroke:#1A476F;stroke-width:8.64&quot;/&gt;\n",
       "\t&lt;line x1=&quot;390.80&quot; y1=&quot;2619.25&quot; x2=&quot;390.80&quot; y2=&quot;275.35&quot; style=&quot;stroke:#000000;stroke-width:5.76&quot;/&gt;\n",
       "\t&lt;line x1=&quot;390.80&quot; y1=&quot;2416.42&quot; x2=&quot;350.83&quot; y2=&quot;2416.42&quot; style=&quot;stroke:#000000;stroke-width:5.76&quot;/&gt;\n",
       "\t&lt;text x=&quot;300.72&quot; y=&quot;2416.42&quot; style=&quot;font-family:&#x27;Helvetica&#x27;;font-size:99.99px;fill:#000000&quot; transform=&quot;rotate(-90 300.72,2416.42)&quot; text-anchor=&quot;middle&quot;&gt;20&lt;/text&gt;\n",
       "\t&lt;line x1=&quot;390.80&quot; y1=&quot;1906.30&quot; x2=&quot;350.83&quot; y2=&quot;1906.30&quot; style=&quot;stroke:#000000;stroke-width:5.76&quot;/&gt;\n",
       "\t&lt;text x=&quot;300.72&quot; y=&quot;1906.30&quot; style=&quot;font-family:&#x27;Helvetica&#x27;;font-size:99.99px;fill:#000000&quot; transform=&quot;rotate(-90 300.72,1906.30)&quot; text-anchor=&quot;middle&quot;&gt;30&lt;/text&gt;\n",
       "\t&lt;line x1=&quot;390.80&quot; y1=&quot;1396.31&quot; x2=&quot;350.83&quot; y2=&quot;1396.31&quot; style=&quot;stroke:#000000;stroke-width:5.76&quot;/&gt;\n",
       "\t&lt;text x=&quot;300.72&quot; y=&quot;1396.31&quot; style=&quot;font-family:&#x27;Helvetica&#x27;;font-size:99.99px;fill:#000000&quot; transform=&quot;rotate(-90 300.72,1396.31)&quot; text-anchor=&quot;middle&quot;&gt;40&lt;/text&gt;\n",
       "\t&lt;line x1=&quot;390.80&quot; y1=&quot;886.20&quot; x2=&quot;350.83&quot; y2=&quot;886.20&quot; style=&quot;stroke:#000000;stroke-width:5.76&quot;/&gt;\n",
       "\t&lt;text x=&quot;300.72&quot; y=&quot;886.20&quot; style=&quot;font-family:&#x27;Helvetica&#x27;;font-size:99.99px;fill:#000000&quot; transform=&quot;rotate(-90 300.72,886.20)&quot; text-anchor=&quot;middle&quot;&gt;50&lt;/text&gt;\n",
       "\t&lt;line x1=&quot;390.80&quot; y1=&quot;376.21&quot; x2=&quot;350.83&quot; y2=&quot;376.21&quot; style=&quot;stroke:#000000;stroke-width:5.76&quot;/&gt;\n",
       "\t&lt;text x=&quot;300.72&quot; y=&quot;376.21&quot; style=&quot;font-family:&#x27;Helvetica&#x27;;font-size:99.99px;fill:#000000&quot; transform=&quot;rotate(-90 300.72,376.21)&quot; text-anchor=&quot;middle&quot;&gt;60&lt;/text&gt;\n",
       "\t&lt;text x=&quot;190.71&quot; y=&quot;1447.30&quot; style=&quot;font-family:&#x27;Helvetica&#x27;;font-size:99.99px;fill:#000000&quot; transform=&quot;rotate(-90 190.71,1447.30)&quot; text-anchor=&quot;middle&quot;&gt;value of age&lt;/text&gt;\n",
       "\t&lt;line x1=&quot;390.80&quot; y1=&quot;2619.25&quot; x2=&quot;3859.02&quot; y2=&quot;2619.25&quot; style=&quot;stroke:#000000;stroke-width:5.76&quot;/&gt;\n",
       "\t&lt;text x=&quot;1164.12&quot; y=&quot;2729.16&quot; style=&quot;font-family:&#x27;Helvetica&#x27;;font-size:99.99px;fill:#000000&quot; text-anchor=&quot;middle&quot;&gt;0&lt;/text&gt;\n",
       "\t&lt;text x=&quot;3085.71&quot; y=&quot;2729.16&quot; style=&quot;font-family:&#x27;Helvetica&#x27;;font-size:99.99px;fill:#000000&quot; text-anchor=&quot;middle&quot;&gt;1&lt;/text&gt;\n",
       "\t&lt;text x=&quot;2124.91&quot; y=&quot;215.98&quot; style=&quot;font-family:&#x27;Helvetica&#x27;;font-size:139.96px;fill:#1E2D53&quot; text-anchor=&quot;middle&quot;&gt;Box plot of age over gender&lt;/text&gt;\n",
       "&lt;/svg&gt;\n",
       "</body></html>\"></iframe>\n"
      ],
      "text/plain": [
       "This front-end cannot display the desired image type."
      ]
     },
     "metadata": {
      "image/svg+xml": {
       "height": 436,
       "width": 600
      },
      "text/html": {
       "height": 436,
       "width": 600
      }
     },
     "output_type": "display_data"
    }
   ],
   "source": [
    "graph box age, over(gender) title(\"Box plot of age over gender\")"
   ]
  },
  {
   "cell_type": "code",
   "execution_count": 27,
   "metadata": {},
   "outputs": [
    {
     "data": {
      "application/pdf": "[encoded data removed]",
      "image/svg+xml": "<?xml version=\"1.0\" encoding=\"UTF-8\" standalone=\"no\"?>\n<!-- This is a Stata 16.1 generated SVG file (http://www.stata.com) -->\n\n<svg version=\"1.1\" width=\"600px\" height=\"436px\" viewBox=\"0 0 3960 2880\" xmlns=\"http://www.w3.org/2000/svg\" xmlns:xlink=\"http://www.w3.org/1999/xlink\">\n\t<desc>Stata Graph - Graph</desc>\n\t<rect x=\"0\" y=\"0\" width=\"3960\" height=\"2880\" style=\"fill:#EAF2F3;stroke:none\"/>\n\t<rect x=\"0.00\" y=\"0.00\" width=\"3959.88\" height=\"2880.00\" style=\"fill:#EAF2F3\"/>\n\t<rect x=\"2.88\" y=\"2.88\" width=\"3954.12\" height=\"2874.24\" style=\"fill:none;stroke:#EAF2F3;stroke-width:5.76\"/>\n\t<rect x=\"388.33\" y=\"432.77\" width=\"1683.50\" height=\"1944.30\" style=\"fill:#FFFFFF\"/>\n\t<rect x=\"390.78\" y=\"435.22\" width=\"1678.60\" height=\"1939.40\" style=\"fill:none;stroke:#FFFFFF;stroke-width:4.90\"/>\n\t<line x1=\"388.33\" y1=\"2377.06\" x2=\"2071.82\" y2=\"2377.06\" style=\"stroke:#EAF2F3;stroke-width:7.34\"/>\n\t<line x1=\"388.33\" y1=\"1819.55\" x2=\"2071.82\" y2=\"1819.55\" style=\"stroke:#EAF2F3;stroke-width:7.34\"/>\n\t<line x1=\"388.33\" y1=\"1261.92\" x2=\"2071.82\" y2=\"1261.92\" style=\"stroke:#EAF2F3;stroke-width:7.34\"/>\n\t<line x1=\"388.33\" y1=\"704.28\" x2=\"2071.82\" y2=\"704.28\" style=\"stroke:#EAF2F3;stroke-width:7.34\"/>\n\t<rect x=\"2141.00\" y=\"432.77\" width=\"1683.49\" height=\"1944.30\" style=\"fill:#FFFFFF\"/>\n\t<rect x=\"2143.45\" y=\"435.22\" width=\"1678.60\" height=\"1939.40\" style=\"fill:none;stroke:#FFFFFF;stroke-width:4.90\"/>\n\t<line x1=\"2141.00\" y1=\"2377.06\" x2=\"3824.49\" y2=\"2377.06\" style=\"stroke:#EAF2F3;stroke-width:7.34\"/>\n\t<line x1=\"2141.00\" y1=\"1819.55\" x2=\"3824.49\" y2=\"1819.55\" style=\"stroke:#EAF2F3;stroke-width:7.34\"/>\n\t<line x1=\"2141.00\" y1=\"1261.92\" x2=\"3824.49\" y2=\"1261.92\" style=\"stroke:#EAF2F3;stroke-width:7.34\"/>\n\t<line x1=\"2141.00\" y1=\"704.28\" x2=\"3824.49\" y2=\"704.28\" style=\"stroke:#EAF2F3;stroke-width:7.34\"/>\n\t<rect x=\"556.50\" y=\"2312.59\" width=\"48.76\" height=\"64.48\" style=\"fill:#3E647D\"/>\n\t<rect x=\"560.18\" y=\"2316.26\" width=\"41.41\" height=\"57.13\" style=\"fill:none;stroke:#3E647D;stroke-width:7.34\"/>\n\t<rect x=\"605.26\" y=\"2312.59\" width=\"48.76\" height=\"64.48\" style=\"fill:#3E647D\"/>\n\t<rect x=\"608.93\" y=\"2316.26\" width=\"41.41\" height=\"57.13\" style=\"fill:none;stroke:#3E647D;stroke-width:7.34\"/>\n\t<rect x=\"654.02\" y=\"2280.29\" width=\"48.63\" height=\"96.78\" style=\"fill:#3E647D\"/>\n\t<rect x=\"657.69\" y=\"2283.96\" width=\"41.29\" height=\"89.43\" style=\"fill:none;stroke:#3E647D;stroke-width:7.34\"/>\n\t<rect x=\"702.65\" y=\"2183.51\" width=\"48.76\" height=\"193.55\" style=\"fill:#3E647D\"/>\n\t<rect x=\"706.32\" y=\"2187.19\" width=\"41.41\" height=\"186.21\" style=\"fill:none;stroke:#3E647D;stroke-width:7.34\"/>\n\t<rect x=\"751.41\" y=\"2183.51\" width=\"48.76\" height=\"193.55\" style=\"fill:#3E647D\"/>\n\t<rect x=\"755.08\" y=\"2187.19\" width=\"41.41\" height=\"186.21\" style=\"fill:none;stroke:#3E647D;stroke-width:7.34\"/>\n\t<rect x=\"800.17\" y=\"1989.84\" width=\"48.63\" height=\"387.23\" style=\"fill:#3E647D\"/>\n\t<rect x=\"803.84\" y=\"1993.51\" width=\"41.29\" height=\"379.88\" style=\"fill:none;stroke:#3E647D;stroke-width:7.34\"/>\n\t<rect x=\"848.80\" y=\"1699.39\" width=\"48.76\" height=\"677.68\" style=\"fill:#3E647D\"/>\n\t<rect x=\"852.47\" y=\"1703.06\" width=\"41.41\" height=\"670.33\" style=\"fill:none;stroke:#3E647D;stroke-width:7.34\"/>\n\t<rect x=\"897.56\" y=\"1763.99\" width=\"48.76\" height=\"613.08\" style=\"fill:#3E647D\"/>\n\t<rect x=\"901.23\" y=\"1767.66\" width=\"41.41\" height=\"605.73\" style=\"fill:none;stroke:#3E647D;stroke-width:7.34\"/>\n\t<rect x=\"946.32\" y=\"1473.54\" width=\"48.63\" height=\"903.53\" style=\"fill:#3E647D\"/>\n\t<rect x=\"949.99\" y=\"1477.21\" width=\"41.29\" height=\"896.18\" style=\"fill:none;stroke:#3E647D;stroke-width:7.34\"/>\n\t<rect x=\"994.95\" y=\"1279.86\" width=\"48.76\" height=\"1097.20\" style=\"fill:#3E647D\"/>\n\t<rect x=\"998.62\" y=\"1283.53\" width=\"41.41\" height=\"1089.86\" style=\"fill:none;stroke:#3E647D;stroke-width:7.34\"/>\n\t<rect x=\"1043.71\" y=\"1183.09\" width=\"48.76\" height=\"1193.98\" style=\"fill:#3E647D\"/>\n\t<rect x=\"1047.38\" y=\"1186.76\" width=\"41.41\" height=\"1186.63\" style=\"fill:none;stroke:#3E647D;stroke-width:7.34\"/>\n\t<rect x=\"1092.46\" y=\"1183.09\" width=\"48.63\" height=\"1193.98\" style=\"fill:#3E647D\"/>\n\t<rect x=\"1096.14\" y=\"1186.76\" width=\"41.29\" height=\"1186.63\" style=\"fill:none;stroke:#3E647D;stroke-width:7.34\"/>\n\t<rect x=\"1141.10\" y=\"698.96\" width=\"48.76\" height=\"1678.10\" style=\"fill:#3E647D\"/>\n\t<rect x=\"1144.77\" y=\"702.63\" width=\"41.41\" height=\"1670.76\" style=\"fill:none;stroke:#3E647D;stroke-width:7.34\"/>\n\t<rect x=\"1189.86\" y=\"763.56\" width=\"48.76\" height=\"1613.50\" style=\"fill:#3E647D\"/>\n\t<rect x=\"1193.53\" y=\"767.23\" width=\"41.41\" height=\"1606.16\" style=\"fill:none;stroke:#3E647D;stroke-width:7.34\"/>\n\t<rect x=\"1238.61\" y=\"1215.26\" width=\"48.63\" height=\"1161.80\" style=\"fill:#3E647D\"/>\n\t<rect x=\"1242.29\" y=\"1218.93\" width=\"41.29\" height=\"1154.46\" style=\"fill:none;stroke:#3E647D;stroke-width:7.34\"/>\n\t<rect x=\"1287.25\" y=\"1150.79\" width=\"48.76\" height=\"1226.28\" style=\"fill:#3E647D\"/>\n\t<rect x=\"1290.92\" y=\"1154.46\" width=\"41.41\" height=\"1218.93\" style=\"fill:none;stroke:#3E647D;stroke-width:7.34\"/>\n\t<rect x=\"1336.01\" y=\"1279.86\" width=\"48.76\" height=\"1097.20\" style=\"fill:#3E647D\"/>\n\t<rect x=\"1339.68\" y=\"1283.53\" width=\"41.41\" height=\"1089.86\" style=\"fill:none;stroke:#3E647D;stroke-width:7.34\"/>\n\t<rect x=\"1384.76\" y=\"1441.24\" width=\"48.63\" height=\"935.83\" style=\"fill:#3E647D\"/>\n\t<rect x=\"1388.43\" y=\"1444.91\" width=\"41.29\" height=\"928.48\" style=\"fill:none;stroke:#3E647D;stroke-width:7.34\"/>\n\t<rect x=\"1433.40\" y=\"1473.54\" width=\"48.76\" height=\"903.53\" style=\"fill:#3E647D\"/>\n\t<rect x=\"1437.07\" y=\"1477.21\" width=\"41.41\" height=\"896.18\" style=\"fill:none;stroke:#3E647D;stroke-width:7.34\"/>\n\t<rect x=\"1482.15\" y=\"1925.24\" width=\"48.76\" height=\"451.83\" style=\"fill:#3E647D\"/>\n\t<rect x=\"1485.83\" y=\"1928.91\" width=\"41.41\" height=\"444.48\" style=\"fill:none;stroke:#3E647D;stroke-width:7.34\"/>\n\t<rect x=\"1530.91\" y=\"1763.99\" width=\"48.63\" height=\"613.08\" style=\"fill:#3E647D\"/>\n\t<rect x=\"1534.58\" y=\"1767.66\" width=\"41.29\" height=\"605.73\" style=\"fill:none;stroke:#3E647D;stroke-width:7.34\"/>\n\t<rect x=\"1579.55\" y=\"2183.51\" width=\"48.76\" height=\"193.55\" style=\"fill:#3E647D\"/>\n\t<rect x=\"1583.22\" y=\"2187.19\" width=\"41.41\" height=\"186.21\" style=\"fill:none;stroke:#3E647D;stroke-width:7.34\"/>\n\t<rect x=\"1628.30\" y=\"2247.99\" width=\"48.76\" height=\"129.08\" style=\"fill:#3E647D\"/>\n\t<rect x=\"1631.97\" y=\"2251.66\" width=\"41.41\" height=\"121.73\" style=\"fill:none;stroke:#3E647D;stroke-width:7.34\"/>\n\t<rect x=\"1677.06\" y=\"2215.69\" width=\"48.63\" height=\"161.38\" style=\"fill:#3E647D\"/>\n\t<rect x=\"1680.73\" y=\"2219.36\" width=\"41.29\" height=\"154.03\" style=\"fill:none;stroke:#3E647D;stroke-width:7.34\"/>\n\t<rect x=\"1725.69\" y=\"2312.59\" width=\"48.76\" height=\"64.48\" style=\"fill:#3E647D\"/>\n\t<rect x=\"1729.37\" y=\"2316.26\" width=\"41.41\" height=\"57.13\" style=\"fill:none;stroke:#3E647D;stroke-width:7.34\"/>\n\t<rect x=\"1969.36\" y=\"2344.89\" width=\"48.63\" height=\"32.18\" style=\"fill:#3E647D\"/>\n\t<rect x=\"1973.03\" y=\"2348.56\" width=\"41.29\" height=\"24.83\" style=\"fill:none;stroke:#3E647D;stroke-width:7.34\"/>\n\t<rect x=\"2357.93\" y=\"2341.42\" width=\"48.63\" height=\"35.64\" style=\"fill:#3E647D\"/>\n\t<rect x=\"2361.60\" y=\"2345.10\" width=\"41.29\" height=\"28.30\" style=\"fill:none;stroke:#3E647D;stroke-width:7.34\"/>\n\t<rect x=\"2406.57\" y=\"2270.14\" width=\"48.76\" height=\"106.92\" style=\"fill:#3E647D\"/>\n\t<rect x=\"2410.24\" y=\"2273.81\" width=\"41.41\" height=\"99.58\" style=\"fill:none;stroke:#3E647D;stroke-width:7.34\"/>\n\t<rect x=\"2455.32\" y=\"2270.14\" width=\"48.76\" height=\"106.92\" style=\"fill:#3E647D\"/>\n\t<rect x=\"2459.00\" y=\"2273.81\" width=\"41.41\" height=\"99.58\" style=\"fill:none;stroke:#3E647D;stroke-width:7.34\"/>\n\t<rect x=\"2504.08\" y=\"2127.45\" width=\"48.63\" height=\"249.61\" style=\"fill:#3E647D\"/>\n\t<rect x=\"2507.75\" y=\"2131.12\" width=\"41.29\" height=\"242.27\" style=\"fill:none;stroke:#3E647D;stroke-width:7.34\"/>\n\t<rect x=\"2552.72\" y=\"1877.72\" width=\"48.76\" height=\"499.35\" style=\"fill:#3E647D\"/>\n\t<rect x=\"2556.39\" y=\"1881.39\" width=\"41.41\" height=\"492.00\" style=\"fill:none;stroke:#3E647D;stroke-width:7.34\"/>\n\t<rect x=\"2601.47\" y=\"1913.36\" width=\"48.76\" height=\"463.71\" style=\"fill:#3E647D\"/>\n\t<rect x=\"2605.14\" y=\"1917.03\" width=\"41.41\" height=\"456.36\" style=\"fill:none;stroke:#3E647D;stroke-width:7.34\"/>\n\t<rect x=\"2650.23\" y=\"1628.11\" width=\"48.63\" height=\"748.96\" style=\"fill:#3E647D\"/>\n\t<rect x=\"2653.90\" y=\"1631.78\" width=\"41.29\" height=\"741.61\" style=\"fill:none;stroke:#3E647D;stroke-width:7.34\"/>\n\t<rect x=\"2698.86\" y=\"1449.65\" width=\"48.76\" height=\"927.41\" style=\"fill:#3E647D\"/>\n\t<rect x=\"2702.54\" y=\"1453.32\" width=\"41.41\" height=\"920.07\" style=\"fill:none;stroke:#3E647D;stroke-width:7.34\"/>\n\t<rect x=\"2747.62\" y=\"1057.35\" width=\"48.76\" height=\"1319.71\" style=\"fill:#3E647D\"/>\n\t<rect x=\"2751.29\" y=\"1061.02\" width=\"41.41\" height=\"1312.37\" style=\"fill:none;stroke:#3E647D;stroke-width:7.34\"/>\n\t<rect x=\"2796.38\" y=\"1235.68\" width=\"48.63\" height=\"1141.38\" style=\"fill:#3E647D\"/>\n\t<rect x=\"2800.05\" y=\"1239.35\" width=\"41.29\" height=\"1134.04\" style=\"fill:none;stroke:#3E647D;stroke-width:7.34\"/>\n\t<rect x=\"2845.01\" y=\"950.31\" width=\"48.76\" height=\"1426.76\" style=\"fill:#3E647D\"/>\n\t<rect x=\"2848.68\" y=\"953.98\" width=\"41.41\" height=\"1419.41\" style=\"fill:none;stroke:#3E647D;stroke-width:7.34\"/>\n\t<rect x=\"2893.77\" y=\"665.05\" width=\"48.76\" height=\"1712.01\" style=\"fill:#3E647D\"/>\n\t<rect x=\"2897.44\" y=\"668.73\" width=\"41.41\" height=\"1704.67\" style=\"fill:none;stroke:#3E647D;stroke-width:7.34\"/>\n\t<rect x=\"2942.53\" y=\"486.60\" width=\"48.63\" height=\"1890.46\" style=\"fill:#3E647D\"/>\n\t<rect x=\"2946.20\" y=\"490.27\" width=\"41.29\" height=\"1883.12\" style=\"fill:none;stroke:#3E647D;stroke-width:7.34\"/>\n\t<rect x=\"2991.16\" y=\"1164.40\" width=\"48.76\" height=\"1212.66\" style=\"fill:#3E647D\"/>\n\t<rect x=\"2994.83\" y=\"1168.07\" width=\"41.41\" height=\"1205.32\" style=\"fill:none;stroke:#3E647D;stroke-width:7.34\"/>\n\t<rect x=\"3039.92\" y=\"1128.64\" width=\"48.76\" height=\"1248.43\" style=\"fill:#3E647D\"/>\n\t<rect x=\"3043.59\" y=\"1132.31\" width=\"41.41\" height=\"1241.09\" style=\"fill:none;stroke:#3E647D;stroke-width:7.34\"/>\n\t<rect x=\"3088.68\" y=\"1307.09\" width=\"48.63\" height=\"1069.98\" style=\"fill:#3E647D\"/>\n\t<rect x=\"3092.35\" y=\"1310.76\" width=\"41.29\" height=\"1062.63\" style=\"fill:none;stroke:#3E647D;stroke-width:7.34\"/>\n\t<rect x=\"3137.31\" y=\"1770.79\" width=\"48.76\" height=\"606.27\" style=\"fill:#3E647D\"/>\n\t<rect x=\"3140.98\" y=\"1774.47\" width=\"41.41\" height=\"598.93\" style=\"fill:none;stroke:#3E647D;stroke-width:7.34\"/>\n\t<rect x=\"3186.07\" y=\"1342.73\" width=\"48.76\" height=\"1034.33\" style=\"fill:#3E647D\"/>\n\t<rect x=\"3189.74\" y=\"1346.40\" width=\"41.41\" height=\"1026.99\" style=\"fill:none;stroke:#3E647D;stroke-width:7.34\"/>\n\t<rect x=\"3234.82\" y=\"1984.76\" width=\"48.63\" height=\"392.30\" style=\"fill:#3E647D\"/>\n\t<rect x=\"3238.50\" y=\"1988.44\" width=\"41.29\" height=\"384.96\" style=\"fill:none;stroke:#3E647D;stroke-width:7.34\"/>\n\t<rect x=\"3283.46\" y=\"2127.45\" width=\"48.76\" height=\"249.61\" style=\"fill:#3E647D\"/>\n\t<rect x=\"3287.13\" y=\"2131.12\" width=\"41.41\" height=\"242.27\" style=\"fill:none;stroke:#3E647D;stroke-width:7.34\"/>\n\t<rect x=\"3332.22\" y=\"2091.81\" width=\"48.76\" height=\"285.25\" style=\"fill:#3E647D\"/>\n\t<rect x=\"3335.89\" y=\"2095.48\" width=\"41.41\" height=\"277.91\" style=\"fill:none;stroke:#3E647D;stroke-width:7.34\"/>\n\t<rect x=\"3380.97\" y=\"2341.42\" width=\"48.63\" height=\"35.64\" style=\"fill:#3E647D\"/>\n\t<rect x=\"3384.65\" y=\"2345.10\" width=\"41.29\" height=\"28.30\" style=\"fill:none;stroke:#3E647D;stroke-width:7.34\"/>\n\t<rect x=\"3429.61\" y=\"2341.42\" width=\"48.76\" height=\"35.64\" style=\"fill:#3E647D\"/>\n\t<rect x=\"3433.28\" y=\"2345.10\" width=\"41.41\" height=\"28.30\" style=\"fill:none;stroke:#3E647D;stroke-width:7.34\"/>\n\t<rect x=\"3478.36\" y=\"2341.42\" width=\"48.76\" height=\"35.64\" style=\"fill:#3E647D\"/>\n\t<rect x=\"3482.04\" y=\"2345.10\" width=\"41.41\" height=\"28.30\" style=\"fill:none;stroke:#3E647D;stroke-width:7.34\"/>\n\t<rect x=\"3527.12\" y=\"2341.42\" width=\"48.63\" height=\"35.64\" style=\"fill:#3E647D\"/>\n\t<rect x=\"3530.79\" y=\"2345.10\" width=\"41.29\" height=\"28.30\" style=\"fill:none;stroke:#3E647D;stroke-width:7.34\"/>\n\t<rect x=\"3575.76\" y=\"2305.78\" width=\"48.76\" height=\"71.28\" style=\"fill:#3E647D\"/>\n\t<rect x=\"3579.43\" y=\"2309.45\" width=\"41.41\" height=\"63.94\" style=\"fill:none;stroke:#3E647D;stroke-width:7.34\"/>\n\t<line x1=\"388.33\" y1=\"2377.06\" x2=\"388.33\" y2=\"432.77\" style=\"stroke:#000000;stroke-width:4.90\"/>\n\t<line x1=\"388.33\" y1=\"2377.06\" x2=\"354.30\" y2=\"2377.06\" style=\"stroke:#000000;stroke-width:4.90\"/>\n\t<text x=\"311.78\" y=\"2377.06\" style=\"font-family:'Helvetica';font-size:85.02px;fill:#000000\" transform=\"rotate(-90 311.78,2377.06)\" text-anchor=\"middle\">0</text>\n\t<line x1=\"388.33\" y1=\"1819.55\" x2=\"354.30\" y2=\"1819.55\" style=\"stroke:#000000;stroke-width:4.90\"/>\n\t<text x=\"311.78\" y=\"1819.55\" style=\"font-family:'Helvetica';font-size:85.02px;fill:#000000\" transform=\"rotate(-90 311.78,1819.55)\" text-anchor=\"middle\">.05</text>\n\t<line x1=\"388.33\" y1=\"1261.92\" x2=\"354.30\" y2=\"1261.92\" style=\"stroke:#000000;stroke-width:4.90\"/>\n\t<text x=\"311.78\" y=\"1261.92\" style=\"font-family:'Helvetica';font-size:85.02px;fill:#000000\" transform=\"rotate(-90 311.78,1261.92)\" text-anchor=\"middle\">.1</text>\n\t<line x1=\"388.33\" y1=\"704.28\" x2=\"354.30\" y2=\"704.28\" style=\"stroke:#000000;stroke-width:4.90\"/>\n\t<text x=\"311.78\" y=\"704.28\" style=\"font-family:'Helvetica';font-size:85.02px;fill:#000000\" transform=\"rotate(-90 311.78,704.28)\" text-anchor=\"middle\">.15</text>\n\t<line x1=\"388.33\" y1=\"2377.06\" x2=\"2071.82\" y2=\"2377.06\" style=\"stroke:#000000;stroke-width:4.90\"/>\n\t<line x1=\"442.16\" y1=\"2377.06\" x2=\"442.16\" y2=\"2411.10\" style=\"stroke:#000000;stroke-width:4.90\"/>\n\t<text x=\"442.16\" y=\"2487.50\" style=\"font-family:'Helvetica';font-size:85.02px;fill:#000000\" text-anchor=\"middle\">10</text>\n\t<line x1=\"812.29\" y1=\"2377.06\" x2=\"812.29\" y2=\"2411.10\" style=\"stroke:#000000;stroke-width:4.90\"/>\n\t<text x=\"812.29\" y=\"2487.50\" style=\"font-family:'Helvetica';font-size:85.02px;fill:#000000\" text-anchor=\"middle\">15</text>\n\t<line x1=\"1182.31\" y1=\"2377.06\" x2=\"1182.31\" y2=\"2411.10\" style=\"stroke:#000000;stroke-width:4.90\"/>\n\t<text x=\"1182.31\" y=\"2487.50\" style=\"font-family:'Helvetica';font-size:85.02px;fill:#000000\" text-anchor=\"middle\">20</text>\n\t<line x1=\"1552.32\" y1=\"2377.06\" x2=\"1552.32\" y2=\"2411.10\" style=\"stroke:#000000;stroke-width:4.90\"/>\n\t<text x=\"1552.32\" y=\"2487.50\" style=\"font-family:'Helvetica';font-size:85.02px;fill:#000000\" text-anchor=\"middle\">25</text>\n\t<line x1=\"1922.46\" y1=\"2377.06\" x2=\"1922.46\" y2=\"2411.10\" style=\"stroke:#000000;stroke-width:4.90\"/>\n\t<text x=\"1922.46\" y=\"2487.50\" style=\"font-family:'Helvetica';font-size:85.02px;fill:#000000\" text-anchor=\"middle\">30</text>\n\t<line x1=\"2141.00\" y1=\"2377.06\" x2=\"3824.49\" y2=\"2377.06\" style=\"stroke:#000000;stroke-width:4.90\"/>\n\t<line x1=\"2194.83\" y1=\"2377.06\" x2=\"2194.83\" y2=\"2411.10\" style=\"stroke:#000000;stroke-width:4.90\"/>\n\t<text x=\"2194.83\" y=\"2487.50\" style=\"font-family:'Helvetica';font-size:85.02px;fill:#000000\" text-anchor=\"middle\">10</text>\n\t<line x1=\"2564.84\" y1=\"2377.06\" x2=\"2564.84\" y2=\"2411.10\" style=\"stroke:#000000;stroke-width:4.90\"/>\n\t<text x=\"2564.84\" y=\"2487.50\" style=\"font-family:'Helvetica';font-size:85.02px;fill:#000000\" text-anchor=\"middle\">15</text>\n\t<line x1=\"2934.98\" y1=\"2377.06\" x2=\"2934.98\" y2=\"2411.10\" style=\"stroke:#000000;stroke-width:4.90\"/>\n\t<text x=\"2934.98\" y=\"2487.50\" style=\"font-family:'Helvetica';font-size:85.02px;fill:#000000\" text-anchor=\"middle\">20</text>\n\t<line x1=\"3304.99\" y1=\"2377.06\" x2=\"3304.99\" y2=\"2411.10\" style=\"stroke:#000000;stroke-width:4.90\"/>\n\t<text x=\"3304.99\" y=\"2487.50\" style=\"font-family:'Helvetica';font-size:85.02px;fill:#000000\" text-anchor=\"middle\">25</text>\n\t<line x1=\"3675.13\" y1=\"2377.06\" x2=\"3675.13\" y2=\"2411.10\" style=\"stroke:#000000;stroke-width:4.90\"/>\n\t<text x=\"3675.13\" y=\"2487.50\" style=\"font-family:'Helvetica';font-size:85.02px;fill:#000000\" text-anchor=\"middle\">30</text>\n\t<rect x=\"388.33\" y=\"309.88\" width=\"1683.50\" height=\"122.89\" style=\"fill:#D9E6EB\"/>\n\t<rect x=\"390.78\" y=\"312.33\" width=\"1678.60\" height=\"117.99\" style=\"fill:none;stroke:#D9E6EB;stroke-width:4.90\"/>\n\t<text x=\"1230.08\" y=\"390.04\" style=\"font-family:'Helvetica';font-size:93.56px;fill:#000000\" text-anchor=\"middle\">0</text>\n\t<rect x=\"2141.00\" y=\"309.88\" width=\"1683.49\" height=\"122.89\" style=\"fill:#D9E6EB\"/>\n\t<rect x=\"2143.45\" y=\"312.33\" width=\"1678.60\" height=\"117.99\" style=\"fill:none;stroke:#D9E6EB;stroke-width:4.90\"/>\n\t<text x=\"2982.75\" y=\"390.04\" style=\"font-family:'Helvetica';font-size:93.56px;fill:#000000\" text-anchor=\"middle\">1</text>\n\t<text x=\"170.79\" y=\"1419.95\" style=\"font-family:'Helvetica';font-size:99.99px;fill:#000000\" transform=\"rotate(-90 170.79,1419.95)\" text-anchor=\"middle\">Density</text>\n\t<text x=\"2029.99\" y=\"2634.61\" style=\"font-family:'Helvetica';font-size:99.99px;fill:#000000\" text-anchor=\"middle\">amount of antibody</text>\n\t<text x=\"218.05\" y=\"2737.89\" style=\"font-family:'Helvetica';font-size:79.94px;fill:#000000\">Graphs by female = 1, male = 0 </text>\n\t<text x=\"2029.99\" y=\"215.98\" style=\"font-family:'Helvetica';font-size:139.96px;fill:#1E2D53\" text-anchor=\"middle\">Distribution of antibody by gender</text>\n</svg>\n",
      "text/html": [
       "                <iframe frameborder=\"0\" scrolling=\"no\" height=\"436\" width=\"600\"                srcdoc=\"<html><body>&lt;?xml version=&quot;1.0&quot; encoding=&quot;UTF-8&quot; standalone=&quot;no&quot;?&gt;\n",
       "&lt;!-- This is a Stata 16.1 generated SVG file (http://www.stata.com) --&gt;\n",
       "\n",
       "&lt;svg version=&quot;1.1&quot; width=&quot;600px&quot; height=&quot;436px&quot; viewBox=&quot;0 0 3960 2880&quot; xmlns=&quot;http://www.w3.org/2000/svg&quot; xmlns:xlink=&quot;http://www.w3.org/1999/xlink&quot;&gt;\n",
       "\t&lt;desc&gt;Stata Graph - Graph&lt;/desc&gt;\n",
       "\t&lt;rect x=&quot;0&quot; y=&quot;0&quot; width=&quot;3960&quot; height=&quot;2880&quot; style=&quot;fill:#EAF2F3;stroke:none&quot;/&gt;\n",
       "\t&lt;rect x=&quot;0.00&quot; y=&quot;0.00&quot; width=&quot;3959.88&quot; height=&quot;2880.00&quot; style=&quot;fill:#EAF2F3&quot;/&gt;\n",
       "\t&lt;rect x=&quot;2.88&quot; y=&quot;2.88&quot; width=&quot;3954.12&quot; height=&quot;2874.24&quot; style=&quot;fill:none;stroke:#EAF2F3;stroke-width:5.76&quot;/&gt;\n",
       "\t&lt;rect x=&quot;388.33&quot; y=&quot;432.77&quot; width=&quot;1683.50&quot; height=&quot;1944.30&quot; style=&quot;fill:#FFFFFF&quot;/&gt;\n",
       "\t&lt;rect x=&quot;390.78&quot; y=&quot;435.22&quot; width=&quot;1678.60&quot; height=&quot;1939.40&quot; style=&quot;fill:none;stroke:#FFFFFF;stroke-width:4.90&quot;/&gt;\n",
       "\t&lt;line x1=&quot;388.33&quot; y1=&quot;2377.06&quot; x2=&quot;2071.82&quot; y2=&quot;2377.06&quot; style=&quot;stroke:#EAF2F3;stroke-width:7.34&quot;/&gt;\n",
       "\t&lt;line x1=&quot;388.33&quot; y1=&quot;1819.55&quot; x2=&quot;2071.82&quot; y2=&quot;1819.55&quot; style=&quot;stroke:#EAF2F3;stroke-width:7.34&quot;/&gt;\n",
       "\t&lt;line x1=&quot;388.33&quot; y1=&quot;1261.92&quot; x2=&quot;2071.82&quot; y2=&quot;1261.92&quot; style=&quot;stroke:#EAF2F3;stroke-width:7.34&quot;/&gt;\n",
       "\t&lt;line x1=&quot;388.33&quot; y1=&quot;704.28&quot; x2=&quot;2071.82&quot; y2=&quot;704.28&quot; style=&quot;stroke:#EAF2F3;stroke-width:7.34&quot;/&gt;\n",
       "\t&lt;rect x=&quot;2141.00&quot; y=&quot;432.77&quot; width=&quot;1683.49&quot; height=&quot;1944.30&quot; style=&quot;fill:#FFFFFF&quot;/&gt;\n",
       "\t&lt;rect x=&quot;2143.45&quot; y=&quot;435.22&quot; width=&quot;1678.60&quot; height=&quot;1939.40&quot; style=&quot;fill:none;stroke:#FFFFFF;stroke-width:4.90&quot;/&gt;\n",
       "\t&lt;line x1=&quot;2141.00&quot; y1=&quot;2377.06&quot; x2=&quot;3824.49&quot; y2=&quot;2377.06&quot; style=&quot;stroke:#EAF2F3;stroke-width:7.34&quot;/&gt;\n",
       "\t&lt;line x1=&quot;2141.00&quot; y1=&quot;1819.55&quot; x2=&quot;3824.49&quot; y2=&quot;1819.55&quot; style=&quot;stroke:#EAF2F3;stroke-width:7.34&quot;/&gt;\n",
       "\t&lt;line x1=&quot;2141.00&quot; y1=&quot;1261.92&quot; x2=&quot;3824.49&quot; y2=&quot;1261.92&quot; style=&quot;stroke:#EAF2F3;stroke-width:7.34&quot;/&gt;\n",
       "\t&lt;line x1=&quot;2141.00&quot; y1=&quot;704.28&quot; x2=&quot;3824.49&quot; y2=&quot;704.28&quot; style=&quot;stroke:#EAF2F3;stroke-width:7.34&quot;/&gt;\n",
       "\t&lt;rect x=&quot;556.50&quot; y=&quot;2312.59&quot; width=&quot;48.76&quot; height=&quot;64.48&quot; style=&quot;fill:#3E647D&quot;/&gt;\n",
       "\t&lt;rect x=&quot;560.18&quot; y=&quot;2316.26&quot; width=&quot;41.41&quot; height=&quot;57.13&quot; style=&quot;fill:none;stroke:#3E647D;stroke-width:7.34&quot;/&gt;\n",
       "\t&lt;rect x=&quot;605.26&quot; y=&quot;2312.59&quot; width=&quot;48.76&quot; height=&quot;64.48&quot; style=&quot;fill:#3E647D&quot;/&gt;\n",
       "\t&lt;rect x=&quot;608.93&quot; y=&quot;2316.26&quot; width=&quot;41.41&quot; height=&quot;57.13&quot; style=&quot;fill:none;stroke:#3E647D;stroke-width:7.34&quot;/&gt;\n",
       "\t&lt;rect x=&quot;654.02&quot; y=&quot;2280.29&quot; width=&quot;48.63&quot; height=&quot;96.78&quot; style=&quot;fill:#3E647D&quot;/&gt;\n",
       "\t&lt;rect x=&quot;657.69&quot; y=&quot;2283.96&quot; width=&quot;41.29&quot; height=&quot;89.43&quot; style=&quot;fill:none;stroke:#3E647D;stroke-width:7.34&quot;/&gt;\n",
       "\t&lt;rect x=&quot;702.65&quot; y=&quot;2183.51&quot; width=&quot;48.76&quot; height=&quot;193.55&quot; style=&quot;fill:#3E647D&quot;/&gt;\n",
       "\t&lt;rect x=&quot;706.32&quot; y=&quot;2187.19&quot; width=&quot;41.41&quot; height=&quot;186.21&quot; style=&quot;fill:none;stroke:#3E647D;stroke-width:7.34&quot;/&gt;\n",
       "\t&lt;rect x=&quot;751.41&quot; y=&quot;2183.51&quot; width=&quot;48.76&quot; height=&quot;193.55&quot; style=&quot;fill:#3E647D&quot;/&gt;\n",
       "\t&lt;rect x=&quot;755.08&quot; y=&quot;2187.19&quot; width=&quot;41.41&quot; height=&quot;186.21&quot; style=&quot;fill:none;stroke:#3E647D;stroke-width:7.34&quot;/&gt;\n",
       "\t&lt;rect x=&quot;800.17&quot; y=&quot;1989.84&quot; width=&quot;48.63&quot; height=&quot;387.23&quot; style=&quot;fill:#3E647D&quot;/&gt;\n",
       "\t&lt;rect x=&quot;803.84&quot; y=&quot;1993.51&quot; width=&quot;41.29&quot; height=&quot;379.88&quot; style=&quot;fill:none;stroke:#3E647D;stroke-width:7.34&quot;/&gt;\n",
       "\t&lt;rect x=&quot;848.80&quot; y=&quot;1699.39&quot; width=&quot;48.76&quot; height=&quot;677.68&quot; style=&quot;fill:#3E647D&quot;/&gt;\n",
       "\t&lt;rect x=&quot;852.47&quot; y=&quot;1703.06&quot; width=&quot;41.41&quot; height=&quot;670.33&quot; style=&quot;fill:none;stroke:#3E647D;stroke-width:7.34&quot;/&gt;\n",
       "\t&lt;rect x=&quot;897.56&quot; y=&quot;1763.99&quot; width=&quot;48.76&quot; height=&quot;613.08&quot; style=&quot;fill:#3E647D&quot;/&gt;\n",
       "\t&lt;rect x=&quot;901.23&quot; y=&quot;1767.66&quot; width=&quot;41.41&quot; height=&quot;605.73&quot; style=&quot;fill:none;stroke:#3E647D;stroke-width:7.34&quot;/&gt;\n",
       "\t&lt;rect x=&quot;946.32&quot; y=&quot;1473.54&quot; width=&quot;48.63&quot; height=&quot;903.53&quot; style=&quot;fill:#3E647D&quot;/&gt;\n",
       "\t&lt;rect x=&quot;949.99&quot; y=&quot;1477.21&quot; width=&quot;41.29&quot; height=&quot;896.18&quot; style=&quot;fill:none;stroke:#3E647D;stroke-width:7.34&quot;/&gt;\n",
       "\t&lt;rect x=&quot;994.95&quot; y=&quot;1279.86&quot; width=&quot;48.76&quot; height=&quot;1097.20&quot; style=&quot;fill:#3E647D&quot;/&gt;\n",
       "\t&lt;rect x=&quot;998.62&quot; y=&quot;1283.53&quot; width=&quot;41.41&quot; height=&quot;1089.86&quot; style=&quot;fill:none;stroke:#3E647D;stroke-width:7.34&quot;/&gt;\n",
       "\t&lt;rect x=&quot;1043.71&quot; y=&quot;1183.09&quot; width=&quot;48.76&quot; height=&quot;1193.98&quot; style=&quot;fill:#3E647D&quot;/&gt;\n",
       "\t&lt;rect x=&quot;1047.38&quot; y=&quot;1186.76&quot; width=&quot;41.41&quot; height=&quot;1186.63&quot; style=&quot;fill:none;stroke:#3E647D;stroke-width:7.34&quot;/&gt;\n",
       "\t&lt;rect x=&quot;1092.46&quot; y=&quot;1183.09&quot; width=&quot;48.63&quot; height=&quot;1193.98&quot; style=&quot;fill:#3E647D&quot;/&gt;\n",
       "\t&lt;rect x=&quot;1096.14&quot; y=&quot;1186.76&quot; width=&quot;41.29&quot; height=&quot;1186.63&quot; style=&quot;fill:none;stroke:#3E647D;stroke-width:7.34&quot;/&gt;\n",
       "\t&lt;rect x=&quot;1141.10&quot; y=&quot;698.96&quot; width=&quot;48.76&quot; height=&quot;1678.10&quot; style=&quot;fill:#3E647D&quot;/&gt;\n",
       "\t&lt;rect x=&quot;1144.77&quot; y=&quot;702.63&quot; width=&quot;41.41&quot; height=&quot;1670.76&quot; style=&quot;fill:none;stroke:#3E647D;stroke-width:7.34&quot;/&gt;\n",
       "\t&lt;rect x=&quot;1189.86&quot; y=&quot;763.56&quot; width=&quot;48.76&quot; height=&quot;1613.50&quot; style=&quot;fill:#3E647D&quot;/&gt;\n",
       "\t&lt;rect x=&quot;1193.53&quot; y=&quot;767.23&quot; width=&quot;41.41&quot; height=&quot;1606.16&quot; style=&quot;fill:none;stroke:#3E647D;stroke-width:7.34&quot;/&gt;\n",
       "\t&lt;rect x=&quot;1238.61&quot; y=&quot;1215.26&quot; width=&quot;48.63&quot; height=&quot;1161.80&quot; style=&quot;fill:#3E647D&quot;/&gt;\n",
       "\t&lt;rect x=&quot;1242.29&quot; y=&quot;1218.93&quot; width=&quot;41.29&quot; height=&quot;1154.46&quot; style=&quot;fill:none;stroke:#3E647D;stroke-width:7.34&quot;/&gt;\n",
       "\t&lt;rect x=&quot;1287.25&quot; y=&quot;1150.79&quot; width=&quot;48.76&quot; height=&quot;1226.28&quot; style=&quot;fill:#3E647D&quot;/&gt;\n",
       "\t&lt;rect x=&quot;1290.92&quot; y=&quot;1154.46&quot; width=&quot;41.41&quot; height=&quot;1218.93&quot; style=&quot;fill:none;stroke:#3E647D;stroke-width:7.34&quot;/&gt;\n",
       "\t&lt;rect x=&quot;1336.01&quot; y=&quot;1279.86&quot; width=&quot;48.76&quot; height=&quot;1097.20&quot; style=&quot;fill:#3E647D&quot;/&gt;\n",
       "\t&lt;rect x=&quot;1339.68&quot; y=&quot;1283.53&quot; width=&quot;41.41&quot; height=&quot;1089.86&quot; style=&quot;fill:none;stroke:#3E647D;stroke-width:7.34&quot;/&gt;\n",
       "\t&lt;rect x=&quot;1384.76&quot; y=&quot;1441.24&quot; width=&quot;48.63&quot; height=&quot;935.83&quot; style=&quot;fill:#3E647D&quot;/&gt;\n",
       "\t&lt;rect x=&quot;1388.43&quot; y=&quot;1444.91&quot; width=&quot;41.29&quot; height=&quot;928.48&quot; style=&quot;fill:none;stroke:#3E647D;stroke-width:7.34&quot;/&gt;\n",
       "\t&lt;rect x=&quot;1433.40&quot; y=&quot;1473.54&quot; width=&quot;48.76&quot; height=&quot;903.53&quot; style=&quot;fill:#3E647D&quot;/&gt;\n",
       "\t&lt;rect x=&quot;1437.07&quot; y=&quot;1477.21&quot; width=&quot;41.41&quot; height=&quot;896.18&quot; style=&quot;fill:none;stroke:#3E647D;stroke-width:7.34&quot;/&gt;\n",
       "\t&lt;rect x=&quot;1482.15&quot; y=&quot;1925.24&quot; width=&quot;48.76&quot; height=&quot;451.83&quot; style=&quot;fill:#3E647D&quot;/&gt;\n",
       "\t&lt;rect x=&quot;1485.83&quot; y=&quot;1928.91&quot; width=&quot;41.41&quot; height=&quot;444.48&quot; style=&quot;fill:none;stroke:#3E647D;stroke-width:7.34&quot;/&gt;\n",
       "\t&lt;rect x=&quot;1530.91&quot; y=&quot;1763.99&quot; width=&quot;48.63&quot; height=&quot;613.08&quot; style=&quot;fill:#3E647D&quot;/&gt;\n",
       "\t&lt;rect x=&quot;1534.58&quot; y=&quot;1767.66&quot; width=&quot;41.29&quot; height=&quot;605.73&quot; style=&quot;fill:none;stroke:#3E647D;stroke-width:7.34&quot;/&gt;\n",
       "\t&lt;rect x=&quot;1579.55&quot; y=&quot;2183.51&quot; width=&quot;48.76&quot; height=&quot;193.55&quot; style=&quot;fill:#3E647D&quot;/&gt;\n",
       "\t&lt;rect x=&quot;1583.22&quot; y=&quot;2187.19&quot; width=&quot;41.41&quot; height=&quot;186.21&quot; style=&quot;fill:none;stroke:#3E647D;stroke-width:7.34&quot;/&gt;\n",
       "\t&lt;rect x=&quot;1628.30&quot; y=&quot;2247.99&quot; width=&quot;48.76&quot; height=&quot;129.08&quot; style=&quot;fill:#3E647D&quot;/&gt;\n",
       "\t&lt;rect x=&quot;1631.97&quot; y=&quot;2251.66&quot; width=&quot;41.41&quot; height=&quot;121.73&quot; style=&quot;fill:none;stroke:#3E647D;stroke-width:7.34&quot;/&gt;\n",
       "\t&lt;rect x=&quot;1677.06&quot; y=&quot;2215.69&quot; width=&quot;48.63&quot; height=&quot;161.38&quot; style=&quot;fill:#3E647D&quot;/&gt;\n",
       "\t&lt;rect x=&quot;1680.73&quot; y=&quot;2219.36&quot; width=&quot;41.29&quot; height=&quot;154.03&quot; style=&quot;fill:none;stroke:#3E647D;stroke-width:7.34&quot;/&gt;\n",
       "\t&lt;rect x=&quot;1725.69&quot; y=&quot;2312.59&quot; width=&quot;48.76&quot; height=&quot;64.48&quot; style=&quot;fill:#3E647D&quot;/&gt;\n",
       "\t&lt;rect x=&quot;1729.37&quot; y=&quot;2316.26&quot; width=&quot;41.41&quot; height=&quot;57.13&quot; style=&quot;fill:none;stroke:#3E647D;stroke-width:7.34&quot;/&gt;\n",
       "\t&lt;rect x=&quot;1969.36&quot; y=&quot;2344.89&quot; width=&quot;48.63&quot; height=&quot;32.18&quot; style=&quot;fill:#3E647D&quot;/&gt;\n",
       "\t&lt;rect x=&quot;1973.03&quot; y=&quot;2348.56&quot; width=&quot;41.29&quot; height=&quot;24.83&quot; style=&quot;fill:none;stroke:#3E647D;stroke-width:7.34&quot;/&gt;\n",
       "\t&lt;rect x=&quot;2357.93&quot; y=&quot;2341.42&quot; width=&quot;48.63&quot; height=&quot;35.64&quot; style=&quot;fill:#3E647D&quot;/&gt;\n",
       "\t&lt;rect x=&quot;2361.60&quot; y=&quot;2345.10&quot; width=&quot;41.29&quot; height=&quot;28.30&quot; style=&quot;fill:none;stroke:#3E647D;stroke-width:7.34&quot;/&gt;\n",
       "\t&lt;rect x=&quot;2406.57&quot; y=&quot;2270.14&quot; width=&quot;48.76&quot; height=&quot;106.92&quot; style=&quot;fill:#3E647D&quot;/&gt;\n",
       "\t&lt;rect x=&quot;2410.24&quot; y=&quot;2273.81&quot; width=&quot;41.41&quot; height=&quot;99.58&quot; style=&quot;fill:none;stroke:#3E647D;stroke-width:7.34&quot;/&gt;\n",
       "\t&lt;rect x=&quot;2455.32&quot; y=&quot;2270.14&quot; width=&quot;48.76&quot; height=&quot;106.92&quot; style=&quot;fill:#3E647D&quot;/&gt;\n",
       "\t&lt;rect x=&quot;2459.00&quot; y=&quot;2273.81&quot; width=&quot;41.41&quot; height=&quot;99.58&quot; style=&quot;fill:none;stroke:#3E647D;stroke-width:7.34&quot;/&gt;\n",
       "\t&lt;rect x=&quot;2504.08&quot; y=&quot;2127.45&quot; width=&quot;48.63&quot; height=&quot;249.61&quot; style=&quot;fill:#3E647D&quot;/&gt;\n",
       "\t&lt;rect x=&quot;2507.75&quot; y=&quot;2131.12&quot; width=&quot;41.29&quot; height=&quot;242.27&quot; style=&quot;fill:none;stroke:#3E647D;stroke-width:7.34&quot;/&gt;\n",
       "\t&lt;rect x=&quot;2552.72&quot; y=&quot;1877.72&quot; width=&quot;48.76&quot; height=&quot;499.35&quot; style=&quot;fill:#3E647D&quot;/&gt;\n",
       "\t&lt;rect x=&quot;2556.39&quot; y=&quot;1881.39&quot; width=&quot;41.41&quot; height=&quot;492.00&quot; style=&quot;fill:none;stroke:#3E647D;stroke-width:7.34&quot;/&gt;\n",
       "\t&lt;rect x=&quot;2601.47&quot; y=&quot;1913.36&quot; width=&quot;48.76&quot; height=&quot;463.71&quot; style=&quot;fill:#3E647D&quot;/&gt;\n",
       "\t&lt;rect x=&quot;2605.14&quot; y=&quot;1917.03&quot; width=&quot;41.41&quot; height=&quot;456.36&quot; style=&quot;fill:none;stroke:#3E647D;stroke-width:7.34&quot;/&gt;\n",
       "\t&lt;rect x=&quot;2650.23&quot; y=&quot;1628.11&quot; width=&quot;48.63&quot; height=&quot;748.96&quot; style=&quot;fill:#3E647D&quot;/&gt;\n",
       "\t&lt;rect x=&quot;2653.90&quot; y=&quot;1631.78&quot; width=&quot;41.29&quot; height=&quot;741.61&quot; style=&quot;fill:none;stroke:#3E647D;stroke-width:7.34&quot;/&gt;\n",
       "\t&lt;rect x=&quot;2698.86&quot; y=&quot;1449.65&quot; width=&quot;48.76&quot; height=&quot;927.41&quot; style=&quot;fill:#3E647D&quot;/&gt;\n",
       "\t&lt;rect x=&quot;2702.54&quot; y=&quot;1453.32&quot; width=&quot;41.41&quot; height=&quot;920.07&quot; style=&quot;fill:none;stroke:#3E647D;stroke-width:7.34&quot;/&gt;\n",
       "\t&lt;rect x=&quot;2747.62&quot; y=&quot;1057.35&quot; width=&quot;48.76&quot; height=&quot;1319.71&quot; style=&quot;fill:#3E647D&quot;/&gt;\n",
       "\t&lt;rect x=&quot;2751.29&quot; y=&quot;1061.02&quot; width=&quot;41.41&quot; height=&quot;1312.37&quot; style=&quot;fill:none;stroke:#3E647D;stroke-width:7.34&quot;/&gt;\n",
       "\t&lt;rect x=&quot;2796.38&quot; y=&quot;1235.68&quot; width=&quot;48.63&quot; height=&quot;1141.38&quot; style=&quot;fill:#3E647D&quot;/&gt;\n",
       "\t&lt;rect x=&quot;2800.05&quot; y=&quot;1239.35&quot; width=&quot;41.29&quot; height=&quot;1134.04&quot; style=&quot;fill:none;stroke:#3E647D;stroke-width:7.34&quot;/&gt;\n",
       "\t&lt;rect x=&quot;2845.01&quot; y=&quot;950.31&quot; width=&quot;48.76&quot; height=&quot;1426.76&quot; style=&quot;fill:#3E647D&quot;/&gt;\n",
       "\t&lt;rect x=&quot;2848.68&quot; y=&quot;953.98&quot; width=&quot;41.41&quot; height=&quot;1419.41&quot; style=&quot;fill:none;stroke:#3E647D;stroke-width:7.34&quot;/&gt;\n",
       "\t&lt;rect x=&quot;2893.77&quot; y=&quot;665.05&quot; width=&quot;48.76&quot; height=&quot;1712.01&quot; style=&quot;fill:#3E647D&quot;/&gt;\n",
       "\t&lt;rect x=&quot;2897.44&quot; y=&quot;668.73&quot; width=&quot;41.41&quot; height=&quot;1704.67&quot; style=&quot;fill:none;stroke:#3E647D;stroke-width:7.34&quot;/&gt;\n",
       "\t&lt;rect x=&quot;2942.53&quot; y=&quot;486.60&quot; width=&quot;48.63&quot; height=&quot;1890.46&quot; style=&quot;fill:#3E647D&quot;/&gt;\n",
       "\t&lt;rect x=&quot;2946.20&quot; y=&quot;490.27&quot; width=&quot;41.29&quot; height=&quot;1883.12&quot; style=&quot;fill:none;stroke:#3E647D;stroke-width:7.34&quot;/&gt;\n",
       "\t&lt;rect x=&quot;2991.16&quot; y=&quot;1164.40&quot; width=&quot;48.76&quot; height=&quot;1212.66&quot; style=&quot;fill:#3E647D&quot;/&gt;\n",
       "\t&lt;rect x=&quot;2994.83&quot; y=&quot;1168.07&quot; width=&quot;41.41&quot; height=&quot;1205.32&quot; style=&quot;fill:none;stroke:#3E647D;stroke-width:7.34&quot;/&gt;\n",
       "\t&lt;rect x=&quot;3039.92&quot; y=&quot;1128.64&quot; width=&quot;48.76&quot; height=&quot;1248.43&quot; style=&quot;fill:#3E647D&quot;/&gt;\n",
       "\t&lt;rect x=&quot;3043.59&quot; y=&quot;1132.31&quot; width=&quot;41.41&quot; height=&quot;1241.09&quot; style=&quot;fill:none;stroke:#3E647D;stroke-width:7.34&quot;/&gt;\n",
       "\t&lt;rect x=&quot;3088.68&quot; y=&quot;1307.09&quot; width=&quot;48.63&quot; height=&quot;1069.98&quot; style=&quot;fill:#3E647D&quot;/&gt;\n",
       "\t&lt;rect x=&quot;3092.35&quot; y=&quot;1310.76&quot; width=&quot;41.29&quot; height=&quot;1062.63&quot; style=&quot;fill:none;stroke:#3E647D;stroke-width:7.34&quot;/&gt;\n",
       "\t&lt;rect x=&quot;3137.31&quot; y=&quot;1770.79&quot; width=&quot;48.76&quot; height=&quot;606.27&quot; style=&quot;fill:#3E647D&quot;/&gt;\n",
       "\t&lt;rect x=&quot;3140.98&quot; y=&quot;1774.47&quot; width=&quot;41.41&quot; height=&quot;598.93&quot; style=&quot;fill:none;stroke:#3E647D;stroke-width:7.34&quot;/&gt;\n",
       "\t&lt;rect x=&quot;3186.07&quot; y=&quot;1342.73&quot; width=&quot;48.76&quot; height=&quot;1034.33&quot; style=&quot;fill:#3E647D&quot;/&gt;\n",
       "\t&lt;rect x=&quot;3189.74&quot; y=&quot;1346.40&quot; width=&quot;41.41&quot; height=&quot;1026.99&quot; style=&quot;fill:none;stroke:#3E647D;stroke-width:7.34&quot;/&gt;\n",
       "\t&lt;rect x=&quot;3234.82&quot; y=&quot;1984.76&quot; width=&quot;48.63&quot; height=&quot;392.30&quot; style=&quot;fill:#3E647D&quot;/&gt;\n",
       "\t&lt;rect x=&quot;3238.50&quot; y=&quot;1988.44&quot; width=&quot;41.29&quot; height=&quot;384.96&quot; style=&quot;fill:none;stroke:#3E647D;stroke-width:7.34&quot;/&gt;\n",
       "\t&lt;rect x=&quot;3283.46&quot; y=&quot;2127.45&quot; width=&quot;48.76&quot; height=&quot;249.61&quot; style=&quot;fill:#3E647D&quot;/&gt;\n",
       "\t&lt;rect x=&quot;3287.13&quot; y=&quot;2131.12&quot; width=&quot;41.41&quot; height=&quot;242.27&quot; style=&quot;fill:none;stroke:#3E647D;stroke-width:7.34&quot;/&gt;\n",
       "\t&lt;rect x=&quot;3332.22&quot; y=&quot;2091.81&quot; width=&quot;48.76&quot; height=&quot;285.25&quot; style=&quot;fill:#3E647D&quot;/&gt;\n",
       "\t&lt;rect x=&quot;3335.89&quot; y=&quot;2095.48&quot; width=&quot;41.41&quot; height=&quot;277.91&quot; style=&quot;fill:none;stroke:#3E647D;stroke-width:7.34&quot;/&gt;\n",
       "\t&lt;rect x=&quot;3380.97&quot; y=&quot;2341.42&quot; width=&quot;48.63&quot; height=&quot;35.64&quot; style=&quot;fill:#3E647D&quot;/&gt;\n",
       "\t&lt;rect x=&quot;3384.65&quot; y=&quot;2345.10&quot; width=&quot;41.29&quot; height=&quot;28.30&quot; style=&quot;fill:none;stroke:#3E647D;stroke-width:7.34&quot;/&gt;\n",
       "\t&lt;rect x=&quot;3429.61&quot; y=&quot;2341.42&quot; width=&quot;48.76&quot; height=&quot;35.64&quot; style=&quot;fill:#3E647D&quot;/&gt;\n",
       "\t&lt;rect x=&quot;3433.28&quot; y=&quot;2345.10&quot; width=&quot;41.41&quot; height=&quot;28.30&quot; style=&quot;fill:none;stroke:#3E647D;stroke-width:7.34&quot;/&gt;\n",
       "\t&lt;rect x=&quot;3478.36&quot; y=&quot;2341.42&quot; width=&quot;48.76&quot; height=&quot;35.64&quot; style=&quot;fill:#3E647D&quot;/&gt;\n",
       "\t&lt;rect x=&quot;3482.04&quot; y=&quot;2345.10&quot; width=&quot;41.41&quot; height=&quot;28.30&quot; style=&quot;fill:none;stroke:#3E647D;stroke-width:7.34&quot;/&gt;\n",
       "\t&lt;rect x=&quot;3527.12&quot; y=&quot;2341.42&quot; width=&quot;48.63&quot; height=&quot;35.64&quot; style=&quot;fill:#3E647D&quot;/&gt;\n",
       "\t&lt;rect x=&quot;3530.79&quot; y=&quot;2345.10&quot; width=&quot;41.29&quot; height=&quot;28.30&quot; style=&quot;fill:none;stroke:#3E647D;stroke-width:7.34&quot;/&gt;\n",
       "\t&lt;rect x=&quot;3575.76&quot; y=&quot;2305.78&quot; width=&quot;48.76&quot; height=&quot;71.28&quot; style=&quot;fill:#3E647D&quot;/&gt;\n",
       "\t&lt;rect x=&quot;3579.43&quot; y=&quot;2309.45&quot; width=&quot;41.41&quot; height=&quot;63.94&quot; style=&quot;fill:none;stroke:#3E647D;stroke-width:7.34&quot;/&gt;\n",
       "\t&lt;line x1=&quot;388.33&quot; y1=&quot;2377.06&quot; x2=&quot;388.33&quot; y2=&quot;432.77&quot; style=&quot;stroke:#000000;stroke-width:4.90&quot;/&gt;\n",
       "\t&lt;line x1=&quot;388.33&quot; y1=&quot;2377.06&quot; x2=&quot;354.30&quot; y2=&quot;2377.06&quot; style=&quot;stroke:#000000;stroke-width:4.90&quot;/&gt;\n",
       "\t&lt;text x=&quot;311.78&quot; y=&quot;2377.06&quot; style=&quot;font-family:&#x27;Helvetica&#x27;;font-size:85.02px;fill:#000000&quot; transform=&quot;rotate(-90 311.78,2377.06)&quot; text-anchor=&quot;middle&quot;&gt;0&lt;/text&gt;\n",
       "\t&lt;line x1=&quot;388.33&quot; y1=&quot;1819.55&quot; x2=&quot;354.30&quot; y2=&quot;1819.55&quot; style=&quot;stroke:#000000;stroke-width:4.90&quot;/&gt;\n",
       "\t&lt;text x=&quot;311.78&quot; y=&quot;1819.55&quot; style=&quot;font-family:&#x27;Helvetica&#x27;;font-size:85.02px;fill:#000000&quot; transform=&quot;rotate(-90 311.78,1819.55)&quot; text-anchor=&quot;middle&quot;&gt;.05&lt;/text&gt;\n",
       "\t&lt;line x1=&quot;388.33&quot; y1=&quot;1261.92&quot; x2=&quot;354.30&quot; y2=&quot;1261.92&quot; style=&quot;stroke:#000000;stroke-width:4.90&quot;/&gt;\n",
       "\t&lt;text x=&quot;311.78&quot; y=&quot;1261.92&quot; style=&quot;font-family:&#x27;Helvetica&#x27;;font-size:85.02px;fill:#000000&quot; transform=&quot;rotate(-90 311.78,1261.92)&quot; text-anchor=&quot;middle&quot;&gt;.1&lt;/text&gt;\n",
       "\t&lt;line x1=&quot;388.33&quot; y1=&quot;704.28&quot; x2=&quot;354.30&quot; y2=&quot;704.28&quot; style=&quot;stroke:#000000;stroke-width:4.90&quot;/&gt;\n",
       "\t&lt;text x=&quot;311.78&quot; y=&quot;704.28&quot; style=&quot;font-family:&#x27;Helvetica&#x27;;font-size:85.02px;fill:#000000&quot; transform=&quot;rotate(-90 311.78,704.28)&quot; text-anchor=&quot;middle&quot;&gt;.15&lt;/text&gt;\n",
       "\t&lt;line x1=&quot;388.33&quot; y1=&quot;2377.06&quot; x2=&quot;2071.82&quot; y2=&quot;2377.06&quot; style=&quot;stroke:#000000;stroke-width:4.90&quot;/&gt;\n",
       "\t&lt;line x1=&quot;442.16&quot; y1=&quot;2377.06&quot; x2=&quot;442.16&quot; y2=&quot;2411.10&quot; style=&quot;stroke:#000000;stroke-width:4.90&quot;/&gt;\n",
       "\t&lt;text x=&quot;442.16&quot; y=&quot;2487.50&quot; style=&quot;font-family:&#x27;Helvetica&#x27;;font-size:85.02px;fill:#000000&quot; text-anchor=&quot;middle&quot;&gt;10&lt;/text&gt;\n",
       "\t&lt;line x1=&quot;812.29&quot; y1=&quot;2377.06&quot; x2=&quot;812.29&quot; y2=&quot;2411.10&quot; style=&quot;stroke:#000000;stroke-width:4.90&quot;/&gt;\n",
       "\t&lt;text x=&quot;812.29&quot; y=&quot;2487.50&quot; style=&quot;font-family:&#x27;Helvetica&#x27;;font-size:85.02px;fill:#000000&quot; text-anchor=&quot;middle&quot;&gt;15&lt;/text&gt;\n",
       "\t&lt;line x1=&quot;1182.31&quot; y1=&quot;2377.06&quot; x2=&quot;1182.31&quot; y2=&quot;2411.10&quot; style=&quot;stroke:#000000;stroke-width:4.90&quot;/&gt;\n",
       "\t&lt;text x=&quot;1182.31&quot; y=&quot;2487.50&quot; style=&quot;font-family:&#x27;Helvetica&#x27;;font-size:85.02px;fill:#000000&quot; text-anchor=&quot;middle&quot;&gt;20&lt;/text&gt;\n",
       "\t&lt;line x1=&quot;1552.32&quot; y1=&quot;2377.06&quot; x2=&quot;1552.32&quot; y2=&quot;2411.10&quot; style=&quot;stroke:#000000;stroke-width:4.90&quot;/&gt;\n",
       "\t&lt;text x=&quot;1552.32&quot; y=&quot;2487.50&quot; style=&quot;font-family:&#x27;Helvetica&#x27;;font-size:85.02px;fill:#000000&quot; text-anchor=&quot;middle&quot;&gt;25&lt;/text&gt;\n",
       "\t&lt;line x1=&quot;1922.46&quot; y1=&quot;2377.06&quot; x2=&quot;1922.46&quot; y2=&quot;2411.10&quot; style=&quot;stroke:#000000;stroke-width:4.90&quot;/&gt;\n",
       "\t&lt;text x=&quot;1922.46&quot; y=&quot;2487.50&quot; style=&quot;font-family:&#x27;Helvetica&#x27;;font-size:85.02px;fill:#000000&quot; text-anchor=&quot;middle&quot;&gt;30&lt;/text&gt;\n",
       "\t&lt;line x1=&quot;2141.00&quot; y1=&quot;2377.06&quot; x2=&quot;3824.49&quot; y2=&quot;2377.06&quot; style=&quot;stroke:#000000;stroke-width:4.90&quot;/&gt;\n",
       "\t&lt;line x1=&quot;2194.83&quot; y1=&quot;2377.06&quot; x2=&quot;2194.83&quot; y2=&quot;2411.10&quot; style=&quot;stroke:#000000;stroke-width:4.90&quot;/&gt;\n",
       "\t&lt;text x=&quot;2194.83&quot; y=&quot;2487.50&quot; style=&quot;font-family:&#x27;Helvetica&#x27;;font-size:85.02px;fill:#000000&quot; text-anchor=&quot;middle&quot;&gt;10&lt;/text&gt;\n",
       "\t&lt;line x1=&quot;2564.84&quot; y1=&quot;2377.06&quot; x2=&quot;2564.84&quot; y2=&quot;2411.10&quot; style=&quot;stroke:#000000;stroke-width:4.90&quot;/&gt;\n",
       "\t&lt;text x=&quot;2564.84&quot; y=&quot;2487.50&quot; style=&quot;font-family:&#x27;Helvetica&#x27;;font-size:85.02px;fill:#000000&quot; text-anchor=&quot;middle&quot;&gt;15&lt;/text&gt;\n",
       "\t&lt;line x1=&quot;2934.98&quot; y1=&quot;2377.06&quot; x2=&quot;2934.98&quot; y2=&quot;2411.10&quot; style=&quot;stroke:#000000;stroke-width:4.90&quot;/&gt;\n",
       "\t&lt;text x=&quot;2934.98&quot; y=&quot;2487.50&quot; style=&quot;font-family:&#x27;Helvetica&#x27;;font-size:85.02px;fill:#000000&quot; text-anchor=&quot;middle&quot;&gt;20&lt;/text&gt;\n",
       "\t&lt;line x1=&quot;3304.99&quot; y1=&quot;2377.06&quot; x2=&quot;3304.99&quot; y2=&quot;2411.10&quot; style=&quot;stroke:#000000;stroke-width:4.90&quot;/&gt;\n",
       "\t&lt;text x=&quot;3304.99&quot; y=&quot;2487.50&quot; style=&quot;font-family:&#x27;Helvetica&#x27;;font-size:85.02px;fill:#000000&quot; text-anchor=&quot;middle&quot;&gt;25&lt;/text&gt;\n",
       "\t&lt;line x1=&quot;3675.13&quot; y1=&quot;2377.06&quot; x2=&quot;3675.13&quot; y2=&quot;2411.10&quot; style=&quot;stroke:#000000;stroke-width:4.90&quot;/&gt;\n",
       "\t&lt;text x=&quot;3675.13&quot; y=&quot;2487.50&quot; style=&quot;font-family:&#x27;Helvetica&#x27;;font-size:85.02px;fill:#000000&quot; text-anchor=&quot;middle&quot;&gt;30&lt;/text&gt;\n",
       "\t&lt;rect x=&quot;388.33&quot; y=&quot;309.88&quot; width=&quot;1683.50&quot; height=&quot;122.89&quot; style=&quot;fill:#D9E6EB&quot;/&gt;\n",
       "\t&lt;rect x=&quot;390.78&quot; y=&quot;312.33&quot; width=&quot;1678.60&quot; height=&quot;117.99&quot; style=&quot;fill:none;stroke:#D9E6EB;stroke-width:4.90&quot;/&gt;\n",
       "\t&lt;text x=&quot;1230.08&quot; y=&quot;390.04&quot; style=&quot;font-family:&#x27;Helvetica&#x27;;font-size:93.56px;fill:#000000&quot; text-anchor=&quot;middle&quot;&gt;0&lt;/text&gt;\n",
       "\t&lt;rect x=&quot;2141.00&quot; y=&quot;309.88&quot; width=&quot;1683.49&quot; height=&quot;122.89&quot; style=&quot;fill:#D9E6EB&quot;/&gt;\n",
       "\t&lt;rect x=&quot;2143.45&quot; y=&quot;312.33&quot; width=&quot;1678.60&quot; height=&quot;117.99&quot; style=&quot;fill:none;stroke:#D9E6EB;stroke-width:4.90&quot;/&gt;\n",
       "\t&lt;text x=&quot;2982.75&quot; y=&quot;390.04&quot; style=&quot;font-family:&#x27;Helvetica&#x27;;font-size:93.56px;fill:#000000&quot; text-anchor=&quot;middle&quot;&gt;1&lt;/text&gt;\n",
       "\t&lt;text x=&quot;170.79&quot; y=&quot;1419.95&quot; style=&quot;font-family:&#x27;Helvetica&#x27;;font-size:99.99px;fill:#000000&quot; transform=&quot;rotate(-90 170.79,1419.95)&quot; text-anchor=&quot;middle&quot;&gt;Density&lt;/text&gt;\n",
       "\t&lt;text x=&quot;2029.99&quot; y=&quot;2634.61&quot; style=&quot;font-family:&#x27;Helvetica&#x27;;font-size:99.99px;fill:#000000&quot; text-anchor=&quot;middle&quot;&gt;amount of antibody&lt;/text&gt;\n",
       "\t&lt;text x=&quot;218.05&quot; y=&quot;2737.89&quot; style=&quot;font-family:&#x27;Helvetica&#x27;;font-size:79.94px;fill:#000000&quot;&gt;Graphs by female = 1, male = 0 &lt;/text&gt;\n",
       "\t&lt;text x=&quot;2029.99&quot; y=&quot;215.98&quot; style=&quot;font-family:&#x27;Helvetica&#x27;;font-size:139.96px;fill:#1E2D53&quot; text-anchor=&quot;middle&quot;&gt;Distribution of antibody by gender&lt;/text&gt;\n",
       "&lt;/svg&gt;\n",
       "</body></html>\"></iframe>\n"
      ],
      "text/plain": [
       "This front-end cannot display the desired image type."
      ]
     },
     "metadata": {
      "image/svg+xml": {
       "height": 436,
       "width": 600
      },
      "text/html": {
       "height": 436,
       "width": 600
      }
     },
     "output_type": "display_data"
    }
   ],
   "source": [
    "// you can also put histogram togehter \n",
    "histogram antibody, by(gender, title(\"Distribution of antibody by gender\")) ///\n",
    "        color(edkblue) "
   ]
  },
  {
   "cell_type": "markdown",
   "metadata": {},
   "source": [
    "When you want to do some data visualization, please read the following\n",
    "figure first and think about _what do you want to show_. \n",
    "\n",
    "![datavisualization](http://i2.wp.com/insightextractor.com/wp-content/uploads/2012/08/chart-chooser-data-visualization.png)"
   ]
  },
  {
   "cell_type": "markdown",
   "metadata": {},
   "source": [
    "### Generate residence area for our sample\n",
    "\n",
    "When recruit participats, it is better to have people from different places.\n",
    "In our simulation, we decided that we will recruite across multiple study sites \n",
    "in _Oxford, Southampton, and London_. In Stata, we will again use numeric values\n",
    "to represent those three places:\n",
    "\n",
    "* 1 - Oxford\n",
    "* 2 - Southampton\n",
    "* 3 - London\n",
    "\n",
    "We also assume that the chace of having a person from those three places should be\n",
    "around $1/3$. "
   ]
  },
  {
   "cell_type": "code",
   "execution_count": 28,
   "metadata": {},
   "outputs": [
    {
     "name": "stdout",
     "output_type": "stream",
     "text": [
      "(682 missing values generated)\n"
     ]
    }
   ],
   "source": [
    "// generate places with uniform distribution generator \n",
    "generate places = 1 if runiform() <= 0.3333"
   ]
  },
  {
   "cell_type": "code",
   "execution_count": 29,
   "metadata": {},
   "outputs": [
    {
     "name": "stdout",
     "output_type": "stream",
     "text": [
      "(302 real changes made)\n"
     ]
    }
   ],
   "source": [
    "// replace those missing values with uniform distribution generator again\n",
    "replace places = 2 if runiform() > 0.3333 & runiform() <= 0.6666 & missing(places)"
   ]
  },
  {
   "cell_type": "code",
   "execution_count": 30,
   "metadata": {},
   "outputs": [
    {
     "name": "stdout",
     "output_type": "stream",
     "text": [
      "  380\n"
     ]
    }
   ],
   "source": [
    "// we still have missing values\n",
    "count if places == ."
   ]
  },
  {
   "cell_type": "code",
   "execution_count": 31,
   "metadata": {},
   "outputs": [
    {
     "name": "stdout",
     "output_type": "stream",
     "text": [
      "(380 real changes made)\n"
     ]
    }
   ],
   "source": [
    "// replace those missing values \n",
    "replace places = 3 if missing(places)"
   ]
  },
  {
   "cell_type": "code",
   "execution_count": 32,
   "metadata": {},
   "outputs": [
    {
     "name": "stdout",
     "output_type": "stream",
     "text": [
      "\n",
      "----------------------\n",
      "   places |      Freq.\n",
      "----------+-----------\n",
      "        1 |        318\n",
      "        2 |        302\n",
      "        3 |        380\n",
      "----------------------\n"
     ]
    }
   ],
   "source": [
    "// table to get the frequency for each category\n",
    "table places"
   ]
  },
  {
   "cell_type": "code",
   "execution_count": 33,
   "metadata": {},
   "outputs": [],
   "source": [
    "// label the variable \n",
    "label variable places \"1:Oxford, 2:Southampton, 3:London\""
   ]
  },
  {
   "cell_type": "code",
   "execution_count": 34,
   "metadata": {},
   "outputs": [
    {
     "name": "stdout",
     "output_type": "stream",
     "text": [
      "\n",
      "Contains data\n",
      "  obs:         1,000                          \n",
      " vars:             4                          \n",
      "--------------------------------------------------------------------------------\n",
      "              storage   display    value\n",
      "variable name   type    format     label      variable label\n",
      "--------------------------------------------------------------------------------\n",
      "antibody        float   %9.0g                 amount of antibody\n",
      "age             float   %9.0g                 value of age\n",
      "gender          float   %9.0g                 female = 1, male = 0\n",
      "places          float   %9.0g                 1:Oxford, 2:Southampton, 3:London\n",
      "--------------------------------------------------------------------------------\n",
      "Sorted by: \n",
      "     Note: Dataset has changed since last saved.\n"
     ]
    }
   ],
   "source": [
    "describe"
   ]
  },
  {
   "cell_type": "code",
   "execution_count": 35,
   "metadata": {},
   "outputs": [
    {
     "data": {
      "application/pdf": "[encoded data removed]",
      "image/svg+xml": "<?xml version=\"1.0\" encoding=\"UTF-8\" standalone=\"no\"?>\n<!-- This is a Stata 16.1 generated SVG file (http://www.stata.com) -->\n\n<svg version=\"1.1\" width=\"600px\" height=\"436px\" viewBox=\"0 0 3960 2880\" xmlns=\"http://www.w3.org/2000/svg\" xmlns:xlink=\"http://www.w3.org/1999/xlink\">\n\t<desc>Stata Graph - Graph</desc>\n\t<rect x=\"0\" y=\"0\" width=\"3960\" height=\"2880\" style=\"fill:#EAF2F3;stroke:none\"/>\n\t<rect x=\"0.00\" y=\"0.00\" width=\"3959.88\" height=\"2880.00\" style=\"fill:#EAF2F3\"/>\n\t<rect x=\"2.88\" y=\"2.88\" width=\"3954.12\" height=\"2874.24\" style=\"fill:none;stroke:#EAF2F3;stroke-width:5.76\"/>\n\t<rect x=\"388.33\" y=\"432.77\" width=\"1683.50\" height=\"799.70\" style=\"fill:#FFFFFF\"/>\n\t<rect x=\"390.78\" y=\"435.22\" width=\"1678.60\" height=\"794.80\" style=\"fill:none;stroke:#FFFFFF;stroke-width:4.90\"/>\n\t<line x1=\"388.33\" y1=\"1232.46\" x2=\"2071.82\" y2=\"1232.46\" style=\"stroke:#EAF2F3;stroke-width:7.34\"/>\n\t<line x1=\"388.33\" y1=\"983.84\" x2=\"2071.82\" y2=\"983.84\" style=\"stroke:#EAF2F3;stroke-width:7.34\"/>\n\t<line x1=\"388.33\" y1=\"735.22\" x2=\"2071.82\" y2=\"735.22\" style=\"stroke:#EAF2F3;stroke-width:7.34\"/>\n\t<line x1=\"388.33\" y1=\"486.60\" x2=\"2071.82\" y2=\"486.60\" style=\"stroke:#EAF2F3;stroke-width:7.34\"/>\n\t<rect x=\"2141.00\" y=\"432.77\" width=\"1683.49\" height=\"799.70\" style=\"fill:#FFFFFF\"/>\n\t<rect x=\"2143.45\" y=\"435.22\" width=\"1678.60\" height=\"794.80\" style=\"fill:none;stroke:#FFFFFF;stroke-width:4.90\"/>\n\t<line x1=\"2141.00\" y1=\"1232.46\" x2=\"3824.49\" y2=\"1232.46\" style=\"stroke:#EAF2F3;stroke-width:7.34\"/>\n\t<line x1=\"2141.00\" y1=\"983.84\" x2=\"3824.49\" y2=\"983.84\" style=\"stroke:#EAF2F3;stroke-width:7.34\"/>\n\t<line x1=\"2141.00\" y1=\"735.22\" x2=\"3824.49\" y2=\"735.22\" style=\"stroke:#EAF2F3;stroke-width:7.34\"/>\n\t<line x1=\"2141.00\" y1=\"486.60\" x2=\"3824.49\" y2=\"486.60\" style=\"stroke:#EAF2F3;stroke-width:7.34\"/>\n\t<rect x=\"388.33\" y=\"1577.49\" width=\"1683.50\" height=\"799.57\" style=\"fill:#FFFFFF\"/>\n\t<rect x=\"390.78\" y=\"1579.94\" width=\"1678.60\" height=\"794.68\" style=\"fill:none;stroke:#FFFFFF;stroke-width:4.90\"/>\n\t<line x1=\"388.33\" y1=\"2377.06\" x2=\"2071.82\" y2=\"2377.06\" style=\"stroke:#EAF2F3;stroke-width:7.34\"/>\n\t<line x1=\"388.33\" y1=\"2128.57\" x2=\"2071.82\" y2=\"2128.57\" style=\"stroke:#EAF2F3;stroke-width:7.34\"/>\n\t<line x1=\"388.33\" y1=\"1879.94\" x2=\"2071.82\" y2=\"1879.94\" style=\"stroke:#EAF2F3;stroke-width:7.34\"/>\n\t<line x1=\"388.33\" y1=\"1631.32\" x2=\"2071.82\" y2=\"1631.32\" style=\"stroke:#EAF2F3;stroke-width:7.34\"/>\n\t<rect x=\"468.89\" y=\"760.10\" width=\"53.46\" height=\"472.37\" style=\"fill:#CAC27E\"/>\n\t<rect x=\"472.56\" y=\"763.77\" width=\"46.12\" height=\"465.02\" style=\"fill:none;stroke:#D7D29E;stroke-width:7.34\"/>\n\t<rect x=\"522.35\" y=\"1157.84\" width=\"53.34\" height=\"74.62\" style=\"fill:#CAC27E\"/>\n\t<rect x=\"526.02\" y=\"1161.51\" width=\"45.99\" height=\"67.28\" style=\"fill:none;stroke:#D7D29E;stroke-width:7.34\"/>\n\t<rect x=\"575.68\" y=\"710.35\" width=\"53.46\" height=\"522.12\" style=\"fill:#CAC27E\"/>\n\t<rect x=\"579.36\" y=\"714.02\" width=\"46.12\" height=\"514.77\" style=\"fill:none;stroke:#D7D29E;stroke-width:7.34\"/>\n\t<rect x=\"629.14\" y=\"1033.59\" width=\"53.46\" height=\"198.87\" style=\"fill:#CAC27E\"/>\n\t<rect x=\"632.82\" y=\"1037.26\" width=\"46.12\" height=\"191.53\" style=\"fill:none;stroke:#D7D29E;stroke-width:7.34\"/>\n\t<rect x=\"682.61\" y=\"760.10\" width=\"53.34\" height=\"472.37\" style=\"fill:#CAC27E\"/>\n\t<rect x=\"686.28\" y=\"763.77\" width=\"45.99\" height=\"465.02\" style=\"fill:none;stroke:#D7D29E;stroke-width:7.34\"/>\n\t<rect x=\"735.94\" y=\"1033.59\" width=\"53.46\" height=\"198.87\" style=\"fill:#CAC27E\"/>\n\t<rect x=\"739.61\" y=\"1037.26\" width=\"46.12\" height=\"191.53\" style=\"fill:none;stroke:#D7D29E;stroke-width:7.34\"/>\n\t<rect x=\"789.40\" y=\"660.72\" width=\"53.46\" height=\"571.74\" style=\"fill:#CAC27E\"/>\n\t<rect x=\"793.07\" y=\"664.39\" width=\"46.12\" height=\"564.40\" style=\"fill:none;stroke:#D7D29E;stroke-width:7.34\"/>\n\t<rect x=\"842.86\" y=\"1157.84\" width=\"53.34\" height=\"74.62\" style=\"fill:#CAC27E\"/>\n\t<rect x=\"846.53\" y=\"1161.51\" width=\"45.99\" height=\"67.28\" style=\"fill:none;stroke:#D7D29E;stroke-width:7.34\"/>\n\t<rect x=\"896.20\" y=\"735.22\" width=\"53.46\" height=\"497.24\" style=\"fill:#CAC27E\"/>\n\t<rect x=\"899.87\" y=\"738.89\" width=\"46.12\" height=\"489.90\" style=\"fill:none;stroke:#D7D29E;stroke-width:7.34\"/>\n\t<rect x=\"949.66\" y=\"1108.22\" width=\"53.46\" height=\"124.25\" style=\"fill:#CAC27E\"/>\n\t<rect x=\"953.33\" y=\"1111.89\" width=\"46.12\" height=\"116.91\" style=\"fill:none;stroke:#D7D29E;stroke-width:7.34\"/>\n\t<rect x=\"1003.12\" y=\"1008.72\" width=\"53.34\" height=\"223.75\" style=\"fill:#CAC27E\"/>\n\t<rect x=\"1006.79\" y=\"1012.39\" width=\"45.99\" height=\"216.40\" style=\"fill:none;stroke:#D7D29E;stroke-width:7.34\"/>\n\t<rect x=\"1056.45\" y=\"1008.72\" width=\"53.46\" height=\"223.75\" style=\"fill:#CAC27E\"/>\n\t<rect x=\"1060.13\" y=\"1012.39\" width=\"46.12\" height=\"216.40\" style=\"fill:none;stroke:#D7D29E;stroke-width:7.34\"/>\n\t<rect x=\"1109.91\" y=\"1008.72\" width=\"53.46\" height=\"223.75\" style=\"fill:#CAC27E\"/>\n\t<rect x=\"1113.59\" y=\"1012.39\" width=\"46.12\" height=\"216.40\" style=\"fill:none;stroke:#D7D29E;stroke-width:7.34\"/>\n\t<rect x=\"1163.37\" y=\"983.84\" width=\"53.34\" height=\"248.62\" style=\"fill:#CAC27E\"/>\n\t<rect x=\"1167.05\" y=\"987.52\" width=\"45.99\" height=\"241.28\" style=\"fill:none;stroke:#D7D29E;stroke-width:7.34\"/>\n\t<rect x=\"1216.71\" y=\"1008.72\" width=\"53.46\" height=\"223.75\" style=\"fill:#CAC27E\"/>\n\t<rect x=\"1220.38\" y=\"1012.39\" width=\"46.12\" height=\"216.40\" style=\"fill:none;stroke:#D7D29E;stroke-width:7.34\"/>\n\t<rect x=\"1270.17\" y=\"859.59\" width=\"53.46\" height=\"372.87\" style=\"fill:#CAC27E\"/>\n\t<rect x=\"1273.84\" y=\"863.27\" width=\"46.12\" height=\"365.53\" style=\"fill:none;stroke:#D7D29E;stroke-width:7.34\"/>\n\t<rect x=\"1323.63\" y=\"1207.59\" width=\"53.34\" height=\"24.87\" style=\"fill:#CAC27E\"/>\n\t<rect x=\"1327.30\" y=\"1211.26\" width=\"45.99\" height=\"17.53\" style=\"fill:none;stroke:#D7D29E;stroke-width:7.34\"/>\n\t<rect x=\"1376.97\" y=\"1033.59\" width=\"53.46\" height=\"198.87\" style=\"fill:#CAC27E\"/>\n\t<rect x=\"1380.64\" y=\"1037.26\" width=\"46.12\" height=\"191.53\" style=\"fill:none;stroke:#D7D29E;stroke-width:7.34\"/>\n\t<rect x=\"1430.43\" y=\"1083.34\" width=\"53.46\" height=\"149.12\" style=\"fill:#CAC27E\"/>\n\t<rect x=\"1434.10\" y=\"1087.01\" width=\"46.12\" height=\"141.78\" style=\"fill:none;stroke:#D7D29E;stroke-width:7.34\"/>\n\t<rect x=\"1483.89\" y=\"1132.97\" width=\"53.34\" height=\"99.50\" style=\"fill:#CAC27E\"/>\n\t<rect x=\"1487.56\" y=\"1136.64\" width=\"45.99\" height=\"92.15\" style=\"fill:none;stroke:#D7D29E;stroke-width:7.34\"/>\n\t<rect x=\"1537.22\" y=\"958.97\" width=\"53.46\" height=\"273.50\" style=\"fill:#CAC27E\"/>\n\t<rect x=\"1540.89\" y=\"962.64\" width=\"46.12\" height=\"266.15\" style=\"fill:none;stroke:#D7D29E;stroke-width:7.34\"/>\n\t<rect x=\"1590.68\" y=\"1033.59\" width=\"53.46\" height=\"198.87\" style=\"fill:#CAC27E\"/>\n\t<rect x=\"1594.35\" y=\"1037.26\" width=\"46.12\" height=\"191.53\" style=\"fill:none;stroke:#D7D29E;stroke-width:7.34\"/>\n\t<rect x=\"1644.14\" y=\"934.09\" width=\"53.34\" height=\"298.37\" style=\"fill:#CAC27E\"/>\n\t<rect x=\"1647.81\" y=\"937.77\" width=\"45.99\" height=\"291.03\" style=\"fill:none;stroke:#D7D29E;stroke-width:7.34\"/>\n\t<rect x=\"1697.48\" y=\"1058.47\" width=\"53.46\" height=\"174.00\" style=\"fill:#CAC27E\"/>\n\t<rect x=\"1701.15\" y=\"1062.14\" width=\"46.12\" height=\"166.65\" style=\"fill:none;stroke:#D7D29E;stroke-width:7.34\"/>\n\t<rect x=\"1750.94\" y=\"983.84\" width=\"53.46\" height=\"248.62\" style=\"fill:#CAC27E\"/>\n\t<rect x=\"1754.61\" y=\"987.52\" width=\"46.12\" height=\"241.28\" style=\"fill:none;stroke:#D7D29E;stroke-width:7.34\"/>\n\t<rect x=\"1804.40\" y=\"958.97\" width=\"53.34\" height=\"273.50\" style=\"fill:#CAC27E\"/>\n\t<rect x=\"1808.07\" y=\"962.64\" width=\"45.99\" height=\"266.15\" style=\"fill:none;stroke:#D7D29E;stroke-width:7.34\"/>\n\t<rect x=\"1857.73\" y=\"660.72\" width=\"53.46\" height=\"571.74\" style=\"fill:#CAC27E\"/>\n\t<rect x=\"1861.41\" y=\"664.39\" width=\"46.12\" height=\"564.40\" style=\"fill:none;stroke:#D7D29E;stroke-width:7.34\"/>\n\t<rect x=\"1911.19\" y=\"934.09\" width=\"53.46\" height=\"298.37\" style=\"fill:#CAC27E\"/>\n\t<rect x=\"1914.87\" y=\"937.77\" width=\"46.12\" height=\"291.03\" style=\"fill:none;stroke:#D7D29E;stroke-width:7.34\"/>\n\t<rect x=\"1964.65\" y=\"859.59\" width=\"53.34\" height=\"372.87\" style=\"fill:#CAC27E\"/>\n\t<rect x=\"1968.33\" y=\"863.27\" width=\"45.99\" height=\"365.53\" style=\"fill:none;stroke:#D7D29E;stroke-width:7.34\"/>\n\t<rect x=\"2221.56\" y=\"784.97\" width=\"53.46\" height=\"447.49\" style=\"fill:#CAC27E\"/>\n\t<rect x=\"2225.23\" y=\"788.64\" width=\"46.12\" height=\"440.15\" style=\"fill:none;stroke:#D7D29E;stroke-width:7.34\"/>\n\t<rect x=\"2275.02\" y=\"1182.72\" width=\"53.34\" height=\"49.75\" style=\"fill:#CAC27E\"/>\n\t<rect x=\"2278.69\" y=\"1186.39\" width=\"45.99\" height=\"42.41\" style=\"fill:none;stroke:#D7D29E;stroke-width:7.34\"/>\n\t<rect x=\"2328.36\" y=\"884.47\" width=\"53.46\" height=\"348.00\" style=\"fill:#CAC27E\"/>\n\t<rect x=\"2332.03\" y=\"888.14\" width=\"46.12\" height=\"340.65\" style=\"fill:none;stroke:#D7D29E;stroke-width:7.34\"/>\n\t<rect x=\"2381.82\" y=\"1008.72\" width=\"53.46\" height=\"223.75\" style=\"fill:#CAC27E\"/>\n\t<rect x=\"2385.49\" y=\"1012.39\" width=\"46.12\" height=\"216.40\" style=\"fill:none;stroke:#D7D29E;stroke-width:7.34\"/>\n\t<rect x=\"2435.28\" y=\"834.72\" width=\"53.34\" height=\"397.74\" style=\"fill:#CAC27E\"/>\n\t<rect x=\"2438.95\" y=\"838.39\" width=\"45.99\" height=\"390.40\" style=\"fill:none;stroke:#D7D29E;stroke-width:7.34\"/>\n\t<rect x=\"2488.61\" y=\"909.22\" width=\"53.46\" height=\"323.25\" style=\"fill:#CAC27E\"/>\n\t<rect x=\"2492.28\" y=\"912.89\" width=\"46.12\" height=\"315.90\" style=\"fill:none;stroke:#D7D29E;stroke-width:7.34\"/>\n\t<rect x=\"2542.07\" y=\"884.47\" width=\"53.46\" height=\"348.00\" style=\"fill:#CAC27E\"/>\n\t<rect x=\"2545.74\" y=\"888.14\" width=\"46.12\" height=\"340.65\" style=\"fill:none;stroke:#D7D29E;stroke-width:7.34\"/>\n\t<rect x=\"2595.53\" y=\"1058.47\" width=\"53.34\" height=\"174.00\" style=\"fill:#CAC27E\"/>\n\t<rect x=\"2599.20\" y=\"1062.14\" width=\"45.99\" height=\"166.65\" style=\"fill:none;stroke:#D7D29E;stroke-width:7.34\"/>\n\t<rect x=\"2648.87\" y=\"1008.72\" width=\"53.46\" height=\"223.75\" style=\"fill:#CAC27E\"/>\n\t<rect x=\"2652.54\" y=\"1012.39\" width=\"46.12\" height=\"216.40\" style=\"fill:none;stroke:#D7D29E;stroke-width:7.34\"/>\n\t<rect x=\"2702.33\" y=\"1058.47\" width=\"53.46\" height=\"174.00\" style=\"fill:#CAC27E\"/>\n\t<rect x=\"2706.00\" y=\"1062.14\" width=\"46.12\" height=\"166.65\" style=\"fill:none;stroke:#D7D29E;stroke-width:7.34\"/>\n\t<rect x=\"2755.79\" y=\"1108.22\" width=\"53.34\" height=\"124.25\" style=\"fill:#CAC27E\"/>\n\t<rect x=\"2759.46\" y=\"1111.89\" width=\"45.99\" height=\"116.91\" style=\"fill:none;stroke:#D7D29E;stroke-width:7.34\"/>\n\t<rect x=\"2809.12\" y=\"909.22\" width=\"53.46\" height=\"323.25\" style=\"fill:#CAC27E\"/>\n\t<rect x=\"2812.80\" y=\"912.89\" width=\"46.12\" height=\"315.90\" style=\"fill:none;stroke:#D7D29E;stroke-width:7.34\"/>\n\t<rect x=\"2862.59\" y=\"1058.47\" width=\"53.46\" height=\"174.00\" style=\"fill:#CAC27E\"/>\n\t<rect x=\"2866.26\" y=\"1062.14\" width=\"46.12\" height=\"166.65\" style=\"fill:none;stroke:#D7D29E;stroke-width:7.34\"/>\n\t<rect x=\"2916.05\" y=\"884.47\" width=\"53.34\" height=\"348.00\" style=\"fill:#CAC27E\"/>\n\t<rect x=\"2919.72\" y=\"888.14\" width=\"45.99\" height=\"340.65\" style=\"fill:none;stroke:#D7D29E;stroke-width:7.34\"/>\n\t<rect x=\"2969.38\" y=\"1033.59\" width=\"53.46\" height=\"198.87\" style=\"fill:#CAC27E\"/>\n\t<rect x=\"2973.05\" y=\"1037.26\" width=\"46.12\" height=\"191.53\" style=\"fill:none;stroke:#D7D29E;stroke-width:7.34\"/>\n\t<rect x=\"3022.84\" y=\"1008.72\" width=\"53.34\" height=\"223.75\" style=\"fill:#CAC27E\"/>\n\t<rect x=\"3026.51\" y=\"1012.39\" width=\"45.99\" height=\"216.40\" style=\"fill:none;stroke:#D7D29E;stroke-width:7.34\"/>\n\t<rect x=\"3076.18\" y=\"1058.47\" width=\"53.46\" height=\"174.00\" style=\"fill:#CAC27E\"/>\n\t<rect x=\"3079.85\" y=\"1062.14\" width=\"46.12\" height=\"166.65\" style=\"fill:none;stroke:#D7D29E;stroke-width:7.34\"/>\n\t<rect x=\"3129.64\" y=\"834.72\" width=\"53.46\" height=\"397.74\" style=\"fill:#CAC27E\"/>\n\t<rect x=\"3133.31\" y=\"838.39\" width=\"46.12\" height=\"390.40\" style=\"fill:none;stroke:#D7D29E;stroke-width:7.34\"/>\n\t<rect x=\"3183.10\" y=\"1108.22\" width=\"53.34\" height=\"124.25\" style=\"fill:#CAC27E\"/>\n\t<rect x=\"3186.77\" y=\"1111.89\" width=\"45.99\" height=\"116.91\" style=\"fill:none;stroke:#D7D29E;stroke-width:7.34\"/>\n\t<rect x=\"3236.43\" y=\"1108.22\" width=\"53.46\" height=\"124.25\" style=\"fill:#CAC27E\"/>\n\t<rect x=\"3240.11\" y=\"1111.89\" width=\"46.12\" height=\"116.91\" style=\"fill:none;stroke:#D7D29E;stroke-width:7.34\"/>\n\t<rect x=\"3289.89\" y=\"1083.34\" width=\"53.46\" height=\"149.12\" style=\"fill:#CAC27E\"/>\n\t<rect x=\"3293.57\" y=\"1087.01\" width=\"46.12\" height=\"141.78\" style=\"fill:none;stroke:#D7D29E;stroke-width:7.34\"/>\n\t<rect x=\"3343.35\" y=\"958.97\" width=\"53.34\" height=\"273.50\" style=\"fill:#CAC27E\"/>\n\t<rect x=\"3347.03\" y=\"962.64\" width=\"45.99\" height=\"266.15\" style=\"fill:none;stroke:#D7D29E;stroke-width:7.34\"/>\n\t<rect x=\"3396.69\" y=\"859.59\" width=\"53.46\" height=\"372.87\" style=\"fill:#CAC27E\"/>\n\t<rect x=\"3400.36\" y=\"863.27\" width=\"46.12\" height=\"365.53\" style=\"fill:none;stroke:#D7D29E;stroke-width:7.34\"/>\n\t<rect x=\"3450.15\" y=\"1083.34\" width=\"53.46\" height=\"149.12\" style=\"fill:#CAC27E\"/>\n\t<rect x=\"3453.82\" y=\"1087.01\" width=\"46.12\" height=\"141.78\" style=\"fill:none;stroke:#D7D29E;stroke-width:7.34\"/>\n\t<rect x=\"3503.61\" y=\"809.85\" width=\"53.34\" height=\"422.62\" style=\"fill:#CAC27E\"/>\n\t<rect x=\"3507.28\" y=\"813.52\" width=\"45.99\" height=\"415.28\" style=\"fill:none;stroke:#D7D29E;stroke-width:7.34\"/>\n\t<rect x=\"3556.95\" y=\"1058.47\" width=\"53.46\" height=\"174.00\" style=\"fill:#CAC27E\"/>\n\t<rect x=\"3560.62\" y=\"1062.14\" width=\"46.12\" height=\"166.65\" style=\"fill:none;stroke:#D7D29E;stroke-width:7.34\"/>\n\t<rect x=\"3610.41\" y=\"809.85\" width=\"53.46\" height=\"422.62\" style=\"fill:#CAC27E\"/>\n\t<rect x=\"3614.08\" y=\"813.52\" width=\"46.12\" height=\"415.28\" style=\"fill:none;stroke:#D7D29E;stroke-width:7.34\"/>\n\t<rect x=\"3663.87\" y=\"1008.72\" width=\"53.34\" height=\"223.75\" style=\"fill:#CAC27E\"/>\n\t<rect x=\"3667.54\" y=\"1012.39\" width=\"45.99\" height=\"216.40\" style=\"fill:none;stroke:#D7D29E;stroke-width:7.34\"/>\n\t<rect x=\"3717.20\" y=\"834.72\" width=\"53.46\" height=\"397.74\" style=\"fill:#CAC27E\"/>\n\t<rect x=\"3720.87\" y=\"838.39\" width=\"46.12\" height=\"390.40\" style=\"fill:none;stroke:#D7D29E;stroke-width:7.34\"/>\n\t<rect x=\"468.89\" y=\"1954.44\" width=\"53.46\" height=\"422.62\" style=\"fill:#CAC27E\"/>\n\t<rect x=\"472.56\" y=\"1958.12\" width=\"46.12\" height=\"415.28\" style=\"fill:none;stroke:#D7D29E;stroke-width:7.34\"/>\n\t<rect x=\"522.35\" y=\"2103.69\" width=\"53.34\" height=\"273.37\" style=\"fill:#CAC27E\"/>\n\t<rect x=\"526.02\" y=\"2107.36\" width=\"45.99\" height=\"266.03\" style=\"fill:none;stroke:#D7D29E;stroke-width:7.34\"/>\n\t<rect x=\"575.68\" y=\"1954.44\" width=\"53.46\" height=\"422.62\" style=\"fill:#CAC27E\"/>\n\t<rect x=\"579.36\" y=\"1958.12\" width=\"46.12\" height=\"415.28\" style=\"fill:none;stroke:#D7D29E;stroke-width:7.34\"/>\n\t<rect x=\"629.14\" y=\"2203.07\" width=\"53.46\" height=\"174.00\" style=\"fill:#CAC27E\"/>\n\t<rect x=\"632.82\" y=\"2206.74\" width=\"46.12\" height=\"166.65\" style=\"fill:none;stroke:#D7D29E;stroke-width:7.34\"/>\n\t<rect x=\"682.61\" y=\"1904.82\" width=\"53.34\" height=\"472.24\" style=\"fill:#CAC27E\"/>\n\t<rect x=\"686.28\" y=\"1908.49\" width=\"45.99\" height=\"464.90\" style=\"fill:none;stroke:#D7D29E;stroke-width:7.34\"/>\n\t<rect x=\"735.94\" y=\"2227.94\" width=\"53.46\" height=\"149.12\" style=\"fill:#CAC27E\"/>\n\t<rect x=\"739.61\" y=\"2231.61\" width=\"46.12\" height=\"141.78\" style=\"fill:none;stroke:#D7D29E;stroke-width:7.34\"/>\n\t<rect x=\"789.40\" y=\"1780.45\" width=\"53.46\" height=\"596.62\" style=\"fill:#CAC27E\"/>\n\t<rect x=\"793.07\" y=\"1784.12\" width=\"46.12\" height=\"589.27\" style=\"fill:none;stroke:#D7D29E;stroke-width:7.34\"/>\n\t<rect x=\"842.86\" y=\"2178.19\" width=\"53.34\" height=\"198.87\" style=\"fill:#CAC27E\"/>\n\t<rect x=\"846.53\" y=\"2181.86\" width=\"45.99\" height=\"191.53\" style=\"fill:none;stroke:#D7D29E;stroke-width:7.34\"/>\n\t<rect x=\"896.20\" y=\"1929.57\" width=\"53.46\" height=\"447.49\" style=\"fill:#CAC27E\"/>\n\t<rect x=\"899.87\" y=\"1933.24\" width=\"46.12\" height=\"440.15\" style=\"fill:none;stroke:#D7D29E;stroke-width:7.34\"/>\n\t<rect x=\"949.66\" y=\"2277.69\" width=\"53.46\" height=\"99.37\" style=\"fill:#CAC27E\"/>\n\t<rect x=\"953.33\" y=\"2281.36\" width=\"46.12\" height=\"92.03\" style=\"fill:none;stroke:#D7D29E;stroke-width:7.34\"/>\n\t<rect x=\"1003.12\" y=\"2203.07\" width=\"53.34\" height=\"174.00\" style=\"fill:#CAC27E\"/>\n\t<rect x=\"1006.79\" y=\"2206.74\" width=\"45.99\" height=\"166.65\" style=\"fill:none;stroke:#D7D29E;stroke-width:7.34\"/>\n\t<rect x=\"1056.45\" y=\"2128.57\" width=\"53.46\" height=\"248.50\" style=\"fill:#CAC27E\"/>\n\t<rect x=\"1060.13\" y=\"2132.24\" width=\"46.12\" height=\"241.15\" style=\"fill:none;stroke:#D7D29E;stroke-width:7.34\"/>\n\t<rect x=\"1109.91\" y=\"2153.32\" width=\"53.46\" height=\"223.75\" style=\"fill:#CAC27E\"/>\n\t<rect x=\"1113.59\" y=\"2156.99\" width=\"46.12\" height=\"216.40\" style=\"fill:none;stroke:#D7D29E;stroke-width:7.34\"/>\n\t<rect x=\"1163.37\" y=\"1979.32\" width=\"53.34\" height=\"397.74\" style=\"fill:#CAC27E\"/>\n\t<rect x=\"1167.05\" y=\"1982.99\" width=\"45.99\" height=\"390.40\" style=\"fill:none;stroke:#D7D29E;stroke-width:7.34\"/>\n\t<rect x=\"1216.71\" y=\"2203.07\" width=\"53.46\" height=\"174.00\" style=\"fill:#CAC27E\"/>\n\t<rect x=\"1220.38\" y=\"2206.74\" width=\"46.12\" height=\"166.65\" style=\"fill:none;stroke:#D7D29E;stroke-width:7.34\"/>\n\t<rect x=\"1270.17\" y=\"1830.20\" width=\"53.46\" height=\"546.87\" style=\"fill:#CAC27E\"/>\n\t<rect x=\"1273.84\" y=\"1833.87\" width=\"46.12\" height=\"539.52\" style=\"fill:none;stroke:#D7D29E;stroke-width:7.34\"/>\n\t<rect x=\"1323.63\" y=\"2153.32\" width=\"53.34\" height=\"223.75\" style=\"fill:#CAC27E\"/>\n\t<rect x=\"1327.30\" y=\"2156.99\" width=\"45.99\" height=\"216.40\" style=\"fill:none;stroke:#D7D29E;stroke-width:7.34\"/>\n\t<rect x=\"1376.97\" y=\"1904.82\" width=\"53.46\" height=\"472.24\" style=\"fill:#CAC27E\"/>\n\t<rect x=\"1380.64\" y=\"1908.49\" width=\"46.12\" height=\"464.90\" style=\"fill:none;stroke:#D7D29E;stroke-width:7.34\"/>\n\t<rect x=\"1430.43\" y=\"2277.69\" width=\"53.46\" height=\"99.37\" style=\"fill:#CAC27E\"/>\n\t<rect x=\"1434.10\" y=\"2281.36\" width=\"46.12\" height=\"92.03\" style=\"fill:none;stroke:#D7D29E;stroke-width:7.34\"/>\n\t<rect x=\"1483.89\" y=\"2153.32\" width=\"53.34\" height=\"223.75\" style=\"fill:#CAC27E\"/>\n\t<rect x=\"1487.56\" y=\"2156.99\" width=\"45.99\" height=\"216.40\" style=\"fill:none;stroke:#D7D29E;stroke-width:7.34\"/>\n\t<rect x=\"1537.22\" y=\"2053.94\" width=\"53.46\" height=\"323.12\" style=\"fill:#CAC27E\"/>\n\t<rect x=\"1540.89\" y=\"2057.61\" width=\"46.12\" height=\"315.78\" style=\"fill:none;stroke:#D7D29E;stroke-width:7.34\"/>\n\t<rect x=\"1590.68\" y=\"2153.32\" width=\"53.46\" height=\"223.75\" style=\"fill:#CAC27E\"/>\n\t<rect x=\"1594.35\" y=\"2156.99\" width=\"46.12\" height=\"216.40\" style=\"fill:none;stroke:#D7D29E;stroke-width:7.34\"/>\n\t<rect x=\"1644.14\" y=\"1755.57\" width=\"53.34\" height=\"621.49\" style=\"fill:#CAC27E\"/>\n\t<rect x=\"1647.81\" y=\"1759.24\" width=\"45.99\" height=\"614.15\" style=\"fill:none;stroke:#D7D29E;stroke-width:7.34\"/>\n\t<rect x=\"1697.48\" y=\"2203.07\" width=\"53.46\" height=\"174.00\" style=\"fill:#CAC27E\"/>\n\t<rect x=\"1701.15\" y=\"2206.74\" width=\"46.12\" height=\"166.65\" style=\"fill:none;stroke:#D7D29E;stroke-width:7.34\"/>\n\t<rect x=\"1750.94\" y=\"1954.44\" width=\"53.46\" height=\"422.62\" style=\"fill:#CAC27E\"/>\n\t<rect x=\"1754.61\" y=\"1958.12\" width=\"46.12\" height=\"415.28\" style=\"fill:none;stroke:#D7D29E;stroke-width:7.34\"/>\n\t<rect x=\"1804.40\" y=\"2153.32\" width=\"53.34\" height=\"223.75\" style=\"fill:#CAC27E\"/>\n\t<rect x=\"1808.07\" y=\"2156.99\" width=\"45.99\" height=\"216.40\" style=\"fill:none;stroke:#D7D29E;stroke-width:7.34\"/>\n\t<rect x=\"1857.73\" y=\"1805.32\" width=\"53.46\" height=\"571.74\" style=\"fill:#CAC27E\"/>\n\t<rect x=\"1861.41\" y=\"1808.99\" width=\"46.12\" height=\"564.40\" style=\"fill:none;stroke:#D7D29E;stroke-width:7.34\"/>\n\t<rect x=\"1911.19\" y=\"2203.07\" width=\"53.46\" height=\"174.00\" style=\"fill:#CAC27E\"/>\n\t<rect x=\"1914.87\" y=\"2206.74\" width=\"46.12\" height=\"166.65\" style=\"fill:none;stroke:#D7D29E;stroke-width:7.34\"/>\n\t<rect x=\"1964.65\" y=\"1705.82\" width=\"53.34\" height=\"671.24\" style=\"fill:#CAC27E\"/>\n\t<rect x=\"1968.33\" y=\"1709.50\" width=\"45.99\" height=\"663.90\" style=\"fill:none;stroke:#D7D29E;stroke-width:7.34\"/>\n\t<line x1=\"388.33\" y1=\"1232.46\" x2=\"388.33\" y2=\"432.77\" style=\"stroke:#000000;stroke-width:4.90\"/>\n\t<line x1=\"388.33\" y1=\"1232.46\" x2=\"354.30\" y2=\"1232.46\" style=\"stroke:#000000;stroke-width:4.90\"/>\n\t<text x=\"311.78\" y=\"1232.46\" style=\"font-family:'Helvetica';font-size:85.02px;fill:#000000\" transform=\"rotate(-90 311.78,1232.46)\" text-anchor=\"middle\">0</text>\n\t<line x1=\"388.33\" y1=\"983.84\" x2=\"354.30\" y2=\"983.84\" style=\"stroke:#000000;stroke-width:4.90\"/>\n\t<text x=\"311.78\" y=\"983.84\" style=\"font-family:'Helvetica';font-size:85.02px;fill:#000000\" transform=\"rotate(-90 311.78,983.84)\" text-anchor=\"middle\">10</text>\n\t<line x1=\"388.33\" y1=\"735.22\" x2=\"354.30\" y2=\"735.22\" style=\"stroke:#000000;stroke-width:4.90\"/>\n\t<text x=\"311.78\" y=\"735.22\" style=\"font-family:'Helvetica';font-size:85.02px;fill:#000000\" transform=\"rotate(-90 311.78,735.22)\" text-anchor=\"middle\">20</text>\n\t<line x1=\"388.33\" y1=\"486.60\" x2=\"354.30\" y2=\"486.60\" style=\"stroke:#000000;stroke-width:4.90\"/>\n\t<text x=\"311.78\" y=\"486.60\" style=\"font-family:'Helvetica';font-size:85.02px;fill:#000000\" transform=\"rotate(-90 311.78,486.60)\" text-anchor=\"middle\">30</text>\n\t<line x1=\"388.33\" y1=\"2377.06\" x2=\"388.33\" y2=\"1577.49\" style=\"stroke:#000000;stroke-width:4.90\"/>\n\t<line x1=\"388.33\" y1=\"2377.06\" x2=\"354.30\" y2=\"2377.06\" style=\"stroke:#000000;stroke-width:4.90\"/>\n\t<text x=\"311.78\" y=\"2377.06\" style=\"font-family:'Helvetica';font-size:85.02px;fill:#000000\" transform=\"rotate(-90 311.78,2377.06)\" text-anchor=\"middle\">0</text>\n\t<line x1=\"388.33\" y1=\"2128.57\" x2=\"354.30\" y2=\"2128.57\" style=\"stroke:#000000;stroke-width:4.90\"/>\n\t<text x=\"311.78\" y=\"2128.57\" style=\"font-family:'Helvetica';font-size:85.02px;fill:#000000\" transform=\"rotate(-90 311.78,2128.57)\" text-anchor=\"middle\">10</text>\n\t<line x1=\"388.33\" y1=\"1879.94\" x2=\"354.30\" y2=\"1879.94\" style=\"stroke:#000000;stroke-width:4.90\"/>\n\t<text x=\"311.78\" y=\"1879.94\" style=\"font-family:'Helvetica';font-size:85.02px;fill:#000000\" transform=\"rotate(-90 311.78,1879.94)\" text-anchor=\"middle\">20</text>\n\t<line x1=\"388.33\" y1=\"1631.32\" x2=\"354.30\" y2=\"1631.32\" style=\"stroke:#000000;stroke-width:4.90\"/>\n\t<text x=\"311.78\" y=\"1631.32\" style=\"font-family:'Helvetica';font-size:85.02px;fill:#000000\" transform=\"rotate(-90 311.78,1631.32)\" text-anchor=\"middle\">30</text>\n\t<line x1=\"2141.00\" y1=\"1232.46\" x2=\"3824.49\" y2=\"1232.46\" style=\"stroke:#000000;stroke-width:4.90\"/>\n\t<line x1=\"2295.32\" y1=\"1232.46\" x2=\"2295.32\" y2=\"1266.50\" style=\"stroke:#000000;stroke-width:4.90\"/>\n\t<text x=\"2295.32\" y=\"1342.90\" style=\"font-family:'Helvetica';font-size:85.02px;fill:#000000\" text-anchor=\"middle\">20</text>\n\t<line x1=\"2664.21\" y1=\"1232.46\" x2=\"2664.21\" y2=\"1266.50\" style=\"stroke:#000000;stroke-width:4.90\"/>\n\t<text x=\"2664.21\" y=\"1342.90\" style=\"font-family:'Helvetica';font-size:85.02px;fill:#000000\" text-anchor=\"middle\">30</text>\n\t<line x1=\"3032.99\" y1=\"1232.46\" x2=\"3032.99\" y2=\"1266.50\" style=\"stroke:#000000;stroke-width:4.90\"/>\n\t<text x=\"3032.99\" y=\"1342.90\" style=\"font-family:'Helvetica';font-size:85.02px;fill:#000000\" text-anchor=\"middle\">40</text>\n\t<line x1=\"3401.89\" y1=\"1232.46\" x2=\"3401.89\" y2=\"1266.50\" style=\"stroke:#000000;stroke-width:4.90\"/>\n\t<text x=\"3401.89\" y=\"1342.90\" style=\"font-family:'Helvetica';font-size:85.02px;fill:#000000\" text-anchor=\"middle\">50</text>\n\t<line x1=\"3770.66\" y1=\"1232.46\" x2=\"3770.66\" y2=\"1266.50\" style=\"stroke:#000000;stroke-width:4.90\"/>\n\t<text x=\"3770.66\" y=\"1342.90\" style=\"font-family:'Helvetica';font-size:85.02px;fill:#000000\" text-anchor=\"middle\">60</text>\n\t<line x1=\"388.33\" y1=\"2377.06\" x2=\"2071.82\" y2=\"2377.06\" style=\"stroke:#000000;stroke-width:4.90\"/>\n\t<line x1=\"542.64\" y1=\"2377.06\" x2=\"542.64\" y2=\"2411.10\" style=\"stroke:#000000;stroke-width:4.90\"/>\n\t<text x=\"542.64\" y=\"2487.50\" style=\"font-family:'Helvetica';font-size:85.02px;fill:#000000\" text-anchor=\"middle\">20</text>\n\t<line x1=\"911.54\" y1=\"2377.06\" x2=\"911.54\" y2=\"2411.10\" style=\"stroke:#000000;stroke-width:4.90\"/>\n\t<text x=\"911.54\" y=\"2487.50\" style=\"font-family:'Helvetica';font-size:85.02px;fill:#000000\" text-anchor=\"middle\">30</text>\n\t<line x1=\"1280.32\" y1=\"2377.06\" x2=\"1280.32\" y2=\"2411.10\" style=\"stroke:#000000;stroke-width:4.90\"/>\n\t<text x=\"1280.32\" y=\"2487.50\" style=\"font-family:'Helvetica';font-size:85.02px;fill:#000000\" text-anchor=\"middle\">40</text>\n\t<line x1=\"1649.22\" y1=\"2377.06\" x2=\"1649.22\" y2=\"2411.10\" style=\"stroke:#000000;stroke-width:4.90\"/>\n\t<text x=\"1649.22\" y=\"2487.50\" style=\"font-family:'Helvetica';font-size:85.02px;fill:#000000\" text-anchor=\"middle\">50</text>\n\t<line x1=\"2017.99\" y1=\"2377.06\" x2=\"2017.99\" y2=\"2411.10\" style=\"stroke:#000000;stroke-width:4.90\"/>\n\t<text x=\"2017.99\" y=\"2487.50\" style=\"font-family:'Helvetica';font-size:85.02px;fill:#000000\" text-anchor=\"middle\">60</text>\n\t<rect x=\"388.33\" y=\"309.88\" width=\"1683.50\" height=\"122.89\" style=\"fill:#D9E6EB\"/>\n\t<rect x=\"390.78\" y=\"312.33\" width=\"1678.60\" height=\"117.99\" style=\"fill:none;stroke:#D9E6EB;stroke-width:4.90\"/>\n\t<text x=\"1230.08\" y=\"390.04\" style=\"font-family:'Helvetica';font-size:93.56px;fill:#000000\" text-anchor=\"middle\">1</text>\n\t<rect x=\"2141.00\" y=\"309.88\" width=\"1683.49\" height=\"122.89\" style=\"fill:#D9E6EB\"/>\n\t<rect x=\"2143.45\" y=\"312.33\" width=\"1678.60\" height=\"117.99\" style=\"fill:none;stroke:#D9E6EB;stroke-width:4.90\"/>\n\t<text x=\"2982.75\" y=\"390.04\" style=\"font-family:'Helvetica';font-size:93.56px;fill:#000000\" text-anchor=\"middle\">2</text>\n\t<rect x=\"388.33\" y=\"1454.60\" width=\"1683.50\" height=\"122.89\" style=\"fill:#D9E6EB\"/>\n\t<rect x=\"390.78\" y=\"1457.05\" width=\"1678.60\" height=\"117.99\" style=\"fill:none;stroke:#D9E6EB;stroke-width:4.90\"/>\n\t<text x=\"1230.08\" y=\"1534.63\" style=\"font-family:'Helvetica';font-size:93.56px;fill:#000000\" text-anchor=\"middle\">3</text>\n\t<text x=\"170.79\" y=\"1419.95\" style=\"font-family:'Helvetica';font-size:99.99px;fill:#000000\" transform=\"rotate(-90 170.79,1419.95)\" text-anchor=\"middle\">Frequency</text>\n\t<text x=\"2029.99\" y=\"2634.61\" style=\"font-family:'Helvetica';font-size:99.99px;fill:#000000\" text-anchor=\"middle\">value of age</text>\n\t<text x=\"218.05\" y=\"2737.89\" style=\"font-family:'Helvetica';font-size:79.94px;fill:#000000\">Graphs by 1:Oxford, 2:Southampton, 3:London</text>\n\t<text x=\"2029.99\" y=\"215.98\" style=\"font-family:'Helvetica';font-size:139.96px;fill:#1E2D53\" text-anchor=\"middle\">Age distribution by places</text>\n</svg>\n",
      "text/html": [
       "                <iframe frameborder=\"0\" scrolling=\"no\" height=\"436\" width=\"600\"                srcdoc=\"<html><body>&lt;?xml version=&quot;1.0&quot; encoding=&quot;UTF-8&quot; standalone=&quot;no&quot;?&gt;\n",
       "&lt;!-- This is a Stata 16.1 generated SVG file (http://www.stata.com) --&gt;\n",
       "\n",
       "&lt;svg version=&quot;1.1&quot; width=&quot;600px&quot; height=&quot;436px&quot; viewBox=&quot;0 0 3960 2880&quot; xmlns=&quot;http://www.w3.org/2000/svg&quot; xmlns:xlink=&quot;http://www.w3.org/1999/xlink&quot;&gt;\n",
       "\t&lt;desc&gt;Stata Graph - Graph&lt;/desc&gt;\n",
       "\t&lt;rect x=&quot;0&quot; y=&quot;0&quot; width=&quot;3960&quot; height=&quot;2880&quot; style=&quot;fill:#EAF2F3;stroke:none&quot;/&gt;\n",
       "\t&lt;rect x=&quot;0.00&quot; y=&quot;0.00&quot; width=&quot;3959.88&quot; height=&quot;2880.00&quot; style=&quot;fill:#EAF2F3&quot;/&gt;\n",
       "\t&lt;rect x=&quot;2.88&quot; y=&quot;2.88&quot; width=&quot;3954.12&quot; height=&quot;2874.24&quot; style=&quot;fill:none;stroke:#EAF2F3;stroke-width:5.76&quot;/&gt;\n",
       "\t&lt;rect x=&quot;388.33&quot; y=&quot;432.77&quot; width=&quot;1683.50&quot; height=&quot;799.70&quot; style=&quot;fill:#FFFFFF&quot;/&gt;\n",
       "\t&lt;rect x=&quot;390.78&quot; y=&quot;435.22&quot; width=&quot;1678.60&quot; height=&quot;794.80&quot; style=&quot;fill:none;stroke:#FFFFFF;stroke-width:4.90&quot;/&gt;\n",
       "\t&lt;line x1=&quot;388.33&quot; y1=&quot;1232.46&quot; x2=&quot;2071.82&quot; y2=&quot;1232.46&quot; style=&quot;stroke:#EAF2F3;stroke-width:7.34&quot;/&gt;\n",
       "\t&lt;line x1=&quot;388.33&quot; y1=&quot;983.84&quot; x2=&quot;2071.82&quot; y2=&quot;983.84&quot; style=&quot;stroke:#EAF2F3;stroke-width:7.34&quot;/&gt;\n",
       "\t&lt;line x1=&quot;388.33&quot; y1=&quot;735.22&quot; x2=&quot;2071.82&quot; y2=&quot;735.22&quot; style=&quot;stroke:#EAF2F3;stroke-width:7.34&quot;/&gt;\n",
       "\t&lt;line x1=&quot;388.33&quot; y1=&quot;486.60&quot; x2=&quot;2071.82&quot; y2=&quot;486.60&quot; style=&quot;stroke:#EAF2F3;stroke-width:7.34&quot;/&gt;\n",
       "\t&lt;rect x=&quot;2141.00&quot; y=&quot;432.77&quot; width=&quot;1683.49&quot; height=&quot;799.70&quot; style=&quot;fill:#FFFFFF&quot;/&gt;\n",
       "\t&lt;rect x=&quot;2143.45&quot; y=&quot;435.22&quot; width=&quot;1678.60&quot; height=&quot;794.80&quot; style=&quot;fill:none;stroke:#FFFFFF;stroke-width:4.90&quot;/&gt;\n",
       "\t&lt;line x1=&quot;2141.00&quot; y1=&quot;1232.46&quot; x2=&quot;3824.49&quot; y2=&quot;1232.46&quot; style=&quot;stroke:#EAF2F3;stroke-width:7.34&quot;/&gt;\n",
       "\t&lt;line x1=&quot;2141.00&quot; y1=&quot;983.84&quot; x2=&quot;3824.49&quot; y2=&quot;983.84&quot; style=&quot;stroke:#EAF2F3;stroke-width:7.34&quot;/&gt;\n",
       "\t&lt;line x1=&quot;2141.00&quot; y1=&quot;735.22&quot; x2=&quot;3824.49&quot; y2=&quot;735.22&quot; style=&quot;stroke:#EAF2F3;stroke-width:7.34&quot;/&gt;\n",
       "\t&lt;line x1=&quot;2141.00&quot; y1=&quot;486.60&quot; x2=&quot;3824.49&quot; y2=&quot;486.60&quot; style=&quot;stroke:#EAF2F3;stroke-width:7.34&quot;/&gt;\n",
       "\t&lt;rect x=&quot;388.33&quot; y=&quot;1577.49&quot; width=&quot;1683.50&quot; height=&quot;799.57&quot; style=&quot;fill:#FFFFFF&quot;/&gt;\n",
       "\t&lt;rect x=&quot;390.78&quot; y=&quot;1579.94&quot; width=&quot;1678.60&quot; height=&quot;794.68&quot; style=&quot;fill:none;stroke:#FFFFFF;stroke-width:4.90&quot;/&gt;\n",
       "\t&lt;line x1=&quot;388.33&quot; y1=&quot;2377.06&quot; x2=&quot;2071.82&quot; y2=&quot;2377.06&quot; style=&quot;stroke:#EAF2F3;stroke-width:7.34&quot;/&gt;\n",
       "\t&lt;line x1=&quot;388.33&quot; y1=&quot;2128.57&quot; x2=&quot;2071.82&quot; y2=&quot;2128.57&quot; style=&quot;stroke:#EAF2F3;stroke-width:7.34&quot;/&gt;\n",
       "\t&lt;line x1=&quot;388.33&quot; y1=&quot;1879.94&quot; x2=&quot;2071.82&quot; y2=&quot;1879.94&quot; style=&quot;stroke:#EAF2F3;stroke-width:7.34&quot;/&gt;\n",
       "\t&lt;line x1=&quot;388.33&quot; y1=&quot;1631.32&quot; x2=&quot;2071.82&quot; y2=&quot;1631.32&quot; style=&quot;stroke:#EAF2F3;stroke-width:7.34&quot;/&gt;\n",
       "\t&lt;rect x=&quot;468.89&quot; y=&quot;760.10&quot; width=&quot;53.46&quot; height=&quot;472.37&quot; style=&quot;fill:#CAC27E&quot;/&gt;\n",
       "\t&lt;rect x=&quot;472.56&quot; y=&quot;763.77&quot; width=&quot;46.12&quot; height=&quot;465.02&quot; style=&quot;fill:none;stroke:#D7D29E;stroke-width:7.34&quot;/&gt;\n",
       "\t&lt;rect x=&quot;522.35&quot; y=&quot;1157.84&quot; width=&quot;53.34&quot; height=&quot;74.62&quot; style=&quot;fill:#CAC27E&quot;/&gt;\n",
       "\t&lt;rect x=&quot;526.02&quot; y=&quot;1161.51&quot; width=&quot;45.99&quot; height=&quot;67.28&quot; style=&quot;fill:none;stroke:#D7D29E;stroke-width:7.34&quot;/&gt;\n",
       "\t&lt;rect x=&quot;575.68&quot; y=&quot;710.35&quot; width=&quot;53.46&quot; height=&quot;522.12&quot; style=&quot;fill:#CAC27E&quot;/&gt;\n",
       "\t&lt;rect x=&quot;579.36&quot; y=&quot;714.02&quot; width=&quot;46.12&quot; height=&quot;514.77&quot; style=&quot;fill:none;stroke:#D7D29E;stroke-width:7.34&quot;/&gt;\n",
       "\t&lt;rect x=&quot;629.14&quot; y=&quot;1033.59&quot; width=&quot;53.46&quot; height=&quot;198.87&quot; style=&quot;fill:#CAC27E&quot;/&gt;\n",
       "\t&lt;rect x=&quot;632.82&quot; y=&quot;1037.26&quot; width=&quot;46.12&quot; height=&quot;191.53&quot; style=&quot;fill:none;stroke:#D7D29E;stroke-width:7.34&quot;/&gt;\n",
       "\t&lt;rect x=&quot;682.61&quot; y=&quot;760.10&quot; width=&quot;53.34&quot; height=&quot;472.37&quot; style=&quot;fill:#CAC27E&quot;/&gt;\n",
       "\t&lt;rect x=&quot;686.28&quot; y=&quot;763.77&quot; width=&quot;45.99&quot; height=&quot;465.02&quot; style=&quot;fill:none;stroke:#D7D29E;stroke-width:7.34&quot;/&gt;\n",
       "\t&lt;rect x=&quot;735.94&quot; y=&quot;1033.59&quot; width=&quot;53.46&quot; height=&quot;198.87&quot; style=&quot;fill:#CAC27E&quot;/&gt;\n",
       "\t&lt;rect x=&quot;739.61&quot; y=&quot;1037.26&quot; width=&quot;46.12&quot; height=&quot;191.53&quot; style=&quot;fill:none;stroke:#D7D29E;stroke-width:7.34&quot;/&gt;\n",
       "\t&lt;rect x=&quot;789.40&quot; y=&quot;660.72&quot; width=&quot;53.46&quot; height=&quot;571.74&quot; style=&quot;fill:#CAC27E&quot;/&gt;\n",
       "\t&lt;rect x=&quot;793.07&quot; y=&quot;664.39&quot; width=&quot;46.12&quot; height=&quot;564.40&quot; style=&quot;fill:none;stroke:#D7D29E;stroke-width:7.34&quot;/&gt;\n",
       "\t&lt;rect x=&quot;842.86&quot; y=&quot;1157.84&quot; width=&quot;53.34&quot; height=&quot;74.62&quot; style=&quot;fill:#CAC27E&quot;/&gt;\n",
       "\t&lt;rect x=&quot;846.53&quot; y=&quot;1161.51&quot; width=&quot;45.99&quot; height=&quot;67.28&quot; style=&quot;fill:none;stroke:#D7D29E;stroke-width:7.34&quot;/&gt;\n",
       "\t&lt;rect x=&quot;896.20&quot; y=&quot;735.22&quot; width=&quot;53.46&quot; height=&quot;497.24&quot; style=&quot;fill:#CAC27E&quot;/&gt;\n",
       "\t&lt;rect x=&quot;899.87&quot; y=&quot;738.89&quot; width=&quot;46.12&quot; height=&quot;489.90&quot; style=&quot;fill:none;stroke:#D7D29E;stroke-width:7.34&quot;/&gt;\n",
       "\t&lt;rect x=&quot;949.66&quot; y=&quot;1108.22&quot; width=&quot;53.46&quot; height=&quot;124.25&quot; style=&quot;fill:#CAC27E&quot;/&gt;\n",
       "\t&lt;rect x=&quot;953.33&quot; y=&quot;1111.89&quot; width=&quot;46.12&quot; height=&quot;116.91&quot; style=&quot;fill:none;stroke:#D7D29E;stroke-width:7.34&quot;/&gt;\n",
       "\t&lt;rect x=&quot;1003.12&quot; y=&quot;1008.72&quot; width=&quot;53.34&quot; height=&quot;223.75&quot; style=&quot;fill:#CAC27E&quot;/&gt;\n",
       "\t&lt;rect x=&quot;1006.79&quot; y=&quot;1012.39&quot; width=&quot;45.99&quot; height=&quot;216.40&quot; style=&quot;fill:none;stroke:#D7D29E;stroke-width:7.34&quot;/&gt;\n",
       "\t&lt;rect x=&quot;1056.45&quot; y=&quot;1008.72&quot; width=&quot;53.46&quot; height=&quot;223.75&quot; style=&quot;fill:#CAC27E&quot;/&gt;\n",
       "\t&lt;rect x=&quot;1060.13&quot; y=&quot;1012.39&quot; width=&quot;46.12&quot; height=&quot;216.40&quot; style=&quot;fill:none;stroke:#D7D29E;stroke-width:7.34&quot;/&gt;\n",
       "\t&lt;rect x=&quot;1109.91&quot; y=&quot;1008.72&quot; width=&quot;53.46&quot; height=&quot;223.75&quot; style=&quot;fill:#CAC27E&quot;/&gt;\n",
       "\t&lt;rect x=&quot;1113.59&quot; y=&quot;1012.39&quot; width=&quot;46.12&quot; height=&quot;216.40&quot; style=&quot;fill:none;stroke:#D7D29E;stroke-width:7.34&quot;/&gt;\n",
       "\t&lt;rect x=&quot;1163.37&quot; y=&quot;983.84&quot; width=&quot;53.34&quot; height=&quot;248.62&quot; style=&quot;fill:#CAC27E&quot;/&gt;\n",
       "\t&lt;rect x=&quot;1167.05&quot; y=&quot;987.52&quot; width=&quot;45.99&quot; height=&quot;241.28&quot; style=&quot;fill:none;stroke:#D7D29E;stroke-width:7.34&quot;/&gt;\n",
       "\t&lt;rect x=&quot;1216.71&quot; y=&quot;1008.72&quot; width=&quot;53.46&quot; height=&quot;223.75&quot; style=&quot;fill:#CAC27E&quot;/&gt;\n",
       "\t&lt;rect x=&quot;1220.38&quot; y=&quot;1012.39&quot; width=&quot;46.12&quot; height=&quot;216.40&quot; style=&quot;fill:none;stroke:#D7D29E;stroke-width:7.34&quot;/&gt;\n",
       "\t&lt;rect x=&quot;1270.17&quot; y=&quot;859.59&quot; width=&quot;53.46&quot; height=&quot;372.87&quot; style=&quot;fill:#CAC27E&quot;/&gt;\n",
       "\t&lt;rect x=&quot;1273.84&quot; y=&quot;863.27&quot; width=&quot;46.12&quot; height=&quot;365.53&quot; style=&quot;fill:none;stroke:#D7D29E;stroke-width:7.34&quot;/&gt;\n",
       "\t&lt;rect x=&quot;1323.63&quot; y=&quot;1207.59&quot; width=&quot;53.34&quot; height=&quot;24.87&quot; style=&quot;fill:#CAC27E&quot;/&gt;\n",
       "\t&lt;rect x=&quot;1327.30&quot; y=&quot;1211.26&quot; width=&quot;45.99&quot; height=&quot;17.53&quot; style=&quot;fill:none;stroke:#D7D29E;stroke-width:7.34&quot;/&gt;\n",
       "\t&lt;rect x=&quot;1376.97&quot; y=&quot;1033.59&quot; width=&quot;53.46&quot; height=&quot;198.87&quot; style=&quot;fill:#CAC27E&quot;/&gt;\n",
       "\t&lt;rect x=&quot;1380.64&quot; y=&quot;1037.26&quot; width=&quot;46.12&quot; height=&quot;191.53&quot; style=&quot;fill:none;stroke:#D7D29E;stroke-width:7.34&quot;/&gt;\n",
       "\t&lt;rect x=&quot;1430.43&quot; y=&quot;1083.34&quot; width=&quot;53.46&quot; height=&quot;149.12&quot; style=&quot;fill:#CAC27E&quot;/&gt;\n",
       "\t&lt;rect x=&quot;1434.10&quot; y=&quot;1087.01&quot; width=&quot;46.12&quot; height=&quot;141.78&quot; style=&quot;fill:none;stroke:#D7D29E;stroke-width:7.34&quot;/&gt;\n",
       "\t&lt;rect x=&quot;1483.89&quot; y=&quot;1132.97&quot; width=&quot;53.34&quot; height=&quot;99.50&quot; style=&quot;fill:#CAC27E&quot;/&gt;\n",
       "\t&lt;rect x=&quot;1487.56&quot; y=&quot;1136.64&quot; width=&quot;45.99&quot; height=&quot;92.15&quot; style=&quot;fill:none;stroke:#D7D29E;stroke-width:7.34&quot;/&gt;\n",
       "\t&lt;rect x=&quot;1537.22&quot; y=&quot;958.97&quot; width=&quot;53.46&quot; height=&quot;273.50&quot; style=&quot;fill:#CAC27E&quot;/&gt;\n",
       "\t&lt;rect x=&quot;1540.89&quot; y=&quot;962.64&quot; width=&quot;46.12&quot; height=&quot;266.15&quot; style=&quot;fill:none;stroke:#D7D29E;stroke-width:7.34&quot;/&gt;\n",
       "\t&lt;rect x=&quot;1590.68&quot; y=&quot;1033.59&quot; width=&quot;53.46&quot; height=&quot;198.87&quot; style=&quot;fill:#CAC27E&quot;/&gt;\n",
       "\t&lt;rect x=&quot;1594.35&quot; y=&quot;1037.26&quot; width=&quot;46.12&quot; height=&quot;191.53&quot; style=&quot;fill:none;stroke:#D7D29E;stroke-width:7.34&quot;/&gt;\n",
       "\t&lt;rect x=&quot;1644.14&quot; y=&quot;934.09&quot; width=&quot;53.34&quot; height=&quot;298.37&quot; style=&quot;fill:#CAC27E&quot;/&gt;\n",
       "\t&lt;rect x=&quot;1647.81&quot; y=&quot;937.77&quot; width=&quot;45.99&quot; height=&quot;291.03&quot; style=&quot;fill:none;stroke:#D7D29E;stroke-width:7.34&quot;/&gt;\n",
       "\t&lt;rect x=&quot;1697.48&quot; y=&quot;1058.47&quot; width=&quot;53.46&quot; height=&quot;174.00&quot; style=&quot;fill:#CAC27E&quot;/&gt;\n",
       "\t&lt;rect x=&quot;1701.15&quot; y=&quot;1062.14&quot; width=&quot;46.12&quot; height=&quot;166.65&quot; style=&quot;fill:none;stroke:#D7D29E;stroke-width:7.34&quot;/&gt;\n",
       "\t&lt;rect x=&quot;1750.94&quot; y=&quot;983.84&quot; width=&quot;53.46&quot; height=&quot;248.62&quot; style=&quot;fill:#CAC27E&quot;/&gt;\n",
       "\t&lt;rect x=&quot;1754.61&quot; y=&quot;987.52&quot; width=&quot;46.12&quot; height=&quot;241.28&quot; style=&quot;fill:none;stroke:#D7D29E;stroke-width:7.34&quot;/&gt;\n",
       "\t&lt;rect x=&quot;1804.40&quot; y=&quot;958.97&quot; width=&quot;53.34&quot; height=&quot;273.50&quot; style=&quot;fill:#CAC27E&quot;/&gt;\n",
       "\t&lt;rect x=&quot;1808.07&quot; y=&quot;962.64&quot; width=&quot;45.99&quot; height=&quot;266.15&quot; style=&quot;fill:none;stroke:#D7D29E;stroke-width:7.34&quot;/&gt;\n",
       "\t&lt;rect x=&quot;1857.73&quot; y=&quot;660.72&quot; width=&quot;53.46&quot; height=&quot;571.74&quot; style=&quot;fill:#CAC27E&quot;/&gt;\n",
       "\t&lt;rect x=&quot;1861.41&quot; y=&quot;664.39&quot; width=&quot;46.12&quot; height=&quot;564.40&quot; style=&quot;fill:none;stroke:#D7D29E;stroke-width:7.34&quot;/&gt;\n",
       "\t&lt;rect x=&quot;1911.19&quot; y=&quot;934.09&quot; width=&quot;53.46&quot; height=&quot;298.37&quot; style=&quot;fill:#CAC27E&quot;/&gt;\n",
       "\t&lt;rect x=&quot;1914.87&quot; y=&quot;937.77&quot; width=&quot;46.12&quot; height=&quot;291.03&quot; style=&quot;fill:none;stroke:#D7D29E;stroke-width:7.34&quot;/&gt;\n",
       "\t&lt;rect x=&quot;1964.65&quot; y=&quot;859.59&quot; width=&quot;53.34&quot; height=&quot;372.87&quot; style=&quot;fill:#CAC27E&quot;/&gt;\n",
       "\t&lt;rect x=&quot;1968.33&quot; y=&quot;863.27&quot; width=&quot;45.99&quot; height=&quot;365.53&quot; style=&quot;fill:none;stroke:#D7D29E;stroke-width:7.34&quot;/&gt;\n",
       "\t&lt;rect x=&quot;2221.56&quot; y=&quot;784.97&quot; width=&quot;53.46&quot; height=&quot;447.49&quot; style=&quot;fill:#CAC27E&quot;/&gt;\n",
       "\t&lt;rect x=&quot;2225.23&quot; y=&quot;788.64&quot; width=&quot;46.12&quot; height=&quot;440.15&quot; style=&quot;fill:none;stroke:#D7D29E;stroke-width:7.34&quot;/&gt;\n",
       "\t&lt;rect x=&quot;2275.02&quot; y=&quot;1182.72&quot; width=&quot;53.34&quot; height=&quot;49.75&quot; style=&quot;fill:#CAC27E&quot;/&gt;\n",
       "\t&lt;rect x=&quot;2278.69&quot; y=&quot;1186.39&quot; width=&quot;45.99&quot; height=&quot;42.41&quot; style=&quot;fill:none;stroke:#D7D29E;stroke-width:7.34&quot;/&gt;\n",
       "\t&lt;rect x=&quot;2328.36&quot; y=&quot;884.47&quot; width=&quot;53.46&quot; height=&quot;348.00&quot; style=&quot;fill:#CAC27E&quot;/&gt;\n",
       "\t&lt;rect x=&quot;2332.03&quot; y=&quot;888.14&quot; width=&quot;46.12&quot; height=&quot;340.65&quot; style=&quot;fill:none;stroke:#D7D29E;stroke-width:7.34&quot;/&gt;\n",
       "\t&lt;rect x=&quot;2381.82&quot; y=&quot;1008.72&quot; width=&quot;53.46&quot; height=&quot;223.75&quot; style=&quot;fill:#CAC27E&quot;/&gt;\n",
       "\t&lt;rect x=&quot;2385.49&quot; y=&quot;1012.39&quot; width=&quot;46.12&quot; height=&quot;216.40&quot; style=&quot;fill:none;stroke:#D7D29E;stroke-width:7.34&quot;/&gt;\n",
       "\t&lt;rect x=&quot;2435.28&quot; y=&quot;834.72&quot; width=&quot;53.34&quot; height=&quot;397.74&quot; style=&quot;fill:#CAC27E&quot;/&gt;\n",
       "\t&lt;rect x=&quot;2438.95&quot; y=&quot;838.39&quot; width=&quot;45.99&quot; height=&quot;390.40&quot; style=&quot;fill:none;stroke:#D7D29E;stroke-width:7.34&quot;/&gt;\n",
       "\t&lt;rect x=&quot;2488.61&quot; y=&quot;909.22&quot; width=&quot;53.46&quot; height=&quot;323.25&quot; style=&quot;fill:#CAC27E&quot;/&gt;\n",
       "\t&lt;rect x=&quot;2492.28&quot; y=&quot;912.89&quot; width=&quot;46.12&quot; height=&quot;315.90&quot; style=&quot;fill:none;stroke:#D7D29E;stroke-width:7.34&quot;/&gt;\n",
       "\t&lt;rect x=&quot;2542.07&quot; y=&quot;884.47&quot; width=&quot;53.46&quot; height=&quot;348.00&quot; style=&quot;fill:#CAC27E&quot;/&gt;\n",
       "\t&lt;rect x=&quot;2545.74&quot; y=&quot;888.14&quot; width=&quot;46.12&quot; height=&quot;340.65&quot; style=&quot;fill:none;stroke:#D7D29E;stroke-width:7.34&quot;/&gt;\n",
       "\t&lt;rect x=&quot;2595.53&quot; y=&quot;1058.47&quot; width=&quot;53.34&quot; height=&quot;174.00&quot; style=&quot;fill:#CAC27E&quot;/&gt;\n",
       "\t&lt;rect x=&quot;2599.20&quot; y=&quot;1062.14&quot; width=&quot;45.99&quot; height=&quot;166.65&quot; style=&quot;fill:none;stroke:#D7D29E;stroke-width:7.34&quot;/&gt;\n",
       "\t&lt;rect x=&quot;2648.87&quot; y=&quot;1008.72&quot; width=&quot;53.46&quot; height=&quot;223.75&quot; style=&quot;fill:#CAC27E&quot;/&gt;\n",
       "\t&lt;rect x=&quot;2652.54&quot; y=&quot;1012.39&quot; width=&quot;46.12&quot; height=&quot;216.40&quot; style=&quot;fill:none;stroke:#D7D29E;stroke-width:7.34&quot;/&gt;\n",
       "\t&lt;rect x=&quot;2702.33&quot; y=&quot;1058.47&quot; width=&quot;53.46&quot; height=&quot;174.00&quot; style=&quot;fill:#CAC27E&quot;/&gt;\n",
       "\t&lt;rect x=&quot;2706.00&quot; y=&quot;1062.14&quot; width=&quot;46.12&quot; height=&quot;166.65&quot; style=&quot;fill:none;stroke:#D7D29E;stroke-width:7.34&quot;/&gt;\n",
       "\t&lt;rect x=&quot;2755.79&quot; y=&quot;1108.22&quot; width=&quot;53.34&quot; height=&quot;124.25&quot; style=&quot;fill:#CAC27E&quot;/&gt;\n",
       "\t&lt;rect x=&quot;2759.46&quot; y=&quot;1111.89&quot; width=&quot;45.99&quot; height=&quot;116.91&quot; style=&quot;fill:none;stroke:#D7D29E;stroke-width:7.34&quot;/&gt;\n",
       "\t&lt;rect x=&quot;2809.12&quot; y=&quot;909.22&quot; width=&quot;53.46&quot; height=&quot;323.25&quot; style=&quot;fill:#CAC27E&quot;/&gt;\n",
       "\t&lt;rect x=&quot;2812.80&quot; y=&quot;912.89&quot; width=&quot;46.12&quot; height=&quot;315.90&quot; style=&quot;fill:none;stroke:#D7D29E;stroke-width:7.34&quot;/&gt;\n",
       "\t&lt;rect x=&quot;2862.59&quot; y=&quot;1058.47&quot; width=&quot;53.46&quot; height=&quot;174.00&quot; style=&quot;fill:#CAC27E&quot;/&gt;\n",
       "\t&lt;rect x=&quot;2866.26&quot; y=&quot;1062.14&quot; width=&quot;46.12&quot; height=&quot;166.65&quot; style=&quot;fill:none;stroke:#D7D29E;stroke-width:7.34&quot;/&gt;\n",
       "\t&lt;rect x=&quot;2916.05&quot; y=&quot;884.47&quot; width=&quot;53.34&quot; height=&quot;348.00&quot; style=&quot;fill:#CAC27E&quot;/&gt;\n",
       "\t&lt;rect x=&quot;2919.72&quot; y=&quot;888.14&quot; width=&quot;45.99&quot; height=&quot;340.65&quot; style=&quot;fill:none;stroke:#D7D29E;stroke-width:7.34&quot;/&gt;\n",
       "\t&lt;rect x=&quot;2969.38&quot; y=&quot;1033.59&quot; width=&quot;53.46&quot; height=&quot;198.87&quot; style=&quot;fill:#CAC27E&quot;/&gt;\n",
       "\t&lt;rect x=&quot;2973.05&quot; y=&quot;1037.26&quot; width=&quot;46.12&quot; height=&quot;191.53&quot; style=&quot;fill:none;stroke:#D7D29E;stroke-width:7.34&quot;/&gt;\n",
       "\t&lt;rect x=&quot;3022.84&quot; y=&quot;1008.72&quot; width=&quot;53.34&quot; height=&quot;223.75&quot; style=&quot;fill:#CAC27E&quot;/&gt;\n",
       "\t&lt;rect x=&quot;3026.51&quot; y=&quot;1012.39&quot; width=&quot;45.99&quot; height=&quot;216.40&quot; style=&quot;fill:none;stroke:#D7D29E;stroke-width:7.34&quot;/&gt;\n",
       "\t&lt;rect x=&quot;3076.18&quot; y=&quot;1058.47&quot; width=&quot;53.46&quot; height=&quot;174.00&quot; style=&quot;fill:#CAC27E&quot;/&gt;\n",
       "\t&lt;rect x=&quot;3079.85&quot; y=&quot;1062.14&quot; width=&quot;46.12&quot; height=&quot;166.65&quot; style=&quot;fill:none;stroke:#D7D29E;stroke-width:7.34&quot;/&gt;\n",
       "\t&lt;rect x=&quot;3129.64&quot; y=&quot;834.72&quot; width=&quot;53.46&quot; height=&quot;397.74&quot; style=&quot;fill:#CAC27E&quot;/&gt;\n",
       "\t&lt;rect x=&quot;3133.31&quot; y=&quot;838.39&quot; width=&quot;46.12&quot; height=&quot;390.40&quot; style=&quot;fill:none;stroke:#D7D29E;stroke-width:7.34&quot;/&gt;\n",
       "\t&lt;rect x=&quot;3183.10&quot; y=&quot;1108.22&quot; width=&quot;53.34&quot; height=&quot;124.25&quot; style=&quot;fill:#CAC27E&quot;/&gt;\n",
       "\t&lt;rect x=&quot;3186.77&quot; y=&quot;1111.89&quot; width=&quot;45.99&quot; height=&quot;116.91&quot; style=&quot;fill:none;stroke:#D7D29E;stroke-width:7.34&quot;/&gt;\n",
       "\t&lt;rect x=&quot;3236.43&quot; y=&quot;1108.22&quot; width=&quot;53.46&quot; height=&quot;124.25&quot; style=&quot;fill:#CAC27E&quot;/&gt;\n",
       "\t&lt;rect x=&quot;3240.11&quot; y=&quot;1111.89&quot; width=&quot;46.12&quot; height=&quot;116.91&quot; style=&quot;fill:none;stroke:#D7D29E;stroke-width:7.34&quot;/&gt;\n",
       "\t&lt;rect x=&quot;3289.89&quot; y=&quot;1083.34&quot; width=&quot;53.46&quot; height=&quot;149.12&quot; style=&quot;fill:#CAC27E&quot;/&gt;\n",
       "\t&lt;rect x=&quot;3293.57&quot; y=&quot;1087.01&quot; width=&quot;46.12&quot; height=&quot;141.78&quot; style=&quot;fill:none;stroke:#D7D29E;stroke-width:7.34&quot;/&gt;\n",
       "\t&lt;rect x=&quot;3343.35&quot; y=&quot;958.97&quot; width=&quot;53.34&quot; height=&quot;273.50&quot; style=&quot;fill:#CAC27E&quot;/&gt;\n",
       "\t&lt;rect x=&quot;3347.03&quot; y=&quot;962.64&quot; width=&quot;45.99&quot; height=&quot;266.15&quot; style=&quot;fill:none;stroke:#D7D29E;stroke-width:7.34&quot;/&gt;\n",
       "\t&lt;rect x=&quot;3396.69&quot; y=&quot;859.59&quot; width=&quot;53.46&quot; height=&quot;372.87&quot; style=&quot;fill:#CAC27E&quot;/&gt;\n",
       "\t&lt;rect x=&quot;3400.36&quot; y=&quot;863.27&quot; width=&quot;46.12&quot; height=&quot;365.53&quot; style=&quot;fill:none;stroke:#D7D29E;stroke-width:7.34&quot;/&gt;\n",
       "\t&lt;rect x=&quot;3450.15&quot; y=&quot;1083.34&quot; width=&quot;53.46&quot; height=&quot;149.12&quot; style=&quot;fill:#CAC27E&quot;/&gt;\n",
       "\t&lt;rect x=&quot;3453.82&quot; y=&quot;1087.01&quot; width=&quot;46.12&quot; height=&quot;141.78&quot; style=&quot;fill:none;stroke:#D7D29E;stroke-width:7.34&quot;/&gt;\n",
       "\t&lt;rect x=&quot;3503.61&quot; y=&quot;809.85&quot; width=&quot;53.34&quot; height=&quot;422.62&quot; style=&quot;fill:#CAC27E&quot;/&gt;\n",
       "\t&lt;rect x=&quot;3507.28&quot; y=&quot;813.52&quot; width=&quot;45.99&quot; height=&quot;415.28&quot; style=&quot;fill:none;stroke:#D7D29E;stroke-width:7.34&quot;/&gt;\n",
       "\t&lt;rect x=&quot;3556.95&quot; y=&quot;1058.47&quot; width=&quot;53.46&quot; height=&quot;174.00&quot; style=&quot;fill:#CAC27E&quot;/&gt;\n",
       "\t&lt;rect x=&quot;3560.62&quot; y=&quot;1062.14&quot; width=&quot;46.12&quot; height=&quot;166.65&quot; style=&quot;fill:none;stroke:#D7D29E;stroke-width:7.34&quot;/&gt;\n",
       "\t&lt;rect x=&quot;3610.41&quot; y=&quot;809.85&quot; width=&quot;53.46&quot; height=&quot;422.62&quot; style=&quot;fill:#CAC27E&quot;/&gt;\n",
       "\t&lt;rect x=&quot;3614.08&quot; y=&quot;813.52&quot; width=&quot;46.12&quot; height=&quot;415.28&quot; style=&quot;fill:none;stroke:#D7D29E;stroke-width:7.34&quot;/&gt;\n",
       "\t&lt;rect x=&quot;3663.87&quot; y=&quot;1008.72&quot; width=&quot;53.34&quot; height=&quot;223.75&quot; style=&quot;fill:#CAC27E&quot;/&gt;\n",
       "\t&lt;rect x=&quot;3667.54&quot; y=&quot;1012.39&quot; width=&quot;45.99&quot; height=&quot;216.40&quot; style=&quot;fill:none;stroke:#D7D29E;stroke-width:7.34&quot;/&gt;\n",
       "\t&lt;rect x=&quot;3717.20&quot; y=&quot;834.72&quot; width=&quot;53.46&quot; height=&quot;397.74&quot; style=&quot;fill:#CAC27E&quot;/&gt;\n",
       "\t&lt;rect x=&quot;3720.87&quot; y=&quot;838.39&quot; width=&quot;46.12&quot; height=&quot;390.40&quot; style=&quot;fill:none;stroke:#D7D29E;stroke-width:7.34&quot;/&gt;\n",
       "\t&lt;rect x=&quot;468.89&quot; y=&quot;1954.44&quot; width=&quot;53.46&quot; height=&quot;422.62&quot; style=&quot;fill:#CAC27E&quot;/&gt;\n",
       "\t&lt;rect x=&quot;472.56&quot; y=&quot;1958.12&quot; width=&quot;46.12&quot; height=&quot;415.28&quot; style=&quot;fill:none;stroke:#D7D29E;stroke-width:7.34&quot;/&gt;\n",
       "\t&lt;rect x=&quot;522.35&quot; y=&quot;2103.69&quot; width=&quot;53.34&quot; height=&quot;273.37&quot; style=&quot;fill:#CAC27E&quot;/&gt;\n",
       "\t&lt;rect x=&quot;526.02&quot; y=&quot;2107.36&quot; width=&quot;45.99&quot; height=&quot;266.03&quot; style=&quot;fill:none;stroke:#D7D29E;stroke-width:7.34&quot;/&gt;\n",
       "\t&lt;rect x=&quot;575.68&quot; y=&quot;1954.44&quot; width=&quot;53.46&quot; height=&quot;422.62&quot; style=&quot;fill:#CAC27E&quot;/&gt;\n",
       "\t&lt;rect x=&quot;579.36&quot; y=&quot;1958.12&quot; width=&quot;46.12&quot; height=&quot;415.28&quot; style=&quot;fill:none;stroke:#D7D29E;stroke-width:7.34&quot;/&gt;\n",
       "\t&lt;rect x=&quot;629.14&quot; y=&quot;2203.07&quot; width=&quot;53.46&quot; height=&quot;174.00&quot; style=&quot;fill:#CAC27E&quot;/&gt;\n",
       "\t&lt;rect x=&quot;632.82&quot; y=&quot;2206.74&quot; width=&quot;46.12&quot; height=&quot;166.65&quot; style=&quot;fill:none;stroke:#D7D29E;stroke-width:7.34&quot;/&gt;\n",
       "\t&lt;rect x=&quot;682.61&quot; y=&quot;1904.82&quot; width=&quot;53.34&quot; height=&quot;472.24&quot; style=&quot;fill:#CAC27E&quot;/&gt;\n",
       "\t&lt;rect x=&quot;686.28&quot; y=&quot;1908.49&quot; width=&quot;45.99&quot; height=&quot;464.90&quot; style=&quot;fill:none;stroke:#D7D29E;stroke-width:7.34&quot;/&gt;\n",
       "\t&lt;rect x=&quot;735.94&quot; y=&quot;2227.94&quot; width=&quot;53.46&quot; height=&quot;149.12&quot; style=&quot;fill:#CAC27E&quot;/&gt;\n",
       "\t&lt;rect x=&quot;739.61&quot; y=&quot;2231.61&quot; width=&quot;46.12&quot; height=&quot;141.78&quot; style=&quot;fill:none;stroke:#D7D29E;stroke-width:7.34&quot;/&gt;\n",
       "\t&lt;rect x=&quot;789.40&quot; y=&quot;1780.45&quot; width=&quot;53.46&quot; height=&quot;596.62&quot; style=&quot;fill:#CAC27E&quot;/&gt;\n",
       "\t&lt;rect x=&quot;793.07&quot; y=&quot;1784.12&quot; width=&quot;46.12&quot; height=&quot;589.27&quot; style=&quot;fill:none;stroke:#D7D29E;stroke-width:7.34&quot;/&gt;\n",
       "\t&lt;rect x=&quot;842.86&quot; y=&quot;2178.19&quot; width=&quot;53.34&quot; height=&quot;198.87&quot; style=&quot;fill:#CAC27E&quot;/&gt;\n",
       "\t&lt;rect x=&quot;846.53&quot; y=&quot;2181.86&quot; width=&quot;45.99&quot; height=&quot;191.53&quot; style=&quot;fill:none;stroke:#D7D29E;stroke-width:7.34&quot;/&gt;\n",
       "\t&lt;rect x=&quot;896.20&quot; y=&quot;1929.57&quot; width=&quot;53.46&quot; height=&quot;447.49&quot; style=&quot;fill:#CAC27E&quot;/&gt;\n",
       "\t&lt;rect x=&quot;899.87&quot; y=&quot;1933.24&quot; width=&quot;46.12&quot; height=&quot;440.15&quot; style=&quot;fill:none;stroke:#D7D29E;stroke-width:7.34&quot;/&gt;\n",
       "\t&lt;rect x=&quot;949.66&quot; y=&quot;2277.69&quot; width=&quot;53.46&quot; height=&quot;99.37&quot; style=&quot;fill:#CAC27E&quot;/&gt;\n",
       "\t&lt;rect x=&quot;953.33&quot; y=&quot;2281.36&quot; width=&quot;46.12&quot; height=&quot;92.03&quot; style=&quot;fill:none;stroke:#D7D29E;stroke-width:7.34&quot;/&gt;\n",
       "\t&lt;rect x=&quot;1003.12&quot; y=&quot;2203.07&quot; width=&quot;53.34&quot; height=&quot;174.00&quot; style=&quot;fill:#CAC27E&quot;/&gt;\n",
       "\t&lt;rect x=&quot;1006.79&quot; y=&quot;2206.74&quot; width=&quot;45.99&quot; height=&quot;166.65&quot; style=&quot;fill:none;stroke:#D7D29E;stroke-width:7.34&quot;/&gt;\n",
       "\t&lt;rect x=&quot;1056.45&quot; y=&quot;2128.57&quot; width=&quot;53.46&quot; height=&quot;248.50&quot; style=&quot;fill:#CAC27E&quot;/&gt;\n",
       "\t&lt;rect x=&quot;1060.13&quot; y=&quot;2132.24&quot; width=&quot;46.12&quot; height=&quot;241.15&quot; style=&quot;fill:none;stroke:#D7D29E;stroke-width:7.34&quot;/&gt;\n",
       "\t&lt;rect x=&quot;1109.91&quot; y=&quot;2153.32&quot; width=&quot;53.46&quot; height=&quot;223.75&quot; style=&quot;fill:#CAC27E&quot;/&gt;\n",
       "\t&lt;rect x=&quot;1113.59&quot; y=&quot;2156.99&quot; width=&quot;46.12&quot; height=&quot;216.40&quot; style=&quot;fill:none;stroke:#D7D29E;stroke-width:7.34&quot;/&gt;\n",
       "\t&lt;rect x=&quot;1163.37&quot; y=&quot;1979.32&quot; width=&quot;53.34&quot; height=&quot;397.74&quot; style=&quot;fill:#CAC27E&quot;/&gt;\n",
       "\t&lt;rect x=&quot;1167.05&quot; y=&quot;1982.99&quot; width=&quot;45.99&quot; height=&quot;390.40&quot; style=&quot;fill:none;stroke:#D7D29E;stroke-width:7.34&quot;/&gt;\n",
       "\t&lt;rect x=&quot;1216.71&quot; y=&quot;2203.07&quot; width=&quot;53.46&quot; height=&quot;174.00&quot; style=&quot;fill:#CAC27E&quot;/&gt;\n",
       "\t&lt;rect x=&quot;1220.38&quot; y=&quot;2206.74&quot; width=&quot;46.12&quot; height=&quot;166.65&quot; style=&quot;fill:none;stroke:#D7D29E;stroke-width:7.34&quot;/&gt;\n",
       "\t&lt;rect x=&quot;1270.17&quot; y=&quot;1830.20&quot; width=&quot;53.46&quot; height=&quot;546.87&quot; style=&quot;fill:#CAC27E&quot;/&gt;\n",
       "\t&lt;rect x=&quot;1273.84&quot; y=&quot;1833.87&quot; width=&quot;46.12&quot; height=&quot;539.52&quot; style=&quot;fill:none;stroke:#D7D29E;stroke-width:7.34&quot;/&gt;\n",
       "\t&lt;rect x=&quot;1323.63&quot; y=&quot;2153.32&quot; width=&quot;53.34&quot; height=&quot;223.75&quot; style=&quot;fill:#CAC27E&quot;/&gt;\n",
       "\t&lt;rect x=&quot;1327.30&quot; y=&quot;2156.99&quot; width=&quot;45.99&quot; height=&quot;216.40&quot; style=&quot;fill:none;stroke:#D7D29E;stroke-width:7.34&quot;/&gt;\n",
       "\t&lt;rect x=&quot;1376.97&quot; y=&quot;1904.82&quot; width=&quot;53.46&quot; height=&quot;472.24&quot; style=&quot;fill:#CAC27E&quot;/&gt;\n",
       "\t&lt;rect x=&quot;1380.64&quot; y=&quot;1908.49&quot; width=&quot;46.12&quot; height=&quot;464.90&quot; style=&quot;fill:none;stroke:#D7D29E;stroke-width:7.34&quot;/&gt;\n",
       "\t&lt;rect x=&quot;1430.43&quot; y=&quot;2277.69&quot; width=&quot;53.46&quot; height=&quot;99.37&quot; style=&quot;fill:#CAC27E&quot;/&gt;\n",
       "\t&lt;rect x=&quot;1434.10&quot; y=&quot;2281.36&quot; width=&quot;46.12&quot; height=&quot;92.03&quot; style=&quot;fill:none;stroke:#D7D29E;stroke-width:7.34&quot;/&gt;\n",
       "\t&lt;rect x=&quot;1483.89&quot; y=&quot;2153.32&quot; width=&quot;53.34&quot; height=&quot;223.75&quot; style=&quot;fill:#CAC27E&quot;/&gt;\n",
       "\t&lt;rect x=&quot;1487.56&quot; y=&quot;2156.99&quot; width=&quot;45.99&quot; height=&quot;216.40&quot; style=&quot;fill:none;stroke:#D7D29E;stroke-width:7.34&quot;/&gt;\n",
       "\t&lt;rect x=&quot;1537.22&quot; y=&quot;2053.94&quot; width=&quot;53.46&quot; height=&quot;323.12&quot; style=&quot;fill:#CAC27E&quot;/&gt;\n",
       "\t&lt;rect x=&quot;1540.89&quot; y=&quot;2057.61&quot; width=&quot;46.12&quot; height=&quot;315.78&quot; style=&quot;fill:none;stroke:#D7D29E;stroke-width:7.34&quot;/&gt;\n",
       "\t&lt;rect x=&quot;1590.68&quot; y=&quot;2153.32&quot; width=&quot;53.46&quot; height=&quot;223.75&quot; style=&quot;fill:#CAC27E&quot;/&gt;\n",
       "\t&lt;rect x=&quot;1594.35&quot; y=&quot;2156.99&quot; width=&quot;46.12&quot; height=&quot;216.40&quot; style=&quot;fill:none;stroke:#D7D29E;stroke-width:7.34&quot;/&gt;\n",
       "\t&lt;rect x=&quot;1644.14&quot; y=&quot;1755.57&quot; width=&quot;53.34&quot; height=&quot;621.49&quot; style=&quot;fill:#CAC27E&quot;/&gt;\n",
       "\t&lt;rect x=&quot;1647.81&quot; y=&quot;1759.24&quot; width=&quot;45.99&quot; height=&quot;614.15&quot; style=&quot;fill:none;stroke:#D7D29E;stroke-width:7.34&quot;/&gt;\n",
       "\t&lt;rect x=&quot;1697.48&quot; y=&quot;2203.07&quot; width=&quot;53.46&quot; height=&quot;174.00&quot; style=&quot;fill:#CAC27E&quot;/&gt;\n",
       "\t&lt;rect x=&quot;1701.15&quot; y=&quot;2206.74&quot; width=&quot;46.12&quot; height=&quot;166.65&quot; style=&quot;fill:none;stroke:#D7D29E;stroke-width:7.34&quot;/&gt;\n",
       "\t&lt;rect x=&quot;1750.94&quot; y=&quot;1954.44&quot; width=&quot;53.46&quot; height=&quot;422.62&quot; style=&quot;fill:#CAC27E&quot;/&gt;\n",
       "\t&lt;rect x=&quot;1754.61&quot; y=&quot;1958.12&quot; width=&quot;46.12&quot; height=&quot;415.28&quot; style=&quot;fill:none;stroke:#D7D29E;stroke-width:7.34&quot;/&gt;\n",
       "\t&lt;rect x=&quot;1804.40&quot; y=&quot;2153.32&quot; width=&quot;53.34&quot; height=&quot;223.75&quot; style=&quot;fill:#CAC27E&quot;/&gt;\n",
       "\t&lt;rect x=&quot;1808.07&quot; y=&quot;2156.99&quot; width=&quot;45.99&quot; height=&quot;216.40&quot; style=&quot;fill:none;stroke:#D7D29E;stroke-width:7.34&quot;/&gt;\n",
       "\t&lt;rect x=&quot;1857.73&quot; y=&quot;1805.32&quot; width=&quot;53.46&quot; height=&quot;571.74&quot; style=&quot;fill:#CAC27E&quot;/&gt;\n",
       "\t&lt;rect x=&quot;1861.41&quot; y=&quot;1808.99&quot; width=&quot;46.12&quot; height=&quot;564.40&quot; style=&quot;fill:none;stroke:#D7D29E;stroke-width:7.34&quot;/&gt;\n",
       "\t&lt;rect x=&quot;1911.19&quot; y=&quot;2203.07&quot; width=&quot;53.46&quot; height=&quot;174.00&quot; style=&quot;fill:#CAC27E&quot;/&gt;\n",
       "\t&lt;rect x=&quot;1914.87&quot; y=&quot;2206.74&quot; width=&quot;46.12&quot; height=&quot;166.65&quot; style=&quot;fill:none;stroke:#D7D29E;stroke-width:7.34&quot;/&gt;\n",
       "\t&lt;rect x=&quot;1964.65&quot; y=&quot;1705.82&quot; width=&quot;53.34&quot; height=&quot;671.24&quot; style=&quot;fill:#CAC27E&quot;/&gt;\n",
       "\t&lt;rect x=&quot;1968.33&quot; y=&quot;1709.50&quot; width=&quot;45.99&quot; height=&quot;663.90&quot; style=&quot;fill:none;stroke:#D7D29E;stroke-width:7.34&quot;/&gt;\n",
       "\t&lt;line x1=&quot;388.33&quot; y1=&quot;1232.46&quot; x2=&quot;388.33&quot; y2=&quot;432.77&quot; style=&quot;stroke:#000000;stroke-width:4.90&quot;/&gt;\n",
       "\t&lt;line x1=&quot;388.33&quot; y1=&quot;1232.46&quot; x2=&quot;354.30&quot; y2=&quot;1232.46&quot; style=&quot;stroke:#000000;stroke-width:4.90&quot;/&gt;\n",
       "\t&lt;text x=&quot;311.78&quot; y=&quot;1232.46&quot; style=&quot;font-family:&#x27;Helvetica&#x27;;font-size:85.02px;fill:#000000&quot; transform=&quot;rotate(-90 311.78,1232.46)&quot; text-anchor=&quot;middle&quot;&gt;0&lt;/text&gt;\n",
       "\t&lt;line x1=&quot;388.33&quot; y1=&quot;983.84&quot; x2=&quot;354.30&quot; y2=&quot;983.84&quot; style=&quot;stroke:#000000;stroke-width:4.90&quot;/&gt;\n",
       "\t&lt;text x=&quot;311.78&quot; y=&quot;983.84&quot; style=&quot;font-family:&#x27;Helvetica&#x27;;font-size:85.02px;fill:#000000&quot; transform=&quot;rotate(-90 311.78,983.84)&quot; text-anchor=&quot;middle&quot;&gt;10&lt;/text&gt;\n",
       "\t&lt;line x1=&quot;388.33&quot; y1=&quot;735.22&quot; x2=&quot;354.30&quot; y2=&quot;735.22&quot; style=&quot;stroke:#000000;stroke-width:4.90&quot;/&gt;\n",
       "\t&lt;text x=&quot;311.78&quot; y=&quot;735.22&quot; style=&quot;font-family:&#x27;Helvetica&#x27;;font-size:85.02px;fill:#000000&quot; transform=&quot;rotate(-90 311.78,735.22)&quot; text-anchor=&quot;middle&quot;&gt;20&lt;/text&gt;\n",
       "\t&lt;line x1=&quot;388.33&quot; y1=&quot;486.60&quot; x2=&quot;354.30&quot; y2=&quot;486.60&quot; style=&quot;stroke:#000000;stroke-width:4.90&quot;/&gt;\n",
       "\t&lt;text x=&quot;311.78&quot; y=&quot;486.60&quot; style=&quot;font-family:&#x27;Helvetica&#x27;;font-size:85.02px;fill:#000000&quot; transform=&quot;rotate(-90 311.78,486.60)&quot; text-anchor=&quot;middle&quot;&gt;30&lt;/text&gt;\n",
       "\t&lt;line x1=&quot;388.33&quot; y1=&quot;2377.06&quot; x2=&quot;388.33&quot; y2=&quot;1577.49&quot; style=&quot;stroke:#000000;stroke-width:4.90&quot;/&gt;\n",
       "\t&lt;line x1=&quot;388.33&quot; y1=&quot;2377.06&quot; x2=&quot;354.30&quot; y2=&quot;2377.06&quot; style=&quot;stroke:#000000;stroke-width:4.90&quot;/&gt;\n",
       "\t&lt;text x=&quot;311.78&quot; y=&quot;2377.06&quot; style=&quot;font-family:&#x27;Helvetica&#x27;;font-size:85.02px;fill:#000000&quot; transform=&quot;rotate(-90 311.78,2377.06)&quot; text-anchor=&quot;middle&quot;&gt;0&lt;/text&gt;\n",
       "\t&lt;line x1=&quot;388.33&quot; y1=&quot;2128.57&quot; x2=&quot;354.30&quot; y2=&quot;2128.57&quot; style=&quot;stroke:#000000;stroke-width:4.90&quot;/&gt;\n",
       "\t&lt;text x=&quot;311.78&quot; y=&quot;2128.57&quot; style=&quot;font-family:&#x27;Helvetica&#x27;;font-size:85.02px;fill:#000000&quot; transform=&quot;rotate(-90 311.78,2128.57)&quot; text-anchor=&quot;middle&quot;&gt;10&lt;/text&gt;\n",
       "\t&lt;line x1=&quot;388.33&quot; y1=&quot;1879.94&quot; x2=&quot;354.30&quot; y2=&quot;1879.94&quot; style=&quot;stroke:#000000;stroke-width:4.90&quot;/&gt;\n",
       "\t&lt;text x=&quot;311.78&quot; y=&quot;1879.94&quot; style=&quot;font-family:&#x27;Helvetica&#x27;;font-size:85.02px;fill:#000000&quot; transform=&quot;rotate(-90 311.78,1879.94)&quot; text-anchor=&quot;middle&quot;&gt;20&lt;/text&gt;\n",
       "\t&lt;line x1=&quot;388.33&quot; y1=&quot;1631.32&quot; x2=&quot;354.30&quot; y2=&quot;1631.32&quot; style=&quot;stroke:#000000;stroke-width:4.90&quot;/&gt;\n",
       "\t&lt;text x=&quot;311.78&quot; y=&quot;1631.32&quot; style=&quot;font-family:&#x27;Helvetica&#x27;;font-size:85.02px;fill:#000000&quot; transform=&quot;rotate(-90 311.78,1631.32)&quot; text-anchor=&quot;middle&quot;&gt;30&lt;/text&gt;\n",
       "\t&lt;line x1=&quot;2141.00&quot; y1=&quot;1232.46&quot; x2=&quot;3824.49&quot; y2=&quot;1232.46&quot; style=&quot;stroke:#000000;stroke-width:4.90&quot;/&gt;\n",
       "\t&lt;line x1=&quot;2295.32&quot; y1=&quot;1232.46&quot; x2=&quot;2295.32&quot; y2=&quot;1266.50&quot; style=&quot;stroke:#000000;stroke-width:4.90&quot;/&gt;\n",
       "\t&lt;text x=&quot;2295.32&quot; y=&quot;1342.90&quot; style=&quot;font-family:&#x27;Helvetica&#x27;;font-size:85.02px;fill:#000000&quot; text-anchor=&quot;middle&quot;&gt;20&lt;/text&gt;\n",
       "\t&lt;line x1=&quot;2664.21&quot; y1=&quot;1232.46&quot; x2=&quot;2664.21&quot; y2=&quot;1266.50&quot; style=&quot;stroke:#000000;stroke-width:4.90&quot;/&gt;\n",
       "\t&lt;text x=&quot;2664.21&quot; y=&quot;1342.90&quot; style=&quot;font-family:&#x27;Helvetica&#x27;;font-size:85.02px;fill:#000000&quot; text-anchor=&quot;middle&quot;&gt;30&lt;/text&gt;\n",
       "\t&lt;line x1=&quot;3032.99&quot; y1=&quot;1232.46&quot; x2=&quot;3032.99&quot; y2=&quot;1266.50&quot; style=&quot;stroke:#000000;stroke-width:4.90&quot;/&gt;\n",
       "\t&lt;text x=&quot;3032.99&quot; y=&quot;1342.90&quot; style=&quot;font-family:&#x27;Helvetica&#x27;;font-size:85.02px;fill:#000000&quot; text-anchor=&quot;middle&quot;&gt;40&lt;/text&gt;\n",
       "\t&lt;line x1=&quot;3401.89&quot; y1=&quot;1232.46&quot; x2=&quot;3401.89&quot; y2=&quot;1266.50&quot; style=&quot;stroke:#000000;stroke-width:4.90&quot;/&gt;\n",
       "\t&lt;text x=&quot;3401.89&quot; y=&quot;1342.90&quot; style=&quot;font-family:&#x27;Helvetica&#x27;;font-size:85.02px;fill:#000000&quot; text-anchor=&quot;middle&quot;&gt;50&lt;/text&gt;\n",
       "\t&lt;line x1=&quot;3770.66&quot; y1=&quot;1232.46&quot; x2=&quot;3770.66&quot; y2=&quot;1266.50&quot; style=&quot;stroke:#000000;stroke-width:4.90&quot;/&gt;\n",
       "\t&lt;text x=&quot;3770.66&quot; y=&quot;1342.90&quot; style=&quot;font-family:&#x27;Helvetica&#x27;;font-size:85.02px;fill:#000000&quot; text-anchor=&quot;middle&quot;&gt;60&lt;/text&gt;\n",
       "\t&lt;line x1=&quot;388.33&quot; y1=&quot;2377.06&quot; x2=&quot;2071.82&quot; y2=&quot;2377.06&quot; style=&quot;stroke:#000000;stroke-width:4.90&quot;/&gt;\n",
       "\t&lt;line x1=&quot;542.64&quot; y1=&quot;2377.06&quot; x2=&quot;542.64&quot; y2=&quot;2411.10&quot; style=&quot;stroke:#000000;stroke-width:4.90&quot;/&gt;\n",
       "\t&lt;text x=&quot;542.64&quot; y=&quot;2487.50&quot; style=&quot;font-family:&#x27;Helvetica&#x27;;font-size:85.02px;fill:#000000&quot; text-anchor=&quot;middle&quot;&gt;20&lt;/text&gt;\n",
       "\t&lt;line x1=&quot;911.54&quot; y1=&quot;2377.06&quot; x2=&quot;911.54&quot; y2=&quot;2411.10&quot; style=&quot;stroke:#000000;stroke-width:4.90&quot;/&gt;\n",
       "\t&lt;text x=&quot;911.54&quot; y=&quot;2487.50&quot; style=&quot;font-family:&#x27;Helvetica&#x27;;font-size:85.02px;fill:#000000&quot; text-anchor=&quot;middle&quot;&gt;30&lt;/text&gt;\n",
       "\t&lt;line x1=&quot;1280.32&quot; y1=&quot;2377.06&quot; x2=&quot;1280.32&quot; y2=&quot;2411.10&quot; style=&quot;stroke:#000000;stroke-width:4.90&quot;/&gt;\n",
       "\t&lt;text x=&quot;1280.32&quot; y=&quot;2487.50&quot; style=&quot;font-family:&#x27;Helvetica&#x27;;font-size:85.02px;fill:#000000&quot; text-anchor=&quot;middle&quot;&gt;40&lt;/text&gt;\n",
       "\t&lt;line x1=&quot;1649.22&quot; y1=&quot;2377.06&quot; x2=&quot;1649.22&quot; y2=&quot;2411.10&quot; style=&quot;stroke:#000000;stroke-width:4.90&quot;/&gt;\n",
       "\t&lt;text x=&quot;1649.22&quot; y=&quot;2487.50&quot; style=&quot;font-family:&#x27;Helvetica&#x27;;font-size:85.02px;fill:#000000&quot; text-anchor=&quot;middle&quot;&gt;50&lt;/text&gt;\n",
       "\t&lt;line x1=&quot;2017.99&quot; y1=&quot;2377.06&quot; x2=&quot;2017.99&quot; y2=&quot;2411.10&quot; style=&quot;stroke:#000000;stroke-width:4.90&quot;/&gt;\n",
       "\t&lt;text x=&quot;2017.99&quot; y=&quot;2487.50&quot; style=&quot;font-family:&#x27;Helvetica&#x27;;font-size:85.02px;fill:#000000&quot; text-anchor=&quot;middle&quot;&gt;60&lt;/text&gt;\n",
       "\t&lt;rect x=&quot;388.33&quot; y=&quot;309.88&quot; width=&quot;1683.50&quot; height=&quot;122.89&quot; style=&quot;fill:#D9E6EB&quot;/&gt;\n",
       "\t&lt;rect x=&quot;390.78&quot; y=&quot;312.33&quot; width=&quot;1678.60&quot; height=&quot;117.99&quot; style=&quot;fill:none;stroke:#D9E6EB;stroke-width:4.90&quot;/&gt;\n",
       "\t&lt;text x=&quot;1230.08&quot; y=&quot;390.04&quot; style=&quot;font-family:&#x27;Helvetica&#x27;;font-size:93.56px;fill:#000000&quot; text-anchor=&quot;middle&quot;&gt;1&lt;/text&gt;\n",
       "\t&lt;rect x=&quot;2141.00&quot; y=&quot;309.88&quot; width=&quot;1683.49&quot; height=&quot;122.89&quot; style=&quot;fill:#D9E6EB&quot;/&gt;\n",
       "\t&lt;rect x=&quot;2143.45&quot; y=&quot;312.33&quot; width=&quot;1678.60&quot; height=&quot;117.99&quot; style=&quot;fill:none;stroke:#D9E6EB;stroke-width:4.90&quot;/&gt;\n",
       "\t&lt;text x=&quot;2982.75&quot; y=&quot;390.04&quot; style=&quot;font-family:&#x27;Helvetica&#x27;;font-size:93.56px;fill:#000000&quot; text-anchor=&quot;middle&quot;&gt;2&lt;/text&gt;\n",
       "\t&lt;rect x=&quot;388.33&quot; y=&quot;1454.60&quot; width=&quot;1683.50&quot; height=&quot;122.89&quot; style=&quot;fill:#D9E6EB&quot;/&gt;\n",
       "\t&lt;rect x=&quot;390.78&quot; y=&quot;1457.05&quot; width=&quot;1678.60&quot; height=&quot;117.99&quot; style=&quot;fill:none;stroke:#D9E6EB;stroke-width:4.90&quot;/&gt;\n",
       "\t&lt;text x=&quot;1230.08&quot; y=&quot;1534.63&quot; style=&quot;font-family:&#x27;Helvetica&#x27;;font-size:93.56px;fill:#000000&quot; text-anchor=&quot;middle&quot;&gt;3&lt;/text&gt;\n",
       "\t&lt;text x=&quot;170.79&quot; y=&quot;1419.95&quot; style=&quot;font-family:&#x27;Helvetica&#x27;;font-size:99.99px;fill:#000000&quot; transform=&quot;rotate(-90 170.79,1419.95)&quot; text-anchor=&quot;middle&quot;&gt;Frequency&lt;/text&gt;\n",
       "\t&lt;text x=&quot;2029.99&quot; y=&quot;2634.61&quot; style=&quot;font-family:&#x27;Helvetica&#x27;;font-size:99.99px;fill:#000000&quot; text-anchor=&quot;middle&quot;&gt;value of age&lt;/text&gt;\n",
       "\t&lt;text x=&quot;218.05&quot; y=&quot;2737.89&quot; style=&quot;font-family:&#x27;Helvetica&#x27;;font-size:79.94px;fill:#000000&quot;&gt;Graphs by 1:Oxford, 2:Southampton, 3:London&lt;/text&gt;\n",
       "\t&lt;text x=&quot;2029.99&quot; y=&quot;215.98&quot; style=&quot;font-family:&#x27;Helvetica&#x27;;font-size:139.96px;fill:#1E2D53&quot; text-anchor=&quot;middle&quot;&gt;Age distribution by places&lt;/text&gt;\n",
       "&lt;/svg&gt;\n",
       "</body></html>\"></iframe>\n"
      ],
      "text/plain": [
       "This front-end cannot display the desired image type."
      ]
     },
     "metadata": {
      "image/svg+xml": {
       "height": 436,
       "width": 600
      },
      "text/html": {
       "height": 436,
       "width": 600
      }
     },
     "output_type": "display_data"
    }
   ],
   "source": [
    "// plot the histogram of age by places \n",
    "histogram age, frequency by(places, title(\"Age distribution by places\"))"
   ]
  },
  {
   "cell_type": "code",
   "execution_count": 36,
   "metadata": {},
   "outputs": [
    {
     "data": {
      "application/pdf": "[encoded data removed]",
      "image/svg+xml": "<?xml version=\"1.0\" encoding=\"UTF-8\" standalone=\"no\"?>\n<!-- This is a Stata 16.1 generated SVG file (http://www.stata.com) -->\n\n<svg version=\"1.1\" width=\"600px\" height=\"436px\" viewBox=\"0 0 3960 2880\" xmlns=\"http://www.w3.org/2000/svg\" xmlns:xlink=\"http://www.w3.org/1999/xlink\">\n\t<desc>Stata Graph - Graph</desc>\n\t<rect x=\"0\" y=\"0\" width=\"3960\" height=\"2880\" style=\"fill:#EAF2F3;stroke:none\"/>\n\t<rect x=\"0.00\" y=\"0.00\" width=\"3959.88\" height=\"2880.00\" style=\"fill:#EAF2F3\"/>\n\t<rect x=\"2.88\" y=\"2.88\" width=\"3954.12\" height=\"2874.24\" style=\"fill:none;stroke:#EAF2F3;stroke-width:5.76\"/>\n\t<rect x=\"388.33\" y=\"432.77\" width=\"1683.50\" height=\"799.70\" style=\"fill:#FFFFFF\"/>\n\t<rect x=\"390.78\" y=\"435.22\" width=\"1678.60\" height=\"794.80\" style=\"fill:none;stroke:#FFFFFF;stroke-width:4.90\"/>\n\t<line x1=\"388.33\" y1=\"1232.46\" x2=\"2071.82\" y2=\"1232.46\" style=\"stroke:#EAF2F3;stroke-width:7.34\"/>\n\t<line x1=\"388.33\" y1=\"486.60\" x2=\"2071.82\" y2=\"486.60\" style=\"stroke:#EAF2F3;stroke-width:7.34\"/>\n\t<rect x=\"2141.00\" y=\"432.77\" width=\"1683.49\" height=\"799.70\" style=\"fill:#FFFFFF\"/>\n\t<rect x=\"2143.45\" y=\"435.22\" width=\"1678.60\" height=\"794.80\" style=\"fill:none;stroke:#FFFFFF;stroke-width:4.90\"/>\n\t<line x1=\"2141.00\" y1=\"1232.46\" x2=\"3824.49\" y2=\"1232.46\" style=\"stroke:#EAF2F3;stroke-width:7.34\"/>\n\t<line x1=\"2141.00\" y1=\"486.60\" x2=\"3824.49\" y2=\"486.60\" style=\"stroke:#EAF2F3;stroke-width:7.34\"/>\n\t<rect x=\"388.33\" y=\"1577.49\" width=\"1683.50\" height=\"799.57\" style=\"fill:#FFFFFF\"/>\n\t<rect x=\"390.78\" y=\"1579.94\" width=\"1678.60\" height=\"794.68\" style=\"fill:none;stroke:#FFFFFF;stroke-width:4.90\"/>\n\t<line x1=\"388.33\" y1=\"2377.06\" x2=\"2071.82\" y2=\"2377.06\" style=\"stroke:#EAF2F3;stroke-width:7.34\"/>\n\t<line x1=\"388.33\" y1=\"1631.32\" x2=\"2071.82\" y2=\"1631.32\" style=\"stroke:#EAF2F3;stroke-width:7.34\"/>\n\t<rect x=\"654.02\" y=\"1202.64\" width=\"48.63\" height=\"29.82\" style=\"fill:#CAC27E\"/>\n\t<rect x=\"657.69\" y=\"1206.31\" width=\"41.29\" height=\"22.48\" style=\"fill:none;stroke:#D7D29E;stroke-width:7.34\"/>\n\t<rect x=\"702.65\" y=\"1172.82\" width=\"48.76\" height=\"59.65\" style=\"fill:#CAC27E\"/>\n\t<rect x=\"706.32\" y=\"1176.49\" width=\"41.41\" height=\"52.31\" style=\"fill:none;stroke:#D7D29E;stroke-width:7.34\"/>\n\t<rect x=\"751.41\" y=\"1187.67\" width=\"48.76\" height=\"44.80\" style=\"fill:#CAC27E\"/>\n\t<rect x=\"755.08\" y=\"1191.34\" width=\"41.41\" height=\"37.46\" style=\"fill:none;stroke:#D7D29E;stroke-width:7.34\"/>\n\t<rect x=\"800.17\" y=\"1083.34\" width=\"48.63\" height=\"149.12\" style=\"fill:#CAC27E\"/>\n\t<rect x=\"803.84\" y=\"1087.01\" width=\"41.29\" height=\"141.78\" style=\"fill:none;stroke:#D7D29E;stroke-width:7.34\"/>\n\t<rect x=\"848.80\" y=\"1113.17\" width=\"48.76\" height=\"119.30\" style=\"fill:#CAC27E\"/>\n\t<rect x=\"852.47\" y=\"1116.84\" width=\"41.41\" height=\"111.95\" style=\"fill:none;stroke:#D7D29E;stroke-width:7.34\"/>\n\t<rect x=\"897.56\" y=\"1068.37\" width=\"48.76\" height=\"164.10\" style=\"fill:#CAC27E\"/>\n\t<rect x=\"901.23\" y=\"1072.04\" width=\"41.41\" height=\"156.75\" style=\"fill:none;stroke:#D7D29E;stroke-width:7.34\"/>\n\t<rect x=\"946.32\" y=\"889.42\" width=\"48.63\" height=\"343.05\" style=\"fill:#CAC27E\"/>\n\t<rect x=\"949.99\" y=\"893.09\" width=\"41.29\" height=\"335.70\" style=\"fill:none;stroke:#D7D29E;stroke-width:7.34\"/>\n\t<rect x=\"994.95\" y=\"755.15\" width=\"48.76\" height=\"477.32\" style=\"fill:#CAC27E\"/>\n\t<rect x=\"998.62\" y=\"758.82\" width=\"41.41\" height=\"469.97\" style=\"fill:none;stroke:#D7D29E;stroke-width:7.34\"/>\n\t<rect x=\"1043.71\" y=\"963.92\" width=\"48.76\" height=\"268.55\" style=\"fill:#CAC27E\"/>\n\t<rect x=\"1047.38\" y=\"967.59\" width=\"41.41\" height=\"261.20\" style=\"fill:none;stroke:#D7D29E;stroke-width:7.34\"/>\n\t<rect x=\"1092.46\" y=\"829.77\" width=\"48.63\" height=\"402.70\" style=\"fill:#CAC27E\"/>\n\t<rect x=\"1096.14\" y=\"833.44\" width=\"41.29\" height=\"395.35\" style=\"fill:none;stroke:#D7D29E;stroke-width:7.34\"/>\n\t<rect x=\"1141.10\" y=\"799.94\" width=\"48.76\" height=\"432.52\" style=\"fill:#CAC27E\"/>\n\t<rect x=\"1144.77\" y=\"803.62\" width=\"41.41\" height=\"425.18\" style=\"fill:none;stroke:#D7D29E;stroke-width:7.34\"/>\n\t<rect x=\"1189.86\" y=\"770.00\" width=\"48.76\" height=\"462.47\" style=\"fill:#CAC27E\"/>\n\t<rect x=\"1193.53\" y=\"773.67\" width=\"41.41\" height=\"455.12\" style=\"fill:none;stroke:#D7D29E;stroke-width:7.34\"/>\n\t<rect x=\"1238.61\" y=\"949.07\" width=\"48.63\" height=\"283.40\" style=\"fill:#CAC27E\"/>\n\t<rect x=\"1242.29\" y=\"952.74\" width=\"41.29\" height=\"276.05\" style=\"fill:none;stroke:#D7D29E;stroke-width:7.34\"/>\n\t<rect x=\"1287.25\" y=\"919.24\" width=\"48.76\" height=\"313.22\" style=\"fill:#CAC27E\"/>\n\t<rect x=\"1290.92\" y=\"922.92\" width=\"41.41\" height=\"305.88\" style=\"fill:none;stroke:#D7D29E;stroke-width:7.34\"/>\n\t<rect x=\"1336.01\" y=\"934.09\" width=\"48.76\" height=\"298.37\" style=\"fill:#CAC27E\"/>\n\t<rect x=\"1339.68\" y=\"937.77\" width=\"41.41\" height=\"291.03\" style=\"fill:none;stroke:#D7D29E;stroke-width:7.34\"/>\n\t<rect x=\"1384.76\" y=\"1023.69\" width=\"48.63\" height=\"208.77\" style=\"fill:#CAC27E\"/>\n\t<rect x=\"1388.43\" y=\"1027.36\" width=\"41.29\" height=\"201.43\" style=\"fill:none;stroke:#D7D29E;stroke-width:7.34\"/>\n\t<rect x=\"1433.40\" y=\"934.09\" width=\"48.76\" height=\"298.37\" style=\"fill:#CAC27E\"/>\n\t<rect x=\"1437.07\" y=\"937.77\" width=\"41.41\" height=\"291.03\" style=\"fill:none;stroke:#D7D29E;stroke-width:7.34\"/>\n\t<rect x=\"1482.15\" y=\"1128.02\" width=\"48.76\" height=\"104.45\" style=\"fill:#CAC27E\"/>\n\t<rect x=\"1485.83\" y=\"1131.69\" width=\"41.41\" height=\"97.10\" style=\"fill:none;stroke:#D7D29E;stroke-width:7.34\"/>\n\t<rect x=\"1530.91\" y=\"1068.37\" width=\"48.63\" height=\"164.10\" style=\"fill:#CAC27E\"/>\n\t<rect x=\"1534.58\" y=\"1072.04\" width=\"41.29\" height=\"156.75\" style=\"fill:none;stroke:#D7D29E;stroke-width:7.34\"/>\n\t<rect x=\"1579.55\" y=\"1187.67\" width=\"48.76\" height=\"44.80\" style=\"fill:#CAC27E\"/>\n\t<rect x=\"1583.22\" y=\"1191.34\" width=\"41.41\" height=\"37.46\" style=\"fill:none;stroke:#D7D29E;stroke-width:7.34\"/>\n\t<rect x=\"1628.30\" y=\"1202.64\" width=\"48.76\" height=\"29.82\" style=\"fill:#CAC27E\"/>\n\t<rect x=\"1631.97\" y=\"1206.31\" width=\"41.41\" height=\"22.48\" style=\"fill:none;stroke:#D7D29E;stroke-width:7.34\"/>\n\t<rect x=\"1774.45\" y=\"1217.49\" width=\"48.76\" height=\"14.97\" style=\"fill:#CAC27E\"/>\n\t<rect x=\"1778.12\" y=\"1221.16\" width=\"41.41\" height=\"7.63\" style=\"fill:none;stroke:#D7D29E;stroke-width:7.34\"/>\n\t<rect x=\"1823.21\" y=\"1217.49\" width=\"48.63\" height=\"14.97\" style=\"fill:#CAC27E\"/>\n\t<rect x=\"1826.88\" y=\"1221.16\" width=\"41.29\" height=\"7.63\" style=\"fill:none;stroke:#D7D29E;stroke-width:7.34\"/>\n\t<rect x=\"1969.36\" y=\"1217.49\" width=\"48.63\" height=\"14.97\" style=\"fill:#CAC27E\"/>\n\t<rect x=\"1973.03\" y=\"1221.16\" width=\"41.29\" height=\"7.63\" style=\"fill:none;stroke:#D7D29E;stroke-width:7.34\"/>\n\t<rect x=\"2309.18\" y=\"1217.49\" width=\"48.76\" height=\"14.97\" style=\"fill:#CAC27E\"/>\n\t<rect x=\"2312.85\" y=\"1221.16\" width=\"41.41\" height=\"7.63\" style=\"fill:none;stroke:#D7D29E;stroke-width:7.34\"/>\n\t<rect x=\"2357.93\" y=\"1217.49\" width=\"48.63\" height=\"14.97\" style=\"fill:#CAC27E\"/>\n\t<rect x=\"2361.60\" y=\"1221.16\" width=\"41.29\" height=\"7.63\" style=\"fill:none;stroke:#D7D29E;stroke-width:7.34\"/>\n\t<rect x=\"2406.57\" y=\"1172.82\" width=\"48.76\" height=\"59.65\" style=\"fill:#CAC27E\"/>\n\t<rect x=\"2410.24\" y=\"1176.49\" width=\"41.41\" height=\"52.31\" style=\"fill:none;stroke:#D7D29E;stroke-width:7.34\"/>\n\t<rect x=\"2455.32\" y=\"1202.64\" width=\"48.76\" height=\"29.82\" style=\"fill:#CAC27E\"/>\n\t<rect x=\"2459.00\" y=\"1206.31\" width=\"41.41\" height=\"22.48\" style=\"fill:none;stroke:#D7D29E;stroke-width:7.34\"/>\n\t<rect x=\"2504.08\" y=\"1202.64\" width=\"48.63\" height=\"29.82\" style=\"fill:#CAC27E\"/>\n\t<rect x=\"2507.75\" y=\"1206.31\" width=\"41.29\" height=\"22.48\" style=\"fill:none;stroke:#D7D29E;stroke-width:7.34\"/>\n\t<rect x=\"2552.72\" y=\"1128.02\" width=\"48.76\" height=\"104.45\" style=\"fill:#CAC27E\"/>\n\t<rect x=\"2556.39\" y=\"1131.69\" width=\"41.41\" height=\"97.10\" style=\"fill:none;stroke:#D7D29E;stroke-width:7.34\"/>\n\t<rect x=\"2601.47\" y=\"1098.19\" width=\"48.76\" height=\"134.27\" style=\"fill:#CAC27E\"/>\n\t<rect x=\"2605.14\" y=\"1101.86\" width=\"41.41\" height=\"126.93\" style=\"fill:none;stroke:#D7D29E;stroke-width:7.34\"/>\n\t<rect x=\"2650.23\" y=\"1098.19\" width=\"48.63\" height=\"134.27\" style=\"fill:#CAC27E\"/>\n\t<rect x=\"2653.90\" y=\"1101.86\" width=\"41.29\" height=\"126.93\" style=\"fill:none;stroke:#D7D29E;stroke-width:7.34\"/>\n\t<rect x=\"2698.86\" y=\"1053.52\" width=\"48.76\" height=\"178.95\" style=\"fill:#CAC27E\"/>\n\t<rect x=\"2702.54\" y=\"1057.19\" width=\"41.41\" height=\"171.60\" style=\"fill:none;stroke:#D7D29E;stroke-width:7.34\"/>\n\t<rect x=\"2747.62\" y=\"993.74\" width=\"48.76\" height=\"238.72\" style=\"fill:#CAC27E\"/>\n\t<rect x=\"2751.29\" y=\"997.42\" width=\"41.41\" height=\"231.38\" style=\"fill:none;stroke:#D7D29E;stroke-width:7.34\"/>\n\t<rect x=\"2796.38\" y=\"799.94\" width=\"48.63\" height=\"432.52\" style=\"fill:#CAC27E\"/>\n\t<rect x=\"2800.05\" y=\"803.62\" width=\"41.29\" height=\"425.18\" style=\"fill:none;stroke:#D7D29E;stroke-width:7.34\"/>\n\t<rect x=\"2845.01\" y=\"859.59\" width=\"48.76\" height=\"372.87\" style=\"fill:#CAC27E\"/>\n\t<rect x=\"2848.68\" y=\"863.27\" width=\"41.41\" height=\"365.53\" style=\"fill:none;stroke:#D7D29E;stroke-width:7.34\"/>\n\t<rect x=\"2893.77\" y=\"710.35\" width=\"48.76\" height=\"522.12\" style=\"fill:#CAC27E\"/>\n\t<rect x=\"2897.44\" y=\"714.02\" width=\"41.41\" height=\"514.77\" style=\"fill:none;stroke:#D7D29E;stroke-width:7.34\"/>\n\t<rect x=\"2942.53\" y=\"829.77\" width=\"48.63\" height=\"402.70\" style=\"fill:#CAC27E\"/>\n\t<rect x=\"2946.20\" y=\"833.44\" width=\"41.29\" height=\"395.35\" style=\"fill:none;stroke:#D7D29E;stroke-width:7.34\"/>\n\t<rect x=\"2991.16\" y=\"784.97\" width=\"48.76\" height=\"447.49\" style=\"fill:#CAC27E\"/>\n\t<rect x=\"2994.83\" y=\"788.64\" width=\"41.41\" height=\"440.15\" style=\"fill:none;stroke:#D7D29E;stroke-width:7.34\"/>\n\t<rect x=\"3039.92\" y=\"874.44\" width=\"48.76\" height=\"358.02\" style=\"fill:#CAC27E\"/>\n\t<rect x=\"3043.59\" y=\"878.12\" width=\"41.41\" height=\"350.68\" style=\"fill:none;stroke:#D7D29E;stroke-width:7.34\"/>\n\t<rect x=\"3088.68\" y=\"978.89\" width=\"48.63\" height=\"253.57\" style=\"fill:#CAC27E\"/>\n\t<rect x=\"3092.35\" y=\"982.56\" width=\"41.29\" height=\"246.23\" style=\"fill:none;stroke:#D7D29E;stroke-width:7.34\"/>\n\t<rect x=\"3137.31\" y=\"1098.19\" width=\"48.76\" height=\"134.27\" style=\"fill:#CAC27E\"/>\n\t<rect x=\"3140.98\" y=\"1101.86\" width=\"41.41\" height=\"126.93\" style=\"fill:none;stroke:#D7D29E;stroke-width:7.34\"/>\n\t<rect x=\"3186.07\" y=\"1068.37\" width=\"48.76\" height=\"164.10\" style=\"fill:#CAC27E\"/>\n\t<rect x=\"3189.74\" y=\"1072.04\" width=\"41.41\" height=\"156.75\" style=\"fill:none;stroke:#D7D29E;stroke-width:7.34\"/>\n\t<rect x=\"3234.82\" y=\"1038.54\" width=\"48.63\" height=\"193.92\" style=\"fill:#CAC27E\"/>\n\t<rect x=\"3238.50\" y=\"1042.21\" width=\"41.29\" height=\"186.58\" style=\"fill:none;stroke:#D7D29E;stroke-width:7.34\"/>\n\t<rect x=\"3283.46\" y=\"1172.82\" width=\"48.76\" height=\"59.65\" style=\"fill:#CAC27E\"/>\n\t<rect x=\"3287.13\" y=\"1176.49\" width=\"41.41\" height=\"52.31\" style=\"fill:none;stroke:#D7D29E;stroke-width:7.34\"/>\n\t<rect x=\"3332.22\" y=\"1142.99\" width=\"48.76\" height=\"89.47\" style=\"fill:#CAC27E\"/>\n\t<rect x=\"3335.89\" y=\"1146.66\" width=\"41.41\" height=\"82.13\" style=\"fill:none;stroke:#D7D29E;stroke-width:7.34\"/>\n\t<rect x=\"3380.97\" y=\"1187.67\" width=\"48.63\" height=\"44.80\" style=\"fill:#CAC27E\"/>\n\t<rect x=\"3384.65\" y=\"1191.34\" width=\"41.29\" height=\"37.46\" style=\"fill:none;stroke:#D7D29E;stroke-width:7.34\"/>\n\t<rect x=\"3429.61\" y=\"1187.67\" width=\"48.76\" height=\"44.80\" style=\"fill:#CAC27E\"/>\n\t<rect x=\"3433.28\" y=\"1191.34\" width=\"41.41\" height=\"37.46\" style=\"fill:none;stroke:#D7D29E;stroke-width:7.34\"/>\n\t<rect x=\"3478.36\" y=\"1187.67\" width=\"48.76\" height=\"44.80\" style=\"fill:#CAC27E\"/>\n\t<rect x=\"3482.04\" y=\"1191.34\" width=\"41.41\" height=\"37.46\" style=\"fill:none;stroke:#D7D29E;stroke-width:7.34\"/>\n\t<rect x=\"556.50\" y=\"2362.21\" width=\"48.76\" height=\"14.85\" style=\"fill:#CAC27E\"/>\n\t<rect x=\"560.18\" y=\"2365.89\" width=\"41.41\" height=\"7.51\" style=\"fill:none;stroke:#D7D29E;stroke-width:7.34\"/>\n\t<rect x=\"605.26\" y=\"2347.24\" width=\"48.76\" height=\"29.82\" style=\"fill:#CAC27E\"/>\n\t<rect x=\"608.93\" y=\"2350.91\" width=\"41.41\" height=\"22.48\" style=\"fill:none;stroke:#D7D29E;stroke-width:7.34\"/>\n\t<rect x=\"702.65\" y=\"2332.39\" width=\"48.76\" height=\"44.68\" style=\"fill:#CAC27E\"/>\n\t<rect x=\"706.32\" y=\"2336.06\" width=\"41.41\" height=\"37.33\" style=\"fill:none;stroke:#D7D29E;stroke-width:7.34\"/>\n\t<rect x=\"751.41\" y=\"2257.77\" width=\"48.76\" height=\"119.30\" style=\"fill:#CAC27E\"/>\n\t<rect x=\"755.08\" y=\"2261.44\" width=\"41.41\" height=\"111.95\" style=\"fill:none;stroke:#D7D29E;stroke-width:7.34\"/>\n\t<rect x=\"800.17\" y=\"2242.92\" width=\"48.63\" height=\"134.15\" style=\"fill:#CAC27E\"/>\n\t<rect x=\"803.84\" y=\"2246.59\" width=\"41.29\" height=\"126.81\" style=\"fill:none;stroke:#D7D29E;stroke-width:7.34\"/>\n\t<rect x=\"848.80\" y=\"2123.49\" width=\"48.76\" height=\"253.57\" style=\"fill:#CAC27E\"/>\n\t<rect x=\"852.47\" y=\"2127.16\" width=\"41.41\" height=\"246.23\" style=\"fill:none;stroke:#D7D29E;stroke-width:7.34\"/>\n\t<rect x=\"897.56\" y=\"2078.82\" width=\"48.76\" height=\"298.25\" style=\"fill:#CAC27E\"/>\n\t<rect x=\"901.23\" y=\"2082.49\" width=\"41.41\" height=\"290.90\" style=\"fill:none;stroke:#D7D29E;stroke-width:7.34\"/>\n\t<rect x=\"946.32\" y=\"2093.67\" width=\"48.63\" height=\"283.40\" style=\"fill:#CAC27E\"/>\n\t<rect x=\"949.99\" y=\"2097.34\" width=\"41.29\" height=\"276.05\" style=\"fill:none;stroke:#D7D29E;stroke-width:7.34\"/>\n\t<rect x=\"994.95\" y=\"2034.02\" width=\"48.76\" height=\"343.05\" style=\"fill:#CAC27E\"/>\n\t<rect x=\"998.62\" y=\"2037.69\" width=\"41.41\" height=\"335.70\" style=\"fill:none;stroke:#D7D29E;stroke-width:7.34\"/>\n\t<rect x=\"1043.71\" y=\"2048.99\" width=\"48.76\" height=\"328.07\" style=\"fill:#CAC27E\"/>\n\t<rect x=\"1047.38\" y=\"2052.66\" width=\"41.41\" height=\"320.73\" style=\"fill:none;stroke:#D7D29E;stroke-width:7.34\"/>\n\t<rect x=\"1092.46\" y=\"2004.19\" width=\"48.63\" height=\"372.87\" style=\"fill:#CAC27E\"/>\n\t<rect x=\"1096.14\" y=\"2007.87\" width=\"41.29\" height=\"365.53\" style=\"fill:none;stroke:#D7D29E;stroke-width:7.34\"/>\n\t<rect x=\"1141.10\" y=\"1840.10\" width=\"48.76\" height=\"536.97\" style=\"fill:#CAC27E\"/>\n\t<rect x=\"1144.77\" y=\"1843.77\" width=\"41.41\" height=\"529.62\" style=\"fill:none;stroke:#D7D29E;stroke-width:7.34\"/>\n\t<rect x=\"1189.86\" y=\"1705.82\" width=\"48.76\" height=\"671.24\" style=\"fill:#CAC27E\"/>\n\t<rect x=\"1193.53\" y=\"1709.50\" width=\"41.41\" height=\"663.90\" style=\"fill:none;stroke:#D7D29E;stroke-width:7.34\"/>\n\t<rect x=\"1238.61\" y=\"2063.84\" width=\"48.63\" height=\"313.22\" style=\"fill:#CAC27E\"/>\n\t<rect x=\"1242.29\" y=\"2067.52\" width=\"41.29\" height=\"305.88\" style=\"fill:none;stroke:#D7D29E;stroke-width:7.34\"/>\n\t<rect x=\"1287.25\" y=\"1959.39\" width=\"48.76\" height=\"417.67\" style=\"fill:#CAC27E\"/>\n\t<rect x=\"1290.92\" y=\"1963.07\" width=\"41.41\" height=\"410.33\" style=\"fill:none;stroke:#D7D29E;stroke-width:7.34\"/>\n\t<rect x=\"1336.01\" y=\"1974.37\" width=\"48.76\" height=\"402.70\" style=\"fill:#CAC27E\"/>\n\t<rect x=\"1339.68\" y=\"1978.04\" width=\"41.41\" height=\"395.35\" style=\"fill:none;stroke:#D7D29E;stroke-width:7.34\"/>\n\t<rect x=\"1384.76\" y=\"2034.02\" width=\"48.63\" height=\"343.05\" style=\"fill:#CAC27E\"/>\n\t<rect x=\"1388.43\" y=\"2037.69\" width=\"41.29\" height=\"335.70\" style=\"fill:none;stroke:#D7D29E;stroke-width:7.34\"/>\n\t<rect x=\"1433.40\" y=\"1989.34\" width=\"48.76\" height=\"387.72\" style=\"fill:#CAC27E\"/>\n\t<rect x=\"1437.07\" y=\"1993.02\" width=\"41.41\" height=\"380.38\" style=\"fill:none;stroke:#D7D29E;stroke-width:7.34\"/>\n\t<rect x=\"1482.15\" y=\"2302.56\" width=\"48.76\" height=\"74.50\" style=\"fill:#CAC27E\"/>\n\t<rect x=\"1485.83\" y=\"2306.24\" width=\"41.41\" height=\"67.16\" style=\"fill:none;stroke:#D7D29E;stroke-width:7.34\"/>\n\t<rect x=\"1530.91\" y=\"2213.09\" width=\"48.63\" height=\"163.97\" style=\"fill:#CAC27E\"/>\n\t<rect x=\"1534.58\" y=\"2216.76\" width=\"41.29\" height=\"156.63\" style=\"fill:none;stroke:#D7D29E;stroke-width:7.34\"/>\n\t<rect x=\"1579.55\" y=\"2302.56\" width=\"48.76\" height=\"74.50\" style=\"fill:#CAC27E\"/>\n\t<rect x=\"1583.22\" y=\"2306.24\" width=\"41.41\" height=\"67.16\" style=\"fill:none;stroke:#D7D29E;stroke-width:7.34\"/>\n\t<rect x=\"1677.06\" y=\"2332.39\" width=\"48.63\" height=\"44.68\" style=\"fill:#CAC27E\"/>\n\t<rect x=\"1680.73\" y=\"2336.06\" width=\"41.29\" height=\"37.33\" style=\"fill:none;stroke:#D7D29E;stroke-width:7.34\"/>\n\t<rect x=\"1823.21\" y=\"2362.21\" width=\"48.63\" height=\"14.85\" style=\"fill:#CAC27E\"/>\n\t<rect x=\"1826.88\" y=\"2365.89\" width=\"41.29\" height=\"7.51\" style=\"fill:none;stroke:#D7D29E;stroke-width:7.34\"/>\n\t<line x1=\"388.33\" y1=\"1232.46\" x2=\"388.33\" y2=\"432.77\" style=\"stroke:#000000;stroke-width:4.90\"/>\n\t<line x1=\"388.33\" y1=\"1232.46\" x2=\"354.30\" y2=\"1232.46\" style=\"stroke:#000000;stroke-width:4.90\"/>\n\t<text x=\"311.78\" y=\"1232.46\" style=\"font-family:'Helvetica';font-size:85.02px;fill:#000000\" transform=\"rotate(-90 311.78,1232.46)\" text-anchor=\"middle\">0</text>\n\t<line x1=\"388.33\" y1=\"486.60\" x2=\"354.30\" y2=\"486.60\" style=\"stroke:#000000;stroke-width:4.90\"/>\n\t<text x=\"311.78\" y=\"486.60\" style=\"font-family:'Helvetica';font-size:85.02px;fill:#000000\" transform=\"rotate(-90 311.78,486.60)\" text-anchor=\"middle\">50</text>\n\t<line x1=\"388.33\" y1=\"2377.06\" x2=\"388.33\" y2=\"1577.49\" style=\"stroke:#000000;stroke-width:4.90\"/>\n\t<line x1=\"388.33\" y1=\"2377.06\" x2=\"354.30\" y2=\"2377.06\" style=\"stroke:#000000;stroke-width:4.90\"/>\n\t<text x=\"311.78\" y=\"2377.06\" style=\"font-family:'Helvetica';font-size:85.02px;fill:#000000\" transform=\"rotate(-90 311.78,2377.06)\" text-anchor=\"middle\">0</text>\n\t<line x1=\"388.33\" y1=\"1631.32\" x2=\"354.30\" y2=\"1631.32\" style=\"stroke:#000000;stroke-width:4.90\"/>\n\t<text x=\"311.78\" y=\"1631.32\" style=\"font-family:'Helvetica';font-size:85.02px;fill:#000000\" transform=\"rotate(-90 311.78,1631.32)\" text-anchor=\"middle\">50</text>\n\t<line x1=\"2141.00\" y1=\"1232.46\" x2=\"3824.49\" y2=\"1232.46\" style=\"stroke:#000000;stroke-width:4.90\"/>\n\t<line x1=\"2194.83\" y1=\"1232.46\" x2=\"2194.83\" y2=\"1266.50\" style=\"stroke:#000000;stroke-width:4.90\"/>\n\t<text x=\"2194.83\" y=\"1342.90\" style=\"font-family:'Helvetica';font-size:85.02px;fill:#000000\" text-anchor=\"middle\">10</text>\n\t<line x1=\"2564.84\" y1=\"1232.46\" x2=\"2564.84\" y2=\"1266.50\" style=\"stroke:#000000;stroke-width:4.90\"/>\n\t<text x=\"2564.84\" y=\"1342.90\" style=\"font-family:'Helvetica';font-size:85.02px;fill:#000000\" text-anchor=\"middle\">15</text>\n\t<line x1=\"2934.98\" y1=\"1232.46\" x2=\"2934.98\" y2=\"1266.50\" style=\"stroke:#000000;stroke-width:4.90\"/>\n\t<text x=\"2934.98\" y=\"1342.90\" style=\"font-family:'Helvetica';font-size:85.02px;fill:#000000\" text-anchor=\"middle\">20</text>\n\t<line x1=\"3304.99\" y1=\"1232.46\" x2=\"3304.99\" y2=\"1266.50\" style=\"stroke:#000000;stroke-width:4.90\"/>\n\t<text x=\"3304.99\" y=\"1342.90\" style=\"font-family:'Helvetica';font-size:85.02px;fill:#000000\" text-anchor=\"middle\">25</text>\n\t<line x1=\"3675.13\" y1=\"1232.46\" x2=\"3675.13\" y2=\"1266.50\" style=\"stroke:#000000;stroke-width:4.90\"/>\n\t<text x=\"3675.13\" y=\"1342.90\" style=\"font-family:'Helvetica';font-size:85.02px;fill:#000000\" text-anchor=\"middle\">30</text>\n\t<line x1=\"388.33\" y1=\"2377.06\" x2=\"2071.82\" y2=\"2377.06\" style=\"stroke:#000000;stroke-width:4.90\"/>\n\t<line x1=\"442.16\" y1=\"2377.06\" x2=\"442.16\" y2=\"2411.10\" style=\"stroke:#000000;stroke-width:4.90\"/>\n\t<text x=\"442.16\" y=\"2487.50\" style=\"font-family:'Helvetica';font-size:85.02px;fill:#000000\" text-anchor=\"middle\">10</text>\n\t<line x1=\"812.29\" y1=\"2377.06\" x2=\"812.29\" y2=\"2411.10\" style=\"stroke:#000000;stroke-width:4.90\"/>\n\t<text x=\"812.29\" y=\"2487.50\" style=\"font-family:'Helvetica';font-size:85.02px;fill:#000000\" text-anchor=\"middle\">15</text>\n\t<line x1=\"1182.31\" y1=\"2377.06\" x2=\"1182.31\" y2=\"2411.10\" style=\"stroke:#000000;stroke-width:4.90\"/>\n\t<text x=\"1182.31\" y=\"2487.50\" style=\"font-family:'Helvetica';font-size:85.02px;fill:#000000\" text-anchor=\"middle\">20</text>\n\t<line x1=\"1552.32\" y1=\"2377.06\" x2=\"1552.32\" y2=\"2411.10\" style=\"stroke:#000000;stroke-width:4.90\"/>\n\t<text x=\"1552.32\" y=\"2487.50\" style=\"font-family:'Helvetica';font-size:85.02px;fill:#000000\" text-anchor=\"middle\">25</text>\n\t<line x1=\"1922.46\" y1=\"2377.06\" x2=\"1922.46\" y2=\"2411.10\" style=\"stroke:#000000;stroke-width:4.90\"/>\n\t<text x=\"1922.46\" y=\"2487.50\" style=\"font-family:'Helvetica';font-size:85.02px;fill:#000000\" text-anchor=\"middle\">30</text>\n\t<rect x=\"388.33\" y=\"309.88\" width=\"1683.50\" height=\"122.89\" style=\"fill:#D9E6EB\"/>\n\t<rect x=\"390.78\" y=\"312.33\" width=\"1678.60\" height=\"117.99\" style=\"fill:none;stroke:#D9E6EB;stroke-width:4.90\"/>\n\t<text x=\"1230.08\" y=\"390.04\" style=\"font-family:'Helvetica';font-size:93.56px;fill:#000000\" text-anchor=\"middle\">1</text>\n\t<rect x=\"2141.00\" y=\"309.88\" width=\"1683.49\" height=\"122.89\" style=\"fill:#D9E6EB\"/>\n\t<rect x=\"2143.45\" y=\"312.33\" width=\"1678.60\" height=\"117.99\" style=\"fill:none;stroke:#D9E6EB;stroke-width:4.90\"/>\n\t<text x=\"2982.75\" y=\"390.04\" style=\"font-family:'Helvetica';font-size:93.56px;fill:#000000\" text-anchor=\"middle\">2</text>\n\t<rect x=\"388.33\" y=\"1454.60\" width=\"1683.50\" height=\"122.89\" style=\"fill:#D9E6EB\"/>\n\t<rect x=\"390.78\" y=\"1457.05\" width=\"1678.60\" height=\"117.99\" style=\"fill:none;stroke:#D9E6EB;stroke-width:4.90\"/>\n\t<text x=\"1230.08\" y=\"1534.63\" style=\"font-family:'Helvetica';font-size:93.56px;fill:#000000\" text-anchor=\"middle\">3</text>\n\t<text x=\"170.79\" y=\"1419.95\" style=\"font-family:'Helvetica';font-size:99.99px;fill:#000000\" transform=\"rotate(-90 170.79,1419.95)\" text-anchor=\"middle\">Frequency</text>\n\t<text x=\"2029.99\" y=\"2634.61\" style=\"font-family:'Helvetica';font-size:99.99px;fill:#000000\" text-anchor=\"middle\">amount of antibody</text>\n\t<text x=\"218.05\" y=\"2737.89\" style=\"font-family:'Helvetica';font-size:79.94px;fill:#000000\">Graphs by 1:Oxford, 2:Southampton, 3:London</text>\n\t<text x=\"2029.99\" y=\"215.98\" style=\"font-family:'Helvetica';font-size:139.96px;fill:#1E2D53\" text-anchor=\"middle\">Antibody distribution by places</text>\n</svg>\n",
      "text/html": [
       "                <iframe frameborder=\"0\" scrolling=\"no\" height=\"436\" width=\"600\"                srcdoc=\"<html><body>&lt;?xml version=&quot;1.0&quot; encoding=&quot;UTF-8&quot; standalone=&quot;no&quot;?&gt;\n",
       "&lt;!-- This is a Stata 16.1 generated SVG file (http://www.stata.com) --&gt;\n",
       "\n",
       "&lt;svg version=&quot;1.1&quot; width=&quot;600px&quot; height=&quot;436px&quot; viewBox=&quot;0 0 3960 2880&quot; xmlns=&quot;http://www.w3.org/2000/svg&quot; xmlns:xlink=&quot;http://www.w3.org/1999/xlink&quot;&gt;\n",
       "\t&lt;desc&gt;Stata Graph - Graph&lt;/desc&gt;\n",
       "\t&lt;rect x=&quot;0&quot; y=&quot;0&quot; width=&quot;3960&quot; height=&quot;2880&quot; style=&quot;fill:#EAF2F3;stroke:none&quot;/&gt;\n",
       "\t&lt;rect x=&quot;0.00&quot; y=&quot;0.00&quot; width=&quot;3959.88&quot; height=&quot;2880.00&quot; style=&quot;fill:#EAF2F3&quot;/&gt;\n",
       "\t&lt;rect x=&quot;2.88&quot; y=&quot;2.88&quot; width=&quot;3954.12&quot; height=&quot;2874.24&quot; style=&quot;fill:none;stroke:#EAF2F3;stroke-width:5.76&quot;/&gt;\n",
       "\t&lt;rect x=&quot;388.33&quot; y=&quot;432.77&quot; width=&quot;1683.50&quot; height=&quot;799.70&quot; style=&quot;fill:#FFFFFF&quot;/&gt;\n",
       "\t&lt;rect x=&quot;390.78&quot; y=&quot;435.22&quot; width=&quot;1678.60&quot; height=&quot;794.80&quot; style=&quot;fill:none;stroke:#FFFFFF;stroke-width:4.90&quot;/&gt;\n",
       "\t&lt;line x1=&quot;388.33&quot; y1=&quot;1232.46&quot; x2=&quot;2071.82&quot; y2=&quot;1232.46&quot; style=&quot;stroke:#EAF2F3;stroke-width:7.34&quot;/&gt;\n",
       "\t&lt;line x1=&quot;388.33&quot; y1=&quot;486.60&quot; x2=&quot;2071.82&quot; y2=&quot;486.60&quot; style=&quot;stroke:#EAF2F3;stroke-width:7.34&quot;/&gt;\n",
       "\t&lt;rect x=&quot;2141.00&quot; y=&quot;432.77&quot; width=&quot;1683.49&quot; height=&quot;799.70&quot; style=&quot;fill:#FFFFFF&quot;/&gt;\n",
       "\t&lt;rect x=&quot;2143.45&quot; y=&quot;435.22&quot; width=&quot;1678.60&quot; height=&quot;794.80&quot; style=&quot;fill:none;stroke:#FFFFFF;stroke-width:4.90&quot;/&gt;\n",
       "\t&lt;line x1=&quot;2141.00&quot; y1=&quot;1232.46&quot; x2=&quot;3824.49&quot; y2=&quot;1232.46&quot; style=&quot;stroke:#EAF2F3;stroke-width:7.34&quot;/&gt;\n",
       "\t&lt;line x1=&quot;2141.00&quot; y1=&quot;486.60&quot; x2=&quot;3824.49&quot; y2=&quot;486.60&quot; style=&quot;stroke:#EAF2F3;stroke-width:7.34&quot;/&gt;\n",
       "\t&lt;rect x=&quot;388.33&quot; y=&quot;1577.49&quot; width=&quot;1683.50&quot; height=&quot;799.57&quot; style=&quot;fill:#FFFFFF&quot;/&gt;\n",
       "\t&lt;rect x=&quot;390.78&quot; y=&quot;1579.94&quot; width=&quot;1678.60&quot; height=&quot;794.68&quot; style=&quot;fill:none;stroke:#FFFFFF;stroke-width:4.90&quot;/&gt;\n",
       "\t&lt;line x1=&quot;388.33&quot; y1=&quot;2377.06&quot; x2=&quot;2071.82&quot; y2=&quot;2377.06&quot; style=&quot;stroke:#EAF2F3;stroke-width:7.34&quot;/&gt;\n",
       "\t&lt;line x1=&quot;388.33&quot; y1=&quot;1631.32&quot; x2=&quot;2071.82&quot; y2=&quot;1631.32&quot; style=&quot;stroke:#EAF2F3;stroke-width:7.34&quot;/&gt;\n",
       "\t&lt;rect x=&quot;654.02&quot; y=&quot;1202.64&quot; width=&quot;48.63&quot; height=&quot;29.82&quot; style=&quot;fill:#CAC27E&quot;/&gt;\n",
       "\t&lt;rect x=&quot;657.69&quot; y=&quot;1206.31&quot; width=&quot;41.29&quot; height=&quot;22.48&quot; style=&quot;fill:none;stroke:#D7D29E;stroke-width:7.34&quot;/&gt;\n",
       "\t&lt;rect x=&quot;702.65&quot; y=&quot;1172.82&quot; width=&quot;48.76&quot; height=&quot;59.65&quot; style=&quot;fill:#CAC27E&quot;/&gt;\n",
       "\t&lt;rect x=&quot;706.32&quot; y=&quot;1176.49&quot; width=&quot;41.41&quot; height=&quot;52.31&quot; style=&quot;fill:none;stroke:#D7D29E;stroke-width:7.34&quot;/&gt;\n",
       "\t&lt;rect x=&quot;751.41&quot; y=&quot;1187.67&quot; width=&quot;48.76&quot; height=&quot;44.80&quot; style=&quot;fill:#CAC27E&quot;/&gt;\n",
       "\t&lt;rect x=&quot;755.08&quot; y=&quot;1191.34&quot; width=&quot;41.41&quot; height=&quot;37.46&quot; style=&quot;fill:none;stroke:#D7D29E;stroke-width:7.34&quot;/&gt;\n",
       "\t&lt;rect x=&quot;800.17&quot; y=&quot;1083.34&quot; width=&quot;48.63&quot; height=&quot;149.12&quot; style=&quot;fill:#CAC27E&quot;/&gt;\n",
       "\t&lt;rect x=&quot;803.84&quot; y=&quot;1087.01&quot; width=&quot;41.29&quot; height=&quot;141.78&quot; style=&quot;fill:none;stroke:#D7D29E;stroke-width:7.34&quot;/&gt;\n",
       "\t&lt;rect x=&quot;848.80&quot; y=&quot;1113.17&quot; width=&quot;48.76&quot; height=&quot;119.30&quot; style=&quot;fill:#CAC27E&quot;/&gt;\n",
       "\t&lt;rect x=&quot;852.47&quot; y=&quot;1116.84&quot; width=&quot;41.41&quot; height=&quot;111.95&quot; style=&quot;fill:none;stroke:#D7D29E;stroke-width:7.34&quot;/&gt;\n",
       "\t&lt;rect x=&quot;897.56&quot; y=&quot;1068.37&quot; width=&quot;48.76&quot; height=&quot;164.10&quot; style=&quot;fill:#CAC27E&quot;/&gt;\n",
       "\t&lt;rect x=&quot;901.23&quot; y=&quot;1072.04&quot; width=&quot;41.41&quot; height=&quot;156.75&quot; style=&quot;fill:none;stroke:#D7D29E;stroke-width:7.34&quot;/&gt;\n",
       "\t&lt;rect x=&quot;946.32&quot; y=&quot;889.42&quot; width=&quot;48.63&quot; height=&quot;343.05&quot; style=&quot;fill:#CAC27E&quot;/&gt;\n",
       "\t&lt;rect x=&quot;949.99&quot; y=&quot;893.09&quot; width=&quot;41.29&quot; height=&quot;335.70&quot; style=&quot;fill:none;stroke:#D7D29E;stroke-width:7.34&quot;/&gt;\n",
       "\t&lt;rect x=&quot;994.95&quot; y=&quot;755.15&quot; width=&quot;48.76&quot; height=&quot;477.32&quot; style=&quot;fill:#CAC27E&quot;/&gt;\n",
       "\t&lt;rect x=&quot;998.62&quot; y=&quot;758.82&quot; width=&quot;41.41&quot; height=&quot;469.97&quot; style=&quot;fill:none;stroke:#D7D29E;stroke-width:7.34&quot;/&gt;\n",
       "\t&lt;rect x=&quot;1043.71&quot; y=&quot;963.92&quot; width=&quot;48.76&quot; height=&quot;268.55&quot; style=&quot;fill:#CAC27E&quot;/&gt;\n",
       "\t&lt;rect x=&quot;1047.38&quot; y=&quot;967.59&quot; width=&quot;41.41&quot; height=&quot;261.20&quot; style=&quot;fill:none;stroke:#D7D29E;stroke-width:7.34&quot;/&gt;\n",
       "\t&lt;rect x=&quot;1092.46&quot; y=&quot;829.77&quot; width=&quot;48.63&quot; height=&quot;402.70&quot; style=&quot;fill:#CAC27E&quot;/&gt;\n",
       "\t&lt;rect x=&quot;1096.14&quot; y=&quot;833.44&quot; width=&quot;41.29&quot; height=&quot;395.35&quot; style=&quot;fill:none;stroke:#D7D29E;stroke-width:7.34&quot;/&gt;\n",
       "\t&lt;rect x=&quot;1141.10&quot; y=&quot;799.94&quot; width=&quot;48.76&quot; height=&quot;432.52&quot; style=&quot;fill:#CAC27E&quot;/&gt;\n",
       "\t&lt;rect x=&quot;1144.77&quot; y=&quot;803.62&quot; width=&quot;41.41&quot; height=&quot;425.18&quot; style=&quot;fill:none;stroke:#D7D29E;stroke-width:7.34&quot;/&gt;\n",
       "\t&lt;rect x=&quot;1189.86&quot; y=&quot;770.00&quot; width=&quot;48.76&quot; height=&quot;462.47&quot; style=&quot;fill:#CAC27E&quot;/&gt;\n",
       "\t&lt;rect x=&quot;1193.53&quot; y=&quot;773.67&quot; width=&quot;41.41&quot; height=&quot;455.12&quot; style=&quot;fill:none;stroke:#D7D29E;stroke-width:7.34&quot;/&gt;\n",
       "\t&lt;rect x=&quot;1238.61&quot; y=&quot;949.07&quot; width=&quot;48.63&quot; height=&quot;283.40&quot; style=&quot;fill:#CAC27E&quot;/&gt;\n",
       "\t&lt;rect x=&quot;1242.29&quot; y=&quot;952.74&quot; width=&quot;41.29&quot; height=&quot;276.05&quot; style=&quot;fill:none;stroke:#D7D29E;stroke-width:7.34&quot;/&gt;\n",
       "\t&lt;rect x=&quot;1287.25&quot; y=&quot;919.24&quot; width=&quot;48.76&quot; height=&quot;313.22&quot; style=&quot;fill:#CAC27E&quot;/&gt;\n",
       "\t&lt;rect x=&quot;1290.92&quot; y=&quot;922.92&quot; width=&quot;41.41&quot; height=&quot;305.88&quot; style=&quot;fill:none;stroke:#D7D29E;stroke-width:7.34&quot;/&gt;\n",
       "\t&lt;rect x=&quot;1336.01&quot; y=&quot;934.09&quot; width=&quot;48.76&quot; height=&quot;298.37&quot; style=&quot;fill:#CAC27E&quot;/&gt;\n",
       "\t&lt;rect x=&quot;1339.68&quot; y=&quot;937.77&quot; width=&quot;41.41&quot; height=&quot;291.03&quot; style=&quot;fill:none;stroke:#D7D29E;stroke-width:7.34&quot;/&gt;\n",
       "\t&lt;rect x=&quot;1384.76&quot; y=&quot;1023.69&quot; width=&quot;48.63&quot; height=&quot;208.77&quot; style=&quot;fill:#CAC27E&quot;/&gt;\n",
       "\t&lt;rect x=&quot;1388.43&quot; y=&quot;1027.36&quot; width=&quot;41.29&quot; height=&quot;201.43&quot; style=&quot;fill:none;stroke:#D7D29E;stroke-width:7.34&quot;/&gt;\n",
       "\t&lt;rect x=&quot;1433.40&quot; y=&quot;934.09&quot; width=&quot;48.76&quot; height=&quot;298.37&quot; style=&quot;fill:#CAC27E&quot;/&gt;\n",
       "\t&lt;rect x=&quot;1437.07&quot; y=&quot;937.77&quot; width=&quot;41.41&quot; height=&quot;291.03&quot; style=&quot;fill:none;stroke:#D7D29E;stroke-width:7.34&quot;/&gt;\n",
       "\t&lt;rect x=&quot;1482.15&quot; y=&quot;1128.02&quot; width=&quot;48.76&quot; height=&quot;104.45&quot; style=&quot;fill:#CAC27E&quot;/&gt;\n",
       "\t&lt;rect x=&quot;1485.83&quot; y=&quot;1131.69&quot; width=&quot;41.41&quot; height=&quot;97.10&quot; style=&quot;fill:none;stroke:#D7D29E;stroke-width:7.34&quot;/&gt;\n",
       "\t&lt;rect x=&quot;1530.91&quot; y=&quot;1068.37&quot; width=&quot;48.63&quot; height=&quot;164.10&quot; style=&quot;fill:#CAC27E&quot;/&gt;\n",
       "\t&lt;rect x=&quot;1534.58&quot; y=&quot;1072.04&quot; width=&quot;41.29&quot; height=&quot;156.75&quot; style=&quot;fill:none;stroke:#D7D29E;stroke-width:7.34&quot;/&gt;\n",
       "\t&lt;rect x=&quot;1579.55&quot; y=&quot;1187.67&quot; width=&quot;48.76&quot; height=&quot;44.80&quot; style=&quot;fill:#CAC27E&quot;/&gt;\n",
       "\t&lt;rect x=&quot;1583.22&quot; y=&quot;1191.34&quot; width=&quot;41.41&quot; height=&quot;37.46&quot; style=&quot;fill:none;stroke:#D7D29E;stroke-width:7.34&quot;/&gt;\n",
       "\t&lt;rect x=&quot;1628.30&quot; y=&quot;1202.64&quot; width=&quot;48.76&quot; height=&quot;29.82&quot; style=&quot;fill:#CAC27E&quot;/&gt;\n",
       "\t&lt;rect x=&quot;1631.97&quot; y=&quot;1206.31&quot; width=&quot;41.41&quot; height=&quot;22.48&quot; style=&quot;fill:none;stroke:#D7D29E;stroke-width:7.34&quot;/&gt;\n",
       "\t&lt;rect x=&quot;1774.45&quot; y=&quot;1217.49&quot; width=&quot;48.76&quot; height=&quot;14.97&quot; style=&quot;fill:#CAC27E&quot;/&gt;\n",
       "\t&lt;rect x=&quot;1778.12&quot; y=&quot;1221.16&quot; width=&quot;41.41&quot; height=&quot;7.63&quot; style=&quot;fill:none;stroke:#D7D29E;stroke-width:7.34&quot;/&gt;\n",
       "\t&lt;rect x=&quot;1823.21&quot; y=&quot;1217.49&quot; width=&quot;48.63&quot; height=&quot;14.97&quot; style=&quot;fill:#CAC27E&quot;/&gt;\n",
       "\t&lt;rect x=&quot;1826.88&quot; y=&quot;1221.16&quot; width=&quot;41.29&quot; height=&quot;7.63&quot; style=&quot;fill:none;stroke:#D7D29E;stroke-width:7.34&quot;/&gt;\n",
       "\t&lt;rect x=&quot;1969.36&quot; y=&quot;1217.49&quot; width=&quot;48.63&quot; height=&quot;14.97&quot; style=&quot;fill:#CAC27E&quot;/&gt;\n",
       "\t&lt;rect x=&quot;1973.03&quot; y=&quot;1221.16&quot; width=&quot;41.29&quot; height=&quot;7.63&quot; style=&quot;fill:none;stroke:#D7D29E;stroke-width:7.34&quot;/&gt;\n",
       "\t&lt;rect x=&quot;2309.18&quot; y=&quot;1217.49&quot; width=&quot;48.76&quot; height=&quot;14.97&quot; style=&quot;fill:#CAC27E&quot;/&gt;\n",
       "\t&lt;rect x=&quot;2312.85&quot; y=&quot;1221.16&quot; width=&quot;41.41&quot; height=&quot;7.63&quot; style=&quot;fill:none;stroke:#D7D29E;stroke-width:7.34&quot;/&gt;\n",
       "\t&lt;rect x=&quot;2357.93&quot; y=&quot;1217.49&quot; width=&quot;48.63&quot; height=&quot;14.97&quot; style=&quot;fill:#CAC27E&quot;/&gt;\n",
       "\t&lt;rect x=&quot;2361.60&quot; y=&quot;1221.16&quot; width=&quot;41.29&quot; height=&quot;7.63&quot; style=&quot;fill:none;stroke:#D7D29E;stroke-width:7.34&quot;/&gt;\n",
       "\t&lt;rect x=&quot;2406.57&quot; y=&quot;1172.82&quot; width=&quot;48.76&quot; height=&quot;59.65&quot; style=&quot;fill:#CAC27E&quot;/&gt;\n",
       "\t&lt;rect x=&quot;2410.24&quot; y=&quot;1176.49&quot; width=&quot;41.41&quot; height=&quot;52.31&quot; style=&quot;fill:none;stroke:#D7D29E;stroke-width:7.34&quot;/&gt;\n",
       "\t&lt;rect x=&quot;2455.32&quot; y=&quot;1202.64&quot; width=&quot;48.76&quot; height=&quot;29.82&quot; style=&quot;fill:#CAC27E&quot;/&gt;\n",
       "\t&lt;rect x=&quot;2459.00&quot; y=&quot;1206.31&quot; width=&quot;41.41&quot; height=&quot;22.48&quot; style=&quot;fill:none;stroke:#D7D29E;stroke-width:7.34&quot;/&gt;\n",
       "\t&lt;rect x=&quot;2504.08&quot; y=&quot;1202.64&quot; width=&quot;48.63&quot; height=&quot;29.82&quot; style=&quot;fill:#CAC27E&quot;/&gt;\n",
       "\t&lt;rect x=&quot;2507.75&quot; y=&quot;1206.31&quot; width=&quot;41.29&quot; height=&quot;22.48&quot; style=&quot;fill:none;stroke:#D7D29E;stroke-width:7.34&quot;/&gt;\n",
       "\t&lt;rect x=&quot;2552.72&quot; y=&quot;1128.02&quot; width=&quot;48.76&quot; height=&quot;104.45&quot; style=&quot;fill:#CAC27E&quot;/&gt;\n",
       "\t&lt;rect x=&quot;2556.39&quot; y=&quot;1131.69&quot; width=&quot;41.41&quot; height=&quot;97.10&quot; style=&quot;fill:none;stroke:#D7D29E;stroke-width:7.34&quot;/&gt;\n",
       "\t&lt;rect x=&quot;2601.47&quot; y=&quot;1098.19&quot; width=&quot;48.76&quot; height=&quot;134.27&quot; style=&quot;fill:#CAC27E&quot;/&gt;\n",
       "\t&lt;rect x=&quot;2605.14&quot; y=&quot;1101.86&quot; width=&quot;41.41&quot; height=&quot;126.93&quot; style=&quot;fill:none;stroke:#D7D29E;stroke-width:7.34&quot;/&gt;\n",
       "\t&lt;rect x=&quot;2650.23&quot; y=&quot;1098.19&quot; width=&quot;48.63&quot; height=&quot;134.27&quot; style=&quot;fill:#CAC27E&quot;/&gt;\n",
       "\t&lt;rect x=&quot;2653.90&quot; y=&quot;1101.86&quot; width=&quot;41.29&quot; height=&quot;126.93&quot; style=&quot;fill:none;stroke:#D7D29E;stroke-width:7.34&quot;/&gt;\n",
       "\t&lt;rect x=&quot;2698.86&quot; y=&quot;1053.52&quot; width=&quot;48.76&quot; height=&quot;178.95&quot; style=&quot;fill:#CAC27E&quot;/&gt;\n",
       "\t&lt;rect x=&quot;2702.54&quot; y=&quot;1057.19&quot; width=&quot;41.41&quot; height=&quot;171.60&quot; style=&quot;fill:none;stroke:#D7D29E;stroke-width:7.34&quot;/&gt;\n",
       "\t&lt;rect x=&quot;2747.62&quot; y=&quot;993.74&quot; width=&quot;48.76&quot; height=&quot;238.72&quot; style=&quot;fill:#CAC27E&quot;/&gt;\n",
       "\t&lt;rect x=&quot;2751.29&quot; y=&quot;997.42&quot; width=&quot;41.41&quot; height=&quot;231.38&quot; style=&quot;fill:none;stroke:#D7D29E;stroke-width:7.34&quot;/&gt;\n",
       "\t&lt;rect x=&quot;2796.38&quot; y=&quot;799.94&quot; width=&quot;48.63&quot; height=&quot;432.52&quot; style=&quot;fill:#CAC27E&quot;/&gt;\n",
       "\t&lt;rect x=&quot;2800.05&quot; y=&quot;803.62&quot; width=&quot;41.29&quot; height=&quot;425.18&quot; style=&quot;fill:none;stroke:#D7D29E;stroke-width:7.34&quot;/&gt;\n",
       "\t&lt;rect x=&quot;2845.01&quot; y=&quot;859.59&quot; width=&quot;48.76&quot; height=&quot;372.87&quot; style=&quot;fill:#CAC27E&quot;/&gt;\n",
       "\t&lt;rect x=&quot;2848.68&quot; y=&quot;863.27&quot; width=&quot;41.41&quot; height=&quot;365.53&quot; style=&quot;fill:none;stroke:#D7D29E;stroke-width:7.34&quot;/&gt;\n",
       "\t&lt;rect x=&quot;2893.77&quot; y=&quot;710.35&quot; width=&quot;48.76&quot; height=&quot;522.12&quot; style=&quot;fill:#CAC27E&quot;/&gt;\n",
       "\t&lt;rect x=&quot;2897.44&quot; y=&quot;714.02&quot; width=&quot;41.41&quot; height=&quot;514.77&quot; style=&quot;fill:none;stroke:#D7D29E;stroke-width:7.34&quot;/&gt;\n",
       "\t&lt;rect x=&quot;2942.53&quot; y=&quot;829.77&quot; width=&quot;48.63&quot; height=&quot;402.70&quot; style=&quot;fill:#CAC27E&quot;/&gt;\n",
       "\t&lt;rect x=&quot;2946.20&quot; y=&quot;833.44&quot; width=&quot;41.29&quot; height=&quot;395.35&quot; style=&quot;fill:none;stroke:#D7D29E;stroke-width:7.34&quot;/&gt;\n",
       "\t&lt;rect x=&quot;2991.16&quot; y=&quot;784.97&quot; width=&quot;48.76&quot; height=&quot;447.49&quot; style=&quot;fill:#CAC27E&quot;/&gt;\n",
       "\t&lt;rect x=&quot;2994.83&quot; y=&quot;788.64&quot; width=&quot;41.41&quot; height=&quot;440.15&quot; style=&quot;fill:none;stroke:#D7D29E;stroke-width:7.34&quot;/&gt;\n",
       "\t&lt;rect x=&quot;3039.92&quot; y=&quot;874.44&quot; width=&quot;48.76&quot; height=&quot;358.02&quot; style=&quot;fill:#CAC27E&quot;/&gt;\n",
       "\t&lt;rect x=&quot;3043.59&quot; y=&quot;878.12&quot; width=&quot;41.41&quot; height=&quot;350.68&quot; style=&quot;fill:none;stroke:#D7D29E;stroke-width:7.34&quot;/&gt;\n",
       "\t&lt;rect x=&quot;3088.68&quot; y=&quot;978.89&quot; width=&quot;48.63&quot; height=&quot;253.57&quot; style=&quot;fill:#CAC27E&quot;/&gt;\n",
       "\t&lt;rect x=&quot;3092.35&quot; y=&quot;982.56&quot; width=&quot;41.29&quot; height=&quot;246.23&quot; style=&quot;fill:none;stroke:#D7D29E;stroke-width:7.34&quot;/&gt;\n",
       "\t&lt;rect x=&quot;3137.31&quot; y=&quot;1098.19&quot; width=&quot;48.76&quot; height=&quot;134.27&quot; style=&quot;fill:#CAC27E&quot;/&gt;\n",
       "\t&lt;rect x=&quot;3140.98&quot; y=&quot;1101.86&quot; width=&quot;41.41&quot; height=&quot;126.93&quot; style=&quot;fill:none;stroke:#D7D29E;stroke-width:7.34&quot;/&gt;\n",
       "\t&lt;rect x=&quot;3186.07&quot; y=&quot;1068.37&quot; width=&quot;48.76&quot; height=&quot;164.10&quot; style=&quot;fill:#CAC27E&quot;/&gt;\n",
       "\t&lt;rect x=&quot;3189.74&quot; y=&quot;1072.04&quot; width=&quot;41.41&quot; height=&quot;156.75&quot; style=&quot;fill:none;stroke:#D7D29E;stroke-width:7.34&quot;/&gt;\n",
       "\t&lt;rect x=&quot;3234.82&quot; y=&quot;1038.54&quot; width=&quot;48.63&quot; height=&quot;193.92&quot; style=&quot;fill:#CAC27E&quot;/&gt;\n",
       "\t&lt;rect x=&quot;3238.50&quot; y=&quot;1042.21&quot; width=&quot;41.29&quot; height=&quot;186.58&quot; style=&quot;fill:none;stroke:#D7D29E;stroke-width:7.34&quot;/&gt;\n",
       "\t&lt;rect x=&quot;3283.46&quot; y=&quot;1172.82&quot; width=&quot;48.76&quot; height=&quot;59.65&quot; style=&quot;fill:#CAC27E&quot;/&gt;\n",
       "\t&lt;rect x=&quot;3287.13&quot; y=&quot;1176.49&quot; width=&quot;41.41&quot; height=&quot;52.31&quot; style=&quot;fill:none;stroke:#D7D29E;stroke-width:7.34&quot;/&gt;\n",
       "\t&lt;rect x=&quot;3332.22&quot; y=&quot;1142.99&quot; width=&quot;48.76&quot; height=&quot;89.47&quot; style=&quot;fill:#CAC27E&quot;/&gt;\n",
       "\t&lt;rect x=&quot;3335.89&quot; y=&quot;1146.66&quot; width=&quot;41.41&quot; height=&quot;82.13&quot; style=&quot;fill:none;stroke:#D7D29E;stroke-width:7.34&quot;/&gt;\n",
       "\t&lt;rect x=&quot;3380.97&quot; y=&quot;1187.67&quot; width=&quot;48.63&quot; height=&quot;44.80&quot; style=&quot;fill:#CAC27E&quot;/&gt;\n",
       "\t&lt;rect x=&quot;3384.65&quot; y=&quot;1191.34&quot; width=&quot;41.29&quot; height=&quot;37.46&quot; style=&quot;fill:none;stroke:#D7D29E;stroke-width:7.34&quot;/&gt;\n",
       "\t&lt;rect x=&quot;3429.61&quot; y=&quot;1187.67&quot; width=&quot;48.76&quot; height=&quot;44.80&quot; style=&quot;fill:#CAC27E&quot;/&gt;\n",
       "\t&lt;rect x=&quot;3433.28&quot; y=&quot;1191.34&quot; width=&quot;41.41&quot; height=&quot;37.46&quot; style=&quot;fill:none;stroke:#D7D29E;stroke-width:7.34&quot;/&gt;\n",
       "\t&lt;rect x=&quot;3478.36&quot; y=&quot;1187.67&quot; width=&quot;48.76&quot; height=&quot;44.80&quot; style=&quot;fill:#CAC27E&quot;/&gt;\n",
       "\t&lt;rect x=&quot;3482.04&quot; y=&quot;1191.34&quot; width=&quot;41.41&quot; height=&quot;37.46&quot; style=&quot;fill:none;stroke:#D7D29E;stroke-width:7.34&quot;/&gt;\n",
       "\t&lt;rect x=&quot;556.50&quot; y=&quot;2362.21&quot; width=&quot;48.76&quot; height=&quot;14.85&quot; style=&quot;fill:#CAC27E&quot;/&gt;\n",
       "\t&lt;rect x=&quot;560.18&quot; y=&quot;2365.89&quot; width=&quot;41.41&quot; height=&quot;7.51&quot; style=&quot;fill:none;stroke:#D7D29E;stroke-width:7.34&quot;/&gt;\n",
       "\t&lt;rect x=&quot;605.26&quot; y=&quot;2347.24&quot; width=&quot;48.76&quot; height=&quot;29.82&quot; style=&quot;fill:#CAC27E&quot;/&gt;\n",
       "\t&lt;rect x=&quot;608.93&quot; y=&quot;2350.91&quot; width=&quot;41.41&quot; height=&quot;22.48&quot; style=&quot;fill:none;stroke:#D7D29E;stroke-width:7.34&quot;/&gt;\n",
       "\t&lt;rect x=&quot;702.65&quot; y=&quot;2332.39&quot; width=&quot;48.76&quot; height=&quot;44.68&quot; style=&quot;fill:#CAC27E&quot;/&gt;\n",
       "\t&lt;rect x=&quot;706.32&quot; y=&quot;2336.06&quot; width=&quot;41.41&quot; height=&quot;37.33&quot; style=&quot;fill:none;stroke:#D7D29E;stroke-width:7.34&quot;/&gt;\n",
       "\t&lt;rect x=&quot;751.41&quot; y=&quot;2257.77&quot; width=&quot;48.76&quot; height=&quot;119.30&quot; style=&quot;fill:#CAC27E&quot;/&gt;\n",
       "\t&lt;rect x=&quot;755.08&quot; y=&quot;2261.44&quot; width=&quot;41.41&quot; height=&quot;111.95&quot; style=&quot;fill:none;stroke:#D7D29E;stroke-width:7.34&quot;/&gt;\n",
       "\t&lt;rect x=&quot;800.17&quot; y=&quot;2242.92&quot; width=&quot;48.63&quot; height=&quot;134.15&quot; style=&quot;fill:#CAC27E&quot;/&gt;\n",
       "\t&lt;rect x=&quot;803.84&quot; y=&quot;2246.59&quot; width=&quot;41.29&quot; height=&quot;126.81&quot; style=&quot;fill:none;stroke:#D7D29E;stroke-width:7.34&quot;/&gt;\n",
       "\t&lt;rect x=&quot;848.80&quot; y=&quot;2123.49&quot; width=&quot;48.76&quot; height=&quot;253.57&quot; style=&quot;fill:#CAC27E&quot;/&gt;\n",
       "\t&lt;rect x=&quot;852.47&quot; y=&quot;2127.16&quot; width=&quot;41.41&quot; height=&quot;246.23&quot; style=&quot;fill:none;stroke:#D7D29E;stroke-width:7.34&quot;/&gt;\n",
       "\t&lt;rect x=&quot;897.56&quot; y=&quot;2078.82&quot; width=&quot;48.76&quot; height=&quot;298.25&quot; style=&quot;fill:#CAC27E&quot;/&gt;\n",
       "\t&lt;rect x=&quot;901.23&quot; y=&quot;2082.49&quot; width=&quot;41.41&quot; height=&quot;290.90&quot; style=&quot;fill:none;stroke:#D7D29E;stroke-width:7.34&quot;/&gt;\n",
       "\t&lt;rect x=&quot;946.32&quot; y=&quot;2093.67&quot; width=&quot;48.63&quot; height=&quot;283.40&quot; style=&quot;fill:#CAC27E&quot;/&gt;\n",
       "\t&lt;rect x=&quot;949.99&quot; y=&quot;2097.34&quot; width=&quot;41.29&quot; height=&quot;276.05&quot; style=&quot;fill:none;stroke:#D7D29E;stroke-width:7.34&quot;/&gt;\n",
       "\t&lt;rect x=&quot;994.95&quot; y=&quot;2034.02&quot; width=&quot;48.76&quot; height=&quot;343.05&quot; style=&quot;fill:#CAC27E&quot;/&gt;\n",
       "\t&lt;rect x=&quot;998.62&quot; y=&quot;2037.69&quot; width=&quot;41.41&quot; height=&quot;335.70&quot; style=&quot;fill:none;stroke:#D7D29E;stroke-width:7.34&quot;/&gt;\n",
       "\t&lt;rect x=&quot;1043.71&quot; y=&quot;2048.99&quot; width=&quot;48.76&quot; height=&quot;328.07&quot; style=&quot;fill:#CAC27E&quot;/&gt;\n",
       "\t&lt;rect x=&quot;1047.38&quot; y=&quot;2052.66&quot; width=&quot;41.41&quot; height=&quot;320.73&quot; style=&quot;fill:none;stroke:#D7D29E;stroke-width:7.34&quot;/&gt;\n",
       "\t&lt;rect x=&quot;1092.46&quot; y=&quot;2004.19&quot; width=&quot;48.63&quot; height=&quot;372.87&quot; style=&quot;fill:#CAC27E&quot;/&gt;\n",
       "\t&lt;rect x=&quot;1096.14&quot; y=&quot;2007.87&quot; width=&quot;41.29&quot; height=&quot;365.53&quot; style=&quot;fill:none;stroke:#D7D29E;stroke-width:7.34&quot;/&gt;\n",
       "\t&lt;rect x=&quot;1141.10&quot; y=&quot;1840.10&quot; width=&quot;48.76&quot; height=&quot;536.97&quot; style=&quot;fill:#CAC27E&quot;/&gt;\n",
       "\t&lt;rect x=&quot;1144.77&quot; y=&quot;1843.77&quot; width=&quot;41.41&quot; height=&quot;529.62&quot; style=&quot;fill:none;stroke:#D7D29E;stroke-width:7.34&quot;/&gt;\n",
       "\t&lt;rect x=&quot;1189.86&quot; y=&quot;1705.82&quot; width=&quot;48.76&quot; height=&quot;671.24&quot; style=&quot;fill:#CAC27E&quot;/&gt;\n",
       "\t&lt;rect x=&quot;1193.53&quot; y=&quot;1709.50&quot; width=&quot;41.41&quot; height=&quot;663.90&quot; style=&quot;fill:none;stroke:#D7D29E;stroke-width:7.34&quot;/&gt;\n",
       "\t&lt;rect x=&quot;1238.61&quot; y=&quot;2063.84&quot; width=&quot;48.63&quot; height=&quot;313.22&quot; style=&quot;fill:#CAC27E&quot;/&gt;\n",
       "\t&lt;rect x=&quot;1242.29&quot; y=&quot;2067.52&quot; width=&quot;41.29&quot; height=&quot;305.88&quot; style=&quot;fill:none;stroke:#D7D29E;stroke-width:7.34&quot;/&gt;\n",
       "\t&lt;rect x=&quot;1287.25&quot; y=&quot;1959.39&quot; width=&quot;48.76&quot; height=&quot;417.67&quot; style=&quot;fill:#CAC27E&quot;/&gt;\n",
       "\t&lt;rect x=&quot;1290.92&quot; y=&quot;1963.07&quot; width=&quot;41.41&quot; height=&quot;410.33&quot; style=&quot;fill:none;stroke:#D7D29E;stroke-width:7.34&quot;/&gt;\n",
       "\t&lt;rect x=&quot;1336.01&quot; y=&quot;1974.37&quot; width=&quot;48.76&quot; height=&quot;402.70&quot; style=&quot;fill:#CAC27E&quot;/&gt;\n",
       "\t&lt;rect x=&quot;1339.68&quot; y=&quot;1978.04&quot; width=&quot;41.41&quot; height=&quot;395.35&quot; style=&quot;fill:none;stroke:#D7D29E;stroke-width:7.34&quot;/&gt;\n",
       "\t&lt;rect x=&quot;1384.76&quot; y=&quot;2034.02&quot; width=&quot;48.63&quot; height=&quot;343.05&quot; style=&quot;fill:#CAC27E&quot;/&gt;\n",
       "\t&lt;rect x=&quot;1388.43&quot; y=&quot;2037.69&quot; width=&quot;41.29&quot; height=&quot;335.70&quot; style=&quot;fill:none;stroke:#D7D29E;stroke-width:7.34&quot;/&gt;\n",
       "\t&lt;rect x=&quot;1433.40&quot; y=&quot;1989.34&quot; width=&quot;48.76&quot; height=&quot;387.72&quot; style=&quot;fill:#CAC27E&quot;/&gt;\n",
       "\t&lt;rect x=&quot;1437.07&quot; y=&quot;1993.02&quot; width=&quot;41.41&quot; height=&quot;380.38&quot; style=&quot;fill:none;stroke:#D7D29E;stroke-width:7.34&quot;/&gt;\n",
       "\t&lt;rect x=&quot;1482.15&quot; y=&quot;2302.56&quot; width=&quot;48.76&quot; height=&quot;74.50&quot; style=&quot;fill:#CAC27E&quot;/&gt;\n",
       "\t&lt;rect x=&quot;1485.83&quot; y=&quot;2306.24&quot; width=&quot;41.41&quot; height=&quot;67.16&quot; style=&quot;fill:none;stroke:#D7D29E;stroke-width:7.34&quot;/&gt;\n",
       "\t&lt;rect x=&quot;1530.91&quot; y=&quot;2213.09&quot; width=&quot;48.63&quot; height=&quot;163.97&quot; style=&quot;fill:#CAC27E&quot;/&gt;\n",
       "\t&lt;rect x=&quot;1534.58&quot; y=&quot;2216.76&quot; width=&quot;41.29&quot; height=&quot;156.63&quot; style=&quot;fill:none;stroke:#D7D29E;stroke-width:7.34&quot;/&gt;\n",
       "\t&lt;rect x=&quot;1579.55&quot; y=&quot;2302.56&quot; width=&quot;48.76&quot; height=&quot;74.50&quot; style=&quot;fill:#CAC27E&quot;/&gt;\n",
       "\t&lt;rect x=&quot;1583.22&quot; y=&quot;2306.24&quot; width=&quot;41.41&quot; height=&quot;67.16&quot; style=&quot;fill:none;stroke:#D7D29E;stroke-width:7.34&quot;/&gt;\n",
       "\t&lt;rect x=&quot;1677.06&quot; y=&quot;2332.39&quot; width=&quot;48.63&quot; height=&quot;44.68&quot; style=&quot;fill:#CAC27E&quot;/&gt;\n",
       "\t&lt;rect x=&quot;1680.73&quot; y=&quot;2336.06&quot; width=&quot;41.29&quot; height=&quot;37.33&quot; style=&quot;fill:none;stroke:#D7D29E;stroke-width:7.34&quot;/&gt;\n",
       "\t&lt;rect x=&quot;1823.21&quot; y=&quot;2362.21&quot; width=&quot;48.63&quot; height=&quot;14.85&quot; style=&quot;fill:#CAC27E&quot;/&gt;\n",
       "\t&lt;rect x=&quot;1826.88&quot; y=&quot;2365.89&quot; width=&quot;41.29&quot; height=&quot;7.51&quot; style=&quot;fill:none;stroke:#D7D29E;stroke-width:7.34&quot;/&gt;\n",
       "\t&lt;line x1=&quot;388.33&quot; y1=&quot;1232.46&quot; x2=&quot;388.33&quot; y2=&quot;432.77&quot; style=&quot;stroke:#000000;stroke-width:4.90&quot;/&gt;\n",
       "\t&lt;line x1=&quot;388.33&quot; y1=&quot;1232.46&quot; x2=&quot;354.30&quot; y2=&quot;1232.46&quot; style=&quot;stroke:#000000;stroke-width:4.90&quot;/&gt;\n",
       "\t&lt;text x=&quot;311.78&quot; y=&quot;1232.46&quot; style=&quot;font-family:&#x27;Helvetica&#x27;;font-size:85.02px;fill:#000000&quot; transform=&quot;rotate(-90 311.78,1232.46)&quot; text-anchor=&quot;middle&quot;&gt;0&lt;/text&gt;\n",
       "\t&lt;line x1=&quot;388.33&quot; y1=&quot;486.60&quot; x2=&quot;354.30&quot; y2=&quot;486.60&quot; style=&quot;stroke:#000000;stroke-width:4.90&quot;/&gt;\n",
       "\t&lt;text x=&quot;311.78&quot; y=&quot;486.60&quot; style=&quot;font-family:&#x27;Helvetica&#x27;;font-size:85.02px;fill:#000000&quot; transform=&quot;rotate(-90 311.78,486.60)&quot; text-anchor=&quot;middle&quot;&gt;50&lt;/text&gt;\n",
       "\t&lt;line x1=&quot;388.33&quot; y1=&quot;2377.06&quot; x2=&quot;388.33&quot; y2=&quot;1577.49&quot; style=&quot;stroke:#000000;stroke-width:4.90&quot;/&gt;\n",
       "\t&lt;line x1=&quot;388.33&quot; y1=&quot;2377.06&quot; x2=&quot;354.30&quot; y2=&quot;2377.06&quot; style=&quot;stroke:#000000;stroke-width:4.90&quot;/&gt;\n",
       "\t&lt;text x=&quot;311.78&quot; y=&quot;2377.06&quot; style=&quot;font-family:&#x27;Helvetica&#x27;;font-size:85.02px;fill:#000000&quot; transform=&quot;rotate(-90 311.78,2377.06)&quot; text-anchor=&quot;middle&quot;&gt;0&lt;/text&gt;\n",
       "\t&lt;line x1=&quot;388.33&quot; y1=&quot;1631.32&quot; x2=&quot;354.30&quot; y2=&quot;1631.32&quot; style=&quot;stroke:#000000;stroke-width:4.90&quot;/&gt;\n",
       "\t&lt;text x=&quot;311.78&quot; y=&quot;1631.32&quot; style=&quot;font-family:&#x27;Helvetica&#x27;;font-size:85.02px;fill:#000000&quot; transform=&quot;rotate(-90 311.78,1631.32)&quot; text-anchor=&quot;middle&quot;&gt;50&lt;/text&gt;\n",
       "\t&lt;line x1=&quot;2141.00&quot; y1=&quot;1232.46&quot; x2=&quot;3824.49&quot; y2=&quot;1232.46&quot; style=&quot;stroke:#000000;stroke-width:4.90&quot;/&gt;\n",
       "\t&lt;line x1=&quot;2194.83&quot; y1=&quot;1232.46&quot; x2=&quot;2194.83&quot; y2=&quot;1266.50&quot; style=&quot;stroke:#000000;stroke-width:4.90&quot;/&gt;\n",
       "\t&lt;text x=&quot;2194.83&quot; y=&quot;1342.90&quot; style=&quot;font-family:&#x27;Helvetica&#x27;;font-size:85.02px;fill:#000000&quot; text-anchor=&quot;middle&quot;&gt;10&lt;/text&gt;\n",
       "\t&lt;line x1=&quot;2564.84&quot; y1=&quot;1232.46&quot; x2=&quot;2564.84&quot; y2=&quot;1266.50&quot; style=&quot;stroke:#000000;stroke-width:4.90&quot;/&gt;\n",
       "\t&lt;text x=&quot;2564.84&quot; y=&quot;1342.90&quot; style=&quot;font-family:&#x27;Helvetica&#x27;;font-size:85.02px;fill:#000000&quot; text-anchor=&quot;middle&quot;&gt;15&lt;/text&gt;\n",
       "\t&lt;line x1=&quot;2934.98&quot; y1=&quot;1232.46&quot; x2=&quot;2934.98&quot; y2=&quot;1266.50&quot; style=&quot;stroke:#000000;stroke-width:4.90&quot;/&gt;\n",
       "\t&lt;text x=&quot;2934.98&quot; y=&quot;1342.90&quot; style=&quot;font-family:&#x27;Helvetica&#x27;;font-size:85.02px;fill:#000000&quot; text-anchor=&quot;middle&quot;&gt;20&lt;/text&gt;\n",
       "\t&lt;line x1=&quot;3304.99&quot; y1=&quot;1232.46&quot; x2=&quot;3304.99&quot; y2=&quot;1266.50&quot; style=&quot;stroke:#000000;stroke-width:4.90&quot;/&gt;\n",
       "\t&lt;text x=&quot;3304.99&quot; y=&quot;1342.90&quot; style=&quot;font-family:&#x27;Helvetica&#x27;;font-size:85.02px;fill:#000000&quot; text-anchor=&quot;middle&quot;&gt;25&lt;/text&gt;\n",
       "\t&lt;line x1=&quot;3675.13&quot; y1=&quot;1232.46&quot; x2=&quot;3675.13&quot; y2=&quot;1266.50&quot; style=&quot;stroke:#000000;stroke-width:4.90&quot;/&gt;\n",
       "\t&lt;text x=&quot;3675.13&quot; y=&quot;1342.90&quot; style=&quot;font-family:&#x27;Helvetica&#x27;;font-size:85.02px;fill:#000000&quot; text-anchor=&quot;middle&quot;&gt;30&lt;/text&gt;\n",
       "\t&lt;line x1=&quot;388.33&quot; y1=&quot;2377.06&quot; x2=&quot;2071.82&quot; y2=&quot;2377.06&quot; style=&quot;stroke:#000000;stroke-width:4.90&quot;/&gt;\n",
       "\t&lt;line x1=&quot;442.16&quot; y1=&quot;2377.06&quot; x2=&quot;442.16&quot; y2=&quot;2411.10&quot; style=&quot;stroke:#000000;stroke-width:4.90&quot;/&gt;\n",
       "\t&lt;text x=&quot;442.16&quot; y=&quot;2487.50&quot; style=&quot;font-family:&#x27;Helvetica&#x27;;font-size:85.02px;fill:#000000&quot; text-anchor=&quot;middle&quot;&gt;10&lt;/text&gt;\n",
       "\t&lt;line x1=&quot;812.29&quot; y1=&quot;2377.06&quot; x2=&quot;812.29&quot; y2=&quot;2411.10&quot; style=&quot;stroke:#000000;stroke-width:4.90&quot;/&gt;\n",
       "\t&lt;text x=&quot;812.29&quot; y=&quot;2487.50&quot; style=&quot;font-family:&#x27;Helvetica&#x27;;font-size:85.02px;fill:#000000&quot; text-anchor=&quot;middle&quot;&gt;15&lt;/text&gt;\n",
       "\t&lt;line x1=&quot;1182.31&quot; y1=&quot;2377.06&quot; x2=&quot;1182.31&quot; y2=&quot;2411.10&quot; style=&quot;stroke:#000000;stroke-width:4.90&quot;/&gt;\n",
       "\t&lt;text x=&quot;1182.31&quot; y=&quot;2487.50&quot; style=&quot;font-family:&#x27;Helvetica&#x27;;font-size:85.02px;fill:#000000&quot; text-anchor=&quot;middle&quot;&gt;20&lt;/text&gt;\n",
       "\t&lt;line x1=&quot;1552.32&quot; y1=&quot;2377.06&quot; x2=&quot;1552.32&quot; y2=&quot;2411.10&quot; style=&quot;stroke:#000000;stroke-width:4.90&quot;/&gt;\n",
       "\t&lt;text x=&quot;1552.32&quot; y=&quot;2487.50&quot; style=&quot;font-family:&#x27;Helvetica&#x27;;font-size:85.02px;fill:#000000&quot; text-anchor=&quot;middle&quot;&gt;25&lt;/text&gt;\n",
       "\t&lt;line x1=&quot;1922.46&quot; y1=&quot;2377.06&quot; x2=&quot;1922.46&quot; y2=&quot;2411.10&quot; style=&quot;stroke:#000000;stroke-width:4.90&quot;/&gt;\n",
       "\t&lt;text x=&quot;1922.46&quot; y=&quot;2487.50&quot; style=&quot;font-family:&#x27;Helvetica&#x27;;font-size:85.02px;fill:#000000&quot; text-anchor=&quot;middle&quot;&gt;30&lt;/text&gt;\n",
       "\t&lt;rect x=&quot;388.33&quot; y=&quot;309.88&quot; width=&quot;1683.50&quot; height=&quot;122.89&quot; style=&quot;fill:#D9E6EB&quot;/&gt;\n",
       "\t&lt;rect x=&quot;390.78&quot; y=&quot;312.33&quot; width=&quot;1678.60&quot; height=&quot;117.99&quot; style=&quot;fill:none;stroke:#D9E6EB;stroke-width:4.90&quot;/&gt;\n",
       "\t&lt;text x=&quot;1230.08&quot; y=&quot;390.04&quot; style=&quot;font-family:&#x27;Helvetica&#x27;;font-size:93.56px;fill:#000000&quot; text-anchor=&quot;middle&quot;&gt;1&lt;/text&gt;\n",
       "\t&lt;rect x=&quot;2141.00&quot; y=&quot;309.88&quot; width=&quot;1683.49&quot; height=&quot;122.89&quot; style=&quot;fill:#D9E6EB&quot;/&gt;\n",
       "\t&lt;rect x=&quot;2143.45&quot; y=&quot;312.33&quot; width=&quot;1678.60&quot; height=&quot;117.99&quot; style=&quot;fill:none;stroke:#D9E6EB;stroke-width:4.90&quot;/&gt;\n",
       "\t&lt;text x=&quot;2982.75&quot; y=&quot;390.04&quot; style=&quot;font-family:&#x27;Helvetica&#x27;;font-size:93.56px;fill:#000000&quot; text-anchor=&quot;middle&quot;&gt;2&lt;/text&gt;\n",
       "\t&lt;rect x=&quot;388.33&quot; y=&quot;1454.60&quot; width=&quot;1683.50&quot; height=&quot;122.89&quot; style=&quot;fill:#D9E6EB&quot;/&gt;\n",
       "\t&lt;rect x=&quot;390.78&quot; y=&quot;1457.05&quot; width=&quot;1678.60&quot; height=&quot;117.99&quot; style=&quot;fill:none;stroke:#D9E6EB;stroke-width:4.90&quot;/&gt;\n",
       "\t&lt;text x=&quot;1230.08&quot; y=&quot;1534.63&quot; style=&quot;font-family:&#x27;Helvetica&#x27;;font-size:93.56px;fill:#000000&quot; text-anchor=&quot;middle&quot;&gt;3&lt;/text&gt;\n",
       "\t&lt;text x=&quot;170.79&quot; y=&quot;1419.95&quot; style=&quot;font-family:&#x27;Helvetica&#x27;;font-size:99.99px;fill:#000000&quot; transform=&quot;rotate(-90 170.79,1419.95)&quot; text-anchor=&quot;middle&quot;&gt;Frequency&lt;/text&gt;\n",
       "\t&lt;text x=&quot;2029.99&quot; y=&quot;2634.61&quot; style=&quot;font-family:&#x27;Helvetica&#x27;;font-size:99.99px;fill:#000000&quot; text-anchor=&quot;middle&quot;&gt;amount of antibody&lt;/text&gt;\n",
       "\t&lt;text x=&quot;218.05&quot; y=&quot;2737.89&quot; style=&quot;font-family:&#x27;Helvetica&#x27;;font-size:79.94px;fill:#000000&quot;&gt;Graphs by 1:Oxford, 2:Southampton, 3:London&lt;/text&gt;\n",
       "\t&lt;text x=&quot;2029.99&quot; y=&quot;215.98&quot; style=&quot;font-family:&#x27;Helvetica&#x27;;font-size:139.96px;fill:#1E2D53&quot; text-anchor=&quot;middle&quot;&gt;Antibody distribution by places&lt;/text&gt;\n",
       "&lt;/svg&gt;\n",
       "</body></html>\"></iframe>\n"
      ],
      "text/plain": [
       "This front-end cannot display the desired image type."
      ]
     },
     "metadata": {
      "image/svg+xml": {
       "height": 436,
       "width": 600
      },
      "text/html": {
       "height": 436,
       "width": 600
      }
     },
     "output_type": "display_data"
    }
   ],
   "source": [
    "// plot the antiboy histogram by places \n",
    "histogram antibody, frequency by(places, title(\"Antibody distribution by places\"))"
   ]
  },
  {
   "cell_type": "markdown",
   "metadata": {},
   "source": [
    "## Clinical trials \n",
    "\n",
    "Medicial researchers have already developed a vaccine called `ChAd1-nCoV` that\n",
    "is made from a virus (a weakened version). By vaccinating with `ChAd1-nCoV`, \n",
    "we are hoping to make the body recognise and develop an immune response to \n",
    "the Spike protein that will help stop the SARS-CoV-2 virus from entering human \n",
    "cells and therefore prevent infection.\n",
    "\n",
    "The participants in our sample will be randomly allocated to receive either \n",
    "the `ChAd1-nCoV` vaccine or a licensed vaccine (`MenACWY`) that will be \n",
    "used as a ‘control’ for comparison. The `MenACWY` vaccine is a licensed vaccine\n",
    "and it has been given routinely to teenagers in the UK since 2015 and protects \n",
    "against one of the most common causes of meningitis and [sepsis](https://www.cdc.gov/sepsis/what-is-sepsis.html#:~:text=Sepsis%20is%20the%20body%27s%20extreme,%2C%20skin%2C%20or%20gastrointestinal%20tract.). \n",
    "This vaccine is also given as a travel vaccine for high risk countries.\n",
    "\n",
    "Please watch the following video to understand how clinical trials are conducted. \n",
    "\n",
    "<iframe width=\"618\" height=\"315\" src=\"https://www.youtube.com/embed/6cVkvCdxrWk\" title=\"YouTube video player\" frameborder=\"0\" allow=\"accelerometer; autoplay; clipboard-write; encrypted-media; gyroscope; picture-in-picture\" allowfullscreen></iframe>"
   ]
  },
  {
   "cell_type": "markdown",
   "metadata": {},
   "source": [
    "### Randomly allocate vaccine\n",
    "\n",
    "Now, we will allocate vaccine randomly. One group will be called __treatment group__\n",
    " or (experimental group), the other group will be called __control group__. We\n",
    " will generate a new variable `treatment`:\n",
    "\n",
    " * `treatment` = 1 if the participat was allocated to receive `ChAd1-nCoV`\n",
    " * `treatment` = 0 if the participat was allocated to receive  `MenACWY`"
   ]
  },
  {
   "cell_type": "code",
   "execution_count": 37,
   "metadata": {},
   "outputs": [
    {
     "name": "stdout",
     "output_type": "stream",
     "text": [
      "\n",
      "(503 missing values generated)\n",
      "\n",
      "(503 real changes made)\n",
      "\n",
      "\n",
      "----------------------\n",
      "treatment |      Freq.\n",
      "----------+-----------\n",
      "        0 |        503\n",
      "        1 |        497\n",
      "----------------------\n"
     ]
    }
   ],
   "source": [
    "// generate treatment variable with uniform distribution generator\n",
    "generate treatment = 1 if runiform() >= 0.5\n",
    "replace treatment = 0 if missing(treatment)\n",
    "table treatment"
   ]
  },
  {
   "cell_type": "code",
   "execution_count": 38,
   "metadata": {},
   "outputs": [
    {
     "name": "stdout",
     "output_type": "stream",
     "text": [
      "\n",
      "\n",
      "\n",
      "Contains data\n",
      "  obs:         1,000                          \n",
      " vars:             5                          \n",
      "--------------------------------------------------------------------------------\n",
      "              storage   display    value\n",
      "variable name   type    format     label      variable label\n",
      "--------------------------------------------------------------------------------\n",
      "antibody        float   %9.0g                 amount of antibody\n",
      "age             float   %9.0g                 value of age\n",
      "gender          float   %9.0g                 female = 1, male = 0\n",
      "places          float   %9.0g                 1:Oxford, 2:Southampton, 3:London\n",
      "treatment       float   %9.0g                 1=receive Cov19 Vaccine, 0=receive\n",
      "                                                placebo vaccine\n",
      "--------------------------------------------------------------------------------\n",
      "Sorted by: \n",
      "     Note: Dataset has changed since last saved.\n"
     ]
    }
   ],
   "source": [
    "label variable treatment \"1=receive Cov19 Vaccine, 0=receive placebo vaccine\"\n",
    "describe"
   ]
  },
  {
   "cell_type": "code",
   "execution_count": 39,
   "metadata": {},
   "outputs": [
    {
     "name": "stdout",
     "output_type": "stream",
     "text": [
      "\n",
      "     +---------------------------------------------+\n",
      "     | antibody   age   gender   places   treatm~t |\n",
      "     |---------------------------------------------|\n",
      "  1. | 18.25307    58        0        1          1 |\n",
      "  2. | 16.46375    43        0        2          1 |\n",
      "  3. | 22.61064    49        1        3          1 |\n",
      "  4. | 16.88403    40        1        2          1 |\n",
      "  5. | 20.63522    24        0        1          0 |\n",
      "     |---------------------------------------------|\n",
      "  6. | 20.68504    43        1        3          1 |\n",
      "  7. | 22.81262    19        0        1          1 |\n",
      "  8. | 21.36884    53        0        1          0 |\n",
      "  9. |  18.1802    59        0        2          0 |\n",
      " 10. | 17.53478    56        1        3          0 |\n",
      "     +---------------------------------------------+\n"
     ]
    }
   ],
   "source": [
    "// now let's list our dataset to have a look \n",
    "list in f/10"
   ]
  },
  {
   "cell_type": "markdown",
   "metadata": {},
   "source": [
    "### Check the covariate balance between treatment and control groups\n",
    "\n",
    "Before we assign the vaccine to our participants, we need to check the \n",
    "_covariate balance_ between treatment and control groups, meaning that the \n",
    "_covariate varialbes_ (such as age, gender, and places) should bear the\n",
    "similar features for __treatment group__ and __control group__. In other words,\n",
    "treatment group and control group should look similar in terms of their characteristics. \n",
    "For instance, both treatment group and control group should have _mixed genders_. \n",
    "\n",
    "What we want to check is whether our sample is as balanced as the descriptions\n",
    "in the following table. \n",
    "\n",
    "|          |                    Treatment                    |                     Control                     | Balanced |\n",
    "|----------|:-----------------------------------------------:|:-----------------------------------------------:|----------|\n",
    "| antibody | normally distributed                            | normally distributed                            | Yes      |\n",
    "| age      |        uniform distributed from age 18-60       |        uniform distributed from age 18-60       | Yes      |\n",
    "| gender   |           mixed (50% female, 50% male)          |           mixed (50% female, 50% male)          | Yes      |\n",
    "| places   | mixed (1/3 Oxford, 1/3 Southampton, 1/3 London) | mixed (1/3 Oxford, 1/3 Southampton, 1/3 London) | Yes      |"
   ]
  },
  {
   "cell_type": "code",
   "execution_count": 51,
   "metadata": {},
   "outputs": [
    {
     "name": "stdout",
     "output_type": "stream",
     "text": [
      "\n",
      "  1=receive |\n",
      "      Cov19 |\n",
      "   Vaccine, |\n",
      "  0=receive |\n",
      "    placebo |    Summary of amount of antibody\n",
      "    vaccine |        Mean   Std. Dev.       Freq.\n",
      "------------+------------------------------------\n",
      "          0 |   20.050491   3.0118432         503\n",
      "          1 |   20.125169   2.8343049         497\n",
      "------------+------------------------------------\n",
      "      Total |   20.087606   2.9237294       1,000\n"
     ]
    }
   ],
   "source": [
    "// check antibody balance\n",
    "tabulate treatment, summarize(antibody)"
   ]
  },
  {
   "cell_type": "code",
   "execution_count": 41,
   "metadata": {},
   "outputs": [
    {
     "data": {
      "application/pdf": "[encoded data removed]",
      "image/svg+xml": "<?xml version=\"1.0\" encoding=\"UTF-8\" standalone=\"no\"?>\n<!-- This is a Stata 16.1 generated SVG file (http://www.stata.com) -->\n\n<svg version=\"1.1\" width=\"600px\" height=\"436px\" viewBox=\"0 0 3960 2880\" xmlns=\"http://www.w3.org/2000/svg\" xmlns:xlink=\"http://www.w3.org/1999/xlink\">\n\t<desc>Stata Graph - Graph</desc>\n\t<rect x=\"0\" y=\"0\" width=\"3960\" height=\"2880\" style=\"fill:#EAF2F3;stroke:none\"/>\n\t<rect x=\"0.00\" y=\"0.00\" width=\"3959.88\" height=\"2880.00\" style=\"fill:#EAF2F3\"/>\n\t<rect x=\"2.88\" y=\"2.88\" width=\"3954.12\" height=\"2874.24\" style=\"fill:none;stroke:#EAF2F3;stroke-width:5.76\"/>\n\t<rect x=\"388.33\" y=\"432.77\" width=\"1683.50\" height=\"1944.30\" style=\"fill:#FFFFFF\"/>\n\t<rect x=\"390.78\" y=\"435.22\" width=\"1678.60\" height=\"1939.40\" style=\"fill:none;stroke:#FFFFFF;stroke-width:4.90\"/>\n\t<line x1=\"388.33\" y1=\"2377.06\" x2=\"2071.82\" y2=\"2377.06\" style=\"stroke:#EAF2F3;stroke-width:7.34\"/>\n\t<line x1=\"388.33\" y1=\"1775.25\" x2=\"2071.82\" y2=\"1775.25\" style=\"stroke:#EAF2F3;stroke-width:7.34\"/>\n\t<line x1=\"388.33\" y1=\"1173.43\" x2=\"2071.82\" y2=\"1173.43\" style=\"stroke:#EAF2F3;stroke-width:7.34\"/>\n\t<line x1=\"388.33\" y1=\"571.62\" x2=\"2071.82\" y2=\"571.62\" style=\"stroke:#EAF2F3;stroke-width:7.34\"/>\n\t<rect x=\"2141.00\" y=\"432.77\" width=\"1683.49\" height=\"1944.30\" style=\"fill:#FFFFFF\"/>\n\t<rect x=\"2143.45\" y=\"435.22\" width=\"1678.60\" height=\"1939.40\" style=\"fill:none;stroke:#FFFFFF;stroke-width:4.90\"/>\n\t<line x1=\"2141.00\" y1=\"2377.06\" x2=\"3824.49\" y2=\"2377.06\" style=\"stroke:#EAF2F3;stroke-width:7.34\"/>\n\t<line x1=\"2141.00\" y1=\"1775.25\" x2=\"3824.49\" y2=\"1775.25\" style=\"stroke:#EAF2F3;stroke-width:7.34\"/>\n\t<line x1=\"2141.00\" y1=\"1173.43\" x2=\"3824.49\" y2=\"1173.43\" style=\"stroke:#EAF2F3;stroke-width:7.34\"/>\n\t<line x1=\"2141.00\" y1=\"571.62\" x2=\"3824.49\" y2=\"571.62\" style=\"stroke:#EAF2F3;stroke-width:7.34\"/>\n\t<rect x=\"556.50\" y=\"2304.42\" width=\"48.76\" height=\"72.64\" style=\"fill:#CAC27E\"/>\n\t<rect x=\"560.18\" y=\"2308.09\" width=\"41.41\" height=\"65.30\" style=\"fill:none;stroke:#D7D29E;stroke-width:7.34\"/>\n\t<rect x=\"605.26\" y=\"2304.42\" width=\"48.76\" height=\"72.64\" style=\"fill:#CAC27E\"/>\n\t<rect x=\"608.93\" y=\"2308.09\" width=\"41.41\" height=\"65.30\" style=\"fill:none;stroke:#D7D29E;stroke-width:7.34\"/>\n\t<rect x=\"654.02\" y=\"2231.65\" width=\"48.63\" height=\"145.41\" style=\"fill:#CAC27E\"/>\n\t<rect x=\"657.69\" y=\"2235.33\" width=\"41.29\" height=\"138.07\" style=\"fill:none;stroke:#D7D29E;stroke-width:7.34\"/>\n\t<rect x=\"702.65\" y=\"2159.01\" width=\"48.76\" height=\"218.05\" style=\"fill:#CAC27E\"/>\n\t<rect x=\"706.32\" y=\"2162.68\" width=\"41.41\" height=\"210.71\" style=\"fill:none;stroke:#D7D29E;stroke-width:7.34\"/>\n\t<rect x=\"751.41\" y=\"2013.60\" width=\"48.76\" height=\"363.47\" style=\"fill:#CAC27E\"/>\n\t<rect x=\"755.08\" y=\"2017.27\" width=\"41.41\" height=\"356.12\" style=\"fill:none;stroke:#D7D29E;stroke-width:7.34\"/>\n\t<rect x=\"800.17\" y=\"1940.83\" width=\"48.63\" height=\"436.23\" style=\"fill:#CAC27E\"/>\n\t<rect x=\"803.84\" y=\"1944.50\" width=\"41.29\" height=\"428.89\" style=\"fill:none;stroke:#D7D29E;stroke-width:7.34\"/>\n\t<rect x=\"848.80\" y=\"1795.42\" width=\"48.76\" height=\"581.64\" style=\"fill:#CAC27E\"/>\n\t<rect x=\"852.47\" y=\"1799.09\" width=\"41.41\" height=\"574.30\" style=\"fill:none;stroke:#D7D29E;stroke-width:7.34\"/>\n\t<rect x=\"897.56\" y=\"1831.80\" width=\"48.76\" height=\"545.26\" style=\"fill:#CAC27E\"/>\n\t<rect x=\"901.23\" y=\"1835.48\" width=\"41.41\" height=\"537.92\" style=\"fill:none;stroke:#D7D29E;stroke-width:7.34\"/>\n\t<rect x=\"946.32\" y=\"1540.98\" width=\"48.63\" height=\"836.08\" style=\"fill:#CAC27E\"/>\n\t<rect x=\"949.99\" y=\"1544.66\" width=\"41.29\" height=\"828.74\" style=\"fill:none;stroke:#D7D29E;stroke-width:7.34\"/>\n\t<rect x=\"994.95\" y=\"886.57\" width=\"48.76\" height=\"1490.49\" style=\"fill:#CAC27E\"/>\n\t<rect x=\"998.62\" y=\"890.24\" width=\"41.41\" height=\"1483.15\" style=\"fill:none;stroke:#D7D29E;stroke-width:7.34\"/>\n\t<rect x=\"1043.71\" y=\"1068.37\" width=\"48.76\" height=\"1308.70\" style=\"fill:#CAC27E\"/>\n\t<rect x=\"1047.38\" y=\"1072.04\" width=\"41.41\" height=\"1301.35\" style=\"fill:none;stroke:#D7D29E;stroke-width:7.34\"/>\n\t<rect x=\"1092.46\" y=\"1031.98\" width=\"48.63\" height=\"1345.08\" style=\"fill:#CAC27E\"/>\n\t<rect x=\"1096.14\" y=\"1035.66\" width=\"41.29\" height=\"1337.74\" style=\"fill:none;stroke:#D7D29E;stroke-width:7.34\"/>\n\t<rect x=\"1141.10\" y=\"559.37\" width=\"48.76\" height=\"1817.70\" style=\"fill:#CAC27E\"/>\n\t<rect x=\"1144.77\" y=\"563.04\" width=\"41.41\" height=\"1810.35\" style=\"fill:none;stroke:#D7D29E;stroke-width:7.34\"/>\n\t<rect x=\"1189.86\" y=\"486.60\" width=\"48.76\" height=\"1890.46\" style=\"fill:#CAC27E\"/>\n\t<rect x=\"1193.53\" y=\"490.27\" width=\"41.41\" height=\"1883.12\" style=\"fill:none;stroke:#D7D29E;stroke-width:7.34\"/>\n\t<rect x=\"1238.61\" y=\"1068.37\" width=\"48.63\" height=\"1308.70\" style=\"fill:#CAC27E\"/>\n\t<rect x=\"1242.29\" y=\"1072.04\" width=\"41.29\" height=\"1301.35\" style=\"fill:none;stroke:#D7D29E;stroke-width:7.34\"/>\n\t<rect x=\"1287.25\" y=\"995.60\" width=\"48.76\" height=\"1381.46\" style=\"fill:#CAC27E\"/>\n\t<rect x=\"1290.92\" y=\"999.27\" width=\"41.41\" height=\"1374.12\" style=\"fill:none;stroke:#D7D29E;stroke-width:7.34\"/>\n\t<rect x=\"1336.01\" y=\"1250.16\" width=\"48.76\" height=\"1126.90\" style=\"fill:#CAC27E\"/>\n\t<rect x=\"1339.68\" y=\"1253.83\" width=\"41.41\" height=\"1119.56\" style=\"fill:none;stroke:#D7D29E;stroke-width:7.34\"/>\n\t<rect x=\"1384.76\" y=\"1540.98\" width=\"48.63\" height=\"836.08\" style=\"fill:#CAC27E\"/>\n\t<rect x=\"1388.43\" y=\"1544.66\" width=\"41.29\" height=\"828.74\" style=\"fill:none;stroke:#D7D29E;stroke-width:7.34\"/>\n\t<rect x=\"1433.40\" y=\"1431.83\" width=\"48.76\" height=\"945.23\" style=\"fill:#CAC27E\"/>\n\t<rect x=\"1437.07\" y=\"1435.50\" width=\"41.41\" height=\"937.89\" style=\"fill:none;stroke:#D7D29E;stroke-width:7.34\"/>\n\t<rect x=\"1482.15\" y=\"1904.45\" width=\"48.76\" height=\"472.62\" style=\"fill:#CAC27E\"/>\n\t<rect x=\"1485.83\" y=\"1908.12\" width=\"41.41\" height=\"465.27\" style=\"fill:none;stroke:#D7D29E;stroke-width:7.34\"/>\n\t<rect x=\"1530.91\" y=\"2013.60\" width=\"48.63\" height=\"363.47\" style=\"fill:#CAC27E\"/>\n\t<rect x=\"1534.58\" y=\"2017.27\" width=\"41.29\" height=\"356.12\" style=\"fill:none;stroke:#D7D29E;stroke-width:7.34\"/>\n\t<rect x=\"1579.55\" y=\"2049.86\" width=\"48.76\" height=\"327.21\" style=\"fill:#CAC27E\"/>\n\t<rect x=\"1583.22\" y=\"2053.53\" width=\"41.41\" height=\"319.86\" style=\"fill:none;stroke:#D7D29E;stroke-width:7.34\"/>\n\t<rect x=\"1628.30\" y=\"2268.04\" width=\"48.76\" height=\"109.03\" style=\"fill:#CAC27E\"/>\n\t<rect x=\"1631.97\" y=\"2271.71\" width=\"41.41\" height=\"101.68\" style=\"fill:none;stroke:#D7D29E;stroke-width:7.34\"/>\n\t<rect x=\"1677.06\" y=\"2304.42\" width=\"48.63\" height=\"72.64\" style=\"fill:#CAC27E\"/>\n\t<rect x=\"1680.73\" y=\"2308.09\" width=\"41.29\" height=\"65.30\" style=\"fill:none;stroke:#D7D29E;stroke-width:7.34\"/>\n\t<rect x=\"1725.69\" y=\"2268.04\" width=\"48.76\" height=\"109.03\" style=\"fill:#CAC27E\"/>\n\t<rect x=\"1729.37\" y=\"2271.71\" width=\"41.41\" height=\"101.68\" style=\"fill:none;stroke:#D7D29E;stroke-width:7.34\"/>\n\t<rect x=\"1774.45\" y=\"2340.80\" width=\"48.76\" height=\"36.26\" style=\"fill:#CAC27E\"/>\n\t<rect x=\"1778.12\" y=\"2344.48\" width=\"41.41\" height=\"28.92\" style=\"fill:none;stroke:#D7D29E;stroke-width:7.34\"/>\n\t<rect x=\"1823.21\" y=\"2304.42\" width=\"48.63\" height=\"72.64\" style=\"fill:#CAC27E\"/>\n\t<rect x=\"1826.88\" y=\"2308.09\" width=\"41.29\" height=\"65.30\" style=\"fill:none;stroke:#D7D29E;stroke-width:7.34\"/>\n\t<rect x=\"2357.93\" y=\"2340.31\" width=\"48.63\" height=\"36.75\" style=\"fill:#CAC27E\"/>\n\t<rect x=\"2361.60\" y=\"2343.98\" width=\"41.29\" height=\"29.41\" style=\"fill:none;stroke:#D7D29E;stroke-width:7.34\"/>\n\t<rect x=\"2406.57\" y=\"2303.55\" width=\"48.76\" height=\"73.51\" style=\"fill:#CAC27E\"/>\n\t<rect x=\"2410.24\" y=\"2307.23\" width=\"41.41\" height=\"66.17\" style=\"fill:none;stroke:#D7D29E;stroke-width:7.34\"/>\n\t<rect x=\"2455.32\" y=\"2266.68\" width=\"48.76\" height=\"110.39\" style=\"fill:#CAC27E\"/>\n\t<rect x=\"2459.00\" y=\"2270.35\" width=\"41.41\" height=\"103.04\" style=\"fill:none;stroke:#D7D29E;stroke-width:7.34\"/>\n\t<rect x=\"2504.08\" y=\"2266.68\" width=\"48.63\" height=\"110.39\" style=\"fill:#CAC27E\"/>\n\t<rect x=\"2507.75\" y=\"2270.35\" width=\"41.29\" height=\"103.04\" style=\"fill:none;stroke:#D7D29E;stroke-width:7.34\"/>\n\t<rect x=\"2552.72\" y=\"1862.00\" width=\"48.76\" height=\"515.06\" style=\"fill:#CAC27E\"/>\n\t<rect x=\"2556.39\" y=\"1865.67\" width=\"41.41\" height=\"507.72\" style=\"fill:none;stroke:#D7D29E;stroke-width:7.34\"/>\n\t<rect x=\"2601.47\" y=\"1714.86\" width=\"48.76\" height=\"662.21\" style=\"fill:#CAC27E\"/>\n\t<rect x=\"2605.14\" y=\"1718.53\" width=\"41.41\" height=\"654.86\" style=\"fill:none;stroke:#D7D29E;stroke-width:7.34\"/>\n\t<rect x=\"2650.23\" y=\"1457.20\" width=\"48.63\" height=\"919.86\" style=\"fill:#CAC27E\"/>\n\t<rect x=\"2653.90\" y=\"1460.87\" width=\"41.29\" height=\"912.52\" style=\"fill:none;stroke:#D7D29E;stroke-width:7.34\"/>\n\t<rect x=\"2698.86\" y=\"1236.55\" width=\"48.76\" height=\"1140.52\" style=\"fill:#CAC27E\"/>\n\t<rect x=\"2702.54\" y=\"1240.22\" width=\"41.41\" height=\"1133.17\" style=\"fill:none;stroke:#D7D29E;stroke-width:7.34\"/>\n\t<rect x=\"2747.62\" y=\"1273.30\" width=\"48.76\" height=\"1103.76\" style=\"fill:#CAC27E\"/>\n\t<rect x=\"2751.29\" y=\"1276.98\" width=\"41.41\" height=\"1096.42\" style=\"fill:none;stroke:#D7D29E;stroke-width:7.34\"/>\n\t<rect x=\"2796.38\" y=\"1162.92\" width=\"48.63\" height=\"1214.15\" style=\"fill:#CAC27E\"/>\n\t<rect x=\"2800.05\" y=\"1166.59\" width=\"41.29\" height=\"1206.81\" style=\"fill:none;stroke:#D7D29E;stroke-width:7.34\"/>\n\t<rect x=\"2845.01\" y=\"905.38\" width=\"48.76\" height=\"1471.68\" style=\"fill:#CAC27E\"/>\n\t<rect x=\"2848.68\" y=\"909.06\" width=\"41.41\" height=\"1464.34\" style=\"fill:none;stroke:#D7D29E;stroke-width:7.34\"/>\n\t<rect x=\"2893.77\" y=\"537.46\" width=\"48.76\" height=\"1839.60\" style=\"fill:#CAC27E\"/>\n\t<rect x=\"2897.44\" y=\"541.13\" width=\"41.41\" height=\"1832.26\" style=\"fill:none;stroke:#D7D29E;stroke-width:7.34\"/>\n\t<rect x=\"2942.53\" y=\"500.58\" width=\"48.63\" height=\"1876.48\" style=\"fill:#CAC27E\"/>\n\t<rect x=\"2946.20\" y=\"504.26\" width=\"41.29\" height=\"1869.14\" style=\"fill:none;stroke:#D7D29E;stroke-width:7.34\"/>\n\t<rect x=\"2991.16\" y=\"1126.16\" width=\"48.76\" height=\"1250.90\" style=\"fill:#CAC27E\"/>\n\t<rect x=\"2994.83\" y=\"1129.83\" width=\"41.41\" height=\"1243.56\" style=\"fill:none;stroke:#D7D29E;stroke-width:7.34\"/>\n\t<rect x=\"3039.92\" y=\"1089.28\" width=\"48.76\" height=\"1287.78\" style=\"fill:#CAC27E\"/>\n\t<rect x=\"3043.59\" y=\"1092.95\" width=\"41.41\" height=\"1280.44\" style=\"fill:none;stroke:#D7D29E;stroke-width:7.34\"/>\n\t<rect x=\"3088.68\" y=\"1162.92\" width=\"48.63\" height=\"1214.15\" style=\"fill:#CAC27E\"/>\n\t<rect x=\"3092.35\" y=\"1166.59\" width=\"41.29\" height=\"1206.81\" style=\"fill:none;stroke:#D7D29E;stroke-width:7.34\"/>\n\t<rect x=\"3137.31\" y=\"1530.84\" width=\"48.76\" height=\"846.23\" style=\"fill:#CAC27E\"/>\n\t<rect x=\"3140.98\" y=\"1534.51\" width=\"41.41\" height=\"838.89\" style=\"fill:none;stroke:#D7D29E;stroke-width:7.34\"/>\n\t<rect x=\"3186.07\" y=\"1236.55\" width=\"48.76\" height=\"1140.52\" style=\"fill:#CAC27E\"/>\n\t<rect x=\"3189.74\" y=\"1240.22\" width=\"41.41\" height=\"1133.17\" style=\"fill:none;stroke:#D7D29E;stroke-width:7.34\"/>\n\t<rect x=\"3234.82\" y=\"1935.63\" width=\"48.63\" height=\"441.43\" style=\"fill:#CAC27E\"/>\n\t<rect x=\"3238.50\" y=\"1939.31\" width=\"41.29\" height=\"434.09\" style=\"fill:none;stroke:#D7D29E;stroke-width:7.34\"/>\n\t<rect x=\"3283.46\" y=\"1788.37\" width=\"48.76\" height=\"588.70\" style=\"fill:#CAC27E\"/>\n\t<rect x=\"3287.13\" y=\"1792.04\" width=\"41.41\" height=\"581.35\" style=\"fill:none;stroke:#D7D29E;stroke-width:7.34\"/>\n\t<rect x=\"3332.22\" y=\"2193.17\" width=\"48.76\" height=\"183.90\" style=\"fill:#CAC27E\"/>\n\t<rect x=\"3335.89\" y=\"2196.84\" width=\"41.41\" height=\"176.55\" style=\"fill:none;stroke:#D7D29E;stroke-width:7.34\"/>\n\t<rect x=\"3380.97\" y=\"2303.55\" width=\"48.63\" height=\"73.51\" style=\"fill:#CAC27E\"/>\n\t<rect x=\"3384.65\" y=\"2307.23\" width=\"41.29\" height=\"66.17\" style=\"fill:none;stroke:#D7D29E;stroke-width:7.34\"/>\n\t<rect x=\"3429.61\" y=\"2229.92\" width=\"48.76\" height=\"147.14\" style=\"fill:#CAC27E\"/>\n\t<rect x=\"3433.28\" y=\"2233.59\" width=\"41.41\" height=\"139.80\" style=\"fill:none;stroke:#D7D29E;stroke-width:7.34\"/>\n\t<rect x=\"3721.91\" y=\"2340.31\" width=\"48.76\" height=\"36.75\" style=\"fill:#CAC27E\"/>\n\t<rect x=\"3725.58\" y=\"2343.98\" width=\"41.41\" height=\"29.41\" style=\"fill:none;stroke:#D7D29E;stroke-width:7.34\"/>\n\t<line x1=\"388.33\" y1=\"2377.06\" x2=\"388.33\" y2=\"432.77\" style=\"stroke:#000000;stroke-width:4.90\"/>\n\t<line x1=\"388.33\" y1=\"2377.06\" x2=\"354.30\" y2=\"2377.06\" style=\"stroke:#000000;stroke-width:4.90\"/>\n\t<text x=\"311.78\" y=\"2377.06\" style=\"font-family:'Helvetica';font-size:85.02px;fill:#000000\" transform=\"rotate(-90 311.78,2377.06)\" text-anchor=\"middle\">0</text>\n\t<line x1=\"388.33\" y1=\"1775.25\" x2=\"354.30\" y2=\"1775.25\" style=\"stroke:#000000;stroke-width:4.90\"/>\n\t<text x=\"311.78\" y=\"1775.25\" style=\"font-family:'Helvetica';font-size:85.02px;fill:#000000\" transform=\"rotate(-90 311.78,1775.25)\" text-anchor=\"middle\">.05</text>\n\t<line x1=\"388.33\" y1=\"1173.43\" x2=\"354.30\" y2=\"1173.43\" style=\"stroke:#000000;stroke-width:4.90\"/>\n\t<text x=\"311.78\" y=\"1173.43\" style=\"font-family:'Helvetica';font-size:85.02px;fill:#000000\" transform=\"rotate(-90 311.78,1173.43)\" text-anchor=\"middle\">.1</text>\n\t<line x1=\"388.33\" y1=\"571.62\" x2=\"354.30\" y2=\"571.62\" style=\"stroke:#000000;stroke-width:4.90\"/>\n\t<text x=\"311.78\" y=\"571.62\" style=\"font-family:'Helvetica';font-size:85.02px;fill:#000000\" transform=\"rotate(-90 311.78,571.62)\" text-anchor=\"middle\">.15</text>\n\t<line x1=\"388.33\" y1=\"2377.06\" x2=\"2071.82\" y2=\"2377.06\" style=\"stroke:#000000;stroke-width:4.90\"/>\n\t<line x1=\"442.16\" y1=\"2377.06\" x2=\"442.16\" y2=\"2411.10\" style=\"stroke:#000000;stroke-width:4.90\"/>\n\t<text x=\"442.16\" y=\"2487.50\" style=\"font-family:'Helvetica';font-size:85.02px;fill:#000000\" text-anchor=\"middle\">10</text>\n\t<line x1=\"812.29\" y1=\"2377.06\" x2=\"812.29\" y2=\"2411.10\" style=\"stroke:#000000;stroke-width:4.90\"/>\n\t<text x=\"812.29\" y=\"2487.50\" style=\"font-family:'Helvetica';font-size:85.02px;fill:#000000\" text-anchor=\"middle\">15</text>\n\t<line x1=\"1182.31\" y1=\"2377.06\" x2=\"1182.31\" y2=\"2411.10\" style=\"stroke:#000000;stroke-width:4.90\"/>\n\t<text x=\"1182.31\" y=\"2487.50\" style=\"font-family:'Helvetica';font-size:85.02px;fill:#000000\" text-anchor=\"middle\">20</text>\n\t<line x1=\"1552.32\" y1=\"2377.06\" x2=\"1552.32\" y2=\"2411.10\" style=\"stroke:#000000;stroke-width:4.90\"/>\n\t<text x=\"1552.32\" y=\"2487.50\" style=\"font-family:'Helvetica';font-size:85.02px;fill:#000000\" text-anchor=\"middle\">25</text>\n\t<line x1=\"1922.46\" y1=\"2377.06\" x2=\"1922.46\" y2=\"2411.10\" style=\"stroke:#000000;stroke-width:4.90\"/>\n\t<text x=\"1922.46\" y=\"2487.50\" style=\"font-family:'Helvetica';font-size:85.02px;fill:#000000\" text-anchor=\"middle\">30</text>\n\t<line x1=\"2141.00\" y1=\"2377.06\" x2=\"3824.49\" y2=\"2377.06\" style=\"stroke:#000000;stroke-width:4.90\"/>\n\t<line x1=\"2194.83\" y1=\"2377.06\" x2=\"2194.83\" y2=\"2411.10\" style=\"stroke:#000000;stroke-width:4.90\"/>\n\t<text x=\"2194.83\" y=\"2487.50\" style=\"font-family:'Helvetica';font-size:85.02px;fill:#000000\" text-anchor=\"middle\">10</text>\n\t<line x1=\"2564.84\" y1=\"2377.06\" x2=\"2564.84\" y2=\"2411.10\" style=\"stroke:#000000;stroke-width:4.90\"/>\n\t<text x=\"2564.84\" y=\"2487.50\" style=\"font-family:'Helvetica';font-size:85.02px;fill:#000000\" text-anchor=\"middle\">15</text>\n\t<line x1=\"2934.98\" y1=\"2377.06\" x2=\"2934.98\" y2=\"2411.10\" style=\"stroke:#000000;stroke-width:4.90\"/>\n\t<text x=\"2934.98\" y=\"2487.50\" style=\"font-family:'Helvetica';font-size:85.02px;fill:#000000\" text-anchor=\"middle\">20</text>\n\t<line x1=\"3304.99\" y1=\"2377.06\" x2=\"3304.99\" y2=\"2411.10\" style=\"stroke:#000000;stroke-width:4.90\"/>\n\t<text x=\"3304.99\" y=\"2487.50\" style=\"font-family:'Helvetica';font-size:85.02px;fill:#000000\" text-anchor=\"middle\">25</text>\n\t<line x1=\"3675.13\" y1=\"2377.06\" x2=\"3675.13\" y2=\"2411.10\" style=\"stroke:#000000;stroke-width:4.90\"/>\n\t<text x=\"3675.13\" y=\"2487.50\" style=\"font-family:'Helvetica';font-size:85.02px;fill:#000000\" text-anchor=\"middle\">30</text>\n\t<rect x=\"388.33\" y=\"309.88\" width=\"1683.50\" height=\"122.89\" style=\"fill:#D9E6EB\"/>\n\t<rect x=\"390.78\" y=\"312.33\" width=\"1678.60\" height=\"117.99\" style=\"fill:none;stroke:#D9E6EB;stroke-width:4.90\"/>\n\t<text x=\"1230.08\" y=\"390.04\" style=\"font-family:'Helvetica';font-size:93.56px;fill:#000000\" text-anchor=\"middle\">0</text>\n\t<rect x=\"2141.00\" y=\"309.88\" width=\"1683.49\" height=\"122.89\" style=\"fill:#D9E6EB\"/>\n\t<rect x=\"2143.45\" y=\"312.33\" width=\"1678.60\" height=\"117.99\" style=\"fill:none;stroke:#D9E6EB;stroke-width:4.90\"/>\n\t<text x=\"2982.75\" y=\"390.04\" style=\"font-family:'Helvetica';font-size:93.56px;fill:#000000\" text-anchor=\"middle\">1</text>\n\t<text x=\"170.79\" y=\"1419.95\" style=\"font-family:'Helvetica';font-size:99.99px;fill:#000000\" transform=\"rotate(-90 170.79,1419.95)\" text-anchor=\"middle\">Density</text>\n\t<text x=\"2029.99\" y=\"2634.61\" style=\"font-family:'Helvetica';font-size:99.99px;fill:#000000\" text-anchor=\"middle\">amount of antibody</text>\n\t<text x=\"218.05\" y=\"2737.89\" style=\"font-family:'Helvetica';font-size:79.94px;fill:#000000\">Graphs by 1=receive Cov19 Vaccine, 0=receive placebo vaccine</text>\n\t<text x=\"2029.99\" y=\"215.98\" style=\"font-family:'Helvetica';font-size:139.96px;fill:#1E2D53\" text-anchor=\"middle\">Histogram of antiboy by vaccine</text>\n</svg>\n",
      "text/html": [
       "                <iframe frameborder=\"0\" scrolling=\"no\" height=\"436\" width=\"600\"                srcdoc=\"<html><body>&lt;?xml version=&quot;1.0&quot; encoding=&quot;UTF-8&quot; standalone=&quot;no&quot;?&gt;\n",
       "&lt;!-- This is a Stata 16.1 generated SVG file (http://www.stata.com) --&gt;\n",
       "\n",
       "&lt;svg version=&quot;1.1&quot; width=&quot;600px&quot; height=&quot;436px&quot; viewBox=&quot;0 0 3960 2880&quot; xmlns=&quot;http://www.w3.org/2000/svg&quot; xmlns:xlink=&quot;http://www.w3.org/1999/xlink&quot;&gt;\n",
       "\t&lt;desc&gt;Stata Graph - Graph&lt;/desc&gt;\n",
       "\t&lt;rect x=&quot;0&quot; y=&quot;0&quot; width=&quot;3960&quot; height=&quot;2880&quot; style=&quot;fill:#EAF2F3;stroke:none&quot;/&gt;\n",
       "\t&lt;rect x=&quot;0.00&quot; y=&quot;0.00&quot; width=&quot;3959.88&quot; height=&quot;2880.00&quot; style=&quot;fill:#EAF2F3&quot;/&gt;\n",
       "\t&lt;rect x=&quot;2.88&quot; y=&quot;2.88&quot; width=&quot;3954.12&quot; height=&quot;2874.24&quot; style=&quot;fill:none;stroke:#EAF2F3;stroke-width:5.76&quot;/&gt;\n",
       "\t&lt;rect x=&quot;388.33&quot; y=&quot;432.77&quot; width=&quot;1683.50&quot; height=&quot;1944.30&quot; style=&quot;fill:#FFFFFF&quot;/&gt;\n",
       "\t&lt;rect x=&quot;390.78&quot; y=&quot;435.22&quot; width=&quot;1678.60&quot; height=&quot;1939.40&quot; style=&quot;fill:none;stroke:#FFFFFF;stroke-width:4.90&quot;/&gt;\n",
       "\t&lt;line x1=&quot;388.33&quot; y1=&quot;2377.06&quot; x2=&quot;2071.82&quot; y2=&quot;2377.06&quot; style=&quot;stroke:#EAF2F3;stroke-width:7.34&quot;/&gt;\n",
       "\t&lt;line x1=&quot;388.33&quot; y1=&quot;1775.25&quot; x2=&quot;2071.82&quot; y2=&quot;1775.25&quot; style=&quot;stroke:#EAF2F3;stroke-width:7.34&quot;/&gt;\n",
       "\t&lt;line x1=&quot;388.33&quot; y1=&quot;1173.43&quot; x2=&quot;2071.82&quot; y2=&quot;1173.43&quot; style=&quot;stroke:#EAF2F3;stroke-width:7.34&quot;/&gt;\n",
       "\t&lt;line x1=&quot;388.33&quot; y1=&quot;571.62&quot; x2=&quot;2071.82&quot; y2=&quot;571.62&quot; style=&quot;stroke:#EAF2F3;stroke-width:7.34&quot;/&gt;\n",
       "\t&lt;rect x=&quot;2141.00&quot; y=&quot;432.77&quot; width=&quot;1683.49&quot; height=&quot;1944.30&quot; style=&quot;fill:#FFFFFF&quot;/&gt;\n",
       "\t&lt;rect x=&quot;2143.45&quot; y=&quot;435.22&quot; width=&quot;1678.60&quot; height=&quot;1939.40&quot; style=&quot;fill:none;stroke:#FFFFFF;stroke-width:4.90&quot;/&gt;\n",
       "\t&lt;line x1=&quot;2141.00&quot; y1=&quot;2377.06&quot; x2=&quot;3824.49&quot; y2=&quot;2377.06&quot; style=&quot;stroke:#EAF2F3;stroke-width:7.34&quot;/&gt;\n",
       "\t&lt;line x1=&quot;2141.00&quot; y1=&quot;1775.25&quot; x2=&quot;3824.49&quot; y2=&quot;1775.25&quot; style=&quot;stroke:#EAF2F3;stroke-width:7.34&quot;/&gt;\n",
       "\t&lt;line x1=&quot;2141.00&quot; y1=&quot;1173.43&quot; x2=&quot;3824.49&quot; y2=&quot;1173.43&quot; style=&quot;stroke:#EAF2F3;stroke-width:7.34&quot;/&gt;\n",
       "\t&lt;line x1=&quot;2141.00&quot; y1=&quot;571.62&quot; x2=&quot;3824.49&quot; y2=&quot;571.62&quot; style=&quot;stroke:#EAF2F3;stroke-width:7.34&quot;/&gt;\n",
       "\t&lt;rect x=&quot;556.50&quot; y=&quot;2304.42&quot; width=&quot;48.76&quot; height=&quot;72.64&quot; style=&quot;fill:#CAC27E&quot;/&gt;\n",
       "\t&lt;rect x=&quot;560.18&quot; y=&quot;2308.09&quot; width=&quot;41.41&quot; height=&quot;65.30&quot; style=&quot;fill:none;stroke:#D7D29E;stroke-width:7.34&quot;/&gt;\n",
       "\t&lt;rect x=&quot;605.26&quot; y=&quot;2304.42&quot; width=&quot;48.76&quot; height=&quot;72.64&quot; style=&quot;fill:#CAC27E&quot;/&gt;\n",
       "\t&lt;rect x=&quot;608.93&quot; y=&quot;2308.09&quot; width=&quot;41.41&quot; height=&quot;65.30&quot; style=&quot;fill:none;stroke:#D7D29E;stroke-width:7.34&quot;/&gt;\n",
       "\t&lt;rect x=&quot;654.02&quot; y=&quot;2231.65&quot; width=&quot;48.63&quot; height=&quot;145.41&quot; style=&quot;fill:#CAC27E&quot;/&gt;\n",
       "\t&lt;rect x=&quot;657.69&quot; y=&quot;2235.33&quot; width=&quot;41.29&quot; height=&quot;138.07&quot; style=&quot;fill:none;stroke:#D7D29E;stroke-width:7.34&quot;/&gt;\n",
       "\t&lt;rect x=&quot;702.65&quot; y=&quot;2159.01&quot; width=&quot;48.76&quot; height=&quot;218.05&quot; style=&quot;fill:#CAC27E&quot;/&gt;\n",
       "\t&lt;rect x=&quot;706.32&quot; y=&quot;2162.68&quot; width=&quot;41.41&quot; height=&quot;210.71&quot; style=&quot;fill:none;stroke:#D7D29E;stroke-width:7.34&quot;/&gt;\n",
       "\t&lt;rect x=&quot;751.41&quot; y=&quot;2013.60&quot; width=&quot;48.76&quot; height=&quot;363.47&quot; style=&quot;fill:#CAC27E&quot;/&gt;\n",
       "\t&lt;rect x=&quot;755.08&quot; y=&quot;2017.27&quot; width=&quot;41.41&quot; height=&quot;356.12&quot; style=&quot;fill:none;stroke:#D7D29E;stroke-width:7.34&quot;/&gt;\n",
       "\t&lt;rect x=&quot;800.17&quot; y=&quot;1940.83&quot; width=&quot;48.63&quot; height=&quot;436.23&quot; style=&quot;fill:#CAC27E&quot;/&gt;\n",
       "\t&lt;rect x=&quot;803.84&quot; y=&quot;1944.50&quot; width=&quot;41.29&quot; height=&quot;428.89&quot; style=&quot;fill:none;stroke:#D7D29E;stroke-width:7.34&quot;/&gt;\n",
       "\t&lt;rect x=&quot;848.80&quot; y=&quot;1795.42&quot; width=&quot;48.76&quot; height=&quot;581.64&quot; style=&quot;fill:#CAC27E&quot;/&gt;\n",
       "\t&lt;rect x=&quot;852.47&quot; y=&quot;1799.09&quot; width=&quot;41.41&quot; height=&quot;574.30&quot; style=&quot;fill:none;stroke:#D7D29E;stroke-width:7.34&quot;/&gt;\n",
       "\t&lt;rect x=&quot;897.56&quot; y=&quot;1831.80&quot; width=&quot;48.76&quot; height=&quot;545.26&quot; style=&quot;fill:#CAC27E&quot;/&gt;\n",
       "\t&lt;rect x=&quot;901.23&quot; y=&quot;1835.48&quot; width=&quot;41.41&quot; height=&quot;537.92&quot; style=&quot;fill:none;stroke:#D7D29E;stroke-width:7.34&quot;/&gt;\n",
       "\t&lt;rect x=&quot;946.32&quot; y=&quot;1540.98&quot; width=&quot;48.63&quot; height=&quot;836.08&quot; style=&quot;fill:#CAC27E&quot;/&gt;\n",
       "\t&lt;rect x=&quot;949.99&quot; y=&quot;1544.66&quot; width=&quot;41.29&quot; height=&quot;828.74&quot; style=&quot;fill:none;stroke:#D7D29E;stroke-width:7.34&quot;/&gt;\n",
       "\t&lt;rect x=&quot;994.95&quot; y=&quot;886.57&quot; width=&quot;48.76&quot; height=&quot;1490.49&quot; style=&quot;fill:#CAC27E&quot;/&gt;\n",
       "\t&lt;rect x=&quot;998.62&quot; y=&quot;890.24&quot; width=&quot;41.41&quot; height=&quot;1483.15&quot; style=&quot;fill:none;stroke:#D7D29E;stroke-width:7.34&quot;/&gt;\n",
       "\t&lt;rect x=&quot;1043.71&quot; y=&quot;1068.37&quot; width=&quot;48.76&quot; height=&quot;1308.70&quot; style=&quot;fill:#CAC27E&quot;/&gt;\n",
       "\t&lt;rect x=&quot;1047.38&quot; y=&quot;1072.04&quot; width=&quot;41.41&quot; height=&quot;1301.35&quot; style=&quot;fill:none;stroke:#D7D29E;stroke-width:7.34&quot;/&gt;\n",
       "\t&lt;rect x=&quot;1092.46&quot; y=&quot;1031.98&quot; width=&quot;48.63&quot; height=&quot;1345.08&quot; style=&quot;fill:#CAC27E&quot;/&gt;\n",
       "\t&lt;rect x=&quot;1096.14&quot; y=&quot;1035.66&quot; width=&quot;41.29&quot; height=&quot;1337.74&quot; style=&quot;fill:none;stroke:#D7D29E;stroke-width:7.34&quot;/&gt;\n",
       "\t&lt;rect x=&quot;1141.10&quot; y=&quot;559.37&quot; width=&quot;48.76&quot; height=&quot;1817.70&quot; style=&quot;fill:#CAC27E&quot;/&gt;\n",
       "\t&lt;rect x=&quot;1144.77&quot; y=&quot;563.04&quot; width=&quot;41.41&quot; height=&quot;1810.35&quot; style=&quot;fill:none;stroke:#D7D29E;stroke-width:7.34&quot;/&gt;\n",
       "\t&lt;rect x=&quot;1189.86&quot; y=&quot;486.60&quot; width=&quot;48.76&quot; height=&quot;1890.46&quot; style=&quot;fill:#CAC27E&quot;/&gt;\n",
       "\t&lt;rect x=&quot;1193.53&quot; y=&quot;490.27&quot; width=&quot;41.41&quot; height=&quot;1883.12&quot; style=&quot;fill:none;stroke:#D7D29E;stroke-width:7.34&quot;/&gt;\n",
       "\t&lt;rect x=&quot;1238.61&quot; y=&quot;1068.37&quot; width=&quot;48.63&quot; height=&quot;1308.70&quot; style=&quot;fill:#CAC27E&quot;/&gt;\n",
       "\t&lt;rect x=&quot;1242.29&quot; y=&quot;1072.04&quot; width=&quot;41.29&quot; height=&quot;1301.35&quot; style=&quot;fill:none;stroke:#D7D29E;stroke-width:7.34&quot;/&gt;\n",
       "\t&lt;rect x=&quot;1287.25&quot; y=&quot;995.60&quot; width=&quot;48.76&quot; height=&quot;1381.46&quot; style=&quot;fill:#CAC27E&quot;/&gt;\n",
       "\t&lt;rect x=&quot;1290.92&quot; y=&quot;999.27&quot; width=&quot;41.41&quot; height=&quot;1374.12&quot; style=&quot;fill:none;stroke:#D7D29E;stroke-width:7.34&quot;/&gt;\n",
       "\t&lt;rect x=&quot;1336.01&quot; y=&quot;1250.16&quot; width=&quot;48.76&quot; height=&quot;1126.90&quot; style=&quot;fill:#CAC27E&quot;/&gt;\n",
       "\t&lt;rect x=&quot;1339.68&quot; y=&quot;1253.83&quot; width=&quot;41.41&quot; height=&quot;1119.56&quot; style=&quot;fill:none;stroke:#D7D29E;stroke-width:7.34&quot;/&gt;\n",
       "\t&lt;rect x=&quot;1384.76&quot; y=&quot;1540.98&quot; width=&quot;48.63&quot; height=&quot;836.08&quot; style=&quot;fill:#CAC27E&quot;/&gt;\n",
       "\t&lt;rect x=&quot;1388.43&quot; y=&quot;1544.66&quot; width=&quot;41.29&quot; height=&quot;828.74&quot; style=&quot;fill:none;stroke:#D7D29E;stroke-width:7.34&quot;/&gt;\n",
       "\t&lt;rect x=&quot;1433.40&quot; y=&quot;1431.83&quot; width=&quot;48.76&quot; height=&quot;945.23&quot; style=&quot;fill:#CAC27E&quot;/&gt;\n",
       "\t&lt;rect x=&quot;1437.07&quot; y=&quot;1435.50&quot; width=&quot;41.41&quot; height=&quot;937.89&quot; style=&quot;fill:none;stroke:#D7D29E;stroke-width:7.34&quot;/&gt;\n",
       "\t&lt;rect x=&quot;1482.15&quot; y=&quot;1904.45&quot; width=&quot;48.76&quot; height=&quot;472.62&quot; style=&quot;fill:#CAC27E&quot;/&gt;\n",
       "\t&lt;rect x=&quot;1485.83&quot; y=&quot;1908.12&quot; width=&quot;41.41&quot; height=&quot;465.27&quot; style=&quot;fill:none;stroke:#D7D29E;stroke-width:7.34&quot;/&gt;\n",
       "\t&lt;rect x=&quot;1530.91&quot; y=&quot;2013.60&quot; width=&quot;48.63&quot; height=&quot;363.47&quot; style=&quot;fill:#CAC27E&quot;/&gt;\n",
       "\t&lt;rect x=&quot;1534.58&quot; y=&quot;2017.27&quot; width=&quot;41.29&quot; height=&quot;356.12&quot; style=&quot;fill:none;stroke:#D7D29E;stroke-width:7.34&quot;/&gt;\n",
       "\t&lt;rect x=&quot;1579.55&quot; y=&quot;2049.86&quot; width=&quot;48.76&quot; height=&quot;327.21&quot; style=&quot;fill:#CAC27E&quot;/&gt;\n",
       "\t&lt;rect x=&quot;1583.22&quot; y=&quot;2053.53&quot; width=&quot;41.41&quot; height=&quot;319.86&quot; style=&quot;fill:none;stroke:#D7D29E;stroke-width:7.34&quot;/&gt;\n",
       "\t&lt;rect x=&quot;1628.30&quot; y=&quot;2268.04&quot; width=&quot;48.76&quot; height=&quot;109.03&quot; style=&quot;fill:#CAC27E&quot;/&gt;\n",
       "\t&lt;rect x=&quot;1631.97&quot; y=&quot;2271.71&quot; width=&quot;41.41&quot; height=&quot;101.68&quot; style=&quot;fill:none;stroke:#D7D29E;stroke-width:7.34&quot;/&gt;\n",
       "\t&lt;rect x=&quot;1677.06&quot; y=&quot;2304.42&quot; width=&quot;48.63&quot; height=&quot;72.64&quot; style=&quot;fill:#CAC27E&quot;/&gt;\n",
       "\t&lt;rect x=&quot;1680.73&quot; y=&quot;2308.09&quot; width=&quot;41.29&quot; height=&quot;65.30&quot; style=&quot;fill:none;stroke:#D7D29E;stroke-width:7.34&quot;/&gt;\n",
       "\t&lt;rect x=&quot;1725.69&quot; y=&quot;2268.04&quot; width=&quot;48.76&quot; height=&quot;109.03&quot; style=&quot;fill:#CAC27E&quot;/&gt;\n",
       "\t&lt;rect x=&quot;1729.37&quot; y=&quot;2271.71&quot; width=&quot;41.41&quot; height=&quot;101.68&quot; style=&quot;fill:none;stroke:#D7D29E;stroke-width:7.34&quot;/&gt;\n",
       "\t&lt;rect x=&quot;1774.45&quot; y=&quot;2340.80&quot; width=&quot;48.76&quot; height=&quot;36.26&quot; style=&quot;fill:#CAC27E&quot;/&gt;\n",
       "\t&lt;rect x=&quot;1778.12&quot; y=&quot;2344.48&quot; width=&quot;41.41&quot; height=&quot;28.92&quot; style=&quot;fill:none;stroke:#D7D29E;stroke-width:7.34&quot;/&gt;\n",
       "\t&lt;rect x=&quot;1823.21&quot; y=&quot;2304.42&quot; width=&quot;48.63&quot; height=&quot;72.64&quot; style=&quot;fill:#CAC27E&quot;/&gt;\n",
       "\t&lt;rect x=&quot;1826.88&quot; y=&quot;2308.09&quot; width=&quot;41.29&quot; height=&quot;65.30&quot; style=&quot;fill:none;stroke:#D7D29E;stroke-width:7.34&quot;/&gt;\n",
       "\t&lt;rect x=&quot;2357.93&quot; y=&quot;2340.31&quot; width=&quot;48.63&quot; height=&quot;36.75&quot; style=&quot;fill:#CAC27E&quot;/&gt;\n",
       "\t&lt;rect x=&quot;2361.60&quot; y=&quot;2343.98&quot; width=&quot;41.29&quot; height=&quot;29.41&quot; style=&quot;fill:none;stroke:#D7D29E;stroke-width:7.34&quot;/&gt;\n",
       "\t&lt;rect x=&quot;2406.57&quot; y=&quot;2303.55&quot; width=&quot;48.76&quot; height=&quot;73.51&quot; style=&quot;fill:#CAC27E&quot;/&gt;\n",
       "\t&lt;rect x=&quot;2410.24&quot; y=&quot;2307.23&quot; width=&quot;41.41&quot; height=&quot;66.17&quot; style=&quot;fill:none;stroke:#D7D29E;stroke-width:7.34&quot;/&gt;\n",
       "\t&lt;rect x=&quot;2455.32&quot; y=&quot;2266.68&quot; width=&quot;48.76&quot; height=&quot;110.39&quot; style=&quot;fill:#CAC27E&quot;/&gt;\n",
       "\t&lt;rect x=&quot;2459.00&quot; y=&quot;2270.35&quot; width=&quot;41.41&quot; height=&quot;103.04&quot; style=&quot;fill:none;stroke:#D7D29E;stroke-width:7.34&quot;/&gt;\n",
       "\t&lt;rect x=&quot;2504.08&quot; y=&quot;2266.68&quot; width=&quot;48.63&quot; height=&quot;110.39&quot; style=&quot;fill:#CAC27E&quot;/&gt;\n",
       "\t&lt;rect x=&quot;2507.75&quot; y=&quot;2270.35&quot; width=&quot;41.29&quot; height=&quot;103.04&quot; style=&quot;fill:none;stroke:#D7D29E;stroke-width:7.34&quot;/&gt;\n",
       "\t&lt;rect x=&quot;2552.72&quot; y=&quot;1862.00&quot; width=&quot;48.76&quot; height=&quot;515.06&quot; style=&quot;fill:#CAC27E&quot;/&gt;\n",
       "\t&lt;rect x=&quot;2556.39&quot; y=&quot;1865.67&quot; width=&quot;41.41&quot; height=&quot;507.72&quot; style=&quot;fill:none;stroke:#D7D29E;stroke-width:7.34&quot;/&gt;\n",
       "\t&lt;rect x=&quot;2601.47&quot; y=&quot;1714.86&quot; width=&quot;48.76&quot; height=&quot;662.21&quot; style=&quot;fill:#CAC27E&quot;/&gt;\n",
       "\t&lt;rect x=&quot;2605.14&quot; y=&quot;1718.53&quot; width=&quot;41.41&quot; height=&quot;654.86&quot; style=&quot;fill:none;stroke:#D7D29E;stroke-width:7.34&quot;/&gt;\n",
       "\t&lt;rect x=&quot;2650.23&quot; y=&quot;1457.20&quot; width=&quot;48.63&quot; height=&quot;919.86&quot; style=&quot;fill:#CAC27E&quot;/&gt;\n",
       "\t&lt;rect x=&quot;2653.90&quot; y=&quot;1460.87&quot; width=&quot;41.29&quot; height=&quot;912.52&quot; style=&quot;fill:none;stroke:#D7D29E;stroke-width:7.34&quot;/&gt;\n",
       "\t&lt;rect x=&quot;2698.86&quot; y=&quot;1236.55&quot; width=&quot;48.76&quot; height=&quot;1140.52&quot; style=&quot;fill:#CAC27E&quot;/&gt;\n",
       "\t&lt;rect x=&quot;2702.54&quot; y=&quot;1240.22&quot; width=&quot;41.41&quot; height=&quot;1133.17&quot; style=&quot;fill:none;stroke:#D7D29E;stroke-width:7.34&quot;/&gt;\n",
       "\t&lt;rect x=&quot;2747.62&quot; y=&quot;1273.30&quot; width=&quot;48.76&quot; height=&quot;1103.76&quot; style=&quot;fill:#CAC27E&quot;/&gt;\n",
       "\t&lt;rect x=&quot;2751.29&quot; y=&quot;1276.98&quot; width=&quot;41.41&quot; height=&quot;1096.42&quot; style=&quot;fill:none;stroke:#D7D29E;stroke-width:7.34&quot;/&gt;\n",
       "\t&lt;rect x=&quot;2796.38&quot; y=&quot;1162.92&quot; width=&quot;48.63&quot; height=&quot;1214.15&quot; style=&quot;fill:#CAC27E&quot;/&gt;\n",
       "\t&lt;rect x=&quot;2800.05&quot; y=&quot;1166.59&quot; width=&quot;41.29&quot; height=&quot;1206.81&quot; style=&quot;fill:none;stroke:#D7D29E;stroke-width:7.34&quot;/&gt;\n",
       "\t&lt;rect x=&quot;2845.01&quot; y=&quot;905.38&quot; width=&quot;48.76&quot; height=&quot;1471.68&quot; style=&quot;fill:#CAC27E&quot;/&gt;\n",
       "\t&lt;rect x=&quot;2848.68&quot; y=&quot;909.06&quot; width=&quot;41.41&quot; height=&quot;1464.34&quot; style=&quot;fill:none;stroke:#D7D29E;stroke-width:7.34&quot;/&gt;\n",
       "\t&lt;rect x=&quot;2893.77&quot; y=&quot;537.46&quot; width=&quot;48.76&quot; height=&quot;1839.60&quot; style=&quot;fill:#CAC27E&quot;/&gt;\n",
       "\t&lt;rect x=&quot;2897.44&quot; y=&quot;541.13&quot; width=&quot;41.41&quot; height=&quot;1832.26&quot; style=&quot;fill:none;stroke:#D7D29E;stroke-width:7.34&quot;/&gt;\n",
       "\t&lt;rect x=&quot;2942.53&quot; y=&quot;500.58&quot; width=&quot;48.63&quot; height=&quot;1876.48&quot; style=&quot;fill:#CAC27E&quot;/&gt;\n",
       "\t&lt;rect x=&quot;2946.20&quot; y=&quot;504.26&quot; width=&quot;41.29&quot; height=&quot;1869.14&quot; style=&quot;fill:none;stroke:#D7D29E;stroke-width:7.34&quot;/&gt;\n",
       "\t&lt;rect x=&quot;2991.16&quot; y=&quot;1126.16&quot; width=&quot;48.76&quot; height=&quot;1250.90&quot; style=&quot;fill:#CAC27E&quot;/&gt;\n",
       "\t&lt;rect x=&quot;2994.83&quot; y=&quot;1129.83&quot; width=&quot;41.41&quot; height=&quot;1243.56&quot; style=&quot;fill:none;stroke:#D7D29E;stroke-width:7.34&quot;/&gt;\n",
       "\t&lt;rect x=&quot;3039.92&quot; y=&quot;1089.28&quot; width=&quot;48.76&quot; height=&quot;1287.78&quot; style=&quot;fill:#CAC27E&quot;/&gt;\n",
       "\t&lt;rect x=&quot;3043.59&quot; y=&quot;1092.95&quot; width=&quot;41.41&quot; height=&quot;1280.44&quot; style=&quot;fill:none;stroke:#D7D29E;stroke-width:7.34&quot;/&gt;\n",
       "\t&lt;rect x=&quot;3088.68&quot; y=&quot;1162.92&quot; width=&quot;48.63&quot; height=&quot;1214.15&quot; style=&quot;fill:#CAC27E&quot;/&gt;\n",
       "\t&lt;rect x=&quot;3092.35&quot; y=&quot;1166.59&quot; width=&quot;41.29&quot; height=&quot;1206.81&quot; style=&quot;fill:none;stroke:#D7D29E;stroke-width:7.34&quot;/&gt;\n",
       "\t&lt;rect x=&quot;3137.31&quot; y=&quot;1530.84&quot; width=&quot;48.76&quot; height=&quot;846.23&quot; style=&quot;fill:#CAC27E&quot;/&gt;\n",
       "\t&lt;rect x=&quot;3140.98&quot; y=&quot;1534.51&quot; width=&quot;41.41&quot; height=&quot;838.89&quot; style=&quot;fill:none;stroke:#D7D29E;stroke-width:7.34&quot;/&gt;\n",
       "\t&lt;rect x=&quot;3186.07&quot; y=&quot;1236.55&quot; width=&quot;48.76&quot; height=&quot;1140.52&quot; style=&quot;fill:#CAC27E&quot;/&gt;\n",
       "\t&lt;rect x=&quot;3189.74&quot; y=&quot;1240.22&quot; width=&quot;41.41&quot; height=&quot;1133.17&quot; style=&quot;fill:none;stroke:#D7D29E;stroke-width:7.34&quot;/&gt;\n",
       "\t&lt;rect x=&quot;3234.82&quot; y=&quot;1935.63&quot; width=&quot;48.63&quot; height=&quot;441.43&quot; style=&quot;fill:#CAC27E&quot;/&gt;\n",
       "\t&lt;rect x=&quot;3238.50&quot; y=&quot;1939.31&quot; width=&quot;41.29&quot; height=&quot;434.09&quot; style=&quot;fill:none;stroke:#D7D29E;stroke-width:7.34&quot;/&gt;\n",
       "\t&lt;rect x=&quot;3283.46&quot; y=&quot;1788.37&quot; width=&quot;48.76&quot; height=&quot;588.70&quot; style=&quot;fill:#CAC27E&quot;/&gt;\n",
       "\t&lt;rect x=&quot;3287.13&quot; y=&quot;1792.04&quot; width=&quot;41.41&quot; height=&quot;581.35&quot; style=&quot;fill:none;stroke:#D7D29E;stroke-width:7.34&quot;/&gt;\n",
       "\t&lt;rect x=&quot;3332.22&quot; y=&quot;2193.17&quot; width=&quot;48.76&quot; height=&quot;183.90&quot; style=&quot;fill:#CAC27E&quot;/&gt;\n",
       "\t&lt;rect x=&quot;3335.89&quot; y=&quot;2196.84&quot; width=&quot;41.41&quot; height=&quot;176.55&quot; style=&quot;fill:none;stroke:#D7D29E;stroke-width:7.34&quot;/&gt;\n",
       "\t&lt;rect x=&quot;3380.97&quot; y=&quot;2303.55&quot; width=&quot;48.63&quot; height=&quot;73.51&quot; style=&quot;fill:#CAC27E&quot;/&gt;\n",
       "\t&lt;rect x=&quot;3384.65&quot; y=&quot;2307.23&quot; width=&quot;41.29&quot; height=&quot;66.17&quot; style=&quot;fill:none;stroke:#D7D29E;stroke-width:7.34&quot;/&gt;\n",
       "\t&lt;rect x=&quot;3429.61&quot; y=&quot;2229.92&quot; width=&quot;48.76&quot; height=&quot;147.14&quot; style=&quot;fill:#CAC27E&quot;/&gt;\n",
       "\t&lt;rect x=&quot;3433.28&quot; y=&quot;2233.59&quot; width=&quot;41.41&quot; height=&quot;139.80&quot; style=&quot;fill:none;stroke:#D7D29E;stroke-width:7.34&quot;/&gt;\n",
       "\t&lt;rect x=&quot;3721.91&quot; y=&quot;2340.31&quot; width=&quot;48.76&quot; height=&quot;36.75&quot; style=&quot;fill:#CAC27E&quot;/&gt;\n",
       "\t&lt;rect x=&quot;3725.58&quot; y=&quot;2343.98&quot; width=&quot;41.41&quot; height=&quot;29.41&quot; style=&quot;fill:none;stroke:#D7D29E;stroke-width:7.34&quot;/&gt;\n",
       "\t&lt;line x1=&quot;388.33&quot; y1=&quot;2377.06&quot; x2=&quot;388.33&quot; y2=&quot;432.77&quot; style=&quot;stroke:#000000;stroke-width:4.90&quot;/&gt;\n",
       "\t&lt;line x1=&quot;388.33&quot; y1=&quot;2377.06&quot; x2=&quot;354.30&quot; y2=&quot;2377.06&quot; style=&quot;stroke:#000000;stroke-width:4.90&quot;/&gt;\n",
       "\t&lt;text x=&quot;311.78&quot; y=&quot;2377.06&quot; style=&quot;font-family:&#x27;Helvetica&#x27;;font-size:85.02px;fill:#000000&quot; transform=&quot;rotate(-90 311.78,2377.06)&quot; text-anchor=&quot;middle&quot;&gt;0&lt;/text&gt;\n",
       "\t&lt;line x1=&quot;388.33&quot; y1=&quot;1775.25&quot; x2=&quot;354.30&quot; y2=&quot;1775.25&quot; style=&quot;stroke:#000000;stroke-width:4.90&quot;/&gt;\n",
       "\t&lt;text x=&quot;311.78&quot; y=&quot;1775.25&quot; style=&quot;font-family:&#x27;Helvetica&#x27;;font-size:85.02px;fill:#000000&quot; transform=&quot;rotate(-90 311.78,1775.25)&quot; text-anchor=&quot;middle&quot;&gt;.05&lt;/text&gt;\n",
       "\t&lt;line x1=&quot;388.33&quot; y1=&quot;1173.43&quot; x2=&quot;354.30&quot; y2=&quot;1173.43&quot; style=&quot;stroke:#000000;stroke-width:4.90&quot;/&gt;\n",
       "\t&lt;text x=&quot;311.78&quot; y=&quot;1173.43&quot; style=&quot;font-family:&#x27;Helvetica&#x27;;font-size:85.02px;fill:#000000&quot; transform=&quot;rotate(-90 311.78,1173.43)&quot; text-anchor=&quot;middle&quot;&gt;.1&lt;/text&gt;\n",
       "\t&lt;line x1=&quot;388.33&quot; y1=&quot;571.62&quot; x2=&quot;354.30&quot; y2=&quot;571.62&quot; style=&quot;stroke:#000000;stroke-width:4.90&quot;/&gt;\n",
       "\t&lt;text x=&quot;311.78&quot; y=&quot;571.62&quot; style=&quot;font-family:&#x27;Helvetica&#x27;;font-size:85.02px;fill:#000000&quot; transform=&quot;rotate(-90 311.78,571.62)&quot; text-anchor=&quot;middle&quot;&gt;.15&lt;/text&gt;\n",
       "\t&lt;line x1=&quot;388.33&quot; y1=&quot;2377.06&quot; x2=&quot;2071.82&quot; y2=&quot;2377.06&quot; style=&quot;stroke:#000000;stroke-width:4.90&quot;/&gt;\n",
       "\t&lt;line x1=&quot;442.16&quot; y1=&quot;2377.06&quot; x2=&quot;442.16&quot; y2=&quot;2411.10&quot; style=&quot;stroke:#000000;stroke-width:4.90&quot;/&gt;\n",
       "\t&lt;text x=&quot;442.16&quot; y=&quot;2487.50&quot; style=&quot;font-family:&#x27;Helvetica&#x27;;font-size:85.02px;fill:#000000&quot; text-anchor=&quot;middle&quot;&gt;10&lt;/text&gt;\n",
       "\t&lt;line x1=&quot;812.29&quot; y1=&quot;2377.06&quot; x2=&quot;812.29&quot; y2=&quot;2411.10&quot; style=&quot;stroke:#000000;stroke-width:4.90&quot;/&gt;\n",
       "\t&lt;text x=&quot;812.29&quot; y=&quot;2487.50&quot; style=&quot;font-family:&#x27;Helvetica&#x27;;font-size:85.02px;fill:#000000&quot; text-anchor=&quot;middle&quot;&gt;15&lt;/text&gt;\n",
       "\t&lt;line x1=&quot;1182.31&quot; y1=&quot;2377.06&quot; x2=&quot;1182.31&quot; y2=&quot;2411.10&quot; style=&quot;stroke:#000000;stroke-width:4.90&quot;/&gt;\n",
       "\t&lt;text x=&quot;1182.31&quot; y=&quot;2487.50&quot; style=&quot;font-family:&#x27;Helvetica&#x27;;font-size:85.02px;fill:#000000&quot; text-anchor=&quot;middle&quot;&gt;20&lt;/text&gt;\n",
       "\t&lt;line x1=&quot;1552.32&quot; y1=&quot;2377.06&quot; x2=&quot;1552.32&quot; y2=&quot;2411.10&quot; style=&quot;stroke:#000000;stroke-width:4.90&quot;/&gt;\n",
       "\t&lt;text x=&quot;1552.32&quot; y=&quot;2487.50&quot; style=&quot;font-family:&#x27;Helvetica&#x27;;font-size:85.02px;fill:#000000&quot; text-anchor=&quot;middle&quot;&gt;25&lt;/text&gt;\n",
       "\t&lt;line x1=&quot;1922.46&quot; y1=&quot;2377.06&quot; x2=&quot;1922.46&quot; y2=&quot;2411.10&quot; style=&quot;stroke:#000000;stroke-width:4.90&quot;/&gt;\n",
       "\t&lt;text x=&quot;1922.46&quot; y=&quot;2487.50&quot; style=&quot;font-family:&#x27;Helvetica&#x27;;font-size:85.02px;fill:#000000&quot; text-anchor=&quot;middle&quot;&gt;30&lt;/text&gt;\n",
       "\t&lt;line x1=&quot;2141.00&quot; y1=&quot;2377.06&quot; x2=&quot;3824.49&quot; y2=&quot;2377.06&quot; style=&quot;stroke:#000000;stroke-width:4.90&quot;/&gt;\n",
       "\t&lt;line x1=&quot;2194.83&quot; y1=&quot;2377.06&quot; x2=&quot;2194.83&quot; y2=&quot;2411.10&quot; style=&quot;stroke:#000000;stroke-width:4.90&quot;/&gt;\n",
       "\t&lt;text x=&quot;2194.83&quot; y=&quot;2487.50&quot; style=&quot;font-family:&#x27;Helvetica&#x27;;font-size:85.02px;fill:#000000&quot; text-anchor=&quot;middle&quot;&gt;10&lt;/text&gt;\n",
       "\t&lt;line x1=&quot;2564.84&quot; y1=&quot;2377.06&quot; x2=&quot;2564.84&quot; y2=&quot;2411.10&quot; style=&quot;stroke:#000000;stroke-width:4.90&quot;/&gt;\n",
       "\t&lt;text x=&quot;2564.84&quot; y=&quot;2487.50&quot; style=&quot;font-family:&#x27;Helvetica&#x27;;font-size:85.02px;fill:#000000&quot; text-anchor=&quot;middle&quot;&gt;15&lt;/text&gt;\n",
       "\t&lt;line x1=&quot;2934.98&quot; y1=&quot;2377.06&quot; x2=&quot;2934.98&quot; y2=&quot;2411.10&quot; style=&quot;stroke:#000000;stroke-width:4.90&quot;/&gt;\n",
       "\t&lt;text x=&quot;2934.98&quot; y=&quot;2487.50&quot; style=&quot;font-family:&#x27;Helvetica&#x27;;font-size:85.02px;fill:#000000&quot; text-anchor=&quot;middle&quot;&gt;20&lt;/text&gt;\n",
       "\t&lt;line x1=&quot;3304.99&quot; y1=&quot;2377.06&quot; x2=&quot;3304.99&quot; y2=&quot;2411.10&quot; style=&quot;stroke:#000000;stroke-width:4.90&quot;/&gt;\n",
       "\t&lt;text x=&quot;3304.99&quot; y=&quot;2487.50&quot; style=&quot;font-family:&#x27;Helvetica&#x27;;font-size:85.02px;fill:#000000&quot; text-anchor=&quot;middle&quot;&gt;25&lt;/text&gt;\n",
       "\t&lt;line x1=&quot;3675.13&quot; y1=&quot;2377.06&quot; x2=&quot;3675.13&quot; y2=&quot;2411.10&quot; style=&quot;stroke:#000000;stroke-width:4.90&quot;/&gt;\n",
       "\t&lt;text x=&quot;3675.13&quot; y=&quot;2487.50&quot; style=&quot;font-family:&#x27;Helvetica&#x27;;font-size:85.02px;fill:#000000&quot; text-anchor=&quot;middle&quot;&gt;30&lt;/text&gt;\n",
       "\t&lt;rect x=&quot;388.33&quot; y=&quot;309.88&quot; width=&quot;1683.50&quot; height=&quot;122.89&quot; style=&quot;fill:#D9E6EB&quot;/&gt;\n",
       "\t&lt;rect x=&quot;390.78&quot; y=&quot;312.33&quot; width=&quot;1678.60&quot; height=&quot;117.99&quot; style=&quot;fill:none;stroke:#D9E6EB;stroke-width:4.90&quot;/&gt;\n",
       "\t&lt;text x=&quot;1230.08&quot; y=&quot;390.04&quot; style=&quot;font-family:&#x27;Helvetica&#x27;;font-size:93.56px;fill:#000000&quot; text-anchor=&quot;middle&quot;&gt;0&lt;/text&gt;\n",
       "\t&lt;rect x=&quot;2141.00&quot; y=&quot;309.88&quot; width=&quot;1683.49&quot; height=&quot;122.89&quot; style=&quot;fill:#D9E6EB&quot;/&gt;\n",
       "\t&lt;rect x=&quot;2143.45&quot; y=&quot;312.33&quot; width=&quot;1678.60&quot; height=&quot;117.99&quot; style=&quot;fill:none;stroke:#D9E6EB;stroke-width:4.90&quot;/&gt;\n",
       "\t&lt;text x=&quot;2982.75&quot; y=&quot;390.04&quot; style=&quot;font-family:&#x27;Helvetica&#x27;;font-size:93.56px;fill:#000000&quot; text-anchor=&quot;middle&quot;&gt;1&lt;/text&gt;\n",
       "\t&lt;text x=&quot;170.79&quot; y=&quot;1419.95&quot; style=&quot;font-family:&#x27;Helvetica&#x27;;font-size:99.99px;fill:#000000&quot; transform=&quot;rotate(-90 170.79,1419.95)&quot; text-anchor=&quot;middle&quot;&gt;Density&lt;/text&gt;\n",
       "\t&lt;text x=&quot;2029.99&quot; y=&quot;2634.61&quot; style=&quot;font-family:&#x27;Helvetica&#x27;;font-size:99.99px;fill:#000000&quot; text-anchor=&quot;middle&quot;&gt;amount of antibody&lt;/text&gt;\n",
       "\t&lt;text x=&quot;218.05&quot; y=&quot;2737.89&quot; style=&quot;font-family:&#x27;Helvetica&#x27;;font-size:79.94px;fill:#000000&quot;&gt;Graphs by 1=receive Cov19 Vaccine, 0=receive placebo vaccine&lt;/text&gt;\n",
       "\t&lt;text x=&quot;2029.99&quot; y=&quot;215.98&quot; style=&quot;font-family:&#x27;Helvetica&#x27;;font-size:139.96px;fill:#1E2D53&quot; text-anchor=&quot;middle&quot;&gt;Histogram of antiboy by vaccine&lt;/text&gt;\n",
       "&lt;/svg&gt;\n",
       "</body></html>\"></iframe>\n"
      ],
      "text/plain": [
       "This front-end cannot display the desired image type."
      ]
     },
     "metadata": {
      "image/svg+xml": {
       "height": 436,
       "width": 600
      },
      "text/html": {
       "height": 436,
       "width": 600
      }
     },
     "output_type": "display_data"
    }
   ],
   "source": [
    "// check balance of antibody with figure\n",
    "histogram antibody, by(treatment, title(\"Histogram of antiboy by vaccine\"))"
   ]
  },
  {
   "cell_type": "markdown",
   "metadata": {},
   "source": [
    "We can see from the statistics and figure, the treatment group and control\n",
    "group are quite matched in terms of distribution of antibody. How about \n",
    "other factors?"
   ]
  },
  {
   "cell_type": "code",
   "execution_count": 52,
   "metadata": {},
   "outputs": [
    {
     "name": "stdout",
     "output_type": "stream",
     "text": [
      "\n",
      "  1=receive |\n",
      "      Cov19 |\n",
      "   Vaccine, |\n",
      "  0=receive |\n",
      "    placebo |       Summary of value of age\n",
      "    vaccine |        Mean   Std. Dev.       Freq.\n",
      "------------+------------------------------------\n",
      "          0 |   39.524851   12.888847         503\n",
      "          1 |   38.808853   13.186843         497\n",
      "------------+------------------------------------\n",
      "      Total |      39.169   13.036195       1,000\n"
     ]
    }
   ],
   "source": [
    "// check balance for age\n",
    "tabulate treatment, summarize(age)"
   ]
  },
  {
   "cell_type": "code",
   "execution_count": 43,
   "metadata": {},
   "outputs": [
    {
     "data": {
      "application/pdf": "[encoded data removed]",
      "image/svg+xml": "<?xml version=\"1.0\" encoding=\"UTF-8\" standalone=\"no\"?>\n<!-- This is a Stata 16.1 generated SVG file (http://www.stata.com) -->\n\n<svg version=\"1.1\" width=\"600px\" height=\"436px\" viewBox=\"0 0 3960 2880\" xmlns=\"http://www.w3.org/2000/svg\" xmlns:xlink=\"http://www.w3.org/1999/xlink\">\n\t<desc>Stata Graph - Graph</desc>\n\t<rect x=\"0\" y=\"0\" width=\"3960\" height=\"2880\" style=\"fill:#EAF2F3;stroke:none\"/>\n\t<rect x=\"0.00\" y=\"0.00\" width=\"3959.88\" height=\"2880.00\" style=\"fill:#EAF2F3\"/>\n\t<rect x=\"2.88\" y=\"2.88\" width=\"3954.12\" height=\"2874.24\" style=\"fill:none;stroke:#EAF2F3;stroke-width:5.76\"/>\n\t<rect x=\"388.33\" y=\"432.77\" width=\"1683.50\" height=\"1944.30\" style=\"fill:#FFFFFF\"/>\n\t<rect x=\"390.78\" y=\"435.22\" width=\"1678.60\" height=\"1939.40\" style=\"fill:none;stroke:#FFFFFF;stroke-width:4.90\"/>\n\t<line x1=\"388.33\" y1=\"2377.06\" x2=\"2071.82\" y2=\"2377.06\" style=\"stroke:#EAF2F3;stroke-width:7.34\"/>\n\t<line x1=\"388.33\" y1=\"486.60\" x2=\"2071.82\" y2=\"486.60\" style=\"stroke:#EAF2F3;stroke-width:7.34\"/>\n\t<rect x=\"2141.00\" y=\"432.77\" width=\"1683.49\" height=\"1944.30\" style=\"fill:#FFFFFF\"/>\n\t<rect x=\"2143.45\" y=\"435.22\" width=\"1678.60\" height=\"1939.40\" style=\"fill:none;stroke:#FFFFFF;stroke-width:4.90\"/>\n\t<line x1=\"2141.00\" y1=\"2377.06\" x2=\"3824.49\" y2=\"2377.06\" style=\"stroke:#EAF2F3;stroke-width:7.34\"/>\n\t<line x1=\"2141.00\" y1=\"486.60\" x2=\"3824.49\" y2=\"486.60\" style=\"stroke:#EAF2F3;stroke-width:7.34\"/>\n\t<rect x=\"468.89\" y=\"1027.65\" width=\"53.46\" height=\"1349.41\" style=\"fill:#CAC27E\"/>\n\t<rect x=\"472.56\" y=\"1031.32\" width=\"46.12\" height=\"1342.07\" style=\"fill:none;stroke:#D7D29E;stroke-width:7.34\"/>\n\t<rect x=\"522.35\" y=\"1961.87\" width=\"53.34\" height=\"415.19\" style=\"fill:#CAC27E\"/>\n\t<rect x=\"526.02\" y=\"1965.54\" width=\"45.99\" height=\"407.85\" style=\"fill:none;stroke:#D7D29E;stroke-width:7.34\"/>\n\t<rect x=\"575.68\" y=\"1131.48\" width=\"53.46\" height=\"1245.58\" style=\"fill:#CAC27E\"/>\n\t<rect x=\"579.36\" y=\"1135.15\" width=\"46.12\" height=\"1238.24\" style=\"fill:none;stroke:#D7D29E;stroke-width:7.34\"/>\n\t<rect x=\"629.14\" y=\"1806.19\" width=\"53.46\" height=\"570.88\" style=\"fill:#CAC27E\"/>\n\t<rect x=\"632.82\" y=\"1809.86\" width=\"46.12\" height=\"563.53\" style=\"fill:none;stroke:#D7D29E;stroke-width:7.34\"/>\n\t<rect x=\"682.61\" y=\"1027.65\" width=\"53.34\" height=\"1349.41\" style=\"fill:#CAC27E\"/>\n\t<rect x=\"686.28\" y=\"1031.32\" width=\"45.99\" height=\"1342.07\" style=\"fill:none;stroke:#D7D29E;stroke-width:7.34\"/>\n\t<rect x=\"735.94\" y=\"1650.51\" width=\"53.46\" height=\"726.56\" style=\"fill:#CAC27E\"/>\n\t<rect x=\"739.61\" y=\"1654.18\" width=\"46.12\" height=\"719.22\" style=\"fill:none;stroke:#D7D29E;stroke-width:7.34\"/>\n\t<rect x=\"789.40\" y=\"820.12\" width=\"53.46\" height=\"1556.95\" style=\"fill:#CAC27E\"/>\n\t<rect x=\"793.07\" y=\"823.79\" width=\"46.12\" height=\"1549.60\" style=\"fill:none;stroke:#D7D29E;stroke-width:7.34\"/>\n\t<rect x=\"842.86\" y=\"2065.70\" width=\"53.34\" height=\"311.36\" style=\"fill:#CAC27E\"/>\n\t<rect x=\"846.53\" y=\"2069.37\" width=\"45.99\" height=\"304.02\" style=\"fill:none;stroke:#D7D29E;stroke-width:7.34\"/>\n\t<rect x=\"896.20\" y=\"1027.65\" width=\"53.46\" height=\"1349.41\" style=\"fill:#CAC27E\"/>\n\t<rect x=\"899.87\" y=\"1031.32\" width=\"46.12\" height=\"1342.07\" style=\"fill:none;stroke:#D7D29E;stroke-width:7.34\"/>\n\t<rect x=\"949.66\" y=\"2065.70\" width=\"53.46\" height=\"311.36\" style=\"fill:#CAC27E\"/>\n\t<rect x=\"953.33\" y=\"2069.37\" width=\"46.12\" height=\"304.02\" style=\"fill:none;stroke:#D7D29E;stroke-width:7.34\"/>\n\t<rect x=\"1003.12\" y=\"1910.02\" width=\"53.34\" height=\"467.05\" style=\"fill:#CAC27E\"/>\n\t<rect x=\"1006.79\" y=\"1913.69\" width=\"45.99\" height=\"459.70\" style=\"fill:none;stroke:#D7D29E;stroke-width:7.34\"/>\n\t<rect x=\"1056.45\" y=\"1390.99\" width=\"53.46\" height=\"986.07\" style=\"fill:#CAC27E\"/>\n\t<rect x=\"1060.13\" y=\"1394.67\" width=\"46.12\" height=\"978.73\" style=\"fill:none;stroke:#D7D29E;stroke-width:7.34\"/>\n\t<rect x=\"1109.91\" y=\"1598.53\" width=\"53.46\" height=\"778.54\" style=\"fill:#CAC27E\"/>\n\t<rect x=\"1113.59\" y=\"1602.20\" width=\"46.12\" height=\"771.19\" style=\"fill:none;stroke:#D7D29E;stroke-width:7.34\"/>\n\t<rect x=\"1163.37\" y=\"1339.14\" width=\"53.34\" height=\"1037.92\" style=\"fill:#CAC27E\"/>\n\t<rect x=\"1167.05\" y=\"1342.81\" width=\"45.99\" height=\"1030.58\" style=\"fill:none;stroke:#D7D29E;stroke-width:7.34\"/>\n\t<rect x=\"1216.71\" y=\"1961.87\" width=\"53.46\" height=\"415.19\" style=\"fill:#CAC27E\"/>\n\t<rect x=\"1220.38\" y=\"1965.54\" width=\"46.12\" height=\"407.85\" style=\"fill:none;stroke:#D7D29E;stroke-width:7.34\"/>\n\t<rect x=\"1270.17\" y=\"1287.16\" width=\"53.46\" height=\"1089.90\" style=\"fill:#CAC27E\"/>\n\t<rect x=\"1273.84\" y=\"1290.84\" width=\"46.12\" height=\"1082.56\" style=\"fill:none;stroke:#D7D29E;stroke-width:7.34\"/>\n\t<rect x=\"1323.63\" y=\"1858.04\" width=\"53.34\" height=\"519.02\" style=\"fill:#CAC27E\"/>\n\t<rect x=\"1327.30\" y=\"1861.71\" width=\"45.99\" height=\"511.68\" style=\"fill:none;stroke:#D7D29E;stroke-width:7.34\"/>\n\t<rect x=\"1376.97\" y=\"1079.63\" width=\"53.46\" height=\"1297.44\" style=\"fill:#CAC27E\"/>\n\t<rect x=\"1380.64\" y=\"1083.30\" width=\"46.12\" height=\"1290.09\" style=\"fill:none;stroke:#D7D29E;stroke-width:7.34\"/>\n\t<rect x=\"1430.43\" y=\"2065.70\" width=\"53.46\" height=\"311.36\" style=\"fill:#CAC27E\"/>\n\t<rect x=\"1434.10\" y=\"2069.37\" width=\"46.12\" height=\"304.02\" style=\"fill:none;stroke:#D7D29E;stroke-width:7.34\"/>\n\t<rect x=\"1483.89\" y=\"1858.04\" width=\"53.34\" height=\"519.02\" style=\"fill:#CAC27E\"/>\n\t<rect x=\"1487.56\" y=\"1861.71\" width=\"45.99\" height=\"511.68\" style=\"fill:none;stroke:#D7D29E;stroke-width:7.34\"/>\n\t<rect x=\"1537.22\" y=\"1494.82\" width=\"53.46\" height=\"882.24\" style=\"fill:#CAC27E\"/>\n\t<rect x=\"1540.89\" y=\"1498.49\" width=\"46.12\" height=\"874.90\" style=\"fill:none;stroke:#D7D29E;stroke-width:7.34\"/>\n\t<rect x=\"1590.68\" y=\"1598.53\" width=\"53.46\" height=\"778.54\" style=\"fill:#CAC27E\"/>\n\t<rect x=\"1594.35\" y=\"1602.20\" width=\"46.12\" height=\"771.19\" style=\"fill:none;stroke:#D7D29E;stroke-width:7.34\"/>\n\t<rect x=\"1644.14\" y=\"768.14\" width=\"53.34\" height=\"1608.92\" style=\"fill:#CAC27E\"/>\n\t<rect x=\"1647.81\" y=\"771.81\" width=\"45.99\" height=\"1601.58\" style=\"fill:none;stroke:#D7D29E;stroke-width:7.34\"/>\n\t<rect x=\"1697.48\" y=\"1754.33\" width=\"53.46\" height=\"622.73\" style=\"fill:#CAC27E\"/>\n\t<rect x=\"1701.15\" y=\"1758.01\" width=\"46.12\" height=\"615.39\" style=\"fill:none;stroke:#D7D29E;stroke-width:7.34\"/>\n\t<rect x=\"1750.94\" y=\"1079.63\" width=\"53.46\" height=\"1297.44\" style=\"fill:#CAC27E\"/>\n\t<rect x=\"1754.61\" y=\"1083.30\" width=\"46.12\" height=\"1290.09\" style=\"fill:none;stroke:#D7D29E;stroke-width:7.34\"/>\n\t<rect x=\"1804.40\" y=\"1650.51\" width=\"53.34\" height=\"726.56\" style=\"fill:#CAC27E\"/>\n\t<rect x=\"1808.07\" y=\"1654.18\" width=\"45.99\" height=\"719.22\" style=\"fill:none;stroke:#D7D29E;stroke-width:7.34\"/>\n\t<rect x=\"1857.73\" y=\"820.12\" width=\"53.46\" height=\"1556.95\" style=\"fill:#CAC27E\"/>\n\t<rect x=\"1861.41\" y=\"823.79\" width=\"46.12\" height=\"1549.60\" style=\"fill:none;stroke:#D7D29E;stroke-width:7.34\"/>\n\t<rect x=\"1911.19\" y=\"1858.04\" width=\"53.46\" height=\"519.02\" style=\"fill:#CAC27E\"/>\n\t<rect x=\"1914.87\" y=\"1861.71\" width=\"46.12\" height=\"511.68\" style=\"fill:none;stroke:#D7D29E;stroke-width:7.34\"/>\n\t<rect x=\"1964.65\" y=\"871.97\" width=\"53.34\" height=\"1505.09\" style=\"fill:#CAC27E\"/>\n\t<rect x=\"1968.33\" y=\"875.64\" width=\"45.99\" height=\"1497.75\" style=\"fill:none;stroke:#D7D29E;stroke-width:7.34\"/>\n\t<rect x=\"2221.56\" y=\"906.37\" width=\"53.46\" height=\"1470.69\" style=\"fill:#CAC27E\"/>\n\t<rect x=\"2225.23\" y=\"910.05\" width=\"46.12\" height=\"1463.35\" style=\"fill:none;stroke:#D7D29E;stroke-width:7.34\"/>\n\t<rect x=\"2275.02\" y=\"1956.92\" width=\"53.34\" height=\"420.14\" style=\"fill:#CAC27E\"/>\n\t<rect x=\"2278.69\" y=\"1960.59\" width=\"45.99\" height=\"412.80\" style=\"fill:none;stroke:#D7D29E;stroke-width:7.34\"/>\n\t<rect x=\"2328.36\" y=\"906.37\" width=\"53.46\" height=\"1470.69\" style=\"fill:#CAC27E\"/>\n\t<rect x=\"2332.03\" y=\"910.05\" width=\"46.12\" height=\"1463.35\" style=\"fill:none;stroke:#D7D29E;stroke-width:7.34\"/>\n\t<rect x=\"2381.82\" y=\"1694.19\" width=\"53.46\" height=\"682.87\" style=\"fill:#CAC27E\"/>\n\t<rect x=\"2385.49\" y=\"1697.86\" width=\"46.12\" height=\"675.53\" style=\"fill:none;stroke:#D7D29E;stroke-width:7.34\"/>\n\t<rect x=\"2435.28\" y=\"906.37\" width=\"53.34\" height=\"1470.69\" style=\"fill:#CAC27E\"/>\n\t<rect x=\"2438.95\" y=\"910.05\" width=\"45.99\" height=\"1463.35\" style=\"fill:none;stroke:#D7D29E;stroke-width:7.34\"/>\n\t<rect x=\"2488.61\" y=\"1694.19\" width=\"53.46\" height=\"682.87\" style=\"fill:#CAC27E\"/>\n\t<rect x=\"2492.28\" y=\"1697.86\" width=\"46.12\" height=\"675.53\" style=\"fill:none;stroke:#D7D29E;stroke-width:7.34\"/>\n\t<rect x=\"2542.07\" y=\"748.71\" width=\"53.46\" height=\"1628.35\" style=\"fill:#CAC27E\"/>\n\t<rect x=\"2545.74\" y=\"752.38\" width=\"46.12\" height=\"1621.01\" style=\"fill:none;stroke:#D7D29E;stroke-width:7.34\"/>\n\t<rect x=\"2595.53\" y=\"1746.79\" width=\"53.34\" height=\"630.28\" style=\"fill:#CAC27E\"/>\n\t<rect x=\"2599.20\" y=\"1750.46\" width=\"45.99\" height=\"622.93\" style=\"fill:none;stroke:#D7D29E;stroke-width:7.34\"/>\n\t<rect x=\"2648.87\" y=\"1274.05\" width=\"53.46\" height=\"1103.02\" style=\"fill:#CAC27E\"/>\n\t<rect x=\"2652.54\" y=\"1277.72\" width=\"46.12\" height=\"1095.67\" style=\"fill:none;stroke:#D7D29E;stroke-width:7.34\"/>\n\t<rect x=\"2702.33\" y=\"1851.85\" width=\"53.46\" height=\"525.21\" style=\"fill:#CAC27E\"/>\n\t<rect x=\"2706.00\" y=\"1855.52\" width=\"46.12\" height=\"517.87\" style=\"fill:none;stroke:#D7D29E;stroke-width:7.34\"/>\n\t<rect x=\"2755.79\" y=\"1746.79\" width=\"53.34\" height=\"630.28\" style=\"fill:#CAC27E\"/>\n\t<rect x=\"2759.46\" y=\"1750.46\" width=\"45.99\" height=\"622.93\" style=\"fill:none;stroke:#D7D29E;stroke-width:7.34\"/>\n\t<rect x=\"2809.12\" y=\"1694.19\" width=\"53.46\" height=\"682.87\" style=\"fill:#CAC27E\"/>\n\t<rect x=\"2812.80\" y=\"1697.86\" width=\"46.12\" height=\"675.53\" style=\"fill:none;stroke:#D7D29E;stroke-width:7.34\"/>\n\t<rect x=\"2862.59\" y=\"1851.85\" width=\"53.46\" height=\"525.21\" style=\"fill:#CAC27E\"/>\n\t<rect x=\"2866.26\" y=\"1855.52\" width=\"46.12\" height=\"517.87\" style=\"fill:none;stroke:#D7D29E;stroke-width:7.34\"/>\n\t<rect x=\"2916.05\" y=\"1326.52\" width=\"53.34\" height=\"1050.55\" style=\"fill:#CAC27E\"/>\n\t<rect x=\"2919.72\" y=\"1330.19\" width=\"45.99\" height=\"1043.20\" style=\"fill:none;stroke:#D7D29E;stroke-width:7.34\"/>\n\t<rect x=\"2969.38\" y=\"1536.65\" width=\"53.46\" height=\"840.41\" style=\"fill:#CAC27E\"/>\n\t<rect x=\"2973.05\" y=\"1540.32\" width=\"46.12\" height=\"833.07\" style=\"fill:none;stroke:#D7D29E;stroke-width:7.34\"/>\n\t<rect x=\"3022.84\" y=\"1063.91\" width=\"53.34\" height=\"1313.15\" style=\"fill:#CAC27E\"/>\n\t<rect x=\"3026.51\" y=\"1067.58\" width=\"45.99\" height=\"1305.81\" style=\"fill:none;stroke:#D7D29E;stroke-width:7.34\"/>\n\t<rect x=\"3076.18\" y=\"2009.39\" width=\"53.46\" height=\"367.67\" style=\"fill:#CAC27E\"/>\n\t<rect x=\"3079.85\" y=\"2013.06\" width=\"46.12\" height=\"360.33\" style=\"fill:none;stroke:#D7D29E;stroke-width:7.34\"/>\n\t<rect x=\"3129.64\" y=\"1431.58\" width=\"53.46\" height=\"945.48\" style=\"fill:#CAC27E\"/>\n\t<rect x=\"3133.31\" y=\"1435.26\" width=\"46.12\" height=\"938.14\" style=\"fill:none;stroke:#D7D29E;stroke-width:7.34\"/>\n\t<rect x=\"3183.10\" y=\"1904.32\" width=\"53.34\" height=\"472.74\" style=\"fill:#CAC27E\"/>\n\t<rect x=\"3186.77\" y=\"1908.00\" width=\"45.99\" height=\"465.40\" style=\"fill:none;stroke:#D7D29E;stroke-width:7.34\"/>\n\t<rect x=\"3236.43\" y=\"1956.92\" width=\"53.46\" height=\"420.14\" style=\"fill:#CAC27E\"/>\n\t<rect x=\"3240.11\" y=\"1960.59\" width=\"46.12\" height=\"412.80\" style=\"fill:none;stroke:#D7D29E;stroke-width:7.34\"/>\n\t<rect x=\"3289.89\" y=\"1694.19\" width=\"53.46\" height=\"682.87\" style=\"fill:#CAC27E\"/>\n\t<rect x=\"3293.57\" y=\"1697.86\" width=\"46.12\" height=\"675.53\" style=\"fill:none;stroke:#D7D29E;stroke-width:7.34\"/>\n\t<rect x=\"3343.35\" y=\"1694.19\" width=\"53.34\" height=\"682.87\" style=\"fill:#CAC27E\"/>\n\t<rect x=\"3347.03\" y=\"1697.86\" width=\"45.99\" height=\"675.53\" style=\"fill:none;stroke:#D7D29E;stroke-width:7.34\"/>\n\t<rect x=\"3396.69\" y=\"1274.05\" width=\"53.46\" height=\"1103.02\" style=\"fill:#CAC27E\"/>\n\t<rect x=\"3400.36\" y=\"1277.72\" width=\"46.12\" height=\"1095.67\" style=\"fill:none;stroke:#D7D29E;stroke-width:7.34\"/>\n\t<rect x=\"3450.15\" y=\"1956.92\" width=\"53.46\" height=\"420.14\" style=\"fill:#CAC27E\"/>\n\t<rect x=\"3453.82\" y=\"1960.59\" width=\"46.12\" height=\"412.80\" style=\"fill:none;stroke:#D7D29E;stroke-width:7.34\"/>\n\t<rect x=\"3503.61\" y=\"1379.11\" width=\"53.34\" height=\"997.95\" style=\"fill:#CAC27E\"/>\n\t<rect x=\"3507.28\" y=\"1382.78\" width=\"45.99\" height=\"990.61\" style=\"fill:none;stroke:#D7D29E;stroke-width:7.34\"/>\n\t<rect x=\"3556.95\" y=\"1694.19\" width=\"53.46\" height=\"682.87\" style=\"fill:#CAC27E\"/>\n\t<rect x=\"3560.62\" y=\"1697.86\" width=\"46.12\" height=\"675.53\" style=\"fill:none;stroke:#D7D29E;stroke-width:7.34\"/>\n\t<rect x=\"3610.41\" y=\"643.64\" width=\"53.46\" height=\"1733.42\" style=\"fill:#CAC27E\"/>\n\t<rect x=\"3614.08\" y=\"647.32\" width=\"46.12\" height=\"1726.08\" style=\"fill:none;stroke:#D7D29E;stroke-width:7.34\"/>\n\t<rect x=\"3663.87\" y=\"1431.58\" width=\"53.34\" height=\"945.48\" style=\"fill:#CAC27E\"/>\n\t<rect x=\"3667.54\" y=\"1435.26\" width=\"45.99\" height=\"938.14\" style=\"fill:none;stroke:#D7D29E;stroke-width:7.34\"/>\n\t<rect x=\"3717.20\" y=\"853.78\" width=\"53.46\" height=\"1523.29\" style=\"fill:#CAC27E\"/>\n\t<rect x=\"3720.87\" y=\"857.45\" width=\"46.12\" height=\"1515.94\" style=\"fill:none;stroke:#D7D29E;stroke-width:7.34\"/>\n\t<line x1=\"388.33\" y1=\"2377.06\" x2=\"388.33\" y2=\"432.77\" style=\"stroke:#000000;stroke-width:4.90\"/>\n\t<line x1=\"388.33\" y1=\"2377.06\" x2=\"354.30\" y2=\"2377.06\" style=\"stroke:#000000;stroke-width:4.90\"/>\n\t<text x=\"311.78\" y=\"2377.06\" style=\"font-family:'Helvetica';font-size:85.02px;fill:#000000\" transform=\"rotate(-90 311.78,2377.06)\" text-anchor=\"middle\">0</text>\n\t<line x1=\"388.33\" y1=\"486.60\" x2=\"354.30\" y2=\"486.60\" style=\"stroke:#000000;stroke-width:4.90\"/>\n\t<text x=\"311.78\" y=\"486.60\" style=\"font-family:'Helvetica';font-size:85.02px;fill:#000000\" transform=\"rotate(-90 311.78,486.60)\" text-anchor=\"middle\">.05</text>\n\t<line x1=\"388.33\" y1=\"2377.06\" x2=\"2071.82\" y2=\"2377.06\" style=\"stroke:#000000;stroke-width:4.90\"/>\n\t<line x1=\"542.64\" y1=\"2377.06\" x2=\"542.64\" y2=\"2411.10\" style=\"stroke:#000000;stroke-width:4.90\"/>\n\t<text x=\"542.64\" y=\"2487.50\" style=\"font-family:'Helvetica';font-size:85.02px;fill:#000000\" text-anchor=\"middle\">20</text>\n\t<line x1=\"911.54\" y1=\"2377.06\" x2=\"911.54\" y2=\"2411.10\" style=\"stroke:#000000;stroke-width:4.90\"/>\n\t<text x=\"911.54\" y=\"2487.50\" style=\"font-family:'Helvetica';font-size:85.02px;fill:#000000\" text-anchor=\"middle\">30</text>\n\t<line x1=\"1280.32\" y1=\"2377.06\" x2=\"1280.32\" y2=\"2411.10\" style=\"stroke:#000000;stroke-width:4.90\"/>\n\t<text x=\"1280.32\" y=\"2487.50\" style=\"font-family:'Helvetica';font-size:85.02px;fill:#000000\" text-anchor=\"middle\">40</text>\n\t<line x1=\"1649.22\" y1=\"2377.06\" x2=\"1649.22\" y2=\"2411.10\" style=\"stroke:#000000;stroke-width:4.90\"/>\n\t<text x=\"1649.22\" y=\"2487.50\" style=\"font-family:'Helvetica';font-size:85.02px;fill:#000000\" text-anchor=\"middle\">50</text>\n\t<line x1=\"2017.99\" y1=\"2377.06\" x2=\"2017.99\" y2=\"2411.10\" style=\"stroke:#000000;stroke-width:4.90\"/>\n\t<text x=\"2017.99\" y=\"2487.50\" style=\"font-family:'Helvetica';font-size:85.02px;fill:#000000\" text-anchor=\"middle\">60</text>\n\t<line x1=\"2141.00\" y1=\"2377.06\" x2=\"3824.49\" y2=\"2377.06\" style=\"stroke:#000000;stroke-width:4.90\"/>\n\t<line x1=\"2295.32\" y1=\"2377.06\" x2=\"2295.32\" y2=\"2411.10\" style=\"stroke:#000000;stroke-width:4.90\"/>\n\t<text x=\"2295.32\" y=\"2487.50\" style=\"font-family:'Helvetica';font-size:85.02px;fill:#000000\" text-anchor=\"middle\">20</text>\n\t<line x1=\"2664.21\" y1=\"2377.06\" x2=\"2664.21\" y2=\"2411.10\" style=\"stroke:#000000;stroke-width:4.90\"/>\n\t<text x=\"2664.21\" y=\"2487.50\" style=\"font-family:'Helvetica';font-size:85.02px;fill:#000000\" text-anchor=\"middle\">30</text>\n\t<line x1=\"3032.99\" y1=\"2377.06\" x2=\"3032.99\" y2=\"2411.10\" style=\"stroke:#000000;stroke-width:4.90\"/>\n\t<text x=\"3032.99\" y=\"2487.50\" style=\"font-family:'Helvetica';font-size:85.02px;fill:#000000\" text-anchor=\"middle\">40</text>\n\t<line x1=\"3401.89\" y1=\"2377.06\" x2=\"3401.89\" y2=\"2411.10\" style=\"stroke:#000000;stroke-width:4.90\"/>\n\t<text x=\"3401.89\" y=\"2487.50\" style=\"font-family:'Helvetica';font-size:85.02px;fill:#000000\" text-anchor=\"middle\">50</text>\n\t<line x1=\"3770.66\" y1=\"2377.06\" x2=\"3770.66\" y2=\"2411.10\" style=\"stroke:#000000;stroke-width:4.90\"/>\n\t<text x=\"3770.66\" y=\"2487.50\" style=\"font-family:'Helvetica';font-size:85.02px;fill:#000000\" text-anchor=\"middle\">60</text>\n\t<rect x=\"388.33\" y=\"309.88\" width=\"1683.50\" height=\"122.89\" style=\"fill:#D9E6EB\"/>\n\t<rect x=\"390.78\" y=\"312.33\" width=\"1678.60\" height=\"117.99\" style=\"fill:none;stroke:#D9E6EB;stroke-width:4.90\"/>\n\t<text x=\"1230.08\" y=\"390.04\" style=\"font-family:'Helvetica';font-size:93.56px;fill:#000000\" text-anchor=\"middle\">0</text>\n\t<rect x=\"2141.00\" y=\"309.88\" width=\"1683.49\" height=\"122.89\" style=\"fill:#D9E6EB\"/>\n\t<rect x=\"2143.45\" y=\"312.33\" width=\"1678.60\" height=\"117.99\" style=\"fill:none;stroke:#D9E6EB;stroke-width:4.90\"/>\n\t<text x=\"2982.75\" y=\"390.04\" style=\"font-family:'Helvetica';font-size:93.56px;fill:#000000\" text-anchor=\"middle\">1</text>\n\t<text x=\"170.79\" y=\"1419.95\" style=\"font-family:'Helvetica';font-size:99.99px;fill:#000000\" transform=\"rotate(-90 170.79,1419.95)\" text-anchor=\"middle\">Density</text>\n\t<text x=\"2029.99\" y=\"2634.61\" style=\"font-family:'Helvetica';font-size:99.99px;fill:#000000\" text-anchor=\"middle\">value of age</text>\n\t<text x=\"218.05\" y=\"2737.89\" style=\"font-family:'Helvetica';font-size:79.94px;fill:#000000\">Graphs by 1=receive Cov19 Vaccine, 0=receive placebo vaccine</text>\n\t<text x=\"2029.99\" y=\"215.98\" style=\"font-family:'Helvetica';font-size:139.96px;fill:#1E2D53\" text-anchor=\"middle\">Histogram of antiboy by vaccine</text>\n</svg>\n",
      "text/html": [
       "                <iframe frameborder=\"0\" scrolling=\"no\" height=\"436\" width=\"600\"                srcdoc=\"<html><body>&lt;?xml version=&quot;1.0&quot; encoding=&quot;UTF-8&quot; standalone=&quot;no&quot;?&gt;\n",
       "&lt;!-- This is a Stata 16.1 generated SVG file (http://www.stata.com) --&gt;\n",
       "\n",
       "&lt;svg version=&quot;1.1&quot; width=&quot;600px&quot; height=&quot;436px&quot; viewBox=&quot;0 0 3960 2880&quot; xmlns=&quot;http://www.w3.org/2000/svg&quot; xmlns:xlink=&quot;http://www.w3.org/1999/xlink&quot;&gt;\n",
       "\t&lt;desc&gt;Stata Graph - Graph&lt;/desc&gt;\n",
       "\t&lt;rect x=&quot;0&quot; y=&quot;0&quot; width=&quot;3960&quot; height=&quot;2880&quot; style=&quot;fill:#EAF2F3;stroke:none&quot;/&gt;\n",
       "\t&lt;rect x=&quot;0.00&quot; y=&quot;0.00&quot; width=&quot;3959.88&quot; height=&quot;2880.00&quot; style=&quot;fill:#EAF2F3&quot;/&gt;\n",
       "\t&lt;rect x=&quot;2.88&quot; y=&quot;2.88&quot; width=&quot;3954.12&quot; height=&quot;2874.24&quot; style=&quot;fill:none;stroke:#EAF2F3;stroke-width:5.76&quot;/&gt;\n",
       "\t&lt;rect x=&quot;388.33&quot; y=&quot;432.77&quot; width=&quot;1683.50&quot; height=&quot;1944.30&quot; style=&quot;fill:#FFFFFF&quot;/&gt;\n",
       "\t&lt;rect x=&quot;390.78&quot; y=&quot;435.22&quot; width=&quot;1678.60&quot; height=&quot;1939.40&quot; style=&quot;fill:none;stroke:#FFFFFF;stroke-width:4.90&quot;/&gt;\n",
       "\t&lt;line x1=&quot;388.33&quot; y1=&quot;2377.06&quot; x2=&quot;2071.82&quot; y2=&quot;2377.06&quot; style=&quot;stroke:#EAF2F3;stroke-width:7.34&quot;/&gt;\n",
       "\t&lt;line x1=&quot;388.33&quot; y1=&quot;486.60&quot; x2=&quot;2071.82&quot; y2=&quot;486.60&quot; style=&quot;stroke:#EAF2F3;stroke-width:7.34&quot;/&gt;\n",
       "\t&lt;rect x=&quot;2141.00&quot; y=&quot;432.77&quot; width=&quot;1683.49&quot; height=&quot;1944.30&quot; style=&quot;fill:#FFFFFF&quot;/&gt;\n",
       "\t&lt;rect x=&quot;2143.45&quot; y=&quot;435.22&quot; width=&quot;1678.60&quot; height=&quot;1939.40&quot; style=&quot;fill:none;stroke:#FFFFFF;stroke-width:4.90&quot;/&gt;\n",
       "\t&lt;line x1=&quot;2141.00&quot; y1=&quot;2377.06&quot; x2=&quot;3824.49&quot; y2=&quot;2377.06&quot; style=&quot;stroke:#EAF2F3;stroke-width:7.34&quot;/&gt;\n",
       "\t&lt;line x1=&quot;2141.00&quot; y1=&quot;486.60&quot; x2=&quot;3824.49&quot; y2=&quot;486.60&quot; style=&quot;stroke:#EAF2F3;stroke-width:7.34&quot;/&gt;\n",
       "\t&lt;rect x=&quot;468.89&quot; y=&quot;1027.65&quot; width=&quot;53.46&quot; height=&quot;1349.41&quot; style=&quot;fill:#CAC27E&quot;/&gt;\n",
       "\t&lt;rect x=&quot;472.56&quot; y=&quot;1031.32&quot; width=&quot;46.12&quot; height=&quot;1342.07&quot; style=&quot;fill:none;stroke:#D7D29E;stroke-width:7.34&quot;/&gt;\n",
       "\t&lt;rect x=&quot;522.35&quot; y=&quot;1961.87&quot; width=&quot;53.34&quot; height=&quot;415.19&quot; style=&quot;fill:#CAC27E&quot;/&gt;\n",
       "\t&lt;rect x=&quot;526.02&quot; y=&quot;1965.54&quot; width=&quot;45.99&quot; height=&quot;407.85&quot; style=&quot;fill:none;stroke:#D7D29E;stroke-width:7.34&quot;/&gt;\n",
       "\t&lt;rect x=&quot;575.68&quot; y=&quot;1131.48&quot; width=&quot;53.46&quot; height=&quot;1245.58&quot; style=&quot;fill:#CAC27E&quot;/&gt;\n",
       "\t&lt;rect x=&quot;579.36&quot; y=&quot;1135.15&quot; width=&quot;46.12&quot; height=&quot;1238.24&quot; style=&quot;fill:none;stroke:#D7D29E;stroke-width:7.34&quot;/&gt;\n",
       "\t&lt;rect x=&quot;629.14&quot; y=&quot;1806.19&quot; width=&quot;53.46&quot; height=&quot;570.88&quot; style=&quot;fill:#CAC27E&quot;/&gt;\n",
       "\t&lt;rect x=&quot;632.82&quot; y=&quot;1809.86&quot; width=&quot;46.12&quot; height=&quot;563.53&quot; style=&quot;fill:none;stroke:#D7D29E;stroke-width:7.34&quot;/&gt;\n",
       "\t&lt;rect x=&quot;682.61&quot; y=&quot;1027.65&quot; width=&quot;53.34&quot; height=&quot;1349.41&quot; style=&quot;fill:#CAC27E&quot;/&gt;\n",
       "\t&lt;rect x=&quot;686.28&quot; y=&quot;1031.32&quot; width=&quot;45.99&quot; height=&quot;1342.07&quot; style=&quot;fill:none;stroke:#D7D29E;stroke-width:7.34&quot;/&gt;\n",
       "\t&lt;rect x=&quot;735.94&quot; y=&quot;1650.51&quot; width=&quot;53.46&quot; height=&quot;726.56&quot; style=&quot;fill:#CAC27E&quot;/&gt;\n",
       "\t&lt;rect x=&quot;739.61&quot; y=&quot;1654.18&quot; width=&quot;46.12&quot; height=&quot;719.22&quot; style=&quot;fill:none;stroke:#D7D29E;stroke-width:7.34&quot;/&gt;\n",
       "\t&lt;rect x=&quot;789.40&quot; y=&quot;820.12&quot; width=&quot;53.46&quot; height=&quot;1556.95&quot; style=&quot;fill:#CAC27E&quot;/&gt;\n",
       "\t&lt;rect x=&quot;793.07&quot; y=&quot;823.79&quot; width=&quot;46.12&quot; height=&quot;1549.60&quot; style=&quot;fill:none;stroke:#D7D29E;stroke-width:7.34&quot;/&gt;\n",
       "\t&lt;rect x=&quot;842.86&quot; y=&quot;2065.70&quot; width=&quot;53.34&quot; height=&quot;311.36&quot; style=&quot;fill:#CAC27E&quot;/&gt;\n",
       "\t&lt;rect x=&quot;846.53&quot; y=&quot;2069.37&quot; width=&quot;45.99&quot; height=&quot;304.02&quot; style=&quot;fill:none;stroke:#D7D29E;stroke-width:7.34&quot;/&gt;\n",
       "\t&lt;rect x=&quot;896.20&quot; y=&quot;1027.65&quot; width=&quot;53.46&quot; height=&quot;1349.41&quot; style=&quot;fill:#CAC27E&quot;/&gt;\n",
       "\t&lt;rect x=&quot;899.87&quot; y=&quot;1031.32&quot; width=&quot;46.12&quot; height=&quot;1342.07&quot; style=&quot;fill:none;stroke:#D7D29E;stroke-width:7.34&quot;/&gt;\n",
       "\t&lt;rect x=&quot;949.66&quot; y=&quot;2065.70&quot; width=&quot;53.46&quot; height=&quot;311.36&quot; style=&quot;fill:#CAC27E&quot;/&gt;\n",
       "\t&lt;rect x=&quot;953.33&quot; y=&quot;2069.37&quot; width=&quot;46.12&quot; height=&quot;304.02&quot; style=&quot;fill:none;stroke:#D7D29E;stroke-width:7.34&quot;/&gt;\n",
       "\t&lt;rect x=&quot;1003.12&quot; y=&quot;1910.02&quot; width=&quot;53.34&quot; height=&quot;467.05&quot; style=&quot;fill:#CAC27E&quot;/&gt;\n",
       "\t&lt;rect x=&quot;1006.79&quot; y=&quot;1913.69&quot; width=&quot;45.99&quot; height=&quot;459.70&quot; style=&quot;fill:none;stroke:#D7D29E;stroke-width:7.34&quot;/&gt;\n",
       "\t&lt;rect x=&quot;1056.45&quot; y=&quot;1390.99&quot; width=&quot;53.46&quot; height=&quot;986.07&quot; style=&quot;fill:#CAC27E&quot;/&gt;\n",
       "\t&lt;rect x=&quot;1060.13&quot; y=&quot;1394.67&quot; width=&quot;46.12&quot; height=&quot;978.73&quot; style=&quot;fill:none;stroke:#D7D29E;stroke-width:7.34&quot;/&gt;\n",
       "\t&lt;rect x=&quot;1109.91&quot; y=&quot;1598.53&quot; width=&quot;53.46&quot; height=&quot;778.54&quot; style=&quot;fill:#CAC27E&quot;/&gt;\n",
       "\t&lt;rect x=&quot;1113.59&quot; y=&quot;1602.20&quot; width=&quot;46.12&quot; height=&quot;771.19&quot; style=&quot;fill:none;stroke:#D7D29E;stroke-width:7.34&quot;/&gt;\n",
       "\t&lt;rect x=&quot;1163.37&quot; y=&quot;1339.14&quot; width=&quot;53.34&quot; height=&quot;1037.92&quot; style=&quot;fill:#CAC27E&quot;/&gt;\n",
       "\t&lt;rect x=&quot;1167.05&quot; y=&quot;1342.81&quot; width=&quot;45.99&quot; height=&quot;1030.58&quot; style=&quot;fill:none;stroke:#D7D29E;stroke-width:7.34&quot;/&gt;\n",
       "\t&lt;rect x=&quot;1216.71&quot; y=&quot;1961.87&quot; width=&quot;53.46&quot; height=&quot;415.19&quot; style=&quot;fill:#CAC27E&quot;/&gt;\n",
       "\t&lt;rect x=&quot;1220.38&quot; y=&quot;1965.54&quot; width=&quot;46.12&quot; height=&quot;407.85&quot; style=&quot;fill:none;stroke:#D7D29E;stroke-width:7.34&quot;/&gt;\n",
       "\t&lt;rect x=&quot;1270.17&quot; y=&quot;1287.16&quot; width=&quot;53.46&quot; height=&quot;1089.90&quot; style=&quot;fill:#CAC27E&quot;/&gt;\n",
       "\t&lt;rect x=&quot;1273.84&quot; y=&quot;1290.84&quot; width=&quot;46.12&quot; height=&quot;1082.56&quot; style=&quot;fill:none;stroke:#D7D29E;stroke-width:7.34&quot;/&gt;\n",
       "\t&lt;rect x=&quot;1323.63&quot; y=&quot;1858.04&quot; width=&quot;53.34&quot; height=&quot;519.02&quot; style=&quot;fill:#CAC27E&quot;/&gt;\n",
       "\t&lt;rect x=&quot;1327.30&quot; y=&quot;1861.71&quot; width=&quot;45.99&quot; height=&quot;511.68&quot; style=&quot;fill:none;stroke:#D7D29E;stroke-width:7.34&quot;/&gt;\n",
       "\t&lt;rect x=&quot;1376.97&quot; y=&quot;1079.63&quot; width=&quot;53.46&quot; height=&quot;1297.44&quot; style=&quot;fill:#CAC27E&quot;/&gt;\n",
       "\t&lt;rect x=&quot;1380.64&quot; y=&quot;1083.30&quot; width=&quot;46.12&quot; height=&quot;1290.09&quot; style=&quot;fill:none;stroke:#D7D29E;stroke-width:7.34&quot;/&gt;\n",
       "\t&lt;rect x=&quot;1430.43&quot; y=&quot;2065.70&quot; width=&quot;53.46&quot; height=&quot;311.36&quot; style=&quot;fill:#CAC27E&quot;/&gt;\n",
       "\t&lt;rect x=&quot;1434.10&quot; y=&quot;2069.37&quot; width=&quot;46.12&quot; height=&quot;304.02&quot; style=&quot;fill:none;stroke:#D7D29E;stroke-width:7.34&quot;/&gt;\n",
       "\t&lt;rect x=&quot;1483.89&quot; y=&quot;1858.04&quot; width=&quot;53.34&quot; height=&quot;519.02&quot; style=&quot;fill:#CAC27E&quot;/&gt;\n",
       "\t&lt;rect x=&quot;1487.56&quot; y=&quot;1861.71&quot; width=&quot;45.99&quot; height=&quot;511.68&quot; style=&quot;fill:none;stroke:#D7D29E;stroke-width:7.34&quot;/&gt;\n",
       "\t&lt;rect x=&quot;1537.22&quot; y=&quot;1494.82&quot; width=&quot;53.46&quot; height=&quot;882.24&quot; style=&quot;fill:#CAC27E&quot;/&gt;\n",
       "\t&lt;rect x=&quot;1540.89&quot; y=&quot;1498.49&quot; width=&quot;46.12&quot; height=&quot;874.90&quot; style=&quot;fill:none;stroke:#D7D29E;stroke-width:7.34&quot;/&gt;\n",
       "\t&lt;rect x=&quot;1590.68&quot; y=&quot;1598.53&quot; width=&quot;53.46&quot; height=&quot;778.54&quot; style=&quot;fill:#CAC27E&quot;/&gt;\n",
       "\t&lt;rect x=&quot;1594.35&quot; y=&quot;1602.20&quot; width=&quot;46.12&quot; height=&quot;771.19&quot; style=&quot;fill:none;stroke:#D7D29E;stroke-width:7.34&quot;/&gt;\n",
       "\t&lt;rect x=&quot;1644.14&quot; y=&quot;768.14&quot; width=&quot;53.34&quot; height=&quot;1608.92&quot; style=&quot;fill:#CAC27E&quot;/&gt;\n",
       "\t&lt;rect x=&quot;1647.81&quot; y=&quot;771.81&quot; width=&quot;45.99&quot; height=&quot;1601.58&quot; style=&quot;fill:none;stroke:#D7D29E;stroke-width:7.34&quot;/&gt;\n",
       "\t&lt;rect x=&quot;1697.48&quot; y=&quot;1754.33&quot; width=&quot;53.46&quot; height=&quot;622.73&quot; style=&quot;fill:#CAC27E&quot;/&gt;\n",
       "\t&lt;rect x=&quot;1701.15&quot; y=&quot;1758.01&quot; width=&quot;46.12&quot; height=&quot;615.39&quot; style=&quot;fill:none;stroke:#D7D29E;stroke-width:7.34&quot;/&gt;\n",
       "\t&lt;rect x=&quot;1750.94&quot; y=&quot;1079.63&quot; width=&quot;53.46&quot; height=&quot;1297.44&quot; style=&quot;fill:#CAC27E&quot;/&gt;\n",
       "\t&lt;rect x=&quot;1754.61&quot; y=&quot;1083.30&quot; width=&quot;46.12&quot; height=&quot;1290.09&quot; style=&quot;fill:none;stroke:#D7D29E;stroke-width:7.34&quot;/&gt;\n",
       "\t&lt;rect x=&quot;1804.40&quot; y=&quot;1650.51&quot; width=&quot;53.34&quot; height=&quot;726.56&quot; style=&quot;fill:#CAC27E&quot;/&gt;\n",
       "\t&lt;rect x=&quot;1808.07&quot; y=&quot;1654.18&quot; width=&quot;45.99&quot; height=&quot;719.22&quot; style=&quot;fill:none;stroke:#D7D29E;stroke-width:7.34&quot;/&gt;\n",
       "\t&lt;rect x=&quot;1857.73&quot; y=&quot;820.12&quot; width=&quot;53.46&quot; height=&quot;1556.95&quot; style=&quot;fill:#CAC27E&quot;/&gt;\n",
       "\t&lt;rect x=&quot;1861.41&quot; y=&quot;823.79&quot; width=&quot;46.12&quot; height=&quot;1549.60&quot; style=&quot;fill:none;stroke:#D7D29E;stroke-width:7.34&quot;/&gt;\n",
       "\t&lt;rect x=&quot;1911.19&quot; y=&quot;1858.04&quot; width=&quot;53.46&quot; height=&quot;519.02&quot; style=&quot;fill:#CAC27E&quot;/&gt;\n",
       "\t&lt;rect x=&quot;1914.87&quot; y=&quot;1861.71&quot; width=&quot;46.12&quot; height=&quot;511.68&quot; style=&quot;fill:none;stroke:#D7D29E;stroke-width:7.34&quot;/&gt;\n",
       "\t&lt;rect x=&quot;1964.65&quot; y=&quot;871.97&quot; width=&quot;53.34&quot; height=&quot;1505.09&quot; style=&quot;fill:#CAC27E&quot;/&gt;\n",
       "\t&lt;rect x=&quot;1968.33&quot; y=&quot;875.64&quot; width=&quot;45.99&quot; height=&quot;1497.75&quot; style=&quot;fill:none;stroke:#D7D29E;stroke-width:7.34&quot;/&gt;\n",
       "\t&lt;rect x=&quot;2221.56&quot; y=&quot;906.37&quot; width=&quot;53.46&quot; height=&quot;1470.69&quot; style=&quot;fill:#CAC27E&quot;/&gt;\n",
       "\t&lt;rect x=&quot;2225.23&quot; y=&quot;910.05&quot; width=&quot;46.12&quot; height=&quot;1463.35&quot; style=&quot;fill:none;stroke:#D7D29E;stroke-width:7.34&quot;/&gt;\n",
       "\t&lt;rect x=&quot;2275.02&quot; y=&quot;1956.92&quot; width=&quot;53.34&quot; height=&quot;420.14&quot; style=&quot;fill:#CAC27E&quot;/&gt;\n",
       "\t&lt;rect x=&quot;2278.69&quot; y=&quot;1960.59&quot; width=&quot;45.99&quot; height=&quot;412.80&quot; style=&quot;fill:none;stroke:#D7D29E;stroke-width:7.34&quot;/&gt;\n",
       "\t&lt;rect x=&quot;2328.36&quot; y=&quot;906.37&quot; width=&quot;53.46&quot; height=&quot;1470.69&quot; style=&quot;fill:#CAC27E&quot;/&gt;\n",
       "\t&lt;rect x=&quot;2332.03&quot; y=&quot;910.05&quot; width=&quot;46.12&quot; height=&quot;1463.35&quot; style=&quot;fill:none;stroke:#D7D29E;stroke-width:7.34&quot;/&gt;\n",
       "\t&lt;rect x=&quot;2381.82&quot; y=&quot;1694.19&quot; width=&quot;53.46&quot; height=&quot;682.87&quot; style=&quot;fill:#CAC27E&quot;/&gt;\n",
       "\t&lt;rect x=&quot;2385.49&quot; y=&quot;1697.86&quot; width=&quot;46.12&quot; height=&quot;675.53&quot; style=&quot;fill:none;stroke:#D7D29E;stroke-width:7.34&quot;/&gt;\n",
       "\t&lt;rect x=&quot;2435.28&quot; y=&quot;906.37&quot; width=&quot;53.34&quot; height=&quot;1470.69&quot; style=&quot;fill:#CAC27E&quot;/&gt;\n",
       "\t&lt;rect x=&quot;2438.95&quot; y=&quot;910.05&quot; width=&quot;45.99&quot; height=&quot;1463.35&quot; style=&quot;fill:none;stroke:#D7D29E;stroke-width:7.34&quot;/&gt;\n",
       "\t&lt;rect x=&quot;2488.61&quot; y=&quot;1694.19&quot; width=&quot;53.46&quot; height=&quot;682.87&quot; style=&quot;fill:#CAC27E&quot;/&gt;\n",
       "\t&lt;rect x=&quot;2492.28&quot; y=&quot;1697.86&quot; width=&quot;46.12&quot; height=&quot;675.53&quot; style=&quot;fill:none;stroke:#D7D29E;stroke-width:7.34&quot;/&gt;\n",
       "\t&lt;rect x=&quot;2542.07&quot; y=&quot;748.71&quot; width=&quot;53.46&quot; height=&quot;1628.35&quot; style=&quot;fill:#CAC27E&quot;/&gt;\n",
       "\t&lt;rect x=&quot;2545.74&quot; y=&quot;752.38&quot; width=&quot;46.12&quot; height=&quot;1621.01&quot; style=&quot;fill:none;stroke:#D7D29E;stroke-width:7.34&quot;/&gt;\n",
       "\t&lt;rect x=&quot;2595.53&quot; y=&quot;1746.79&quot; width=&quot;53.34&quot; height=&quot;630.28&quot; style=&quot;fill:#CAC27E&quot;/&gt;\n",
       "\t&lt;rect x=&quot;2599.20&quot; y=&quot;1750.46&quot; width=&quot;45.99&quot; height=&quot;622.93&quot; style=&quot;fill:none;stroke:#D7D29E;stroke-width:7.34&quot;/&gt;\n",
       "\t&lt;rect x=&quot;2648.87&quot; y=&quot;1274.05&quot; width=&quot;53.46&quot; height=&quot;1103.02&quot; style=&quot;fill:#CAC27E&quot;/&gt;\n",
       "\t&lt;rect x=&quot;2652.54&quot; y=&quot;1277.72&quot; width=&quot;46.12&quot; height=&quot;1095.67&quot; style=&quot;fill:none;stroke:#D7D29E;stroke-width:7.34&quot;/&gt;\n",
       "\t&lt;rect x=&quot;2702.33&quot; y=&quot;1851.85&quot; width=&quot;53.46&quot; height=&quot;525.21&quot; style=&quot;fill:#CAC27E&quot;/&gt;\n",
       "\t&lt;rect x=&quot;2706.00&quot; y=&quot;1855.52&quot; width=&quot;46.12&quot; height=&quot;517.87&quot; style=&quot;fill:none;stroke:#D7D29E;stroke-width:7.34&quot;/&gt;\n",
       "\t&lt;rect x=&quot;2755.79&quot; y=&quot;1746.79&quot; width=&quot;53.34&quot; height=&quot;630.28&quot; style=&quot;fill:#CAC27E&quot;/&gt;\n",
       "\t&lt;rect x=&quot;2759.46&quot; y=&quot;1750.46&quot; width=&quot;45.99&quot; height=&quot;622.93&quot; style=&quot;fill:none;stroke:#D7D29E;stroke-width:7.34&quot;/&gt;\n",
       "\t&lt;rect x=&quot;2809.12&quot; y=&quot;1694.19&quot; width=&quot;53.46&quot; height=&quot;682.87&quot; style=&quot;fill:#CAC27E&quot;/&gt;\n",
       "\t&lt;rect x=&quot;2812.80&quot; y=&quot;1697.86&quot; width=&quot;46.12&quot; height=&quot;675.53&quot; style=&quot;fill:none;stroke:#D7D29E;stroke-width:7.34&quot;/&gt;\n",
       "\t&lt;rect x=&quot;2862.59&quot; y=&quot;1851.85&quot; width=&quot;53.46&quot; height=&quot;525.21&quot; style=&quot;fill:#CAC27E&quot;/&gt;\n",
       "\t&lt;rect x=&quot;2866.26&quot; y=&quot;1855.52&quot; width=&quot;46.12&quot; height=&quot;517.87&quot; style=&quot;fill:none;stroke:#D7D29E;stroke-width:7.34&quot;/&gt;\n",
       "\t&lt;rect x=&quot;2916.05&quot; y=&quot;1326.52&quot; width=&quot;53.34&quot; height=&quot;1050.55&quot; style=&quot;fill:#CAC27E&quot;/&gt;\n",
       "\t&lt;rect x=&quot;2919.72&quot; y=&quot;1330.19&quot; width=&quot;45.99&quot; height=&quot;1043.20&quot; style=&quot;fill:none;stroke:#D7D29E;stroke-width:7.34&quot;/&gt;\n",
       "\t&lt;rect x=&quot;2969.38&quot; y=&quot;1536.65&quot; width=&quot;53.46&quot; height=&quot;840.41&quot; style=&quot;fill:#CAC27E&quot;/&gt;\n",
       "\t&lt;rect x=&quot;2973.05&quot; y=&quot;1540.32&quot; width=&quot;46.12&quot; height=&quot;833.07&quot; style=&quot;fill:none;stroke:#D7D29E;stroke-width:7.34&quot;/&gt;\n",
       "\t&lt;rect x=&quot;3022.84&quot; y=&quot;1063.91&quot; width=&quot;53.34&quot; height=&quot;1313.15&quot; style=&quot;fill:#CAC27E&quot;/&gt;\n",
       "\t&lt;rect x=&quot;3026.51&quot; y=&quot;1067.58&quot; width=&quot;45.99&quot; height=&quot;1305.81&quot; style=&quot;fill:none;stroke:#D7D29E;stroke-width:7.34&quot;/&gt;\n",
       "\t&lt;rect x=&quot;3076.18&quot; y=&quot;2009.39&quot; width=&quot;53.46&quot; height=&quot;367.67&quot; style=&quot;fill:#CAC27E&quot;/&gt;\n",
       "\t&lt;rect x=&quot;3079.85&quot; y=&quot;2013.06&quot; width=&quot;46.12&quot; height=&quot;360.33&quot; style=&quot;fill:none;stroke:#D7D29E;stroke-width:7.34&quot;/&gt;\n",
       "\t&lt;rect x=&quot;3129.64&quot; y=&quot;1431.58&quot; width=&quot;53.46&quot; height=&quot;945.48&quot; style=&quot;fill:#CAC27E&quot;/&gt;\n",
       "\t&lt;rect x=&quot;3133.31&quot; y=&quot;1435.26&quot; width=&quot;46.12&quot; height=&quot;938.14&quot; style=&quot;fill:none;stroke:#D7D29E;stroke-width:7.34&quot;/&gt;\n",
       "\t&lt;rect x=&quot;3183.10&quot; y=&quot;1904.32&quot; width=&quot;53.34&quot; height=&quot;472.74&quot; style=&quot;fill:#CAC27E&quot;/&gt;\n",
       "\t&lt;rect x=&quot;3186.77&quot; y=&quot;1908.00&quot; width=&quot;45.99&quot; height=&quot;465.40&quot; style=&quot;fill:none;stroke:#D7D29E;stroke-width:7.34&quot;/&gt;\n",
       "\t&lt;rect x=&quot;3236.43&quot; y=&quot;1956.92&quot; width=&quot;53.46&quot; height=&quot;420.14&quot; style=&quot;fill:#CAC27E&quot;/&gt;\n",
       "\t&lt;rect x=&quot;3240.11&quot; y=&quot;1960.59&quot; width=&quot;46.12&quot; height=&quot;412.80&quot; style=&quot;fill:none;stroke:#D7D29E;stroke-width:7.34&quot;/&gt;\n",
       "\t&lt;rect x=&quot;3289.89&quot; y=&quot;1694.19&quot; width=&quot;53.46&quot; height=&quot;682.87&quot; style=&quot;fill:#CAC27E&quot;/&gt;\n",
       "\t&lt;rect x=&quot;3293.57&quot; y=&quot;1697.86&quot; width=&quot;46.12&quot; height=&quot;675.53&quot; style=&quot;fill:none;stroke:#D7D29E;stroke-width:7.34&quot;/&gt;\n",
       "\t&lt;rect x=&quot;3343.35&quot; y=&quot;1694.19&quot; width=&quot;53.34&quot; height=&quot;682.87&quot; style=&quot;fill:#CAC27E&quot;/&gt;\n",
       "\t&lt;rect x=&quot;3347.03&quot; y=&quot;1697.86&quot; width=&quot;45.99&quot; height=&quot;675.53&quot; style=&quot;fill:none;stroke:#D7D29E;stroke-width:7.34&quot;/&gt;\n",
       "\t&lt;rect x=&quot;3396.69&quot; y=&quot;1274.05&quot; width=&quot;53.46&quot; height=&quot;1103.02&quot; style=&quot;fill:#CAC27E&quot;/&gt;\n",
       "\t&lt;rect x=&quot;3400.36&quot; y=&quot;1277.72&quot; width=&quot;46.12&quot; height=&quot;1095.67&quot; style=&quot;fill:none;stroke:#D7D29E;stroke-width:7.34&quot;/&gt;\n",
       "\t&lt;rect x=&quot;3450.15&quot; y=&quot;1956.92&quot; width=&quot;53.46&quot; height=&quot;420.14&quot; style=&quot;fill:#CAC27E&quot;/&gt;\n",
       "\t&lt;rect x=&quot;3453.82&quot; y=&quot;1960.59&quot; width=&quot;46.12&quot; height=&quot;412.80&quot; style=&quot;fill:none;stroke:#D7D29E;stroke-width:7.34&quot;/&gt;\n",
       "\t&lt;rect x=&quot;3503.61&quot; y=&quot;1379.11&quot; width=&quot;53.34&quot; height=&quot;997.95&quot; style=&quot;fill:#CAC27E&quot;/&gt;\n",
       "\t&lt;rect x=&quot;3507.28&quot; y=&quot;1382.78&quot; width=&quot;45.99&quot; height=&quot;990.61&quot; style=&quot;fill:none;stroke:#D7D29E;stroke-width:7.34&quot;/&gt;\n",
       "\t&lt;rect x=&quot;3556.95&quot; y=&quot;1694.19&quot; width=&quot;53.46&quot; height=&quot;682.87&quot; style=&quot;fill:#CAC27E&quot;/&gt;\n",
       "\t&lt;rect x=&quot;3560.62&quot; y=&quot;1697.86&quot; width=&quot;46.12&quot; height=&quot;675.53&quot; style=&quot;fill:none;stroke:#D7D29E;stroke-width:7.34&quot;/&gt;\n",
       "\t&lt;rect x=&quot;3610.41&quot; y=&quot;643.64&quot; width=&quot;53.46&quot; height=&quot;1733.42&quot; style=&quot;fill:#CAC27E&quot;/&gt;\n",
       "\t&lt;rect x=&quot;3614.08&quot; y=&quot;647.32&quot; width=&quot;46.12&quot; height=&quot;1726.08&quot; style=&quot;fill:none;stroke:#D7D29E;stroke-width:7.34&quot;/&gt;\n",
       "\t&lt;rect x=&quot;3663.87&quot; y=&quot;1431.58&quot; width=&quot;53.34&quot; height=&quot;945.48&quot; style=&quot;fill:#CAC27E&quot;/&gt;\n",
       "\t&lt;rect x=&quot;3667.54&quot; y=&quot;1435.26&quot; width=&quot;45.99&quot; height=&quot;938.14&quot; style=&quot;fill:none;stroke:#D7D29E;stroke-width:7.34&quot;/&gt;\n",
       "\t&lt;rect x=&quot;3717.20&quot; y=&quot;853.78&quot; width=&quot;53.46&quot; height=&quot;1523.29&quot; style=&quot;fill:#CAC27E&quot;/&gt;\n",
       "\t&lt;rect x=&quot;3720.87&quot; y=&quot;857.45&quot; width=&quot;46.12&quot; height=&quot;1515.94&quot; style=&quot;fill:none;stroke:#D7D29E;stroke-width:7.34&quot;/&gt;\n",
       "\t&lt;line x1=&quot;388.33&quot; y1=&quot;2377.06&quot; x2=&quot;388.33&quot; y2=&quot;432.77&quot; style=&quot;stroke:#000000;stroke-width:4.90&quot;/&gt;\n",
       "\t&lt;line x1=&quot;388.33&quot; y1=&quot;2377.06&quot; x2=&quot;354.30&quot; y2=&quot;2377.06&quot; style=&quot;stroke:#000000;stroke-width:4.90&quot;/&gt;\n",
       "\t&lt;text x=&quot;311.78&quot; y=&quot;2377.06&quot; style=&quot;font-family:&#x27;Helvetica&#x27;;font-size:85.02px;fill:#000000&quot; transform=&quot;rotate(-90 311.78,2377.06)&quot; text-anchor=&quot;middle&quot;&gt;0&lt;/text&gt;\n",
       "\t&lt;line x1=&quot;388.33&quot; y1=&quot;486.60&quot; x2=&quot;354.30&quot; y2=&quot;486.60&quot; style=&quot;stroke:#000000;stroke-width:4.90&quot;/&gt;\n",
       "\t&lt;text x=&quot;311.78&quot; y=&quot;486.60&quot; style=&quot;font-family:&#x27;Helvetica&#x27;;font-size:85.02px;fill:#000000&quot; transform=&quot;rotate(-90 311.78,486.60)&quot; text-anchor=&quot;middle&quot;&gt;.05&lt;/text&gt;\n",
       "\t&lt;line x1=&quot;388.33&quot; y1=&quot;2377.06&quot; x2=&quot;2071.82&quot; y2=&quot;2377.06&quot; style=&quot;stroke:#000000;stroke-width:4.90&quot;/&gt;\n",
       "\t&lt;line x1=&quot;542.64&quot; y1=&quot;2377.06&quot; x2=&quot;542.64&quot; y2=&quot;2411.10&quot; style=&quot;stroke:#000000;stroke-width:4.90&quot;/&gt;\n",
       "\t&lt;text x=&quot;542.64&quot; y=&quot;2487.50&quot; style=&quot;font-family:&#x27;Helvetica&#x27;;font-size:85.02px;fill:#000000&quot; text-anchor=&quot;middle&quot;&gt;20&lt;/text&gt;\n",
       "\t&lt;line x1=&quot;911.54&quot; y1=&quot;2377.06&quot; x2=&quot;911.54&quot; y2=&quot;2411.10&quot; style=&quot;stroke:#000000;stroke-width:4.90&quot;/&gt;\n",
       "\t&lt;text x=&quot;911.54&quot; y=&quot;2487.50&quot; style=&quot;font-family:&#x27;Helvetica&#x27;;font-size:85.02px;fill:#000000&quot; text-anchor=&quot;middle&quot;&gt;30&lt;/text&gt;\n",
       "\t&lt;line x1=&quot;1280.32&quot; y1=&quot;2377.06&quot; x2=&quot;1280.32&quot; y2=&quot;2411.10&quot; style=&quot;stroke:#000000;stroke-width:4.90&quot;/&gt;\n",
       "\t&lt;text x=&quot;1280.32&quot; y=&quot;2487.50&quot; style=&quot;font-family:&#x27;Helvetica&#x27;;font-size:85.02px;fill:#000000&quot; text-anchor=&quot;middle&quot;&gt;40&lt;/text&gt;\n",
       "\t&lt;line x1=&quot;1649.22&quot; y1=&quot;2377.06&quot; x2=&quot;1649.22&quot; y2=&quot;2411.10&quot; style=&quot;stroke:#000000;stroke-width:4.90&quot;/&gt;\n",
       "\t&lt;text x=&quot;1649.22&quot; y=&quot;2487.50&quot; style=&quot;font-family:&#x27;Helvetica&#x27;;font-size:85.02px;fill:#000000&quot; text-anchor=&quot;middle&quot;&gt;50&lt;/text&gt;\n",
       "\t&lt;line x1=&quot;2017.99&quot; y1=&quot;2377.06&quot; x2=&quot;2017.99&quot; y2=&quot;2411.10&quot; style=&quot;stroke:#000000;stroke-width:4.90&quot;/&gt;\n",
       "\t&lt;text x=&quot;2017.99&quot; y=&quot;2487.50&quot; style=&quot;font-family:&#x27;Helvetica&#x27;;font-size:85.02px;fill:#000000&quot; text-anchor=&quot;middle&quot;&gt;60&lt;/text&gt;\n",
       "\t&lt;line x1=&quot;2141.00&quot; y1=&quot;2377.06&quot; x2=&quot;3824.49&quot; y2=&quot;2377.06&quot; style=&quot;stroke:#000000;stroke-width:4.90&quot;/&gt;\n",
       "\t&lt;line x1=&quot;2295.32&quot; y1=&quot;2377.06&quot; x2=&quot;2295.32&quot; y2=&quot;2411.10&quot; style=&quot;stroke:#000000;stroke-width:4.90&quot;/&gt;\n",
       "\t&lt;text x=&quot;2295.32&quot; y=&quot;2487.50&quot; style=&quot;font-family:&#x27;Helvetica&#x27;;font-size:85.02px;fill:#000000&quot; text-anchor=&quot;middle&quot;&gt;20&lt;/text&gt;\n",
       "\t&lt;line x1=&quot;2664.21&quot; y1=&quot;2377.06&quot; x2=&quot;2664.21&quot; y2=&quot;2411.10&quot; style=&quot;stroke:#000000;stroke-width:4.90&quot;/&gt;\n",
       "\t&lt;text x=&quot;2664.21&quot; y=&quot;2487.50&quot; style=&quot;font-family:&#x27;Helvetica&#x27;;font-size:85.02px;fill:#000000&quot; text-anchor=&quot;middle&quot;&gt;30&lt;/text&gt;\n",
       "\t&lt;line x1=&quot;3032.99&quot; y1=&quot;2377.06&quot; x2=&quot;3032.99&quot; y2=&quot;2411.10&quot; style=&quot;stroke:#000000;stroke-width:4.90&quot;/&gt;\n",
       "\t&lt;text x=&quot;3032.99&quot; y=&quot;2487.50&quot; style=&quot;font-family:&#x27;Helvetica&#x27;;font-size:85.02px;fill:#000000&quot; text-anchor=&quot;middle&quot;&gt;40&lt;/text&gt;\n",
       "\t&lt;line x1=&quot;3401.89&quot; y1=&quot;2377.06&quot; x2=&quot;3401.89&quot; y2=&quot;2411.10&quot; style=&quot;stroke:#000000;stroke-width:4.90&quot;/&gt;\n",
       "\t&lt;text x=&quot;3401.89&quot; y=&quot;2487.50&quot; style=&quot;font-family:&#x27;Helvetica&#x27;;font-size:85.02px;fill:#000000&quot; text-anchor=&quot;middle&quot;&gt;50&lt;/text&gt;\n",
       "\t&lt;line x1=&quot;3770.66&quot; y1=&quot;2377.06&quot; x2=&quot;3770.66&quot; y2=&quot;2411.10&quot; style=&quot;stroke:#000000;stroke-width:4.90&quot;/&gt;\n",
       "\t&lt;text x=&quot;3770.66&quot; y=&quot;2487.50&quot; style=&quot;font-family:&#x27;Helvetica&#x27;;font-size:85.02px;fill:#000000&quot; text-anchor=&quot;middle&quot;&gt;60&lt;/text&gt;\n",
       "\t&lt;rect x=&quot;388.33&quot; y=&quot;309.88&quot; width=&quot;1683.50&quot; height=&quot;122.89&quot; style=&quot;fill:#D9E6EB&quot;/&gt;\n",
       "\t&lt;rect x=&quot;390.78&quot; y=&quot;312.33&quot; width=&quot;1678.60&quot; height=&quot;117.99&quot; style=&quot;fill:none;stroke:#D9E6EB;stroke-width:4.90&quot;/&gt;\n",
       "\t&lt;text x=&quot;1230.08&quot; y=&quot;390.04&quot; style=&quot;font-family:&#x27;Helvetica&#x27;;font-size:93.56px;fill:#000000&quot; text-anchor=&quot;middle&quot;&gt;0&lt;/text&gt;\n",
       "\t&lt;rect x=&quot;2141.00&quot; y=&quot;309.88&quot; width=&quot;1683.49&quot; height=&quot;122.89&quot; style=&quot;fill:#D9E6EB&quot;/&gt;\n",
       "\t&lt;rect x=&quot;2143.45&quot; y=&quot;312.33&quot; width=&quot;1678.60&quot; height=&quot;117.99&quot; style=&quot;fill:none;stroke:#D9E6EB;stroke-width:4.90&quot;/&gt;\n",
       "\t&lt;text x=&quot;2982.75&quot; y=&quot;390.04&quot; style=&quot;font-family:&#x27;Helvetica&#x27;;font-size:93.56px;fill:#000000&quot; text-anchor=&quot;middle&quot;&gt;1&lt;/text&gt;\n",
       "\t&lt;text x=&quot;170.79&quot; y=&quot;1419.95&quot; style=&quot;font-family:&#x27;Helvetica&#x27;;font-size:99.99px;fill:#000000&quot; transform=&quot;rotate(-90 170.79,1419.95)&quot; text-anchor=&quot;middle&quot;&gt;Density&lt;/text&gt;\n",
       "\t&lt;text x=&quot;2029.99&quot; y=&quot;2634.61&quot; style=&quot;font-family:&#x27;Helvetica&#x27;;font-size:99.99px;fill:#000000&quot; text-anchor=&quot;middle&quot;&gt;value of age&lt;/text&gt;\n",
       "\t&lt;text x=&quot;218.05&quot; y=&quot;2737.89&quot; style=&quot;font-family:&#x27;Helvetica&#x27;;font-size:79.94px;fill:#000000&quot;&gt;Graphs by 1=receive Cov19 Vaccine, 0=receive placebo vaccine&lt;/text&gt;\n",
       "\t&lt;text x=&quot;2029.99&quot; y=&quot;215.98&quot; style=&quot;font-family:&#x27;Helvetica&#x27;;font-size:139.96px;fill:#1E2D53&quot; text-anchor=&quot;middle&quot;&gt;Histogram of antiboy by vaccine&lt;/text&gt;\n",
       "&lt;/svg&gt;\n",
       "</body></html>\"></iframe>\n"
      ],
      "text/plain": [
       "This front-end cannot display the desired image type."
      ]
     },
     "metadata": {
      "image/svg+xml": {
       "height": 436,
       "width": 600
      },
      "text/html": {
       "height": 436,
       "width": 600
      }
     },
     "output_type": "display_data"
    }
   ],
   "source": [
    "// check balance of age with figure\n",
    "histogram age, by(treatment, title(\"Histogram of antiboy by vaccine\"))"
   ]
  },
  {
   "cell_type": "code",
   "execution_count": 44,
   "metadata": {},
   "outputs": [
    {
     "name": "stdout",
     "output_type": "stream",
     "text": [
      "\n",
      " 1:Oxford, |    1=receive Cov19\n",
      "2:Southamp |  Vaccine, 0=receive\n",
      "      ton, |    placebo vaccine\n",
      "  3:London |         0          1 |     Total\n",
      "-----------+----------------------+----------\n",
      "         1 |       160        158 |       318 \n",
      "         2 |       142        160 |       302 \n",
      "         3 |       201        179 |       380 \n",
      "-----------+----------------------+----------\n",
      "     Total |       503        497 |     1,000 \n"
     ]
    }
   ],
   "source": [
    "// check the balance of places with tablue \n",
    "tabulate places treatment"
   ]
  },
  {
   "cell_type": "markdown",
   "metadata": {},
   "source": [
    "After checking the balance for all variables, we could say that the treatment\n",
    "group and control group are very similar. "
   ]
  },
  {
   "cell_type": "markdown",
   "metadata": {},
   "source": [
    "### Generate effects \n",
    "\n",
    "Now, we have two groups: treatment group and control group. We will generate\n",
    "results for our vaccine. We will simulate two scenarios:\n",
    "\n",
    "* for people who received vaccine `ChAd1-nCoV`, their antibody will increase around\n",
    "$10\\%$ \n",
    "* for people who received placebo `MenACWY`, their antibody will only increase \n",
    "around $1\\%$. \n",
    "\n",
    "Since different people might have different reactions once receiving the vaccine,\n",
    "we will also generate some _noise_ which assumes to follow the normal\n",
    "distribution $N(0, 1)$. "
   ]
  },
  {
   "cell_type": "code",
   "execution_count": 45,
   "metadata": {},
   "outputs": [
    {
     "name": "stdout",
     "output_type": "stream",
     "text": [
      "\n",
      "(503 missing values generated)\n",
      "\n",
      "(503 real changes made)\n"
     ]
    }
   ],
   "source": [
    "// generate the effects \n",
    "generate effect = antibody * 1.1  + rnormal(0, 1) if treatment == 1\n",
    "replace effect = antibody * 1.01 + rnormal(0, 1) if missing(effect)"
   ]
  },
  {
   "cell_type": "code",
   "execution_count": 46,
   "metadata": {},
   "outputs": [],
   "source": [
    "// label the variable\n",
    "label variable effect \"The effects of vaccine\""
   ]
  },
  {
   "cell_type": "code",
   "execution_count": 47,
   "metadata": {},
   "outputs": [
    {
     "name": "stdout",
     "output_type": "stream",
     "text": [
      "\n",
      "Contains data\n",
      "  obs:         1,000                          \n",
      " vars:             6                          \n",
      "--------------------------------------------------------------------------------\n",
      "              storage   display    value\n",
      "variable name   type    format     label      variable label\n",
      "--------------------------------------------------------------------------------\n",
      "antibody        float   %9.0g                 amount of antibody\n",
      "age             float   %9.0g                 value of age\n",
      "gender          float   %9.0g                 female = 1, male = 0\n",
      "places          float   %9.0g                 1:Oxford, 2:Southampton, 3:London\n",
      "treatment       float   %9.0g                 1=receive Cov19 Vaccine, 0=receive\n",
      "                                                placebo vaccine\n",
      "effect          float   %9.0g                 The effects of vaccine\n",
      "--------------------------------------------------------------------------------\n",
      "Sorted by: \n",
      "     Note: Dataset has changed since last saved.\n"
     ]
    }
   ],
   "source": [
    "describe "
   ]
  },
  {
   "cell_type": "code",
   "execution_count": 48,
   "metadata": {},
   "outputs": [
    {
     "name": "stdout",
     "output_type": "stream",
     "text": [
      "\n",
      "     +--------------------------------------------------------+\n",
      "     | antibody   age   gender   places   treatm~t     effect |\n",
      "     |--------------------------------------------------------|\n",
      "  1. | 18.25307    58        0        1          1   18.11259 |\n",
      "  2. | 16.46375    43        0        2          1   18.75213 |\n",
      "  3. | 22.61064    49        1        3          1   25.38285 |\n",
      "  4. | 16.88403    40        1        2          1   19.24692 |\n",
      "  5. | 20.63522    24        0        1          0   21.45242 |\n",
      "     |--------------------------------------------------------|\n",
      "  6. | 20.68504    43        1        3          1    25.4498 |\n",
      "  7. | 22.81262    19        0        1          1   25.49699 |\n",
      "  8. | 21.36884    53        0        1          0   21.28258 |\n",
      "  9. |  18.1802    59        0        2          0   17.76526 |\n",
      " 10. | 17.53478    56        1        3          0   17.28904 |\n",
      "     +--------------------------------------------------------+\n"
     ]
    }
   ],
   "source": [
    "list in f/10"
   ]
  },
  {
   "cell_type": "markdown",
   "metadata": {},
   "source": [
    "## Test the results \n",
    "\n",
    "Now, we will test whether the vaccine `ChAd1-nCoV` works or not. To do this, we\n",
    "will form the following hypothesis:\n",
    "\n",
    "* Null hypothesis $H_0$: there is no difference of effects between treatment group\n",
    "and control group $\\mu_{treatment} = \\mu_{control}$\n",
    "* Alternative hypothesis $H_1$: people who received `ChAd1-nCoV` have higher\n",
    "amount of antibody than those who do not $\\mu_{treatment} > \\mu_{control}$\n",
    "\n",
    "If you have forgotten the _t-test_, please review via the following figure.\n",
    "\n",
    "![t-test](https://datatab.net/assets/tutorial/one_Sample_t-Test.png)"
   ]
  },
  {
   "cell_type": "code",
   "execution_count": 49,
   "metadata": {},
   "outputs": [
    {
     "name": "stdout",
     "output_type": "stream",
     "text": [
      "\n",
      "Two-sample t test with equal variances\n",
      "------------------------------------------------------------------------------\n",
      "   Group |     Obs        Mean    Std. Err.   Std. Dev.   [95% Conf. Interval]\n",
      "---------+--------------------------------------------------------------------\n",
      "       0 |     503    20.24671    .1403863    3.148537    19.97089    20.52252\n",
      "       1 |     497    22.16284     .146572    3.267601    21.87486    22.45082\n",
      "---------+--------------------------------------------------------------------\n",
      "combined |   1,000    21.19902    .1058368    3.346853    20.99134    21.40671\n",
      "---------+--------------------------------------------------------------------\n",
      "    diff |           -1.916131     .202912               -2.314314   -1.517947\n",
      "------------------------------------------------------------------------------\n",
      "    diff = mean(0) - mean(1)                                      t =  -9.4432\n",
      "Ho: diff = 0                                     degrees of freedom =      998\n",
      "\n",
      "    Ha: diff < 0                 Ha: diff != 0                 Ha: diff > 0\n",
      " Pr(T < t) = 0.0000         Pr(|T| > |t|) = 0.0000          Pr(T > t) = 1.0000\n"
     ]
    }
   ],
   "source": [
    "// run t test\n",
    "ttest effect, by(treatment)"
   ]
  },
  {
   "cell_type": "markdown",
   "metadata": {},
   "source": [
    "The _t-test_ shows that the we could reject the null hypothesis and accept \n",
    "the alternative one at $1\\%$ significant level. Here, the comparison of the two \n",
    "means is deemed _statistically significant if, according to a threshold probability -the\n",
    "significance level - the data would be unlikely to occur if the null hypothesis\n",
    "were true_. \n",
    "\n",
    "We could also compare effects of two group visually. "
   ]
  },
  {
   "cell_type": "code",
   "execution_count": 50,
   "metadata": {},
   "outputs": [
    {
     "data": {
      "application/pdf": "[encoded data removed]",
      "image/svg+xml": "<?xml version=\"1.0\" encoding=\"UTF-8\" standalone=\"no\"?>\n<!-- This is a Stata 16.1 generated SVG file (http://www.stata.com) -->\n\n<svg version=\"1.1\" width=\"600px\" height=\"436px\" viewBox=\"0 0 3960 2880\" xmlns=\"http://www.w3.org/2000/svg\" xmlns:xlink=\"http://www.w3.org/1999/xlink\">\n\t<desc>Stata Graph - Graph</desc>\n\t<rect x=\"0\" y=\"0\" width=\"3960\" height=\"2880\" style=\"fill:#EAF2F3;stroke:none\"/>\n\t<rect x=\"0.00\" y=\"0.00\" width=\"3959.88\" height=\"2880.00\" style=\"fill:#EAF2F3\"/>\n\t<rect x=\"2.88\" y=\"2.88\" width=\"3954.12\" height=\"2874.24\" style=\"fill:none;stroke:#EAF2F3;stroke-width:5.76\"/>\n\t<rect x=\"390.80\" y=\"275.35\" width=\"3468.22\" height=\"2343.90\" style=\"fill:#FFFFFF\"/>\n\t<rect x=\"393.68\" y=\"278.23\" width=\"3462.46\" height=\"2338.14\" style=\"fill:none;stroke:#FFFFFF;stroke-width:5.76\"/>\n\t<line x1=\"390.80\" y1=\"2518.39\" x2=\"3859.02\" y2=\"2518.39\" style=\"stroke:#EAF2F3;stroke-width:8.64\"/>\n\t<line x1=\"390.80\" y1=\"2089.96\" x2=\"3859.02\" y2=\"2089.96\" style=\"stroke:#EAF2F3;stroke-width:8.64\"/>\n\t<line x1=\"390.80\" y1=\"1661.52\" x2=\"3859.02\" y2=\"1661.52\" style=\"stroke:#EAF2F3;stroke-width:8.64\"/>\n\t<line x1=\"390.80\" y1=\"1233.08\" x2=\"3859.02\" y2=\"1233.08\" style=\"stroke:#EAF2F3;stroke-width:8.64\"/>\n\t<line x1=\"390.80\" y1=\"804.65\" x2=\"3859.02\" y2=\"804.65\" style=\"stroke:#EAF2F3;stroke-width:8.64\"/>\n\t<line x1=\"390.80\" y1=\"376.21\" x2=\"3859.02\" y2=\"376.21\" style=\"stroke:#EAF2F3;stroke-width:8.64\"/>\n\t<rect x=\"683.72\" y=\"1464.38\" width=\"960.80\" height=\"344.78\" style=\"fill:#8DA3B7\"/>\n\t<rect x=\"688.04\" y=\"1468.70\" width=\"952.16\" height=\"336.14\" style=\"fill:none;stroke:#1A476F;stroke-width:8.64\"/>\n\t<line x1=\"683.72\" y1=\"1636.89\" x2=\"1644.51\" y2=\"1636.89\" style=\"stroke:#1A476F;stroke-width:8.64\"/>\n\t<line x1=\"1164.12\" y1=\"1809.16\" x2=\"1164.12\" y2=\"2312.34\" style=\"stroke:#1A476F;stroke-width:8.64\"/>\n\t<line x1=\"1164.12\" y1=\"1464.38\" x2=\"1164.12\" y2=\"1004.63\" style=\"stroke:#1A476F;stroke-width:8.64\"/>\n\t<line x1=\"842.24\" y1=\"2312.34\" x2=\"1485.99\" y2=\"2312.34\" style=\"stroke:#1A476F;stroke-width:8.64\"/>\n\t<line x1=\"842.24\" y1=\"1004.63\" x2=\"1485.99\" y2=\"1004.63\" style=\"stroke:#1A476F;stroke-width:8.64\"/>\n\t<rect x=\"2605.31\" y=\"1283.58\" width=\"960.80\" height=\"401.33\" style=\"fill:#8DA3B7\"/>\n\t<rect x=\"2609.63\" y=\"1287.89\" width=\"952.16\" height=\"392.69\" style=\"fill:none;stroke:#1A476F;stroke-width:8.64\"/>\n\t<line x1=\"2605.31\" y1=\"1486.16\" x2=\"3566.10\" y2=\"1486.16\" style=\"stroke:#1A476F;stroke-width:8.64\"/>\n\t<line x1=\"3085.71\" y1=\"1684.91\" x2=\"3085.71\" y2=\"2188.83\" style=\"stroke:#1A476F;stroke-width:8.64\"/>\n\t<line x1=\"3085.71\" y1=\"1283.58\" x2=\"3085.71\" y2=\"754.77\" style=\"stroke:#1A476F;stroke-width:8.64\"/>\n\t<line x1=\"2763.83\" y1=\"2188.83\" x2=\"3407.58\" y2=\"2188.83\" style=\"stroke:#1A476F;stroke-width:8.64\"/>\n\t<line x1=\"2763.83\" y1=\"754.77\" x2=\"3407.58\" y2=\"754.77\" style=\"stroke:#1A476F;stroke-width:8.64\"/>\n\t<circle cx=\"1164.12\" cy=\"2333.13\" r=\"26.35\" style=\"fill:#1A476F\"/>\n\t<circle cx=\"1164.12\" cy=\"2333.13\" r=\"22.03\" style=\"fill:none;stroke:#1A476F;stroke-width:8.64\"/>\n\t<circle cx=\"1164.12\" cy=\"2331.40\" r=\"26.35\" style=\"fill:#1A476F\"/>\n\t<circle cx=\"1164.12\" cy=\"2331.40\" r=\"22.03\" style=\"fill:none;stroke:#1A476F;stroke-width:8.64\"/>\n\t<circle cx=\"1164.12\" cy=\"2328.18\" r=\"26.35\" style=\"fill:#1A476F\"/>\n\t<circle cx=\"1164.12\" cy=\"2328.18\" r=\"22.03\" style=\"fill:none;stroke:#1A476F;stroke-width:8.64\"/>\n\t<circle cx=\"1164.12\" cy=\"858.23\" r=\"26.35\" style=\"fill:#1A476F\"/>\n\t<circle cx=\"1164.12\" cy=\"858.23\" r=\"22.03\" style=\"fill:none;stroke:#1A476F;stroke-width:8.64\"/>\n\t<circle cx=\"1164.12\" cy=\"819.13\" r=\"26.35\" style=\"fill:#1A476F\"/>\n\t<circle cx=\"1164.12\" cy=\"819.13\" r=\"22.03\" style=\"fill:none;stroke:#1A476F;stroke-width:8.64\"/>\n\t<circle cx=\"1164.12\" cy=\"805.64\" r=\"26.35\" style=\"fill:#1A476F\"/>\n\t<circle cx=\"1164.12\" cy=\"805.64\" r=\"22.03\" style=\"fill:none;stroke:#1A476F;stroke-width:8.64\"/>\n\t<circle cx=\"3085.71\" cy=\"2323.97\" r=\"26.35\" style=\"fill:#1A476F\"/>\n\t<circle cx=\"3085.71\" cy=\"2323.97\" r=\"22.03\" style=\"fill:none;stroke:#1A476F;stroke-width:8.64\"/>\n\t<circle cx=\"3085.71\" cy=\"670.87\" r=\"26.35\" style=\"fill:#1A476F\"/>\n\t<circle cx=\"3085.71\" cy=\"670.87\" r=\"22.03\" style=\"fill:none;stroke:#1A476F;stroke-width:8.64\"/>\n\t<circle cx=\"3085.71\" cy=\"435.37\" r=\"26.35\" style=\"fill:#1A476F\"/>\n\t<circle cx=\"3085.71\" cy=\"435.37\" r=\"22.03\" style=\"fill:none;stroke:#1A476F;stroke-width:8.64\"/>\n\t<line x1=\"390.80\" y1=\"2619.25\" x2=\"390.80\" y2=\"275.35\" style=\"stroke:#000000;stroke-width:5.76\"/>\n\t<line x1=\"390.80\" y1=\"2518.39\" x2=\"350.83\" y2=\"2518.39\" style=\"stroke:#000000;stroke-width:5.76\"/>\n\t<text x=\"300.72\" y=\"2518.39\" style=\"font-family:'Helvetica';font-size:99.99px;fill:#000000\" transform=\"rotate(-90 300.72,2518.39)\" text-anchor=\"middle\">10</text>\n\t<line x1=\"390.80\" y1=\"2089.96\" x2=\"350.83\" y2=\"2089.96\" style=\"stroke:#000000;stroke-width:5.76\"/>\n\t<text x=\"300.72\" y=\"2089.96\" style=\"font-family:'Helvetica';font-size:99.99px;fill:#000000\" transform=\"rotate(-90 300.72,2089.96)\" text-anchor=\"middle\">15</text>\n\t<line x1=\"390.80\" y1=\"1661.52\" x2=\"350.83\" y2=\"1661.52\" style=\"stroke:#000000;stroke-width:5.76\"/>\n\t<text x=\"300.72\" y=\"1661.52\" style=\"font-family:'Helvetica';font-size:99.99px;fill:#000000\" transform=\"rotate(-90 300.72,1661.52)\" text-anchor=\"middle\">20</text>\n\t<line x1=\"390.80\" y1=\"1233.08\" x2=\"350.83\" y2=\"1233.08\" style=\"stroke:#000000;stroke-width:5.76\"/>\n\t<text x=\"300.72\" y=\"1233.08\" style=\"font-family:'Helvetica';font-size:99.99px;fill:#000000\" transform=\"rotate(-90 300.72,1233.08)\" text-anchor=\"middle\">25</text>\n\t<line x1=\"390.80\" y1=\"804.65\" x2=\"350.83\" y2=\"804.65\" style=\"stroke:#000000;stroke-width:5.76\"/>\n\t<text x=\"300.72\" y=\"804.65\" style=\"font-family:'Helvetica';font-size:99.99px;fill:#000000\" transform=\"rotate(-90 300.72,804.65)\" text-anchor=\"middle\">30</text>\n\t<line x1=\"390.80\" y1=\"376.21\" x2=\"350.83\" y2=\"376.21\" style=\"stroke:#000000;stroke-width:5.76\"/>\n\t<text x=\"300.72\" y=\"376.21\" style=\"font-family:'Helvetica';font-size:99.99px;fill:#000000\" transform=\"rotate(-90 300.72,376.21)\" text-anchor=\"middle\">35</text>\n\t<text x=\"190.71\" y=\"1447.30\" style=\"font-family:'Helvetica';font-size:99.99px;fill:#000000\" transform=\"rotate(-90 190.71,1447.30)\" text-anchor=\"middle\">The effects of vaccine</text>\n\t<line x1=\"390.80\" y1=\"2619.25\" x2=\"3859.02\" y2=\"2619.25\" style=\"stroke:#000000;stroke-width:5.76\"/>\n\t<text x=\"1164.12\" y=\"2729.16\" style=\"font-family:'Helvetica';font-size:99.99px;fill:#000000\" text-anchor=\"middle\">0</text>\n\t<text x=\"3085.71\" y=\"2729.16\" style=\"font-family:'Helvetica';font-size:99.99px;fill:#000000\" text-anchor=\"middle\">1</text>\n\t<text x=\"2124.91\" y=\"215.98\" style=\"font-family:'Helvetica';font-size:139.96px;fill:#1E2D53\" text-anchor=\"middle\">Box plot of effect over treatment and control group</text>\n</svg>\n",
      "text/html": [
       "                <iframe frameborder=\"0\" scrolling=\"no\" height=\"436\" width=\"600\"                srcdoc=\"<html><body>&lt;?xml version=&quot;1.0&quot; encoding=&quot;UTF-8&quot; standalone=&quot;no&quot;?&gt;\n",
       "&lt;!-- This is a Stata 16.1 generated SVG file (http://www.stata.com) --&gt;\n",
       "\n",
       "&lt;svg version=&quot;1.1&quot; width=&quot;600px&quot; height=&quot;436px&quot; viewBox=&quot;0 0 3960 2880&quot; xmlns=&quot;http://www.w3.org/2000/svg&quot; xmlns:xlink=&quot;http://www.w3.org/1999/xlink&quot;&gt;\n",
       "\t&lt;desc&gt;Stata Graph - Graph&lt;/desc&gt;\n",
       "\t&lt;rect x=&quot;0&quot; y=&quot;0&quot; width=&quot;3960&quot; height=&quot;2880&quot; style=&quot;fill:#EAF2F3;stroke:none&quot;/&gt;\n",
       "\t&lt;rect x=&quot;0.00&quot; y=&quot;0.00&quot; width=&quot;3959.88&quot; height=&quot;2880.00&quot; style=&quot;fill:#EAF2F3&quot;/&gt;\n",
       "\t&lt;rect x=&quot;2.88&quot; y=&quot;2.88&quot; width=&quot;3954.12&quot; height=&quot;2874.24&quot; style=&quot;fill:none;stroke:#EAF2F3;stroke-width:5.76&quot;/&gt;\n",
       "\t&lt;rect x=&quot;390.80&quot; y=&quot;275.35&quot; width=&quot;3468.22&quot; height=&quot;2343.90&quot; style=&quot;fill:#FFFFFF&quot;/&gt;\n",
       "\t&lt;rect x=&quot;393.68&quot; y=&quot;278.23&quot; width=&quot;3462.46&quot; height=&quot;2338.14&quot; style=&quot;fill:none;stroke:#FFFFFF;stroke-width:5.76&quot;/&gt;\n",
       "\t&lt;line x1=&quot;390.80&quot; y1=&quot;2518.39&quot; x2=&quot;3859.02&quot; y2=&quot;2518.39&quot; style=&quot;stroke:#EAF2F3;stroke-width:8.64&quot;/&gt;\n",
       "\t&lt;line x1=&quot;390.80&quot; y1=&quot;2089.96&quot; x2=&quot;3859.02&quot; y2=&quot;2089.96&quot; style=&quot;stroke:#EAF2F3;stroke-width:8.64&quot;/&gt;\n",
       "\t&lt;line x1=&quot;390.80&quot; y1=&quot;1661.52&quot; x2=&quot;3859.02&quot; y2=&quot;1661.52&quot; style=&quot;stroke:#EAF2F3;stroke-width:8.64&quot;/&gt;\n",
       "\t&lt;line x1=&quot;390.80&quot; y1=&quot;1233.08&quot; x2=&quot;3859.02&quot; y2=&quot;1233.08&quot; style=&quot;stroke:#EAF2F3;stroke-width:8.64&quot;/&gt;\n",
       "\t&lt;line x1=&quot;390.80&quot; y1=&quot;804.65&quot; x2=&quot;3859.02&quot; y2=&quot;804.65&quot; style=&quot;stroke:#EAF2F3;stroke-width:8.64&quot;/&gt;\n",
       "\t&lt;line x1=&quot;390.80&quot; y1=&quot;376.21&quot; x2=&quot;3859.02&quot; y2=&quot;376.21&quot; style=&quot;stroke:#EAF2F3;stroke-width:8.64&quot;/&gt;\n",
       "\t&lt;rect x=&quot;683.72&quot; y=&quot;1464.38&quot; width=&quot;960.80&quot; height=&quot;344.78&quot; style=&quot;fill:#8DA3B7&quot;/&gt;\n",
       "\t&lt;rect x=&quot;688.04&quot; y=&quot;1468.70&quot; width=&quot;952.16&quot; height=&quot;336.14&quot; style=&quot;fill:none;stroke:#1A476F;stroke-width:8.64&quot;/&gt;\n",
       "\t&lt;line x1=&quot;683.72&quot; y1=&quot;1636.89&quot; x2=&quot;1644.51&quot; y2=&quot;1636.89&quot; style=&quot;stroke:#1A476F;stroke-width:8.64&quot;/&gt;\n",
       "\t&lt;line x1=&quot;1164.12&quot; y1=&quot;1809.16&quot; x2=&quot;1164.12&quot; y2=&quot;2312.34&quot; style=&quot;stroke:#1A476F;stroke-width:8.64&quot;/&gt;\n",
       "\t&lt;line x1=&quot;1164.12&quot; y1=&quot;1464.38&quot; x2=&quot;1164.12&quot; y2=&quot;1004.63&quot; style=&quot;stroke:#1A476F;stroke-width:8.64&quot;/&gt;\n",
       "\t&lt;line x1=&quot;842.24&quot; y1=&quot;2312.34&quot; x2=&quot;1485.99&quot; y2=&quot;2312.34&quot; style=&quot;stroke:#1A476F;stroke-width:8.64&quot;/&gt;\n",
       "\t&lt;line x1=&quot;842.24&quot; y1=&quot;1004.63&quot; x2=&quot;1485.99&quot; y2=&quot;1004.63&quot; style=&quot;stroke:#1A476F;stroke-width:8.64&quot;/&gt;\n",
       "\t&lt;rect x=&quot;2605.31&quot; y=&quot;1283.58&quot; width=&quot;960.80&quot; height=&quot;401.33&quot; style=&quot;fill:#8DA3B7&quot;/&gt;\n",
       "\t&lt;rect x=&quot;2609.63&quot; y=&quot;1287.89&quot; width=&quot;952.16&quot; height=&quot;392.69&quot; style=&quot;fill:none;stroke:#1A476F;stroke-width:8.64&quot;/&gt;\n",
       "\t&lt;line x1=&quot;2605.31&quot; y1=&quot;1486.16&quot; x2=&quot;3566.10&quot; y2=&quot;1486.16&quot; style=&quot;stroke:#1A476F;stroke-width:8.64&quot;/&gt;\n",
       "\t&lt;line x1=&quot;3085.71&quot; y1=&quot;1684.91&quot; x2=&quot;3085.71&quot; y2=&quot;2188.83&quot; style=&quot;stroke:#1A476F;stroke-width:8.64&quot;/&gt;\n",
       "\t&lt;line x1=&quot;3085.71&quot; y1=&quot;1283.58&quot; x2=&quot;3085.71&quot; y2=&quot;754.77&quot; style=&quot;stroke:#1A476F;stroke-width:8.64&quot;/&gt;\n",
       "\t&lt;line x1=&quot;2763.83&quot; y1=&quot;2188.83&quot; x2=&quot;3407.58&quot; y2=&quot;2188.83&quot; style=&quot;stroke:#1A476F;stroke-width:8.64&quot;/&gt;\n",
       "\t&lt;line x1=&quot;2763.83&quot; y1=&quot;754.77&quot; x2=&quot;3407.58&quot; y2=&quot;754.77&quot; style=&quot;stroke:#1A476F;stroke-width:8.64&quot;/&gt;\n",
       "\t&lt;circle cx=&quot;1164.12&quot; cy=&quot;2333.13&quot; r=&quot;26.35&quot; style=&quot;fill:#1A476F&quot;/&gt;\n",
       "\t&lt;circle cx=&quot;1164.12&quot; cy=&quot;2333.13&quot; r=&quot;22.03&quot; style=&quot;fill:none;stroke:#1A476F;stroke-width:8.64&quot;/&gt;\n",
       "\t&lt;circle cx=&quot;1164.12&quot; cy=&quot;2331.40&quot; r=&quot;26.35&quot; style=&quot;fill:#1A476F&quot;/&gt;\n",
       "\t&lt;circle cx=&quot;1164.12&quot; cy=&quot;2331.40&quot; r=&quot;22.03&quot; style=&quot;fill:none;stroke:#1A476F;stroke-width:8.64&quot;/&gt;\n",
       "\t&lt;circle cx=&quot;1164.12&quot; cy=&quot;2328.18&quot; r=&quot;26.35&quot; style=&quot;fill:#1A476F&quot;/&gt;\n",
       "\t&lt;circle cx=&quot;1164.12&quot; cy=&quot;2328.18&quot; r=&quot;22.03&quot; style=&quot;fill:none;stroke:#1A476F;stroke-width:8.64&quot;/&gt;\n",
       "\t&lt;circle cx=&quot;1164.12&quot; cy=&quot;858.23&quot; r=&quot;26.35&quot; style=&quot;fill:#1A476F&quot;/&gt;\n",
       "\t&lt;circle cx=&quot;1164.12&quot; cy=&quot;858.23&quot; r=&quot;22.03&quot; style=&quot;fill:none;stroke:#1A476F;stroke-width:8.64&quot;/&gt;\n",
       "\t&lt;circle cx=&quot;1164.12&quot; cy=&quot;819.13&quot; r=&quot;26.35&quot; style=&quot;fill:#1A476F&quot;/&gt;\n",
       "\t&lt;circle cx=&quot;1164.12&quot; cy=&quot;819.13&quot; r=&quot;22.03&quot; style=&quot;fill:none;stroke:#1A476F;stroke-width:8.64&quot;/&gt;\n",
       "\t&lt;circle cx=&quot;1164.12&quot; cy=&quot;805.64&quot; r=&quot;26.35&quot; style=&quot;fill:#1A476F&quot;/&gt;\n",
       "\t&lt;circle cx=&quot;1164.12&quot; cy=&quot;805.64&quot; r=&quot;22.03&quot; style=&quot;fill:none;stroke:#1A476F;stroke-width:8.64&quot;/&gt;\n",
       "\t&lt;circle cx=&quot;3085.71&quot; cy=&quot;2323.97&quot; r=&quot;26.35&quot; style=&quot;fill:#1A476F&quot;/&gt;\n",
       "\t&lt;circle cx=&quot;3085.71&quot; cy=&quot;2323.97&quot; r=&quot;22.03&quot; style=&quot;fill:none;stroke:#1A476F;stroke-width:8.64&quot;/&gt;\n",
       "\t&lt;circle cx=&quot;3085.71&quot; cy=&quot;670.87&quot; r=&quot;26.35&quot; style=&quot;fill:#1A476F&quot;/&gt;\n",
       "\t&lt;circle cx=&quot;3085.71&quot; cy=&quot;670.87&quot; r=&quot;22.03&quot; style=&quot;fill:none;stroke:#1A476F;stroke-width:8.64&quot;/&gt;\n",
       "\t&lt;circle cx=&quot;3085.71&quot; cy=&quot;435.37&quot; r=&quot;26.35&quot; style=&quot;fill:#1A476F&quot;/&gt;\n",
       "\t&lt;circle cx=&quot;3085.71&quot; cy=&quot;435.37&quot; r=&quot;22.03&quot; style=&quot;fill:none;stroke:#1A476F;stroke-width:8.64&quot;/&gt;\n",
       "\t&lt;line x1=&quot;390.80&quot; y1=&quot;2619.25&quot; x2=&quot;390.80&quot; y2=&quot;275.35&quot; style=&quot;stroke:#000000;stroke-width:5.76&quot;/&gt;\n",
       "\t&lt;line x1=&quot;390.80&quot; y1=&quot;2518.39&quot; x2=&quot;350.83&quot; y2=&quot;2518.39&quot; style=&quot;stroke:#000000;stroke-width:5.76&quot;/&gt;\n",
       "\t&lt;text x=&quot;300.72&quot; y=&quot;2518.39&quot; style=&quot;font-family:&#x27;Helvetica&#x27;;font-size:99.99px;fill:#000000&quot; transform=&quot;rotate(-90 300.72,2518.39)&quot; text-anchor=&quot;middle&quot;&gt;10&lt;/text&gt;\n",
       "\t&lt;line x1=&quot;390.80&quot; y1=&quot;2089.96&quot; x2=&quot;350.83&quot; y2=&quot;2089.96&quot; style=&quot;stroke:#000000;stroke-width:5.76&quot;/&gt;\n",
       "\t&lt;text x=&quot;300.72&quot; y=&quot;2089.96&quot; style=&quot;font-family:&#x27;Helvetica&#x27;;font-size:99.99px;fill:#000000&quot; transform=&quot;rotate(-90 300.72,2089.96)&quot; text-anchor=&quot;middle&quot;&gt;15&lt;/text&gt;\n",
       "\t&lt;line x1=&quot;390.80&quot; y1=&quot;1661.52&quot; x2=&quot;350.83&quot; y2=&quot;1661.52&quot; style=&quot;stroke:#000000;stroke-width:5.76&quot;/&gt;\n",
       "\t&lt;text x=&quot;300.72&quot; y=&quot;1661.52&quot; style=&quot;font-family:&#x27;Helvetica&#x27;;font-size:99.99px;fill:#000000&quot; transform=&quot;rotate(-90 300.72,1661.52)&quot; text-anchor=&quot;middle&quot;&gt;20&lt;/text&gt;\n",
       "\t&lt;line x1=&quot;390.80&quot; y1=&quot;1233.08&quot; x2=&quot;350.83&quot; y2=&quot;1233.08&quot; style=&quot;stroke:#000000;stroke-width:5.76&quot;/&gt;\n",
       "\t&lt;text x=&quot;300.72&quot; y=&quot;1233.08&quot; style=&quot;font-family:&#x27;Helvetica&#x27;;font-size:99.99px;fill:#000000&quot; transform=&quot;rotate(-90 300.72,1233.08)&quot; text-anchor=&quot;middle&quot;&gt;25&lt;/text&gt;\n",
       "\t&lt;line x1=&quot;390.80&quot; y1=&quot;804.65&quot; x2=&quot;350.83&quot; y2=&quot;804.65&quot; style=&quot;stroke:#000000;stroke-width:5.76&quot;/&gt;\n",
       "\t&lt;text x=&quot;300.72&quot; y=&quot;804.65&quot; style=&quot;font-family:&#x27;Helvetica&#x27;;font-size:99.99px;fill:#000000&quot; transform=&quot;rotate(-90 300.72,804.65)&quot; text-anchor=&quot;middle&quot;&gt;30&lt;/text&gt;\n",
       "\t&lt;line x1=&quot;390.80&quot; y1=&quot;376.21&quot; x2=&quot;350.83&quot; y2=&quot;376.21&quot; style=&quot;stroke:#000000;stroke-width:5.76&quot;/&gt;\n",
       "\t&lt;text x=&quot;300.72&quot; y=&quot;376.21&quot; style=&quot;font-family:&#x27;Helvetica&#x27;;font-size:99.99px;fill:#000000&quot; transform=&quot;rotate(-90 300.72,376.21)&quot; text-anchor=&quot;middle&quot;&gt;35&lt;/text&gt;\n",
       "\t&lt;text x=&quot;190.71&quot; y=&quot;1447.30&quot; style=&quot;font-family:&#x27;Helvetica&#x27;;font-size:99.99px;fill:#000000&quot; transform=&quot;rotate(-90 190.71,1447.30)&quot; text-anchor=&quot;middle&quot;&gt;The effects of vaccine&lt;/text&gt;\n",
       "\t&lt;line x1=&quot;390.80&quot; y1=&quot;2619.25&quot; x2=&quot;3859.02&quot; y2=&quot;2619.25&quot; style=&quot;stroke:#000000;stroke-width:5.76&quot;/&gt;\n",
       "\t&lt;text x=&quot;1164.12&quot; y=&quot;2729.16&quot; style=&quot;font-family:&#x27;Helvetica&#x27;;font-size:99.99px;fill:#000000&quot; text-anchor=&quot;middle&quot;&gt;0&lt;/text&gt;\n",
       "\t&lt;text x=&quot;3085.71&quot; y=&quot;2729.16&quot; style=&quot;font-family:&#x27;Helvetica&#x27;;font-size:99.99px;fill:#000000&quot; text-anchor=&quot;middle&quot;&gt;1&lt;/text&gt;\n",
       "\t&lt;text x=&quot;2124.91&quot; y=&quot;215.98&quot; style=&quot;font-family:&#x27;Helvetica&#x27;;font-size:139.96px;fill:#1E2D53&quot; text-anchor=&quot;middle&quot;&gt;Box plot of effect over treatment and control group&lt;/text&gt;\n",
       "&lt;/svg&gt;\n",
       "</body></html>\"></iframe>\n"
      ],
      "text/plain": [
       "This front-end cannot display the desired image type."
      ]
     },
     "metadata": {
      "image/svg+xml": {
       "height": 436,
       "width": 600
      },
      "text/html": {
       "height": 436,
       "width": 600
      }
     },
     "output_type": "display_data"
    }
   ],
   "source": [
    "graph box effect, over(treatment) title(\"Box plot of effect over treatment and control group\")"
   ]
  },
  {
   "cell_type": "markdown",
   "metadata": {},
   "source": [
    "<div class=\"admonition question\">\n",
    "<p class=\"admonition-title\">\n",
    "Questions\n",
    "<p>\n",
    "<ul>\n",
    "  <li>Do you think our vaccine works or not? </li>\n",
    "  <li>Why do we need a balanced sample?</li>\n",
    "  <li>What is the difference of effect between treatment and control group?</li>\n",
    "</ul>\n",
    "</div>"
   ]
  },
  {
   "cell_type": "markdown",
   "metadata": {},
   "source": [
    "## References\n",
    "\n",
    "1. [Stata Random Number Generator](https://blog.stata.com/2012/07/18/using-statas-random-number-generators-part-1/)"
   ]
  },
  {
   "cell_type": "markdown",
   "metadata": {},
   "source": [
    "<script>\n",
    "    var div_svg = document.getElementsByClassName('jp-RenderedHTML')\n",
    "\n",
    "    for (const element of div_svg) {\n",
    "        var svg_str = element.childNodes[1].srcdoc \n",
    "        element.childNodes[1].srcdoc =  svg_str.replace(/width=\"600px\"/i, \"width=100%\")\n",
    "    }\n",
    "</script>"
   ]
  }
 ],
 "metadata": {
  "kernelspec": {
   "display_name": "Stata",
   "language": "stata",
   "name": "stata"
  },
  "language_info": {
   "codemirror_mode": "stata",
   "file_extension": ".do",
   "mimetype": "text/x-stata",
   "name": "stata",
   "version": "15.1"
  },
  "orig_nbformat": 4,
  "vscode": {
   "interpreter": {
    "hash": "63d6cab39498d3e9394f08688953487e2226093dc6f01678016431a1b8640115"
   }
  }
 },
 "nbformat": 4,
 "nbformat_minor": 2
}
