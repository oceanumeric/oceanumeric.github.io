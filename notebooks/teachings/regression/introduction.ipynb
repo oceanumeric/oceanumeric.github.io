{
 "cells": [
  {
   "cell_type": "markdown",
   "metadata": {},
   "source": [
    "<head>\n",
    "    <style>\n",
    "        .md-typeset h2 {\n",
    "            margin:0;\n",
    "            }\n",
    "        .md-typeset h3 {\n",
    "            margin:0;\n",
    "            }\n",
    "        .jupyter-wrapper table.dataframe tr, .jupyter-wrapper table.dataframe th, .jupyter-wrapper table.dataframe td {\n",
    "            text-align:left;\n",
    "            }\n",
    "        .jupyter-wrapper table.dataframe {\n",
    "            table-layout: auto;\n",
    "            }\n",
    "    </style>\n",
    "</head>"
   ]
  },
  {
   "cell_type": "markdown",
   "metadata": {},
   "source": [
    "# A Modern Introduction to Regression Analysis with Case Studies\n",
    "\n",
    "In this short course, three sections will be covered:\n",
    "\n",
    "- Review of key concetps of probability and statistics\n",
    "- Regression analysis with causal reasoning\n",
    "- Practice regression analysis with case studies \n",
    "\n",
    "A general-purpose statistical software called `Stata` will\n",
    "be used as many papers published in economic or management journals use \n",
    "this software. It is important to realize that software or programming language\n",
    "is just a tool for us to gain understanding on analyzing social issues. \n",
    "\n",
    "Please read the following instructions to know `Stata`. "
   ]
  },
  {
   "cell_type": "markdown",
   "metadata": {},
   "source": [
    "<div>\n",
    "      <object\n",
    "        data='/teachings/pdf/getting_to_know_stata.pdf'\n",
    "        type=\"application/pdf\"\n",
    "        width=\"550\"\n",
    "        height=\"678\"\n",
    "      >\n",
    "\n",
    "        <iframe\n",
    "          src='/teachings/pdf/getting_to_know_stata.pdf'\n",
    "          width=\"550\"\n",
    "          height=\"678\"\n",
    "        >\n",
    "        <p>This browser does not support PDF!</p>\n",
    "        </iframe>\n",
    "      </object>\n",
    "</div>"
   ]
  },
  {
   "cell_type": "markdown",
   "metadata": {},
   "source": [
    "You can also watch vieos from this link:https://www.stata.com/links/video-tutorials/"
   ]
  },
  {
   "cell_type": "markdown",
   "metadata": {},
   "source": [
    "## Group Information \n",
    "\n",
    "<iframe src=\"https://docs.google.com/forms/d/e/1FAIpQLSftffit0XC6kdqWGdGOae9G9QJOjaO97czr-oeghheacmTb4w/viewform?embedded=true\" width=\"640\" height=\"947\" frameborder=\"0\" marginheight=\"0\" marginwidth=\"0\">Loading…</iframe>"
   ]
  }
 ],
 "metadata": {
  "kernelspec": {
   "display_name": "Python 3.9.5 ('mvenv': venv)",
   "language": "python",
   "name": "python3"
  },
  "language_info": {
   "name": "python",
   "version": "3.9.5"
  },
  "orig_nbformat": 4,
  "vscode": {
   "interpreter": {
    "hash": "63d6cab39498d3e9394f08688953487e2226093dc6f01678016431a1b8640115"
   }
  }
 },
 "nbformat": 4,
 "nbformat_minor": 2
}
