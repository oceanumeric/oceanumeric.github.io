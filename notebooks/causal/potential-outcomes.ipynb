{
 "cells": [
  {
   "cell_type": "markdown",
   "metadata": {},
   "source": [
    "<head>\n",
    "    <style>\n",
    "        .md-typeset h2 {\n",
    "            margin:0;\n",
    "            }\n",
    "        .md-typeset h3 {\n",
    "            margin:0;\n",
    "            }\n",
    "        .jupyter-wrapper table.dataframe tr, .jupyter-wrapper table.dataframe th, .jupyter-wrapper table.dataframe td {\n",
    "            text-align:left;\n",
    "            }\n",
    "        .jupyter-wrapper table.dataframe {\n",
    "            table-layout: auto;\n",
    "            }\n",
    "    </style>\n",
    "</head>"
   ]
  },
  {
   "cell_type": "markdown",
   "metadata": {},
   "source": [
    "# Potential Outcomes Causal Model\n",
    "\n",
    "## Concepts and examples \n",
    "\n",
    "When we use potential outcomes causal model to do research, we will try to\n",
    "estimate population (or sometime subgroup) mean. The _average treatment \n",
    "effect_ (ATE) is defined as\n",
    "\n",
    "$$\n",
    "\\begin{aligned}\n",
    "ATE & = E[\\sigma_i] \\\\\n",
    "    & = E[Y_i^1 - Y_i^0] \\\\\n",
    "    & = E[Y_i^1] - E[Y_i^0]\n",
    "\\end{aligned}\n",
    "$$\n",
    "\n",
    "ATE can not be calculated(one man cannot live twice) but could be estimated. \n",
    "\n",
    "The _average treatment effect for the treatment group_ (ATT) is defined as\n",
    "follows:\n",
    "\n",
    "$$\n",
    "\\begin{aligned}\n",
    "ATT & = E[\\sigma_i | D_i = 1] \\\\\n",
    "    & = E[Y_i^1 - Y_i^0 | D_i=1] \\\\ \n",
    "    & = E[Y_i^1 |D_i=1] - E[Y_i^0 |D_i=1]\n",
    "\\end{aligned}\n",
    "$$\n",
    "\n",
    "The _average treatment effect for the untreatment group_ (ATU) is defined as\n",
    "follows:\n",
    "\n",
    "\n",
    "\\begin{aligned}\n",
    "ATT & = E[\\sigma_i | D_i = 0] \\\\\n",
    "    & = E[Y_i^1 - Y_i^0 | D_i=0] \\\\ \n",
    "    & = E[Y_i^1 |D_i=0] - E[Y_i^0 |D_i=0]\n",
    "\\end{aligned}\n",
    "\n",
    "\n",
    "It is easy to show that:\n",
    "\n",
    "\\begin{aligned}\n",
    "E\\left[Y^1 \\mid D=1\\right]-E\\left[Y^0 \\mid D=0\\right] &=A T E \\\\\n",
    "&+\\left(E\\left[Y^0 \\mid D=1\\right]-E\\left[Y^0 \\mid D=0\\right]\\right) \\\\\n",
    "&+(1-\\pi)(A T T-A T U)\n",
    "\\end{aligned}\n",
    "\n",
    "Each decomposition has its own name:\n",
    "\n",
    "\\begin{aligned}\n",
    "\\underbrace{\\frac{1}{N_T} \\sum_{i=1}^n\\left(y_i \\mid d_i=1\\right)-\\frac{1}{N_C} \\sum_{i=1}^n\\left(y_i \\mid d_i=0\\right)}_{\\text {Simple Difference in Outcomes }} &=\\underbrace{E\\left[Y^1\\right]-E\\left[Y^0\\right]}_{\\text {Average Treatment Effect }} \\\\\n",
    "&+\\underbrace{E\\left[Y^0 \\mid D=1\\right]-E\\left[Y^0 \\mid D=0\\right]}_{\\text {Selection bias }} \\\\\n",
    "&+\\underbrace{(1-\\pi)(A T T-A T U)}_{\\text {Heterogeneous treatment effect bias }}\n",
    "\\end{aligned}"
   ]
  },
  {
   "cell_type": "code",
   "execution_count": 1,
   "metadata": {
    "vscode": {
     "languageId": "r"
    }
   },
   "outputs": [],
   "source": [
    "# load packages \n",
    "library(pacman)\n",
    "p_load(tidyverse, data.table, stats, ri2)\n",
    "options(dplyr.summarise.inform = FALSE)"
   ]
  },
  {
   "cell_type": "code",
   "execution_count": 28,
   "metadata": {
    "vscode": {
     "languageId": "r"
    }
   },
   "outputs": [
    {
     "data": {
      "text/html": [
       "<table class=\"dataframe\">\n",
       "<caption>A tibble: 10 × 4</caption>\n",
       "<thead>\n",
       "\t<tr><th scope=col>y1</th><th scope=col>y0</th><th scope=col>d</th><th scope=col>yo</th></tr>\n",
       "\t<tr><th scope=col>&lt;dbl&gt;</th><th scope=col>&lt;dbl&gt;</th><th scope=col>&lt;dbl&gt;</th><th scope=col>&lt;dbl&gt;</th></tr>\n",
       "</thead>\n",
       "<tbody>\n",
       "\t<tr><td> 7</td><td> 1</td><td>1</td><td> 7</td></tr>\n",
       "\t<tr><td> 5</td><td> 6</td><td>0</td><td> 6</td></tr>\n",
       "\t<tr><td> 5</td><td> 1</td><td>1</td><td> 5</td></tr>\n",
       "\t<tr><td> 7</td><td> 8</td><td>0</td><td> 8</td></tr>\n",
       "\t<tr><td> 4</td><td> 2</td><td>1</td><td> 4</td></tr>\n",
       "\t<tr><td>10</td><td> 1</td><td>1</td><td>10</td></tr>\n",
       "\t<tr><td> 1</td><td>10</td><td>0</td><td>10</td></tr>\n",
       "\t<tr><td> 5</td><td> 6</td><td>0</td><td> 6</td></tr>\n",
       "\t<tr><td> 3</td><td> 7</td><td>0</td><td> 7</td></tr>\n",
       "\t<tr><td> 9</td><td> 8</td><td>1</td><td> 9</td></tr>\n",
       "</tbody>\n",
       "</table>\n"
      ],
      "text/latex": [
       "A tibble: 10 × 4\n",
       "\\begin{tabular}{llll}\n",
       " y1 & y0 & d & yo\\\\\n",
       " <dbl> & <dbl> & <dbl> & <dbl>\\\\\n",
       "\\hline\n",
       "\t  7 &  1 & 1 &  7\\\\\n",
       "\t  5 &  6 & 0 &  6\\\\\n",
       "\t  5 &  1 & 1 &  5\\\\\n",
       "\t  7 &  8 & 0 &  8\\\\\n",
       "\t  4 &  2 & 1 &  4\\\\\n",
       "\t 10 &  1 & 1 & 10\\\\\n",
       "\t  1 & 10 & 0 & 10\\\\\n",
       "\t  5 &  6 & 0 &  6\\\\\n",
       "\t  3 &  7 & 0 &  7\\\\\n",
       "\t  9 &  8 & 1 &  9\\\\\n",
       "\\end{tabular}\n"
      ],
      "text/markdown": [
       "\n",
       "A tibble: 10 × 4\n",
       "\n",
       "| y1 &lt;dbl&gt; | y0 &lt;dbl&gt; | d &lt;dbl&gt; | yo &lt;dbl&gt; |\n",
       "|---|---|---|---|\n",
       "|  7 |  1 | 1 |  7 |\n",
       "|  5 |  6 | 0 |  6 |\n",
       "|  5 |  1 | 1 |  5 |\n",
       "|  7 |  8 | 0 |  8 |\n",
       "|  4 |  2 | 1 |  4 |\n",
       "| 10 |  1 | 1 | 10 |\n",
       "|  1 | 10 | 0 | 10 |\n",
       "|  5 |  6 | 0 |  6 |\n",
       "|  3 |  7 | 0 |  7 |\n",
       "|  9 |  8 | 1 |  9 |\n",
       "\n"
      ],
      "text/plain": [
       "   y1 y0 d yo\n",
       "1   7  1 1  7\n",
       "2   5  6 0  6\n",
       "3   5  1 1  5\n",
       "4   7  8 0  8\n",
       "5   4  2 1  4\n",
       "6  10  1 1 10\n",
       "7   1 10 0 10\n",
       "8   5  6 0  6\n",
       "9   3  7 0  7\n",
       "10  9  8 1  9"
      ]
     },
     "metadata": {},
     "output_type": "display_data"
    }
   ],
   "source": [
    "po <- tibble(\n",
    "    y1 = c(7, 5, 5, 7, 4, 10, 1, 5, 3, 9),\n",
    "    y0 = c(1, 6, 1, 8, 2, 1, 10, 6, 7, 8),\n",
    "    d = c(1, 0, 1, 0, 1, 1, 0, 0, 0, 1),\n",
    "    yo = c(7, 6, 5, 8, 4, 10, 10, 6, 7, 9)\n",
    ")\n",
    "po"
   ]
  },
  {
   "cell_type": "code",
   "execution_count": 169,
   "metadata": {
    "vscode": {
     "languageId": "r"
    }
   },
   "outputs": [
    {
     "data": {
      "text/html": [
       "<table class=\"dataframe\">\n",
       "<caption>A data.frame: 1 × 1</caption>\n",
       "<thead>\n",
       "\t<tr><th scope=col>ATE</th></tr>\n",
       "\t<tr><th scope=col>&lt;dbl&gt;</th></tr>\n",
       "</thead>\n",
       "<tbody>\n",
       "\t<tr><td>0.6</td></tr>\n",
       "</tbody>\n",
       "</table>\n"
      ],
      "text/latex": [
       "A data.frame: 1 × 1\n",
       "\\begin{tabular}{l}\n",
       " ATE\\\\\n",
       " <dbl>\\\\\n",
       "\\hline\n",
       "\t 0.6\\\\\n",
       "\\end{tabular}\n"
      ],
      "text/markdown": [
       "\n",
       "A data.frame: 1 × 1\n",
       "\n",
       "| ATE &lt;dbl&gt; |\n",
       "|---|\n",
       "| 0.6 |\n",
       "\n"
      ],
      "text/plain": [
       "  ATE\n",
       "1 0.6"
      ]
     },
     "metadata": {},
     "output_type": "display_data"
    }
   ],
   "source": [
    "po %>%\n",
    "    summarize(ATE=mean(y1)-mean(y0))  # idea world"
   ]
  },
  {
   "cell_type": "code",
   "execution_count": 163,
   "metadata": {
    "vscode": {
     "languageId": "r"
    }
   },
   "outputs": [
    {
     "data": {
      "text/html": [
       "<table class=\"dataframe\">\n",
       "<caption>A tibble: 1 × 3</caption>\n",
       "<thead>\n",
       "\t<tr><th scope=col>y0_d0</th><th scope=col>y0_d1</th><th scope=col>selection_bias</th></tr>\n",
       "\t<tr><th scope=col>&lt;dbl&gt;</th><th scope=col>&lt;dbl&gt;</th><th scope=col>&lt;dbl&gt;</th></tr>\n",
       "</thead>\n",
       "<tbody>\n",
       "\t<tr><td>7.4</td><td>2.6</td><td>-4.8</td></tr>\n",
       "</tbody>\n",
       "</table>\n"
      ],
      "text/latex": [
       "A tibble: 1 × 3\n",
       "\\begin{tabular}{lll}\n",
       " y0\\_d0 & y0\\_d1 & selection\\_bias\\\\\n",
       " <dbl> & <dbl> & <dbl>\\\\\n",
       "\\hline\n",
       "\t 7.4 & 2.6 & -4.8\\\\\n",
       "\\end{tabular}\n"
      ],
      "text/markdown": [
       "\n",
       "A tibble: 1 × 3\n",
       "\n",
       "| y0_d0 &lt;dbl&gt; | y0_d1 &lt;dbl&gt; | selection_bias &lt;dbl&gt; |\n",
       "|---|---|---|\n",
       "| 7.4 | 2.6 | -4.8 |\n",
       "\n"
      ],
      "text/plain": [
       "  y0_d0 y0_d1 selection_bias\n",
       "1 7.4   2.6   -4.8          "
      ]
     },
     "metadata": {},
     "output_type": "display_data"
    }
   ],
   "source": [
    "po %>%\n",
    "    group_by(d) %>%\n",
    "    summarize(control_mean = mean(y0)) %>%\n",
    "    column_to_rownames('d') %>%\n",
    "    t() %>% as_tibble() %>%\n",
    "    rename('y0_d1'='1', 'y0_d0'='0') %>%\n",
    "    mutate(selection_bias=y0_d1 - y0_d0)\n"
   ]
  },
  {
   "cell_type": "code",
   "execution_count": 168,
   "metadata": {
    "vscode": {
     "languageId": "r"
    }
   },
   "outputs": [
    {
     "data": {
      "text/html": [
       "<table class=\"dataframe\">\n",
       "<caption>A tibble: 2 × 4</caption>\n",
       "<thead>\n",
       "\t<tr><th scope=col>d</th><th scope=col>treat_mean</th><th scope=col>control_mean</th><th scope=col>hetergenous_bias</th></tr>\n",
       "\t<tr><th scope=col>&lt;dbl&gt;</th><th scope=col>&lt;dbl&gt;</th><th scope=col>&lt;dbl&gt;</th><th scope=col>&lt;dbl&gt;</th></tr>\n",
       "</thead>\n",
       "<tbody>\n",
       "\t<tr><td>0</td><td>4.2</td><td>7.4</td><td>-3.2</td></tr>\n",
       "\t<tr><td>1</td><td>7.0</td><td>2.6</td><td> 4.4</td></tr>\n",
       "</tbody>\n",
       "</table>\n"
      ],
      "text/latex": [
       "A tibble: 2 × 4\n",
       "\\begin{tabular}{llll}\n",
       " d & treat\\_mean & control\\_mean & hetergenous\\_bias\\\\\n",
       " <dbl> & <dbl> & <dbl> & <dbl>\\\\\n",
       "\\hline\n",
       "\t 0 & 4.2 & 7.4 & -3.2\\\\\n",
       "\t 1 & 7.0 & 2.6 &  4.4\\\\\n",
       "\\end{tabular}\n"
      ],
      "text/markdown": [
       "\n",
       "A tibble: 2 × 4\n",
       "\n",
       "| d &lt;dbl&gt; | treat_mean &lt;dbl&gt; | control_mean &lt;dbl&gt; | hetergenous_bias &lt;dbl&gt; |\n",
       "|---|---|---|---|\n",
       "| 0 | 4.2 | 7.4 | -3.2 |\n",
       "| 1 | 7.0 | 2.6 |  4.4 |\n",
       "\n"
      ],
      "text/plain": [
       "  d treat_mean control_mean hetergenous_bias\n",
       "1 0 4.2        7.4          -3.2            \n",
       "2 1 7.0        2.6           4.4            "
      ]
     },
     "metadata": {},
     "output_type": "display_data"
    }
   ],
   "source": [
    "po %>%\n",
    "    group_by(d) %>%\n",
    "    summarize(treat_mean=mean(y1), control_mean=mean(y0)) %>%\n",
    "    mutate(hetergenous_bias=treat_mean-control_mean)"
   ]
  },
  {
   "cell_type": "code",
   "execution_count": 171,
   "metadata": {
    "vscode": {
     "languageId": "r"
    }
   },
   "outputs": [
    {
     "data": {
      "text/html": [
       "<table class=\"dataframe\">\n",
       "<caption>A tibble: 2 × 2</caption>\n",
       "<thead>\n",
       "\t<tr><th scope=col>d</th><th scope=col>observed_mean</th></tr>\n",
       "\t<tr><th scope=col>&lt;dbl&gt;</th><th scope=col>&lt;dbl&gt;</th></tr>\n",
       "</thead>\n",
       "<tbody>\n",
       "\t<tr><td>0</td><td>7.4</td></tr>\n",
       "\t<tr><td>1</td><td>7.0</td></tr>\n",
       "</tbody>\n",
       "</table>\n"
      ],
      "text/latex": [
       "A tibble: 2 × 2\n",
       "\\begin{tabular}{ll}\n",
       " d & observed\\_mean\\\\\n",
       " <dbl> & <dbl>\\\\\n",
       "\\hline\n",
       "\t 0 & 7.4\\\\\n",
       "\t 1 & 7.0\\\\\n",
       "\\end{tabular}\n"
      ],
      "text/markdown": [
       "\n",
       "A tibble: 2 × 2\n",
       "\n",
       "| d &lt;dbl&gt; | observed_mean &lt;dbl&gt; |\n",
       "|---|---|\n",
       "| 0 | 7.4 |\n",
       "| 1 | 7.0 |\n",
       "\n"
      ],
      "text/plain": [
       "  d observed_mean\n",
       "1 0 7.4          \n",
       "2 1 7.0          "
      ]
     },
     "metadata": {},
     "output_type": "display_data"
    }
   ],
   "source": [
    "# estimated differences\n",
    "po %>%\n",
    "    group_by(d) %>%\n",
    "    summarize(observed_mean=mean(yo))"
   ]
  },
  {
   "cell_type": "code",
   "execution_count": 182,
   "metadata": {
    "vscode": {
     "languageId": "r"
    }
   },
   "outputs": [
    {
     "data": {
      "text/html": [
       "-0.4"
      ],
      "text/latex": [
       "-0.4"
      ],
      "text/markdown": [
       "-0.4"
      ],
      "text/plain": [
       "[1] -0.4"
      ]
     },
     "metadata": {},
     "output_type": "display_data"
    }
   ],
   "source": [
    "7.0-7.4"
   ]
  },
  {
   "cell_type": "code",
   "execution_count": 184,
   "metadata": {
    "vscode": {
     "languageId": "r"
    }
   },
   "outputs": [
    {
     "data": {
      "text/html": [
       "-0.4"
      ],
      "text/latex": [
       "-0.4"
      ],
      "text/markdown": [
       "-0.4"
      ],
      "text/plain": [
       "[1] -0.4"
      ]
     },
     "metadata": {},
     "output_type": "display_data"
    }
   ],
   "source": [
    "0.6 - 4.8 + 0.5*(4.4-(-3.2))"
   ]
  },
  {
   "cell_type": "markdown",
   "metadata": {},
   "source": [
    "## SUTVA \n",
    "\n",
    "Stable Unit Treatment Values Assumption (SUTVA) means: \n",
    "\n",
    "1. No interference\n",
    "    * The potential outcomes for any unit do not vary with the treatments assigned to other units\n",
    "    * A subject’s potential outcome is not affected by other subjects’ exposure to the treatment\n",
    "2. No hidden variations of treatment\n",
    "    * For each unit, there are no different forms or versions of each treatment \n",
    "    level, which lead to different potential outcomes (Consistency)"
   ]
  },
  {
   "cell_type": "markdown",
   "metadata": {},
   "source": [
    "## Fisher's Exact Test\n",
    "\n",
    "![tea-pot](https://upload.wikimedia.org/wikipedia/commons/3/37/Nice_Cup_of_Tea.jpg)\n",
    "\n",
    "Here we consider the famous tea tasting example! In a summer tea-part in Cambridge,\n",
    "England, a lady claimed to be able to discern, by taste alone, whether a cup \n",
    "of tea with milk had the tea poured first or the milk poured first. An \n",
    "experiment was performed by Sir R.A. Fisher himself, then and there, \n",
    "to see if her claim was valid. Eight cups of tea were prepared and \n",
    "presented to her in random order. Four had the milk poured first, and other \n",
    "four had the tea poured first. The lady tasted each one and rendered her opinion. \n",
    "The results are summarized in the following $2 \\times 2$ table: \n",
    "\n",
    "| actual\\guess | tea | milk |\n",
    "|--------------|-----|------|\n",
    "| tea          | 3   | 1    |\n",
    "| milk         | 1   | 3    |\n",
    "\n",
    "We have our null hypothesis $H_0$: the lady is just purely guessing. \n",
    "\n",
    "Suppose we have our $8$ cups of tea prepared and we just need to arrange\n",
    "them and let our 'tea lady' to choose it. For Mr Fisher, he has\n",
    "\n",
    "$${8 \\choose 4} = \\frac{8!}{4!4!} = 1680$$\n",
    "\n",
    "was of combinations. If our tea lady's selection of all four the cups that \n",
    "are truly \"tea first,\" then it has\n",
    "\n",
    "$${4 \\choose 4} {4 \\choose 0} = 24 $$\n",
    "\n",
    "choices. Then the probability that she would correctly identify all four cups is\n",
    "\n",
    "$$\\frac{24}{1680} = \\frac{1}{70} = 0.014s$$\n",
    "\n",
    "However, from our table, we have the following probability:\n",
    "\n",
    "$$\\frac{{4 \\choose 3}{3 \\choose 1}}{{8 \\choose 4}} = \\frac{16}{70} = 0.229$$\n",
    "\n",
    "Then in our experiment, the $p$-value is $0.229+0.014=0.243$, which is only \n",
    "weak evidence against the null. In other words, there is not enough evidence \n",
    "to reject the null hypothesis that the lady is just purely guessing.\n",
    "\n"
   ]
  },
  {
   "cell_type": "code",
   "execution_count": 2,
   "metadata": {
    "vscode": {
     "languageId": "r"
    }
   },
   "outputs": [
    {
     "data": {
      "text/html": [
       "<table class=\"dataframe\">\n",
       "<caption>A matrix: 2 × 2 of type dbl</caption>\n",
       "<thead>\n",
       "\t<tr><th></th><th scope=col>Tea first</th><th scope=col>Milk first</th></tr>\n",
       "</thead>\n",
       "<tbody>\n",
       "\t<tr><th scope=row>Tea</th><td>3</td><td>1</td></tr>\n",
       "\t<tr><th scope=row>Milk</th><td>1</td><td>3</td></tr>\n",
       "</tbody>\n",
       "</table>\n"
      ],
      "text/latex": [
       "A matrix: 2 × 2 of type dbl\n",
       "\\begin{tabular}{r|ll}\n",
       "  & Tea first & Milk first\\\\\n",
       "\\hline\n",
       "\tTea & 3 & 1\\\\\n",
       "\tMilk & 1 & 3\\\\\n",
       "\\end{tabular}\n"
      ],
      "text/markdown": [
       "\n",
       "A matrix: 2 × 2 of type dbl\n",
       "\n",
       "| <!--/--> | Tea first | Milk first |\n",
       "|---|---|---|\n",
       "| Tea | 3 | 1 |\n",
       "| Milk | 1 | 3 |\n",
       "\n"
      ],
      "text/plain": [
       "      Lady_says\n",
       "Truth  Tea first Milk first\n",
       "  Tea  3         1         \n",
       "  Milk 1         3         "
      ]
     },
     "metadata": {},
     "output_type": "display_data"
    }
   ],
   "source": [
    "tea<- matrix(\n",
    "    c(3, 1, 1, 3), \n",
    "    ncol= 2, \n",
    "    dimnames = list(\n",
    "        Truth = c(\"Tea\",\"Milk\" ),\n",
    "        Lady_says = c(\"Tea first\",\"Milk first\")\n",
    "        )\n",
    "    )\n",
    "tea"
   ]
  },
  {
   "cell_type": "code",
   "execution_count": 3,
   "metadata": {
    "vscode": {
     "languageId": "r"
    }
   },
   "outputs": [
    {
     "data": {
      "text/plain": [
       "\n",
       "\tFisher's Exact Test for Count Data\n",
       "\n",
       "data:  tea\n",
       "p-value = 0.2429\n",
       "alternative hypothesis: true odds ratio is greater than 1\n",
       "95 percent confidence interval:\n",
       " 0.3135693       Inf\n",
       "sample estimates:\n",
       "odds ratio \n",
       "  6.408309 \n"
      ]
     },
     "metadata": {},
     "output_type": "display_data"
    }
   ],
   "source": [
    "fisher.test(tea, alternative = \"greater\")"
   ]
  },
  {
   "cell_type": "code",
   "execution_count": 5,
   "metadata": {
    "vscode": {
     "languageId": "r"
    }
   },
   "outputs": [
    {
     "data": {
      "text/plain": [
       "\n",
       "\tFisher's Exact Test for Count Data\n",
       "\n",
       "data:  tea\n",
       "p-value = 0.4857\n",
       "alternative hypothesis: true odds ratio is not equal to 1\n",
       "95 percent confidence interval:\n",
       "   0.2117329 621.9337505\n",
       "sample estimates:\n",
       "odds ratio \n",
       "  6.408309 \n"
      ]
     },
     "metadata": {},
     "output_type": "display_data"
    }
   ],
   "source": [
    "fisher.test(tea)  # two sides "
   ]
  },
  {
   "cell_type": "markdown",
   "metadata": {},
   "source": [
    "## Randomization Inference\n",
    "\n",
    "The way to construct randomization inference is to shuffle the treatment\n",
    "indicator, which assumes that _any treatment effect is just pure chance_. \n",
    "\n",
    "There are six steps to randomization inference: \n",
    "\n",
    "1. the choice of the sharp null,\n",
    "2. the construction of the null,\n",
    "3. the picking of a different treatment vector,\n",
    "4. the calculation of the corresponding test statistic for that new treatment vector,\n",
    "5. the randomization over step 3 as you cycle through a number of new treatment vectors (ideally all possible combinations), and 6. the calculation the exact -value."
   ]
  },
  {
   "cell_type": "code",
   "execution_count": 2,
   "metadata": {
    "vscode": {
     "languageId": "r"
    }
   },
   "outputs": [
    {
     "data": {
      "text/html": [
       "<table class=\"dataframe\">\n",
       "<caption>A tibble: 8 × 4</caption>\n",
       "<thead>\n",
       "\t<tr><th scope=col>name</th><th scope=col>treatment</th><th scope=col>outcome</th><th scope=col>id</th></tr>\n",
       "\t<tr><th scope=col>&lt;chr&gt;</th><th scope=col>&lt;dbl&gt;</th><th scope=col>&lt;dbl&gt;</th><th scope=col>&lt;int&gt;</th></tr>\n",
       "</thead>\n",
       "<tbody>\n",
       "\t<tr><td>Andy  </td><td>1</td><td>10</td><td>1</td></tr>\n",
       "\t<tr><td>Ben   </td><td>1</td><td> 5</td><td>2</td></tr>\n",
       "\t<tr><td>Chad  </td><td>1</td><td>16</td><td>3</td></tr>\n",
       "\t<tr><td>Daniel</td><td>1</td><td> 3</td><td>4</td></tr>\n",
       "\t<tr><td>Edith </td><td>0</td><td> 5</td><td>5</td></tr>\n",
       "\t<tr><td>Frank </td><td>0</td><td> 7</td><td>6</td></tr>\n",
       "\t<tr><td>George</td><td>0</td><td> 8</td><td>7</td></tr>\n",
       "\t<tr><td>Hank  </td><td>0</td><td>10</td><td>8</td></tr>\n",
       "</tbody>\n",
       "</table>\n"
      ],
      "text/latex": [
       "A tibble: 8 × 4\n",
       "\\begin{tabular}{llll}\n",
       " name & treatment & outcome & id\\\\\n",
       " <chr> & <dbl> & <dbl> & <int>\\\\\n",
       "\\hline\n",
       "\t Andy   & 1 & 10 & 1\\\\\n",
       "\t Ben    & 1 &  5 & 2\\\\\n",
       "\t Chad   & 1 & 16 & 3\\\\\n",
       "\t Daniel & 1 &  3 & 4\\\\\n",
       "\t Edith  & 0 &  5 & 5\\\\\n",
       "\t Frank  & 0 &  7 & 6\\\\\n",
       "\t George & 0 &  8 & 7\\\\\n",
       "\t Hank   & 0 & 10 & 8\\\\\n",
       "\\end{tabular}\n"
      ],
      "text/markdown": [
       "\n",
       "A tibble: 8 × 4\n",
       "\n",
       "| name &lt;chr&gt; | treatment &lt;dbl&gt; | outcome &lt;dbl&gt; | id &lt;int&gt; |\n",
       "|---|---|---|---|\n",
       "| Andy   | 1 | 10 | 1 |\n",
       "| Ben    | 1 |  5 | 2 |\n",
       "| Chad   | 1 | 16 | 3 |\n",
       "| Daniel | 1 |  3 | 4 |\n",
       "| Edith  | 0 |  5 | 5 |\n",
       "| Frank  | 0 |  7 | 6 |\n",
       "| George | 0 |  8 | 7 |\n",
       "| Hank   | 0 | 10 | 8 |\n",
       "\n"
      ],
      "text/plain": [
       "  name   treatment outcome id\n",
       "1 Andy   1         10      1 \n",
       "2 Ben    1          5      2 \n",
       "3 Chad   1         16      3 \n",
       "4 Daniel 1          3      4 \n",
       "5 Edith  0          5      5 \n",
       "6 Frank  0          7      6 \n",
       "7 George 0          8      7 \n",
       "8 Hank   0         10      8 "
      ]
     },
     "metadata": {},
     "output_type": "display_data"
    }
   ],
   "source": [
    "# create the simulated example\n",
    "ex1 <- tibble(\n",
    "    name=c('Andy', 'Ben', 'Chad', \n",
    "                    'Daniel', 'Edith', 'Frank', 'George', 'Hank'),\n",
    "    treatment=c(rep(1, times=4), rep(0, times=4)),\n",
    "    outcome=c(10, 5, 16, 3, 5, 7, 8, 10),\n",
    "    id=c(1:8)\n",
    ")\n",
    "ex1"
   ]
  },
  {
   "cell_type": "code",
   "execution_count": 47,
   "metadata": {
    "vscode": {
     "languageId": "r"
    }
   },
   "outputs": [
    {
     "data": {
      "text/html": [
       "<table class=\"dataframe\">\n",
       "<caption>A data.frame: 2 × 3</caption>\n",
       "<thead>\n",
       "\t<tr><th></th><th scope=col>control</th><th scope=col>treatment</th><th scope=col>diff</th></tr>\n",
       "\t<tr><th></th><th scope=col>&lt;dbl&gt;</th><th scope=col>&lt;dbl&gt;</th><th scope=col>&lt;dbl&gt;</th></tr>\n",
       "</thead>\n",
       "<tbody>\n",
       "\t<tr><th scope=row>treatment</th><td>0.0</td><td>1.0</td><td>1</td></tr>\n",
       "\t<tr><th scope=row>outcome_mean</th><td>7.5</td><td>8.5</td><td>1</td></tr>\n",
       "</tbody>\n",
       "</table>\n"
      ],
      "text/latex": [
       "A data.frame: 2 × 3\n",
       "\\begin{tabular}{r|lll}\n",
       "  & control & treatment & diff\\\\\n",
       "  & <dbl> & <dbl> & <dbl>\\\\\n",
       "\\hline\n",
       "\ttreatment & 0.0 & 1.0 & 1\\\\\n",
       "\toutcome\\_mean & 7.5 & 8.5 & 1\\\\\n",
       "\\end{tabular}\n"
      ],
      "text/markdown": [
       "\n",
       "A data.frame: 2 × 3\n",
       "\n",
       "| <!--/--> | control &lt;dbl&gt; | treatment &lt;dbl&gt; | diff &lt;dbl&gt; |\n",
       "|---|---|---|---|\n",
       "| treatment | 0.0 | 1.0 | 1 |\n",
       "| outcome_mean | 7.5 | 8.5 | 1 |\n",
       "\n"
      ],
      "text/plain": [
       "             control treatment diff\n",
       "treatment    0.0     1.0       1   \n",
       "outcome_mean 7.5     8.5       1   "
      ]
     },
     "metadata": {},
     "output_type": "display_data"
    }
   ],
   "source": [
    "ex1 %>%\n",
    "    group_by(treatment) %>%\n",
    "    summarize(outcome_mean=mean(outcome)) %>%\n",
    "    t() %>% data.frame() %>%\n",
    "    setNames(c('control', 'treatment')) %>%\n",
    "    mutate(diff=treatment-control)"
   ]
  },
  {
   "cell_type": "code",
   "execution_count": 106,
   "metadata": {
    "vscode": {
     "languageId": "r"
    }
   },
   "outputs": [
    {
     "data": {
      "text/html": [
       "<table class=\"dataframe\">\n",
       "<caption>A tibble: 6 × 10</caption>\n",
       "<thead>\n",
       "\t<tr><th scope=col>treated1</th><th scope=col>treated2</th><th scope=col>treated3</th><th scope=col>treated4</th><th scope=col>permutation</th><th scope=col>name</th><th scope=col>treatment</th><th scope=col>outcome</th><th scope=col>id</th><th scope=col>d</th></tr>\n",
       "\t<tr><th scope=col>&lt;int&gt;</th><th scope=col>&lt;int&gt;</th><th scope=col>&lt;int&gt;</th><th scope=col>&lt;int&gt;</th><th scope=col>&lt;int&gt;</th><th scope=col>&lt;chr&gt;</th><th scope=col>&lt;dbl&gt;</th><th scope=col>&lt;dbl&gt;</th><th scope=col>&lt;int&gt;</th><th scope=col>&lt;dbl&gt;</th></tr>\n",
       "</thead>\n",
       "<tbody>\n",
       "\t<tr><td>1</td><td>2</td><td>3</td><td>4</td><td>1</td><td>Andy  </td><td>1</td><td>10</td><td>1</td><td>1</td></tr>\n",
       "\t<tr><td>1</td><td>2</td><td>3</td><td>4</td><td>1</td><td>Ben   </td><td>1</td><td> 5</td><td>2</td><td>1</td></tr>\n",
       "\t<tr><td>1</td><td>2</td><td>3</td><td>4</td><td>1</td><td>Chad  </td><td>1</td><td>16</td><td>3</td><td>1</td></tr>\n",
       "\t<tr><td>1</td><td>2</td><td>3</td><td>4</td><td>1</td><td>Daniel</td><td>1</td><td> 3</td><td>4</td><td>1</td></tr>\n",
       "\t<tr><td>1</td><td>2</td><td>3</td><td>4</td><td>1</td><td>Edith </td><td>0</td><td> 5</td><td>5</td><td>0</td></tr>\n",
       "\t<tr><td>1</td><td>2</td><td>3</td><td>4</td><td>1</td><td>Frank </td><td>0</td><td> 7</td><td>6</td><td>0</td></tr>\n",
       "</tbody>\n",
       "</table>\n"
      ],
      "text/latex": [
       "A tibble: 6 × 10\n",
       "\\begin{tabular}{llllllllll}\n",
       " treated1 & treated2 & treated3 & treated4 & permutation & name & treatment & outcome & id & d\\\\\n",
       " <int> & <int> & <int> & <int> & <int> & <chr> & <dbl> & <dbl> & <int> & <dbl>\\\\\n",
       "\\hline\n",
       "\t 1 & 2 & 3 & 4 & 1 & Andy   & 1 & 10 & 1 & 1\\\\\n",
       "\t 1 & 2 & 3 & 4 & 1 & Ben    & 1 &  5 & 2 & 1\\\\\n",
       "\t 1 & 2 & 3 & 4 & 1 & Chad   & 1 & 16 & 3 & 1\\\\\n",
       "\t 1 & 2 & 3 & 4 & 1 & Daniel & 1 &  3 & 4 & 1\\\\\n",
       "\t 1 & 2 & 3 & 4 & 1 & Edith  & 0 &  5 & 5 & 0\\\\\n",
       "\t 1 & 2 & 3 & 4 & 1 & Frank  & 0 &  7 & 6 & 0\\\\\n",
       "\\end{tabular}\n"
      ],
      "text/markdown": [
       "\n",
       "A tibble: 6 × 10\n",
       "\n",
       "| treated1 &lt;int&gt; | treated2 &lt;int&gt; | treated3 &lt;int&gt; | treated4 &lt;int&gt; | permutation &lt;int&gt; | name &lt;chr&gt; | treatment &lt;dbl&gt; | outcome &lt;dbl&gt; | id &lt;int&gt; | d &lt;dbl&gt; |\n",
       "|---|---|---|---|---|---|---|---|---|---|\n",
       "| 1 | 2 | 3 | 4 | 1 | Andy   | 1 | 10 | 1 | 1 |\n",
       "| 1 | 2 | 3 | 4 | 1 | Ben    | 1 |  5 | 2 | 1 |\n",
       "| 1 | 2 | 3 | 4 | 1 | Chad   | 1 | 16 | 3 | 1 |\n",
       "| 1 | 2 | 3 | 4 | 1 | Daniel | 1 |  3 | 4 | 1 |\n",
       "| 1 | 2 | 3 | 4 | 1 | Edith  | 0 |  5 | 5 | 0 |\n",
       "| 1 | 2 | 3 | 4 | 1 | Frank  | 0 |  7 | 6 | 0 |\n",
       "\n"
      ],
      "text/plain": [
       "  treated1 treated2 treated3 treated4 permutation name   treatment outcome id d\n",
       "1 1        2        3        4        1           Andy   1         10      1  1\n",
       "2 1        2        3        4        1           Ben    1          5      2  1\n",
       "3 1        2        3        4        1           Chad   1         16      3  1\n",
       "4 1        2        3        4        1           Daniel 1          3      4  1\n",
       "5 1        2        3        4        1           Edith  0          5      5  0\n",
       "6 1        2        3        4        1           Frank  0          7      6  0"
      ]
     },
     "metadata": {},
     "output_type": "display_data"
    }
   ],
   "source": [
    "combn(8, 4) %>%  # calculate all possible combinations \n",
    "    t() %>% as_tibble() %>%\n",
    "    transmute(\n",
    "    treated1 = V1, treated2 = V2,\n",
    "    treated3 = V3, treated4 = V4) %>% # label them as four columns \n",
    "    mutate(permutation = 1:70) %>%  # label all permutation \n",
    "    crossing(., ex1) %>%  # combine the dataset\n",
    "    arrange(permutation, name) %>% \n",
    "    mutate(d = case_when(id == treated1 | id == treated2 |\n",
    "                         id == treated3 | id == treated4 ~ 1,\n",
    "                       TRUE ~ 0)) -> all_comb\n",
    "\n",
    "head(all_comb)\n"
   ]
  },
  {
   "cell_type": "code",
   "execution_count": 279,
   "metadata": {
    "vscode": {
     "languageId": "r"
    }
   },
   "outputs": [
    {
     "data": {
      "image/png": "[encoded data removed]",
      "text/plain": [
       "plot without title"
      ]
     },
     "metadata": {
      "image/png": {
       "height": 300,
       "width": 540
      }
     },
     "output_type": "display_data"
    }
   ],
   "source": [
    "all_comb %>%\n",
    "    group_by(permutation, d) %>%\n",
    "    summarize(t_mean=mean(outcome)) %>%\n",
    "    group_by(d) %>%\n",
    "    mutate(index=row_number()) %>%\n",
    "    pivot_wider(\n",
    "        names_from=d, \n",
    "        values_from=t_mean, \n",
    "        names_prefix='group_') %>%\n",
    "    mutate(ate=group_1-group_0) %>%\n",
    "    arrange(desc(ate)) %>%\n",
    "    mutate(rank=row_number(), size=nrow(.)) -> sm_data\n",
    "\n",
    "options(repr.plot.width=9, repr.plot.height=5)  # figsize\n",
    "sm_data %>%\n",
    "    ggplot(aes(ate)) + \n",
    "    geom_histogram(bins=20, color='black', fill='#D2D4DA') +\n",
    "    theme_classic(base_size=14) +\n",
    "    labs(\n",
    "        title='Histogram of Simulated ATE',\n",
    "        x='ATE'\n",
    "        ) + \n",
    "    theme(plot.title=element_text(hjust=0.5, size=16),\n",
    "            axis.text.x=element_text(face='bold'),\n",
    "            axis.title.x=element_text(size=16),\n",
    "            axis.text.y=element_text(face='bold')) +\n",
    "    geom_vline(xintercept=1, linetype='dashed', size=1, show.legend=T) + \n",
    "    annotate(geom='label', x=5, y=6.5, label='-- Experiment Value',\n",
    "            size=5, label.size=NA)"
   ]
  },
  {
   "cell_type": "code",
   "execution_count": 172,
   "metadata": {
    "vscode": {
     "languageId": "r"
    }
   },
   "outputs": [
    {
     "data": {
      "text/html": [
       "<table class=\"dataframe\">\n",
       "<caption>A tibble: 1 × 8</caption>\n",
       "<thead>\n",
       "\t<tr><th scope=col>permutation</th><th scope=col>index</th><th scope=col>group_0</th><th scope=col>group_1</th><th scope=col>ate</th><th scope=col>rank</th><th scope=col>size</th><th scope=col>p_value</th></tr>\n",
       "\t<tr><th scope=col>&lt;int&gt;</th><th scope=col>&lt;int&gt;</th><th scope=col>&lt;dbl&gt;</th><th scope=col>&lt;dbl&gt;</th><th scope=col>&lt;dbl&gt;</th><th scope=col>&lt;int&gt;</th><th scope=col>&lt;int&gt;</th><th scope=col>&lt;dbl&gt;</th></tr>\n",
       "</thead>\n",
       "<tbody>\n",
       "\t<tr><td>1</td><td>1</td><td>7.5</td><td>8.5</td><td>1</td><td>25</td><td>70</td><td>0.3571429</td></tr>\n",
       "</tbody>\n",
       "</table>\n"
      ],
      "text/latex": [
       "A tibble: 1 × 8\n",
       "\\begin{tabular}{llllllll}\n",
       " permutation & index & group\\_0 & group\\_1 & ate & rank & size & p\\_value\\\\\n",
       " <int> & <int> & <dbl> & <dbl> & <dbl> & <int> & <int> & <dbl>\\\\\n",
       "\\hline\n",
       "\t 1 & 1 & 7.5 & 8.5 & 1 & 25 & 70 & 0.3571429\\\\\n",
       "\\end{tabular}\n"
      ],
      "text/markdown": [
       "\n",
       "A tibble: 1 × 8\n",
       "\n",
       "| permutation &lt;int&gt; | index &lt;int&gt; | group_0 &lt;dbl&gt; | group_1 &lt;dbl&gt; | ate &lt;dbl&gt; | rank &lt;int&gt; | size &lt;int&gt; | p_value &lt;dbl&gt; |\n",
       "|---|---|---|---|---|---|---|---|\n",
       "| 1 | 1 | 7.5 | 8.5 | 1 | 25 | 70 | 0.3571429 |\n",
       "\n"
      ],
      "text/plain": [
       "  permutation index group_0 group_1 ate rank size p_value  \n",
       "1 1           1     7.5     8.5     1   25   70   0.3571429"
      ]
     },
     "metadata": {},
     "output_type": "display_data"
    }
   ],
   "source": [
    "sm_data %>%\n",
    "    filter(permutation==1) %>%\n",
    "    mutate(p_value=rank/size)  # one-side "
   ]
  },
  {
   "cell_type": "code",
   "execution_count": 252,
   "metadata": {
    "vscode": {
     "languageId": "r"
    }
   },
   "outputs": [
    {
     "data": {
      "text/html": [
       "<table class=\"dataframe\">\n",
       "<caption>A grouped_df: 1 × 10</caption>\n",
       "<thead>\n",
       "\t<tr><th scope=col>permutation</th><th scope=col>index</th><th scope=col>group_0</th><th scope=col>group_1</th><th scope=col>ate</th><th scope=col>ate_abs</th><th scope=col>rank</th><th scope=col>size</th><th scope=col>new_rank</th><th scope=col>p_value</th></tr>\n",
       "\t<tr><th scope=col>&lt;int&gt;</th><th scope=col>&lt;int&gt;</th><th scope=col>&lt;dbl&gt;</th><th scope=col>&lt;dbl&gt;</th><th scope=col>&lt;dbl&gt;</th><th scope=col>&lt;dbl&gt;</th><th scope=col>&lt;int&gt;</th><th scope=col>&lt;int&gt;</th><th scope=col>&lt;int&gt;</th><th scope=col>&lt;dbl&gt;</th></tr>\n",
       "</thead>\n",
       "<tbody>\n",
       "\t<tr><td>1</td><td>1</td><td>7.5</td><td>8.5</td><td>1</td><td>1</td><td>49</td><td>70</td><td>60</td><td>0.8571429</td></tr>\n",
       "</tbody>\n",
       "</table>\n"
      ],
      "text/latex": [
       "A grouped\\_df: 1 × 10\n",
       "\\begin{tabular}{llllllllll}\n",
       " permutation & index & group\\_0 & group\\_1 & ate & ate\\_abs & rank & size & new\\_rank & p\\_value\\\\\n",
       " <int> & <int> & <dbl> & <dbl> & <dbl> & <dbl> & <int> & <int> & <int> & <dbl>\\\\\n",
       "\\hline\n",
       "\t 1 & 1 & 7.5 & 8.5 & 1 & 1 & 49 & 70 & 60 & 0.8571429\\\\\n",
       "\\end{tabular}\n"
      ],
      "text/markdown": [
       "\n",
       "A grouped_df: 1 × 10\n",
       "\n",
       "| permutation &lt;int&gt; | index &lt;int&gt; | group_0 &lt;dbl&gt; | group_1 &lt;dbl&gt; | ate &lt;dbl&gt; | ate_abs &lt;dbl&gt; | rank &lt;int&gt; | size &lt;int&gt; | new_rank &lt;int&gt; | p_value &lt;dbl&gt; |\n",
       "|---|---|---|---|---|---|---|---|---|---|\n",
       "| 1 | 1 | 7.5 | 8.5 | 1 | 1 | 49 | 70 | 60 | 0.8571429 |\n",
       "\n"
      ],
      "text/plain": [
       "  permutation index group_0 group_1 ate ate_abs rank size new_rank p_value  \n",
       "1 1           1     7.5     8.5     1   1       49   70   60       0.8571429"
      ]
     },
     "metadata": {},
     "output_type": "display_data"
    }
   ],
   "source": [
    "# two side test\n",
    "all_comb %>%\n",
    "    group_by(permutation, d) %>%\n",
    "    summarize(t_mean=mean(outcome)) %>%\n",
    "    group_by(d) %>%\n",
    "    mutate(index=row_number()) %>%\n",
    "    pivot_wider(\n",
    "        names_from=d, \n",
    "        values_from=t_mean, \n",
    "        names_prefix='group_') %>%\n",
    "    mutate(ate=group_1-group_0) %>%\n",
    "    mutate(ate_abs=abs(ate)) %>%\n",
    "    arrange(desc(ate_abs)) %>%\n",
    "    mutate(rank=row_number(), size=nrow(.)) %>%\n",
    "    group_by(ate_abs) %>%\n",
    "    mutate(new_rank=max(rank)) %>%\n",
    "    filter(permutation==1) %>%\n",
    "    mutate(p_value=new_rank/size)\n"
   ]
  },
  {
   "cell_type": "code",
   "execution_count": 96,
   "metadata": {
    "vscode": {
     "languageId": "r"
    }
   },
   "outputs": [
    {
     "data": {
      "text/html": [
       "<table class=\"dataframe\">\n",
       "<caption>A tibble: 1 × 5</caption>\n",
       "<thead>\n",
       "\t<tr><th scope=col>permutation</th><th scope=col>ate</th><th scope=col>rank</th><th scope=col>size</th><th scope=col>p_value</th></tr>\n",
       "\t<tr><th scope=col>&lt;int&gt;</th><th scope=col>&lt;dbl&gt;</th><th scope=col>&lt;int&gt;</th><th scope=col>&lt;int&gt;</th><th scope=col>&lt;dbl&gt;</th></tr>\n",
       "</thead>\n",
       "<tbody>\n",
       "\t<tr><td>1</td><td>1</td><td>25</td><td>70</td><td>0.3571429</td></tr>\n",
       "</tbody>\n",
       "</table>\n"
      ],
      "text/latex": [
       "A tibble: 1 × 5\n",
       "\\begin{tabular}{lllll}\n",
       " permutation & ate & rank & size & p\\_value\\\\\n",
       " <int> & <dbl> & <int> & <int> & <dbl>\\\\\n",
       "\\hline\n",
       "\t 1 & 1 & 25 & 70 & 0.3571429\\\\\n",
       "\\end{tabular}\n"
      ],
      "text/markdown": [
       "\n",
       "A tibble: 1 × 5\n",
       "\n",
       "| permutation &lt;int&gt; | ate &lt;dbl&gt; | rank &lt;int&gt; | size &lt;int&gt; | p_value &lt;dbl&gt; |\n",
       "|---|---|---|---|---|\n",
       "| 1 | 1 | 25 | 70 | 0.3571429 |\n",
       "\n"
      ],
      "text/plain": [
       "  permutation ate rank size p_value  \n",
       "1 1           1   25   70   0.3571429"
      ]
     },
     "metadata": {},
     "output_type": "display_data"
    }
   ],
   "source": [
    "# another way to do it (pivot_wider is better)\n",
    "te1 <- all_comb %>%\n",
    "            group_by(permutation) %>%\n",
    "            filter(d==1) %>%\n",
    "            summarize(te1=mean(outcome))\n",
    "te0 <- all_comb %>%\n",
    "            group_by(permutation) %>%\n",
    "            filter(d==0) %>%\n",
    "            summarize(te0=mean(outcome))\n",
    "inner_join(te1, te0, by = \"permutation\") %>%\n",
    "        mutate(ate = te1 - te0) %>% \n",
    "        select(permutation, ate) %>% \n",
    "        arrange(desc(ate)) %>% \n",
    "        mutate(rank = 1:nrow(.), size=nrow(.)) %>% \n",
    "        filter(permutation==1) %>%  # data from the experiment\n",
    "        mutate(p_value=rank/size)"
   ]
  },
  {
   "cell_type": "markdown",
   "metadata": {},
   "source": [
    "Since the $p$-value is $0.357$, we cannot reject the null hypothesis that\n",
    "the treatment effect is pure chance. However, when we use this kind of test,\n",
    "we need to be careful about _outliers_. Outliers create problems for that test \n",
    "statistic because of the variation that gets introduced in the \n",
    "randomization distribution. So other alternative test statistics \n",
    "become more attractive.\n",
    "\n",
    "But all of these test statistics we’ve been discussing have been differences \n",
    "in the outcomes by treatment status. We considered simple differences in \n",
    "averages, simple differences in log averages, differences in quantiles, \n",
    "and differences in ranks. Imbens and Rubin (2015) note that there are shortcomings \n",
    "that come from focusing solely on a few features of the data (e.g., skewness), \n",
    "as it can cause us to miss differences in other aspects. This specifically \n",
    "can be problematic if the variance in potential outcomes for the treatment group \n",
    "differs from that of the control group. Focusing only on the simple average \n",
    "differences we discussed may not generate $p$-values that are “extreme” \n",
    "enough to reject the null even when the null in fact does not hold. \n",
    "So we may be interested in a test statistic that can detect differences \n",
    "in distributions between the treatment and control units. One such test \n",
    "statistic is the Kolmogorov-Smirnov test statistic.\n",
    "\n",
    "Let's first define the empirical cumulative distribution function (CDF) as:\n",
    "$$\n",
    "\\begin{aligned}\n",
    "\\widehat{F}_C(Y) &=\\frac{1}{N_C} \\sum_{i: D_i=0} 1\\left(Y_i \\leq Y\\right) \\\\\n",
    "\\widehat{F}_T(Y) &=\\frac{1}{N_T} \\sum_{i: D_i=1} 1\\left(Y_i \\leq Y\\right)\n",
    "\\end{aligned}\n",
    "$$\n",
    "\n",
    "If two distributions are the same, then their empirical CDF is the same. \n",
    "But note, empirical CDFs are functions, and test statistics are scalars. \n",
    "So how will we take differences between two functions and turn that \n",
    "into a single scalar quantity? Easy—we will use the maximum difference \n",
    "between the two empirical CDFs. Visually, it will literally be the \n",
    "greatest vertical distance between the two empirical CDFs. That vertical \n",
    "distance will be our test statistic. Formally it is:\n",
    "\n",
    "$$T_{KS}=\\max |\\widehat{F}_T(Y_i) - \\widehat{F}_C(Y_i) | $$"
   ]
  },
  {
   "cell_type": "code",
   "execution_count": 3,
   "metadata": {
    "vscode": {
     "languageId": "r"
    }
   },
   "outputs": [
    {
     "data": {
      "text/html": [
       "<table class=\"dataframe\">\n",
       "<caption>A data.frame: 6 × 4</caption>\n",
       "<thead>\n",
       "\t<tr><th scope=col>d</th><th scope=col>y</th><th scope=col>d</th><th scope=col>y</th></tr>\n",
       "\t<tr><th scope=col>&lt;dbl&gt;</th><th scope=col>&lt;dbl&gt;</th><th scope=col>&lt;dbl&gt;</th><th scope=col>&lt;dbl&gt;</th></tr>\n",
       "</thead>\n",
       "<tbody>\n",
       "\t<tr><td>0</td><td> 0.22</td><td>1</td><td>3.76</td></tr>\n",
       "\t<tr><td>0</td><td>-0.87</td><td>1</td><td>6.31</td></tr>\n",
       "\t<tr><td>0</td><td>-2.39</td><td>1</td><td>2.58</td></tr>\n",
       "\t<tr><td>0</td><td>-1.79</td><td>1</td><td>0.07</td></tr>\n",
       "\t<tr><td>0</td><td> 0.37</td><td>1</td><td>5.76</td></tr>\n",
       "\t<tr><td>0</td><td>-1.54</td><td>1</td><td>3.50</td></tr>\n",
       "</tbody>\n",
       "</table>\n"
      ],
      "text/latex": [
       "A data.frame: 6 × 4\n",
       "\\begin{tabular}{llll}\n",
       " d & y & d & y\\\\\n",
       " <dbl> & <dbl> & <dbl> & <dbl>\\\\\n",
       "\\hline\n",
       "\t 0 &  0.22 & 1 & 3.76\\\\\n",
       "\t 0 & -0.87 & 1 & 6.31\\\\\n",
       "\t 0 & -2.39 & 1 & 2.58\\\\\n",
       "\t 0 & -1.79 & 1 & 0.07\\\\\n",
       "\t 0 &  0.37 & 1 & 5.76\\\\\n",
       "\t 0 & -1.54 & 1 & 3.50\\\\\n",
       "\\end{tabular}\n"
      ],
      "text/markdown": [
       "\n",
       "A data.frame: 6 × 4\n",
       "\n",
       "| d &lt;dbl&gt; | y &lt;dbl&gt; | d &lt;dbl&gt; | y &lt;dbl&gt; |\n",
       "|---|---|---|---|\n",
       "| 0 |  0.22 | 1 | 3.76 |\n",
       "| 0 | -0.87 | 1 | 6.31 |\n",
       "| 0 | -2.39 | 1 | 2.58 |\n",
       "| 0 | -1.79 | 1 | 0.07 |\n",
       "| 0 |  0.37 | 1 | 5.76 |\n",
       "| 0 | -1.54 | 1 | 3.50 |\n",
       "\n"
      ],
      "text/plain": [
       "  d y     d y   \n",
       "1 0  0.22 1 3.76\n",
       "2 0 -0.87 1 6.31\n",
       "3 0 -2.39 1 2.58\n",
       "4 0 -1.79 1 0.07\n",
       "5 0  0.37 1 5.76\n",
       "6 0 -1.54 1 3.50"
      ]
     },
     "metadata": {},
     "output_type": "display_data"
    }
   ],
   "source": [
    "# the simulation\n",
    "tb <- tibble(\n",
    "  d = c(rep(0, 20), rep(1, 20)),\n",
    "  y = c(0.22, -0.87, -2.39, -1.79, 0.37, -1.54, \n",
    "        1.28, -0.31, -0.74, 1.72, \n",
    "        0.38, -0.17, -0.62, -1.10, 0.30, \n",
    "        0.15, 2.30, 0.19, -0.50, -0.9,\n",
    "        -5.13, -2.19, 2.43, -3.83, 0.5, \n",
    "        -3.25, 4.32, 1.63, 5.18, -0.43, \n",
    "        7.11, 4.87, -3.10, -5.81, 3.76, \n",
    "        6.31, 2.58, 0.07, 5.76, 3.50)\n",
    ")\n",
    "cbind(head(tb), tail(tb))"
   ]
  },
  {
   "cell_type": "code",
   "execution_count": 270,
   "metadata": {
    "vscode": {
     "languageId": "r"
    }
   },
   "outputs": [
    {
     "data": {
      "text/html": [
       "<table class=\"dataframe\">\n",
       "<caption>A data.frame: 6 × 6</caption>\n",
       "<thead>\n",
       "\t<tr><th scope=col>x</th><th scope=col>y</th><th scope=col>d</th><th scope=col>x</th><th scope=col>y</th><th scope=col>d</th></tr>\n",
       "\t<tr><th scope=col>&lt;dbl&gt;</th><th scope=col>&lt;dbl&gt;</th><th scope=col>&lt;fct&gt;</th><th scope=col>&lt;dbl&gt;</th><th scope=col>&lt;dbl&gt;</th><th scope=col>&lt;fct&gt;</th></tr>\n",
       "</thead>\n",
       "<tbody>\n",
       "\t<tr><td>-3.712577</td><td>0.0005116173</td><td>0</td><td>12.80964</td><td>0.0002382012</td><td>1</td></tr>\n",
       "\t<tr><td>-3.698222</td><td>0.0005648645</td><td>0</td><td>12.85818</td><td>0.0002206892</td><td>1</td></tr>\n",
       "\t<tr><td>-3.683868</td><td>0.0006218184</td><td>0</td><td>12.90672</td><td>0.0002049130</td><td>1</td></tr>\n",
       "\t<tr><td>-3.669513</td><td>0.0006826713</td><td>0</td><td>12.95526</td><td>0.0001897534</td><td>1</td></tr>\n",
       "\t<tr><td>-3.655159</td><td>0.0007513811</td><td>0</td><td>13.00380</td><td>0.0001757694</td><td>1</td></tr>\n",
       "\t<tr><td>-3.640804</td><td>0.0008246849</td><td>0</td><td>13.05234</td><td>0.0001627873</td><td>1</td></tr>\n",
       "</tbody>\n",
       "</table>\n"
      ],
      "text/latex": [
       "A data.frame: 6 × 6\n",
       "\\begin{tabular}{llllll}\n",
       " x & y & d & x & y & d\\\\\n",
       " <dbl> & <dbl> & <fct> & <dbl> & <dbl> & <fct>\\\\\n",
       "\\hline\n",
       "\t -3.712577 & 0.0005116173 & 0 & 12.80964 & 0.0002382012 & 1\\\\\n",
       "\t -3.698222 & 0.0005648645 & 0 & 12.85818 & 0.0002206892 & 1\\\\\n",
       "\t -3.683868 & 0.0006218184 & 0 & 12.90672 & 0.0002049130 & 1\\\\\n",
       "\t -3.669513 & 0.0006826713 & 0 & 12.95526 & 0.0001897534 & 1\\\\\n",
       "\t -3.655159 & 0.0007513811 & 0 & 13.00380 & 0.0001757694 & 1\\\\\n",
       "\t -3.640804 & 0.0008246849 & 0 & 13.05234 & 0.0001627873 & 1\\\\\n",
       "\\end{tabular}\n"
      ],
      "text/markdown": [
       "\n",
       "A data.frame: 6 × 6\n",
       "\n",
       "| x &lt;dbl&gt; | y &lt;dbl&gt; | d &lt;fct&gt; | x &lt;dbl&gt; | y &lt;dbl&gt; | d &lt;fct&gt; |\n",
       "|---|---|---|---|---|---|\n",
       "| -3.712577 | 0.0005116173 | 0 | 12.80964 | 0.0002382012 | 1 |\n",
       "| -3.698222 | 0.0005648645 | 0 | 12.85818 | 0.0002206892 | 1 |\n",
       "| -3.683868 | 0.0006218184 | 0 | 12.90672 | 0.0002049130 | 1 |\n",
       "| -3.669513 | 0.0006826713 | 0 | 12.95526 | 0.0001897534 | 1 |\n",
       "| -3.655159 | 0.0007513811 | 0 | 13.00380 | 0.0001757694 | 1 |\n",
       "| -3.640804 | 0.0008246849 | 0 | 13.05234 | 0.0001627873 | 1 |\n",
       "\n"
      ],
      "text/plain": [
       "  x         y            d x        y            d\n",
       "1 -3.712577 0.0005116173 0 12.80964 0.0002382012 1\n",
       "2 -3.698222 0.0005648645 0 12.85818 0.0002206892 1\n",
       "3 -3.683868 0.0006218184 0 12.90672 0.0002049130 1\n",
       "4 -3.669513 0.0006826713 0 12.95526 0.0001897534 1\n",
       "5 -3.655159 0.0007513811 0 13.00380 0.0001757694 1\n",
       "6 -3.640804 0.0008246849 0 13.05234 0.0001627873 1"
      ]
     },
     "metadata": {},
     "output_type": "display_data"
    }
   ],
   "source": [
    "kdensity_d1 <- tb %>%\n",
    "  filter(d == 1) %>% \n",
    "  pull(y)\n",
    "kdensity_d1 <- density(kdensity_d1)\n",
    "\n",
    "kdensity_d0 <- tb %>%\n",
    "  filter(d == 0) %>% \n",
    "  pull(y)\n",
    "kdensity_d0 <- density(kdensity_d0)\n",
    "kdensity_d0 <- tibble(x=kdensity_d0$x, y=kdensity_d0$y, d=0)\n",
    "kdensity_d1 <- tibble(x=kdensity_d1$x, y=kdensity_d1$y, d=1)\n",
    "kdensity <- rbind(kdensity_d0, kdensity_d1)\n",
    "kdensity$d <- as_factor(kdensity$d)\n",
    "\n",
    "cbind(head(kdensity), tail(kdensity))"
   ]
  },
  {
   "cell_type": "code",
   "execution_count": 313,
   "metadata": {
    "vscode": {
     "languageId": "r"
    }
   },
   "outputs": [
    {
     "data": {
      "image/png": "[encoded data removed]",
      "text/plain": [
       "plot without title"
      ]
     },
     "metadata": {
      "image/png": {
       "height": 300,
       "width": 540
      }
     },
     "output_type": "display_data"
    }
   ],
   "source": [
    "kdensity %>%\n",
    "  ggplot()+ \n",
    "  geom_line(size = 0.7, aes(x,y, linetype=d))+\n",
    "  labs(title = \"Kolmogorov-Smirnov Test\")+\n",
    "  scale_linetype_discrete(labels=c('Control', 'Treatment'))+\n",
    "  theme_classic(base_size=14) + \n",
    "  theme(plot.title=element_text(hjust=0.5, size=16),\n",
    "            axis.text.x=element_text(face='bold'),\n",
    "            axis.title.x=element_text(size=16),\n",
    "            axis.text.y=element_text(face='bold'),\n",
    "            legend.title=element_blank(),\n",
    "            legend.text = element_text(size=15),\n",
    "            legend.position=c(0.84, 0.65)) + \n",
    "  guides(linetype=guide_legend(nrow = 2))"
   ]
  },
  {
   "cell_type": "markdown",
   "metadata": {},
   "source": [
    "If we do RI with the data from above using the simple difference as test statistic, \n",
    "we can’t reject the sharp null of having zero effect for all the units, \n",
    "despite having two evidently different outcome distributions."
   ]
  },
  {
   "cell_type": "code",
   "execution_count": 5,
   "metadata": {
    "vscode": {
     "languageId": "r"
    }
   },
   "outputs": [
    {
     "data": {
      "text/plain": [
       "                   term estimate two_tailed_p_value\n",
       "1 Custom Test Statistic    1.415              0.139"
      ]
     },
     "metadata": {},
     "output_type": "display_data"
    }
   ],
   "source": [
    "# calculate p-value for the data=tb by using absolute difference\n",
    "# Declaring the `test_function`\n",
    "sd <- function(data) {\n",
    "  # it receives a dataframe\n",
    "  data %>% \n",
    "  summarise(te1 = mean(y[d == 1], na.rm=TRUE),\n",
    "            te0 = mean(y[d == 0], na.rm=TRUE),\n",
    "            sdo = te1 - te0) %>% \n",
    "    # and returns a scalar\n",
    "    pull(sdo)\n",
    "}\n",
    "\n",
    "set.seed(666)\n",
    "\n",
    "conduct_ri(\n",
    "  test_function = sd,\n",
    "  assignment = \"d\",\n",
    "  outcome = \"y\",\n",
    "  declaration = declare_ra(N = 40, m = 20),\n",
    "  sharp_hypothesis = 0,\n",
    "  data = tb,\n",
    "  sims = 5000  # simulate 5000 times\n",
    ")"
   ]
  },
  {
   "cell_type": "code",
   "execution_count": 7,
   "metadata": {
    "vscode": {
     "languageId": "r"
    }
   },
   "outputs": [
    {
     "data": {
      "text/plain": [
       "                   term estimate two_tailed_p_value\n",
       "1 Custom Test Statistic     0.45              0.023"
      ]
     },
     "metadata": {},
     "output_type": "display_data"
    }
   ],
   "source": [
    "# ks statistics \n",
    "ks_statistic <- function(data) {\n",
    "  \n",
    "  control <- data[data$d == 0, ]$y\n",
    "  treated <- data[data$d == 1, ]$y\n",
    "  \n",
    "  cdf1 <- ecdf(control)  # empirical cumulate density function \n",
    "  cdf2 <- ecdf(treated)\n",
    "  \n",
    "  # construct the common base for x-axis \n",
    "  minMax <- seq(min(control, treated),\n",
    "                max(control, treated),\n",
    "                length.out=length(c(control, treated))) \n",
    "  \n",
    "  # find the x-value that has the largest vertical difference\n",
    "  # between two ecdf \n",
    "  x0 <-\n",
    "    minMax[which(\n",
    "        abs(\n",
    "            cdf1(minMax) - cdf2(minMax)\n",
    "            ) == max(\n",
    "                abs(cdf1(minMax) - cdf2(minMax))\n",
    "                )\n",
    "            )]\n",
    "  \n",
    "  y0 <- cdf1(x0)\n",
    "  y1 <- cdf2(x0) \n",
    "  \n",
    "  diff <- unique(abs(y0 - y1))\n",
    "  \n",
    "  diff\n",
    "  \n",
    "}\n",
    "\n",
    "set.seed(667)\n",
    "\n",
    "conduct_ri(\n",
    "  test_function = ks_statistic,\n",
    "  assignment = \"d\",\n",
    "  outcome = \"y\",\n",
    "  declaration = declare_ra(N = 40, m = 20),\n",
    "  sharp_hypothesis = 0,\n",
    "  data = tb,\n",
    "  sims = 5000  # simulate 5000 times\n",
    ")"
   ]
  },
  {
   "cell_type": "markdown",
   "metadata": {},
   "source": [
    "We can see that _KS_ test will reject the null hypothesis, whereas simple\n",
    "difference will not. "
   ]
  },
  {
   "cell_type": "code",
   "execution_count": 42,
   "metadata": {
    "vscode": {
     "languageId": "r"
    }
   },
   "outputs": [
    {
     "data": {
      "image/png": "[encoded data removed]",
      "text/plain": [
       "plot without title"
      ]
     },
     "metadata": {
      "image/png": {
       "height": 300,
       "width": 540
      }
     },
     "output_type": "display_data"
    }
   ],
   "source": [
    "# plot the ecdf and ks statistics\n",
    "# calculate ks \n",
    "cdf1 <- ecdf(tb[tb$d==1, ]$y)  # ecdf function for treatment group\n",
    "cdf0 <- ecdf(tb[tb$d==0, ]$y)  # for control group\n",
    "xaxis_seq <- seq(min(tb$y), max(tb$y), length.out=length(tb$y))\n",
    "\n",
    "# find the value (location) on x-axis that gives the largest distance\n",
    "x_max <- xaxis_seq[which(\n",
    "    abs(\n",
    "        cdf1(xaxis_seq) - cdf2(xaxis_seq)\n",
    "        ) == max(\n",
    "            abs(cdf1(xaxis_seq) - cdf2(xaxis_seq))\n",
    "        )\n",
    ")]\n",
    "\n",
    "y1 <- cdf1(x_max)\n",
    "y0 <- cdf0(x_max)\n",
    "\n",
    "tb %>% \n",
    "    ggplot(aes(y)) + \n",
    "    stat_ecdf(\n",
    "        aes(linetype=factor(d)),\n",
    "        geom = \"step\",\n",
    "        size=0.7\n",
    "        ) + \n",
    "    scale_linetype_manual(\n",
    "        values=c('solid', 'dotted'),\n",
    "        labels=c('Treatment', 'Control')\n",
    "        ) + \n",
    "    labs(\n",
    "        x='Experiment Values',\n",
    "        y='Density',\n",
    "        title='Cumulative distribution for two groups'\n",
    "    ) + \n",
    "    geom_segment(\n",
    "        aes(x=x_max, y=y0, xend=x_max, yend=y1),\n",
    "        linetype='dotdash'\n",
    "    ) + \n",
    "    theme_classic(base_size=14) +\n",
    "    theme(plot.title=element_text(hjust=0.5, size=16),\n",
    "            axis.text.x=element_text(face='bold'),\n",
    "            axis.title.x=element_text(size=16),\n",
    "            axis.text.y=element_text(face='bold'),\n",
    "            legend.title=element_blank(),\n",
    "            legend.text = element_text(size=15),\n",
    "            legend.position=c(0.84, 0.35))"
   ]
  },
  {
   "cell_type": "markdown",
   "metadata": {},
   "source": [
    "## References\n",
    "\n",
    "1. [Fisher's Exact Test](https://online.stat.psu.edu/stat504/lesson/4/4.5)\n",
    "2. [Randomization in R](https://www.franciscoyira.com/post/randomization-inference-causal-mixtape/)"
   ]
  }
 ],
 "metadata": {
  "kernelspec": {
   "display_name": "R",
   "language": "R",
   "name": "ir"
  },
  "language_info": {
   "codemirror_mode": "r",
   "file_extension": ".r",
   "mimetype": "text/x-r-source",
   "name": "R",
   "pygments_lexer": "r",
   "version": "4.2.1"
  },
  "orig_nbformat": 4,
  "vscode": {
   "interpreter": {
    "hash": "e13f5d1cc182b2bbe3003633a16914962b53f739e17c3b9e352b9f71c6ebe6fb"
   }
  }
 },
 "nbformat": 4,
 "nbformat_minor": 2
}
