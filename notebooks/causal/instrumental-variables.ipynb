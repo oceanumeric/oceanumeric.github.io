{
 "cells": [
  {
   "cell_type": "markdown",
   "metadata": {},
   "source": [
    "# Instrumental Variables \n",
    "\n",
    "Here is our DAG that shows a chain of causal effects that contains \n",
    "all the information needed to understand the instrumental variables \n",
    "strategy. \n",
    "\n",
    "![dag-instrument](https://mixtape.scunning.com/07-Instrumental_Variables_files/figure-html/iv_dag1-1.png)\n",
    "\n",
    "The key point is that we need to find an instrumental variable that\n",
    "\n",
    "- $Z$ is independent with $U$\n",
    "- $Z$ is correlated with $D$\n",
    "\n",
    "When we have the omitted variable, the coefficients \n",
    "estimated from OLS is biased. Here is the simple\n",
    "derivation:\n",
    "\n",
    "$$\n",
    "\\begin{aligned}\n",
    "\\hat{\\beta} & = (X'X)^{-1}X'(X\\beta + Z \\delta + \\epsilon ) \\\\\n",
    "            & = \\beta + (X'X)^{-1}X'Z \\delta + (X'X)^{-1}X' \\epsilon \\\\\n",
    "E(\\hat{\\beta}) &= \\beta +  (X'X)^{-1} E[X'Z] \\delta \\\\\n",
    "               & = \\beta + \\text{bias}\n",
    "\\end{aligned}\n",
    "$$"
   ]
  },
  {
   "cell_type": "markdown",
   "metadata": {},
   "source": [
    "To estimate coefficients with instrumental variables, we could either \n",
    "esimate it directly or use two-stage least squares. The most common\n",
    "IV specification uses the following estimator:\n",
    "\n",
    "$$\\hat{\\beta}_{IV} = (Z'X)^{-1} Z'Y$$\n",
    "\n",
    "If you will use two-stage least square:\n",
    "\n",
    "Stage 1: Regression each of $X$ on $Z$\n",
    "\n",
    "$$\\hat{\\delta} = (Z'Z)^{-1} Z' X $$\n",
    "\n",
    "Then save the predicted values:\n",
    "\n",
    "$$\\hat{X} = Z \\hat{\\delta} $$\n",
    "\n",
    "In the second stage, the regression of interest is estimated as usual, except that in this stage each endogenous covariate is replaced with the predicted values from the first stage:\n",
    "\n",
    "$$Y = \\hat{X} \\beta + \\epsilon $$"
   ]
  },
  {
   "cell_type": "markdown",
   "metadata": {},
   "source": [
    "## Weak Instrument Problem\n",
    "\n",
    "To understand weak instrument problem, read this paper: _Problems with Instrumental Variables Estimation When the Correlation Between the Instruments and the Endogenous Explanatory Variable Is Weak_ \n",
    "\n",
    "Recent study have tried to addressed this issue: _Weak Instruments in IV Regression: Theory and Practice_\n",
    "\n",
    "NBER has some mini courses related to this: [link](https://www.nber.org/research/lectures?endDate=&facet=lectureType%3AMethods%20Lecture&page=1&perPage=10&q=&startDate=)\n",
    "\n",
    "Simple rule: Use the F-statistic to test for the significance of excluded instruments. If the first-stage F-statistic is smaller than 10, this indicates the presence of a weak instrument."
   ]
  },
  {
   "cell_type": "markdown",
   "metadata": {},
   "source": [
    "## Homogeneous vs. Heterogeneous Treatment Effects \n",
    "\n",
    "Both models, estimation, and interpretation have to be tuned based on the \n",
    "assumption that the treatment effects are homonogeneous or heterogeneous. \n",
    "\n"
   ]
  },
  {
   "cell_type": "code",
   "execution_count": 1,
   "metadata": {},
   "outputs": [],
   "source": [
    "use https://github.com/scunning1975/mixtape/raw/master/card.dta, clear"
   ]
  },
  {
   "cell_type": "code",
   "execution_count": 3,
   "metadata": {},
   "outputs": [
    {
     "name": "stdout",
     "output_type": "stream",
     "text": [
      "\n",
      "              storage   display    value\n",
      "variable name   type    format     label      variable label\n",
      "--------------------------------------------------------------------------------\n",
      "lwage           float   %9.0g                 \n",
      "educ            float   %9.0g                 \n",
      "exper           float   %9.0g                 \n",
      "black           float   %9.0g                 \n",
      "south           float   %9.0g                 \n",
      "married         float   %9.0g                 \n",
      "smsa            float   %9.0g                 \n"
     ]
    }
   ],
   "source": [
    "describe lwage educ exper black south married smsa"
   ]
  },
  {
   "cell_type": "code",
   "execution_count": 4,
   "metadata": {},
   "outputs": [
    {
     "name": "stdout",
     "output_type": "stream",
     "text": [
      "\n",
      "      Source |       SS           df       MS      Number of obs   =     3,003\n",
      "-------------+----------------------------------   F(6, 2996)      =    219.15\n",
      "       Model |  180.255137         6  30.0425229   Prob > F        =    0.0000\n",
      "    Residual |  410.705979     2,996  .137084773   R-squared       =    0.3050\n",
      "-------------+----------------------------------   Adj R-squared   =    0.3036\n",
      "       Total |  590.961117     3,002  .196855802   Root MSE        =    .37025\n",
      "\n",
      "------------------------------------------------------------------------------\n",
      "       lwage |      Coef.   Std. Err.      t    P>|t|     [95% Conf. Interval]\n",
      "-------------+----------------------------------------------------------------\n",
      "        educ |   .0711729   .0034824    20.44   0.000     .0643447     .078001\n",
      "       exper |   .0341518   .0022144    15.42   0.000     .0298098    .0384938\n",
      "       black |  -.1660274   .0176137    -9.43   0.000    -.2005636   -.1314913\n",
      "       south |  -.1315518   .0149691    -8.79   0.000    -.1609024   -.1022011\n",
      "     married |  -.0358707   .0034012   -10.55   0.000    -.0425396   -.0292019\n",
      "        smsa |   .1757871   .0154578    11.37   0.000     .1454782    .2060961\n",
      "       _cons |   5.063317   .0637402    79.44   0.000     4.938338    5.188296\n",
      "------------------------------------------------------------------------------\n"
     ]
    }
   ],
   "source": [
    "reg lwage educ exper black south married smsa "
   ]
  },
  {
   "cell_type": "code",
   "execution_count": 7,
   "metadata": {},
   "outputs": [
    {
     "name": "stdout",
     "output_type": "stream",
     "text": [
      "\n",
      "Instrumental variables (2SLS) regression          Number of obs   =      3,003\n",
      "                                                  Wald chi2(6)    =     840.98\n",
      "                                                  Prob > chi2     =     0.0000\n",
      "                                                  R-squared       =     0.2513\n",
      "                                                  Root MSE        =     .38384\n",
      "\n",
      "------------------------------------------------------------------------------\n",
      "       lwage |      Coef.   Std. Err.      z    P>|z|     [95% Conf. Interval]\n",
      "-------------+----------------------------------------------------------------\n",
      "        educ |   .1241642   .0498975     2.49   0.013     .0263668    .2219616\n",
      "       exper |   .0555882   .0202624     2.74   0.006     .0158746    .0953019\n",
      "       black |  -.1156855   .0506823    -2.28   0.022    -.2150211     -.01635\n",
      "       south |  -.1131647   .0232168    -4.87   0.000    -.1586687   -.0676607\n",
      "     married |  -.0319754    .005081    -6.29   0.000    -.0419339   -.0220169\n",
      "        smsa |   .1477065   .0308591     4.79   0.000     .0872237    .2081893\n",
      "       _cons |   4.162476   .8485997     4.91   0.000     2.499251    5.825701\n",
      "------------------------------------------------------------------------------\n",
      "Instrumented:  educ\n",
      "Instruments:   exper black south married smsa nearc4\n"
     ]
    }
   ],
   "source": [
    "ivregress 2sls lwage (educ=nearc4) exper black south married smsa"
   ]
  },
  {
   "cell_type": "code",
   "execution_count": 9,
   "metadata": {},
   "outputs": [
    {
     "name": "stdout",
     "output_type": "stream",
     "text": [
      "\n",
      "      Source |       SS           df       MS      Number of obs   =     3,003\n",
      "-------------+----------------------------------   F(6, 2996)      =    456.14\n",
      "       Model |  10272.0963         6  1712.01605   Prob > F        =    0.0000\n",
      "    Residual |  11244.7835     2,996  3.75326552   R-squared       =    0.4774\n",
      "-------------+----------------------------------   Adj R-squared   =    0.4764\n",
      "       Total |  21516.8798     3,002  7.16751492   Root MSE        =    1.9373\n",
      "\n",
      "------------------------------------------------------------------------------\n",
      "        educ |      Coef.   Std. Err.      t    P>|t|     [95% Conf. Interval]\n",
      "-------------+----------------------------------------------------------------\n",
      "      nearc4 |   .3272826   .0824239     3.97   0.000     .1656695    .4888957\n",
      "       exper |   -.404434   .0089402   -45.24   0.000    -.4219636   -.3869044\n",
      "       black |  -.9475281   .0905256   -10.47   0.000    -1.125027   -.7700295\n",
      "       south |  -.2973528   .0790643    -3.76   0.000    -.4523787   -.1423269\n",
      "     married |  -.0726936   .0177473    -4.10   0.000    -.1074918   -.0378954\n",
      "        smsa |   .4208945    .084868     4.96   0.000     .2544891       .5873\n",
      "       _cons |    16.8307   .1307475   128.73   0.000     16.57433    17.08706\n",
      "------------------------------------------------------------------------------\n"
     ]
    }
   ],
   "source": [
    "reg educ nearc4 exper black south married smsa"
   ]
  },
  {
   "cell_type": "code",
   "execution_count": 10,
   "metadata": {},
   "outputs": [
    {
     "name": "stdout",
     "output_type": "stream",
     "text": [
      "\n",
      " ( 1)  nearc4 = 0\n",
      "\n",
      "       F(  1,  2996) =   15.77\n",
      "            Prob > F =    0.0001\n"
     ]
    }
   ],
   "source": [
    "test nearc4"
   ]
  },
  {
   "cell_type": "code",
   "execution_count": 11,
   "metadata": {},
   "outputs": [
    {
     "name": "stdout",
     "output_type": "stream",
     "text": [
      "\n",
      "First-stage regressions\n",
      "-----------------------\n",
      "\n",
      "                                                Number of obs     =      3,003\n",
      "                                                F(   6,   2996)   =     456.14\n",
      "                                                Prob > F          =     0.0000\n",
      "                                                R-squared         =     0.4774\n",
      "                                                Adj R-squared     =     0.4764\n",
      "                                                Root MSE          =     1.9373\n",
      "\n",
      "------------------------------------------------------------------------------\n",
      "        educ |      Coef.   Std. Err.      t    P>|t|     [95% Conf. Interval]\n",
      "-------------+----------------------------------------------------------------\n",
      "       exper |   -.404434   .0089402   -45.24   0.000    -.4219636   -.3869044\n",
      "       black |  -.9475281   .0905256   -10.47   0.000    -1.125027   -.7700295\n",
      "       south |  -.2973528   .0790643    -3.76   0.000    -.4523787   -.1423269\n",
      "     married |  -.0726936   .0177473    -4.10   0.000    -.1074918   -.0378954\n",
      "        smsa |   .4208945    .084868     4.96   0.000     .2544891       .5873\n",
      "      nearc4 |   .3272826   .0824239     3.97   0.000     .1656695    .4888957\n",
      "       _cons |    16.8307   .1307475   128.73   0.000     16.57433    17.08706\n",
      "------------------------------------------------------------------------------\n",
      "\n",
      "\n",
      "Instrumental variables (2SLS) regression          Number of obs   =      3,003\n",
      "                                                  Wald chi2(6)    =     840.98\n",
      "                                                  Prob > chi2     =     0.0000\n",
      "                                                  R-squared       =     0.2513\n",
      "                                                  Root MSE        =     .38384\n",
      "\n",
      "------------------------------------------------------------------------------\n",
      "       lwage |      Coef.   Std. Err.      z    P>|z|     [95% Conf. Interval]\n",
      "-------------+----------------------------------------------------------------\n",
      "        educ |   .1241642   .0498975     2.49   0.013     .0263668    .2219616\n",
      "       exper |   .0555882   .0202624     2.74   0.006     .0158746    .0953019\n",
      "       black |  -.1156855   .0506823    -2.28   0.022    -.2150211     -.01635\n",
      "       south |  -.1131647   .0232168    -4.87   0.000    -.1586687   -.0676607\n",
      "     married |  -.0319754    .005081    -6.29   0.000    -.0419339   -.0220169\n",
      "        smsa |   .1477065   .0308591     4.79   0.000     .0872237    .2081893\n",
      "       _cons |   4.162476   .8485997     4.91   0.000     2.499251    5.825701\n",
      "------------------------------------------------------------------------------\n",
      "Instrumented:  educ\n",
      "Instruments:   exper black south married smsa nearc4\n"
     ]
    }
   ],
   "source": [
    "ivregress 2sls lwage (educ=nearc4) exper black south married smsa, first"
   ]
  },
  {
   "cell_type": "code",
   "execution_count": 12,
   "metadata": {},
   "outputs": [],
   "source": [
    "* another example \n",
    "use http://fmwww.bc.edu/ec-p/data/wooldridge/mroz, clear"
   ]
  },
  {
   "cell_type": "code",
   "execution_count": 14,
   "metadata": {},
   "outputs": [
    {
     "name": "stdout",
     "output_type": "stream",
     "text": [
      "\n",
      "      Source |       SS           df       MS      Number of obs   =       428\n",
      "-------------+----------------------------------   F(1, 426)       =     56.93\n",
      "       Model |  26.3264237         1  26.3264237   Prob > F        =    0.0000\n",
      "    Residual |  197.001028       426  .462443727   R-squared       =    0.1179\n",
      "-------------+----------------------------------   Adj R-squared   =    0.1158\n",
      "       Total |  223.327451       427  .523015108   Root MSE        =    .68003\n",
      "\n",
      "------------------------------------------------------------------------------\n",
      "       lwage |      Coef.   Std. Err.      t    P>|t|     [95% Conf. Interval]\n",
      "-------------+----------------------------------------------------------------\n",
      "        educ |   .1086487   .0143998     7.55   0.000     .0803451    .1369523\n",
      "       _cons |  -.1851969   .1852259    -1.00   0.318    -.5492674    .1788735\n",
      "------------------------------------------------------------------------------\n"
     ]
    }
   ],
   "source": [
    "reg lwage educ "
   ]
  },
  {
   "cell_type": "code",
   "execution_count": 15,
   "metadata": {},
   "outputs": [
    {
     "name": "stdout",
     "output_type": "stream",
     "text": [
      "\n",
      "      Source |       SS           df       MS      Number of obs   =       428\n",
      "-------------+----------------------------------   F(2, 425)       =     37.02\n",
      "       Model |   33.132464         2   16.566232   Prob > F        =    0.0000\n",
      "    Residual |  190.194987       425  .447517617   R-squared       =    0.1484\n",
      "-------------+----------------------------------   Adj R-squared   =    0.1444\n",
      "       Total |  223.327451       427  .523015108   Root MSE        =    .66897\n",
      "\n",
      "------------------------------------------------------------------------------\n",
      "       lwage |      Coef.   Std. Err.      t    P>|t|     [95% Conf. Interval]\n",
      "-------------+----------------------------------------------------------------\n",
      "        educ |   .1094888   .0141672     7.73   0.000     .0816423    .1373353\n",
      "       exper |   .0156736   .0040191     3.90   0.000     .0077738    .0235733\n",
      "       _cons |  -.4001745   .1903682    -2.10   0.036     -.774355    -.025994\n",
      "------------------------------------------------------------------------------\n"
     ]
    }
   ],
   "source": [
    "reg lwage educ exper "
   ]
  },
  {
   "cell_type": "code",
   "execution_count": 16,
   "metadata": {},
   "outputs": [
    {
     "name": "stdout",
     "output_type": "stream",
     "text": [
      "\n",
      "      Source |       SS           df       MS      Number of obs   =       428\n",
      "-------------+----------------------------------   F(3, 424)       =     26.29\n",
      "       Model |  35.0223023         3  11.6741008   Prob > F        =    0.0000\n",
      "    Residual |  188.305149       424  .444115917   R-squared       =    0.1568\n",
      "-------------+----------------------------------   Adj R-squared   =    0.1509\n",
      "       Total |  223.327451       427  .523015108   Root MSE        =    .66642\n",
      "\n",
      "------------------------------------------------------------------------------\n",
      "       lwage |      Coef.   Std. Err.      t    P>|t|     [95% Conf. Interval]\n",
      "-------------+----------------------------------------------------------------\n",
      "        educ |   .1074896   .0141465     7.60   0.000     .0796837    .1352956\n",
      "       exper |   .0415665   .0131752     3.15   0.002     .0156697    .0674633\n",
      "     expersq |  -.0008112   .0003932    -2.06   0.040    -.0015841   -.0000382\n",
      "       _cons |  -.5220407   .1986321    -2.63   0.009    -.9124668   -.1316145\n",
      "------------------------------------------------------------------------------\n"
     ]
    }
   ],
   "source": [
    "reg lwage educ exper expersq "
   ]
  },
  {
   "cell_type": "code",
   "execution_count": 17,
   "metadata": {},
   "outputs": [
    {
     "name": "stdout",
     "output_type": "stream",
     "text": [
      "\n",
      "Instrumental variables (2SLS) regression\n",
      "\n",
      "      Source |       SS           df       MS      Number of obs   =       428\n",
      "-------------+----------------------------------   F(3, 424)       =      8.31\n",
      "       Model |  31.9407914         3  10.6469305   Prob > F        =    0.0000\n",
      "    Residual |   191.38666       424  .451383632   R-squared       =    0.1430\n",
      "-------------+----------------------------------   Adj R-squared   =    0.1370\n",
      "       Total |  223.327451       427  .523015108   Root MSE        =    .67185\n",
      "\n",
      "------------------------------------------------------------------------------\n",
      "       lwage |      Coef.   Std. Err.      t    P>|t|     [95% Conf. Interval]\n",
      "-------------+----------------------------------------------------------------\n",
      "        educ |   .0702263   .0344427     2.04   0.042     .0025266     .137926\n",
      "       exper |   .0436716   .0134001     3.26   0.001     .0173326    .0700105\n",
      "     expersq |  -.0008822   .0004009    -2.20   0.028    -.0016702   -.0000941\n",
      "       _cons |  -.0611169   .4364461    -0.14   0.889    -.9189844    .7967506\n",
      "------------------------------------------------------------------------------\n",
      "Instrumented:  educ\n",
      "Instruments:   exper expersq fatheduc\n",
      "------------------------------------------------------------------------------\n"
     ]
    }
   ],
   "source": [
    "// iv with father's education\n",
    "ivreg lwage (educ = fatheduc) exper expersq"
   ]
  },
  {
   "cell_type": "code",
   "execution_count": 18,
   "metadata": {},
   "outputs": [
    {
     "name": "stdout",
     "output_type": "stream",
     "text": [
      "\n",
      "      Source |       SS           df       MS      Number of obs   =       753\n",
      "-------------+----------------------------------   F(3, 749)       =     67.20\n",
      "       Model |  829.228297         3  276.409432   Prob > F        =    0.0000\n",
      "    Residual |  3080.81154       749  4.11323304   R-squared       =    0.2121\n",
      "-------------+----------------------------------   Adj R-squared   =    0.2089\n",
      "       Total |  3910.03984       752  5.19952106   Root MSE        =    2.0281\n",
      "\n",
      "------------------------------------------------------------------------------\n",
      "        educ |      Coef.   Std. Err.      t    P>|t|     [95% Conf. Interval]\n",
      "-------------+----------------------------------------------------------------\n",
      "    fatheduc |   .2840103   .0208203    13.64   0.000     .2431373    .3248833\n",
      "       exper |   .0879065   .0263852     3.33   0.001     .0361087    .1397043\n",
      "     expersq |  -.0020435   .0008544    -2.39   0.017    -.0037208   -.0003662\n",
      "       _cons |   9.214374   .2467006    37.35   0.000     8.730067    9.698681\n",
      "------------------------------------------------------------------------------\n"
     ]
    }
   ],
   "source": [
    "// first stage F test\n",
    "reg educ fatheduc exper expersq "
   ]
  },
  {
   "cell_type": "code",
   "execution_count": 19,
   "metadata": {},
   "outputs": [
    {
     "name": "stdout",
     "output_type": "stream",
     "text": [
      "\n",
      " ( 1)  fatheduc = 0\n",
      "\n",
      "       F(  1,   749) =  186.08\n",
      "            Prob > F =    0.0000\n"
     ]
    }
   ],
   "source": [
    "test fatheduc"
   ]
  },
  {
   "cell_type": "markdown",
   "metadata": {},
   "source": [
    "Now, we try to replicate _Estimating the Electoral Effects of Voter Turnout_\n",
    "with  the following model:\n",
    "\n",
    "$$\n",
    "DemoShare = \\beta_0 + \\beta_1 Turnout + \\u \n",
    "$$\n",
    "\n",
    "- "
   ]
  },
  {
   "cell_type": "code",
   "execution_count": 24,
   "metadata": {},
   "outputs": [],
   "source": [
    "use \"./data/HansfordGomez_Data.dta\", clear"
   ]
  },
  {
   "cell_type": "code",
   "execution_count": 31,
   "metadata": {},
   "outputs": [
    {
     "name": "stdout",
     "output_type": "stream",
     "text": [
      "\n",
      "      Source |       SS           df       MS      Number of obs   =    27,401\n",
      "-------------+----------------------------------   F(14, 27386)    =    763.15\n",
      "       Model |  1185257.54        14  84661.2526   Prob > F        =    0.0000\n",
      "    Residual |  3038098.02    27,386  110.936172   R-squared       =    0.2806\n",
      "-------------+----------------------------------   Adj R-squared   =    0.2803\n",
      "       Total |  4223355.55    27,400  154.137064   Root MSE        =    10.533\n",
      "\n",
      "------------------------------------------------------------------------------\n",
      "demvotesha~2 |      Coef.   Std. Err.      t    P>|t|     [95% Conf. Interval]\n",
      "-------------+----------------------------------------------------------------\n",
      "     turnout |  -.1571625   .0068735   -22.87   0.000    -.1706349   -.1436901\n",
      "        yr52 |  -10.21493    .344541   -29.65   0.000    -10.89025   -9.539616\n",
      "        yr56 |  -8.756203   .3426223   -25.56   0.000     -9.42776   -8.084646\n",
      "        yr60 |  -3.861622   .3497573   -11.04   0.000    -4.547164    -3.17608\n",
      "        yr64 |   10.85098   .3406059    31.86   0.000     10.18337    11.51858\n",
      "        yr68 |  -6.477136   .3375699   -19.19   0.000     -7.13879   -5.815482\n",
      "        yr72 |  -13.74897   .3383715   -40.63   0.000    -14.41219   -13.08574\n",
      "        yr76 |   -.367143   .3372836    -1.09   0.276    -1.028236    .2939499\n",
      "        yr80 |  -10.34621   .3369246   -30.71   0.000     -11.0066   -9.685825\n",
      "        yr84 |  -13.13418   .3364041   -39.04   0.000    -13.79355   -12.47481\n",
      "        yr88 |  -5.712123   .3365167   -16.97   0.000    -6.371713   -5.052534\n",
      "        yr92 |  -.3273792   .3365296    -0.97   0.331    -.9869942    .3322358\n",
      "        yr96 |  -1.193379   .3373643    -3.54   0.000     -1.85463   -.5321283\n",
      "      yr2000 |  -9.012521   .3380922   -26.66   0.000    -9.675199   -8.349843\n",
      "       _cons |   59.08547    .487111   121.30   0.000      58.1307    60.04023\n",
      "------------------------------------------------------------------------------\n"
     ]
    }
   ],
   "source": [
    "reg demvoteshare2 turnout yr52 yr56 yr60 yr64 yr68 yr72 yr76 yr80 yr84 yr88 yr92 yr96 yr2000"
   ]
  },
  {
   "cell_type": "code",
   "execution_count": 34,
   "metadata": {},
   "outputs": [
    {
     "name": "stdout",
     "output_type": "stream",
     "text": [
      "\n",
      "Instrumental variables (2SLS) regression\n",
      "\n",
      "      Source |       SS           df       MS      Number of obs   =    27,401\n",
      "-------------+----------------------------------   F(14, 27386)    =    600.55\n",
      "       Model |  549701.891        14  39264.4208   Prob > F        =    0.0000\n",
      "    Residual |  3673653.66    27,386  134.143492   R-squared       =    0.1302\n",
      "-------------+----------------------------------   Adj R-squared   =    0.1297\n",
      "       Total |  4223355.55    27,400  154.137064   Root MSE        =    11.582\n",
      "\n",
      "------------------------------------------------------------------------------\n",
      "demvotesha~2 |      Coef.   Std. Err.      t    P>|t|     [95% Conf. Interval]\n",
      "-------------+----------------------------------------------------------------\n",
      "     turnout |   .3630942   .1752713     2.07   0.038     .0195536    .7066348\n",
      "        yr52 |   -15.8325   1.928347    -8.21   0.000    -19.61216   -12.05284\n",
      "        yr56 |  -13.65554   1.691514    -8.07   0.000    -16.97099   -10.34009\n",
      "        yr60 |   -11.0939    2.46444    -4.50   0.000    -15.92433   -6.263474\n",
      "        yr64 |   6.837128   1.401941     4.88   0.000     4.089252    9.585004\n",
      "        yr68 |  -8.514213    .779676   -10.92   0.000    -10.04242   -6.986009\n",
      "        yr72 |  -16.47281   .9894219   -16.65   0.000    -18.41213   -14.53349\n",
      "        yr76 |  -2.111497   .6944515    -3.04   0.002    -3.472657   -.7503368\n",
      "        yr80 |   -11.6959   .5862036   -19.95   0.000    -12.84489   -10.54691\n",
      "        yr84 |  -13.51471   .3914663   -34.52   0.000      -14.282   -12.74741\n",
      "        yr88 |   -4.95142   .4499876   -11.00   0.000    -5.833419   -4.069422\n",
      "        yr92 |  -1.007908   .4352116    -2.32   0.021    -1.860945   -.1548716\n",
      "        yr96 |   .8106647   .7698079     1.05   0.292    -.6981977    2.319527\n",
      "      yr2000 |  -8.130214   .4758239   -17.09   0.000    -9.062853   -7.197575\n",
      "       _cons |   26.90988   10.84291     2.48   0.013     5.657227    48.16254\n",
      "------------------------------------------------------------------------------\n",
      "Instrumented:  turnout\n",
      "Instruments:   yr52 yr56 yr60 yr64 yr68 yr72 yr76 yr80 yr84 yr88 yr92 yr96\n",
      "               yr2000 dnormprcp_krig\n",
      "------------------------------------------------------------------------------\n"
     ]
    }
   ],
   "source": [
    "ivreg demvoteshare2 (turnout=dnormprcp_krig) yr52 yr56 yr60 yr64 yr68 yr72 yr76 yr80 yr84 yr88 yr92 yr96 yr2000"
   ]
  },
  {
   "cell_type": "code",
   "execution_count": null,
   "metadata": {},
   "outputs": [],
   "source": []
  }
 ],
 "metadata": {
  "kernelspec": {
   "display_name": "Stata",
   "language": "stata",
   "name": "stata"
  },
  "language_info": {
   "codemirror_mode": "stata",
   "file_extension": ".do",
   "mimetype": "text/x-stata",
   "name": "stata",
   "version": "15.1"
  },
  "orig_nbformat": 4
 },
 "nbformat": 4,
 "nbformat_minor": 2
}
